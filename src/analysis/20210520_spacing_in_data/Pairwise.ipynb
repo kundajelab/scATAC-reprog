{
 "cells": [
  {
   "cell_type": "markdown",
   "metadata": {},
   "source": [
    "# Pairwise\n",
    "\n",
    "For motif calls for 2 motifs and insertion bigwigs, compute accessibility as a function of distance between instances of the two motifs.\n",
    "\n",
    "Summary: Don't seem to recap trends seen from in-silico mariginalization."
   ]
  },
  {
   "cell_type": "code",
   "execution_count": 1,
   "metadata": {},
   "outputs": [],
   "source": [
    "import numpy as np \n",
    "import pandas as pd\n",
    "import intervaltree\n",
    "import pyBigWig\n",
    "\n",
    "from random import sample\n",
    "from matplotlib import pyplot as plt\n",
    "import seaborn as sns\n",
    "from collections import defaultdict, Counter"
   ]
  },
  {
   "cell_type": "code",
   "execution_count": 4,
   "metadata": {},
   "outputs": [
    {
     "data": {
      "text/html": [
       "<div>\n",
       "<style scoped>\n",
       "    .dataframe tbody tr th:only-of-type {\n",
       "        vertical-align: middle;\n",
       "    }\n",
       "\n",
       "    .dataframe tbody tr th {\n",
       "        vertical-align: top;\n",
       "    }\n",
       "\n",
       "    .dataframe thead th {\n",
       "        text-align: right;\n",
       "    }\n",
       "</style>\n",
       "<table border=\"1\" class=\"dataframe\">\n",
       "  <thead>\n",
       "    <tr style=\"text-align: right;\">\n",
       "      <th></th>\n",
       "      <th>chr</th>\n",
       "      <th>start</th>\n",
       "      <th>end</th>\n",
       "      <th>strand</th>\n",
       "      <th>score</th>\n",
       "      <th>seq</th>\n",
       "    </tr>\n",
       "  </thead>\n",
       "  <tbody>\n",
       "    <tr>\n",
       "      <th>0</th>\n",
       "      <td>chr1</td>\n",
       "      <td>840140</td>\n",
       "      <td>840154</td>\n",
       "      <td>-</td>\n",
       "      <td>7.240431</td>\n",
       "      <td>ATATACTTGACAATA</td>\n",
       "    </tr>\n",
       "    <tr>\n",
       "      <th>1</th>\n",
       "      <td>chr1</td>\n",
       "      <td>1191779</td>\n",
       "      <td>1191793</td>\n",
       "      <td>+</td>\n",
       "      <td>6.785524</td>\n",
       "      <td>TATAGATATTCAGTT</td>\n",
       "    </tr>\n",
       "    <tr>\n",
       "      <th>2</th>\n",
       "      <td>chr1</td>\n",
       "      <td>1638777</td>\n",
       "      <td>1638791</td>\n",
       "      <td>+</td>\n",
       "      <td>6.882483</td>\n",
       "      <td>CTTTATTATGAAACA</td>\n",
       "    </tr>\n",
       "    <tr>\n",
       "      <th>3</th>\n",
       "      <td>chr1</td>\n",
       "      <td>1801922</td>\n",
       "      <td>1801936</td>\n",
       "      <td>-</td>\n",
       "      <td>7.472690</td>\n",
       "      <td>ATTAGTATCAGAAAA</td>\n",
       "    </tr>\n",
       "    <tr>\n",
       "      <th>4</th>\n",
       "      <td>chr1</td>\n",
       "      <td>1828464</td>\n",
       "      <td>1828478</td>\n",
       "      <td>-</td>\n",
       "      <td>6.104234</td>\n",
       "      <td>ATGTACACAACAATC</td>\n",
       "    </tr>\n",
       "  </tbody>\n",
       "</table>\n",
       "</div>"
      ],
      "text/plain": [
       "    chr    start      end strand     score              seq\n",
       "0  chr1   840140   840154      -  7.240431  ATATACTTGACAATA\n",
       "1  chr1  1191779  1191793      +  6.785524  TATAGATATTCAGTT\n",
       "2  chr1  1638777  1638791      +  6.882483  CTTTATTATGAAACA\n",
       "3  chr1  1801922  1801936      -  7.472690  ATTAGTATCAGAAAA\n",
       "4  chr1  1828464  1828478      -  6.104234  ATGTACACAACAATC"
      ]
     },
     "execution_count": 4,
     "metadata": {},
     "output_type": "execute_result"
    }
   ],
   "source": [
    "motif1 = pd.read_csv(\"./scanning/tfmodisco_cluster_idx4_gc_neg_peak_set_8_10_11_13/high_OSK.not.fibr.1000.OCTSOX.top_oneperc_imp.bed\", \n",
    "                     names=[\"chr\", \"start\", \"end\", \"strand\", \"score\", \"seq\"],\n",
    "                     sep='\\t') \n",
    "\n",
    "motif2 = pd.read_csv(\"./scanning/tfmodisco_cluster_idx4_gc_neg_peak_set_8_10_11_13/high_OSK.not.fibr.1000.KLF.top_oneperc_imp.bed\", \n",
    "                     names=[\"chr\", \"start\", \"end\", \"strand\", \"score\", \"seq\"],\n",
    "                     sep='\\t')\n",
    "\n",
    "motif1.head()"
   ]
  },
  {
   "cell_type": "code",
   "execution_count": 5,
   "metadata": {},
   "outputs": [
    {
     "name": "stdout",
     "output_type": "stream",
     "text": [
      "(145616, 6)\n",
      "(169852, 6)\n"
     ]
    }
   ],
   "source": [
    "print(motif1.shape)\n",
    "print(motif2.shape)"
   ]
  },
  {
   "cell_type": "code",
   "execution_count": 6,
   "metadata": {},
   "outputs": [],
   "source": [
    "# assign peak set idx to motifs\n",
    "PEAK_SET_BASE = \"../20200307_fine_clustering/beds/20201211_gridmap_peakwidthnorm_logplusznorm_4way_ordered_n20/idx{}.bed\"\n",
    "peak_set_intervals = defaultdict(intervaltree.IntervalTree)\n",
    "\n",
    "PEAK_SET_SELECT = [8,10,11,13]\n",
    "for peak_set_idx in PEAK_SET_SELECT:\n",
    "    with open(PEAK_SET_BASE.format(peak_set_idx)) as f:\n",
    "        for i,x in enumerate(f):\n",
    "            x = x.strip().split('\\t')\n",
    "            peak_set_intervals[x[0]][int(x[1]):int(x[2])] = peak_set_idx"
   ]
  },
  {
   "cell_type": "code",
   "execution_count": null,
   "metadata": {},
   "outputs": [],
   "source": []
  },
  {
   "cell_type": "code",
   "execution_count": null,
   "metadata": {},
   "outputs": [],
   "source": []
  },
  {
   "cell_type": "code",
   "execution_count": 8,
   "metadata": {},
   "outputs": [],
   "source": [
    "CIDS = [4,2,1]\n",
    "read_bws = [pyBigWig.open(\"/users/surag/oak/projects/scATAC-reprog/clusters/20201020_n62402/bigwigs/cluster_idx{:d}.bw\".format(x)) \\\n",
    "                         for x in CIDS]"
   ]
  },
  {
   "cell_type": "code",
   "execution_count": 9,
   "metadata": {},
   "outputs": [],
   "source": [
    "# [x.close() for x in read_bws]"
   ]
  },
  {
   "cell_type": "code",
   "execution_count": 10,
   "metadata": {},
   "outputs": [],
   "source": [
    "all_chrs = set(motif1[\"chr\"]).union(set(motif2[\"chr\"]))"
   ]
  },
  {
   "cell_type": "code",
   "execution_count": 11,
   "metadata": {},
   "outputs": [],
   "source": [
    "def populate_intervals(motif_df, chrs):\n",
    "    its = {x:intervaltree.IntervalTree() for x in all_chrs}\n",
    "    for i,x in motif_df.iterrows():\n",
    "        its[x[\"chr\"]][x[\"start\"]:x[\"end\"]] = x[\"strand\"]\n",
    "    \n",
    "    return its"
   ]
  },
  {
   "cell_type": "code",
   "execution_count": 12,
   "metadata": {},
   "outputs": [],
   "source": [
    "motif1_its = populate_intervals(motif1, all_chrs)\n",
    "motif2_its = populate_intervals(motif2, all_chrs)"
   ]
  },
  {
   "cell_type": "code",
   "execution_count": null,
   "metadata": {},
   "outputs": [],
   "source": []
  },
  {
   "cell_type": "code",
   "execution_count": null,
   "metadata": {},
   "outputs": [],
   "source": []
  },
  {
   "cell_type": "code",
   "execution_count": 13,
   "metadata": {},
   "outputs": [],
   "source": [
    "def switch_strand(x):\n",
    "    return '+' if x==\"-\" else \"-\""
   ]
  },
  {
   "cell_type": "code",
   "execution_count": 14,
   "metadata": {
    "scrolled": true
   },
   "outputs": [],
   "source": [
    "spacing_x_counts = [[] for _ in read_bws]\n",
    "MAX_SPACING = 100 # looking this value from either side for motif2\n",
    "READ_HALF_REGION = 500 # count reads from 2x this value\n",
    "\n",
    "for chrm in motif1_its:\n",
    "    for m1_it in motif1_its[chrm]:\n",
    "#         if len(motif1_its[chrm][m1_it.begin-MAX_SPACING:m1_it.begin+MAX_SPACING])!=1:\n",
    "#             continue\n",
    "\n",
    "        m2_ngbs =  motif2_its[chrm][m1_it.begin-MAX_SPACING:m1_it.begin+MAX_SPACING]\n",
    "\n",
    "        if m2_ngbs and len(m2_ngbs)==1:\n",
    "            read_ct = [f.values(chrm, \n",
    "                                m1_it.begin-READ_HALF_REGION,\n",
    "                                m1_it.begin+READ_HALF_REGION) \\\n",
    "                       for f in read_bws]\n",
    "            read_ct = [np.log(1+np.sum(np.nan_to_num(x))) for x in read_ct]\n",
    "\n",
    "            for m2_it in m2_ngbs:\n",
    "                # trying to make it identical to in-silico expt\n",
    "                # where m1 is always at the center \n",
    "                # and m2 moves to the right of it\n",
    "                if m2_it.begin >= m1_it.begin:\n",
    "                    strands = (m1_it.data, m2_it.data)\n",
    "                    dist = m2_it.begin - m1_it.end\n",
    "                else:\n",
    "                    strands = (switch_strand(m1_it.data), switch_strand(m2_it.data))\n",
    "                    dist = m1_it.begin - m2_it.end\n",
    "                \n",
    "                for i in range(len(read_bws)):\n",
    "                    spacing_x_counts[i].append((dist,strands,read_ct[i],chrm, m1_it, m2_it))"
   ]
  },
  {
   "cell_type": "code",
   "execution_count": 15,
   "metadata": {},
   "outputs": [
    {
     "data": {
      "text/plain": [
       "51739"
      ]
     },
     "execution_count": 15,
     "metadata": {},
     "output_type": "execute_result"
    }
   ],
   "source": [
    "len(spacing_x_counts[0])"
   ]
  },
  {
   "cell_type": "code",
   "execution_count": 16,
   "metadata": {},
   "outputs": [
    {
     "data": {
      "text/plain": [
       "[(83,\n",
       "  ('-', '-'),\n",
       "  3.828641396489095,\n",
       "  'chr4',\n",
       "  Interval(98580739, 98580753, '+'),\n",
       "  Interval(98580642, 98580656, '+')),\n",
       " (94,\n",
       "  ('+', '+'),\n",
       "  3.6635616461296463,\n",
       "  'chr18',\n",
       "  Interval(40094266, 40094280, '-'),\n",
       "  Interval(40094158, 40094172, '-')),\n",
       " (82,\n",
       "  ('-', '+'),\n",
       "  3.4011973816621555,\n",
       "  'chr12',\n",
       "  Interval(76429584, 76429598, '-'),\n",
       "  Interval(76429680, 76429694, '+')),\n",
       " (26,\n",
       "  ('-', '+'),\n",
       "  3.6375861597263857,\n",
       "  'chr14',\n",
       "  Interval(48261609, 48261623, '-'),\n",
       "  Interval(48261649, 48261663, '+')),\n",
       " (46,\n",
       "  ('+', '-'),\n",
       "  4.553876891600541,\n",
       "  'chr6',\n",
       "  Interval(53195731, 53195745, '+'),\n",
       "  Interval(53195791, 53195805, '-'))]"
      ]
     },
     "execution_count": 16,
     "metadata": {},
     "output_type": "execute_result"
    }
   ],
   "source": [
    "sample(spacing_x_counts[0], 5)"
   ]
  },
  {
   "cell_type": "code",
   "execution_count": 17,
   "metadata": {},
   "outputs": [
    {
     "data": {
      "image/png": "[encoded data removed]",
      "text/plain": [
       "<Figure size 432x288 with 1 Axes>"
      ]
     },
     "metadata": {
      "needs_background": "light"
     },
     "output_type": "display_data"
    }
   ],
   "source": [
    "plt.hist([x[0] for x in spacing_x_counts[1] if x[1]==(\"+\",\"+\")], bins=111)\n",
    "plt.show()\n",
    "# plt.xlim(70,100)"
   ]
  },
  {
   "cell_type": "code",
   "execution_count": 18,
   "metadata": {},
   "outputs": [
    {
     "data": {
      "text/plain": [
       "<matplotlib.collections.PathCollection at 0x7fac58cee950>"
      ]
     },
     "execution_count": 18,
     "metadata": {},
     "output_type": "execute_result"
    },
    {
     "data": {
      "image/png": "[encoded data removed]",
      "text/plain": [
       "<Figure size 432x288 with 1 Axes>"
      ]
     },
     "metadata": {
      "needs_background": "light"
     },
     "output_type": "display_data"
    }
   ],
   "source": [
    "subset = [x for x in spacing_x_counts[0] if x[1]==(\"+\",\"+\")]\n",
    "plt.scatter([x[0] for x in subset], [x[2] for x in subset], s=1, alpha=0.1)"
   ]
  },
  {
   "cell_type": "code",
   "execution_count": 19,
   "metadata": {},
   "outputs": [
    {
     "data": {
      "text/plain": [
       "4.204692619390966"
      ]
     },
     "execution_count": 19,
     "metadata": {},
     "output_type": "execute_result"
    }
   ],
   "source": [
    "np.median([x[2] for x in subset])"
   ]
  },
  {
   "cell_type": "code",
   "execution_count": 20,
   "metadata": {},
   "outputs": [
    {
     "data": {
      "text/plain": [
       "4.276666119016055"
      ]
     },
     "execution_count": 20,
     "metadata": {},
     "output_type": "execute_result"
    }
   ],
   "source": [
    "np.median([x[2] for x in subset if  x[0]>80])"
   ]
  },
  {
   "cell_type": "code",
   "execution_count": 21,
   "metadata": {},
   "outputs": [
    {
     "data": {
      "text/plain": [
       "4.174387269895637"
      ]
     },
     "execution_count": 21,
     "metadata": {},
     "output_type": "execute_result"
    }
   ],
   "source": [
    "np.median([x[2] for x in subset if  x[0]<20])"
   ]
  },
  {
   "cell_type": "code",
   "execution_count": null,
   "metadata": {},
   "outputs": [],
   "source": []
  },
  {
   "cell_type": "code",
   "execution_count": null,
   "metadata": {},
   "outputs": [],
   "source": []
  },
  {
   "cell_type": "code",
   "execution_count": 38,
   "metadata": {},
   "outputs": [],
   "source": [
    "from scipy.stats import spearmanr, pearsonr"
   ]
  },
  {
   "cell_type": "code",
   "execution_count": 23,
   "metadata": {},
   "outputs": [
    {
     "data": {
      "text/plain": [
       "SpearmanrResult(correlation=0.025333485960636986, pvalue=0.004088390036442269)"
      ]
     },
     "execution_count": 23,
     "metadata": {},
     "output_type": "execute_result"
    }
   ],
   "source": [
    "spearmanr([x[0] for x in subset], [x[2] for x in subset])"
   ]
  },
  {
   "cell_type": "code",
   "execution_count": null,
   "metadata": {},
   "outputs": [],
   "source": []
  },
  {
   "cell_type": "code",
   "execution_count": 24,
   "metadata": {},
   "outputs": [
    {
     "data": {
      "text/plain": [
       "{Interval(48200, 48959, 10)}"
      ]
     },
     "execution_count": 24,
     "metadata": {},
     "output_type": "execute_result"
    }
   ],
   "source": [
    "peak_set_intervals['chr1'][48201]"
   ]
  },
  {
   "cell_type": "code",
   "execution_count": 25,
   "metadata": {},
   "outputs": [
    {
     "data": {
      "text/plain": [
       "Counter({('-', '+'): 3365,\n",
       "         ('+', '+'): 3105,\n",
       "         ('+', '-'): 2881,\n",
       "         ('-', '-'): 3041})"
      ]
     },
     "execution_count": 25,
     "metadata": {},
     "output_type": "execute_result"
    }
   ],
   "source": [
    "Counter([x[1] for x in spacing_x_counts[0] if peak_set_intervals[x[3]][x[4].begin] and list(peak_set_intervals[x[3]][x[4].begin])[0].data==8])"
   ]
  },
  {
   "cell_type": "code",
   "execution_count": 26,
   "metadata": {},
   "outputs": [
    {
     "data": {
      "text/plain": [
       "Counter({('+', '+'): 733, ('-', '+'): 738, ('+', '-'): 627, ('-', '-'): 700})"
      ]
     },
     "execution_count": 26,
     "metadata": {},
     "output_type": "execute_result"
    }
   ],
   "source": [
    "Counter([x[1] for x in spacing_x_counts[0] if peak_set_intervals[x[3]][x[4].begin] and list(peak_set_intervals[x[3]][x[4].begin])[0].data==13])"
   ]
  },
  {
   "cell_type": "code",
   "execution_count": 216,
   "metadata": {},
   "outputs": [],
   "source": [
    "subset_p8 = [x for x in spacing_x_counts[0] if x[1]==(\"+\",\"+\") and peak_set_intervals[x[3]][x[4].begin] and list(peak_set_intervals[x[3]][x[4].begin])[0].data==8]\n",
    "subset_p10 = [x for x in spacing_x_counts[0] if x[1]==(\"+\",\"+\") and peak_set_intervals[x[3]][x[4].begin] and list(peak_set_intervals[x[3]][x[4].begin])[0].data==10]\n",
    "subset_p11 = [x for x in spacing_x_counts[0] if x[1]==(\"+\",\"+\") and peak_set_intervals[x[3]][x[4].begin] and list(peak_set_intervals[x[3]][x[4].begin])[0].data==11]\n",
    "subset_p13 = [x for x in spacing_x_counts[0] if x[1]==(\"+\",\"+\") and peak_set_intervals[x[3]][x[4].begin] and list(peak_set_intervals[x[3]][x[4].begin])[0].data==13]"
   ]
  },
  {
   "cell_type": "code",
   "execution_count": 217,
   "metadata": {},
   "outputs": [
    {
     "data": {
      "image/png": "[encoded data removed]",
      "text/plain": [
       "<Figure size 720x288 with 1 Axes>"
      ]
     },
     "metadata": {},
     "output_type": "display_data"
    }
   ],
   "source": [
    "plt.hist(([x[0] for x in subset_p8]), bins=max(subset_p8)[0] - min(subset_p8)[0])\n",
    "plt.xlabel(\"Spacing\")\n",
    "plt.ylabel(\"Counts\")\n",
    "plt.show()"
   ]
  },
  {
   "cell_type": "code",
   "execution_count": 218,
   "metadata": {},
   "outputs": [
    {
     "data": {
      "text/plain": [
       "[(22,\n",
       "  ('+', '+'),\n",
       "  5.356586274672012,\n",
       "  'chr17',\n",
       "  Interval(39820417, 39820431, '+'),\n",
       "  Interval(39820453, 39820467, '+')),\n",
       " (22,\n",
       "  ('+', '+'),\n",
       "  3.6888794541139363,\n",
       "  'chr6',\n",
       "  Interval(69220436, 69220450, '-'),\n",
       "  Interval(69220400, 69220414, '-'))]"
      ]
     },
     "execution_count": 218,
     "metadata": {},
     "output_type": "execute_result"
    }
   ],
   "source": [
    "([x for x in subset_p13 if x[0] == 22])[:2]"
   ]
  },
  {
   "cell_type": "code",
   "execution_count": 220,
   "metadata": {},
   "outputs": [
    {
     "data": {
      "image/png": "[encoded data removed]",
      "text/plain": [
       "<Figure size 1440x216 with 1 Axes>"
      ]
     },
     "metadata": {},
     "output_type": "display_data"
    }
   ],
   "source": [
    "sns.set(rc={'figure.figsize':(20,3)})\n",
    "\n",
    "# plt.hist(([x[0] for x in subset_p10]), bins=max(subset_p10)[0] - min(subset_p10)[0], alpha=0.2, density=True)\n",
    "plt.hist(([x[0] for x in subset_p8]), bins=max(subset_p8)[0] - min(subset_p8)[0],alpha=0.2, density=True)\n",
    "plt.hist(([x[0] for x in subset_p13]), bins=max(subset_p13)[0] - min(subset_p13)[0], alpha=0.2, density=True)\n",
    "# plt.hist(([x[0] for x in subset_p11]), bins=max(subset_p11)[0] - min(subset_p11)[0], alpha=0.2, density=True)\n",
    "plt.xlim(-11,99)\n",
    "plt.xlabel(\"Spacing\")\n",
    "plt.show()"
   ]
  },
  {
   "cell_type": "code",
   "execution_count": 189,
   "metadata": {},
   "outputs": [
    {
     "data": {
      "text/plain": [
       "True"
      ]
     },
     "execution_count": 189,
     "metadata": {},
     "output_type": "execute_result"
    }
   ],
   "source": [
    "# make sure this holds true\n",
    "min([x[0] for x in subset_p8]) == min([x[0] for x in subset_p10])  == min([x[0] for x in subset_p11]) ==min([x[0] for x in subset_p13]) "
   ]
  },
  {
   "cell_type": "code",
   "execution_count": 224,
   "metadata": {},
   "outputs": [],
   "source": [
    "freqs = []\n",
    "\n",
    "for i,x in enumerate([subset_p8, subset_p10, subset_p11, subset_p13]):\n",
    "    vals = [y[0] for y in x]\n",
    "    cts = Counter(vals)\n",
    "    freqs.append([])\n",
    "    \n",
    "    for y in range(min(cts.keys()), max(cts.keys())):\n",
    "        freqs[-1].append(cts[y]/len(vals))"
   ]
  },
  {
   "cell_type": "code",
   "execution_count": 225,
   "metadata": {},
   "outputs": [
    {
     "data": {
      "text/plain": [
       "[110, 110, 110, 110]"
      ]
     },
     "execution_count": 225,
     "metadata": {},
     "output_type": "execute_result"
    }
   ],
   "source": [
    "[len(x) for x in freqs]"
   ]
  },
  {
   "cell_type": "code",
   "execution_count": 226,
   "metadata": {},
   "outputs": [
    {
     "data": {
      "text/plain": [
       "array([0, 0, 1, 1, 1, 1, 1, 1])"
      ]
     },
     "execution_count": 226,
     "metadata": {},
     "output_type": "execute_result"
    }
   ],
   "source": [
    "np.digitize([0,1,3,4,5,6,7,8], bins=[3])"
   ]
  },
  {
   "cell_type": "code",
   "execution_count": 227,
   "metadata": {},
   "outputs": [
    {
     "data": {
      "text/plain": [
       "<matplotlib.collections.PathCollection at 0x7fac48cf4a50>"
      ]
     },
     "execution_count": 227,
     "metadata": {},
     "output_type": "execute_result"
    },
    {
     "data": {
      "image/png": "[encoded data removed]",
      "text/plain": [
       "<Figure size 288x288 with 1 Axes>"
      ]
     },
     "metadata": {},
     "output_type": "display_data"
    }
   ],
   "source": [
    "sns.set(rc={'figure.figsize':(4,4)})\n",
    "plt.scatter(freqs[0][10:50], freqs[3][10:50])"
   ]
  },
  {
   "cell_type": "code",
   "execution_count": 228,
   "metadata": {},
   "outputs": [
    {
     "name": "stdout",
     "output_type": "stream",
     "text": [
      "(-0.26565335829955816, 0.09756349097322094)\n",
      "(-0.25481039998072413, 0.11256285357831632)\n"
     ]
    }
   ],
   "source": [
    "print(pearsonr(freqs[0][13:53], freqs[3][13:53]))\n",
    "print(spearmanr(freqs[0][13:53], freqs[3][13:53])[:])"
   ]
  },
  {
   "cell_type": "code",
   "execution_count": 229,
   "metadata": {},
   "outputs": [],
   "source": [
    "from random import shuffle\n",
    "from copy import deepcopy"
   ]
  },
  {
   "cell_type": "code",
   "execution_count": 230,
   "metadata": {},
   "outputs": [],
   "source": [
    "pearsons = []\n",
    "p8_cts = Counter([x[0] for x in subset_p8])\n",
    "p13_cts = Counter([x[0] for x in subset_p13])\n",
    "\n",
    "subset_cts_p8 = []\n",
    "subset_cts_p13 = []\n",
    "\n",
    "for i in range(2,42):\n",
    "    subset_cts_p8.append(p8_cts[i])\n",
    "    subset_cts_p13.append(p13_cts[i])\n",
    "\n",
    "cur_subset_cts_p13 = deepcopy(subset_cts_p13)\n",
    "# simulate null for pearson/spearman\n",
    "for _ in range(1000):\n",
    "    shuffle(cur_subset_cts_p13)\n",
    "        \n",
    "    pearsons.append([])\n",
    "    for i in range(10,42):\n",
    "        pearsons[-1].append(pearsonr(subset_cts_p8[:i], cur_subset_cts_p13[:i])[0])"
   ]
  },
  {
   "cell_type": "code",
   "execution_count": 231,
   "metadata": {},
   "outputs": [],
   "source": [
    "observed_pearsons = []\n",
    "for i in range(10,42):\n",
    "    observed_pearsons.append(pearsonr(freqs[0][13:13+i], freqs[3][13:13+i])[0])"
   ]
  },
  {
   "cell_type": "code",
   "execution_count": 232,
   "metadata": {},
   "outputs": [
    {
     "data": {
      "text/plain": [
       "Text(0, 0.5, 'Correlation')"
      ]
     },
     "execution_count": 232,
     "metadata": {},
     "output_type": "execute_result"
    },
    {
     "data": {
      "image/png": "[encoded data removed]",
      "text/plain": [
       "<Figure size 432x288 with 1 Axes>"
      ]
     },
     "metadata": {},
     "output_type": "display_data"
    }
   ],
   "source": [
    "sns.set(rc={'figure.figsize':(6,4)})\n",
    "\n",
    "plt.scatter(list(range(10,42))*1000, sum(pearsons, []), alpha=0.005, s=25)\n",
    "plt.plot(range(10,42), observed_pearsons)\n",
    "plt.xlabel(\"Spacing\")\n",
    "plt.ylabel(\"Correlation\")"
   ]
  },
  {
   "cell_type": "code",
   "execution_count": 233,
   "metadata": {},
   "outputs": [
    {
     "data": {
      "text/plain": [
       "[<matplotlib.lines.Line2D at 0x7fac48186450>]"
      ]
     },
     "execution_count": 233,
     "metadata": {},
     "output_type": "execute_result"
    },
    {
     "data": {
      "image/png": "[encoded data removed]",
      "text/plain": [
       "<Figure size 720x288 with 1 Axes>"
      ]
     },
     "metadata": {},
     "output_type": "display_data"
    }
   ],
   "source": [
    "sns.set(rc={'figure.figsize':(10,4)})\n",
    "\n",
    "plt.plot(range(2,42), [(p8_cts[i])/sum(p8_cts.values()) - (p13_cts[i])/sum(p13_cts.values()) for i in range(2,42)])"
   ]
  },
  {
   "cell_type": "code",
   "execution_count": 200,
   "metadata": {},
   "outputs": [
    {
     "data": {
      "text/plain": [
       "[-0.37147113995873704,\n",
       " -0.37103022824769905,\n",
       " -0.35414429035545364,\n",
       " -0.340477820825628,\n",
       " -0.3249872866418926,\n",
       " -0.3211127336499282,\n",
       " -0.31400082776073024,\n",
       " -0.3114687229623084,\n",
       " -0.3114060153205228,\n",
       " -0.3054556150700497]"
      ]
     },
     "execution_count": 200,
     "metadata": {},
     "output_type": "execute_result"
    }
   ],
   "source": [
    "sorted(pearsons[0])[:10]"
   ]
  },
  {
   "cell_type": "code",
   "execution_count": 201,
   "metadata": {},
   "outputs": [
    {
     "data": {
      "text/plain": [
       "[-0.007996674075233252,\n",
       " 0.042139474089893374,\n",
       " 0.035479932707937485,\n",
       " -0.03651741558714722,\n",
       " -0.24964887170174974,\n",
       " -0.2162208792873093,\n",
       " -0.1760739267296577,\n",
       " -0.1896418624977426,\n",
       " -0.14089841703100248,\n",
       " -0.13484364017778963,\n",
       " -0.2010724192387898,\n",
       " -0.1846337054580418,\n",
       " -0.19424719866228232,\n",
       " -0.13558253441913792,\n",
       " -0.12804591597764536,\n",
       " -0.127190075171435,\n",
       " -0.1300903117406352,\n",
       " -0.1348001989811154,\n",
       " -0.1285915709058142,\n",
       " -0.13578389702164567,\n",
       " -0.13270430499078578,\n",
       " -0.12842390626336636,\n",
       " -0.13112441053490376,\n",
       " -0.1249833843867957,\n",
       " -0.11420474212809836,\n",
       " -0.14351737693598127,\n",
       " -0.14144148931775322,\n",
       " -0.13822733725341782,\n",
       " -0.13856860159817028,\n",
       " -0.13650665660740188,\n",
       " -0.13705086287671506,\n",
       " -0.13705086287671506]"
      ]
     },
     "execution_count": 201,
     "metadata": {},
     "output_type": "execute_result"
    }
   ],
   "source": [
    "sorted(pearsons)[500]"
   ]
  },
  {
   "cell_type": "code",
   "execution_count": 202,
   "metadata": {},
   "outputs": [
    {
     "ename": "IndexError",
     "evalue": "list index out of range",
     "output_type": "error",
     "traceback": [
      "\u001b[0;31m---------------------------------------------------------------------------\u001b[0m",
      "\u001b[0;31mIndexError\u001b[0m                                Traceback (most recent call last)",
      "\u001b[0;32m<ipython-input-202-dd3530d7a2a0>\u001b[0m in \u001b[0;36m<module>\u001b[0;34m\u001b[0m\n\u001b[0;32m----> 1\u001b[0;31m \u001b[0msorted\u001b[0m\u001b[0;34m(\u001b[0m\u001b[0mpearsons\u001b[0m\u001b[0;34m)\u001b[0m\u001b[0;34m[\u001b[0m\u001b[0;36m3000\u001b[0m\u001b[0;34m]\u001b[0m\u001b[0;34m\u001b[0m\u001b[0;34m\u001b[0m\u001b[0m\n\u001b[0m",
      "\u001b[0;31mIndexError\u001b[0m: list index out of range"
     ]
    }
   ],
   "source": [
    "sorted(pearsons)[3000]"
   ]
  },
  {
   "cell_type": "code",
   "execution_count": 72,
   "metadata": {},
   "outputs": [
    {
     "data": {
      "image/png": "[encoded data removed]",
      "text/plain": [
       "<Figure size 288x288 with 1 Axes>"
      ]
     },
     "metadata": {},
     "output_type": "display_data"
    }
   ],
   "source": [
    "plt.hist(pearsons, bins=20)\n",
    "plt.show()"
   ]
  },
  {
   "cell_type": "code",
   "execution_count": 44,
   "metadata": {},
   "outputs": [
    {
     "data": {
      "text/plain": [
       "99"
      ]
     },
     "execution_count": 44,
     "metadata": {},
     "output_type": "execute_result"
    }
   ],
   "source": [
    "max([x[0] for x in subset_p13])"
   ]
  },
  {
   "cell_type": "code",
   "execution_count": null,
   "metadata": {},
   "outputs": [],
   "source": []
  },
  {
   "cell_type": "code",
   "execution_count": 61,
   "metadata": {},
   "outputs": [
    {
     "data": {
      "image/png": "[encoded data removed]",
      "text/plain": [
       "<Figure size 432x288 with 1 Axes>"
      ]
     },
     "metadata": {
      "needs_background": "light"
     },
     "output_type": "display_data"
    }
   ],
   "source": [
    "plt.hist(([x[0] for x in subset_p11 if x[1]==(\"+\",\"+\")]), bins=max(subset_p10)[0] - min(subset_p10)[0])\n",
    "plt.show()"
   ]
  },
  {
   "cell_type": "code",
   "execution_count": 329,
   "metadata": {},
   "outputs": [
    {
     "data": {
      "text/plain": [
       "(array([0.00635571, 0.01108709, 0.01113925, 0.01087101, 0.01009611,\n",
       "        0.0096416 , 0.01001415, 0.00874748, 0.00796512, 0.00417256]),\n",
       " array([-12. ,  -0.9,  10.2,  21.3,  32.4,  43.5,  54.6,  65.7,  76.8,\n",
       "         87.9,  99. ]),\n",
       " <BarContainer object of 10 artists>)"
      ]
     },
     "execution_count": 329,
     "metadata": {},
     "output_type": "execute_result"
    },
    {
     "data": {
      "image/png": "[encoded data removed]",
      "text/plain": [
       "<Figure size 432x288 with 1 Axes>"
      ]
     },
     "metadata": {
      "needs_background": "light"
     },
     "output_type": "display_data"
    }
   ],
   "source": [
    "plt.hist(([x[0] for x in subset_p13]), density=True, alpha=0.5)\n",
    "plt.hist(([x[0] for x in subset_p8]), density=True, alpha=0.5)"
   ]
  },
  {
   "cell_type": "code",
   "execution_count": 330,
   "metadata": {},
   "outputs": [
    {
     "data": {
      "text/plain": [
       "35.0"
      ]
     },
     "execution_count": 330,
     "metadata": {},
     "output_type": "execute_result"
    }
   ],
   "source": [
    "np.median([x[0] for x in subset_p13])"
   ]
  },
  {
   "cell_type": "code",
   "execution_count": 331,
   "metadata": {},
   "outputs": [
    {
     "data": {
      "text/plain": [
       "38.0"
      ]
     },
     "execution_count": 331,
     "metadata": {},
     "output_type": "execute_result"
    }
   ],
   "source": [
    "np.median([x[0] for x in subset_p11])"
   ]
  },
  {
   "cell_type": "code",
   "execution_count": 332,
   "metadata": {},
   "outputs": [
    {
     "data": {
      "text/plain": [
       "38.0"
      ]
     },
     "execution_count": 332,
     "metadata": {},
     "output_type": "execute_result"
    }
   ],
   "source": [
    "np.median([x[0] for x in subset_p10])"
   ]
  },
  {
   "cell_type": "code",
   "execution_count": 333,
   "metadata": {},
   "outputs": [
    {
     "data": {
      "text/plain": [
       "38.0"
      ]
     },
     "execution_count": 333,
     "metadata": {},
     "output_type": "execute_result"
    }
   ],
   "source": [
    "np.median([x[0] for x in subset_p8])"
   ]
  },
  {
   "cell_type": "code",
   "execution_count": 334,
   "metadata": {},
   "outputs": [],
   "source": [
    "import scipy"
   ]
  },
  {
   "cell_type": "code",
   "execution_count": 361,
   "metadata": {},
   "outputs": [
    {
     "name": "stdout",
     "output_type": "stream",
     "text": [
      "8.37716896726629e-05\n"
     ]
    }
   ],
   "source": [
    "print(scipy.stats.mannwhitneyu([x[0] for x in subset_p13], \n",
    "                               [x[0] for x in subset_p8])[1])"
   ]
  },
  {
   "cell_type": "code",
   "execution_count": 336,
   "metadata": {},
   "outputs": [
    {
     "data": {
      "text/plain": [
       "[(6,\n",
       "  ('+', '-'),\n",
       "  4.912654885736052,\n",
       "  'chr8',\n",
       "  Interval(115769769, 115769783, '-'),\n",
       "  Interval(115769749, 115769763, '+')),\n",
       " (24,\n",
       "  ('+', '+'),\n",
       "  3.6109179126442243,\n",
       "  'chr1',\n",
       "  Interval(42272025, 42272039, '+'),\n",
       "  Interval(42272063, 42272077, '+')),\n",
       " (86,\n",
       "  ('-', '+'),\n",
       "  4.442651256490317,\n",
       "  'chr14',\n",
       "  Interval(59176841, 59176855, '+'),\n",
       "  Interval(59176741, 59176755, '-')),\n",
       " (42,\n",
       "  ('-', '-'),\n",
       "  4.77912349311153,\n",
       "  'chr16',\n",
       "  Interval(83297270, 83297284, '+'),\n",
       "  Interval(83297214, 83297228, '+')),\n",
       " (1,\n",
       "  ('-', '+'),\n",
       "  4.477336814478207,\n",
       "  'chr1',\n",
       "  Interval(99841267, 99841281, '-'),\n",
       "  Interval(99841282, 99841296, '+'))]"
      ]
     },
     "execution_count": 336,
     "metadata": {},
     "output_type": "execute_result"
    }
   ],
   "source": [
    "sample(subset_p8, 5)"
   ]
  },
  {
   "cell_type": "code",
   "execution_count": null,
   "metadata": {},
   "outputs": [],
   "source": []
  }
 ],
 "metadata": {
  "kernelspec": {
   "display_name": "Python 3",
   "language": "python",
   "name": "python3"
  },
  "language_info": {
   "codemirror_mode": {
    "name": "ipython",
    "version": 3
   },
   "file_extension": ".py",
   "mimetype": "text/x-python",
   "name": "python",
   "nbconvert_exporter": "python",
   "pygments_lexer": "ipython3",
   "version": "3.7.6"
  }
 },
 "nbformat": 4,
 "nbformat_minor": 4
}
