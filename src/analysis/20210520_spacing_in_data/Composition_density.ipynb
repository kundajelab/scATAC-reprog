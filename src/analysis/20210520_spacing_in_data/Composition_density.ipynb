{
 "cells": [
  {
   "cell_type": "markdown",
   "metadata": {},
   "source": [
    "# Composition and Density\n",
    "\n",
    "Looking at motif composition, density and influence on reads etc."
   ]
  },
  {
   "cell_type": "code",
   "execution_count": 470,
   "metadata": {},
   "outputs": [],
   "source": [
    "import numpy as np \n",
    "import pandas as pd\n",
    "import intervaltree\n",
    "import pyfaidx\n",
    "import pyBigWig\n",
    "import scipy\n",
    "\n",
    "from random import sample, shuffle\n",
    "import seaborn as sns\n",
    "from matplotlib import pyplot as plt\n",
    "from collections import defaultdict, Counter\n",
    "from scipy.stats import pearsonr, spearmanr\n",
    "from copy import deepcopy"
   ]
  },
  {
   "cell_type": "code",
   "execution_count": 471,
   "metadata": {},
   "outputs": [
    {
     "data": {
      "text/html": [
       "<div>\n",
       "<style scoped>\n",
       "    .dataframe tbody tr th:only-of-type {\n",
       "        vertical-align: middle;\n",
       "    }\n",
       "\n",
       "    .dataframe tbody tr th {\n",
       "        vertical-align: top;\n",
       "    }\n",
       "\n",
       "    .dataframe thead th {\n",
       "        text-align: right;\n",
       "    }\n",
       "</style>\n",
       "<table border=\"1\" class=\"dataframe\">\n",
       "  <thead>\n",
       "    <tr style=\"text-align: right;\">\n",
       "      <th></th>\n",
       "      <th>chr</th>\n",
       "      <th>start</th>\n",
       "      <th>end</th>\n",
       "      <th>strand</th>\n",
       "      <th>score</th>\n",
       "      <th>seq</th>\n",
       "    </tr>\n",
       "  </thead>\n",
       "  <tbody>\n",
       "    <tr>\n",
       "      <th>0</th>\n",
       "      <td>chr1</td>\n",
       "      <td>950731</td>\n",
       "      <td>950745</td>\n",
       "      <td>-</td>\n",
       "      <td>7.157051</td>\n",
       "      <td>CACCCACCCAGATGT</td>\n",
       "    </tr>\n",
       "    <tr>\n",
       "      <th>1</th>\n",
       "      <td>chr1</td>\n",
       "      <td>950785</td>\n",
       "      <td>950799</td>\n",
       "      <td>+</td>\n",
       "      <td>4.757370</td>\n",
       "      <td>CTGTCAGGGCAGGGC</td>\n",
       "    </tr>\n",
       "    <tr>\n",
       "      <th>2</th>\n",
       "      <td>chr1</td>\n",
       "      <td>1026125</td>\n",
       "      <td>1026139</td>\n",
       "      <td>-</td>\n",
       "      <td>8.064028</td>\n",
       "      <td>ACCCCACCCCACTCC</td>\n",
       "    </tr>\n",
       "    <tr>\n",
       "      <th>3</th>\n",
       "      <td>chr1</td>\n",
       "      <td>1026145</td>\n",
       "      <td>1026159</td>\n",
       "      <td>-</td>\n",
       "      <td>7.406249</td>\n",
       "      <td>TCCCCACCCAGAGAA</td>\n",
       "    </tr>\n",
       "    <tr>\n",
       "      <th>4</th>\n",
       "      <td>chr1</td>\n",
       "      <td>1173796</td>\n",
       "      <td>1173810</td>\n",
       "      <td>-</td>\n",
       "      <td>8.386332</td>\n",
       "      <td>GCCCCTCCCCATCCT</td>\n",
       "    </tr>\n",
       "  </tbody>\n",
       "</table>\n",
       "</div>"
      ],
      "text/plain": [
       "    chr    start      end strand     score              seq\n",
       "0  chr1   950731   950745      -  7.157051  CACCCACCCAGATGT\n",
       "1  chr1   950785   950799      +  4.757370  CTGTCAGGGCAGGGC\n",
       "2  chr1  1026125  1026139      -  8.064028  ACCCCACCCCACTCC\n",
       "3  chr1  1026145  1026159      -  7.406249  TCCCCACCCAGAGAA\n",
       "4  chr1  1173796  1173810      -  8.386332  GCCCCTCCCCATCCT"
      ]
     },
     "execution_count": 471,
     "metadata": {},
     "output_type": "execute_result"
    }
   ],
   "source": [
    "MOT_BASE = \"./scanning/tfmodisco_cluster_idx4_gc_neg_peak_set_8_10_11_13/high_OSK.not.fibr.1000.{:s}.top_oneperc_imp.bed\"\n",
    "# MOT_BASE = \"./scanning/tfmodisco_cluster_idx4_gc_neg_peak_set_8_10_11_13/high_OSK.not.fibr.500.{:s}.top_oneperc_imp.bed\"\n",
    "# MOT_BASE = \"./scanning/tfmodisco_cluster_idx4_gc_neg_peak_set_8_10_11_13/high_OSK.not.fibr.500.{:s}.bed\"\n",
    "MOT_SET = [\"OCTSOX\", \"KLF\", \"AP1\", \"SOX.not.OCTSOX\"]\n",
    "\n",
    "motif_scans = {} \n",
    "\n",
    "for x in MOT_SET:\n",
    "    motif_scans[x] = pd.read_csv(MOT_BASE.format(x), \n",
    "                                 names=[\"chr\", \"start\", \"end\", \"strand\", \"score\", \"seq\"],\n",
    "                                 sep='\\t')\n",
    "\n",
    "motif_scans[\"KLF\"].head()"
   ]
  },
  {
   "cell_type": "code",
   "execution_count": 472,
   "metadata": {},
   "outputs": [
    {
     "data": {
      "text/plain": [
       "dict_keys(['OCTSOX', 'KLF', 'AP1', 'SOX.not.OCTSOX'])"
      ]
     },
     "execution_count": 472,
     "metadata": {},
     "output_type": "execute_result"
    }
   ],
   "source": [
    "motif_scans.keys()"
   ]
  },
  {
   "cell_type": "code",
   "execution_count": 339,
   "metadata": {},
   "outputs": [
    {
     "name": "stdout",
     "output_type": "stream",
     "text": [
      "[144664, 160686, 16991, 52301]\n"
     ]
    }
   ],
   "source": [
    "print([motif_scans[x].shape[0] for x in motif_scans])"
   ]
  },
  {
   "cell_type": "code",
   "execution_count": null,
   "metadata": {},
   "outputs": [],
   "source": []
  },
  {
   "cell_type": "code",
   "execution_count": 475,
   "metadata": {},
   "outputs": [],
   "source": [
    "# get peak -> set idx for all peaks. \n",
    "# Peaks scanned for motifs are a subset of all peaks\n",
    "PEAK_SET_BASE = \"../20200307_fine_clustering/beds/20201211_gridmap_peakwidthnorm_logplusznorm_4way_ordered_n20/idx{}.bed\"\n",
    "peak_set_intervals = defaultdict(intervaltree.IntervalTree)\n",
    "\n",
    "PEAK_SET_SELECT = range(1,21)\n",
    "for peak_set_idx in PEAK_SET_SELECT:\n",
    "    with open(PEAK_SET_BASE.format(peak_set_idx)) as f:\n",
    "        for i,x in enumerate(f):\n",
    "            x = x.strip().split('\\t')\n",
    "            peak_set_intervals[x[0]][int(x[1]):int(x[2])] = peak_set_idx"
   ]
  },
  {
   "cell_type": "code",
   "execution_count": null,
   "metadata": {},
   "outputs": [],
   "source": []
  },
  {
   "cell_type": "code",
   "execution_count": 476,
   "metadata": {},
   "outputs": [],
   "source": [
    "# peaks from early intermediate cluster that intersect with high OSK cluster\n",
    "LOW_OSK_OVERLAP = \"./beds/high_OSK.not.fibr.500.and.D2.low_OSK.bed\"\n",
    "\n",
    "low_osk_peak_intervals = defaultdict(intervaltree.IntervalTree)\n",
    "with open(LOW_OSK_OVERLAP) as f:\n",
    "    for i,x in enumerate(f):\n",
    "        x = x.strip().split('\\t')\n",
    "        low_osk_peak_intervals[x[0]][int(x[1]):int(x[2])] = 1"
   ]
  },
  {
   "cell_type": "code",
   "execution_count": null,
   "metadata": {},
   "outputs": [],
   "source": []
  },
  {
   "cell_type": "code",
   "execution_count": 478,
   "metadata": {
    "scrolled": true
   },
   "outputs": [],
   "source": [
    "scanned_peaks = \"./beds/high_OSK.not.fibr.1000.bed\"\n",
    "# scanned_peaks = \"./beds/high_OSK.not.fibr.500.bed\"\n",
    "scanned_peaks_intervals = defaultdict(intervaltree.IntervalTree)\n",
    "# assign peak set idx as well\n",
    "\n",
    "with open(scanned_peaks) as f:\n",
    "    for i, x in enumerate(f):\n",
    "        x = x.strip().split('\\t')\n",
    "#         print(i)\n",
    "        peak_set_overlap = [] \n",
    "        \n",
    "        LOOK_OUT = -100\n",
    "        while len(peak_set_overlap) == 0:\n",
    "            LOOK_OUT += 100\n",
    "            peak_set_overlap = peak_set_intervals[x[0]][int(x[1])-LOOK_OUT:int(x[2])+LOOK_OUT]\n",
    "        \n",
    "        overlap_sizes = [intervaltree.Interval(int(x[1])-LOOK_OUT, int(x[2])+LOOK_OUT).overlap_size(y) for y in peak_set_overlap]\n",
    "            \n",
    "        peak_idx = list(peak_set_overlap)[np.argmax(overlap_sizes)].data # pick one with most overlap\n",
    "        \n",
    "        low_osk_peak = len(low_osk_peak_intervals[x[0]][int(x[1]):int(x[2])])>0\n",
    "        \n",
    "        scanned_peaks_intervals[x[0]][int(x[1]):int(x[2])] = (peak_idx, low_osk_peak)"
   ]
  },
  {
   "cell_type": "code",
   "execution_count": 479,
   "metadata": {},
   "outputs": [
    {
     "data": {
      "text/plain": [
       "{1000}"
      ]
     },
     "execution_count": 479,
     "metadata": {},
     "output_type": "execute_result"
    }
   ],
   "source": [
    "# all have same width\n",
    "set([x.length() for x in list(scanned_peaks_intervals[\"chr1\"])])"
   ]
  },
  {
   "cell_type": "code",
   "execution_count": 480,
   "metadata": {},
   "outputs": [
    {
     "data": {
      "text/plain": [
       "[(8, 23264),\n",
       " (10, 18740),\n",
       " (11, 15225),\n",
       " (9, 6150),\n",
       " (13, 6038),\n",
       " (12, 5191),\n",
       " (7, 4141),\n",
       " (14, 3428),\n",
       " (16, 2030),\n",
       " (2, 1522),\n",
       " (17, 1397),\n",
       " (15, 1188),\n",
       " (18, 1059),\n",
       " (20, 946),\n",
       " (1, 921),\n",
       " (6, 828),\n",
       " (3, 733),\n",
       " (4, 474),\n",
       " (5, 282),\n",
       " (19, 217)]"
      ]
     },
     "execution_count": 480,
     "metadata": {},
     "output_type": "execute_result"
    }
   ],
   "source": [
    "Counter([x.data[0] for x in sum([list(scanned_peaks_intervals[x]) for x in scanned_peaks_intervals] , []) ]).most_common()"
   ]
  },
  {
   "cell_type": "code",
   "execution_count": 481,
   "metadata": {},
   "outputs": [
    {
     "data": {
      "text/plain": [
       "[(False, 75444), (True, 18330)]"
      ]
     },
     "execution_count": 481,
     "metadata": {},
     "output_type": "execute_result"
    }
   ],
   "source": [
    "Counter([x.data[1] for x in sum([list(scanned_peaks_intervals[x]) for x in scanned_peaks_intervals] , []) ]).most_common()"
   ]
  },
  {
   "cell_type": "code",
   "execution_count": null,
   "metadata": {},
   "outputs": [],
   "source": []
  },
  {
   "cell_type": "code",
   "execution_count": 30,
   "metadata": {},
   "outputs": [],
   "source": [
    "CIDS = [4,2,14]\n",
    "read_bws = [pyBigWig.open(\"/users/surag/oak/projects/scATAC-reprog/clusters/20201020_n62402/bigwigs/cluster_idx{:d}.bw\".format(x)) \\\n",
    "                         for x in CIDS]"
   ]
  },
  {
   "cell_type": "code",
   "execution_count": null,
   "metadata": {},
   "outputs": [],
   "source": []
  },
  {
   "cell_type": "code",
   "execution_count": 482,
   "metadata": {},
   "outputs": [],
   "source": [
    "all_chrs = set(sum([list(motif_scans[x][\"chr\"]) for x in motif_scans], []))"
   ]
  },
  {
   "cell_type": "code",
   "execution_count": 483,
   "metadata": {},
   "outputs": [],
   "source": [
    "def populate_intervals(motif_df, its, name, chrs):\n",
    "    for i,x in motif_df.iterrows():\n",
    "        its[x[\"chr\"]][x[\"start\"]:x[\"end\"]] = (name, x[\"score\"])\n",
    "    \n",
    "    return its"
   ]
  },
  {
   "cell_type": "code",
   "execution_count": 485,
   "metadata": {},
   "outputs": [],
   "source": [
    "motif_its = {x:intervaltree.IntervalTree() for x in all_chrs}\n",
    "\n",
    "for x in motif_scans:\n",
    "    motif_its = populate_intervals(motif_scans[x], motif_its, x, all_chrs)"
   ]
  },
  {
   "cell_type": "code",
   "execution_count": 1029,
   "metadata": {},
   "outputs": [
    {
     "data": {
      "text/plain": [
       "{Interval(44688701, 44688715, ('OCTSOX', 6.93951)),\n",
       " Interval(44688738, 44688752, ('KLF', 8.140311)),\n",
       " Interval(44688807, 44688821, ('OCTSOX', 9.635261)),\n",
       " Interval(44688876, 44688890, ('KLF', 5.48668)),\n",
       " Interval(44688903, 44688917, ('OCTSOX', 8.477021)),\n",
       " Interval(44688999, 44689013, ('OCTSOX', 6.524596))}"
      ]
     },
     "execution_count": 1029,
     "metadata": {},
     "output_type": "execute_result"
    }
   ],
   "source": [
    "motif_its[\"chr10\"][44688672:44689043]"
   ]
  },
  {
   "cell_type": "code",
   "execution_count": 35,
   "metadata": {},
   "outputs": [],
   "source": [
    "hg38 = pyfaidx.Fasta(\"/users/surag/genomes/hg38/GRCh38_no_alt_analysis_set_GCA_000001405.15.fasta\")"
   ]
  },
  {
   "cell_type": "code",
   "execution_count": 36,
   "metadata": {},
   "outputs": [],
   "source": [
    "def get_gc(seq):\n",
    "    return len([x for x in seq.upper() if x in [\"G\",\"C\"]])/len(seq)"
   ]
  },
  {
   "cell_type": "markdown",
   "metadata": {},
   "source": [
    "## Density"
   ]
  },
  {
   "cell_type": "code",
   "execution_count": 733,
   "metadata": {},
   "outputs": [],
   "source": [
    "density_x_counts = [[] for _ in read_bws] # actually many attributes not just density\n",
    "READ_HALF_REGION = 500 # 250 # count reads from 2x this value\n",
    "\n",
    "for chrm in scanned_peaks_intervals:\n",
    "    for peak in scanned_peaks_intervals[chrm]:\n",
    "\n",
    "        overlap_motifs = motif_its[chrm][peak.begin:peak.end]\n",
    "        num_motifs = len(overlap_motifs)\n",
    "        \n",
    "        # average distance between consecutive motifs\n",
    "        avg_consecutive_dist = peak.length()\n",
    "        # \"effective density\" num_motifs/(distance between left and rightmost motifs)\n",
    "        effective_density = num_motifs\n",
    "        \n",
    "        if num_motifs > 1:\n",
    "            motif_ends = sorted([x.end for x in overlap_motifs])\n",
    "            avg_consecutive_dist = np.mean(np.diff(motif_ends))\n",
    "            \n",
    "            effective_density = (peak.length()*num_motifs)/(max(10,motif_ends[-1]-motif_ends[0]))            \n",
    "                        \n",
    "        composition = Counter([x.data[0] for x in overlap_motifs])\n",
    "        instances = [x.data for x in overlap_motifs]\n",
    "        \n",
    "        peak_mid = (peak.begin+peak.end)//2\n",
    "        read_ct = [f.values(chrm, \n",
    "                            peak_mid-READ_HALF_REGION,\n",
    "                            peak_mid+READ_HALF_REGION) \\\n",
    "                    for f in read_bws]\n",
    "        read_ct = [np.log2(1+np.sum(np.nan_to_num(x))) for x in read_ct]\n",
    "        \n",
    "        gc = get_gc(str(hg38[chrm][peak.begin:peak.end]))\n",
    "        gc_200 = get_gc(str(hg38[chrm][peak_mid-100:peak_mid+100]))\n",
    "        gc_500 = get_gc(str(hg38[chrm][peak_mid-250:peak_mid+250]))\n",
    "        \n",
    "        for i in range(len(read_bws)):\n",
    "            density_x_counts[i].append((num_motifs,\n",
    "                                        read_ct[i], \n",
    "                                        avg_consecutive_dist,\n",
    "                                        effective_density,\n",
    "                                        composition,\n",
    "                                        instances,\n",
    "                                        (gc, gc_200, gc_500),\n",
    "                                        peak.data[0], \n",
    "                                        peak.data[1],\n",
    "                                        chrm, peak.begin, peak.end))"
   ]
  },
  {
   "cell_type": "code",
   "execution_count": null,
   "metadata": {},
   "outputs": [],
   "source": []
  },
  {
   "cell_type": "code",
   "execution_count": null,
   "metadata": {},
   "outputs": [],
   "source": []
  },
  {
   "cell_type": "code",
   "execution_count": null,
   "metadata": {},
   "outputs": [],
   "source": []
  },
  {
   "cell_type": "code",
   "execution_count": 1065,
   "metadata": {},
   "outputs": [
    {
     "data": {
      "text/plain": [
       "[('OCTSOX', 7.039507),\n",
       " ('KLF', 8.674516),\n",
       " ('KLF', 5.431391),\n",
       " ('KLF', 7.34508),\n",
       " ('KLF', 4.922894)]"
      ]
     },
     "execution_count": 1065,
     "metadata": {},
     "output_type": "execute_result"
    }
   ],
   "source": [
    "subset_motif_instances[0]"
   ]
  },
  {
   "cell_type": "code",
   "execution_count": 1139,
   "metadata": {},
   "outputs": [],
   "source": [
    "subset = [x for x in density_x_counts[0] if x[7] in [7,8,10,11,13]]#  and 10<x[0] and len(x[4])==4]\n",
    "subset_dens = [x[0] for x in subset]\n",
    "subset_cts = [x[1] for x in subset]\n",
    "subset_cons_dist = [x[2] for x in subset]\n",
    "subset_eff_dens = [x[3] for x in subset]\n",
    "subset_composition = [x[4] for x in subset]\n",
    "subset_motif_instances = [x[5] for x in subset]\n",
    "subset_gc = [x[6] for x in subset]\n",
    "subset_idx = [x[7] for x in subset]\n",
    "subset_also_low_osk = [x[8] for x in subset]"
   ]
  },
  {
   "cell_type": "code",
   "execution_count": 1140,
   "metadata": {},
   "outputs": [],
   "source": [
    "def filter_motif(x):\n",
    "    # high affinity motif counts\n",
    "    mots = []\n",
    "    for y in x:\n",
    "        if y[0]==\"OCTSOX\" and y[1] > 8:\n",
    "            mots.append(y)\n",
    "        elif y[0]==\"KLF\" and y[1]>6:\n",
    "            mots.append(y)\n",
    "        elif y[0]==\"SOX.not.OCTSOX\" and y[1]>8:\n",
    "            mots.append(y)\n",
    "        elif y[0]==\"AP1\" and y[1]>9:\n",
    "            mots.append(y)\n",
    "    return mots"
   ]
  },
  {
   "cell_type": "code",
   "execution_count": 1141,
   "metadata": {},
   "outputs": [],
   "source": [
    "subset_filter_motif_instances = [filter_motif(x) for x in subset_motif_instances]"
   ]
  },
  {
   "cell_type": "code",
   "execution_count": 1142,
   "metadata": {},
   "outputs": [
    {
     "data": {
      "text/plain": [
       "67408"
      ]
     },
     "execution_count": 1142,
     "metadata": {},
     "output_type": "execute_result"
    }
   ],
   "source": [
    "len(subset)"
   ]
  },
  {
   "cell_type": "code",
   "execution_count": 1143,
   "metadata": {},
   "outputs": [
    {
     "data": {
      "text/plain": [
       "[(4,\n",
       "  5.700439718141092,\n",
       "  33.666666666666664,\n",
       "  39.603960396039604,\n",
       "  Counter({'KLF': 1, 'OCTSOX': 3}),\n",
       "  [('KLF', 4.528805),\n",
       "   ('OCTSOX', 6.15229),\n",
       "   ('OCTSOX', 9.412028),\n",
       "   ('OCTSOX', 6.799896)],\n",
       "  (0.348, 0.335, 0.362),\n",
       "  11,\n",
       "  True,\n",
       "  'chr3',\n",
       "  172874719,\n",
       "  172875719),\n",
       " (2,\n",
       "  7.787902559391432,\n",
       "  114.0,\n",
       "  17.54385964912281,\n",
       "  Counter({'OCTSOX': 1, 'KLF': 1}),\n",
       "  [('OCTSOX', 6.978103), ('KLF', 6.514755)],\n",
       "  (0.368, 0.425, 0.414),\n",
       "  11,\n",
       "  False,\n",
       "  'chr17',\n",
       "  36576441,\n",
       "  36577441)]"
      ]
     },
     "execution_count": 1143,
     "metadata": {},
     "output_type": "execute_result"
    }
   ],
   "source": [
    "sample(subset, 2)"
   ]
  },
  {
   "cell_type": "code",
   "execution_count": 1144,
   "metadata": {},
   "outputs": [
    {
     "data": {
      "text/plain": [
       "<AxesSubplot:xlabel='Total motifs', ylabel='log2 counts'>"
      ]
     },
     "execution_count": 1144,
     "metadata": {},
     "output_type": "execute_result"
    },
    {
     "data": {
      "image/png": "[encoded data removed]",
      "text/plain": [
       "<Figure size 432x288 with 1 Axes>"
      ]
     },
     "metadata": {
      "needs_background": "light"
     },
     "output_type": "display_data"
    }
   ],
   "source": [
    "sns.boxplot(x=\"Total motifs\", \n",
    "            y=\"log2 counts\",\n",
    "                color=\"white\",\n",
    "            data=pd.DataFrame({\n",
    "                \"Total motifs\":[x if x<=9 else \">=10\" for x in subset_dens], \n",
    "                \"log2 counts\":subset_cts}\n",
    "            ),\n",
    "            order = list(range(10)) + [\">=10\"])"
   ]
  },
  {
   "cell_type": "code",
   "execution_count": 1145,
   "metadata": {},
   "outputs": [
    {
     "data": {
      "text/plain": [
       "(0.21496104897487006, 0.0)"
      ]
     },
     "execution_count": 1145,
     "metadata": {},
     "output_type": "execute_result"
    }
   ],
   "source": [
    "pearsonr(subset_dens,\n",
    "           subset_cts)"
   ]
  },
  {
   "cell_type": "code",
   "execution_count": 1146,
   "metadata": {},
   "outputs": [
    {
     "data": {
      "text/plain": [
       "(0.13833641479582548, 3.3355507520321504e-285)"
      ]
     },
     "execution_count": 1146,
     "metadata": {},
     "output_type": "execute_result"
    }
   ],
   "source": [
    "pearsonr([len(x) for x in subset_filter_motif_instances],\n",
    "           subset_cts)"
   ]
  },
  {
   "cell_type": "code",
   "execution_count": 1147,
   "metadata": {},
   "outputs": [
    {
     "data": {
      "text/plain": [
       "<AxesSubplot:xlabel='peak set', ylabel='density'>"
      ]
     },
     "execution_count": 1147,
     "metadata": {},
     "output_type": "execute_result"
    },
    {
     "data": {
      "image/png": "[encoded data removed]",
      "text/plain": [
       "<Figure size 432x288 with 1 Axes>"
      ]
     },
     "metadata": {
      "needs_background": "light"
     },
     "output_type": "display_data"
    }
   ],
   "source": [
    "sns.boxplot(x=\"peak set\", \n",
    "            y=\"density\",\n",
    "#                 color=\"white\",\n",
    "            data=pd.DataFrame({\n",
    "                \"peak set\":subset_idx, \n",
    "                \"density\":subset_dens}\n",
    "            ))"
   ]
  },
  {
   "cell_type": "code",
   "execution_count": 494,
   "metadata": {},
   "outputs": [
    {
     "data": {
      "text/plain": [
       "<AxesSubplot:xlabel='Shared with Low OSK', ylabel='density'>"
      ]
     },
     "execution_count": 494,
     "metadata": {},
     "output_type": "execute_result"
    },
    {
     "data": {
      "image/png": "[encoded data removed]",
      "text/plain": [
       "<Figure size 432x288 with 1 Axes>"
      ]
     },
     "metadata": {
      "needs_background": "light"
     },
     "output_type": "display_data"
    }
   ],
   "source": [
    "sns.boxplot(x=\"Shared with Low OSK\", \n",
    "            y=\"density\",\n",
    "#                 color=\"white\",\n",
    "            data=pd.DataFrame({\n",
    "                \"Shared with Low OSK\":subset_also_low_osk, \n",
    "                \"density\":subset_dens}\n",
    "            ))"
   ]
  },
  {
   "cell_type": "code",
   "execution_count": 495,
   "metadata": {},
   "outputs": [
    {
     "data": {
      "text/plain": [
       "<AxesSubplot:xlabel='Shared with Low OSK', ylabel='Accessibility'>"
      ]
     },
     "execution_count": 495,
     "metadata": {},
     "output_type": "execute_result"
    },
    {
     "data": {
      "image/png": "[encoded data removed]",
      "text/plain": [
       "<Figure size 432x288 with 1 Axes>"
      ]
     },
     "metadata": {
      "needs_background": "light"
     },
     "output_type": "display_data"
    }
   ],
   "source": [
    "sns.boxplot(x=\"Shared with Low OSK\", \n",
    "            y=\"Accessibility\",\n",
    "#                 color=\"white\",\n",
    "            data=pd.DataFrame({\n",
    "                \"Shared with Low OSK\":subset_also_low_osk, \n",
    "                \"Accessibility\":subset_cts}\n",
    "            ))"
   ]
  },
  {
   "cell_type": "code",
   "execution_count": 496,
   "metadata": {},
   "outputs": [
    {
     "data": {
      "text/plain": [
       "<AxesSubplot:xlabel='Shared with Low OSK', ylabel='Consecutive motif distance'>"
      ]
     },
     "execution_count": 496,
     "metadata": {},
     "output_type": "execute_result"
    },
    {
     "data": {
      "image/png": "[encoded data removed]",
      "text/plain": [
       "<Figure size 432x288 with 1 Axes>"
      ]
     },
     "metadata": {
      "needs_background": "light"
     },
     "output_type": "display_data"
    }
   ],
   "source": [
    "cur_select = [i for i,x in enumerate(subset_dens) if x>3]\n",
    "cur_cons_dist = [subset_cons_dist[i] for i in cur_select]\n",
    "cur_subset_also_low_osk = [subset_also_low_osk[i] for i in cur_select]\n",
    "\n",
    "sns.boxplot(x=\"Shared with Low OSK\", \n",
    "            y=\"Consecutive motif distance\",\n",
    "#                 color=\"white\",\n",
    "            data=pd.DataFrame({\n",
    "                \"Shared with Low OSK\":cur_subset_also_low_osk, \n",
    "                \"Consecutive motif distance\":cur_cons_dist}\n",
    "            ))"
   ]
  },
  {
   "cell_type": "code",
   "execution_count": 497,
   "metadata": {},
   "outputs": [
    {
     "data": {
      "text/plain": [
       "62.75"
      ]
     },
     "execution_count": 497,
     "metadata": {},
     "output_type": "execute_result"
    }
   ],
   "source": [
    "np.median([subset_cons_dist[i] for i in cur_select if subset_also_low_osk[i]==False])"
   ]
  },
  {
   "cell_type": "code",
   "execution_count": 498,
   "metadata": {},
   "outputs": [
    {
     "data": {
      "text/plain": [
       "56.666666666666664"
      ]
     },
     "execution_count": 498,
     "metadata": {},
     "output_type": "execute_result"
    }
   ],
   "source": [
    "np.median([subset_cons_dist[i] for i in cur_select if subset_also_low_osk[i]==True])"
   ]
  },
  {
   "cell_type": "markdown",
   "metadata": {},
   "source": [
    "## Composition"
   ]
  },
  {
   "cell_type": "code",
   "execution_count": 499,
   "metadata": {},
   "outputs": [
    {
     "data": {
      "text/plain": [
       "[7, 11, 8, 10, 10, 10, 11, 11, 11, 8]"
      ]
     },
     "execution_count": 499,
     "metadata": {},
     "output_type": "execute_result"
    }
   ],
   "source": [
    "subset_idx[:10]"
   ]
  },
  {
   "cell_type": "code",
   "execution_count": null,
   "metadata": {},
   "outputs": [],
   "source": []
  },
  {
   "cell_type": "code",
   "execution_count": 1148,
   "metadata": {},
   "outputs": [
    {
     "name": "stdout",
     "output_type": "stream",
     "text": [
      "7\n",
      "(0, 1, 0, 0) 1472 35.55\n",
      "(1, 1, 0, 0)  887 21.42\n",
      "(0, 1, 1, 0)  469 11.33\n",
      "(1, 1, 1, 0)  403 9.73\n",
      "(0, 1, 0, 1)  232 5.60\n",
      "(1, 1, 0, 1)  228 5.51\n",
      "(0, 0, 0, 0)   95 2.29\n",
      "(1, 1, 1, 1)   94 2.27\n",
      "(0, 1, 1, 1)   92 2.22\n",
      "(1, 0, 0, 0)   65 1.57\n",
      "(1, 0, 1, 0)   49 1.18\n",
      "(1, 0, 0, 1)   19 0.46\n",
      "(1, 0, 1, 1)   16 0.39\n",
      "(0, 0, 1, 0)   11 0.27\n",
      "(0, 0, 0, 1)    8 0.19\n",
      "(0, 0, 1, 1)    1 0.02\n",
      "\n",
      "8\n",
      "(1, 1, 0, 0) 7196 30.93\n",
      "(1, 1, 1, 0) 5812 24.98\n",
      "(0, 1, 0, 0) 2091 8.99\n",
      "(0, 1, 1, 0) 1872 8.05\n",
      "(1, 1, 0, 1) 1308 5.62\n",
      "(1, 0, 1, 0) 1154 4.96\n",
      "(1, 1, 1, 1) 1094 4.70\n",
      "(1, 0, 0, 0) 1090 4.69\n",
      "(0, 1, 0, 1)  318 1.37\n",
      "(0, 1, 1, 1)  312 1.34\n",
      "(1, 0, 1, 1)  296 1.27\n",
      "(1, 0, 0, 1)  285 1.23\n",
      "(0, 0, 1, 0)  182 0.78\n",
      "(0, 0, 0, 0)  168 0.72\n",
      "(0, 0, 1, 1)   46 0.20\n",
      "(0, 0, 0, 1)   40 0.17\n",
      "\n",
      "10\n",
      "(1, 1, 0, 0) 5958 31.79\n",
      "(1, 1, 1, 0) 4775 25.48\n",
      "(1, 0, 1, 0) 1457 7.77\n",
      "(1, 0, 0, 0) 1400 7.47\n",
      "(1, 1, 0, 1) 1249 6.66\n",
      "(1, 1, 1, 1) 1076 5.74\n",
      "(0, 1, 0, 0)  782 4.17\n",
      "(0, 1, 1, 0)  705 3.76\n",
      "(1, 0, 0, 1)  476 2.54\n",
      "(1, 0, 1, 1)  425 2.27\n",
      "(0, 1, 0, 1)  135 0.72\n",
      "(0, 1, 1, 1)  134 0.72\n",
      "(0, 0, 0, 0)   66 0.35\n",
      "(0, 0, 1, 0)   60 0.32\n",
      "(0, 0, 1, 1)   26 0.14\n",
      "(0, 0, 0, 1)   16 0.09\n",
      "\n",
      "11\n",
      "(1, 1, 0, 0) 5136 33.73\n",
      "(1, 1, 1, 0) 3397 22.31\n",
      "(1, 1, 0, 1) 1309 8.60\n",
      "(0, 1, 0, 0) 1094 7.19\n",
      "(0, 1, 1, 0)  857 5.63\n",
      "(1, 1, 1, 1)  827 5.43\n",
      "(1, 0, 0, 0)  764 5.02\n",
      "(1, 0, 1, 0)  726 4.77\n",
      "(1, 0, 0, 1)  289 1.90\n",
      "(0, 1, 0, 1)  250 1.64\n",
      "(1, 0, 1, 1)  240 1.58\n",
      "(0, 1, 1, 1)  205 1.35\n",
      "(0, 0, 1, 0)   50 0.33\n",
      "(0, 0, 0, 0)   42 0.28\n",
      "(0, 0, 1, 1)   24 0.16\n",
      "(0, 0, 0, 1)   15 0.10\n",
      "\n",
      "13\n",
      "(1, 1, 0, 0) 2097 34.73\n",
      "(1, 1, 1, 0) 1237 20.49\n",
      "(0, 1, 0, 0)  801 13.27\n",
      "(0, 1, 1, 0)  564 9.34\n",
      "(1, 1, 0, 1)  310 5.13\n",
      "(1, 0, 0, 0)  262 4.34\n",
      "(1, 1, 1, 1)  203 3.36\n",
      "(1, 0, 1, 0)  168 2.78\n",
      "(0, 1, 0, 1)  103 1.71\n",
      "(0, 0, 0, 0)   87 1.44\n",
      "(0, 1, 1, 1)   72 1.19\n",
      "(1, 0, 0, 1)   54 0.89\n",
      "(1, 0, 1, 1)   43 0.71\n",
      "(0, 0, 1, 0)   26 0.43\n",
      "(0, 0, 0, 1)    7 0.12\n",
      "(0, 0, 1, 1)    4 0.07\n",
      "\n",
      "All\n",
      "(1, 1, 0, 0) 21274 31.56\n",
      "(1, 1, 1, 0) 15624 23.18\n",
      "(0, 1, 0, 0) 6240 9.26\n",
      "(0, 1, 1, 0) 4467 6.63\n",
      "(1, 1, 0, 1) 4404 6.53\n",
      "(1, 0, 0, 0) 3581 5.31\n",
      "(1, 0, 1, 0) 3554 5.27\n",
      "(1, 1, 1, 1) 3294 4.89\n",
      "(1, 0, 0, 1) 1123 1.67\n",
      "(0, 1, 0, 1) 1038 1.54\n",
      "(1, 0, 1, 1) 1020 1.51\n",
      "(0, 1, 1, 1)  815 1.21\n",
      "(0, 0, 0, 0)  458 0.68\n",
      "(0, 0, 1, 0)  329 0.49\n",
      "(0, 0, 1, 1)  101 0.15\n",
      "(0, 0, 0, 1)   86 0.13\n",
      "\n"
     ]
    }
   ],
   "source": [
    "motif_combinations = [(int(x[\"OCTSOX\"]>0),\n",
    "                 int(x[\"KLF\"]>0),\n",
    "                 int(x[\"SOX.not.OCTSOX\"]>0),\n",
    "                 int(x[\"AP1\"]>0)) for x in subset_composition]\n",
    "\n",
    "for p in [7,8,10,11,13,\"All\"]:\n",
    "    print(p)\n",
    "    \n",
    "    if p!=\"All\":\n",
    "        peak_idx_combination = [x for i,x in enumerate(motif_combinations) if subset_idx[i]==p]\n",
    "    else:\n",
    "        peak_idx_combination = motif_combinations\n",
    "        \n",
    "    counts = Counter(peak_idx_combination).most_common()\n",
    "\n",
    "    for x,y in counts:\n",
    "        print(x, \"{:4d}\".format(y), \"{:.2f}\".format(100*y/len(peak_idx_combination)))\n",
    "    print()"
   ]
  },
  {
   "cell_type": "code",
   "execution_count": 845,
   "metadata": {},
   "outputs": [
    {
     "name": "stdout",
     "output_type": "stream",
     "text": [
      "(1, 1, 0, 0) 21351 31.20\n",
      "(1, 1, 1, 0) 15576 22.76\n",
      "(0, 1, 0, 0)  5792 8.46\n",
      "(1, 0, 0, 0)  4824 7.05\n",
      "(0, 1, 1, 0)  4161 6.08\n",
      "(1, 1, 0, 1)  4076 5.96\n",
      "(1, 0, 1, 0)  3593 5.25\n",
      "(1, 1, 1, 1)  2934 4.29\n",
      "(0, 0, 0, 0)  1289 1.88\n",
      "(0, 1, 0, 1)  1079 1.58\n",
      "(0, 0, 1, 0)   961 1.40\n",
      "(1, 0, 0, 1)   884 1.29\n",
      "(0, 1, 1, 1)   820 1.20\n",
      "(1, 0, 1, 1)   668 0.98\n",
      "(0, 0, 0, 1)   243 0.36\n",
      "(0, 0, 1, 1)   183 0.27\n",
      "\n"
     ]
    }
   ],
   "source": [
    "shuffled_motif_combinations = [list(x) for x in list(zip(*motif_combinations))]\n",
    "for i in range(len(shuffled_motif_combinations)):\n",
    "    shuffle(shuffled_motif_combinations[i])\n",
    "\n",
    "counts = Counter(list(zip(*shuffled_motif_combinations))).most_common()\n",
    "\n",
    "for x,y in counts:\n",
    "    print(x, \"{:5d}\".format(y), \"{:.2f}\".format(100*y/len(shuffled_motif_combinations[0])))\n",
    "print()  "
   ]
  },
  {
   "cell_type": "code",
   "execution_count": 843,
   "metadata": {},
   "outputs": [
    {
     "name": "stdout",
     "output_type": "stream",
     "text": [
      "True\n",
      "(1, 1, 0, 0) 4169 31.77\n",
      "(1, 1, 1, 0) 2493 19.00\n",
      "(1, 1, 0, 1) 1203 9.17\n",
      "(0, 1, 0, 0)  957 7.29\n",
      "(1, 0, 0, 0)  848 6.46\n",
      "(1, 0, 1, 0)  728 5.55\n",
      "(1, 1, 1, 1)  708 5.40\n",
      "(0, 1, 1, 0)  634 4.83\n",
      "(1, 0, 0, 1)  412 3.14\n",
      "(1, 0, 1, 1)  304 2.32\n",
      "(0, 1, 0, 1)  294 2.24\n",
      "(0, 1, 1, 1)  206 1.57\n",
      "(0, 0, 0, 0)   85 0.65\n",
      "(0, 0, 1, 0)   35 0.27\n",
      "(0, 0, 0, 1)   25 0.19\n",
      "(0, 0, 1, 1)   22 0.17\n",
      "\n",
      "False\n",
      "(1, 1, 0, 0) 17191 31.08\n",
      "(1, 1, 1, 0) 12253 22.15\n",
      "(0, 1, 0, 0) 5740 10.38\n",
      "(0, 1, 1, 0) 4055 7.33\n",
      "(1, 0, 1, 0) 3681 6.66\n",
      "(1, 0, 0, 0) 3663 6.62\n",
      "(1, 1, 0, 1) 2672 4.83\n",
      "(1, 1, 1, 1) 1930 3.49\n",
      "(1, 0, 0, 1)  886 1.60\n",
      "(1, 0, 1, 1)  765 1.38\n",
      "(0, 1, 0, 1)  723 1.31\n",
      "(0, 0, 0, 0)  596 1.08\n",
      "(0, 1, 1, 1)  561 1.01\n",
      "(0, 0, 1, 0)  419 0.76\n",
      "(0, 0, 1, 1)  102 0.18\n",
      "(0, 0, 0, 1)   74 0.13\n",
      "\n"
     ]
    }
   ],
   "source": [
    "motif_combinations = [(int(x[\"OCTSOX\"]>0),\n",
    "                 int(x[\"KLF\"]>0),\n",
    "                 int(x[\"SOX.not.OCTSOX\"]>0),\n",
    "                 int(x[\"AP1\"]>0)) for x in subset_composition]\n",
    "\n",
    "for p in [True, False]:\n",
    "    print(p)\n",
    "    \n",
    "    peak_idx_combination = [x for i,x in enumerate(motif_combinations) if subset_also_low_osk[i]==p]\n",
    "        \n",
    "    counts = Counter(peak_idx_combination).most_common()\n",
    "\n",
    "    for x,y in counts:\n",
    "        print(x, \"{:4d}\".format(y), \"{:.2f}\".format(100*y/len(peak_idx_combination)))\n",
    "    print()"
   ]
  },
  {
   "cell_type": "code",
   "execution_count": 694,
   "metadata": {},
   "outputs": [
    {
     "data": {
      "text/plain": [
       "[((1, 1, 0, 0), 21360),\n",
       " ((1, 1, 1, 0), 14746),\n",
       " ((0, 1, 0, 0), 6697),\n",
       " ((0, 1, 1, 0), 4689),\n",
       " ((1, 0, 0, 0), 4511),\n",
       " ((1, 0, 1, 0), 4409),\n",
       " ((1, 1, 0, 1), 3875),\n",
       " ((1, 1, 1, 1), 2638),\n",
       " ((1, 0, 0, 1), 1298),\n",
       " ((1, 0, 1, 1), 1069),\n",
       " ((0, 1, 0, 1), 1017),\n",
       " ((0, 1, 1, 1), 767),\n",
       " ((0, 0, 0, 0), 681),\n",
       " ((0, 0, 1, 0), 454),\n",
       " ((0, 0, 1, 1), 124),\n",
       " ((0, 0, 0, 1), 99)]"
      ]
     },
     "execution_count": 694,
     "metadata": {},
     "output_type": "execute_result"
    }
   ],
   "source": [
    "Counter([(int(x[\"OCTSOX\"]>0),\n",
    "          int(x[\"KLF\"]>0),\n",
    "          int(x[\"SOX.not.OCTSOX\"]>0),\n",
    "          int(x[\"AP1\"]>0)) for i,x in enumerate(subset_composition)]).most_common()"
   ]
  },
  {
   "cell_type": "code",
   "execution_count": null,
   "metadata": {},
   "outputs": [],
   "source": []
  },
  {
   "cell_type": "code",
   "execution_count": 384,
   "metadata": {},
   "outputs": [
    {
     "name": "stdout",
     "output_type": "stream",
     "text": [
      "Counter({2: 13906, 1: 7294, 3: 1959, 0: 521})\n",
      "18240\n",
      "23680\n"
     ]
    }
   ],
   "source": [
    "print(Counter([len(x) for i,x in enumerate(subset_composition) if subset_idx[i]==8]))\n",
    "print(sum([x[\"OCTSOX\"]>0 for i,x in enumerate(subset_composition) if subset_idx[i]==8]))\n",
    "print(len([x for x in subset_idx if x==8]))"
   ]
  },
  {
   "cell_type": "code",
   "execution_count": 385,
   "metadata": {},
   "outputs": [
    {
     "name": "stdout",
     "output_type": "stream",
     "text": [
      "Counter({2: 9467, 1: 3959, 3: 1871, 0: 152})\n",
      "12725\n",
      "15449\n"
     ]
    }
   ],
   "source": [
    "print(Counter([len(x) for i,x in enumerate(subset_composition) if subset_idx[i]==11]))\n",
    "print(sum([x[\"OCTSOX\"]>0 for i,x in enumerate(subset_composition) if subset_idx[i]==11]))\n",
    "print(len([x for x in subset_idx if x==11]))"
   ]
  },
  {
   "cell_type": "code",
   "execution_count": 386,
   "metadata": {},
   "outputs": [
    {
     "name": "stdout",
     "output_type": "stream",
     "text": [
      "Counter({2: 3606, 1: 1984, 3: 439, 0: 145})\n",
      "4412\n",
      "6174\n"
     ]
    }
   ],
   "source": [
    "print(Counter([len(x) for i,x in enumerate(subset_composition) if subset_idx[i]==13]))\n",
    "print(sum([x[\"OCTSOX\"]>0 for i,x in enumerate(subset_composition) if subset_idx[i]==13]))\n",
    "print(len([x for x in subset_idx if x==13]))"
   ]
  },
  {
   "cell_type": "code",
   "execution_count": 501,
   "metadata": {},
   "outputs": [],
   "source": [
    "peak_set_2_aff = defaultdict(list)\n",
    "SEL_MOT = \"OCTSOX\"\n",
    "\n",
    "for chrm in scanned_peaks_intervals:\n",
    "    for peak in scanned_peaks_intervals[chrm]:\n",
    "            affs = [x.data[1] for x in motif_its[chrm][peak.begin:peak.end] if x.data[0]==SEL_MOT]\n",
    "            \n",
    "            if affs:\n",
    "#                 peak_set_2_aff[peak.data] += affs\n",
    "                peak_set_2_aff[peak.data[0]].append(max(affs))                "
   ]
  },
  {
   "cell_type": "code",
   "execution_count": 502,
   "metadata": {},
   "outputs": [
    {
     "data": {
      "text/plain": [
       "7.818887"
      ]
     },
     "execution_count": 502,
     "metadata": {},
     "output_type": "execute_result"
    }
   ],
   "source": [
    "np.median(peak_set_2_aff[8])"
   ]
  },
  {
   "cell_type": "code",
   "execution_count": 503,
   "metadata": {},
   "outputs": [
    {
     "data": {
      "text/plain": [
       "8.346871499999999"
      ]
     },
     "execution_count": 503,
     "metadata": {},
     "output_type": "execute_result"
    }
   ],
   "source": [
    "np.median(peak_set_2_aff[10])"
   ]
  },
  {
   "cell_type": "code",
   "execution_count": 504,
   "metadata": {},
   "outputs": [
    {
     "data": {
      "text/plain": [
       "8.414899"
      ]
     },
     "execution_count": 504,
     "metadata": {},
     "output_type": "execute_result"
    }
   ],
   "source": [
    "np.median(peak_set_2_aff[11])"
   ]
  },
  {
   "cell_type": "code",
   "execution_count": 505,
   "metadata": {},
   "outputs": [
    {
     "data": {
      "text/plain": [
       "8.629926000000001"
      ]
     },
     "execution_count": 505,
     "metadata": {},
     "output_type": "execute_result"
    }
   ],
   "source": [
    "np.median(peak_set_2_aff[13])"
   ]
  },
  {
   "cell_type": "code",
   "execution_count": 506,
   "metadata": {},
   "outputs": [
    {
     "data": {
      "text/plain": [
       "<matplotlib.legend.Legend at 0x7fe70eeae990>"
      ]
     },
     "execution_count": 506,
     "metadata": {},
     "output_type": "execute_result"
    },
    {
     "data": {
      "image/png": "[encoded data removed]",
      "text/plain": [
       "<Figure size 432x288 with 1 Axes>"
      ]
     },
     "metadata": {
      "needs_background": "light"
     },
     "output_type": "display_data"
    }
   ],
   "source": [
    "for p in [8,10,11,13]:\n",
    "    sns.kdeplot(peak_set_2_aff[p], label='p' + str(p), cut=0)\n",
    "plt.xlabel(\"Log-odds score\", fontsize=15)\n",
    "plt.ylabel(\"Density\", fontsize=15)\n",
    "plt.legend()\n",
    "# plt.savefig(\"tmp.pdf\")\n",
    "# pd.Series(logodds_p11).hist(bins=50,alpha=0.5)"
   ]
  },
  {
   "cell_type": "code",
   "execution_count": 507,
   "metadata": {},
   "outputs": [
    {
     "data": {
      "text/plain": [
       "Text(0, 0.5, 'Log-odds')"
      ]
     },
     "execution_count": 507,
     "metadata": {},
     "output_type": "execute_result"
    },
    {
     "data": {
      "image/png": "[encoded data removed]",
      "text/plain": [
       "<Figure size 432x288 with 1 Axes>"
      ]
     },
     "metadata": {
      "needs_background": "light"
     },
     "output_type": "display_data"
    }
   ],
   "source": [
    "plt.boxplot([peak_set_2_aff[p] for p in [8,10,11,13]],\n",
    "            labels=[8,10,11,13])\n",
    "plt.xlabel(\"Peak Set\", fontsize=15)\n",
    "plt.ylabel(\"Log-odds\", fontsize=15)\n",
    "# plt.show()"
   ]
  },
  {
   "cell_type": "code",
   "execution_count": 508,
   "metadata": {},
   "outputs": [
    {
     "name": "stdout",
     "output_type": "stream",
     "text": [
      "2.3969986656815802e-268\n",
      "8.412783897809838e-05\n",
      "9.430890367948933e-262\n",
      "4.7141052825717504e-14\n",
      "4.55149833554423e-202\n"
     ]
    }
   ],
   "source": [
    "print(scipy.stats.mannwhitneyu(peak_set_2_aff[10], peak_set_2_aff[8])[1])\n",
    "print(scipy.stats.mannwhitneyu(peak_set_2_aff[10], peak_set_2_aff[11])[1])\n",
    "print(scipy.stats.mannwhitneyu(peak_set_2_aff[11], peak_set_2_aff[8])[1])\n",
    "print(scipy.stats.mannwhitneyu(peak_set_2_aff[11], peak_set_2_aff[13])[1])\n",
    "print(scipy.stats.mannwhitneyu(peak_set_2_aff[8], peak_set_2_aff[13])[1])"
   ]
  },
  {
   "cell_type": "code",
   "execution_count": 509,
   "metadata": {},
   "outputs": [],
   "source": [
    "low_osk_peak_2_aff = defaultdict(list)\n",
    "SEL_MOT = \"OCTSOX\"\n",
    "\n",
    "for chrm in scanned_peaks_intervals:\n",
    "    for peak in scanned_peaks_intervals[chrm]:\n",
    "            affs = [x.data[1] for x in motif_its[chrm][peak.begin:peak.end] if x.data[0]==SEL_MOT]\n",
    "            \n",
    "            if affs:\n",
    "#                 peak_set_2_aff[peak.data] += affs\n",
    "                low_osk_peak_2_aff[peak.data[1]].append(max(affs))                "
   ]
  },
  {
   "cell_type": "code",
   "execution_count": 510,
   "metadata": {},
   "outputs": [
    {
     "name": "stdout",
     "output_type": "stream",
     "text": [
      "8.570931 7.9900009999999995\n"
     ]
    }
   ],
   "source": [
    "print(np.median(low_osk_peak_2_aff[True]), np.median(low_osk_peak_2_aff[False]))"
   ]
  },
  {
   "cell_type": "code",
   "execution_count": 511,
   "metadata": {},
   "outputs": [
    {
     "data": {
      "text/plain": [
       "<matplotlib.legend.Legend at 0x7fe70e619090>"
      ]
     },
     "execution_count": 511,
     "metadata": {},
     "output_type": "execute_result"
    },
    {
     "data": {
      "image/png": "[encoded data removed]",
      "text/plain": [
       "<Figure size 432x288 with 1 Axes>"
      ]
     },
     "metadata": {
      "needs_background": "light"
     },
     "output_type": "display_data"
    }
   ],
   "source": [
    "for p in [True, False]:\n",
    "    sns.kdeplot(low_osk_peak_2_aff[p], label=str(p), cut=0)\n",
    "plt.xlabel(\"Log-odds score\", fontsize=15)\n",
    "plt.ylabel(\"Shared by Low OSK\", fontsize=15)\n",
    "plt.legend()\n",
    "# plt.savefig(\"tmp.pdf\")\n",
    "# pd.Series(logodds_p11).hist(bins=50,alpha=0.5)"
   ]
  },
  {
   "cell_type": "code",
   "execution_count": 512,
   "metadata": {},
   "outputs": [
    {
     "data": {
      "text/plain": [
       "Text(0, 0.5, 'Log-odds')"
      ]
     },
     "execution_count": 512,
     "metadata": {},
     "output_type": "execute_result"
    },
    {
     "data": {
      "image/png": "[encoded data removed]",
      "text/plain": [
       "<Figure size 432x288 with 1 Axes>"
      ]
     },
     "metadata": {
      "needs_background": "light"
     },
     "output_type": "display_data"
    }
   ],
   "source": [
    "plt.boxplot([low_osk_peak_2_aff[p] for p in [True, False]],\n",
    "            labels=[True,False])\n",
    "plt.xlabel(\"Shared by Low OSK\", fontsize=15)\n",
    "plt.ylabel(\"Log-odds\", fontsize=15)\n",
    "# plt.show()"
   ]
  },
  {
   "cell_type": "code",
   "execution_count": 513,
   "metadata": {},
   "outputs": [
    {
     "name": "stdout",
     "output_type": "stream",
     "text": [
      "0.0\n"
     ]
    }
   ],
   "source": [
    "print(scipy.stats.mannwhitneyu(low_osk_peak_2_aff[True], low_osk_peak_2_aff[False])[1])"
   ]
  },
  {
   "cell_type": "code",
   "execution_count": null,
   "metadata": {},
   "outputs": [],
   "source": []
  },
  {
   "cell_type": "markdown",
   "metadata": {},
   "source": [
    "## Simple feature classifiers\n",
    "\n",
    "Use simple features like affinity, density to predict accessibility/peak class (e.g. peak set or shared with low OSK)"
   ]
  },
  {
   "cell_type": "code",
   "execution_count": 1030,
   "metadata": {},
   "outputs": [],
   "source": [
    "from sklearn.preprocessing import StandardScaler\n",
    "from sklearn import svm\n",
    "from sklearn.model_selection import train_test_split\n",
    "from sklearn.linear_model import LogisticRegression, LinearRegression\n",
    "from sklearn.metrics import roc_auc_score, average_precision_score\n",
    "from sklearn.neural_network import MLPClassifier, MLPRegressor"
   ]
  },
  {
   "cell_type": "code",
   "execution_count": 1150,
   "metadata": {},
   "outputs": [],
   "source": [
    "# features/labels\n",
    "subset = [x for x in density_x_counts[0] if x[7] in [8,11]]# and 6==x[0]]\n",
    "subset_dens = [x[0] for x in subset]\n",
    "subset_cts = [x[1] for x in subset]\n",
    "subset_cons_dist = [x[2] for x in subset]\n",
    "subset_eff_dens = [x[3] for x in subset]\n",
    "subset_composition = [x[4] for x in subset]\n",
    "subset_motif_instances = [x[5] for x in subset]\n",
    "subset_gc = [x[6][0] for x in subset]\n",
    "subset_gc_200 = [x[6][1] for x in subset]\n",
    "subset_gc_500 = [x[6][2] for x in subset]\n",
    "subset_idx = [x[7] for x in subset]\n",
    "subset_also_low_osk = [x[8] for x in subset]\n",
    "\n",
    "subset_OS_counts = [x[\"OCTSOX\"] for x in subset_composition]\n",
    "subset_K_counts = [x[\"KLF\"] for x in subset_composition]\n",
    "subset_S_counts = [x[\"SOX.not.OCTSOX\"] for x in subset_composition]\n",
    "subset_AP1_counts = [x[\"AP1\"] for x in subset_composition]"
   ]
  },
  {
   "cell_type": "code",
   "execution_count": 1151,
   "metadata": {},
   "outputs": [],
   "source": [
    "subset_high_aff_dens = [len(filter_motif(x)) for x in subset_motif_instances]"
   ]
  },
  {
   "cell_type": "code",
   "execution_count": 1152,
   "metadata": {},
   "outputs": [],
   "source": [
    "def get_aff_feat(motif_instances, motif, reduce=np.max):\n",
    "    affs = [[y[1] for y in x if y[0]==motif] for x in motif_instances]\n",
    "\n",
    "    non_missing_min = np.min([y for x in affs for y in x])\n",
    "\n",
    "    reduced_affs = [reduce(x) if len(x)>0 else non_missing_min for x in affs]\n",
    "    \n",
    "    return reduced_affs\n",
    "    "
   ]
  },
  {
   "cell_type": "code",
   "execution_count": 1153,
   "metadata": {},
   "outputs": [],
   "source": [
    "subset_OS_aff_max = get_aff_feat(subset_motif_instances, \"OCTSOX\", reduce=np.max)\n",
    "subset_K_aff_max = get_aff_feat(subset_motif_instances, \"KLF\", reduce=np.max)\n",
    "subset_S_aff_max = get_aff_feat(subset_motif_instances, \"SOX.not.OCTSOX\", reduce=np.max)\n",
    "subset_AP1_aff_max = get_aff_feat(subset_motif_instances, \"AP1\", reduce=np.max)"
   ]
  },
  {
   "cell_type": "code",
   "execution_count": 1154,
   "metadata": {},
   "outputs": [],
   "source": [
    "subset_OS_aff_min = get_aff_feat(subset_motif_instances, \"OCTSOX\", reduce=np.min)\n",
    "subset_K_aff_min = get_aff_feat(subset_motif_instances, \"KLF\", reduce=np.min)\n",
    "subset_S_aff_min = get_aff_feat(subset_motif_instances, \"SOX.not.OCTSOX\", reduce=np.min)\n",
    "subset_AP1_aff_min = get_aff_feat(subset_motif_instances, \"AP1\", reduce=np.min)"
   ]
  },
  {
   "cell_type": "code",
   "execution_count": 1155,
   "metadata": {},
   "outputs": [],
   "source": [
    "subset_OS_aff_mean = get_aff_feat(subset_motif_instances, \"OCTSOX\", reduce=np.mean)\n",
    "subset_K_aff_mean = get_aff_feat(subset_motif_instances, \"KLF\", reduce=np.mean)\n",
    "subset_S_aff_mean = get_aff_feat(subset_motif_instances, \"SOX.not.OCTSOX\", reduce=np.mean)\n",
    "subset_AP1_aff_mean = get_aff_feat(subset_motif_instances, \"AP1\", reduce=np.mean)"
   ]
  },
  {
   "cell_type": "code",
   "execution_count": 1156,
   "metadata": {},
   "outputs": [
    {
     "data": {
      "text/plain": [
       "38489"
      ]
     },
     "execution_count": 1156,
     "metadata": {},
     "output_type": "execute_result"
    }
   ],
   "source": [
    "len(subset)"
   ]
  },
  {
   "cell_type": "code",
   "execution_count": null,
   "metadata": {},
   "outputs": [],
   "source": []
  },
  {
   "cell_type": "code",
   "execution_count": 1170,
   "metadata": {},
   "outputs": [],
   "source": [
    "X = pd.DataFrame({\n",
    "#     \"gc\": subset_gc,\n",
    "#     \"gc_200\": subset_gc_200,\n",
    "#     \"gc_500\": subset_gc_500, \n",
    "    \n",
    "    \"total_counts\": subset_dens,\n",
    "    \"high_aff_counts\": subset_high_aff_dens,\n",
    "    \n",
    "    \"OS_counts\": subset_OS_counts,\n",
    "    \"K_counts\": subset_K_counts,\n",
    "    \"S_counts\": subset_S_counts,\n",
    "    \"AP1_counts\": subset_AP1_counts,\n",
    "    \n",
    "    \"cons_dist\": subset_cons_dist,\n",
    "    \n",
    "    \"OS_aff_max\": subset_OS_aff_max,\n",
    "    \"K_aff_max\": subset_K_aff_max,\n",
    "    \"S_aff_max\": subset_S_aff_max,\n",
    "    \"AP1_aff_max\": subset_AP1_aff_max,\n",
    "    \n",
    "    \"OS_aff_min\": subset_OS_aff_min,\n",
    "    \"K_aff_min\": subset_K_aff_min,\n",
    "    \"S_aff_min\": subset_S_aff_min,\n",
    "    \"AP1_aff_min\": subset_AP1_aff_min,\n",
    "    \n",
    "    \"OS_aff_mean\": subset_OS_aff_mean,\n",
    "    \"K_aff_mean\": subset_K_aff_mean,\n",
    "    \"S_aff_mean\": subset_S_aff_mean,\n",
    "    \"AP1_aff_mean\": subset_AP1_aff_mean\n",
    "})"
   ]
  },
  {
   "cell_type": "code",
   "execution_count": 1171,
   "metadata": {},
   "outputs": [],
   "source": [
    "# y = subset_cts"
   ]
  },
  {
   "cell_type": "code",
   "execution_count": 1172,
   "metadata": {},
   "outputs": [],
   "source": [
    "# y = subset_also_low_osk"
   ]
  },
  {
   "cell_type": "code",
   "execution_count": 1173,
   "metadata": {},
   "outputs": [
    {
     "data": {
      "text/plain": [
       "0.39556756475876226"
      ]
     },
     "execution_count": 1173,
     "metadata": {},
     "output_type": "execute_result"
    }
   ],
   "source": [
    "y = [x==11 for x in subset_idx]\n",
    "sum(y)/len(y)"
   ]
  },
  {
   "cell_type": "code",
   "execution_count": null,
   "metadata": {},
   "outputs": [],
   "source": []
  },
  {
   "cell_type": "code",
   "execution_count": 1174,
   "metadata": {},
   "outputs": [],
   "source": [
    "X_train, X_test, y_train, y_test = train_test_split(X, y, test_size=0.1, random_state=1)"
   ]
  },
  {
   "cell_type": "code",
   "execution_count": 1175,
   "metadata": {},
   "outputs": [],
   "source": [
    "scaler = StandardScaler()\n",
    "X_train = scaler.fit_transform(X_train)\n",
    "X_test = scaler.transform(X_test)"
   ]
  },
  {
   "cell_type": "code",
   "execution_count": 1176,
   "metadata": {},
   "outputs": [],
   "source": [
    "# clf = LinearRegression().fit(X_train, y_train)"
   ]
  },
  {
   "cell_type": "code",
   "execution_count": 1177,
   "metadata": {},
   "outputs": [],
   "source": [
    "# clf = LogisticRegression().fit(X_train, y_train)"
   ]
  },
  {
   "cell_type": "code",
   "execution_count": 1178,
   "metadata": {},
   "outputs": [],
   "source": [
    "clf = MLPClassifier(solver='lbfgs', alpha=1e-5,\n",
    "                     hidden_layer_sizes=(5,2), \n",
    "                    random_state=1,\n",
    "                    max_iter=2000,\n",
    "                   early_stopping=True).fit(X_train, y_train)"
   ]
  },
  {
   "cell_type": "code",
   "execution_count": 1179,
   "metadata": {},
   "outputs": [],
   "source": [
    "# pearsonr(y_test, clf.predict(X_test))"
   ]
  },
  {
   "cell_type": "code",
   "execution_count": 1180,
   "metadata": {},
   "outputs": [],
   "source": [
    "# plt.scatter(y_test, clf.predict(X_test), s=1, alpha=0.3)"
   ]
  },
  {
   "cell_type": "code",
   "execution_count": null,
   "metadata": {},
   "outputs": [],
   "source": []
  },
  {
   "cell_type": "code",
   "execution_count": 1181,
   "metadata": {},
   "outputs": [
    {
     "data": {
      "text/plain": [
       "0.5822307939701534"
      ]
     },
     "execution_count": 1181,
     "metadata": {},
     "output_type": "execute_result"
    }
   ],
   "source": [
    "average_precision_score(y_test, clf.predict_proba(X_test)[:,1])"
   ]
  },
  {
   "cell_type": "code",
   "execution_count": 1182,
   "metadata": {},
   "outputs": [
    {
     "data": {
      "text/plain": [
       "0.6834249113137043"
      ]
     },
     "execution_count": 1182,
     "metadata": {},
     "output_type": "execute_result"
    }
   ],
   "source": [
    "roc_auc_score(y_test, clf.predict_proba(X_test)[:,1])"
   ]
  },
  {
   "cell_type": "code",
   "execution_count": null,
   "metadata": {},
   "outputs": [],
   "source": []
  },
  {
   "cell_type": "code",
   "execution_count": null,
   "metadata": {},
   "outputs": [],
   "source": []
  },
  {
   "cell_type": "code",
   "execution_count": null,
   "metadata": {},
   "outputs": [],
   "source": []
  },
  {
   "cell_type": "code",
   "execution_count": null,
   "metadata": {},
   "outputs": [],
   "source": []
  },
  {
   "cell_type": "code",
   "execution_count": null,
   "metadata": {},
   "outputs": [],
   "source": []
  },
  {
   "cell_type": "code",
   "execution_count": null,
   "metadata": {},
   "outputs": [],
   "source": []
  },
  {
   "cell_type": "code",
   "execution_count": null,
   "metadata": {},
   "outputs": [],
   "source": []
  }
 ],
 "metadata": {
  "kernelspec": {
   "display_name": "Python 3",
   "language": "python",
   "name": "python3"
  },
  "language_info": {
   "codemirror_mode": {
    "name": "ipython",
    "version": 3
   },
   "file_extension": ".py",
   "mimetype": "text/x-python",
   "name": "python",
   "nbconvert_exporter": "python",
   "pygments_lexer": "ipython3",
   "version": "3.7.6"
  }
 },
 "nbformat": 4,
 "nbformat_minor": 4
}
