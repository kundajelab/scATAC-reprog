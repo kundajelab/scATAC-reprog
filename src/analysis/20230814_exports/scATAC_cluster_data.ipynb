{
 "cells": [
  {
   "cell_type": "markdown",
   "metadata": {},
   "source": [
    "# scATAC cluster data\n",
    "\n",
    "Write out fragment files and peaks per cluster."
   ]
  },
  {
   "cell_type": "code",
   "execution_count": 4,
   "metadata": {},
   "outputs": [],
   "source": [
    "import os"
   ]
  },
  {
   "cell_type": "code",
   "execution_count": 5,
   "metadata": {},
   "outputs": [],
   "source": [
    "import pandas as pd"
   ]
  },
  {
   "cell_type": "code",
   "execution_count": 6,
   "metadata": {},
   "outputs": [
    {
     "data": {
      "text/html": [
       "<div>\n",
       "<style scoped>\n",
       "    .dataframe tbody tr th:only-of-type {\n",
       "        vertical-align: middle;\n",
       "    }\n",
       "\n",
       "    .dataframe tbody tr th {\n",
       "        vertical-align: top;\n",
       "    }\n",
       "\n",
       "    .dataframe thead th {\n",
       "        text-align: right;\n",
       "    }\n",
       "</style>\n",
       "<table border=\"1\" class=\"dataframe\">\n",
       "  <thead>\n",
       "    <tr style=\"text-align: right;\">\n",
       "      <th></th>\n",
       "      <th>cluster</th>\n",
       "      <th>colour</th>\n",
       "      <th>description</th>\n",
       "      <th>new_cluster</th>\n",
       "    </tr>\n",
       "  </thead>\n",
       "  <tbody>\n",
       "    <tr>\n",
       "      <th>0</th>\n",
       "      <td>1</td>\n",
       "      <td>#B03743</td>\n",
       "      <td>Fibroblast</td>\n",
       "      <td>1</td>\n",
       "    </tr>\n",
       "    <tr>\n",
       "      <th>1</th>\n",
       "      <td>2</td>\n",
       "      <td>#E85F6D</td>\n",
       "      <td>Fibroblast-like</td>\n",
       "      <td>3</td>\n",
       "    </tr>\n",
       "    <tr>\n",
       "      <th>2</th>\n",
       "      <td>3</td>\n",
       "      <td>#7C2730</td>\n",
       "      <td>Fibroblast-like</td>\n",
       "      <td>2</td>\n",
       "    </tr>\n",
       "    <tr>\n",
       "      <th>3</th>\n",
       "      <td>4</td>\n",
       "      <td>#F0A118</td>\n",
       "      <td>Intermediate</td>\n",
       "      <td>12</td>\n",
       "    </tr>\n",
       "    <tr>\n",
       "      <th>4</th>\n",
       "      <td>5</td>\n",
       "      <td>#78A824</td>\n",
       "      <td>Pre-iPSC</td>\n",
       "      <td>13</td>\n",
       "    </tr>\n",
       "    <tr>\n",
       "      <th>5</th>\n",
       "      <td>6</td>\n",
       "      <td>#A6D854</td>\n",
       "      <td>Pre-iPSC</td>\n",
       "      <td>14</td>\n",
       "    </tr>\n",
       "    <tr>\n",
       "      <th>6</th>\n",
       "      <td>7</td>\n",
       "      <td>#F01D35</td>\n",
       "      <td>Fibroblast-like</td>\n",
       "      <td>5</td>\n",
       "    </tr>\n",
       "    <tr>\n",
       "      <th>7</th>\n",
       "      <td>8</td>\n",
       "      <td>#13C4A3</td>\n",
       "      <td>iPSC</td>\n",
       "      <td>15</td>\n",
       "    </tr>\n",
       "    <tr>\n",
       "      <th>8</th>\n",
       "      <td>9</td>\n",
       "      <td>#406614</td>\n",
       "      <td>Partially-reprogrammed</td>\n",
       "      <td>10</td>\n",
       "    </tr>\n",
       "    <tr>\n",
       "      <th>9</th>\n",
       "      <td>10</td>\n",
       "      <td>#D4B81C</td>\n",
       "      <td>Intermediate</td>\n",
       "      <td>9</td>\n",
       "    </tr>\n",
       "    <tr>\n",
       "      <th>10</th>\n",
       "      <td>11</td>\n",
       "      <td>#006658</td>\n",
       "      <td>xOSK</td>\n",
       "      <td>8</td>\n",
       "    </tr>\n",
       "    <tr>\n",
       "      <th>11</th>\n",
       "      <td>12</td>\n",
       "      <td>#CF175A</td>\n",
       "      <td>Fibroblast-like</td>\n",
       "      <td>4</td>\n",
       "    </tr>\n",
       "    <tr>\n",
       "      <th>12</th>\n",
       "      <td>13</td>\n",
       "      <td>#F7A6C2</td>\n",
       "      <td>Keratinocyte-like</td>\n",
       "      <td>6</td>\n",
       "    </tr>\n",
       "    <tr>\n",
       "      <th>13</th>\n",
       "      <td>14</td>\n",
       "      <td>#F4D5CD</td>\n",
       "      <td>Intermediate</td>\n",
       "      <td>11</td>\n",
       "    </tr>\n",
       "    <tr>\n",
       "      <th>14</th>\n",
       "      <td>15</td>\n",
       "      <td>#F0520A</td>\n",
       "      <td>hOSK</td>\n",
       "      <td>7</td>\n",
       "    </tr>\n",
       "  </tbody>\n",
       "</table>\n",
       "</div>"
      ],
      "text/plain": [
       "    cluster   colour             description  new_cluster\n",
       "0         1  #B03743              Fibroblast            1\n",
       "1         2  #E85F6D         Fibroblast-like            3\n",
       "2         3  #7C2730         Fibroblast-like            2\n",
       "3         4  #F0A118            Intermediate           12\n",
       "4         5  #78A824                Pre-iPSC           13\n",
       "5         6  #A6D854                Pre-iPSC           14\n",
       "6         7  #F01D35         Fibroblast-like            5\n",
       "7         8  #13C4A3                    iPSC           15\n",
       "8         9  #406614  Partially-reprogrammed           10\n",
       "9        10  #D4B81C            Intermediate            9\n",
       "10       11  #006658                    xOSK            8\n",
       "11       12  #CF175A         Fibroblast-like            4\n",
       "12       13  #F7A6C2       Keratinocyte-like            6\n",
       "13       14  #F4D5CD            Intermediate           11\n",
       "14       15  #F0520A                    hOSK            7"
      ]
     },
     "execution_count": 6,
     "metadata": {},
     "output_type": "execute_result"
    }
   ],
   "source": [
    "cluster_config = pd.read_csv(\"../../figures_factory/configs/cluster.tsv\", sep='\\t')\n",
    "cluster_config"
   ]
  },
  {
   "cell_type": "code",
   "execution_count": null,
   "metadata": {},
   "outputs": [],
   "source": []
  },
  {
   "cell_type": "markdown",
   "metadata": {},
   "source": [
    "### Fragment files\n",
    "Omitting the barcode names since they don't contain sample info."
   ]
  },
  {
   "cell_type": "code",
   "execution_count": 9,
   "metadata": {},
   "outputs": [
    {
     "name": "stdout",
     "output_type": "stream",
     "text": [
      "1\n",
      "2\n",
      "3\n",
      "4\n",
      "5\n",
      "6\n",
      "7\n",
      "8\n",
      "9\n",
      "10\n",
      "11\n",
      "12\n",
      "13\n",
      "14\n",
      "15\n"
     ]
    }
   ],
   "source": [
    "for _,x in cluster_config.iterrows():\n",
    "    print(x['cluster'])\n",
    "    new_name = x['description'].lower().replace('-','_')\n",
    "    INFILE = f\"/users/surag/oak/projects/scATAC-reprog/clusters/20210714_n64913/fragments/idx{x['cluster']}.bed.gz\"\n",
    "    OUTFILE = f\"/oak/stanford/groups/akundaje/surag/projects/reprog-package/analysis/scATAC_clusters/fragments/c{x['new_cluster']}_{new_name}.frag.bed.gz\"\n",
    "    os.system(f\"\"\"zcat {INFILE} | grep -v \"chrM\" | sort -k1,1 -k2,2n  | cut -f1-3 | bgzip > {OUTFILE} &\"\"\")"
   ]
  },
  {
   "cell_type": "markdown",
   "metadata": {},
   "source": [
    "### Peaks"
   ]
  },
  {
   "cell_type": "code",
   "execution_count": 10,
   "metadata": {},
   "outputs": [],
   "source": [
    "for _,x in cluster_config.iterrows():\n",
    "    new_name = x['description'].lower().replace('-','_')\n",
    "    os.symlink(f\"/oak/stanford/groups/akundaje/surag/projects/scATAC-reprog/clusters/20210714_n64913/croo/cluster_idx{x['cluster']}/peak/overlap_reproducibility/overlap.optimal_peak.narrowPeak.gz\",\n",
    "               f\"/oak/stanford/groups/akundaje/surag/projects/reprog-package/analysis/scATAC_clusters/peaks/c{x['new_cluster']}_{new_name}.narrowPeak.gz\")"
   ]
  },
  {
   "cell_type": "code",
   "execution_count": null,
   "metadata": {},
   "outputs": [],
   "source": []
  }
 ],
 "metadata": {
  "kernelspec": {
   "display_name": "Python 3",
   "language": "python",
   "name": "python3"
  },
  "language_info": {
   "codemirror_mode": {
    "name": "ipython",
    "version": 3
   },
   "file_extension": ".py",
   "mimetype": "text/x-python",
   "name": "python",
   "nbconvert_exporter": "python",
   "pygments_lexer": "ipython3",
   "version": "3.8.2"
  }
 },
 "nbformat": 4,
 "nbformat_minor": 4
}
