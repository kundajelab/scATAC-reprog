{
 "cells": [
  {
   "cell_type": "markdown",
   "metadata": {},
   "source": [
    "# scRNA \n",
    "\n",
    "- augment seurat object with clusters and other data. Clean up object to remove unnecessary information.\n",
    "- separately store matrices and metadata files for easy access"
   ]
  },
  {
   "cell_type": "code",
   "execution_count": 1,
   "metadata": {},
   "outputs": [],
   "source": [
    "library(Seurat)\n",
    "library(ggplot2)\n",
    "library(Matrix)"
   ]
  },
  {
   "cell_type": "code",
   "execution_count": 2,
   "metadata": {},
   "outputs": [],
   "source": [
    "rna = readRDS(\"../20220606_Multiome_RNA_Seurat/sessions/20220608_n7378/seurat.rds\")"
   ]
  },
  {
   "cell_type": "code",
   "execution_count": 3,
   "metadata": {},
   "outputs": [
    {
     "data": {
      "text/plain": [
       "$RNA\n",
       "Assay data with 31452 features for 7378 cells\n",
       "Top 10 variable features:\n",
       " AL392086.3, LRP1B, MGAT4C, CACNA2D3, AC116634.1, GRID2, ROBO2,\n",
       "LINC00364, NKAIN2, LYPLAL1-DT \n"
      ]
     },
     "metadata": {},
     "output_type": "display_data"
    }
   ],
   "source": [
    "rna@assays"
   ]
  },
  {
   "cell_type": "code",
   "execution_count": 4,
   "metadata": {},
   "outputs": [
    {
     "data": {
      "text/html": [
       "<table>\n",
       "<caption>A data.frame: 6 × 10</caption>\n",
       "<thead>\n",
       "\t<tr><th></th><th scope=col>orig.ident</th><th scope=col>nCount_RNA</th><th scope=col>nFeature_RNA</th><th scope=col>sample</th><th scope=col>qc_pass</th><th scope=col>percent.oskm</th><th scope=col>RNA_snn_res.2</th><th scope=col>seurat_clusters</th><th scope=col>RNA_snn_res.1</th><th scope=col>RNA_snn_res.0.5</th></tr>\n",
       "\t<tr><th></th><th scope=col>&lt;fct&gt;</th><th scope=col>&lt;dbl&gt;</th><th scope=col>&lt;int&gt;</th><th scope=col>&lt;chr&gt;</th><th scope=col>&lt;lgl&gt;</th><th scope=col>&lt;dbl&gt;</th><th scope=col>&lt;fct&gt;</th><th scope=col>&lt;fct&gt;</th><th scope=col>&lt;fct&gt;</th><th scope=col>&lt;fct&gt;</th></tr>\n",
       "</thead>\n",
       "<tbody>\n",
       "\t<tr><th scope=row>AAACAGCCAATCCTGA-1</th><td>scMultiome-reprog</td><td>4971</td><td>2446</td><td>D1M</td><td>TRUE</td><td>0.10058338</td><td>18</td><td>8</td><td>12</td><td>8</td></tr>\n",
       "\t<tr><th scope=row>AAACATGCATAATCCG-1</th><td>scMultiome-reprog</td><td>6874</td><td>3206</td><td>D1M</td><td>TRUE</td><td>0.04364271</td><td>7 </td><td>5</td><td>4 </td><td>5</td></tr>\n",
       "\t<tr><th scope=row>AAACCAACAGGCATGA-1</th><td>scMultiome-reprog</td><td>2320</td><td>1566</td><td>D1M</td><td>TRUE</td><td>0.08620690</td><td>1 </td><td>4</td><td>1 </td><td>4</td></tr>\n",
       "\t<tr><th scope=row>AAACCAACAGGTTATT-1</th><td>scMultiome-reprog</td><td>3927</td><td>2207</td><td>D1M</td><td>TRUE</td><td>0.10185893</td><td>12</td><td>1</td><td>9 </td><td>1</td></tr>\n",
       "\t<tr><th scope=row>AAACCAACATTAGGCC-1</th><td>scMultiome-reprog</td><td>4606</td><td>2540</td><td>D1M</td><td>TRUE</td><td>0.00000000</td><td>7 </td><td>5</td><td>4 </td><td>5</td></tr>\n",
       "\t<tr><th scope=row>AAACCGAAGAATCGCT-1</th><td>scMultiome-reprog</td><td>2529</td><td>1626</td><td>D1M</td><td>TRUE</td><td>0.00000000</td><td>12</td><td>1</td><td>9 </td><td>1</td></tr>\n",
       "</tbody>\n",
       "</table>\n"
      ],
      "text/latex": [
       "A data.frame: 6 × 10\n",
       "\\begin{tabular}{r|llllllllll}\n",
       "  & orig.ident & nCount\\_RNA & nFeature\\_RNA & sample & qc\\_pass & percent.oskm & RNA\\_snn\\_res.2 & seurat\\_clusters & RNA\\_snn\\_res.1 & RNA\\_snn\\_res.0.5\\\\\n",
       "  & <fct> & <dbl> & <int> & <chr> & <lgl> & <dbl> & <fct> & <fct> & <fct> & <fct>\\\\\n",
       "\\hline\n",
       "\tAAACAGCCAATCCTGA-1 & scMultiome-reprog & 4971 & 2446 & D1M & TRUE & 0.10058338 & 18 & 8 & 12 & 8\\\\\n",
       "\tAAACATGCATAATCCG-1 & scMultiome-reprog & 6874 & 3206 & D1M & TRUE & 0.04364271 & 7  & 5 & 4  & 5\\\\\n",
       "\tAAACCAACAGGCATGA-1 & scMultiome-reprog & 2320 & 1566 & D1M & TRUE & 0.08620690 & 1  & 4 & 1  & 4\\\\\n",
       "\tAAACCAACAGGTTATT-1 & scMultiome-reprog & 3927 & 2207 & D1M & TRUE & 0.10185893 & 12 & 1 & 9  & 1\\\\\n",
       "\tAAACCAACATTAGGCC-1 & scMultiome-reprog & 4606 & 2540 & D1M & TRUE & 0.00000000 & 7  & 5 & 4  & 5\\\\\n",
       "\tAAACCGAAGAATCGCT-1 & scMultiome-reprog & 2529 & 1626 & D1M & TRUE & 0.00000000 & 12 & 1 & 9  & 1\\\\\n",
       "\\end{tabular}\n"
      ],
      "text/markdown": [
       "\n",
       "A data.frame: 6 × 10\n",
       "\n",
       "| <!--/--> | orig.ident &lt;fct&gt; | nCount_RNA &lt;dbl&gt; | nFeature_RNA &lt;int&gt; | sample &lt;chr&gt; | qc_pass &lt;lgl&gt; | percent.oskm &lt;dbl&gt; | RNA_snn_res.2 &lt;fct&gt; | seurat_clusters &lt;fct&gt; | RNA_snn_res.1 &lt;fct&gt; | RNA_snn_res.0.5 &lt;fct&gt; |\n",
       "|---|---|---|---|---|---|---|---|---|---|---|\n",
       "| AAACAGCCAATCCTGA-1 | scMultiome-reprog | 4971 | 2446 | D1M | TRUE | 0.10058338 | 18 | 8 | 12 | 8 |\n",
       "| AAACATGCATAATCCG-1 | scMultiome-reprog | 6874 | 3206 | D1M | TRUE | 0.04364271 | 7  | 5 | 4  | 5 |\n",
       "| AAACCAACAGGCATGA-1 | scMultiome-reprog | 2320 | 1566 | D1M | TRUE | 0.08620690 | 1  | 4 | 1  | 4 |\n",
       "| AAACCAACAGGTTATT-1 | scMultiome-reprog | 3927 | 2207 | D1M | TRUE | 0.10185893 | 12 | 1 | 9  | 1 |\n",
       "| AAACCAACATTAGGCC-1 | scMultiome-reprog | 4606 | 2540 | D1M | TRUE | 0.00000000 | 7  | 5 | 4  | 5 |\n",
       "| AAACCGAAGAATCGCT-1 | scMultiome-reprog | 2529 | 1626 | D1M | TRUE | 0.00000000 | 12 | 1 | 9  | 1 |\n",
       "\n"
      ],
      "text/plain": [
       "                   orig.ident        nCount_RNA nFeature_RNA sample qc_pass\n",
       "AAACAGCCAATCCTGA-1 scMultiome-reprog 4971       2446         D1M    TRUE   \n",
       "AAACATGCATAATCCG-1 scMultiome-reprog 6874       3206         D1M    TRUE   \n",
       "AAACCAACAGGCATGA-1 scMultiome-reprog 2320       1566         D1M    TRUE   \n",
       "AAACCAACAGGTTATT-1 scMultiome-reprog 3927       2207         D1M    TRUE   \n",
       "AAACCAACATTAGGCC-1 scMultiome-reprog 4606       2540         D1M    TRUE   \n",
       "AAACCGAAGAATCGCT-1 scMultiome-reprog 2529       1626         D1M    TRUE   \n",
       "                   percent.oskm RNA_snn_res.2 seurat_clusters RNA_snn_res.1\n",
       "AAACAGCCAATCCTGA-1 0.10058338   18            8               12           \n",
       "AAACATGCATAATCCG-1 0.04364271   7             5               4            \n",
       "AAACCAACAGGCATGA-1 0.08620690   1             4               1            \n",
       "AAACCAACAGGTTATT-1 0.10185893   12            1               9            \n",
       "AAACCAACATTAGGCC-1 0.00000000   7             5               4            \n",
       "AAACCGAAGAATCGCT-1 0.00000000   12            1               9            \n",
       "                   RNA_snn_res.0.5\n",
       "AAACAGCCAATCCTGA-1 8              \n",
       "AAACATGCATAATCCG-1 5              \n",
       "AAACCAACAGGCATGA-1 4              \n",
       "AAACCAACAGGTTATT-1 1              \n",
       "AAACCAACATTAGGCC-1 5              \n",
       "AAACCGAAGAATCGCT-1 1              "
      ]
     },
     "metadata": {},
     "output_type": "display_data"
    }
   ],
   "source": [
    "head(rna@meta.data)"
   ]
  },
  {
   "cell_type": "code",
   "execution_count": 5,
   "metadata": {},
   "outputs": [],
   "source": [
    "# remove stuff not used\n",
    "rna@meta.data$RNA_snn_res.0.5 = NULL\n",
    "rna@meta.data$RNA_snn_res.1 = NULL\n",
    "rna@meta.data$RNA_snn_res.2 = NULL\n",
    "rna@meta.data$seurat_clusters = NULL\n",
    "rna@meta.data$selected = NULL\n",
    "rna@meta.data$qc_pass = NULL"
   ]
  },
  {
   "cell_type": "code",
   "execution_count": 6,
   "metadata": {},
   "outputs": [
    {
     "data": {
      "text/html": [
       "<table>\n",
       "<caption>A data.frame: 6 × 5</caption>\n",
       "<thead>\n",
       "\t<tr><th></th><th scope=col>orig.ident</th><th scope=col>nCount_RNA</th><th scope=col>nFeature_RNA</th><th scope=col>sample</th><th scope=col>percent.oskm</th></tr>\n",
       "\t<tr><th></th><th scope=col>&lt;fct&gt;</th><th scope=col>&lt;dbl&gt;</th><th scope=col>&lt;int&gt;</th><th scope=col>&lt;chr&gt;</th><th scope=col>&lt;dbl&gt;</th></tr>\n",
       "</thead>\n",
       "<tbody>\n",
       "\t<tr><th scope=row>AAACAGCCAATCCTGA-1</th><td>scMultiome-reprog</td><td>4971</td><td>2446</td><td>D1M</td><td>0.10058338</td></tr>\n",
       "\t<tr><th scope=row>AAACATGCATAATCCG-1</th><td>scMultiome-reprog</td><td>6874</td><td>3206</td><td>D1M</td><td>0.04364271</td></tr>\n",
       "\t<tr><th scope=row>AAACCAACAGGCATGA-1</th><td>scMultiome-reprog</td><td>2320</td><td>1566</td><td>D1M</td><td>0.08620690</td></tr>\n",
       "\t<tr><th scope=row>AAACCAACAGGTTATT-1</th><td>scMultiome-reprog</td><td>3927</td><td>2207</td><td>D1M</td><td>0.10185893</td></tr>\n",
       "\t<tr><th scope=row>AAACCAACATTAGGCC-1</th><td>scMultiome-reprog</td><td>4606</td><td>2540</td><td>D1M</td><td>0.00000000</td></tr>\n",
       "\t<tr><th scope=row>AAACCGAAGAATCGCT-1</th><td>scMultiome-reprog</td><td>2529</td><td>1626</td><td>D1M</td><td>0.00000000</td></tr>\n",
       "</tbody>\n",
       "</table>\n"
      ],
      "text/latex": [
       "A data.frame: 6 × 5\n",
       "\\begin{tabular}{r|lllll}\n",
       "  & orig.ident & nCount\\_RNA & nFeature\\_RNA & sample & percent.oskm\\\\\n",
       "  & <fct> & <dbl> & <int> & <chr> & <dbl>\\\\\n",
       "\\hline\n",
       "\tAAACAGCCAATCCTGA-1 & scMultiome-reprog & 4971 & 2446 & D1M & 0.10058338\\\\\n",
       "\tAAACATGCATAATCCG-1 & scMultiome-reprog & 6874 & 3206 & D1M & 0.04364271\\\\\n",
       "\tAAACCAACAGGCATGA-1 & scMultiome-reprog & 2320 & 1566 & D1M & 0.08620690\\\\\n",
       "\tAAACCAACAGGTTATT-1 & scMultiome-reprog & 3927 & 2207 & D1M & 0.10185893\\\\\n",
       "\tAAACCAACATTAGGCC-1 & scMultiome-reprog & 4606 & 2540 & D1M & 0.00000000\\\\\n",
       "\tAAACCGAAGAATCGCT-1 & scMultiome-reprog & 2529 & 1626 & D1M & 0.00000000\\\\\n",
       "\\end{tabular}\n"
      ],
      "text/markdown": [
       "\n",
       "A data.frame: 6 × 5\n",
       "\n",
       "| <!--/--> | orig.ident &lt;fct&gt; | nCount_RNA &lt;dbl&gt; | nFeature_RNA &lt;int&gt; | sample &lt;chr&gt; | percent.oskm &lt;dbl&gt; |\n",
       "|---|---|---|---|---|---|\n",
       "| AAACAGCCAATCCTGA-1 | scMultiome-reprog | 4971 | 2446 | D1M | 0.10058338 |\n",
       "| AAACATGCATAATCCG-1 | scMultiome-reprog | 6874 | 3206 | D1M | 0.04364271 |\n",
       "| AAACCAACAGGCATGA-1 | scMultiome-reprog | 2320 | 1566 | D1M | 0.08620690 |\n",
       "| AAACCAACAGGTTATT-1 | scMultiome-reprog | 3927 | 2207 | D1M | 0.10185893 |\n",
       "| AAACCAACATTAGGCC-1 | scMultiome-reprog | 4606 | 2540 | D1M | 0.00000000 |\n",
       "| AAACCGAAGAATCGCT-1 | scMultiome-reprog | 2529 | 1626 | D1M | 0.00000000 |\n",
       "\n"
      ],
      "text/plain": [
       "                   orig.ident        nCount_RNA nFeature_RNA sample\n",
       "AAACAGCCAATCCTGA-1 scMultiome-reprog 4971       2446         D1M   \n",
       "AAACATGCATAATCCG-1 scMultiome-reprog 6874       3206         D1M   \n",
       "AAACCAACAGGCATGA-1 scMultiome-reprog 2320       1566         D1M   \n",
       "AAACCAACAGGTTATT-1 scMultiome-reprog 3927       2207         D1M   \n",
       "AAACCAACATTAGGCC-1 scMultiome-reprog 4606       2540         D1M   \n",
       "AAACCGAAGAATCGCT-1 scMultiome-reprog 2529       1626         D1M   \n",
       "                   percent.oskm\n",
       "AAACAGCCAATCCTGA-1 0.10058338  \n",
       "AAACATGCATAATCCG-1 0.04364271  \n",
       "AAACCAACAGGCATGA-1 0.08620690  \n",
       "AAACCAACAGGTTATT-1 0.10185893  \n",
       "AAACCAACATTAGGCC-1 0.00000000  \n",
       "AAACCGAAGAATCGCT-1 0.00000000  "
      ]
     },
     "metadata": {},
     "output_type": "display_data"
    }
   ],
   "source": [
    "head(rna@meta.data)"
   ]
  },
  {
   "cell_type": "code",
   "execution_count": null,
   "metadata": {},
   "outputs": [],
   "source": []
  },
  {
   "cell_type": "code",
   "execution_count": 10,
   "metadata": {},
   "outputs": [],
   "source": [
    "saveRDS(rna, \"/oak/stanford/groups/akundaje/surag/projects/reprog-package/analysis/snMultiome/RNA/seurat.rds\")"
   ]
  },
  {
   "cell_type": "code",
   "execution_count": null,
   "metadata": {},
   "outputs": [],
   "source": []
  },
  {
   "cell_type": "markdown",
   "metadata": {},
   "source": [
    "Write out main info in simpler formats -- counts matrix, gene list and metadata. "
   ]
  },
  {
   "cell_type": "code",
   "execution_count": null,
   "metadata": {},
   "outputs": [],
   "source": []
  },
  {
   "cell_type": "code",
   "execution_count": 11,
   "metadata": {},
   "outputs": [
    {
     "data": {
      "text/plain": [
       "NULL"
      ]
     },
     "metadata": {},
     "output_type": "display_data"
    }
   ],
   "source": [
    "writeMM(rna@assays$RNA@counts, \n",
    "        file=\"/oak/stanford/groups/akundaje/surag/projects/reprog-package/analysis/snMultiome/RNA/gene_x_cell.mtx\")"
   ]
  },
  {
   "cell_type": "code",
   "execution_count": 12,
   "metadata": {},
   "outputs": [],
   "source": [
    "write.table(rownames(rna@assays$RNA@counts), \n",
    "            file=\"/oak/stanford/groups/akundaje/surag/projects/reprog-package/analysis/snMultiome/RNA/genes.txt\",\n",
    "            col.names=F,\n",
    "            row.names=F, quote=F)"
   ]
  },
  {
   "cell_type": "code",
   "execution_count": 13,
   "metadata": {},
   "outputs": [
    {
     "data": {
      "text/html": [
       "<table>\n",
       "<caption>A data.frame: 6 × 5</caption>\n",
       "<thead>\n",
       "\t<tr><th></th><th scope=col>nCount_RNA</th><th scope=col>nFeature_RNA</th><th scope=col>sample</th><th scope=col>percent.oskm</th><th scope=col>barcode_sample</th></tr>\n",
       "\t<tr><th></th><th scope=col>&lt;dbl&gt;</th><th scope=col>&lt;int&gt;</th><th scope=col>&lt;chr&gt;</th><th scope=col>&lt;dbl&gt;</th><th scope=col>&lt;chr&gt;</th></tr>\n",
       "</thead>\n",
       "<tbody>\n",
       "\t<tr><th scope=row>1</th><td>4971</td><td>2446</td><td>D1M</td><td>0.10058338</td><td>AAACAGCCAATCCTGA-1</td></tr>\n",
       "\t<tr><th scope=row>2</th><td>6874</td><td>3206</td><td>D1M</td><td>0.04364271</td><td>AAACATGCATAATCCG-1</td></tr>\n",
       "\t<tr><th scope=row>3</th><td>2320</td><td>1566</td><td>D1M</td><td>0.08620690</td><td>AAACCAACAGGCATGA-1</td></tr>\n",
       "\t<tr><th scope=row>4</th><td>3927</td><td>2207</td><td>D1M</td><td>0.10185893</td><td>AAACCAACAGGTTATT-1</td></tr>\n",
       "\t<tr><th scope=row>5</th><td>4606</td><td>2540</td><td>D1M</td><td>0.00000000</td><td>AAACCAACATTAGGCC-1</td></tr>\n",
       "\t<tr><th scope=row>6</th><td>2529</td><td>1626</td><td>D1M</td><td>0.00000000</td><td>AAACCGAAGAATCGCT-1</td></tr>\n",
       "</tbody>\n",
       "</table>\n"
      ],
      "text/latex": [
       "A data.frame: 6 × 5\n",
       "\\begin{tabular}{r|lllll}\n",
       "  & nCount\\_RNA & nFeature\\_RNA & sample & percent.oskm & barcode\\_sample\\\\\n",
       "  & <dbl> & <int> & <chr> & <dbl> & <chr>\\\\\n",
       "\\hline\n",
       "\t1 & 4971 & 2446 & D1M & 0.10058338 & AAACAGCCAATCCTGA-1\\\\\n",
       "\t2 & 6874 & 3206 & D1M & 0.04364271 & AAACATGCATAATCCG-1\\\\\n",
       "\t3 & 2320 & 1566 & D1M & 0.08620690 & AAACCAACAGGCATGA-1\\\\\n",
       "\t4 & 3927 & 2207 & D1M & 0.10185893 & AAACCAACAGGTTATT-1\\\\\n",
       "\t5 & 4606 & 2540 & D1M & 0.00000000 & AAACCAACATTAGGCC-1\\\\\n",
       "\t6 & 2529 & 1626 & D1M & 0.00000000 & AAACCGAAGAATCGCT-1\\\\\n",
       "\\end{tabular}\n"
      ],
      "text/markdown": [
       "\n",
       "A data.frame: 6 × 5\n",
       "\n",
       "| <!--/--> | nCount_RNA &lt;dbl&gt; | nFeature_RNA &lt;int&gt; | sample &lt;chr&gt; | percent.oskm &lt;dbl&gt; | barcode_sample &lt;chr&gt; |\n",
       "|---|---|---|---|---|---|\n",
       "| 1 | 4971 | 2446 | D1M | 0.10058338 | AAACAGCCAATCCTGA-1 |\n",
       "| 2 | 6874 | 3206 | D1M | 0.04364271 | AAACATGCATAATCCG-1 |\n",
       "| 3 | 2320 | 1566 | D1M | 0.08620690 | AAACCAACAGGCATGA-1 |\n",
       "| 4 | 3927 | 2207 | D1M | 0.10185893 | AAACCAACAGGTTATT-1 |\n",
       "| 5 | 4606 | 2540 | D1M | 0.00000000 | AAACCAACATTAGGCC-1 |\n",
       "| 6 | 2529 | 1626 | D1M | 0.00000000 | AAACCGAAGAATCGCT-1 |\n",
       "\n"
      ],
      "text/plain": [
       "  nCount_RNA nFeature_RNA sample percent.oskm barcode_sample    \n",
       "1 4971       2446         D1M    0.10058338   AAACAGCCAATCCTGA-1\n",
       "2 6874       3206         D1M    0.04364271   AAACATGCATAATCCG-1\n",
       "3 2320       1566         D1M    0.08620690   AAACCAACAGGCATGA-1\n",
       "4 3927       2207         D1M    0.10185893   AAACCAACAGGTTATT-1\n",
       "5 4606       2540         D1M    0.00000000   AAACCAACATTAGGCC-1\n",
       "6 2529       1626         D1M    0.00000000   AAACCGAAGAATCGCT-1"
      ]
     },
     "metadata": {},
     "output_type": "display_data"
    }
   ],
   "source": [
    "metadata = rna@meta.data\n",
    "metadata$barcode_sample = rownames(metadata)\n",
    "metadata$orig.ident = NULL\n",
    "rownames(metadata) = NULL\n",
    "head(metadata)"
   ]
  },
  {
   "cell_type": "code",
   "execution_count": 14,
   "metadata": {},
   "outputs": [],
   "source": [
    "write.table(metadata, \n",
    "            file=\"/oak/stanford/groups/akundaje/surag/projects/reprog-package/analysis/snMultiome/RNA/cells.tsv\",\n",
    "            sep='\\t',\n",
    "            col.names=T,\n",
    "            row.names=F, quote=F)"
   ]
  },
  {
   "cell_type": "code",
   "execution_count": null,
   "metadata": {},
   "outputs": [],
   "source": []
  }
 ],
 "metadata": {
  "kernelspec": {
   "display_name": "R",
   "language": "R",
   "name": "ir"
  },
  "language_info": {
   "codemirror_mode": "r",
   "file_extension": ".r",
   "mimetype": "text/x-r-source",
   "name": "R",
   "pygments_lexer": "r",
   "version": "3.6.3"
  }
 },
 "nbformat": 4,
 "nbformat_minor": 4
}
