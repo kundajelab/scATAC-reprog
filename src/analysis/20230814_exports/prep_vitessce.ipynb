{
 "cells": [
  {
   "cell_type": "markdown",
   "id": "39e80441-c385-4100-b9ca-57115c0c9409",
   "metadata": {},
   "source": [
    "# Vitessce Prep\n",
    "\n",
    "Prep scRNA object to visualize using Vitessce."
   ]
  },
  {
   "cell_type": "code",
   "execution_count": 24,
   "id": "72c7f7f9-1253-43d6-bd9f-75fc6d1cb596",
   "metadata": {},
   "outputs": [],
   "source": [
    "import scanpy\n",
    "import pandas as pd\n",
    "import numpy as np"
   ]
  },
  {
   "cell_type": "code",
   "execution_count": 6,
   "id": "6d5f3b8d-e5bd-435a-83f5-e65db7ba9c7d",
   "metadata": {},
   "outputs": [
    {
     "data": {
      "text/html": [
       "<div>\n",
       "<style scoped>\n",
       "    .dataframe tbody tr th:only-of-type {\n",
       "        vertical-align: middle;\n",
       "    }\n",
       "\n",
       "    .dataframe tbody tr th {\n",
       "        vertical-align: top;\n",
       "    }\n",
       "\n",
       "    .dataframe thead th {\n",
       "        text-align: right;\n",
       "    }\n",
       "</style>\n",
       "<table border=\"1\" class=\"dataframe\">\n",
       "  <thead>\n",
       "    <tr style=\"text-align: right;\">\n",
       "      <th></th>\n",
       "      <th>cluster</th>\n",
       "      <th>colour</th>\n",
       "      <th>description</th>\n",
       "      <th>new_cluster</th>\n",
       "    </tr>\n",
       "  </thead>\n",
       "  <tbody>\n",
       "    <tr>\n",
       "      <th>0</th>\n",
       "      <td>1</td>\n",
       "      <td>#B03743</td>\n",
       "      <td>Fibroblast</td>\n",
       "      <td>1</td>\n",
       "    </tr>\n",
       "    <tr>\n",
       "      <th>1</th>\n",
       "      <td>2</td>\n",
       "      <td>#E85F6D</td>\n",
       "      <td>Fibroblast-like</td>\n",
       "      <td>3</td>\n",
       "    </tr>\n",
       "    <tr>\n",
       "      <th>2</th>\n",
       "      <td>3</td>\n",
       "      <td>#7C2730</td>\n",
       "      <td>Fibroblast-like</td>\n",
       "      <td>2</td>\n",
       "    </tr>\n",
       "    <tr>\n",
       "      <th>3</th>\n",
       "      <td>4</td>\n",
       "      <td>#F0A118</td>\n",
       "      <td>Intermediate</td>\n",
       "      <td>12</td>\n",
       "    </tr>\n",
       "    <tr>\n",
       "      <th>4</th>\n",
       "      <td>5</td>\n",
       "      <td>#78A824</td>\n",
       "      <td>Pre-iPSC</td>\n",
       "      <td>13</td>\n",
       "    </tr>\n",
       "    <tr>\n",
       "      <th>5</th>\n",
       "      <td>6</td>\n",
       "      <td>#A6D854</td>\n",
       "      <td>Pre-iPSC</td>\n",
       "      <td>14</td>\n",
       "    </tr>\n",
       "    <tr>\n",
       "      <th>6</th>\n",
       "      <td>7</td>\n",
       "      <td>#F01D35</td>\n",
       "      <td>Fibroblast-like</td>\n",
       "      <td>5</td>\n",
       "    </tr>\n",
       "    <tr>\n",
       "      <th>7</th>\n",
       "      <td>8</td>\n",
       "      <td>#13C4A3</td>\n",
       "      <td>iPSC</td>\n",
       "      <td>15</td>\n",
       "    </tr>\n",
       "    <tr>\n",
       "      <th>8</th>\n",
       "      <td>9</td>\n",
       "      <td>#406614</td>\n",
       "      <td>Partially-reprogrammed</td>\n",
       "      <td>10</td>\n",
       "    </tr>\n",
       "    <tr>\n",
       "      <th>9</th>\n",
       "      <td>10</td>\n",
       "      <td>#D4B81C</td>\n",
       "      <td>Intermediate</td>\n",
       "      <td>9</td>\n",
       "    </tr>\n",
       "    <tr>\n",
       "      <th>10</th>\n",
       "      <td>11</td>\n",
       "      <td>#006658</td>\n",
       "      <td>xOSK</td>\n",
       "      <td>8</td>\n",
       "    </tr>\n",
       "    <tr>\n",
       "      <th>11</th>\n",
       "      <td>12</td>\n",
       "      <td>#CF175A</td>\n",
       "      <td>Fibroblast-like</td>\n",
       "      <td>4</td>\n",
       "    </tr>\n",
       "    <tr>\n",
       "      <th>12</th>\n",
       "      <td>13</td>\n",
       "      <td>#F7A6C2</td>\n",
       "      <td>Keratinocyte-like</td>\n",
       "      <td>6</td>\n",
       "    </tr>\n",
       "    <tr>\n",
       "      <th>13</th>\n",
       "      <td>14</td>\n",
       "      <td>#F4D5CD</td>\n",
       "      <td>Intermediate</td>\n",
       "      <td>11</td>\n",
       "    </tr>\n",
       "    <tr>\n",
       "      <th>14</th>\n",
       "      <td>15</td>\n",
       "      <td>#F0520A</td>\n",
       "      <td>hOSK</td>\n",
       "      <td>7</td>\n",
       "    </tr>\n",
       "  </tbody>\n",
       "</table>\n",
       "</div>"
      ],
      "text/plain": [
       "    cluster   colour             description  new_cluster\n",
       "0         1  #B03743              Fibroblast            1\n",
       "1         2  #E85F6D         Fibroblast-like            3\n",
       "2         3  #7C2730         Fibroblast-like            2\n",
       "3         4  #F0A118            Intermediate           12\n",
       "4         5  #78A824                Pre-iPSC           13\n",
       "5         6  #A6D854                Pre-iPSC           14\n",
       "6         7  #F01D35         Fibroblast-like            5\n",
       "7         8  #13C4A3                    iPSC           15\n",
       "8         9  #406614  Partially-reprogrammed           10\n",
       "9        10  #D4B81C            Intermediate            9\n",
       "10       11  #006658                    xOSK            8\n",
       "11       12  #CF175A         Fibroblast-like            4\n",
       "12       13  #F7A6C2       Keratinocyte-like            6\n",
       "13       14  #F4D5CD            Intermediate           11\n",
       "14       15  #F0520A                    hOSK            7"
      ]
     },
     "execution_count": 6,
     "metadata": {},
     "output_type": "execute_result"
    }
   ],
   "source": [
    "cluster_config = pd.read_csv(\"../../figures_factory/configs/cluster.tsv\",\n",
    "                             sep='\\t')\n",
    "cluster_config"
   ]
  },
  {
   "cell_type": "code",
   "execution_count": 17,
   "id": "5b6fbf2e-73e8-4d9b-b4c4-fd43fc6bb8c7",
   "metadata": {},
   "outputs": [
    {
     "data": {
      "text/html": [
       "<div>\n",
       "<style scoped>\n",
       "    .dataframe tbody tr th:only-of-type {\n",
       "        vertical-align: middle;\n",
       "    }\n",
       "\n",
       "    .dataframe tbody tr th {\n",
       "        vertical-align: top;\n",
       "    }\n",
       "\n",
       "    .dataframe thead th {\n",
       "        text-align: right;\n",
       "    }\n",
       "</style>\n",
       "<table border=\"1\" class=\"dataframe\">\n",
       "  <thead>\n",
       "    <tr style=\"text-align: right;\">\n",
       "      <th></th>\n",
       "      <th>barcode</th>\n",
       "      <th>sample</th>\n",
       "      <th>atac_cluster</th>\n",
       "      <th>new_cluster</th>\n",
       "    </tr>\n",
       "  </thead>\n",
       "  <tbody>\n",
       "    <tr>\n",
       "      <th>0</th>\n",
       "      <td>AAACCCAAGAGTGACC-1</td>\n",
       "      <td>D0</td>\n",
       "      <td>1</td>\n",
       "      <td>C1_Fibroblast</td>\n",
       "    </tr>\n",
       "    <tr>\n",
       "      <th>1</th>\n",
       "      <td>AAACCCAAGTGCCAGA-1</td>\n",
       "      <td>D0</td>\n",
       "      <td>1</td>\n",
       "      <td>C1_Fibroblast</td>\n",
       "    </tr>\n",
       "    <tr>\n",
       "      <th>2</th>\n",
       "      <td>AAACCCACACCATTCC-1</td>\n",
       "      <td>D0</td>\n",
       "      <td>1</td>\n",
       "      <td>C1_Fibroblast</td>\n",
       "    </tr>\n",
       "    <tr>\n",
       "      <th>3</th>\n",
       "      <td>AAACCCACACGCGTCA-1</td>\n",
       "      <td>D0</td>\n",
       "      <td>1</td>\n",
       "      <td>C1_Fibroblast</td>\n",
       "    </tr>\n",
       "    <tr>\n",
       "      <th>4</th>\n",
       "      <td>AAACCCAGTCCATAGT-1</td>\n",
       "      <td>D0</td>\n",
       "      <td>1</td>\n",
       "      <td>C1_Fibroblast</td>\n",
       "    </tr>\n",
       "  </tbody>\n",
       "</table>\n",
       "</div>"
      ],
      "text/plain": [
       "              barcode sample  atac_cluster    new_cluster\n",
       "0  AAACCCAAGAGTGACC-1     D0             1  C1_Fibroblast\n",
       "1  AAACCCAAGTGCCAGA-1     D0             1  C1_Fibroblast\n",
       "2  AAACCCACACCATTCC-1     D0             1  C1_Fibroblast\n",
       "3  AAACCCACACGCGTCA-1     D0             1  C1_Fibroblast\n",
       "4  AAACCCAGTCCATAGT-1     D0             1  C1_Fibroblast"
      ]
     },
     "execution_count": 17,
     "metadata": {},
     "output_type": "execute_result"
    }
   ],
   "source": [
    "atac_rna_label = pd.read_csv(\"../20200828_RNA_Seurat/sessions/20210725_n59378/atac.20210717_n62599.cluster.transfer.tsv\",\n",
    "                           sep='\\t')\n",
    "# rownames(atac.rna.\n",
    "atac_rna_label[\"new_cluster\"] = atac_rna_label[\"atac_cluster\"].transform(lambda x: \"C\" + str(x) + \"_\" + cluster_config.iloc[x-1][\"description\"])\n",
    "\n",
    "atac_rna_label.head()"
   ]
  },
  {
   "cell_type": "code",
   "execution_count": 2,
   "id": "0fa6b5b6-2627-4f51-95ff-a236a16f0c33",
   "metadata": {},
   "outputs": [],
   "source": [
    "rna = scanpy.read_h5ad(\"../20200828_RNA_Seurat/sessions/20210725_n59378/seurat.h5ad\")"
   ]
  },
  {
   "cell_type": "code",
   "execution_count": 3,
   "id": "339ad43d-d9fc-4307-93ef-c77398c27cbf",
   "metadata": {},
   "outputs": [
    {
     "data": {
      "text/plain": [
       "AnnData object with n_obs × n_vars = 59378 × 29165\n",
       "    obs: 'nCount_RNA', 'nFeature_RNA', 'sample', 'percent.mt', 'selected', 'percent.oskm', 'RNA_snn_res.1.5', 'seurat_clusters', 'RNA_snn_res.2'\n",
       "    var: 'name'\n",
       "    obsm: 'X_pca', 'X_umap'"
      ]
     },
     "execution_count": 3,
     "metadata": {},
     "output_type": "execute_result"
    }
   ],
   "source": [
    "rna"
   ]
  },
  {
   "cell_type": "code",
   "execution_count": 25,
   "id": "be11253e-61b5-43ea-9a8d-2f9946f9d50e",
   "metadata": {},
   "outputs": [
    {
     "data": {
      "text/plain": [
       "True"
      ]
     },
     "execution_count": 25,
     "metadata": {},
     "output_type": "execute_result"
    }
   ],
   "source": [
    "np.all(rna.obs.index == atac_rna_label['barcode'])"
   ]
  },
  {
   "cell_type": "code",
   "execution_count": 31,
   "id": "05b63f7c-7b43-4e40-b422-e7bc3d94b99e",
   "metadata": {},
   "outputs": [],
   "source": [
    "rna.obs[\"cluster\"] = atac_rna_label['new_cluster'].values"
   ]
  },
  {
   "cell_type": "code",
   "execution_count": 32,
   "id": "cc23ee6f-e64d-449c-935e-61d0d88864eb",
   "metadata": {},
   "outputs": [
    {
     "data": {
      "text/html": [
       "<div>\n",
       "<style scoped>\n",
       "    .dataframe tbody tr th:only-of-type {\n",
       "        vertical-align: middle;\n",
       "    }\n",
       "\n",
       "    .dataframe tbody tr th {\n",
       "        vertical-align: top;\n",
       "    }\n",
       "\n",
       "    .dataframe thead th {\n",
       "        text-align: right;\n",
       "    }\n",
       "</style>\n",
       "<table border=\"1\" class=\"dataframe\">\n",
       "  <thead>\n",
       "    <tr style=\"text-align: right;\">\n",
       "      <th></th>\n",
       "      <th>nCount_RNA</th>\n",
       "      <th>nFeature_RNA</th>\n",
       "      <th>sample</th>\n",
       "      <th>percent.mt</th>\n",
       "      <th>selected</th>\n",
       "      <th>percent.oskm</th>\n",
       "      <th>RNA_snn_res.1.5</th>\n",
       "      <th>seurat_clusters</th>\n",
       "      <th>RNA_snn_res.2</th>\n",
       "      <th>cluster</th>\n",
       "    </tr>\n",
       "  </thead>\n",
       "  <tbody>\n",
       "    <tr>\n",
       "      <th>AAACCCAAGAGTGACC-1</th>\n",
       "      <td>13707.0</td>\n",
       "      <td>3472</td>\n",
       "      <td>D0</td>\n",
       "      <td>4.238710</td>\n",
       "      <td>0.0</td>\n",
       "      <td>0.007296</td>\n",
       "      <td>6</td>\n",
       "      <td>13</td>\n",
       "      <td>13</td>\n",
       "      <td>C1_Fibroblast</td>\n",
       "    </tr>\n",
       "    <tr>\n",
       "      <th>AAACCCAAGTGCCAGA-1</th>\n",
       "      <td>12326.0</td>\n",
       "      <td>3497</td>\n",
       "      <td>D0</td>\n",
       "      <td>5.719617</td>\n",
       "      <td>1.0</td>\n",
       "      <td>0.016226</td>\n",
       "      <td>6</td>\n",
       "      <td>13</td>\n",
       "      <td>13</td>\n",
       "      <td>C1_Fibroblast</td>\n",
       "    </tr>\n",
       "    <tr>\n",
       "      <th>AAACCCACACCATTCC-1</th>\n",
       "      <td>14442.0</td>\n",
       "      <td>3996</td>\n",
       "      <td>D0</td>\n",
       "      <td>4.216867</td>\n",
       "      <td>0.0</td>\n",
       "      <td>0.013848</td>\n",
       "      <td>6</td>\n",
       "      <td>32</td>\n",
       "      <td>32</td>\n",
       "      <td>C1_Fibroblast</td>\n",
       "    </tr>\n",
       "    <tr>\n",
       "      <th>AAACCCACACGCGTCA-1</th>\n",
       "      <td>8813.0</td>\n",
       "      <td>2793</td>\n",
       "      <td>D0</td>\n",
       "      <td>4.788381</td>\n",
       "      <td>0.0</td>\n",
       "      <td>0.011347</td>\n",
       "      <td>0</td>\n",
       "      <td>2</td>\n",
       "      <td>2</td>\n",
       "      <td>C1_Fibroblast</td>\n",
       "    </tr>\n",
       "    <tr>\n",
       "      <th>AAACCCAGTCCATAGT-1</th>\n",
       "      <td>12115.0</td>\n",
       "      <td>3263</td>\n",
       "      <td>D0</td>\n",
       "      <td>6.009080</td>\n",
       "      <td>0.0</td>\n",
       "      <td>0.000000</td>\n",
       "      <td>0</td>\n",
       "      <td>2</td>\n",
       "      <td>2</td>\n",
       "      <td>C1_Fibroblast</td>\n",
       "    </tr>\n",
       "  </tbody>\n",
       "</table>\n",
       "</div>"
      ],
      "text/plain": [
       "                    nCount_RNA  nFeature_RNA sample  percent.mt  selected  \\\n",
       "AAACCCAAGAGTGACC-1     13707.0          3472     D0    4.238710       0.0   \n",
       "AAACCCAAGTGCCAGA-1     12326.0          3497     D0    5.719617       1.0   \n",
       "AAACCCACACCATTCC-1     14442.0          3996     D0    4.216867       0.0   \n",
       "AAACCCACACGCGTCA-1      8813.0          2793     D0    4.788381       0.0   \n",
       "AAACCCAGTCCATAGT-1     12115.0          3263     D0    6.009080       0.0   \n",
       "\n",
       "                    percent.oskm RNA_snn_res.1.5 seurat_clusters  \\\n",
       "AAACCCAAGAGTGACC-1      0.007296               6              13   \n",
       "AAACCCAAGTGCCAGA-1      0.016226               6              13   \n",
       "AAACCCACACCATTCC-1      0.013848               6              32   \n",
       "AAACCCACACGCGTCA-1      0.011347               0               2   \n",
       "AAACCCAGTCCATAGT-1      0.000000               0               2   \n",
       "\n",
       "                   RNA_snn_res.2        cluster  \n",
       "AAACCCAAGAGTGACC-1            13  C1_Fibroblast  \n",
       "AAACCCAAGTGCCAGA-1            13  C1_Fibroblast  \n",
       "AAACCCACACCATTCC-1            32  C1_Fibroblast  \n",
       "AAACCCACACGCGTCA-1             2  C1_Fibroblast  \n",
       "AAACCCAGTCCATAGT-1             2  C1_Fibroblast  "
      ]
     },
     "execution_count": 32,
     "metadata": {},
     "output_type": "execute_result"
    }
   ],
   "source": [
    "rna.obs.head()"
   ]
  },
  {
   "cell_type": "markdown",
   "id": "6cb62263-7b88-4933-b14c-855d4a4fa734",
   "metadata": {},
   "source": [
    "### Add endo exo OSKM quants"
   ]
  },
  {
   "cell_type": "code",
   "execution_count": 48,
   "id": "ed5a9c44-93ee-4d9a-8da5-72c980a8d0ec",
   "metadata": {},
   "outputs": [],
   "source": [
    "import scipy.sparse"
   ]
  },
  {
   "cell_type": "code",
   "execution_count": 38,
   "id": "90892c86-3851-4017-a024-d8642631c387",
   "metadata": {
    "scrolled": true
   },
   "outputs": [
    {
     "data": {
      "text/html": [
       "<div>\n",
       "<style scoped>\n",
       "    .dataframe tbody tr th:only-of-type {\n",
       "        vertical-align: middle;\n",
       "    }\n",
       "\n",
       "    .dataframe tbody tr th {\n",
       "        vertical-align: top;\n",
       "    }\n",
       "\n",
       "    .dataframe thead th {\n",
       "        text-align: right;\n",
       "    }\n",
       "</style>\n",
       "<table border=\"1\" class=\"dataframe\">\n",
       "  <thead>\n",
       "    <tr style=\"text-align: right;\">\n",
       "      <th></th>\n",
       "      <th>POU5F1_endo_cts</th>\n",
       "      <th>POU5F1_endo_norm</th>\n",
       "      <th>POU5F1_exo_cts</th>\n",
       "      <th>POU5F1_exo_norm</th>\n",
       "      <th>SOX2_endo_cts</th>\n",
       "      <th>SOX2_endo_norm</th>\n",
       "      <th>SOX2_exo_cts</th>\n",
       "      <th>SOX2_exo_norm</th>\n",
       "      <th>KLF4_endo_cts</th>\n",
       "      <th>KLF4_endo_norm</th>\n",
       "      <th>KLF4_exo_cts</th>\n",
       "      <th>KLF4_exo_norm</th>\n",
       "      <th>MYC_endo_cts</th>\n",
       "      <th>MYC_endo_norm</th>\n",
       "      <th>MYC_exo_cts</th>\n",
       "      <th>MYC_exo_norm</th>\n",
       "    </tr>\n",
       "  </thead>\n",
       "  <tbody>\n",
       "    <tr>\n",
       "      <th>AAACCCAAGAGTGACC-1</th>\n",
       "      <td>0.0</td>\n",
       "      <td>0.0</td>\n",
       "      <td>0.0</td>\n",
       "      <td>0.0</td>\n",
       "      <td>0.0</td>\n",
       "      <td>0.0</td>\n",
       "      <td>0.0</td>\n",
       "      <td>0.0</td>\n",
       "      <td>1.0</td>\n",
       "      <td>0.547864</td>\n",
       "      <td>1.437999e-23</td>\n",
       "      <td>1.049098e-23</td>\n",
       "      <td>0.0</td>\n",
       "      <td>0.000000</td>\n",
       "      <td>0.000000e+00</td>\n",
       "      <td>0.000000e+00</td>\n",
       "    </tr>\n",
       "    <tr>\n",
       "      <th>AAACCCAAGTGCCAGA-1</th>\n",
       "      <td>0.0</td>\n",
       "      <td>0.0</td>\n",
       "      <td>0.0</td>\n",
       "      <td>0.0</td>\n",
       "      <td>0.0</td>\n",
       "      <td>0.0</td>\n",
       "      <td>0.0</td>\n",
       "      <td>0.0</td>\n",
       "      <td>0.0</td>\n",
       "      <td>0.000000</td>\n",
       "      <td>0.000000e+00</td>\n",
       "      <td>0.000000e+00</td>\n",
       "      <td>2.0</td>\n",
       "      <td>0.964161</td>\n",
       "      <td>7.320248e-17</td>\n",
       "      <td>5.938868e-17</td>\n",
       "    </tr>\n",
       "    <tr>\n",
       "      <th>AAACCCACACCATTCC-1</th>\n",
       "      <td>0.0</td>\n",
       "      <td>0.0</td>\n",
       "      <td>0.0</td>\n",
       "      <td>0.0</td>\n",
       "      <td>0.0</td>\n",
       "      <td>0.0</td>\n",
       "      <td>0.0</td>\n",
       "      <td>0.0</td>\n",
       "      <td>1.0</td>\n",
       "      <td>0.526162</td>\n",
       "      <td>1.507851e-17</td>\n",
       "      <td>1.044074e-17</td>\n",
       "      <td>1.0</td>\n",
       "      <td>0.526162</td>\n",
       "      <td>8.043161e-15</td>\n",
       "      <td>5.569285e-15</td>\n",
       "    </tr>\n",
       "    <tr>\n",
       "      <th>AAACCCACACGCGTCA-1</th>\n",
       "      <td>0.0</td>\n",
       "      <td>0.0</td>\n",
       "      <td>0.0</td>\n",
       "      <td>0.0</td>\n",
       "      <td>0.0</td>\n",
       "      <td>0.0</td>\n",
       "      <td>0.0</td>\n",
       "      <td>0.0</td>\n",
       "      <td>1.0</td>\n",
       "      <td>0.758320</td>\n",
       "      <td>1.472511e-20</td>\n",
       "      <td>1.670839e-20</td>\n",
       "      <td>0.0</td>\n",
       "      <td>0.000000</td>\n",
       "      <td>0.000000e+00</td>\n",
       "      <td>0.000000e+00</td>\n",
       "    </tr>\n",
       "    <tr>\n",
       "      <th>AAACCCAGTCCATAGT-1</th>\n",
       "      <td>0.0</td>\n",
       "      <td>0.0</td>\n",
       "      <td>0.0</td>\n",
       "      <td>0.0</td>\n",
       "      <td>0.0</td>\n",
       "      <td>0.0</td>\n",
       "      <td>0.0</td>\n",
       "      <td>0.0</td>\n",
       "      <td>0.0</td>\n",
       "      <td>0.000000</td>\n",
       "      <td>0.000000e+00</td>\n",
       "      <td>0.000000e+00</td>\n",
       "      <td>0.0</td>\n",
       "      <td>0.000000</td>\n",
       "      <td>0.000000e+00</td>\n",
       "      <td>0.000000e+00</td>\n",
       "    </tr>\n",
       "  </tbody>\n",
       "</table>\n",
       "</div>"
      ],
      "text/plain": [
       "                    POU5F1_endo_cts  POU5F1_endo_norm  POU5F1_exo_cts  \\\n",
       "AAACCCAAGAGTGACC-1              0.0               0.0             0.0   \n",
       "AAACCCAAGTGCCAGA-1              0.0               0.0             0.0   \n",
       "AAACCCACACCATTCC-1              0.0               0.0             0.0   \n",
       "AAACCCACACGCGTCA-1              0.0               0.0             0.0   \n",
       "AAACCCAGTCCATAGT-1              0.0               0.0             0.0   \n",
       "\n",
       "                    POU5F1_exo_norm  SOX2_endo_cts  SOX2_endo_norm  \\\n",
       "AAACCCAAGAGTGACC-1              0.0            0.0             0.0   \n",
       "AAACCCAAGTGCCAGA-1              0.0            0.0             0.0   \n",
       "AAACCCACACCATTCC-1              0.0            0.0             0.0   \n",
       "AAACCCACACGCGTCA-1              0.0            0.0             0.0   \n",
       "AAACCCAGTCCATAGT-1              0.0            0.0             0.0   \n",
       "\n",
       "                    SOX2_exo_cts  SOX2_exo_norm  KLF4_endo_cts  \\\n",
       "AAACCCAAGAGTGACC-1           0.0            0.0            1.0   \n",
       "AAACCCAAGTGCCAGA-1           0.0            0.0            0.0   \n",
       "AAACCCACACCATTCC-1           0.0            0.0            1.0   \n",
       "AAACCCACACGCGTCA-1           0.0            0.0            1.0   \n",
       "AAACCCAGTCCATAGT-1           0.0            0.0            0.0   \n",
       "\n",
       "                    KLF4_endo_norm  KLF4_exo_cts  KLF4_exo_norm  MYC_endo_cts  \\\n",
       "AAACCCAAGAGTGACC-1        0.547864  1.437999e-23   1.049098e-23           0.0   \n",
       "AAACCCAAGTGCCAGA-1        0.000000  0.000000e+00   0.000000e+00           2.0   \n",
       "AAACCCACACCATTCC-1        0.526162  1.507851e-17   1.044074e-17           1.0   \n",
       "AAACCCACACGCGTCA-1        0.758320  1.472511e-20   1.670839e-20           0.0   \n",
       "AAACCCAGTCCATAGT-1        0.000000  0.000000e+00   0.000000e+00           0.0   \n",
       "\n",
       "                    MYC_endo_norm   MYC_exo_cts  MYC_exo_norm  \n",
       "AAACCCAAGAGTGACC-1       0.000000  0.000000e+00  0.000000e+00  \n",
       "AAACCCAAGTGCCAGA-1       0.964161  7.320248e-17  5.938868e-17  \n",
       "AAACCCACACCATTCC-1       0.526162  8.043161e-15  5.569285e-15  \n",
       "AAACCCACACGCGTCA-1       0.000000  0.000000e+00  0.000000e+00  \n",
       "AAACCCAGTCCATAGT-1       0.000000  0.000000e+00  0.000000e+00  "
      ]
     },
     "execution_count": 38,
     "metadata": {},
     "output_type": "execute_result"
    }
   ],
   "source": [
    "endo_exo_oskm = pd.read_csv(\"../20211106_sendai_vs_endogenous/out/quants.tsv\", sep='\\t')\n",
    "endo_exo_oskm.head()"
   ]
  },
  {
   "cell_type": "code",
   "execution_count": 121,
   "id": "3732b527-9b90-48a0-9c23-c9b5ad9b575d",
   "metadata": {},
   "outputs": [
    {
     "data": {
      "text/html": [
       "<div>\n",
       "<style scoped>\n",
       "    .dataframe tbody tr th:only-of-type {\n",
       "        vertical-align: middle;\n",
       "    }\n",
       "\n",
       "    .dataframe tbody tr th {\n",
       "        vertical-align: top;\n",
       "    }\n",
       "\n",
       "    .dataframe thead th {\n",
       "        text-align: right;\n",
       "    }\n",
       "</style>\n",
       "<table border=\"1\" class=\"dataframe\">\n",
       "  <thead>\n",
       "    <tr style=\"text-align: right;\">\n",
       "      <th></th>\n",
       "      <th>POU5F1_endo_norm</th>\n",
       "      <th>POU5F1_exo_norm</th>\n",
       "      <th>SOX2_endo_norm</th>\n",
       "      <th>SOX2_exo_norm</th>\n",
       "      <th>KLF4_endo_norm</th>\n",
       "      <th>KLF4_exo_norm</th>\n",
       "      <th>MYC_endo_norm</th>\n",
       "      <th>MYC_exo_norm</th>\n",
       "    </tr>\n",
       "  </thead>\n",
       "  <tbody>\n",
       "    <tr>\n",
       "      <th>AAACCCAAGAGTGACC-1</th>\n",
       "      <td>0.0</td>\n",
       "      <td>0.0</td>\n",
       "      <td>0.0</td>\n",
       "      <td>0.0</td>\n",
       "      <td>0.547864</td>\n",
       "      <td>1.049098e-23</td>\n",
       "      <td>0.000000</td>\n",
       "      <td>0.000000e+00</td>\n",
       "    </tr>\n",
       "    <tr>\n",
       "      <th>AAACCCAAGTGCCAGA-1</th>\n",
       "      <td>0.0</td>\n",
       "      <td>0.0</td>\n",
       "      <td>0.0</td>\n",
       "      <td>0.0</td>\n",
       "      <td>0.000000</td>\n",
       "      <td>0.000000e+00</td>\n",
       "      <td>0.964161</td>\n",
       "      <td>5.938868e-17</td>\n",
       "    </tr>\n",
       "    <tr>\n",
       "      <th>AAACCCACACCATTCC-1</th>\n",
       "      <td>0.0</td>\n",
       "      <td>0.0</td>\n",
       "      <td>0.0</td>\n",
       "      <td>0.0</td>\n",
       "      <td>0.526162</td>\n",
       "      <td>1.044074e-17</td>\n",
       "      <td>0.526162</td>\n",
       "      <td>5.569285e-15</td>\n",
       "    </tr>\n",
       "    <tr>\n",
       "      <th>AAACCCACACGCGTCA-1</th>\n",
       "      <td>0.0</td>\n",
       "      <td>0.0</td>\n",
       "      <td>0.0</td>\n",
       "      <td>0.0</td>\n",
       "      <td>0.758320</td>\n",
       "      <td>1.670839e-20</td>\n",
       "      <td>0.000000</td>\n",
       "      <td>0.000000e+00</td>\n",
       "    </tr>\n",
       "    <tr>\n",
       "      <th>AAACCCAGTCCATAGT-1</th>\n",
       "      <td>0.0</td>\n",
       "      <td>0.0</td>\n",
       "      <td>0.0</td>\n",
       "      <td>0.0</td>\n",
       "      <td>0.000000</td>\n",
       "      <td>0.000000e+00</td>\n",
       "      <td>0.000000</td>\n",
       "      <td>0.000000e+00</td>\n",
       "    </tr>\n",
       "  </tbody>\n",
       "</table>\n",
       "</div>"
      ],
      "text/plain": [
       "                    POU5F1_endo_norm  POU5F1_exo_norm  SOX2_endo_norm  \\\n",
       "AAACCCAAGAGTGACC-1               0.0              0.0             0.0   \n",
       "AAACCCAAGTGCCAGA-1               0.0              0.0             0.0   \n",
       "AAACCCACACCATTCC-1               0.0              0.0             0.0   \n",
       "AAACCCACACGCGTCA-1               0.0              0.0             0.0   \n",
       "AAACCCAGTCCATAGT-1               0.0              0.0             0.0   \n",
       "\n",
       "                    SOX2_exo_norm  KLF4_endo_norm  KLF4_exo_norm  \\\n",
       "AAACCCAAGAGTGACC-1            0.0        0.547864   1.049098e-23   \n",
       "AAACCCAAGTGCCAGA-1            0.0        0.000000   0.000000e+00   \n",
       "AAACCCACACCATTCC-1            0.0        0.526162   1.044074e-17   \n",
       "AAACCCACACGCGTCA-1            0.0        0.758320   1.670839e-20   \n",
       "AAACCCAGTCCATAGT-1            0.0        0.000000   0.000000e+00   \n",
       "\n",
       "                    MYC_endo_norm  MYC_exo_norm  \n",
       "AAACCCAAGAGTGACC-1       0.000000  0.000000e+00  \n",
       "AAACCCAAGTGCCAGA-1       0.964161  5.938868e-17  \n",
       "AAACCCACACCATTCC-1       0.526162  5.569285e-15  \n",
       "AAACCCACACGCGTCA-1       0.000000  0.000000e+00  \n",
       "AAACCCAGTCCATAGT-1       0.000000  0.000000e+00  "
      ]
     },
     "execution_count": 121,
     "metadata": {},
     "output_type": "execute_result"
    }
   ],
   "source": [
    "new_genes_dat = endo_exo_oskm[[\"POU5F1_endo_norm\", \n",
    "                              \"POU5F1_exo_norm\",\n",
    "                              \"SOX2_endo_norm\", \n",
    "                              \"SOX2_exo_norm\",\n",
    "                              \"KLF4_endo_norm\", \n",
    "                              \"KLF4_exo_norm\",\n",
    "                              \"MYC_endo_norm\", \n",
    "                              \"MYC_exo_norm\"]]\n",
    "new_genes_dat.head()"
   ]
  },
  {
   "cell_type": "code",
   "execution_count": 145,
   "id": "9009a273-bb03-4a9c-a9a6-7c1a6e30b86e",
   "metadata": {},
   "outputs": [],
   "source": [
    "new_genes = [\"POU5F1_endogenous\", \n",
    "             \"POU5F1_sendai\",\n",
    "             \"SOX2_endogenous\", \n",
    "             \"SOX2_sendai\",\n",
    "             \"KLF4_endogenous\", \n",
    "             \"KLF4_sendai\",\n",
    "             \"MYC_endogenous\", \n",
    "             \"MYC_sendai\"]"
   ]
  },
  {
   "cell_type": "code",
   "execution_count": null,
   "id": "03cc587b-5bc2-4e14-ba37-c56a255a1cde",
   "metadata": {},
   "outputs": [],
   "source": []
  },
  {
   "cell_type": "code",
   "execution_count": 146,
   "id": "55e20bef-c5e8-4599-8250-325fe3a72591",
   "metadata": {},
   "outputs": [],
   "source": [
    "stacked_X = scipy.sparse.hstack([rna.X, scipy.sparse.csr_matrix(new_genes_dat.to_numpy())]).tocsc()"
   ]
  },
  {
   "cell_type": "code",
   "execution_count": 147,
   "id": "13e84d09-ca3f-4942-a228-458c233602cd",
   "metadata": {},
   "outputs": [
    {
     "name": "stderr",
     "output_type": "stream",
     "text": [
      "/tmp/ipykernel_657132/3787644527.py:1: FutureWarning: X.dtype being converted to np.float32 from float64. In the next version of anndata (0.9) conversion will not be automatic. Pass dtype explicitly to avoid this warning. Pass `AnnData(X, dtype=X.dtype, ...)` to get the future behavour.\n",
      "  new_ad = scanpy.AnnData(X=stacked_X,\n"
     ]
    }
   ],
   "source": [
    "new_ad = scanpy.AnnData(X=stacked_X,\n",
    "                        obsm=rna.obsm,\n",
    "                        var=pd.concat([rna.var, pd.DataFrame({'name':new_genes}, index=new_genes)], axis=0),\n",
    "                        obs=rna.obs[[\"sample\", \"percent.mt\", \"percent.oskm\", \"nCount_RNA\", \"nFeature_RNA\", \"cluster\"]])"
   ]
  },
  {
   "cell_type": "code",
   "execution_count": 148,
   "id": "ba517cfc-469c-4a52-9850-3b8bc641a75f",
   "metadata": {},
   "outputs": [],
   "source": [
    "# new_ad = scanpy.AnnData(X=rna.X,\n",
    "#                         obsm=rna.obsm,\n",
    "#                         var=rna.var,\n",
    "#                         obs=rna.obs[[\"sample\", \"percent.mt\", \"percent.oskm\", \"nCount_RNA\", \"nFeature_RNA\", \"cluster\"]])"
   ]
  },
  {
   "cell_type": "code",
   "execution_count": 149,
   "id": "26041dcf-1cd5-489e-86a0-5f79eb22e8f4",
   "metadata": {},
   "outputs": [
    {
     "data": {
      "text/plain": [
       "AnnData object with n_obs × n_vars = 59378 × 29173\n",
       "    obs: 'sample', 'percent.mt', 'percent.oskm', 'nCount_RNA', 'nFeature_RNA', 'cluster'\n",
       "    var: 'name'\n",
       "    obsm: 'X_pca', 'X_umap'"
      ]
     },
     "execution_count": 149,
     "metadata": {},
     "output_type": "execute_result"
    }
   ],
   "source": [
    "new_ad"
   ]
  },
  {
   "cell_type": "code",
   "execution_count": 150,
   "id": "0425140a-ce1c-463c-bf3f-27bd0db172a8",
   "metadata": {},
   "outputs": [
    {
     "data": {
      "text/plain": [
       "<59378x29173 sparse matrix of type '<class 'numpy.float32'>'\n",
       "\twith 220384718 stored elements in Compressed Sparse Column format>"
      ]
     },
     "execution_count": 150,
     "metadata": {},
     "output_type": "execute_result"
    }
   ],
   "source": [
    "new_ad.X"
   ]
  },
  {
   "cell_type": "code",
   "execution_count": 151,
   "id": "bd368121-4f16-4494-9088-77603b4c6b1d",
   "metadata": {},
   "outputs": [],
   "source": [
    "# scanpy.pp.highly_variable_genes(new_ad, flavor=\"seurat\", n_top_genes=500)"
   ]
  },
  {
   "cell_type": "code",
   "execution_count": 152,
   "id": "bbd8d01c-f9ac-4f84-a42d-cc026ed4f257",
   "metadata": {},
   "outputs": [
    {
     "name": "stderr",
     "output_type": "stream",
     "text": [
      "/users/surag/anaconda3/envs/vitessce-env/lib/python3.8/site-packages/zarr/creation.py:250: UserWarning: ignoring keyword argument 'maxshape'\n",
      "  warn('ignoring keyword argument %r' % k)\n"
     ]
    }
   ],
   "source": [
    "new_ad.write_zarr(\"./out/scRNA.adata.zarr\")"
   ]
  },
  {
   "cell_type": "code",
   "execution_count": 153,
   "id": "c5f70e14-5b11-483b-8f61-4a92c1d6e722",
   "metadata": {},
   "outputs": [],
   "source": [
    "import zarr"
   ]
  },
  {
   "cell_type": "code",
   "execution_count": 154,
   "id": "9f4ec407-f200-45d2-b6de-2dc151337001",
   "metadata": {},
   "outputs": [
    {
     "data": {
      "text/plain": [
       "<zarr.hierarchy.Group '/'>"
      ]
     },
     "execution_count": 154,
     "metadata": {},
     "output_type": "execute_result"
    }
   ],
   "source": [
    "zarr.convenience.consolidate_metadata(\"./out/scRNA.adata.zarr\")"
   ]
  },
  {
   "cell_type": "code",
   "execution_count": null,
   "id": "7a5de6e4-b25e-4e88-bbd4-f97469790602",
   "metadata": {},
   "outputs": [],
   "source": []
  }
 ],
 "metadata": {
  "kernelspec": {
   "display_name": "Python 3 (ipykernel)",
   "language": "python",
   "name": "python3"
  },
  "language_info": {
   "codemirror_mode": {
    "name": "ipython",
    "version": 3
   },
   "file_extension": ".py",
   "mimetype": "text/x-python",
   "name": "python",
   "nbconvert_exporter": "python",
   "pygments_lexer": "ipython3",
   "version": "3.8.13"
  }
 },
 "nbformat": 4,
 "nbformat_minor": 5
}
