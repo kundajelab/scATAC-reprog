{
 "cells": [
  {
   "cell_type": "markdown",
   "metadata": {},
   "source": [
    "# GO Sheet\n",
    "\n",
    "Compile GO enrichment terms in a spreadsheet. Also save gene list corresponding to each peak set."
   ]
  },
  {
   "cell_type": "code",
   "execution_count": 1,
   "metadata": {},
   "outputs": [],
   "source": [
    "import pandas as pd"
   ]
  },
  {
   "cell_type": "code",
   "execution_count": null,
   "metadata": {},
   "outputs": [],
   "source": []
  },
  {
   "cell_type": "code",
   "execution_count": 5,
   "metadata": {},
   "outputs": [],
   "source": [
    "peak_idx_to_name = [\"OC1\",\n",
    "                    \"OC2\",\n",
    "                    \"OC3\",\n",
    "                    \"OC4\",\n",
    "                    \"K1\",\n",
    "                    \"COC/E1\",\n",
    "                    \"COC/E2\",\n",
    "                    \"COC/E3\",\n",
    "                    \"COC/L1\",\n",
    "                    \"COC/L2\",\n",
    "                    \"COC/L3\",\n",
    "                    \"COC/L4\",\n",
    "                    \"COC/L5\",\n",
    "                    \"CO/E1\",\n",
    "                    \"CO/E2\",\n",
    "                    \"CO/L1\",\n",
    "                    \"CO/L2\",\n",
    "                    \"S1\",\n",
    "                    \"S2\",\n",
    "                    \"S3\"]"
   ]
  },
  {
   "cell_type": "code",
   "execution_count": null,
   "metadata": {},
   "outputs": [],
   "source": []
  },
  {
   "cell_type": "code",
   "execution_count": 26,
   "metadata": {},
   "outputs": [],
   "source": [
    "with pd.ExcelWriter(\"./out/GO_terms.xlsx\") as w:\n",
    "    for i in range(20):\n",
    "        genes = pd.read_csv(f\"../../figures_factory/Fig3/gprof_results/RNA_20210725_n59378_ATAC_20210717_n62599/gene_sets/idx{i+1}.tsv\",\n",
    "                   sep='\\t', names=['gene','count'])\n",
    "        genes = genes[genes['count']>1] # since we only used genes with >1 count for running GO enrichment\n",
    "        \n",
    "        genes.to_excel(w, index=False, sheet_name=f\"{peak_idx_to_name[i].replace('/','-')}_genes\")\n",
    "        \n",
    "        go_terms = pd.read_csv(f\"../../figures_factory/Fig3/gprof_results/RNA_20210725_n59378_ATAC_20210717_n62599/per_peak_set/peak_set_{i+1}.tsv\",\n",
    "                   sep='\\t')\n",
    "        go_terms = go_terms[go_terms['source']!=\"TF\"] # we don't use these (mostly REAC, GO)\n",
    "\n",
    "        go_terms = go_terms.iloc[:,1:]\n",
    "        go_terms.to_excel(w, index=False, sheet_name=f\"{peak_idx_to_name[i].replace('/','-')}_GO_terms\")"
   ]
  },
  {
   "cell_type": "code",
   "execution_count": null,
   "metadata": {},
   "outputs": [],
   "source": []
  }
 ],
 "metadata": {
  "kernelspec": {
   "display_name": "Python 3",
   "language": "python",
   "name": "python3"
  },
  "language_info": {
   "codemirror_mode": {
    "name": "ipython",
    "version": 3
   },
   "file_extension": ".py",
   "mimetype": "text/x-python",
   "name": "python",
   "nbconvert_exporter": "python",
   "pygments_lexer": "ipython3",
   "version": "3.8.2"
  }
 },
 "nbformat": 4,
 "nbformat_minor": 4
}
