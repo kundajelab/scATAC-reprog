{
 "cells": [
  {
   "cell_type": "markdown",
   "metadata": {},
   "source": [
    "# scATAC data export\n",
    "\n",
    "- Export metadata.tsv after replacing with new cluster labels and adding in pseudotime info. \n",
    "- Export peaks.bed after adding in peak set labels"
   ]
  },
  {
   "cell_type": "code",
   "execution_count": 43,
   "metadata": {},
   "outputs": [],
   "source": [
    "library(ggplot2)"
   ]
  },
  {
   "cell_type": "markdown",
   "metadata": {},
   "source": [
    "### Metadata"
   ]
  },
  {
   "cell_type": "code",
   "execution_count": 25,
   "metadata": {},
   "outputs": [
    {
     "data": {
      "text/html": [
       "<table>\n",
       "<caption>A data.frame: 6 × 5</caption>\n",
       "<thead>\n",
       "\t<tr><th></th><th scope=col>barcode</th><th scope=col>sample</th><th scope=col>umap1</th><th scope=col>umap2</th><th scope=col>old_cluster</th></tr>\n",
       "\t<tr><th></th><th scope=col>&lt;chr&gt;</th><th scope=col>&lt;chr&gt;</th><th scope=col>&lt;dbl&gt;</th><th scope=col>&lt;dbl&gt;</th><th scope=col>&lt;int&gt;</th></tr>\n",
       "</thead>\n",
       "<tbody>\n",
       "\t<tr><th scope=row>1</th><td>AAACACGCTAGTACGG</td><td>D0</td><td>-1.8037916</td><td>-9.507773</td><td>1</td></tr>\n",
       "\t<tr><th scope=row>2</th><td>AAACACGCTCTTCAAG</td><td>D0</td><td> 0.7074551</td><td>-9.406457</td><td>1</td></tr>\n",
       "\t<tr><th scope=row>3</th><td>AAACACGCTGATCCAT</td><td>D0</td><td>-2.9559933</td><td>-7.641148</td><td>1</td></tr>\n",
       "\t<tr><th scope=row>4</th><td>AAACCCTGACCGCTAG</td><td>D0</td><td>-3.6119107</td><td>-8.443144</td><td>1</td></tr>\n",
       "\t<tr><th scope=row>5</th><td>AAACCCTGATTGCAGT</td><td>D0</td><td> 0.5002119</td><td>-8.759449</td><td>3</td></tr>\n",
       "\t<tr><th scope=row>6</th><td>AAACCGTACACACCTA</td><td>D0</td><td>-1.7333966</td><td>-9.259262</td><td>1</td></tr>\n",
       "</tbody>\n",
       "</table>\n"
      ],
      "text/latex": [
       "A data.frame: 6 × 5\n",
       "\\begin{tabular}{r|lllll}\n",
       "  & barcode & sample & umap1 & umap2 & old\\_cluster\\\\\n",
       "  & <chr> & <chr> & <dbl> & <dbl> & <int>\\\\\n",
       "\\hline\n",
       "\t1 & AAACACGCTAGTACGG & D0 & -1.8037916 & -9.507773 & 1\\\\\n",
       "\t2 & AAACACGCTCTTCAAG & D0 &  0.7074551 & -9.406457 & 1\\\\\n",
       "\t3 & AAACACGCTGATCCAT & D0 & -2.9559933 & -7.641148 & 1\\\\\n",
       "\t4 & AAACCCTGACCGCTAG & D0 & -3.6119107 & -8.443144 & 1\\\\\n",
       "\t5 & AAACCCTGATTGCAGT & D0 &  0.5002119 & -8.759449 & 3\\\\\n",
       "\t6 & AAACCGTACACACCTA & D0 & -1.7333966 & -9.259262 & 1\\\\\n",
       "\\end{tabular}\n"
      ],
      "text/markdown": [
       "\n",
       "A data.frame: 6 × 5\n",
       "\n",
       "| <!--/--> | barcode &lt;chr&gt; | sample &lt;chr&gt; | umap1 &lt;dbl&gt; | umap2 &lt;dbl&gt; | old_cluster &lt;int&gt; |\n",
       "|---|---|---|---|---|---|\n",
       "| 1 | AAACACGCTAGTACGG | D0 | -1.8037916 | -9.507773 | 1 |\n",
       "| 2 | AAACACGCTCTTCAAG | D0 |  0.7074551 | -9.406457 | 1 |\n",
       "| 3 | AAACACGCTGATCCAT | D0 | -2.9559933 | -7.641148 | 1 |\n",
       "| 4 | AAACCCTGACCGCTAG | D0 | -3.6119107 | -8.443144 | 1 |\n",
       "| 5 | AAACCCTGATTGCAGT | D0 |  0.5002119 | -8.759449 | 3 |\n",
       "| 6 | AAACCGTACACACCTA | D0 | -1.7333966 | -9.259262 | 1 |\n",
       "\n"
      ],
      "text/plain": [
       "  barcode          sample umap1      umap2     old_cluster\n",
       "1 AAACACGCTAGTACGG D0     -1.8037916 -9.507773 1          \n",
       "2 AAACACGCTCTTCAAG D0      0.7074551 -9.406457 1          \n",
       "3 AAACACGCTGATCCAT D0     -2.9559933 -7.641148 1          \n",
       "4 AAACCCTGACCGCTAG D0     -3.6119107 -8.443144 1          \n",
       "5 AAACCCTGATTGCAGT D0      0.5002119 -8.759449 3          \n",
       "6 AAACCGTACACACCTA D0     -1.7333966 -9.259262 1          "
      ]
     },
     "metadata": {},
     "output_type": "display_data"
    }
   ],
   "source": [
    "metadata = read.table(\"../20200206_pmat_snapATAC/sessions/20210717_n62599/metadata.tsv\", \n",
    "                      header=T,\n",
    "                      stringsAsFactors=F)\n",
    "\n",
    "metadata$old_cluster = metadata$cluster\n",
    "metadata$cluster = NULL\n",
    "head(metadata)"
   ]
  },
  {
   "cell_type": "code",
   "execution_count": 26,
   "metadata": {},
   "outputs": [
    {
     "data": {
      "text/html": [
       "<style>\n",
       ".list-inline {list-style: none; margin:0; padding: 0}\n",
       ".list-inline>li {display: inline-block}\n",
       ".list-inline>li:not(:last-child)::after {content: \"\\00b7\"; padding: 0 .5ex}\n",
       "</style>\n",
       "<ol class=list-inline><li>62599</li><li>5</li></ol>\n"
      ],
      "text/latex": [
       "\\begin{enumerate*}\n",
       "\\item 62599\n",
       "\\item 5\n",
       "\\end{enumerate*}\n"
      ],
      "text/markdown": [
       "1. 62599\n",
       "2. 5\n",
       "\n",
       "\n"
      ],
      "text/plain": [
       "[1] 62599     5"
      ]
     },
     "metadata": {},
     "output_type": "display_data"
    }
   ],
   "source": [
    "dim(metadata)"
   ]
  },
  {
   "cell_type": "code",
   "execution_count": 27,
   "metadata": {},
   "outputs": [
    {
     "data": {
      "text/html": [
       "<table>\n",
       "<caption>A data.frame: 15 × 4</caption>\n",
       "<thead>\n",
       "\t<tr><th scope=col>cluster</th><th scope=col>colour</th><th scope=col>description</th><th scope=col>new_cluster</th></tr>\n",
       "\t<tr><th scope=col>&lt;int&gt;</th><th scope=col>&lt;chr&gt;</th><th scope=col>&lt;chr&gt;</th><th scope=col>&lt;int&gt;</th></tr>\n",
       "</thead>\n",
       "<tbody>\n",
       "\t<tr><td> 1</td><td>#B03743</td><td>Fibroblast            </td><td> 1</td></tr>\n",
       "\t<tr><td> 2</td><td>#E85F6D</td><td>Fibroblast-like       </td><td> 3</td></tr>\n",
       "\t<tr><td> 3</td><td>#7C2730</td><td>Fibroblast-like       </td><td> 2</td></tr>\n",
       "\t<tr><td> 4</td><td>#F0A118</td><td>Intermediate          </td><td>12</td></tr>\n",
       "\t<tr><td> 5</td><td>#78A824</td><td>Pre-iPSC              </td><td>13</td></tr>\n",
       "\t<tr><td> 6</td><td>#A6D854</td><td>Pre-iPSC              </td><td>14</td></tr>\n",
       "\t<tr><td> 7</td><td>#F01D35</td><td>Fibroblast-like       </td><td> 5</td></tr>\n",
       "\t<tr><td> 8</td><td>#13C4A3</td><td>iPSC                  </td><td>15</td></tr>\n",
       "\t<tr><td> 9</td><td>#406614</td><td>Partially-reprogrammed</td><td>10</td></tr>\n",
       "\t<tr><td>10</td><td>#D4B81C</td><td>Intermediate          </td><td> 9</td></tr>\n",
       "\t<tr><td>11</td><td>#006658</td><td>xOSK                  </td><td> 8</td></tr>\n",
       "\t<tr><td>12</td><td>#CF175A</td><td>Fibroblast-like       </td><td> 4</td></tr>\n",
       "\t<tr><td>13</td><td>#F7A6C2</td><td>Keratinocyte-like     </td><td> 6</td></tr>\n",
       "\t<tr><td>14</td><td>#F4D5CD</td><td>Intermediate          </td><td>11</td></tr>\n",
       "\t<tr><td>15</td><td>#F0520A</td><td>hOSK                  </td><td> 7</td></tr>\n",
       "</tbody>\n",
       "</table>\n"
      ],
      "text/latex": [
       "A data.frame: 15 × 4\n",
       "\\begin{tabular}{llll}\n",
       " cluster & colour & description & new\\_cluster\\\\\n",
       " <int> & <chr> & <chr> & <int>\\\\\n",
       "\\hline\n",
       "\t  1 & \\#B03743 & Fibroblast             &  1\\\\\n",
       "\t  2 & \\#E85F6D & Fibroblast-like        &  3\\\\\n",
       "\t  3 & \\#7C2730 & Fibroblast-like        &  2\\\\\n",
       "\t  4 & \\#F0A118 & Intermediate           & 12\\\\\n",
       "\t  5 & \\#78A824 & Pre-iPSC               & 13\\\\\n",
       "\t  6 & \\#A6D854 & Pre-iPSC               & 14\\\\\n",
       "\t  7 & \\#F01D35 & Fibroblast-like        &  5\\\\\n",
       "\t  8 & \\#13C4A3 & iPSC                   & 15\\\\\n",
       "\t  9 & \\#406614 & Partially-reprogrammed & 10\\\\\n",
       "\t 10 & \\#D4B81C & Intermediate           &  9\\\\\n",
       "\t 11 & \\#006658 & xOSK                   &  8\\\\\n",
       "\t 12 & \\#CF175A & Fibroblast-like        &  4\\\\\n",
       "\t 13 & \\#F7A6C2 & Keratinocyte-like      &  6\\\\\n",
       "\t 14 & \\#F4D5CD & Intermediate           & 11\\\\\n",
       "\t 15 & \\#F0520A & hOSK                   &  7\\\\\n",
       "\\end{tabular}\n"
      ],
      "text/markdown": [
       "\n",
       "A data.frame: 15 × 4\n",
       "\n",
       "| cluster &lt;int&gt; | colour &lt;chr&gt; | description &lt;chr&gt; | new_cluster &lt;int&gt; |\n",
       "|---|---|---|---|\n",
       "|  1 | #B03743 | Fibroblast             |  1 |\n",
       "|  2 | #E85F6D | Fibroblast-like        |  3 |\n",
       "|  3 | #7C2730 | Fibroblast-like        |  2 |\n",
       "|  4 | #F0A118 | Intermediate           | 12 |\n",
       "|  5 | #78A824 | Pre-iPSC               | 13 |\n",
       "|  6 | #A6D854 | Pre-iPSC               | 14 |\n",
       "|  7 | #F01D35 | Fibroblast-like        |  5 |\n",
       "|  8 | #13C4A3 | iPSC                   | 15 |\n",
       "|  9 | #406614 | Partially-reprogrammed | 10 |\n",
       "| 10 | #D4B81C | Intermediate           |  9 |\n",
       "| 11 | #006658 | xOSK                   |  8 |\n",
       "| 12 | #CF175A | Fibroblast-like        |  4 |\n",
       "| 13 | #F7A6C2 | Keratinocyte-like      |  6 |\n",
       "| 14 | #F4D5CD | Intermediate           | 11 |\n",
       "| 15 | #F0520A | hOSK                   |  7 |\n",
       "\n"
      ],
      "text/plain": [
       "   cluster colour  description            new_cluster\n",
       "1   1      #B03743 Fibroblast              1         \n",
       "2   2      #E85F6D Fibroblast-like         3         \n",
       "3   3      #7C2730 Fibroblast-like         2         \n",
       "4   4      #F0A118 Intermediate           12         \n",
       "5   5      #78A824 Pre-iPSC               13         \n",
       "6   6      #A6D854 Pre-iPSC               14         \n",
       "7   7      #F01D35 Fibroblast-like         5         \n",
       "8   8      #13C4A3 iPSC                   15         \n",
       "9   9      #406614 Partially-reprogrammed 10         \n",
       "10 10      #D4B81C Intermediate            9         \n",
       "11 11      #006658 xOSK                    8         \n",
       "12 12      #CF175A Fibroblast-like         4         \n",
       "13 13      #F7A6C2 Keratinocyte-like       6         \n",
       "14 14      #F4D5CD Intermediate           11         \n",
       "15 15      #F0520A hOSK                    7         "
      ]
     },
     "metadata": {},
     "output_type": "display_data"
    }
   ],
   "source": [
    "cluster_config = read.table(\"../../figures_factory/configs/cluster.tsv\",comment.char = '', sep='\\t', header=T, stringsAsFactors=F)\n",
    "cluster_config"
   ]
  },
  {
   "cell_type": "code",
   "execution_count": 28,
   "metadata": {},
   "outputs": [
    {
     "data": {
      "text/html": [
       "<table>\n",
       "<caption>A data.frame: 6 × 5</caption>\n",
       "<thead>\n",
       "\t<tr><th></th><th scope=col>barcode</th><th scope=col>sample</th><th scope=col>umap1</th><th scope=col>umap2</th><th scope=col>cluster</th></tr>\n",
       "\t<tr><th></th><th scope=col>&lt;chr&gt;</th><th scope=col>&lt;chr&gt;</th><th scope=col>&lt;dbl&gt;</th><th scope=col>&lt;dbl&gt;</th><th scope=col>&lt;int&gt;</th></tr>\n",
       "</thead>\n",
       "<tbody>\n",
       "\t<tr><th scope=row>1</th><td>AAACACGCTAGTACGG</td><td>D0</td><td>-1.8037916</td><td>-9.507773</td><td>1</td></tr>\n",
       "\t<tr><th scope=row>2</th><td>AAACACGCTCTTCAAG</td><td>D0</td><td> 0.7074551</td><td>-9.406457</td><td>1</td></tr>\n",
       "\t<tr><th scope=row>3</th><td>AAACACGCTGATCCAT</td><td>D0</td><td>-2.9559933</td><td>-7.641148</td><td>1</td></tr>\n",
       "\t<tr><th scope=row>4</th><td>AAACCCTGACCGCTAG</td><td>D0</td><td>-3.6119107</td><td>-8.443144</td><td>1</td></tr>\n",
       "\t<tr><th scope=row>5</th><td>AAACCCTGATTGCAGT</td><td>D0</td><td> 0.5002119</td><td>-8.759449</td><td>2</td></tr>\n",
       "\t<tr><th scope=row>6</th><td>AAACCGTACACACCTA</td><td>D0</td><td>-1.7333966</td><td>-9.259262</td><td>1</td></tr>\n",
       "</tbody>\n",
       "</table>\n"
      ],
      "text/latex": [
       "A data.frame: 6 × 5\n",
       "\\begin{tabular}{r|lllll}\n",
       "  & barcode & sample & umap1 & umap2 & cluster\\\\\n",
       "  & <chr> & <chr> & <dbl> & <dbl> & <int>\\\\\n",
       "\\hline\n",
       "\t1 & AAACACGCTAGTACGG & D0 & -1.8037916 & -9.507773 & 1\\\\\n",
       "\t2 & AAACACGCTCTTCAAG & D0 &  0.7074551 & -9.406457 & 1\\\\\n",
       "\t3 & AAACACGCTGATCCAT & D0 & -2.9559933 & -7.641148 & 1\\\\\n",
       "\t4 & AAACCCTGACCGCTAG & D0 & -3.6119107 & -8.443144 & 1\\\\\n",
       "\t5 & AAACCCTGATTGCAGT & D0 &  0.5002119 & -8.759449 & 2\\\\\n",
       "\t6 & AAACCGTACACACCTA & D0 & -1.7333966 & -9.259262 & 1\\\\\n",
       "\\end{tabular}\n"
      ],
      "text/markdown": [
       "\n",
       "A data.frame: 6 × 5\n",
       "\n",
       "| <!--/--> | barcode &lt;chr&gt; | sample &lt;chr&gt; | umap1 &lt;dbl&gt; | umap2 &lt;dbl&gt; | cluster &lt;int&gt; |\n",
       "|---|---|---|---|---|---|\n",
       "| 1 | AAACACGCTAGTACGG | D0 | -1.8037916 | -9.507773 | 1 |\n",
       "| 2 | AAACACGCTCTTCAAG | D0 |  0.7074551 | -9.406457 | 1 |\n",
       "| 3 | AAACACGCTGATCCAT | D0 | -2.9559933 | -7.641148 | 1 |\n",
       "| 4 | AAACCCTGACCGCTAG | D0 | -3.6119107 | -8.443144 | 1 |\n",
       "| 5 | AAACCCTGATTGCAGT | D0 |  0.5002119 | -8.759449 | 2 |\n",
       "| 6 | AAACCGTACACACCTA | D0 | -1.7333966 | -9.259262 | 1 |\n",
       "\n"
      ],
      "text/plain": [
       "  barcode          sample umap1      umap2     cluster\n",
       "1 AAACACGCTAGTACGG D0     -1.8037916 -9.507773 1      \n",
       "2 AAACACGCTCTTCAAG D0      0.7074551 -9.406457 1      \n",
       "3 AAACACGCTGATCCAT D0     -2.9559933 -7.641148 1      \n",
       "4 AAACCCTGACCGCTAG D0     -3.6119107 -8.443144 1      \n",
       "5 AAACCCTGATTGCAGT D0      0.5002119 -8.759449 2      \n",
       "6 AAACCGTACACACCTA D0     -1.7333966 -9.259262 1      "
      ]
     },
     "metadata": {},
     "output_type": "display_data"
    }
   ],
   "source": [
    "metadata$cluster = cluster_config[metadata$old_cluster, \"new_cluster\"]\n",
    "metadata$old_cluster = NULL\n",
    "head(metadata)"
   ]
  },
  {
   "cell_type": "code",
   "execution_count": 35,
   "metadata": {},
   "outputs": [
    {
     "data": {
      "text/html": [
       "<table>\n",
       "<caption>A data.frame: 6 × 3</caption>\n",
       "<thead>\n",
       "\t<tr><th></th><th scope=col>sample_barcode</th><th scope=col>dpt_pseudotime_fibr</th><th scope=col>dpt_pseudotime_high_OSK</th></tr>\n",
       "\t<tr><th></th><th scope=col>&lt;chr&gt;</th><th scope=col>&lt;dbl&gt;</th><th scope=col>&lt;dbl&gt;</th></tr>\n",
       "</thead>\n",
       "<tbody>\n",
       "\t<tr><th scope=row>0</th><td>D0_AAACACGCTAGTACGG</td><td>0.00000000</td><td>0.8747373</td></tr>\n",
       "\t<tr><th scope=row>1</th><td>D0_AAACACGCTCTTCAAG</td><td>0.03884950</td><td>0.8782327</td></tr>\n",
       "\t<tr><th scope=row>2</th><td>D0_AAACACGCTGATCCAT</td><td>0.10171443</td><td>0.8466607</td></tr>\n",
       "\t<tr><th scope=row>3</th><td>D0_AAACCCTGACCGCTAG</td><td>0.09229346</td><td>0.8495939</td></tr>\n",
       "\t<tr><th scope=row>4</th><td>D0_AAACCCTGATTGCAGT</td><td>0.05027944</td><td>0.8626735</td></tr>\n",
       "\t<tr><th scope=row>5</th><td>D0_AAACCGTACACACCTA</td><td>0.03454594</td><td>0.8612965</td></tr>\n",
       "</tbody>\n",
       "</table>\n"
      ],
      "text/latex": [
       "A data.frame: 6 × 3\n",
       "\\begin{tabular}{r|lll}\n",
       "  & sample\\_barcode & dpt\\_pseudotime\\_fibr & dpt\\_pseudotime\\_high\\_OSK\\\\\n",
       "  & <chr> & <dbl> & <dbl>\\\\\n",
       "\\hline\n",
       "\t0 & D0\\_AAACACGCTAGTACGG & 0.00000000 & 0.8747373\\\\\n",
       "\t1 & D0\\_AAACACGCTCTTCAAG & 0.03884950 & 0.8782327\\\\\n",
       "\t2 & D0\\_AAACACGCTGATCCAT & 0.10171443 & 0.8466607\\\\\n",
       "\t3 & D0\\_AAACCCTGACCGCTAG & 0.09229346 & 0.8495939\\\\\n",
       "\t4 & D0\\_AAACCCTGATTGCAGT & 0.05027944 & 0.8626735\\\\\n",
       "\t5 & D0\\_AAACCGTACACACCTA & 0.03454594 & 0.8612965\\\\\n",
       "\\end{tabular}\n"
      ],
      "text/markdown": [
       "\n",
       "A data.frame: 6 × 3\n",
       "\n",
       "| <!--/--> | sample_barcode &lt;chr&gt; | dpt_pseudotime_fibr &lt;dbl&gt; | dpt_pseudotime_high_OSK &lt;dbl&gt; |\n",
       "|---|---|---|---|\n",
       "| 0 | D0_AAACACGCTAGTACGG | 0.00000000 | 0.8747373 |\n",
       "| 1 | D0_AAACACGCTCTTCAAG | 0.03884950 | 0.8782327 |\n",
       "| 2 | D0_AAACACGCTGATCCAT | 0.10171443 | 0.8466607 |\n",
       "| 3 | D0_AAACCCTGACCGCTAG | 0.09229346 | 0.8495939 |\n",
       "| 4 | D0_AAACCCTGATTGCAGT | 0.05027944 | 0.8626735 |\n",
       "| 5 | D0_AAACCGTACACACCTA | 0.03454594 | 0.8612965 |\n",
       "\n"
      ],
      "text/plain": [
       "  sample_barcode      dpt_pseudotime_fibr dpt_pseudotime_high_OSK\n",
       "0 D0_AAACACGCTAGTACGG 0.00000000          0.8747373              \n",
       "1 D0_AAACACGCTCTTCAAG 0.03884950          0.8782327              \n",
       "2 D0_AAACACGCTGATCCAT 0.10171443          0.8466607              \n",
       "3 D0_AAACCCTGACCGCTAG 0.09229346          0.8495939              \n",
       "4 D0_AAACCCTGATTGCAGT 0.05027944          0.8626735              \n",
       "5 D0_AAACCGTACACACCTA 0.03454594          0.8612965              "
      ]
     },
     "metadata": {},
     "output_type": "display_data"
    }
   ],
   "source": [
    "pseudotime = read.table(\"../20200217_trajectory/sessions/20211003_n62599/pseudotime.tsv\", sep='\\t', header=T, row.names=1,\n",
    "                       stringsAsFactors=F)\n",
    "head(pseudotime)"
   ]
  },
  {
   "cell_type": "code",
   "execution_count": 39,
   "metadata": {},
   "outputs": [
    {
     "data": {
      "text/html": [
       "TRUE"
      ],
      "text/latex": [
       "TRUE"
      ],
      "text/markdown": [
       "TRUE"
      ],
      "text/plain": [
       "[1] TRUE"
      ]
     },
     "metadata": {},
     "output_type": "display_data"
    }
   ],
   "source": [
    "all(pseudotime$sample_barcode == paste(metadata$sample, metadata$barcode, sep='_'))"
   ]
  },
  {
   "cell_type": "code",
   "execution_count": 40,
   "metadata": {},
   "outputs": [],
   "source": [
    "metadata$dpt_pseudotime_fibr_root = pseudotime$dpt_pseudotime_fibr\n",
    "metadata$dpt_pseudotime_xOSK_root = pseudotime$dpt_pseudotime_high_OSK"
   ]
  },
  {
   "cell_type": "code",
   "execution_count": 104,
   "metadata": {},
   "outputs": [
    {
     "data": {
      "text/html": [
       "<table>\n",
       "<caption>A data.frame: 6 × 7</caption>\n",
       "<thead>\n",
       "\t<tr><th></th><th scope=col>barcode</th><th scope=col>sample</th><th scope=col>umap1</th><th scope=col>umap2</th><th scope=col>cluster</th><th scope=col>dpt_pseudotime_fibr_root</th><th scope=col>dpt_pseudotime_xOSK_root</th></tr>\n",
       "\t<tr><th></th><th scope=col>&lt;chr&gt;</th><th scope=col>&lt;chr&gt;</th><th scope=col>&lt;dbl&gt;</th><th scope=col>&lt;dbl&gt;</th><th scope=col>&lt;int&gt;</th><th scope=col>&lt;dbl&gt;</th><th scope=col>&lt;dbl&gt;</th></tr>\n",
       "</thead>\n",
       "<tbody>\n",
       "\t<tr><th scope=row>1</th><td>AAACACGCTAGTACGG</td><td>D0</td><td>-1.8037916</td><td>-9.507773</td><td>1</td><td>0.00000000</td><td>0.8747373</td></tr>\n",
       "\t<tr><th scope=row>2</th><td>AAACACGCTCTTCAAG</td><td>D0</td><td> 0.7074551</td><td>-9.406457</td><td>1</td><td>0.03884950</td><td>0.8782327</td></tr>\n",
       "\t<tr><th scope=row>3</th><td>AAACACGCTGATCCAT</td><td>D0</td><td>-2.9559933</td><td>-7.641148</td><td>1</td><td>0.10171443</td><td>0.8466607</td></tr>\n",
       "\t<tr><th scope=row>4</th><td>AAACCCTGACCGCTAG</td><td>D0</td><td>-3.6119107</td><td>-8.443144</td><td>1</td><td>0.09229346</td><td>0.8495939</td></tr>\n",
       "\t<tr><th scope=row>5</th><td>AAACCCTGATTGCAGT</td><td>D0</td><td> 0.5002119</td><td>-8.759449</td><td>2</td><td>0.05027944</td><td>0.8626735</td></tr>\n",
       "\t<tr><th scope=row>6</th><td>AAACCGTACACACCTA</td><td>D0</td><td>-1.7333966</td><td>-9.259262</td><td>1</td><td>0.03454594</td><td>0.8612965</td></tr>\n",
       "</tbody>\n",
       "</table>\n"
      ],
      "text/latex": [
       "A data.frame: 6 × 7\n",
       "\\begin{tabular}{r|lllllll}\n",
       "  & barcode & sample & umap1 & umap2 & cluster & dpt\\_pseudotime\\_fibr\\_root & dpt\\_pseudotime\\_xOSK\\_root\\\\\n",
       "  & <chr> & <chr> & <dbl> & <dbl> & <int> & <dbl> & <dbl>\\\\\n",
       "\\hline\n",
       "\t1 & AAACACGCTAGTACGG & D0 & -1.8037916 & -9.507773 & 1 & 0.00000000 & 0.8747373\\\\\n",
       "\t2 & AAACACGCTCTTCAAG & D0 &  0.7074551 & -9.406457 & 1 & 0.03884950 & 0.8782327\\\\\n",
       "\t3 & AAACACGCTGATCCAT & D0 & -2.9559933 & -7.641148 & 1 & 0.10171443 & 0.8466607\\\\\n",
       "\t4 & AAACCCTGACCGCTAG & D0 & -3.6119107 & -8.443144 & 1 & 0.09229346 & 0.8495939\\\\\n",
       "\t5 & AAACCCTGATTGCAGT & D0 &  0.5002119 & -8.759449 & 2 & 0.05027944 & 0.8626735\\\\\n",
       "\t6 & AAACCGTACACACCTA & D0 & -1.7333966 & -9.259262 & 1 & 0.03454594 & 0.8612965\\\\\n",
       "\\end{tabular}\n"
      ],
      "text/markdown": [
       "\n",
       "A data.frame: 6 × 7\n",
       "\n",
       "| <!--/--> | barcode &lt;chr&gt; | sample &lt;chr&gt; | umap1 &lt;dbl&gt; | umap2 &lt;dbl&gt; | cluster &lt;int&gt; | dpt_pseudotime_fibr_root &lt;dbl&gt; | dpt_pseudotime_xOSK_root &lt;dbl&gt; |\n",
       "|---|---|---|---|---|---|---|---|\n",
       "| 1 | AAACACGCTAGTACGG | D0 | -1.8037916 | -9.507773 | 1 | 0.00000000 | 0.8747373 |\n",
       "| 2 | AAACACGCTCTTCAAG | D0 |  0.7074551 | -9.406457 | 1 | 0.03884950 | 0.8782327 |\n",
       "| 3 | AAACACGCTGATCCAT | D0 | -2.9559933 | -7.641148 | 1 | 0.10171443 | 0.8466607 |\n",
       "| 4 | AAACCCTGACCGCTAG | D0 | -3.6119107 | -8.443144 | 1 | 0.09229346 | 0.8495939 |\n",
       "| 5 | AAACCCTGATTGCAGT | D0 |  0.5002119 | -8.759449 | 2 | 0.05027944 | 0.8626735 |\n",
       "| 6 | AAACCGTACACACCTA | D0 | -1.7333966 | -9.259262 | 1 | 0.03454594 | 0.8612965 |\n",
       "\n"
      ],
      "text/plain": [
       "  barcode          sample umap1      umap2     cluster dpt_pseudotime_fibr_root\n",
       "1 AAACACGCTAGTACGG D0     -1.8037916 -9.507773 1       0.00000000              \n",
       "2 AAACACGCTCTTCAAG D0      0.7074551 -9.406457 1       0.03884950              \n",
       "3 AAACACGCTGATCCAT D0     -2.9559933 -7.641148 1       0.10171443              \n",
       "4 AAACCCTGACCGCTAG D0     -3.6119107 -8.443144 1       0.09229346              \n",
       "5 AAACCCTGATTGCAGT D0      0.5002119 -8.759449 2       0.05027944              \n",
       "6 AAACCGTACACACCTA D0     -1.7333966 -9.259262 1       0.03454594              \n",
       "  dpt_pseudotime_xOSK_root\n",
       "1 0.8747373               \n",
       "2 0.8782327               \n",
       "3 0.8466607               \n",
       "4 0.8495939               \n",
       "5 0.8626735               \n",
       "6 0.8612965               "
      ]
     },
     "metadata": {},
     "output_type": "display_data"
    }
   ],
   "source": [
    "head(metadata)"
   ]
  },
  {
   "cell_type": "code",
   "execution_count": 55,
   "metadata": {},
   "outputs": [],
   "source": [
    "write.table(metadata, file=\"/oak/stanford/groups/akundaje/surag/projects/reprog-package/analysis/scATAC/cells.tsv\",\n",
    "           sep='\\t', row.names=F, quote=F)"
   ]
  },
  {
   "cell_type": "code",
   "execution_count": null,
   "metadata": {},
   "outputs": [],
   "source": []
  },
  {
   "cell_type": "markdown",
   "metadata": {},
   "source": [
    "## Peaks"
   ]
  },
  {
   "cell_type": "code",
   "execution_count": 75,
   "metadata": {},
   "outputs": [
    {
     "data": {
      "text/html": [
       "<table>\n",
       "<caption>A data.frame: 6 × 3</caption>\n",
       "<thead>\n",
       "\t<tr><th></th><th scope=col>chr</th><th scope=col>start</th><th scope=col>end</th></tr>\n",
       "\t<tr><th></th><th scope=col>&lt;chr&gt;</th><th scope=col>&lt;int&gt;</th><th scope=col>&lt;int&gt;</th></tr>\n",
       "</thead>\n",
       "<tbody>\n",
       "\t<tr><th scope=row>1</th><td>chr17</td><td>32960817</td><td>32961317</td></tr>\n",
       "\t<tr><th scope=row>2</th><td>chr17</td><td>75764252</td><td>75764752</td></tr>\n",
       "\t<tr><th scope=row>3</th><td>chr17</td><td> 1473114</td><td> 1473614</td></tr>\n",
       "\t<tr><th scope=row>4</th><td>chr17</td><td> 4206897</td><td> 4207397</td></tr>\n",
       "\t<tr><th scope=row>5</th><td>chr17</td><td>  423409</td><td>  423909</td></tr>\n",
       "\t<tr><th scope=row>6</th><td>chr17</td><td> 1964634</td><td> 1965134</td></tr>\n",
       "</tbody>\n",
       "</table>\n"
      ],
      "text/latex": [
       "A data.frame: 6 × 3\n",
       "\\begin{tabular}{r|lll}\n",
       "  & chr & start & end\\\\\n",
       "  & <chr> & <int> & <int>\\\\\n",
       "\\hline\n",
       "\t1 & chr17 & 32960817 & 32961317\\\\\n",
       "\t2 & chr17 & 75764252 & 75764752\\\\\n",
       "\t3 & chr17 &  1473114 &  1473614\\\\\n",
       "\t4 & chr17 &  4206897 &  4207397\\\\\n",
       "\t5 & chr17 &   423409 &   423909\\\\\n",
       "\t6 & chr17 &  1964634 &  1965134\\\\\n",
       "\\end{tabular}\n"
      ],
      "text/markdown": [
       "\n",
       "A data.frame: 6 × 3\n",
       "\n",
       "| <!--/--> | chr &lt;chr&gt; | start &lt;int&gt; | end &lt;int&gt; |\n",
       "|---|---|---|---|\n",
       "| 1 | chr17 | 32960817 | 32961317 |\n",
       "| 2 | chr17 | 75764252 | 75764752 |\n",
       "| 3 | chr17 |  1473114 |  1473614 |\n",
       "| 4 | chr17 |  4206897 |  4207397 |\n",
       "| 5 | chr17 |   423409 |   423909 |\n",
       "| 6 | chr17 |  1964634 |  1965134 |\n",
       "\n"
      ],
      "text/plain": [
       "  chr   start    end     \n",
       "1 chr17 32960817 32961317\n",
       "2 chr17 75764252 75764752\n",
       "3 chr17  1473114  1473614\n",
       "4 chr17  4206897  4207397\n",
       "5 chr17   423409   423909\n",
       "6 chr17  1964634  1965134"
      ]
     },
     "metadata": {},
     "output_type": "display_data"
    }
   ],
   "source": [
    "peaks = read.table(\"../20200206_pmat_snapATAC/sessions/20210717_n62599/peaks.bed\", stringsAsFactors=F)\n",
    "colnames(peaks) = c(\"chr\", \"start\", \"end\")\n",
    "head(peaks)"
   ]
  },
  {
   "cell_type": "code",
   "execution_count": 60,
   "metadata": {},
   "outputs": [],
   "source": [
    "peak_sets = list()\n",
    "for (i in 1:20) {\n",
    "    s = read.table(sprintf(\"../20200307_fine_clustering/beds/20210719_gridmap_peakwidthnorm_logplusznorm_4way_assited_n20/idx%s.bed\", i),\n",
    "                  stringsAsFactors=F)\n",
    "    colnames(s) = c(\"chr\", \"start\", \"end\")\n",
    "    peak_sets[[i]] = s\n",
    "}"
   ]
  },
  {
   "cell_type": "code",
   "execution_count": 71,
   "metadata": {},
   "outputs": [
    {
     "data": {
      "text/html": [
       "<style>\n",
       ".list-inline {list-style: none; margin:0; padding: 0}\n",
       ".list-inline>li {display: inline-block}\n",
       ".list-inline>li:not(:last-child)::after {content: \"\\00b7\"; padding: 0 .5ex}\n",
       "</style>\n",
       "<ol class=list-inline><li>'OC1'</li><li>'OC2'</li><li>'OC3'</li><li>'OC4'</li><li>'K1'</li><li>'COC/E1'</li><li>'COC/E2'</li><li>'COC/E3'</li><li>'COC/L1'</li><li>'COC/L2'</li><li>'COC/L3'</li><li>'COC/L4'</li><li>'COC/L5'</li><li>'CO/E1'</li><li>'CO/E2'</li><li>'CO/L1'</li><li>'CO/L2'</li><li>'S1'</li><li>'S2'</li><li>'S3'</li></ol>\n"
      ],
      "text/latex": [
       "\\begin{enumerate*}\n",
       "\\item 'OC1'\n",
       "\\item 'OC2'\n",
       "\\item 'OC3'\n",
       "\\item 'OC4'\n",
       "\\item 'K1'\n",
       "\\item 'COC/E1'\n",
       "\\item 'COC/E2'\n",
       "\\item 'COC/E3'\n",
       "\\item 'COC/L1'\n",
       "\\item 'COC/L2'\n",
       "\\item 'COC/L3'\n",
       "\\item 'COC/L4'\n",
       "\\item 'COC/L5'\n",
       "\\item 'CO/E1'\n",
       "\\item 'CO/E2'\n",
       "\\item 'CO/L1'\n",
       "\\item 'CO/L2'\n",
       "\\item 'S1'\n",
       "\\item 'S2'\n",
       "\\item 'S3'\n",
       "\\end{enumerate*}\n"
      ],
      "text/markdown": [
       "1. 'OC1'\n",
       "2. 'OC2'\n",
       "3. 'OC3'\n",
       "4. 'OC4'\n",
       "5. 'K1'\n",
       "6. 'COC/E1'\n",
       "7. 'COC/E2'\n",
       "8. 'COC/E3'\n",
       "9. 'COC/L1'\n",
       "10. 'COC/L2'\n",
       "11. 'COC/L3'\n",
       "12. 'COC/L4'\n",
       "13. 'COC/L5'\n",
       "14. 'CO/E1'\n",
       "15. 'CO/E2'\n",
       "16. 'CO/L1'\n",
       "17. 'CO/L2'\n",
       "18. 'S1'\n",
       "19. 'S2'\n",
       "20. 'S3'\n",
       "\n",
       "\n"
      ],
      "text/plain": [
       " [1] \"OC1\"    \"OC2\"    \"OC3\"    \"OC4\"    \"K1\"     \"COC/E1\" \"COC/E2\" \"COC/E3\"\n",
       " [9] \"COC/L1\" \"COC/L2\" \"COC/L3\" \"COC/L4\" \"COC/L5\" \"CO/E1\"  \"CO/E2\"  \"CO/L1\" \n",
       "[17] \"CO/L2\"  \"S1\"     \"S2\"     \"S3\"    "
      ]
     },
     "metadata": {},
     "output_type": "display_data"
    }
   ],
   "source": [
    "peak_idx_to_name = c(\"OC1\",\n",
    "\"OC2\",\n",
    "\"OC3\",\n",
    "\"OC4\",\n",
    "\"K1\",\n",
    "\"COC/E1\",\n",
    "\"COC/E2\",\n",
    "\"COC/E3\",\n",
    "\"COC/L1\",\n",
    "\"COC/L2\",\n",
    "\"COC/L3\",\n",
    "\"COC/L4\",\n",
    "\"COC/L5\",\n",
    "\"CO/E1\",\n",
    "\"CO/E2\",\n",
    "\"CO/L1\",\n",
    "\"CO/L2\",\n",
    "\"S1\",\n",
    "\"S2\",\n",
    "\"S3\")\n",
    "peak_idx_to_name"
   ]
  },
  {
   "cell_type": "code",
   "execution_count": 87,
   "metadata": {},
   "outputs": [
    {
     "name": "stdout",
     "output_type": "stream",
     "text": [
      "[1] 1\n",
      "[1] 2\n",
      "[1] 3\n",
      "[1] 4\n",
      "[1] 5\n",
      "[1] 6\n",
      "[1] 7\n",
      "[1] 8\n",
      "[1] 9\n",
      "[1] 10\n",
      "[1] 11\n",
      "[1] 12\n",
      "[1] 13\n",
      "[1] 14\n",
      "[1] 15\n",
      "[1] 16\n",
      "[1] 17\n",
      "[1] 18\n",
      "[1] 19\n",
      "[1] 20\n"
     ]
    }
   ],
   "source": [
    "peaks_w_set = peaks\n",
    "peaks_w_set$set = NA\n",
    "\n",
    "for (i in 1:20) {\n",
    "    print(i)\n",
    "    belongs_to = paste(peaks$chr, peaks$start, peaks$end) %in% paste(peak_sets[[i]]$chr, peak_sets[[i]]$start, peak_sets[[i]]$end) \n",
    "    stopifnot(sum(belongs_to)==nrow(peak_sets[[i]]))\n",
    "    \n",
    "    peaks_w_set[belongs_to, \"set\"] = peak_idx_to_name[i]\n",
    "}"
   ]
  },
  {
   "cell_type": "code",
   "execution_count": 97,
   "metadata": {},
   "outputs": [
    {
     "data": {
      "text/plain": [
       "\n",
       " CO/E1  CO/E2  CO/L1  CO/L2 COC/E1 COC/E2 COC/E3 COC/L1 COC/L2 COC/L3 COC/L4 \n",
       " 15179  23696  32573  37539  30214  23500  27541   6907  18844  17471  13119 \n",
       "COC/L5     K1    OC1    OC2    OC3    OC4     S1     S2     S3 \n",
       " 21090  28388  39006  51449  21137  37309  19750  32863  28260 "
      ]
     },
     "metadata": {},
     "output_type": "display_data"
    }
   ],
   "source": [
    "table(peaks_w_set$set)"
   ]
  },
  {
   "cell_type": "code",
   "execution_count": 89,
   "metadata": {},
   "outputs": [
    {
     "data": {
      "text/html": [
       "<table>\n",
       "<caption>A data.frame: 6 × 4</caption>\n",
       "<thead>\n",
       "\t<tr><th></th><th scope=col>chr</th><th scope=col>start</th><th scope=col>end</th><th scope=col>set</th></tr>\n",
       "\t<tr><th></th><th scope=col>&lt;chr&gt;</th><th scope=col>&lt;int&gt;</th><th scope=col>&lt;int&gt;</th><th scope=col>&lt;chr&gt;</th></tr>\n",
       "</thead>\n",
       "<tbody>\n",
       "\t<tr><th scope=row>1</th><td>chr17</td><td>32960817</td><td>32961317</td><td>OC4  </td></tr>\n",
       "\t<tr><th scope=row>2</th><td>chr17</td><td>75764252</td><td>75764752</td><td>CO/E1</td></tr>\n",
       "\t<tr><th scope=row>3</th><td>chr17</td><td> 1473114</td><td> 1473614</td><td>S3   </td></tr>\n",
       "\t<tr><th scope=row>4</th><td>chr17</td><td> 4206897</td><td> 4207397</td><td>OC4  </td></tr>\n",
       "\t<tr><th scope=row>5</th><td>chr17</td><td>  423409</td><td>  423909</td><td>OC4  </td></tr>\n",
       "\t<tr><th scope=row>6</th><td>chr17</td><td> 1964634</td><td> 1965134</td><td>K1   </td></tr>\n",
       "</tbody>\n",
       "</table>\n"
      ],
      "text/latex": [
       "A data.frame: 6 × 4\n",
       "\\begin{tabular}{r|llll}\n",
       "  & chr & start & end & set\\\\\n",
       "  & <chr> & <int> & <int> & <chr>\\\\\n",
       "\\hline\n",
       "\t1 & chr17 & 32960817 & 32961317 & OC4  \\\\\n",
       "\t2 & chr17 & 75764252 & 75764752 & CO/E1\\\\\n",
       "\t3 & chr17 &  1473114 &  1473614 & S3   \\\\\n",
       "\t4 & chr17 &  4206897 &  4207397 & OC4  \\\\\n",
       "\t5 & chr17 &   423409 &   423909 & OC4  \\\\\n",
       "\t6 & chr17 &  1964634 &  1965134 & K1   \\\\\n",
       "\\end{tabular}\n"
      ],
      "text/markdown": [
       "\n",
       "A data.frame: 6 × 4\n",
       "\n",
       "| <!--/--> | chr &lt;chr&gt; | start &lt;int&gt; | end &lt;int&gt; | set &lt;chr&gt; |\n",
       "|---|---|---|---|---|\n",
       "| 1 | chr17 | 32960817 | 32961317 | OC4   |\n",
       "| 2 | chr17 | 75764252 | 75764752 | CO/E1 |\n",
       "| 3 | chr17 |  1473114 |  1473614 | S3    |\n",
       "| 4 | chr17 |  4206897 |  4207397 | OC4   |\n",
       "| 5 | chr17 |   423409 |   423909 | OC4   |\n",
       "| 6 | chr17 |  1964634 |  1965134 | K1    |\n",
       "\n"
      ],
      "text/plain": [
       "  chr   start    end      set  \n",
       "1 chr17 32960817 32961317 OC4  \n",
       "2 chr17 75764252 75764752 CO/E1\n",
       "3 chr17  1473114  1473614 S3   \n",
       "4 chr17  4206897  4207397 OC4  \n",
       "5 chr17   423409   423909 OC4  \n",
       "6 chr17  1964634  1965134 K1   "
      ]
     },
     "metadata": {},
     "output_type": "display_data"
    }
   ],
   "source": [
    "head(peaks_w_set)"
   ]
  },
  {
   "cell_type": "code",
   "execution_count": 99,
   "metadata": {},
   "outputs": [
    {
     "data": {
      "text/html": [
       "5075"
      ],
      "text/latex": [
       "5075"
      ],
      "text/markdown": [
       "5075"
      ],
      "text/plain": [
       "[1] 5075"
      ]
     },
     "metadata": {},
     "output_type": "display_data"
    }
   ],
   "source": [
    "# these are peaks not assigned to any set\n",
    "sum(!(peaks_w_set$set %in% peak_idx_to_name))"
   ]
  },
  {
   "cell_type": "code",
   "execution_count": 101,
   "metadata": {},
   "outputs": [
    {
     "data": {
      "text/html": [
       "<table>\n",
       "<caption>A data.frame: 10 × 4</caption>\n",
       "<thead>\n",
       "\t<tr><th></th><th scope=col>chr</th><th scope=col>start</th><th scope=col>end</th><th scope=col>set</th></tr>\n",
       "\t<tr><th></th><th scope=col>&lt;chr&gt;</th><th scope=col>&lt;int&gt;</th><th scope=col>&lt;int&gt;</th><th scope=col>&lt;chr&gt;</th></tr>\n",
       "</thead>\n",
       "<tbody>\n",
       "\t<tr><th scope=row>100578</th><td>chr2 </td><td>121648647</td><td>121649147</td><td>S2    </td></tr>\n",
       "\t<tr><th scope=row>516749</th><td>chrX </td><td>139903121</td><td>139903621</td><td>COC/L4</td></tr>\n",
       "\t<tr><th scope=row>369365</th><td>chr19</td><td> 48111209</td><td> 48111709</td><td>CO/L1 </td></tr>\n",
       "\t<tr><th scope=row>102261</th><td>chr2 </td><td>234191738</td><td>234192238</td><td>OC2   </td></tr>\n",
       "\t<tr><th scope=row>158</th><td>chr17</td><td> 13695960</td><td> 13696460</td><td>COC/E1</td></tr>\n",
       "\t<tr><th scope=row>196741</th><td>chr7 </td><td> 90764762</td><td> 90765262</td><td>CO/L2 </td></tr>\n",
       "\t<tr><th scope=row>383167</th><td>chr6 </td><td> 19289512</td><td> 19290012</td><td>COC/L2</td></tr>\n",
       "\t<tr><th scope=row>485170</th><td>chr22</td><td> 50423557</td><td> 50424057</td><td>K1    </td></tr>\n",
       "\t<tr><th scope=row>379676</th><td>chr6 </td><td> 79668379</td><td> 79668879</td><td>COC/E2</td></tr>\n",
       "\t<tr><th scope=row>403678</th><td>chr6 </td><td> 10954461</td><td> 10954961</td><td>S2    </td></tr>\n",
       "</tbody>\n",
       "</table>\n"
      ],
      "text/latex": [
       "A data.frame: 10 × 4\n",
       "\\begin{tabular}{r|llll}\n",
       "  & chr & start & end & set\\\\\n",
       "  & <chr> & <int> & <int> & <chr>\\\\\n",
       "\\hline\n",
       "\t100578 & chr2  & 121648647 & 121649147 & S2    \\\\\n",
       "\t516749 & chrX  & 139903121 & 139903621 & COC/L4\\\\\n",
       "\t369365 & chr19 &  48111209 &  48111709 & CO/L1 \\\\\n",
       "\t102261 & chr2  & 234191738 & 234192238 & OC2   \\\\\n",
       "\t158 & chr17 &  13695960 &  13696460 & COC/E1\\\\\n",
       "\t196741 & chr7  &  90764762 &  90765262 & CO/L2 \\\\\n",
       "\t383167 & chr6  &  19289512 &  19290012 & COC/L2\\\\\n",
       "\t485170 & chr22 &  50423557 &  50424057 & K1    \\\\\n",
       "\t379676 & chr6  &  79668379 &  79668879 & COC/E2\\\\\n",
       "\t403678 & chr6  &  10954461 &  10954961 & S2    \\\\\n",
       "\\end{tabular}\n"
      ],
      "text/markdown": [
       "\n",
       "A data.frame: 10 × 4\n",
       "\n",
       "| <!--/--> | chr &lt;chr&gt; | start &lt;int&gt; | end &lt;int&gt; | set &lt;chr&gt; |\n",
       "|---|---|---|---|---|\n",
       "| 100578 | chr2  | 121648647 | 121649147 | S2     |\n",
       "| 516749 | chrX  | 139903121 | 139903621 | COC/L4 |\n",
       "| 369365 | chr19 |  48111209 |  48111709 | CO/L1  |\n",
       "| 102261 | chr2  | 234191738 | 234192238 | OC2    |\n",
       "| 158 | chr17 |  13695960 |  13696460 | COC/E1 |\n",
       "| 196741 | chr7  |  90764762 |  90765262 | CO/L2  |\n",
       "| 383167 | chr6  |  19289512 |  19290012 | COC/L2 |\n",
       "| 485170 | chr22 |  50423557 |  50424057 | K1     |\n",
       "| 379676 | chr6  |  79668379 |  79668879 | COC/E2 |\n",
       "| 403678 | chr6  |  10954461 |  10954961 | S2     |\n",
       "\n"
      ],
      "text/plain": [
       "       chr   start     end       set   \n",
       "100578 chr2  121648647 121649147 S2    \n",
       "516749 chrX  139903121 139903621 COC/L4\n",
       "369365 chr19  48111209  48111709 CO/L1 \n",
       "102261 chr2  234191738 234192238 OC2   \n",
       "158    chr17  13695960  13696460 COC/E1\n",
       "196741 chr7   90764762  90765262 CO/L2 \n",
       "383167 chr6   19289512  19290012 COC/L2\n",
       "485170 chr22  50423557  50424057 K1    \n",
       "379676 chr6   79668379  79668879 COC/E2\n",
       "403678 chr6   10954461  10954961 S2    "
      ]
     },
     "metadata": {},
     "output_type": "display_data"
    }
   ],
   "source": [
    "peaks_w_set[sample(nrow(peaks_w_set), 10), ]"
   ]
  },
  {
   "cell_type": "code",
   "execution_count": 103,
   "metadata": {},
   "outputs": [],
   "source": [
    "write.table(peaks_w_set, file=\"/oak/stanford/groups/akundaje/surag/projects/reprog-package/analysis/scATAC/peaks.bed\",\n",
    "           sep='\\t', row.names=F, quote=F, col.names=F)"
   ]
  },
  {
   "cell_type": "code",
   "execution_count": null,
   "metadata": {},
   "outputs": [],
   "source": []
  }
 ],
 "metadata": {
  "kernelspec": {
   "display_name": "R",
   "language": "R",
   "name": "ir"
  },
  "language_info": {
   "codemirror_mode": "r",
   "file_extension": ".r",
   "mimetype": "text/x-r-source",
   "name": "R",
   "pygments_lexer": "r",
   "version": "3.6.3"
  }
 },
 "nbformat": 4,
 "nbformat_minor": 4
}
