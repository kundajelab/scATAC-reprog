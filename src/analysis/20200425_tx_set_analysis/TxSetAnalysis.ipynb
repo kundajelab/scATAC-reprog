{
 "cells": [
  {
   "cell_type": "markdown",
   "metadata": {},
   "source": [
    "# Transcript Set Analysis\n",
    "\n",
    "Compare a few transcript sets to answer the following questions:\n",
    "\n",
    "1. How many genes have multiple TSS, and how far apart are they?\n",
    "2. For genes with multiple TSS, are more than one accessible in the dataset?\n",
    "3. ???"
   ]
  },
  {
   "cell_type": "code",
   "execution_count": 42,
   "metadata": {},
   "outputs": [],
   "source": [
    "library(GenomicRanges)\n",
    "library(rtracklayer)\n",
    "library(ggplot2)"
   ]
  },
  {
   "cell_type": "markdown",
   "metadata": {},
   "source": [
    "## Load GENCODE Basic"
   ]
  },
  {
   "cell_type": "code",
   "execution_count": 4,
   "metadata": {},
   "outputs": [
    {
     "name": "stderr",
     "output_type": "stream",
     "text": [
      "Warning message in readGFF(filepath, version = version, filter = filter):\n",
      "“connection is not positioned at the start of the file, rewinding it”\n"
     ]
    }
   ],
   "source": [
    "gencode.basic.hg38 = import.gff(gzfile(\"../../../resources/GENCODE/gencode.v33.chr_patch_hapl_scaff.basic.annotation.gtf.gz\"))"
   ]
  },
  {
   "cell_type": "code",
   "execution_count": 90,
   "metadata": {},
   "outputs": [],
   "source": [
    "gencode.basic.hg38 = keepStandardChromosomes(gencode.basic.hg38, pruning.mode = \"coarse\")"
   ]
  },
  {
   "cell_type": "code",
   "execution_count": 91,
   "metadata": {},
   "outputs": [
    {
     "data": {
      "text/plain": [
       "GRanges object with 3 ranges and 21 metadata columns:\n",
       "      seqnames        ranges strand |   source       type     score     phase\n",
       "         <Rle>     <IRanges>  <Rle> | <factor>   <factor> <numeric> <integer>\n",
       "  [1]     chr1   65419-71585      + |   HAVANA transcript      <NA>      <NA>\n",
       "  [2]     chr1   69055-70108      + |  ENSEMBL transcript      <NA>      <NA>\n",
       "  [3]     chr1 450703-451697      - |   HAVANA transcript      <NA>      <NA>\n",
       "                gene_id      gene_type   gene_name       level     hgnc_id\n",
       "            <character>    <character> <character> <character> <character>\n",
       "  [1] ENSG00000186092.6 protein_coding       OR4F5           2  HGNC:14825\n",
       "  [2] ENSG00000186092.6 protein_coding       OR4F5           3  HGNC:14825\n",
       "  [3] ENSG00000284733.1 protein_coding      OR4F29           2  HGNC:31275\n",
       "               havana_gene     transcript_id transcript_type transcript_name\n",
       "               <character>       <character>     <character>     <character>\n",
       "  [1] OTTHUMG00000001094.4 ENST00000641515.2  protein_coding       OR4F5-202\n",
       "  [2] OTTHUMG00000001094.4 ENST00000335137.4  protein_coding       OR4F5-201\n",
       "  [3] OTTHUMG00000002860.3 ENST00000426406.3  protein_coding      OR4F29-201\n",
       "      transcript_support_level         tag    havana_transcript exon_number\n",
       "                   <character> <character>          <character> <character>\n",
       "  [1]                     <NA>       basic OTTHUMT00000003223.4        <NA>\n",
       "  [2]                       NA        CCDS                 <NA>        <NA>\n",
       "  [3]                       NA        CCDS OTTHUMT00000007999.3        <NA>\n",
       "          exon_id         ont        protein_id      ccdsid\n",
       "      <character> <character>       <character> <character>\n",
       "  [1]        <NA>        <NA> ENSP00000493376.2        <NA>\n",
       "  [2]        <NA>        <NA> ENSP00000334393.3 CCDS30547.1\n",
       "  [3]        <NA>        <NA> ENSP00000409316.1 CCDS72675.1\n",
       "  -------\n",
       "  seqinfo: 25 sequences from an unspecified genome; no seqlengths"
      ]
     },
     "metadata": {},
     "output_type": "display_data"
    },
    {
     "data": {
      "text/html": [
       "58073"
      ],
      "text/latex": [
       "58073"
      ],
      "text/markdown": [
       "58073"
      ],
      "text/plain": [
       "[1] 58073"
      ]
     },
     "metadata": {},
     "output_type": "display_data"
    }
   ],
   "source": [
    "gencode.basic.tx.hg38 = subset(subset(gencode.basic.hg38, gene_type==\"protein_coding\"), type==\"transcript\")\n",
    "head(gencode.basic.tx.hg38, 3)\n",
    "length(gencode.basic.tx.hg38)"
   ]
  },
  {
   "cell_type": "code",
   "execution_count": 219,
   "metadata": {},
   "outputs": [
    {
     "data": {
      "text/plain": [
       "GRanges object with 3 ranges and 21 metadata columns:\n",
       "      seqnames    ranges strand |   source       type     score     phase\n",
       "         <Rle> <IRanges>  <Rle> | <factor>   <factor> <numeric> <integer>\n",
       "  [1]     chr1     65419      + |   HAVANA transcript      <NA>      <NA>\n",
       "  [2]     chr1     69055      + |  ENSEMBL transcript      <NA>      <NA>\n",
       "  [3]     chr1    451697      - |   HAVANA transcript      <NA>      <NA>\n",
       "                gene_id      gene_type   gene_name       level     hgnc_id\n",
       "            <character>    <character> <character> <character> <character>\n",
       "  [1] ENSG00000186092.6 protein_coding       OR4F5           2  HGNC:14825\n",
       "  [2] ENSG00000186092.6 protein_coding       OR4F5           3  HGNC:14825\n",
       "  [3] ENSG00000284733.1 protein_coding      OR4F29           2  HGNC:31275\n",
       "               havana_gene     transcript_id transcript_type transcript_name\n",
       "               <character>       <character>     <character>     <character>\n",
       "  [1] OTTHUMG00000001094.4 ENST00000641515.2  protein_coding       OR4F5-202\n",
       "  [2] OTTHUMG00000001094.4 ENST00000335137.4  protein_coding       OR4F5-201\n",
       "  [3] OTTHUMG00000002860.3 ENST00000426406.3  protein_coding      OR4F29-201\n",
       "      transcript_support_level         tag    havana_transcript exon_number\n",
       "                   <character> <character>          <character> <character>\n",
       "  [1]                     <NA>       basic OTTHUMT00000003223.4        <NA>\n",
       "  [2]                       NA        CCDS                 <NA>        <NA>\n",
       "  [3]                       NA        CCDS OTTHUMT00000007999.3        <NA>\n",
       "          exon_id         ont        protein_id      ccdsid\n",
       "      <character> <character>       <character> <character>\n",
       "  [1]        <NA>        <NA> ENSP00000493376.2        <NA>\n",
       "  [2]        <NA>        <NA> ENSP00000334393.3 CCDS30547.1\n",
       "  [3]        <NA>        <NA> ENSP00000409316.1 CCDS72675.1\n",
       "  -------\n",
       "  seqinfo: 25 sequences from an unspecified genome; no seqlengths"
      ]
     },
     "metadata": {},
     "output_type": "display_data"
    }
   ],
   "source": [
    "gencode.basic.tss.hg38 = unique(resize(gencode.basic.tx.hg38, width = 1, fix=\"start\"))\n",
    "head(gencode.basic.tss.hg38, 3)"
   ]
  },
  {
   "cell_type": "code",
   "execution_count": 220,
   "metadata": {},
   "outputs": [
    {
     "data": {
      "text/plain": [
       "  0%  25%  50%  75% 100% \n",
       "   1    1    2    3   33 "
      ]
     },
     "metadata": {},
     "output_type": "display_data"
    }
   ],
   "source": [
    "quantile(table(gencode.basic.tss.hg38$gene_id), c(0,.25,.5,.75,1))"
   ]
  },
  {
   "cell_type": "code",
   "execution_count": 231,
   "metadata": {},
   "outputs": [
    {
     "data": {
      "text/html": [
       "<style>\n",
       ".list-inline {list-style: none; margin:0; padding: 0}\n",
       ".list-inline>li {display: inline-block}\n",
       ".list-inline>li:not(:last-child)::after {content: \"\\00b7\"; padding: 0 .5ex}\n",
       "</style>\n",
       "<ol class=list-inline><li>19894</li><li>3</li></ol>\n"
      ],
      "text/latex": [
       "\\begin{enumerate*}\n",
       "\\item 19894\n",
       "\\item 3\n",
       "\\end{enumerate*}\n"
      ],
      "text/markdown": [
       "1. 19894\n",
       "2. 3\n",
       "\n",
       "\n"
      ],
      "text/plain": [
       "[1] 19894     3"
      ]
     },
     "metadata": {},
     "output_type": "display_data"
    },
    {
     "data": {
      "text/html": [
       "<table>\n",
       "<caption>A data.frame: 6 × 3</caption>\n",
       "<thead>\n",
       "\t<tr><th></th><th scope=col>gene_name</th><th scope=col>range</th><th scope=col>diff</th></tr>\n",
       "\t<tr><th></th><th scope=col>&lt;chr&gt;</th><th scope=col>&lt;int[,2]&gt;</th><th scope=col>&lt;int&gt;</th></tr>\n",
       "</thead>\n",
       "<tbody>\n",
       "\t<tr><th scope=row>A1BG</th><td>A1BG   </td><td>58353492, 58353492</td><td>    0</td></tr>\n",
       "\t<tr><th scope=row>A1CF</th><td>A1CF   </td><td>50859985, 50885675</td><td>25690</td></tr>\n",
       "\t<tr><th scope=row>A2M</th><td>A2M    </td><td> 9116157,  9116157</td><td>    0</td></tr>\n",
       "\t<tr><th scope=row>A2ML1</th><td>A2ML1  </td><td> 8822621,  8845004</td><td>22383</td></tr>\n",
       "\t<tr><th scope=row>A3GALT2</th><td>A3GALT2</td><td>33321098, 33321098</td><td>    0</td></tr>\n",
       "\t<tr><th scope=row>A4GALT</th><td>A4GALT </td><td>42694986, 42720870</td><td>25884</td></tr>\n",
       "</tbody>\n",
       "</table>\n"
      ],
      "text/latex": [
       "A data.frame: 6 × 3\n",
       "\\begin{tabular}{r|lll}\n",
       "  & gene\\_name & range & diff\\\\\n",
       "  & <chr> & <int{[},2{]}> & <int>\\\\\n",
       "\\hline\n",
       "\tA1BG & A1BG    & 58353492, 58353492 &     0\\\\\n",
       "\tA1CF & A1CF    & 50859985, 50885675 & 25690\\\\\n",
       "\tA2M & A2M     &  9116157,  9116157 &     0\\\\\n",
       "\tA2ML1 & A2ML1   &  8822621,  8845004 & 22383\\\\\n",
       "\tA3GALT2 & A3GALT2 & 33321098, 33321098 &     0\\\\\n",
       "\tA4GALT & A4GALT  & 42694986, 42720870 & 25884\\\\\n",
       "\\end{tabular}\n"
      ],
      "text/markdown": [
       "\n",
       "A data.frame: 6 × 3\n",
       "\n",
       "| <!--/--> | gene_name &lt;chr&gt; | range &lt;int[,2]&gt; | diff &lt;int&gt; |\n",
       "|---|---|---|---|\n",
       "| A1BG | A1BG    | 58353492, 58353492 |     0 |\n",
       "| A1CF | A1CF    | 50859985, 50885675 | 25690 |\n",
       "| A2M | A2M     |  9116157,  9116157 |     0 |\n",
       "| A2ML1 | A2ML1   |  8822621,  8845004 | 22383 |\n",
       "| A3GALT2 | A3GALT2 | 33321098, 33321098 |     0 |\n",
       "| A4GALT | A4GALT  | 42694986, 42720870 | 25884 |\n",
       "\n"
      ],
      "text/plain": [
       "        gene_name range              diff \n",
       "A1BG    A1BG      58353492, 58353492     0\n",
       "A1CF    A1CF      50859985, 50885675 25690\n",
       "A2M     A2M        9116157,  9116157     0\n",
       "A2ML1   A2ML1      8822621,  8845004 22383\n",
       "A3GALT2 A3GALT2   33321098, 33321098     0\n",
       "A4GALT  A4GALT    42694986, 42720870 25884"
      ]
     },
     "metadata": {},
     "output_type": "display_data"
    }
   ],
   "source": [
    "tss_ranges = aggregate(start(gencode.basic.tss.hg38), by=list(gencode.basic.tss.hg38$gene_name), range)\n",
    "colnames(tss_ranges) = c(\"gene_name\", \"range\")\n",
    "tss_ranges$diff = abs(tss_ranges$range[,1]-tss_ranges$range[,2])\n",
    "\n",
    "rownames(tss_ranges) = tss_ranges$gene_name\n",
    "\n",
    "dim(tss_ranges)\n",
    "head(tss_ranges)"
   ]
  },
  {
   "cell_type": "code",
   "execution_count": 232,
   "metadata": {},
   "outputs": [
    {
     "data": {
      "text/html": [
       "18"
      ],
      "text/latex": [
       "18"
      ],
      "text/markdown": [
       "18"
      ],
      "text/plain": [
       "[1] 18"
      ]
     },
     "metadata": {},
     "output_type": "display_data"
    },
    {
     "data": {
      "text/html": [
       "<style>\n",
       ".list-inline {list-style: none; margin:0; padding: 0}\n",
       ".list-inline>li {display: inline-block}\n",
       ".list-inline>li:not(:last-child)::after {content: \"\\00b7\"; padding: 0 .5ex}\n",
       "</style>\n",
       "<ol class=list-inline><li>19876</li><li>3</li></ol>\n"
      ],
      "text/latex": [
       "\\begin{enumerate*}\n",
       "\\item 19876\n",
       "\\item 3\n",
       "\\end{enumerate*}\n"
      ],
      "text/markdown": [
       "1. 19876\n",
       "2. 3\n",
       "\n",
       "\n"
      ],
      "text/plain": [
       "[1] 19876     3"
      ]
     },
     "metadata": {},
     "output_type": "display_data"
    }
   ],
   "source": [
    "# a few genes are on multiple chrs, remove them\n",
    "chr_counts = table(unique(data.frame(gencode.basic.tss.hg38)[,c(\"seqnames\", \"gene_name\")])$gene_name)\n",
    "sum(chr_counts>1)\n",
    "\n",
    "tss_ranges = tss_ranges[tss_ranges$gene_name %in% names(chr_counts[chr_counts==1]), ]\n",
    "dim(tss_ranges)"
   ]
  },
  {
   "cell_type": "code",
   "execution_count": 233,
   "metadata": {},
   "outputs": [
    {
     "data": {
      "text/html": [
       "<table>\n",
       "<caption>A data.frame: 6 × 2</caption>\n",
       "<thead>\n",
       "\t<tr><th></th><th scope=col>seqnames</th><th scope=col>gene_name</th></tr>\n",
       "\t<tr><th></th><th scope=col>&lt;fct&gt;</th><th scope=col>&lt;chr&gt;</th></tr>\n",
       "</thead>\n",
       "<tbody>\n",
       "\t<tr><th scope=row>OR4F5</th><td>chr1</td><td>OR4F5 </td></tr>\n",
       "\t<tr><th scope=row>OR4F29</th><td>chr1</td><td>OR4F29</td></tr>\n",
       "\t<tr><th scope=row>OR4F16</th><td>chr1</td><td>OR4F16</td></tr>\n",
       "\t<tr><th scope=row>SAMD11</th><td>chr1</td><td>SAMD11</td></tr>\n",
       "\t<tr><th scope=row>NOC2L</th><td>chr1</td><td>NOC2L </td></tr>\n",
       "\t<tr><th scope=row>KLHL17</th><td>chr1</td><td>KLHL17</td></tr>\n",
       "</tbody>\n",
       "</table>\n"
      ],
      "text/latex": [
       "A data.frame: 6 × 2\n",
       "\\begin{tabular}{r|ll}\n",
       "  & seqnames & gene\\_name\\\\\n",
       "  & <fct> & <chr>\\\\\n",
       "\\hline\n",
       "\tOR4F5 & chr1 & OR4F5 \\\\\n",
       "\tOR4F29 & chr1 & OR4F29\\\\\n",
       "\tOR4F16 & chr1 & OR4F16\\\\\n",
       "\tSAMD11 & chr1 & SAMD11\\\\\n",
       "\tNOC2L & chr1 & NOC2L \\\\\n",
       "\tKLHL17 & chr1 & KLHL17\\\\\n",
       "\\end{tabular}\n"
      ],
      "text/markdown": [
       "\n",
       "A data.frame: 6 × 2\n",
       "\n",
       "| <!--/--> | seqnames &lt;fct&gt; | gene_name &lt;chr&gt; |\n",
       "|---|---|---|\n",
       "| OR4F5 | chr1 | OR4F5  |\n",
       "| OR4F29 | chr1 | OR4F29 |\n",
       "| OR4F16 | chr1 | OR4F16 |\n",
       "| SAMD11 | chr1 | SAMD11 |\n",
       "| NOC2L | chr1 | NOC2L  |\n",
       "| KLHL17 | chr1 | KLHL17 |\n",
       "\n"
      ],
      "text/plain": [
       "       seqnames gene_name\n",
       "OR4F5  chr1     OR4F5    \n",
       "OR4F29 chr1     OR4F29   \n",
       "OR4F16 chr1     OR4F16   \n",
       "SAMD11 chr1     SAMD11   \n",
       "NOC2L  chr1     NOC2L    \n",
       "KLHL17 chr1     KLHL17   "
      ]
     },
     "metadata": {},
     "output_type": "display_data"
    }
   ],
   "source": [
    "head(gene_chr)"
   ]
  },
  {
   "cell_type": "code",
   "execution_count": 234,
   "metadata": {},
   "outputs": [
    {
     "data": {
      "text/html": [
       "<table>\n",
       "<caption>A data.frame: 6 × 4</caption>\n",
       "<thead>\n",
       "\t<tr><th></th><th scope=col>gene_name</th><th scope=col>range</th><th scope=col>diff</th><th scope=col>chr</th></tr>\n",
       "\t<tr><th></th><th scope=col>&lt;chr&gt;</th><th scope=col>&lt;int[,2]&gt;</th><th scope=col>&lt;int&gt;</th><th scope=col>&lt;fct&gt;</th></tr>\n",
       "</thead>\n",
       "<tbody>\n",
       "\t<tr><th scope=row>A1BG</th><td>A1BG   </td><td>58353492, 58353492</td><td>    0</td><td>chr19</td></tr>\n",
       "\t<tr><th scope=row>A1CF</th><td>A1CF   </td><td>50859985, 50885675</td><td>25690</td><td>chr10</td></tr>\n",
       "\t<tr><th scope=row>A2M</th><td>A2M    </td><td> 9116157,  9116157</td><td>    0</td><td>chr12</td></tr>\n",
       "\t<tr><th scope=row>A2ML1</th><td>A2ML1  </td><td> 8822621,  8845004</td><td>22383</td><td>chr12</td></tr>\n",
       "\t<tr><th scope=row>A3GALT2</th><td>A3GALT2</td><td>33321098, 33321098</td><td>    0</td><td>chr1 </td></tr>\n",
       "\t<tr><th scope=row>A4GALT</th><td>A4GALT </td><td>42694986, 42720870</td><td>25884</td><td>chr22</td></tr>\n",
       "</tbody>\n",
       "</table>\n"
      ],
      "text/latex": [
       "A data.frame: 6 × 4\n",
       "\\begin{tabular}{r|llll}\n",
       "  & gene\\_name & range & diff & chr\\\\\n",
       "  & <chr> & <int{[},2{]}> & <int> & <fct>\\\\\n",
       "\\hline\n",
       "\tA1BG & A1BG    & 58353492, 58353492 &     0 & chr19\\\\\n",
       "\tA1CF & A1CF    & 50859985, 50885675 & 25690 & chr10\\\\\n",
       "\tA2M & A2M     &  9116157,  9116157 &     0 & chr12\\\\\n",
       "\tA2ML1 & A2ML1   &  8822621,  8845004 & 22383 & chr12\\\\\n",
       "\tA3GALT2 & A3GALT2 & 33321098, 33321098 &     0 & chr1 \\\\\n",
       "\tA4GALT & A4GALT  & 42694986, 42720870 & 25884 & chr22\\\\\n",
       "\\end{tabular}\n"
      ],
      "text/markdown": [
       "\n",
       "A data.frame: 6 × 4\n",
       "\n",
       "| <!--/--> | gene_name &lt;chr&gt; | range &lt;int[,2]&gt; | diff &lt;int&gt; | chr &lt;fct&gt; |\n",
       "|---|---|---|---|---|\n",
       "| A1BG | A1BG    | 58353492, 58353492 |     0 | chr19 |\n",
       "| A1CF | A1CF    | 50859985, 50885675 | 25690 | chr10 |\n",
       "| A2M | A2M     |  9116157,  9116157 |     0 | chr12 |\n",
       "| A2ML1 | A2ML1   |  8822621,  8845004 | 22383 | chr12 |\n",
       "| A3GALT2 | A3GALT2 | 33321098, 33321098 |     0 | chr1  |\n",
       "| A4GALT | A4GALT  | 42694986, 42720870 | 25884 | chr22 |\n",
       "\n"
      ],
      "text/plain": [
       "        gene_name range              diff  chr  \n",
       "A1BG    A1BG      58353492, 58353492     0 chr19\n",
       "A1CF    A1CF      50859985, 50885675 25690 chr10\n",
       "A2M     A2M        9116157,  9116157     0 chr12\n",
       "A2ML1   A2ML1      8822621,  8845004 22383 chr12\n",
       "A3GALT2 A3GALT2   33321098, 33321098     0 chr1 \n",
       "A4GALT  A4GALT    42694986, 42720870 25884 chr22"
      ]
     },
     "metadata": {},
     "output_type": "display_data"
    }
   ],
   "source": [
    "# assign chromosome to remaining genes\n",
    "gene_chr = unique(data.frame(gencode.basic.tss.hg38)[,c(\"seqnames\", \"gene_name\")])\n",
    "gene_chr = gene_chr[gene_chr$gene_name %in% names(chr_counts[chr_counts==1]), ]\n",
    "rownames(gene_chr) = gene_chr$gene_name\n",
    "\n",
    "tss_ranges$chr = gene_chr[tss_ranges$gene_name, \"seqnames\"]\n",
    "head(tss_ranges)"
   ]
  },
  {
   "cell_type": "code",
   "execution_count": 235,
   "metadata": {},
   "outputs": [
    {
     "data": {
      "image/png": "[encoded data removed]",
      "text/plain": [
       "plot without title"
      ]
     },
     "metadata": {
      "image/png": {
       "height": 300,
       "width": 300
      },
      "text/plain": {
       "height": 300,
       "width": 300
      }
     },
     "output_type": "display_data"
    }
   ],
   "source": [
    "options(repr.plot.width = 5, repr.plot.height = 5)\n",
    "ggplot(data.frame(tss_ranges[order(tss_ranges$diff),],\n",
    "                 x=seq(dim(tss_ranges)[1])),\n",
    "       aes(x=x, y=1+diff)) +\n",
    "ggtitle(\"Distance between Alternate TSS (GENCODE Basic)\") +\n",
    "xlab(\"Gene\") + \n",
    "ylab(\"Max distance (bp) between alternate TSS (if any)\") +\n",
    "scale_y_continuous(trans='log10') +\n",
    "geom_point()"
   ]
  },
  {
   "cell_type": "code",
   "execution_count": 236,
   "metadata": {},
   "outputs": [
    {
     "data": {
      "text/html": [
       "<table>\n",
       "<caption>A data.frame: 6 × 2</caption>\n",
       "<thead>\n",
       "\t<tr><th></th><th scope=col>range_gene_name</th><th scope=col>tss_gene_name</th></tr>\n",
       "\t<tr><th></th><th scope=col>&lt;fct&gt;</th><th scope=col>&lt;fct&gt;</th></tr>\n",
       "</thead>\n",
       "<tbody>\n",
       "\t<tr><th scope=row>31</th><td>AAGAB </td><td>IQCH   </td></tr>\n",
       "\t<tr><th scope=row>68</th><td>AATK  </td><td>PVALEF </td></tr>\n",
       "\t<tr><th scope=row>103</th><td>ABCB1 </td><td>RUNDC3B</td></tr>\n",
       "\t<tr><th scope=row>135</th><td>ABCB9 </td><td>OGFOD2 </td></tr>\n",
       "\t<tr><th scope=row>142</th><td>ABCB9 </td><td>ARL6IP4</td></tr>\n",
       "\t<tr><th scope=row>157</th><td>ABCC11</td><td>LONP2  </td></tr>\n",
       "</tbody>\n",
       "</table>\n"
      ],
      "text/latex": [
       "A data.frame: 6 × 2\n",
       "\\begin{tabular}{r|ll}\n",
       "  & range\\_gene\\_name & tss\\_gene\\_name\\\\\n",
       "  & <fct> & <fct>\\\\\n",
       "\\hline\n",
       "\t31 & AAGAB  & IQCH   \\\\\n",
       "\t68 & AATK   & PVALEF \\\\\n",
       "\t103 & ABCB1  & RUNDC3B\\\\\n",
       "\t135 & ABCB9  & OGFOD2 \\\\\n",
       "\t142 & ABCB9  & ARL6IP4\\\\\n",
       "\t157 & ABCC11 & LONP2  \\\\\n",
       "\\end{tabular}\n"
      ],
      "text/markdown": [
       "\n",
       "A data.frame: 6 × 2\n",
       "\n",
       "| <!--/--> | range_gene_name &lt;fct&gt; | tss_gene_name &lt;fct&gt; |\n",
       "|---|---|---|\n",
       "| 31 | AAGAB  | IQCH    |\n",
       "| 68 | AATK   | PVALEF  |\n",
       "| 103 | ABCB1  | RUNDC3B |\n",
       "| 135 | ABCB9  | OGFOD2  |\n",
       "| 142 | ABCB9  | ARL6IP4 |\n",
       "| 157 | ABCC11 | LONP2   |\n",
       "\n"
      ],
      "text/plain": [
       "    range_gene_name tss_gene_name\n",
       "31  AAGAB           IQCH         \n",
       "68  AATK            PVALEF       \n",
       "103 ABCB1           RUNDC3B      \n",
       "135 ABCB9           OGFOD2       \n",
       "142 ABCB9           ARL6IP4      \n",
       "157 ABCC11          LONP2        "
      ]
     },
     "metadata": {},
     "output_type": "display_data"
    }
   ],
   "source": [
    "# how many other genes between alternate TSSes of a gene?\n",
    "range_gr = GRanges(data.frame(chr=tss_ranges$chr, \n",
    "                   start=apply(tss_ranges$range, 1, min),\n",
    "                   end=apply(tss_ranges$range, 1, max)))\n",
    "overlaps = findOverlaps(range_gr, gencode.basic.tss.hg38)\n",
    "\n",
    "intersect_gene_df = data.frame(range_gene_name = tss_ranges[queryHits(overlaps), \"gene_name\"], \n",
    "           tss_gene_name = gencode.basic.tss.hg38[subjectHits(overlaps)]$gene_name)\n",
    "intersect_gene_df = unique(intersect_gene_df[intersect_gene_df$range_gene_name!=intersect_gene_df$tss_gene_name, ])\n",
    "head(intersect_gene_df)"
   ]
  },
  {
   "cell_type": "code",
   "execution_count": 242,
   "metadata": {},
   "outputs": [
    {
     "data": {
      "text/html": [
       "<table>\n",
       "<caption>A data.frame: 6 × 5</caption>\n",
       "<thead>\n",
       "\t<tr><th></th><th scope=col>gene_name</th><th scope=col>range</th><th scope=col>diff</th><th scope=col>chr</th><th scope=col>other_genes_in_range</th></tr>\n",
       "\t<tr><th></th><th scope=col>&lt;chr&gt;</th><th scope=col>&lt;int[,2]&gt;</th><th scope=col>&lt;int&gt;</th><th scope=col>&lt;fct&gt;</th><th scope=col>&lt;int&gt;</th></tr>\n",
       "</thead>\n",
       "<tbody>\n",
       "\t<tr><th scope=row>HBG2</th><td>HBG2 </td><td> 5254741,  5505605</td><td>250864</td><td>chr11</td><td>11</td></tr>\n",
       "\t<tr><th scope=row>MMP26</th><td>MMP26</td><td> 4767270,  4988194</td><td>220924</td><td>chr11</td><td>10</td></tr>\n",
       "\t<tr><th scope=row>HBE1</th><td>HBE1 </td><td> 5269945,  5505652</td><td>235707</td><td>chr11</td><td>10</td></tr>\n",
       "\t<tr><th scope=row>TRIM5</th><td>TRIM5</td><td> 5685042,  5872358</td><td>187316</td><td>chr11</td><td> 8</td></tr>\n",
       "\t<tr><th scope=row>PRH1</th><td>PRH1 </td><td>10884253, 11047190</td><td>162937</td><td>chr12</td><td> 7</td></tr>\n",
       "\t<tr><th scope=row>RMI2</th><td>RMI2 </td><td>11249649, 11345470</td><td> 95821</td><td>chr16</td><td> 5</td></tr>\n",
       "</tbody>\n",
       "</table>\n"
      ],
      "text/latex": [
       "A data.frame: 6 × 5\n",
       "\\begin{tabular}{r|lllll}\n",
       "  & gene\\_name & range & diff & chr & other\\_genes\\_in\\_range\\\\\n",
       "  & <chr> & <int{[},2{]}> & <int> & <fct> & <int>\\\\\n",
       "\\hline\n",
       "\tHBG2 & HBG2  &  5254741,  5505605 & 250864 & chr11 & 11\\\\\n",
       "\tMMP26 & MMP26 &  4767270,  4988194 & 220924 & chr11 & 10\\\\\n",
       "\tHBE1 & HBE1  &  5269945,  5505652 & 235707 & chr11 & 10\\\\\n",
       "\tTRIM5 & TRIM5 &  5685042,  5872358 & 187316 & chr11 &  8\\\\\n",
       "\tPRH1 & PRH1  & 10884253, 11047190 & 162937 & chr12 &  7\\\\\n",
       "\tRMI2 & RMI2  & 11249649, 11345470 &  95821 & chr16 &  5\\\\\n",
       "\\end{tabular}\n"
      ],
      "text/markdown": [
       "\n",
       "A data.frame: 6 × 5\n",
       "\n",
       "| <!--/--> | gene_name &lt;chr&gt; | range &lt;int[,2]&gt; | diff &lt;int&gt; | chr &lt;fct&gt; | other_genes_in_range &lt;int&gt; |\n",
       "|---|---|---|---|---|---|\n",
       "| HBG2 | HBG2  |  5254741,  5505605 | 250864 | chr11 | 11 |\n",
       "| MMP26 | MMP26 |  4767270,  4988194 | 220924 | chr11 | 10 |\n",
       "| HBE1 | HBE1  |  5269945,  5505652 | 235707 | chr11 | 10 |\n",
       "| TRIM5 | TRIM5 |  5685042,  5872358 | 187316 | chr11 |  8 |\n",
       "| PRH1 | PRH1  | 10884253, 11047190 | 162937 | chr12 |  7 |\n",
       "| RMI2 | RMI2  | 11249649, 11345470 |  95821 | chr16 |  5 |\n",
       "\n"
      ],
      "text/plain": [
       "      gene_name range              diff   chr   other_genes_in_range\n",
       "HBG2  HBG2       5254741,  5505605 250864 chr11 11                  \n",
       "MMP26 MMP26      4767270,  4988194 220924 chr11 10                  \n",
       "HBE1  HBE1       5269945,  5505652 235707 chr11 10                  \n",
       "TRIM5 TRIM5      5685042,  5872358 187316 chr11  8                  \n",
       "PRH1  PRH1      10884253, 11047190 162937 chr12  7                  \n",
       "RMI2  RMI2      11249649, 11345470  95821 chr16  5                  "
      ]
     },
     "metadata": {},
     "output_type": "display_data"
    }
   ],
   "source": [
    "tss_ranges$other_genes_in_range = as.vector(table(intersect_gene_df$range_gene_name)[tss_ranges$gene_name])\n",
    "head(tss_ranges[rev(order(tss_ranges$other_genes_in_range)),])"
   ]
  },
  {
   "cell_type": "code",
   "execution_count": 243,
   "metadata": {},
   "outputs": [
    {
     "data": {
      "text/html": [
       "911"
      ],
      "text/latex": [
       "911"
      ],
      "text/markdown": [
       "911"
      ],
      "text/plain": [
       "[1] 911"
      ]
     },
     "metadata": {},
     "output_type": "display_data"
    }
   ],
   "source": [
    "sum(tss_ranges$other_genes_in_range>0)"
   ]
  },
  {
   "cell_type": "code",
   "execution_count": 244,
   "metadata": {},
   "outputs": [
    {
     "data": {
      "image/png": "[encoded data removed]",
      "text/plain": [
       "plot without title"
      ]
     },
     "metadata": {
      "image/png": {
       "height": 300,
       "width": 300
      },
      "text/plain": {
       "height": 300,
       "width": 300
      }
     },
     "output_type": "display_data"
    }
   ],
   "source": [
    "options(repr.plot.width = 5, repr.plot.height = 5)\n",
    "ggplot(data.frame(tss_ranges[order(tss_ranges$other_genes_in_range),],\n",
    "                 x=seq(dim(tss_ranges)[1])),\n",
    "       aes(x=x, y=other_genes_in_range)) +\n",
    "ggtitle(\"Number of Other Genes Between Alternate TSS (GENCODE Basic)\") +\n",
    "xlab(\"Gene\") + \n",
    "ylab(\"Number of Other Genes Between Alternate TSS (if any)\") +\n",
    "geom_point()"
   ]
  },
  {
   "cell_type": "markdown",
   "metadata": {},
   "source": [
    "## Load ArchR Gene Set\n",
    "\n",
    "ArchR uses gene set from UCSC txdb knownGene."
   ]
  },
  {
   "cell_type": "code",
   "execution_count": 13,
   "metadata": {},
   "outputs": [],
   "source": [
    "load(\"../../../resources/ArchRGene/geneAnnoHg38.rda\")"
   ]
  },
  {
   "cell_type": "code",
   "execution_count": 16,
   "metadata": {},
   "outputs": [],
   "source": [
    "ucsc.knownGene.hg38 = geneAnnoHg38$genes"
   ]
  },
  {
   "cell_type": "code",
   "execution_count": 180,
   "metadata": {},
   "outputs": [],
   "source": [
    "ucsc.knownGene.tss.hg38 = resize(ucsc.knownGene.hg38, width=1, fix = \"start\")"
   ]
  },
  {
   "cell_type": "code",
   "execution_count": 182,
   "metadata": {},
   "outputs": [
    {
     "data": {
      "text/plain": [
       "GRanges object with 25017 ranges and 2 metadata columns:\n",
       "          seqnames    ranges strand |     gene_id       symbol\n",
       "             <Rle> <IRanges>  <Rle> | <character>  <character>\n",
       "      [1]     chr1     69091      + |       79501        OR4F5\n",
       "      [2]     chr1    140339      - |      729737    LOC729737\n",
       "      [3]     chr1    629010      - |   101928626 LOC101928626\n",
       "      [4]     chr1    632413      - |   102465432         <NA>\n",
       "      [5]     chr1    817371      + |      400728       FAM87B\n",
       "      ...      ...       ...    ... .         ...          ...\n",
       "  [25013]     chrY  21594666      - |       83868       TTTY13\n",
       "  [25014]     chrY  21918067      - |      378949       RBMY1D\n",
       "  [25015]     chrY  22298876      - |       83863        TTTY5\n",
       "  [25016]     chrY  23199094      - |        1617         DAZ1\n",
       "  [25017]     chrY  23219447      + |       57055         DAZ2\n",
       "  -------\n",
       "  seqinfo: 24 sequences from hg38 genome"
      ]
     },
     "metadata": {},
     "output_type": "display_data"
    }
   ],
   "source": [
    "ucsc.knownGene.tss.hg38"
   ]
  },
  {
   "cell_type": "code",
   "execution_count": 183,
   "metadata": {},
   "outputs": [
    {
     "data": {
      "text/html": [
       "1"
      ],
      "text/latex": [
       "1"
      ],
      "text/markdown": [
       "1"
      ],
      "text/plain": [
       "[1] 1"
      ]
     },
     "metadata": {},
     "output_type": "display_data"
    }
   ],
   "source": [
    "# all have one transcript\n",
    "max(table(ucsc.knownGene.tss.hg38$gene_id))"
   ]
  },
  {
   "cell_type": "markdown",
   "metadata": {},
   "source": [
    "## Overlap Between the 2 sets"
   ]
  },
  {
   "cell_type": "code",
   "execution_count": 245,
   "metadata": {},
   "outputs": [
    {
     "data": {
      "text/html": [
       "18619"
      ],
      "text/latex": [
       "18619"
      ],
      "text/markdown": [
       "18619"
      ],
      "text/plain": [
       "[1] 18619"
      ]
     },
     "metadata": {},
     "output_type": "display_data"
    }
   ],
   "source": [
    "length(intersect(ucsc.knownGene.tss.hg38$symbol, gencode.basic.tss.hg38$gene_name))"
   ]
  },
  {
   "cell_type": "code",
   "execution_count": 246,
   "metadata": {},
   "outputs": [
    {
     "data": {
      "text/html": [
       "6343"
      ],
      "text/latex": [
       "6343"
      ],
      "text/markdown": [
       "6343"
      ],
      "text/plain": [
       "[1] 6343"
      ]
     },
     "metadata": {},
     "output_type": "display_data"
    },
    {
     "data": {
      "text/html": [
       "<style>\n",
       ".list-inline {list-style: none; margin:0; padding: 0}\n",
       ".list-inline>li {display: inline-block}\n",
       ".list-inline>li:not(:last-child)::after {content: \"\\00b7\"; padding: 0 .5ex}\n",
       "</style>\n",
       "<ol class=list-inline><li>'LINC01297'</li><li>'HNF4A-AS1'</li><li>'MIR4772'</li><li>'LOC101927136'</li><li>'LINC02274'</li></ol>\n"
      ],
      "text/latex": [
       "\\begin{enumerate*}\n",
       "\\item 'LINC01297'\n",
       "\\item 'HNF4A-AS1'\n",
       "\\item 'MIR4772'\n",
       "\\item 'LOC101927136'\n",
       "\\item 'LINC02274'\n",
       "\\end{enumerate*}\n"
      ],
      "text/markdown": [
       "1. 'LINC01297'\n",
       "2. 'HNF4A-AS1'\n",
       "3. 'MIR4772'\n",
       "4. 'LOC101927136'\n",
       "5. 'LINC02274'\n",
       "\n",
       "\n"
      ],
      "text/plain": [
       "[1] \"LINC01297\"    \"HNF4A-AS1\"    \"MIR4772\"      \"LOC101927136\" \"LINC02274\"   "
      ]
     },
     "metadata": {},
     "output_type": "display_data"
    }
   ],
   "source": [
    "# seem to be mostly lncRNA and miRNA etc\n",
    "length(setdiff(ucsc.knownGene.tss.hg38$symbol, gencode.basic.tss.hg38$gene_name))\n",
    "sample(setdiff(ucsc.knownGene.tss.hg38$symbol, gencode.basic.tss.hg38$gene_name), 5)"
   ]
  },
  {
   "cell_type": "code",
   "execution_count": 247,
   "metadata": {},
   "outputs": [
    {
     "data": {
      "text/html": [
       "1275"
      ],
      "text/latex": [
       "1275"
      ],
      "text/markdown": [
       "1275"
      ],
      "text/plain": [
       "[1] 1275"
      ]
     },
     "metadata": {},
     "output_type": "display_data"
    },
    {
     "data": {
      "text/html": [
       "<style>\n",
       ".list-inline {list-style: none; margin:0; padding: 0}\n",
       ".list-inline>li {display: inline-block}\n",
       ".list-inline>li:not(:last-child)::after {content: \"\\00b7\"; padding: 0 .5ex}\n",
       "</style>\n",
       "<ol class=list-inline><li>'H3-3A'</li><li>'AC026464.6'</li><li>'AL353579.1'</li><li>'H2BC21'</li><li>'AC084121.6'</li></ol>\n"
      ],
      "text/latex": [
       "\\begin{enumerate*}\n",
       "\\item 'H3-3A'\n",
       "\\item 'AC026464.6'\n",
       "\\item 'AL353579.1'\n",
       "\\item 'H2BC21'\n",
       "\\item 'AC084121.6'\n",
       "\\end{enumerate*}\n"
      ],
      "text/markdown": [
       "1. 'H3-3A'\n",
       "2. 'AC026464.6'\n",
       "3. 'AL353579.1'\n",
       "4. 'H2BC21'\n",
       "5. 'AC084121.6'\n",
       "\n",
       "\n"
      ],
      "text/plain": [
       "[1] \"H3-3A\"      \"AC026464.6\" \"AL353579.1\" \"H2BC21\"     \"AC084121.6\""
      ]
     },
     "metadata": {},
     "output_type": "display_data"
    }
   ],
   "source": [
    "# seems like there is a naming mismatch for these genes but they are present + few novel transcripts\n",
    "length(setdiff(gencode.basic.tss.hg38$gene_name, ucsc.knownGene.tss.hg38$symbol))\n",
    "sample(setdiff(gencode.basic.tss.hg38$gene_name, ucsc.knownGene.tss.hg38$symbol), 5)"
   ]
  },
  {
   "cell_type": "code",
   "execution_count": 248,
   "metadata": {},
   "outputs": [
    {
     "data": {
      "text/html": [
       "17966"
      ],
      "text/latex": [
       "17966"
      ],
      "text/markdown": [
       "17966"
      ],
      "text/plain": [
       "[1] 17966"
      ]
     },
     "metadata": {},
     "output_type": "display_data"
    }
   ],
   "source": [
    "# how many have nearby TSSes (this will also include those with name mismatches)\n",
    "ucsc_genes_intersect_tss = ucsc.knownGene.tss.hg38[unique(queryHits(findOverlaps(ucsc.knownGene.tss.hg38+1000, gencode.basic.tss.hg38+1000)))]$symbol\n",
    "length(ucsc_genes_intersect_tss)"
   ]
  },
  {
   "cell_type": "code",
   "execution_count": 249,
   "metadata": {},
   "outputs": [
    {
     "data": {
      "text/html": [
       "7009"
      ],
      "text/latex": [
       "7009"
      ],
      "text/markdown": [
       "7009"
      ],
      "text/plain": [
       "[1] 7009"
      ]
     },
     "metadata": {},
     "output_type": "display_data"
    },
    {
     "data": {
      "text/html": [
       "<style>\n",
       ".list-inline {list-style: none; margin:0; padding: 0}\n",
       ".list-inline>li {display: inline-block}\n",
       ".list-inline>li:not(:last-child)::after {content: \"\\00b7\"; padding: 0 .5ex}\n",
       "</style>\n",
       "<ol class=list-inline><li>'LOC101929705'</li><li>'INTS12'</li><li>'MIR3130-2'</li><li>'MIR6806'</li><li>'LOC101929352'</li></ol>\n"
      ],
      "text/latex": [
       "\\begin{enumerate*}\n",
       "\\item 'LOC101929705'\n",
       "\\item 'INTS12'\n",
       "\\item 'MIR3130-2'\n",
       "\\item 'MIR6806'\n",
       "\\item 'LOC101929352'\n",
       "\\end{enumerate*}\n"
      ],
      "text/markdown": [
       "1. 'LOC101929705'\n",
       "2. 'INTS12'\n",
       "3. 'MIR3130-2'\n",
       "4. 'MIR6806'\n",
       "5. 'LOC101929352'\n",
       "\n",
       "\n"
      ],
      "text/plain": [
       "[1] \"LOC101929705\" \"INTS12\"       \"MIR3130-2\"    \"MIR6806\"      \"LOC101929352\""
      ]
     },
     "metadata": {},
     "output_type": "display_data"
    }
   ],
   "source": [
    "# UCSC genes TSS of which don't intersect one from GENCODE\n",
    "ucsc_genes_not_intersect_tss = setdiff(ucsc.knownGene.tss.hg38$symbol, ucsc_genes_intersect_tss)\n",
    "length(ucsc_genes_not_intersect_tss)\n",
    "sample(ucsc_genes_not_intersect_tss, 5)"
   ]
  },
  {
   "cell_type": "code",
   "execution_count": 250,
   "metadata": {},
   "outputs": [
    {
     "data": {
      "text/html": [
       "1280"
      ],
      "text/latex": [
       "1280"
      ],
      "text/markdown": [
       "1280"
      ],
      "text/plain": [
       "[1] 1280"
      ]
     },
     "metadata": {},
     "output_type": "display_data"
    },
    {
     "data": {
      "text/html": [
       "<style>\n",
       ".list-inline {list-style: none; margin:0; padding: 0}\n",
       ".list-inline>li {display: inline-block}\n",
       ".list-inline>li:not(:last-child)::after {content: \"\\00b7\"; padding: 0 .5ex}\n",
       "</style>\n",
       "<ol class=list-inline><li>'ZNF529'</li><li>'SYT9'</li><li>'BEGAIN'</li><li>'SASH1'</li><li>'ELMO2'</li></ol>\n"
      ],
      "text/latex": [
       "\\begin{enumerate*}\n",
       "\\item 'ZNF529'\n",
       "\\item 'SYT9'\n",
       "\\item 'BEGAIN'\n",
       "\\item 'SASH1'\n",
       "\\item 'ELMO2'\n",
       "\\end{enumerate*}\n"
      ],
      "text/markdown": [
       "1. 'ZNF529'\n",
       "2. 'SYT9'\n",
       "3. 'BEGAIN'\n",
       "4. 'SASH1'\n",
       "5. 'ELMO2'\n",
       "\n",
       "\n"
      ],
      "text/plain": [
       "[1] \"ZNF529\" \"SYT9\"   \"BEGAIN\" \"SASH1\"  \"ELMO2\" "
      ]
     },
     "metadata": {},
     "output_type": "display_data"
    }
   ],
   "source": [
    "# genes present in GENCODE which don't overlap\n",
    "length(ucsc_genes_not_intersect_tss[ucsc_genes_not_intersect_tss %in% gencode.basic.tss.hg38$gene_name])\n",
    "sample(ucsc_genes_not_intersect_tss[ucsc_genes_not_intersect_tss %in% gencode.basic.tss.hg38$gene_name], 5)"
   ]
  },
  {
   "cell_type": "code",
   "execution_count": 262,
   "metadata": {},
   "outputs": [
    {
     "data": {
      "text/plain": [
       "GRanges object with 1 range and 2 metadata columns:\n",
       "      seqnames    ranges strand |     gene_id      symbol\n",
       "         <Rle> <IRanges>  <Rle> | <character> <character>\n",
       "  [1]    chr10  79703227      + |      729262      NUTM2B\n",
       "  -------\n",
       "  seqinfo: 24 sequences from hg38 genome"
      ]
     },
     "metadata": {},
     "output_type": "display_data"
    },
    {
     "data": {
      "text/plain": [
       "GRanges object with 2 ranges and 21 metadata columns:\n",
       "      seqnames    ranges strand |   source       type     score     phase\n",
       "         <Rle> <IRanges>  <Rle> | <factor>   <factor> <numeric> <integer>\n",
       "  [1]    chr10  79703227      + |  ENSEMBL transcript      <NA>      <NA>\n",
       "  [2]    chr10  79703279      + |   HAVANA transcript      <NA>      <NA>\n",
       "                 gene_id      gene_type   gene_name       level     hgnc_id\n",
       "             <character>    <character> <character> <character> <character>\n",
       "  [1] ENSG00000188199.10 protein_coding      NUTM2B           3  HGNC:23445\n",
       "  [2] ENSG00000188199.10 protein_coding      NUTM2B           2  HGNC:23445\n",
       "               havana_gene     transcript_id transcript_type transcript_name\n",
       "               <character>       <character>     <character>     <character>\n",
       "  [1] OTTHUMG00000018572.3 ENST00000429828.5  protein_coding      NUTM2B-203\n",
       "  [2] OTTHUMG00000018572.3 ENST00000372321.5  protein_coding      NUTM2B-202\n",
       "      transcript_support_level         tag    havana_transcript exon_number\n",
       "                   <character> <character>          <character> <character>\n",
       "  [1]                        5        CCDS                 <NA>        <NA>\n",
       "  [2]                        5       basic OTTHUMT00000048973.1        <NA>\n",
       "          exon_id         ont        protein_id      ccdsid\n",
       "      <character> <character>       <character> <character>\n",
       "  [1]        <NA>        <NA> ENSP00000394623.1 CCDS60574.1\n",
       "  [2]        <NA>        <NA> ENSP00000361396.1        <NA>\n",
       "  -------\n",
       "  seqinfo: 25 sequences from an unspecified genome; no seqlengths"
      ]
     },
     "metadata": {},
     "output_type": "display_data"
    }
   ],
   "source": [
    "GENE = \"NUTM2B\"\n",
    "ucsc.knownGene.tss.hg38[ucsc.knownGene.tss.hg38$symbol%in% c(GENE)]\n",
    "gencode.basic.tss.hg38[gencode.basic.tss.hg38$gene_name%in% c(GENE)]"
   ]
  },
  {
   "cell_type": "code",
   "execution_count": null,
   "metadata": {},
   "outputs": [],
   "source": []
  }
 ],
 "metadata": {
  "kernelspec": {
   "display_name": "R",
   "language": "R",
   "name": "ir"
  },
  "language_info": {
   "codemirror_mode": "r",
   "file_extension": ".r",
   "mimetype": "text/x-r-source",
   "name": "R",
   "pygments_lexer": "r",
   "version": "3.6.3"
  }
 },
 "nbformat": 4,
 "nbformat_minor": 4
}
