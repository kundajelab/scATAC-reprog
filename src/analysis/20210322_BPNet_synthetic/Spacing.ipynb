{
 "cells": [
  {
   "cell_type": "markdown",
   "metadata": {},
   "source": [
    "# Spacing\n",
    "\n",
    "Space instances of motifs."
   ]
  },
  {
   "cell_type": "code",
   "execution_count": 308,
   "metadata": {
    "scrolled": true
   },
   "outputs": [],
   "source": [
    "import numpy as np\n",
    "import keras\n",
    "import tensorflow as tf\n",
    "import pyfaidx\n",
    "import math\n",
    "import pandas as pd\n",
    "import tqdm\n",
    "import scipy.stats\n",
    "import matplotlib.pyplot as plt\n",
    "from scipy.stats import gaussian_kde\n",
    "from copy import deepcopy\n",
    "import pyBigWig\n",
    "from matplotlib.patches import Rectangle\n",
    "from copy import deepcopy\n",
    "from collections import defaultdict, OrderedDict\n",
    "import itertools\n",
    "from deeplift.dinuc_shuffle import dinuc_shuffle"
   ]
  },
  {
   "cell_type": "code",
   "execution_count": 3,
   "metadata": {},
   "outputs": [],
   "source": [
    "from random import shuffle, choice, random\n",
    "from copy import deepcopy"
   ]
  },
  {
   "cell_type": "code",
   "execution_count": 4,
   "metadata": {},
   "outputs": [],
   "source": [
    "from modisco.visualization import viz_sequence"
   ]
  },
  {
   "cell_type": "code",
   "execution_count": 5,
   "metadata": {},
   "outputs": [],
   "source": [
    "from random import choice, sample\n",
    "import sys\n",
    "\n",
    "from keras.utils import CustomObjectScope\n",
    "\n",
    "# mtbatchgen\n",
    "sys.path.append(\"/users/surag/kundajelab/mtbatchgen/example/\")\n",
    "from losses import MultichannelMultinomialNLL, multinomial_nll"
   ]
  },
  {
   "cell_type": "code",
   "execution_count": 6,
   "metadata": {},
   "outputs": [
    {
     "data": {
      "text/plain": [
       "<module 'one_hot' from '/users/surag/kundajelab/scATAC-reprog/src/analysis/20210322_BPNet_synthetic/one_hot.py'>"
      ]
     },
     "execution_count": 6,
     "metadata": {},
     "output_type": "execute_result"
    }
   ],
   "source": [
    "# local\n",
    "from importlib import reload\n",
    "import one_hot\n",
    "reload(one_hot)"
   ]
  },
  {
   "cell_type": "code",
   "execution_count": 530,
   "metadata": {},
   "outputs": [],
   "source": [
    "from shaputils import *\n",
    "import shap"
   ]
  },
  {
   "cell_type": "code",
   "execution_count": 564,
   "metadata": {},
   "outputs": [],
   "source": [
    "with CustomObjectScope({'MultichannelMultinomialNLL': MultichannelMultinomialNLL}):\n",
    "#     model = keras.models.load_model(\"/srv/scratch/surag/scATAC-reprog/models/20201105_all_peaks_filt256_in2346_out2000/cluster_idx5/2020-11-05_03_48_37/KR1GbF.h5\")\n",
    "#     model = keras.models.load_model(\"/srv/scratch/surag/scATAC-reprog/models/20201105_all_peaks_filt256_in2346_out2000/cluster_idx4/extra_models/P2qbCl.h5\")\n",
    "\n",
    "    model_int = keras.models.load_model(\"/srv/scratch/surag/scATAC-reprog/models/20210414_gc_neg_filt256_in2346_out2000/cluster_idx2/2021-04-14_18_11_26/Dp2D6w.h5\")\n",
    "#     model = keras.models.load_model(\"/srv/scratch/surag/scATAC-reprog/models/20210414_gc_neg_filt256_in2346_out2000/cluster_idx4/2021-04-14_18_11_26/QBF1UL.h5\")\n",
    "    model_neur = keras.models.load_model(\"/srv/scratch/surag/scATAC-reprog/models/20210414_gc_neg_filt256_in2346_out2000/cluster_idx4/2021-04-14_18_11_26/QBF1UL.h5\")\n",
    "#     model = keras.models.load_model(\"/srv/scratch/surag/scATAC-reprog/models/20210414_gc_neg_filt256_in2346_out2000/cluster_idx5/2021-04-14_18_11_26/nqv4wJ.h5\")\n",
    "#     model = keras.models.load_model(\"/srv/scratch/surag/scATAC-reprog/models/20210414_gc_neg_filt256_in2346_out2000/cluster_idx8/2021-04-14_18_11_26/HhcfZk.h5\")\n",
    "#     model = keras.models.load_model(\"/srv/scratch/surag/scATAC-reprog/models/20210414_gc_neg_filt256_in2346_out2000/cluster_idx1/2021-04-14_18_11_26/89fam2.h5\")\n",
    "#     model = keras.models.load_model(\"/srv/scratch/surag/scATAC-reprog/models/20210414_gc_neg_filt256_in2346_out2000/cluster_idx14/2021-04-15_09_22_38/Y4lI6R.h5\")\n",
    "    model_ipsc = keras.models.load_model(\"/srv/scratch/surag/scATAC-reprog/models/20210414_gc_neg_filt256_in2346_out2000/cluster_idx16/2021-04-15_09_33_42/7zunw4.h5\")"
   ]
  },
  {
   "cell_type": "code",
   "execution_count": 565,
   "metadata": {},
   "outputs": [],
   "source": [
    "models = [model_neur, model_int, model_ipsc]"
   ]
  },
  {
   "cell_type": "code",
   "execution_count": 10,
   "metadata": {},
   "outputs": [],
   "source": [
    "hg38 = pyfaidx.Fasta('/users/surag/genomes/hg38/GRCh38_no_alt_analysis_set_GCA_000001405.15.fasta')"
   ]
  },
  {
   "cell_type": "code",
   "execution_count": 12,
   "metadata": {},
   "outputs": [
    {
     "name": "stdout",
     "output_type": "stream",
     "text": [
      "2346\n",
      "2000\n"
     ]
    }
   ],
   "source": [
    "MODEL_INP_LEN = models[0].input_shape[0][1]\n",
    "MODEL_OUT_LEN = models[0].output_shape[0][1]\n",
    "print(MODEL_INP_LEN)\n",
    "print(MODEL_OUT_LEN)"
   ]
  },
  {
   "cell_type": "code",
   "execution_count": null,
   "metadata": {},
   "outputs": [],
   "source": []
  },
  {
   "cell_type": "code",
   "execution_count": null,
   "metadata": {},
   "outputs": [],
   "source": []
  },
  {
   "cell_type": "code",
   "execution_count": 23,
   "metadata": {},
   "outputs": [],
   "source": [
    "def mod_sequence(s, start, to_add):\n",
    "    cur = s[:start]\n",
    "    cur += to_add\n",
    "    cur += s[start+len(to_add):]\n",
    "    \n",
    "    return cur"
   ]
  },
  {
   "cell_type": "code",
   "execution_count": 24,
   "metadata": {},
   "outputs": [],
   "source": [
    "def revcomp(s):\n",
    "    REVCOMP = {\"A\":\"T\", \"C\":\"G\", \"G\":\"C\", \"T\":\"A\"}\n",
    "    return \"\".join(REVCOMP[x] for x in s.upper())[::-1]"
   ]
  },
  {
   "cell_type": "code",
   "execution_count": 467,
   "metadata": {},
   "outputs": [],
   "source": [
    "def softmax(x):\n",
    "    norm_x = x - np.mean(x,axis=1, keepdims=True)\n",
    "    return np.exp(norm_x)/np.sum(np.exp(norm_x), axis=1, keepdims=True)"
   ]
  },
  {
   "cell_type": "code",
   "execution_count": 468,
   "metadata": {},
   "outputs": [
    {
     "data": {
      "text/plain": [
       "array([[0.26894142, 0.73105858],\n",
       "       [0.5       , 0.5       ]])"
      ]
     },
     "execution_count": 468,
     "metadata": {},
     "output_type": "execute_result"
    }
   ],
   "source": [
    "softmax(np.array([[1,2],[2,2]]))"
   ]
  },
  {
   "cell_type": "code",
   "execution_count": 418,
   "metadata": {},
   "outputs": [],
   "source": [
    "def single_marginalize(coords, models, mot, mot_pos=MODEL_INP_LEN//2, mot_offsets=range(100,5), batch_size=128):\n",
    "    # offsets are from mot_pos\n",
    "    \n",
    "    synth_pred_counts = [defaultdict(list) for _ in models]\n",
    "    synth_pred_profiles = [defaultdict(list) for _ in models]\n",
    "    \n",
    "    for i in tqdm.tqdm(range(math.ceil(len(coords)/BATCH_SIZE))):\n",
    "        cur_seqs = coords[i*BATCH_SIZE:(i+1)*BATCH_SIZE]        \n",
    "        \n",
    "        for offset in mot_offsets:\n",
    "            cur_raw_seqs = []\n",
    "            \n",
    "            for j, r in enumerate(cur_seqs):\n",
    "                if isinstance(r, tuple):\n",
    "                    cur_raw_seqs.append(str(hg38[r[0]][r[1]-(MODEL_INP_LEN//2):r[1]+(MODEL_INP_LEN//2)]))\n",
    "                elif isinstance(r, str):\n",
    "                    cur_raw_seqs.append(r)\n",
    "                \n",
    "                cur_raw_seqs[-1] = mod_sequence(cur_raw_seqs[-1], mot_pos + offset, mot)\n",
    "\n",
    "            cur_raw_seqs = one_hot.dna_to_one_hot(cur_raw_seqs)\n",
    "            \n",
    "            for k,m in enumerate(models):\n",
    "                cur_pred = m.predict([cur_raw_seqs, \n",
    "                    np.zeros((cur_raw_seqs.shape[0],1)), \n",
    "                    np.zeros((cur_raw_seqs.shape[0],2000,2))])\n",
    "\n",
    "                synth_pred_profiles[k][offset].append(cur_pred[0])\n",
    "                synth_pred_counts[k][offset].append(cur_pred[1])\n",
    "            \n",
    "    synth_pred_profiles = [{y:np.vstack(z) for y,z in x.items()} for x in synth_pred_profiles]\n",
    "    synth_pred_counts = [{y:np.vstack(z).ravel() for y,z in x.items()} for x in synth_pred_counts]\n",
    "    \n",
    "    return synth_pred_counts, synth_pred_profiles"
   ]
  },
  {
   "cell_type": "code",
   "execution_count": null,
   "metadata": {},
   "outputs": [],
   "source": []
  },
  {
   "cell_type": "code",
   "execution_count": 413,
   "metadata": {},
   "outputs": [],
   "source": [
    "def pairwise_marginalize(coords, models, mot1, mot2, mot1_pos=MODEL_INP_LEN//2, mot2_pos=range(100,5), batch_size=128):\n",
    "    # mot1 is placed at mot1_pos\n",
    "    # mot2 are placed at offsets from mot1_pos+len(mot1)\n",
    "    \n",
    "    synth_pred_counts = [defaultdict(list) for _ in models]\n",
    "    synth_pred_profiles = [defaultdict(list) for _ in models]\n",
    "    \n",
    "    for i in tqdm.tqdm(range(math.ceil(len(coords)/BATCH_SIZE))):\n",
    "        cur_seqs = coords[i*BATCH_SIZE:(i+1)*BATCH_SIZE]        \n",
    "        \n",
    "        for offset in mot2_pos:\n",
    "            cur_raw_seqs = []\n",
    "            \n",
    "            for j, r in enumerate(cur_seqs):\n",
    "                if isinstance(r, tuple):\n",
    "                    cur_raw_seqs.append(str(hg38[r[0]][r[1]-(MODEL_INP_LEN//2):r[1]+(MODEL_INP_LEN//2)]))\n",
    "                elif isinstance(r, str):\n",
    "                    cur_raw_seqs.append(r)\n",
    "\n",
    "                cur_raw_seqs[-1] = mod_sequence(cur_raw_seqs[-1], mot1_pos, mot1)\n",
    "                \n",
    "                cur_raw_seqs[-1] = mod_sequence(cur_raw_seqs[-1], mot1_pos + len(mot1) + offset, mot2)\n",
    "\n",
    "            cur_raw_seqs = one_hot.dna_to_one_hot(cur_raw_seqs)\n",
    "            \n",
    "            for k,m in enumerate(models):\n",
    "                cur_pred = m.predict([cur_raw_seqs, \n",
    "                    np.zeros((cur_raw_seqs.shape[0],1)), \n",
    "                    np.zeros((cur_raw_seqs.shape[0],2000,2))])\n",
    "                synth_pred_profiles[k][offset].append(cur_pred[0])\n",
    "                synth_pred_counts[k][offset].append(cur_pred[1])\n",
    "    \n",
    "    synth_pred_profiles = [{y:np.vstack(z) for y,z in x.items()} for x in synth_pred_profiles]\n",
    "    synth_pred_counts = [{y:np.vstack(z).ravel() for y,z in x.items()} for x in synth_pred_counts]\n",
    "    \n",
    "    return synth_pred_counts, synth_pred_profiles"
   ]
  },
  {
   "cell_type": "code",
   "execution_count": null,
   "metadata": {},
   "outputs": [],
   "source": []
  },
  {
   "cell_type": "code",
   "execution_count": null,
   "metadata": {},
   "outputs": [],
   "source": []
  },
  {
   "cell_type": "code",
   "execution_count": 100,
   "metadata": {},
   "outputs": [],
   "source": [
    "random_positions = []\n",
    "\n",
    "for i in range(128*10):\n",
    "    chrm = choice([\"chr\"+str(x) for x in range(1,23)])\n",
    "    pos = int(random()*(len(hg38[chrm])-2000))\n",
    "    random_positions.append((chrm,pos))"
   ]
  },
  {
   "cell_type": "code",
   "execution_count": 444,
   "metadata": {},
   "outputs": [
    {
     "name": "stderr",
     "output_type": "stream",
     "text": [
      "100%|██████████| 10/10 [00:08<00:00,  1.22it/s]\n"
     ]
    }
   ],
   "source": [
    "BATCH_SIZE = 128\n",
    "\n",
    "# replace with canonical motif and predict\n",
    "random_pred_counts = [[] for _ in models]\n",
    "random_pred_profiles = [[] for _ in models]\n",
    "\n",
    "for i in tqdm.tqdm(range(math.ceil(len(random_positions)/BATCH_SIZE))):\n",
    "    cur_seqs = random_positions[i*BATCH_SIZE:(i+1)*BATCH_SIZE]\n",
    "    cur_raw_seqs = []\n",
    "    for j, r in enumerate(cur_seqs):\n",
    "        \n",
    "        cur_raw_seqs.append(str(hg38[r[0]][r[1]-(MODEL_INP_LEN//2):r[1]+(MODEL_INP_LEN//2)]))\n",
    "        \n",
    "    cur_raw_seqs = one_hot.dna_to_one_hot(cur_raw_seqs)\n",
    "    \n",
    "    for j,m in enumerate(models):\n",
    "        cur_pred = m.predict([cur_raw_seqs, \n",
    "                    np.zeros((cur_raw_seqs.shape[0],1)), \n",
    "                    np.zeros((cur_raw_seqs.shape[0],2000,2))])\n",
    "        random_pred_profiles[j].append(cur_pred[0])\n",
    "        random_pred_counts[j].append(cur_pred[1])\n",
    "\n",
    "random_pred_profiles = [np.vstack(x) for x in random_pred_profiles]\n",
    "random_pred_counts = [np.vstack(x).ravel() for x in random_pred_counts]"
   ]
  },
  {
   "cell_type": "code",
   "execution_count": 445,
   "metadata": {},
   "outputs": [
    {
     "data": {
      "text/html": [
       "[2.0382254, 4.181613, 4.454468]"
      ],
      "text/plain": [
       "[2.0382254, 4.181613, 4.454468]"
      ]
     },
     "execution_count": 445,
     "metadata": {},
     "output_type": "execute_result"
    }
   ],
   "source": [
    "[np.median(x) for x in random_pred_counts]"
   ]
  },
  {
   "cell_type": "code",
   "execution_count": 446,
   "metadata": {},
   "outputs": [],
   "source": [
    "MOT2_POS = list(itertools.chain(range(-5,50),\n",
    "                                range(50,100,5)))"
   ]
  },
  {
   "cell_type": "code",
   "execution_count": 440,
   "metadata": {},
   "outputs": [],
   "source": [
    "# MOT2_POS = [1, 10]"
   ]
  },
  {
   "cell_type": "code",
   "execution_count": 441,
   "metadata": {},
   "outputs": [],
   "source": [
    "all_mots = OrderedDict({\"OCTSOX\":\"ATTTGCATAACAATG\",\n",
    "                       \"SOX\":\"GAACAATAG\",\n",
    "                       \"KLF\":\"TGGGTGTGGC\"})"
   ]
  },
  {
   "cell_type": "code",
   "execution_count": null,
   "metadata": {},
   "outputs": [],
   "source": []
  },
  {
   "cell_type": "code",
   "execution_count": null,
   "metadata": {
    "scrolled": true
   },
   "outputs": [
    {
     "name": "stderr",
     "output_type": "stream",
     "text": [
      " 40%|████      | 4/10 [03:32<05:18, 53.00s/it]"
     ]
    }
   ],
   "source": [
    "pairwise_profiles = defaultdict(dict)\n",
    "pairwise_counts = defaultdict(dict)\n",
    "\n",
    "# pairwise\n",
    "for i in range(len(all_mots)):\n",
    "    for j in range(i, len(all_mots)):        \n",
    "        mot1_name, mot1_seq = list(all_mots.items())[i]\n",
    "        mot2_name, mot2_seq = list(all_mots.items())[j]\n",
    "        \n",
    "        for rev1, rev2 in itertools.product([False, True], [False, True]):\n",
    "            cur_mot1_seq = revcomp(mot1_seq) if rev1 else mot1_seq\n",
    "            cur_mot2_seq = revcomp(mot2_seq) if rev2 else mot2_seq\n",
    "            \n",
    "            synth_pred_counts, synth_pred_profiles = pairwise_marginalize(random_positions, \n",
    "                                                     models,\n",
    "                                                     cur_mot1_seq, \n",
    "                                                     cur_mot2_seq, \n",
    "                                                     mot1_pos=MODEL_INP_LEN//2 - len(cur_mot1_seq), \n",
    "                                                     mot2_pos=MOT2_POS)\n",
    "            \n",
    "            pairwise_profiles[(mot1_name, mot2_name)][(rev1, rev2)] = synth_pred_profiles\n",
    "            pairwise_counts[(mot1_name, mot2_name)][(rev1, rev2)] = synth_pred_counts"
   ]
  },
  {
   "cell_type": "code",
   "execution_count": null,
   "metadata": {
    "scrolled": true
   },
   "outputs": [],
   "source": [
    "mot1_counts = defaultdict(dict)\n",
    "mot1_profiles = defaultdict(dict)\n",
    "mot2_counts = defaultdict(dict)\n",
    "mot2_profiles = defaultdict(dict)\n",
    "\n",
    "# single, as either mot1 or mot2\n",
    "for i in range(len(all_mots)):\n",
    "    mot_name, mot_seq = list(all_mots.items())[i]\n",
    "\n",
    "    for rev in [False, True]:\n",
    "        cur_mot_seq = revcomp(mot_seq) if rev else mot_seq\n",
    "        \n",
    "        cur_counts, cur_profiles = single_marginalize(random_positions, \n",
    "                                                        models, \n",
    "                                                        cur_mot_seq, \n",
    "                                                        mot_pos=MODEL_INP_LEN//2-len(cur_mot_seq), \n",
    "                                                        mot_offsets=[0], \n",
    "                                                        batch_size=128)\n",
    "        mot1_counts[mot_name][rev] = cur_counts\n",
    "        mot1_profiles[mot_name][rev] = cur_profiles\n",
    "        \n",
    "        cur_counts, cur_profiles = single_marginalize(random_positions, \n",
    "                                                        models, \n",
    "                                                        cur_mot_seq, \n",
    "                                                        mot_pos=MODEL_INP_LEN//2, \n",
    "                                                        mot_offsets=MOT2_POS, \n",
    "                                                        batch_size=128)\n",
    "        \n",
    "        mot2_counts[mot_name][rev] = cur_counts\n",
    "        mot2_profiles[mot_name][rev] = cur_profiles"
   ]
  },
  {
   "cell_type": "code",
   "execution_count": null,
   "metadata": {},
   "outputs": [],
   "source": []
  },
  {
   "cell_type": "code",
   "execution_count": null,
   "metadata": {},
   "outputs": [],
   "source": []
  },
  {
   "cell_type": "code",
   "execution_count": 155,
   "metadata": {},
   "outputs": [],
   "source": [
    "from scipy.stats import spearmanr"
   ]
  },
  {
   "cell_type": "code",
   "execution_count": 154,
   "metadata": {},
   "outputs": [
    {
     "data": {
      "text/plain": [
       "SpearmanrResult(correlation=0.8440250360813939, pvalue=0.0)"
      ]
     },
     "execution_count": 154,
     "metadata": {},
     "output_type": "execute_result"
    }
   ],
   "source": [
    "# ensure counts on random seqs and after manipulation are correlated\n",
    "spearmanr(random_pred_counts[0], pairwise_counts[(\"SOX\", \"KLF\")][config][0][0])"
   ]
  },
  {
   "cell_type": "code",
   "execution_count": null,
   "metadata": {},
   "outputs": [],
   "source": []
  },
  {
   "cell_type": "code",
   "execution_count": 469,
   "metadata": {},
   "outputs": [
    {
     "data": {
      "text/plain": [
       "(1280, 2000, 1)"
      ]
     },
     "execution_count": 469,
     "metadata": {},
     "output_type": "execute_result"
    }
   ],
   "source": []
  },
  {
   "cell_type": "code",
   "execution_count": 517,
   "metadata": {},
   "outputs": [
    {
     "data": {
      "image/png": "[encoded data removed]",
      "text/plain": [
       "<Figure size 432x288 with 1 Axes>"
      ]
     },
     "metadata": {
      "needs_background": "light"
     },
     "output_type": "display_data"
    },
    {
     "data": {
      "image/png": "[encoded data removed]",
      "text/plain": [
       "<Figure size 432x288 with 1 Axes>"
      ]
     },
     "metadata": {
      "needs_background": "light"
     },
     "output_type": "display_data"
    },
    {
     "data": {
      "image/png": "[encoded data removed]",
      "text/plain": [
       "<Figure size 432x288 with 1 Axes>"
      ]
     },
     "metadata": {
      "needs_background": "light"
     },
     "output_type": "display_data"
    }
   ],
   "source": [
    "PICK_PAIR = (\"OCTSOX\", \"OCTSOX\")\n",
    "\n",
    "for i in range(len(models)):\n",
    "    for config in itertools.product([False, True], [False, True]):\n",
    "        lab1 = '-' if config[0] else '+'\n",
    "        lab2 = '-' if config[1] else '+'\n",
    "        plt.plot(MOT2_POS, \n",
    "                 [np.log2(np.e)*np.median(pairwise_counts[PICK_PAIR][config][i][x] - \\\n",
    "                           random_pred_counts[i]) for x in MOT2_POS],\n",
    "                 '-',\n",
    "                label=lab1+\" \" +lab2)\n",
    "#     plt.plot(MOT2_POS, [K_median_deltas_mot2[i][x] for x in MOT2_POS])\n",
    "#     plt.hlines(OS_median_deltas_mot1[i], min(MOT2_POS), max(MOT2_POS))\n",
    "#     plt.plot(MOT2_POS, [K_median_deltas_mot2[i][x]+OS_median_deltas_mot1[i] for x in MOT2_POS])\n",
    "    plt.xlim(-1,100)\n",
    "    plt.ylabel(\"counts Log2 FC\")\n",
    "    plt.xlabel(\"Spacing\")\n",
    "    plt.title(\"{:s} x {:s}\".format(*PICK_PAIR))\n",
    "    plt.legend(prop={'family': 'monospace'})\n",
    "    plt.show()"
   ]
  },
  {
   "cell_type": "code",
   "execution_count": 293,
   "metadata": {},
   "outputs": [
    {
     "data": {
      "text/plain": [
       "0.4448079"
      ]
     },
     "execution_count": 293,
     "metadata": {},
     "output_type": "execute_result"
    }
   ],
   "source": [
    "np.median(mot2_counts[\"OCTSOX\"][False][0][10]- random_pred_counts[0])"
   ]
  },
  {
   "cell_type": "code",
   "execution_count": 292,
   "metadata": {},
   "outputs": [
    {
     "data": {
      "text/plain": [
       "0.3011093"
      ]
     },
     "execution_count": 292,
     "metadata": {},
     "output_type": "execute_result"
    }
   ],
   "source": [
    "np.median(mot2_counts[\"OCTSOX\"][True][0][10]- random_pred_counts[0])"
   ]
  },
  {
   "cell_type": "code",
   "execution_count": 279,
   "metadata": {},
   "outputs": [
    {
     "data": {
      "text/plain": [
       "0.75463724"
      ]
     },
     "execution_count": 279,
     "metadata": {},
     "output_type": "execute_result"
    }
   ],
   "source": [
    "np.median(mot2_counts[\"OCTSOX\"][False][2][0]- random_pred_counts[2])"
   ]
  },
  {
   "cell_type": "code",
   "execution_count": 283,
   "metadata": {},
   "outputs": [
    {
     "data": {
      "text/plain": [
       "0.754022"
      ]
     },
     "execution_count": 283,
     "metadata": {},
     "output_type": "execute_result"
    }
   ],
   "source": [
    "np.median(mot2_counts[\"OCTSOX\"][True][2][0]- random_pred_counts[2])"
   ]
  },
  {
   "cell_type": "code",
   "execution_count": 274,
   "metadata": {},
   "outputs": [
    {
     "data": {
      "text/plain": [
       "1.0806148"
      ]
     },
     "execution_count": 274,
     "metadata": {},
     "output_type": "execute_result"
    }
   ],
   "source": [
    "np.median(mot2_counts[\"OCTSOX\"][False][1][0]- random_pred_counts[1])"
   ]
  },
  {
   "cell_type": "code",
   "execution_count": 268,
   "metadata": {},
   "outputs": [
    {
     "data": {
      "text/plain": [
       "0.029120684"
      ]
     },
     "execution_count": 268,
     "metadata": {},
     "output_type": "execute_result"
    }
   ],
   "source": [
    "np.median(mot1_counts[\"SOX\"][True][1][0]- random_pred_counts[1])"
   ]
  },
  {
   "cell_type": "code",
   "execution_count": 519,
   "metadata": {},
   "outputs": [
    {
     "data": {
      "image/png": "[encoded data removed]",
      "text/plain": [
       "<Figure size 432x288 with 1 Axes>"
      ]
     },
     "metadata": {
      "needs_background": "light"
     },
     "output_type": "display_data"
    },
    {
     "data": {
      "image/png": "[encoded data removed]",
      "text/plain": [
       "<Figure size 432x288 with 1 Axes>"
      ]
     },
     "metadata": {
      "needs_background": "light"
     },
     "output_type": "display_data"
    },
    {
     "data": {
      "image/png": "[encoded data removed]",
      "text/plain": [
       "<Figure size 432x288 with 1 Axes>"
      ]
     },
     "metadata": {
      "needs_background": "light"
     },
     "output_type": "display_data"
    }
   ],
   "source": [
    "PICK_STRAND = (False, False)\n",
    "PICK_PAIR = (\"OCTSOX\", \"OCTSOX\")\n",
    "XMIN=-1\n",
    "XMAX=50\n",
    "LOG2_FAC = np.log2(np.e)\n",
    "\n",
    "for i in range(len(models)):\n",
    "    lab1 = '-' if PICK_STRAND[0] else '+'\n",
    "    lab2 = '-' if PICK_STRAND[1] else '+'\n",
    "    plt.plot(MOT2_POS, \n",
    "             [LOG2_FAC*np.median(pairwise_counts[PICK_PAIR][PICK_STRAND][i][x] - \\\n",
    "                       random_pred_counts[i]) for x in MOT2_POS],\n",
    "             '-o',\n",
    "            label=lab1+\" \" +lab2 + \" (Predicted)\")\n",
    "    \n",
    "    plt.hlines(LOG2_FAC*np.median(mot1_counts[PICK_PAIR[0]][PICK_STRAND[0]][i][0] - random_pred_counts[i]), \n",
    "               XMIN, XMAX,\n",
    "              label=\"{:s} alone (fixed)\".format(PICK_PAIR[0]))\n",
    "    \n",
    "    plt.plot(MOT2_POS,\n",
    "             [LOG2_FAC*np.median(mot2_counts[PICK_PAIR[1]][PICK_STRAND[1]][i][x] - \\\n",
    "                                random_pred_counts[i]) for x in MOT2_POS],\n",
    "            label=\"{:s} alone (moved)\".format(PICK_PAIR[1]))\n",
    "    \n",
    "    plt.plot(MOT2_POS,\n",
    "             [LOG2_FAC*np.median(mot2_counts[PICK_PAIR[1]][PICK_STRAND[1]][i][x] + \\\n",
    "                                 mot1_counts[PICK_PAIR[0]][PICK_STRAND[0]][i][0] - \\\n",
    "                                2*random_pred_counts[i]) for x in MOT2_POS],\n",
    "            label=\"{:s} + {:s}\".format(*PICK_PAIR))\n",
    "             \n",
    "    \n",
    "    #     plt.plot(MOT2_POS, [K_median_deltas_mot2[i][x] for x in MOT2_POS])\n",
    "    #     plt.hlines(OS_median_deltas_mot1[i], min(MOT2_POS), max(MOT2_POS))\n",
    "    #     plt.plot(MOT2_POS, [K_median_deltas_mot2[i][x]+OS_median_deltas_mot1[i] for x in MOT2_POS])\n",
    "    plt.xlim(XMIN,XMAX)\n",
    "    plt.ylabel(\"counts Log2 FC\")\n",
    "    plt.xlabel(\"Spacing\")\n",
    "    plt.title(\"{:s} x {:s}\".format(*PICK_PAIR))\n",
    "    plt.legend(prop={'family': 'monospace'}, loc='lower right')\n",
    "    plt.show()"
   ]
  },
  {
   "cell_type": "code",
   "execution_count": null,
   "metadata": {},
   "outputs": [],
   "source": []
  },
  {
   "cell_type": "code",
   "execution_count": 475,
   "metadata": {},
   "outputs": [
    {
     "data": {
      "text/plain": [
       "(2, 1)"
      ]
     },
     "execution_count": 475,
     "metadata": {},
     "output_type": "execute_result"
    }
   ],
   "source": [
    "np.array([[1],[2]]).shape"
   ]
  },
  {
   "cell_type": "code",
   "execution_count": 482,
   "metadata": {},
   "outputs": [
    {
     "data": {
      "text/plain": [
       "(3, 1)"
      ]
     },
     "execution_count": 482,
     "metadata": {},
     "output_type": "execute_result"
    }
   ],
   "source": [
    "np.expand_dims(np.array([1,2,3]), 1).shape"
   ]
  },
  {
   "cell_type": "code",
   "execution_count": 481,
   "metadata": {},
   "outputs": [
    {
     "ename": "ValueError",
     "evalue": "operands could not be broadcast together with shapes (3,2) (3,) ",
     "output_type": "error",
     "traceback": [
      "\u001b[0;31m---------------------------------------------------------------------------\u001b[0m",
      "\u001b[0;31mValueError\u001b[0m                                Traceback (most recent call last)",
      "\u001b[0;32m<ipython-input-481-3736d3ab5835>\u001b[0m in \u001b[0;36m<module>\u001b[0;34m\u001b[0m\n\u001b[0;32m----> 1\u001b[0;31m \u001b[0mnp\u001b[0m\u001b[0;34m.\u001b[0m\u001b[0marray\u001b[0m\u001b[0;34m(\u001b[0m\u001b[0;34m[\u001b[0m\u001b[0;34m[\u001b[0m\u001b[0;36m1\u001b[0m\u001b[0;34m,\u001b[0m\u001b[0;36m2\u001b[0m\u001b[0;34m]\u001b[0m\u001b[0;34m,\u001b[0m\u001b[0;34m[\u001b[0m\u001b[0;36m3\u001b[0m\u001b[0;34m,\u001b[0m\u001b[0;36m4\u001b[0m\u001b[0;34m]\u001b[0m\u001b[0;34m,\u001b[0m\u001b[0;34m[\u001b[0m\u001b[0;36m5\u001b[0m\u001b[0;34m,\u001b[0m\u001b[0;36m6\u001b[0m\u001b[0;34m]\u001b[0m\u001b[0;34m]\u001b[0m\u001b[0;34m)\u001b[0m\u001b[0;34m*\u001b[0m\u001b[0mnp\u001b[0m\u001b[0;34m.\u001b[0m\u001b[0marray\u001b[0m\u001b[0;34m(\u001b[0m\u001b[0;34m[\u001b[0m\u001b[0;36m1\u001b[0m\u001b[0;34m,\u001b[0m\u001b[0;36m2\u001b[0m\u001b[0;34m,\u001b[0m\u001b[0;36m3\u001b[0m\u001b[0;34m]\u001b[0m\u001b[0;34m)\u001b[0m\u001b[0;34m\u001b[0m\u001b[0;34m\u001b[0m\u001b[0m\n\u001b[0m",
      "\u001b[0;31mValueError\u001b[0m: operands could not be broadcast together with shapes (3,2) (3,) "
     ]
    }
   ],
   "source": [
    "np.array([[1,2],[3,4],[5,6]])*np.array([1,2,3])"
   ]
  },
  {
   "cell_type": "code",
   "execution_count": 479,
   "metadata": {},
   "outputs": [
    {
     "data": {
      "text/plain": [
       "(1280,)"
      ]
     },
     "execution_count": 479,
     "metadata": {},
     "output_type": "execute_result"
    }
   ],
   "source": [
    "pairwise_counts[PICK_PAIR][PICK_STRAND][0][0].shape"
   ]
  },
  {
   "cell_type": "code",
   "execution_count": 480,
   "metadata": {},
   "outputs": [
    {
     "data": {
      "text/plain": [
       "(1280, 2000)"
      ]
     },
     "execution_count": 480,
     "metadata": {},
     "output_type": "execute_result"
    }
   ],
   "source": [
    "softmax(pairwise_profiles[PICK_PAIR][PICK_STRAND][0][0].squeeze()).shape"
   ]
  },
  {
   "cell_type": "code",
   "execution_count": 508,
   "metadata": {},
   "outputs": [
    {
     "data": {
      "text/html": [
       "[<matplotlib.lines.Line2D object at 0x7f245c1c8b50>]"
      ],
      "text/plain": [
       "[<matplotlib.lines.Line2D at 0x7f245c1c8b50>]"
      ]
     },
     "execution_count": 508,
     "metadata": {},
     "output_type": "execute_result"
    },
    {
     "data": {
      "image/png": "[encoded data removed]",
      "text/plain": [
       "<Figure size 432x288 with 1 Axes>"
      ]
     },
     "metadata": {
      "needs_background": "light"
     },
     "output_type": "display_data"
    }
   ],
   "source": [
    "cur_pair_prof = np.expand_dims(np.exp(pairwise_counts[PICK_PAIR][PICK_STRAND][0][10]), 1) * softmax(pairwise_profiles[PICK_PAIR][PICK_STRAND][0][10].squeeze())\n",
    "cur_random_prof = np.expand_dims(np.exp(random_pred_counts[0]), 1) * softmax(random_pred_profiles[0].squeeze())\n",
    "\n",
    "plt.plot(range(900,1100),\n",
    "         np.median(cur_pair_prof-cur_random_prof, axis=0)[900:1100],\n",
    "                 '-')"
   ]
  },
  {
   "cell_type": "code",
   "execution_count": 489,
   "metadata": {},
   "outputs": [
    {
     "data": {
      "text/html": [
       "[<matplotlib.lines.Line2D object at 0x7f250036b1d0>]"
      ],
      "text/plain": [
       "[<matplotlib.lines.Line2D at 0x7f250036b1d0>]"
      ]
     },
     "execution_count": 489,
     "metadata": {},
     "output_type": "execute_result"
    },
    {
     "data": {
      "image/png": "[encoded data removed]",
      "text/plain": [
       "<Figure size 432x288 with 1 Axes>"
      ]
     },
     "metadata": {
      "needs_background": "light"
     },
     "output_type": "display_data"
    }
   ],
   "source": [
    "cur_single_prof = np.expand_dims(np.exp(mot1_counts[PICK_PAIR[0]][PICK_STRAND[0]][0][0]), 1) * softmax(mot1_profiles[PICK_PAIR[0]][PICK_STRAND[0]][0][0].squeeze())\n",
    "cur_random_prof = np.expand_dims(np.exp(random_pred_counts[0]), 1) * softmax(random_pred_profiles[0].squeeze())\n",
    "\n",
    "plt.plot(range(800,1200),\n",
    "         np.median(cur_single_prof-cur_random_prof, axis=0)[800:1200],\n",
    "                 '-')"
   ]
  },
  {
   "cell_type": "code",
   "execution_count": 492,
   "metadata": {},
   "outputs": [
    {
     "data": {
      "text/html": [
       "[<matplotlib.lines.Line2D object at 0x7f24146e7a50>]"
      ],
      "text/plain": [
       "[<matplotlib.lines.Line2D at 0x7f24146e7a50>]"
      ]
     },
     "execution_count": 492,
     "metadata": {},
     "output_type": "execute_result"
    },
    {
     "data": {
      "image/png": "[encoded data removed]",
      "text/plain": [
       "<Figure size 432x288 with 1 Axes>"
      ]
     },
     "metadata": {
      "needs_background": "light"
     },
     "output_type": "display_data"
    }
   ],
   "source": [
    "cur_single_prof = np.expand_dims(np.exp(mot2_counts[PICK_PAIR[1]][PICK_STRAND[1]][0][0]), 1) * softmax(mot2_profiles[PICK_PAIR[1]][PICK_STRAND[1]][0][0].squeeze())\n",
    "cur_random_prof = np.expand_dims(np.exp(random_pred_counts[0]), 1) * softmax(random_pred_profiles[0].squeeze())\n",
    "\n",
    "plt.plot(range(900,1100),\n",
    "         np.median(cur_single_prof-cur_random_prof, axis=0)[900:1100],\n",
    "                 '-')"
   ]
  },
  {
   "cell_type": "code",
   "execution_count": null,
   "metadata": {},
   "outputs": [],
   "source": []
  },
  {
   "cell_type": "code",
   "execution_count": null,
   "metadata": {},
   "outputs": [],
   "source": []
  },
  {
   "cell_type": "code",
   "execution_count": null,
   "metadata": {},
   "outputs": [],
   "source": [
    "# GIF (tmp method)"
   ]
  },
  {
   "cell_type": "code",
   "execution_count": 498,
   "metadata": {},
   "outputs": [],
   "source": [
    "import imageio"
   ]
  },
  {
   "cell_type": "code",
   "execution_count": 513,
   "metadata": {},
   "outputs": [
    {
     "data": {
      "text/plain": [
       "<Figure size 432x288 with 0 Axes>"
      ]
     },
     "metadata": {},
     "output_type": "display_data"
    }
   ],
   "source": [
    "PICK_STRAND = (False, False)\n",
    "PICK_PAIR = (\"OCTSOX\", \"OCTSOX\")\n",
    "\n",
    "for i in range(50):\n",
    "    cur_pair_prof = np.expand_dims(np.exp(pairwise_counts[PICK_PAIR][PICK_STRAND][0][i]), 1) * softmax(pairwise_profiles[PICK_PAIR][PICK_STRAND][0][i].squeeze())\n",
    "    cur_random_prof = np.expand_dims(np.exp(random_pred_counts[0]), 1) * softmax(random_pred_profiles[0].squeeze())\n",
    "\n",
    "    plt.plot(range(800,1200),\n",
    "             np.median(cur_pair_prof-cur_random_prof, axis=0)[800:1200],\n",
    "                     '-')\n",
    "    plt.ylim(0,0.08)\n",
    "    plt.title(\"Spacing = {:d}\".format(i))\n",
    "    plt.savefig('./tmp/{:d}'.format(i))\n",
    "    plt.clf()"
   ]
  },
  {
   "cell_type": "code",
   "execution_count": 514,
   "metadata": {},
   "outputs": [],
   "source": [
    "with imageio.get_writer('mygif.gif', mode='I') as writer:\n",
    "    for filename in [\"./tmp/{:d}.png\".format(i) for i in range(50)]:\n",
    "        image = imageio.imread(filename)\n",
    "        writer.append_data(image)"
   ]
  },
  {
   "cell_type": "code",
   "execution_count": null,
   "metadata": {},
   "outputs": [],
   "source": []
  },
  {
   "cell_type": "markdown",
   "metadata": {},
   "source": [
    "### Save session outputs"
   ]
  },
  {
   "cell_type": "code",
   "execution_count": 522,
   "metadata": {},
   "outputs": [],
   "source": [
    "import joblib"
   ]
  },
  {
   "cell_type": "code",
   "execution_count": 521,
   "metadata": {},
   "outputs": [],
   "source": [
    "SESS_PATH = \"./spacing_sessions/20210517_neur_int_preipsc/\""
   ]
  },
  {
   "cell_type": "code",
   "execution_count": 525,
   "metadata": {},
   "outputs": [],
   "source": [
    "save_dict = {\"random_positions\":random_positions,\n",
    "             \"random_pred_counts\": random_pred_counts,\n",
    "             \"random_pred_profiles\": random_pred_profiles,\n",
    "             \"motifs\": all_mots,\n",
    "             \"pairwise_counts\": pairwise_counts,\n",
    "             \"pairwise_profiles\": pairwise_profiles,\n",
    "             \"mot1_counts\": mot1_counts,\n",
    "             \"mot1_profiles\": mot1_profiles,\n",
    "             \"mot2_counts\": mot2_counts,\n",
    "             \"mot2_profiles\": mot2_profiles\n",
    "            }"
   ]
  },
  {
   "cell_type": "code",
   "execution_count": 526,
   "metadata": {},
   "outputs": [
    {
     "data": {
      "text/html": [
       "['./spacing_sessions/20210517_neur_int_preipsc/session.joblib']"
      ],
      "text/plain": [
       "['./spacing_sessions/20210517_neur_int_preipsc/session.joblib']"
      ]
     },
     "execution_count": 526,
     "metadata": {},
     "output_type": "execute_result"
    }
   ],
   "source": [
    "joblib.dump(save_dict, SESS_PATH + \"session.joblib\", compress=3)"
   ]
  },
  {
   "cell_type": "code",
   "execution_count": null,
   "metadata": {},
   "outputs": [],
   "source": []
  },
  {
   "cell_type": "markdown",
   "metadata": {},
   "source": [
    "### With Dinuc Shuffled\n",
    "\n",
    "For one model (high OSK [neur]) checking if there are differences between using random sequences or using peaks after dinucleotide shuffling or using peaks themselves.\n",
    "\n",
    "Looks like results from using random sequences and dinuc shuffling are identical.\n",
    "\n",
    "Using peaks themselves results in damped effects, which is to be expected."
   ]
  },
  {
   "cell_type": "code",
   "execution_count": null,
   "metadata": {},
   "outputs": [],
   "source": [
    "# for neur only first"
   ]
  },
  {
   "cell_type": "code",
   "execution_count": 315,
   "metadata": {},
   "outputs": [
    {
     "data": {
      "text/html": [
       "<div>\n",
       "<style scoped>\n",
       "    .dataframe tbody tr th:only-of-type {\n",
       "        vertical-align: middle;\n",
       "    }\n",
       "\n",
       "    .dataframe tbody tr th {\n",
       "        vertical-align: top;\n",
       "    }\n",
       "\n",
       "    .dataframe thead th {\n",
       "        text-align: right;\n",
       "    }\n",
       "</style>\n",
       "<table border=\"1\" class=\"dataframe\">\n",
       "  <thead>\n",
       "    <tr style=\"text-align: right;\">\n",
       "      <th></th>\n",
       "      <th>chr</th>\n",
       "      <th>start</th>\n",
       "      <th>end</th>\n",
       "      <th>v1</th>\n",
       "      <th>v2</th>\n",
       "      <th>v3</th>\n",
       "      <th>v4</th>\n",
       "      <th>v5</th>\n",
       "      <th>v6</th>\n",
       "      <th>summit</th>\n",
       "    </tr>\n",
       "  </thead>\n",
       "  <tbody>\n",
       "    <tr>\n",
       "      <th>0</th>\n",
       "      <td>chr1</td>\n",
       "      <td>100005417</td>\n",
       "      <td>100006194</td>\n",
       "      <td>Peak_208971</td>\n",
       "      <td>75</td>\n",
       "      <td>.</td>\n",
       "      <td>4.07240</td>\n",
       "      <td>7.59397</td>\n",
       "      <td>5.77510</td>\n",
       "      <td>187</td>\n",
       "    </tr>\n",
       "    <tr>\n",
       "      <th>1</th>\n",
       "      <td>chr1</td>\n",
       "      <td>100005417</td>\n",
       "      <td>100006194</td>\n",
       "      <td>Peak_33949</td>\n",
       "      <td>433</td>\n",
       "      <td>.</td>\n",
       "      <td>12.24018</td>\n",
       "      <td>43.35997</td>\n",
       "      <td>40.61578</td>\n",
       "      <td>460</td>\n",
       "    </tr>\n",
       "    <tr>\n",
       "      <th>2</th>\n",
       "      <td>chr1</td>\n",
       "      <td>100012863</td>\n",
       "      <td>100013085</td>\n",
       "      <td>Peak_254438</td>\n",
       "      <td>55</td>\n",
       "      <td>.</td>\n",
       "      <td>3.93983</td>\n",
       "      <td>5.52344</td>\n",
       "      <td>3.80661</td>\n",
       "      <td>118</td>\n",
       "    </tr>\n",
       "    <tr>\n",
       "      <th>3</th>\n",
       "      <td>chr1</td>\n",
       "      <td>100020546</td>\n",
       "      <td>100020938</td>\n",
       "      <td>Peak_8284</td>\n",
       "      <td>840</td>\n",
       "      <td>.</td>\n",
       "      <td>20.94241</td>\n",
       "      <td>84.04413</td>\n",
       "      <td>80.59457</td>\n",
       "      <td>171</td>\n",
       "    </tr>\n",
       "    <tr>\n",
       "      <th>4</th>\n",
       "      <td>chr1</td>\n",
       "      <td>100025652</td>\n",
       "      <td>100026422</td>\n",
       "      <td>Peak_168047</td>\n",
       "      <td>100</td>\n",
       "      <td>.</td>\n",
       "      <td>4.98132</td>\n",
       "      <td>10.04301</td>\n",
       "      <td>8.11562</td>\n",
       "      <td>181</td>\n",
       "    </tr>\n",
       "  </tbody>\n",
       "</table>\n",
       "</div>"
      ],
      "text/plain": [
       "    chr      start        end           v1   v2 v3        v4        v5  \\\n",
       "0  chr1  100005417  100006194  Peak_208971   75  .   4.07240   7.59397   \n",
       "1  chr1  100005417  100006194   Peak_33949  433  .  12.24018  43.35997   \n",
       "2  chr1  100012863  100013085  Peak_254438   55  .   3.93983   5.52344   \n",
       "3  chr1  100020546  100020938    Peak_8284  840  .  20.94241  84.04413   \n",
       "4  chr1  100025652  100026422  Peak_168047  100  .   4.98132  10.04301   \n",
       "\n",
       "         v6  summit  \n",
       "0   5.77510     187  \n",
       "1  40.61578     460  \n",
       "2   3.80661     118  \n",
       "3  80.59457     171  \n",
       "4   8.11562     181  "
      ]
     },
     "execution_count": 315,
     "metadata": {},
     "output_type": "execute_result"
    }
   ],
   "source": [
    "neur_peaks = pd.read_csv(\"/users/surag/oak/projects/scATAC-reprog/clusters/20201020_n62402/croo/cluster_idx4/peak/overlap_reproducibility/overlap.optimal_peak.narrowPeak.gz\",\n",
    "                         names=[\"chr\", \"start\", \"end\", \"v1\", \"v2\",\"v3\",\"v4\",\"v5\",\"v6\", \"summit\"],\n",
    "                        sep='\\t')\n",
    "neur_peaks.head()"
   ]
  },
  {
   "cell_type": "code",
   "execution_count": 316,
   "metadata": {},
   "outputs": [],
   "source": [
    "sampled_neur_peaks = neur_peaks.sample(1280)"
   ]
  },
  {
   "cell_type": "code",
   "execution_count": 344,
   "metadata": {},
   "outputs": [],
   "source": [
    "sampled_neur_peaks_seqs = [str(hg38[x[0]][x[1]+x[9]-MODEL_INP_LEN//2:x[1]+x[9]+MODEL_INP_LEN//2]) for  \\\n",
    "                                   _,x in sampled_neur_peaks.iterrows()]\n",
    "sampled_neur_peaks_seqs_shuffed = [dinuc_shuffle(x) for x in sampled_neur_peaks_seqs]"
   ]
  },
  {
   "cell_type": "code",
   "execution_count": 345,
   "metadata": {},
   "outputs": [
    {
     "name": "stderr",
     "output_type": "stream",
     "text": [
      "100%|██████████| 10/10 [00:07<00:00,  1.28it/s]\n"
     ]
    }
   ],
   "source": [
    "BATCH_SIZE = 128\n",
    "\n",
    "dinuc_random_pred_counts = [[] for _ in models]\n",
    "\n",
    "for i in tqdm.tqdm(range(math.ceil(len(sampled_neur_peaks_seqs_shuffed)/BATCH_SIZE))):\n",
    "    cur_raw_seqs = sampled_neur_peaks_seqs_shuffed[i*BATCH_SIZE:(i+1)*BATCH_SIZE]\n",
    "        \n",
    "    cur_raw_seqs = one_hot.dna_to_one_hot(cur_raw_seqs)\n",
    "    \n",
    "    for j,m in enumerate(models):\n",
    "        cur_pred = m.predict([cur_raw_seqs, \n",
    "                    np.zeros((cur_raw_seqs.shape[0],1)), \n",
    "                    np.zeros((cur_raw_seqs.shape[0],2000,2))])[1]\n",
    "        dinuc_random_pred_counts[j].append(cur_pred)\n",
    "        \n",
    "dinuc_random_pred_counts = [np.vstack(x).ravel() for x in dinuc_random_pred_counts]"
   ]
  },
  {
   "cell_type": "code",
   "execution_count": 537,
   "metadata": {},
   "outputs": [
    {
     "ename": "NameError",
     "evalue": "name 'models' is not defined",
     "output_type": "error",
     "traceback": [
      "\u001b[0;31m---------------------------------------------------------------------------\u001b[0m",
      "\u001b[0;31mNameError\u001b[0m                                 Traceback (most recent call last)",
      "\u001b[0;32m<ipython-input-537-92fa6da120bb>\u001b[0m in \u001b[0;36m<module>\u001b[0;34m\u001b[0m\n\u001b[1;32m      1\u001b[0m \u001b[0mBATCH_SIZE\u001b[0m \u001b[0;34m=\u001b[0m \u001b[0;36m128\u001b[0m\u001b[0;34m\u001b[0m\u001b[0;34m\u001b[0m\u001b[0m\n\u001b[1;32m      2\u001b[0m \u001b[0;34m\u001b[0m\u001b[0m\n\u001b[0;32m----> 3\u001b[0;31m \u001b[0mdinuc_random_pred_counts\u001b[0m \u001b[0;34m=\u001b[0m \u001b[0;34m[\u001b[0m\u001b[0;34m[\u001b[0m\u001b[0;34m]\u001b[0m \u001b[0;32mfor\u001b[0m \u001b[0m_\u001b[0m \u001b[0;32min\u001b[0m \u001b[0mmodels\u001b[0m\u001b[0;34m]\u001b[0m\u001b[0;34m\u001b[0m\u001b[0;34m\u001b[0m\u001b[0m\n\u001b[0m\u001b[1;32m      4\u001b[0m \u001b[0;34m\u001b[0m\u001b[0m\n\u001b[1;32m      5\u001b[0m \u001b[0;32mfor\u001b[0m \u001b[0mi\u001b[0m \u001b[0;32min\u001b[0m \u001b[0mtqdm\u001b[0m\u001b[0;34m.\u001b[0m\u001b[0mtqdm\u001b[0m\u001b[0;34m(\u001b[0m\u001b[0mrange\u001b[0m\u001b[0;34m(\u001b[0m\u001b[0mmath\u001b[0m\u001b[0;34m.\u001b[0m\u001b[0mceil\u001b[0m\u001b[0;34m(\u001b[0m\u001b[0mlen\u001b[0m\u001b[0;34m(\u001b[0m\u001b[0msampled_neur_peaks_seqs_shuffed\u001b[0m\u001b[0;34m)\u001b[0m\u001b[0;34m/\u001b[0m\u001b[0mBATCH_SIZE\u001b[0m\u001b[0;34m)\u001b[0m\u001b[0;34m)\u001b[0m\u001b[0;34m)\u001b[0m\u001b[0;34m:\u001b[0m\u001b[0;34m\u001b[0m\u001b[0;34m\u001b[0m\u001b[0m\n",
      "\u001b[0;31mNameError\u001b[0m: name 'models' is not defined"
     ]
    }
   ],
   "source": [
    "BATCH_SIZE = 128\n",
    "\n",
    "dinuc_random_pred_counts = [[] for _ in models]\n",
    "\n",
    "for i in tqdm.tqdm(range(math.ceil(len(sampled_neur_peaks_seqs_shuffed)/BATCH_SIZE))):\n",
    "    cur_raw_seqs = sampled_neur_peaks_seqs_shuffed[i*BATCH_SIZE:(i+1)*BATCH_SIZE]\n",
    "        \n",
    "    cur_raw_seqs = one_hot.dna_to_one_hot(cur_raw_seqs)\n",
    "    \n",
    "    for j,m in enumerate(models):\n",
    "        cur_pred = m.predict([cur_raw_seqs, \n",
    "                    np.zeros((cur_raw_seqs.shape[0],1)), \n",
    "                    np.zeros((cur_raw_seqs.shape[0],2000,2))])[1]\n",
    "        dinuc_random_pred_counts[j].append(cur_pred)\n",
    "        \n",
    "dinuc_random_pred_counts = [np.vstack(x).ravel() for x in dinuc_random_pred_counts]"
   ]
  },
  {
   "cell_type": "code",
   "execution_count": 346,
   "metadata": {},
   "outputs": [
    {
     "name": "stderr",
     "output_type": "stream",
     "text": [
      "100%|██████████| 10/10 [00:07<00:00,  1.28it/s]\n"
     ]
    }
   ],
   "source": [
    "BATCH_SIZE = 128\n",
    "\n",
    "notdinuc_random_pred_counts = [[] for _ in models]\n",
    "\n",
    "for i in tqdm.tqdm(range(math.ceil(len(sampled_neur_peaks_seqs)/BATCH_SIZE))):\n",
    "    cur_raw_seqs = sampled_neur_peaks_seqs[i*BATCH_SIZE:(i+1)*BATCH_SIZE]\n",
    "        \n",
    "    cur_raw_seqs = one_hot.dna_to_one_hot(cur_raw_seqs)\n",
    "    \n",
    "    for j,m in enumerate(models):\n",
    "        cur_pred = m.predict([cur_raw_seqs, \n",
    "                    np.zeros((cur_raw_seqs.shape[0],1)), \n",
    "                    np.zeros((cur_raw_seqs.shape[0],2000,2))])[1]\n",
    "        notdinuc_random_pred_counts[j].append(cur_pred)\n",
    "        \n",
    "notdinuc_random_pred_counts = [np.vstack(x).ravel() for x in notdinuc_random_pred_counts]"
   ]
  },
  {
   "cell_type": "code",
   "execution_count": 347,
   "metadata": {},
   "outputs": [
    {
     "data": {
      "text/html": [
       "[4.3604126, 5.782811, 5.443592]"
      ],
      "text/plain": [
       "[4.3604126, 5.782811, 5.443592]"
      ]
     },
     "execution_count": 347,
     "metadata": {},
     "output_type": "execute_result"
    }
   ],
   "source": [
    "[np.median(x) for x in notdinuc_random_pred_counts]"
   ]
  },
  {
   "cell_type": "code",
   "execution_count": 348,
   "metadata": {},
   "outputs": [
    {
     "data": {
      "text/html": [
       "[2.1792955, 4.43458, 4.7636123]"
      ],
      "text/plain": [
       "[2.1792955, 4.43458, 4.7636123]"
      ]
     },
     "execution_count": 348,
     "metadata": {},
     "output_type": "execute_result"
    }
   ],
   "source": [
    "[np.median(x) for x in dinuc_random_pred_counts]"
   ]
  },
  {
   "cell_type": "code",
   "execution_count": 368,
   "metadata": {},
   "outputs": [
    {
     "data": {
      "text/html": [
       "[2.0382254, 4.181613, 4.454468]"
      ],
      "text/plain": [
       "[2.0382254, 4.181613, 4.454468]"
      ]
     },
     "execution_count": 368,
     "metadata": {},
     "output_type": "execute_result"
    }
   ],
   "source": [
    "[np.median(x) for x in random_pred_counts]"
   ]
  },
  {
   "cell_type": "code",
   "execution_count": 391,
   "metadata": {},
   "outputs": [
    {
     "name": "stderr",
     "output_type": "stream",
     "text": [
      "100%|██████████| 10/10 [00:55<00:00,  5.53s/it]\n"
     ]
    }
   ],
   "source": [
    "dinuc_SOX_KLF_plus_plus = pairwise_marginalize(sampled_neur_peaks_seqs_shuffed, \n",
    "                                                     models[:1],\n",
    "                                                     all_mots[\"SOX\"], \n",
    "                                                     all_mots[\"KLF\"], \n",
    "                                                     mot1_pos=MODEL_INP_LEN//2 - len(all_mots[\"SOX\"]), \n",
    "                                                     mot2_pos=range(20))"
   ]
  },
  {
   "cell_type": "code",
   "execution_count": 359,
   "metadata": {},
   "outputs": [
    {
     "name": "stderr",
     "output_type": "stream",
     "text": [
      "100%|██████████| 10/10 [00:55<00:00,  5.55s/it]\n"
     ]
    }
   ],
   "source": [
    "notdinuc_SOX_KLF_plus_plus = pairwise_marginalize(sampled_neur_peaks_seqs, \n",
    "                                                     models[:1],\n",
    "                                                     all_mots[\"SOX\"], \n",
    "                                                     all_mots[\"KLF\"], \n",
    "                                                     mot1_pos=MODEL_INP_LEN//2 - len(all_mots[\"SOX\"]), \n",
    "                                                     mot2_pos=range(20))"
   ]
  },
  {
   "cell_type": "code",
   "execution_count": 358,
   "metadata": {},
   "outputs": [
    {
     "name": "stderr",
     "output_type": "stream",
     "text": [
      "100%|██████████| 10/10 [00:55<00:00,  5.57s/it]\n"
     ]
    }
   ],
   "source": [
    "dinuc_SOX_KLF_minus_minus = pairwise_marginalize(sampled_neur_peaks_seqs_shuffed, \n",
    "                                                     models[:1],\n",
    "                                                     revcomp(all_mots[\"SOX\"]), \n",
    "                                                     revcomp(all_mots[\"KLF\"]), \n",
    "                                                     mot1_pos=MODEL_INP_LEN//2 - len(all_mots[\"SOX\"]), \n",
    "                                                     mot2_pos=range(20))"
   ]
  },
  {
   "cell_type": "code",
   "execution_count": 359,
   "metadata": {},
   "outputs": [
    {
     "name": "stderr",
     "output_type": "stream",
     "text": [
      "100%|██████████| 10/10 [00:55<00:00,  5.55s/it]\n"
     ]
    }
   ],
   "source": [
    "notdinuc_SOX_KLF_minus_minus = pairwise_marginalize(sampled_neur_peaks_seqs, \n",
    "                                                     models[:1],\n",
    "                                                     revcomp(all_mots[\"SOX\"]), \n",
    "                                                     revcomp(all_mots[\"KLF\"]), \n",
    "                                                     mot1_pos=MODEL_INP_LEN//2 - len(all_mots[\"SOX\"]), \n",
    "                                                     mot2_pos=range(20))"
   ]
  },
  {
   "cell_type": "code",
   "execution_count": 351,
   "metadata": {},
   "outputs": [
    {
     "data": {
      "text/plain": [
       "SpearmanrResult(correlation=0.7485826197556273, pvalue=2.5300746609872097e-230)"
      ]
     },
     "execution_count": 351,
     "metadata": {},
     "output_type": "execute_result"
    }
   ],
   "source": [
    "spearmanr(dinuc_SOX_KLF_plus_plus[0][0], dinuc_random_pred_counts[0])"
   ]
  },
  {
   "cell_type": "code",
   "execution_count": 353,
   "metadata": {},
   "outputs": [
    {
     "data": {
      "text/plain": [
       "SpearmanrResult(correlation=0.8376389313592111, pvalue=0.0)"
      ]
     },
     "execution_count": 353,
     "metadata": {},
     "output_type": "execute_result"
    }
   ],
   "source": [
    "spearmanr(notdinuc_SOX_KLF_plus_plus[0][0], notdinuc_random_pred_counts[0])"
   ]
  },
  {
   "cell_type": "code",
   "execution_count": 392,
   "metadata": {},
   "outputs": [
    {
     "data": {
      "text/plain": [
       "(0.0, 20.0)"
      ]
     },
     "execution_count": 392,
     "metadata": {},
     "output_type": "execute_result"
    },
    {
     "data": {
      "image/png": "[encoded data removed]",
      "text/plain": [
       "<Figure size 432x288 with 1 Axes>"
      ]
     },
     "metadata": {
      "needs_background": "light"
     },
     "output_type": "display_data"
    }
   ],
   "source": [
    "CUR_POS = range(20)\n",
    "plt.plot(CUR_POS, \n",
    "                 [np.log2(np.e)*np.median(dinuc_SOX_KLF_plus_plus[0][x] - \\\n",
    "                           dinuc_random_pred_counts[0]) for x in CUR_POS],\n",
    "                 '-o')\n",
    "\n",
    "plt.plot(CUR_POS, \n",
    "                 [np.log2(np.e)*np.median(notdinuc_SOX_KLF_plus_plus[0][x] - \\\n",
    "                           notdinuc_random_pred_counts[0]) for x in CUR_POS],\n",
    "                 '-o')\n",
    "\n",
    "\n",
    "plt.plot(CUR_POS, \n",
    "                 [np.log2(np.e)*np.median(pairwise_counts[(\"SOX\", \"KLF\")][(False, False)][0][x] - \\\n",
    "                           random_pred_counts[0]) for x in CUR_POS],\n",
    "                 '-o')\n",
    "\n",
    "plt.xlim(0,20)"
   ]
  },
  {
   "cell_type": "code",
   "execution_count": 360,
   "metadata": {},
   "outputs": [
    {
     "data": {
      "text/plain": [
       "(0.0, 20.0)"
      ]
     },
     "execution_count": 360,
     "metadata": {},
     "output_type": "execute_result"
    },
    {
     "data": {
      "image/png": "[encoded data removed]",
      "text/plain": [
       "<Figure size 432x288 with 1 Axes>"
      ]
     },
     "metadata": {
      "needs_background": "light"
     },
     "output_type": "display_data"
    }
   ],
   "source": [
    "CUR_POS = range(20)\n",
    "\n",
    "plt.plot(CUR_POS, \n",
    "                 [np.log2(np.e)*np.median(dinuc_SOX_KLF_minus_minus[0][x] - \\\n",
    "                           dinuc_random_pred_counts[0]) for x in CUR_POS],\n",
    "                 '-o')\n",
    "\n",
    "plt.plot(CUR_POS, \n",
    "                 [np.log2(np.e)*np.median(notdinuc_SOX_KLF_minus_minus[0][x] - \\\n",
    "                           notdinuc_random_pred_counts[0]) for x in CUR_POS],\n",
    "                 '-o')\n",
    "\n",
    "\n",
    "plt.plot(CUR_POS, \n",
    "                 [np.log2(np.e)*np.median(pairwise_counts[(\"SOX\", \"KLF\")][(True, True)][0][x] - \\\n",
    "                           random_pred_counts[0]) for x in CUR_POS],\n",
    "                 '-o')\n",
    "\n",
    "plt.xlim(0,20)"
   ]
  },
  {
   "cell_type": "code",
   "execution_count": 422,
   "metadata": {},
   "outputs": [
    {
     "name": "stderr",
     "output_type": "stream",
     "text": [
      "100%|██████████| 10/10 [00:02<00:00,  3.53it/s]\n"
     ]
    },
    {
     "data": {
      "text/plain": [
       "0.48220563"
      ]
     },
     "execution_count": 422,
     "metadata": {},
     "output_type": "execute_result"
    }
   ],
   "source": [
    "np.median(single_marginalize(sampled_neur_peaks_seqs_shuffed, \n",
    "                   models[:1], \n",
    "                   all_mots[\"OCTSOX\"], \n",
    "                   mot_pos=MODEL_INP_LEN//2, \n",
    "                   mot_offsets=[0], \n",
    "                   batch_size=128)[0][0][0] - dinuc_random_pred_counts[0])"
   ]
  },
  {
   "cell_type": "code",
   "execution_count": 421,
   "metadata": {},
   "outputs": [
    {
     "name": "stderr",
     "output_type": "stream",
     "text": [
      "100%|██████████| 10/10 [00:02<00:00,  3.50it/s]\n"
     ]
    },
    {
     "data": {
      "text/plain": [
       "0.3183425"
      ]
     },
     "execution_count": 421,
     "metadata": {},
     "output_type": "execute_result"
    }
   ],
   "source": [
    "np.median(single_marginalize(sampled_neur_peaks_seqs_shuffed, \n",
    "                   models[:1], \n",
    "                   revcomp(all_mots[\"OCTSOX\"]), \n",
    "                   mot_pos=MODEL_INP_LEN//2, \n",
    "                   mot_offsets=[0], \n",
    "                   batch_size=128)[0][0][0] - dinuc_random_pred_counts[0])"
   ]
  },
  {
   "cell_type": "code",
   "execution_count": null,
   "metadata": {},
   "outputs": [],
   "source": []
  },
  {
   "cell_type": "markdown",
   "metadata": {},
   "source": [
    "# TMP"
   ]
  },
  {
   "cell_type": "code",
   "execution_count": null,
   "metadata": {},
   "outputs": [],
   "source": []
  },
  {
   "cell_type": "code",
   "execution_count": 559,
   "metadata": {},
   "outputs": [],
   "source": [
    "from itertools import combinations, product\n",
    "\n",
    "def all_muts(s, n):\n",
    "    muts = [s]\n",
    "    subs = [[y for y in [\"A\",\"C\",\"G\",\"T\"] if y!=x] for x in s]\n",
    "    \n",
    "    for x in combinations(range(len(s)), n):\n",
    "        cur_subs = product(*[subs[y] for y in x])\n",
    "        \n",
    "        for bases in cur_subs:\n",
    "            cur_str = \"\"\n",
    "            j = 0\n",
    "            for i in range(len(x)):                \n",
    "                cur_str += s[j:x[i]] + bases[i]\n",
    "                j = x[i]+1\n",
    "            cur_str += s[j:]\n",
    "\n",
    "            muts.append(cur_str)\n",
    "    \n",
    "    return muts"
   ]
  },
  {
   "cell_type": "code",
   "execution_count": 560,
   "metadata": {},
   "outputs": [
    {
     "name": "stdout",
     "output_type": "stream",
     "text": [
      "31\n",
      "46\n",
      "31\n"
     ]
    }
   ],
   "source": [
    "all_KLF_one_muts = all_muts(\"GCCACACCCA\",1)\n",
    "all_OS_one_muts = all_muts(\"ATTTGCATAACAATG\",1)\n",
    "all_O_one_muts = all_muts(\"ATTTGCATAA\",1)\n",
    "print(len(all_KLF_one_muts))\n",
    "print(len(all_OS_one_muts))\n",
    "print(len(all_O_one_muts))"
   ]
  },
  {
   "cell_type": "code",
   "execution_count": 561,
   "metadata": {},
   "outputs": [
    {
     "name": "stdout",
     "output_type": "stream",
     "text": [
      "406\n",
      "946\n",
      "406\n"
     ]
    }
   ],
   "source": [
    "all_KLF_two_muts = all_muts(\"GCCACACCCA\",2)\n",
    "all_OS_two_muts = all_muts(\"ATTTGCATAACAATG\",2)\n",
    "all_O_two_muts = all_muts(\"ATTTGCATAA\",2)\n",
    "print(len(all_KLF_two_muts))\n",
    "print(len(all_OS_two_muts))\n",
    "print(len(all_O_two_muts))"
   ]
  },
  {
   "cell_type": "code",
   "execution_count": 630,
   "metadata": {},
   "outputs": [
    {
     "name": "stdout",
     "output_type": "stream",
     "text": [
      "259\n",
      "259\n",
      "1028\n"
     ]
    }
   ],
   "source": [
    "all_OS_tail_muts = [x+\"GCATAACAATG\" for x in sum([all_muts(\"ATTT\", i) for i in range(1,5)], [])]\n",
    "all_OS_GCAT_muts = [\"ATTT\"+x +\"AACAATG\" for x in sum([all_muts(\"GCAT\", i) for i in range(1,5)], [])]\n",
    "all_OS_ACAAT_muts = [\"ATTTGCATA\"+x + \"G\" for x in sum([all_muts(\"ACAAT\", i) for i in range(1,6)], [])]\n",
    "print(len(all_OS_tail_muts))\n",
    "print(len(all_OS_GCAT_muts))\n",
    "print(len(all_OS_ACAAT_muts))"
   ]
  },
  {
   "cell_type": "code",
   "execution_count": 669,
   "metadata": {},
   "outputs": [],
   "source": [
    "REPLACE_WITH = all_KLF_two_muts + all_KLF_one_muts\n",
    "REPLACE_WITH_WID = len(REPLACE_WITH[0])"
   ]
  },
  {
   "cell_type": "code",
   "execution_count": 670,
   "metadata": {},
   "outputs": [
    {
     "name": "stderr",
     "output_type": "stream",
     "text": [
      "100%|██████████| 128/128 [02:00<00:00,  1.07it/s]\n"
     ]
    }
   ],
   "source": [
    "BATCH_SIZE = 128\n",
    "\n",
    "# replace with canonical motif and predict\n",
    "synth_pred_counts_muts = []\n",
    "\n",
    "        \n",
    "motif_start = MODEL_INP_LEN//2 \n",
    "motif_end = MODEL_INP_LEN//2 + REPLACE_WITH_WID\n",
    "\n",
    "\n",
    "for i in tqdm.tqdm(range(len(random_positions[:128]))):\n",
    "    cur_seq = random_positions[i]\n",
    "    cur_raw_seqs = []\n",
    "    cur_seq = str(hg38[cur_seq[0]][cur_seq[1]-(MODEL_INP_LEN//2):cur_seq[1]+(MODEL_INP_LEN//2)])\n",
    "    \n",
    "    for j, r in enumerate(REPLACE_WITH):\n",
    "        cur_raw_seqs.append(cur_seq[:motif_start] +  r + cur_seq[motif_end:])\n",
    "        \n",
    "    cur_raw_seqs = one_hot.dna_to_one_hot(cur_raw_seqs)\n",
    "    \n",
    "    cur_pred = models[2].predict([cur_raw_seqs, \n",
    "                   np.zeros((cur_raw_seqs.shape[0],1)), \n",
    "                   np.zeros((cur_raw_seqs.shape[0],2000,2))])[1]\n",
    "    synth_pred_counts_muts.append(cur_pred)"
   ]
  },
  {
   "cell_type": "code",
   "execution_count": 685,
   "metadata": {},
   "outputs": [],
   "source": [
    "deltas = np.squeeze(np.array(synth_pred_counts_muts)) - np.expand_dims(random_pred_counts[2][:128], axis=1)\n",
    "\n",
    "deltas_mean = np.mean(deltas, axis=0)"
   ]
  },
  {
   "cell_type": "code",
   "execution_count": 703,
   "metadata": {},
   "outputs": [
    {
     "data": {
      "text/plain": [
       "array([[0.47719233, 0.14103519, 0.14541054, 0.23636194],\n",
       "       [0.06013778, 0.06516477, 0.03760938, 0.83708807],\n",
       "       [0.11943772, 0.17138336, 0.04943214, 0.65974679],\n",
       "       [0.28830758, 0.01638429, 0.03891268, 0.65639546],\n",
       "       [0.21178551, 0.0960715 , 0.66989387, 0.02224912],\n",
       "       [0.13181903, 0.85077267, 0.00651648, 0.01089183],\n",
       "       [0.97737851, 0.00512009, 0.00288587, 0.01461553],\n",
       "       [0.05185254, 0.0349097 , 0.00763359, 0.90560417],\n",
       "       [0.40886241, 0.14056973, 0.21979147, 0.23077639],\n",
       "       [0.65611618, 0.01787377, 0.00837833, 0.31763173],\n",
       "       [0.07419475, 0.56097561, 0.27788121, 0.08694843],\n",
       "       [0.94814746, 0.01638429, 0.00307205, 0.0323962 ],\n",
       "       [0.94498231, 0.01796686, 0.03183765, 0.00521318],\n",
       "       [0.47961274, 0.02532117, 0.03444424, 0.46062186],\n",
       "       [0.36017501, 0.05092162, 0.51256749, 0.07633588]])"
      ]
     },
     "execution_count": 703,
     "metadata": {},
     "output_type": "execute_result"
    }
   ],
   "source": [
    "OS_pfm = np.loadtxt(\"../../../resources/BPNet/motifs/Oct4-Sox2/PFM.txt\")\n",
    "\n",
    "# rev comp\n",
    "OS_pfm = OS_pfm[::-1, ::-1][:-1]\n",
    "OS_pfm"
   ]
  },
  {
   "cell_type": "code",
   "execution_count": 704,
   "metadata": {},
   "outputs": [
    {
     "data": {
      "text/plain": [
       "'ATTTGCATAACAAAG'"
      ]
     },
     "execution_count": 704,
     "metadata": {},
     "output_type": "execute_result"
    }
   ],
   "source": [
    "''.join(np.array([\"A\",\"C\",\"G\",\"T\"])[np.argmax(OS_pfm, axis=1)])"
   ]
  },
  {
   "cell_type": "code",
   "execution_count": 674,
   "metadata": {},
   "outputs": [
    {
     "data": {
      "text/html": [
       "['GCCACACCCA', 'AACACACCCA', 'AGCACACCCA', 'ATCACACCCA', 'CACACACCCA', 'CGCACACCCA', 'CTCACACCCA', 'TACACACCCA', 'TGCACACCCA', 'TTCACACCCA']"
      ],
      "text/plain": [
       "['GCCACACCCA',\n",
       " 'AACACACCCA',\n",
       " 'AGCACACCCA',\n",
       " 'ATCACACCCA',\n",
       " 'CACACACCCA',\n",
       " 'CGCACACCCA',\n",
       " 'CTCACACCCA',\n",
       " 'TACACACCCA',\n",
       " 'TGCACACCCA',\n",
       " 'TTCACACCCA']"
      ]
     },
     "execution_count": 674,
     "metadata": {},
     "output_type": "execute_result"
    }
   ],
   "source": [
    "REPLACE_WITH[:10]"
   ]
  },
  {
   "cell_type": "code",
   "execution_count": 756,
   "metadata": {},
   "outputs": [
    {
     "data": {
      "text/plain": [
       "array([[3.20174959e-01, 4.77856752e-02, 5.80098414e-01, 5.19409513e-02],\n",
       "       [9.78676873e-02, 7.59103335e-01, 3.28048114e-02, 1.10224166e-01],\n",
       "       [5.60962274e-02, 7.18097321e-01, 1.22471296e-02, 2.13559322e-01],\n",
       "       [6.37069437e-01, 3.49808639e-01, 8.09185347e-03, 5.03007108e-03],\n",
       "       [8.74794970e-04, 9.98359759e-01, 0.00000000e+00, 7.65445599e-04],\n",
       "       [6.19901586e-01, 0.00000000e+00, 3.07053034e-01, 7.30453800e-02],\n",
       "       [1.09349371e-04, 9.99453253e-01, 1.09349371e-04, 3.28048114e-04],\n",
       "       [0.00000000e+00, 9.99781301e-01, 0.00000000e+00, 2.18698742e-04],\n",
       "       [5.46746856e-04, 9.65008201e-01, 0.00000000e+00, 3.44450519e-02],\n",
       "       [4.02296337e-01, 1.10333516e-01, 6.04702023e-02, 4.26899945e-01]])"
      ]
     },
     "execution_count": 756,
     "metadata": {},
     "output_type": "execute_result"
    }
   ],
   "source": [
    "K_pfm = np.loadtxt(\"../../../resources/BPNet/motifs/Klf4/PFM.txt\")\n",
    "\n",
    "# rev comp\n",
    "# K_pfm = K_pfm[::-1, ::-1][:-1]\n",
    "K_pfm"
   ]
  },
  {
   "cell_type": "code",
   "execution_count": 714,
   "metadata": {},
   "outputs": [
    {
     "data": {
      "text/plain": [
       "'GCCACACCCT'"
      ]
     },
     "execution_count": 714,
     "metadata": {},
     "output_type": "execute_result"
    }
   ],
   "source": [
    "''.join(np.array([\"A\",\"C\",\"G\",\"T\"])[np.argmax(K_pfm, axis=1)])"
   ]
  },
  {
   "cell_type": "code",
   "execution_count": 716,
   "metadata": {},
   "outputs": [],
   "source": [
    "OS_logodds = np.log(OS_pfm/0.25)"
   ]
  },
  {
   "cell_type": "code",
   "execution_count": 747,
   "metadata": {},
   "outputs": [],
   "source": [
    "K_logodds = np.log((K_pfm+1e-4)/0.25)"
   ]
  },
  {
   "cell_type": "code",
   "execution_count": 748,
   "metadata": {},
   "outputs": [
    {
     "data": {
      "text/plain": [
       "array([10.83536919,  8.19354699,  7.10252818,  8.31233228,  6.29318352,\n",
       "        5.20216471,  6.41196881,  6.37639805,  5.28537924,  6.49518334])"
      ]
     },
     "execution_count": 748,
     "metadata": {},
     "output_type": "execute_result"
    }
   ],
   "source": [
    "logodds_scores = np.sum((K_logodds * one_hot.dna_to_one_hot(REPLACE_WITH)), axis=(1,2))\n",
    "logodds_scores[:10]"
   ]
  },
  {
   "cell_type": "code",
   "execution_count": 749,
   "metadata": {},
   "outputs": [],
   "source": [
    "# spearmanr(logodds_scores, logodds_bpnet_scores)"
   ]
  },
  {
   "cell_type": "code",
   "execution_count": 750,
   "metadata": {},
   "outputs": [
    {
     "name": "stdout",
     "output_type": "stream",
     "text": [
      "0.22571120485108134\n",
      "0.15140198036417687\n"
     ]
    }
   ],
   "source": [
    "print(pearsonr(deltas_mean, logodds_scores)[0])\n",
    "print(spearmanr(deltas_mean, logodds_scores)[0])"
   ]
  },
  {
   "cell_type": "code",
   "execution_count": 751,
   "metadata": {},
   "outputs": [
    {
     "data": {
      "text/plain": [
       "<matplotlib.collections.PathCollection at 0x7f20ac987e50>"
      ]
     },
     "execution_count": 751,
     "metadata": {},
     "output_type": "execute_result"
    },
    {
     "data": {
      "image/png": "[encoded data removed]",
      "text/plain": [
       "<Figure size 432x288 with 1 Axes>"
      ]
     },
     "metadata": {
      "needs_background": "light"
     },
     "output_type": "display_data"
    }
   ],
   "source": [
    "plt.scatter(deltas_mean, logodds_scores, s=4)"
   ]
  },
  {
   "cell_type": "code",
   "execution_count": 752,
   "metadata": {},
   "outputs": [
    {
     "data": {
      "text/plain": [
       "(array([  3,  84,  91, 409]),)"
      ]
     },
     "execution_count": 752,
     "metadata": {},
     "output_type": "execute_result"
    }
   ],
   "source": [
    "np.where(np.logical_and(deltas_mean<0.02, logodds_scores>7.5))"
   ]
  },
  {
   "cell_type": "code",
   "execution_count": 753,
   "metadata": {},
   "outputs": [
    {
     "data": {
      "text/plain": [
       "array([8.31233228, 7.5753757 , 8.18837373, 8.42402999])"
      ]
     },
     "execution_count": 753,
     "metadata": {},
     "output_type": "execute_result"
    }
   ],
   "source": [
    "logodds_scores[np.where(np.logical_and(deltas_mean<0.02, logodds_scores>7.5))[0]]"
   ]
  },
  {
   "cell_type": "code",
   "execution_count": 754,
   "metadata": {},
   "outputs": [
    {
     "data": {
      "text/plain": [
       "array([-0.00242086,  0.00685269,  0.01456635,  0.00058308], dtype=float32)"
      ]
     },
     "execution_count": 754,
     "metadata": {},
     "output_type": "execute_result"
    }
   ],
   "source": [
    "deltas_mean[np.where(np.logical_and(deltas_mean<0.02, logodds_scores>7.5))[0]]"
   ]
  },
  {
   "cell_type": "code",
   "execution_count": 762,
   "metadata": {},
   "outputs": [
    {
     "data": {
      "text/plain": [
       "10.83536919213445"
      ]
     },
     "execution_count": 762,
     "metadata": {},
     "output_type": "execute_result"
    }
   ],
   "source": [
    "logodds_scores[0]"
   ]
  },
  {
   "cell_type": "code",
   "execution_count": 760,
   "metadata": {},
   "outputs": [
    {
     "data": {
      "text/plain": [
       "array([[ 0.24771896, -1.65264451,  0.84190922, -1.56942998],\n",
       "       [-0.93682322,  1.11080872, -2.02784203, -0.81803792],\n",
       "       [-1.49261129,  1.05528343, -3.0080373 , -0.15707812],\n",
       "       [ 0.93557469,  0.33621117, -3.41832074, -3.8863414 ],\n",
       "       [-5.54698904,  1.38475293, -7.82404601, -5.66597168],\n",
       "       [ 0.90826112, -7.82404601,  0.20588519, -1.22901195],\n",
       "       [-7.08521171,  1.38584751, -7.08521171, -6.36998059],\n",
       "       [-7.82404601,  1.38617566, -7.82404601, -6.66496992],\n",
       "       [-5.95726124,  1.3507793 , -7.82404601, -1.97919659],\n",
       "       [ 0.4759766 , -0.81704725, -1.41765786,  0.53532297]])"
      ]
     },
     "execution_count": 760,
     "metadata": {},
     "output_type": "execute_result"
    }
   ],
   "source": [
    "K_logodds"
   ]
  },
  {
   "cell_type": "code",
   "execution_count": 745,
   "metadata": {},
   "outputs": [
    {
     "data": {
      "text/plain": [
       "'GCCACACCCA'"
      ]
     },
     "execution_count": 745,
     "metadata": {},
     "output_type": "execute_result"
    }
   ],
   "source": [
    "REPLACE_WITH[0]"
   ]
  },
  {
   "cell_type": "code",
   "execution_count": 744,
   "metadata": {},
   "outputs": [
    {
     "data": {
      "text/plain": [
       "'ATCACACCCA'"
      ]
     },
     "execution_count": 744,
     "metadata": {},
     "output_type": "execute_result"
    }
   ],
   "source": [
    "REPLACE_WITH[3]"
   ]
  },
  {
   "cell_type": "code",
   "execution_count": null,
   "metadata": {},
   "outputs": [],
   "source": []
  },
  {
   "cell_type": "code",
   "execution_count": 723,
   "metadata": {},
   "outputs": [
    {
     "data": {
      "text/plain": [
       "<matplotlib.collections.PathCollection at 0x7f20ad73a390>"
      ]
     },
     "execution_count": 723,
     "metadata": {},
     "output_type": "execute_result"
    },
    {
     "data": {
      "image/png": "[encoded data removed]",
      "text/plain": [
       "<Figure size 432x288 with 1 Axes>"
      ]
     },
     "metadata": {
      "needs_background": "light"
     },
     "output_type": "display_data"
    }
   ],
   "source": [
    "plt.scatter(np.argsort(np.argsort(deltas_mean)), \n",
    "            np.argsort(np.argsort(logodds_scores)), \n",
    "                       s=4)"
   ]
  },
  {
   "cell_type": "code",
   "execution_count": null,
   "metadata": {},
   "outputs": [],
   "source": []
  },
  {
   "cell_type": "code",
   "execution_count": null,
   "metadata": {},
   "outputs": [],
   "source": []
  }
 ],
 "metadata": {
  "kernelspec": {
   "display_name": "Python 3",
   "language": "python",
   "name": "python3"
  },
  "language_info": {
   "codemirror_mode": {
    "name": "ipython",
    "version": 3
   },
   "file_extension": ".py",
   "mimetype": "text/x-python",
   "name": "python",
   "nbconvert_exporter": "python",
   "pygments_lexer": "ipython3",
   "version": "3.7.6"
  }
 },
 "nbformat": 4,
 "nbformat_minor": 4
}
