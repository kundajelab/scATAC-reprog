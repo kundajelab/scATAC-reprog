{
 "cells": [
  {
   "cell_type": "markdown",
   "metadata": {},
   "source": [
    "# OCT-SOX Insert\n",
    "\n",
    "Take post D2 models, and peaks open exclusively in D2 (\"neural-like\"). Insert canonical OCT-SOX motifs and see increase in predicted counts."
   ]
  },
  {
   "cell_type": "code",
   "execution_count": 1,
   "metadata": {},
   "outputs": [],
   "source": [
    "import numpy as np"
   ]
  },
  {
   "cell_type": "code",
   "execution_count": 72,
   "metadata": {
    "scrolled": true
   },
   "outputs": [],
   "source": [
    "import keras\n",
    "import tensorflow as tf\n",
    "import pyfaidx\n",
    "import math\n",
    "import pandas as pd\n",
    "import tqdm"
   ]
  },
  {
   "cell_type": "code",
   "execution_count": 10,
   "metadata": {},
   "outputs": [],
   "source": [
    "import sys\n",
    "\n",
    "from keras.utils import CustomObjectScope\n",
    "\n",
    "# mtbatchgen\n",
    "sys.path.append(\"/users/surag/kundajelab/mtbatchgen/example/\")\n",
    "from losses import MultichannelMultinomialNLL, multinomial_nll"
   ]
  },
  {
   "cell_type": "code",
   "execution_count": 62,
   "metadata": {},
   "outputs": [
    {
     "data": {
      "text/plain": [
       "<module 'one_hot' from '/users/surag/kundajelab/scATAC-reprog/src/analysis/20210322_BPNet_synthetic/one_hot.py'>"
      ]
     },
     "execution_count": 62,
     "metadata": {},
     "output_type": "execute_result"
    }
   ],
   "source": [
    "# local\n",
    "from importlib import reload\n",
    "import one_hot\n",
    "reload(one_hot)"
   ]
  },
  {
   "cell_type": "code",
   "execution_count": 241,
   "metadata": {},
   "outputs": [],
   "source": [
    "with CustomObjectScope({'MultichannelMultinomialNLL': MultichannelMultinomialNLL}):\n",
    "#     model = keras.models.load_model(\"/srv/scratch/surag/scATAC-reprog/models/cluster_idx8/2020-11-05_07_17_32/SoGro3.h5\")\n",
    "#     model = keras.models.load_model(\"/srv/scratch/surag/scATAC-reprog/models/cluster_idx2/2020-11-05_03_48_37/QAdERE.h5\")\n",
    "#     model = keras.models.load_model(\"/srv/scratch/surag/scATAC-reprog/models/cluster_idx4/2021-02-09_18_23_03/0pYOdc.h5\")\n",
    "#     model = keras.models.load_model(\"/srv/scratch/surag/scATAC-reprog/models/cluster_idx1/2020-11-05_03_48_37/dRMWWH.h5\")\n",
    "    model = keras.models.load_model(\"/srv/scratch/surag/scATAC-reprog/models/cluster_idx16/2020-11-06_00_34_22/Z21ucK.h5\")\n",
    "#     model = keras.models.load_model(\"/srv/scratch/surag/scATAC-reprog/models/cluster_idx5/2020-11-05_03_48_37/KR1GbF.h5\")"
   ]
  },
  {
   "cell_type": "code",
   "execution_count": 27,
   "metadata": {},
   "outputs": [],
   "source": [
    "hg38 = pyfaidx.Fasta('/users/surag/genomes/hg38/GRCh38_no_alt_analysis_set_GCA_000001405.15.fasta')"
   ]
  },
  {
   "cell_type": "code",
   "execution_count": 213,
   "metadata": {},
   "outputs": [
    {
     "data": {
      "text/html": [
       "<div>\n",
       "<style scoped>\n",
       "    .dataframe tbody tr th:only-of-type {\n",
       "        vertical-align: middle;\n",
       "    }\n",
       "\n",
       "    .dataframe tbody tr th {\n",
       "        vertical-align: top;\n",
       "    }\n",
       "\n",
       "    .dataframe thead th {\n",
       "        text-align: right;\n",
       "    }\n",
       "</style>\n",
       "<table border=\"1\" class=\"dataframe\">\n",
       "  <thead>\n",
       "    <tr style=\"text-align: right;\">\n",
       "      <th></th>\n",
       "      <th>chr</th>\n",
       "      <th>start</th>\n",
       "      <th>end</th>\n",
       "      <th>strand</th>\n",
       "      <th>score</th>\n",
       "      <th>seq</th>\n",
       "    </tr>\n",
       "  </thead>\n",
       "  <tbody>\n",
       "    <tr>\n",
       "      <th>0</th>\n",
       "      <td>chr1</td>\n",
       "      <td>2350165</td>\n",
       "      <td>2350180</td>\n",
       "      <td>+</td>\n",
       "      <td>7.492762</td>\n",
       "      <td>CTTTGAATATAAAAT</td>\n",
       "    </tr>\n",
       "    <tr>\n",
       "      <th>1</th>\n",
       "      <td>chr1</td>\n",
       "      <td>5940748</td>\n",
       "      <td>5940763</td>\n",
       "      <td>+</td>\n",
       "      <td>8.132912</td>\n",
       "      <td>ATCTACATTTTAAAA</td>\n",
       "    </tr>\n",
       "    <tr>\n",
       "      <th>2</th>\n",
       "      <td>chr1</td>\n",
       "      <td>7263287</td>\n",
       "      <td>7263302</td>\n",
       "      <td>-</td>\n",
       "      <td>12.820701</td>\n",
       "      <td>CTTTCTTTTGCAAAT</td>\n",
       "    </tr>\n",
       "    <tr>\n",
       "      <th>3</th>\n",
       "      <td>chr1</td>\n",
       "      <td>7843523</td>\n",
       "      <td>7843538</td>\n",
       "      <td>-</td>\n",
       "      <td>7.100240</td>\n",
       "      <td>TTTTGTTTTTAAAAT</td>\n",
       "    </tr>\n",
       "    <tr>\n",
       "      <th>4</th>\n",
       "      <td>chr1</td>\n",
       "      <td>9756154</td>\n",
       "      <td>9756169</td>\n",
       "      <td>-</td>\n",
       "      <td>7.883148</td>\n",
       "      <td>ATTTCACATGAAAAT</td>\n",
       "    </tr>\n",
       "  </tbody>\n",
       "</table>\n",
       "</div>"
      ],
      "text/plain": [
       "    chr    start      end strand      score              seq\n",
       "0  chr1  2350165  2350180      +   7.492762  CTTTGAATATAAAAT\n",
       "1  chr1  5940748  5940763      +   8.132912  ATCTACATTTTAAAA\n",
       "2  chr1  7263287  7263302      -  12.820701  CTTTCTTTTGCAAAT\n",
       "3  chr1  7843523  7843538      -   7.100240  TTTTGTTTTTAAAAT\n",
       "4  chr1  9756154  9756169      -   7.883148  ATTTCACATGAAAAT"
      ]
     },
     "execution_count": 213,
     "metadata": {},
     "output_type": "execute_result"
    }
   ],
   "source": [
    "oct_sox_hits = pd.read_csv(\"./data/20201211_gridmap_peakwidthnorm_logplusznorm_4way_ordered_n20/idx8.200.OCTSOX.thresh7.bed\", \n",
    "                           sep='\\t',\n",
    "                           names=[\"chr\", \"start\", \"end\", \"strand\", \"score\", \"seq\"])\n",
    "oct_sox_hits.head()"
   ]
  },
  {
   "cell_type": "code",
   "execution_count": 218,
   "metadata": {},
   "outputs": [
    {
     "data": {
      "text/plain": [
       ">chr1:2350166-2350180\n",
       "CTTTGAATATAAAAT"
      ]
     },
     "execution_count": 218,
     "metadata": {},
     "output_type": "execute_result"
    }
   ],
   "source": [
    "first_seq = oct_sox_hits.iloc[0]\n",
    "hg38[first_seq['chr']][first_seq['start']:first_seq['end']]"
   ]
  },
  {
   "cell_type": "code",
   "execution_count": 219,
   "metadata": {},
   "outputs": [
    {
     "data": {
      "text/plain": [
       "True"
      ]
     },
     "execution_count": 219,
     "metadata": {},
     "output_type": "execute_result"
    }
   ],
   "source": [
    "hg38[first_seq['chr']][first_seq['start']:first_seq['end']]==first_seq['seq']"
   ]
  },
  {
   "cell_type": "code",
   "execution_count": 220,
   "metadata": {},
   "outputs": [
    {
     "data": {
      "text/plain": [
       "(5032, 6)"
      ]
     },
     "execution_count": 220,
     "metadata": {},
     "output_type": "execute_result"
    }
   ],
   "source": [
    "oct_sox_hits.shape"
   ]
  },
  {
   "cell_type": "code",
   "execution_count": 221,
   "metadata": {},
   "outputs": [
    {
     "name": "stdout",
     "output_type": "stream",
     "text": [
      "2346\n"
     ]
    }
   ],
   "source": [
    "MODEL_INP_LEN = model.input_shape[0][1]\n",
    "print(MODEL_INP_LEN)"
   ]
  },
  {
   "cell_type": "code",
   "execution_count": 243,
   "metadata": {},
   "outputs": [
    {
     "name": "stderr",
     "output_type": "stream",
     "text": [
      "100%|██████████| 40/40 [00:21<00:00,  1.84it/s]\n"
     ]
    }
   ],
   "source": [
    "BATCH_SIZE = 128\n",
    "\n",
    "# predict on raw sequence\n",
    "raw_pred_counts = []\n",
    "\n",
    "for i in tqdm.tqdm(range(math.ceil(oct_sox_hits.shape[0]/BATCH_SIZE))):\n",
    "    cur_seqs = oct_sox_hits[i*BATCH_SIZE:(i+1)*BATCH_SIZE]\n",
    "    cur_raw_seqs = []\n",
    "    for j, r in cur_seqs.iterrows():\n",
    "        mid = (r['start']+r['end'])//2\n",
    "        cur_raw_seqs.append(str(hg38[r['chr']][mid-(MODEL_INP_LEN//2):mid+(MODEL_INP_LEN//2)]))\n",
    "        \n",
    "    cur_raw_seqs = one_hot.dna_to_one_hot(cur_raw_seqs)\n",
    "    \n",
    "    cur_pred = model.predict([cur_raw_seqs, \n",
    "                   np.zeros((cur_raw_seqs.shape[0],1)), \n",
    "                   np.zeros((cur_raw_seqs.shape[0],2000,2))])[1]\n",
    "    raw_pred_counts.append(cur_pred)\n",
    "    \n",
    "raw_pred_counts = np.vstack(raw_pred_counts).ravel()"
   ]
  },
  {
   "cell_type": "code",
   "execution_count": null,
   "metadata": {},
   "outputs": [],
   "source": []
  },
  {
   "cell_type": "code",
   "execution_count": 242,
   "metadata": {},
   "outputs": [
    {
     "name": "stderr",
     "output_type": "stream",
     "text": [
      "100%|██████████| 40/40 [00:23<00:00,  1.69it/s]\n"
     ]
    }
   ],
   "source": [
    "BATCH_SIZE = 128\n",
    "\n",
    "# replace with canonical motif and predict\n",
    "synth_pred_counts = []\n",
    "\n",
    "for i in tqdm.tqdm(range(math.ceil(oct_sox_hits.shape[0]/BATCH_SIZE))):\n",
    "    cur_seqs = oct_sox_hits[i*BATCH_SIZE:(i+1)*BATCH_SIZE]\n",
    "    cur_raw_seqs = []\n",
    "    for j, r in cur_seqs.iterrows():\n",
    "        mid = (r['start']+r['end'])//2\n",
    "        cur_raw_seqs.append(str(hg38[r['chr']][mid-(MODEL_INP_LEN//2):mid+(MODEL_INP_LEN//2)]))\n",
    "        \n",
    "        motif_start = MODEL_INP_LEN//2 - (mid-r['start'])\n",
    "        motif_end = MODEL_INP_LEN//2 + (r['end']-mid)\n",
    "        # make sure seqs match\n",
    "        assert(cur_raw_seqs[-1][motif_start:motif_end] == r['seq'])\n",
    "        \n",
    "        # replace with canonical (or something else)\n",
    "        # OCTSOX: ATTTGCATAACAATG/CATTGTTATGCAAAT\n",
    "        # OCTonly: ATTTGCATAAAAGAC/GTCTTTTATGCAAAT\n",
    "        # KLF:  GCCACACCCAAGGAG/CTCCTTGGGTGTGGC\n",
    "        # random: ACGTAGAATACTGTG\n",
    "        if r['strand'] == \"+\":\n",
    "            replacement = \"ATTTGCATAACAATG\"\n",
    "        else:\n",
    "            replacement = \"CATTGTTATGCAAAT\" \n",
    "        \n",
    "        cur_raw_seqs[-1] = cur_raw_seqs[-1][:motif_start] +  replacement + cur_raw_seqs[-1][motif_end:] \n",
    "        \n",
    "    cur_raw_seqs = one_hot.dna_to_one_hot(cur_raw_seqs)\n",
    "    \n",
    "    cur_pred = model.predict([cur_raw_seqs, \n",
    "                   np.zeros((cur_raw_seqs.shape[0],1)), \n",
    "                   np.zeros((cur_raw_seqs.shape[0],2000,2))])[1]\n",
    "    synth_pred_counts.append(cur_pred)\n",
    "    \n",
    "synth_pred_counts = np.vstack(synth_pred_counts).ravel()"
   ]
  },
  {
   "cell_type": "code",
   "execution_count": 244,
   "metadata": {},
   "outputs": [
    {
     "data": {
      "text/plain": [
       "5.13935"
      ]
     },
     "execution_count": 244,
     "metadata": {},
     "output_type": "execute_result"
    }
   ],
   "source": [
    "np.median(synth_pred_counts)"
   ]
  },
  {
   "cell_type": "code",
   "execution_count": 245,
   "metadata": {},
   "outputs": [
    {
     "data": {
      "text/plain": [
       "4.622422"
      ]
     },
     "execution_count": 245,
     "metadata": {},
     "output_type": "execute_result"
    }
   ],
   "source": [
    "np.median(raw_pred_counts)"
   ]
  },
  {
   "cell_type": "code",
   "execution_count": 246,
   "metadata": {},
   "outputs": [
    {
     "data": {
      "text/plain": [
       "1.6037955"
      ]
     },
     "execution_count": 246,
     "metadata": {},
     "output_type": "execute_result"
    }
   ],
   "source": [
    "np.exp(np.median(synth_pred_counts-raw_pred_counts))"
   ]
  },
  {
   "cell_type": "code",
   "execution_count": 194,
   "metadata": {},
   "outputs": [],
   "source": [
    "import scipy.stats"
   ]
  },
  {
   "cell_type": "code",
   "execution_count": 195,
   "metadata": {},
   "outputs": [
    {
     "data": {
      "text/plain": [
       "Ttest_relResult(statistic=-19.386177173969415, pvalue=4.1767542280397166e-74)"
      ]
     },
     "execution_count": 195,
     "metadata": {},
     "output_type": "execute_result"
    }
   ],
   "source": [
    "scipy.stats.ttest_rel(raw_pred_counts, synth_pred_counts)"
   ]
  },
  {
   "cell_type": "code",
   "execution_count": 150,
   "metadata": {},
   "outputs": [
    {
     "data": {
      "text/plain": [
       "<AxesSubplot:>"
      ]
     },
     "execution_count": 150,
     "metadata": {},
     "output_type": "execute_result"
    },
    {
     "data": {
      "image/png": "[encoded data removed]",
      "text/plain": [
       "<Figure size 432x288 with 1 Axes>"
      ]
     },
     "metadata": {
      "needs_background": "light"
     },
     "output_type": "display_data"
    }
   ],
   "source": [
    "pd.Series(synth_pred_counts-  raw_pred_counts).hist()"
   ]
  },
  {
   "cell_type": "code",
   "execution_count": null,
   "metadata": {},
   "outputs": [],
   "source": []
  },
  {
   "cell_type": "code",
   "execution_count": null,
   "metadata": {},
   "outputs": [],
   "source": []
  },
  {
   "cell_type": "code",
   "execution_count": null,
   "metadata": {},
   "outputs": [],
   "source": []
  }
 ],
 "metadata": {
  "kernelspec": {
   "display_name": "Python 3",
   "language": "python",
   "name": "python3"
  },
  "language_info": {
   "codemirror_mode": {
    "name": "ipython",
    "version": 3
   },
   "file_extension": ".py",
   "mimetype": "text/x-python",
   "name": "python",
   "nbconvert_exporter": "python",
   "pygments_lexer": "ipython3",
   "version": "3.7.6"
  }
 },
 "nbformat": 4,
 "nbformat_minor": 4
}
