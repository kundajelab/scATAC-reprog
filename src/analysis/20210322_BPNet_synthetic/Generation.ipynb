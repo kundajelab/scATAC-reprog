{
 "cells": [
  {
   "cell_type": "markdown",
   "metadata": {},
   "source": [
    "# Generative\n",
    "\n",
    "Modify a set of sequences to increase predicted accessibility."
   ]
  },
  {
   "cell_type": "code",
   "execution_count": null,
   "metadata": {},
   "outputs": [],
   "source": [
    "import numpy as np"
   ]
  },
  {
   "cell_type": "code",
   "execution_count": 2,
   "metadata": {
    "scrolled": true
   },
   "outputs": [
    {
     "name": "stderr",
     "output_type": "stream",
     "text": [
      "Using TensorFlow backend.\n",
      "/users/surag/anaconda3/envs/mtbatchgen/lib/python3.7/site-packages/tensorflow/python/framework/dtypes.py:516: FutureWarning: Passing (type, 1) or '1type' as a synonym of type is deprecated; in a future version of numpy, it will be understood as (type, (1,)) / '(1,)type'.\n",
      "  _np_qint8 = np.dtype([(\"qint8\", np.int8, 1)])\n",
      "/users/surag/anaconda3/envs/mtbatchgen/lib/python3.7/site-packages/tensorflow/python/framework/dtypes.py:517: FutureWarning: Passing (type, 1) or '1type' as a synonym of type is deprecated; in a future version of numpy, it will be understood as (type, (1,)) / '(1,)type'.\n",
      "  _np_quint8 = np.dtype([(\"quint8\", np.uint8, 1)])\n",
      "/users/surag/anaconda3/envs/mtbatchgen/lib/python3.7/site-packages/tensorflow/python/framework/dtypes.py:518: FutureWarning: Passing (type, 1) or '1type' as a synonym of type is deprecated; in a future version of numpy, it will be understood as (type, (1,)) / '(1,)type'.\n",
      "  _np_qint16 = np.dtype([(\"qint16\", np.int16, 1)])\n",
      "/users/surag/anaconda3/envs/mtbatchgen/lib/python3.7/site-packages/tensorflow/python/framework/dtypes.py:519: FutureWarning: Passing (type, 1) or '1type' as a synonym of type is deprecated; in a future version of numpy, it will be understood as (type, (1,)) / '(1,)type'.\n",
      "  _np_quint16 = np.dtype([(\"quint16\", np.uint16, 1)])\n",
      "/users/surag/anaconda3/envs/mtbatchgen/lib/python3.7/site-packages/tensorflow/python/framework/dtypes.py:520: FutureWarning: Passing (type, 1) or '1type' as a synonym of type is deprecated; in a future version of numpy, it will be understood as (type, (1,)) / '(1,)type'.\n",
      "  _np_qint32 = np.dtype([(\"qint32\", np.int32, 1)])\n",
      "/users/surag/anaconda3/envs/mtbatchgen/lib/python3.7/site-packages/tensorflow/python/framework/dtypes.py:525: FutureWarning: Passing (type, 1) or '1type' as a synonym of type is deprecated; in a future version of numpy, it will be understood as (type, (1,)) / '(1,)type'.\n",
      "  np_resource = np.dtype([(\"resource\", np.ubyte, 1)])\n",
      "/users/surag/anaconda3/envs/mtbatchgen/lib/python3.7/site-packages/tensorboard/compat/tensorflow_stub/dtypes.py:541: FutureWarning: Passing (type, 1) or '1type' as a synonym of type is deprecated; in a future version of numpy, it will be understood as (type, (1,)) / '(1,)type'.\n",
      "  _np_qint8 = np.dtype([(\"qint8\", np.int8, 1)])\n",
      "/users/surag/anaconda3/envs/mtbatchgen/lib/python3.7/site-packages/tensorboard/compat/tensorflow_stub/dtypes.py:542: FutureWarning: Passing (type, 1) or '1type' as a synonym of type is deprecated; in a future version of numpy, it will be understood as (type, (1,)) / '(1,)type'.\n",
      "  _np_quint8 = np.dtype([(\"quint8\", np.uint8, 1)])\n",
      "/users/surag/anaconda3/envs/mtbatchgen/lib/python3.7/site-packages/tensorboard/compat/tensorflow_stub/dtypes.py:543: FutureWarning: Passing (type, 1) or '1type' as a synonym of type is deprecated; in a future version of numpy, it will be understood as (type, (1,)) / '(1,)type'.\n",
      "  _np_qint16 = np.dtype([(\"qint16\", np.int16, 1)])\n",
      "/users/surag/anaconda3/envs/mtbatchgen/lib/python3.7/site-packages/tensorboard/compat/tensorflow_stub/dtypes.py:544: FutureWarning: Passing (type, 1) or '1type' as a synonym of type is deprecated; in a future version of numpy, it will be understood as (type, (1,)) / '(1,)type'.\n",
      "  _np_quint16 = np.dtype([(\"quint16\", np.uint16, 1)])\n",
      "/users/surag/anaconda3/envs/mtbatchgen/lib/python3.7/site-packages/tensorboard/compat/tensorflow_stub/dtypes.py:545: FutureWarning: Passing (type, 1) or '1type' as a synonym of type is deprecated; in a future version of numpy, it will be understood as (type, (1,)) / '(1,)type'.\n",
      "  _np_qint32 = np.dtype([(\"qint32\", np.int32, 1)])\n",
      "/users/surag/anaconda3/envs/mtbatchgen/lib/python3.7/site-packages/tensorboard/compat/tensorflow_stub/dtypes.py:550: FutureWarning: Passing (type, 1) or '1type' as a synonym of type is deprecated; in a future version of numpy, it will be understood as (type, (1,)) / '(1,)type'.\n",
      "  np_resource = np.dtype([(\"resource\", np.ubyte, 1)])\n"
     ]
    }
   ],
   "source": [
    "import keras\n",
    "import tensorflow as tf\n",
    "import pyfaidx\n",
    "import math\n",
    "import pandas as pd\n",
    "import tqdm\n",
    "import scipy.stats\n",
    "import matplotlib.pyplot as plt\n",
    "from scipy.stats import gaussian_kde\n",
    "from copy import deepcopy\n",
    "import pyBigWig\n",
    "from matplotlib.patches import Rectangle\n",
    "from copy import deepcopy"
   ]
  },
  {
   "cell_type": "code",
   "execution_count": 3,
   "metadata": {},
   "outputs": [],
   "source": [
    "from modisco.visualization import viz_sequence"
   ]
  },
  {
   "cell_type": "code",
   "execution_count": 4,
   "metadata": {},
   "outputs": [],
   "source": [
    "from random import choice, sample\n",
    "import sys\n",
    "\n",
    "from keras.utils import CustomObjectScope\n",
    "\n",
    "# mtbatchgen\n",
    "sys.path.append(\"/users/surag/kundajelab/mtbatchgen/example/\")\n",
    "from losses import MultichannelMultinomialNLL, multinomial_nll"
   ]
  },
  {
   "cell_type": "code",
   "execution_count": 5,
   "metadata": {},
   "outputs": [
    {
     "data": {
      "text/plain": [
       "<module 'one_hot' from '/users/surag/kundajelab/scATAC-reprog/src/analysis/20210322_BPNet_synthetic/one_hot.py'>"
      ]
     },
     "execution_count": 5,
     "metadata": {},
     "output_type": "execute_result"
    }
   ],
   "source": [
    "# local\n",
    "from importlib import reload\n",
    "import one_hot\n",
    "reload(one_hot)"
   ]
  },
  {
   "cell_type": "code",
   "execution_count": 6,
   "metadata": {},
   "outputs": [],
   "source": [
    "from shaputils import *\n",
    "import shap"
   ]
  },
  {
   "cell_type": "code",
   "execution_count": null,
   "metadata": {},
   "outputs": [],
   "source": [
    "with CustomObjectScope({'MultichannelMultinomialNLL': MultichannelMultinomialNLL}):\n",
    "#     model = keras.models.load_model(\"/srv/scratch/surag/scATAC-reprog/models/20201105_all_peaks_filt256_in2346_out2000/cluster_idx5/2020-11-05_03_48_37/KR1GbF.h5\")\n",
    "#     model = keras.models.load_model(\"/srv/scratch/surag/scATAC-reprog/models/20201105_all_peaks_filt256_in2346_out2000/cluster_idx4/extra_models/P2qbCl.h5\")\n",
    "\n",
    "    model = keras.models.load_model(\"/srv/scratch/surag/scATAC-reprog/models/20210414_gc_neg_filt256_in2346_out2000/cluster_idx2/2021-04-14_18_11_26/Dp2D6w.h5\")\n",
    "#     model = keras.models.load_model(\"/srv/scratch/surag/scATAC-reprog/models/20210414_gc_neg_filt256_in2346_out2000/cluster_idx4/2021-04-14_18_11_26/QBF1UL.h5\")\n",
    "    model_neur = keras.models.load_model(\"/srv/scratch/surag/scATAC-reprog/models/20210414_gc_neg_filt256_in2346_out2000/cluster_idx4/2021-04-14_18_11_26/QBF1UL.h5\")\n",
    "#     model = keras.models.load_model(\"/srv/scratch/surag/scATAC-reprog/models/20210414_gc_neg_filt256_in2346_out2000/cluster_idx5/2021-04-14_18_11_26/nqv4wJ.h5\")\n",
    "#     model = keras.models.load_model(\"/srv/scratch/surag/scATAC-reprog/models/20210414_gc_neg_filt256_in2346_out2000/cluster_idx8/2021-04-14_18_11_26/HhcfZk.h5\")\n",
    "#     model = keras.models.load_model(\"/srv/scratch/surag/scATAC-reprog/models/20210414_gc_neg_filt256_in2346_out2000/cluster_idx1/2021-04-14_18_11_26/89fam2.h5\")\n",
    "#     model = keras.models.load_model(\"/srv/scratch/surag/scATAC-reprog/models/20210414_gc_neg_filt256_in2346_out2000/cluster_idx14/2021-04-15_09_22_38/Y4lI6R.h5\")\n",
    "#     model = keras.models.load_model(\"/srv/scratch/surag/scATAC-reprog/models/20210414_gc_neg_filt256_in2346_out2000/cluster_idx16/2021-04-15_09_33_42/7zunw4.h5\")"
   ]
  },
  {
   "cell_type": "code",
   "execution_count": null,
   "metadata": {},
   "outputs": [],
   "source": [
    "hg38 = pyfaidx.Fasta('/users/surag/genomes/hg38/GRCh38_no_alt_analysis_set_GCA_000001405.15.fasta')"
   ]
  },
  {
   "cell_type": "code",
   "execution_count": null,
   "metadata": {},
   "outputs": [],
   "source": [
    "MODEL_INP_LEN = model.input_shape[0][1]\n",
    "MODEL_OUT_LEN = model.output_shape[0][1]\n",
    "print(MODEL_INP_LEN)\n",
    "print(MODEL_OUT_LEN)"
   ]
  },
  {
   "cell_type": "code",
   "execution_count": 11,
   "metadata": {
    "scrolled": true
   },
   "outputs": [
    {
     "name": "stdout",
     "output_type": "stream",
     "text": [
      "Warning:  SpaceToBatchND used in model but handling of op is not specified by shap; will use original  gradients\n",
      "Warning:  BatchToSpaceND used in model but handling of op is not specified by shap; will use original  gradients\n",
      "Warning:  SpaceToBatchND used in model but handling of op is not specified by shap; will use original  gradients\n",
      "Warning:  BatchToSpaceND used in model but handling of op is not specified by shap; will use original  gradients\n",
      "Warning:  SpaceToBatchND used in model but handling of op is not specified by shap; will use original  gradients\n",
      "Warning:  BatchToSpaceND used in model but handling of op is not specified by shap; will use original  gradients\n",
      "Warning:  SpaceToBatchND used in model but handling of op is not specified by shap; will use original  gradients\n",
      "Warning:  BatchToSpaceND used in model but handling of op is not specified by shap; will use original  gradients\n",
      "Warning:  SpaceToBatchND used in model but handling of op is not specified by shap; will use original  gradients\n",
      "Warning:  BatchToSpaceND used in model but handling of op is not specified by shap; will use original  gradients\n",
      "Warning:  SpaceToBatchND used in model but handling of op is not specified by shap; will use original  gradients\n",
      "Warning:  BatchToSpaceND used in model but handling of op is not specified by shap; will use original  gradients\n",
      "Warning:  SpaceToBatchND used in model but handling of op is not specified by shap; will use original  gradients\n",
      "Warning:  BatchToSpaceND used in model but handling of op is not specified by shap; will use original  gradients\n",
      "Warning:  SpaceToBatchND used in model but handling of op is not specified by shap; will use original  gradients\n",
      "Warning:  BatchToSpaceND used in model but handling of op is not specified by shap; will use original  gradients\n",
      "Warning:  SpaceToBatchND used in model but handling of op is not specified by shap; will use original  gradients\n",
      "Warning:  BatchToSpaceND used in model but handling of op is not specified by shap; will use original  gradients\n",
      "Warning:  StopGradient used in model but handling of op is not specified by shap; will use original  gradients\n",
      "Warning:  SpaceToBatchND used in model but handling of op is not specified by shap; will use original  gradients\n",
      "Warning:  BatchToSpaceND used in model but handling of op is not specified by shap; will use original  gradients\n",
      "Warning:  SpaceToBatchND used in model but handling of op is not specified by shap; will use original  gradients\n",
      "Warning:  BatchToSpaceND used in model but handling of op is not specified by shap; will use original  gradients\n",
      "Warning:  SpaceToBatchND used in model but handling of op is not specified by shap; will use original  gradients\n",
      "Warning:  BatchToSpaceND used in model but handling of op is not specified by shap; will use original  gradients\n",
      "Warning:  SpaceToBatchND used in model but handling of op is not specified by shap; will use original  gradients\n",
      "Warning:  BatchToSpaceND used in model but handling of op is not specified by shap; will use original  gradients\n",
      "Warning:  SpaceToBatchND used in model but handling of op is not specified by shap; will use original  gradients\n",
      "Warning:  BatchToSpaceND used in model but handling of op is not specified by shap; will use original  gradients\n",
      "Warning:  SpaceToBatchND used in model but handling of op is not specified by shap; will use original  gradients\n",
      "Warning:  BatchToSpaceND used in model but handling of op is not specified by shap; will use original  gradients\n",
      "Warning:  SpaceToBatchND used in model but handling of op is not specified by shap; will use original  gradients\n",
      "Warning:  BatchToSpaceND used in model but handling of op is not specified by shap; will use original  gradients\n",
      "Warning:  SpaceToBatchND used in model but handling of op is not specified by shap; will use original  gradients\n",
      "Warning:  BatchToSpaceND used in model but handling of op is not specified by shap; will use original  gradients\n",
      "Warning:  SpaceToBatchND used in model but handling of op is not specified by shap; will use original  gradients\n",
      "Warning:  BatchToSpaceND used in model but handling of op is not specified by shap; will use original  gradients\n",
      "Warning:  SpaceToBatchND used in model but handling of op is not specified by shap; will use original  gradients\n",
      "Warning:  BatchToSpaceND used in model but handling of op is not specified by shap; will use original  gradients\n",
      "Warning:  SpaceToBatchND used in model but handling of op is not specified by shap; will use original  gradients\n",
      "Warning:  BatchToSpaceND used in model but handling of op is not specified by shap; will use original  gradients\n",
      "Warning:  SpaceToBatchND used in model but handling of op is not specified by shap; will use original  gradients\n",
      "Warning:  BatchToSpaceND used in model but handling of op is not specified by shap; will use original  gradients\n",
      "Warning:  SpaceToBatchND used in model but handling of op is not specified by shap; will use original  gradients\n",
      "Warning:  BatchToSpaceND used in model but handling of op is not specified by shap; will use original  gradients\n",
      "Warning:  SpaceToBatchND used in model but handling of op is not specified by shap; will use original  gradients\n",
      "Warning:  BatchToSpaceND used in model but handling of op is not specified by shap; will use original  gradients\n",
      "Warning:  SpaceToBatchND used in model but handling of op is not specified by shap; will use original  gradients\n",
      "Warning:  BatchToSpaceND used in model but handling of op is not specified by shap; will use original  gradients\n",
      "Warning:  SpaceToBatchND used in model but handling of op is not specified by shap; will use original  gradients\n",
      "Warning:  BatchToSpaceND used in model but handling of op is not specified by shap; will use original  gradients\n",
      "Warning:  SpaceToBatchND used in model but handling of op is not specified by shap; will use original  gradients\n",
      "Warning:  BatchToSpaceND used in model but handling of op is not specified by shap; will use original  gradients\n",
      "Warning:  SpaceToBatchND used in model but handling of op is not specified by shap; will use original  gradients\n",
      "Warning:  BatchToSpaceND used in model but handling of op is not specified by shap; will use original  gradients\n",
      "Warning:  StopGradient used in model but handling of op is not specified by shap; will use original  gradients\n",
      "Warning:  SpaceToBatchND used in model but handling of op is not specified by shap; will use original  gradients\n",
      "Warning:  BatchToSpaceND used in model but handling of op is not specified by shap; will use original  gradients\n",
      "Warning:  SpaceToBatchND used in model but handling of op is not specified by shap; will use original  gradients\n",
      "Warning:  BatchToSpaceND used in model but handling of op is not specified by shap; will use original  gradients\n",
      "Warning:  SpaceToBatchND used in model but handling of op is not specified by shap; will use original  gradients\n",
      "Warning:  BatchToSpaceND used in model but handling of op is not specified by shap; will use original  gradients\n",
      "Warning:  SpaceToBatchND used in model but handling of op is not specified by shap; will use original  gradients\n",
      "Warning:  BatchToSpaceND used in model but handling of op is not specified by shap; will use original  gradients\n",
      "Warning:  SpaceToBatchND used in model but handling of op is not specified by shap; will use original  gradients\n",
      "Warning:  BatchToSpaceND used in model but handling of op is not specified by shap; will use original  gradients\n",
      "Warning:  SpaceToBatchND used in model but handling of op is not specified by shap; will use original  gradients\n",
      "Warning:  BatchToSpaceND used in model but handling of op is not specified by shap; will use original  gradients\n",
      "Warning:  SpaceToBatchND used in model but handling of op is not specified by shap; will use original  gradients\n",
      "Warning:  BatchToSpaceND used in model but handling of op is not specified by shap; will use original  gradients\n",
      "Warning:  SpaceToBatchND used in model but handling of op is not specified by shap; will use original  gradients\n",
      "Warning:  BatchToSpaceND used in model but handling of op is not specified by shap; will use original  gradients\n",
      "Warning:  SpaceToBatchND used in model but handling of op is not specified by shap; will use original  gradients\n",
      "Warning:  BatchToSpaceND used in model but handling of op is not specified by shap; will use original  gradients\n"
     ]
    }
   ],
   "source": [
    "weightedsum_meannormed_logits = get_weightedsum_meannormed_logits(model)\n",
    "\n",
    "profile_model_counts_explainer = shap.explainers.deep.TFDeepExplainer(\n",
    "        ([model.input[0], model.input[1]],\n",
    "         tf.reduce_sum(model.outputs[1], axis=-1)),\n",
    "        shuffle_several_times,\n",
    "        combine_mult_and_diffref=combine_mult_and_diffref)\n",
    "\n",
    "profile_model_profile_explainer = shap.explainers.deep.TFDeepExplainer(\n",
    "        ([model.input[0], model.input[2]], weightedsum_meannormed_logits),\n",
    "        shuffle_several_times,\n",
    "        combine_mult_and_diffref=combine_mult_and_diffref)\n",
    "\n",
    "weightedsum_meannormed_logits_neur = get_weightedsum_meannormed_logits(model_neur)\n",
    "\n",
    "profile_model_counts_explainer_neur = shap.explainers.deep.TFDeepExplainer(\n",
    "        ([model_neur.input[0], model_neur.input[1]],\n",
    "         tf.reduce_sum(model_neur.outputs[1], axis=-1)),\n",
    "        shuffle_several_times,\n",
    "        combine_mult_and_diffref=combine_mult_and_diffref)\n",
    "\n",
    "profile_model_profile_explainer_neur = shap.explainers.deep.TFDeepExplainer(\n",
    "        ([model_neur.input[0], model_neur.input[2]], weightedsum_meannormed_logits_neur),\n",
    "        shuffle_several_times,\n",
    "        combine_mult_and_diffref=combine_mult_and_diffref)"
   ]
  },
  {
   "cell_type": "markdown",
   "metadata": {},
   "source": [
    "## Peak Sets"
   ]
  },
  {
   "cell_type": "code",
   "execution_count": 14,
   "metadata": {},
   "outputs": [
    {
     "data": {
      "text/html": [
       "<div>\n",
       "<style scoped>\n",
       "    .dataframe tbody tr th:only-of-type {\n",
       "        vertical-align: middle;\n",
       "    }\n",
       "\n",
       "    .dataframe tbody tr th {\n",
       "        vertical-align: top;\n",
       "    }\n",
       "\n",
       "    .dataframe thead th {\n",
       "        text-align: right;\n",
       "    }\n",
       "</style>\n",
       "<table border=\"1\" class=\"dataframe\">\n",
       "  <thead>\n",
       "    <tr style=\"text-align: right;\">\n",
       "      <th></th>\n",
       "      <th>chr</th>\n",
       "      <th>start</th>\n",
       "      <th>end</th>\n",
       "      <th>mid</th>\n",
       "    </tr>\n",
       "  </thead>\n",
       "  <tbody>\n",
       "    <tr>\n",
       "      <th>0</th>\n",
       "      <td>chr1</td>\n",
       "      <td>839897</td>\n",
       "      <td>840397</td>\n",
       "      <td>840147</td>\n",
       "    </tr>\n",
       "    <tr>\n",
       "      <th>1</th>\n",
       "      <td>chr1</td>\n",
       "      <td>1801493</td>\n",
       "      <td>1802694</td>\n",
       "      <td>1802093</td>\n",
       "    </tr>\n",
       "    <tr>\n",
       "      <th>2</th>\n",
       "      <td>chr1</td>\n",
       "      <td>2118733</td>\n",
       "      <td>2119234</td>\n",
       "      <td>2118983</td>\n",
       "    </tr>\n",
       "    <tr>\n",
       "      <th>3</th>\n",
       "      <td>chr1</td>\n",
       "      <td>2349814</td>\n",
       "      <td>2350613</td>\n",
       "      <td>2350213</td>\n",
       "    </tr>\n",
       "    <tr>\n",
       "      <th>4</th>\n",
       "      <td>chr1</td>\n",
       "      <td>3803335</td>\n",
       "      <td>3803835</td>\n",
       "      <td>3803585</td>\n",
       "    </tr>\n",
       "  </tbody>\n",
       "</table>\n",
       "</div>"
      ],
      "text/plain": [
       "    chr    start      end      mid\n",
       "0  chr1   839897   840397   840147\n",
       "1  chr1  1801493  1802694  1802093\n",
       "2  chr1  2118733  2119234  2118983\n",
       "3  chr1  2349814  2350613  2350213\n",
       "4  chr1  3803335  3803835  3803585"
      ]
     },
     "execution_count": 14,
     "metadata": {},
     "output_type": "execute_result"
    }
   ],
   "source": [
    "peak_set = pd.read_csv(\"../20200307_fine_clustering/beds/20201211_gridmap_peakwidthnorm_logplusznorm_4way_ordered_n20/idx8.bed\", \n",
    "                           sep='\\t',\n",
    "                           names=[\"chr\", \"start\", \"end\"])\n",
    "peak_set[\"mid\"] = (peak_set[\"start\"] + peak_set[\"end\"])//2\n",
    "peak_set.head()"
   ]
  },
  {
   "cell_type": "code",
   "execution_count": 1023,
   "metadata": {},
   "outputs": [
    {
     "name": "stderr",
     "output_type": "stream",
     "text": [
      "100%|██████████| 179/179 [00:52<00:00,  3.38it/s]\n"
     ]
    }
   ],
   "source": [
    "BATCH_SIZE = 128\n",
    "\n",
    "# predict on raw sequence\n",
    "raw_pred_counts = []\n",
    "\n",
    "for i in tqdm.tqdm(range(math.ceil(peak_set.shape[0]/BATCH_SIZE))):\n",
    "    cur_seqs = peak_set[i*BATCH_SIZE:(i+1)*BATCH_SIZE]\n",
    "    cur_raw_seqs = []\n",
    "    for j, r in cur_seqs.iterrows():\n",
    "        cur_raw_seqs.append(str(hg38[r['chr']][r['mid']-(MODEL_INP_LEN//2):r['mid']+(MODEL_INP_LEN//2)]))\n",
    "        \n",
    "    cur_raw_seqs = one_hot.dna_to_one_hot(cur_raw_seqs)\n",
    "    \n",
    "    cur_pred = model.predict([cur_raw_seqs, \n",
    "                   np.zeros((cur_raw_seqs.shape[0],1)), \n",
    "                   np.zeros((cur_raw_seqs.shape[0],2000,2))])[1]\n",
    "    raw_pred_counts.append(cur_pred)\n",
    "    \n",
    "raw_pred_counts = np.vstack(raw_pred_counts).ravel()"
   ]
  },
  {
   "cell_type": "code",
   "execution_count": 1028,
   "metadata": {},
   "outputs": [
    {
     "data": {
      "text/plain": [
       "array([4.23649383, 4.68817472, 5.16638064, 5.58655987, 6.29527551])"
      ]
     },
     "execution_count": 1028,
     "metadata": {},
     "output_type": "execute_result"
    }
   ],
   "source": [
    "# C2 peak set 8\n",
    "np.quantile(raw_pred_counts, [0.25,.5,.75, .9, .99])"
   ]
  },
  {
   "cell_type": "code",
   "execution_count": 1017,
   "metadata": {},
   "outputs": [
    {
     "data": {
      "text/plain": [
       "array([5.52469528, 5.90524507, 6.27489841, 6.60772095, 7.21408137])"
      ]
     },
     "execution_count": 1017,
     "metadata": {},
     "output_type": "execute_result"
    }
   ],
   "source": [
    "# C2 peak set 11\n",
    "np.quantile(raw_pred_counts, [0.25,.5,.75, .9,.99])"
   ]
  },
  {
   "cell_type": "code",
   "execution_count": 18,
   "metadata": {},
   "outputs": [
    {
     "data": {
      "text/plain": [
       "array([5.89582646, 6.29021645, 6.67966914, 7.05824156, 7.76616339])"
      ]
     },
     "execution_count": 18,
     "metadata": {},
     "output_type": "execute_result"
    }
   ],
   "source": [
    "# C2 peak set 13\n",
    "np.quantile(raw_pred_counts, [0.25,.5,.75, .9,.99])"
   ]
  },
  {
   "cell_type": "code",
   "execution_count": 852,
   "metadata": {},
   "outputs": [
    {
     "data": {
      "text/plain": [
       "array([2.34164679, 3.29097555, 3.75607044, 4.20493579, 4.58417916,\n",
       "       4.87113447, 5.31229448])"
      ]
     },
     "execution_count": 852,
     "metadata": {},
     "output_type": "execute_result"
    }
   ],
   "source": [
    "# high OSK peak set 8\n",
    "np.quantile(raw_pred_counts, [0.01, 0.1, 0.25,.5,.75, .9,.99])"
   ]
  },
  {
   "cell_type": "code",
   "execution_count": 855,
   "metadata": {},
   "outputs": [
    {
     "data": {
      "text/plain": [
       "array([2.15232193, 3.1831604 , 3.73889768, 4.26644588, 4.67327476,\n",
       "       4.97796226, 5.48127816])"
      ]
     },
     "execution_count": 855,
     "metadata": {},
     "output_type": "execute_result"
    }
   ],
   "source": [
    "# high OSK peak set 11\n",
    "np.quantile(raw_pred_counts, [0.01, 0.1, 0.25,.5,.75, .9,.99])"
   ]
  },
  {
   "cell_type": "code",
   "execution_count": 877,
   "metadata": {},
   "outputs": [
    {
     "name": "stdout",
     "output_type": "stream",
     "text": [
      "16377\n"
     ]
    }
   ],
   "source": [
    "# rand\n",
    "IDX = choice(range(peak_set.shape[0]))\n",
    "print(IDX)"
   ]
  },
  {
   "cell_type": "code",
   "execution_count": 878,
   "metadata": {},
   "outputs": [
    {
     "data": {
      "text/plain": [
       "'chr5:72290099-72290886'"
      ]
     },
     "execution_count": 878,
     "metadata": {},
     "output_type": "execute_result"
    }
   ],
   "source": [
    "locus = peak_set.iloc[IDX][\"chr\"] + \":\" + str(peak_set.iloc[IDX][\"start\"]) + \"-\" + str(peak_set.iloc[IDX][\"end\"])\n",
    "locus"
   ]
  },
  {
   "cell_type": "code",
   "execution_count": 879,
   "metadata": {},
   "outputs": [],
   "source": [
    "seq = str(hg38[peak_set.iloc[IDX]['chr']][peak_set.iloc[IDX]['mid']-(MODEL_INP_LEN//2):peak_set.iloc[IDX]['mid']+(MODEL_INP_LEN//2)])"
   ]
  },
  {
   "cell_type": "code",
   "execution_count": 880,
   "metadata": {},
   "outputs": [],
   "source": [
    "X = one_hot.dna_to_one_hot([seq])"
   ]
  },
  {
   "cell_type": "code",
   "execution_count": 881,
   "metadata": {},
   "outputs": [
    {
     "data": {
      "text/plain": [
       "0.4"
      ]
     },
     "execution_count": 881,
     "metadata": {},
     "output_type": "execute_result"
    }
   ],
   "source": [
    "# GC content of center 500 bp\n",
    "np.sum(X[0, 923:1423, 1:3])/500"
   ]
  },
  {
   "cell_type": "code",
   "execution_count": 882,
   "metadata": {},
   "outputs": [
    {
     "data": {
      "text/plain": [
       "array([[5.108671]], dtype=float32)"
      ]
     },
     "execution_count": 882,
     "metadata": {},
     "output_type": "execute_result"
    }
   ],
   "source": [
    "model.predict([X, \n",
    "               np.zeros((X.shape[0],1)), \n",
    "               np.zeros((X.shape[0],2000,2))])[1]"
   ]
  },
  {
   "cell_type": "code",
   "execution_count": 883,
   "metadata": {},
   "outputs": [
    {
     "data": {
      "text/plain": [
       "array([[5.0321302]], dtype=float32)"
      ]
     },
     "execution_count": 883,
     "metadata": {},
     "output_type": "execute_result"
    }
   ],
   "source": [
    "model_neur.predict([X, \n",
    "               np.zeros((X.shape[0],1)), \n",
    "               np.zeros((X.shape[0],2000,2))])[1]"
   ]
  },
  {
   "cell_type": "code",
   "execution_count": 884,
   "metadata": {},
   "outputs": [
    {
     "name": "stdout",
     "output_type": "stream",
     "text": [
      "Done 0 examples of 1\n"
     ]
    }
   ],
   "source": [
    "counts_shap_scores_neur = profile_model_counts_explainer_neur.shap_values(\n",
    "        [X, np.zeros((X.shape[0], 1))], progress_message=100)\n",
    "projected_shap_scores_neur = np.multiply(X, counts_shap_scores_neur[0])"
   ]
  },
  {
   "cell_type": "code",
   "execution_count": 885,
   "metadata": {},
   "outputs": [
    {
     "name": "stdout",
     "output_type": "stream",
     "text": [
      "Done 0 examples of 1\n"
     ]
    }
   ],
   "source": [
    "counts_shap_scores = profile_model_counts_explainer.shap_values(\n",
    "        [X, np.zeros((X.shape[0], 1))], progress_message=100)\n",
    "projected_shap_scores = np.multiply(X, counts_shap_scores[0])"
   ]
  },
  {
   "cell_type": "code",
   "execution_count": null,
   "metadata": {},
   "outputs": [],
   "source": []
  },
  {
   "cell_type": "code",
   "execution_count": 886,
   "metadata": {},
   "outputs": [
    {
     "data": {
      "image/png": "[encoded data removed]",
      "text/plain": [
       "<Figure size 1440x216 with 1 Axes>"
      ]
     },
     "metadata": {
      "needs_background": "light"
     },
     "output_type": "display_data"
    }
   ],
   "source": [
    "plt.rcParams[\"figure.figsize\"] = (20,3)\n",
    "plt.plot(range(MODEL_INP_LEN), np.sum(projected_shap_scores_neur[0], axis=1))\n",
    "plt.show()"
   ]
  },
  {
   "cell_type": "code",
   "execution_count": 887,
   "metadata": {},
   "outputs": [
    {
     "data": {
      "image/png": "[encoded data removed]",
      "text/plain": [
       "<Figure size 1440x216 with 1 Axes>"
      ]
     },
     "metadata": {
      "needs_background": "light"
     },
     "output_type": "display_data"
    }
   ],
   "source": [
    "plt.rcParams[\"figure.figsize\"] = (20,3)\n",
    "plt.plot(range(MODEL_INP_LEN), np.sum(projected_shap_scores[0], axis=1))\n",
    "plt.show()"
   ]
  },
  {
   "cell_type": "code",
   "execution_count": 888,
   "metadata": {},
   "outputs": [],
   "source": [
    "def get_imp_intervals(shap_scores, top_val=8, extend=4):\n",
    "    scores = np.sum(shap_scores, axis=1)\n",
    "    top_pos = np.argsort(scores)[::-1][:top_val]\n",
    "    extended_pos = sorted(list(set(sum([list(range(x-extend,x+extend)) for x in top_pos], []))))\n",
    "    return extended_pos"
   ]
  },
  {
   "cell_type": "code",
   "execution_count": 889,
   "metadata": {},
   "outputs": [
    {
     "data": {
      "text/html": [
       "[1242, 1243, 1244, 1245, 1246, 1247, 1248, 1249, 1250, 1251, 1252, 1253, 1296, 1297, 1298, 1299, 1300, 1301, 1302, 1303, 1378, 1379, 1380, 1381, 1382, 1383, 1384, 1385, 1386, 1387, 1388]"
      ],
      "text/plain": [
       "[1242,\n",
       " 1243,\n",
       " 1244,\n",
       " 1245,\n",
       " 1246,\n",
       " 1247,\n",
       " 1248,\n",
       " 1249,\n",
       " 1250,\n",
       " 1251,\n",
       " 1252,\n",
       " 1253,\n",
       " 1296,\n",
       " 1297,\n",
       " 1298,\n",
       " 1299,\n",
       " 1300,\n",
       " 1301,\n",
       " 1302,\n",
       " 1303,\n",
       " 1378,\n",
       " 1379,\n",
       " 1380,\n",
       " 1381,\n",
       " 1382,\n",
       " 1383,\n",
       " 1384,\n",
       " 1385,\n",
       " 1386,\n",
       " 1387,\n",
       " 1388]"
      ]
     },
     "execution_count": 889,
     "metadata": {},
     "output_type": "execute_result"
    }
   ],
   "source": [
    "imp_intervals_neur = get_imp_intervals(projected_shap_scores_neur[0])\n",
    "imp_intervals_neur"
   ]
  },
  {
   "cell_type": "code",
   "execution_count": 890,
   "metadata": {},
   "outputs": [],
   "source": [
    "START = min(imp_intervals_neur) - 50\n",
    "END = max(imp_intervals_neur) + 50"
   ]
  },
  {
   "cell_type": "code",
   "execution_count": 891,
   "metadata": {},
   "outputs": [
    {
     "data": {
      "image/png": "[encoded data removed]",
      "text/plain": [
       "<Figure size 1440x144 with 1 Axes>"
      ]
     },
     "metadata": {
      "needs_background": "light"
     },
     "output_type": "display_data"
    }
   ],
   "source": [
    "_, ax = plt.subplots(figsize=(20,2))\n",
    "\n",
    "viz_sequence.plot_weights_given_ax(ax, projected_shap_scores_neur[0][START:END], subticks_frequency=50)\n",
    "ymin, _ = ax.get_ylim()\n",
    "\n",
    "for x in imp_intervals_neur:\n",
    "    ax.scatter(x-START, ymin+0.01, c='b')"
   ]
  },
  {
   "cell_type": "code",
   "execution_count": 892,
   "metadata": {},
   "outputs": [
    {
     "data": {
      "image/png": "[encoded data removed]",
      "text/plain": [
       "<Figure size 1440x144 with 1 Axes>"
      ]
     },
     "metadata": {
      "needs_background": "light"
     },
     "output_type": "display_data"
    }
   ],
   "source": [
    "viz_sequence.plot_weights(projected_shap_scores[0][START:END], subticks_frequency=50)"
   ]
  },
  {
   "cell_type": "markdown",
   "metadata": {},
   "source": [
    "### Optimizing a sequence"
   ]
  },
  {
   "cell_type": "code",
   "execution_count": 893,
   "metadata": {},
   "outputs": [],
   "source": [
    "BASES = [\"A\", \"C\", \"G\", \"T\"]\n",
    "\n",
    "def beam_optimize(model, seq, n_steps, pos_to_mut, beamsize=10):\n",
    "    # optimize seq (1 x INLEN x 4) for n_steps with ISM within limits\n",
    "    init_cts = model.predict([seq, \n",
    "                               np.zeros((seq.shape[0],1)), \n",
    "                               np.zeros((seq.shape[0],2000,2))])[1][0][0]\n",
    "    \n",
    "    beam = [([init_cts], [], [], seq)]\n",
    "    num_pos = len(pos_to_mut)\n",
    "    \n",
    "    mask = np.zeros((num_pos, seq.shape[1]))\n",
    "    \n",
    "    for i in range(num_pos):\n",
    "        mask[i, pos_to_mut[i]] = 1\n",
    "    \n",
    "    for _ in tqdm.tqdm(range(n_steps)):\n",
    "        next_beam = []\n",
    "        \n",
    "        for cur_cts, cur_poses, cur_bases, cur_seq in beam:\n",
    "            mod_cts = []\n",
    "            \n",
    "            for base in range(4):\n",
    "                z = np.zeros(4)\n",
    "                z[base] = 1\n",
    "                \n",
    "                batch = cur_seq.repeat(num_pos, axis=0)\n",
    "                batch[mask>0] = z\n",
    "                \n",
    "                batch_cts = model.predict([batch, \n",
    "                                           np.zeros((batch.shape[0],1)), \n",
    "                                           np.zeros((batch.shape[0],2000,2))])[1]\n",
    "                \n",
    "                next_beam += [(cur_cts + [batch_cts[idx][0]], \n",
    "                               cur_poses + [pos], \n",
    "                               cur_bases +[base], \n",
    "                               batch[idx:idx+1]) \\\n",
    "                              for idx,pos in enumerate(pos_to_mut)]\n",
    "        # prune beam\n",
    "\n",
    "        # first dedup to remove those with same set of mutations\n",
    "        beam = []\n",
    "        uniq_pos_base = set()\n",
    "        \n",
    "        for x in next_beam:\n",
    "            key = tuple(sorted(list(zip(x[1], x[2]))))\n",
    "            if key not in uniq_pos_base:\n",
    "                uniq_pos_base.add(key)\n",
    "                beam.append(x)\n",
    "        \n",
    "        beam = sorted(beam, key=lambda x:-x[0][-1])\n",
    "        beam = beam[:beamsize]\n",
    "    \n",
    "    return beam"
   ]
  },
  {
   "cell_type": "code",
   "execution_count": 894,
   "metadata": {},
   "outputs": [
    {
     "name": "stderr",
     "output_type": "stream",
     "text": [
      "100%|██████████| 3/3 [00:05<00:00,  1.84s/it]\n"
     ]
    }
   ],
   "source": [
    "# beam = beam_optimize(model, X.copy(), 4, list(range(START, END)), 10)\n",
    "beam = beam_optimize(model, X.copy(), 3, imp_intervals_neur, 10)"
   ]
  },
  {
   "cell_type": "code",
   "execution_count": 895,
   "metadata": {},
   "outputs": [
    {
     "name": "stderr",
     "output_type": "stream",
     "text": [
      "100%|██████████| 3/3 [00:05<00:00,  1.83s/it]\n"
     ]
    }
   ],
   "source": [
    "# beam_neur = beam_optimize(model_neur, X.copy(), 4, list(range(START, END)), 10)\n",
    "beam_neur = beam_optimize(model_neur, X.copy(), 3, imp_intervals_neur, 10)"
   ]
  },
  {
   "cell_type": "code",
   "execution_count": 896,
   "metadata": {},
   "outputs": [],
   "source": [
    "TO_VIZ = 0"
   ]
  },
  {
   "cell_type": "code",
   "execution_count": 897,
   "metadata": {},
   "outputs": [],
   "source": [
    "modseq = X.copy()\n",
    "\n",
    "for i in range(len(beam[TO_VIZ][1])):\n",
    "    z = np.zeros(4)\n",
    "    z[beam[TO_VIZ][2][i]] = 1\n",
    "    \n",
    "    modseq[0][beam[TO_VIZ][1][i]] = z"
   ]
  },
  {
   "cell_type": "code",
   "execution_count": 898,
   "metadata": {},
   "outputs": [],
   "source": [
    "modseq_neur = X.copy()\n",
    "\n",
    "for i in range(len(beam_neur[TO_VIZ][1])):\n",
    "    z = np.zeros(4)\n",
    "    z[beam_neur[TO_VIZ][2][i]] = 1\n",
    "    \n",
    "    modseq_neur[0][beam_neur[TO_VIZ][1][i]] = z"
   ]
  },
  {
   "cell_type": "code",
   "execution_count": 899,
   "metadata": {},
   "outputs": [
    {
     "name": "stdout",
     "output_type": "stream",
     "text": [
      "6.693241 6.6932406\n",
      "Done 0 examples of 1\n"
     ]
    }
   ],
   "source": [
    "modcts = model.predict([modseq, \n",
    "                     np.zeros((modseq.shape[0],1)), \n",
    "                     np.zeros((modseq.shape[0],2000,2))])[1][0][0]\n",
    "\n",
    "print(modcts, beam[TO_VIZ][0][-1])\n",
    "mod_counts_shap_scores = profile_model_counts_explainer.shap_values(\n",
    "        [modseq, np.zeros((modseq.shape[0], 1))], progress_message=100)\n",
    "mod_projected_shap_scores = np.multiply(modseq, mod_counts_shap_scores[0])"
   ]
  },
  {
   "cell_type": "code",
   "execution_count": 900,
   "metadata": {},
   "outputs": [
    {
     "data": {
      "text/plain": [
       "6.693241"
      ]
     },
     "execution_count": 900,
     "metadata": {},
     "output_type": "execute_result"
    }
   ],
   "source": [
    "model_pred_for_modseq_neur = model.predict([modseq_neur, \n",
    "                                            np.zeros((modseq_neur.shape[0],1)), \n",
    "                                            np.zeros((modseq_neur.shape[0],2000,2))])[1][0][0]\n",
    "model_pred_for_modseq_neur"
   ]
  },
  {
   "cell_type": "code",
   "execution_count": 901,
   "metadata": {},
   "outputs": [
    {
     "name": "stdout",
     "output_type": "stream",
     "text": [
      "5.527054 5.5270553\n",
      "Done 0 examples of 1\n"
     ]
    }
   ],
   "source": [
    "modcts_neur = model_neur.predict([modseq_neur, \n",
    "                             np.zeros((modseq_neur.shape[0],1)), \n",
    "                             np.zeros((modseq_neur.shape[0],2000,2))])[1][0][0]\n",
    "\n",
    "print(modcts_neur, beam_neur[TO_VIZ][0][-1])\n",
    "mod_counts_shap_scores_neur = profile_model_counts_explainer_neur.shap_values(\n",
    "        [modseq_neur, np.zeros((modseq_neur.shape[0], 1))], progress_message=100)\n",
    "mod_projected_shap_scores_neur = np.multiply(modseq_neur, mod_counts_shap_scores_neur[0])"
   ]
  },
  {
   "cell_type": "code",
   "execution_count": 902,
   "metadata": {},
   "outputs": [
    {
     "data": {
      "text/plain": [
       "5.527054"
      ]
     },
     "execution_count": 902,
     "metadata": {},
     "output_type": "execute_result"
    }
   ],
   "source": [
    "model_neur.predict([modseq, \n",
    "                    np.zeros((modseq_neur.shape[0],1)), \n",
    "                    np.zeros((modseq_neur.shape[0],2000,2))])[1][0][0]"
   ]
  },
  {
   "cell_type": "code",
   "execution_count": 903,
   "metadata": {},
   "outputs": [],
   "source": [
    "# ctr=2"
   ]
  },
  {
   "cell_type": "code",
   "execution_count": 904,
   "metadata": {},
   "outputs": [
    {
     "data": {
      "image/png": "[encoded data removed]",
      "text/plain": [
       "<Figure size 1440x576 with 4 Axes>"
      ]
     },
     "metadata": {
      "needs_background": "light"
     },
     "output_type": "display_data"
    }
   ],
   "source": [
    "fig, axs = plt.subplots(4,1, figsize=(20,8))\n",
    "\n",
    "start = START\n",
    "end = END\n",
    "viz_sequence.plot_weights_given_ax(axs[0], \n",
    "                                   projected_shap_scores_neur[0][start:end], \n",
    "                                   subticks_frequency=50)\n",
    "axs[0].set_title(\"Neural-like importance scores (log counts {:.2f})\".format(beam_neur[TO_VIZ][0][0]))\n",
    "\n",
    "viz_sequence.plot_weights_given_ax(axs[1], \n",
    "                                   mod_projected_shap_scores_neur[0][start:end], \n",
    "                                   subticks_frequency=50)\n",
    "axs[1].set_title(\"Neural-like importance scores [after edits] (log counts {:.2f}, D6 model log counts {:.2f})\".format(beam_neur[TO_VIZ][0][-1],\n",
    "                                                                                                                      model_pred_for_modseq_neur))\n",
    "\n",
    "viz_sequence.plot_weights_given_ax(axs[2], \n",
    "                                   projected_shap_scores[0][start:end], \n",
    "                                   subticks_frequency=50)\n",
    "axs[2].set_title(\"D6 intermediate importance scores (log counts {:.2f})\".format(beam[TO_VIZ][0][0]))\n",
    "\n",
    "viz_sequence.plot_weights_given_ax(axs[3], \n",
    "                                   mod_projected_shap_scores[0][start:end], \n",
    "                                   subticks_frequency=50)\n",
    "axs[3].set_title(\"D6 intermediate importance scores [after edits] (log counts {:.2f})\".format(beam[TO_VIZ][0][-1]))\n",
    "\n",
    "l1,u1 = axs[1].get_ylim()\n",
    "axs[0].set_ylim((l1,u1))\n",
    "\n",
    "l2,u2 = axs[3].get_ylim()\n",
    "axs[2].set_ylim((l2,u2))\n",
    "\n",
    "fig.suptitle(locus, fontsize=16)\n",
    "\n",
    "for i in range(len(beam_neur[TO_VIZ][1])):\n",
    "    axs[1].add_patch(Rectangle((beam_neur[TO_VIZ][1][i]-start,l1), 1, u1-l1, color=\"k\", alpha=0.1))\n",
    "\n",
    "for i in range(len(beam[TO_VIZ][1])):\n",
    "    axs[3].add_patch(Rectangle((beam[TO_VIZ][1][i]-start,l2), 1, u2-l2, color=\"k\", alpha=0.1))\n",
    "\n",
    "plt.subplots_adjust(left=None, bottom=None, right=None, top=None, wspace=None, hspace=.4)\n",
    "# plt.savefig(\"snippets/{}.pdf\".format(ctr))\n",
    "# ctr+=1"
   ]
  },
  {
   "cell_type": "code",
   "execution_count": null,
   "metadata": {},
   "outputs": [],
   "source": []
  },
  {
   "cell_type": "code",
   "execution_count": 905,
   "metadata": {},
   "outputs": [],
   "source": [
    "tmpseq = modseq_neur.copy()\n",
    "# tmpseq = X.copy()"
   ]
  },
  {
   "cell_type": "code",
   "execution_count": 652,
   "metadata": {},
   "outputs": [
    {
     "data": {
      "text/plain": [
       "array([[0., 0., 1., 0.],\n",
       "       [0., 0., 1., 0.],\n",
       "       [1., 0., 0., 0.],\n",
       "       [0., 0., 0., 1.],\n",
       "       [0., 1., 0., 0.],\n",
       "       [0., 1., 0., 0.],\n",
       "       [0., 0., 0., 1.]])"
      ]
     },
     "execution_count": 652,
     "metadata": {},
     "output_type": "execute_result"
    }
   ],
   "source": [
    "tmpseq[0][START+200+23:START+200+30]"
   ]
  },
  {
   "cell_type": "code",
   "execution_count": 653,
   "metadata": {},
   "outputs": [
    {
     "data": {
      "text/plain": [
       "array([[1., 0., 0., 0.],\n",
       "       [1., 0., 0., 0.],\n",
       "       [1., 0., 0., 0.],\n",
       "       [1., 0., 0., 0.],\n",
       "       [0., 1., 0., 0.]])"
      ]
     },
     "execution_count": 653,
     "metadata": {},
     "output_type": "execute_result"
    }
   ],
   "source": [
    "tmpseq[0][START+200+77:START+200+82]"
   ]
  },
  {
   "cell_type": "code",
   "execution_count": 654,
   "metadata": {},
   "outputs": [
    {
     "data": {
      "text/plain": [
       "array([[0., 0., 0., 1.],\n",
       "       [0., 0., 0., 1.],\n",
       "       [0., 0., 0., 1.],\n",
       "       [1., 0., 0., 0.],\n",
       "       [0., 0., 1., 0.],\n",
       "       [0., 1., 0., 0.],\n",
       "       [0., 0., 0., 1.],\n",
       "       [0., 0., 0., 1.],\n",
       "       [0., 0., 0., 1.],\n",
       "       [0., 1., 0., 0.]])"
      ]
     },
     "execution_count": 654,
     "metadata": {},
     "output_type": "execute_result"
    }
   ],
   "source": [
    "tmpseq[0][START+200+120:START+200+130]"
   ]
  },
  {
   "cell_type": "code",
   "execution_count": 655,
   "metadata": {},
   "outputs": [
    {
     "data": {
      "text/plain": [
       "array([[0., 1., 0., 0.],\n",
       "       [1., 0., 0., 0.],\n",
       "       [0., 0., 1., 0.],\n",
       "       [0., 1., 0., 0.],\n",
       "       [1., 0., 0., 0.],\n",
       "       [1., 0., 0., 0.],\n",
       "       [1., 0., 0., 0.],\n",
       "       [0., 0., 1., 0.],\n",
       "       [0., 0., 0., 1.]])"
      ]
     },
     "execution_count": 655,
     "metadata": {},
     "output_type": "execute_result"
    }
   ],
   "source": [
    "tmpseq[0][START+200+286:START+200+295]"
   ]
  },
  {
   "cell_type": "code",
   "execution_count": 656,
   "metadata": {},
   "outputs": [],
   "source": [
    "tmpseq[0][START+200+23] = [1,0,0,0]\n",
    "tmpseq[0][START+200+24] = [1,0,0,0]\n",
    "tmpseq[0][START+200+80] = [0,0,1,0]\n",
    "tmpseq[0][START+200+81] = [0,0,1,0]\n",
    "tmpseq[0][START+200+122] = [0,0,1,0]\n",
    "tmpseq[0][START+200+123] = [0,0,1,0]\n",
    "tmpseq[0][START+200+289] = [0,0,1,0]\n",
    "tmpseq[0][START+200+290] = [0,0,1,0]"
   ]
  },
  {
   "cell_type": "code",
   "execution_count": 657,
   "metadata": {},
   "outputs": [
    {
     "name": "stdout",
     "output_type": "stream",
     "text": [
      "5.6798863\n",
      "5.5935483\n"
     ]
    }
   ],
   "source": [
    "print(model.predict([modseq_neur, \n",
    "                     np.zeros((modseq.shape[0],1)), \n",
    "                     np.zeros((modseq.shape[0],2000,2))])[1][0][0])\n",
    "print(model.predict([tmpseq, \n",
    "                     np.zeros((modseq.shape[0],1)), \n",
    "                     np.zeros((modseq.shape[0],2000,2))])[1][0][0])"
   ]
  },
  {
   "cell_type": "code",
   "execution_count": 360,
   "metadata": {},
   "outputs": [
    {
     "name": "stdout",
     "output_type": "stream",
     "text": [
      "4.723495\n",
      "3.519866\n"
     ]
    }
   ],
   "source": [
    "print(model_neur.predict([modseq_neur, \n",
    "                     np.zeros((modseq.shape[0],1)), \n",
    "                     np.zeros((modseq.shape[0],2000,2))])[1][0][0])\n",
    "print(model_neur.predict([tmpseq, \n",
    "                     np.zeros((modseq.shape[0],1)), \n",
    "                     np.zeros((modseq.shape[0],2000,2))])[1][0][0])"
   ]
  },
  {
   "cell_type": "code",
   "execution_count": 129,
   "metadata": {},
   "outputs": [
    {
     "name": "stdout",
     "output_type": "stream",
     "text": [
      "[5.3809276, 5.8465185, 6.3009987, 6.541591]\n",
      "[74, 62, 240]\n"
     ]
    }
   ],
   "source": [
    "print(beam[TO_VIZ][0])\n",
    "print([x-start for x in beam[TO_VIZ][1]])"
   ]
  },
  {
   "cell_type": "code",
   "execution_count": null,
   "metadata": {},
   "outputs": [],
   "source": []
  },
  {
   "cell_type": "code",
   "execution_count": null,
   "metadata": {},
   "outputs": [],
   "source": []
  },
  {
   "cell_type": "code",
   "execution_count": null,
   "metadata": {},
   "outputs": [],
   "source": []
  },
  {
   "cell_type": "code",
   "execution_count": null,
   "metadata": {},
   "outputs": [],
   "source": []
  },
  {
   "cell_type": "code",
   "execution_count": null,
   "metadata": {},
   "outputs": [],
   "source": []
  },
  {
   "cell_type": "code",
   "execution_count": null,
   "metadata": {},
   "outputs": [],
   "source": []
  },
  {
   "cell_type": "markdown",
   "metadata": {},
   "source": [
    "## Motif Preferences\n",
    "\n",
    "Introduce KLF4 consensus motif in random sequences. Then try for N=1 (maybe 2) mutations in KLF4 motif and measure how the predicted counts decreases with different mutations for different models."
   ]
  },
  {
   "cell_type": "code",
   "execution_count": 81,
   "metadata": {},
   "outputs": [],
   "source": [
    "from random import shuffle, choice, random\n",
    "from copy import deepcopy"
   ]
  },
  {
   "cell_type": "code",
   "execution_count": 82,
   "metadata": {},
   "outputs": [
    {
     "data": {
      "text/html": [
       "<div>\n",
       "<style scoped>\n",
       "    .dataframe tbody tr th:only-of-type {\n",
       "        vertical-align: middle;\n",
       "    }\n",
       "\n",
       "    .dataframe tbody tr th {\n",
       "        vertical-align: top;\n",
       "    }\n",
       "\n",
       "    .dataframe thead th {\n",
       "        text-align: right;\n",
       "    }\n",
       "</style>\n",
       "<table border=\"1\" class=\"dataframe\">\n",
       "  <thead>\n",
       "    <tr style=\"text-align: right;\">\n",
       "      <th></th>\n",
       "      <th>chr</th>\n",
       "      <th>start</th>\n",
       "      <th>end</th>\n",
       "      <th>strand</th>\n",
       "      <th>score</th>\n",
       "      <th>seq</th>\n",
       "    </tr>\n",
       "  </thead>\n",
       "  <tbody>\n",
       "    <tr>\n",
       "      <th>0</th>\n",
       "      <td>chr1</td>\n",
       "      <td>2350165</td>\n",
       "      <td>2350180</td>\n",
       "      <td>+</td>\n",
       "      <td>7.492762</td>\n",
       "      <td>CTTTGAATATAAAAT</td>\n",
       "    </tr>\n",
       "    <tr>\n",
       "      <th>1</th>\n",
       "      <td>chr1</td>\n",
       "      <td>5940748</td>\n",
       "      <td>5940763</td>\n",
       "      <td>+</td>\n",
       "      <td>8.132912</td>\n",
       "      <td>ATCTACATTTTAAAA</td>\n",
       "    </tr>\n",
       "    <tr>\n",
       "      <th>2</th>\n",
       "      <td>chr1</td>\n",
       "      <td>7263287</td>\n",
       "      <td>7263302</td>\n",
       "      <td>-</td>\n",
       "      <td>12.820701</td>\n",
       "      <td>CTTTCTTTTGCAAAT</td>\n",
       "    </tr>\n",
       "    <tr>\n",
       "      <th>3</th>\n",
       "      <td>chr1</td>\n",
       "      <td>7843523</td>\n",
       "      <td>7843538</td>\n",
       "      <td>-</td>\n",
       "      <td>7.100240</td>\n",
       "      <td>TTTTGTTTTTAAAAT</td>\n",
       "    </tr>\n",
       "    <tr>\n",
       "      <th>4</th>\n",
       "      <td>chr1</td>\n",
       "      <td>9756154</td>\n",
       "      <td>9756169</td>\n",
       "      <td>-</td>\n",
       "      <td>7.883148</td>\n",
       "      <td>ATTTCACATGAAAAT</td>\n",
       "    </tr>\n",
       "  </tbody>\n",
       "</table>\n",
       "</div>"
      ],
      "text/plain": [
       "    chr    start      end strand      score              seq\n",
       "0  chr1  2350165  2350180      +   7.492762  CTTTGAATATAAAAT\n",
       "1  chr1  5940748  5940763      +   8.132912  ATCTACATTTTAAAA\n",
       "2  chr1  7263287  7263302      -  12.820701  CTTTCTTTTGCAAAT\n",
       "3  chr1  7843523  7843538      -   7.100240  TTTTGTTTTTAAAAT\n",
       "4  chr1  9756154  9756169      -   7.883148  ATTTCACATGAAAAT"
      ]
     },
     "execution_count": 82,
     "metadata": {},
     "output_type": "execute_result"
    }
   ],
   "source": [
    "oct_sox_hits = pd.read_csv(\"./data/20201211_gridmap_peakwidthnorm_logplusznorm_4way_ordered_n20/idx8.200.OCTSOX.thresh7.bed\", \n",
    "                           sep='\\t',\n",
    "                           names=[\"chr\", \"start\", \"end\", \"strand\", \"score\", \"seq\"])\n",
    "oct_sox_hits.head()"
   ]
  },
  {
   "cell_type": "code",
   "execution_count": 83,
   "metadata": {},
   "outputs": [],
   "source": [
    "random_positions = [(choice([\"chr\"+str(x) for x in range(1,23)]), int(random()*4e7)) for _ in range(64*2)]\n",
    "\n",
    "# or from oct_sox_hits from a peak set \n",
    "# random_positions = [(x[\"chr\"],x[\"start\"]) for _,x in oct_sox_hits.sample(64).iterrows()]"
   ]
  },
  {
   "cell_type": "code",
   "execution_count": 114,
   "metadata": {},
   "outputs": [
    {
     "name": "stderr",
     "output_type": "stream",
     "text": [
      "100%|██████████| 1/1 [00:03<00:00,  3.13s/it]\n"
     ]
    }
   ],
   "source": [
    "BATCH_SIZE = 128\n",
    "\n",
    "# replace with canonical motif and predict\n",
    "random_pred_counts = []\n",
    "random_pred_counts_neur = []\n",
    "\n",
    "for i in tqdm.tqdm(range(math.ceil(len(random_positions)/BATCH_SIZE))):\n",
    "    cur_seqs = random_positions[i*BATCH_SIZE:(i+1)*BATCH_SIZE]\n",
    "    cur_raw_seqs = []\n",
    "    for j, r in enumerate(cur_seqs):\n",
    "        \n",
    "        cur_raw_seqs.append(str(hg38[r[0]][r[1]-(MODEL_INP_LEN//2):r[1]+(MODEL_INP_LEN//2)]))\n",
    "        \n",
    "    cur_raw_seqs = one_hot.dna_to_one_hot(cur_raw_seqs)\n",
    "    \n",
    "    cur_pred = model.predict([cur_raw_seqs, \n",
    "                   np.zeros((cur_raw_seqs.shape[0],1)), \n",
    "                   np.zeros((cur_raw_seqs.shape[0],2000,2))])[1]\n",
    "    random_pred_counts.append(cur_pred)\n",
    "    \n",
    "    cur_pred_neur = model_neur.predict([cur_raw_seqs, \n",
    "                   np.zeros((cur_raw_seqs.shape[0],1)), \n",
    "                   np.zeros((cur_raw_seqs.shape[0],2000,2))])[1]\n",
    "    random_pred_counts_neur.append(cur_pred_neur)\n",
    "    \n",
    "random_pred_counts = np.vstack(random_pred_counts).ravel()\n",
    "random_pred_counts_neur = np.vstack(random_pred_counts_neur).ravel()"
   ]
  },
  {
   "cell_type": "code",
   "execution_count": 115,
   "metadata": {},
   "outputs": [
    {
     "name": "stdout",
     "output_type": "stream",
     "text": [
      "4.4307575\n",
      "2.032946\n"
     ]
    }
   ],
   "source": [
    "print(np.median(random_pred_counts))\n",
    "print(np.median(random_pred_counts_neur))"
   ]
  },
  {
   "cell_type": "code",
   "execution_count": 116,
   "metadata": {},
   "outputs": [],
   "source": [
    "from itertools import combinations, product\n",
    "\n",
    "def all_muts(s, n):\n",
    "    muts = [s]\n",
    "    subs = [[y for y in [\"A\",\"C\",\"G\",\"T\"] if y!=x] for x in s]\n",
    "    \n",
    "    for x in combinations(range(len(s)), n):\n",
    "        cur_subs = product(*[subs[y] for y in x])\n",
    "        \n",
    "        for bases in cur_subs:\n",
    "            cur_str = \"\"\n",
    "            j = 0\n",
    "            for i in range(len(x)):                \n",
    "                cur_str += s[j:x[i]] + bases[i]\n",
    "                j = x[i]+1\n",
    "            cur_str += s[j:]\n",
    "\n",
    "            muts.append(cur_str)\n",
    "    \n",
    "    return muts"
   ]
  },
  {
   "cell_type": "code",
   "execution_count": 102,
   "metadata": {},
   "outputs": [
    {
     "name": "stdout",
     "output_type": "stream",
     "text": [
      "31\n",
      "46\n",
      "31\n"
     ]
    }
   ],
   "source": [
    "all_KLF_one_muts = all_muts(\"GCCACACCCA\",1)\n",
    "all_OS_one_muts = all_muts(\"ATTTGCATAACAATG\",1)\n",
    "all_O_one_muts = all_muts(\"ATTTGCATAA\",1)\n",
    "print(len(all_KLF_one_muts))\n",
    "print(len(all_OS_one_muts))\n",
    "print(len(all_O_one_muts))"
   ]
  },
  {
   "cell_type": "code",
   "execution_count": 157,
   "metadata": {},
   "outputs": [
    {
     "name": "stdout",
     "output_type": "stream",
     "text": [
      "406\n",
      "946\n",
      "406\n"
     ]
    }
   ],
   "source": [
    "all_KLF_two_muts = all_muts(\"GCCACACCCA\",2)\n",
    "all_OS_two_muts = all_muts(\"ATTTGCATAACAATG\",2)\n",
    "all_O_two_muts = all_muts(\"ATTTGCATAA\",2)\n",
    "print(len(all_KLF_two_muts))\n",
    "print(len(all_OS_two_muts))\n",
    "print(len(all_O_two_muts))"
   ]
  },
  {
   "cell_type": "code",
   "execution_count": 185,
   "metadata": {},
   "outputs": [
    {
     "name": "stdout",
     "output_type": "stream",
     "text": [
      "259\n",
      "259\n",
      "1028\n"
     ]
    }
   ],
   "source": [
    "all_OS_tail_muts = [x+\"GCATAACAATG\" for x in sum([all_muts(\"ATTT\", i) for i in range(1,5)], [])]\n",
    "all_OS_GCAT_muts = [\"ATTT\"+x +\"AACAATG\" for x in sum([all_muts(\"GCAT\", i) for i in range(1,5)], [])]\n",
    "all_OS_ACAAT_muts = [\"ATTTGCATA\"+x + \"G\" for x in sum([all_muts(\"ACAAT\", i) for i in range(1,6)], [])]\n",
    "print(len(all_OS_tail_muts))\n",
    "print(len(all_OS_GCAT_muts))\n",
    "print(len(all_OS_ACAAT_muts))"
   ]
  },
  {
   "cell_type": "code",
   "execution_count": 196,
   "metadata": {},
   "outputs": [],
   "source": [
    "REPLACE_WITH = all_OS_GCAT_muts # all_OS_two_muts + all_OS_one_muts\n",
    "REPLACE_WITH_WID = 15"
   ]
  },
  {
   "cell_type": "code",
   "execution_count": 197,
   "metadata": {},
   "outputs": [
    {
     "name": "stderr",
     "output_type": "stream",
     "text": [
      "100%|██████████| 128/128 [02:19<00:00,  1.09s/it]\n"
     ]
    }
   ],
   "source": [
    "BATCH_SIZE = 128\n",
    "\n",
    "# replace with canonical motif and predict\n",
    "synth_pred_counts_muts = []\n",
    "synth_pred_counts_muts_neur = []\n",
    "\n",
    "        \n",
    "motif_start = MODEL_INP_LEN//2 \n",
    "motif_end = MODEL_INP_LEN//2 + REPLACE_WITH_WID\n",
    "\n",
    "\n",
    "for i in tqdm.tqdm(range(len(random_positions))):\n",
    "    cur_seq = random_positions[i]\n",
    "    cur_raw_seqs = []\n",
    "    cur_seq = str(hg38[cur_seq[0]][cur_seq[1]-(MODEL_INP_LEN//2):cur_seq[1]+(MODEL_INP_LEN//2)])\n",
    "    \n",
    "    for j, r in enumerate(REPLACE_WITH):\n",
    "        cur_raw_seqs.append(cur_seq[:motif_start] +  r + cur_seq[motif_end:])\n",
    "        \n",
    "    cur_raw_seqs = one_hot.dna_to_one_hot(cur_raw_seqs)\n",
    "    \n",
    "    cur_pred = model.predict([cur_raw_seqs, \n",
    "                   np.zeros((cur_raw_seqs.shape[0],1)), \n",
    "                   np.zeros((cur_raw_seqs.shape[0],2000,2))])[1]\n",
    "    synth_pred_counts_muts.append(cur_pred)\n",
    "    \n",
    "    cur_pred_neur = model_neur.predict([cur_raw_seqs, \n",
    "                   np.zeros((cur_raw_seqs.shape[0],1)), \n",
    "                   np.zeros((cur_raw_seqs.shape[0],2000,2))])[1]\n",
    "    synth_pred_counts_muts_neur.append(cur_pred_neur)"
   ]
  },
  {
   "cell_type": "code",
   "execution_count": 198,
   "metadata": {},
   "outputs": [],
   "source": [
    "deltas = np.squeeze(np.array(synth_pred_counts_muts)) - np.expand_dims(random_pred_counts, axis=1)\n",
    "deltas_neur = np.squeeze(np.array(synth_pred_counts_muts_neur)) - np.expand_dims(random_pred_counts_neur, axis=1)\n",
    "\n",
    "deltas_mean = np.mean(deltas, axis=0)\n",
    "deltas_mean_neur = np.mean(deltas_neur, axis=0)"
   ]
  },
  {
   "cell_type": "code",
   "execution_count": 199,
   "metadata": {
    "scrolled": true
   },
   "outputs": [
    {
     "data": {
      "text/plain": [
       "array([ 8.84050250e-01,  8.59244466e-01,  7.32281089e-01,  5.91573536e-01,\n",
       "        8.06764662e-01,  5.87602019e-01,  7.12043583e-01,  6.56922758e-01,\n",
       "        7.47979641e-01,  6.58667207e-01,  8.13403904e-01,  7.60753870e-01,\n",
       "        5.95188677e-01,  8.84050250e-01,  7.65736341e-01,  5.13190746e-01,\n",
       "        4.96916652e-01,  6.36788130e-01,  3.40244293e-01,  3.99612844e-01,\n",
       "        5.38176954e-01,  2.65023381e-01,  2.08565757e-01,  5.35335004e-01,\n",
       "        6.92222774e-01,  5.80411732e-01,  5.18874586e-01,  5.09183586e-01,\n",
       "        4.59803432e-01,  2.48126149e-01,  3.33093047e-01,  2.27284163e-01,\n",
       "        7.54816353e-01,  7.95020044e-01,  5.22794127e-01,  4.55907404e-01,\n",
       "        5.48769772e-01,  2.26315022e-01,  3.00525725e-01,  3.46900493e-01,\n",
       "        1.34143129e-01,  5.00132620e-01,  4.53506470e-01,  4.33279902e-01,\n",
       "        3.10357034e-01,  2.52040505e-01,  2.85662740e-01,  3.08326215e-01,\n",
       "        4.69192684e-01,  4.40525115e-01,  5.23825884e-01,  3.94812524e-01,\n",
       "        2.68314630e-01,  3.15237522e-01,  9.66749266e-02,  8.84574205e-02,\n",
       "        5.28085887e-01,  1.31045997e-01,  2.21886709e-01,  2.62845099e-01,\n",
       "        2.57719934e-01,  1.76730305e-01,  4.72098559e-01,  4.52244103e-01,\n",
       "        2.83211470e-01,  3.67225289e-01,  2.85610229e-01,  1.53054059e-01,\n",
       "        8.84050250e-01,  4.31020141e-01,  3.90909791e-01,  3.41468841e-01,\n",
       "        2.24044815e-01,  1.90990254e-01,  2.24169970e-01,  1.61959231e-01,\n",
       "        2.65689194e-01,  1.77363038e-01,  2.64326155e-01,  2.83752054e-01,\n",
       "        2.34233975e-01,  1.86356992e-01,  1.42418250e-01,  1.84531748e-01,\n",
       "        1.80142760e-01,  1.54546380e-01,  1.68815494e-01,  2.05839843e-01,\n",
       "        2.05302998e-01,  1.00861132e-01,  8.62557292e-02,  4.88147214e-02,\n",
       "        1.07438073e-01,  4.06245068e-02,  5.75970970e-02,  7.42941648e-02,\n",
       "        4.07258868e-01,  4.20685887e-01,  3.13046753e-01,  2.54317105e-01,\n",
       "        1.51579753e-01,  1.53697506e-01,  1.44598842e-01,  2.19103366e-01,\n",
       "        3.94324400e-02,  2.77995944e-01,  2.41476506e-01,  1.43980980e-01,\n",
       "        1.63359255e-01,  1.10333517e-01,  7.38510340e-02,  1.56809449e-01,\n",
       "        1.23489976e-01,  3.96857597e-02,  2.22836852e-01,  1.88870475e-01,\n",
       "        1.14165984e-01,  9.78725031e-02,  4.77238260e-02,  5.44377677e-02,\n",
       "        9.56149772e-02,  6.05110005e-02,  3.53676602e-02,  2.46493518e-01,\n",
       "        2.27974653e-01,  1.15178652e-01,  4.08022553e-01,  4.26962376e-01,\n",
       "        2.48565122e-01,  2.26256877e-01,  2.62412369e-01,  5.46498932e-02,\n",
       "        1.73540667e-01,  1.60164520e-01,  1.09442174e-01,  2.20212817e-01,\n",
       "        2.50594735e-01,  2.07653165e-01,  1.83321267e-01,  1.63845927e-01,\n",
       "        7.23294616e-02,  5.78522012e-02,  4.91828285e-02,  4.12117019e-02,\n",
       "        1.69421807e-01,  1.41546607e-01,  1.03441738e-01,  9.25664455e-02,\n",
       "        4.88154069e-02,  2.03828886e-03,  1.66781783e-01,  1.05082169e-01,\n",
       "        5.20585030e-02,  2.13765636e-01,  1.62422314e-01,  8.01442862e-02,\n",
       "        1.04748324e-01,  4.57032211e-02, -1.16526065e-02,  1.42813534e-01,\n",
       "        4.77863364e-02,  1.10988110e-01,  9.00678486e-02,  2.93333679e-02,\n",
       "        5.19137792e-02,  1.70115188e-01,  1.77514907e-02,  3.81474681e-02,\n",
       "        1.73899621e-01,  4.02546860e-03,  8.85912776e-02,  2.26982638e-01,\n",
       "        1.03867210e-01,  1.21407509e-01,  3.02155465e-01,  3.97632830e-02,\n",
       "        6.83353841e-02,  8.84050250e-01,  1.85796767e-01,  1.36300877e-01,\n",
       "        8.86443630e-02,  1.32111654e-01,  1.91408396e-01,  9.17940736e-02,\n",
       "        3.00237201e-02,  7.74596110e-02,  3.35743278e-02,  1.55410528e-01,\n",
       "        6.91072494e-02,  1.20578736e-01,  8.10805112e-02,  8.81344080e-02,\n",
       "        7.87758604e-02,  1.22184351e-01,  6.21585995e-02,  4.48701642e-02,\n",
       "        6.41083717e-03,  2.45912205e-02,  6.07618876e-03, -4.22918051e-03,\n",
       "        1.85815170e-01, -5.93135972e-03,  3.65011394e-04,  3.82002220e-02,\n",
       "       -2.52305157e-02,  8.92905891e-02,  4.60351855e-02,  1.43583976e-02,\n",
       "        1.02617912e-01,  1.03671551e-01,  8.74223486e-02,  1.21921189e-02,\n",
       "        2.65695266e-02, -3.28403432e-03,  1.49378881e-01,  5.48038296e-02,\n",
       "        1.00493819e-01,  7.65399337e-02,  5.21020330e-02,  5.37872650e-02,\n",
       "        8.90897065e-02,  4.10044342e-02,  2.31572101e-03,  7.73293227e-02,\n",
       "       -1.84242167e-02,  3.81929316e-02,  6.00857772e-02,  3.41367349e-02,\n",
       "        3.33176479e-02,  6.57077581e-02, -9.87019949e-03,  1.79216750e-02,\n",
       "        5.91467693e-02,  4.40321527e-02,  3.83646563e-02,  8.19362253e-02,\n",
       "        9.18787718e-02,  5.61333485e-02,  2.38395799e-02,  6.53745141e-04,\n",
       "       -5.01920655e-03,  1.03328973e-01,  5.67875803e-03,  6.11292049e-02,\n",
       "        3.12023759e-02,  2.22825035e-02,  3.85962427e-02,  9.04796869e-02,\n",
       "       -1.00048948e-02,  1.43936854e-02,  4.99425232e-02, -9.39032156e-03,\n",
       "        2.39326358e-02,  3.42954360e-02,  3.21305804e-02,  9.54534300e-03,\n",
       "        6.24472201e-02,  1.83437280e-02,  1.06675830e-02], dtype=float32)"
      ]
     },
     "execution_count": 199,
     "metadata": {},
     "output_type": "execute_result"
    }
   ],
   "source": [
    "deltas_mean"
   ]
  },
  {
   "cell_type": "code",
   "execution_count": 200,
   "metadata": {},
   "outputs": [
    {
     "name": "stdout",
     "output_type": "stream",
     "text": [
      "0.88405025 0.5113408\n"
     ]
    }
   ],
   "source": [
    "i = REPLACE_WITH.index(\"ATTTGCATAACAATG\")\n",
    "print(deltas_mean[i], deltas_mean_neur[i])"
   ]
  },
  {
   "cell_type": "code",
   "execution_count": 201,
   "metadata": {},
   "outputs": [],
   "source": [
    "from adjustText import adjust_text"
   ]
  },
  {
   "cell_type": "code",
   "execution_count": 202,
   "metadata": {},
   "outputs": [
    {
     "data": {
      "text/plain": [
       "SpearmanrResult(correlation=0.892567714574822, pvalue=7.037445243039541e-91)"
      ]
     },
     "execution_count": 202,
     "metadata": {},
     "output_type": "execute_result"
    }
   ],
   "source": [
    "scipy.stats.spearmanr(deltas_mean, deltas_mean_neur)"
   ]
  },
  {
   "cell_type": "code",
   "execution_count": 205,
   "metadata": {},
   "outputs": [
    {
     "data": {
      "image/png": "[encoded data removed]",
      "text/plain": [
       "<Figure size 576x576 with 1 Axes>"
      ]
     },
     "metadata": {
      "needs_background": "light"
     },
     "output_type": "display_data"
    }
   ],
   "source": [
    "plt.rcParams[\"figure.figsize\"] = (8,8)\n",
    "\n",
    "# x = np.argsort(np.argsort(deltas_mean))\n",
    "# y = np.argsort(np.argsort(deltas_mean_neur))\n",
    "x = deltas_mean\n",
    "y = deltas_mean_neur\n",
    "\n",
    "plt.scatter(x, y, s=10)\n",
    "\n",
    "texts = [plt.text(x[i], y[i], txt, fontsize=8) for i,txt in enumerate(REPLACE_WITH) if x[i]>0.8] # or x[i] > .78 or y[i] <0.25]#\n",
    "#         if (x[i]<300 and y[i]>600)  or (y[i]<300 and x[i]>800)]\n",
    "# adjust_text(texts)"
   ]
  },
  {
   "cell_type": "code",
   "execution_count": 194,
   "metadata": {},
   "outputs": [
    {
     "data": {
      "text/plain": [
       "<matplotlib.collections.PathCollection at 0x7f03f9f8b250>"
      ]
     },
     "execution_count": 194,
     "metadata": {},
     "output_type": "execute_result"
    },
    {
     "data": {
      "image/png": "[encoded data removed]",
      "text/plain": [
       "<Figure size 576x576 with 1 Axes>"
      ]
     },
     "metadata": {
      "needs_background": "light"
     },
     "output_type": "display_data"
    }
   ],
   "source": [
    "plt.rcParams[\"figure.figsize\"] = (8,8)\n",
    "\n",
    "x = np.argsort(np.argsort(deltas_mean))\n",
    "y = np.argsort(np.argsort(deltas_mean_neur))\n",
    "# x = deltas_mean\n",
    "# y = deltas_mean_neur\n",
    "\n",
    "plt.scatter(x, y, s=10)\n",
    "\n",
    "# texts = [plt.text(x[i], y[i], txt, fontsize=8) for i,txt in enumerate(REPLACE_WITH) if y[i]<-0.051]\n",
    "#         if (x[i]<300 and y[i]>600)  or (y[i]<300 and x[i]>800)]\n",
    "# adjust_text(texts)"
   ]
  },
  {
   "cell_type": "code",
   "execution_count": 45,
   "metadata": {},
   "outputs": [
    {
     "name": "stderr",
     "output_type": "stream",
     "text": [
      "/users/surag/anaconda3/envs/mtbatchgen/lib/python3.7/site-packages/ipykernel_launcher.py:12: RuntimeWarning: invalid value encountered in true_divide\n",
      "  if sys.path[0] == '':\n"
     ]
    }
   ],
   "source": [
    "def get_delta_proj(deltas, mut_strs):\n",
    "    deltas_proj = one_hot.dna_to_one_hot(mut_strs)\n",
    "    orig = deltas_proj[0].copy()\n",
    "    tot_cts = np.zeros(orig.shape)\n",
    "    \n",
    "    for i in range(len(mut_strs)):\n",
    "        deltas_proj[i] -= orig # remove orignal seq\n",
    "        deltas_proj[i][deltas_proj[i] < 0] = 0 # set non-matching to zero -- now only changed bases\n",
    "        tot_cts += deltas_proj[i]\n",
    "        deltas_proj[i] *= deltas[i]\n",
    "\n",
    "    deltas_proj = -np.nan_to_num(np.sum(deltas_proj, axis=0)/tot_cts)\n",
    "    deltas_proj += (orig*deltas[0])\n",
    "    \n",
    "    return deltas_proj\n",
    "\n",
    "deltas_proj = get_delta_proj(deltas_mean, REPLACE_WITH)\n",
    "deltas_proj_neur = get_delta_proj(deltas_mean_neur, REPLACE_WITH)"
   ]
  },
  {
   "cell_type": "code",
   "execution_count": 46,
   "metadata": {},
   "outputs": [
    {
     "data": {
      "image/png": "[encoded data removed]",
      "text/plain": [
       "<Figure size 576x144 with 1 Axes>"
      ]
     },
     "metadata": {
      "needs_background": "light"
     },
     "output_type": "display_data"
    }
   ],
   "source": [
    "viz_sequence.plot_weights(deltas_proj, figsize=(8,2))"
   ]
  },
  {
   "cell_type": "code",
   "execution_count": 47,
   "metadata": {},
   "outputs": [
    {
     "data": {
      "image/png": "[encoded data removed]",
      "text/plain": [
       "<Figure size 576x144 with 1 Axes>"
      ]
     },
     "metadata": {
      "needs_background": "light"
     },
     "output_type": "display_data"
    }
   ],
   "source": [
    "viz_sequence.plot_weights(deltas_proj_neur, figsize=(8,2))"
   ]
  },
  {
   "cell_type": "code",
   "execution_count": null,
   "metadata": {},
   "outputs": [],
   "source": []
  },
  {
   "cell_type": "code",
   "execution_count": null,
   "metadata": {},
   "outputs": [],
   "source": []
  },
  {
   "cell_type": "code",
   "execution_count": null,
   "metadata": {},
   "outputs": [],
   "source": []
  },
  {
   "cell_type": "markdown",
   "metadata": {},
   "source": [
    "## Marginalize Motif"
   ]
  },
  {
   "cell_type": "code",
   "execution_count": 108,
   "metadata": {},
   "outputs": [],
   "source": [
    "from random import shuffle, choice, random\n",
    "from copy import deepcopy"
   ]
  },
  {
   "cell_type": "code",
   "execution_count": 116,
   "metadata": {},
   "outputs": [],
   "source": [
    "random_positions = [(choice([\"chr\"+str(x) for x in range(1,23)]), int(random()*4e7)) for _ in range(128*10)]"
   ]
  },
  {
   "cell_type": "code",
   "execution_count": 117,
   "metadata": {},
   "outputs": [],
   "source": [
    "# or choose from weak motif hits from a peak set\n",
    "# random_positions = [(x[\"chr\"],x[\"start\"]) for _,x in oct_sox_hits.sample(128).iterrows()]"
   ]
  },
  {
   "cell_type": "code",
   "execution_count": 411,
   "metadata": {},
   "outputs": [
    {
     "name": "stderr",
     "output_type": "stream",
     "text": [
      "100%|██████████| 10/10 [00:05<00:00,  1.74it/s]\n"
     ]
    }
   ],
   "source": [
    "BATCH_SIZE = 128\n",
    "\n",
    "# replace with canonical motif and predict\n",
    "random_pred_counts = []\n",
    "random_pred_counts_neur = []\n",
    "\n",
    "for i in tqdm.tqdm(range(math.ceil(len(random_positions)/BATCH_SIZE))):\n",
    "    cur_seqs = random_positions[i*BATCH_SIZE:(i+1)*BATCH_SIZE]\n",
    "    cur_raw_seqs = []\n",
    "    for j, r in enumerate(cur_seqs):\n",
    "        \n",
    "        cur_raw_seqs.append(str(hg38[r[0]][r[1]-(MODEL_INP_LEN//2):r[1]+(MODEL_INP_LEN//2)]))\n",
    "        \n",
    "    cur_raw_seqs = one_hot.dna_to_one_hot(cur_raw_seqs)\n",
    "    \n",
    "    cur_pred = model.predict([cur_raw_seqs, \n",
    "                   np.zeros((cur_raw_seqs.shape[0],1)), \n",
    "                   np.zeros((cur_raw_seqs.shape[0],2000,2))])[1]\n",
    "    random_pred_counts.append(cur_pred)\n",
    "    \n",
    "    cur_pred = model_neur.predict([cur_raw_seqs, \n",
    "                   np.zeros((cur_raw_seqs.shape[0],1)), \n",
    "                   np.zeros((cur_raw_seqs.shape[0],2000,2))])[1]\n",
    "    random_pred_counts_neur.append(cur_pred)\n",
    "    \n",
    "random_pred_counts = np.vstack(random_pred_counts).ravel()\n",
    "random_pred_counts_neur = np.vstack(random_pred_counts_neur).ravel()"
   ]
  },
  {
   "cell_type": "code",
   "execution_count": 119,
   "metadata": {},
   "outputs": [],
   "source": [
    "def mod_sequence(s, rep, motif_start, motif_end):\n",
    "    return s[:motif_start] + rep + s[motif_end:] #  + \"CCACCC\" + s[motif_end+26:motif_end+46] +\\\n",
    "#                               \"CCACCC\" + s[motif_end+52:motif_end+72]  +\"CCACCC\" +  s[motif_end+78:motif_end+100] + \\\n",
    "#                               \"CCACCC\" + s[motif_end+88:motif_end+108] +\"ACAAAA\" +  s[motif_end+114:motif_end+134] + \\\n",
    "#                               \"ACAAAA\" + s[motif_end+140:motif_end+160] +\"TGACTCA\" +  s[motif_end+167:motif_end+185] +\\\n",
    "#                                \"TGACTCA\" +  s[motif_end+192:] "
   ]
  },
  {
   "cell_type": "code",
   "execution_count": 451,
   "metadata": {},
   "outputs": [],
   "source": [
    "from random import choice, randint"
   ]
  },
  {
   "cell_type": "code",
   "execution_count": 497,
   "metadata": {},
   "outputs": [],
   "source": [
    "TO_ADD_MIX = [(choice([\"AACAAAG\",\"CTTTGTT\"]), randint(20,40)) for _ in range(6)] + \\\n",
    "         [(\"ATTTGCATAACAAAG\", 32)] + \\\n",
    "         [(choice([\"AACAAAG\",\"CTTTGTT\"]), randint(20,40)) for _ in range(8)]\n",
    "\n",
    "TO_ADD_OS = [(\"ATTTGCATAACAAAG\", 0)]\n",
    "\n",
    "def mod_sequence2(s, start, to_add):\n",
    "    cur = s[:start]\n",
    "    \n",
    "    i = start\n",
    "    for x in to_add:\n",
    "        cur += x[0]\n",
    "        cur += s[i+len(x[0]):i+len(x[0])+x[1]]\n",
    "        i = i+len(x[0])+x[1]\n",
    "    \n",
    "    cur += s[i:]\n",
    "    \n",
    "    return cur"
   ]
  },
  {
   "cell_type": "code",
   "execution_count": 499,
   "metadata": {},
   "outputs": [],
   "source": [
    "TO_ADD_DEL1 = deepcopy(TO_ADD_MIX)\n",
    "TO_ADD_DEL1[2] = (\"GAGTTAG\", TO_ADD_MIX[2][1])\n",
    "\n",
    "TO_ADD_DEL2 = deepcopy(TO_ADD_DEL1)\n",
    "TO_ADD_DEL2[-3] = (\"AGGTTAG\", TO_ADD_DEL1[-3][1])"
   ]
  },
  {
   "cell_type": "code",
   "execution_count": 1,
   "metadata": {},
   "outputs": [
    {
     "ename": "NameError",
     "evalue": "name 'tqdm' is not defined",
     "output_type": "error",
     "traceback": [
      "\u001b[0;31m---------------------------------------------------------------------------\u001b[0m",
      "\u001b[0;31mNameError\u001b[0m                                 Traceback (most recent call last)",
      "\u001b[0;32m<ipython-input-1-334378ac074b>\u001b[0m in \u001b[0;36m<module>\u001b[0;34m\u001b[0m\n\u001b[1;32m      5\u001b[0m \u001b[0msynth_pred_counts_neur\u001b[0m \u001b[0;34m=\u001b[0m \u001b[0;34m[\u001b[0m\u001b[0;34m]\u001b[0m\u001b[0;34m\u001b[0m\u001b[0;34m\u001b[0m\u001b[0m\n\u001b[1;32m      6\u001b[0m \u001b[0;34m\u001b[0m\u001b[0m\n\u001b[0;32m----> 7\u001b[0;31m \u001b[0;32mfor\u001b[0m \u001b[0mi\u001b[0m \u001b[0;32min\u001b[0m \u001b[0mtqdm\u001b[0m\u001b[0;34m.\u001b[0m\u001b[0mtqdm\u001b[0m\u001b[0;34m(\u001b[0m\u001b[0mrange\u001b[0m\u001b[0;34m(\u001b[0m\u001b[0mmath\u001b[0m\u001b[0;34m.\u001b[0m\u001b[0mceil\u001b[0m\u001b[0;34m(\u001b[0m\u001b[0mlen\u001b[0m\u001b[0;34m(\u001b[0m\u001b[0mrandom_positions\u001b[0m\u001b[0;34m)\u001b[0m\u001b[0;34m/\u001b[0m\u001b[0mBATCH_SIZE\u001b[0m\u001b[0;34m)\u001b[0m\u001b[0;34m)\u001b[0m\u001b[0;34m)\u001b[0m\u001b[0;34m:\u001b[0m\u001b[0;34m\u001b[0m\u001b[0;34m\u001b[0m\u001b[0m\n\u001b[0m\u001b[1;32m      8\u001b[0m     \u001b[0mcur_seqs\u001b[0m \u001b[0;34m=\u001b[0m \u001b[0mrandom_positions\u001b[0m\u001b[0;34m[\u001b[0m\u001b[0mi\u001b[0m\u001b[0;34m*\u001b[0m\u001b[0mBATCH_SIZE\u001b[0m\u001b[0;34m:\u001b[0m\u001b[0;34m(\u001b[0m\u001b[0mi\u001b[0m\u001b[0;34m+\u001b[0m\u001b[0;36m1\u001b[0m\u001b[0;34m)\u001b[0m\u001b[0;34m*\u001b[0m\u001b[0mBATCH_SIZE\u001b[0m\u001b[0;34m]\u001b[0m\u001b[0;34m\u001b[0m\u001b[0;34m\u001b[0m\u001b[0m\n\u001b[1;32m      9\u001b[0m     \u001b[0mcur_raw_seqs\u001b[0m \u001b[0;34m=\u001b[0m \u001b[0;34m[\u001b[0m\u001b[0;34m]\u001b[0m\u001b[0;34m\u001b[0m\u001b[0;34m\u001b[0m\u001b[0m\n",
      "\u001b[0;31mNameError\u001b[0m: name 'tqdm' is not defined"
     ]
    }
   ],
   "source": [
    "BATCH_SIZE = 128\n",
    "\n",
    "# replace with canonical motif and predict\n",
    "synth_pred_counts = []\n",
    "synth_pred_counts_neur = []\n",
    "\n",
    "for i in tqdm.tqdm(range(math.ceil(len(random_positions)/BATCH_SIZE))):\n",
    "    cur_seqs = random_positions[i*BATCH_SIZE:(i+1)*BATCH_SIZE]\n",
    "    cur_raw_seqs = []\n",
    "    for j, r in enumerate(cur_seqs):\n",
    "        cur_raw_seqs.append(str(hg38[r[0]][r[1]-(MODEL_INP_LEN//2):r[1]+(MODEL_INP_LEN//2)]))\n",
    "        \n",
    "#         replacement = \"ATTTGCATAACAAAG\" #\"TTTTCAAATGTTGAA\"\n",
    "\n",
    "#         motif_start = MODEL_INP_LEN//2         \n",
    "#         motif_end = MODEL_INP_LEN//2 + len(replacement)\n",
    "        \n",
    "#         cur_raw_seqs[-1] = mod_sequence(cur_raw_seqs[-1], replacement, motif_start, motif_end)\n",
    "#         cur_raw_seqs[-1] = mod_sequence2(cur_raw_seqs[-1], MODEL_INP_LEN//2-200, TO_ADD_DEL2)\n",
    "#         cur_raw_seqs[-1] = mod_sequence2(cur_raw_seqs[-1], MODEL_INP_LEN//2-100, TO_ADD_OS)\n",
    "#         cur_raw_seqs[-1] = mod_sequence2(cur_raw_seqs[-1], MODEL_INP_LEN//2+200, [(\"GCCACGCCC\", 0)])\n",
    "        cur_raw_seqs[-1] = mod_sequence2(cur_raw_seqs[-1], MODEL_INP_LEN//2, [(\"TGGGTGTGGC\", 0)])\n",
    "#         cur_raw_seqs[-1] = mod_sequence2(cur_raw_seqs[-1], MODEL_INP_LEN//2+50, [(\"GGGGTGTGG\", 0)])    \n",
    "        # SOX-KLF ACAATAGGGGGTGTGG\n",
    "#         cur_raw_seqs[-1] = mod_sequence2(cur_raw_seqs[-1], MODEL_INP_LEN//2-300, TO_ADD_OS)\n",
    "\n",
    "    cur_raw_seqs = one_hot.dna_to_one_hot(cur_raw_seqs)\n",
    "    \n",
    "    cur_pred = model.predict([cur_raw_seqs, \n",
    "                   np.zeros((cur_raw_seqs.shape[0],1)), \n",
    "                   np.zeros((cur_raw_seqs.shape[0],2000,2))])[1]\n",
    "    synth_pred_counts.append(cur_pred)\n",
    "    \n",
    "    cur_pred = model_neur.predict([cur_raw_seqs, \n",
    "                   np.zeros((cur_raw_seqs.shape[0],1)), \n",
    "                   np.zeros((cur_raw_seqs.shape[0],2000,2))])[1]\n",
    "    synth_pred_counts_neur.append(cur_pred)\n",
    "    \n",
    "synth_pred_counts = np.vstack(synth_pred_counts).ravel()\n",
    "synth_pred_counts_neur = np.vstack(synth_pred_counts_neur).ravel()"
   ]
  },
  {
   "cell_type": "code",
   "execution_count": 574,
   "metadata": {},
   "outputs": [
    {
     "data": {
      "text/plain": [
       "(4.1888323, 2.047305)"
      ]
     },
     "execution_count": 574,
     "metadata": {},
     "output_type": "execute_result"
    }
   ],
   "source": [
    "np.median(random_pred_counts), np.median(random_pred_counts_neur)"
   ]
  },
  {
   "cell_type": "code",
   "execution_count": 918,
   "metadata": {},
   "outputs": [
    {
     "data": {
      "text/plain": [
       "(4.265724, 2.167384)"
      ]
     },
     "execution_count": 918,
     "metadata": {},
     "output_type": "execute_result"
    }
   ],
   "source": [
    "# SOX only\n",
    "np.median(synth_pred_counts), np.median(synth_pred_counts_neur)"
   ]
  },
  {
   "cell_type": "code",
   "execution_count": null,
   "metadata": {},
   "outputs": [],
   "source": []
  }
 ],
 "metadata": {
  "kernelspec": {
   "display_name": "Python 3",
   "language": "python",
   "name": "python3"
  },
  "language_info": {
   "codemirror_mode": {
    "name": "ipython",
    "version": 3
   },
   "file_extension": ".py",
   "mimetype": "text/x-python",
   "name": "python",
   "nbconvert_exporter": "python",
   "pygments_lexer": "ipython3",
   "version": "3.7.6"
  }
 },
 "nbformat": 4,
 "nbformat_minor": 4
}
