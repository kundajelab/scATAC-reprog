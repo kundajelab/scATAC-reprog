{
 "cells": [
  {
   "cell_type": "markdown",
   "metadata": {},
   "source": [
    "# Heterokaryon Peaks Comparison\n",
    "\n",
    "Comparing peaks in early stages of sendai reprogramming with heterokaryon reprogramming."
   ]
  },
  {
   "cell_type": "code",
   "execution_count": 1,
   "metadata": {},
   "outputs": [
    {
     "name": "stderr",
     "output_type": "stream",
     "text": [
      "Loading required package: S4Vectors\n",
      "\n",
      "Loading required package: stats4\n",
      "\n",
      "Loading required package: BiocGenerics\n",
      "\n",
      "Loading required package: parallel\n",
      "\n",
      "\n",
      "Attaching package: ‘BiocGenerics’\n",
      "\n",
      "\n",
      "The following objects are masked from ‘package:parallel’:\n",
      "\n",
      "    clusterApply, clusterApplyLB, clusterCall, clusterEvalQ,\n",
      "    clusterExport, clusterMap, parApply, parCapply, parLapply,\n",
      "    parLapplyLB, parRapply, parSapply, parSapplyLB\n",
      "\n",
      "\n",
      "The following objects are masked from ‘package:stats’:\n",
      "\n",
      "    IQR, mad, sd, var, xtabs\n",
      "\n",
      "\n",
      "The following objects are masked from ‘package:base’:\n",
      "\n",
      "    anyDuplicated, append, as.data.frame, basename, cbind, colMeans,\n",
      "    colnames, colSums, dirname, do.call, duplicated, eval, evalq,\n",
      "    Filter, Find, get, grep, grepl, intersect, is.unsorted, lapply,\n",
      "    lengths, Map, mapply, match, mget, order, paste, pmax, pmax.int,\n",
      "    pmin, pmin.int, Position, rank, rbind, Reduce, rowMeans, rownames,\n",
      "    rowSums, sapply, setdiff, sort, table, tapply, union, unique,\n",
      "    unsplit, which, which.max, which.min\n",
      "\n",
      "\n",
      "\n",
      "Attaching package: ‘S4Vectors’\n",
      "\n",
      "\n",
      "The following object is masked from ‘package:base’:\n",
      "\n",
      "    expand.grid\n",
      "\n",
      "\n",
      "Loading required package: IRanges\n",
      "\n",
      "Loading required package: GenomicRanges\n",
      "\n",
      "Loading required package: GenomeInfoDb\n",
      "\n",
      "Loading required package: SummarizedExperiment\n",
      "\n",
      "Loading required package: Biobase\n",
      "\n",
      "Welcome to Bioconductor\n",
      "\n",
      "    Vignettes contain introductory material; view with\n",
      "    'browseVignettes()'. To cite Bioconductor, see\n",
      "    'citation(\"Biobase\")', and for packages 'citation(\"pkgname\")'.\n",
      "\n",
      "\n",
      "Loading required package: DelayedArray\n",
      "\n",
      "Loading required package: matrixStats\n",
      "\n",
      "\n",
      "Attaching package: ‘matrixStats’\n",
      "\n",
      "\n",
      "The following objects are masked from ‘package:Biobase’:\n",
      "\n",
      "    anyMissing, rowMedians\n",
      "\n",
      "\n",
      "Loading required package: BiocParallel\n",
      "\n",
      "\n",
      "Attaching package: ‘DelayedArray’\n",
      "\n",
      "\n",
      "The following objects are masked from ‘package:matrixStats’:\n",
      "\n",
      "    colMaxs, colMins, colRanges, rowMaxs, rowMins, rowRanges\n",
      "\n",
      "\n",
      "The following objects are masked from ‘package:base’:\n",
      "\n",
      "    aperm, apply\n",
      "\n",
      "\n"
     ]
    }
   ],
   "source": [
    "library(DESeq2)\n",
    "library(ggplot2)\n",
    "library(ggrepel)\n",
    "library(reshape2)\n",
    "library(parallel)"
   ]
  },
  {
   "cell_type": "code",
   "execution_count": 2,
   "metadata": {},
   "outputs": [
    {
     "data": {
      "text/html": [
       "<table>\n",
       "<caption>A data.frame: 2 × 13</caption>\n",
       "<thead>\n",
       "\t<tr><th></th><th scope=col>D0</th><th scope=col>D2</th><th scope=col>iPSC</th><th scope=col>batch1.nodox.MRC5</th><th scope=col>batch1.nodox.CC</th><th scope=col>batch1.nodox.3hr</th><th scope=col>batch1.nodox.16hr</th><th scope=col>batch1.nodox.48hr</th><th scope=col>batch2.dn.MRC5</th><th scope=col>batch2.dn.CC</th><th scope=col>batch2.dn.3hr</th><th scope=col>batch2.dn.16hr</th><th scope=col>batch2.dn.48hr</th></tr>\n",
       "\t<tr><th></th><th scope=col>&lt;int&gt;</th><th scope=col>&lt;int&gt;</th><th scope=col>&lt;int&gt;</th><th scope=col>&lt;int&gt;</th><th scope=col>&lt;int&gt;</th><th scope=col>&lt;int&gt;</th><th scope=col>&lt;int&gt;</th><th scope=col>&lt;int&gt;</th><th scope=col>&lt;int&gt;</th><th scope=col>&lt;int&gt;</th><th scope=col>&lt;int&gt;</th><th scope=col>&lt;int&gt;</th><th scope=col>&lt;int&gt;</th></tr>\n",
       "</thead>\n",
       "<tbody>\n",
       "\t<tr><th scope=row>chr1\t181340\t181540</th><td>32</td><td>31</td><td>23</td><td>4</td><td>0</td><td>0</td><td>0</td><td>6</td><td>16</td><td>7</td><td>15</td><td>9</td><td>7</td></tr>\n",
       "\t<tr><th scope=row>chr1\t183174\t183374</th><td> 2</td><td> 2</td><td> 0</td><td>0</td><td>0</td><td>0</td><td>0</td><td>2</td><td> 5</td><td>7</td><td> 6</td><td>2</td><td>2</td></tr>\n",
       "</tbody>\n",
       "</table>\n"
      ],
      "text/latex": [
       "A data.frame: 2 × 13\n",
       "\\begin{tabular}{r|lllllllllllll}\n",
       "  & D0 & D2 & iPSC & batch1.nodox.MRC5 & batch1.nodox.CC & batch1.nodox.3hr & batch1.nodox.16hr & batch1.nodox.48hr & batch2.dn.MRC5 & batch2.dn.CC & batch2.dn.3hr & batch2.dn.16hr & batch2.dn.48hr\\\\\n",
       "  & <int> & <int> & <int> & <int> & <int> & <int> & <int> & <int> & <int> & <int> & <int> & <int> & <int>\\\\\n",
       "\\hline\n",
       "\tchr1\t181340\t181540 & 32 & 31 & 23 & 4 & 0 & 0 & 0 & 6 & 16 & 7 & 15 & 9 & 7\\\\\n",
       "\tchr1\t183174\t183374 &  2 &  2 &  0 & 0 & 0 & 0 & 0 & 2 &  5 & 7 &  6 & 2 & 2\\\\\n",
       "\\end{tabular}\n"
      ],
      "text/markdown": [
       "\n",
       "A data.frame: 2 × 13\n",
       "\n",
       "| <!--/--> | D0 &lt;int&gt; | D2 &lt;int&gt; | iPSC &lt;int&gt; | batch1.nodox.MRC5 &lt;int&gt; | batch1.nodox.CC &lt;int&gt; | batch1.nodox.3hr &lt;int&gt; | batch1.nodox.16hr &lt;int&gt; | batch1.nodox.48hr &lt;int&gt; | batch2.dn.MRC5 &lt;int&gt; | batch2.dn.CC &lt;int&gt; | batch2.dn.3hr &lt;int&gt; | batch2.dn.16hr &lt;int&gt; | batch2.dn.48hr &lt;int&gt; |\n",
       "|---|---|---|---|---|---|---|---|---|---|---|---|---|---|\n",
       "| chr1\t181340\t181540 | 32 | 31 | 23 | 4 | 0 | 0 | 0 | 6 | 16 | 7 | 15 | 9 | 7 |\n",
       "| chr1\t183174\t183374 |  2 |  2 |  0 | 0 | 0 | 0 | 0 | 2 |  5 | 7 |  6 | 2 | 2 |\n",
       "\n"
      ],
      "text/plain": [
       "                     D0 D2 iPSC batch1.nodox.MRC5 batch1.nodox.CC\n",
       "chr1\\t181340\\t181540 32 31 23   4                 0              \n",
       "chr1\\t183174\\t183374  2  2  0   0                 0              \n",
       "                     batch1.nodox.3hr batch1.nodox.16hr batch1.nodox.48hr\n",
       "chr1\\t181340\\t181540 0                0                 6                \n",
       "chr1\\t183174\\t183374 0                0                 2                \n",
       "                     batch2.dn.MRC5 batch2.dn.CC batch2.dn.3hr batch2.dn.16hr\n",
       "chr1\\t181340\\t181540 16             7            15            9             \n",
       "chr1\\t183174\\t183374  5             7             6            2             \n",
       "                     batch2.dn.48hr\n",
       "chr1\\t181340\\t181540 7             \n",
       "chr1\\t183174\\t183374 2             "
      ]
     },
     "metadata": {},
     "output_type": "display_data"
    },
    {
     "data": {
      "text/html": [
       "<style>\n",
       ".list-inline {list-style: none; margin:0; padding: 0}\n",
       ".list-inline>li {display: inline-block}\n",
       ".list-inline>li:not(:last-child)::after {content: \"\\00b7\"; padding: 0 .5ex}\n",
       "</style>\n",
       "<ol class=list-inline><li>521333</li><li>13</li></ol>\n"
      ],
      "text/latex": [
       "\\begin{enumerate*}\n",
       "\\item 521333\n",
       "\\item 13\n",
       "\\end{enumerate*}\n"
      ],
      "text/markdown": [
       "1. 521333\n",
       "2. 13\n",
       "\n",
       "\n"
      ],
      "text/plain": [
       "[1] 521333     13"
      ]
     },
     "metadata": {},
     "output_type": "display_data"
    }
   ],
   "source": [
    "cts <- read.csv(\"./data/scATAC.het.counts.txt\",sep=\"\\t\")\n",
    "rownames(cts)=paste(cts$chr,cts$start,cts$end,sep='\\t')\n",
    "cts$chrom = NULL\n",
    "cts$start = NULL\n",
    "cts$end = NULL\n",
    "head(cts, 2)\n",
    "dim(cts)"
   ]
  },
  {
   "cell_type": "code",
   "execution_count": 5,
   "metadata": {},
   "outputs": [],
   "source": [
    "# remove batch2 for now\n",
    "# cts = cts[, !grepl(\"batch2\", colnames(cts))]\n",
    "\n",
    "# cts = cts[, c(\"D0\", \"batch1.nodox.CC\", \"D2\", \"batch1.nodox.16hr\", \"iPSC\")]\n",
    "cts = cts[, c(\"D0\", \"batch1.nodox.CC\", \"D2\", \"batch1.nodox.16hr\", \"iPSC\")]"
   ]
  },
  {
   "cell_type": "code",
   "execution_count": 6,
   "metadata": {},
   "outputs": [
    {
     "data": {
      "text/html": [
       "<style>\n",
       ".list-inline {list-style: none; margin:0; padding: 0}\n",
       ".list-inline>li {display: inline-block}\n",
       ".list-inline>li:not(:last-child)::after {content: \"\\00b7\"; padding: 0 .5ex}\n",
       "</style>\n",
       "<ol class=list-inline><li>520883</li><li>5</li></ol>\n"
      ],
      "text/latex": [
       "\\begin{enumerate*}\n",
       "\\item 520883\n",
       "\\item 5\n",
       "\\end{enumerate*}\n"
      ],
      "text/markdown": [
       "1. 520883\n",
       "2. 5\n",
       "\n",
       "\n"
      ],
      "text/plain": [
       "[1] 520883      5"
      ]
     },
     "metadata": {},
     "output_type": "display_data"
    }
   ],
   "source": [
    "cts = cts[rowSums(cts)>10, ] # trying to compensate for het samples not having enough reads\n",
    "dim(cts)"
   ]
  },
  {
   "cell_type": "code",
   "execution_count": 9,
   "metadata": {},
   "outputs": [],
   "source": [
    "# divide by width\n",
    "cts = 200*(cts/width(GRanges(sub(\"\\t\", \"-\", sub(\"\\t\", \":\", rownames(cts))))))"
   ]
  },
  {
   "cell_type": "code",
   "execution_count": 10,
   "metadata": {},
   "outputs": [],
   "source": [
    "norm_cts = t(t(cts)/estimateSizeFactorsForMatrix(cts[rowSums(cts<50)==0, ]))\n",
    "# norm_cts = t(t(cts)/estimateSizeFactorsForMatrix(cts))"
   ]
  },
  {
   "cell_type": "code",
   "execution_count": 11,
   "metadata": {},
   "outputs": [],
   "source": [
    "log_norm_cts = log2(1+norm_cts)"
   ]
  },
  {
   "cell_type": "code",
   "execution_count": 14,
   "metadata": {},
   "outputs": [],
   "source": [
    "quantile_normalisation <- function(df){\n",
    "  df_rank <- apply(df,2,rank,ties.method=\"random\")\n",
    "  df_sorted <- data.frame(apply(df, 2, sort))\n",
    "  df_mean <- apply(df_sorted, 1, mean)\n",
    "    \n",
    "  index_to_mean <- function(my_index, my_mean){\n",
    "    return(my_mean[my_index])\n",
    "  }\n",
    "   \n",
    "  df_final <- apply(df_rank, 2, index_to_mean, my_mean=df_mean)\n",
    "  rownames(df_final) <- rownames(df)\n",
    "  df_final\n",
    "}"
   ]
  },
  {
   "cell_type": "code",
   "execution_count": 15,
   "metadata": {},
   "outputs": [],
   "source": [
    "qn_cts = quantile_normalisation(log_norm_cts)"
   ]
  },
  {
   "cell_type": "code",
   "execution_count": 16,
   "metadata": {},
   "outputs": [
    {
     "data": {
      "image/png": "[encoded data removed]",
      "text/plain": [
       "Plot with title “Histogram of qn_cts”"
      ]
     },
     "metadata": {
      "image/png": {
       "height": 420,
       "width": 420
      },
      "text/plain": {
       "height": 420,
       "width": 420
      }
     },
     "output_type": "display_data"
    }
   ],
   "source": [
    "hist(qn_cts, breaks = 100)"
   ]
  },
  {
   "cell_type": "code",
   "execution_count": 17,
   "metadata": {},
   "outputs": [],
   "source": [
    "library(RColorBrewer)"
   ]
  },
  {
   "cell_type": "code",
   "execution_count": 18,
   "metadata": {},
   "outputs": [],
   "source": [
    "qual_col_pals = brewer.pal.info[brewer.pal.info$category == 'qual',]\n",
    "col_vector = unlist(mapply(brewer.pal, qual_col_pals$maxcolors, rownames(qual_col_pals)))"
   ]
  },
  {
   "cell_type": "code",
   "execution_count": 20,
   "metadata": {},
   "outputs": [
    {
     "name": "stdout",
     "output_type": "stream",
     "text": [
      "[1] 56.71 23.04 11.84  8.41  0.00\n"
     ]
    }
   ],
   "source": [
    "pca = prcomp(t(qn_cts),center=TRUE,scale=FALSE)\n",
    "pcs=data.frame(pca$x)\n",
    "pcs$ID=rownames(pcs)\n",
    "pcs$clust_num = colnames(log_norm_cts)\n",
    "var_explained=round(100*pca$sdev^2/sum(pca$sdev^2),2)\n",
    "print(var_explained)"
   ]
  },
  {
   "cell_type": "code",
   "execution_count": 21,
   "metadata": {},
   "outputs": [
    {
     "data": {
      "image/png": "[encoded data removed]",
      "text/plain": [
       "plot without title"
      ]
     },
     "metadata": {
      "image/png": {
       "height": 300,
       "width": 600
      },
      "text/plain": {
       "height": 300,
       "width": 600
      }
     },
     "output_type": "display_data"
    }
   ],
   "source": [
    "options(repr.plot.width = 10, repr.plot.height = 5)\n",
    "\n",
    "ggplot(data=pcs,aes(x=PC1,y=PC2,color=as.factor(clust_num),label=ID))+\n",
    "geom_point(size=5)+\n",
    "scale_colour_manual(values = col_vector[seq(50,67)]) +\n",
    "geom_text(size=5, nudge_x=150)+\n",
    "labs(x=sprintf(\"PC1 (var explained: %.2f)\", var_explained[1]), y = sprintf(\"PC2 (var explained: %.2f)\", var_explained[2]))"
   ]
  },
  {
   "cell_type": "markdown",
   "metadata": {},
   "source": [
    "## Clustering"
   ]
  },
  {
   "cell_type": "code",
   "execution_count": 22,
   "metadata": {},
   "outputs": [
    {
     "name": "stderr",
     "output_type": "stream",
     "text": [
      "Loading required package: gtools\n",
      "\n",
      "Loading required package: viridisLite\n",
      "\n",
      "\n",
      "Attaching package: ‘scales’\n",
      "\n",
      "\n",
      "The following object is masked from ‘package:viridis’:\n",
      "\n",
      "    viridis_pal\n",
      "\n",
      "\n"
     ]
    }
   ],
   "source": [
    "library(ClusterR)\n",
    "library(viridis)\n",
    "library(scales)"
   ]
  },
  {
   "cell_type": "code",
   "execution_count": 23,
   "metadata": {},
   "outputs": [
    {
     "data": {
      "text/html": [
       "<style>\n",
       ".dl-inline {width: auto; margin:0; padding: 0}\n",
       ".dl-inline>dt, .dl-inline>dd {float: none; width: auto; display: inline-block}\n",
       ".dl-inline>dt::after {content: \":\\0020\"; padding-right: .5ex}\n",
       ".dl-inline>dt:not(:first-of-type) {padding-left: .5ex}\n",
       "</style><dl class=dl-inline><dt>25%</dt><dd>3.02740708914387</dd><dt>50%</dt><dd>4.45080154178682</dd><dt>75%</dt><dd>5.95387352644549</dd></dl>\n"
      ],
      "text/latex": [
       "\\begin{description*}\n",
       "\\item[25\\textbackslash{}\\%] 3.02740708914387\n",
       "\\item[50\\textbackslash{}\\%] 4.45080154178682\n",
       "\\item[75\\textbackslash{}\\%] 5.95387352644549\n",
       "\\end{description*}\n"
      ],
      "text/markdown": [
       "25%\n",
       ":   3.0274070891438750%\n",
       ":   4.4508015417868275%\n",
       ":   5.95387352644549\n",
       "\n"
      ],
      "text/plain": [
       "     25%      50%      75% \n",
       "3.027407 4.450802 5.953874 "
      ]
     },
     "metadata": {},
     "output_type": "display_data"
    }
   ],
   "source": [
    "quantile(qn_cts, c(.25, .5, .75))"
   ]
  },
  {
   "cell_type": "code",
   "execution_count": 24,
   "metadata": {},
   "outputs": [
    {
     "data": {
      "text/html": [
       "122301"
      ],
      "text/latex": [
       "122301"
      ],
      "text/markdown": [
       "122301"
      ],
      "text/plain": [
       "[1] 122301"
      ]
     },
     "metadata": {},
     "output_type": "display_data"
    }
   ],
   "source": [
    "sum(qn_cts[,\"D0\"]<3.5 & qn_cts[,\"batch1.nodox.CC\"]<3.5)"
   ]
  },
  {
   "cell_type": "code",
   "execution_count": 35,
   "metadata": {},
   "outputs": [],
   "source": [
    "cts_to_cluster = qn_cts #[(qn_cts[,\"D0\"]<3.5 & qn_cts[,\"batch1.nodox.CC\"]<3.5), ]\n",
    "# cts_to_cluster = t(scale(t(qn_cts)))\n",
    "# cts_to_cluster = log_norm_cts\n",
    "# cts_to_cluster = cts\n",
    "# cts_to_cluster = t(scale(t(log_norm_cts)))"
   ]
  },
  {
   "cell_type": "code",
   "execution_count": 36,
   "metadata": {},
   "outputs": [
    {
     "data": {
      "text/html": [
       "<style>\n",
       ".list-inline {list-style: none; margin:0; padding: 0}\n",
       ".list-inline>li {display: inline-block}\n",
       ".list-inline>li:not(:last-child)::after {content: \"\\00b7\"; padding: 0 .5ex}\n",
       "</style>\n",
       "<ol class=list-inline><li>520883</li><li>5</li></ol>\n"
      ],
      "text/latex": [
       "\\begin{enumerate*}\n",
       "\\item 520883\n",
       "\\item 5\n",
       "\\end{enumerate*}\n"
      ],
      "text/markdown": [
       "1. 520883\n",
       "2. 5\n",
       "\n",
       "\n"
      ],
      "text/plain": [
       "[1] 520883      5"
      ]
     },
     "metadata": {},
     "output_type": "display_data"
    }
   ],
   "source": [
    "dim(cts_to_cluster)"
   ]
  },
  {
   "cell_type": "code",
   "execution_count": 54,
   "metadata": {},
   "outputs": [],
   "source": [
    "# ADD RAND SEED - not required\n",
    "CLUSTER_SUBSET = c(\"D0\", \"batch1.nodox.CC\", \"D2\", \"batch1.nodox.16hr\") # use to cluster based on a subset of cells\n",
    "km_mb = MiniBatchKmeans(cts_to_cluster[,CLUSTER_SUBSET], \n",
    "                        batch_size = 2000,\n",
    "                        clusters=15,\n",
    "                        num_init = 50, \n",
    "                        verbose = FALSE)"
   ]
  },
  {
   "cell_type": "code",
   "execution_count": 55,
   "metadata": {},
   "outputs": [
    {
     "name": "stderr",
     "output_type": "stream",
     "text": [
      "The \"ward\" method has been renamed to \"ward.D\"; note new \"ward.D2\"\n",
      "\n"
     ]
    }
   ],
   "source": [
    "# reorder based on hierarchical clustering\n",
    "pr_mb = predict_MBatchKMeans(cts_to_cluster[,CLUSTER_SUBSET], km_mb$centroids)\n",
    "\n",
    "distance    = dist(t(scale(t(km_mb$centroids))))\n",
    "cluster     = hclust(distance, method=\"ward\")\n",
    "dendrogram  = as.dendrogram(cluster)\n",
    "rowInd = rev(order.dendrogram(dendrogram))\n",
    "pr_mb = order(rowInd)[pr_mb]"
   ]
  },
  {
   "cell_type": "code",
   "execution_count": 56,
   "metadata": {},
   "outputs": [],
   "source": [
    "# no hierarchical clustering, follow order of km_mb$centroids\n",
    "# pr_mb = predict_MBatchKMeans(cts_to_cluster, km_mb$centroids)"
   ]
  },
  {
   "cell_type": "code",
   "execution_count": 57,
   "metadata": {},
   "outputs": [
    {
     "data": {
      "text/plain": [
       "pr_mb\n",
       "    1     2     3     4     5     6     7     8     9    10    11    12    13 \n",
       "34335 30583 29627 34803 51208 22881 32350 26117 35716 40567 37854 42631 33960 \n",
       "   14    15 \n",
       "39007 29244 "
      ]
     },
     "metadata": {},
     "output_type": "display_data"
    }
   ],
   "source": [
    "table(pr_mb)"
   ]
  },
  {
   "cell_type": "code",
   "execution_count": 58,
   "metadata": {},
   "outputs": [
    {
     "data": {
      "text/html": [
       "<style>\n",
       ".list-inline {list-style: none; margin:0; padding: 0}\n",
       ".list-inline>li {display: inline-block}\n",
       ".list-inline>li:not(:last-child)::after {content: \"\\00b7\"; padding: 0 .5ex}\n",
       "</style>\n",
       "<ol class=list-inline><li>3</li><li>2</li><li>4</li><li>14</li><li>10</li><li>6</li><li>9</li><li>11</li><li>13</li><li>1</li><li>8</li><li>7</li><li>15</li><li>5</li><li>12</li></ol>\n"
      ],
      "text/latex": [
       "\\begin{enumerate*}\n",
       "\\item 3\n",
       "\\item 2\n",
       "\\item 4\n",
       "\\item 14\n",
       "\\item 10\n",
       "\\item 6\n",
       "\\item 9\n",
       "\\item 11\n",
       "\\item 13\n",
       "\\item 1\n",
       "\\item 8\n",
       "\\item 7\n",
       "\\item 15\n",
       "\\item 5\n",
       "\\item 12\n",
       "\\end{enumerate*}\n"
      ],
      "text/markdown": [
       "1. 3\n",
       "2. 2\n",
       "3. 4\n",
       "4. 14\n",
       "5. 10\n",
       "6. 6\n",
       "7. 9\n",
       "8. 11\n",
       "9. 13\n",
       "10. 1\n",
       "11. 8\n",
       "12. 7\n",
       "13. 15\n",
       "14. 5\n",
       "15. 12\n",
       "\n",
       "\n"
      ],
      "text/plain": [
       " [1]  3  2  4 14 10  6  9 11 13  1  8  7 15  5 12"
      ]
     },
     "metadata": {},
     "output_type": "display_data"
    }
   ],
   "source": [
    "order(rowVars(km_mb$centroids))"
   ]
  },
  {
   "cell_type": "code",
   "execution_count": 59,
   "metadata": {},
   "outputs": [
    {
     "data": {
      "text/html": [
       "<table>\n",
       "<caption>A matrix: 2 × 5 of type dbl</caption>\n",
       "<thead>\n",
       "\t<tr><th></th><th scope=col>D0</th><th scope=col>batch1.nodox.CC</th><th scope=col>D2</th><th scope=col>batch1.nodox.16hr</th><th scope=col>iPSC</th></tr>\n",
       "</thead>\n",
       "<tbody>\n",
       "\t<tr><th scope=row>chr1\t1074193\t1074393</th><td>4.886025</td><td>3.980393</td><td>7.382182</td><td>4.491986</td><td>5.422011</td></tr>\n",
       "\t<tr><th scope=row>chr1\t1173688\t1174001</th><td>5.072544</td><td>4.204384</td><td>5.287781</td><td>5.910567</td><td>7.046180</td></tr>\n",
       "</tbody>\n",
       "</table>\n"
      ],
      "text/latex": [
       "A matrix: 2 × 5 of type dbl\n",
       "\\begin{tabular}{r|lllll}\n",
       "  & D0 & batch1.nodox.CC & D2 & batch1.nodox.16hr & iPSC\\\\\n",
       "\\hline\n",
       "\tchr1\t1074193\t1074393 & 4.886025 & 3.980393 & 7.382182 & 4.491986 & 5.422011\\\\\n",
       "\tchr1\t1173688\t1174001 & 5.072544 & 4.204384 & 5.287781 & 5.910567 & 7.046180\\\\\n",
       "\\end{tabular}\n"
      ],
      "text/markdown": [
       "\n",
       "A matrix: 2 × 5 of type dbl\n",
       "\n",
       "| <!--/--> | D0 | batch1.nodox.CC | D2 | batch1.nodox.16hr | iPSC |\n",
       "|---|---|---|---|---|---|\n",
       "| chr1\t1074193\t1074393 | 4.886025 | 3.980393 | 7.382182 | 4.491986 | 5.422011 |\n",
       "| chr1\t1173688\t1174001 | 5.072544 | 4.204384 | 5.287781 | 5.910567 | 7.046180 |\n",
       "\n"
      ],
      "text/plain": [
       "                       D0       batch1.nodox.CC D2       batch1.nodox.16hr\n",
       "chr1\\t1074193\\t1074393 4.886025 3.980393        7.382182 4.491986         \n",
       "chr1\\t1173688\\t1174001 5.072544 4.204384        5.287781 5.910567         \n",
       "                       iPSC    \n",
       "chr1\\t1074193\\t1074393 5.422011\n",
       "chr1\\t1173688\\t1174001 7.046180"
      ]
     },
     "metadata": {},
     "output_type": "display_data"
    }
   ],
   "source": [
    "DISPLAY_ORDER = c(\"D0\", \"batch1.nodox.CC\", \"D2\", \"batch1.nodox.16hr\", \"iPSC\")\n",
    "# DISPLAY_ORDER = c(\"D0\", \"batch2.dn.CC\", \"D2\", \"batch2.dn.16hr\", \"iPSC\")\n",
    "cts_clustered = cts_to_cluster[order(pr_mb), DISPLAY_ORDER]\n",
    "head(cts_clustered, 2)"
   ]
  },
  {
   "cell_type": "code",
   "execution_count": 60,
   "metadata": {},
   "outputs": [
    {
     "data": {
      "image/png": "[encoded data removed]",
      "text/plain": [
       "Plot with title “Histogram of as.vector(cts_clustered)”"
      ]
     },
     "metadata": {
      "image/png": {
       "height": 300,
       "width": 300
      },
      "text/plain": {
       "height": 300,
       "width": 300
      }
     },
     "output_type": "display_data"
    }
   ],
   "source": [
    "options(repr.plot.width = 5, repr.plot.height = 5)\n",
    "hist(as.vector(cts_clustered))"
   ]
  },
  {
   "cell_type": "code",
   "execution_count": 61,
   "metadata": {},
   "outputs": [
    {
     "name": "stderr",
     "output_type": "stream",
     "text": [
      "Saving 6.67 x 6.67 in image\n",
      "\n"
     ]
    },
    {
     "data": {
      "image/png": "[encoded data removed]",
      "text/plain": [
       "plot without title"
      ]
     },
     "metadata": {
      "image/png": {
       "height": 600,
       "width": 600
      },
      "text/plain": {
       "height": 600,
       "width": 600
      }
     },
     "output_type": "display_data"
    }
   ],
   "source": [
    "options(repr.plot.width = 10, repr.plot.height = 10)\n",
    "\n",
    "idxs = seq(1, nrow(cts_clustered), 5) # if subsample\n",
    "ggplot(data = melt(cts_clustered[idxs, ]), \n",
    "       mapping = aes(x = Var2,\n",
    "                     y = Var1,\n",
    "                     fill = value)) +\n",
    "geom_tile()  + ylab(NULL) + xlab(\"Condition\") +  \n",
    "geom_raster(aes(fill=value)) +\n",
    "scale_fill_viridis(limits=c(0, 8), oob=squish, option = \"A\") +\n",
    "# scale_fill_viridis(option=\"A\") + \n",
    "# scale_fill_gradient2(low=\"red\", mid=\"black\", high=\"blue\") +\n",
    "facet_grid(sort(pr_mb)[idxs] ~ ., switch = \"y\", scales = \"free_y\", space = \"free_y\") +\n",
    "# theme_classic() +\n",
    "theme(axis.text.x=element_text(angle=90,hjust=1),\n",
    "      axis.text.y=element_blank(),\n",
    "      axis.ticks.y=element_blank()) \n",
    "#       panel.spacing.y = unit(0.03, \"cm\"),\n",
    "#       strip.text.y = element_text(size = 3))  \n",
    "#       strip.background = element_rect(size = 0.1))\n",
    "\n",
    "ggsave(sprintf(\"figs/%s_heatmap_peakwidthnorm_qn_batch1_D0_CC_D2_16hr_sorted_n%d.jpeg\", format(Sys.Date(), format='%Y%m%d'), length(table(pr_mb))),\n",
    "       dpi=1000)"
   ]
  },
  {
   "cell_type": "markdown",
   "metadata": {},
   "source": [
    "## Writing BED files for some clusters"
   ]
  },
  {
   "cell_type": "code",
   "execution_count": 62,
   "metadata": {},
   "outputs": [
    {
     "data": {
      "text/html": [
       "'beds/20200409_heatmap_peakwidthnorm_qn_batch1_D0_CC_D2_16hr_sorted_n15/idx1.bed'"
      ],
      "text/latex": [
       "'beds/20200409\\_heatmap\\_peakwidthnorm\\_qn\\_batch1\\_D0\\_CC\\_D2\\_16hr\\_sorted\\_n15/idx1.bed'"
      ],
      "text/markdown": [
       "'beds/20200409_heatmap_peakwidthnorm_qn_batch1_D0_CC_D2_16hr_sorted_n15/idx1.bed'"
      ],
      "text/plain": [
       "[1] \"beds/20200409_heatmap_peakwidthnorm_qn_batch1_D0_CC_D2_16hr_sorted_n15/idx1.bed\""
      ]
     },
     "metadata": {},
     "output_type": "display_data"
    }
   ],
   "source": [
    "CLUSTER_IDX = 1\n",
    "NORM = 'heatmap_peakwidthnorm_qn_batch1_D0_CC_D2_16hr_sorted'\n",
    "BED_PATH = sprintf(\"beds/%s_%s_n%d/idx%d.bed\", format(Sys.Date(), format='%Y%m%d'), NORM, length(table(pr_mb)), CLUSTER_IDX)\n",
    "# rownames(vsd_assay_to_cluster_normalized)[(which(pr_mb==CLUSTER_IDX))]\n",
    "BED_PATH"
   ]
  },
  {
   "cell_type": "code",
   "execution_count": 63,
   "metadata": {},
   "outputs": [],
   "source": [
    "for (i in seq(1,length(table(pr_mb)))){\n",
    "BED_PATH = sprintf(\"beds/%s_%s_n%d/idx%d.bed\", format(Sys.Date(), format='%Y%m%d'), NORM, length(table(pr_mb)), i)\n",
    "fileConn = file(BED_PATH)\n",
    "writeLines(rownames(cts_to_cluster)[(which(pr_mb==i))], fileConn)\n",
    "close(fileConn)}"
   ]
  },
  {
   "cell_type": "code",
   "execution_count": 64,
   "metadata": {},
   "outputs": [
    {
     "name": "stdout",
     "output_type": "stream",
     "text": [
      "[1] \"beds/20200409_heatmap_peakwidthnorm_qn_batch1_D0_CC_D2_16hr_sorted_n15/all_peaks.bed\"\n"
     ]
    }
   ],
   "source": [
    "ALL_PEAKS_BED_PATH = sprintf(\"beds/%s_%s_n%d/all_peaks.bed\", format(Sys.Date(), format='%Y%m%d'), NORM, length(table(pr_mb)))\n",
    "print(ALL_PEAKS_BED_PATH)\n",
    "fileConn = file(ALL_PEAKS_BED_PATH)\n",
    "writeLines(rownames(cts_to_cluster), fileConn)\n",
    "close(fileConn)"
   ]
  },
  {
   "cell_type": "code",
   "execution_count": null,
   "metadata": {},
   "outputs": [],
   "source": []
  }
 ],
 "metadata": {
  "kernelspec": {
   "display_name": "R",
   "language": "R",
   "name": "ir"
  },
  "language_info": {
   "codemirror_mode": "r",
   "file_extension": ".r",
   "mimetype": "text/x-r-source",
   "name": "R",
   "pygments_lexer": "r",
   "version": "3.5.1"
  }
 },
 "nbformat": 4,
 "nbformat_minor": 2
}
