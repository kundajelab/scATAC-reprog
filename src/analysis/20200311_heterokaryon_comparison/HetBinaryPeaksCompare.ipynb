{
 "cells": [
  {
   "cell_type": "markdown",
   "metadata": {},
   "source": [
    "# Heterokaryon Peaks Comparison\n",
    "\n",
    "Comparing peaks in early stages of sendai reprogramming with heterokaryon reprogramming. Using binary peak (present/not present) instead of counts."
   ]
  },
  {
   "cell_type": "code",
   "execution_count": 1,
   "metadata": {},
   "outputs": [
    {
     "name": "stderr",
     "output_type": "stream",
     "text": [
      "Loading required package: S4Vectors\n",
      "\n",
      "Loading required package: stats4\n",
      "\n",
      "Loading required package: BiocGenerics\n",
      "\n",
      "Loading required package: parallel\n",
      "\n",
      "\n",
      "Attaching package: ‘BiocGenerics’\n",
      "\n",
      "\n",
      "The following objects are masked from ‘package:parallel’:\n",
      "\n",
      "    clusterApply, clusterApplyLB, clusterCall, clusterEvalQ,\n",
      "    clusterExport, clusterMap, parApply, parCapply, parLapply,\n",
      "    parLapplyLB, parRapply, parSapply, parSapplyLB\n",
      "\n",
      "\n",
      "The following objects are masked from ‘package:stats’:\n",
      "\n",
      "    IQR, mad, sd, var, xtabs\n",
      "\n",
      "\n",
      "The following objects are masked from ‘package:base’:\n",
      "\n",
      "    anyDuplicated, append, as.data.frame, basename, cbind, colMeans,\n",
      "    colnames, colSums, dirname, do.call, duplicated, eval, evalq,\n",
      "    Filter, Find, get, grep, grepl, intersect, is.unsorted, lapply,\n",
      "    lengths, Map, mapply, match, mget, order, paste, pmax, pmax.int,\n",
      "    pmin, pmin.int, Position, rank, rbind, Reduce, rowMeans, rownames,\n",
      "    rowSums, sapply, setdiff, sort, table, tapply, union, unique,\n",
      "    unsplit, which, which.max, which.min\n",
      "\n",
      "\n",
      "\n",
      "Attaching package: ‘S4Vectors’\n",
      "\n",
      "\n",
      "The following object is masked from ‘package:base’:\n",
      "\n",
      "    expand.grid\n",
      "\n",
      "\n",
      "Loading required package: IRanges\n",
      "\n",
      "Loading required package: GenomicRanges\n",
      "\n",
      "Loading required package: GenomeInfoDb\n",
      "\n",
      "Loading required package: SummarizedExperiment\n",
      "\n",
      "Loading required package: Biobase\n",
      "\n",
      "Welcome to Bioconductor\n",
      "\n",
      "    Vignettes contain introductory material; view with\n",
      "    'browseVignettes()'. To cite Bioconductor, see\n",
      "    'citation(\"Biobase\")', and for packages 'citation(\"pkgname\")'.\n",
      "\n",
      "\n",
      "Loading required package: DelayedArray\n",
      "\n",
      "Loading required package: matrixStats\n",
      "\n",
      "\n",
      "Attaching package: ‘matrixStats’\n",
      "\n",
      "\n",
      "The following objects are masked from ‘package:Biobase’:\n",
      "\n",
      "    anyMissing, rowMedians\n",
      "\n",
      "\n",
      "Loading required package: BiocParallel\n",
      "\n",
      "\n",
      "Attaching package: ‘DelayedArray’\n",
      "\n",
      "\n",
      "The following objects are masked from ‘package:matrixStats’:\n",
      "\n",
      "    colMaxs, colMins, colRanges, rowMaxs, rowMins, rowRanges\n",
      "\n",
      "\n",
      "The following objects are masked from ‘package:base’:\n",
      "\n",
      "    aperm, apply\n",
      "\n",
      "\n"
     ]
    }
   ],
   "source": [
    "library(DESeq2)\n",
    "library(ggplot2)\n",
    "library(ggrepel)\n",
    "library(reshape2)\n",
    "library(parallel)"
   ]
  },
  {
   "cell_type": "code",
   "execution_count": 186,
   "metadata": {},
   "outputs": [
    {
     "data": {
      "text/html": [
       "<table>\n",
       "<caption>A matrix: 2 × 11 of type dbl</caption>\n",
       "<thead>\n",
       "\t<tr><th></th><th scope=col>D0</th><th scope=col>D2</th><th scope=col>iPSC</th><th scope=col>batch1.nodox.MRC5</th><th scope=col>batch1.nodox.CC</th><th scope=col>batch1.nodox.3hr</th><th scope=col>batch1.nodox.16hr</th><th scope=col>batch2.dn.MRC5</th><th scope=col>batch2.dn.CC</th><th scope=col>batch2.dn.3hr</th><th scope=col>batch2.dn.16hr</th></tr>\n",
       "</thead>\n",
       "<tbody>\n",
       "\t<tr><th scope=row>chr1\t196299\t196803</th><td>1</td><td>1</td><td>0</td><td>0</td><td>0</td><td>0</td><td>0</td><td>0</td><td>0</td><td>0</td><td>0</td></tr>\n",
       "\t<tr><th scope=row>chr1\t502420\t502920</th><td>0</td><td>0</td><td>0</td><td>0</td><td>0</td><td>0</td><td>0</td><td>1</td><td>0</td><td>0</td><td>0</td></tr>\n",
       "</tbody>\n",
       "</table>\n"
      ],
      "text/latex": [
       "A matrix: 2 × 11 of type dbl\n",
       "\\begin{tabular}{r|lllllllllll}\n",
       "  & D0 & D2 & iPSC & batch1.nodox.MRC5 & batch1.nodox.CC & batch1.nodox.3hr & batch1.nodox.16hr & batch2.dn.MRC5 & batch2.dn.CC & batch2.dn.3hr & batch2.dn.16hr\\\\\n",
       "\\hline\n",
       "\tchr1\t196299\t196803 & 1 & 1 & 0 & 0 & 0 & 0 & 0 & 0 & 0 & 0 & 0\\\\\n",
       "\tchr1\t502420\t502920 & 0 & 0 & 0 & 0 & 0 & 0 & 0 & 1 & 0 & 0 & 0\\\\\n",
       "\\end{tabular}\n"
      ],
      "text/markdown": [
       "\n",
       "A matrix: 2 × 11 of type dbl\n",
       "\n",
       "| <!--/--> | D0 | D2 | iPSC | batch1.nodox.MRC5 | batch1.nodox.CC | batch1.nodox.3hr | batch1.nodox.16hr | batch2.dn.MRC5 | batch2.dn.CC | batch2.dn.3hr | batch2.dn.16hr |\n",
       "|---|---|---|---|---|---|---|---|---|---|---|---|\n",
       "| chr1\t196299\t196803 | 1 | 1 | 0 | 0 | 0 | 0 | 0 | 0 | 0 | 0 | 0 |\n",
       "| chr1\t502420\t502920 | 0 | 0 | 0 | 0 | 0 | 0 | 0 | 1 | 0 | 0 | 0 |\n",
       "\n"
      ],
      "text/plain": [
       "                     D0 D2 iPSC batch1.nodox.MRC5 batch1.nodox.CC\n",
       "chr1\\t196299\\t196803 1  1  0    0                 0              \n",
       "chr1\\t502420\\t502920 0  0  0    0                 0              \n",
       "                     batch1.nodox.3hr batch1.nodox.16hr batch2.dn.MRC5\n",
       "chr1\\t196299\\t196803 0                0                 0             \n",
       "chr1\\t502420\\t502920 0                0                 1             \n",
       "                     batch2.dn.CC batch2.dn.3hr batch2.dn.16hr\n",
       "chr1\\t196299\\t196803 0            0             0             \n",
       "chr1\\t502420\\t502920 0            0             0             "
      ]
     },
     "metadata": {},
     "output_type": "display_data"
    },
    {
     "data": {
      "text/html": [
       "<style>\n",
       ".list-inline {list-style: none; margin:0; padding: 0}\n",
       ".list-inline>li {display: inline-block}\n",
       ".list-inline>li:not(:last-child)::after {content: \"\\00b7\"; padding: 0 .5ex}\n",
       "</style>\n",
       "<ol class=list-inline><li>204556</li><li>11</li></ol>\n"
      ],
      "text/latex": [
       "\\begin{enumerate*}\n",
       "\\item 204556\n",
       "\\item 11\n",
       "\\end{enumerate*}\n"
      ],
      "text/markdown": [
       "1. 204556\n",
       "2. 11\n",
       "\n",
       "\n"
      ],
      "text/plain": [
       "[1] 204556     11"
      ]
     },
     "metadata": {},
     "output_type": "display_data"
    }
   ],
   "source": [
    "cts <- read.csv(\"./data/scATAC.het.binary.peak.idr.500bp.txt\",sep=\"\\t\")\n",
    "rownames(cts)=paste(cts$chr,cts$start,cts$end,sep='\\t')\n",
    "cts$chrom = NULL\n",
    "cts$start = NULL\n",
    "cts$end = NULL\n",
    "cts = ifelse(cts>0, 1, 0)\n",
    "head(cts, 2)\n",
    "dim(cts)"
   ]
  },
  {
   "cell_type": "code",
   "execution_count": 187,
   "metadata": {},
   "outputs": [
    {
     "data": {
      "text/html": [
       "<style>\n",
       ".list-inline {list-style: none; margin:0; padding: 0}\n",
       ".list-inline>li {display: inline-block}\n",
       ".list-inline>li:not(:last-child)::after {content: \"\\00b7\"; padding: 0 .5ex}\n",
       "</style>\n",
       "<ol class=list-inline><li>202612</li><li>7</li></ol>\n"
      ],
      "text/latex": [
       "\\begin{enumerate*}\n",
       "\\item 202612\n",
       "\\item 7\n",
       "\\end{enumerate*}\n"
      ],
      "text/markdown": [
       "1. 202612\n",
       "2. 7\n",
       "\n",
       "\n"
      ],
      "text/plain": [
       "[1] 202612      7"
      ]
     },
     "metadata": {},
     "output_type": "display_data"
    }
   ],
   "source": [
    "# remove batch2 for now\n",
    "cts = cts[,!grepl(\"batch2\", colnames(cts))]\n",
    "cts = cts[rowSums(cts)>0, ]\n",
    "dim(cts)"
   ]
  },
  {
   "cell_type": "code",
   "execution_count": 188,
   "metadata": {},
   "outputs": [],
   "source": [
    "library(RColorBrewer)"
   ]
  },
  {
   "cell_type": "code",
   "execution_count": 189,
   "metadata": {},
   "outputs": [],
   "source": [
    "qual_col_pals = brewer.pal.info[brewer.pal.info$category == 'qual',]\n",
    "col_vector = unlist(mapply(brewer.pal, qual_col_pals$maxcolors, rownames(qual_col_pals)))"
   ]
  },
  {
   "cell_type": "code",
   "execution_count": 190,
   "metadata": {},
   "outputs": [
    {
     "name": "stdout",
     "output_type": "stream",
     "text": [
      "[1] 40.58 18.44 16.30 10.42  7.73  6.53  0.00\n"
     ]
    }
   ],
   "source": [
    "pca = prcomp(t(cts),center=TRUE,scale=FALSE)\n",
    "pcs=data.frame(pca$x)\n",
    "pcs$ID=rownames(pcs)\n",
    "pcs$clust_num = colnames(cts)\n",
    "var_explained=round(100*pca$sdev^2/sum(pca$sdev^2),2)\n",
    "print(var_explained)"
   ]
  },
  {
   "cell_type": "code",
   "execution_count": 191,
   "metadata": {},
   "outputs": [
    {
     "data": {
      "image/png": "[encoded data removed]",
      "text/plain": [
       "plot without title"
      ]
     },
     "metadata": {
      "image/png": {
       "height": 300,
       "width": 600
      },
      "text/plain": {
       "height": 300,
       "width": 600
      }
     },
     "output_type": "display_data"
    }
   ],
   "source": [
    "options(repr.plot.width = 10, repr.plot.height = 5)\n",
    "\n",
    "ggplot(data=pcs,aes(x=PC1,y=PC2,color=as.factor(clust_num),label=ID))+\n",
    "geom_point(size=5)+\n",
    "scale_colour_manual(values = col_vector[seq(50,67)]) +\n",
    "geom_text(size=5, nudge_x=50)+\n",
    "labs(x=sprintf(\"PC1 (var explained: %.2f)\", var_explained[1]), y = sprintf(\"PC2 (var explained: %.2f)\", var_explained[2]))"
   ]
  },
  {
   "cell_type": "code",
   "execution_count": 192,
   "metadata": {},
   "outputs": [
    {
     "data": {
      "text/html": [
       "<style>\n",
       ".dl-inline {width: auto; margin:0; padding: 0}\n",
       ".dl-inline>dt, .dl-inline>dd {float: none; width: auto; display: inline-block}\n",
       ".dl-inline>dt::after {content: \":\\0020\"; padding-right: .5ex}\n",
       ".dl-inline>dt:not(:first-of-type) {padding-left: .5ex}\n",
       "</style><dl class=dl-inline><dt>D0</dt><dd>88117</dd><dt>D2</dt><dd>64787</dd><dt>iPSC</dt><dd>103033</dd><dt>batch1.nodox.MRC5</dt><dd>103321</dd><dt>batch1.nodox.CC</dt><dd>61108</dd><dt>batch1.nodox.3hr</dt><dd>64136</dd><dt>batch1.nodox.16hr</dt><dd>58628</dd></dl>\n"
      ],
      "text/latex": [
       "\\begin{description*}\n",
       "\\item[D0] 88117\n",
       "\\item[D2] 64787\n",
       "\\item[iPSC] 103033\n",
       "\\item[batch1.nodox.MRC5] 103321\n",
       "\\item[batch1.nodox.CC] 61108\n",
       "\\item[batch1.nodox.3hr] 64136\n",
       "\\item[batch1.nodox.16hr] 58628\n",
       "\\end{description*}\n"
      ],
      "text/markdown": [
       "D0\n",
       ":   88117D2\n",
       ":   64787iPSC\n",
       ":   103033batch1.nodox.MRC5\n",
       ":   103321batch1.nodox.CC\n",
       ":   61108batch1.nodox.3hr\n",
       ":   64136batch1.nodox.16hr\n",
       ":   58628\n",
       "\n"
      ],
      "text/plain": [
       "               D0                D2              iPSC batch1.nodox.MRC5 \n",
       "            88117             64787            103033            103321 \n",
       "  batch1.nodox.CC  batch1.nodox.3hr batch1.nodox.16hr \n",
       "            61108             64136             58628 "
      ]
     },
     "metadata": {},
     "output_type": "display_data"
    }
   ],
   "source": [
    "colSums(cts)"
   ]
  },
  {
   "cell_type": "markdown",
   "metadata": {},
   "source": [
    "## Clustering"
   ]
  },
  {
   "cell_type": "code",
   "execution_count": 193,
   "metadata": {},
   "outputs": [],
   "source": [
    "library(ClusterR)\n",
    "library(viridis)\n",
    "library(scales)"
   ]
  },
  {
   "cell_type": "code",
   "execution_count": 210,
   "metadata": {},
   "outputs": [],
   "source": [
    "cts_to_cluster = cts[, c(\"D0\", \"batch1.nodox.3hr\", \"D2\", \"batch1.nodox.16hr\", \"iPSC\")]\n",
    "SAMPLES_TO_CLUSTER = c(\"D0\", \"batch1.nodox.3hr\", \"D2\", \"batch1.nodox.16hr\")\n",
    "# take only those that have at least one peak\n",
    "cts_to_cluster = cts_to_cluster[rowSums(cts_to_cluster[, SAMPLES_TO_CLUSTER])>0, ]"
   ]
  },
  {
   "cell_type": "code",
   "execution_count": 211,
   "metadata": {},
   "outputs": [],
   "source": [
    "compute_decimal <- function(x) {\n",
    "    val = x[,1]\n",
    "    for (i in seq(2,ncol(x))) {\n",
    "        val = 2*val + x[,i]\n",
    "    }\n",
    "    \n",
    "    val\n",
    "}"
   ]
  },
  {
   "cell_type": "code",
   "execution_count": 212,
   "metadata": {},
   "outputs": [],
   "source": [
    "# reorder based on hierarchical clustering\n",
    "pr_mb = compute_decimal(cts_to_cluster[, SAMPLES_TO_CLUSTER])"
   ]
  },
  {
   "cell_type": "code",
   "execution_count": 213,
   "metadata": {},
   "outputs": [],
   "source": [
    "# no hierarchical clustering, follow order of km_mb$centroids\n",
    "# pr_mb = predict_MBatchKMeans(cts_to_cluster, km_mb$centroids)"
   ]
  },
  {
   "cell_type": "code",
   "execution_count": 214,
   "metadata": {},
   "outputs": [
    {
     "data": {
      "text/plain": [
       "pr_mb\n",
       "    1     2     3     4     5     6     7     8     9    10    11    12    13 \n",
       " 5113 12463   597  9194  6647   916  1268 21345  1890 12692  6079  5275 10064 \n",
       "   14    15 \n",
       " 3802 26970 "
      ]
     },
     "metadata": {},
     "output_type": "display_data"
    }
   ],
   "source": [
    "table(pr_mb)"
   ]
  },
  {
   "cell_type": "code",
   "execution_count": 215,
   "metadata": {},
   "outputs": [
    {
     "data": {
      "text/html": [
       "<table>\n",
       "<caption>A matrix: 2 × 5 of type dbl</caption>\n",
       "<thead>\n",
       "\t<tr><th></th><th scope=col>D0</th><th scope=col>batch1.nodox.3hr</th><th scope=col>D2</th><th scope=col>batch1.nodox.16hr</th><th scope=col>iPSC</th></tr>\n",
       "</thead>\n",
       "<tbody>\n",
       "\t<tr><th scope=row>chr1\t3610505\t3612362</th><td>0</td><td>0</td><td>0</td><td>1</td><td>1</td></tr>\n",
       "\t<tr><th scope=row>chr1\t3613339\t3614110</th><td>0</td><td>0</td><td>0</td><td>1</td><td>1</td></tr>\n",
       "</tbody>\n",
       "</table>\n"
      ],
      "text/latex": [
       "A matrix: 2 × 5 of type dbl\n",
       "\\begin{tabular}{r|lllll}\n",
       "  & D0 & batch1.nodox.3hr & D2 & batch1.nodox.16hr & iPSC\\\\\n",
       "\\hline\n",
       "\tchr1\t3610505\t3612362 & 0 & 0 & 0 & 1 & 1\\\\\n",
       "\tchr1\t3613339\t3614110 & 0 & 0 & 0 & 1 & 1\\\\\n",
       "\\end{tabular}\n"
      ],
      "text/markdown": [
       "\n",
       "A matrix: 2 × 5 of type dbl\n",
       "\n",
       "| <!--/--> | D0 | batch1.nodox.3hr | D2 | batch1.nodox.16hr | iPSC |\n",
       "|---|---|---|---|---|---|\n",
       "| chr1\t3610505\t3612362 | 0 | 0 | 0 | 1 | 1 |\n",
       "| chr1\t3613339\t3614110 | 0 | 0 | 0 | 1 | 1 |\n",
       "\n"
      ],
      "text/plain": [
       "                       D0 batch1.nodox.3hr D2 batch1.nodox.16hr iPSC\n",
       "chr1\\t3610505\\t3612362 0  0                0  1                 1   \n",
       "chr1\\t3613339\\t3614110 0  0                0  1                 1   "
      ]
     },
     "metadata": {},
     "output_type": "display_data"
    }
   ],
   "source": [
    "# DISPLAY_ORDER = c(\"D0\", \"batch2.dn.MRC5\", \"batch2.dn.CC\", \"batch2.dn.3hr\", \"D2\", \"batch2.dn.16hr\", \"iPSC\")\n",
    "# DISPLAY_ORDER = c(\"D0\", \"batch2.dn.MRC5\", \"D2\", \"batch2.dn.16hr\", \"iPSC\")\n",
    "cts_clustered = cts_to_cluster[order(pr_mb), ]\n",
    "head(cts_clustered, 2)"
   ]
  },
  {
   "cell_type": "code",
   "execution_count": 219,
   "metadata": {},
   "outputs": [
    {
     "data": {
      "text/html": [
       "0.247604146293761"
      ],
      "text/latex": [
       "0.247604146293761"
      ],
      "text/markdown": [
       "0.247604146293761"
      ],
      "text/plain": [
       "[1] 0.2476041"
      ]
     },
     "metadata": {},
     "output_type": "display_data"
    }
   ],
   "source": [
    "mean(cts_to_cluster[which(pr_mb==1), \"iPSC\"])"
   ]
  },
  {
   "cell_type": "code",
   "execution_count": 217,
   "metadata": {},
   "outputs": [
    {
     "data": {
      "image/png": "[encoded data removed]",
      "text/plain": [
       "plot without title"
      ]
     },
     "metadata": {
      "image/png": {
       "height": 600,
       "width": 600
      },
      "text/plain": {
       "height": 600,
       "width": 600
      }
     },
     "output_type": "display_data"
    }
   ],
   "source": [
    "options(repr.plot.width = 10, repr.plot.height = 10)\n",
    "\n",
    "idxs = seq(1, nrow(cts_clustered), 100) # if subsample\n",
    "ggplot(data = melt(cts_clustered[idxs, ]), \n",
    "       mapping = aes(x = Var2,\n",
    "                     y = Var1,\n",
    "                     fill = value)) +\n",
    "geom_tile()  + ylab(NULL) + xlab(\"Condition\") +  \n",
    "geom_raster(aes(fill=value)) +\n",
    "# scale_fill_viridis(limits=c(0, 1), oob=squish, option = \"A\") +\n",
    "# scale_fill_viridis(option=\"A\") + \n",
    "# scale_fill_gradient2(low=\"red\", mid=\"black\", high=\"blue\") +\n",
    "facet_grid(sort(pr_mb)[idxs] ~ ., switch = \"y\", scales = \"free_y\", space = \"free_y\") +\n",
    "# theme_classic() +\n",
    "theme(axis.text.x=element_text(angle=90,hjust=1),\n",
    "      axis.text.y=element_blank(),\n",
    "      axis.ticks.y=element_blank(),\n",
    "      panel.spacing.y = unit(0.1, \"cm\"))\n",
    "#       strip.text.y = element_text(size = 3))  \n",
    "#       strip.background = element_rect(size = 0.1))\n",
    "\n",
    "# ggsave(sprintf(\"figs/%s_tmp_heatmap_batch2_dn_D0_MRC5_D2_16hr_sorted_n%d.jpeg\", format(Sys.Date(), format='%Y%m%d'), length(table(pr_mb))),\n",
    "#        dpi=1000)"
   ]
  },
  {
   "cell_type": "markdown",
   "metadata": {},
   "source": [
    "## Writing BED files for some clusters"
   ]
  },
  {
   "cell_type": "code",
   "execution_count": 204,
   "metadata": {},
   "outputs": [
    {
     "data": {
      "text/html": [
       "'beds/20200314_binary_idr_500bp_D0_CC_D2_16hr_n15/idx1.bed'"
      ],
      "text/latex": [
       "'beds/20200314\\_binary\\_idr\\_500bp\\_D0\\_CC\\_D2\\_16hr\\_n15/idx1.bed'"
      ],
      "text/markdown": [
       "'beds/20200314_binary_idr_500bp_D0_CC_D2_16hr_n15/idx1.bed'"
      ],
      "text/plain": [
       "[1] \"beds/20200314_binary_idr_500bp_D0_CC_D2_16hr_n15/idx1.bed\""
      ]
     },
     "metadata": {},
     "output_type": "display_data"
    }
   ],
   "source": [
    "CLUSTER_IDX = 1\n",
    "NORM = 'binary_idr_500bp_D0_CC_D2_16hr'\n",
    "BED_PATH = sprintf(\"beds/%s_%s_n%d/idx%d.bed\", format(Sys.Date(), format='%Y%m%d'), NORM, length(table(pr_mb)), CLUSTER_IDX)\n",
    "# rownames(vsd_assay_to_cluster_normalized)[(which(pr_mb==CLUSTER_IDX))]\n",
    "BED_PATH"
   ]
  },
  {
   "cell_type": "code",
   "execution_count": 206,
   "metadata": {},
   "outputs": [],
   "source": [
    "for (i in seq(1,length(table(pr_mb)))){\n",
    "BED_PATH = sprintf(\"beds/%s_%s_n%d/idx%d.bed\", format(Sys.Date(), format='%Y%m%d'), NORM, length(table(pr_mb)), i)\n",
    "fileConn = file(BED_PATH)\n",
    "writeLines(rownames(cts_to_cluster)[(which(pr_mb==i))], fileConn)\n",
    "close(fileConn)}"
   ]
  },
  {
   "cell_type": "code",
   "execution_count": 207,
   "metadata": {},
   "outputs": [
    {
     "name": "stdout",
     "output_type": "stream",
     "text": [
      "[1] \"beds/20200314_binary_idr_500bp_D0_CC_D2_16hr_n15/all_peaks.bed\"\n"
     ]
    }
   ],
   "source": [
    "ALL_PEAKS_BED_PATH = sprintf(\"beds/%s_%s_n%d/all_peaks.bed\", format(Sys.Date(), format='%Y%m%d'), NORM, length(table(pr_mb)))\n",
    "print(ALL_PEAKS_BED_PATH)\n",
    "fileConn = file(ALL_PEAKS_BED_PATH)\n",
    "writeLines(rownames(cts_to_cluster), fileConn)\n",
    "close(fileConn)"
   ]
  },
  {
   "cell_type": "code",
   "execution_count": null,
   "metadata": {},
   "outputs": [],
   "source": []
  }
 ],
 "metadata": {
  "kernelspec": {
   "display_name": "R",
   "language": "R",
   "name": "ir"
  },
  "language_info": {
   "codemirror_mode": "r",
   "file_extension": ".r",
   "mimetype": "text/x-r-source",
   "name": "R",
   "pygments_lexer": "r",
   "version": "3.5.1"
  }
 },
 "nbformat": 4,
 "nbformat_minor": 2
}
