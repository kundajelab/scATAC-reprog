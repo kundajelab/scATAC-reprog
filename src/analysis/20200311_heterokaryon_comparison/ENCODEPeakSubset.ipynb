{
 "cells": [
  {
   "cell_type": "markdown",
   "metadata": {},
   "source": [
    "# ENCODE Subset Peaks\n",
    "\n",
    "Given a subset of peaks, find out which cells in ENCODE have highest/lowest fraction of reads in those peaks."
   ]
  },
  {
   "cell_type": "code",
   "execution_count": null,
   "metadata": {},
   "outputs": [],
   "source": [
    "library(GenomicRanges)\n",
    "library(DESeq2)"
   ]
  },
  {
   "cell_type": "code",
   "execution_count": 5,
   "metadata": {},
   "outputs": [
    {
     "data": {
      "text/html": [
       "<table>\n",
       "<caption>A data.frame: 2 × 622</caption>\n",
       "<thead>\n",
       "\t<tr><th></th><th scope=col>ENCSR000EID</th><th scope=col>ENCSR000EIE</th><th scope=col>ENCSR000EIF</th><th scope=col>ENCSR000EIG</th><th scope=col>ENCSR000EII</th><th scope=col>ENCSR000EIL</th><th scope=col>ENCSR000EIN</th><th scope=col>ENCSR000EIV</th><th scope=col>ENCSR000EIW</th><th scope=col>ENCSR000EIY</th><th scope=col>⋯</th><th scope=col>ENCSR974TXT</th><th scope=col>ENCSR976XOY</th><th scope=col>ENCSR978QUT</th><th scope=col>ENCSR979ZJS</th><th scope=col>ENCSR986HEN</th><th scope=col>ENCSR986XLW</th><th scope=col>ENCSR988YKR</th><th scope=col>ENCSR989YIV</th><th scope=col>ENCSR990XXC</th><th scope=col>ENCSR999TSD</th></tr>\n",
       "\t<tr><th></th><th scope=col>&lt;int&gt;</th><th scope=col>&lt;int&gt;</th><th scope=col>&lt;int&gt;</th><th scope=col>&lt;int&gt;</th><th scope=col>&lt;int&gt;</th><th scope=col>&lt;int&gt;</th><th scope=col>&lt;int&gt;</th><th scope=col>&lt;int&gt;</th><th scope=col>&lt;int&gt;</th><th scope=col>&lt;int&gt;</th><th scope=col>⋯</th><th scope=col>&lt;int&gt;</th><th scope=col>&lt;int&gt;</th><th scope=col>&lt;int&gt;</th><th scope=col>&lt;int&gt;</th><th scope=col>&lt;int&gt;</th><th scope=col>&lt;int&gt;</th><th scope=col>&lt;int&gt;</th><th scope=col>&lt;int&gt;</th><th scope=col>&lt;int&gt;</th><th scope=col>&lt;int&gt;</th></tr>\n",
       "</thead>\n",
       "<tbody>\n",
       "\t<tr><th scope=row>chr1\t10370\t10641</th><td>28</td><td>9</td><td>17</td><td>8</td><td>49</td><td>28</td><td>7</td><td>11</td><td>20</td><td>33</td><td>⋯</td><td>2</td><td>1</td><td>0</td><td>3</td><td>2</td><td>12</td><td>0</td><td>15</td><td>3</td><td>1</td></tr>\n",
       "\t<tr><th scope=row>chr1\t10711\t11232</th><td>12</td><td>9</td><td> 5</td><td>9</td><td>44</td><td>39</td><td>2</td><td> 7</td><td>13</td><td>27</td><td>⋯</td><td>0</td><td>1</td><td>0</td><td>1</td><td>1</td><td> 2</td><td>0</td><td> 9</td><td>1</td><td>0</td></tr>\n",
       "</tbody>\n",
       "</table>\n"
      ],
      "text/latex": [
       "A data.frame: 2 × 622\n",
       "\\begin{tabular}{r|lllllllllllllllllllll}\n",
       "  & ENCSR000EID & ENCSR000EIE & ENCSR000EIF & ENCSR000EIG & ENCSR000EII & ENCSR000EIL & ENCSR000EIN & ENCSR000EIV & ENCSR000EIW & ENCSR000EIY & ⋯ & ENCSR974TXT & ENCSR976XOY & ENCSR978QUT & ENCSR979ZJS & ENCSR986HEN & ENCSR986XLW & ENCSR988YKR & ENCSR989YIV & ENCSR990XXC & ENCSR999TSD\\\\\n",
       "  & <int> & <int> & <int> & <int> & <int> & <int> & <int> & <int> & <int> & <int> & ⋯ & <int> & <int> & <int> & <int> & <int> & <int> & <int> & <int> & <int> & <int>\\\\\n",
       "\\hline\n",
       "\tchr1\t10370\t10641 & 28 & 9 & 17 & 8 & 49 & 28 & 7 & 11 & 20 & 33 & ⋯ & 2 & 1 & 0 & 3 & 2 & 12 & 0 & 15 & 3 & 1\\\\\n",
       "\tchr1\t10711\t11232 & 12 & 9 &  5 & 9 & 44 & 39 & 2 &  7 & 13 & 27 & ⋯ & 0 & 1 & 0 & 1 & 1 &  2 & 0 &  9 & 1 & 0\\\\\n",
       "\\end{tabular}\n"
      ],
      "text/markdown": [
       "\n",
       "A data.frame: 2 × 622\n",
       "\n",
       "| <!--/--> | ENCSR000EID &lt;int&gt; | ENCSR000EIE &lt;int&gt; | ENCSR000EIF &lt;int&gt; | ENCSR000EIG &lt;int&gt; | ENCSR000EII &lt;int&gt; | ENCSR000EIL &lt;int&gt; | ENCSR000EIN &lt;int&gt; | ENCSR000EIV &lt;int&gt; | ENCSR000EIW &lt;int&gt; | ENCSR000EIY &lt;int&gt; | ⋯ ⋯ | ENCSR974TXT &lt;int&gt; | ENCSR976XOY &lt;int&gt; | ENCSR978QUT &lt;int&gt; | ENCSR979ZJS &lt;int&gt; | ENCSR986HEN &lt;int&gt; | ENCSR986XLW &lt;int&gt; | ENCSR988YKR &lt;int&gt; | ENCSR989YIV &lt;int&gt; | ENCSR990XXC &lt;int&gt; | ENCSR999TSD &lt;int&gt; |\n",
       "|---|---|---|---|---|---|---|---|---|---|---|---|---|---|---|---|---|---|---|---|---|---|\n",
       "| chr1\t10370\t10641 | 28 | 9 | 17 | 8 | 49 | 28 | 7 | 11 | 20 | 33 | ⋯ | 2 | 1 | 0 | 3 | 2 | 12 | 0 | 15 | 3 | 1 |\n",
       "| chr1\t10711\t11232 | 12 | 9 |  5 | 9 | 44 | 39 | 2 |  7 | 13 | 27 | ⋯ | 0 | 1 | 0 | 1 | 1 |  2 | 0 |  9 | 1 | 0 |\n",
       "\n"
      ],
      "text/plain": [
       "                   ENCSR000EID ENCSR000EIE ENCSR000EIF ENCSR000EIG ENCSR000EII\n",
       "chr1\\t10370\\t10641 28          9           17          8           49         \n",
       "chr1\\t10711\\t11232 12          9            5          9           44         \n",
       "                   ENCSR000EIL ENCSR000EIN ENCSR000EIV ENCSR000EIW ENCSR000EIY\n",
       "chr1\\t10370\\t10641 28          7           11          20          33         \n",
       "chr1\\t10711\\t11232 39          2            7          13          27         \n",
       "                   ⋯ ENCSR974TXT ENCSR976XOY ENCSR978QUT ENCSR979ZJS\n",
       "chr1\\t10370\\t10641 ⋯ 2           1           0           3          \n",
       "chr1\\t10711\\t11232 ⋯ 0           1           0           1          \n",
       "                   ENCSR986HEN ENCSR986XLW ENCSR988YKR ENCSR989YIV ENCSR990XXC\n",
       "chr1\\t10370\\t10641 2           12          0           15          3          \n",
       "chr1\\t10711\\t11232 1            2          0            9          1          \n",
       "                   ENCSR999TSD\n",
       "chr1\\t10370\\t10641 1          \n",
       "chr1\\t10711\\t11232 0          "
      ]
     },
     "metadata": {},
     "output_type": "display_data"
    },
    {
     "data": {
      "text/html": [
       "<style>\n",
       ".list-inline {list-style: none; margin:0; padding: 0}\n",
       ".list-inline>li {display: inline-block}\n",
       ".list-inline>li:not(:last-child)::after {content: \"\\00b7\"; padding: 0 .5ex}\n",
       "</style>\n",
       "<ol class=list-inline><li>2027128</li><li>622</li></ol>\n"
      ],
      "text/latex": [
       "\\begin{enumerate*}\n",
       "\\item 2027128\n",
       "\\item 622\n",
       "\\end{enumerate*}\n"
      ],
      "text/markdown": [
       "1. 2027128\n",
       "2. 622\n",
       "\n",
       "\n"
      ],
      "text/plain": [
       "[1] 2027128     622"
      ]
     },
     "metadata": {},
     "output_type": "display_data"
    }
   ],
   "source": [
    "# load encode counts matrix\n",
    "cts <- read.csv(\"/oak/stanford/groups/akundaje/projects/atlas/counts_matrices/atlas.dnase.overlap.counts.txt\",sep=\"\\t\")\n",
    "rownames(cts)=paste(cts$chr,cts$start,cts$end,sep='\\t')\n",
    "cts$chrom = NULL\n",
    "cts$start = NULL\n",
    "cts$end = NULL\n",
    "head(cts, 2)\n",
    "dim(cts)"
   ]
  },
  {
   "cell_type": "code",
   "execution_count": 6,
   "metadata": {},
   "outputs": [],
   "source": [
    "encode_peaks_gr = GRanges(sub(\"\\t\", \"-\", sub(\"\\t\", \":\", rownames(cts))))"
   ]
  },
  {
   "cell_type": "code",
   "execution_count": 7,
   "metadata": {},
   "outputs": [
    {
     "data": {
      "text/plain": [
       "GRanges object with 6 ranges and 0 metadata columns:\n",
       "      seqnames      ranges strand\n",
       "         <Rle>   <IRanges>  <Rle>\n",
       "  [1]     chr1 10370-10641      *\n",
       "  [2]     chr1 10711-11232      *\n",
       "  [3]     chr1 11308-11533      *\n",
       "  [4]     chr1 14499-14700      *\n",
       "  [5]     chr1 16142-16349      *\n",
       "  [6]     chr1 25958-26158      *\n",
       "  -------\n",
       "  seqinfo: 24 sequences from an unspecified genome; no seqlengths"
      ]
     },
     "metadata": {},
     "output_type": "display_data"
    }
   ],
   "source": [
    "head(encode_peaks_gr)"
   ]
  },
  {
   "cell_type": "code",
   "execution_count": null,
   "metadata": {},
   "outputs": [],
   "source": [
    "norm_cts = t(t(cts)/estimateSizeFactorsForMatrix(cts))"
   ]
  },
  {
   "cell_type": "code",
   "execution_count": 23,
   "metadata": {},
   "outputs": [
    {
     "data": {
      "image/png": "[encoded data removed]",
      "text/plain": [
       "Plot with title “Histogram of log10(colSums(cts))”"
      ]
     },
     "metadata": {
      "image/png": {
       "height": 420,
       "width": 420
      },
      "text/plain": {
       "height": 420,
       "width": 420
      }
     },
     "output_type": "display_data"
    }
   ],
   "source": [
    "hist(log10(colSums(cts)))"
   ]
  },
  {
   "cell_type": "code",
   "execution_count": 24,
   "metadata": {},
   "outputs": [
    {
     "data": {
      "image/png": "[encoded data removed]",
      "text/plain": [
       "Plot with title “Histogram of log10(colSums(norm_cts))”"
      ]
     },
     "metadata": {
      "image/png": {
       "height": 420,
       "width": 420
      },
      "text/plain": {
       "height": 420,
       "width": 420
      }
     },
     "output_type": "display_data"
    }
   ],
   "source": [
    "hist(log10(colSums(norm_cts)))"
   ]
  },
  {
   "cell_type": "code",
   "execution_count": 22,
   "metadata": {},
   "outputs": [
    {
     "data": {
      "text/html": [
       "<style>\n",
       ".list-inline {list-style: none; margin:0; padding: 0}\n",
       ".list-inline>li {display: inline-block}\n",
       ".list-inline>li:not(:last-child)::after {content: \"\\00b7\"; padding: 0 .5ex}\n",
       "</style>\n",
       "<ol class=list-inline><li>'Biosample.summary'</li><li>'Biosample.term.name'</li></ol>\n"
      ],
      "text/latex": [
       "\\begin{enumerate*}\n",
       "\\item 'Biosample.summary'\n",
       "\\item 'Biosample.term.name'\n",
       "\\end{enumerate*}\n"
      ],
      "text/markdown": [
       "1. 'Biosample.summary'\n",
       "2. 'Biosample.term.name'\n",
       "\n",
       "\n"
      ],
      "text/plain": [
       "[1] \"Biosample.summary\"   \"Biosample.term.name\""
      ]
     },
     "metadata": {},
     "output_type": "display_data"
    }
   ],
   "source": [
    "colnames(metadata)"
   ]
  },
  {
   "cell_type": "code",
   "execution_count": 9,
   "metadata": {},
   "outputs": [
    {
     "data": {
      "text/html": [
       "<table>\n",
       "<caption>A data.frame: 6 × 2</caption>\n",
       "<thead>\n",
       "\t<tr><th></th><th scope=col>Biosample.summary</th><th scope=col>Biosample.term.name</th></tr>\n",
       "\t<tr><th></th><th scope=col>&lt;fct&gt;</th><th scope=col>&lt;fct&gt;</th></tr>\n",
       "</thead>\n",
       "<tbody>\n",
       "\t<tr><th scope=row>ENCSR728BAD</th><td>adrenal gland male embryo (108 days)                                  </td><td>adrenal gland                   </td></tr>\n",
       "\t<tr><th scope=row>ENCSR724CND</th><td>foreskin keratinocyte male newborn                                    </td><td>foreskin keratinocyte           </td></tr>\n",
       "\t<tr><th scope=row>ENCSR770DEN</th><td>fibroblast of skin of scalp male embryo (97 days)                     </td><td>fibroblast of skin of scalp     </td></tr>\n",
       "\t<tr><th scope=row>ENCSR594OWA</th><td>small intestine male embryo (91 day)                                  </td><td>small intestine                 </td></tr>\n",
       "\t<tr><th scope=row>ENCSR325LYJ</th><td>fibroblast of skin of upper back male embryo (97 days)                </td><td>fibroblast of skin of upper back</td></tr>\n",
       "\t<tr><th scope=row>ENCSR257CIZ</th><td>kidney tubule cell female adult (80 years) treated with 5 μM cisplatin</td><td>kidney tubule cell              </td></tr>\n",
       "</tbody>\n",
       "</table>\n"
      ],
      "text/latex": [
       "A data.frame: 6 × 2\n",
       "\\begin{tabular}{r|ll}\n",
       "  & Biosample.summary & Biosample.term.name\\\\\n",
       "  & <fct> & <fct>\\\\\n",
       "\\hline\n",
       "\tENCSR728BAD & adrenal gland male embryo (108 days)                                   & adrenal gland                   \\\\\n",
       "\tENCSR724CND & foreskin keratinocyte male newborn                                     & foreskin keratinocyte           \\\\\n",
       "\tENCSR770DEN & fibroblast of skin of scalp male embryo (97 days)                      & fibroblast of skin of scalp     \\\\\n",
       "\tENCSR594OWA & small intestine male embryo (91 day)                                   & small intestine                 \\\\\n",
       "\tENCSR325LYJ & fibroblast of skin of upper back male embryo (97 days)                 & fibroblast of skin of upper back\\\\\n",
       "\tENCSR257CIZ & kidney tubule cell female adult (80 years) treated with 5 μM cisplatin & kidney tubule cell              \\\\\n",
       "\\end{tabular}\n"
      ],
      "text/markdown": [
       "\n",
       "A data.frame: 6 × 2\n",
       "\n",
       "| <!--/--> | Biosample.summary &lt;fct&gt; | Biosample.term.name &lt;fct&gt; |\n",
       "|---|---|---|\n",
       "| ENCSR728BAD | adrenal gland male embryo (108 days)                                   | adrenal gland                    |\n",
       "| ENCSR724CND | foreskin keratinocyte male newborn                                     | foreskin keratinocyte            |\n",
       "| ENCSR770DEN | fibroblast of skin of scalp male embryo (97 days)                      | fibroblast of skin of scalp      |\n",
       "| ENCSR594OWA | small intestine male embryo (91 day)                                   | small intestine                  |\n",
       "| ENCSR325LYJ | fibroblast of skin of upper back male embryo (97 days)                 | fibroblast of skin of upper back |\n",
       "| ENCSR257CIZ | kidney tubule cell female adult (80 years) treated with 5 μM cisplatin | kidney tubule cell               |\n",
       "\n"
      ],
      "text/plain": [
       "            Biosample.summary                                                     \n",
       "ENCSR728BAD adrenal gland male embryo (108 days)                                  \n",
       "ENCSR724CND foreskin keratinocyte male newborn                                    \n",
       "ENCSR770DEN fibroblast of skin of scalp male embryo (97 days)                     \n",
       "ENCSR594OWA small intestine male embryo (91 day)                                  \n",
       "ENCSR325LYJ fibroblast of skin of upper back male embryo (97 days)                \n",
       "ENCSR257CIZ kidney tubule cell female adult (80 years) treated with 5 μM cisplatin\n",
       "            Biosample.term.name             \n",
       "ENCSR728BAD adrenal gland                   \n",
       "ENCSR724CND foreskin keratinocyte           \n",
       "ENCSR770DEN fibroblast of skin of scalp     \n",
       "ENCSR594OWA small intestine                 \n",
       "ENCSR325LYJ fibroblast of skin of upper back\n",
       "ENCSR257CIZ kidney tubule cell              "
      ]
     },
     "metadata": {},
     "output_type": "display_data"
    }
   ],
   "source": [
    "# ENCODE metadata\n",
    "metadata = read.delim(\"/oak/stanford/groups/akundaje/projects/atlas/dnase_experiments_metadata.tsv\", \n",
    "                      sep=\"\\t\",\n",
    "                     skip=1,\n",
    "                     header=T,\n",
    "                     fill=T)\n",
    "metadata = metadata[, c(\"Accession\", \"Biosample.summary\", \"Biosample.term.name\")]\n",
    "rownames(metadata) = metadata$Accession\n",
    "metadata$Accession = NULL\n",
    "head(metadata)"
   ]
  },
  {
   "cell_type": "code",
   "execution_count": 65,
   "metadata": {},
   "outputs": [
    {
     "data": {
      "text/plain": [
       "GRanges object with 6 ranges and 0 metadata columns:\n",
       "      seqnames          ranges strand\n",
       "         <Rle>       <IRanges>  <Rle>\n",
       "  [1]     chr1 1094825-1095170      *\n",
       "  [2]     chr1 1191662-1192082      *\n",
       "  [3]     chr1 1222306-1222544      *\n",
       "  [4]     chr1 1261227-1261590      *\n",
       "  [5]     chr1 1421667-1421867      *\n",
       "  [6]     chr1 1557055-1557256      *\n",
       "  -------\n",
       "  seqinfo: 24 sequences from an unspecified genome; no seqlengths"
      ]
     },
     "metadata": {},
     "output_type": "display_data"
    }
   ],
   "source": [
    "# ref peaks\n",
    "# peak_set = read.table(\"./beds/20200313_heatmap_qn_D0_CC_D2_16hr_sorted_n15/idx8.bed\",\n",
    "peak_set = read.table(\"../20200307_fine_clustering/beds/20200307_gridmap_naive_n15/idx8.bed\",\n",
    "                      header=F, sep='')\n",
    "colnames(peak_set) = c(\"chr\", \"start\", \"end\")\n",
    "peak_set = makeGRangesFromDataFrame(peak_set)\n",
    "head(peak_set)"
   ]
  },
  {
   "cell_type": "code",
   "execution_count": 66,
   "metadata": {},
   "outputs": [
    {
     "data": {
      "text/plain": [
       "Hits object with 24936 hits and 0 metadata columns:\n",
       "          queryHits subjectHits\n",
       "          <integer>   <integer>\n",
       "      [1]       324           1\n",
       "      [2]       415           3\n",
       "      [3]       444           4\n",
       "      [4]       572           5\n",
       "      [5]       688           6\n",
       "      ...       ...         ...\n",
       "  [24932]   2025778       26963\n",
       "  [24933]   2025793       26964\n",
       "  [24934]   2025815       26965\n",
       "  [24935]   2025822       26966\n",
       "  [24936]   2026009       26967\n",
       "  -------\n",
       "  queryLength: 2027128 / subjectLength: 26967"
      ]
     },
     "metadata": {},
     "output_type": "display_data"
    }
   ],
   "source": [
    "overlaps = findOverlaps(encode_peaks_gr, peak_set)\n",
    "overlaps"
   ]
  },
  {
   "cell_type": "code",
   "execution_count": 67,
   "metadata": {},
   "outputs": [
    {
     "data": {
      "text/html": [
       "23922"
      ],
      "text/latex": [
       "23922"
      ],
      "text/markdown": [
       "23922"
      ],
      "text/plain": [
       "[1] 23922"
      ]
     },
     "metadata": {},
     "output_type": "display_data"
    }
   ],
   "source": [
    "length(unique(queryHits(overlaps)))"
   ]
  },
  {
   "cell_type": "code",
   "execution_count": 68,
   "metadata": {},
   "outputs": [],
   "source": [
    "frac_reads_in_peak_set = colSums(cts[unique(queryHits(overlaps)),])/colSums(cts)\n",
    "norm_reads_in_peak_set = colSums(norm_cts[unique(queryHits(overlaps)),])"
   ]
  },
  {
   "cell_type": "code",
   "execution_count": 69,
   "metadata": {},
   "outputs": [
    {
     "data": {
      "text/html": [
       "<table>\n",
       "<caption>A data.frame: 20 × 2</caption>\n",
       "<thead>\n",
       "\t<tr><th></th><th scope=col>nrip</th><th scope=col>Biosample.term.name</th></tr>\n",
       "\t<tr><th></th><th scope=col>&lt;dbl&gt;</th><th scope=col>&lt;fct&gt;</th></tr>\n",
       "</thead>\n",
       "<tbody>\n",
       "\t<tr><th scope=row>ENCSR620QNS</th><td>1291725.3</td><td>HAP-1                             </td></tr>\n",
       "\t<tr><th scope=row>ENCSR187PYY</th><td> 945433.0</td><td>brain                             </td></tr>\n",
       "\t<tr><th scope=row>ENCSR000ENO</th><td> 898431.4</td><td>HeLa-S3                           </td></tr>\n",
       "\t<tr><th scope=row>ENCSR309FOO</th><td> 883850.9</td><td>brain                             </td></tr>\n",
       "\t<tr><th scope=row>ENCSR156CLC</th><td> 849142.5</td><td>brain                             </td></tr>\n",
       "\t<tr><th scope=row>ENCSR724CND</th><td> 798063.5</td><td>foreskin keratinocyte             </td></tr>\n",
       "\t<tr><th scope=row>ENCSR649KBB</th><td> 788927.8</td><td>brain                             </td></tr>\n",
       "\t<tr><th scope=row>ENCSR000EPY</th><td> 780635.3</td><td>SK-N-MC                           </td></tr>\n",
       "\t<tr><th scope=row>ENCSR000EON</th><td> 772673.4</td><td>retinal pigment epithelial cell   </td></tr>\n",
       "\t<tr><th scope=row>ENCSR947POC</th><td> 756639.8</td><td>brain                             </td></tr>\n",
       "\t<tr><th scope=row>ENCSR000EPF</th><td> 753559.4</td><td>LNCaP clone FGC                   </td></tr>\n",
       "\t<tr><th scope=row>ENCSR914DOH</th><td> 744141.8</td><td>heart                             </td></tr>\n",
       "\t<tr><th scope=row>ENCSR533VAF</th><td> 734457.3</td><td>heart                             </td></tr>\n",
       "\t<tr><th scope=row>ENCSR000EPX</th><td> 731870.1</td><td>bronchial epithelial cell         </td></tr>\n",
       "\t<tr><th scope=row>ENCSR035RVH</th><td> 729902.7</td><td>foreskin keratinocyte             </td></tr>\n",
       "\t<tr><th scope=row>ENCSR311LLZ</th><td> 713641.0</td><td>heart                             </td></tr>\n",
       "\t<tr><th scope=row>ENCSR000EPW</th><td> 711959.7</td><td>epithelial cell of proximal tubule</td></tr>\n",
       "\t<tr><th scope=row>ENCSR000EMO</th><td> 706629.9</td><td>GM04503                           </td></tr>\n",
       "\t<tr><th scope=row>ENCSR000EPO</th><td> 704288.5</td><td>fibroblast of dermis              </td></tr>\n",
       "\t<tr><th scope=row>ENCSR318PRQ</th><td> 703473.2</td><td>middle frontal gyrus              </td></tr>\n",
       "</tbody>\n",
       "</table>\n"
      ],
      "text/latex": [
       "A data.frame: 20 × 2\n",
       "\\begin{tabular}{r|ll}\n",
       "  & nrip & Biosample.term.name\\\\\n",
       "  & <dbl> & <fct>\\\\\n",
       "\\hline\n",
       "\tENCSR620QNS & 1291725.3 & HAP-1                             \\\\\n",
       "\tENCSR187PYY &  945433.0 & brain                             \\\\\n",
       "\tENCSR000ENO &  898431.4 & HeLa-S3                           \\\\\n",
       "\tENCSR309FOO &  883850.9 & brain                             \\\\\n",
       "\tENCSR156CLC &  849142.5 & brain                             \\\\\n",
       "\tENCSR724CND &  798063.5 & foreskin keratinocyte             \\\\\n",
       "\tENCSR649KBB &  788927.8 & brain                             \\\\\n",
       "\tENCSR000EPY &  780635.3 & SK-N-MC                           \\\\\n",
       "\tENCSR000EON &  772673.4 & retinal pigment epithelial cell   \\\\\n",
       "\tENCSR947POC &  756639.8 & brain                             \\\\\n",
       "\tENCSR000EPF &  753559.4 & LNCaP clone FGC                   \\\\\n",
       "\tENCSR914DOH &  744141.8 & heart                             \\\\\n",
       "\tENCSR533VAF &  734457.3 & heart                             \\\\\n",
       "\tENCSR000EPX &  731870.1 & bronchial epithelial cell         \\\\\n",
       "\tENCSR035RVH &  729902.7 & foreskin keratinocyte             \\\\\n",
       "\tENCSR311LLZ &  713641.0 & heart                             \\\\\n",
       "\tENCSR000EPW &  711959.7 & epithelial cell of proximal tubule\\\\\n",
       "\tENCSR000EMO &  706629.9 & GM04503                           \\\\\n",
       "\tENCSR000EPO &  704288.5 & fibroblast of dermis              \\\\\n",
       "\tENCSR318PRQ &  703473.2 & middle frontal gyrus              \\\\\n",
       "\\end{tabular}\n"
      ],
      "text/markdown": [
       "\n",
       "A data.frame: 20 × 2\n",
       "\n",
       "| <!--/--> | nrip &lt;dbl&gt; | Biosample.term.name &lt;fct&gt; |\n",
       "|---|---|---|\n",
       "| ENCSR620QNS | 1291725.3 | HAP-1                              |\n",
       "| ENCSR187PYY |  945433.0 | brain                              |\n",
       "| ENCSR000ENO |  898431.4 | HeLa-S3                            |\n",
       "| ENCSR309FOO |  883850.9 | brain                              |\n",
       "| ENCSR156CLC |  849142.5 | brain                              |\n",
       "| ENCSR724CND |  798063.5 | foreskin keratinocyte              |\n",
       "| ENCSR649KBB |  788927.8 | brain                              |\n",
       "| ENCSR000EPY |  780635.3 | SK-N-MC                            |\n",
       "| ENCSR000EON |  772673.4 | retinal pigment epithelial cell    |\n",
       "| ENCSR947POC |  756639.8 | brain                              |\n",
       "| ENCSR000EPF |  753559.4 | LNCaP clone FGC                    |\n",
       "| ENCSR914DOH |  744141.8 | heart                              |\n",
       "| ENCSR533VAF |  734457.3 | heart                              |\n",
       "| ENCSR000EPX |  731870.1 | bronchial epithelial cell          |\n",
       "| ENCSR035RVH |  729902.7 | foreskin keratinocyte              |\n",
       "| ENCSR311LLZ |  713641.0 | heart                              |\n",
       "| ENCSR000EPW |  711959.7 | epithelial cell of proximal tubule |\n",
       "| ENCSR000EMO |  706629.9 | GM04503                            |\n",
       "| ENCSR000EPO |  704288.5 | fibroblast of dermis               |\n",
       "| ENCSR318PRQ |  703473.2 | middle frontal gyrus               |\n",
       "\n"
      ],
      "text/plain": [
       "            nrip      Biosample.term.name               \n",
       "ENCSR620QNS 1291725.3 HAP-1                             \n",
       "ENCSR187PYY  945433.0 brain                             \n",
       "ENCSR000ENO  898431.4 HeLa-S3                           \n",
       "ENCSR309FOO  883850.9 brain                             \n",
       "ENCSR156CLC  849142.5 brain                             \n",
       "ENCSR724CND  798063.5 foreskin keratinocyte             \n",
       "ENCSR649KBB  788927.8 brain                             \n",
       "ENCSR000EPY  780635.3 SK-N-MC                           \n",
       "ENCSR000EON  772673.4 retinal pigment epithelial cell   \n",
       "ENCSR947POC  756639.8 brain                             \n",
       "ENCSR000EPF  753559.4 LNCaP clone FGC                   \n",
       "ENCSR914DOH  744141.8 heart                             \n",
       "ENCSR533VAF  734457.3 heart                             \n",
       "ENCSR000EPX  731870.1 bronchial epithelial cell         \n",
       "ENCSR035RVH  729902.7 foreskin keratinocyte             \n",
       "ENCSR311LLZ  713641.0 heart                             \n",
       "ENCSR000EPW  711959.7 epithelial cell of proximal tubule\n",
       "ENCSR000EMO  706629.9 GM04503                           \n",
       "ENCSR000EPO  704288.5 fibroblast of dermis              \n",
       "ENCSR318PRQ  703473.2 middle frontal gyrus              "
      ]
     },
     "metadata": {},
     "output_type": "display_data"
    }
   ],
   "source": [
    "df = data.frame(nrip=norm_reads_in_peak_set,\n",
    "               metadata[names(norm_reads_in_peak_set),])\n",
    "df = df[rev(order(df$nrip)), c(\"nrip\", \"Biosample.term.name\")]\n",
    "head(df, 20)"
   ]
  },
  {
   "cell_type": "code",
   "execution_count": 70,
   "metadata": {},
   "outputs": [
    {
     "data": {
      "text/html": [
       "<table>\n",
       "<caption>A data.frame: 100 × 2</caption>\n",
       "<thead>\n",
       "\t<tr><th></th><th scope=col>percentage</th><th scope=col>Biosample.term.name</th></tr>\n",
       "\t<tr><th></th><th scope=col>&lt;dbl&gt;</th><th scope=col>&lt;fct&gt;</th></tr>\n",
       "</thead>\n",
       "<tbody>\n",
       "\t<tr><th scope=row>ENCSR620QNS</th><td>2.936823</td><td>HAP-1                                    </td></tr>\n",
       "\t<tr><th scope=row>ENCSR318PRQ</th><td>1.729539</td><td>middle frontal gyrus                     </td></tr>\n",
       "\t<tr><th scope=row>ENCSR187PYY</th><td>1.727819</td><td>brain                                    </td></tr>\n",
       "\t<tr><th scope=row>ENCSR706IDL</th><td>1.702995</td><td>midbrain                                 </td></tr>\n",
       "\t<tr><th scope=row>ENCSR015BGH</th><td>1.698855</td><td>caudate nucleus                          </td></tr>\n",
       "\t<tr><th scope=row>ENCSR420NOA</th><td>1.697262</td><td>hematopoietic multipotent progenitor cell</td></tr>\n",
       "\t<tr><th scope=row>ENCSR000EPY</th><td>1.670449</td><td>SK-N-MC                                  </td></tr>\n",
       "\t<tr><th scope=row>ENCSR859CZM</th><td>1.622089</td><td>occipital lobe                           </td></tr>\n",
       "\t<tr><th scope=row>ENCSR224IYD</th><td>1.609526</td><td>medulla oblongata                        </td></tr>\n",
       "\t<tr><th scope=row>ENCSR533VAF</th><td>1.606758</td><td>heart                                    </td></tr>\n",
       "\t<tr><th scope=row>ENCSR771DAX</th><td>1.595179</td><td>globus pallidus                          </td></tr>\n",
       "\t<tr><th scope=row>ENCSR649KBB</th><td>1.592055</td><td>brain                                    </td></tr>\n",
       "\t<tr><th scope=row>ENCSR000EPX</th><td>1.586238</td><td>bronchial epithelial cell                </td></tr>\n",
       "\t<tr><th scope=row>ENCSR937UWI</th><td>1.578629</td><td>hematopoietic multipotent progenitor cell</td></tr>\n",
       "\t<tr><th scope=row>ENCSR008SDL</th><td>1.576206</td><td>SK-MEL-5                                 </td></tr>\n",
       "\t<tr><th scope=row>ENCSR979ZJS</th><td>1.574646</td><td>transverse colon                         </td></tr>\n",
       "\t<tr><th scope=row>ENCSR314EZY</th><td>1.573472</td><td>L1-S8                                    </td></tr>\n",
       "\t<tr><th scope=row>ENCSR434OBM</th><td>1.572289</td><td>foreskin melanocyte                      </td></tr>\n",
       "\t<tr><th scope=row>ENCSR518JGY</th><td>1.552057</td><td>foreskin melanocyte                      </td></tr>\n",
       "\t<tr><th scope=row>ENCSR845CFB</th><td>1.551958</td><td>hematopoietic multipotent progenitor cell</td></tr>\n",
       "\t<tr><th scope=row>ENCSR937RVN</th><td>1.550184</td><td>muscle of leg                            </td></tr>\n",
       "\t<tr><th scope=row>ENCSR156CLC</th><td>1.548440</td><td>brain                                    </td></tr>\n",
       "\t<tr><th scope=row>ENCSR118WIQ</th><td>1.541601</td><td>brain                                    </td></tr>\n",
       "\t<tr><th scope=row>ENCSR931UQB</th><td>1.536926</td><td>small intestine                          </td></tr>\n",
       "\t<tr><th scope=row>ENCSR346JWH</th><td>1.535041</td><td>A673                                     </td></tr>\n",
       "\t<tr><th scope=row>ENCSR000EIN</th><td>1.533090</td><td>COLO829                                  </td></tr>\n",
       "\t<tr><th scope=row>ENCSR959ZXU</th><td>1.531554</td><td>HeLa-S3                                  </td></tr>\n",
       "\t<tr><th scope=row>ENCSR501FWC</th><td>1.531314</td><td>heart left ventricle                     </td></tr>\n",
       "\t<tr><th scope=row>ENCSR000EQF</th><td>1.527493</td><td>T-helper 17 cell                         </td></tr>\n",
       "\t<tr><th scope=row>ENCSR666YVE</th><td>1.526975</td><td>large intestine                          </td></tr>\n",
       "\t<tr><th scope=row>⋮</th><td>⋮</td><td>⋮</td></tr>\n",
       "\t<tr><th scope=row>ENCSR000EOM</th><td>1.445305</td><td>glomerular endothelial cell                         </td></tr>\n",
       "\t<tr><th scope=row>ENCSR420RWU</th><td>1.444496</td><td>brain                                               </td></tr>\n",
       "\t<tr><th scope=row>ENCSR911LTI</th><td>1.443726</td><td>heart                                               </td></tr>\n",
       "\t<tr><th scope=row>ENCSR136KEL</th><td>1.442141</td><td>kidney glomerular epithelial cell                   </td></tr>\n",
       "\t<tr><th scope=row>ENCSR638HMQ</th><td>1.441335</td><td>NCI-H460                                            </td></tr>\n",
       "\t<tr><th scope=row>ENCSR000EML</th><td>1.440812</td><td>naive thymus-derived CD4-positive, alpha-beta T cell</td></tr>\n",
       "\t<tr><th scope=row>ENCSR564JUY</th><td>1.440174</td><td>hematopoietic multipotent progenitor cell           </td></tr>\n",
       "\t<tr><th scope=row>ENCSR115YPI</th><td>1.439011</td><td>hematopoietic multipotent progenitor cell           </td></tr>\n",
       "\t<tr><th scope=row>ENCSR437KLY</th><td>1.435070</td><td>kidney                                              </td></tr>\n",
       "\t<tr><th scope=row>ENCSR175IWT</th><td>1.431543</td><td>kidney tubule cell                                  </td></tr>\n",
       "\t<tr><th scope=row>ENCSR228VNQ</th><td>1.429599</td><td>mammary epithelial cell                             </td></tr>\n",
       "\t<tr><th scope=row>ENCSR820XRX</th><td>1.428463</td><td>brain                                               </td></tr>\n",
       "\t<tr><th scope=row>ENCSR121ZSL</th><td>1.427483</td><td>trophoblast cell                                    </td></tr>\n",
       "\t<tr><th scope=row>ENCSR000EKM</th><td>1.426675</td><td>Ishikawa                                            </td></tr>\n",
       "\t<tr><th scope=row>ENCSR083FBK</th><td>1.426200</td><td>small intestine                                     </td></tr>\n",
       "\t<tr><th scope=row>ENCSR000ENV</th><td>1.421870</td><td>mammary epithelial cell                             </td></tr>\n",
       "\t<tr><th scope=row>ENCSR724CND</th><td>1.421202</td><td>foreskin keratinocyte                               </td></tr>\n",
       "\t<tr><th scope=row>ENCSR582IPV</th><td>1.420841</td><td>lung                                                </td></tr>\n",
       "\t<tr><th scope=row>ENCSR366EGE</th><td>1.419717</td><td>heart                                               </td></tr>\n",
       "\t<tr><th scope=row>ENCSR493IAY</th><td>1.419674</td><td>hematopoietic multipotent progenitor cell           </td></tr>\n",
       "\t<tr><th scope=row>ENCSR412NMI</th><td>1.419285</td><td>left cardiac atrium                                 </td></tr>\n",
       "\t<tr><th scope=row>ENCSR502NDK</th><td>1.417547</td><td>small intestine                                     </td></tr>\n",
       "\t<tr><th scope=row>ENCSR014FPY</th><td>1.417009</td><td>iPS DF 4.7                                          </td></tr>\n",
       "\t<tr><th scope=row>ENCSR311LLZ</th><td>1.415447</td><td>heart                                               </td></tr>\n",
       "\t<tr><th scope=row>ENCSR172PVJ</th><td>1.415204</td><td>stomach                                             </td></tr>\n",
       "\t<tr><th scope=row>ENCSR148VUP</th><td>1.415082</td><td>hematopoietic multipotent progenitor cell           </td></tr>\n",
       "\t<tr><th scope=row>ENCSR000EMC</th><td>1.414086</td><td>fibroblast of the aortic adventitia                 </td></tr>\n",
       "\t<tr><th scope=row>ENCSR265TEK</th><td>1.412404</td><td>NCI-H226                                            </td></tr>\n",
       "\t<tr><th scope=row>ENCSR848XIY</th><td>1.411222</td><td>adrenal gland                                       </td></tr>\n",
       "\t<tr><th scope=row>ENCSR945RWN</th><td>1.409459</td><td>small intestine                                     </td></tr>\n",
       "</tbody>\n",
       "</table>\n"
      ],
      "text/latex": [
       "A data.frame: 100 × 2\n",
       "\\begin{tabular}{r|ll}\n",
       "  & percentage & Biosample.term.name\\\\\n",
       "  & <dbl> & <fct>\\\\\n",
       "\\hline\n",
       "\tENCSR620QNS & 2.936823 & HAP-1                                    \\\\\n",
       "\tENCSR318PRQ & 1.729539 & middle frontal gyrus                     \\\\\n",
       "\tENCSR187PYY & 1.727819 & brain                                    \\\\\n",
       "\tENCSR706IDL & 1.702995 & midbrain                                 \\\\\n",
       "\tENCSR015BGH & 1.698855 & caudate nucleus                          \\\\\n",
       "\tENCSR420NOA & 1.697262 & hematopoietic multipotent progenitor cell\\\\\n",
       "\tENCSR000EPY & 1.670449 & SK-N-MC                                  \\\\\n",
       "\tENCSR859CZM & 1.622089 & occipital lobe                           \\\\\n",
       "\tENCSR224IYD & 1.609526 & medulla oblongata                        \\\\\n",
       "\tENCSR533VAF & 1.606758 & heart                                    \\\\\n",
       "\tENCSR771DAX & 1.595179 & globus pallidus                          \\\\\n",
       "\tENCSR649KBB & 1.592055 & brain                                    \\\\\n",
       "\tENCSR000EPX & 1.586238 & bronchial epithelial cell                \\\\\n",
       "\tENCSR937UWI & 1.578629 & hematopoietic multipotent progenitor cell\\\\\n",
       "\tENCSR008SDL & 1.576206 & SK-MEL-5                                 \\\\\n",
       "\tENCSR979ZJS & 1.574646 & transverse colon                         \\\\\n",
       "\tENCSR314EZY & 1.573472 & L1-S8                                    \\\\\n",
       "\tENCSR434OBM & 1.572289 & foreskin melanocyte                      \\\\\n",
       "\tENCSR518JGY & 1.552057 & foreskin melanocyte                      \\\\\n",
       "\tENCSR845CFB & 1.551958 & hematopoietic multipotent progenitor cell\\\\\n",
       "\tENCSR937RVN & 1.550184 & muscle of leg                            \\\\\n",
       "\tENCSR156CLC & 1.548440 & brain                                    \\\\\n",
       "\tENCSR118WIQ & 1.541601 & brain                                    \\\\\n",
       "\tENCSR931UQB & 1.536926 & small intestine                          \\\\\n",
       "\tENCSR346JWH & 1.535041 & A673                                     \\\\\n",
       "\tENCSR000EIN & 1.533090 & COLO829                                  \\\\\n",
       "\tENCSR959ZXU & 1.531554 & HeLa-S3                                  \\\\\n",
       "\tENCSR501FWC & 1.531314 & heart left ventricle                     \\\\\n",
       "\tENCSR000EQF & 1.527493 & T-helper 17 cell                         \\\\\n",
       "\tENCSR666YVE & 1.526975 & large intestine                          \\\\\n",
       "\t⋮ & ⋮ & ⋮\\\\\n",
       "\tENCSR000EOM & 1.445305 & glomerular endothelial cell                         \\\\\n",
       "\tENCSR420RWU & 1.444496 & brain                                               \\\\\n",
       "\tENCSR911LTI & 1.443726 & heart                                               \\\\\n",
       "\tENCSR136KEL & 1.442141 & kidney glomerular epithelial cell                   \\\\\n",
       "\tENCSR638HMQ & 1.441335 & NCI-H460                                            \\\\\n",
       "\tENCSR000EML & 1.440812 & naive thymus-derived CD4-positive, alpha-beta T cell\\\\\n",
       "\tENCSR564JUY & 1.440174 & hematopoietic multipotent progenitor cell           \\\\\n",
       "\tENCSR115YPI & 1.439011 & hematopoietic multipotent progenitor cell           \\\\\n",
       "\tENCSR437KLY & 1.435070 & kidney                                              \\\\\n",
       "\tENCSR175IWT & 1.431543 & kidney tubule cell                                  \\\\\n",
       "\tENCSR228VNQ & 1.429599 & mammary epithelial cell                             \\\\\n",
       "\tENCSR820XRX & 1.428463 & brain                                               \\\\\n",
       "\tENCSR121ZSL & 1.427483 & trophoblast cell                                    \\\\\n",
       "\tENCSR000EKM & 1.426675 & Ishikawa                                            \\\\\n",
       "\tENCSR083FBK & 1.426200 & small intestine                                     \\\\\n",
       "\tENCSR000ENV & 1.421870 & mammary epithelial cell                             \\\\\n",
       "\tENCSR724CND & 1.421202 & foreskin keratinocyte                               \\\\\n",
       "\tENCSR582IPV & 1.420841 & lung                                                \\\\\n",
       "\tENCSR366EGE & 1.419717 & heart                                               \\\\\n",
       "\tENCSR493IAY & 1.419674 & hematopoietic multipotent progenitor cell           \\\\\n",
       "\tENCSR412NMI & 1.419285 & left cardiac atrium                                 \\\\\n",
       "\tENCSR502NDK & 1.417547 & small intestine                                     \\\\\n",
       "\tENCSR014FPY & 1.417009 & iPS DF 4.7                                          \\\\\n",
       "\tENCSR311LLZ & 1.415447 & heart                                               \\\\\n",
       "\tENCSR172PVJ & 1.415204 & stomach                                             \\\\\n",
       "\tENCSR148VUP & 1.415082 & hematopoietic multipotent progenitor cell           \\\\\n",
       "\tENCSR000EMC & 1.414086 & fibroblast of the aortic adventitia                 \\\\\n",
       "\tENCSR265TEK & 1.412404 & NCI-H226                                            \\\\\n",
       "\tENCSR848XIY & 1.411222 & adrenal gland                                       \\\\\n",
       "\tENCSR945RWN & 1.409459 & small intestine                                     \\\\\n",
       "\\end{tabular}\n"
      ],
      "text/markdown": [
       "\n",
       "A data.frame: 100 × 2\n",
       "\n",
       "| <!--/--> | percentage &lt;dbl&gt; | Biosample.term.name &lt;fct&gt; |\n",
       "|---|---|---|\n",
       "| ENCSR620QNS | 2.936823 | HAP-1                                     |\n",
       "| ENCSR318PRQ | 1.729539 | middle frontal gyrus                      |\n",
       "| ENCSR187PYY | 1.727819 | brain                                     |\n",
       "| ENCSR706IDL | 1.702995 | midbrain                                  |\n",
       "| ENCSR015BGH | 1.698855 | caudate nucleus                           |\n",
       "| ENCSR420NOA | 1.697262 | hematopoietic multipotent progenitor cell |\n",
       "| ENCSR000EPY | 1.670449 | SK-N-MC                                   |\n",
       "| ENCSR859CZM | 1.622089 | occipital lobe                            |\n",
       "| ENCSR224IYD | 1.609526 | medulla oblongata                         |\n",
       "| ENCSR533VAF | 1.606758 | heart                                     |\n",
       "| ENCSR771DAX | 1.595179 | globus pallidus                           |\n",
       "| ENCSR649KBB | 1.592055 | brain                                     |\n",
       "| ENCSR000EPX | 1.586238 | bronchial epithelial cell                 |\n",
       "| ENCSR937UWI | 1.578629 | hematopoietic multipotent progenitor cell |\n",
       "| ENCSR008SDL | 1.576206 | SK-MEL-5                                  |\n",
       "| ENCSR979ZJS | 1.574646 | transverse colon                          |\n",
       "| ENCSR314EZY | 1.573472 | L1-S8                                     |\n",
       "| ENCSR434OBM | 1.572289 | foreskin melanocyte                       |\n",
       "| ENCSR518JGY | 1.552057 | foreskin melanocyte                       |\n",
       "| ENCSR845CFB | 1.551958 | hematopoietic multipotent progenitor cell |\n",
       "| ENCSR937RVN | 1.550184 | muscle of leg                             |\n",
       "| ENCSR156CLC | 1.548440 | brain                                     |\n",
       "| ENCSR118WIQ | 1.541601 | brain                                     |\n",
       "| ENCSR931UQB | 1.536926 | small intestine                           |\n",
       "| ENCSR346JWH | 1.535041 | A673                                      |\n",
       "| ENCSR000EIN | 1.533090 | COLO829                                   |\n",
       "| ENCSR959ZXU | 1.531554 | HeLa-S3                                   |\n",
       "| ENCSR501FWC | 1.531314 | heart left ventricle                      |\n",
       "| ENCSR000EQF | 1.527493 | T-helper 17 cell                          |\n",
       "| ENCSR666YVE | 1.526975 | large intestine                           |\n",
       "| ⋮ | ⋮ | ⋮ |\n",
       "| ENCSR000EOM | 1.445305 | glomerular endothelial cell                          |\n",
       "| ENCSR420RWU | 1.444496 | brain                                                |\n",
       "| ENCSR911LTI | 1.443726 | heart                                                |\n",
       "| ENCSR136KEL | 1.442141 | kidney glomerular epithelial cell                    |\n",
       "| ENCSR638HMQ | 1.441335 | NCI-H460                                             |\n",
       "| ENCSR000EML | 1.440812 | naive thymus-derived CD4-positive, alpha-beta T cell |\n",
       "| ENCSR564JUY | 1.440174 | hematopoietic multipotent progenitor cell            |\n",
       "| ENCSR115YPI | 1.439011 | hematopoietic multipotent progenitor cell            |\n",
       "| ENCSR437KLY | 1.435070 | kidney                                               |\n",
       "| ENCSR175IWT | 1.431543 | kidney tubule cell                                   |\n",
       "| ENCSR228VNQ | 1.429599 | mammary epithelial cell                              |\n",
       "| ENCSR820XRX | 1.428463 | brain                                                |\n",
       "| ENCSR121ZSL | 1.427483 | trophoblast cell                                     |\n",
       "| ENCSR000EKM | 1.426675 | Ishikawa                                             |\n",
       "| ENCSR083FBK | 1.426200 | small intestine                                      |\n",
       "| ENCSR000ENV | 1.421870 | mammary epithelial cell                              |\n",
       "| ENCSR724CND | 1.421202 | foreskin keratinocyte                                |\n",
       "| ENCSR582IPV | 1.420841 | lung                                                 |\n",
       "| ENCSR366EGE | 1.419717 | heart                                                |\n",
       "| ENCSR493IAY | 1.419674 | hematopoietic multipotent progenitor cell            |\n",
       "| ENCSR412NMI | 1.419285 | left cardiac atrium                                  |\n",
       "| ENCSR502NDK | 1.417547 | small intestine                                      |\n",
       "| ENCSR014FPY | 1.417009 | iPS DF 4.7                                           |\n",
       "| ENCSR311LLZ | 1.415447 | heart                                                |\n",
       "| ENCSR172PVJ | 1.415204 | stomach                                              |\n",
       "| ENCSR148VUP | 1.415082 | hematopoietic multipotent progenitor cell            |\n",
       "| ENCSR000EMC | 1.414086 | fibroblast of the aortic adventitia                  |\n",
       "| ENCSR265TEK | 1.412404 | NCI-H226                                             |\n",
       "| ENCSR848XIY | 1.411222 | adrenal gland                                        |\n",
       "| ENCSR945RWN | 1.409459 | small intestine                                      |\n",
       "\n"
      ],
      "text/plain": [
       "            percentage Biosample.term.name                                 \n",
       "ENCSR620QNS 2.936823   HAP-1                                               \n",
       "ENCSR318PRQ 1.729539   middle frontal gyrus                                \n",
       "ENCSR187PYY 1.727819   brain                                               \n",
       "ENCSR706IDL 1.702995   midbrain                                            \n",
       "ENCSR015BGH 1.698855   caudate nucleus                                     \n",
       "ENCSR420NOA 1.697262   hematopoietic multipotent progenitor cell           \n",
       "ENCSR000EPY 1.670449   SK-N-MC                                             \n",
       "ENCSR859CZM 1.622089   occipital lobe                                      \n",
       "ENCSR224IYD 1.609526   medulla oblongata                                   \n",
       "ENCSR533VAF 1.606758   heart                                               \n",
       "ENCSR771DAX 1.595179   globus pallidus                                     \n",
       "ENCSR649KBB 1.592055   brain                                               \n",
       "ENCSR000EPX 1.586238   bronchial epithelial cell                           \n",
       "ENCSR937UWI 1.578629   hematopoietic multipotent progenitor cell           \n",
       "ENCSR008SDL 1.576206   SK-MEL-5                                            \n",
       "ENCSR979ZJS 1.574646   transverse colon                                    \n",
       "ENCSR314EZY 1.573472   L1-S8                                               \n",
       "ENCSR434OBM 1.572289   foreskin melanocyte                                 \n",
       "ENCSR518JGY 1.552057   foreskin melanocyte                                 \n",
       "ENCSR845CFB 1.551958   hematopoietic multipotent progenitor cell           \n",
       "ENCSR937RVN 1.550184   muscle of leg                                       \n",
       "ENCSR156CLC 1.548440   brain                                               \n",
       "ENCSR118WIQ 1.541601   brain                                               \n",
       "ENCSR931UQB 1.536926   small intestine                                     \n",
       "ENCSR346JWH 1.535041   A673                                                \n",
       "ENCSR000EIN 1.533090   COLO829                                             \n",
       "ENCSR959ZXU 1.531554   HeLa-S3                                             \n",
       "ENCSR501FWC 1.531314   heart left ventricle                                \n",
       "ENCSR000EQF 1.527493   T-helper 17 cell                                    \n",
       "ENCSR666YVE 1.526975   large intestine                                     \n",
       "⋮           ⋮          ⋮                                                   \n",
       "ENCSR000EOM 1.445305   glomerular endothelial cell                         \n",
       "ENCSR420RWU 1.444496   brain                                               \n",
       "ENCSR911LTI 1.443726   heart                                               \n",
       "ENCSR136KEL 1.442141   kidney glomerular epithelial cell                   \n",
       "ENCSR638HMQ 1.441335   NCI-H460                                            \n",
       "ENCSR000EML 1.440812   naive thymus-derived CD4-positive, alpha-beta T cell\n",
       "ENCSR564JUY 1.440174   hematopoietic multipotent progenitor cell           \n",
       "ENCSR115YPI 1.439011   hematopoietic multipotent progenitor cell           \n",
       "ENCSR437KLY 1.435070   kidney                                              \n",
       "ENCSR175IWT 1.431543   kidney tubule cell                                  \n",
       "ENCSR228VNQ 1.429599   mammary epithelial cell                             \n",
       "ENCSR820XRX 1.428463   brain                                               \n",
       "ENCSR121ZSL 1.427483   trophoblast cell                                    \n",
       "ENCSR000EKM 1.426675   Ishikawa                                            \n",
       "ENCSR083FBK 1.426200   small intestine                                     \n",
       "ENCSR000ENV 1.421870   mammary epithelial cell                             \n",
       "ENCSR724CND 1.421202   foreskin keratinocyte                               \n",
       "ENCSR582IPV 1.420841   lung                                                \n",
       "ENCSR366EGE 1.419717   heart                                               \n",
       "ENCSR493IAY 1.419674   hematopoietic multipotent progenitor cell           \n",
       "ENCSR412NMI 1.419285   left cardiac atrium                                 \n",
       "ENCSR502NDK 1.417547   small intestine                                     \n",
       "ENCSR014FPY 1.417009   iPS DF 4.7                                          \n",
       "ENCSR311LLZ 1.415447   heart                                               \n",
       "ENCSR172PVJ 1.415204   stomach                                             \n",
       "ENCSR148VUP 1.415082   hematopoietic multipotent progenitor cell           \n",
       "ENCSR000EMC 1.414086   fibroblast of the aortic adventitia                 \n",
       "ENCSR265TEK 1.412404   NCI-H226                                            \n",
       "ENCSR848XIY 1.411222   adrenal gland                                       \n",
       "ENCSR945RWN 1.409459   small intestine                                     "
      ]
     },
     "metadata": {},
     "output_type": "display_data"
    }
   ],
   "source": [
    "df = data.frame(percentage=100*frac_reads_in_peak_set,\n",
    "               metadata[names(frac_reads_in_peak_set),])\n",
    "df = df[rev(order(df$percentage)), c(\"percentage\", \"Biosample.term.name\")]\n",
    "head(df, 100)"
   ]
  },
  {
   "cell_type": "code",
   "execution_count": 48,
   "metadata": {},
   "outputs": [
    {
     "data": {
      "text/html": [
       "<table>\n",
       "<caption>A data.frame: 20 × 2</caption>\n",
       "<thead>\n",
       "\t<tr><th></th><th scope=col>percentage</th><th scope=col>Biosample.term.name</th></tr>\n",
       "\t<tr><th></th><th scope=col>&lt;dbl&gt;</th><th scope=col>&lt;fct&gt;</th></tr>\n",
       "</thead>\n",
       "<tbody>\n",
       "\t<tr><th scope=row>ENCSR000EQN</th><td>1.710770</td><td>WI38                                 </td></tr>\n",
       "\t<tr><th scope=row>ENCSR000EQM</th><td>1.864732</td><td>WI38                                 </td></tr>\n",
       "\t<tr><th scope=row>ENCSR562ACY</th><td>1.920067</td><td>fibroblast of skin of left biceps    </td></tr>\n",
       "\t<tr><th scope=row>ENCSR000EMG</th><td>1.932068</td><td>HS-5                                 </td></tr>\n",
       "\t<tr><th scope=row>ENCSR000EOI</th><td>1.935005</td><td>fibroblast of peridontal ligament    </td></tr>\n",
       "\t<tr><th scope=row>ENCSR000EMH</th><td>1.939550</td><td>stromal cell of bone marrow          </td></tr>\n",
       "\t<tr><th scope=row>ENCSR000EMA</th><td>1.945034</td><td>AG09319                              </td></tr>\n",
       "\t<tr><th scope=row>ENCSR000ELY</th><td>1.950024</td><td>AG04450                              </td></tr>\n",
       "\t<tr><th scope=row>ENCSR555TFE</th><td>1.957594</td><td>fibroblast of skin of left quadriceps</td></tr>\n",
       "\t<tr><th scope=row>ENCSR251UPG</th><td>1.959053</td><td>foreskin fibroblast                  </td></tr>\n",
       "\t<tr><th scope=row>ENCSR648GDP</th><td>1.959953</td><td>fibroblast of skin of left biceps    </td></tr>\n",
       "\t<tr><th scope=row>ENCSR000EMP</th><td>1.962117</td><td>GM04504                              </td></tr>\n",
       "\t<tr><th scope=row>ENCSR360LBD</th><td>1.962999</td><td>fibroblast of skin of scalp          </td></tr>\n",
       "\t<tr><th scope=row>ENCSR000ELZ</th><td>1.965823</td><td>AG09309                              </td></tr>\n",
       "\t<tr><th scope=row>ENCSR371KRY</th><td>1.967910</td><td>fibroblast of skin of left quadriceps</td></tr>\n",
       "\t<tr><th scope=row>ENCSR670VQZ</th><td>1.971908</td><td>fibroblast of skin of upper back     </td></tr>\n",
       "\t<tr><th scope=row>ENCSR000EMO</th><td>1.980618</td><td>GM04503                              </td></tr>\n",
       "\t<tr><th scope=row>ENCSR000ELX</th><td>1.997655</td><td>AG04449                              </td></tr>\n",
       "\t<tr><th scope=row>ENCSR038XTK</th><td>2.007022</td><td>HCEC 1CT                             </td></tr>\n",
       "\t<tr><th scope=row>ENCSR000EME</th><td>2.013939</td><td>BJ                                   </td></tr>\n",
       "</tbody>\n",
       "</table>\n"
      ],
      "text/latex": [
       "A data.frame: 20 × 2\n",
       "\\begin{tabular}{r|ll}\n",
       "  & percentage & Biosample.term.name\\\\\n",
       "  & <dbl> & <fct>\\\\\n",
       "\\hline\n",
       "\tENCSR000EQN & 1.710770 & WI38                                 \\\\\n",
       "\tENCSR000EQM & 1.864732 & WI38                                 \\\\\n",
       "\tENCSR562ACY & 1.920067 & fibroblast of skin of left biceps    \\\\\n",
       "\tENCSR000EMG & 1.932068 & HS-5                                 \\\\\n",
       "\tENCSR000EOI & 1.935005 & fibroblast of peridontal ligament    \\\\\n",
       "\tENCSR000EMH & 1.939550 & stromal cell of bone marrow          \\\\\n",
       "\tENCSR000EMA & 1.945034 & AG09319                              \\\\\n",
       "\tENCSR000ELY & 1.950024 & AG04450                              \\\\\n",
       "\tENCSR555TFE & 1.957594 & fibroblast of skin of left quadriceps\\\\\n",
       "\tENCSR251UPG & 1.959053 & foreskin fibroblast                  \\\\\n",
       "\tENCSR648GDP & 1.959953 & fibroblast of skin of left biceps    \\\\\n",
       "\tENCSR000EMP & 1.962117 & GM04504                              \\\\\n",
       "\tENCSR360LBD & 1.962999 & fibroblast of skin of scalp          \\\\\n",
       "\tENCSR000ELZ & 1.965823 & AG09309                              \\\\\n",
       "\tENCSR371KRY & 1.967910 & fibroblast of skin of left quadriceps\\\\\n",
       "\tENCSR670VQZ & 1.971908 & fibroblast of skin of upper back     \\\\\n",
       "\tENCSR000EMO & 1.980618 & GM04503                              \\\\\n",
       "\tENCSR000ELX & 1.997655 & AG04449                              \\\\\n",
       "\tENCSR038XTK & 2.007022 & HCEC 1CT                             \\\\\n",
       "\tENCSR000EME & 2.013939 & BJ                                   \\\\\n",
       "\\end{tabular}\n"
      ],
      "text/markdown": [
       "\n",
       "A data.frame: 20 × 2\n",
       "\n",
       "| <!--/--> | percentage &lt;dbl&gt; | Biosample.term.name &lt;fct&gt; |\n",
       "|---|---|---|\n",
       "| ENCSR000EQN | 1.710770 | WI38                                  |\n",
       "| ENCSR000EQM | 1.864732 | WI38                                  |\n",
       "| ENCSR562ACY | 1.920067 | fibroblast of skin of left biceps     |\n",
       "| ENCSR000EMG | 1.932068 | HS-5                                  |\n",
       "| ENCSR000EOI | 1.935005 | fibroblast of peridontal ligament     |\n",
       "| ENCSR000EMH | 1.939550 | stromal cell of bone marrow           |\n",
       "| ENCSR000EMA | 1.945034 | AG09319                               |\n",
       "| ENCSR000ELY | 1.950024 | AG04450                               |\n",
       "| ENCSR555TFE | 1.957594 | fibroblast of skin of left quadriceps |\n",
       "| ENCSR251UPG | 1.959053 | foreskin fibroblast                   |\n",
       "| ENCSR648GDP | 1.959953 | fibroblast of skin of left biceps     |\n",
       "| ENCSR000EMP | 1.962117 | GM04504                               |\n",
       "| ENCSR360LBD | 1.962999 | fibroblast of skin of scalp           |\n",
       "| ENCSR000ELZ | 1.965823 | AG09309                               |\n",
       "| ENCSR371KRY | 1.967910 | fibroblast of skin of left quadriceps |\n",
       "| ENCSR670VQZ | 1.971908 | fibroblast of skin of upper back      |\n",
       "| ENCSR000EMO | 1.980618 | GM04503                               |\n",
       "| ENCSR000ELX | 1.997655 | AG04449                               |\n",
       "| ENCSR038XTK | 2.007022 | HCEC 1CT                              |\n",
       "| ENCSR000EME | 2.013939 | BJ                                    |\n",
       "\n"
      ],
      "text/plain": [
       "            percentage Biosample.term.name                  \n",
       "ENCSR000EQN 1.710770   WI38                                 \n",
       "ENCSR000EQM 1.864732   WI38                                 \n",
       "ENCSR562ACY 1.920067   fibroblast of skin of left biceps    \n",
       "ENCSR000EMG 1.932068   HS-5                                 \n",
       "ENCSR000EOI 1.935005   fibroblast of peridontal ligament    \n",
       "ENCSR000EMH 1.939550   stromal cell of bone marrow          \n",
       "ENCSR000EMA 1.945034   AG09319                              \n",
       "ENCSR000ELY 1.950024   AG04450                              \n",
       "ENCSR555TFE 1.957594   fibroblast of skin of left quadriceps\n",
       "ENCSR251UPG 1.959053   foreskin fibroblast                  \n",
       "ENCSR648GDP 1.959953   fibroblast of skin of left biceps    \n",
       "ENCSR000EMP 1.962117   GM04504                              \n",
       "ENCSR360LBD 1.962999   fibroblast of skin of scalp          \n",
       "ENCSR000ELZ 1.965823   AG09309                              \n",
       "ENCSR371KRY 1.967910   fibroblast of skin of left quadriceps\n",
       "ENCSR670VQZ 1.971908   fibroblast of skin of upper back     \n",
       "ENCSR000EMO 1.980618   GM04503                              \n",
       "ENCSR000ELX 1.997655   AG04449                              \n",
       "ENCSR038XTK 2.007022   HCEC 1CT                             \n",
       "ENCSR000EME 2.013939   BJ                                   "
      ]
     },
     "metadata": {},
     "output_type": "display_data"
    }
   ],
   "source": [
    "head(df[order(df$percentage), ], 20)"
   ]
  },
  {
   "cell_type": "code",
   "execution_count": null,
   "metadata": {},
   "outputs": [],
   "source": []
  }
 ],
 "metadata": {
  "kernelspec": {
   "display_name": "R",
   "language": "R",
   "name": "ir"
  },
  "language_info": {
   "codemirror_mode": "r",
   "file_extension": ".r",
   "mimetype": "text/x-r-source",
   "name": "R",
   "pygments_lexer": "r",
   "version": "3.5.1"
  }
 },
 "nbformat": 4,
 "nbformat_minor": 2
}
