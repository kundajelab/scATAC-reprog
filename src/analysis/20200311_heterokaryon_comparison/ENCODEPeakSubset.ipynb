{
 "cells": [
  {
   "cell_type": "markdown",
   "metadata": {},
   "source": [
    "# ENCODE Subset Peaks\n",
    "\n",
    "Given a subset of peaks, find out which cells in ENCODE have highest/lowest fraction of reads in those peaks."
   ]
  },
  {
   "cell_type": "code",
   "execution_count": null,
   "metadata": {},
   "outputs": [],
   "source": [
    "library(GenomicRanges)\n",
    "library(DESeq2)"
   ]
  },
  {
   "cell_type": "code",
   "execution_count": 5,
   "metadata": {},
   "outputs": [
    {
     "data": {
      "text/html": [
       "<table>\n",
       "<caption>A data.frame: 2 × 622</caption>\n",
       "<thead>\n",
       "\t<tr><th></th><th scope=col>ENCSR000EID</th><th scope=col>ENCSR000EIE</th><th scope=col>ENCSR000EIF</th><th scope=col>ENCSR000EIG</th><th scope=col>ENCSR000EII</th><th scope=col>ENCSR000EIL</th><th scope=col>ENCSR000EIN</th><th scope=col>ENCSR000EIV</th><th scope=col>ENCSR000EIW</th><th scope=col>ENCSR000EIY</th><th scope=col>⋯</th><th scope=col>ENCSR974TXT</th><th scope=col>ENCSR976XOY</th><th scope=col>ENCSR978QUT</th><th scope=col>ENCSR979ZJS</th><th scope=col>ENCSR986HEN</th><th scope=col>ENCSR986XLW</th><th scope=col>ENCSR988YKR</th><th scope=col>ENCSR989YIV</th><th scope=col>ENCSR990XXC</th><th scope=col>ENCSR999TSD</th></tr>\n",
       "\t<tr><th></th><th scope=col>&lt;int&gt;</th><th scope=col>&lt;int&gt;</th><th scope=col>&lt;int&gt;</th><th scope=col>&lt;int&gt;</th><th scope=col>&lt;int&gt;</th><th scope=col>&lt;int&gt;</th><th scope=col>&lt;int&gt;</th><th scope=col>&lt;int&gt;</th><th scope=col>&lt;int&gt;</th><th scope=col>&lt;int&gt;</th><th scope=col>⋯</th><th scope=col>&lt;int&gt;</th><th scope=col>&lt;int&gt;</th><th scope=col>&lt;int&gt;</th><th scope=col>&lt;int&gt;</th><th scope=col>&lt;int&gt;</th><th scope=col>&lt;int&gt;</th><th scope=col>&lt;int&gt;</th><th scope=col>&lt;int&gt;</th><th scope=col>&lt;int&gt;</th><th scope=col>&lt;int&gt;</th></tr>\n",
       "</thead>\n",
       "<tbody>\n",
       "\t<tr><th scope=row>chr1\t10370\t10641</th><td>28</td><td>9</td><td>17</td><td>8</td><td>49</td><td>28</td><td>7</td><td>11</td><td>20</td><td>33</td><td>⋯</td><td>2</td><td>1</td><td>0</td><td>3</td><td>2</td><td>12</td><td>0</td><td>15</td><td>3</td><td>1</td></tr>\n",
       "\t<tr><th scope=row>chr1\t10711\t11232</th><td>12</td><td>9</td><td> 5</td><td>9</td><td>44</td><td>39</td><td>2</td><td> 7</td><td>13</td><td>27</td><td>⋯</td><td>0</td><td>1</td><td>0</td><td>1</td><td>1</td><td> 2</td><td>0</td><td> 9</td><td>1</td><td>0</td></tr>\n",
       "</tbody>\n",
       "</table>\n"
      ],
      "text/latex": [
       "A data.frame: 2 × 622\n",
       "\\begin{tabular}{r|lllllllllllllllllllll}\n",
       "  & ENCSR000EID & ENCSR000EIE & ENCSR000EIF & ENCSR000EIG & ENCSR000EII & ENCSR000EIL & ENCSR000EIN & ENCSR000EIV & ENCSR000EIW & ENCSR000EIY & ⋯ & ENCSR974TXT & ENCSR976XOY & ENCSR978QUT & ENCSR979ZJS & ENCSR986HEN & ENCSR986XLW & ENCSR988YKR & ENCSR989YIV & ENCSR990XXC & ENCSR999TSD\\\\\n",
       "  & <int> & <int> & <int> & <int> & <int> & <int> & <int> & <int> & <int> & <int> & ⋯ & <int> & <int> & <int> & <int> & <int> & <int> & <int> & <int> & <int> & <int>\\\\\n",
       "\\hline\n",
       "\tchr1\t10370\t10641 & 28 & 9 & 17 & 8 & 49 & 28 & 7 & 11 & 20 & 33 & ⋯ & 2 & 1 & 0 & 3 & 2 & 12 & 0 & 15 & 3 & 1\\\\\n",
       "\tchr1\t10711\t11232 & 12 & 9 &  5 & 9 & 44 & 39 & 2 &  7 & 13 & 27 & ⋯ & 0 & 1 & 0 & 1 & 1 &  2 & 0 &  9 & 1 & 0\\\\\n",
       "\\end{tabular}\n"
      ],
      "text/markdown": [
       "\n",
       "A data.frame: 2 × 622\n",
       "\n",
       "| <!--/--> | ENCSR000EID &lt;int&gt; | ENCSR000EIE &lt;int&gt; | ENCSR000EIF &lt;int&gt; | ENCSR000EIG &lt;int&gt; | ENCSR000EII &lt;int&gt; | ENCSR000EIL &lt;int&gt; | ENCSR000EIN &lt;int&gt; | ENCSR000EIV &lt;int&gt; | ENCSR000EIW &lt;int&gt; | ENCSR000EIY &lt;int&gt; | ⋯ ⋯ | ENCSR974TXT &lt;int&gt; | ENCSR976XOY &lt;int&gt; | ENCSR978QUT &lt;int&gt; | ENCSR979ZJS &lt;int&gt; | ENCSR986HEN &lt;int&gt; | ENCSR986XLW &lt;int&gt; | ENCSR988YKR &lt;int&gt; | ENCSR989YIV &lt;int&gt; | ENCSR990XXC &lt;int&gt; | ENCSR999TSD &lt;int&gt; |\n",
       "|---|---|---|---|---|---|---|---|---|---|---|---|---|---|---|---|---|---|---|---|---|---|\n",
       "| chr1\t10370\t10641 | 28 | 9 | 17 | 8 | 49 | 28 | 7 | 11 | 20 | 33 | ⋯ | 2 | 1 | 0 | 3 | 2 | 12 | 0 | 15 | 3 | 1 |\n",
       "| chr1\t10711\t11232 | 12 | 9 |  5 | 9 | 44 | 39 | 2 |  7 | 13 | 27 | ⋯ | 0 | 1 | 0 | 1 | 1 |  2 | 0 |  9 | 1 | 0 |\n",
       "\n"
      ],
      "text/plain": [
       "                   ENCSR000EID ENCSR000EIE ENCSR000EIF ENCSR000EIG ENCSR000EII\n",
       "chr1\\t10370\\t10641 28          9           17          8           49         \n",
       "chr1\\t10711\\t11232 12          9            5          9           44         \n",
       "                   ENCSR000EIL ENCSR000EIN ENCSR000EIV ENCSR000EIW ENCSR000EIY\n",
       "chr1\\t10370\\t10641 28          7           11          20          33         \n",
       "chr1\\t10711\\t11232 39          2            7          13          27         \n",
       "                   ⋯ ENCSR974TXT ENCSR976XOY ENCSR978QUT ENCSR979ZJS\n",
       "chr1\\t10370\\t10641 ⋯ 2           1           0           3          \n",
       "chr1\\t10711\\t11232 ⋯ 0           1           0           1          \n",
       "                   ENCSR986HEN ENCSR986XLW ENCSR988YKR ENCSR989YIV ENCSR990XXC\n",
       "chr1\\t10370\\t10641 2           12          0           15          3          \n",
       "chr1\\t10711\\t11232 1            2          0            9          1          \n",
       "                   ENCSR999TSD\n",
       "chr1\\t10370\\t10641 1          \n",
       "chr1\\t10711\\t11232 0          "
      ]
     },
     "metadata": {},
     "output_type": "display_data"
    },
    {
     "data": {
      "text/html": [
       "<style>\n",
       ".list-inline {list-style: none; margin:0; padding: 0}\n",
       ".list-inline>li {display: inline-block}\n",
       ".list-inline>li:not(:last-child)::after {content: \"\\00b7\"; padding: 0 .5ex}\n",
       "</style>\n",
       "<ol class=list-inline><li>2027128</li><li>622</li></ol>\n"
      ],
      "text/latex": [
       "\\begin{enumerate*}\n",
       "\\item 2027128\n",
       "\\item 622\n",
       "\\end{enumerate*}\n"
      ],
      "text/markdown": [
       "1. 2027128\n",
       "2. 622\n",
       "\n",
       "\n"
      ],
      "text/plain": [
       "[1] 2027128     622"
      ]
     },
     "metadata": {},
     "output_type": "display_data"
    }
   ],
   "source": [
    "# load encode counts matrix\n",
    "cts <- read.csv(\"/oak/stanford/groups/akundaje/projects/atlas/counts_matrices/atlas.dnase.overlap.counts.txt\",sep=\"\\t\")\n",
    "rownames(cts)=paste(cts$chr,cts$start,cts$end,sep='\\t')\n",
    "cts$chrom = NULL\n",
    "cts$start = NULL\n",
    "cts$end = NULL\n",
    "head(cts, 2)\n",
    "dim(cts)"
   ]
  },
  {
   "cell_type": "code",
   "execution_count": 6,
   "metadata": {},
   "outputs": [],
   "source": [
    "encode_peaks_gr = GRanges(sub(\"\\t\", \"-\", sub(\"\\t\", \":\", rownames(cts))))"
   ]
  },
  {
   "cell_type": "code",
   "execution_count": 7,
   "metadata": {},
   "outputs": [
    {
     "data": {
      "text/plain": [
       "GRanges object with 6 ranges and 0 metadata columns:\n",
       "      seqnames      ranges strand\n",
       "         <Rle>   <IRanges>  <Rle>\n",
       "  [1]     chr1 10370-10641      *\n",
       "  [2]     chr1 10711-11232      *\n",
       "  [3]     chr1 11308-11533      *\n",
       "  [4]     chr1 14499-14700      *\n",
       "  [5]     chr1 16142-16349      *\n",
       "  [6]     chr1 25958-26158      *\n",
       "  -------\n",
       "  seqinfo: 24 sequences from an unspecified genome; no seqlengths"
      ]
     },
     "metadata": {},
     "output_type": "display_data"
    }
   ],
   "source": [
    "head(encode_peaks_gr)"
   ]
  },
  {
   "cell_type": "code",
   "execution_count": null,
   "metadata": {},
   "outputs": [],
   "source": [
    "norm_cts = t(t(cts)/estimateSizeFactorsForMatrix(cts))"
   ]
  },
  {
   "cell_type": "code",
   "execution_count": 23,
   "metadata": {},
   "outputs": [
    {
     "data": {
      "image/png": "[encoded data removed]",
      "text/plain": [
       "Plot with title “Histogram of log10(colSums(cts))”"
      ]
     },
     "metadata": {
      "image/png": {
       "height": 420,
       "width": 420
      },
      "text/plain": {
       "height": 420,
       "width": 420
      }
     },
     "output_type": "display_data"
    }
   ],
   "source": [
    "hist(log10(colSums(cts)))"
   ]
  },
  {
   "cell_type": "code",
   "execution_count": 24,
   "metadata": {},
   "outputs": [
    {
     "data": {
      "image/png": "[encoded data removed]",
      "text/plain": [
       "Plot with title “Histogram of log10(colSums(norm_cts))”"
      ]
     },
     "metadata": {
      "image/png": {
       "height": 420,
       "width": 420
      },
      "text/plain": {
       "height": 420,
       "width": 420
      }
     },
     "output_type": "display_data"
    }
   ],
   "source": [
    "hist(log10(colSums(norm_cts)))"
   ]
  },
  {
   "cell_type": "code",
   "execution_count": 22,
   "metadata": {},
   "outputs": [
    {
     "data": {
      "text/html": [
       "<style>\n",
       ".list-inline {list-style: none; margin:0; padding: 0}\n",
       ".list-inline>li {display: inline-block}\n",
       ".list-inline>li:not(:last-child)::after {content: \"\\00b7\"; padding: 0 .5ex}\n",
       "</style>\n",
       "<ol class=list-inline><li>'Biosample.summary'</li><li>'Biosample.term.name'</li></ol>\n"
      ],
      "text/latex": [
       "\\begin{enumerate*}\n",
       "\\item 'Biosample.summary'\n",
       "\\item 'Biosample.term.name'\n",
       "\\end{enumerate*}\n"
      ],
      "text/markdown": [
       "1. 'Biosample.summary'\n",
       "2. 'Biosample.term.name'\n",
       "\n",
       "\n"
      ],
      "text/plain": [
       "[1] \"Biosample.summary\"   \"Biosample.term.name\""
      ]
     },
     "metadata": {},
     "output_type": "display_data"
    }
   ],
   "source": [
    "colnames(metadata)"
   ]
  },
  {
   "cell_type": "code",
   "execution_count": 9,
   "metadata": {},
   "outputs": [
    {
     "data": {
      "text/html": [
       "<table>\n",
       "<caption>A data.frame: 6 × 2</caption>\n",
       "<thead>\n",
       "\t<tr><th></th><th scope=col>Biosample.summary</th><th scope=col>Biosample.term.name</th></tr>\n",
       "\t<tr><th></th><th scope=col>&lt;fct&gt;</th><th scope=col>&lt;fct&gt;</th></tr>\n",
       "</thead>\n",
       "<tbody>\n",
       "\t<tr><th scope=row>ENCSR728BAD</th><td>adrenal gland male embryo (108 days)                                  </td><td>adrenal gland                   </td></tr>\n",
       "\t<tr><th scope=row>ENCSR724CND</th><td>foreskin keratinocyte male newborn                                    </td><td>foreskin keratinocyte           </td></tr>\n",
       "\t<tr><th scope=row>ENCSR770DEN</th><td>fibroblast of skin of scalp male embryo (97 days)                     </td><td>fibroblast of skin of scalp     </td></tr>\n",
       "\t<tr><th scope=row>ENCSR594OWA</th><td>small intestine male embryo (91 day)                                  </td><td>small intestine                 </td></tr>\n",
       "\t<tr><th scope=row>ENCSR325LYJ</th><td>fibroblast of skin of upper back male embryo (97 days)                </td><td>fibroblast of skin of upper back</td></tr>\n",
       "\t<tr><th scope=row>ENCSR257CIZ</th><td>kidney tubule cell female adult (80 years) treated with 5 μM cisplatin</td><td>kidney tubule cell              </td></tr>\n",
       "</tbody>\n",
       "</table>\n"
      ],
      "text/latex": [
       "A data.frame: 6 × 2\n",
       "\\begin{tabular}{r|ll}\n",
       "  & Biosample.summary & Biosample.term.name\\\\\n",
       "  & <fct> & <fct>\\\\\n",
       "\\hline\n",
       "\tENCSR728BAD & adrenal gland male embryo (108 days)                                   & adrenal gland                   \\\\\n",
       "\tENCSR724CND & foreskin keratinocyte male newborn                                     & foreskin keratinocyte           \\\\\n",
       "\tENCSR770DEN & fibroblast of skin of scalp male embryo (97 days)                      & fibroblast of skin of scalp     \\\\\n",
       "\tENCSR594OWA & small intestine male embryo (91 day)                                   & small intestine                 \\\\\n",
       "\tENCSR325LYJ & fibroblast of skin of upper back male embryo (97 days)                 & fibroblast of skin of upper back\\\\\n",
       "\tENCSR257CIZ & kidney tubule cell female adult (80 years) treated with 5 μM cisplatin & kidney tubule cell              \\\\\n",
       "\\end{tabular}\n"
      ],
      "text/markdown": [
       "\n",
       "A data.frame: 6 × 2\n",
       "\n",
       "| <!--/--> | Biosample.summary &lt;fct&gt; | Biosample.term.name &lt;fct&gt; |\n",
       "|---|---|---|\n",
       "| ENCSR728BAD | adrenal gland male embryo (108 days)                                   | adrenal gland                    |\n",
       "| ENCSR724CND | foreskin keratinocyte male newborn                                     | foreskin keratinocyte            |\n",
       "| ENCSR770DEN | fibroblast of skin of scalp male embryo (97 days)                      | fibroblast of skin of scalp      |\n",
       "| ENCSR594OWA | small intestine male embryo (91 day)                                   | small intestine                  |\n",
       "| ENCSR325LYJ | fibroblast of skin of upper back male embryo (97 days)                 | fibroblast of skin of upper back |\n",
       "| ENCSR257CIZ | kidney tubule cell female adult (80 years) treated with 5 μM cisplatin | kidney tubule cell               |\n",
       "\n"
      ],
      "text/plain": [
       "            Biosample.summary                                                     \n",
       "ENCSR728BAD adrenal gland male embryo (108 days)                                  \n",
       "ENCSR724CND foreskin keratinocyte male newborn                                    \n",
       "ENCSR770DEN fibroblast of skin of scalp male embryo (97 days)                     \n",
       "ENCSR594OWA small intestine male embryo (91 day)                                  \n",
       "ENCSR325LYJ fibroblast of skin of upper back male embryo (97 days)                \n",
       "ENCSR257CIZ kidney tubule cell female adult (80 years) treated with 5 μM cisplatin\n",
       "            Biosample.term.name             \n",
       "ENCSR728BAD adrenal gland                   \n",
       "ENCSR724CND foreskin keratinocyte           \n",
       "ENCSR770DEN fibroblast of skin of scalp     \n",
       "ENCSR594OWA small intestine                 \n",
       "ENCSR325LYJ fibroblast of skin of upper back\n",
       "ENCSR257CIZ kidney tubule cell              "
      ]
     },
     "metadata": {},
     "output_type": "display_data"
    }
   ],
   "source": [
    "# ENCODE metadata\n",
    "metadata = read.delim(\"/oak/stanford/groups/akundaje/projects/atlas/dnase_experiments_metadata.tsv\", \n",
    "                      sep=\"\\t\",\n",
    "                     skip=1,\n",
    "                     header=T,\n",
    "                     fill=T)\n",
    "metadata = metadata[, c(\"Accession\", \"Biosample.summary\", \"Biosample.term.name\")]\n",
    "rownames(metadata) = metadata$Accession\n",
    "metadata$Accession = NULL\n",
    "head(metadata)"
   ]
  },
  {
   "cell_type": "code",
   "execution_count": 247,
   "metadata": {},
   "outputs": [
    {
     "data": {
      "text/plain": [
       "GRanges object with 6 ranges and 0 metadata columns:\n",
       "      seqnames          ranges strand\n",
       "         <Rle>       <IRanges>  <Rle>\n",
       "  [1]     chr1   842500-843500      *\n",
       "  [2]     chr1   981625-982625      *\n",
       "  [3]     chr1 1450258-1451258      *\n",
       "  [4]     chr1 1450475-1451475      *\n",
       "  [5]     chr1 1453062-1454062      *\n",
       "  [6]     chr1 1489562-1490562      *\n",
       "  -------\n",
       "  seqinfo: 24 sequences from an unspecified genome; no seqlengths"
      ]
     },
     "metadata": {},
     "output_type": "display_data"
    }
   ],
   "source": [
    "# ref peaks\n",
    "# peak_set = read.table(\"./beds/20200313_heatmap_qn_D0_CC_D2_16hr_sorted_n15/idx8.bed\",\n",
    "peak_set = read.table(\"../20200307_fine_clustering/beds/20200307_gridmap_naive_n15/agg.idx3.8.15.1000bp.bed\",\n",
    "                      header=F, sep='')\n",
    "colnames(peak_set) = c(\"chr\", \"start\", \"end\")\n",
    "peak_set = makeGRangesFromDataFrame(peak_set)\n",
    "head(peak_set)"
   ]
  },
  {
   "cell_type": "code",
   "execution_count": 248,
   "metadata": {},
   "outputs": [
    {
     "data": {
      "text/plain": [
       "Hits object with 125905 hits and 0 metadata columns:\n",
       "           queryHits subjectHits\n",
       "           <integer>   <integer>\n",
       "       [1]        80       62673\n",
       "       [2]       109       62674\n",
       "       [3]       134       62675\n",
       "       [4]       145           1\n",
       "       [5]       242           2\n",
       "       ...       ...         ...\n",
       "  [125901]   2025822       35704\n",
       "  [125902]   2025822       62671\n",
       "  [125903]   2025837       35705\n",
       "  [125904]   2026008       62672\n",
       "  [125905]   2026009       62672\n",
       "  -------\n",
       "  queryLength: 2027128 / subjectLength: 92930"
      ]
     },
     "metadata": {},
     "output_type": "display_data"
    }
   ],
   "source": [
    "overlaps = findOverlaps(encode_peaks_gr, peak_set)\n",
    "overlaps"
   ]
  },
  {
   "cell_type": "code",
   "execution_count": 249,
   "metadata": {},
   "outputs": [
    {
     "data": {
      "text/html": [
       "<table>\n",
       "<caption>A data.frame: 4 × 2</caption>\n",
       "<thead>\n",
       "\t<tr><th></th><th scope=col>Biosample.summary</th><th scope=col>Biosample.term.name</th></tr>\n",
       "\t<tr><th></th><th scope=col>&lt;fct&gt;</th><th scope=col>&lt;fct&gt;</th></tr>\n",
       "</thead>\n",
       "<tbody>\n",
       "\t<tr><th scope=row>ENCSR000EON</th><td>retinal pigment epithelial cell                    </td><td>retinal pigment epithelial cell</td></tr>\n",
       "\t<tr><th scope=row>ENCSR820ICX</th><td>retina female embryo (89 days)                     </td><td>retina                         </td></tr>\n",
       "\t<tr><th scope=row>ENCSR621ENC</th><td>retina embryo (74 days) and embryo (85 days)       </td><td>retina                         </td></tr>\n",
       "\t<tr><th scope=row>ENCSR474GZQ</th><td>retina embryo (125 days) and male embryo (103 days)</td><td>retina                         </td></tr>\n",
       "</tbody>\n",
       "</table>\n"
      ],
      "text/latex": [
       "A data.frame: 4 × 2\n",
       "\\begin{tabular}{r|ll}\n",
       "  & Biosample.summary & Biosample.term.name\\\\\n",
       "  & <fct> & <fct>\\\\\n",
       "\\hline\n",
       "\tENCSR000EON & retinal pigment epithelial cell                     & retinal pigment epithelial cell\\\\\n",
       "\tENCSR820ICX & retina female embryo (89 days)                      & retina                         \\\\\n",
       "\tENCSR621ENC & retina embryo (74 days) and embryo (85 days)        & retina                         \\\\\n",
       "\tENCSR474GZQ & retina embryo (125 days) and male embryo (103 days) & retina                         \\\\\n",
       "\\end{tabular}\n"
      ],
      "text/markdown": [
       "\n",
       "A data.frame: 4 × 2\n",
       "\n",
       "| <!--/--> | Biosample.summary &lt;fct&gt; | Biosample.term.name &lt;fct&gt; |\n",
       "|---|---|---|\n",
       "| ENCSR000EON | retinal pigment epithelial cell                     | retinal pigment epithelial cell |\n",
       "| ENCSR820ICX | retina female embryo (89 days)                      | retina                          |\n",
       "| ENCSR621ENC | retina embryo (74 days) and embryo (85 days)        | retina                          |\n",
       "| ENCSR474GZQ | retina embryo (125 days) and male embryo (103 days) | retina                          |\n",
       "\n"
      ],
      "text/plain": [
       "            Biosample.summary                                  \n",
       "ENCSR000EON retinal pigment epithelial cell                    \n",
       "ENCSR820ICX retina female embryo (89 days)                     \n",
       "ENCSR621ENC retina embryo (74 days) and embryo (85 days)       \n",
       "ENCSR474GZQ retina embryo (125 days) and male embryo (103 days)\n",
       "            Biosample.term.name            \n",
       "ENCSR000EON retinal pigment epithelial cell\n",
       "ENCSR820ICX retina                         \n",
       "ENCSR621ENC retina                         \n",
       "ENCSR474GZQ retina                         "
      ]
     },
     "metadata": {},
     "output_type": "display_data"
    }
   ],
   "source": [
    "metadata[grep(\"retina\", metadata$Biosample.term.name), ]"
   ]
  },
  {
   "cell_type": "code",
   "execution_count": 250,
   "metadata": {},
   "outputs": [
    {
     "data": {
      "text/html": [
       "109128"
      ],
      "text/latex": [
       "109128"
      ],
      "text/markdown": [
       "109128"
      ],
      "text/plain": [
       "[1] 109128"
      ]
     },
     "metadata": {},
     "output_type": "display_data"
    }
   ],
   "source": [
    "length(unique(queryHits(overlaps)))"
   ]
  },
  {
   "cell_type": "code",
   "execution_count": 251,
   "metadata": {},
   "outputs": [],
   "source": [
    "frac_reads_in_peak_set = colSums(cts[unique(queryHits(overlaps)),])/colSums(cts)\n",
    "norm_reads_in_peak_set = colSums(norm_cts[unique(queryHits(overlaps)),])"
   ]
  },
  {
   "cell_type": "code",
   "execution_count": 256,
   "metadata": {},
   "outputs": [
    {
     "data": {
      "text/html": [
       "<table>\n",
       "<caption>A data.frame: 20 × 3</caption>\n",
       "<thead>\n",
       "\t<tr><th></th><th scope=col>nrip</th><th scope=col>Biosample.summary</th><th scope=col>Biosample.term.name</th></tr>\n",
       "\t<tr><th></th><th scope=col>&lt;dbl&gt;</th><th scope=col>&lt;fct&gt;</th><th scope=col>&lt;fct&gt;</th></tr>\n",
       "</thead>\n",
       "<tbody>\n",
       "\t<tr><th scope=row>ENCSR620QNS</th><td>3600855</td><td>HAP-1                                                      </td><td>HAP-1                                </td></tr>\n",
       "\t<tr><th scope=row>ENCSR000ENO</th><td>3558392</td><td>HeLa-S3 G1b phase                                          </td><td>HeLa-S3                              </td></tr>\n",
       "\t<tr><th scope=row>ENCSR187PYY</th><td>3415408</td><td>brain female embryo (142 days)                             </td><td>brain                                </td></tr>\n",
       "\t<tr><th scope=row>ENCSR309FOO</th><td>3395847</td><td>brain female embryo (117 days)                             </td><td>brain                                </td></tr>\n",
       "\t<tr><th scope=row>ENCSR724CND</th><td>3340132</td><td>foreskin keratinocyte male newborn                         </td><td>foreskin keratinocyte                </td></tr>\n",
       "\t<tr><th scope=row>ENCSR156CLC</th><td>3248940</td><td>brain female embryo (96 days)                              </td><td>brain                                </td></tr>\n",
       "\t<tr><th scope=row>ENCSR000EON</th><td>3247259</td><td>retinal pigment epithelial cell                            </td><td>retinal pigment epithelial cell      </td></tr>\n",
       "\t<tr><th scope=row>ENCSR000ENU</th><td>3153767</td><td>HL-60                                                      </td><td>HL-60                                </td></tr>\n",
       "\t<tr><th scope=row>ENCSR000EPF</th><td>3146424</td><td>LNCaP clone FGC                                            </td><td>LNCaP clone FGC                      </td></tr>\n",
       "\t<tr><th scope=row>ENCSR000EMP</th><td>3124391</td><td>GM04504                                                    </td><td>GM04504                              </td></tr>\n",
       "\t<tr><th scope=row>ENCSR000EMO</th><td>3121758</td><td>GM04503                                                    </td><td>GM04503                              </td></tr>\n",
       "\t<tr><th scope=row>ENCSR562ACY</th><td>3092524</td><td>fibroblast of skin of left biceps male embryo (97 days)    </td><td>fibroblast of skin of left biceps    </td></tr>\n",
       "\t<tr><th scope=row>ENCSR555TFE</th><td>3073561</td><td>fibroblast of skin of left quadriceps male embryo (97 days)</td><td>fibroblast of skin of left quadriceps</td></tr>\n",
       "\t<tr><th scope=row>ENCSR649KBB</th><td>3027058</td><td>brain male embryo (122 days)                               </td><td>brain                                </td></tr>\n",
       "\t<tr><th scope=row>ENCSR000EPW</th><td>3003594</td><td>epithelial cell of proximal tubule                         </td><td>epithelial cell of proximal tubule   </td></tr>\n",
       "\t<tr><th scope=row>ENCSR947POC</th><td>2981676</td><td>brain male embryo (104 days)                               </td><td>brain                                </td></tr>\n",
       "\t<tr><th scope=row>ENCSR000EPX</th><td>2981371</td><td>bronchial epithelial cell                                  </td><td>bronchial epithelial cell            </td></tr>\n",
       "\t<tr><th scope=row>ENCSR000EPY</th><td>2971512</td><td>SK-N-MC                                                    </td><td>SK-N-MC                              </td></tr>\n",
       "\t<tr><th scope=row>ENCSR914DOH</th><td>2970652</td><td>heart female embryo (103 days)                             </td><td>heart                                </td></tr>\n",
       "\t<tr><th scope=row>ENCSR035RVH</th><td>2969674</td><td>foreskin keratinocyte male newborn                         </td><td>foreskin keratinocyte                </td></tr>\n",
       "</tbody>\n",
       "</table>\n"
      ],
      "text/latex": [
       "A data.frame: 20 × 3\n",
       "\\begin{tabular}{r|lll}\n",
       "  & nrip & Biosample.summary & Biosample.term.name\\\\\n",
       "  & <dbl> & <fct> & <fct>\\\\\n",
       "\\hline\n",
       "\tENCSR620QNS & 3600855 & HAP-1                                                       & HAP-1                                \\\\\n",
       "\tENCSR000ENO & 3558392 & HeLa-S3 G1b phase                                           & HeLa-S3                              \\\\\n",
       "\tENCSR187PYY & 3415408 & brain female embryo (142 days)                              & brain                                \\\\\n",
       "\tENCSR309FOO & 3395847 & brain female embryo (117 days)                              & brain                                \\\\\n",
       "\tENCSR724CND & 3340132 & foreskin keratinocyte male newborn                          & foreskin keratinocyte                \\\\\n",
       "\tENCSR156CLC & 3248940 & brain female embryo (96 days)                               & brain                                \\\\\n",
       "\tENCSR000EON & 3247259 & retinal pigment epithelial cell                             & retinal pigment epithelial cell      \\\\\n",
       "\tENCSR000ENU & 3153767 & HL-60                                                       & HL-60                                \\\\\n",
       "\tENCSR000EPF & 3146424 & LNCaP clone FGC                                             & LNCaP clone FGC                      \\\\\n",
       "\tENCSR000EMP & 3124391 & GM04504                                                     & GM04504                              \\\\\n",
       "\tENCSR000EMO & 3121758 & GM04503                                                     & GM04503                              \\\\\n",
       "\tENCSR562ACY & 3092524 & fibroblast of skin of left biceps male embryo (97 days)     & fibroblast of skin of left biceps    \\\\\n",
       "\tENCSR555TFE & 3073561 & fibroblast of skin of left quadriceps male embryo (97 days) & fibroblast of skin of left quadriceps\\\\\n",
       "\tENCSR649KBB & 3027058 & brain male embryo (122 days)                                & brain                                \\\\\n",
       "\tENCSR000EPW & 3003594 & epithelial cell of proximal tubule                          & epithelial cell of proximal tubule   \\\\\n",
       "\tENCSR947POC & 2981676 & brain male embryo (104 days)                                & brain                                \\\\\n",
       "\tENCSR000EPX & 2981371 & bronchial epithelial cell                                   & bronchial epithelial cell            \\\\\n",
       "\tENCSR000EPY & 2971512 & SK-N-MC                                                     & SK-N-MC                              \\\\\n",
       "\tENCSR914DOH & 2970652 & heart female embryo (103 days)                              & heart                                \\\\\n",
       "\tENCSR035RVH & 2969674 & foreskin keratinocyte male newborn                          & foreskin keratinocyte                \\\\\n",
       "\\end{tabular}\n"
      ],
      "text/markdown": [
       "\n",
       "A data.frame: 20 × 3\n",
       "\n",
       "| <!--/--> | nrip &lt;dbl&gt; | Biosample.summary &lt;fct&gt; | Biosample.term.name &lt;fct&gt; |\n",
       "|---|---|---|---|\n",
       "| ENCSR620QNS | 3600855 | HAP-1                                                       | HAP-1                                 |\n",
       "| ENCSR000ENO | 3558392 | HeLa-S3 G1b phase                                           | HeLa-S3                               |\n",
       "| ENCSR187PYY | 3415408 | brain female embryo (142 days)                              | brain                                 |\n",
       "| ENCSR309FOO | 3395847 | brain female embryo (117 days)                              | brain                                 |\n",
       "| ENCSR724CND | 3340132 | foreskin keratinocyte male newborn                          | foreskin keratinocyte                 |\n",
       "| ENCSR156CLC | 3248940 | brain female embryo (96 days)                               | brain                                 |\n",
       "| ENCSR000EON | 3247259 | retinal pigment epithelial cell                             | retinal pigment epithelial cell       |\n",
       "| ENCSR000ENU | 3153767 | HL-60                                                       | HL-60                                 |\n",
       "| ENCSR000EPF | 3146424 | LNCaP clone FGC                                             | LNCaP clone FGC                       |\n",
       "| ENCSR000EMP | 3124391 | GM04504                                                     | GM04504                               |\n",
       "| ENCSR000EMO | 3121758 | GM04503                                                     | GM04503                               |\n",
       "| ENCSR562ACY | 3092524 | fibroblast of skin of left biceps male embryo (97 days)     | fibroblast of skin of left biceps     |\n",
       "| ENCSR555TFE | 3073561 | fibroblast of skin of left quadriceps male embryo (97 days) | fibroblast of skin of left quadriceps |\n",
       "| ENCSR649KBB | 3027058 | brain male embryo (122 days)                                | brain                                 |\n",
       "| ENCSR000EPW | 3003594 | epithelial cell of proximal tubule                          | epithelial cell of proximal tubule    |\n",
       "| ENCSR947POC | 2981676 | brain male embryo (104 days)                                | brain                                 |\n",
       "| ENCSR000EPX | 2981371 | bronchial epithelial cell                                   | bronchial epithelial cell             |\n",
       "| ENCSR000EPY | 2971512 | SK-N-MC                                                     | SK-N-MC                               |\n",
       "| ENCSR914DOH | 2970652 | heart female embryo (103 days)                              | heart                                 |\n",
       "| ENCSR035RVH | 2969674 | foreskin keratinocyte male newborn                          | foreskin keratinocyte                 |\n",
       "\n"
      ],
      "text/plain": [
       "            nrip    Biosample.summary                                          \n",
       "ENCSR620QNS 3600855 HAP-1                                                      \n",
       "ENCSR000ENO 3558392 HeLa-S3 G1b phase                                          \n",
       "ENCSR187PYY 3415408 brain female embryo (142 days)                             \n",
       "ENCSR309FOO 3395847 brain female embryo (117 days)                             \n",
       "ENCSR724CND 3340132 foreskin keratinocyte male newborn                         \n",
       "ENCSR156CLC 3248940 brain female embryo (96 days)                              \n",
       "ENCSR000EON 3247259 retinal pigment epithelial cell                            \n",
       "ENCSR000ENU 3153767 HL-60                                                      \n",
       "ENCSR000EPF 3146424 LNCaP clone FGC                                            \n",
       "ENCSR000EMP 3124391 GM04504                                                    \n",
       "ENCSR000EMO 3121758 GM04503                                                    \n",
       "ENCSR562ACY 3092524 fibroblast of skin of left biceps male embryo (97 days)    \n",
       "ENCSR555TFE 3073561 fibroblast of skin of left quadriceps male embryo (97 days)\n",
       "ENCSR649KBB 3027058 brain male embryo (122 days)                               \n",
       "ENCSR000EPW 3003594 epithelial cell of proximal tubule                         \n",
       "ENCSR947POC 2981676 brain male embryo (104 days)                               \n",
       "ENCSR000EPX 2981371 bronchial epithelial cell                                  \n",
       "ENCSR000EPY 2971512 SK-N-MC                                                    \n",
       "ENCSR914DOH 2970652 heart female embryo (103 days)                             \n",
       "ENCSR035RVH 2969674 foreskin keratinocyte male newborn                         \n",
       "            Biosample.term.name                  \n",
       "ENCSR620QNS HAP-1                                \n",
       "ENCSR000ENO HeLa-S3                              \n",
       "ENCSR187PYY brain                                \n",
       "ENCSR309FOO brain                                \n",
       "ENCSR724CND foreskin keratinocyte                \n",
       "ENCSR156CLC brain                                \n",
       "ENCSR000EON retinal pigment epithelial cell      \n",
       "ENCSR000ENU HL-60                                \n",
       "ENCSR000EPF LNCaP clone FGC                      \n",
       "ENCSR000EMP GM04504                              \n",
       "ENCSR000EMO GM04503                              \n",
       "ENCSR562ACY fibroblast of skin of left biceps    \n",
       "ENCSR555TFE fibroblast of skin of left quadriceps\n",
       "ENCSR649KBB brain                                \n",
       "ENCSR000EPW epithelial cell of proximal tubule   \n",
       "ENCSR947POC brain                                \n",
       "ENCSR000EPX bronchial epithelial cell            \n",
       "ENCSR000EPY SK-N-MC                              \n",
       "ENCSR914DOH heart                                \n",
       "ENCSR035RVH foreskin keratinocyte                "
      ]
     },
     "metadata": {},
     "output_type": "display_data"
    }
   ],
   "source": [
    "df = data.frame(nrip=norm_reads_in_peak_set,\n",
    "               metadata[names(norm_reads_in_peak_set),])\n",
    "df = df[rev(order(df$nrip)), c(\"nrip\", \"Biosample.summary\", \"Biosample.term.name\")]\n",
    "head(df, 20)"
   ]
  },
  {
   "cell_type": "code",
   "execution_count": 258,
   "metadata": {},
   "outputs": [
    {
     "data": {
      "text/html": [
       "<table>\n",
       "<caption>A data.frame: 100 × 3</caption>\n",
       "<thead>\n",
       "\t<tr><th></th><th scope=col>percentage</th><th scope=col>Biosample.summary</th><th scope=col>Biosample.term.name</th></tr>\n",
       "\t<tr><th></th><th scope=col>&lt;dbl&gt;</th><th scope=col>&lt;fct&gt;</th><th scope=col>&lt;fct&gt;</th></tr>\n",
       "</thead>\n",
       "<tbody>\n",
       "\t<tr><th scope=row>ENCSR620QNS</th><td>8.186784</td><td>HAP-1                                                                                                                                                                     </td><td>HAP-1                                    </td></tr>\n",
       "\t<tr><th scope=row>ENCSR420NOA</th><td>6.722068</td><td>hematopoietic multipotent progenitor cell treated with interleukin-3 for 11 day, kit ligand for 11 day, hydrocortisone succinate for 11 day, erythropoietin for 11 day    </td><td>hematopoietic multipotent progenitor cell</td></tr>\n",
       "\t<tr><th scope=row>ENCSR318PRQ</th><td>6.679637</td><td>middle frontal gyrus male adult (78 years)                                                                                                                                </td><td>middle frontal gyrus                     </td></tr>\n",
       "\t<tr><th scope=row>ENCSR706IDL</th><td>6.593538</td><td>midbrain male adult (78 years) and male adult (84 years)                                                                                                                  </td><td>midbrain                                 </td></tr>\n",
       "\t<tr><th scope=row>ENCSR015BGH</th><td>6.578093</td><td>caudate nucleus male adult (78 years)                                                                                                                                     </td><td>caudate nucleus                          </td></tr>\n",
       "\t<tr><th scope=row>ENCSR000EPX</th><td>6.461754</td><td>bronchial epithelial cell                                                                                                                                                 </td><td>bronchial epithelial cell                </td></tr>\n",
       "\t<tr><th scope=row>ENCSR224IYD</th><td>6.438872</td><td>medulla oblongata male adult (78 years) and male adult (84 years)                                                                                                         </td><td>medulla oblongata                        </td></tr>\n",
       "\t<tr><th scope=row>ENCSR859CZM</th><td>6.403644</td><td>occipital lobe male adult (84 years)                                                                                                                                      </td><td>occipital lobe                           </td></tr>\n",
       "\t<tr><th scope=row>ENCSR937UWI</th><td>6.394680</td><td>hematopoietic multipotent progenitor cell treated with interleukin-3 for 15 days, kit ligand for 15 days, hydrocortisone succinate for 15 days, erythropoietin for 15 days</td><td>hematopoietic multipotent progenitor cell</td></tr>\n",
       "\t<tr><th scope=row>ENCSR000EPY</th><td>6.358615</td><td>SK-N-MC                                                                                                                                                                   </td><td>SK-N-MC                                  </td></tr>\n",
       "\t<tr><th scope=row>ENCSR000EPU</th><td>6.309066</td><td>epithelial cell of prostate                                                                                                                                               </td><td>epithelial cell of prostate              </td></tr>\n",
       "\t<tr><th scope=row>ENCSR533VAF</th><td>6.303331</td><td>heart female embryo (147 days)                                                                                                                                            </td><td>heart                                    </td></tr>\n",
       "\t<tr><th scope=row>ENCSR979ZJS</th><td>6.289876</td><td>transverse colon male adult (37 years)                                                                                                                                    </td><td>transverse colon                         </td></tr>\n",
       "\t<tr><th scope=row>ENCSR000EPQ</th><td>6.244177</td><td>keratinocyte female                                                                                                                                                       </td><td>keratinocyte                             </td></tr>\n",
       "\t<tr><th scope=row>ENCSR771DAX</th><td>6.243885</td><td>globus pallidus male adult (78 years) and male adult (84 years)                                                                                                           </td><td>globus pallidus                          </td></tr>\n",
       "\t<tr><th scope=row>ENCSR187PYY</th><td>6.241802</td><td>brain female embryo (142 days)                                                                                                                                            </td><td>brain                                    </td></tr>\n",
       "\t<tr><th scope=row>ENCSR845CFB</th><td>6.241070</td><td>hematopoietic multipotent progenitor cell treated with interleukin-3 for 8 days, kit ligand for 8 days, hydrocortisone succinate for 8 days, erythropoietin for 8 days    </td><td>hematopoietic multipotent progenitor cell</td></tr>\n",
       "\t<tr><th scope=row>ENCSR518JGY</th><td>6.234390</td><td>foreskin melanocyte male newborn                                                                                                                                          </td><td>foreskin melanocyte                      </td></tr>\n",
       "\t<tr><th scope=row>ENCSR000EIN</th><td>6.231988</td><td>COLO829                                                                                                                                                                   </td><td>COLO829                                  </td></tr>\n",
       "\t<tr><th scope=row>ENCSR931UQB</th><td>6.201617</td><td>small intestine male adult (34 years)                                                                                                                                     </td><td>small intestine                          </td></tr>\n",
       "\t<tr><th scope=row>ENCSR000EQF</th><td>6.201563</td><td>T-helper 17 cell                                                                                                                                                          </td><td>T-helper 17 cell                         </td></tr>\n",
       "\t<tr><th scope=row>ENCSR000EOQ</th><td>6.198471</td><td>endothelial cell of umbilical vein newborn                                                                                                                                </td><td>endothelial cell of umbilical vein       </td></tr>\n",
       "\t<tr><th scope=row>ENCSR434OBM</th><td>6.192132</td><td>foreskin melanocyte male newborn                                                                                                                                          </td><td>foreskin melanocyte                      </td></tr>\n",
       "\t<tr><th scope=row>ENCSR035RVH</th><td>6.190689</td><td>foreskin keratinocyte male newborn                                                                                                                                        </td><td>foreskin keratinocyte                    </td></tr>\n",
       "\t<tr><th scope=row>ENCSR008SDL</th><td>6.166544</td><td>SK-MEL-5                                                                                                                                                                  </td><td>SK-MEL-5                                 </td></tr>\n",
       "\t<tr><th scope=row>ENCSR937RVN</th><td>6.161476</td><td>muscle of leg male embryo (115 days)                                                                                                                                      </td><td>muscle of leg                            </td></tr>\n",
       "\t<tr><th scope=row>ENCSR000ENN</th><td>6.142292</td><td>epithelial cell of esophagus                                                                                                                                              </td><td>epithelial cell of esophagus             </td></tr>\n",
       "\t<tr><th scope=row>ENCSR052AWE</th><td>6.140112</td><td>PC-3                                                                                                                                                                      </td><td>PC-3                                     </td></tr>\n",
       "\t<tr><th scope=row>ENCSR782SSS</th><td>6.137295</td><td>stomach male adult (34 years)                                                                                                                                             </td><td>stomach                                  </td></tr>\n",
       "\t<tr><th scope=row>ENCSR000EOK</th><td>6.124725</td><td>renal cortical epithelial cell                                                                                                                                            </td><td>renal cortical epithelial cell           </td></tr>\n",
       "\t<tr><th scope=row>⋮</th><td>⋮</td><td>⋮</td><td>⋮</td></tr>\n",
       "\t<tr><th scope=row>ENCSR118WIQ</th><td>5.938115</td><td>brain embryo (112 days)                                                                                                                                                   </td><td>brain                                               </td></tr>\n",
       "\t<tr><th scope=row>ENCSR265TEK</th><td>5.937353</td><td>NCI-H226                                                                                                                                                                  </td><td>NCI-H226                                            </td></tr>\n",
       "\t<tr><th scope=row>ENCSR846CTA</th><td>5.934287</td><td>right lung male embryo (105 days)                                                                                                                                         </td><td>right lung                                          </td></tr>\n",
       "\t<tr><th scope=row>ENCSR914DOH</th><td>5.928232</td><td>heart female embryo (103 days)                                                                                                                                            </td><td>heart                                               </td></tr>\n",
       "\t<tr><th scope=row>ENCSR156CLC</th><td>5.924553</td><td>brain female embryo (96 days)                                                                                                                                             </td><td>brain                                               </td></tr>\n",
       "\t<tr><th scope=row>ENCSR865ICK</th><td>5.921189</td><td>adrenal gland female adult (51 year)                                                                                                                                      </td><td>adrenal gland                                       </td></tr>\n",
       "\t<tr><th scope=row>ENCSR868XPR</th><td>5.916589</td><td>muscle of arm male embryo (115 days)                                                                                                                                      </td><td>muscle of arm                                       </td></tr>\n",
       "\t<tr><th scope=row>ENCSR257CIZ</th><td>5.912800</td><td>kidney tubule cell female adult (80 years) treated with 5 μM cisplatin                                                                                                    </td><td>kidney tubule cell                                  </td></tr>\n",
       "\t<tr><th scope=row>ENCSR000EIV</th><td>5.903928</td><td>AG08395                                                                                                                                                                   </td><td>AG08395                                             </td></tr>\n",
       "\t<tr><th scope=row>ENCSR121ZSL</th><td>5.902558</td><td>trophoblast cell embryo (21 week)                                                                                                                                         </td><td>trophoblast cell                                    </td></tr>\n",
       "\t<tr><th scope=row>ENCSR000EJB</th><td>5.900685</td><td>GM10248                                                                                                                                                                   </td><td>GM10248                                             </td></tr>\n",
       "\t<tr><th scope=row>ENCSR564JUY</th><td>5.898008</td><td>hematopoietic multipotent progenitor cell treated with interleukin-3 for 6 days, kit ligand for 6 days, hydrocortisone succinate for 6 days, erythropoietin for 6 days    </td><td>hematopoietic multipotent progenitor cell           </td></tr>\n",
       "\t<tr><th scope=row>ENCSR148VUP</th><td>5.892730</td><td>hematopoietic multipotent progenitor cell treated with interleukin-3 for 4 days, kit ligand for 4 days, hydrocortisone succinate for 4 days, erythropoietin for 4 days    </td><td>hematopoietic multipotent progenitor cell           </td></tr>\n",
       "\t<tr><th scope=row>ENCSR115YPI</th><td>5.891864</td><td>hematopoietic multipotent progenitor cell treated with erythropoietin for 20 days, hydrocortisone succinate for 20 days, kit ligand for 20 days, interleukin-3 for 20 days</td><td>hematopoietic multipotent progenitor cell           </td></tr>\n",
       "\t<tr><th scope=row>ENCSR638HMQ</th><td>5.883706</td><td>NCI-H460                                                                                                                                                                  </td><td>NCI-H460                                            </td></tr>\n",
       "\t<tr><th scope=row>ENCSR000EJS</th><td>5.878727</td><td>HeLa-S3 treated with interferon alpha for 4 hours                                                                                                                         </td><td>HeLa-S3                                             </td></tr>\n",
       "\t<tr><th scope=row>ENCSR809CEA</th><td>5.878140</td><td>H4                                                                                                                                                                        </td><td>H4                                                  </td></tr>\n",
       "\t<tr><th scope=row>ENCSR587HPR</th><td>5.871969</td><td>lung male embryo (82 days)                                                                                                                                                </td><td>lung                                                </td></tr>\n",
       "\t<tr><th scope=row>ENCSR000EPF</th><td>5.871438</td><td>LNCaP clone FGC                                                                                                                                                           </td><td>LNCaP clone FGC                                     </td></tr>\n",
       "\t<tr><th scope=row>ENCSR000EKL</th><td>5.866432</td><td>Ishikawa treated with 600 nM afimoxifene for 30 minutes                                                                                                                   </td><td>Ishikawa                                            </td></tr>\n",
       "\t<tr><th scope=row>ENCSR000EPN</th><td>5.865641</td><td>bronchial epithelial cell female treated with 6 μM retinoic acid for 48 hours                                                                                             </td><td>bronchial epithelial cell                           </td></tr>\n",
       "\t<tr><th scope=row>ENCSR000EML</th><td>5.861726</td><td>naive thymus-derived CD4-positive, alpha-beta T cell male adult (26 years)                                                                                                </td><td>naive thymus-derived CD4-positive, alpha-beta T cell</td></tr>\n",
       "\t<tr><th scope=row>ENCSR149XIL</th><td>5.859479</td><td>HepG2                                                                                                                                                                     </td><td>HepG2                                               </td></tr>\n",
       "\t<tr><th scope=row>ENCSR582IPV</th><td>5.857510</td><td>lung embryo (80 days) and male embryo (76 days)                                                                                                                           </td><td>lung                                                </td></tr>\n",
       "\t<tr><th scope=row>ENCSR017OZH</th><td>5.856561</td><td>H9 S1 phase genetically modified using stable transfection                                                                                                                </td><td>H9                                                  </td></tr>\n",
       "\t<tr><th scope=row>ENCSR000ELP</th><td>5.850508</td><td>RWPE1                                                                                                                                                                     </td><td>RWPE1                                               </td></tr>\n",
       "\t<tr><th scope=row>ENCSR946MVP</th><td>5.849870</td><td>SK-N-DZ                                                                                                                                                                   </td><td>SK-N-DZ                                             </td></tr>\n",
       "\t<tr><th scope=row>ENCSR940NLN</th><td>5.844904</td><td>PC-9                                                                                                                                                                      </td><td>PC-9                                                </td></tr>\n",
       "\t<tr><th scope=row>ENCSR437KLY</th><td>5.841253</td><td>kidney female embryo (85 days)                                                                                                                                            </td><td>kidney                                              </td></tr>\n",
       "\t<tr><th scope=row>ENCSR000EPP</th><td>5.840987</td><td>foreskin fibroblast male newborn                                                                                                                                          </td><td>foreskin fibroblast                                 </td></tr>\n",
       "</tbody>\n",
       "</table>\n"
      ],
      "text/latex": [
       "A data.frame: 100 × 3\n",
       "\\begin{tabular}{r|lll}\n",
       "  & percentage & Biosample.summary & Biosample.term.name\\\\\n",
       "  & <dbl> & <fct> & <fct>\\\\\n",
       "\\hline\n",
       "\tENCSR620QNS & 8.186784 & HAP-1                                                                                                                                                                      & HAP-1                                    \\\\\n",
       "\tENCSR420NOA & 6.722068 & hematopoietic multipotent progenitor cell treated with interleukin-3 for 11 day, kit ligand for 11 day, hydrocortisone succinate for 11 day, erythropoietin for 11 day     & hematopoietic multipotent progenitor cell\\\\\n",
       "\tENCSR318PRQ & 6.679637 & middle frontal gyrus male adult (78 years)                                                                                                                                 & middle frontal gyrus                     \\\\\n",
       "\tENCSR706IDL & 6.593538 & midbrain male adult (78 years) and male adult (84 years)                                                                                                                   & midbrain                                 \\\\\n",
       "\tENCSR015BGH & 6.578093 & caudate nucleus male adult (78 years)                                                                                                                                      & caudate nucleus                          \\\\\n",
       "\tENCSR000EPX & 6.461754 & bronchial epithelial cell                                                                                                                                                  & bronchial epithelial cell                \\\\\n",
       "\tENCSR224IYD & 6.438872 & medulla oblongata male adult (78 years) and male adult (84 years)                                                                                                          & medulla oblongata                        \\\\\n",
       "\tENCSR859CZM & 6.403644 & occipital lobe male adult (84 years)                                                                                                                                       & occipital lobe                           \\\\\n",
       "\tENCSR937UWI & 6.394680 & hematopoietic multipotent progenitor cell treated with interleukin-3 for 15 days, kit ligand for 15 days, hydrocortisone succinate for 15 days, erythropoietin for 15 days & hematopoietic multipotent progenitor cell\\\\\n",
       "\tENCSR000EPY & 6.358615 & SK-N-MC                                                                                                                                                                    & SK-N-MC                                  \\\\\n",
       "\tENCSR000EPU & 6.309066 & epithelial cell of prostate                                                                                                                                                & epithelial cell of prostate              \\\\\n",
       "\tENCSR533VAF & 6.303331 & heart female embryo (147 days)                                                                                                                                             & heart                                    \\\\\n",
       "\tENCSR979ZJS & 6.289876 & transverse colon male adult (37 years)                                                                                                                                     & transverse colon                         \\\\\n",
       "\tENCSR000EPQ & 6.244177 & keratinocyte female                                                                                                                                                        & keratinocyte                             \\\\\n",
       "\tENCSR771DAX & 6.243885 & globus pallidus male adult (78 years) and male adult (84 years)                                                                                                            & globus pallidus                          \\\\\n",
       "\tENCSR187PYY & 6.241802 & brain female embryo (142 days)                                                                                                                                             & brain                                    \\\\\n",
       "\tENCSR845CFB & 6.241070 & hematopoietic multipotent progenitor cell treated with interleukin-3 for 8 days, kit ligand for 8 days, hydrocortisone succinate for 8 days, erythropoietin for 8 days     & hematopoietic multipotent progenitor cell\\\\\n",
       "\tENCSR518JGY & 6.234390 & foreskin melanocyte male newborn                                                                                                                                           & foreskin melanocyte                      \\\\\n",
       "\tENCSR000EIN & 6.231988 & COLO829                                                                                                                                                                    & COLO829                                  \\\\\n",
       "\tENCSR931UQB & 6.201617 & small intestine male adult (34 years)                                                                                                                                      & small intestine                          \\\\\n",
       "\tENCSR000EQF & 6.201563 & T-helper 17 cell                                                                                                                                                           & T-helper 17 cell                         \\\\\n",
       "\tENCSR000EOQ & 6.198471 & endothelial cell of umbilical vein newborn                                                                                                                                 & endothelial cell of umbilical vein       \\\\\n",
       "\tENCSR434OBM & 6.192132 & foreskin melanocyte male newborn                                                                                                                                           & foreskin melanocyte                      \\\\\n",
       "\tENCSR035RVH & 6.190689 & foreskin keratinocyte male newborn                                                                                                                                         & foreskin keratinocyte                    \\\\\n",
       "\tENCSR008SDL & 6.166544 & SK-MEL-5                                                                                                                                                                   & SK-MEL-5                                 \\\\\n",
       "\tENCSR937RVN & 6.161476 & muscle of leg male embryo (115 days)                                                                                                                                       & muscle of leg                            \\\\\n",
       "\tENCSR000ENN & 6.142292 & epithelial cell of esophagus                                                                                                                                               & epithelial cell of esophagus             \\\\\n",
       "\tENCSR052AWE & 6.140112 & PC-3                                                                                                                                                                       & PC-3                                     \\\\\n",
       "\tENCSR782SSS & 6.137295 & stomach male adult (34 years)                                                                                                                                              & stomach                                  \\\\\n",
       "\tENCSR000EOK & 6.124725 & renal cortical epithelial cell                                                                                                                                             & renal cortical epithelial cell           \\\\\n",
       "\t⋮ & ⋮ & ⋮ & ⋮\\\\\n",
       "\tENCSR118WIQ & 5.938115 & brain embryo (112 days)                                                                                                                                                    & brain                                               \\\\\n",
       "\tENCSR265TEK & 5.937353 & NCI-H226                                                                                                                                                                   & NCI-H226                                            \\\\\n",
       "\tENCSR846CTA & 5.934287 & right lung male embryo (105 days)                                                                                                                                          & right lung                                          \\\\\n",
       "\tENCSR914DOH & 5.928232 & heart female embryo (103 days)                                                                                                                                             & heart                                               \\\\\n",
       "\tENCSR156CLC & 5.924553 & brain female embryo (96 days)                                                                                                                                              & brain                                               \\\\\n",
       "\tENCSR865ICK & 5.921189 & adrenal gland female adult (51 year)                                                                                                                                       & adrenal gland                                       \\\\\n",
       "\tENCSR868XPR & 5.916589 & muscle of arm male embryo (115 days)                                                                                                                                       & muscle of arm                                       \\\\\n",
       "\tENCSR257CIZ & 5.912800 & kidney tubule cell female adult (80 years) treated with 5 μM cisplatin                                                                                                     & kidney tubule cell                                  \\\\\n",
       "\tENCSR000EIV & 5.903928 & AG08395                                                                                                                                                                    & AG08395                                             \\\\\n",
       "\tENCSR121ZSL & 5.902558 & trophoblast cell embryo (21 week)                                                                                                                                          & trophoblast cell                                    \\\\\n",
       "\tENCSR000EJB & 5.900685 & GM10248                                                                                                                                                                    & GM10248                                             \\\\\n",
       "\tENCSR564JUY & 5.898008 & hematopoietic multipotent progenitor cell treated with interleukin-3 for 6 days, kit ligand for 6 days, hydrocortisone succinate for 6 days, erythropoietin for 6 days     & hematopoietic multipotent progenitor cell           \\\\\n",
       "\tENCSR148VUP & 5.892730 & hematopoietic multipotent progenitor cell treated with interleukin-3 for 4 days, kit ligand for 4 days, hydrocortisone succinate for 4 days, erythropoietin for 4 days     & hematopoietic multipotent progenitor cell           \\\\\n",
       "\tENCSR115YPI & 5.891864 & hematopoietic multipotent progenitor cell treated with erythropoietin for 20 days, hydrocortisone succinate for 20 days, kit ligand for 20 days, interleukin-3 for 20 days & hematopoietic multipotent progenitor cell           \\\\\n",
       "\tENCSR638HMQ & 5.883706 & NCI-H460                                                                                                                                                                   & NCI-H460                                            \\\\\n",
       "\tENCSR000EJS & 5.878727 & HeLa-S3 treated with interferon alpha for 4 hours                                                                                                                          & HeLa-S3                                             \\\\\n",
       "\tENCSR809CEA & 5.878140 & H4                                                                                                                                                                         & H4                                                  \\\\\n",
       "\tENCSR587HPR & 5.871969 & lung male embryo (82 days)                                                                                                                                                 & lung                                                \\\\\n",
       "\tENCSR000EPF & 5.871438 & LNCaP clone FGC                                                                                                                                                            & LNCaP clone FGC                                     \\\\\n",
       "\tENCSR000EKL & 5.866432 & Ishikawa treated with 600 nM afimoxifene for 30 minutes                                                                                                                    & Ishikawa                                            \\\\\n",
       "\tENCSR000EPN & 5.865641 & bronchial epithelial cell female treated with 6 μM retinoic acid for 48 hours                                                                                              & bronchial epithelial cell                           \\\\\n",
       "\tENCSR000EML & 5.861726 & naive thymus-derived CD4-positive, alpha-beta T cell male adult (26 years)                                                                                                 & naive thymus-derived CD4-positive, alpha-beta T cell\\\\\n",
       "\tENCSR149XIL & 5.859479 & HepG2                                                                                                                                                                      & HepG2                                               \\\\\n",
       "\tENCSR582IPV & 5.857510 & lung embryo (80 days) and male embryo (76 days)                                                                                                                            & lung                                                \\\\\n",
       "\tENCSR017OZH & 5.856561 & H9 S1 phase genetically modified using stable transfection                                                                                                                 & H9                                                  \\\\\n",
       "\tENCSR000ELP & 5.850508 & RWPE1                                                                                                                                                                      & RWPE1                                               \\\\\n",
       "\tENCSR946MVP & 5.849870 & SK-N-DZ                                                                                                                                                                    & SK-N-DZ                                             \\\\\n",
       "\tENCSR940NLN & 5.844904 & PC-9                                                                                                                                                                       & PC-9                                                \\\\\n",
       "\tENCSR437KLY & 5.841253 & kidney female embryo (85 days)                                                                                                                                             & kidney                                              \\\\\n",
       "\tENCSR000EPP & 5.840987 & foreskin fibroblast male newborn                                                                                                                                           & foreskin fibroblast                                 \\\\\n",
       "\\end{tabular}\n"
      ],
      "text/markdown": [
       "\n",
       "A data.frame: 100 × 3\n",
       "\n",
       "| <!--/--> | percentage &lt;dbl&gt; | Biosample.summary &lt;fct&gt; | Biosample.term.name &lt;fct&gt; |\n",
       "|---|---|---|---|\n",
       "| ENCSR620QNS | 8.186784 | HAP-1                                                                                                                                                                      | HAP-1                                     |\n",
       "| ENCSR420NOA | 6.722068 | hematopoietic multipotent progenitor cell treated with interleukin-3 for 11 day, kit ligand for 11 day, hydrocortisone succinate for 11 day, erythropoietin for 11 day     | hematopoietic multipotent progenitor cell |\n",
       "| ENCSR318PRQ | 6.679637 | middle frontal gyrus male adult (78 years)                                                                                                                                 | middle frontal gyrus                      |\n",
       "| ENCSR706IDL | 6.593538 | midbrain male adult (78 years) and male adult (84 years)                                                                                                                   | midbrain                                  |\n",
       "| ENCSR015BGH | 6.578093 | caudate nucleus male adult (78 years)                                                                                                                                      | caudate nucleus                           |\n",
       "| ENCSR000EPX | 6.461754 | bronchial epithelial cell                                                                                                                                                  | bronchial epithelial cell                 |\n",
       "| ENCSR224IYD | 6.438872 | medulla oblongata male adult (78 years) and male adult (84 years)                                                                                                          | medulla oblongata                         |\n",
       "| ENCSR859CZM | 6.403644 | occipital lobe male adult (84 years)                                                                                                                                       | occipital lobe                            |\n",
       "| ENCSR937UWI | 6.394680 | hematopoietic multipotent progenitor cell treated with interleukin-3 for 15 days, kit ligand for 15 days, hydrocortisone succinate for 15 days, erythropoietin for 15 days | hematopoietic multipotent progenitor cell |\n",
       "| ENCSR000EPY | 6.358615 | SK-N-MC                                                                                                                                                                    | SK-N-MC                                   |\n",
       "| ENCSR000EPU | 6.309066 | epithelial cell of prostate                                                                                                                                                | epithelial cell of prostate               |\n",
       "| ENCSR533VAF | 6.303331 | heart female embryo (147 days)                                                                                                                                             | heart                                     |\n",
       "| ENCSR979ZJS | 6.289876 | transverse colon male adult (37 years)                                                                                                                                     | transverse colon                          |\n",
       "| ENCSR000EPQ | 6.244177 | keratinocyte female                                                                                                                                                        | keratinocyte                              |\n",
       "| ENCSR771DAX | 6.243885 | globus pallidus male adult (78 years) and male adult (84 years)                                                                                                            | globus pallidus                           |\n",
       "| ENCSR187PYY | 6.241802 | brain female embryo (142 days)                                                                                                                                             | brain                                     |\n",
       "| ENCSR845CFB | 6.241070 | hematopoietic multipotent progenitor cell treated with interleukin-3 for 8 days, kit ligand for 8 days, hydrocortisone succinate for 8 days, erythropoietin for 8 days     | hematopoietic multipotent progenitor cell |\n",
       "| ENCSR518JGY | 6.234390 | foreskin melanocyte male newborn                                                                                                                                           | foreskin melanocyte                       |\n",
       "| ENCSR000EIN | 6.231988 | COLO829                                                                                                                                                                    | COLO829                                   |\n",
       "| ENCSR931UQB | 6.201617 | small intestine male adult (34 years)                                                                                                                                      | small intestine                           |\n",
       "| ENCSR000EQF | 6.201563 | T-helper 17 cell                                                                                                                                                           | T-helper 17 cell                          |\n",
       "| ENCSR000EOQ | 6.198471 | endothelial cell of umbilical vein newborn                                                                                                                                 | endothelial cell of umbilical vein        |\n",
       "| ENCSR434OBM | 6.192132 | foreskin melanocyte male newborn                                                                                                                                           | foreskin melanocyte                       |\n",
       "| ENCSR035RVH | 6.190689 | foreskin keratinocyte male newborn                                                                                                                                         | foreskin keratinocyte                     |\n",
       "| ENCSR008SDL | 6.166544 | SK-MEL-5                                                                                                                                                                   | SK-MEL-5                                  |\n",
       "| ENCSR937RVN | 6.161476 | muscle of leg male embryo (115 days)                                                                                                                                       | muscle of leg                             |\n",
       "| ENCSR000ENN | 6.142292 | epithelial cell of esophagus                                                                                                                                               | epithelial cell of esophagus              |\n",
       "| ENCSR052AWE | 6.140112 | PC-3                                                                                                                                                                       | PC-3                                      |\n",
       "| ENCSR782SSS | 6.137295 | stomach male adult (34 years)                                                                                                                                              | stomach                                   |\n",
       "| ENCSR000EOK | 6.124725 | renal cortical epithelial cell                                                                                                                                             | renal cortical epithelial cell            |\n",
       "| ⋮ | ⋮ | ⋮ | ⋮ |\n",
       "| ENCSR118WIQ | 5.938115 | brain embryo (112 days)                                                                                                                                                    | brain                                                |\n",
       "| ENCSR265TEK | 5.937353 | NCI-H226                                                                                                                                                                   | NCI-H226                                             |\n",
       "| ENCSR846CTA | 5.934287 | right lung male embryo (105 days)                                                                                                                                          | right lung                                           |\n",
       "| ENCSR914DOH | 5.928232 | heart female embryo (103 days)                                                                                                                                             | heart                                                |\n",
       "| ENCSR156CLC | 5.924553 | brain female embryo (96 days)                                                                                                                                              | brain                                                |\n",
       "| ENCSR865ICK | 5.921189 | adrenal gland female adult (51 year)                                                                                                                                       | adrenal gland                                        |\n",
       "| ENCSR868XPR | 5.916589 | muscle of arm male embryo (115 days)                                                                                                                                       | muscle of arm                                        |\n",
       "| ENCSR257CIZ | 5.912800 | kidney tubule cell female adult (80 years) treated with 5 μM cisplatin                                                                                                     | kidney tubule cell                                   |\n",
       "| ENCSR000EIV | 5.903928 | AG08395                                                                                                                                                                    | AG08395                                              |\n",
       "| ENCSR121ZSL | 5.902558 | trophoblast cell embryo (21 week)                                                                                                                                          | trophoblast cell                                     |\n",
       "| ENCSR000EJB | 5.900685 | GM10248                                                                                                                                                                    | GM10248                                              |\n",
       "| ENCSR564JUY | 5.898008 | hematopoietic multipotent progenitor cell treated with interleukin-3 for 6 days, kit ligand for 6 days, hydrocortisone succinate for 6 days, erythropoietin for 6 days     | hematopoietic multipotent progenitor cell            |\n",
       "| ENCSR148VUP | 5.892730 | hematopoietic multipotent progenitor cell treated with interleukin-3 for 4 days, kit ligand for 4 days, hydrocortisone succinate for 4 days, erythropoietin for 4 days     | hematopoietic multipotent progenitor cell            |\n",
       "| ENCSR115YPI | 5.891864 | hematopoietic multipotent progenitor cell treated with erythropoietin for 20 days, hydrocortisone succinate for 20 days, kit ligand for 20 days, interleukin-3 for 20 days | hematopoietic multipotent progenitor cell            |\n",
       "| ENCSR638HMQ | 5.883706 | NCI-H460                                                                                                                                                                   | NCI-H460                                             |\n",
       "| ENCSR000EJS | 5.878727 | HeLa-S3 treated with interferon alpha for 4 hours                                                                                                                          | HeLa-S3                                              |\n",
       "| ENCSR809CEA | 5.878140 | H4                                                                                                                                                                         | H4                                                   |\n",
       "| ENCSR587HPR | 5.871969 | lung male embryo (82 days)                                                                                                                                                 | lung                                                 |\n",
       "| ENCSR000EPF | 5.871438 | LNCaP clone FGC                                                                                                                                                            | LNCaP clone FGC                                      |\n",
       "| ENCSR000EKL | 5.866432 | Ishikawa treated with 600 nM afimoxifene for 30 minutes                                                                                                                    | Ishikawa                                             |\n",
       "| ENCSR000EPN | 5.865641 | bronchial epithelial cell female treated with 6 μM retinoic acid for 48 hours                                                                                              | bronchial epithelial cell                            |\n",
       "| ENCSR000EML | 5.861726 | naive thymus-derived CD4-positive, alpha-beta T cell male adult (26 years)                                                                                                 | naive thymus-derived CD4-positive, alpha-beta T cell |\n",
       "| ENCSR149XIL | 5.859479 | HepG2                                                                                                                                                                      | HepG2                                                |\n",
       "| ENCSR582IPV | 5.857510 | lung embryo (80 days) and male embryo (76 days)                                                                                                                            | lung                                                 |\n",
       "| ENCSR017OZH | 5.856561 | H9 S1 phase genetically modified using stable transfection                                                                                                                 | H9                                                   |\n",
       "| ENCSR000ELP | 5.850508 | RWPE1                                                                                                                                                                      | RWPE1                                                |\n",
       "| ENCSR946MVP | 5.849870 | SK-N-DZ                                                                                                                                                                    | SK-N-DZ                                              |\n",
       "| ENCSR940NLN | 5.844904 | PC-9                                                                                                                                                                       | PC-9                                                 |\n",
       "| ENCSR437KLY | 5.841253 | kidney female embryo (85 days)                                                                                                                                             | kidney                                               |\n",
       "| ENCSR000EPP | 5.840987 | foreskin fibroblast male newborn                                                                                                                                           | foreskin fibroblast                                  |\n",
       "\n"
      ],
      "text/plain": [
       "            percentage\n",
       "ENCSR620QNS 8.186784  \n",
       "ENCSR420NOA 6.722068  \n",
       "ENCSR318PRQ 6.679637  \n",
       "ENCSR706IDL 6.593538  \n",
       "ENCSR015BGH 6.578093  \n",
       "ENCSR000EPX 6.461754  \n",
       "ENCSR224IYD 6.438872  \n",
       "ENCSR859CZM 6.403644  \n",
       "ENCSR937UWI 6.394680  \n",
       "ENCSR000EPY 6.358615  \n",
       "ENCSR000EPU 6.309066  \n",
       "ENCSR533VAF 6.303331  \n",
       "ENCSR979ZJS 6.289876  \n",
       "ENCSR000EPQ 6.244177  \n",
       "ENCSR771DAX 6.243885  \n",
       "ENCSR187PYY 6.241802  \n",
       "ENCSR845CFB 6.241070  \n",
       "ENCSR518JGY 6.234390  \n",
       "ENCSR000EIN 6.231988  \n",
       "ENCSR931UQB 6.201617  \n",
       "ENCSR000EQF 6.201563  \n",
       "ENCSR000EOQ 6.198471  \n",
       "ENCSR434OBM 6.192132  \n",
       "ENCSR035RVH 6.190689  \n",
       "ENCSR008SDL 6.166544  \n",
       "ENCSR937RVN 6.161476  \n",
       "ENCSR000ENN 6.142292  \n",
       "ENCSR052AWE 6.140112  \n",
       "ENCSR782SSS 6.137295  \n",
       "ENCSR000EOK 6.124725  \n",
       "⋮           ⋮         \n",
       "ENCSR118WIQ 5.938115  \n",
       "ENCSR265TEK 5.937353  \n",
       "ENCSR846CTA 5.934287  \n",
       "ENCSR914DOH 5.928232  \n",
       "ENCSR156CLC 5.924553  \n",
       "ENCSR865ICK 5.921189  \n",
       "ENCSR868XPR 5.916589  \n",
       "ENCSR257CIZ 5.912800  \n",
       "ENCSR000EIV 5.903928  \n",
       "ENCSR121ZSL 5.902558  \n",
       "ENCSR000EJB 5.900685  \n",
       "ENCSR564JUY 5.898008  \n",
       "ENCSR148VUP 5.892730  \n",
       "ENCSR115YPI 5.891864  \n",
       "ENCSR638HMQ 5.883706  \n",
       "ENCSR000EJS 5.878727  \n",
       "ENCSR809CEA 5.878140  \n",
       "ENCSR587HPR 5.871969  \n",
       "ENCSR000EPF 5.871438  \n",
       "ENCSR000EKL 5.866432  \n",
       "ENCSR000EPN 5.865641  \n",
       "ENCSR000EML 5.861726  \n",
       "ENCSR149XIL 5.859479  \n",
       "ENCSR582IPV 5.857510  \n",
       "ENCSR017OZH 5.856561  \n",
       "ENCSR000ELP 5.850508  \n",
       "ENCSR946MVP 5.849870  \n",
       "ENCSR940NLN 5.844904  \n",
       "ENCSR437KLY 5.841253  \n",
       "ENCSR000EPP 5.840987  \n",
       "            Biosample.summary                                                                                                                                                         \n",
       "ENCSR620QNS HAP-1                                                                                                                                                                     \n",
       "ENCSR420NOA hematopoietic multipotent progenitor cell treated with interleukin-3 for 11 day, kit ligand for 11 day, hydrocortisone succinate for 11 day, erythropoietin for 11 day    \n",
       "ENCSR318PRQ middle frontal gyrus male adult (78 years)                                                                                                                                \n",
       "ENCSR706IDL midbrain male adult (78 years) and male adult (84 years)                                                                                                                  \n",
       "ENCSR015BGH caudate nucleus male adult (78 years)                                                                                                                                     \n",
       "ENCSR000EPX bronchial epithelial cell                                                                                                                                                 \n",
       "ENCSR224IYD medulla oblongata male adult (78 years) and male adult (84 years)                                                                                                         \n",
       "ENCSR859CZM occipital lobe male adult (84 years)                                                                                                                                      \n",
       "ENCSR937UWI hematopoietic multipotent progenitor cell treated with interleukin-3 for 15 days, kit ligand for 15 days, hydrocortisone succinate for 15 days, erythropoietin for 15 days\n",
       "ENCSR000EPY SK-N-MC                                                                                                                                                                   \n",
       "ENCSR000EPU epithelial cell of prostate                                                                                                                                               \n",
       "ENCSR533VAF heart female embryo (147 days)                                                                                                                                            \n",
       "ENCSR979ZJS transverse colon male adult (37 years)                                                                                                                                    \n",
       "ENCSR000EPQ keratinocyte female                                                                                                                                                       \n",
       "ENCSR771DAX globus pallidus male adult (78 years) and male adult (84 years)                                                                                                           \n",
       "ENCSR187PYY brain female embryo (142 days)                                                                                                                                            \n",
       "ENCSR845CFB hematopoietic multipotent progenitor cell treated with interleukin-3 for 8 days, kit ligand for 8 days, hydrocortisone succinate for 8 days, erythropoietin for 8 days    \n",
       "ENCSR518JGY foreskin melanocyte male newborn                                                                                                                                          \n",
       "ENCSR000EIN COLO829                                                                                                                                                                   \n",
       "ENCSR931UQB small intestine male adult (34 years)                                                                                                                                     \n",
       "ENCSR000EQF T-helper 17 cell                                                                                                                                                          \n",
       "ENCSR000EOQ endothelial cell of umbilical vein newborn                                                                                                                                \n",
       "ENCSR434OBM foreskin melanocyte male newborn                                                                                                                                          \n",
       "ENCSR035RVH foreskin keratinocyte male newborn                                                                                                                                        \n",
       "ENCSR008SDL SK-MEL-5                                                                                                                                                                  \n",
       "ENCSR937RVN muscle of leg male embryo (115 days)                                                                                                                                      \n",
       "ENCSR000ENN epithelial cell of esophagus                                                                                                                                              \n",
       "ENCSR052AWE PC-3                                                                                                                                                                      \n",
       "ENCSR782SSS stomach male adult (34 years)                                                                                                                                             \n",
       "ENCSR000EOK renal cortical epithelial cell                                                                                                                                            \n",
       "⋮           ⋮                                                                                                                                                                         \n",
       "ENCSR118WIQ brain embryo (112 days)                                                                                                                                                   \n",
       "ENCSR265TEK NCI-H226                                                                                                                                                                  \n",
       "ENCSR846CTA right lung male embryo (105 days)                                                                                                                                         \n",
       "ENCSR914DOH heart female embryo (103 days)                                                                                                                                            \n",
       "ENCSR156CLC brain female embryo (96 days)                                                                                                                                             \n",
       "ENCSR865ICK adrenal gland female adult (51 year)                                                                                                                                      \n",
       "ENCSR868XPR muscle of arm male embryo (115 days)                                                                                                                                      \n",
       "ENCSR257CIZ kidney tubule cell female adult (80 years) treated with 5 μM cisplatin                                                                                                    \n",
       "ENCSR000EIV AG08395                                                                                                                                                                   \n",
       "ENCSR121ZSL trophoblast cell embryo (21 week)                                                                                                                                         \n",
       "ENCSR000EJB GM10248                                                                                                                                                                   \n",
       "ENCSR564JUY hematopoietic multipotent progenitor cell treated with interleukin-3 for 6 days, kit ligand for 6 days, hydrocortisone succinate for 6 days, erythropoietin for 6 days    \n",
       "ENCSR148VUP hematopoietic multipotent progenitor cell treated with interleukin-3 for 4 days, kit ligand for 4 days, hydrocortisone succinate for 4 days, erythropoietin for 4 days    \n",
       "ENCSR115YPI hematopoietic multipotent progenitor cell treated with erythropoietin for 20 days, hydrocortisone succinate for 20 days, kit ligand for 20 days, interleukin-3 for 20 days\n",
       "ENCSR638HMQ NCI-H460                                                                                                                                                                  \n",
       "ENCSR000EJS HeLa-S3 treated with interferon alpha for 4 hours                                                                                                                         \n",
       "ENCSR809CEA H4                                                                                                                                                                        \n",
       "ENCSR587HPR lung male embryo (82 days)                                                                                                                                                \n",
       "ENCSR000EPF LNCaP clone FGC                                                                                                                                                           \n",
       "ENCSR000EKL Ishikawa treated with 600 nM afimoxifene for 30 minutes                                                                                                                   \n",
       "ENCSR000EPN bronchial epithelial cell female treated with 6 μM retinoic acid for 48 hours                                                                                             \n",
       "ENCSR000EML naive thymus-derived CD4-positive, alpha-beta T cell male adult (26 years)                                                                                                \n",
       "ENCSR149XIL HepG2                                                                                                                                                                     \n",
       "ENCSR582IPV lung embryo (80 days) and male embryo (76 days)                                                                                                                           \n",
       "ENCSR017OZH H9 S1 phase genetically modified using stable transfection                                                                                                                \n",
       "ENCSR000ELP RWPE1                                                                                                                                                                     \n",
       "ENCSR946MVP SK-N-DZ                                                                                                                                                                   \n",
       "ENCSR940NLN PC-9                                                                                                                                                                      \n",
       "ENCSR437KLY kidney female embryo (85 days)                                                                                                                                            \n",
       "ENCSR000EPP foreskin fibroblast male newborn                                                                                                                                          \n",
       "            Biosample.term.name                                 \n",
       "ENCSR620QNS HAP-1                                               \n",
       "ENCSR420NOA hematopoietic multipotent progenitor cell           \n",
       "ENCSR318PRQ middle frontal gyrus                                \n",
       "ENCSR706IDL midbrain                                            \n",
       "ENCSR015BGH caudate nucleus                                     \n",
       "ENCSR000EPX bronchial epithelial cell                           \n",
       "ENCSR224IYD medulla oblongata                                   \n",
       "ENCSR859CZM occipital lobe                                      \n",
       "ENCSR937UWI hematopoietic multipotent progenitor cell           \n",
       "ENCSR000EPY SK-N-MC                                             \n",
       "ENCSR000EPU epithelial cell of prostate                         \n",
       "ENCSR533VAF heart                                               \n",
       "ENCSR979ZJS transverse colon                                    \n",
       "ENCSR000EPQ keratinocyte                                        \n",
       "ENCSR771DAX globus pallidus                                     \n",
       "ENCSR187PYY brain                                               \n",
       "ENCSR845CFB hematopoietic multipotent progenitor cell           \n",
       "ENCSR518JGY foreskin melanocyte                                 \n",
       "ENCSR000EIN COLO829                                             \n",
       "ENCSR931UQB small intestine                                     \n",
       "ENCSR000EQF T-helper 17 cell                                    \n",
       "ENCSR000EOQ endothelial cell of umbilical vein                  \n",
       "ENCSR434OBM foreskin melanocyte                                 \n",
       "ENCSR035RVH foreskin keratinocyte                               \n",
       "ENCSR008SDL SK-MEL-5                                            \n",
       "ENCSR937RVN muscle of leg                                       \n",
       "ENCSR000ENN epithelial cell of esophagus                        \n",
       "ENCSR052AWE PC-3                                                \n",
       "ENCSR782SSS stomach                                             \n",
       "ENCSR000EOK renal cortical epithelial cell                      \n",
       "⋮           ⋮                                                   \n",
       "ENCSR118WIQ brain                                               \n",
       "ENCSR265TEK NCI-H226                                            \n",
       "ENCSR846CTA right lung                                          \n",
       "ENCSR914DOH heart                                               \n",
       "ENCSR156CLC brain                                               \n",
       "ENCSR865ICK adrenal gland                                       \n",
       "ENCSR868XPR muscle of arm                                       \n",
       "ENCSR257CIZ kidney tubule cell                                  \n",
       "ENCSR000EIV AG08395                                             \n",
       "ENCSR121ZSL trophoblast cell                                    \n",
       "ENCSR000EJB GM10248                                             \n",
       "ENCSR564JUY hematopoietic multipotent progenitor cell           \n",
       "ENCSR148VUP hematopoietic multipotent progenitor cell           \n",
       "ENCSR115YPI hematopoietic multipotent progenitor cell           \n",
       "ENCSR638HMQ NCI-H460                                            \n",
       "ENCSR000EJS HeLa-S3                                             \n",
       "ENCSR809CEA H4                                                  \n",
       "ENCSR587HPR lung                                                \n",
       "ENCSR000EPF LNCaP clone FGC                                     \n",
       "ENCSR000EKL Ishikawa                                            \n",
       "ENCSR000EPN bronchial epithelial cell                           \n",
       "ENCSR000EML naive thymus-derived CD4-positive, alpha-beta T cell\n",
       "ENCSR149XIL HepG2                                               \n",
       "ENCSR582IPV lung                                                \n",
       "ENCSR017OZH H9                                                  \n",
       "ENCSR000ELP RWPE1                                               \n",
       "ENCSR946MVP SK-N-DZ                                             \n",
       "ENCSR940NLN PC-9                                                \n",
       "ENCSR437KLY kidney                                              \n",
       "ENCSR000EPP foreskin fibroblast                                 "
      ]
     },
     "metadata": {},
     "output_type": "display_data"
    }
   ],
   "source": [
    "df = data.frame(percentage=100*frac_reads_in_peak_set,\n",
    "               metadata[names(frac_reads_in_peak_set),])\n",
    "df = df[rev(order(df$percentage)), c(\"percentage\", \"Biosample.summary\", \"Biosample.term.name\")]\n",
    "head(df, 100)"
   ]
  },
  {
   "cell_type": "code",
   "execution_count": 257,
   "metadata": {},
   "outputs": [
    {
     "ename": "ERROR",
     "evalue": "Error in order(...): argument 1 is not a vector\n",
     "output_type": "error",
     "traceback": [
      "Error in order(...): argument 1 is not a vector\nTraceback:\n",
      "1. head(df[order(df$percentage), ], 20)",
      "2. df[order(df$percentage), ]",
      "3. `[.data.frame`(df, order(df$percentage), )",
      "4. order(df$percentage)",
      "5. standardGeneric(\"order\")",
      "6. eval(mc, env)",
      "7. eval(mc, env)",
      "8. eval(mc, env)",
      "9. order(...)"
     ]
    }
   ],
   "source": [
    "head(df[order(df$percentage), ], 20)"
   ]
  },
  {
   "cell_type": "code",
   "execution_count": null,
   "metadata": {},
   "outputs": [],
   "source": []
  }
 ],
 "metadata": {
  "kernelspec": {
   "display_name": "R",
   "language": "R",
   "name": "ir"
  },
  "language_info": {
   "codemirror_mode": "r",
   "file_extension": ".r",
   "mimetype": "text/x-r-source",
   "name": "R",
   "pygments_lexer": "r",
   "version": "3.5.1"
  }
 },
 "nbformat": 4,
 "nbformat_minor": 2
}
