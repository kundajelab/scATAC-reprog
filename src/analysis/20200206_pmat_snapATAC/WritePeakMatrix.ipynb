{
 "cells": [
  {
   "cell_type": "markdown",
   "metadata": {},
   "source": [
    "# Write Peak Matrix\n",
    "\n",
    "Takes Snap files, filters barcodes, joins them and then writes out to a sparse MM file."
   ]
  },
  {
   "cell_type": "code",
   "execution_count": 42,
   "metadata": {},
   "outputs": [],
   "source": [
    "library(SnapATAC)\n",
    "library(GenomicRanges)\n",
    "library(ggplot2) \n",
    "library(scales)\n",
    "library(RColorBrewer)\n",
    "\n",
    "# https://github.com/r3fang/SnapATAC/tree/master/examples/10X_snATAC\n",
    "# https://github.com/r3fang/SnapATAC/tree/master/examples/10X_brain_5k"
   ]
  },
  {
   "cell_type": "code",
   "execution_count": 93,
   "metadata": {},
   "outputs": [
    {
     "data": {
      "text/html": [
       "<style>\n",
       ".list-inline {list-style: none; margin:0; padding: 0}\n",
       ".list-inline>li {display: inline-block}\n",
       ".list-inline>li:not(:last-child)::after {content: \"\\00b7\"; padding: 0 .5ex}\n",
       "</style>\n",
       "<ol class=list-inline><li>'D0'</li><li>'D2'</li><li>'D4'</li><li>'D6'</li><li>'D8'</li><li>'D10'</li><li>'D12'</li><li>'D14'</li></ol>\n"
      ],
      "text/latex": [
       "\\begin{enumerate*}\n",
       "\\item 'D0'\n",
       "\\item 'D2'\n",
       "\\item 'D4'\n",
       "\\item 'D6'\n",
       "\\item 'D8'\n",
       "\\item 'D10'\n",
       "\\item 'D12'\n",
       "\\item 'D14'\n",
       "\\end{enumerate*}\n"
      ],
      "text/markdown": [
       "1. 'D0'\n",
       "2. 'D2'\n",
       "3. 'D4'\n",
       "4. 'D6'\n",
       "5. 'D8'\n",
       "6. 'D10'\n",
       "7. 'D12'\n",
       "8. 'D14'\n",
       "\n",
       "\n"
      ],
      "text/plain": [
       "[1] \"D0\"  \"D2\"  \"D4\"  \"D6\"  \"D8\"  \"D10\" \"D12\" \"D14\""
      ]
     },
     "metadata": {},
     "output_type": "display_data"
    },
    {
     "data": {
      "text/html": [
       "<style>\n",
       ".list-inline {list-style: none; margin:0; padding: 0}\n",
       ".list-inline>li {display: inline-block}\n",
       ".list-inline>li:not(:last-child)::after {content: \"\\00b7\"; padding: 0 .5ex}\n",
       "</style>\n",
       "<ol class=list-inline><li>'/srv/scratch/surag/scATAC-reprog/snap_smallpeaks_idr//D0.snap'</li><li>'/srv/scratch/surag/scATAC-reprog/snap_smallpeaks_idr//D2.snap'</li><li>'/srv/scratch/surag/scATAC-reprog/snap_smallpeaks_idr//D4.snap'</li><li>'/srv/scratch/surag/scATAC-reprog/snap_smallpeaks_idr//D6.snap'</li><li>'/srv/scratch/surag/scATAC-reprog/snap_smallpeaks_idr//D8.snap'</li><li>'/srv/scratch/surag/scATAC-reprog/snap_smallpeaks_idr//D10.snap'</li><li>'/srv/scratch/surag/scATAC-reprog/snap_smallpeaks_idr//D12.snap'</li><li>'/srv/scratch/surag/scATAC-reprog/snap_smallpeaks_idr//D14.snap'</li></ol>\n"
      ],
      "text/latex": [
       "\\begin{enumerate*}\n",
       "\\item '/srv/scratch/surag/scATAC-reprog/snap\\_smallpeaks\\_idr//D0.snap'\n",
       "\\item '/srv/scratch/surag/scATAC-reprog/snap\\_smallpeaks\\_idr//D2.snap'\n",
       "\\item '/srv/scratch/surag/scATAC-reprog/snap\\_smallpeaks\\_idr//D4.snap'\n",
       "\\item '/srv/scratch/surag/scATAC-reprog/snap\\_smallpeaks\\_idr//D6.snap'\n",
       "\\item '/srv/scratch/surag/scATAC-reprog/snap\\_smallpeaks\\_idr//D8.snap'\n",
       "\\item '/srv/scratch/surag/scATAC-reprog/snap\\_smallpeaks\\_idr//D10.snap'\n",
       "\\item '/srv/scratch/surag/scATAC-reprog/snap\\_smallpeaks\\_idr//D12.snap'\n",
       "\\item '/srv/scratch/surag/scATAC-reprog/snap\\_smallpeaks\\_idr//D14.snap'\n",
       "\\end{enumerate*}\n"
      ],
      "text/markdown": [
       "1. '/srv/scratch/surag/scATAC-reprog/snap_smallpeaks_idr//D0.snap'\n",
       "2. '/srv/scratch/surag/scATAC-reprog/snap_smallpeaks_idr//D2.snap'\n",
       "3. '/srv/scratch/surag/scATAC-reprog/snap_smallpeaks_idr//D4.snap'\n",
       "4. '/srv/scratch/surag/scATAC-reprog/snap_smallpeaks_idr//D6.snap'\n",
       "5. '/srv/scratch/surag/scATAC-reprog/snap_smallpeaks_idr//D8.snap'\n",
       "6. '/srv/scratch/surag/scATAC-reprog/snap_smallpeaks_idr//D10.snap'\n",
       "7. '/srv/scratch/surag/scATAC-reprog/snap_smallpeaks_idr//D12.snap'\n",
       "8. '/srv/scratch/surag/scATAC-reprog/snap_smallpeaks_idr//D14.snap'\n",
       "\n",
       "\n"
      ],
      "text/plain": [
       "[1] \"/srv/scratch/surag/scATAC-reprog/snap_smallpeaks_idr//D0.snap\" \n",
       "[2] \"/srv/scratch/surag/scATAC-reprog/snap_smallpeaks_idr//D2.snap\" \n",
       "[3] \"/srv/scratch/surag/scATAC-reprog/snap_smallpeaks_idr//D4.snap\" \n",
       "[4] \"/srv/scratch/surag/scATAC-reprog/snap_smallpeaks_idr//D6.snap\" \n",
       "[5] \"/srv/scratch/surag/scATAC-reprog/snap_smallpeaks_idr//D8.snap\" \n",
       "[6] \"/srv/scratch/surag/scATAC-reprog/snap_smallpeaks_idr//D10.snap\"\n",
       "[7] \"/srv/scratch/surag/scATAC-reprog/snap_smallpeaks_idr//D12.snap\"\n",
       "[8] \"/srv/scratch/surag/scATAC-reprog/snap_smallpeaks_idr//D14.snap\""
      ]
     },
     "metadata": {},
     "output_type": "display_data"
    }
   ],
   "source": [
    "DAYS = c(\"D0\", \"D2\", \"D4\", \"D6\", \"D8\", \"D10\", \"D12\", \"D14\")\n",
    "FILE_PREFIX = \"/srv/scratch/surag/scATAC-reprog/snap_smallpeaks_idr/\"\n",
    "\n",
    "file.list = c()\n",
    "\n",
    "for (d in DAYS) {\n",
    "    file.list = c(file.list, sprintf(\"%s/%s.snap\", FILE_PREFIX, d))\n",
    "}\n",
    "DAYS\n",
    "file.list"
   ]
  },
  {
   "cell_type": "code",
   "execution_count": 94,
   "metadata": {},
   "outputs": [
    {
     "name": "stderr",
     "output_type": "stream",
     "text": [
      "Epoch: reading the barcode session ...\n",
      "\n",
      "Epoch: reading the barcode session ...\n",
      "\n",
      "Epoch: reading the barcode session ...\n",
      "\n",
      "Epoch: reading the barcode session ...\n",
      "\n",
      "Epoch: reading the barcode session ...\n",
      "\n",
      "Epoch: reading the barcode session ...\n",
      "\n",
      "Epoch: reading the barcode session ...\n",
      "\n",
      "Epoch: reading the barcode session ...\n",
      "\n"
     ]
    }
   ],
   "source": [
    "x.sp.ls = lapply(seq(file.list), function(i) {\n",
    "    x.sp = createSnap(file = file.list[i],                      \n",
    "                     sample = DAYS[i])\n",
    "    x.sp\n",
    "})"
   ]
  },
  {
   "cell_type": "code",
   "execution_count": 95,
   "metadata": {},
   "outputs": [],
   "source": [
    "# merge timepoints\n",
    "x.sp = Reduce(snapRbind, x.sp.ls);"
   ]
  },
  {
   "cell_type": "code",
   "execution_count": 96,
   "metadata": {},
   "outputs": [
    {
     "data": {
      "text/plain": [
       "number of barcodes: 90765\n",
       "number of bins: 0\n",
       "number of genes: 0\n",
       "number of peaks: 0\n",
       "number of motifs: 0"
      ]
     },
     "metadata": {},
     "output_type": "display_data"
    }
   ],
   "source": [
    "x.sp"
   ]
  },
  {
   "cell_type": "code",
   "execution_count": 97,
   "metadata": {},
   "outputs": [
    {
     "data": {
      "text/html": [
       "<table>\n",
       "<caption>A data.frame: 6 × 4</caption>\n",
       "<thead>\n",
       "\t<tr><th></th><th scope=col>barcode</th><th scope=col>sample</th><th scope=col>umap1</th><th scope=col>umap2</th></tr>\n",
       "\t<tr><th></th><th scope=col>&lt;fct&gt;</th><th scope=col>&lt;fct&gt;</th><th scope=col>&lt;dbl&gt;</th><th scope=col>&lt;dbl&gt;</th></tr>\n",
       "</thead>\n",
       "<tbody>\n",
       "\t<tr><th scope=row>D0_AAACAACGACGATTAC</th><td>AAACAACGACGATTAC</td><td>D0</td><td>6.565758</td><td>-8.649868</td></tr>\n",
       "\t<tr><th scope=row>D0_AAACAACGAGCGCACT</th><td>AAACAACGAGCGCACT</td><td>D0</td><td>5.604522</td><td>-7.835411</td></tr>\n",
       "\t<tr><th scope=row>D0_AAACACGCTACGCCAC</th><td>AAACACGCTACGCCAC</td><td>D0</td><td>5.130516</td><td>-7.593246</td></tr>\n",
       "\t<tr><th scope=row>D0_AAACACGCTAGTACGG</th><td>AAACACGCTAGTACGG</td><td>D0</td><td>4.926843</td><td>-8.365463</td></tr>\n",
       "\t<tr><th scope=row>D0_AAACACGCTCCTCAAA</th><td>AAACACGCTCCTCAAA</td><td>D0</td><td>6.056337</td><td>-5.647577</td></tr>\n",
       "\t<tr><th scope=row>D0_AAACACGCTCGAGTGA</th><td>AAACACGCTCGAGTGA</td><td>D0</td><td>3.408866</td><td>-9.058377</td></tr>\n",
       "</tbody>\n",
       "</table>\n"
      ],
      "text/latex": [
       "A data.frame: 6 × 4\n",
       "\\begin{tabular}{r|llll}\n",
       "  & barcode & sample & umap1 & umap2\\\\\n",
       "  & <fct> & <fct> & <dbl> & <dbl>\\\\\n",
       "\\hline\n",
       "\tD0\\_AAACAACGACGATTAC & AAACAACGACGATTAC & D0 & 6.565758 & -8.649868\\\\\n",
       "\tD0\\_AAACAACGAGCGCACT & AAACAACGAGCGCACT & D0 & 5.604522 & -7.835411\\\\\n",
       "\tD0\\_AAACACGCTACGCCAC & AAACACGCTACGCCAC & D0 & 5.130516 & -7.593246\\\\\n",
       "\tD0\\_AAACACGCTAGTACGG & AAACACGCTAGTACGG & D0 & 4.926843 & -8.365463\\\\\n",
       "\tD0\\_AAACACGCTCCTCAAA & AAACACGCTCCTCAAA & D0 & 6.056337 & -5.647577\\\\\n",
       "\tD0\\_AAACACGCTCGAGTGA & AAACACGCTCGAGTGA & D0 & 3.408866 & -9.058377\\\\\n",
       "\\end{tabular}\n"
      ],
      "text/markdown": [
       "\n",
       "A data.frame: 6 × 4\n",
       "\n",
       "| <!--/--> | barcode &lt;fct&gt; | sample &lt;fct&gt; | umap1 &lt;dbl&gt; | umap2 &lt;dbl&gt; |\n",
       "|---|---|---|---|---|\n",
       "| D0_AAACAACGACGATTAC | AAACAACGACGATTAC | D0 | 6.565758 | -8.649868 |\n",
       "| D0_AAACAACGAGCGCACT | AAACAACGAGCGCACT | D0 | 5.604522 | -7.835411 |\n",
       "| D0_AAACACGCTACGCCAC | AAACACGCTACGCCAC | D0 | 5.130516 | -7.593246 |\n",
       "| D0_AAACACGCTAGTACGG | AAACACGCTAGTACGG | D0 | 4.926843 | -8.365463 |\n",
       "| D0_AAACACGCTCCTCAAA | AAACACGCTCCTCAAA | D0 | 6.056337 | -5.647577 |\n",
       "| D0_AAACACGCTCGAGTGA | AAACACGCTCGAGTGA | D0 | 3.408866 | -9.058377 |\n",
       "\n"
      ],
      "text/plain": [
       "                    barcode          sample umap1    umap2    \n",
       "D0_AAACAACGACGATTAC AAACAACGACGATTAC D0     6.565758 -8.649868\n",
       "D0_AAACAACGAGCGCACT AAACAACGAGCGCACT D0     5.604522 -7.835411\n",
       "D0_AAACACGCTACGCCAC AAACACGCTACGCCAC D0     5.130516 -7.593246\n",
       "D0_AAACACGCTAGTACGG AAACACGCTAGTACGG D0     4.926843 -8.365463\n",
       "D0_AAACACGCTCCTCAAA AAACACGCTCCTCAAA D0     6.056337 -5.647577\n",
       "D0_AAACACGCTCGAGTGA AAACACGCTCGAGTGA D0     3.408866 -9.058377"
      ]
     },
     "metadata": {},
     "output_type": "display_data"
    },
    {
     "data": {
      "text/html": [
       "<style>\n",
       ".list-inline {list-style: none; margin:0; padding: 0}\n",
       ".list-inline>li {display: inline-block}\n",
       ".list-inline>li:not(:last-child)::after {content: \"\\00b7\"; padding: 0 .5ex}\n",
       "</style>\n",
       "<ol class=list-inline><li>68916</li><li>4</li></ol>\n"
      ],
      "text/latex": [
       "\\begin{enumerate*}\n",
       "\\item 68916\n",
       "\\item 4\n",
       "\\end{enumerate*}\n"
      ],
      "text/markdown": [
       "1. 68916\n",
       "2. 4\n",
       "\n",
       "\n"
      ],
      "text/plain": [
       "[1] 68916     4"
      ]
     },
     "metadata": {},
     "output_type": "display_data"
    }
   ],
   "source": [
    "# load metadata\n",
    "metadata = read.table(\"./sessions/20200520_n68916/metadata.tsv\", header=T)\n",
    "rownames(metadata) = paste(metadata$sample, metadata$barcode, sep='_')\n",
    "head(metadata)\n",
    "dim(metadata)"
   ]
  },
  {
   "cell_type": "code",
   "execution_count": 98,
   "metadata": {},
   "outputs": [
    {
     "data": {
      "text/html": [
       "68916"
      ],
      "text/latex": [
       "68916"
      ],
      "text/markdown": [
       "68916"
      ],
      "text/plain": [
       "[1] 68916"
      ]
     },
     "metadata": {},
     "output_type": "display_data"
    }
   ],
   "source": [
    "sum(paste(x.sp@sample, x.sp@barcode, sep='_') %in% rownames(metadata))"
   ]
  },
  {
   "cell_type": "code",
   "execution_count": 99,
   "metadata": {},
   "outputs": [],
   "source": [
    "x.sp = x.sp[paste(x.sp@sample, x.sp@barcode, sep='_') %in% rownames(metadata), ]"
   ]
  },
  {
   "cell_type": "code",
   "execution_count": 100,
   "metadata": {},
   "outputs": [
    {
     "data": {
      "text/plain": [
       "number of barcodes: 68916\n",
       "number of bins: 0\n",
       "number of genes: 0\n",
       "number of peaks: 0\n",
       "number of motifs: 0"
      ]
     },
     "metadata": {},
     "output_type": "display_data"
    }
   ],
   "source": [
    "x.sp"
   ]
  },
  {
   "cell_type": "code",
   "execution_count": 101,
   "metadata": {},
   "outputs": [
    {
     "data": {
      "text/html": [
       "FALSE"
      ],
      "text/latex": [
       "FALSE"
      ],
      "text/markdown": [
       "FALSE"
      ],
      "text/plain": [
       "[1] FALSE"
      ]
     },
     "metadata": {},
     "output_type": "display_data"
    }
   ],
   "source": [
    "all(paste(x.sp@sample, x.sp@barcode, sep='_') == rownames(metadata))\n",
    "# reorder x.sp to match metadata order"
   ]
  },
  {
   "cell_type": "code",
   "execution_count": 102,
   "metadata": {},
   "outputs": [],
   "source": [
    "# How to get the order in which a list A can be transformed to a list B \n",
    "# When both have same unique elements in them\n",
    "# o(A)   o(B) o(o(B))   o(A)[o(o(B))] <---- that's what you need to do\n",
    "# 3   ->  4     3           2\n",
    "# 4   ->  2     2           4 \n",
    "# 2   ->  1     4           1\n",
    "# 1   ->  3     1           3"
   ]
  },
  {
   "cell_type": "code",
   "execution_count": 103,
   "metadata": {},
   "outputs": [
    {
     "data": {
      "text/html": [
       "TRUE"
      ],
      "text/latex": [
       "TRUE"
      ],
      "text/markdown": [
       "TRUE"
      ],
      "text/plain": [
       "[1] TRUE"
      ]
     },
     "metadata": {},
     "output_type": "display_data"
    }
   ],
   "source": [
    "xsp_sample_barcode = paste(x.sp@sample, x.sp@barcode, sep='_')\n",
    "reorder = order(xsp_sample_barcode)[order(order(rownames(metadata)))]\n",
    "all(xsp_sample_barcode[reorder]==rownames(metadata))"
   ]
  },
  {
   "cell_type": "code",
   "execution_count": 104,
   "metadata": {},
   "outputs": [
    {
     "data": {
      "text/plain": [
       "number of barcodes: 68916\n",
       "number of bins: 0\n",
       "number of genes: 0\n",
       "number of peaks: 0\n",
       "number of motifs: 0"
      ]
     },
     "metadata": {},
     "output_type": "display_data"
    }
   ],
   "source": [
    "x.sp = x.sp[reorder, ]\n",
    "x.sp"
   ]
  },
  {
   "cell_type": "code",
   "execution_count": 105,
   "metadata": {},
   "outputs": [
    {
     "data": {
      "text/html": [
       "TRUE"
      ],
      "text/latex": [
       "TRUE"
      ],
      "text/markdown": [
       "TRUE"
      ],
      "text/plain": [
       "[1] TRUE"
      ]
     },
     "metadata": {},
     "output_type": "display_data"
    }
   ],
   "source": [
    "all(paste(x.sp@sample, x.sp@barcode, sep='_') == rownames(metadata))"
   ]
  },
  {
   "cell_type": "code",
   "execution_count": 106,
   "metadata": {},
   "outputs": [
    {
     "name": "stderr",
     "output_type": "stream",
     "text": [
      "Epoch: reading cell-peak count matrix session ...\n",
      "\n"
     ]
    }
   ],
   "source": [
    "# load peak matrix\n",
    "x.sp = addPmatToSnap(x.sp, num.cores=10)"
   ]
  },
  {
   "cell_type": "code",
   "execution_count": 107,
   "metadata": {},
   "outputs": [
    {
     "data": {
      "text/plain": [
       "number of barcodes: 68916\n",
       "number of bins: 0\n",
       "number of genes: 0\n",
       "number of peaks: 524135\n",
       "number of motifs: 0"
      ]
     },
     "metadata": {},
     "output_type": "display_data"
    }
   ],
   "source": [
    "x.sp"
   ]
  },
  {
   "cell_type": "markdown",
   "metadata": {},
   "source": [
    "## Remove Blacklisted Regions"
   ]
  },
  {
   "cell_type": "code",
   "execution_count": 108,
   "metadata": {},
   "outputs": [],
   "source": [
    "black_list = read.table(\"../../../resources/blacklist/GRch38_unified_blacklist.bed\");\n",
    "black_list.gr = GRanges(\n",
    "    black_list[,1], \n",
    "    IRanges(black_list[,2], black_list[,3])\n",
    "  );"
   ]
  },
  {
   "cell_type": "code",
   "execution_count": 109,
   "metadata": {},
   "outputs": [],
   "source": [
    "idy = queryHits(findOverlaps(x.sp@peak, black_list.gr));"
   ]
  },
  {
   "cell_type": "code",
   "execution_count": 110,
   "metadata": {},
   "outputs": [],
   "source": [
    "if(length(idy) > 0){x.sp = x.sp[,-idy, mat=\"pmat\"]};"
   ]
  },
  {
   "cell_type": "code",
   "execution_count": 111,
   "metadata": {},
   "outputs": [
    {
     "data": {
      "text/plain": [
       "number of barcodes: 68916\n",
       "number of bins: 0\n",
       "number of genes: 0\n",
       "number of peaks: 523984\n",
       "number of motifs: 0"
      ]
     },
     "metadata": {},
     "output_type": "display_data"
    }
   ],
   "source": [
    "x.sp"
   ]
  },
  {
   "cell_type": "code",
   "execution_count": 112,
   "metadata": {},
   "outputs": [
    {
     "data": {
      "text/html": [
       "514"
      ],
      "text/latex": [
       "514"
      ],
      "text/markdown": [
       "514"
      ],
      "text/plain": [
       "[1] 514"
      ]
     },
     "metadata": {},
     "output_type": "display_data"
    }
   ],
   "source": [
    "# check if reads at OCT promoter (very few or none in initial version)\n",
    "sum(x.sp@pmat[,subjectHits(findOverlaps(GRanges(c(\"chr6:31170549-31170836\")), x.sp@peak))])"
   ]
  },
  {
   "cell_type": "markdown",
   "metadata": {},
   "source": [
    "## Write Matrix and Peaks"
   ]
  },
  {
   "cell_type": "code",
   "execution_count": 113,
   "metadata": {},
   "outputs": [],
   "source": [
    "PEAK_NAME = \"idr.smallpeaks\"\n",
    "SESSION = \"20200520_n68916\""
   ]
  },
  {
   "cell_type": "code",
   "execution_count": 114,
   "metadata": {},
   "outputs": [
    {
     "data": {
      "text/plain": [
       "NULL"
      ]
     },
     "metadata": {},
     "output_type": "display_data"
    }
   ],
   "source": [
    "writeMM(x.sp@pmat, file=sprintf(\"./sessions/%s/pmat.%s.sparse.mm\",SESSION, PEAK_NAME))"
   ]
  },
  {
   "cell_type": "code",
   "execution_count": 115,
   "metadata": {},
   "outputs": [],
   "source": [
    "# writing ranges for 5kb and sparse matrix\n",
    "write.table(data.frame(seqnames=seqnames(x.sp@peak),\n",
    "                       starts=start(x.sp@peak),\n",
    "                       ends=end(x.sp@peak)),\n",
    "            file=sprintf(\"./sessions/%s/peaks.%s.bed\", SESSION, PEAK_NAME),\n",
    "            quote=F, sep=\"\\t\", row.names=F, col.names=F)"
   ]
  },
  {
   "cell_type": "code",
   "execution_count": null,
   "metadata": {},
   "outputs": [],
   "source": []
  }
 ],
 "metadata": {
  "kernelspec": {
   "display_name": "R",
   "language": "R",
   "name": "ir"
  },
  "language_info": {
   "codemirror_mode": "r",
   "file_extension": ".r",
   "mimetype": "text/x-r-source",
   "name": "R",
   "pygments_lexer": "r",
   "version": "3.5.1"
  }
 },
 "nbformat": 4,
 "nbformat_minor": 2
}
