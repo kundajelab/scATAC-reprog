{
 "cells": [
  {
   "cell_type": "markdown",
   "metadata": {},
   "source": [
    "# Pluripotency Progress Analysis\n",
    "\n",
    "Simple analysis which sees how close the different samples are to H1-hESC."
   ]
  },
  {
   "cell_type": "code",
   "execution_count": null,
   "metadata": {},
   "outputs": [],
   "source": [
    "library(DESeq2)\n",
    "library(ggplot2)\n",
    "library(ggrepel)\n",
    "library(reshape2)\n",
    "require(stringr)"
   ]
  },
  {
   "cell_type": "code",
   "execution_count": 3,
   "metadata": {},
   "outputs": [
    {
     "data": {
      "text/html": [
       "<table>\n",
       "<caption>A data.frame: 2 × 8</caption>\n",
       "<thead>\n",
       "\t<tr><th></th><th scope=col>D0</th><th scope=col>D2</th><th scope=col>D4</th><th scope=col>D6</th><th scope=col>D8</th><th scope=col>D10</th><th scope=col>D12</th><th scope=col>D14</th></tr>\n",
       "\t<tr><th></th><th scope=col>&lt;int&gt;</th><th scope=col>&lt;int&gt;</th><th scope=col>&lt;int&gt;</th><th scope=col>&lt;int&gt;</th><th scope=col>&lt;int&gt;</th><th scope=col>&lt;int&gt;</th><th scope=col>&lt;int&gt;</th><th scope=col>&lt;int&gt;</th></tr>\n",
       "</thead>\n",
       "<tbody>\n",
       "\t<tr><th scope=row>chr1\t51459\t51659</th><td>17</td><td>7</td><td>15</td><td>12</td><td>20</td><td>15</td><td>47</td><td> 99</td></tr>\n",
       "\t<tr><th scope=row>chr1\t51689\t51889</th><td> 8</td><td>8</td><td>12</td><td> 7</td><td>27</td><td>34</td><td>92</td><td>122</td></tr>\n",
       "</tbody>\n",
       "</table>\n"
      ],
      "text/latex": [
       "A data.frame: 2 × 8\n",
       "\\begin{tabular}{r|llllllll}\n",
       "  & D0 & D2 & D4 & D6 & D8 & D10 & D12 & D14\\\\\n",
       "  & <int> & <int> & <int> & <int> & <int> & <int> & <int> & <int>\\\\\n",
       "\\hline\n",
       "\tchr1\t51459\t51659 & 17 & 7 & 15 & 12 & 20 & 15 & 47 &  99\\\\\n",
       "\tchr1\t51689\t51889 &  8 & 8 & 12 &  7 & 27 & 34 & 92 & 122\\\\\n",
       "\\end{tabular}\n"
      ],
      "text/markdown": [
       "\n",
       "A data.frame: 2 × 8\n",
       "\n",
       "| <!--/--> | D0 &lt;int&gt; | D2 &lt;int&gt; | D4 &lt;int&gt; | D6 &lt;int&gt; | D8 &lt;int&gt; | D10 &lt;int&gt; | D12 &lt;int&gt; | D14 &lt;int&gt; |\n",
       "|---|---|---|---|---|---|---|---|---|\n",
       "| chr1\t51459\t51659 | 17 | 7 | 15 | 12 | 20 | 15 | 47 |  99 |\n",
       "| chr1\t51689\t51889 |  8 | 8 | 12 |  7 | 27 | 34 | 92 | 122 |\n",
       "\n"
      ],
      "text/plain": [
       "                   D0 D2 D4 D6 D8 D10 D12 D14\n",
       "chr1\\t51459\\t51659 17 7  15 12 20 15  47   99\n",
       "chr1\\t51689\\t51889  8 8  12  7 27 34  92  122"
      ]
     },
     "metadata": {},
     "output_type": "display_data"
    },
    {
     "data": {
      "text/html": [
       "<ol class=list-inline>\n",
       "\t<li>230644</li>\n",
       "\t<li>8</li>\n",
       "</ol>\n"
      ],
      "text/latex": [
       "\\begin{enumerate*}\n",
       "\\item 230644\n",
       "\\item 8\n",
       "\\end{enumerate*}\n"
      ],
      "text/markdown": [
       "1. 230644\n",
       "2. 8\n",
       "\n",
       "\n"
      ],
      "text/plain": [
       "[1] 230644      8"
      ]
     },
     "metadata": {},
     "output_type": "display_data"
    }
   ],
   "source": [
    "cts <- read.csv(\"../20200118_Bulk_Analysis/data/bulk_from_pipeline/idr.counts.tsv\",sep=\"\\t\")\n",
    "rownames(cts)=paste(cts$chr,cts$start,cts$end,sep='\\t')\n",
    "cts$chrom = NULL\n",
    "cts$start = NULL\n",
    "cts$end = NULL\n",
    "head(cts, 2)\n",
    "dim(cts)"
   ]
  },
  {
   "cell_type": "code",
   "execution_count": 38,
   "metadata": {},
   "outputs": [
    {
     "data": {
      "text/html": [
       "<table>\n",
       "<caption>A data.frame: 2 × 1</caption>\n",
       "<thead>\n",
       "\t<tr><th></th><th scope=col>count</th></tr>\n",
       "\t<tr><th></th><th scope=col>&lt;int&gt;</th></tr>\n",
       "</thead>\n",
       "<tbody>\n",
       "\t<tr><th scope=row>chr1\t631001\t631377</th><td>0</td></tr>\n",
       "\t<tr><th scope=row>chr1\t631814\t632317</th><td>0</td></tr>\n",
       "</tbody>\n",
       "</table>\n"
      ],
      "text/latex": [
       "A data.frame: 2 × 1\n",
       "\\begin{tabular}{r|l}\n",
       "  & count\\\\\n",
       "  & <int>\\\\\n",
       "\\hline\n",
       "\tchr1\t631001\t631377 & 0\\\\\n",
       "\tchr1\t631814\t632317 & 0\\\\\n",
       "\\end{tabular}\n"
      ],
      "text/markdown": [
       "\n",
       "A data.frame: 2 × 1\n",
       "\n",
       "| <!--/--> | count &lt;int&gt; |\n",
       "|---|---|\n",
       "| chr1\t631001\t631377 | 0 |\n",
       "| chr1\t631814\t632317 | 0 |\n",
       "\n"
      ],
      "text/plain": [
       "                     count\n",
       "chr1\\t631001\\t631377 0    \n",
       "chr1\\t631814\\t632317 0    "
      ]
     },
     "metadata": {},
     "output_type": "display_data"
    }
   ],
   "source": [
    "h1_atac_idr_intersect_peaks <- read.csv(\"./data/H1.hESC.atac.idr.bulk.idr.intersect.txt\",sep=\"\\t\")\n",
    "rownames(h1_atac_idr_intersect_peaks)=paste(h1_atac_idr_intersect_peaks$chrom,h1_atac_idr_intersect_peaks$start,h1_atac_idr_intersect_peaks$end,sep='\\t')\n",
    "h1_atac_idr_intersect_peaks$chrom = NULL\n",
    "h1_atac_idr_intersect_peaks$start = NULL\n",
    "h1_atac_idr_intersect_peaks$end = NULL\n",
    "tail(head(h1_atac_idr_intersect_peaks, 10), 2)"
   ]
  },
  {
   "cell_type": "code",
   "execution_count": 39,
   "metadata": {},
   "outputs": [
    {
     "data": {
      "text/html": [
       "<table>\n",
       "<caption>A data.frame: 2 × 1</caption>\n",
       "<thead>\n",
       "\t<tr><th></th><th scope=col>count</th></tr>\n",
       "\t<tr><th></th><th scope=col>&lt;int&gt;</th></tr>\n",
       "</thead>\n",
       "<tbody>\n",
       "\t<tr><th scope=row>chr1\t631001\t631377</th><td>0</td></tr>\n",
       "\t<tr><th scope=row>chr1\t631814\t632317</th><td>0</td></tr>\n",
       "</tbody>\n",
       "</table>\n"
      ],
      "text/latex": [
       "A data.frame: 2 × 1\n",
       "\\begin{tabular}{r|l}\n",
       "  & count\\\\\n",
       "  & <int>\\\\\n",
       "\\hline\n",
       "\tchr1\t631001\t631377 & 0\\\\\n",
       "\tchr1\t631814\t632317 & 0\\\\\n",
       "\\end{tabular}\n"
      ],
      "text/markdown": [
       "\n",
       "A data.frame: 2 × 1\n",
       "\n",
       "| <!--/--> | count &lt;int&gt; |\n",
       "|---|---|\n",
       "| chr1\t631001\t631377 | 0 |\n",
       "| chr1\t631814\t632317 | 0 |\n",
       "\n"
      ],
      "text/plain": [
       "                     count\n",
       "chr1\\t631001\\t631377 0    \n",
       "chr1\\t631814\\t632317 0    "
      ]
     },
     "metadata": {},
     "output_type": "display_data"
    }
   ],
   "source": [
    "h1_atac_overlap_intersect_peaks <- read.csv(\"./data/H1.hESC.atac.overlap.bulk.idr.intersect.txt\",sep=\"\\t\")\n",
    "rownames(h1_atac_overlap_intersect_peaks)=paste(h1_atac_overlap_intersect_peaks$chrom,h1_atac_overlap_intersect_peaks$start,h1_atac_overlap_intersect_peaks$end,sep='\\t')\n",
    "h1_atac_overlap_intersect_peaks$chrom = NULL\n",
    "h1_atac_overlap_intersect_peaks$start = NULL\n",
    "h1_atac_overlap_intersect_peaks$end = NULL\n",
    "tail(head(h1_atac_overlap_intersect_peaks, 10), 2)"
   ]
  },
  {
   "cell_type": "code",
   "execution_count": 40,
   "metadata": {},
   "outputs": [
    {
     "data": {
      "text/html": [
       "<table>\n",
       "<caption>A data.frame: 2 × 1</caption>\n",
       "<thead>\n",
       "\t<tr><th></th><th scope=col>count</th></tr>\n",
       "\t<tr><th></th><th scope=col>&lt;dbl&gt;</th></tr>\n",
       "</thead>\n",
       "<tbody>\n",
       "\t<tr><th scope=row>chr1\t631001\t631377</th><td>0</td></tr>\n",
       "\t<tr><th scope=row>chr1\t631814\t632317</th><td>0</td></tr>\n",
       "</tbody>\n",
       "</table>\n"
      ],
      "text/latex": [
       "A data.frame: 2 × 1\n",
       "\\begin{tabular}{r|l}\n",
       "  & count\\\\\n",
       "  & <dbl>\\\\\n",
       "\\hline\n",
       "\tchr1\t631001\t631377 & 0\\\\\n",
       "\tchr1\t631814\t632317 & 0\\\\\n",
       "\\end{tabular}\n"
      ],
      "text/markdown": [
       "\n",
       "A data.frame: 2 × 1\n",
       "\n",
       "| <!--/--> | count &lt;dbl&gt; |\n",
       "|---|---|\n",
       "| chr1\t631001\t631377 | 0 |\n",
       "| chr1\t631814\t632317 | 0 |\n",
       "\n"
      ],
      "text/plain": [
       "                     count\n",
       "chr1\\t631001\\t631377 0    \n",
       "chr1\\t631814\\t632317 0    "
      ]
     },
     "metadata": {},
     "output_type": "display_data"
    }
   ],
   "source": [
    "# binarize \n",
    "h1_atac_idr_intersect_peaks[,\"count\"] = ifelse(h1_atac_idr_intersect_peaks[,\"count\"] > 0, 1, 0)\n",
    "tail(head(h1_atac_idr_intersect_peaks, 10), 2)"
   ]
  },
  {
   "cell_type": "code",
   "execution_count": 41,
   "metadata": {},
   "outputs": [
    {
     "data": {
      "text/html": [
       "<table>\n",
       "<caption>A data.frame: 2 × 1</caption>\n",
       "<thead>\n",
       "\t<tr><th></th><th scope=col>count</th></tr>\n",
       "\t<tr><th></th><th scope=col>&lt;dbl&gt;</th></tr>\n",
       "</thead>\n",
       "<tbody>\n",
       "\t<tr><th scope=row>chr1\t631001\t631377</th><td>0</td></tr>\n",
       "\t<tr><th scope=row>chr1\t631814\t632317</th><td>0</td></tr>\n",
       "</tbody>\n",
       "</table>\n"
      ],
      "text/latex": [
       "A data.frame: 2 × 1\n",
       "\\begin{tabular}{r|l}\n",
       "  & count\\\\\n",
       "  & <dbl>\\\\\n",
       "\\hline\n",
       "\tchr1\t631001\t631377 & 0\\\\\n",
       "\tchr1\t631814\t632317 & 0\\\\\n",
       "\\end{tabular}\n"
      ],
      "text/markdown": [
       "\n",
       "A data.frame: 2 × 1\n",
       "\n",
       "| <!--/--> | count &lt;dbl&gt; |\n",
       "|---|---|\n",
       "| chr1\t631001\t631377 | 0 |\n",
       "| chr1\t631814\t632317 | 0 |\n",
       "\n"
      ],
      "text/plain": [
       "                     count\n",
       "chr1\\t631001\\t631377 0    \n",
       "chr1\\t631814\\t632317 0    "
      ]
     },
     "metadata": {},
     "output_type": "display_data"
    }
   ],
   "source": [
    "# binarize \n",
    "h1_atac_overlap_intersect_peaks[,\"count\"] = ifelse(h1_atac_overlap_intersect_peaks[,\"count\"] > 0, 1, 0)\n",
    "tail(head(h1_atac_overlap_intersect_peaks, 10), 2)"
   ]
  },
  {
   "cell_type": "code",
   "execution_count": 42,
   "metadata": {},
   "outputs": [
    {
     "data": {
      "text/html": [
       "67219"
      ],
      "text/latex": [
       "67219"
      ],
      "text/markdown": [
       "67219"
      ],
      "text/plain": [
       "[1] 67219"
      ]
     },
     "metadata": {},
     "output_type": "display_data"
    },
    {
     "data": {
      "text/html": [
       "93678"
      ],
      "text/latex": [
       "93678"
      ],
      "text/markdown": [
       "93678"
      ],
      "text/plain": [
       "[1] 93678"
      ]
     },
     "metadata": {},
     "output_type": "display_data"
    }
   ],
   "source": [
    "sum(h1_atac_idr_intersect_peaks$count)\n",
    "sum(h1_atac_overlap_intersect_peaks$count)"
   ]
  },
  {
   "cell_type": "markdown",
   "metadata": {},
   "source": [
    "## Computing Scores"
   ]
  },
  {
   "cell_type": "code",
   "execution_count": 11,
   "metadata": {},
   "outputs": [],
   "source": [
    "library(PRROC)"
   ]
  },
  {
   "cell_type": "code",
   "execution_count": 43,
   "metadata": {},
   "outputs": [
    {
     "name": "stdout",
     "output_type": "stream",
     "text": [
      "[1] \"D0 : 0.522356\"\n",
      "[1] \"D2 : 0.553426\"\n",
      "[1] \"D4 : 0.562288\"\n",
      "[1] \"D6 : 0.600770\"\n",
      "[1] \"D8 : 0.563365\"\n",
      "[1] \"D10 : 0.607131\"\n",
      "[1] \"D12 : 0.689127\"\n",
      "[1] \"D14 : 0.719554\"\n",
      "[1] \"D0 : 0.594980\"\n",
      "[1] \"D2 : 0.626284\"\n",
      "[1] \"D4 : 0.635678\"\n",
      "[1] \"D6 : 0.679034\"\n",
      "[1] \"D8 : 0.638206\"\n",
      "[1] \"D10 : 0.685475\"\n",
      "[1] \"D12 : 0.767640\"\n",
      "[1] \"D14 : 0.799590\"\n"
     ]
    }
   ],
   "source": [
    "auprcs_to_idr = c()\n",
    "for (y in colnames(cts)) {\n",
    "    cur_auprc = pr.curve(cts[,y], \n",
    "                            weights.class0 = h1_atac_idr_intersect_peaks$count)$auc.davis.goadrich\n",
    "    print(sprintf(\"%s : %4f\", y, cur_auprc))\n",
    "    auprcs_to_idr = c(auprcs_to_idr, cur_auprc)\n",
    "}\n",
    "\n",
    "auprcs_to_overlap = c()\n",
    "for (y in colnames(cts)) {\n",
    "    cur_auprc = pr.curve(cts[,y], \n",
    "                            weights.class0 = h1_atac_overlap_intersect_peaks$count)$auc.davis.goadrich\n",
    "    print(sprintf(\"%s : %4f\", y, cur_auprc))\n",
    "    auprcs_to_overlap = c(auprcs_to_overlap, cur_auprc)\n",
    "}"
   ]
  },
  {
   "cell_type": "code",
   "execution_count": 44,
   "metadata": {},
   "outputs": [
    {
     "data": {
      "text/html": [
       "<table>\n",
       "<caption>A data.frame: 8 × 3</caption>\n",
       "<thead>\n",
       "\t<tr><th scope=col>timepoint</th><th scope=col>auprcs_to_idr</th><th scope=col>auprcs_to_overlap</th></tr>\n",
       "\t<tr><th scope=col>&lt;fct&gt;</th><th scope=col>&lt;dbl&gt;</th><th scope=col>&lt;dbl&gt;</th></tr>\n",
       "</thead>\n",
       "<tbody>\n",
       "\t<tr><td>D0 </td><td>0.5223557</td><td>0.5949799</td></tr>\n",
       "\t<tr><td>D2 </td><td>0.5534257</td><td>0.6262835</td></tr>\n",
       "\t<tr><td>D4 </td><td>0.5622880</td><td>0.6356785</td></tr>\n",
       "\t<tr><td>D6 </td><td>0.6007701</td><td>0.6790338</td></tr>\n",
       "\t<tr><td>D8 </td><td>0.5633647</td><td>0.6382064</td></tr>\n",
       "\t<tr><td>D10</td><td>0.6071313</td><td>0.6854748</td></tr>\n",
       "\t<tr><td>D12</td><td>0.6891269</td><td>0.7676399</td></tr>\n",
       "\t<tr><td>D14</td><td>0.7195541</td><td>0.7995896</td></tr>\n",
       "</tbody>\n",
       "</table>\n"
      ],
      "text/latex": [
       "A data.frame: 8 × 3\n",
       "\\begin{tabular}{r|lll}\n",
       " timepoint & auprcs\\_to\\_idr & auprcs\\_to\\_overlap\\\\\n",
       " <fct> & <dbl> & <dbl>\\\\\n",
       "\\hline\n",
       "\t D0  & 0.5223557 & 0.5949799\\\\\n",
       "\t D2  & 0.5534257 & 0.6262835\\\\\n",
       "\t D4  & 0.5622880 & 0.6356785\\\\\n",
       "\t D6  & 0.6007701 & 0.6790338\\\\\n",
       "\t D8  & 0.5633647 & 0.6382064\\\\\n",
       "\t D10 & 0.6071313 & 0.6854748\\\\\n",
       "\t D12 & 0.6891269 & 0.7676399\\\\\n",
       "\t D14 & 0.7195541 & 0.7995896\\\\\n",
       "\\end{tabular}\n"
      ],
      "text/markdown": [
       "\n",
       "A data.frame: 8 × 3\n",
       "\n",
       "| timepoint &lt;fct&gt; | auprcs_to_idr &lt;dbl&gt; | auprcs_to_overlap &lt;dbl&gt; |\n",
       "|---|---|---|\n",
       "| D0  | 0.5223557 | 0.5949799 |\n",
       "| D2  | 0.5534257 | 0.6262835 |\n",
       "| D4  | 0.5622880 | 0.6356785 |\n",
       "| D6  | 0.6007701 | 0.6790338 |\n",
       "| D8  | 0.5633647 | 0.6382064 |\n",
       "| D10 | 0.6071313 | 0.6854748 |\n",
       "| D12 | 0.6891269 | 0.7676399 |\n",
       "| D14 | 0.7195541 | 0.7995896 |\n",
       "\n"
      ],
      "text/plain": [
       "  timepoint auprcs_to_idr auprcs_to_overlap\n",
       "1 D0        0.5223557     0.5949799        \n",
       "2 D2        0.5534257     0.6262835        \n",
       "3 D4        0.5622880     0.6356785        \n",
       "4 D6        0.6007701     0.6790338        \n",
       "5 D8        0.5633647     0.6382064        \n",
       "6 D10       0.6071313     0.6854748        \n",
       "7 D12       0.6891269     0.7676399        \n",
       "8 D14       0.7195541     0.7995896        "
      ]
     },
     "metadata": {},
     "output_type": "display_data"
    }
   ],
   "source": [
    "auprc_df = data.frame(timepoint=sapply(str_split(colnames(cts), \"\\\\.\"), tail, 1),\n",
    "                      auprcs_to_idr=auprcs_to_idr,\n",
    "                      auprcs_to_overlap=auprcs_to_overlap)\n",
    "auprc_df"
   ]
  },
  {
   "cell_type": "code",
   "execution_count": 62,
   "metadata": {},
   "outputs": [
    {
     "data": {
      "image/png": "[encoded data removed]",
      "text/plain": [
       "plot without title"
      ]
     },
     "metadata": {},
     "output_type": "display_data"
    }
   ],
   "source": [
    "ggplot(data=auprc_df, aes(x=timepoint, y=auprcs_to_overlap, group=1)) +\n",
    "  geom_point(color=\"red\")+\n",
    "  geom_line(linetype=\"dashed\")+\n",
    "    ylab(\"AUPRC against H1-hESC overlap peaks\") + \n",
    "scale_x_discrete(limits=colnames(cts)) + \n",
    "coord_fixed(ratio=20)"
   ]
  },
  {
   "cell_type": "code",
   "execution_count": null,
   "metadata": {},
   "outputs": [],
   "source": [
    "\n"
   ]
  }
 ],
 "metadata": {
  "kernelspec": {
   "display_name": "R",
   "language": "R",
   "name": "ir"
  },
  "language_info": {
   "codemirror_mode": "r",
   "file_extension": ".r",
   "mimetype": "text/x-r-source",
   "name": "R",
   "pygments_lexer": "r",
   "version": "3.6.1"
  }
 },
 "nbformat": 4,
 "nbformat_minor": 4
}
