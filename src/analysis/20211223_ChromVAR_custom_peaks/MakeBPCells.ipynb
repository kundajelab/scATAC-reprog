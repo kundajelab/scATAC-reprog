{
 "cells": [
  {
   "cell_type": "code",
   "execution_count": null,
   "metadata": {},
   "outputs": [],
   "source": [
    "library(\"BPCells\")\n",
    "library(tidyverse)\n",
    "library(GenomicRanges)"
   ]
  },
  {
   "cell_type": "code",
   "execution_count": 27,
   "metadata": {},
   "outputs": [],
   "source": [
    "DAYS = c(\"D0\", \"D2\", \"D4\", \"D6\", \"D8\", \"D10\", \"D12\", \"D14\", \"iPSC\")"
   ]
  },
  {
   "cell_type": "code",
   "execution_count": 28,
   "metadata": {},
   "outputs": [
    {
     "name": "stdout",
     "output_type": "stream",
     "text": [
      "D4 \n",
      "D6 \n",
      "D8 \n",
      "D10 \n",
      "D12 \n",
      "D14 \n",
      "iPSC \n"
     ]
    }
   ],
   "source": [
    "for (x in DAYS) {\n",
    "    cat(x, \"\\n\")\n",
    "    fragments <- open_10x_fragments(sprintf(\"/srv/scratch/surag/scATAC-reprog/BPCells/frags/%s.tsv.gz\", x))\n",
    "    packed_fragments <- write_packed_fragments(fragments)\n",
    "    saveRDS(packed_fragments, sprintf(\"/srv/scratch/surag/scATAC-reprog/BPCells/packed/%s.frag.rds\", x), compress=FALSE)\n",
    "}"
   ]
  },
  {
   "cell_type": "code",
   "execution_count": 24,
   "metadata": {},
   "outputs": [
    {
     "data": {
      "text/html": [
       "'D6'"
      ],
      "text/latex": [
       "'D6'"
      ],
      "text/markdown": [
       "'D6'"
      ],
      "text/plain": [
       "[1] \"D6\""
      ]
     },
     "metadata": {},
     "output_type": "display_data"
    }
   ],
   "source": [
    "x"
   ]
  },
  {
   "cell_type": "code",
   "execution_count": 10,
   "metadata": {},
   "outputs": [],
   "source": [
    "fragments <- open_10x_fragments(\"/srv/scratch/surag/tmp/lol.tsv.gz\")"
   ]
  },
  {
   "cell_type": "code",
   "execution_count": 11,
   "metadata": {},
   "outputs": [
    {
     "ename": "ERROR",
     "evalue": "Error in write_packed_fragments_cpp(iterate_fragments(fragments)): TSV not in sorted order by chr, start\n",
     "output_type": "error",
     "traceback": [
      "Error in write_packed_fragments_cpp(iterate_fragments(fragments)): TSV not in sorted order by chr, start\nTraceback:\n",
      "1. write_packed_fragments(fragments)",
      "2. write_packed_fragments_cpp(iterate_fragments(fragments))"
     ]
    }
   ],
   "source": []
  },
  {
   "cell_type": "code",
   "execution_count": 2,
   "metadata": {},
   "outputs": [],
   "source": [
    "packed_fragments <- readRDS(\"/srv/scratch/surag/tmp/fragments.rds\")"
   ]
  },
  {
   "cell_type": "code",
   "execution_count": 3,
   "metadata": {},
   "outputs": [],
   "source": [
    "peaks <- read_tsv(\"/users/surag/kundajelab/surag-scripts/scATAC-seq/peaks.500.3col.bed\", col_names=c(\"chr\", \"start\", \"end\"), col_types=\"cii\")"
   ]
  },
  {
   "cell_type": "code",
   "execution_count": 4,
   "metadata": {},
   "outputs": [],
   "source": [
    "keeper_cells = as.vector(unlist(read.table(\"/users/surag/kundajelab/surag-scripts/scATAC-seq/d2.bc\")$V1))"
   ]
  },
  {
   "cell_type": "code",
   "execution_count": 5,
   "metadata": {},
   "outputs": [],
   "source": [
    "peakMatrix = packed_fragments %>% select_cells(keeper_cells) %>% overlapMatrix(GRanges(peaks))"
   ]
  },
  {
   "cell_type": "code",
   "execution_count": 29,
   "metadata": {},
   "outputs": [
    {
     "data": {
      "text/html": [
       "<table>\n",
       "<caption>A tibble: 6 × 3</caption>\n",
       "<thead>\n",
       "\t<tr><th scope=col>chr</th><th scope=col>start</th><th scope=col>end</th></tr>\n",
       "\t<tr><th scope=col>&lt;chr&gt;</th><th scope=col>&lt;int&gt;</th><th scope=col>&lt;int&gt;</th></tr>\n",
       "</thead>\n",
       "<tbody>\n",
       "\t<tr><td>chr17</td><td>32960817</td><td>32961317</td></tr>\n",
       "\t<tr><td>chr17</td><td>75764252</td><td>75764752</td></tr>\n",
       "\t<tr><td>chr17</td><td> 1473114</td><td> 1473614</td></tr>\n",
       "\t<tr><td>chr17</td><td> 4206897</td><td> 4207397</td></tr>\n",
       "\t<tr><td>chr17</td><td>  423409</td><td>  423909</td></tr>\n",
       "\t<tr><td>chr17</td><td> 1964634</td><td> 1965134</td></tr>\n",
       "</tbody>\n",
       "</table>\n"
      ],
      "text/latex": [
       "A tibble: 6 × 3\n",
       "\\begin{tabular}{lll}\n",
       " chr & start & end\\\\\n",
       " <chr> & <int> & <int>\\\\\n",
       "\\hline\n",
       "\t chr17 & 32960817 & 32961317\\\\\n",
       "\t chr17 & 75764252 & 75764752\\\\\n",
       "\t chr17 &  1473114 &  1473614\\\\\n",
       "\t chr17 &  4206897 &  4207397\\\\\n",
       "\t chr17 &   423409 &   423909\\\\\n",
       "\t chr17 &  1964634 &  1965134\\\\\n",
       "\\end{tabular}\n"
      ],
      "text/markdown": [
       "\n",
       "A tibble: 6 × 3\n",
       "\n",
       "| chr &lt;chr&gt; | start &lt;int&gt; | end &lt;int&gt; |\n",
       "|---|---|---|\n",
       "| chr17 | 32960817 | 32961317 |\n",
       "| chr17 | 75764252 | 75764752 |\n",
       "| chr17 |  1473114 |  1473614 |\n",
       "| chr17 |  4206897 |  4207397 |\n",
       "| chr17 |   423409 |   423909 |\n",
       "| chr17 |  1964634 |  1965134 |\n",
       "\n"
      ],
      "text/plain": [
       "  chr   start    end     \n",
       "1 chr17 32960817 32961317\n",
       "2 chr17 75764252 75764752\n",
       "3 chr17  1473114  1473614\n",
       "4 chr17  4206897  4207397\n",
       "5 chr17   423409   423909\n",
       "6 chr17  1964634  1965134"
      ]
     },
     "metadata": {},
     "output_type": "display_data"
    }
   ],
   "source": [
    "head(peaks)"
   ]
  },
  {
   "cell_type": "code",
   "execution_count": 30,
   "metadata": {},
   "outputs": [
    {
     "ename": "ERROR",
     "evalue": "Error: Argument \"ranges\" to function \"overlapMatrix\" must have class GRanges, or list\n\u001b[90m     \u001b[39m█\n\u001b[90m  1. \u001b[39m├─IRkernel::main()\n\u001b[90m  2. \u001b[39m│ └─kernel$run()\n\u001b[90m  3. \u001b[39m│   └─IRkernel:::handle_shell()\n\u001b[90m  4. \u001b[39m│     └─executor$execute(msg)\n\u001b[90m  5. \u001b[39m│       ├─base::tryCatch(...)\n\u001b[90m  6. \u001b[39m│       │ └─base:::tryCatchList(expr, classes, parentenv, handlers)\n\u001b[90m  7. \u001b[39m│       │   ├─base:::tryCatchOne(...)\n\u001b[90m  8. \u001b[39m│       │   │ └─base:::doTryCatch(return(expr), name, parentenv, handler)\n\u001b[90m  9. \u001b[39m│       │   └─base:::tryCatchList(expr, names[-nh], parentenv, handlers[-nh])\n\u001b[90m 10. \u001b[39m│       │     └─base:::tryCatchOne(expr, names, parentenv, handlers[[1L]])\n\u001b[90m 11. \u001b[39m│       │       └─base:::doTryCatch(return(expr), name, parentenv, handler)\n\u001b[90m 12. \u001b[39m│       └─evaluate::evaluate(...)\n\u001b[90m 13. \u001b[39m│         └─evaluate:::evaluate_call(...)\n\u001b[90m 14. \u001b[39m│           ├─evaluate:::timing_fn(...)\n\u001b[90m 15. \u001b[39m│           ├─evaluate:::handle(...)\n\u001b[90m 16. \u001b[39m│           │ └─base::try(f, silent = TRUE)\n\u001b[90m 17. \u001b[39m│           │   └─base::tryCatch(...)\n\u001b[90m 18. \u001b[39m│           │     └─base:::tryCatchList(expr, classes, parentenv, handlers)\n\u001b[90m 19. \u001b[39m│           │       └─base:::tryCatchOne(expr, names, parentenv, handlers[[1L]])\n\u001b[90m 20. \u001b[39m│           │         └─base:::doTryCatch(return(expr), name, parentenv, handler)\n\u001b[90m 21. \u001b[39m│           ├─base::withCallingHandlers(...)\n\u001b[90m 22. \u001b[39m│           ├─base::withVisible(eval(expr, envir, enclos))\n\u001b[90m 23. \u001b[39m│           └─base::eval(expr, envir, enclos)\n\u001b[90m 24. \u001b[39m│             └─base::eval(expr, envir, enclos)\n\u001b[90m 25. \u001b[39m└─packed_fragments %>% select_cells(keeper_cells) %>% overlapMatrix((peaks))\n\u001b[90m 26. \u001b[39m  ├─base::withVisible(eval(quote(`_fseq`(`_lhs`)), env, env))\n\u001b[90m 27. \u001b[39m  └─base::eval(quote(`_fseq`(`_lhs`)), env, env)\n\u001b[90m 28. \u001b[39m    └─base::eval(quote(`_fseq`(`_lhs`)), env, env)\n\u001b[90m 29. \u001b[39m      └─`_fseq`(`_lhs`)\n\u001b[90m 30. \u001b[39m        └─magrittr::freduce(value, `_function_list`)\n\u001b[90m 31. \u001b[39m          ├─base::withVisible(function_list[[k]](value))\n\u001b[90m 32. \u001b[39m          └─function_list[[k]](value)\n\u001b[90m 33. \u001b[39m            └─BPCells::overlapMatrix(., (peaks))\n\u001b[90m 34. \u001b[39m              └─BPCells:::assert_is(ranges, c(\"GRanges\", \"list\"))\n",
     "output_type": "error",
     "traceback": [
      "Error: Argument \"ranges\" to function \"overlapMatrix\" must have class GRanges, or list\n\u001b[90m     \u001b[39m█\n\u001b[90m  1. \u001b[39m├─IRkernel::main()\n\u001b[90m  2. \u001b[39m│ └─kernel$run()\n\u001b[90m  3. \u001b[39m│   └─IRkernel:::handle_shell()\n\u001b[90m  4. \u001b[39m│     └─executor$execute(msg)\n\u001b[90m  5. \u001b[39m│       ├─base::tryCatch(...)\n\u001b[90m  6. \u001b[39m│       │ └─base:::tryCatchList(expr, classes, parentenv, handlers)\n\u001b[90m  7. \u001b[39m│       │   ├─base:::tryCatchOne(...)\n\u001b[90m  8. \u001b[39m│       │   │ └─base:::doTryCatch(return(expr), name, parentenv, handler)\n\u001b[90m  9. \u001b[39m│       │   └─base:::tryCatchList(expr, names[-nh], parentenv, handlers[-nh])\n\u001b[90m 10. \u001b[39m│       │     └─base:::tryCatchOne(expr, names, parentenv, handlers[[1L]])\n\u001b[90m 11. \u001b[39m│       │       └─base:::doTryCatch(return(expr), name, parentenv, handler)\n\u001b[90m 12. \u001b[39m│       └─evaluate::evaluate(...)\n\u001b[90m 13. \u001b[39m│         └─evaluate:::evaluate_call(...)\n\u001b[90m 14. \u001b[39m│           ├─evaluate:::timing_fn(...)\n\u001b[90m 15. \u001b[39m│           ├─evaluate:::handle(...)\n\u001b[90m 16. \u001b[39m│           │ └─base::try(f, silent = TRUE)\n\u001b[90m 17. \u001b[39m│           │   └─base::tryCatch(...)\n\u001b[90m 18. \u001b[39m│           │     └─base:::tryCatchList(expr, classes, parentenv, handlers)\n\u001b[90m 19. \u001b[39m│           │       └─base:::tryCatchOne(expr, names, parentenv, handlers[[1L]])\n\u001b[90m 20. \u001b[39m│           │         └─base:::doTryCatch(return(expr), name, parentenv, handler)\n\u001b[90m 21. \u001b[39m│           ├─base::withCallingHandlers(...)\n\u001b[90m 22. \u001b[39m│           ├─base::withVisible(eval(expr, envir, enclos))\n\u001b[90m 23. \u001b[39m│           └─base::eval(expr, envir, enclos)\n\u001b[90m 24. \u001b[39m│             └─base::eval(expr, envir, enclos)\n\u001b[90m 25. \u001b[39m└─packed_fragments %>% select_cells(keeper_cells) %>% overlapMatrix((peaks))\n\u001b[90m 26. \u001b[39m  ├─base::withVisible(eval(quote(`_fseq`(`_lhs`)), env, env))\n\u001b[90m 27. \u001b[39m  └─base::eval(quote(`_fseq`(`_lhs`)), env, env)\n\u001b[90m 28. \u001b[39m    └─base::eval(quote(`_fseq`(`_lhs`)), env, env)\n\u001b[90m 29. \u001b[39m      └─`_fseq`(`_lhs`)\n\u001b[90m 30. \u001b[39m        └─magrittr::freduce(value, `_function_list`)\n\u001b[90m 31. \u001b[39m          ├─base::withVisible(function_list[[k]](value))\n\u001b[90m 32. \u001b[39m          └─function_list[[k]](value)\n\u001b[90m 33. \u001b[39m            └─BPCells::overlapMatrix(., (peaks))\n\u001b[90m 34. \u001b[39m              └─BPCells:::assert_is(ranges, c(\"GRanges\", \"list\"))\nTraceback:\n",
      "1. packed_fragments %>% select_cells(keeper_cells) %>% overlapMatrix((peaks))",
      "2. withVisible(eval(quote(`_fseq`(`_lhs`)), env, env))",
      "3. eval(quote(`_fseq`(`_lhs`)), env, env)",
      "4. eval(quote(`_fseq`(`_lhs`)), env, env)",
      "5. `_fseq`(`_lhs`)",
      "6. freduce(value, `_function_list`)",
      "7. withVisible(function_list[[k]](value))",
      "8. function_list[[k]](value)",
      "9. overlapMatrix(., (peaks))",
      "10. assert_is(ranges, c(\"GRanges\", \"list\"))",
      "11. pretty_error(object, sprintf(\"must have class %s\", paste0(class, \n  .     collapse = \", or \")), n)",
      "12. stop(message, call. = FALSE)"
     ]
    }
   ],
   "source": [
    "peakMatrix = packed_fragments %>% select_cells(keeper_cells) %>% overlapMatrix(GRanges(peaks))"
   ]
  },
  {
   "cell_type": "code",
   "execution_count": 6,
   "metadata": {},
   "outputs": [],
   "source": [
    "R_matrix <- as(peakMatrix, \"dgCMatrix\")"
   ]
  },
  {
   "cell_type": "code",
   "execution_count": 23,
   "metadata": {},
   "outputs": [
    {
     "data": {
      "text/plain": [
       "\n",
       "       1        2        3        4        5        6        7        8 \n",
       "13673016 17393362   903258   674331    75859    44539     7984     4493 \n",
       "       9       10       11       12       13       14       15       16 \n",
       "    1114      708      254      193      111       93       75       47 \n",
       "      17       18       19       20       21       22       23       24 \n",
       "      34       41       28       21       23       21       15       17 \n",
       "      25       26       27       28       29       30       31       32 \n",
       "       8       12        4        6        6        5        8        4 \n",
       "      33       34       35       36       39       40       41       42 \n",
       "       4        2        4        6        1        1        1        5 \n",
       "      45       47       48       50       52       54       56       57 \n",
       "       2        1        1        1        1        1        1        1 \n",
       "      60       62       66       72       77 \n",
       "       1        1        1        1        1 "
      ]
     },
     "metadata": {},
     "output_type": "display_data"
    }
   ],
   "source": [
    "table(R_matrix@x)"
   ]
  },
  {
   "cell_type": "code",
   "execution_count": null,
   "metadata": {},
   "outputs": [],
   "source": []
  },
  {
   "cell_type": "code",
   "execution_count": 12,
   "metadata": {},
   "outputs": [],
   "source": [
    "rownames(R_matrix) = keeper_cells"
   ]
  },
  {
   "cell_type": "code",
   "execution_count": 13,
   "metadata": {},
   "outputs": [
    {
     "data": {
      "text/html": [
       "<style>\n",
       ".list-inline {list-style: none; margin:0; padding: 0}\n",
       ".list-inline>li {display: inline-block}\n",
       ".list-inline>li:not(:last-child)::after {content: \"\\00b7\"; padding: 0 .5ex}\n",
       "</style>\n",
       "<ol class=list-inline><li>'AAACCCTGAGTACGTT'</li><li>'AAACCGTACTGACCTA'</li><li>'AAGACGGTGAGCAATA'</li><li>'AAGGATCCTCATACTG'</li><li>'ACACAGACTAGGACCA'</li><li>'ACCGTGTCTGCAGGAT'</li></ol>\n"
      ],
      "text/latex": [
       "\\begin{enumerate*}\n",
       "\\item 'AAACCCTGAGTACGTT'\n",
       "\\item 'AAACCGTACTGACCTA'\n",
       "\\item 'AAGACGGTGAGCAATA'\n",
       "\\item 'AAGGATCCTCATACTG'\n",
       "\\item 'ACACAGACTAGGACCA'\n",
       "\\item 'ACCGTGTCTGCAGGAT'\n",
       "\\end{enumerate*}\n"
      ],
      "text/markdown": [
       "1. 'AAACCCTGAGTACGTT'\n",
       "2. 'AAACCGTACTGACCTA'\n",
       "3. 'AAGACGGTGAGCAATA'\n",
       "4. 'AAGGATCCTCATACTG'\n",
       "5. 'ACACAGACTAGGACCA'\n",
       "6. 'ACCGTGTCTGCAGGAT'\n",
       "\n",
       "\n"
      ],
      "text/plain": [
       "[1] \"AAACCCTGAGTACGTT\" \"AAACCGTACTGACCTA\" \"AAGACGGTGAGCAATA\" \"AAGGATCCTCATACTG\"\n",
       "[5] \"ACACAGACTAGGACCA\" \"ACCGTGTCTGCAGGAT\""
      ]
     },
     "metadata": {},
     "output_type": "display_data"
    }
   ],
   "source": [
    "head(rownames(R_matrix))"
   ]
  },
  {
   "cell_type": "code",
   "execution_count": 26,
   "metadata": {},
   "outputs": [
    {
     "data": {
      "text/html": [
       "<style>\n",
       ".list-inline {list-style: none; margin:0; padding: 0}\n",
       ".list-inline>li {display: inline-block}\n",
       ".list-inline>li:not(:last-child)::after {content: \"\\00b7\"; padding: 0 .5ex}\n",
       "</style>\n",
       "<ol class=list-inline><li>1334</li><li>40301</li><li>3192</li><li>8286</li><li>2625</li><li>1676</li></ol>\n"
      ],
      "text/latex": [
       "\\begin{enumerate*}\n",
       "\\item 1334\n",
       "\\item 40301\n",
       "\\item 3192\n",
       "\\item 8286\n",
       "\\item 2625\n",
       "\\item 1676\n",
       "\\end{enumerate*}\n"
      ],
      "text/markdown": [
       "1. 1334\n",
       "2. 40301\n",
       "3. 3192\n",
       "4. 8286\n",
       "5. 2625\n",
       "6. 1676\n",
       "\n",
       "\n"
      ],
      "text/plain": [
       "[1]  1334 40301  3192  8286  2625  1676"
      ]
     },
     "metadata": {},
     "output_type": "display_data"
    }
   ],
   "source": [
    "head(rowSums(R_matrix))"
   ]
  },
  {
   "cell_type": "code",
   "execution_count": 31,
   "metadata": {},
   "outputs": [
    {
     "data": {
      "text/html": [
       "<style>\n",
       ".list-inline {list-style: none; margin:0; padding: 0}\n",
       ".list-inline>li {display: inline-block}\n",
       ".list-inline>li:not(:last-child)::after {content: \"\\00b7\"; padding: 0 .5ex}\n",
       "</style>\n",
       "<ol class=list-inline><li>'TTTGACGGAGCTGGCT'</li><li>'TTTGACGGATGCGGCT'</li><li>'TTTGCGGCTAATGCGG'</li><li>'TTTGCGGCTGCACCCA'</li><li>'TTTGGGAACAATCCTG'</li><li>'TTTGGGATGATGAATG'</li></ol>\n"
      ],
      "text/latex": [
       "\\begin{enumerate*}\n",
       "\\item 'TTTGACGGAGCTGGCT'\n",
       "\\item 'TTTGACGGATGCGGCT'\n",
       "\\item 'TTTGCGGCTAATGCGG'\n",
       "\\item 'TTTGCGGCTGCACCCA'\n",
       "\\item 'TTTGGGAACAATCCTG'\n",
       "\\item 'TTTGGGATGATGAATG'\n",
       "\\end{enumerate*}\n"
      ],
      "text/markdown": [
       "1. 'TTTGACGGAGCTGGCT'\n",
       "2. 'TTTGACGGATGCGGCT'\n",
       "3. 'TTTGCGGCTAATGCGG'\n",
       "4. 'TTTGCGGCTGCACCCA'\n",
       "5. 'TTTGGGAACAATCCTG'\n",
       "6. 'TTTGGGATGATGAATG'\n",
       "\n",
       "\n"
      ],
      "text/plain": [
       "[1] \"TTTGACGGAGCTGGCT\" \"TTTGACGGATGCGGCT\" \"TTTGCGGCTAATGCGG\" \"TTTGCGGCTGCACCCA\"\n",
       "[5] \"TTTGGGAACAATCCTG\" \"TTTGGGATGATGAATG\""
      ]
     },
     "metadata": {},
     "output_type": "display_data"
    }
   ],
   "source": [
    "tail(keeper_cells)"
   ]
  },
  {
   "cell_type": "code",
   "execution_count": 9,
   "metadata": {},
   "outputs": [
    {
     "data": {
      "text/plain": [
       "6226 x 531538 IterableMatrix object with class overlapMatrix\n",
       "\n",
       "Queued Operations:\n",
       "1. Read packed fragments from memory\n",
       "2. Select 6226 cells by name: AAACCCTGAGTACGTT, AAACCGTACTGACCTA ... TTTGGGATGATGAATG\n",
       "3. Calculate overlaps with 531538 ranges: chr17:32960817-32961317 ... chrY:7936006-7936506"
      ]
     },
     "metadata": {},
     "output_type": "display_data"
    }
   ],
   "source": [
    "peakMatrix"
   ]
  },
  {
   "cell_type": "code",
   "execution_count": 7,
   "metadata": {},
   "outputs": [],
   "source": [
    "l = (rbind(R_matrix,R_matrix, R_matrix))"
   ]
  },
  {
   "cell_type": "code",
   "execution_count": null,
   "metadata": {},
   "outputs": [],
   "source": [
    "cbind(peakMatrix, peakMatrix)"
   ]
  },
  {
   "cell_type": "code",
   "execution_count": 28,
   "metadata": {},
   "outputs": [
    {
     "data": {
      "text/plain": [
       "NULL"
      ]
     },
     "metadata": {},
     "output_type": "display_data"
    }
   ],
   "source": [
    "\n",
    "head(rownames(R_matrix))"
   ]
  },
  {
   "cell_type": "code",
   "execution_count": null,
   "metadata": {},
   "outputs": [],
   "source": []
  }
 ],
 "metadata": {
  "kernelspec": {
   "display_name": "R",
   "language": "R",
   "name": "ir"
  },
  "language_info": {
   "codemirror_mode": "r",
   "file_extension": ".r",
   "mimetype": "text/x-r-source",
   "name": "R",
   "pygments_lexer": "r",
   "version": "3.6.3"
  }
 },
 "nbformat": 4,
 "nbformat_minor": 4
}
