{
 "cells": [
  {
   "cell_type": "markdown",
   "metadata": {},
   "source": [
    "# ENCODE Match\n",
    "\n",
    "Match with existing cells in the ENCODE matrix."
   ]
  },
  {
   "cell_type": "code",
   "execution_count": 44,
   "metadata": {},
   "outputs": [
    {
     "data": {
      "text/html": [
       "<table>\n",
       "<thead><tr><th></th><th scope=col>cluster1</th><th scope=col>cluster2</th><th scope=col>cluster3</th><th scope=col>cluster4</th><th scope=col>cluster5</th><th scope=col>cluster6</th><th scope=col>cluster7</th><th scope=col>cluster8</th><th scope=col>cluster9</th><th scope=col>cluster10</th><th scope=col>cluster11</th><th scope=col>cluster12</th><th scope=col>cluster13</th><th scope=col>cluster14</th><th scope=col>cluster15</th><th scope=col>cluster16</th><th scope=col>cluster17</th><th scope=col>cluster18</th></tr></thead>\n",
       "<tbody>\n",
       "\t<tr><th scope=row>chr1\t10381\t10602</th><td>15</td><td>11</td><td>7 </td><td>21</td><td>6 </td><td>4 </td><td>4 </td><td>3 </td><td>18</td><td>16</td><td>4 </td><td>3 </td><td>11</td><td>4 </td><td>18</td><td>1 </td><td>12</td><td>13</td></tr>\n",
       "\t<tr><th scope=row>chr1\t10711\t11189</th><td> 0</td><td> 0</td><td>0 </td><td> 0</td><td>0 </td><td>0 </td><td>0 </td><td>0 </td><td> 0</td><td> 0</td><td>0 </td><td>0 </td><td> 0</td><td>0 </td><td> 0</td><td>0 </td><td> 0</td><td> 0</td></tr>\n",
       "</tbody>\n",
       "</table>\n"
      ],
      "text/latex": [
       "\\begin{tabular}{r|llllllllllllllllll}\n",
       "  & cluster1 & cluster2 & cluster3 & cluster4 & cluster5 & cluster6 & cluster7 & cluster8 & cluster9 & cluster10 & cluster11 & cluster12 & cluster13 & cluster14 & cluster15 & cluster16 & cluster17 & cluster18\\\\\n",
       "\\hline\n",
       "\tchr1\t10381\t10602 & 15 & 11 & 7  & 21 & 6  & 4  & 4  & 3  & 18 & 16 & 4  & 3  & 11 & 4  & 18 & 1  & 12 & 13\\\\\n",
       "\tchr1\t10711\t11189 &  0 &  0 & 0  &  0 & 0  & 0  & 0  & 0  &  0 &  0 & 0  & 0  &  0 & 0  &  0 & 0  &  0 &  0\\\\\n",
       "\\end{tabular}\n"
      ],
      "text/markdown": [
       "\n",
       "| <!--/--> | cluster1 | cluster2 | cluster3 | cluster4 | cluster5 | cluster6 | cluster7 | cluster8 | cluster9 | cluster10 | cluster11 | cluster12 | cluster13 | cluster14 | cluster15 | cluster16 | cluster17 | cluster18 | \n",
       "|---|---|\n",
       "| chr1\t10381\t10602 | 15 | 11 | 7  | 21 | 6  | 4  | 4  | 3  | 18 | 16 | 4  | 3  | 11 | 4  | 18 | 1  | 12 | 13 | \n",
       "| chr1\t10711\t11189 |  0 |  0 | 0  |  0 | 0  | 0  | 0  | 0  |  0 |  0 | 0  | 0  |  0 | 0  |  0 | 0  |  0 |  0 | \n",
       "\n",
       "\n"
      ],
      "text/plain": [
       "                   cluster1 cluster2 cluster3 cluster4 cluster5 cluster6\n",
       "chr1\\t10381\\t10602 15       11       7        21       6        4       \n",
       "chr1\\t10711\\t11189  0        0       0         0       0        0       \n",
       "                   cluster7 cluster8 cluster9 cluster10 cluster11 cluster12\n",
       "chr1\\t10381\\t10602 4        3        18       16        4         3        \n",
       "chr1\\t10711\\t11189 0        0         0        0        0         0        \n",
       "                   cluster13 cluster14 cluster15 cluster16 cluster17 cluster18\n",
       "chr1\\t10381\\t10602 11        4         18        1         12        13       \n",
       "chr1\\t10711\\t11189  0        0          0        0          0         0       "
      ]
     },
     "metadata": {},
     "output_type": "display_data"
    },
    {
     "data": {
      "text/html": [
       "<ol class=list-inline>\n",
       "\t<li>1276302</li>\n",
       "\t<li>18</li>\n",
       "</ol>\n"
      ],
      "text/latex": [
       "\\begin{enumerate*}\n",
       "\\item 1276302\n",
       "\\item 18\n",
       "\\end{enumerate*}\n"
      ],
      "text/markdown": [
       "1. 1276302\n",
       "2. 18\n",
       "\n",
       "\n"
      ],
      "text/plain": [
       "[1] 1276302      18"
      ]
     },
     "metadata": {},
     "output_type": "display_data"
    }
   ],
   "source": [
    "cts <- read.csv(\"./data/encode.idr.peaks.20200125.n76770.cluster.txt\",sep=\"\\t\")\n",
    "rownames(cts)=paste(cts$chr,cts$start,cts$end,sep='\\t')\n",
    "cts$chrom = NULL\n",
    "cts$start = NULL\n",
    "cts$end = NULL\n",
    "head(cts, 2)\n",
    "dim(cts)"
   ]
  },
  {
   "cell_type": "code",
   "execution_count": 45,
   "metadata": {},
   "outputs": [
    {
     "data": {
      "text/html": [
       "<table>\n",
       "<thead><tr><th></th><th scope=col>ENCSR000EID</th><th scope=col>ENCSR000EIE</th><th scope=col>ENCSR000EIF</th><th scope=col>ENCSR000EIG</th><th scope=col>ENCSR000EII</th><th scope=col>ENCSR000EIJ</th><th scope=col>ENCSR000EIK</th><th scope=col>ENCSR000EIL</th><th scope=col>ENCSR000EIN</th><th scope=col>ENCSR000EIO</th><th scope=col>⋯</th><th scope=col>ENCSR976XOY</th><th scope=col>ENCSR978QUT</th><th scope=col>ENCSR979ZJS</th><th scope=col>ENCSR986HEN</th><th scope=col>ENCSR986XLW</th><th scope=col>ENCSR986YWZ</th><th scope=col>ENCSR988YKR</th><th scope=col>ENCSR989YIV</th><th scope=col>ENCSR990XXC</th><th scope=col>ENCSR999TSD</th></tr></thead>\n",
       "<tbody>\n",
       "\t<tr><th scope=row>chr1\t10381\t10602</th><td>27</td><td>8 </td><td>15</td><td>8 </td><td>49</td><td>26</td><td>37</td><td>21</td><td>7 </td><td>10</td><td>⋯ </td><td>1 </td><td>0 </td><td>3 </td><td>2 </td><td>12</td><td>1 </td><td>0 </td><td>15</td><td>3 </td><td>1 </td></tr>\n",
       "\t<tr><th scope=row>chr1\t10711\t11189</th><td>12</td><td>9 </td><td> 5</td><td>9 </td><td>44</td><td>14</td><td>18</td><td>39</td><td>2 </td><td>18</td><td>⋯ </td><td>1 </td><td>0 </td><td>1 </td><td>1 </td><td> 2</td><td>0 </td><td>0 </td><td> 9</td><td>1 </td><td>0 </td></tr>\n",
       "</tbody>\n",
       "</table>\n"
      ],
      "text/latex": [
       "\\begin{tabular}{r|llllllllllllllllllllllllllllllllllllllllllllllllllllllllllllllllllllllllllllllllllllllllllllllllllllllllllllllllllllllllllllllllllllllllllllllllllllllllllllllllllllllllllllllllllllllllllllllllllllllllllllllllllllllllllllllllllllllllllllllllllllllllllllllllllllllllllllllllllllllllllllllllllllllllllllllllllllllllllllllllllllllllllllllllllllllllllllllllllllllllllllllllllllllllllllllllllllllllllllllllllllllllllllllllllllllllllllllllllllllllllllllllllllllllllllllllllllllllllllllllllllllllllllllllllllllllllllllllllllllllllllllllllllllllllllllllllllllllllllllllllllllllllllllllllllllllllllllllllllllllllllllllllllllllllllllllllllllllllllllllllllllllllllllllllllllllllllllllllllllllllllllllllllllllllllllllllllllllllllllllll}\n",
       "  & ENCSR000EID & ENCSR000EIE & ENCSR000EIF & ENCSR000EIG & ENCSR000EII & ENCSR000EIJ & ENCSR000EIK & ENCSR000EIL & ENCSR000EIN & ENCSR000EIO & ⋯ & ENCSR976XOY & ENCSR978QUT & ENCSR979ZJS & ENCSR986HEN & ENCSR986XLW & ENCSR986YWZ & ENCSR988YKR & ENCSR989YIV & ENCSR990XXC & ENCSR999TSD\\\\\n",
       "\\hline\n",
       "\tchr1\t10381\t10602 & 27 & 8  & 15 & 8  & 49 & 26 & 37 & 21 & 7  & 10 & ⋯  & 1  & 0  & 3  & 2  & 12 & 1  & 0  & 15 & 3  & 1 \\\\\n",
       "\tchr1\t10711\t11189 & 12 & 9  &  5 & 9  & 44 & 14 & 18 & 39 & 2  & 18 & ⋯  & 1  & 0  & 1  & 1  &  2 & 0  & 0  &  9 & 1  & 0 \\\\\n",
       "\\end{tabular}\n"
      ],
      "text/markdown": [
       "\n",
       "| <!--/--> | ENCSR000EID | ENCSR000EIE | ENCSR000EIF | ENCSR000EIG | ENCSR000EII | ENCSR000EIJ | ENCSR000EIK | ENCSR000EIL | ENCSR000EIN | ENCSR000EIO | ⋯ | ENCSR976XOY | ENCSR978QUT | ENCSR979ZJS | ENCSR986HEN | ENCSR986XLW | ENCSR986YWZ | ENCSR988YKR | ENCSR989YIV | ENCSR990XXC | ENCSR999TSD | \n",
       "|---|---|\n",
       "| chr1\t10381\t10602 | 27 | 8  | 15 | 8  | 49 | 26 | 37 | 21 | 7  | 10 | ⋯  | 1  | 0  | 3  | 2  | 12 | 1  | 0  | 15 | 3  | 1  | \n",
       "| chr1\t10711\t11189 | 12 | 9  |  5 | 9  | 44 | 14 | 18 | 39 | 2  | 18 | ⋯  | 1  | 0  | 1  | 1  |  2 | 0  | 0  |  9 | 1  | 0  | \n",
       "\n",
       "\n"
      ],
      "text/plain": [
       "                   ENCSR000EID ENCSR000EIE ENCSR000EIF ENCSR000EIG ENCSR000EII\n",
       "chr1\\t10381\\t10602 27          8           15          8           49         \n",
       "chr1\\t10711\\t11189 12          9            5          9           44         \n",
       "                   ENCSR000EIJ ENCSR000EIK ENCSR000EIL ENCSR000EIN ENCSR000EIO\n",
       "chr1\\t10381\\t10602 26          37          21          7           10         \n",
       "chr1\\t10711\\t11189 14          18          39          2           18         \n",
       "                   ⋯ ENCSR976XOY ENCSR978QUT ENCSR979ZJS ENCSR986HEN\n",
       "chr1\\t10381\\t10602 ⋯ 1           0           3           2          \n",
       "chr1\\t10711\\t11189 ⋯ 1           0           1           1          \n",
       "                   ENCSR986XLW ENCSR986YWZ ENCSR988YKR ENCSR989YIV ENCSR990XXC\n",
       "chr1\\t10381\\t10602 12          1           0           15          3          \n",
       "chr1\\t10711\\t11189  2          0           0            9          1          \n",
       "                   ENCSR999TSD\n",
       "chr1\\t10381\\t10602 1          \n",
       "chr1\\t10711\\t11189 0          "
      ]
     },
     "metadata": {},
     "output_type": "display_data"
    },
    {
     "data": {
      "text/html": [
       "<ol class=list-inline>\n",
       "\t<li>1276302</li>\n",
       "\t<li>722</li>\n",
       "</ol>\n"
      ],
      "text/latex": [
       "\\begin{enumerate*}\n",
       "\\item 1276302\n",
       "\\item 722\n",
       "\\end{enumerate*}\n"
      ],
      "text/markdown": [
       "1. 1276302\n",
       "2. 722\n",
       "\n",
       "\n"
      ],
      "text/plain": [
       "[1] 1276302     722"
      ]
     },
     "metadata": {},
     "output_type": "display_data"
    }
   ],
   "source": [
    "encode_cts <- read.csv(\"/oak/stanford/groups/akundaje/projects/atlas/counts_matrices/atlas.dnase.idr.counts.txt\",sep=\"\\t\")\n",
    "rownames(encode_cts)=paste(encode_cts$chr,encode_cts$start,encode_cts$end,sep='\\t')\n",
    "encode_cts$chrom = NULL\n",
    "encode_cts$start = NULL\n",
    "encode_cts$end = NULL\n",
    "head(encode_cts, 2)\n",
    "dim(encode_cts)"
   ]
  },
  {
   "cell_type": "code",
   "execution_count": 46,
   "metadata": {},
   "outputs": [],
   "source": [
    "# take the most variable peaks \n",
    "NUM_PEAKS = 1000000\n",
    "peaks_to_keep = sort(order(rowSums(encode_cts))[1:NUM_PEAKS])"
   ]
  },
  {
   "cell_type": "code",
   "execution_count": 47,
   "metadata": {},
   "outputs": [],
   "source": [
    "cts = cts[peaks_to_keep,]\n",
    "encode_cts = encode_cts[peaks_to_keep, ]"
   ]
  },
  {
   "cell_type": "code",
   "execution_count": 4,
   "metadata": {},
   "outputs": [
    {
     "data": {
      "text/html": [
       "<table>\n",
       "<thead><tr><th></th><th scope=col>ENCSR000EID</th><th scope=col>ENCSR000EIE</th><th scope=col>ENCSR000EIF</th><th scope=col>ENCSR000EIG</th><th scope=col>ENCSR000EII</th><th scope=col>ENCSR000EIJ</th><th scope=col>ENCSR000EIK</th><th scope=col>ENCSR000EIL</th><th scope=col>ENCSR000EIN</th><th scope=col>ENCSR000EIO</th><th scope=col>⋯</th><th scope=col>ENCSR976XOY</th><th scope=col>ENCSR978QUT</th><th scope=col>ENCSR979ZJS</th><th scope=col>ENCSR986HEN</th><th scope=col>ENCSR986XLW</th><th scope=col>ENCSR986YWZ</th><th scope=col>ENCSR988YKR</th><th scope=col>ENCSR989YIV</th><th scope=col>ENCSR990XXC</th><th scope=col>ENCSR999TSD</th></tr></thead>\n",
       "<tbody>\n",
       "\t<tr><th scope=row>cluster1</th><td>0.5996057</td><td>0.2545966</td><td>0.4325103</td><td>0.4898634</td><td>0.7728055</td><td>0.3809436</td><td>0.3787599</td><td>0.6982729</td><td>0.1875420</td><td>0.3620925</td><td>⋯        </td><td>0.5583430</td><td>0.3271485</td><td>0.3230294</td><td>0.2311813</td><td>0.2080192</td><td>0.1992960</td><td>0.2286143</td><td>0.2026934</td><td>0.2500159</td><td>0.3889909</td></tr>\n",
       "\t<tr><th scope=row>cluster2</th><td>0.7318146</td><td>0.3771791</td><td>0.5534240</td><td>0.6133420</td><td>0.8784721</td><td>0.4985688</td><td>0.5035860</td><td>0.8114399</td><td>0.3055177</td><td>0.4911659</td><td>⋯        </td><td>0.6829798</td><td>0.4545877</td><td>0.4481156</td><td>0.3508938</td><td>0.3220454</td><td>0.3194753</td><td>0.3523732</td><td>0.3224397</td><td>0.3703032</td><td>0.5168663</td></tr>\n",
       "\t<tr><th scope=row>cluster3</th><td>0.9139379</td><td>0.8946056</td><td>0.9486794</td><td>0.9550292</td><td>0.7308247</td><td>0.9269228</td><td>0.9248257</td><td>0.7031598</td><td>0.8637030</td><td>0.9265419</td><td>⋯        </td><td>0.8628448</td><td>0.8857056</td><td>0.9112763</td><td>0.8808146</td><td>0.8700676</td><td>0.8677781</td><td>0.8785642</td><td>0.8715819</td><td>0.8889805</td><td>0.9034733</td></tr>\n",
       "</tbody>\n",
       "</table>\n"
      ],
      "text/latex": [
       "\\begin{tabular}{r|llllllllllllllllllllllllllllllllllllllllllllllllllllllllllllllllllllllllllllllllllllllllllllllllllllllllllllllllllllllllllllllllllllllllllllllllllllllllllllllllllllllllllllllllllllllllllllllllllllllllllllllllllllllllllllllllllllllllllllllllllllllllllllllllllllllllllllllllllllllllllllllllllllllllllllllllllllllllllllllllllllllllllllllllllllllllllllllllllllllllllllllllllllllllllllllllllllllllllllllllllllllllllllllllllllllllllllllllllllllllllllllllllllllllllllllllllllllllllllllllllllllllllllllllllllllllllllllllllllllllllllllllllllllllllllllllllllllllllllllllllllllllllllllllllllllllllllllllllllllllllllllllllllllllllllllllllllllllllllllllllllllllllllllllllllllllllllllllllllllllllllllllllllllllllllllllllllllllllllllllll}\n",
       "  & ENCSR000EID & ENCSR000EIE & ENCSR000EIF & ENCSR000EIG & ENCSR000EII & ENCSR000EIJ & ENCSR000EIK & ENCSR000EIL & ENCSR000EIN & ENCSR000EIO & ⋯ & ENCSR976XOY & ENCSR978QUT & ENCSR979ZJS & ENCSR986HEN & ENCSR986XLW & ENCSR986YWZ & ENCSR988YKR & ENCSR989YIV & ENCSR990XXC & ENCSR999TSD\\\\\n",
       "\\hline\n",
       "\tcluster1 & 0.5996057 & 0.2545966 & 0.4325103 & 0.4898634 & 0.7728055 & 0.3809436 & 0.3787599 & 0.6982729 & 0.1875420 & 0.3620925 & ⋯         & 0.5583430 & 0.3271485 & 0.3230294 & 0.2311813 & 0.2080192 & 0.1992960 & 0.2286143 & 0.2026934 & 0.2500159 & 0.3889909\\\\\n",
       "\tcluster2 & 0.7318146 & 0.3771791 & 0.5534240 & 0.6133420 & 0.8784721 & 0.4985688 & 0.5035860 & 0.8114399 & 0.3055177 & 0.4911659 & ⋯         & 0.6829798 & 0.4545877 & 0.4481156 & 0.3508938 & 0.3220454 & 0.3194753 & 0.3523732 & 0.3224397 & 0.3703032 & 0.5168663\\\\\n",
       "\tcluster3 & 0.9139379 & 0.8946056 & 0.9486794 & 0.9550292 & 0.7308247 & 0.9269228 & 0.9248257 & 0.7031598 & 0.8637030 & 0.9265419 & ⋯         & 0.8628448 & 0.8857056 & 0.9112763 & 0.8808146 & 0.8700676 & 0.8677781 & 0.8785642 & 0.8715819 & 0.8889805 & 0.9034733\\\\\n",
       "\\end{tabular}\n"
      ],
      "text/markdown": [
       "\n",
       "| <!--/--> | ENCSR000EID | ENCSR000EIE | ENCSR000EIF | ENCSR000EIG | ENCSR000EII | ENCSR000EIJ | ENCSR000EIK | ENCSR000EIL | ENCSR000EIN | ENCSR000EIO | ⋯ | ENCSR976XOY | ENCSR978QUT | ENCSR979ZJS | ENCSR986HEN | ENCSR986XLW | ENCSR986YWZ | ENCSR988YKR | ENCSR989YIV | ENCSR990XXC | ENCSR999TSD | \n",
       "|---|---|---|\n",
       "| cluster1 | 0.5996057 | 0.2545966 | 0.4325103 | 0.4898634 | 0.7728055 | 0.3809436 | 0.3787599 | 0.6982729 | 0.1875420 | 0.3620925 | ⋯         | 0.5583430 | 0.3271485 | 0.3230294 | 0.2311813 | 0.2080192 | 0.1992960 | 0.2286143 | 0.2026934 | 0.2500159 | 0.3889909 | \n",
       "| cluster2 | 0.7318146 | 0.3771791 | 0.5534240 | 0.6133420 | 0.8784721 | 0.4985688 | 0.5035860 | 0.8114399 | 0.3055177 | 0.4911659 | ⋯         | 0.6829798 | 0.4545877 | 0.4481156 | 0.3508938 | 0.3220454 | 0.3194753 | 0.3523732 | 0.3224397 | 0.3703032 | 0.5168663 | \n",
       "| cluster3 | 0.9139379 | 0.8946056 | 0.9486794 | 0.9550292 | 0.7308247 | 0.9269228 | 0.9248257 | 0.7031598 | 0.8637030 | 0.9265419 | ⋯         | 0.8628448 | 0.8857056 | 0.9112763 | 0.8808146 | 0.8700676 | 0.8677781 | 0.8785642 | 0.8715819 | 0.8889805 | 0.9034733 | \n",
       "\n",
       "\n"
      ],
      "text/plain": [
       "         ENCSR000EID ENCSR000EIE ENCSR000EIF ENCSR000EIG ENCSR000EII\n",
       "cluster1 0.5996057   0.2545966   0.4325103   0.4898634   0.7728055  \n",
       "cluster2 0.7318146   0.3771791   0.5534240   0.6133420   0.8784721  \n",
       "cluster3 0.9139379   0.8946056   0.9486794   0.9550292   0.7308247  \n",
       "         ENCSR000EIJ ENCSR000EIK ENCSR000EIL ENCSR000EIN ENCSR000EIO ⋯\n",
       "cluster1 0.3809436   0.3787599   0.6982729   0.1875420   0.3620925   ⋯\n",
       "cluster2 0.4985688   0.5035860   0.8114399   0.3055177   0.4911659   ⋯\n",
       "cluster3 0.9269228   0.9248257   0.7031598   0.8637030   0.9265419   ⋯\n",
       "         ENCSR976XOY ENCSR978QUT ENCSR979ZJS ENCSR986HEN ENCSR986XLW\n",
       "cluster1 0.5583430   0.3271485   0.3230294   0.2311813   0.2080192  \n",
       "cluster2 0.6829798   0.4545877   0.4481156   0.3508938   0.3220454  \n",
       "cluster3 0.8628448   0.8857056   0.9112763   0.8808146   0.8700676  \n",
       "         ENCSR986YWZ ENCSR988YKR ENCSR989YIV ENCSR990XXC ENCSR999TSD\n",
       "cluster1 0.1992960   0.2286143   0.2026934   0.2500159   0.3889909  \n",
       "cluster2 0.3194753   0.3523732   0.3224397   0.3703032   0.5168663  \n",
       "cluster3 0.8677781   0.8785642   0.8715819   0.8889805   0.9034733  "
      ]
     },
     "metadata": {},
     "output_type": "display_data"
    }
   ],
   "source": [
    "# cor(cts[1:100, 1:3], encode_cts[1:100, ])"
   ]
  },
  {
   "cell_type": "code",
   "execution_count": 61,
   "metadata": {},
   "outputs": [],
   "source": [
    "# c1_cors = cor(log2(1+cts), log2(1+encode_cts), method=\"spearman\")"
   ]
  },
  {
   "cell_type": "code",
   "execution_count": 85,
   "metadata": {},
   "outputs": [
    {
     "data": {
      "text/html": [
       "0.714085533958861"
      ],
      "text/latex": [
       "0.714085533958861"
      ],
      "text/markdown": [
       "0.714085533958861"
      ],
      "text/plain": [
       "[1] 0.7140855"
      ]
     },
     "metadata": {},
     "output_type": "display_data"
    },
    {
     "data": {
      "text/html": [
       "0.363947384388247"
      ],
      "text/latex": [
       "0.363947384388247"
      ],
      "text/markdown": [
       "0.363947384388247"
      ],
      "text/plain": [
       "[1] 0.3639474"
      ]
     },
     "metadata": {},
     "output_type": "display_data"
    }
   ],
   "source": [
    "CLUS = \"cluster10\"\n",
    "max(c1_cors[CLUS,])\n",
    "min(c1_cors[CLUS,])"
   ]
  },
  {
   "cell_type": "code",
   "execution_count": null,
   "metadata": {},
   "outputs": [],
   "source": [
    "c1_cors[CLUS,][rev(order(c1_cors[CLUS,]))]"
   ]
  },
  {
   "cell_type": "code",
   "execution_count": 64,
   "metadata": {},
   "outputs": [],
   "source": [
    "cur_cors = cor(cts[,\"cluster7\"], encode_cts, method=\"spearman\")"
   ]
  },
  {
   "cell_type": "code",
   "execution_count": 78,
   "metadata": {},
   "outputs": [
    {
     "data": {
      "text/html": [
       "<table>\n",
       "<tbody>\n",
       "\t<tr><th scope=row>cluster1</th><td>0.3123072</td></tr>\n",
       "\t<tr><th scope=row>cluster2</th><td>0.3185955</td></tr>\n",
       "\t<tr><th scope=row>cluster3</th><td>0.2569510</td></tr>\n",
       "\t<tr><th scope=row>cluster4</th><td>0.2325388</td></tr>\n",
       "\t<tr><th scope=row>cluster5</th><td>0.2543244</td></tr>\n",
       "\t<tr><th scope=row>cluster6</th><td>0.2870984</td></tr>\n",
       "\t<tr><th scope=row>cluster7</th><td>0.2713618</td></tr>\n",
       "\t<tr><th scope=row>cluster8</th><td>0.2697420</td></tr>\n",
       "\t<tr><th scope=row>cluster9</th><td>0.3185216</td></tr>\n",
       "\t<tr><th scope=row>cluster10</th><td>0.3176055</td></tr>\n",
       "\t<tr><th scope=row>cluster11</th><td>0.2972920</td></tr>\n",
       "\t<tr><th scope=row>cluster12</th><td>0.2272912</td></tr>\n",
       "\t<tr><th scope=row>cluster13</th><td>0.2937225</td></tr>\n",
       "\t<tr><th scope=row>cluster14</th><td>0.2866921</td></tr>\n",
       "\t<tr><th scope=row>cluster15</th><td>0.3007047</td></tr>\n",
       "\t<tr><th scope=row>cluster16</th><td>0.2652341</td></tr>\n",
       "\t<tr><th scope=row>cluster17</th><td>0.3239333</td></tr>\n",
       "\t<tr><th scope=row>cluster18</th><td>0.3136265</td></tr>\n",
       "</tbody>\n",
       "</table>\n"
      ],
      "text/latex": [
       "\\begin{tabular}{r|l}\n",
       "\tcluster1 & 0.3123072\\\\\n",
       "\tcluster2 & 0.3185955\\\\\n",
       "\tcluster3 & 0.2569510\\\\\n",
       "\tcluster4 & 0.2325388\\\\\n",
       "\tcluster5 & 0.2543244\\\\\n",
       "\tcluster6 & 0.2870984\\\\\n",
       "\tcluster7 & 0.2713618\\\\\n",
       "\tcluster8 & 0.2697420\\\\\n",
       "\tcluster9 & 0.3185216\\\\\n",
       "\tcluster10 & 0.3176055\\\\\n",
       "\tcluster11 & 0.2972920\\\\\n",
       "\tcluster12 & 0.2272912\\\\\n",
       "\tcluster13 & 0.2937225\\\\\n",
       "\tcluster14 & 0.2866921\\\\\n",
       "\tcluster15 & 0.3007047\\\\\n",
       "\tcluster16 & 0.2652341\\\\\n",
       "\tcluster17 & 0.3239333\\\\\n",
       "\tcluster18 & 0.3136265\\\\\n",
       "\\end{tabular}\n"
      ],
      "text/markdown": [
       "\n",
       "| cluster1 | 0.3123072 | \n",
       "| cluster2 | 0.3185955 | \n",
       "| cluster3 | 0.2569510 | \n",
       "| cluster4 | 0.2325388 | \n",
       "| cluster5 | 0.2543244 | \n",
       "| cluster6 | 0.2870984 | \n",
       "| cluster7 | 0.2713618 | \n",
       "| cluster8 | 0.2697420 | \n",
       "| cluster9 | 0.3185216 | \n",
       "| cluster10 | 0.3176055 | \n",
       "| cluster11 | 0.2972920 | \n",
       "| cluster12 | 0.2272912 | \n",
       "| cluster13 | 0.2937225 | \n",
       "| cluster14 | 0.2866921 | \n",
       "| cluster15 | 0.3007047 | \n",
       "| cluster16 | 0.2652341 | \n",
       "| cluster17 | 0.3239333 | \n",
       "| cluster18 | 0.3136265 | \n",
       "\n",
       "\n"
      ],
      "text/plain": [
       "          [,1]     \n",
       "cluster1  0.3123072\n",
       "cluster2  0.3185955\n",
       "cluster3  0.2569510\n",
       "cluster4  0.2325388\n",
       "cluster5  0.2543244\n",
       "cluster6  0.2870984\n",
       "cluster7  0.2713618\n",
       "cluster8  0.2697420\n",
       "cluster9  0.3185216\n",
       "cluster10 0.3176055\n",
       "cluster11 0.2972920\n",
       "cluster12 0.2272912\n",
       "cluster13 0.2937225\n",
       "cluster14 0.2866921\n",
       "cluster15 0.3007047\n",
       "cluster16 0.2652341\n",
       "cluster17 0.3239333\n",
       "cluster18 0.3136265"
      ]
     },
     "metadata": {},
     "output_type": "display_data"
    }
   ],
   "source": [
    "cor(cts, encode_cts[,\"ENCSR000EPQ\"], method=\"spearman\")"
   ]
  },
  {
   "cell_type": "code",
   "execution_count": null,
   "metadata": {},
   "outputs": [],
   "source": []
  }
 ],
 "metadata": {
  "kernelspec": {
   "display_name": "R",
   "language": "R",
   "name": "ir"
  },
  "language_info": {
   "codemirror_mode": "r",
   "file_extension": ".r",
   "mimetype": "text/x-r-source",
   "name": "R",
   "pygments_lexer": "r",
   "version": "3.5.1"
  }
 },
 "nbformat": 4,
 "nbformat_minor": 2
}
