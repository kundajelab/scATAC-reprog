{
 "cells": [
  {
   "cell_type": "markdown",
   "metadata": {},
   "source": [
    "# TF Curation\n",
    "\n",
    "Ranked list of TFs for prioritisation."
   ]
  },
  {
   "cell_type": "code",
   "execution_count": 2,
   "metadata": {},
   "outputs": [],
   "source": [
    "library(Seurat)"
   ]
  },
  {
   "cell_type": "code",
   "execution_count": 3,
   "metadata": {},
   "outputs": [],
   "source": [
    "rna = readRDS(\"../../analysis/20200828_RNA_Seurat/sessions/20200913_n59369/seurat.rds\")"
   ]
  },
  {
   "cell_type": "code",
   "execution_count": 4,
   "metadata": {},
   "outputs": [],
   "source": [
    "rna_rs = Matrix::rowSums(rna@assays$RNA@counts)"
   ]
  },
  {
   "cell_type": "code",
   "execution_count": 5,
   "metadata": {},
   "outputs": [],
   "source": [
    "tf_list = read.table(\"/users/surag/kundajelab/scATAC-reprog/resources/FANTOM5/tf.txt\")\n",
    "tf_list = as.character(unlist(tf_list$V1))"
   ]
  },
  {
   "cell_type": "code",
   "execution_count": 6,
   "metadata": {},
   "outputs": [],
   "source": [
    "tfs = intersect(tf_list,rownames(rna))"
   ]
  },
  {
   "cell_type": "code",
   "execution_count": 7,
   "metadata": {},
   "outputs": [
    {
     "data": {
      "text/html": [
       "<style>\n",
       ".list-inline {list-style: none; margin:0; padding: 0}\n",
       ".list-inline>li {display: inline-block}\n",
       ".list-inline>li:not(:last-child)::after {content: \"\\00b7\"; padding: 0 .5ex}\n",
       "</style>\n",
       "<ol class=list-inline><li>'DDIT3'</li><li>'EGR1'</li><li>'FOXD1'</li><li>'HAND1'</li><li>'HNF1A'</li><li>'INSM1'</li><li>'KLF4'</li><li>'LHX3'</li><li>'MAFB'</li><li>'MYC'</li><li>'MYCN'</li><li>'NFATC2'</li><li>'NR2F1'</li><li>'NR4A2'</li><li>'PAX2'</li><li>'POU5F1'</li><li>'REST'</li><li>'SOX2'</li><li>'SPIB'</li><li>'STAT1'</li><li>'AIRE'</li><li>'ARGFX'</li><li>'ARID5B'</li><li>'ASCL2'</li><li>'ATF3'</li><li>'BARX1'</li><li>'BMP2'</li><li>'CARHSP1'</li><li>'CDX1'</li><li>'CEBPB'</li><li>'CEBPD'</li><li>'DNMT3B'</li><li>'DNMT3L'</li><li>'EGR4'</li><li>'ELF3'</li><li>'EPAS1'</li><li>'ETV4'</li><li>'FEZF2'</li><li>'FOS'</li><li>'FOSB'</li><li>'FOSL1'</li><li>'FOXE1'</li><li>'FOXH1'</li><li>'FOXS1'</li><li>'GATA2'</li><li>'GSC'</li><li>'HES1'</li><li>'HES4'</li><li>'HES5'</li><li>'HES6'</li><li>'HEY2'</li><li>'HOPX'</li><li>'HOXA5'</li><li>'HOXD1'</li><li>'HOXD11'</li><li>'ID1'</li><li>'ID2'</li><li>'ID3'</li><li>'IKZF3'</li><li>'IRF7'</li><li>'IRX1'</li><li>'IRX2'</li><li>'IRX3'</li><li>'JARID2'</li><li>'JUN'</li><li>'JUNB'</li><li>'KAT7'</li><li>'KLF17'</li><li>'KLF2'</li><li>'KLF3'</li><li>'LHX2'</li><li>'LHX9'</li><li>'LYAR'</li><li>'MAFA'</li><li>'MBNL3'</li><li>'MEF2C'</li><li>'MEOX1'</li><li>'MLXIPL'</li><li>'MSX1'</li><li>'MYBL2'</li><li>'MYF5'</li><li>'NANOG'</li><li>'NEUROG2'</li><li>'NKX2-8'</li><li>'NKX6-2'</li><li>'NR0B1'</li><li>'NR1H4'</li><li>'NR1I3'</li><li>'NR4A1'</li><li>'OLIG1'</li><li>'OLIG2'</li><li>'ONECUT3'</li><li>'OVOL1'</li><li>'PARP1'</li><li>'PEG3'</li><li>'PHOX2A'</li><li>'PITX1'</li><li>'PLAGL1'</li><li>'POU2F2'</li><li>'PRRX1'</li><li>'PRRX2'</li><li>'PTF1A'</li><li>'RAX2'</li><li>'RHOXF1'</li><li>'SCRT1'</li><li>'SIX3'</li><li>'SOX15'</li><li>'SOX18'</li><li>'SOX8'</li><li>'SP5'</li><li>'TBX2'</li><li>'TCF21'</li><li>'TCF23'</li><li>'TEAD4'</li><li>'TERF1'</li><li>'TET1'</li><li>'TFAP2C'</li><li>'TFB1M'</li><li>'TP73'</li><li>'TSC22D1'</li><li>'UNCX'</li><li>'UTF1'</li><li>'VENTX'</li><li>'ZBTB32'</li><li>'ZFHX4'</li><li>'ZFP36L1'</li><li>'ZFP36L2'</li><li>'ZFP42'</li><li>'ZIC2'</li><li>'ZNF208'</li><li>'ZNF296'</li><li>'ZNF396'</li><li>'ZNF423'</li><li>'ZNF483'</li><li>'ZNF486'</li><li>'ZNF503'</li><li>'ZNF578'</li><li>'ZNF600'</li><li>'ZNF676'</li><li>'ZNF729'</li><li>'ZNF90'</li><li>'ZSCAN10'</li></ol>\n"
      ],
      "text/latex": [
       "\\begin{enumerate*}\n",
       "\\item 'DDIT3'\n",
       "\\item 'EGR1'\n",
       "\\item 'FOXD1'\n",
       "\\item 'HAND1'\n",
       "\\item 'HNF1A'\n",
       "\\item 'INSM1'\n",
       "\\item 'KLF4'\n",
       "\\item 'LHX3'\n",
       "\\item 'MAFB'\n",
       "\\item 'MYC'\n",
       "\\item 'MYCN'\n",
       "\\item 'NFATC2'\n",
       "\\item 'NR2F1'\n",
       "\\item 'NR4A2'\n",
       "\\item 'PAX2'\n",
       "\\item 'POU5F1'\n",
       "\\item 'REST'\n",
       "\\item 'SOX2'\n",
       "\\item 'SPIB'\n",
       "\\item 'STAT1'\n",
       "\\item 'AIRE'\n",
       "\\item 'ARGFX'\n",
       "\\item 'ARID5B'\n",
       "\\item 'ASCL2'\n",
       "\\item 'ATF3'\n",
       "\\item 'BARX1'\n",
       "\\item 'BMP2'\n",
       "\\item 'CARHSP1'\n",
       "\\item 'CDX1'\n",
       "\\item 'CEBPB'\n",
       "\\item 'CEBPD'\n",
       "\\item 'DNMT3B'\n",
       "\\item 'DNMT3L'\n",
       "\\item 'EGR4'\n",
       "\\item 'ELF3'\n",
       "\\item 'EPAS1'\n",
       "\\item 'ETV4'\n",
       "\\item 'FEZF2'\n",
       "\\item 'FOS'\n",
       "\\item 'FOSB'\n",
       "\\item 'FOSL1'\n",
       "\\item 'FOXE1'\n",
       "\\item 'FOXH1'\n",
       "\\item 'FOXS1'\n",
       "\\item 'GATA2'\n",
       "\\item 'GSC'\n",
       "\\item 'HES1'\n",
       "\\item 'HES4'\n",
       "\\item 'HES5'\n",
       "\\item 'HES6'\n",
       "\\item 'HEY2'\n",
       "\\item 'HOPX'\n",
       "\\item 'HOXA5'\n",
       "\\item 'HOXD1'\n",
       "\\item 'HOXD11'\n",
       "\\item 'ID1'\n",
       "\\item 'ID2'\n",
       "\\item 'ID3'\n",
       "\\item 'IKZF3'\n",
       "\\item 'IRF7'\n",
       "\\item 'IRX1'\n",
       "\\item 'IRX2'\n",
       "\\item 'IRX3'\n",
       "\\item 'JARID2'\n",
       "\\item 'JUN'\n",
       "\\item 'JUNB'\n",
       "\\item 'KAT7'\n",
       "\\item 'KLF17'\n",
       "\\item 'KLF2'\n",
       "\\item 'KLF3'\n",
       "\\item 'LHX2'\n",
       "\\item 'LHX9'\n",
       "\\item 'LYAR'\n",
       "\\item 'MAFA'\n",
       "\\item 'MBNL3'\n",
       "\\item 'MEF2C'\n",
       "\\item 'MEOX1'\n",
       "\\item 'MLXIPL'\n",
       "\\item 'MSX1'\n",
       "\\item 'MYBL2'\n",
       "\\item 'MYF5'\n",
       "\\item 'NANOG'\n",
       "\\item 'NEUROG2'\n",
       "\\item 'NKX2-8'\n",
       "\\item 'NKX6-2'\n",
       "\\item 'NR0B1'\n",
       "\\item 'NR1H4'\n",
       "\\item 'NR1I3'\n",
       "\\item 'NR4A1'\n",
       "\\item 'OLIG1'\n",
       "\\item 'OLIG2'\n",
       "\\item 'ONECUT3'\n",
       "\\item 'OVOL1'\n",
       "\\item 'PARP1'\n",
       "\\item 'PEG3'\n",
       "\\item 'PHOX2A'\n",
       "\\item 'PITX1'\n",
       "\\item 'PLAGL1'\n",
       "\\item 'POU2F2'\n",
       "\\item 'PRRX1'\n",
       "\\item 'PRRX2'\n",
       "\\item 'PTF1A'\n",
       "\\item 'RAX2'\n",
       "\\item 'RHOXF1'\n",
       "\\item 'SCRT1'\n",
       "\\item 'SIX3'\n",
       "\\item 'SOX15'\n",
       "\\item 'SOX18'\n",
       "\\item 'SOX8'\n",
       "\\item 'SP5'\n",
       "\\item 'TBX2'\n",
       "\\item 'TCF21'\n",
       "\\item 'TCF23'\n",
       "\\item 'TEAD4'\n",
       "\\item 'TERF1'\n",
       "\\item 'TET1'\n",
       "\\item 'TFAP2C'\n",
       "\\item 'TFB1M'\n",
       "\\item 'TP73'\n",
       "\\item 'TSC22D1'\n",
       "\\item 'UNCX'\n",
       "\\item 'UTF1'\n",
       "\\item 'VENTX'\n",
       "\\item 'ZBTB32'\n",
       "\\item 'ZFHX4'\n",
       "\\item 'ZFP36L1'\n",
       "\\item 'ZFP36L2'\n",
       "\\item 'ZFP42'\n",
       "\\item 'ZIC2'\n",
       "\\item 'ZNF208'\n",
       "\\item 'ZNF296'\n",
       "\\item 'ZNF396'\n",
       "\\item 'ZNF423'\n",
       "\\item 'ZNF483'\n",
       "\\item 'ZNF486'\n",
       "\\item 'ZNF503'\n",
       "\\item 'ZNF578'\n",
       "\\item 'ZNF600'\n",
       "\\item 'ZNF676'\n",
       "\\item 'ZNF729'\n",
       "\\item 'ZNF90'\n",
       "\\item 'ZSCAN10'\n",
       "\\end{enumerate*}\n"
      ],
      "text/markdown": [
       "1. 'DDIT3'\n",
       "2. 'EGR1'\n",
       "3. 'FOXD1'\n",
       "4. 'HAND1'\n",
       "5. 'HNF1A'\n",
       "6. 'INSM1'\n",
       "7. 'KLF4'\n",
       "8. 'LHX3'\n",
       "9. 'MAFB'\n",
       "10. 'MYC'\n",
       "11. 'MYCN'\n",
       "12. 'NFATC2'\n",
       "13. 'NR2F1'\n",
       "14. 'NR4A2'\n",
       "15. 'PAX2'\n",
       "16. 'POU5F1'\n",
       "17. 'REST'\n",
       "18. 'SOX2'\n",
       "19. 'SPIB'\n",
       "20. 'STAT1'\n",
       "21. 'AIRE'\n",
       "22. 'ARGFX'\n",
       "23. 'ARID5B'\n",
       "24. 'ASCL2'\n",
       "25. 'ATF3'\n",
       "26. 'BARX1'\n",
       "27. 'BMP2'\n",
       "28. 'CARHSP1'\n",
       "29. 'CDX1'\n",
       "30. 'CEBPB'\n",
       "31. 'CEBPD'\n",
       "32. 'DNMT3B'\n",
       "33. 'DNMT3L'\n",
       "34. 'EGR4'\n",
       "35. 'ELF3'\n",
       "36. 'EPAS1'\n",
       "37. 'ETV4'\n",
       "38. 'FEZF2'\n",
       "39. 'FOS'\n",
       "40. 'FOSB'\n",
       "41. 'FOSL1'\n",
       "42. 'FOXE1'\n",
       "43. 'FOXH1'\n",
       "44. 'FOXS1'\n",
       "45. 'GATA2'\n",
       "46. 'GSC'\n",
       "47. 'HES1'\n",
       "48. 'HES4'\n",
       "49. 'HES5'\n",
       "50. 'HES6'\n",
       "51. 'HEY2'\n",
       "52. 'HOPX'\n",
       "53. 'HOXA5'\n",
       "54. 'HOXD1'\n",
       "55. 'HOXD11'\n",
       "56. 'ID1'\n",
       "57. 'ID2'\n",
       "58. 'ID3'\n",
       "59. 'IKZF3'\n",
       "60. 'IRF7'\n",
       "61. 'IRX1'\n",
       "62. 'IRX2'\n",
       "63. 'IRX3'\n",
       "64. 'JARID2'\n",
       "65. 'JUN'\n",
       "66. 'JUNB'\n",
       "67. 'KAT7'\n",
       "68. 'KLF17'\n",
       "69. 'KLF2'\n",
       "70. 'KLF3'\n",
       "71. 'LHX2'\n",
       "72. 'LHX9'\n",
       "73. 'LYAR'\n",
       "74. 'MAFA'\n",
       "75. 'MBNL3'\n",
       "76. 'MEF2C'\n",
       "77. 'MEOX1'\n",
       "78. 'MLXIPL'\n",
       "79. 'MSX1'\n",
       "80. 'MYBL2'\n",
       "81. 'MYF5'\n",
       "82. 'NANOG'\n",
       "83. 'NEUROG2'\n",
       "84. 'NKX2-8'\n",
       "85. 'NKX6-2'\n",
       "86. 'NR0B1'\n",
       "87. 'NR1H4'\n",
       "88. 'NR1I3'\n",
       "89. 'NR4A1'\n",
       "90. 'OLIG1'\n",
       "91. 'OLIG2'\n",
       "92. 'ONECUT3'\n",
       "93. 'OVOL1'\n",
       "94. 'PARP1'\n",
       "95. 'PEG3'\n",
       "96. 'PHOX2A'\n",
       "97. 'PITX1'\n",
       "98. 'PLAGL1'\n",
       "99. 'POU2F2'\n",
       "100. 'PRRX1'\n",
       "101. 'PRRX2'\n",
       "102. 'PTF1A'\n",
       "103. 'RAX2'\n",
       "104. 'RHOXF1'\n",
       "105. 'SCRT1'\n",
       "106. 'SIX3'\n",
       "107. 'SOX15'\n",
       "108. 'SOX18'\n",
       "109. 'SOX8'\n",
       "110. 'SP5'\n",
       "111. 'TBX2'\n",
       "112. 'TCF21'\n",
       "113. 'TCF23'\n",
       "114. 'TEAD4'\n",
       "115. 'TERF1'\n",
       "116. 'TET1'\n",
       "117. 'TFAP2C'\n",
       "118. 'TFB1M'\n",
       "119. 'TP73'\n",
       "120. 'TSC22D1'\n",
       "121. 'UNCX'\n",
       "122. 'UTF1'\n",
       "123. 'VENTX'\n",
       "124. 'ZBTB32'\n",
       "125. 'ZFHX4'\n",
       "126. 'ZFP36L1'\n",
       "127. 'ZFP36L2'\n",
       "128. 'ZFP42'\n",
       "129. 'ZIC2'\n",
       "130. 'ZNF208'\n",
       "131. 'ZNF296'\n",
       "132. 'ZNF396'\n",
       "133. 'ZNF423'\n",
       "134. 'ZNF483'\n",
       "135. 'ZNF486'\n",
       "136. 'ZNF503'\n",
       "137. 'ZNF578'\n",
       "138. 'ZNF600'\n",
       "139. 'ZNF676'\n",
       "140. 'ZNF729'\n",
       "141. 'ZNF90'\n",
       "142. 'ZSCAN10'\n",
       "\n",
       "\n"
      ],
      "text/plain": [
       "  [1] \"DDIT3\"   \"EGR1\"    \"FOXD1\"   \"HAND1\"   \"HNF1A\"   \"INSM1\"   \"KLF4\"   \n",
       "  [8] \"LHX3\"    \"MAFB\"    \"MYC\"     \"MYCN\"    \"NFATC2\"  \"NR2F1\"   \"NR4A2\"  \n",
       " [15] \"PAX2\"    \"POU5F1\"  \"REST\"    \"SOX2\"    \"SPIB\"    \"STAT1\"   \"AIRE\"   \n",
       " [22] \"ARGFX\"   \"ARID5B\"  \"ASCL2\"   \"ATF3\"    \"BARX1\"   \"BMP2\"    \"CARHSP1\"\n",
       " [29] \"CDX1\"    \"CEBPB\"   \"CEBPD\"   \"DNMT3B\"  \"DNMT3L\"  \"EGR4\"    \"ELF3\"   \n",
       " [36] \"EPAS1\"   \"ETV4\"    \"FEZF2\"   \"FOS\"     \"FOSB\"    \"FOSL1\"   \"FOXE1\"  \n",
       " [43] \"FOXH1\"   \"FOXS1\"   \"GATA2\"   \"GSC\"     \"HES1\"    \"HES4\"    \"HES5\"   \n",
       " [50] \"HES6\"    \"HEY2\"    \"HOPX\"    \"HOXA5\"   \"HOXD1\"   \"HOXD11\"  \"ID1\"    \n",
       " [57] \"ID2\"     \"ID3\"     \"IKZF3\"   \"IRF7\"    \"IRX1\"    \"IRX2\"    \"IRX3\"   \n",
       " [64] \"JARID2\"  \"JUN\"     \"JUNB\"    \"KAT7\"    \"KLF17\"   \"KLF2\"    \"KLF3\"   \n",
       " [71] \"LHX2\"    \"LHX9\"    \"LYAR\"    \"MAFA\"    \"MBNL3\"   \"MEF2C\"   \"MEOX1\"  \n",
       " [78] \"MLXIPL\"  \"MSX1\"    \"MYBL2\"   \"MYF5\"    \"NANOG\"   \"NEUROG2\" \"NKX2-8\" \n",
       " [85] \"NKX6-2\"  \"NR0B1\"   \"NR1H4\"   \"NR1I3\"   \"NR4A1\"   \"OLIG1\"   \"OLIG2\"  \n",
       " [92] \"ONECUT3\" \"OVOL1\"   \"PARP1\"   \"PEG3\"    \"PHOX2A\"  \"PITX1\"   \"PLAGL1\" \n",
       " [99] \"POU2F2\"  \"PRRX1\"   \"PRRX2\"   \"PTF1A\"   \"RAX2\"    \"RHOXF1\"  \"SCRT1\"  \n",
       "[106] \"SIX3\"    \"SOX15\"   \"SOX18\"   \"SOX8\"    \"SP5\"     \"TBX2\"    \"TCF21\"  \n",
       "[113] \"TCF23\"   \"TEAD4\"   \"TERF1\"   \"TET1\"    \"TFAP2C\"  \"TFB1M\"   \"TP73\"   \n",
       "[120] \"TSC22D1\" \"UNCX\"    \"UTF1\"    \"VENTX\"   \"ZBTB32\"  \"ZFHX4\"   \"ZFP36L1\"\n",
       "[127] \"ZFP36L2\" \"ZFP42\"   \"ZIC2\"    \"ZNF208\"  \"ZNF296\"  \"ZNF396\"  \"ZNF423\" \n",
       "[134] \"ZNF483\"  \"ZNF486\"  \"ZNF503\"  \"ZNF578\"  \"ZNF600\"  \"ZNF676\"  \"ZNF729\" \n",
       "[141] \"ZNF90\"   \"ZSCAN10\""
      ]
     },
     "metadata": {},
     "output_type": "display_data"
    }
   ],
   "source": [
    "tfs[tfs %in% VariableFeatures(rna)]"
   ]
  },
  {
   "cell_type": "code",
   "execution_count": 12,
   "metadata": {},
   "outputs": [],
   "source": [
    "MIN_CT = 10"
   ]
  },
  {
   "cell_type": "code",
   "execution_count": 13,
   "metadata": {},
   "outputs": [
    {
     "data": {
      "text/html": [
       "1519"
      ],
      "text/latex": [
       "1519"
      ],
      "text/markdown": [
       "1519"
      ],
      "text/plain": [
       "[1] 1519"
      ]
     },
     "metadata": {},
     "output_type": "display_data"
    }
   ],
   "source": [
    "tfs_gt_ct = tfs[rna_rs[tfs]>MIN_CT]\n",
    "length(tfs_gt_ct)"
   ]
  },
  {
   "cell_type": "code",
   "execution_count": 11,
   "metadata": {},
   "outputs": [
    {
     "data": {
      "text/html": [
       "1672"
      ],
      "text/latex": [
       "1672"
      ],
      "text/markdown": [
       "1672"
      ],
      "text/plain": [
       "[1] 1672"
      ]
     },
     "metadata": {},
     "output_type": "display_data"
    }
   ],
   "source": [
    "length(tf_list)"
   ]
  },
  {
   "cell_type": "code",
   "execution_count": 14,
   "metadata": {},
   "outputs": [
    {
     "data": {
      "text/html": [
       "<style>\n",
       ".list-inline {list-style: none; margin:0; padding: 0}\n",
       ".list-inline>li {display: inline-block}\n",
       ".list-inline>li:not(:last-child)::after {content: \"\\00b7\"; padding: 0 .5ex}\n",
       "</style>\n",
       "<ol class=list-inline><li>1519</li><li>59369</li></ol>\n"
      ],
      "text/latex": [
       "\\begin{enumerate*}\n",
       "\\item 1519\n",
       "\\item 59369\n",
       "\\end{enumerate*}\n"
      ],
      "text/markdown": [
       "1. 1519\n",
       "2. 59369\n",
       "\n",
       "\n"
      ],
      "text/plain": [
       "[1]  1519 59369"
      ]
     },
     "metadata": {},
     "output_type": "display_data"
    }
   ],
   "source": [
    "rna_tfs = rna[tfs_gt_ct, ]\n",
    "dim(rna_tfs)"
   ]
  },
  {
   "cell_type": "code",
   "execution_count": 15,
   "metadata": {},
   "outputs": [],
   "source": [
    "rna_tfs = FindVariableFeatures(rna_tfs)"
   ]
  },
  {
   "cell_type": "code",
   "execution_count": 32,
   "metadata": {},
   "outputs": [
    {
     "data": {
      "text/html": [
       "1515"
      ],
      "text/latex": [
       "1515"
      ],
      "text/markdown": [
       "1515"
      ],
      "text/plain": [
       "[1] 1515"
      ]
     },
     "metadata": {},
     "output_type": "display_data"
    }
   ],
   "source": [
    "rna_tfs_ordered = VariableFeatures(rna_tfs)\n",
    "rna_tfs_ordered = rna_tfs_ordered[!rna_tfs_ordered %in% c(\"POU5F1\", \"SOX2\", \"KLF4\", \"MYC\")]\n",
    "length(rna_tfs_ordered)"
   ]
  },
  {
   "cell_type": "code",
   "execution_count": 33,
   "metadata": {},
   "outputs": [
    {
     "data": {
      "text/html": [
       "<style>\n",
       ".list-inline {list-style: none; margin:0; padding: 0}\n",
       ".list-inline>li {display: inline-block}\n",
       ".list-inline>li:not(:last-child)::after {content: \"\\00b7\"; padding: 0 .5ex}\n",
       "</style>\n",
       "<ol class=list-inline><li>'ASCL2'</li><li>'GSC'</li><li>'ZNF423'</li><li>'KLF17'</li><li>'TP73'</li><li>'NKX6-2'</li><li>'ZNF296'</li><li>'HES4'</li><li>'DNMT3B'</li><li>'UTF1'</li><li>'NFATC2'</li><li>'MBNL3'</li><li>'IRF7'</li><li>'PHOX2A'</li><li>'MYF5'</li><li>'TERF1'</li><li>'SOX15'</li><li>'CEBPD'</li><li>'ID3'</li><li>'ZBTB32'</li><li>'LHX9'</li><li>'ARGFX'</li><li>'IKZF3'</li><li>'NANOG'</li><li>'EGR4'</li><li>'INSM1'</li><li>'AIRE'</li><li>'JARID2'</li><li>'HNF1A'</li><li>'TFB1M'</li></ol>\n"
      ],
      "text/latex": [
       "\\begin{enumerate*}\n",
       "\\item 'ASCL2'\n",
       "\\item 'GSC'\n",
       "\\item 'ZNF423'\n",
       "\\item 'KLF17'\n",
       "\\item 'TP73'\n",
       "\\item 'NKX6-2'\n",
       "\\item 'ZNF296'\n",
       "\\item 'HES4'\n",
       "\\item 'DNMT3B'\n",
       "\\item 'UTF1'\n",
       "\\item 'NFATC2'\n",
       "\\item 'MBNL3'\n",
       "\\item 'IRF7'\n",
       "\\item 'PHOX2A'\n",
       "\\item 'MYF5'\n",
       "\\item 'TERF1'\n",
       "\\item 'SOX15'\n",
       "\\item 'CEBPD'\n",
       "\\item 'ID3'\n",
       "\\item 'ZBTB32'\n",
       "\\item 'LHX9'\n",
       "\\item 'ARGFX'\n",
       "\\item 'IKZF3'\n",
       "\\item 'NANOG'\n",
       "\\item 'EGR4'\n",
       "\\item 'INSM1'\n",
       "\\item 'AIRE'\n",
       "\\item 'JARID2'\n",
       "\\item 'HNF1A'\n",
       "\\item 'TFB1M'\n",
       "\\end{enumerate*}\n"
      ],
      "text/markdown": [
       "1. 'ASCL2'\n",
       "2. 'GSC'\n",
       "3. 'ZNF423'\n",
       "4. 'KLF17'\n",
       "5. 'TP73'\n",
       "6. 'NKX6-2'\n",
       "7. 'ZNF296'\n",
       "8. 'HES4'\n",
       "9. 'DNMT3B'\n",
       "10. 'UTF1'\n",
       "11. 'NFATC2'\n",
       "12. 'MBNL3'\n",
       "13. 'IRF7'\n",
       "14. 'PHOX2A'\n",
       "15. 'MYF5'\n",
       "16. 'TERF1'\n",
       "17. 'SOX15'\n",
       "18. 'CEBPD'\n",
       "19. 'ID3'\n",
       "20. 'ZBTB32'\n",
       "21. 'LHX9'\n",
       "22. 'ARGFX'\n",
       "23. 'IKZF3'\n",
       "24. 'NANOG'\n",
       "25. 'EGR4'\n",
       "26. 'INSM1'\n",
       "27. 'AIRE'\n",
       "28. 'JARID2'\n",
       "29. 'HNF1A'\n",
       "30. 'TFB1M'\n",
       "\n",
       "\n"
      ],
      "text/plain": [
       " [1] \"ASCL2\"  \"GSC\"    \"ZNF423\" \"KLF17\"  \"TP73\"   \"NKX6-2\" \"ZNF296\" \"HES4\"  \n",
       " [9] \"DNMT3B\" \"UTF1\"   \"NFATC2\" \"MBNL3\"  \"IRF7\"   \"PHOX2A\" \"MYF5\"   \"TERF1\" \n",
       "[17] \"SOX15\"  \"CEBPD\"  \"ID3\"    \"ZBTB32\" \"LHX9\"   \"ARGFX\"  \"IKZF3\"  \"NANOG\" \n",
       "[25] \"EGR4\"   \"INSM1\"  \"AIRE\"   \"JARID2\" \"HNF1A\"  \"TFB1M\" "
      ]
     },
     "metadata": {},
     "output_type": "display_data"
    }
   ],
   "source": [
    "head(rna_tfs_ordered[rna_tfs_ordered %in% tfs_gt_ct], 30)"
   ]
  },
  {
   "cell_type": "code",
   "execution_count": 46,
   "metadata": {},
   "outputs": [
    {
     "data": {
      "text/html": [
       "<style>\n",
       ".list-inline {list-style: none; margin:0; padding: 0}\n",
       ".list-inline>li {display: inline-block}\n",
       ".list-inline>li:not(:last-child)::after {content: \"\\00b7\"; padding: 0 .5ex}\n",
       "</style>\n",
       "<ol class=list-inline><li>69</li><li>264</li><li>311</li><li>1021</li><li>1213</li></ol>\n"
      ],
      "text/latex": [
       "\\begin{enumerate*}\n",
       "\\item 69\n",
       "\\item 264\n",
       "\\item 311\n",
       "\\item 1021\n",
       "\\item 1213\n",
       "\\end{enumerate*}\n"
      ],
      "text/markdown": [
       "1. 69\n",
       "2. 264\n",
       "3. 311\n",
       "4. 1021\n",
       "5. 1213\n",
       "\n",
       "\n"
      ],
      "text/plain": [
       "[1]   69  264  311 1021 1213"
      ]
     },
     "metadata": {},
     "output_type": "display_data"
    },
    {
     "data": {
      "text/html": [
       "<style>\n",
       ".list-inline {list-style: none; margin:0; padding: 0}\n",
       ".list-inline>li {display: inline-block}\n",
       ".list-inline>li:not(:last-child)::after {content: \"\\00b7\"; padding: 0 .5ex}\n",
       "</style>\n",
       "<ol class=list-inline><li>'ZIC2'</li><li>'ZIC3'</li><li>'ZIC1'</li><li>'ZIC4'</li><li>'ZIC5'</li></ol>\n"
      ],
      "text/latex": [
       "\\begin{enumerate*}\n",
       "\\item 'ZIC2'\n",
       "\\item 'ZIC3'\n",
       "\\item 'ZIC1'\n",
       "\\item 'ZIC4'\n",
       "\\item 'ZIC5'\n",
       "\\end{enumerate*}\n"
      ],
      "text/markdown": [
       "1. 'ZIC2'\n",
       "2. 'ZIC3'\n",
       "3. 'ZIC1'\n",
       "4. 'ZIC4'\n",
       "5. 'ZIC5'\n",
       "\n",
       "\n"
      ],
      "text/plain": [
       "[1] \"ZIC2\" \"ZIC3\" \"ZIC1\" \"ZIC4\" \"ZIC5\""
      ]
     },
     "metadata": {},
     "output_type": "display_data"
    }
   ],
   "source": [
    "G = \"^ZIC\"\n",
    "grep(G, rna_tfs_ordered)\n",
    "rna_tfs_ordered[grep(G, rna_tfs_ordered)]"
   ]
  },
  {
   "cell_type": "code",
   "execution_count": 51,
   "metadata": {},
   "outputs": [],
   "source": [
    "write.table(rna_tfs_ordered,\n",
    "           \"gene_lists/20210113_tfs_variable_minct10.txt\",\n",
    "           quote=F,\n",
    "           row.names=F,\n",
    "           col.names=F)"
   ]
  },
  {
   "cell_type": "code",
   "execution_count": 35,
   "metadata": {},
   "outputs": [
    {
     "data": {
      "text/html": [
       "<style>\n",
       ".list-inline {list-style: none; margin:0; padding: 0}\n",
       ".list-inline>li {display: inline-block}\n",
       ".list-inline>li:not(:last-child)::after {content: \"\\00b7\"; padding: 0 .5ex}\n",
       "</style>\n",
       "<ol class=list-inline><li>'ASCL2'</li><li>'GSC'</li><li>'ZNF423'</li><li>'KLF17'</li><li>'TP73'</li><li>'NKX6-2'</li><li>'ZNF296'</li><li>'HES4'</li><li>'DNMT3B'</li><li>'UTF1'</li><li>'NFATC2'</li><li>'MBNL3'</li><li>'IRF7'</li><li>'PHOX2A'</li><li>'MYF5'</li><li>'TERF1'</li><li>'SOX15'</li><li>'CEBPD'</li><li>'ID3'</li><li>'ZBTB32'</li><li>'LHX9'</li><li>'ARGFX'</li><li>'IKZF3'</li><li>'NANOG'</li><li>'EGR4'</li><li>'INSM1'</li><li>'AIRE'</li><li>'JARID2'</li><li>'HNF1A'</li><li>'TFB1M'</li><li>'HOPX'</li><li>'ZNF208'</li><li>'FOS'</li><li>'PITX1'</li><li>'LHX2'</li><li>'DNMT3L'</li><li>'RAX2'</li><li>'FOXH1'</li><li>'MAFA'</li><li>'VENTX'</li><li>'HAND1'</li><li>'TET1'</li><li>'ID1'</li><li>'ZFP42'</li><li>'CDX1'</li><li>'HOXD11'</li><li>'TCF21'</li><li>'DDIT3'</li><li>'ZNF486'</li><li>'ARID5B'</li><li>'SCRT1'</li><li>'POU2F2'</li><li>'ONECUT3'</li><li>'RHOXF1'</li><li>'MYBL2'</li><li>'ZSCAN10'</li><li>'ELF3'</li><li>'SOX8'</li><li>'ATF3'</li><li>'SPIB'</li><li>'ZNF90'</li><li>'STAT1'</li><li>'PRRX2'</li><li>'NR1I3'</li><li>'TCF23'</li><li>'MEF2C'</li><li>'GATA2'</li><li>'HEY2'</li><li>'ZIC2'</li><li>'HES1'</li><li>'BMP2'</li><li>'MSX1'</li><li>'ZNF676'</li><li>'TFAP2C'</li><li>'ZNF578'</li><li>'KAT7'</li><li>'ZNF600'</li><li>'UNCX'</li><li>'NR1H4'</li><li>'FOSB'</li><li>'IRX2'</li><li>'SIX3'</li><li>'MYCN'</li><li>'MAFB'</li><li>'OVOL1'</li><li>'MEOX1'</li><li>'EGR1'</li><li>'ZNF503'</li><li>'EPAS1'</li><li>'HES6'</li><li>'NR4A2'</li><li>'FOXS1'</li><li>'NR4A1'</li><li>'JUNB'</li><li>'SOX18'</li><li>'FOSL1'</li><li>'ZFHX4'</li><li>'ID2'</li><li>'NR0B1'</li><li>'IRX3'</li></ol>\n"
      ],
      "text/latex": [
       "\\begin{enumerate*}\n",
       "\\item 'ASCL2'\n",
       "\\item 'GSC'\n",
       "\\item 'ZNF423'\n",
       "\\item 'KLF17'\n",
       "\\item 'TP73'\n",
       "\\item 'NKX6-2'\n",
       "\\item 'ZNF296'\n",
       "\\item 'HES4'\n",
       "\\item 'DNMT3B'\n",
       "\\item 'UTF1'\n",
       "\\item 'NFATC2'\n",
       "\\item 'MBNL3'\n",
       "\\item 'IRF7'\n",
       "\\item 'PHOX2A'\n",
       "\\item 'MYF5'\n",
       "\\item 'TERF1'\n",
       "\\item 'SOX15'\n",
       "\\item 'CEBPD'\n",
       "\\item 'ID3'\n",
       "\\item 'ZBTB32'\n",
       "\\item 'LHX9'\n",
       "\\item 'ARGFX'\n",
       "\\item 'IKZF3'\n",
       "\\item 'NANOG'\n",
       "\\item 'EGR4'\n",
       "\\item 'INSM1'\n",
       "\\item 'AIRE'\n",
       "\\item 'JARID2'\n",
       "\\item 'HNF1A'\n",
       "\\item 'TFB1M'\n",
       "\\item 'HOPX'\n",
       "\\item 'ZNF208'\n",
       "\\item 'FOS'\n",
       "\\item 'PITX1'\n",
       "\\item 'LHX2'\n",
       "\\item 'DNMT3L'\n",
       "\\item 'RAX2'\n",
       "\\item 'FOXH1'\n",
       "\\item 'MAFA'\n",
       "\\item 'VENTX'\n",
       "\\item 'HAND1'\n",
       "\\item 'TET1'\n",
       "\\item 'ID1'\n",
       "\\item 'ZFP42'\n",
       "\\item 'CDX1'\n",
       "\\item 'HOXD11'\n",
       "\\item 'TCF21'\n",
       "\\item 'DDIT3'\n",
       "\\item 'ZNF486'\n",
       "\\item 'ARID5B'\n",
       "\\item 'SCRT1'\n",
       "\\item 'POU2F2'\n",
       "\\item 'ONECUT3'\n",
       "\\item 'RHOXF1'\n",
       "\\item 'MYBL2'\n",
       "\\item 'ZSCAN10'\n",
       "\\item 'ELF3'\n",
       "\\item 'SOX8'\n",
       "\\item 'ATF3'\n",
       "\\item 'SPIB'\n",
       "\\item 'ZNF90'\n",
       "\\item 'STAT1'\n",
       "\\item 'PRRX2'\n",
       "\\item 'NR1I3'\n",
       "\\item 'TCF23'\n",
       "\\item 'MEF2C'\n",
       "\\item 'GATA2'\n",
       "\\item 'HEY2'\n",
       "\\item 'ZIC2'\n",
       "\\item 'HES1'\n",
       "\\item 'BMP2'\n",
       "\\item 'MSX1'\n",
       "\\item 'ZNF676'\n",
       "\\item 'TFAP2C'\n",
       "\\item 'ZNF578'\n",
       "\\item 'KAT7'\n",
       "\\item 'ZNF600'\n",
       "\\item 'UNCX'\n",
       "\\item 'NR1H4'\n",
       "\\item 'FOSB'\n",
       "\\item 'IRX2'\n",
       "\\item 'SIX3'\n",
       "\\item 'MYCN'\n",
       "\\item 'MAFB'\n",
       "\\item 'OVOL1'\n",
       "\\item 'MEOX1'\n",
       "\\item 'EGR1'\n",
       "\\item 'ZNF503'\n",
       "\\item 'EPAS1'\n",
       "\\item 'HES6'\n",
       "\\item 'NR4A2'\n",
       "\\item 'FOXS1'\n",
       "\\item 'NR4A1'\n",
       "\\item 'JUNB'\n",
       "\\item 'SOX18'\n",
       "\\item 'FOSL1'\n",
       "\\item 'ZFHX4'\n",
       "\\item 'ID2'\n",
       "\\item 'NR0B1'\n",
       "\\item 'IRX3'\n",
       "\\end{enumerate*}\n"
      ],
      "text/markdown": [
       "1. 'ASCL2'\n",
       "2. 'GSC'\n",
       "3. 'ZNF423'\n",
       "4. 'KLF17'\n",
       "5. 'TP73'\n",
       "6. 'NKX6-2'\n",
       "7. 'ZNF296'\n",
       "8. 'HES4'\n",
       "9. 'DNMT3B'\n",
       "10. 'UTF1'\n",
       "11. 'NFATC2'\n",
       "12. 'MBNL3'\n",
       "13. 'IRF7'\n",
       "14. 'PHOX2A'\n",
       "15. 'MYF5'\n",
       "16. 'TERF1'\n",
       "17. 'SOX15'\n",
       "18. 'CEBPD'\n",
       "19. 'ID3'\n",
       "20. 'ZBTB32'\n",
       "21. 'LHX9'\n",
       "22. 'ARGFX'\n",
       "23. 'IKZF3'\n",
       "24. 'NANOG'\n",
       "25. 'EGR4'\n",
       "26. 'INSM1'\n",
       "27. 'AIRE'\n",
       "28. 'JARID2'\n",
       "29. 'HNF1A'\n",
       "30. 'TFB1M'\n",
       "31. 'HOPX'\n",
       "32. 'ZNF208'\n",
       "33. 'FOS'\n",
       "34. 'PITX1'\n",
       "35. 'LHX2'\n",
       "36. 'DNMT3L'\n",
       "37. 'RAX2'\n",
       "38. 'FOXH1'\n",
       "39. 'MAFA'\n",
       "40. 'VENTX'\n",
       "41. 'HAND1'\n",
       "42. 'TET1'\n",
       "43. 'ID1'\n",
       "44. 'ZFP42'\n",
       "45. 'CDX1'\n",
       "46. 'HOXD11'\n",
       "47. 'TCF21'\n",
       "48. 'DDIT3'\n",
       "49. 'ZNF486'\n",
       "50. 'ARID5B'\n",
       "51. 'SCRT1'\n",
       "52. 'POU2F2'\n",
       "53. 'ONECUT3'\n",
       "54. 'RHOXF1'\n",
       "55. 'MYBL2'\n",
       "56. 'ZSCAN10'\n",
       "57. 'ELF3'\n",
       "58. 'SOX8'\n",
       "59. 'ATF3'\n",
       "60. 'SPIB'\n",
       "61. 'ZNF90'\n",
       "62. 'STAT1'\n",
       "63. 'PRRX2'\n",
       "64. 'NR1I3'\n",
       "65. 'TCF23'\n",
       "66. 'MEF2C'\n",
       "67. 'GATA2'\n",
       "68. 'HEY2'\n",
       "69. 'ZIC2'\n",
       "70. 'HES1'\n",
       "71. 'BMP2'\n",
       "72. 'MSX1'\n",
       "73. 'ZNF676'\n",
       "74. 'TFAP2C'\n",
       "75. 'ZNF578'\n",
       "76. 'KAT7'\n",
       "77. 'ZNF600'\n",
       "78. 'UNCX'\n",
       "79. 'NR1H4'\n",
       "80. 'FOSB'\n",
       "81. 'IRX2'\n",
       "82. 'SIX3'\n",
       "83. 'MYCN'\n",
       "84. 'MAFB'\n",
       "85. 'OVOL1'\n",
       "86. 'MEOX1'\n",
       "87. 'EGR1'\n",
       "88. 'ZNF503'\n",
       "89. 'EPAS1'\n",
       "90. 'HES6'\n",
       "91. 'NR4A2'\n",
       "92. 'FOXS1'\n",
       "93. 'NR4A1'\n",
       "94. 'JUNB'\n",
       "95. 'SOX18'\n",
       "96. 'FOSL1'\n",
       "97. 'ZFHX4'\n",
       "98. 'ID2'\n",
       "99. 'NR0B1'\n",
       "100. 'IRX3'\n",
       "\n",
       "\n"
      ],
      "text/plain": [
       "  [1] \"ASCL2\"   \"GSC\"     \"ZNF423\"  \"KLF17\"   \"TP73\"    \"NKX6-2\"  \"ZNF296\" \n",
       "  [8] \"HES4\"    \"DNMT3B\"  \"UTF1\"    \"NFATC2\"  \"MBNL3\"   \"IRF7\"    \"PHOX2A\" \n",
       " [15] \"MYF5\"    \"TERF1\"   \"SOX15\"   \"CEBPD\"   \"ID3\"     \"ZBTB32\"  \"LHX9\"   \n",
       " [22] \"ARGFX\"   \"IKZF3\"   \"NANOG\"   \"EGR4\"    \"INSM1\"   \"AIRE\"    \"JARID2\" \n",
       " [29] \"HNF1A\"   \"TFB1M\"   \"HOPX\"    \"ZNF208\"  \"FOS\"     \"PITX1\"   \"LHX2\"   \n",
       " [36] \"DNMT3L\"  \"RAX2\"    \"FOXH1\"   \"MAFA\"    \"VENTX\"   \"HAND1\"   \"TET1\"   \n",
       " [43] \"ID1\"     \"ZFP42\"   \"CDX1\"    \"HOXD11\"  \"TCF21\"   \"DDIT3\"   \"ZNF486\" \n",
       " [50] \"ARID5B\"  \"SCRT1\"   \"POU2F2\"  \"ONECUT3\" \"RHOXF1\"  \"MYBL2\"   \"ZSCAN10\"\n",
       " [57] \"ELF3\"    \"SOX8\"    \"ATF3\"    \"SPIB\"    \"ZNF90\"   \"STAT1\"   \"PRRX2\"  \n",
       " [64] \"NR1I3\"   \"TCF23\"   \"MEF2C\"   \"GATA2\"   \"HEY2\"    \"ZIC2\"    \"HES1\"   \n",
       " [71] \"BMP2\"    \"MSX1\"    \"ZNF676\"  \"TFAP2C\"  \"ZNF578\"  \"KAT7\"    \"ZNF600\" \n",
       " [78] \"UNCX\"    \"NR1H4\"   \"FOSB\"    \"IRX2\"    \"SIX3\"    \"MYCN\"    \"MAFB\"   \n",
       " [85] \"OVOL1\"   \"MEOX1\"   \"EGR1\"    \"ZNF503\"  \"EPAS1\"   \"HES6\"    \"NR4A2\"  \n",
       " [92] \"FOXS1\"   \"NR4A1\"   \"JUNB\"    \"SOX18\"   \"FOSL1\"   \"ZFHX4\"   \"ID2\"    \n",
       " [99] \"NR0B1\"   \"IRX3\"   "
      ]
     },
     "metadata": {},
     "output_type": "display_data"
    }
   ],
   "source": [
    "rna_tfs_ordered[1:100]"
   ]
  },
  {
   "cell_type": "code",
   "execution_count": null,
   "metadata": {},
   "outputs": [],
   "source": []
  }
 ],
 "metadata": {
  "kernelspec": {
   "display_name": "R",
   "language": "R",
   "name": "ir"
  },
  "language_info": {
   "codemirror_mode": "r",
   "file_extension": ".r",
   "mimetype": "text/x-r-source",
   "name": "R",
   "pygments_lexer": "r",
   "version": "3.6.3"
  }
 },
 "nbformat": 4,
 "nbformat_minor": 4
}
