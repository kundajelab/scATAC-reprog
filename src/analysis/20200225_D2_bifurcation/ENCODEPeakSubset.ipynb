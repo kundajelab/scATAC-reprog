{
 "cells": [
  {
   "cell_type": "markdown",
   "metadata": {},
   "source": [
    "# ENCODE Subset Peaks\n",
    "\n",
    "Given a subset of peaks, find out which cells in ENCODE have highest/lowest fraction of reads in those peaks."
   ]
  },
  {
   "cell_type": "code",
   "execution_count": 29,
   "metadata": {},
   "outputs": [],
   "source": [
    "library(GenomicRanges)"
   ]
  },
  {
   "cell_type": "code",
   "execution_count": 2,
   "metadata": {},
   "outputs": [
    {
     "data": {
      "text/html": [
       "<table>\n",
       "<caption>A data.frame: 2 × 622</caption>\n",
       "<thead>\n",
       "\t<tr><th></th><th scope=col>ENCSR000EID</th><th scope=col>ENCSR000EIE</th><th scope=col>ENCSR000EIF</th><th scope=col>ENCSR000EIG</th><th scope=col>ENCSR000EII</th><th scope=col>ENCSR000EIL</th><th scope=col>ENCSR000EIN</th><th scope=col>ENCSR000EIV</th><th scope=col>ENCSR000EIW</th><th scope=col>ENCSR000EIY</th><th scope=col>⋯</th><th scope=col>ENCSR974TXT</th><th scope=col>ENCSR976XOY</th><th scope=col>ENCSR978QUT</th><th scope=col>ENCSR979ZJS</th><th scope=col>ENCSR986HEN</th><th scope=col>ENCSR986XLW</th><th scope=col>ENCSR988YKR</th><th scope=col>ENCSR989YIV</th><th scope=col>ENCSR990XXC</th><th scope=col>ENCSR999TSD</th></tr>\n",
       "\t<tr><th></th><th scope=col>&lt;int&gt;</th><th scope=col>&lt;int&gt;</th><th scope=col>&lt;int&gt;</th><th scope=col>&lt;int&gt;</th><th scope=col>&lt;int&gt;</th><th scope=col>&lt;int&gt;</th><th scope=col>&lt;int&gt;</th><th scope=col>&lt;int&gt;</th><th scope=col>&lt;int&gt;</th><th scope=col>&lt;int&gt;</th><th scope=col>⋯</th><th scope=col>&lt;int&gt;</th><th scope=col>&lt;int&gt;</th><th scope=col>&lt;int&gt;</th><th scope=col>&lt;int&gt;</th><th scope=col>&lt;int&gt;</th><th scope=col>&lt;int&gt;</th><th scope=col>&lt;int&gt;</th><th scope=col>&lt;int&gt;</th><th scope=col>&lt;int&gt;</th><th scope=col>&lt;int&gt;</th></tr>\n",
       "</thead>\n",
       "<tbody>\n",
       "\t<tr><th scope=row>chr1\t10370\t10641</th><td>28</td><td>9</td><td>17</td><td>8</td><td>49</td><td>28</td><td>7</td><td>11</td><td>20</td><td>33</td><td>⋯</td><td>2</td><td>1</td><td>0</td><td>3</td><td>2</td><td>12</td><td>0</td><td>15</td><td>3</td><td>1</td></tr>\n",
       "\t<tr><th scope=row>chr1\t10711\t11232</th><td>12</td><td>9</td><td> 5</td><td>9</td><td>44</td><td>39</td><td>2</td><td> 7</td><td>13</td><td>27</td><td>⋯</td><td>0</td><td>1</td><td>0</td><td>1</td><td>1</td><td> 2</td><td>0</td><td> 9</td><td>1</td><td>0</td></tr>\n",
       "</tbody>\n",
       "</table>\n"
      ],
      "text/latex": [
       "A data.frame: 2 × 622\n",
       "\\begin{tabular}{r|lllllllllllllllllllll}\n",
       "  & ENCSR000EID & ENCSR000EIE & ENCSR000EIF & ENCSR000EIG & ENCSR000EII & ENCSR000EIL & ENCSR000EIN & ENCSR000EIV & ENCSR000EIW & ENCSR000EIY & ⋯ & ENCSR974TXT & ENCSR976XOY & ENCSR978QUT & ENCSR979ZJS & ENCSR986HEN & ENCSR986XLW & ENCSR988YKR & ENCSR989YIV & ENCSR990XXC & ENCSR999TSD\\\\\n",
       "  & <int> & <int> & <int> & <int> & <int> & <int> & <int> & <int> & <int> & <int> & ⋯ & <int> & <int> & <int> & <int> & <int> & <int> & <int> & <int> & <int> & <int>\\\\\n",
       "\\hline\n",
       "\tchr1\t10370\t10641 & 28 & 9 & 17 & 8 & 49 & 28 & 7 & 11 & 20 & 33 & ⋯ & 2 & 1 & 0 & 3 & 2 & 12 & 0 & 15 & 3 & 1\\\\\n",
       "\tchr1\t10711\t11232 & 12 & 9 &  5 & 9 & 44 & 39 & 2 &  7 & 13 & 27 & ⋯ & 0 & 1 & 0 & 1 & 1 &  2 & 0 &  9 & 1 & 0\\\\\n",
       "\\end{tabular}\n"
      ],
      "text/markdown": [
       "\n",
       "A data.frame: 2 × 622\n",
       "\n",
       "| <!--/--> | ENCSR000EID &lt;int&gt; | ENCSR000EIE &lt;int&gt; | ENCSR000EIF &lt;int&gt; | ENCSR000EIG &lt;int&gt; | ENCSR000EII &lt;int&gt; | ENCSR000EIL &lt;int&gt; | ENCSR000EIN &lt;int&gt; | ENCSR000EIV &lt;int&gt; | ENCSR000EIW &lt;int&gt; | ENCSR000EIY &lt;int&gt; | ⋯ ⋯ | ENCSR974TXT &lt;int&gt; | ENCSR976XOY &lt;int&gt; | ENCSR978QUT &lt;int&gt; | ENCSR979ZJS &lt;int&gt; | ENCSR986HEN &lt;int&gt; | ENCSR986XLW &lt;int&gt; | ENCSR988YKR &lt;int&gt; | ENCSR989YIV &lt;int&gt; | ENCSR990XXC &lt;int&gt; | ENCSR999TSD &lt;int&gt; |\n",
       "|---|---|---|---|---|---|---|---|---|---|---|---|---|---|---|---|---|---|---|---|---|---|\n",
       "| chr1\t10370\t10641 | 28 | 9 | 17 | 8 | 49 | 28 | 7 | 11 | 20 | 33 | ⋯ | 2 | 1 | 0 | 3 | 2 | 12 | 0 | 15 | 3 | 1 |\n",
       "| chr1\t10711\t11232 | 12 | 9 |  5 | 9 | 44 | 39 | 2 |  7 | 13 | 27 | ⋯ | 0 | 1 | 0 | 1 | 1 |  2 | 0 |  9 | 1 | 0 |\n",
       "\n"
      ],
      "text/plain": [
       "                   ENCSR000EID ENCSR000EIE ENCSR000EIF ENCSR000EIG ENCSR000EII\n",
       "chr1\\t10370\\t10641 28          9           17          8           49         \n",
       "chr1\\t10711\\t11232 12          9            5          9           44         \n",
       "                   ENCSR000EIL ENCSR000EIN ENCSR000EIV ENCSR000EIW ENCSR000EIY\n",
       "chr1\\t10370\\t10641 28          7           11          20          33         \n",
       "chr1\\t10711\\t11232 39          2            7          13          27         \n",
       "                   ⋯ ENCSR974TXT ENCSR976XOY ENCSR978QUT ENCSR979ZJS\n",
       "chr1\\t10370\\t10641 ⋯ 2           1           0           3          \n",
       "chr1\\t10711\\t11232 ⋯ 0           1           0           1          \n",
       "                   ENCSR986HEN ENCSR986XLW ENCSR988YKR ENCSR989YIV ENCSR990XXC\n",
       "chr1\\t10370\\t10641 2           12          0           15          3          \n",
       "chr1\\t10711\\t11232 1            2          0            9          1          \n",
       "                   ENCSR999TSD\n",
       "chr1\\t10370\\t10641 1          \n",
       "chr1\\t10711\\t11232 0          "
      ]
     },
     "metadata": {},
     "output_type": "display_data"
    },
    {
     "data": {
      "text/html": [
       "<style>\n",
       ".list-inline {list-style: none; margin:0; padding: 0}\n",
       ".list-inline>li {display: inline-block}\n",
       ".list-inline>li:not(:last-child)::after {content: \"\\00b7\"; padding: 0 .5ex}\n",
       "</style>\n",
       "<ol class=list-inline><li>2027128</li><li>622</li></ol>\n"
      ],
      "text/latex": [
       "\\begin{enumerate*}\n",
       "\\item 2027128\n",
       "\\item 622\n",
       "\\end{enumerate*}\n"
      ],
      "text/markdown": [
       "1. 2027128\n",
       "2. 622\n",
       "\n",
       "\n"
      ],
      "text/plain": [
       "[1] 2027128     622"
      ]
     },
     "metadata": {},
     "output_type": "display_data"
    }
   ],
   "source": [
    "# load encode counts matrix\n",
    "cts <- read.csv(\"/oak/stanford/groups/akundaje/projects/atlas/counts_matrices/atlas.dnase.overlap.counts.txt\",sep=\"\\t\")\n",
    "rownames(cts)=paste(cts$chr,cts$start,cts$end,sep='\\t')\n",
    "cts$chrom = NULL\n",
    "cts$start = NULL\n",
    "cts$end = NULL\n",
    "head(cts, 2)\n",
    "dim(cts)"
   ]
  },
  {
   "cell_type": "code",
   "execution_count": 37,
   "metadata": {},
   "outputs": [],
   "source": [
    "encode_peaks_gr = GRanges(sub(\"\\t\", \"-\", sub(\"\\t\", \":\", rownames(cts))))"
   ]
  },
  {
   "cell_type": "code",
   "execution_count": 38,
   "metadata": {},
   "outputs": [
    {
     "data": {
      "text/plain": [
       "GRanges object with 6 ranges and 0 metadata columns:\n",
       "      seqnames      ranges strand\n",
       "         <Rle>   <IRanges>  <Rle>\n",
       "  [1]     chr1 10370-10641      *\n",
       "  [2]     chr1 10711-11232      *\n",
       "  [3]     chr1 11308-11533      *\n",
       "  [4]     chr1 14499-14700      *\n",
       "  [5]     chr1 16142-16349      *\n",
       "  [6]     chr1 25958-26158      *\n",
       "  -------\n",
       "  seqinfo: 24 sequences from an unspecified genome; no seqlengths"
      ]
     },
     "metadata": {},
     "output_type": "display_data"
    }
   ],
   "source": [
    "head(encode_peaks_gr)"
   ]
  },
  {
   "cell_type": "code",
   "execution_count": 48,
   "metadata": {},
   "outputs": [
    {
     "data": {
      "text/html": [
       "<style>\n",
       ".list-inline {list-style: none; margin:0; padding: 0}\n",
       ".list-inline>li {display: inline-block}\n",
       ".list-inline>li:not(:last-child)::after {content: \"\\00b7\"; padding: 0 .5ex}\n",
       "</style>\n",
       "<ol class=list-inline><li>'ID'</li><li>'Accession'</li><li>'Assay.name'</li><li>'Assay.title'</li><li>'Target.of.assay'</li><li>'Target.gene.symbol'</li><li>'Biosample.summary'</li><li>'Biosample.term.name'</li><li>'Description'</li><li>'Lab'</li><li>'Project'</li><li>'Status'</li><li>'Files'</li><li>'Biosample.accession'</li><li>'Biological.replicate'</li><li>'Technical.replicate'</li><li>'Linked.antibody'</li><li>'Organism'</li><li>'Life.stage'</li><li>'Age'</li><li>'Age.units'</li><li>'Biosample.treatment'</li><li>'Biosample.treatment.ontology.ID'</li><li>'Biosample.treatment.concentration'</li><li>'Biosample.treatment.concentration.units'</li><li>'Biosample.treatment.duration'</li><li>'Biosample.treatment.duration.units'</li><li>'Synchronization'</li><li>'Post.synchronization.time'</li><li>'Post.synchronization.time.units'</li><li>'Replicates'</li></ol>\n"
      ],
      "text/latex": [
       "\\begin{enumerate*}\n",
       "\\item 'ID'\n",
       "\\item 'Accession'\n",
       "\\item 'Assay.name'\n",
       "\\item 'Assay.title'\n",
       "\\item 'Target.of.assay'\n",
       "\\item 'Target.gene.symbol'\n",
       "\\item 'Biosample.summary'\n",
       "\\item 'Biosample.term.name'\n",
       "\\item 'Description'\n",
       "\\item 'Lab'\n",
       "\\item 'Project'\n",
       "\\item 'Status'\n",
       "\\item 'Files'\n",
       "\\item 'Biosample.accession'\n",
       "\\item 'Biological.replicate'\n",
       "\\item 'Technical.replicate'\n",
       "\\item 'Linked.antibody'\n",
       "\\item 'Organism'\n",
       "\\item 'Life.stage'\n",
       "\\item 'Age'\n",
       "\\item 'Age.units'\n",
       "\\item 'Biosample.treatment'\n",
       "\\item 'Biosample.treatment.ontology.ID'\n",
       "\\item 'Biosample.treatment.concentration'\n",
       "\\item 'Biosample.treatment.concentration.units'\n",
       "\\item 'Biosample.treatment.duration'\n",
       "\\item 'Biosample.treatment.duration.units'\n",
       "\\item 'Synchronization'\n",
       "\\item 'Post.synchronization.time'\n",
       "\\item 'Post.synchronization.time.units'\n",
       "\\item 'Replicates'\n",
       "\\end{enumerate*}\n"
      ],
      "text/markdown": [
       "1. 'ID'\n",
       "2. 'Accession'\n",
       "3. 'Assay.name'\n",
       "4. 'Assay.title'\n",
       "5. 'Target.of.assay'\n",
       "6. 'Target.gene.symbol'\n",
       "7. 'Biosample.summary'\n",
       "8. 'Biosample.term.name'\n",
       "9. 'Description'\n",
       "10. 'Lab'\n",
       "11. 'Project'\n",
       "12. 'Status'\n",
       "13. 'Files'\n",
       "14. 'Biosample.accession'\n",
       "15. 'Biological.replicate'\n",
       "16. 'Technical.replicate'\n",
       "17. 'Linked.antibody'\n",
       "18. 'Organism'\n",
       "19. 'Life.stage'\n",
       "20. 'Age'\n",
       "21. 'Age.units'\n",
       "22. 'Biosample.treatment'\n",
       "23. 'Biosample.treatment.ontology.ID'\n",
       "24. 'Biosample.treatment.concentration'\n",
       "25. 'Biosample.treatment.concentration.units'\n",
       "26. 'Biosample.treatment.duration'\n",
       "27. 'Biosample.treatment.duration.units'\n",
       "28. 'Synchronization'\n",
       "29. 'Post.synchronization.time'\n",
       "30. 'Post.synchronization.time.units'\n",
       "31. 'Replicates'\n",
       "\n",
       "\n"
      ],
      "text/plain": [
       " [1] \"ID\"                                     \n",
       " [2] \"Accession\"                              \n",
       " [3] \"Assay.name\"                             \n",
       " [4] \"Assay.title\"                            \n",
       " [5] \"Target.of.assay\"                        \n",
       " [6] \"Target.gene.symbol\"                     \n",
       " [7] \"Biosample.summary\"                      \n",
       " [8] \"Biosample.term.name\"                    \n",
       " [9] \"Description\"                            \n",
       "[10] \"Lab\"                                    \n",
       "[11] \"Project\"                                \n",
       "[12] \"Status\"                                 \n",
       "[13] \"Files\"                                  \n",
       "[14] \"Biosample.accession\"                    \n",
       "[15] \"Biological.replicate\"                   \n",
       "[16] \"Technical.replicate\"                    \n",
       "[17] \"Linked.antibody\"                        \n",
       "[18] \"Organism\"                               \n",
       "[19] \"Life.stage\"                             \n",
       "[20] \"Age\"                                    \n",
       "[21] \"Age.units\"                              \n",
       "[22] \"Biosample.treatment\"                    \n",
       "[23] \"Biosample.treatment.ontology.ID\"        \n",
       "[24] \"Biosample.treatment.concentration\"      \n",
       "[25] \"Biosample.treatment.concentration.units\"\n",
       "[26] \"Biosample.treatment.duration\"           \n",
       "[27] \"Biosample.treatment.duration.units\"     \n",
       "[28] \"Synchronization\"                        \n",
       "[29] \"Post.synchronization.time\"              \n",
       "[30] \"Post.synchronization.time.units\"        \n",
       "[31] \"Replicates\"                             "
      ]
     },
     "metadata": {},
     "output_type": "display_data"
    }
   ],
   "source": [
    "colnames(metadata)"
   ]
  },
  {
   "cell_type": "code",
   "execution_count": 83,
   "metadata": {},
   "outputs": [
    {
     "data": {
      "text/html": [
       "<table>\n",
       "<caption>A data.frame: 6 × 2</caption>\n",
       "<thead>\n",
       "\t<tr><th></th><th scope=col>Biosample.summary</th><th scope=col>Biosample.term.name</th></tr>\n",
       "\t<tr><th></th><th scope=col>&lt;fct&gt;</th><th scope=col>&lt;fct&gt;</th></tr>\n",
       "</thead>\n",
       "<tbody>\n",
       "\t<tr><th scope=row>ENCSR728BAD</th><td>adrenal gland male embryo (108 days)                                  </td><td>adrenal gland                   </td></tr>\n",
       "\t<tr><th scope=row>ENCSR724CND</th><td>foreskin keratinocyte male newborn                                    </td><td>foreskin keratinocyte           </td></tr>\n",
       "\t<tr><th scope=row>ENCSR770DEN</th><td>fibroblast of skin of scalp male embryo (97 days)                     </td><td>fibroblast of skin of scalp     </td></tr>\n",
       "\t<tr><th scope=row>ENCSR594OWA</th><td>small intestine male embryo (91 day)                                  </td><td>small intestine                 </td></tr>\n",
       "\t<tr><th scope=row>ENCSR325LYJ</th><td>fibroblast of skin of upper back male embryo (97 days)                </td><td>fibroblast of skin of upper back</td></tr>\n",
       "\t<tr><th scope=row>ENCSR257CIZ</th><td>kidney tubule cell female adult (80 years) treated with 5 μM cisplatin</td><td>kidney tubule cell              </td></tr>\n",
       "</tbody>\n",
       "</table>\n"
      ],
      "text/latex": [
       "A data.frame: 6 × 2\n",
       "\\begin{tabular}{r|ll}\n",
       "  & Biosample.summary & Biosample.term.name\\\\\n",
       "  & <fct> & <fct>\\\\\n",
       "\\hline\n",
       "\tENCSR728BAD & adrenal gland male embryo (108 days)                                   & adrenal gland                   \\\\\n",
       "\tENCSR724CND & foreskin keratinocyte male newborn                                     & foreskin keratinocyte           \\\\\n",
       "\tENCSR770DEN & fibroblast of skin of scalp male embryo (97 days)                      & fibroblast of skin of scalp     \\\\\n",
       "\tENCSR594OWA & small intestine male embryo (91 day)                                   & small intestine                 \\\\\n",
       "\tENCSR325LYJ & fibroblast of skin of upper back male embryo (97 days)                 & fibroblast of skin of upper back\\\\\n",
       "\tENCSR257CIZ & kidney tubule cell female adult (80 years) treated with 5 μM cisplatin & kidney tubule cell              \\\\\n",
       "\\end{tabular}\n"
      ],
      "text/markdown": [
       "\n",
       "A data.frame: 6 × 2\n",
       "\n",
       "| <!--/--> | Biosample.summary &lt;fct&gt; | Biosample.term.name &lt;fct&gt; |\n",
       "|---|---|---|\n",
       "| ENCSR728BAD | adrenal gland male embryo (108 days)                                   | adrenal gland                    |\n",
       "| ENCSR724CND | foreskin keratinocyte male newborn                                     | foreskin keratinocyte            |\n",
       "| ENCSR770DEN | fibroblast of skin of scalp male embryo (97 days)                      | fibroblast of skin of scalp      |\n",
       "| ENCSR594OWA | small intestine male embryo (91 day)                                   | small intestine                  |\n",
       "| ENCSR325LYJ | fibroblast of skin of upper back male embryo (97 days)                 | fibroblast of skin of upper back |\n",
       "| ENCSR257CIZ | kidney tubule cell female adult (80 years) treated with 5 μM cisplatin | kidney tubule cell               |\n",
       "\n"
      ],
      "text/plain": [
       "            Biosample.summary                                                     \n",
       "ENCSR728BAD adrenal gland male embryo (108 days)                                  \n",
       "ENCSR724CND foreskin keratinocyte male newborn                                    \n",
       "ENCSR770DEN fibroblast of skin of scalp male embryo (97 days)                     \n",
       "ENCSR594OWA small intestine male embryo (91 day)                                  \n",
       "ENCSR325LYJ fibroblast of skin of upper back male embryo (97 days)                \n",
       "ENCSR257CIZ kidney tubule cell female adult (80 years) treated with 5 μM cisplatin\n",
       "            Biosample.term.name             \n",
       "ENCSR728BAD adrenal gland                   \n",
       "ENCSR724CND foreskin keratinocyte           \n",
       "ENCSR770DEN fibroblast of skin of scalp     \n",
       "ENCSR594OWA small intestine                 \n",
       "ENCSR325LYJ fibroblast of skin of upper back\n",
       "ENCSR257CIZ kidney tubule cell              "
      ]
     },
     "metadata": {},
     "output_type": "display_data"
    }
   ],
   "source": [
    "# ENCODE metadata\n",
    "metadata = read.delim(\"/oak/stanford/groups/akundaje/projects/atlas/dnase_experiments_metadata.tsv\", \n",
    "                      sep=\"\\t\",\n",
    "                     skip=1,\n",
    "                     header=T,\n",
    "                     fill=T)\n",
    "metadata = metadata[, c(\"Accession\", \"Biosample.summary\", \"Biosample.term.name\")]\n",
    "rownames(metadata) = metadata$Accession\n",
    "metadata$Accession = NULL\n",
    "head(metadata)"
   ]
  },
  {
   "cell_type": "code",
   "execution_count": 144,
   "metadata": {},
   "outputs": [
    {
     "data": {
      "text/plain": [
       "GRanges object with 6 ranges and 0 metadata columns:\n",
       "      seqnames          ranges strand\n",
       "         <Rle>       <IRanges>  <Rle>\n",
       "  [1]     chr1   832405-832718      *\n",
       "  [2]     chr1 1928279-1928479      *\n",
       "  [3]     chr1 1969679-1969886      *\n",
       "  [4]     chr1 2118601-2119174      *\n",
       "  [5]     chr1 2261662-2261887      *\n",
       "  [6]     chr1 2262080-2262540      *\n",
       "  -------\n",
       "  seqinfo: 24 sequences from an unspecified genome; no seqlengths"
      ]
     },
     "metadata": {},
     "output_type": "display_data"
    }
   ],
   "source": [
    "# ref peaks\n",
    "peak_set = read.table(\"./beds/20200227_heatmap_ecto_9_vs_repro_3_11_naive_n10/idx6.bed\",\n",
    "                      header=F, sep='')\n",
    "colnames(peak_set) = c(\"chr\", \"start\", \"end\")\n",
    "peak_set = makeGRangesFromDataFrame(peak_set)\n",
    "head(peak_set)"
   ]
  },
  {
   "cell_type": "code",
   "execution_count": 145,
   "metadata": {},
   "outputs": [
    {
     "data": {
      "text/plain": [
       "Hits object with 21804 hits and 0 metadata columns:\n",
       "          queryHits subjectHits\n",
       "          <integer>   <integer>\n",
       "      [1]       134           1\n",
       "      [2]       986           2\n",
       "      [3]      1009           3\n",
       "      [4]      1135           4\n",
       "      [5]      1136           4\n",
       "      ...       ...         ...\n",
       "  [21800]   2024147       30753\n",
       "  [21801]   2024354       30760\n",
       "  [21802]   2024500       30762\n",
       "  [21803]   2024799       30764\n",
       "  [21804]   2025837       30771\n",
       "  -------\n",
       "  queryLength: 2027128 / subjectLength: 30772"
      ]
     },
     "metadata": {},
     "output_type": "display_data"
    }
   ],
   "source": [
    "overlaps = findOverlaps(encode_peaks_gr, peak_set)\n",
    "overlaps"
   ]
  },
  {
   "cell_type": "code",
   "execution_count": 146,
   "metadata": {},
   "outputs": [
    {
     "data": {
      "text/html": [
       "20226"
      ],
      "text/latex": [
       "20226"
      ],
      "text/markdown": [
       "20226"
      ],
      "text/plain": [
       "[1] 20226"
      ]
     },
     "metadata": {},
     "output_type": "display_data"
    }
   ],
   "source": [
    "length(unique(queryHits(overlaps)))"
   ]
  },
  {
   "cell_type": "code",
   "execution_count": 147,
   "metadata": {},
   "outputs": [],
   "source": [
    "frac_reads_in_peak_set = colSums(cts[unique(queryHits(overlaps)),])/colSums(cts)"
   ]
  },
  {
   "cell_type": "code",
   "execution_count": 148,
   "metadata": {},
   "outputs": [
    {
     "data": {
      "text/html": [
       "<table>\n",
       "<caption>A data.frame: 100 × 2</caption>\n",
       "<thead>\n",
       "\t<tr><th></th><th scope=col>percentage</th><th scope=col>Biosample.term.name</th></tr>\n",
       "\t<tr><th></th><th scope=col>&lt;dbl&gt;</th><th scope=col>&lt;fct&gt;</th></tr>\n",
       "</thead>\n",
       "<tbody>\n",
       "\t<tr><th scope=row>ENCSR620QNS</th><td>1.540941</td><td>HAP-1                                    </td></tr>\n",
       "\t<tr><th scope=row>ENCSR318PRQ</th><td>1.472348</td><td>middle frontal gyrus                     </td></tr>\n",
       "\t<tr><th scope=row>ENCSR706IDL</th><td>1.468569</td><td>midbrain                                 </td></tr>\n",
       "\t<tr><th scope=row>ENCSR420NOA</th><td>1.466536</td><td>hematopoietic multipotent progenitor cell</td></tr>\n",
       "\t<tr><th scope=row>ENCSR015BGH</th><td>1.446106</td><td>caudate nucleus                          </td></tr>\n",
       "\t<tr><th scope=row>ENCSR434OBM</th><td>1.421162</td><td>foreskin melanocyte                      </td></tr>\n",
       "\t<tr><th scope=row>ENCSR224IYD</th><td>1.401550</td><td>medulla oblongata                        </td></tr>\n",
       "\t<tr><th scope=row>ENCSR518JGY</th><td>1.399132</td><td>foreskin melanocyte                      </td></tr>\n",
       "\t<tr><th scope=row>ENCSR008SDL</th><td>1.396558</td><td>SK-MEL-5                                 </td></tr>\n",
       "\t<tr><th scope=row>ENCSR859CZM</th><td>1.386740</td><td>occipital lobe                           </td></tr>\n",
       "\t<tr><th scope=row>ENCSR771DAX</th><td>1.385013</td><td>globus pallidus                          </td></tr>\n",
       "\t<tr><th scope=row>ENCSR937UWI</th><td>1.355764</td><td>hematopoietic multipotent progenitor cell</td></tr>\n",
       "\t<tr><th scope=row>ENCSR000FEK</th><td>1.349998</td><td>SK-MEL-5                                 </td></tr>\n",
       "\t<tr><th scope=row>ENCSR533VAF</th><td>1.349888</td><td>heart                                    </td></tr>\n",
       "\t<tr><th scope=row>ENCSR000EIN</th><td>1.348845</td><td>COLO829                                  </td></tr>\n",
       "\t<tr><th scope=row>ENCSR318WOD</th><td>1.339570</td><td>lung                                     </td></tr>\n",
       "\t<tr><th scope=row>ENCSR187PYY</th><td>1.328143</td><td>brain                                    </td></tr>\n",
       "\t<tr><th scope=row>ENCSR845CFB</th><td>1.322759</td><td>hematopoietic multipotent progenitor cell</td></tr>\n",
       "\t<tr><th scope=row>ENCSR953WJO</th><td>1.318419</td><td>left lung                                </td></tr>\n",
       "\t<tr><th scope=row>ENCSR000EQF</th><td>1.312066</td><td>T-helper 17 cell                         </td></tr>\n",
       "\t<tr><th scope=row>ENCSR493VDS</th><td>1.307542</td><td>putamen                                  </td></tr>\n",
       "\t<tr><th scope=row>ENCSR000EPY</th><td>1.306829</td><td>SK-N-MC                                  </td></tr>\n",
       "\t<tr><th scope=row>ENCSR846CTA</th><td>1.306195</td><td>right lung                               </td></tr>\n",
       "\t<tr><th scope=row>ENCSR937RVN</th><td>1.302017</td><td>muscle of leg                            </td></tr>\n",
       "\t<tr><th scope=row>ENCSR979ZJS</th><td>1.301093</td><td>transverse colon                         </td></tr>\n",
       "\t<tr><th scope=row>ENCSR501FWC</th><td>1.300270</td><td>heart left ventricle                     </td></tr>\n",
       "\t<tr><th scope=row>ENCSR749BWV</th><td>1.291541</td><td>heart                                    </td></tr>\n",
       "\t<tr><th scope=row>ENCSR666YVE</th><td>1.289781</td><td>large intestine                          </td></tr>\n",
       "\t<tr><th scope=row>ENCSR782XFY</th><td>1.284917</td><td>eye                                      </td></tr>\n",
       "\t<tr><th scope=row>ENCSR092OFK</th><td>1.284335</td><td>skin of body                             </td></tr>\n",
       "\t<tr><th scope=row>⋮</th><td>⋮</td><td>⋮</td></tr>\n",
       "\t<tr><th scope=row>ENCSR588JXI</th><td>1.222524</td><td>left renal cortex interstitium           </td></tr>\n",
       "\t<tr><th scope=row>ENCSR564JUY</th><td>1.221937</td><td>hematopoietic multipotent progenitor cell</td></tr>\n",
       "\t<tr><th scope=row>ENCSR593LTJ</th><td>1.221370</td><td>trophoblast cell                         </td></tr>\n",
       "\t<tr><th scope=row>ENCSR035RVH</th><td>1.220866</td><td>foreskin keratinocyte                    </td></tr>\n",
       "\t<tr><th scope=row>ENCSR441MMO</th><td>1.219830</td><td>right lung                               </td></tr>\n",
       "\t<tr><th scope=row>ENCSR865ICK</th><td>1.218608</td><td>adrenal gland                            </td></tr>\n",
       "\t<tr><th scope=row>ENCSR911LTI</th><td>1.218028</td><td>heart                                    </td></tr>\n",
       "\t<tr><th scope=row>ENCSR115YPI</th><td>1.217398</td><td>hematopoietic multipotent progenitor cell</td></tr>\n",
       "\t<tr><th scope=row>ENCSR000EPQ</th><td>1.214241</td><td>keratinocyte                             </td></tr>\n",
       "\t<tr><th scope=row>ENCSR638HMQ</th><td>1.214171</td><td>NCI-H460                                 </td></tr>\n",
       "\t<tr><th scope=row>ENCSR820ICX</th><td>1.213998</td><td>retina                                   </td></tr>\n",
       "\t<tr><th scope=row>ENCSR563XRP</th><td>1.213084</td><td>large intestine                          </td></tr>\n",
       "\t<tr><th scope=row>ENCSR026EOM</th><td>1.208334</td><td>brain                                    </td></tr>\n",
       "\t<tr><th scope=row>ENCSR257CIZ</th><td>1.207852</td><td>kidney tubule cell                       </td></tr>\n",
       "\t<tr><th scope=row>ENCSR943SYS</th><td>1.207362</td><td>H9                                       </td></tr>\n",
       "\t<tr><th scope=row>ENCSR788SOI</th><td>1.206954</td><td>spinal cord                              </td></tr>\n",
       "\t<tr><th scope=row>ENCSR412NMI</th><td>1.206755</td><td>left cardiac atrium                      </td></tr>\n",
       "\t<tr><th scope=row>ENCSR000EOM</th><td>1.206316</td><td>glomerular endothelial cell              </td></tr>\n",
       "\t<tr><th scope=row>ENCSR076YBB</th><td>1.205725</td><td>lung                                     </td></tr>\n",
       "\t<tr><th scope=row>ENCSR083FBK</th><td>1.203958</td><td>small intestine                          </td></tr>\n",
       "\t<tr><th scope=row>ENCSR422PVL</th><td>1.203926</td><td>left kidney                              </td></tr>\n",
       "\t<tr><th scope=row>ENCSR309FOO</th><td>1.203573</td><td>brain                                    </td></tr>\n",
       "\t<tr><th scope=row>ENCSR000EMT</th><td>1.202762</td><td>GM12878                                  </td></tr>\n",
       "\t<tr><th scope=row>ENCSR000EPP</th><td>1.202390</td><td>foreskin fibroblast                      </td></tr>\n",
       "\t<tr><th scope=row>ENCSR848XIY</th><td>1.201902</td><td>adrenal gland                            </td></tr>\n",
       "\t<tr><th scope=row>ENCSR000EQL</th><td>1.201504</td><td>WERI-Rb-1                                </td></tr>\n",
       "\t<tr><th scope=row>ENCSR014VAC</th><td>1.200711</td><td>right renal cortex interstitium          </td></tr>\n",
       "\t<tr><th scope=row>ENCSR493IAY</th><td>1.198879</td><td>hematopoietic multipotent progenitor cell</td></tr>\n",
       "\t<tr><th scope=row>ENCSR804RSI</th><td>1.196667</td><td>heart                                    </td></tr>\n",
       "\t<tr><th scope=row>ENCSR458LIB</th><td>1.196593</td><td>MM.1S                                    </td></tr>\n",
       "</tbody>\n",
       "</table>\n"
      ],
      "text/latex": [
       "A data.frame: 100 × 2\n",
       "\\begin{tabular}{r|ll}\n",
       "  & percentage & Biosample.term.name\\\\\n",
       "  & <dbl> & <fct>\\\\\n",
       "\\hline\n",
       "\tENCSR620QNS & 1.540941 & HAP-1                                    \\\\\n",
       "\tENCSR318PRQ & 1.472348 & middle frontal gyrus                     \\\\\n",
       "\tENCSR706IDL & 1.468569 & midbrain                                 \\\\\n",
       "\tENCSR420NOA & 1.466536 & hematopoietic multipotent progenitor cell\\\\\n",
       "\tENCSR015BGH & 1.446106 & caudate nucleus                          \\\\\n",
       "\tENCSR434OBM & 1.421162 & foreskin melanocyte                      \\\\\n",
       "\tENCSR224IYD & 1.401550 & medulla oblongata                        \\\\\n",
       "\tENCSR518JGY & 1.399132 & foreskin melanocyte                      \\\\\n",
       "\tENCSR008SDL & 1.396558 & SK-MEL-5                                 \\\\\n",
       "\tENCSR859CZM & 1.386740 & occipital lobe                           \\\\\n",
       "\tENCSR771DAX & 1.385013 & globus pallidus                          \\\\\n",
       "\tENCSR937UWI & 1.355764 & hematopoietic multipotent progenitor cell\\\\\n",
       "\tENCSR000FEK & 1.349998 & SK-MEL-5                                 \\\\\n",
       "\tENCSR533VAF & 1.349888 & heart                                    \\\\\n",
       "\tENCSR000EIN & 1.348845 & COLO829                                  \\\\\n",
       "\tENCSR318WOD & 1.339570 & lung                                     \\\\\n",
       "\tENCSR187PYY & 1.328143 & brain                                    \\\\\n",
       "\tENCSR845CFB & 1.322759 & hematopoietic multipotent progenitor cell\\\\\n",
       "\tENCSR953WJO & 1.318419 & left lung                                \\\\\n",
       "\tENCSR000EQF & 1.312066 & T-helper 17 cell                         \\\\\n",
       "\tENCSR493VDS & 1.307542 & putamen                                  \\\\\n",
       "\tENCSR000EPY & 1.306829 & SK-N-MC                                  \\\\\n",
       "\tENCSR846CTA & 1.306195 & right lung                               \\\\\n",
       "\tENCSR937RVN & 1.302017 & muscle of leg                            \\\\\n",
       "\tENCSR979ZJS & 1.301093 & transverse colon                         \\\\\n",
       "\tENCSR501FWC & 1.300270 & heart left ventricle                     \\\\\n",
       "\tENCSR749BWV & 1.291541 & heart                                    \\\\\n",
       "\tENCSR666YVE & 1.289781 & large intestine                          \\\\\n",
       "\tENCSR782XFY & 1.284917 & eye                                      \\\\\n",
       "\tENCSR092OFK & 1.284335 & skin of body                             \\\\\n",
       "\t⋮ & ⋮ & ⋮\\\\\n",
       "\tENCSR588JXI & 1.222524 & left renal cortex interstitium           \\\\\n",
       "\tENCSR564JUY & 1.221937 & hematopoietic multipotent progenitor cell\\\\\n",
       "\tENCSR593LTJ & 1.221370 & trophoblast cell                         \\\\\n",
       "\tENCSR035RVH & 1.220866 & foreskin keratinocyte                    \\\\\n",
       "\tENCSR441MMO & 1.219830 & right lung                               \\\\\n",
       "\tENCSR865ICK & 1.218608 & adrenal gland                            \\\\\n",
       "\tENCSR911LTI & 1.218028 & heart                                    \\\\\n",
       "\tENCSR115YPI & 1.217398 & hematopoietic multipotent progenitor cell\\\\\n",
       "\tENCSR000EPQ & 1.214241 & keratinocyte                             \\\\\n",
       "\tENCSR638HMQ & 1.214171 & NCI-H460                                 \\\\\n",
       "\tENCSR820ICX & 1.213998 & retina                                   \\\\\n",
       "\tENCSR563XRP & 1.213084 & large intestine                          \\\\\n",
       "\tENCSR026EOM & 1.208334 & brain                                    \\\\\n",
       "\tENCSR257CIZ & 1.207852 & kidney tubule cell                       \\\\\n",
       "\tENCSR943SYS & 1.207362 & H9                                       \\\\\n",
       "\tENCSR788SOI & 1.206954 & spinal cord                              \\\\\n",
       "\tENCSR412NMI & 1.206755 & left cardiac atrium                      \\\\\n",
       "\tENCSR000EOM & 1.206316 & glomerular endothelial cell              \\\\\n",
       "\tENCSR076YBB & 1.205725 & lung                                     \\\\\n",
       "\tENCSR083FBK & 1.203958 & small intestine                          \\\\\n",
       "\tENCSR422PVL & 1.203926 & left kidney                              \\\\\n",
       "\tENCSR309FOO & 1.203573 & brain                                    \\\\\n",
       "\tENCSR000EMT & 1.202762 & GM12878                                  \\\\\n",
       "\tENCSR000EPP & 1.202390 & foreskin fibroblast                      \\\\\n",
       "\tENCSR848XIY & 1.201902 & adrenal gland                            \\\\\n",
       "\tENCSR000EQL & 1.201504 & WERI-Rb-1                                \\\\\n",
       "\tENCSR014VAC & 1.200711 & right renal cortex interstitium          \\\\\n",
       "\tENCSR493IAY & 1.198879 & hematopoietic multipotent progenitor cell\\\\\n",
       "\tENCSR804RSI & 1.196667 & heart                                    \\\\\n",
       "\tENCSR458LIB & 1.196593 & MM.1S                                    \\\\\n",
       "\\end{tabular}\n"
      ],
      "text/markdown": [
       "\n",
       "A data.frame: 100 × 2\n",
       "\n",
       "| <!--/--> | percentage &lt;dbl&gt; | Biosample.term.name &lt;fct&gt; |\n",
       "|---|---|---|\n",
       "| ENCSR620QNS | 1.540941 | HAP-1                                     |\n",
       "| ENCSR318PRQ | 1.472348 | middle frontal gyrus                      |\n",
       "| ENCSR706IDL | 1.468569 | midbrain                                  |\n",
       "| ENCSR420NOA | 1.466536 | hematopoietic multipotent progenitor cell |\n",
       "| ENCSR015BGH | 1.446106 | caudate nucleus                           |\n",
       "| ENCSR434OBM | 1.421162 | foreskin melanocyte                       |\n",
       "| ENCSR224IYD | 1.401550 | medulla oblongata                         |\n",
       "| ENCSR518JGY | 1.399132 | foreskin melanocyte                       |\n",
       "| ENCSR008SDL | 1.396558 | SK-MEL-5                                  |\n",
       "| ENCSR859CZM | 1.386740 | occipital lobe                            |\n",
       "| ENCSR771DAX | 1.385013 | globus pallidus                           |\n",
       "| ENCSR937UWI | 1.355764 | hematopoietic multipotent progenitor cell |\n",
       "| ENCSR000FEK | 1.349998 | SK-MEL-5                                  |\n",
       "| ENCSR533VAF | 1.349888 | heart                                     |\n",
       "| ENCSR000EIN | 1.348845 | COLO829                                   |\n",
       "| ENCSR318WOD | 1.339570 | lung                                      |\n",
       "| ENCSR187PYY | 1.328143 | brain                                     |\n",
       "| ENCSR845CFB | 1.322759 | hematopoietic multipotent progenitor cell |\n",
       "| ENCSR953WJO | 1.318419 | left lung                                 |\n",
       "| ENCSR000EQF | 1.312066 | T-helper 17 cell                          |\n",
       "| ENCSR493VDS | 1.307542 | putamen                                   |\n",
       "| ENCSR000EPY | 1.306829 | SK-N-MC                                   |\n",
       "| ENCSR846CTA | 1.306195 | right lung                                |\n",
       "| ENCSR937RVN | 1.302017 | muscle of leg                             |\n",
       "| ENCSR979ZJS | 1.301093 | transverse colon                          |\n",
       "| ENCSR501FWC | 1.300270 | heart left ventricle                      |\n",
       "| ENCSR749BWV | 1.291541 | heart                                     |\n",
       "| ENCSR666YVE | 1.289781 | large intestine                           |\n",
       "| ENCSR782XFY | 1.284917 | eye                                       |\n",
       "| ENCSR092OFK | 1.284335 | skin of body                              |\n",
       "| ⋮ | ⋮ | ⋮ |\n",
       "| ENCSR588JXI | 1.222524 | left renal cortex interstitium            |\n",
       "| ENCSR564JUY | 1.221937 | hematopoietic multipotent progenitor cell |\n",
       "| ENCSR593LTJ | 1.221370 | trophoblast cell                          |\n",
       "| ENCSR035RVH | 1.220866 | foreskin keratinocyte                     |\n",
       "| ENCSR441MMO | 1.219830 | right lung                                |\n",
       "| ENCSR865ICK | 1.218608 | adrenal gland                             |\n",
       "| ENCSR911LTI | 1.218028 | heart                                     |\n",
       "| ENCSR115YPI | 1.217398 | hematopoietic multipotent progenitor cell |\n",
       "| ENCSR000EPQ | 1.214241 | keratinocyte                              |\n",
       "| ENCSR638HMQ | 1.214171 | NCI-H460                                  |\n",
       "| ENCSR820ICX | 1.213998 | retina                                    |\n",
       "| ENCSR563XRP | 1.213084 | large intestine                           |\n",
       "| ENCSR026EOM | 1.208334 | brain                                     |\n",
       "| ENCSR257CIZ | 1.207852 | kidney tubule cell                        |\n",
       "| ENCSR943SYS | 1.207362 | H9                                        |\n",
       "| ENCSR788SOI | 1.206954 | spinal cord                               |\n",
       "| ENCSR412NMI | 1.206755 | left cardiac atrium                       |\n",
       "| ENCSR000EOM | 1.206316 | glomerular endothelial cell               |\n",
       "| ENCSR076YBB | 1.205725 | lung                                      |\n",
       "| ENCSR083FBK | 1.203958 | small intestine                           |\n",
       "| ENCSR422PVL | 1.203926 | left kidney                               |\n",
       "| ENCSR309FOO | 1.203573 | brain                                     |\n",
       "| ENCSR000EMT | 1.202762 | GM12878                                   |\n",
       "| ENCSR000EPP | 1.202390 | foreskin fibroblast                       |\n",
       "| ENCSR848XIY | 1.201902 | adrenal gland                             |\n",
       "| ENCSR000EQL | 1.201504 | WERI-Rb-1                                 |\n",
       "| ENCSR014VAC | 1.200711 | right renal cortex interstitium           |\n",
       "| ENCSR493IAY | 1.198879 | hematopoietic multipotent progenitor cell |\n",
       "| ENCSR804RSI | 1.196667 | heart                                     |\n",
       "| ENCSR458LIB | 1.196593 | MM.1S                                     |\n",
       "\n"
      ],
      "text/plain": [
       "            percentage Biosample.term.name                      \n",
       "ENCSR620QNS 1.540941   HAP-1                                    \n",
       "ENCSR318PRQ 1.472348   middle frontal gyrus                     \n",
       "ENCSR706IDL 1.468569   midbrain                                 \n",
       "ENCSR420NOA 1.466536   hematopoietic multipotent progenitor cell\n",
       "ENCSR015BGH 1.446106   caudate nucleus                          \n",
       "ENCSR434OBM 1.421162   foreskin melanocyte                      \n",
       "ENCSR224IYD 1.401550   medulla oblongata                        \n",
       "ENCSR518JGY 1.399132   foreskin melanocyte                      \n",
       "ENCSR008SDL 1.396558   SK-MEL-5                                 \n",
       "ENCSR859CZM 1.386740   occipital lobe                           \n",
       "ENCSR771DAX 1.385013   globus pallidus                          \n",
       "ENCSR937UWI 1.355764   hematopoietic multipotent progenitor cell\n",
       "ENCSR000FEK 1.349998   SK-MEL-5                                 \n",
       "ENCSR533VAF 1.349888   heart                                    \n",
       "ENCSR000EIN 1.348845   COLO829                                  \n",
       "ENCSR318WOD 1.339570   lung                                     \n",
       "ENCSR187PYY 1.328143   brain                                    \n",
       "ENCSR845CFB 1.322759   hematopoietic multipotent progenitor cell\n",
       "ENCSR953WJO 1.318419   left lung                                \n",
       "ENCSR000EQF 1.312066   T-helper 17 cell                         \n",
       "ENCSR493VDS 1.307542   putamen                                  \n",
       "ENCSR000EPY 1.306829   SK-N-MC                                  \n",
       "ENCSR846CTA 1.306195   right lung                               \n",
       "ENCSR937RVN 1.302017   muscle of leg                            \n",
       "ENCSR979ZJS 1.301093   transverse colon                         \n",
       "ENCSR501FWC 1.300270   heart left ventricle                     \n",
       "ENCSR749BWV 1.291541   heart                                    \n",
       "ENCSR666YVE 1.289781   large intestine                          \n",
       "ENCSR782XFY 1.284917   eye                                      \n",
       "ENCSR092OFK 1.284335   skin of body                             \n",
       "⋮           ⋮          ⋮                                        \n",
       "ENCSR588JXI 1.222524   left renal cortex interstitium           \n",
       "ENCSR564JUY 1.221937   hematopoietic multipotent progenitor cell\n",
       "ENCSR593LTJ 1.221370   trophoblast cell                         \n",
       "ENCSR035RVH 1.220866   foreskin keratinocyte                    \n",
       "ENCSR441MMO 1.219830   right lung                               \n",
       "ENCSR865ICK 1.218608   adrenal gland                            \n",
       "ENCSR911LTI 1.218028   heart                                    \n",
       "ENCSR115YPI 1.217398   hematopoietic multipotent progenitor cell\n",
       "ENCSR000EPQ 1.214241   keratinocyte                             \n",
       "ENCSR638HMQ 1.214171   NCI-H460                                 \n",
       "ENCSR820ICX 1.213998   retina                                   \n",
       "ENCSR563XRP 1.213084   large intestine                          \n",
       "ENCSR026EOM 1.208334   brain                                    \n",
       "ENCSR257CIZ 1.207852   kidney tubule cell                       \n",
       "ENCSR943SYS 1.207362   H9                                       \n",
       "ENCSR788SOI 1.206954   spinal cord                              \n",
       "ENCSR412NMI 1.206755   left cardiac atrium                      \n",
       "ENCSR000EOM 1.206316   glomerular endothelial cell              \n",
       "ENCSR076YBB 1.205725   lung                                     \n",
       "ENCSR083FBK 1.203958   small intestine                          \n",
       "ENCSR422PVL 1.203926   left kidney                              \n",
       "ENCSR309FOO 1.203573   brain                                    \n",
       "ENCSR000EMT 1.202762   GM12878                                  \n",
       "ENCSR000EPP 1.202390   foreskin fibroblast                      \n",
       "ENCSR848XIY 1.201902   adrenal gland                            \n",
       "ENCSR000EQL 1.201504   WERI-Rb-1                                \n",
       "ENCSR014VAC 1.200711   right renal cortex interstitium          \n",
       "ENCSR493IAY 1.198879   hematopoietic multipotent progenitor cell\n",
       "ENCSR804RSI 1.196667   heart                                    \n",
       "ENCSR458LIB 1.196593   MM.1S                                    "
      ]
     },
     "metadata": {},
     "output_type": "display_data"
    }
   ],
   "source": [
    "df = data.frame(percentage=100*frac_reads_in_peak_set,\n",
    "               metadata[names(frac_reads_in_peak_set),])\n",
    "df = df[rev(order(df$percentage)), c(\"percentage\", \"Biosample.term.name\")]\n",
    "head(df, 100)"
   ]
  },
  {
   "cell_type": "code",
   "execution_count": 149,
   "metadata": {},
   "outputs": [
    {
     "data": {
      "text/html": [
       "<table>\n",
       "<caption>A data.frame: 20 × 2</caption>\n",
       "<thead>\n",
       "\t<tr><th></th><th scope=col>percentage</th><th scope=col>Biosample.term.name</th></tr>\n",
       "\t<tr><th></th><th scope=col>&lt;dbl&gt;</th><th scope=col>&lt;fct&gt;</th></tr>\n",
       "</thead>\n",
       "<tbody>\n",
       "\t<tr><th scope=row>ENCSR634YVQ</th><td>0.7058698</td><td>HK-2                                     </td></tr>\n",
       "\t<tr><th scope=row>ENCSR954AJK</th><td>0.7681722</td><td>Peyer's patch                            </td></tr>\n",
       "\t<tr><th scope=row>ENCSR000ELJ</th><td>0.7735980</td><td>osteoblast                               </td></tr>\n",
       "\t<tr><th scope=row>ENCSR000EID</th><td>0.7748222</td><td>8988T                                    </td></tr>\n",
       "\t<tr><th scope=row>ENCSR000EMI</th><td>0.7874387</td><td>Caco-2                                   </td></tr>\n",
       "\t<tr><th scope=row>ENCSR000EJN</th><td>0.7893315</td><td>H1                                       </td></tr>\n",
       "\t<tr><th scope=row>ENCSR000EMK</th><td>0.7956902</td><td>hematopoietic multipotent progenitor cell</td></tr>\n",
       "\t<tr><th scope=row>ENCSR251UPG</th><td>0.8132079</td><td>foreskin fibroblast                      </td></tr>\n",
       "\t<tr><th scope=row>ENCSR000EIG</th><td>0.8172192</td><td>T-helper 1 cell                          </td></tr>\n",
       "\t<tr><th scope=row>ENCSR431UEM</th><td>0.8241552</td><td>left leg bone                            </td></tr>\n",
       "\t<tr><th scope=row>ENCSR000EIL</th><td>0.8256838</td><td>chorion                                  </td></tr>\n",
       "\t<tr><th scope=row>ENCSR772HUG</th><td>0.8511608</td><td>common myeloid progenitor, CD34-positive </td></tr>\n",
       "\t<tr><th scope=row>ENCSR000EKT</th><td>0.8647744</td><td>LNCaP clone FGC                          </td></tr>\n",
       "\t<tr><th scope=row>ENCSR141IUS</th><td>0.8657113</td><td>lung                                     </td></tr>\n",
       "\t<tr><th scope=row>ENCSR000EJF</th><td>0.8668545</td><td>GM12892                                  </td></tr>\n",
       "\t<tr><th scope=row>ENCSR449HOQ</th><td>0.8676522</td><td>right leg bone                           </td></tr>\n",
       "\t<tr><th scope=row>ENCSR000EQN</th><td>0.8709241</td><td>WI38                                     </td></tr>\n",
       "\t<tr><th scope=row>ENCSR543YPH</th><td>0.8767893</td><td>left kidney                              </td></tr>\n",
       "\t<tr><th scope=row>ENCSR274SDO</th><td>0.8785624</td><td>right arm bone                           </td></tr>\n",
       "\t<tr><th scope=row>ENCSR850YHJ</th><td>0.8803216</td><td>spleen                                   </td></tr>\n",
       "</tbody>\n",
       "</table>\n"
      ],
      "text/latex": [
       "A data.frame: 20 × 2\n",
       "\\begin{tabular}{r|ll}\n",
       "  & percentage & Biosample.term.name\\\\\n",
       "  & <dbl> & <fct>\\\\\n",
       "\\hline\n",
       "\tENCSR634YVQ & 0.7058698 & HK-2                                     \\\\\n",
       "\tENCSR954AJK & 0.7681722 & Peyer's patch                            \\\\\n",
       "\tENCSR000ELJ & 0.7735980 & osteoblast                               \\\\\n",
       "\tENCSR000EID & 0.7748222 & 8988T                                    \\\\\n",
       "\tENCSR000EMI & 0.7874387 & Caco-2                                   \\\\\n",
       "\tENCSR000EJN & 0.7893315 & H1                                       \\\\\n",
       "\tENCSR000EMK & 0.7956902 & hematopoietic multipotent progenitor cell\\\\\n",
       "\tENCSR251UPG & 0.8132079 & foreskin fibroblast                      \\\\\n",
       "\tENCSR000EIG & 0.8172192 & T-helper 1 cell                          \\\\\n",
       "\tENCSR431UEM & 0.8241552 & left leg bone                            \\\\\n",
       "\tENCSR000EIL & 0.8256838 & chorion                                  \\\\\n",
       "\tENCSR772HUG & 0.8511608 & common myeloid progenitor, CD34-positive \\\\\n",
       "\tENCSR000EKT & 0.8647744 & LNCaP clone FGC                          \\\\\n",
       "\tENCSR141IUS & 0.8657113 & lung                                     \\\\\n",
       "\tENCSR000EJF & 0.8668545 & GM12892                                  \\\\\n",
       "\tENCSR449HOQ & 0.8676522 & right leg bone                           \\\\\n",
       "\tENCSR000EQN & 0.8709241 & WI38                                     \\\\\n",
       "\tENCSR543YPH & 0.8767893 & left kidney                              \\\\\n",
       "\tENCSR274SDO & 0.8785624 & right arm bone                           \\\\\n",
       "\tENCSR850YHJ & 0.8803216 & spleen                                   \\\\\n",
       "\\end{tabular}\n"
      ],
      "text/markdown": [
       "\n",
       "A data.frame: 20 × 2\n",
       "\n",
       "| <!--/--> | percentage &lt;dbl&gt; | Biosample.term.name &lt;fct&gt; |\n",
       "|---|---|---|\n",
       "| ENCSR634YVQ | 0.7058698 | HK-2                                      |\n",
       "| ENCSR954AJK | 0.7681722 | Peyer's patch                             |\n",
       "| ENCSR000ELJ | 0.7735980 | osteoblast                                |\n",
       "| ENCSR000EID | 0.7748222 | 8988T                                     |\n",
       "| ENCSR000EMI | 0.7874387 | Caco-2                                    |\n",
       "| ENCSR000EJN | 0.7893315 | H1                                        |\n",
       "| ENCSR000EMK | 0.7956902 | hematopoietic multipotent progenitor cell |\n",
       "| ENCSR251UPG | 0.8132079 | foreskin fibroblast                       |\n",
       "| ENCSR000EIG | 0.8172192 | T-helper 1 cell                           |\n",
       "| ENCSR431UEM | 0.8241552 | left leg bone                             |\n",
       "| ENCSR000EIL | 0.8256838 | chorion                                   |\n",
       "| ENCSR772HUG | 0.8511608 | common myeloid progenitor, CD34-positive  |\n",
       "| ENCSR000EKT | 0.8647744 | LNCaP clone FGC                           |\n",
       "| ENCSR141IUS | 0.8657113 | lung                                      |\n",
       "| ENCSR000EJF | 0.8668545 | GM12892                                   |\n",
       "| ENCSR449HOQ | 0.8676522 | right leg bone                            |\n",
       "| ENCSR000EQN | 0.8709241 | WI38                                      |\n",
       "| ENCSR543YPH | 0.8767893 | left kidney                               |\n",
       "| ENCSR274SDO | 0.8785624 | right arm bone                            |\n",
       "| ENCSR850YHJ | 0.8803216 | spleen                                    |\n",
       "\n"
      ],
      "text/plain": [
       "            percentage Biosample.term.name                      \n",
       "ENCSR634YVQ 0.7058698  HK-2                                     \n",
       "ENCSR954AJK 0.7681722  Peyer's patch                            \n",
       "ENCSR000ELJ 0.7735980  osteoblast                               \n",
       "ENCSR000EID 0.7748222  8988T                                    \n",
       "ENCSR000EMI 0.7874387  Caco-2                                   \n",
       "ENCSR000EJN 0.7893315  H1                                       \n",
       "ENCSR000EMK 0.7956902  hematopoietic multipotent progenitor cell\n",
       "ENCSR251UPG 0.8132079  foreskin fibroblast                      \n",
       "ENCSR000EIG 0.8172192  T-helper 1 cell                          \n",
       "ENCSR431UEM 0.8241552  left leg bone                            \n",
       "ENCSR000EIL 0.8256838  chorion                                  \n",
       "ENCSR772HUG 0.8511608  common myeloid progenitor, CD34-positive \n",
       "ENCSR000EKT 0.8647744  LNCaP clone FGC                          \n",
       "ENCSR141IUS 0.8657113  lung                                     \n",
       "ENCSR000EJF 0.8668545  GM12892                                  \n",
       "ENCSR449HOQ 0.8676522  right leg bone                           \n",
       "ENCSR000EQN 0.8709241  WI38                                     \n",
       "ENCSR543YPH 0.8767893  left kidney                              \n",
       "ENCSR274SDO 0.8785624  right arm bone                           \n",
       "ENCSR850YHJ 0.8803216  spleen                                   "
      ]
     },
     "metadata": {},
     "output_type": "display_data"
    }
   ],
   "source": [
    "head(df[order(df$percentage), ], 20)"
   ]
  },
  {
   "cell_type": "code",
   "execution_count": null,
   "metadata": {},
   "outputs": [],
   "source": []
  }
 ],
 "metadata": {
  "kernelspec": {
   "display_name": "R",
   "language": "R",
   "name": "ir"
  },
  "language_info": {
   "codemirror_mode": "r",
   "file_extension": ".r",
   "mimetype": "text/x-r-source",
   "name": "R",
   "pygments_lexer": "r",
   "version": "3.5.1"
  }
 },
 "nbformat": 4,
 "nbformat_minor": 2
}
