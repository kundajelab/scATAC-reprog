{
 "cells": [
  {
   "cell_type": "markdown",
   "metadata": {},
   "source": [
    "# ENCODE Subset Peaks\n",
    "\n",
    "Given a subset of peaks, find out which cells in ENCODE have highest/lowest fraction of reads in those peaks."
   ]
  },
  {
   "cell_type": "code",
   "execution_count": 1,
   "metadata": {},
   "outputs": [],
   "source": [
    "library(GenomicRanges)"
   ]
  },
  {
   "cell_type": "code",
   "execution_count": 2,
   "metadata": {},
   "outputs": [
    {
     "data": {
      "text/html": [
       "<table>\n",
       "<caption>A data.frame: 2 × 622</caption>\n",
       "<thead>\n",
       "\t<tr><th></th><th scope=col>ENCSR000EID</th><th scope=col>ENCSR000EIE</th><th scope=col>ENCSR000EIF</th><th scope=col>ENCSR000EIG</th><th scope=col>ENCSR000EII</th><th scope=col>ENCSR000EIL</th><th scope=col>ENCSR000EIN</th><th scope=col>ENCSR000EIV</th><th scope=col>ENCSR000EIW</th><th scope=col>ENCSR000EIY</th><th scope=col>⋯</th><th scope=col>ENCSR974TXT</th><th scope=col>ENCSR976XOY</th><th scope=col>ENCSR978QUT</th><th scope=col>ENCSR979ZJS</th><th scope=col>ENCSR986HEN</th><th scope=col>ENCSR986XLW</th><th scope=col>ENCSR988YKR</th><th scope=col>ENCSR989YIV</th><th scope=col>ENCSR990XXC</th><th scope=col>ENCSR999TSD</th></tr>\n",
       "\t<tr><th></th><th scope=col>&lt;int&gt;</th><th scope=col>&lt;int&gt;</th><th scope=col>&lt;int&gt;</th><th scope=col>&lt;int&gt;</th><th scope=col>&lt;int&gt;</th><th scope=col>&lt;int&gt;</th><th scope=col>&lt;int&gt;</th><th scope=col>&lt;int&gt;</th><th scope=col>&lt;int&gt;</th><th scope=col>&lt;int&gt;</th><th scope=col>⋯</th><th scope=col>&lt;int&gt;</th><th scope=col>&lt;int&gt;</th><th scope=col>&lt;int&gt;</th><th scope=col>&lt;int&gt;</th><th scope=col>&lt;int&gt;</th><th scope=col>&lt;int&gt;</th><th scope=col>&lt;int&gt;</th><th scope=col>&lt;int&gt;</th><th scope=col>&lt;int&gt;</th><th scope=col>&lt;int&gt;</th></tr>\n",
       "</thead>\n",
       "<tbody>\n",
       "\t<tr><th scope=row>chr1\t10370\t10641</th><td>28</td><td>9</td><td>17</td><td>8</td><td>49</td><td>28</td><td>7</td><td>11</td><td>20</td><td>33</td><td>⋯</td><td>2</td><td>1</td><td>0</td><td>3</td><td>2</td><td>12</td><td>0</td><td>15</td><td>3</td><td>1</td></tr>\n",
       "\t<tr><th scope=row>chr1\t10711\t11232</th><td>12</td><td>9</td><td> 5</td><td>9</td><td>44</td><td>39</td><td>2</td><td> 7</td><td>13</td><td>27</td><td>⋯</td><td>0</td><td>1</td><td>0</td><td>1</td><td>1</td><td> 2</td><td>0</td><td> 9</td><td>1</td><td>0</td></tr>\n",
       "</tbody>\n",
       "</table>\n"
      ],
      "text/latex": [
       "A data.frame: 2 × 622\n",
       "\\begin{tabular}{r|lllllllllllllllllllll}\n",
       "  & ENCSR000EID & ENCSR000EIE & ENCSR000EIF & ENCSR000EIG & ENCSR000EII & ENCSR000EIL & ENCSR000EIN & ENCSR000EIV & ENCSR000EIW & ENCSR000EIY & ⋯ & ENCSR974TXT & ENCSR976XOY & ENCSR978QUT & ENCSR979ZJS & ENCSR986HEN & ENCSR986XLW & ENCSR988YKR & ENCSR989YIV & ENCSR990XXC & ENCSR999TSD\\\\\n",
       "  & <int> & <int> & <int> & <int> & <int> & <int> & <int> & <int> & <int> & <int> & ⋯ & <int> & <int> & <int> & <int> & <int> & <int> & <int> & <int> & <int> & <int>\\\\\n",
       "\\hline\n",
       "\tchr1\t10370\t10641 & 28 & 9 & 17 & 8 & 49 & 28 & 7 & 11 & 20 & 33 & ⋯ & 2 & 1 & 0 & 3 & 2 & 12 & 0 & 15 & 3 & 1\\\\\n",
       "\tchr1\t10711\t11232 & 12 & 9 &  5 & 9 & 44 & 39 & 2 &  7 & 13 & 27 & ⋯ & 0 & 1 & 0 & 1 & 1 &  2 & 0 &  9 & 1 & 0\\\\\n",
       "\\end{tabular}\n"
      ],
      "text/markdown": [
       "\n",
       "A data.frame: 2 × 622\n",
       "\n",
       "| <!--/--> | ENCSR000EID &lt;int&gt; | ENCSR000EIE &lt;int&gt; | ENCSR000EIF &lt;int&gt; | ENCSR000EIG &lt;int&gt; | ENCSR000EII &lt;int&gt; | ENCSR000EIL &lt;int&gt; | ENCSR000EIN &lt;int&gt; | ENCSR000EIV &lt;int&gt; | ENCSR000EIW &lt;int&gt; | ENCSR000EIY &lt;int&gt; | ⋯ ⋯ | ENCSR974TXT &lt;int&gt; | ENCSR976XOY &lt;int&gt; | ENCSR978QUT &lt;int&gt; | ENCSR979ZJS &lt;int&gt; | ENCSR986HEN &lt;int&gt; | ENCSR986XLW &lt;int&gt; | ENCSR988YKR &lt;int&gt; | ENCSR989YIV &lt;int&gt; | ENCSR990XXC &lt;int&gt; | ENCSR999TSD &lt;int&gt; |\n",
       "|---|---|---|---|---|---|---|---|---|---|---|---|---|---|---|---|---|---|---|---|---|---|\n",
       "| chr1\t10370\t10641 | 28 | 9 | 17 | 8 | 49 | 28 | 7 | 11 | 20 | 33 | ⋯ | 2 | 1 | 0 | 3 | 2 | 12 | 0 | 15 | 3 | 1 |\n",
       "| chr1\t10711\t11232 | 12 | 9 |  5 | 9 | 44 | 39 | 2 |  7 | 13 | 27 | ⋯ | 0 | 1 | 0 | 1 | 1 |  2 | 0 |  9 | 1 | 0 |\n",
       "\n"
      ],
      "text/plain": [
       "                   ENCSR000EID ENCSR000EIE ENCSR000EIF ENCSR000EIG ENCSR000EII\n",
       "chr1\\t10370\\t10641 28          9           17          8           49         \n",
       "chr1\\t10711\\t11232 12          9            5          9           44         \n",
       "                   ENCSR000EIL ENCSR000EIN ENCSR000EIV ENCSR000EIW ENCSR000EIY\n",
       "chr1\\t10370\\t10641 28          7           11          20          33         \n",
       "chr1\\t10711\\t11232 39          2            7          13          27         \n",
       "                   ⋯ ENCSR974TXT ENCSR976XOY ENCSR978QUT ENCSR979ZJS\n",
       "chr1\\t10370\\t10641 ⋯ 2           1           0           3          \n",
       "chr1\\t10711\\t11232 ⋯ 0           1           0           1          \n",
       "                   ENCSR986HEN ENCSR986XLW ENCSR988YKR ENCSR989YIV ENCSR990XXC\n",
       "chr1\\t10370\\t10641 2           12          0           15          3          \n",
       "chr1\\t10711\\t11232 1            2          0            9          1          \n",
       "                   ENCSR999TSD\n",
       "chr1\\t10370\\t10641 1          \n",
       "chr1\\t10711\\t11232 0          "
      ]
     },
     "metadata": {},
     "output_type": "display_data"
    },
    {
     "data": {
      "text/html": [
       "<style>\n",
       ".list-inline {list-style: none; margin:0; padding: 0}\n",
       ".list-inline>li {display: inline-block}\n",
       ".list-inline>li:not(:last-child)::after {content: \"\\00b7\"; padding: 0 .5ex}\n",
       "</style>\n",
       "<ol class=list-inline><li>2027128</li><li>622</li></ol>\n"
      ],
      "text/latex": [
       "\\begin{enumerate*}\n",
       "\\item 2027128\n",
       "\\item 622\n",
       "\\end{enumerate*}\n"
      ],
      "text/markdown": [
       "1. 2027128\n",
       "2. 622\n",
       "\n",
       "\n"
      ],
      "text/plain": [
       "[1] 2027128     622"
      ]
     },
     "metadata": {},
     "output_type": "display_data"
    }
   ],
   "source": [
    "# load encode counts matrix\n",
    "cts <- read.csv(\"/oak/stanford/groups/akundaje/projects/atlas/counts_matrices/atlas.dnase.overlap.counts.txt\",sep=\"\\t\")\n",
    "rownames(cts)=paste(cts$chr,cts$start,cts$end,sep='\\t')\n",
    "cts$chrom = NULL\n",
    "cts$start = NULL\n",
    "cts$end = NULL\n",
    "head(cts, 2)\n",
    "dim(cts)"
   ]
  },
  {
   "cell_type": "code",
   "execution_count": 3,
   "metadata": {},
   "outputs": [],
   "source": [
    "encode_peaks_gr = GRanges(sub(\"\\t\", \"-\", sub(\"\\t\", \":\", rownames(cts))))"
   ]
  },
  {
   "cell_type": "code",
   "execution_count": 4,
   "metadata": {},
   "outputs": [
    {
     "data": {
      "text/plain": [
       "GRanges object with 6 ranges and 0 metadata columns:\n",
       "      seqnames      ranges strand\n",
       "         <Rle>   <IRanges>  <Rle>\n",
       "  [1]     chr1 10370-10641      *\n",
       "  [2]     chr1 10711-11232      *\n",
       "  [3]     chr1 11308-11533      *\n",
       "  [4]     chr1 14499-14700      *\n",
       "  [5]     chr1 16142-16349      *\n",
       "  [6]     chr1 25958-26158      *\n",
       "  -------\n",
       "  seqinfo: 24 sequences from an unspecified genome; no seqlengths"
      ]
     },
     "metadata": {},
     "output_type": "display_data"
    }
   ],
   "source": [
    "head(encode_peaks_gr)"
   ]
  },
  {
   "cell_type": "code",
   "execution_count": 5,
   "metadata": {},
   "outputs": [
    {
     "data": {
      "text/plain": [
       "NULL"
      ]
     },
     "metadata": {},
     "output_type": "display_data"
    }
   ],
   "source": [
    "colnames(metadata)"
   ]
  },
  {
   "cell_type": "code",
   "execution_count": 6,
   "metadata": {},
   "outputs": [
    {
     "data": {
      "text/html": [
       "<table>\n",
       "<caption>A data.frame: 6 × 2</caption>\n",
       "<thead>\n",
       "\t<tr><th></th><th scope=col>Biosample.summary</th><th scope=col>Biosample.term.name</th></tr>\n",
       "\t<tr><th></th><th scope=col>&lt;fct&gt;</th><th scope=col>&lt;fct&gt;</th></tr>\n",
       "</thead>\n",
       "<tbody>\n",
       "\t<tr><th scope=row>ENCSR728BAD</th><td>adrenal gland male embryo (108 days)                                  </td><td>adrenal gland                   </td></tr>\n",
       "\t<tr><th scope=row>ENCSR724CND</th><td>foreskin keratinocyte male newborn                                    </td><td>foreskin keratinocyte           </td></tr>\n",
       "\t<tr><th scope=row>ENCSR770DEN</th><td>fibroblast of skin of scalp male embryo (97 days)                     </td><td>fibroblast of skin of scalp     </td></tr>\n",
       "\t<tr><th scope=row>ENCSR594OWA</th><td>small intestine male embryo (91 day)                                  </td><td>small intestine                 </td></tr>\n",
       "\t<tr><th scope=row>ENCSR325LYJ</th><td>fibroblast of skin of upper back male embryo (97 days)                </td><td>fibroblast of skin of upper back</td></tr>\n",
       "\t<tr><th scope=row>ENCSR257CIZ</th><td>kidney tubule cell female adult (80 years) treated with 5 μM cisplatin</td><td>kidney tubule cell              </td></tr>\n",
       "</tbody>\n",
       "</table>\n"
      ],
      "text/latex": [
       "A data.frame: 6 × 2\n",
       "\\begin{tabular}{r|ll}\n",
       "  & Biosample.summary & Biosample.term.name\\\\\n",
       "  & <fct> & <fct>\\\\\n",
       "\\hline\n",
       "\tENCSR728BAD & adrenal gland male embryo (108 days)                                   & adrenal gland                   \\\\\n",
       "\tENCSR724CND & foreskin keratinocyte male newborn                                     & foreskin keratinocyte           \\\\\n",
       "\tENCSR770DEN & fibroblast of skin of scalp male embryo (97 days)                      & fibroblast of skin of scalp     \\\\\n",
       "\tENCSR594OWA & small intestine male embryo (91 day)                                   & small intestine                 \\\\\n",
       "\tENCSR325LYJ & fibroblast of skin of upper back male embryo (97 days)                 & fibroblast of skin of upper back\\\\\n",
       "\tENCSR257CIZ & kidney tubule cell female adult (80 years) treated with 5 μM cisplatin & kidney tubule cell              \\\\\n",
       "\\end{tabular}\n"
      ],
      "text/markdown": [
       "\n",
       "A data.frame: 6 × 2\n",
       "\n",
       "| <!--/--> | Biosample.summary &lt;fct&gt; | Biosample.term.name &lt;fct&gt; |\n",
       "|---|---|---|\n",
       "| ENCSR728BAD | adrenal gland male embryo (108 days)                                   | adrenal gland                    |\n",
       "| ENCSR724CND | foreskin keratinocyte male newborn                                     | foreskin keratinocyte            |\n",
       "| ENCSR770DEN | fibroblast of skin of scalp male embryo (97 days)                      | fibroblast of skin of scalp      |\n",
       "| ENCSR594OWA | small intestine male embryo (91 day)                                   | small intestine                  |\n",
       "| ENCSR325LYJ | fibroblast of skin of upper back male embryo (97 days)                 | fibroblast of skin of upper back |\n",
       "| ENCSR257CIZ | kidney tubule cell female adult (80 years) treated with 5 μM cisplatin | kidney tubule cell               |\n",
       "\n"
      ],
      "text/plain": [
       "            Biosample.summary                                                     \n",
       "ENCSR728BAD adrenal gland male embryo (108 days)                                  \n",
       "ENCSR724CND foreskin keratinocyte male newborn                                    \n",
       "ENCSR770DEN fibroblast of skin of scalp male embryo (97 days)                     \n",
       "ENCSR594OWA small intestine male embryo (91 day)                                  \n",
       "ENCSR325LYJ fibroblast of skin of upper back male embryo (97 days)                \n",
       "ENCSR257CIZ kidney tubule cell female adult (80 years) treated with 5 μM cisplatin\n",
       "            Biosample.term.name             \n",
       "ENCSR728BAD adrenal gland                   \n",
       "ENCSR724CND foreskin keratinocyte           \n",
       "ENCSR770DEN fibroblast of skin of scalp     \n",
       "ENCSR594OWA small intestine                 \n",
       "ENCSR325LYJ fibroblast of skin of upper back\n",
       "ENCSR257CIZ kidney tubule cell              "
      ]
     },
     "metadata": {},
     "output_type": "display_data"
    }
   ],
   "source": [
    "# ENCODE metadata\n",
    "metadata = read.delim(\"/oak/stanford/groups/akundaje/projects/atlas/dnase_experiments_metadata.tsv\", \n",
    "                      sep=\"\\t\",\n",
    "                     skip=1,\n",
    "                     header=T,\n",
    "                     fill=T)\n",
    "metadata = metadata[, c(\"Accession\", \"Biosample.summary\", \"Biosample.term.name\")]\n",
    "rownames(metadata) = metadata$Accession\n",
    "metadata$Accession = NULL\n",
    "head(metadata)"
   ]
  },
  {
   "cell_type": "code",
   "execution_count": 43,
   "metadata": {},
   "outputs": [
    {
     "data": {
      "text/plain": [
       "GRanges object with 6 ranges and 0 metadata columns:\n",
       "      seqnames          ranges strand\n",
       "         <Rle>       <IRanges>  <Rle>\n",
       "  [1]     chr1   180686-181260      *\n",
       "  [2]     chr1   181268-181597      *\n",
       "  [3]     chr1   629283-630067      *\n",
       "  [4]     chr1   779776-780009      *\n",
       "  [5]     chr1   876480-877139      *\n",
       "  [6]     chr1 1014931-1015131      *\n",
       "  -------\n",
       "  seqinfo: 24 sequences from an unspecified genome; no seqlengths"
      ]
     },
     "metadata": {},
     "output_type": "display_data"
    }
   ],
   "source": [
    "# ref peaks\n",
    "peak_set = read.table(\"./beds/20200305_heatmap_bulk_n15/idx11.bed\",\n",
    "                      header=F, sep='')\n",
    "colnames(peak_set) = c(\"chr\", \"start\", \"end\")\n",
    "peak_set = makeGRangesFromDataFrame(peak_set)\n",
    "head(peak_set)"
   ]
  },
  {
   "cell_type": "code",
   "execution_count": 44,
   "metadata": {},
   "outputs": [
    {
     "data": {
      "text/plain": [
       "Hits object with 36153 hits and 0 metadata columns:\n",
       "          queryHits subjectHits\n",
       "          <integer>   <integer>\n",
       "      [1]        47           1\n",
       "      [2]        47           2\n",
       "      [3]        80           3\n",
       "      [4]        91           4\n",
       "      [5]        92           4\n",
       "      ...       ...         ...\n",
       "  [36149]   2025758       35917\n",
       "  [36150]   2025759       35917\n",
       "  [36151]   2025805       35919\n",
       "  [36152]   2025817       35920\n",
       "  [36153]   2025933       35921\n",
       "  -------\n",
       "  queryLength: 2027128 / subjectLength: 35921"
      ]
     },
     "metadata": {},
     "output_type": "display_data"
    }
   ],
   "source": [
    "overlaps = findOverlaps(encode_peaks_gr, peak_set)\n",
    "overlaps"
   ]
  },
  {
   "cell_type": "code",
   "execution_count": 45,
   "metadata": {},
   "outputs": [
    {
     "data": {
      "text/html": [
       "33104"
      ],
      "text/latex": [
       "33104"
      ],
      "text/markdown": [
       "33104"
      ],
      "text/plain": [
       "[1] 33104"
      ]
     },
     "metadata": {},
     "output_type": "display_data"
    }
   ],
   "source": [
    "length(unique(queryHits(overlaps)))"
   ]
  },
  {
   "cell_type": "code",
   "execution_count": 46,
   "metadata": {},
   "outputs": [],
   "source": [
    "frac_reads_in_peak_set = colSums(cts[unique(queryHits(overlaps)),])/colSums(cts)"
   ]
  },
  {
   "cell_type": "code",
   "execution_count": 47,
   "metadata": {},
   "outputs": [
    {
     "data": {
      "text/html": [
       "<table>\n",
       "<caption>A data.frame: 100 × 2</caption>\n",
       "<thead>\n",
       "\t<tr><th></th><th scope=col>percentage</th><th scope=col>Biosample.term.name</th></tr>\n",
       "\t<tr><th></th><th scope=col>&lt;dbl&gt;</th><th scope=col>&lt;fct&gt;</th></tr>\n",
       "</thead>\n",
       "<tbody>\n",
       "\t<tr><th scope=row>ENCSR000EJN</th><td>11.294326</td><td>H1                                       </td></tr>\n",
       "\t<tr><th scope=row>ENCSR768OLL</th><td> 9.969825</td><td>right kidney                             </td></tr>\n",
       "\t<tr><th scope=row>ENCSR678ILN</th><td> 9.776650</td><td>ELF-1                                    </td></tr>\n",
       "\t<tr><th scope=row>ENCSR550UWM</th><td> 9.705937</td><td>renal cortex interstitium                </td></tr>\n",
       "\t<tr><th scope=row>ENCSR543YPH</th><td> 9.704760</td><td>left kidney                              </td></tr>\n",
       "\t<tr><th scope=row>ENCSR000EMK</th><td> 9.522283</td><td>hematopoietic multipotent progenitor cell</td></tr>\n",
       "\t<tr><th scope=row>ENCSR261SMF</th><td> 9.453133</td><td>iPS DF 6.9                               </td></tr>\n",
       "\t<tr><th scope=row>ENCSR757EPJ</th><td> 9.421580</td><td>kidney                                   </td></tr>\n",
       "\t<tr><th scope=row>ENCSR792ZXA</th><td> 9.417800</td><td>kidney                                   </td></tr>\n",
       "\t<tr><th scope=row>ENCSR873ANE</th><td> 9.416776</td><td>kidney                                   </td></tr>\n",
       "\t<tr><th scope=row>ENCSR000EID</th><td> 9.268335</td><td>8988T                                    </td></tr>\n",
       "\t<tr><th scope=row>ENCSR332BSB</th><td> 9.124446</td><td>right kidney                             </td></tr>\n",
       "\t<tr><th scope=row>ENCSR022ECC</th><td> 9.088911</td><td>renal cortex interstitium                </td></tr>\n",
       "\t<tr><th scope=row>ENCSR155NPL</th><td> 9.060488</td><td>renal cortex interstitium                </td></tr>\n",
       "\t<tr><th scope=row>ENCSR014FPY</th><td> 9.050673</td><td>iPS DF 4.7                               </td></tr>\n",
       "\t<tr><th scope=row>ENCSR772HUG</th><td> 9.048583</td><td>common myeloid progenitor, CD34-positive </td></tr>\n",
       "\t<tr><th scope=row>ENCSR129KIV</th><td> 9.025653</td><td>renal cortex interstitium                </td></tr>\n",
       "\t<tr><th scope=row>ENCSR932DHT</th><td> 8.982842</td><td>renal cortex interstitium                </td></tr>\n",
       "\t<tr><th scope=row>ENCSR000EMU</th><td> 8.966713</td><td>H1                                       </td></tr>\n",
       "\t<tr><th scope=row>ENCSR000EIL</th><td> 8.949404</td><td>chorion                                  </td></tr>\n",
       "\t<tr><th scope=row>ENCSR440QMR</th><td> 8.897325</td><td>iPS DF 19.7                              </td></tr>\n",
       "\t<tr><th scope=row>ENCSR036VRV</th><td> 8.892689</td><td>right kidney                             </td></tr>\n",
       "\t<tr><th scope=row>ENCSR268QCH</th><td> 8.840503</td><td>right renal cortex interstitium          </td></tr>\n",
       "\t<tr><th scope=row>ENCSR141DMX</th><td> 8.836242</td><td>renal pelvis                             </td></tr>\n",
       "\t<tr><th scope=row>ENCSR275ICP</th><td> 8.820224</td><td>H9                                       </td></tr>\n",
       "\t<tr><th scope=row>ENCSR911YVV</th><td> 8.817893</td><td>renal pelvis                             </td></tr>\n",
       "\t<tr><th scope=row>ENCSR953XJU</th><td> 8.795094</td><td>left kidney                              </td></tr>\n",
       "\t<tr><th scope=row>ENCSR141IUS</th><td> 8.776993</td><td>lung                                     </td></tr>\n",
       "\t<tr><th scope=row>ENCSR580OAH</th><td> 8.773515</td><td>renal pelvis                             </td></tr>\n",
       "\t<tr><th scope=row>ENCSR851ZFT</th><td> 8.771244</td><td>renal cortex interstitium                </td></tr>\n",
       "\t<tr><th scope=row>⋮</th><td>⋮</td><td>⋮</td></tr>\n",
       "\t<tr><th scope=row>ENCSR457ILW</th><td>8.283231</td><td>small intestine                         </td></tr>\n",
       "\t<tr><th scope=row>ENCSR318JAA</th><td>8.278939</td><td>left renal pelvis                       </td></tr>\n",
       "\t<tr><th scope=row>ENCSR271QSV</th><td>8.273102</td><td>common myeloid progenitor, CD34-positive</td></tr>\n",
       "\t<tr><th scope=row>ENCSR468ZXN</th><td>8.266263</td><td>common myeloid progenitor, CD34-positive</td></tr>\n",
       "\t<tr><th scope=row>ENCSR000EKE</th><td>8.255982</td><td>HuH-7.5                                 </td></tr>\n",
       "\t<tr><th scope=row>ENCSR762FCX</th><td>8.253589</td><td>large intestine                         </td></tr>\n",
       "\t<tr><th scope=row>ENCSR106OKX</th><td>8.237491</td><td>kidney                                  </td></tr>\n",
       "\t<tr><th scope=row>ENCSR000EJP</th><td>8.236484</td><td>H9                                      </td></tr>\n",
       "\t<tr><th scope=row>ENCSR554WUJ</th><td>8.228403</td><td>renal pelvis                            </td></tr>\n",
       "\t<tr><th scope=row>ENCSR915BSC</th><td>8.227398</td><td>H9                                      </td></tr>\n",
       "\t<tr><th scope=row>ENCSR000EKV</th><td>8.208761</td><td>MCF-7                                   </td></tr>\n",
       "\t<tr><th scope=row>ENCSR039ZVQ</th><td>8.196705</td><td>left renal cortex interstitium          </td></tr>\n",
       "\t<tr><th scope=row>ENCSR320TUJ</th><td>8.186161</td><td>common myeloid progenitor, CD34-positive</td></tr>\n",
       "\t<tr><th scope=row>ENCSR000EII</th><td>8.155020</td><td>B cell                                  </td></tr>\n",
       "\t<tr><th scope=row>ENCSR263IGU</th><td>8.150374</td><td>right lung                              </td></tr>\n",
       "\t<tr><th scope=row>ENCSR943SYS</th><td>8.150267</td><td>H9                                      </td></tr>\n",
       "\t<tr><th scope=row>ENCSR524DWS</th><td>8.128682</td><td>renal cortex interstitium               </td></tr>\n",
       "\t<tr><th scope=row>ENCSR761ZFA</th><td>8.114288</td><td>right renal pelvis                      </td></tr>\n",
       "\t<tr><th scope=row>ENCSR174JMM</th><td>8.107199</td><td>heart                                   </td></tr>\n",
       "\t<tr><th scope=row>ENCSR970ZLG</th><td>8.102320</td><td>small intestine                         </td></tr>\n",
       "\t<tr><th scope=row>ENCSR428XAX</th><td>8.084799</td><td>ovary                                   </td></tr>\n",
       "\t<tr><th scope=row>ENCSR016THC</th><td>8.076513</td><td>left renal pelvis                       </td></tr>\n",
       "\t<tr><th scope=row>ENCSR000EKF</th><td>8.069604</td><td>endothelial cell of umbilical vein      </td></tr>\n",
       "\t<tr><th scope=row>ENCSR082XEU</th><td>8.067193</td><td>stomach                                 </td></tr>\n",
       "\t<tr><th scope=row>ENCSR193LYA</th><td>8.044347</td><td>muscle of back                          </td></tr>\n",
       "\t<tr><th scope=row>ENCSR645GJD</th><td>8.018858</td><td>kidney                                  </td></tr>\n",
       "\t<tr><th scope=row>ENCSR887BNC</th><td>8.018209</td><td>right renal cortex interstitium         </td></tr>\n",
       "\t<tr><th scope=row>ENCSR000EMV</th><td>8.014654</td><td>cardiac myoblast                        </td></tr>\n",
       "\t<tr><th scope=row>ENCSR414ZUA</th><td>8.012371</td><td>right kidney                            </td></tr>\n",
       "\t<tr><th scope=row>ENCSR956ZHU</th><td>8.010813</td><td>renal pelvis                            </td></tr>\n",
       "</tbody>\n",
       "</table>\n"
      ],
      "text/latex": [
       "A data.frame: 100 × 2\n",
       "\\begin{tabular}{r|ll}\n",
       "  & percentage & Biosample.term.name\\\\\n",
       "  & <dbl> & <fct>\\\\\n",
       "\\hline\n",
       "\tENCSR000EJN & 11.294326 & H1                                       \\\\\n",
       "\tENCSR768OLL &  9.969825 & right kidney                             \\\\\n",
       "\tENCSR678ILN &  9.776650 & ELF-1                                    \\\\\n",
       "\tENCSR550UWM &  9.705937 & renal cortex interstitium                \\\\\n",
       "\tENCSR543YPH &  9.704760 & left kidney                              \\\\\n",
       "\tENCSR000EMK &  9.522283 & hematopoietic multipotent progenitor cell\\\\\n",
       "\tENCSR261SMF &  9.453133 & iPS DF 6.9                               \\\\\n",
       "\tENCSR757EPJ &  9.421580 & kidney                                   \\\\\n",
       "\tENCSR792ZXA &  9.417800 & kidney                                   \\\\\n",
       "\tENCSR873ANE &  9.416776 & kidney                                   \\\\\n",
       "\tENCSR000EID &  9.268335 & 8988T                                    \\\\\n",
       "\tENCSR332BSB &  9.124446 & right kidney                             \\\\\n",
       "\tENCSR022ECC &  9.088911 & renal cortex interstitium                \\\\\n",
       "\tENCSR155NPL &  9.060488 & renal cortex interstitium                \\\\\n",
       "\tENCSR014FPY &  9.050673 & iPS DF 4.7                               \\\\\n",
       "\tENCSR772HUG &  9.048583 & common myeloid progenitor, CD34-positive \\\\\n",
       "\tENCSR129KIV &  9.025653 & renal cortex interstitium                \\\\\n",
       "\tENCSR932DHT &  8.982842 & renal cortex interstitium                \\\\\n",
       "\tENCSR000EMU &  8.966713 & H1                                       \\\\\n",
       "\tENCSR000EIL &  8.949404 & chorion                                  \\\\\n",
       "\tENCSR440QMR &  8.897325 & iPS DF 19.7                              \\\\\n",
       "\tENCSR036VRV &  8.892689 & right kidney                             \\\\\n",
       "\tENCSR268QCH &  8.840503 & right renal cortex interstitium          \\\\\n",
       "\tENCSR141DMX &  8.836242 & renal pelvis                             \\\\\n",
       "\tENCSR275ICP &  8.820224 & H9                                       \\\\\n",
       "\tENCSR911YVV &  8.817893 & renal pelvis                             \\\\\n",
       "\tENCSR953XJU &  8.795094 & left kidney                              \\\\\n",
       "\tENCSR141IUS &  8.776993 & lung                                     \\\\\n",
       "\tENCSR580OAH &  8.773515 & renal pelvis                             \\\\\n",
       "\tENCSR851ZFT &  8.771244 & renal cortex interstitium                \\\\\n",
       "\t⋮ & ⋮ & ⋮\\\\\n",
       "\tENCSR457ILW & 8.283231 & small intestine                         \\\\\n",
       "\tENCSR318JAA & 8.278939 & left renal pelvis                       \\\\\n",
       "\tENCSR271QSV & 8.273102 & common myeloid progenitor, CD34-positive\\\\\n",
       "\tENCSR468ZXN & 8.266263 & common myeloid progenitor, CD34-positive\\\\\n",
       "\tENCSR000EKE & 8.255982 & HuH-7.5                                 \\\\\n",
       "\tENCSR762FCX & 8.253589 & large intestine                         \\\\\n",
       "\tENCSR106OKX & 8.237491 & kidney                                  \\\\\n",
       "\tENCSR000EJP & 8.236484 & H9                                      \\\\\n",
       "\tENCSR554WUJ & 8.228403 & renal pelvis                            \\\\\n",
       "\tENCSR915BSC & 8.227398 & H9                                      \\\\\n",
       "\tENCSR000EKV & 8.208761 & MCF-7                                   \\\\\n",
       "\tENCSR039ZVQ & 8.196705 & left renal cortex interstitium          \\\\\n",
       "\tENCSR320TUJ & 8.186161 & common myeloid progenitor, CD34-positive\\\\\n",
       "\tENCSR000EII & 8.155020 & B cell                                  \\\\\n",
       "\tENCSR263IGU & 8.150374 & right lung                              \\\\\n",
       "\tENCSR943SYS & 8.150267 & H9                                      \\\\\n",
       "\tENCSR524DWS & 8.128682 & renal cortex interstitium               \\\\\n",
       "\tENCSR761ZFA & 8.114288 & right renal pelvis                      \\\\\n",
       "\tENCSR174JMM & 8.107199 & heart                                   \\\\\n",
       "\tENCSR970ZLG & 8.102320 & small intestine                         \\\\\n",
       "\tENCSR428XAX & 8.084799 & ovary                                   \\\\\n",
       "\tENCSR016THC & 8.076513 & left renal pelvis                       \\\\\n",
       "\tENCSR000EKF & 8.069604 & endothelial cell of umbilical vein      \\\\\n",
       "\tENCSR082XEU & 8.067193 & stomach                                 \\\\\n",
       "\tENCSR193LYA & 8.044347 & muscle of back                          \\\\\n",
       "\tENCSR645GJD & 8.018858 & kidney                                  \\\\\n",
       "\tENCSR887BNC & 8.018209 & right renal cortex interstitium         \\\\\n",
       "\tENCSR000EMV & 8.014654 & cardiac myoblast                        \\\\\n",
       "\tENCSR414ZUA & 8.012371 & right kidney                            \\\\\n",
       "\tENCSR956ZHU & 8.010813 & renal pelvis                            \\\\\n",
       "\\end{tabular}\n"
      ],
      "text/markdown": [
       "\n",
       "A data.frame: 100 × 2\n",
       "\n",
       "| <!--/--> | percentage &lt;dbl&gt; | Biosample.term.name &lt;fct&gt; |\n",
       "|---|---|---|\n",
       "| ENCSR000EJN | 11.294326 | H1                                        |\n",
       "| ENCSR768OLL |  9.969825 | right kidney                              |\n",
       "| ENCSR678ILN |  9.776650 | ELF-1                                     |\n",
       "| ENCSR550UWM |  9.705937 | renal cortex interstitium                 |\n",
       "| ENCSR543YPH |  9.704760 | left kidney                               |\n",
       "| ENCSR000EMK |  9.522283 | hematopoietic multipotent progenitor cell |\n",
       "| ENCSR261SMF |  9.453133 | iPS DF 6.9                                |\n",
       "| ENCSR757EPJ |  9.421580 | kidney                                    |\n",
       "| ENCSR792ZXA |  9.417800 | kidney                                    |\n",
       "| ENCSR873ANE |  9.416776 | kidney                                    |\n",
       "| ENCSR000EID |  9.268335 | 8988T                                     |\n",
       "| ENCSR332BSB |  9.124446 | right kidney                              |\n",
       "| ENCSR022ECC |  9.088911 | renal cortex interstitium                 |\n",
       "| ENCSR155NPL |  9.060488 | renal cortex interstitium                 |\n",
       "| ENCSR014FPY |  9.050673 | iPS DF 4.7                                |\n",
       "| ENCSR772HUG |  9.048583 | common myeloid progenitor, CD34-positive  |\n",
       "| ENCSR129KIV |  9.025653 | renal cortex interstitium                 |\n",
       "| ENCSR932DHT |  8.982842 | renal cortex interstitium                 |\n",
       "| ENCSR000EMU |  8.966713 | H1                                        |\n",
       "| ENCSR000EIL |  8.949404 | chorion                                   |\n",
       "| ENCSR440QMR |  8.897325 | iPS DF 19.7                               |\n",
       "| ENCSR036VRV |  8.892689 | right kidney                              |\n",
       "| ENCSR268QCH |  8.840503 | right renal cortex interstitium           |\n",
       "| ENCSR141DMX |  8.836242 | renal pelvis                              |\n",
       "| ENCSR275ICP |  8.820224 | H9                                        |\n",
       "| ENCSR911YVV |  8.817893 | renal pelvis                              |\n",
       "| ENCSR953XJU |  8.795094 | left kidney                               |\n",
       "| ENCSR141IUS |  8.776993 | lung                                      |\n",
       "| ENCSR580OAH |  8.773515 | renal pelvis                              |\n",
       "| ENCSR851ZFT |  8.771244 | renal cortex interstitium                 |\n",
       "| ⋮ | ⋮ | ⋮ |\n",
       "| ENCSR457ILW | 8.283231 | small intestine                          |\n",
       "| ENCSR318JAA | 8.278939 | left renal pelvis                        |\n",
       "| ENCSR271QSV | 8.273102 | common myeloid progenitor, CD34-positive |\n",
       "| ENCSR468ZXN | 8.266263 | common myeloid progenitor, CD34-positive |\n",
       "| ENCSR000EKE | 8.255982 | HuH-7.5                                  |\n",
       "| ENCSR762FCX | 8.253589 | large intestine                          |\n",
       "| ENCSR106OKX | 8.237491 | kidney                                   |\n",
       "| ENCSR000EJP | 8.236484 | H9                                       |\n",
       "| ENCSR554WUJ | 8.228403 | renal pelvis                             |\n",
       "| ENCSR915BSC | 8.227398 | H9                                       |\n",
       "| ENCSR000EKV | 8.208761 | MCF-7                                    |\n",
       "| ENCSR039ZVQ | 8.196705 | left renal cortex interstitium           |\n",
       "| ENCSR320TUJ | 8.186161 | common myeloid progenitor, CD34-positive |\n",
       "| ENCSR000EII | 8.155020 | B cell                                   |\n",
       "| ENCSR263IGU | 8.150374 | right lung                               |\n",
       "| ENCSR943SYS | 8.150267 | H9                                       |\n",
       "| ENCSR524DWS | 8.128682 | renal cortex interstitium                |\n",
       "| ENCSR761ZFA | 8.114288 | right renal pelvis                       |\n",
       "| ENCSR174JMM | 8.107199 | heart                                    |\n",
       "| ENCSR970ZLG | 8.102320 | small intestine                          |\n",
       "| ENCSR428XAX | 8.084799 | ovary                                    |\n",
       "| ENCSR016THC | 8.076513 | left renal pelvis                        |\n",
       "| ENCSR000EKF | 8.069604 | endothelial cell of umbilical vein       |\n",
       "| ENCSR082XEU | 8.067193 | stomach                                  |\n",
       "| ENCSR193LYA | 8.044347 | muscle of back                           |\n",
       "| ENCSR645GJD | 8.018858 | kidney                                   |\n",
       "| ENCSR887BNC | 8.018209 | right renal cortex interstitium          |\n",
       "| ENCSR000EMV | 8.014654 | cardiac myoblast                         |\n",
       "| ENCSR414ZUA | 8.012371 | right kidney                             |\n",
       "| ENCSR956ZHU | 8.010813 | renal pelvis                             |\n",
       "\n"
      ],
      "text/plain": [
       "            percentage Biosample.term.name                      \n",
       "ENCSR000EJN 11.294326  H1                                       \n",
       "ENCSR768OLL  9.969825  right kidney                             \n",
       "ENCSR678ILN  9.776650  ELF-1                                    \n",
       "ENCSR550UWM  9.705937  renal cortex interstitium                \n",
       "ENCSR543YPH  9.704760  left kidney                              \n",
       "ENCSR000EMK  9.522283  hematopoietic multipotent progenitor cell\n",
       "ENCSR261SMF  9.453133  iPS DF 6.9                               \n",
       "ENCSR757EPJ  9.421580  kidney                                   \n",
       "ENCSR792ZXA  9.417800  kidney                                   \n",
       "ENCSR873ANE  9.416776  kidney                                   \n",
       "ENCSR000EID  9.268335  8988T                                    \n",
       "ENCSR332BSB  9.124446  right kidney                             \n",
       "ENCSR022ECC  9.088911  renal cortex interstitium                \n",
       "ENCSR155NPL  9.060488  renal cortex interstitium                \n",
       "ENCSR014FPY  9.050673  iPS DF 4.7                               \n",
       "ENCSR772HUG  9.048583  common myeloid progenitor, CD34-positive \n",
       "ENCSR129KIV  9.025653  renal cortex interstitium                \n",
       "ENCSR932DHT  8.982842  renal cortex interstitium                \n",
       "ENCSR000EMU  8.966713  H1                                       \n",
       "ENCSR000EIL  8.949404  chorion                                  \n",
       "ENCSR440QMR  8.897325  iPS DF 19.7                              \n",
       "ENCSR036VRV  8.892689  right kidney                             \n",
       "ENCSR268QCH  8.840503  right renal cortex interstitium          \n",
       "ENCSR141DMX  8.836242  renal pelvis                             \n",
       "ENCSR275ICP  8.820224  H9                                       \n",
       "ENCSR911YVV  8.817893  renal pelvis                             \n",
       "ENCSR953XJU  8.795094  left kidney                              \n",
       "ENCSR141IUS  8.776993  lung                                     \n",
       "ENCSR580OAH  8.773515  renal pelvis                             \n",
       "ENCSR851ZFT  8.771244  renal cortex interstitium                \n",
       "⋮           ⋮          ⋮                                        \n",
       "ENCSR457ILW 8.283231   small intestine                          \n",
       "ENCSR318JAA 8.278939   left renal pelvis                        \n",
       "ENCSR271QSV 8.273102   common myeloid progenitor, CD34-positive \n",
       "ENCSR468ZXN 8.266263   common myeloid progenitor, CD34-positive \n",
       "ENCSR000EKE 8.255982   HuH-7.5                                  \n",
       "ENCSR762FCX 8.253589   large intestine                          \n",
       "ENCSR106OKX 8.237491   kidney                                   \n",
       "ENCSR000EJP 8.236484   H9                                       \n",
       "ENCSR554WUJ 8.228403   renal pelvis                             \n",
       "ENCSR915BSC 8.227398   H9                                       \n",
       "ENCSR000EKV 8.208761   MCF-7                                    \n",
       "ENCSR039ZVQ 8.196705   left renal cortex interstitium           \n",
       "ENCSR320TUJ 8.186161   common myeloid progenitor, CD34-positive \n",
       "ENCSR000EII 8.155020   B cell                                   \n",
       "ENCSR263IGU 8.150374   right lung                               \n",
       "ENCSR943SYS 8.150267   H9                                       \n",
       "ENCSR524DWS 8.128682   renal cortex interstitium                \n",
       "ENCSR761ZFA 8.114288   right renal pelvis                       \n",
       "ENCSR174JMM 8.107199   heart                                    \n",
       "ENCSR970ZLG 8.102320   small intestine                          \n",
       "ENCSR428XAX 8.084799   ovary                                    \n",
       "ENCSR016THC 8.076513   left renal pelvis                        \n",
       "ENCSR000EKF 8.069604   endothelial cell of umbilical vein       \n",
       "ENCSR082XEU 8.067193   stomach                                  \n",
       "ENCSR193LYA 8.044347   muscle of back                           \n",
       "ENCSR645GJD 8.018858   kidney                                   \n",
       "ENCSR887BNC 8.018209   right renal cortex interstitium          \n",
       "ENCSR000EMV 8.014654   cardiac myoblast                         \n",
       "ENCSR414ZUA 8.012371   right kidney                             \n",
       "ENCSR956ZHU 8.010813   renal pelvis                             "
      ]
     },
     "metadata": {},
     "output_type": "display_data"
    }
   ],
   "source": [
    "df = data.frame(percentage=100*frac_reads_in_peak_set,\n",
    "               metadata[names(frac_reads_in_peak_set),])\n",
    "df = df[rev(order(df$percentage)), c(\"percentage\", \"Biosample.term.name\")]\n",
    "head(df, 100)"
   ]
  },
  {
   "cell_type": "code",
   "execution_count": 32,
   "metadata": {},
   "outputs": [
    {
     "data": {
      "text/html": [
       "<table>\n",
       "<caption>A data.frame: 20 × 2</caption>\n",
       "<thead>\n",
       "\t<tr><th></th><th scope=col>percentage</th><th scope=col>Biosample.term.name</th></tr>\n",
       "\t<tr><th></th><th scope=col>&lt;dbl&gt;</th><th scope=col>&lt;fct&gt;</th></tr>\n",
       "</thead>\n",
       "<tbody>\n",
       "\t<tr><th scope=row>ENCSR000EQN</th><td>0.9136016</td><td>WI38                               </td></tr>\n",
       "\t<tr><th scope=row>ENCSR251UPG</th><td>0.9643307</td><td>foreskin fibroblast                </td></tr>\n",
       "\t<tr><th scope=row>ENCSR000EQM</th><td>1.0955804</td><td>WI38                               </td></tr>\n",
       "\t<tr><th scope=row>ENCSR000EMP</th><td>1.1473194</td><td>GM04504                            </td></tr>\n",
       "\t<tr><th scope=row>ENCSR000EMA</th><td>1.1657149</td><td>AG09319                            </td></tr>\n",
       "\t<tr><th scope=row>ENCSR000EMG</th><td>1.2124468</td><td>HS-5                               </td></tr>\n",
       "\t<tr><th scope=row>ENCSR000EMO</th><td>1.2377387</td><td>GM04503                            </td></tr>\n",
       "\t<tr><th scope=row>ENCSR000EOI</th><td>1.2464393</td><td>fibroblast of peridontal ligament  </td></tr>\n",
       "\t<tr><th scope=row>ENCSR000EOJ</th><td>1.2577214</td><td>fibroblast of lung                 </td></tr>\n",
       "\t<tr><th scope=row>ENCSR000EMH</th><td>1.2693816</td><td>stromal cell of bone marrow        </td></tr>\n",
       "\t<tr><th scope=row>ENCSR038XTK</th><td>1.2783877</td><td>HCEC 1CT                           </td></tr>\n",
       "\t<tr><th scope=row>ENCSR000EME</th><td>1.2797698</td><td>BJ                                 </td></tr>\n",
       "\t<tr><th scope=row>ENCSR000ELY</th><td>1.2826828</td><td>AG04450                            </td></tr>\n",
       "\t<tr><th scope=row>ENCSR000EMF</th><td>1.2984010</td><td>HS-27A                             </td></tr>\n",
       "\t<tr><th scope=row>ENCSR360LBD</th><td>1.3095869</td><td>fibroblast of skin of scalp        </td></tr>\n",
       "\t<tr><th scope=row>ENCSR240TPI</th><td>1.3210384</td><td>ELR                                </td></tr>\n",
       "\t<tr><th scope=row>ENCSR548MMD</th><td>1.3267714</td><td>EH                                 </td></tr>\n",
       "\t<tr><th scope=row>ENCSR000ELZ</th><td>1.3456861</td><td>AG09309                            </td></tr>\n",
       "\t<tr><th scope=row>ENCSR000EMC</th><td>1.3505727</td><td>fibroblast of the aortic adventitia</td></tr>\n",
       "\t<tr><th scope=row>ENCSR000ENW</th><td>1.3531164</td><td>fibroblast of mammary gland        </td></tr>\n",
       "</tbody>\n",
       "</table>\n"
      ],
      "text/latex": [
       "A data.frame: 20 × 2\n",
       "\\begin{tabular}{r|ll}\n",
       "  & percentage & Biosample.term.name\\\\\n",
       "  & <dbl> & <fct>\\\\\n",
       "\\hline\n",
       "\tENCSR000EQN & 0.9136016 & WI38                               \\\\\n",
       "\tENCSR251UPG & 0.9643307 & foreskin fibroblast                \\\\\n",
       "\tENCSR000EQM & 1.0955804 & WI38                               \\\\\n",
       "\tENCSR000EMP & 1.1473194 & GM04504                            \\\\\n",
       "\tENCSR000EMA & 1.1657149 & AG09319                            \\\\\n",
       "\tENCSR000EMG & 1.2124468 & HS-5                               \\\\\n",
       "\tENCSR000EMO & 1.2377387 & GM04503                            \\\\\n",
       "\tENCSR000EOI & 1.2464393 & fibroblast of peridontal ligament  \\\\\n",
       "\tENCSR000EOJ & 1.2577214 & fibroblast of lung                 \\\\\n",
       "\tENCSR000EMH & 1.2693816 & stromal cell of bone marrow        \\\\\n",
       "\tENCSR038XTK & 1.2783877 & HCEC 1CT                           \\\\\n",
       "\tENCSR000EME & 1.2797698 & BJ                                 \\\\\n",
       "\tENCSR000ELY & 1.2826828 & AG04450                            \\\\\n",
       "\tENCSR000EMF & 1.2984010 & HS-27A                             \\\\\n",
       "\tENCSR360LBD & 1.3095869 & fibroblast of skin of scalp        \\\\\n",
       "\tENCSR240TPI & 1.3210384 & ELR                                \\\\\n",
       "\tENCSR548MMD & 1.3267714 & EH                                 \\\\\n",
       "\tENCSR000ELZ & 1.3456861 & AG09309                            \\\\\n",
       "\tENCSR000EMC & 1.3505727 & fibroblast of the aortic adventitia\\\\\n",
       "\tENCSR000ENW & 1.3531164 & fibroblast of mammary gland        \\\\\n",
       "\\end{tabular}\n"
      ],
      "text/markdown": [
       "\n",
       "A data.frame: 20 × 2\n",
       "\n",
       "| <!--/--> | percentage &lt;dbl&gt; | Biosample.term.name &lt;fct&gt; |\n",
       "|---|---|---|\n",
       "| ENCSR000EQN | 0.9136016 | WI38                                |\n",
       "| ENCSR251UPG | 0.9643307 | foreskin fibroblast                 |\n",
       "| ENCSR000EQM | 1.0955804 | WI38                                |\n",
       "| ENCSR000EMP | 1.1473194 | GM04504                             |\n",
       "| ENCSR000EMA | 1.1657149 | AG09319                             |\n",
       "| ENCSR000EMG | 1.2124468 | HS-5                                |\n",
       "| ENCSR000EMO | 1.2377387 | GM04503                             |\n",
       "| ENCSR000EOI | 1.2464393 | fibroblast of peridontal ligament   |\n",
       "| ENCSR000EOJ | 1.2577214 | fibroblast of lung                  |\n",
       "| ENCSR000EMH | 1.2693816 | stromal cell of bone marrow         |\n",
       "| ENCSR038XTK | 1.2783877 | HCEC 1CT                            |\n",
       "| ENCSR000EME | 1.2797698 | BJ                                  |\n",
       "| ENCSR000ELY | 1.2826828 | AG04450                             |\n",
       "| ENCSR000EMF | 1.2984010 | HS-27A                              |\n",
       "| ENCSR360LBD | 1.3095869 | fibroblast of skin of scalp         |\n",
       "| ENCSR240TPI | 1.3210384 | ELR                                 |\n",
       "| ENCSR548MMD | 1.3267714 | EH                                  |\n",
       "| ENCSR000ELZ | 1.3456861 | AG09309                             |\n",
       "| ENCSR000EMC | 1.3505727 | fibroblast of the aortic adventitia |\n",
       "| ENCSR000ENW | 1.3531164 | fibroblast of mammary gland         |\n",
       "\n"
      ],
      "text/plain": [
       "            percentage Biosample.term.name                \n",
       "ENCSR000EQN 0.9136016  WI38                               \n",
       "ENCSR251UPG 0.9643307  foreskin fibroblast                \n",
       "ENCSR000EQM 1.0955804  WI38                               \n",
       "ENCSR000EMP 1.1473194  GM04504                            \n",
       "ENCSR000EMA 1.1657149  AG09319                            \n",
       "ENCSR000EMG 1.2124468  HS-5                               \n",
       "ENCSR000EMO 1.2377387  GM04503                            \n",
       "ENCSR000EOI 1.2464393  fibroblast of peridontal ligament  \n",
       "ENCSR000EOJ 1.2577214  fibroblast of lung                 \n",
       "ENCSR000EMH 1.2693816  stromal cell of bone marrow        \n",
       "ENCSR038XTK 1.2783877  HCEC 1CT                           \n",
       "ENCSR000EME 1.2797698  BJ                                 \n",
       "ENCSR000ELY 1.2826828  AG04450                            \n",
       "ENCSR000EMF 1.2984010  HS-27A                             \n",
       "ENCSR360LBD 1.3095869  fibroblast of skin of scalp        \n",
       "ENCSR240TPI 1.3210384  ELR                                \n",
       "ENCSR548MMD 1.3267714  EH                                 \n",
       "ENCSR000ELZ 1.3456861  AG09309                            \n",
       "ENCSR000EMC 1.3505727  fibroblast of the aortic adventitia\n",
       "ENCSR000ENW 1.3531164  fibroblast of mammary gland        "
      ]
     },
     "metadata": {},
     "output_type": "display_data"
    }
   ],
   "source": [
    "head(df[order(df$percentage), ], 20)"
   ]
  },
  {
   "cell_type": "code",
   "execution_count": null,
   "metadata": {},
   "outputs": [],
   "source": []
  }
 ],
 "metadata": {
  "kernelspec": {
   "display_name": "R",
   "language": "R",
   "name": "ir"
  },
  "language_info": {
   "codemirror_mode": "r",
   "file_extension": ".r",
   "mimetype": "text/x-r-source",
   "name": "R",
   "pygments_lexer": "r",
   "version": "3.5.1"
  }
 },
 "nbformat": 4,
 "nbformat_minor": 2
}
