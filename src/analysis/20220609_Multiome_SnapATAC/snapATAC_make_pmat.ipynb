{
 "cells": [
  {
   "cell_type": "markdown",
   "metadata": {},
   "source": [
    "# SnapATAC - make peak matrix for multiome + Day 2 ATAC"
   ]
  },
  {
   "cell_type": "code",
   "execution_count": 1,
   "metadata": {},
   "outputs": [
    {
     "name": "stderr",
     "output_type": "stream",
     "text": [
      "Loading required package: Matrix\n",
      "\n",
      "Loading required package: rhdf5\n",
      "\n",
      "Loading required package: stats4\n",
      "\n",
      "Loading required package: BiocGenerics\n",
      "\n",
      "Loading required package: parallel\n",
      "\n",
      "\n",
      "Attaching package: ‘BiocGenerics’\n",
      "\n",
      "\n",
      "The following objects are masked from ‘package:parallel’:\n",
      "\n",
      "    clusterApply, clusterApplyLB, clusterCall, clusterEvalQ,\n",
      "    clusterExport, clusterMap, parApply, parCapply, parLapply,\n",
      "    parLapplyLB, parRapply, parSapply, parSapplyLB\n",
      "\n",
      "\n",
      "The following objects are masked from ‘package:SnapATAC’:\n",
      "\n",
      "    colMeans, colSums, rowMeans, rowSums\n",
      "\n",
      "\n",
      "The following objects are masked from ‘package:Matrix’:\n",
      "\n",
      "    colMeans, colSums, rowMeans, rowSums, which\n",
      "\n",
      "\n",
      "The following objects are masked from ‘package:stats’:\n",
      "\n",
      "    IQR, mad, sd, var, xtabs\n",
      "\n",
      "\n",
      "The following objects are masked from ‘package:base’:\n",
      "\n",
      "    anyDuplicated, append, as.data.frame, basename, cbind, colMeans,\n",
      "    colnames, colSums, dirname, do.call, duplicated, eval, evalq,\n",
      "    Filter, Find, get, grep, grepl, intersect, is.unsorted, lapply,\n",
      "    lengths, Map, mapply, match, mget, order, paste, pmax, pmax.int,\n",
      "    pmin, pmin.int, Position, rank, rbind, Reduce, rowMeans, rownames,\n",
      "    rowSums, sapply, setdiff, sort, table, tapply, union, unique,\n",
      "    unsplit, which, which.max, which.min\n",
      "\n",
      "\n",
      "Loading required package: S4Vectors\n",
      "\n",
      "\n",
      "Attaching package: ‘S4Vectors’\n",
      "\n",
      "\n",
      "The following object is masked from ‘package:Matrix’:\n",
      "\n",
      "    expand\n",
      "\n",
      "\n",
      "The following object is masked from ‘package:base’:\n",
      "\n",
      "    expand.grid\n",
      "\n",
      "\n",
      "Loading required package: IRanges\n",
      "\n",
      "Loading required package: GenomeInfoDb\n",
      "\n"
     ]
    }
   ],
   "source": [
    "library(SnapATAC)\n",
    "library(GenomicRanges)\n",
    "library(ggplot2)\n",
    "library(scales)\n",
    "# https://github.com/r3fang/SnapATAC/tree/master/examples/10X_snATAC\n",
    "# https://github.com/r3fang/SnapATAC/tree/master/examples/10X_brain_5k"
   ]
  },
  {
   "cell_type": "code",
   "execution_count": 2,
   "metadata": {},
   "outputs": [
    {
     "data": {
      "text/html": [
       "<style>\n",
       ".list-inline {list-style: none; margin:0; padding: 0}\n",
       ".list-inline>li {display: inline-block}\n",
       ".list-inline>li:not(:last-child)::after {content: \"\\00b7\"; padding: 0 .5ex}\n",
       "</style>\n",
       "<ol class=list-inline><li>6559</li><li>6</li></ol>\n"
      ],
      "text/latex": [
       "\\begin{enumerate*}\n",
       "\\item 6559\n",
       "\\item 6\n",
       "\\end{enumerate*}\n"
      ],
      "text/markdown": [
       "1. 6559\n",
       "2. 6\n",
       "\n",
       "\n"
      ],
      "text/plain": [
       "[1] 6559    6"
      ]
     },
     "metadata": {},
     "output_type": "display_data"
    },
    {
     "data": {
      "text/html": [
       "<table>\n",
       "<caption>A data.frame: 5 × 6</caption>\n",
       "<thead>\n",
       "\t<tr><th></th><th scope=col>barcode</th><th scope=col>sample</th><th scope=col>umap1</th><th scope=col>umap2</th><th scope=col>cluster</th><th scope=col>cells</th></tr>\n",
       "\t<tr><th></th><th scope=col>&lt;fct&gt;</th><th scope=col>&lt;fct&gt;</th><th scope=col>&lt;dbl&gt;</th><th scope=col>&lt;dbl&gt;</th><th scope=col>&lt;int&gt;</th><th scope=col>&lt;chr&gt;</th></tr>\n",
       "</thead>\n",
       "<tbody>\n",
       "\t<tr><th scope=row>AAACAACGAGAAGTTA</th><td>AAACAACGAGAAGTTA</td><td>D2</td><td>-2.582804</td><td> 1.0539784</td><td>10</td><td>D2_AAACAACGAGAAGTTA</td></tr>\n",
       "\t<tr><th scope=row>AAACAACGAGACTGTT</th><td>AAACAACGAGACTGTT</td><td>D2</td><td>-3.609249</td><td> 0.2938383</td><td>15</td><td>D2_AAACAACGAGACTGTT</td></tr>\n",
       "\t<tr><th scope=row>AAACCCTGAGTACGTT</th><td>AAACCCTGAGTACGTT</td><td>D2</td><td>-3.560982</td><td>-6.2913636</td><td>13</td><td>D2_AAACCCTGAGTACGTT</td></tr>\n",
       "\t<tr><th scope=row>AAACCGTACCACCTAA</th><td>AAACCGTACCACCTAA</td><td>D2</td><td>-2.479006</td><td>-3.8390841</td><td> 3</td><td>D2_AAACCGTACCACCTAA</td></tr>\n",
       "\t<tr><th scope=row>AAACCGTACGCCCTAG</th><td>AAACCGTACGCCCTAG</td><td>D2</td><td>-3.901256</td><td> 0.8696430</td><td>15</td><td>D2_AAACCGTACGCCCTAG</td></tr>\n",
       "</tbody>\n",
       "</table>\n"
      ],
      "text/latex": [
       "A data.frame: 5 × 6\n",
       "\\begin{tabular}{r|llllll}\n",
       "  & barcode & sample & umap1 & umap2 & cluster & cells\\\\\n",
       "  & <fct> & <fct> & <dbl> & <dbl> & <int> & <chr>\\\\\n",
       "\\hline\n",
       "\tAAACAACGAGAAGTTA & AAACAACGAGAAGTTA & D2 & -2.582804 &  1.0539784 & 10 & D2\\_AAACAACGAGAAGTTA\\\\\n",
       "\tAAACAACGAGACTGTT & AAACAACGAGACTGTT & D2 & -3.609249 &  0.2938383 & 15 & D2\\_AAACAACGAGACTGTT\\\\\n",
       "\tAAACCCTGAGTACGTT & AAACCCTGAGTACGTT & D2 & -3.560982 & -6.2913636 & 13 & D2\\_AAACCCTGAGTACGTT\\\\\n",
       "\tAAACCGTACCACCTAA & AAACCGTACCACCTAA & D2 & -2.479006 & -3.8390841 &  3 & D2\\_AAACCGTACCACCTAA\\\\\n",
       "\tAAACCGTACGCCCTAG & AAACCGTACGCCCTAG & D2 & -3.901256 &  0.8696430 & 15 & D2\\_AAACCGTACGCCCTAG\\\\\n",
       "\\end{tabular}\n"
      ],
      "text/markdown": [
       "\n",
       "A data.frame: 5 × 6\n",
       "\n",
       "| <!--/--> | barcode &lt;fct&gt; | sample &lt;fct&gt; | umap1 &lt;dbl&gt; | umap2 &lt;dbl&gt; | cluster &lt;int&gt; | cells &lt;chr&gt; |\n",
       "|---|---|---|---|---|---|---|\n",
       "| AAACAACGAGAAGTTA | AAACAACGAGAAGTTA | D2 | -2.582804 |  1.0539784 | 10 | D2_AAACAACGAGAAGTTA |\n",
       "| AAACAACGAGACTGTT | AAACAACGAGACTGTT | D2 | -3.609249 |  0.2938383 | 15 | D2_AAACAACGAGACTGTT |\n",
       "| AAACCCTGAGTACGTT | AAACCCTGAGTACGTT | D2 | -3.560982 | -6.2913636 | 13 | D2_AAACCCTGAGTACGTT |\n",
       "| AAACCGTACCACCTAA | AAACCGTACCACCTAA | D2 | -2.479006 | -3.8390841 |  3 | D2_AAACCGTACCACCTAA |\n",
       "| AAACCGTACGCCCTAG | AAACCGTACGCCCTAG | D2 | -3.901256 |  0.8696430 | 15 | D2_AAACCGTACGCCCTAG |\n",
       "\n"
      ],
      "text/plain": [
       "                 barcode          sample umap1     umap2      cluster\n",
       "AAACAACGAGAAGTTA AAACAACGAGAAGTTA D2     -2.582804  1.0539784 10     \n",
       "AAACAACGAGACTGTT AAACAACGAGACTGTT D2     -3.609249  0.2938383 15     \n",
       "AAACCCTGAGTACGTT AAACCCTGAGTACGTT D2     -3.560982 -6.2913636 13     \n",
       "AAACCGTACCACCTAA AAACCGTACCACCTAA D2     -2.479006 -3.8390841  3     \n",
       "AAACCGTACGCCCTAG AAACCGTACGCCCTAG D2     -3.901256  0.8696430 15     \n",
       "                 cells              \n",
       "AAACAACGAGAAGTTA D2_AAACAACGAGAAGTTA\n",
       "AAACAACGAGACTGTT D2_AAACAACGAGACTGTT\n",
       "AAACCCTGAGTACGTT D2_AAACCCTGAGTACGTT\n",
       "AAACCGTACCACCTAA D2_AAACCGTACCACCTAA\n",
       "AAACCGTACGCCCTAG D2_AAACCGTACGCCCTAG"
      ]
     },
     "metadata": {},
     "output_type": "display_data"
    }
   ],
   "source": [
    "# Metadata file for scATAC\n",
    "# should contain, sample_barcode as rowname, sample, umap1, umap2, cluster\n",
    "scatac_metaData = read.table(\"../20200206_pmat_snapATAC/sessions/20210717_n62599/metadata.tsv\", header = T)\n",
    "rownames(scatac_metaData) = paste(scatac_metaData$sample, scatac_metaData$barcode, sep='_')\n",
    "scatac_metaData$cells = rownames(scatac_metaData)\n",
    "scatac_metaData = scatac_metaData[scatac_metaData$sample==\"D2\", ]\n",
    "rownames(scatac_metaData) = scatac_metaData$barcode\n",
    "dim(scatac_metaData)\n",
    "head(scatac_metaData, 5)"
   ]
  },
  {
   "cell_type": "code",
   "execution_count": 3,
   "metadata": {},
   "outputs": [
    {
     "data": {
      "text/plain": [
       "\n",
       "   3   13   15   11    2    1   14   10   12    7 \n",
       "2122 1502 1123 1059  341  272   64   44   24    8 "
      ]
     },
     "metadata": {},
     "output_type": "display_data"
    }
   ],
   "source": [
    "rev(sort(table(scatac_metaData$cluster)))"
   ]
  },
  {
   "cell_type": "code",
   "execution_count": 4,
   "metadata": {},
   "outputs": [
    {
     "data": {
      "text/html": [
       "<style>\n",
       ".list-inline {list-style: none; margin:0; padding: 0}\n",
       ".list-inline>li {display: inline-block}\n",
       ".list-inline>li:not(:last-child)::after {content: \"\\00b7\"; padding: 0 .5ex}\n",
       "</style>\n",
       "<ol class=list-inline><li>'3'</li><li>'13'</li><li>'15'</li><li>'11'</li><li>'2'</li></ol>\n"
      ],
      "text/latex": [
       "\\begin{enumerate*}\n",
       "\\item '3'\n",
       "\\item '13'\n",
       "\\item '15'\n",
       "\\item '11'\n",
       "\\item '2'\n",
       "\\end{enumerate*}\n"
      ],
      "text/markdown": [
       "1. '3'\n",
       "2. '13'\n",
       "3. '15'\n",
       "4. '11'\n",
       "5. '2'\n",
       "\n",
       "\n"
      ],
      "text/plain": [
       "[1] \"3\"  \"13\" \"15\" \"11\" \"2\" "
      ]
     },
     "metadata": {},
     "output_type": "display_data"
    }
   ],
   "source": [
    "head(names(rev(sort(table(scatac_metaData$cluster)))), 5)"
   ]
  },
  {
   "cell_type": "code",
   "execution_count": 5,
   "metadata": {},
   "outputs": [
    {
     "data": {
      "text/html": [
       "<style>\n",
       ".list-inline {list-style: none; margin:0; padding: 0}\n",
       ".list-inline>li {display: inline-block}\n",
       ".list-inline>li:not(:last-child)::after {content: \"\\00b7\"; padding: 0 .5ex}\n",
       "</style>\n",
       "<ol class=list-inline><li>6147</li><li>6</li></ol>\n"
      ],
      "text/latex": [
       "\\begin{enumerate*}\n",
       "\\item 6147\n",
       "\\item 6\n",
       "\\end{enumerate*}\n"
      ],
      "text/markdown": [
       "1. 6147\n",
       "2. 6\n",
       "\n",
       "\n"
      ],
      "text/plain": [
       "[1] 6147    6"
      ]
     },
     "metadata": {},
     "output_type": "display_data"
    }
   ],
   "source": [
    "# only keep those in top 5 clusters\n",
    "scatac_metaData = scatac_metaData[scatac_metaData$cluster %in% as.numeric(head(names(rev(sort(table(scatac_metaData$cluster)))), 5)), ]\n",
    "dim(scatac_metaData)"
   ]
  },
  {
   "cell_type": "code",
   "execution_count": 6,
   "metadata": {},
   "outputs": [
    {
     "data": {
      "text/plain": [
       "\n",
       "   3   13   15   11    2 \n",
       "2122 1502 1123 1059  341 "
      ]
     },
     "metadata": {},
     "output_type": "display_data"
    }
   ],
   "source": [
    "rev(sort(table(scatac_metaData$cluster)))"
   ]
  },
  {
   "cell_type": "code",
   "execution_count": 7,
   "metadata": {},
   "outputs": [
    {
     "data": {
      "text/html": [
       "'D2.snap'"
      ],
      "text/latex": [
       "'D2.snap'"
      ],
      "text/markdown": [
       "'D2.snap'"
      ],
      "text/plain": [
       "[1] \"D2.snap\""
      ]
     },
     "metadata": {},
     "output_type": "display_data"
    }
   ],
   "source": [
    "list.files(\"/srv/scratch/surag/scATAC-reprog/snap\")"
   ]
  },
  {
   "cell_type": "code",
   "execution_count": 8,
   "metadata": {},
   "outputs": [
    {
     "data": {
      "text/html": [
       "<style>\n",
       ".list-inline {list-style: none; margin:0; padding: 0}\n",
       ".list-inline>li {display: inline-block}\n",
       ".list-inline>li:not(:last-child)::after {content: \"\\00b7\"; padding: 0 .5ex}\n",
       "</style>\n",
       "<ol class=list-inline><li>'D1M'</li><li>'D2M'</li><li>'D2'</li></ol>\n"
      ],
      "text/latex": [
       "\\begin{enumerate*}\n",
       "\\item 'D1M'\n",
       "\\item 'D2M'\n",
       "\\item 'D2'\n",
       "\\end{enumerate*}\n"
      ],
      "text/markdown": [
       "1. 'D1M'\n",
       "2. 'D2M'\n",
       "3. 'D2'\n",
       "\n",
       "\n"
      ],
      "text/plain": [
       "[1] \"D1M\" \"D2M\" \"D2\" "
      ]
     },
     "metadata": {},
     "output_type": "display_data"
    },
    {
     "data": {
      "text/html": [
       "<style>\n",
       ".list-inline {list-style: none; margin:0; padding: 0}\n",
       ".list-inline>li {display: inline-block}\n",
       ".list-inline>li:not(:last-child)::after {content: \"\\00b7\"; padding: 0 .5ex}\n",
       "</style>\n",
       "<ol class=list-inline><li>'/srv/scratch/surag/scMultiome-reprog/snap/D1M.snap'</li><li>'/srv/scratch/surag/scMultiome-reprog/snap/D2M.snap'</li><li>'/srv/scratch/surag/scATAC-reprog/chromap/snap/D2.snap'</li></ol>\n"
      ],
      "text/latex": [
       "\\begin{enumerate*}\n",
       "\\item '/srv/scratch/surag/scMultiome-reprog/snap/D1M.snap'\n",
       "\\item '/srv/scratch/surag/scMultiome-reprog/snap/D2M.snap'\n",
       "\\item '/srv/scratch/surag/scATAC-reprog/chromap/snap/D2.snap'\n",
       "\\end{enumerate*}\n"
      ],
      "text/markdown": [
       "1. '/srv/scratch/surag/scMultiome-reprog/snap/D1M.snap'\n",
       "2. '/srv/scratch/surag/scMultiome-reprog/snap/D2M.snap'\n",
       "3. '/srv/scratch/surag/scATAC-reprog/chromap/snap/D2.snap'\n",
       "\n",
       "\n"
      ],
      "text/plain": [
       "[1] \"/srv/scratch/surag/scMultiome-reprog/snap/D1M.snap\"   \n",
       "[2] \"/srv/scratch/surag/scMultiome-reprog/snap/D2M.snap\"   \n",
       "[3] \"/srv/scratch/surag/scATAC-reprog/chromap/snap/D2.snap\""
      ]
     },
     "metadata": {},
     "output_type": "display_data"
    },
    {
     "data": {
      "text/html": [
       "<style>\n",
       ".list-inline {list-style: none; margin:0; padding: 0}\n",
       ".list-inline>li {display: inline-block}\n",
       ".list-inline>li:not(:last-child)::after {content: \"\\00b7\"; padding: 0 .5ex}\n",
       "</style>\n",
       "<ol class=list-inline><li>'./D1M.ATAC.bc.txt'</li><li>'./D2M.ATAC.bc.txt'</li><li>'../20200424_ArchR/barcodeLists/20210713_ArchR_nFrags_1000_TSS_6_doublet_enrichment_1.25/D2.barcodes.txt'</li></ol>\n"
      ],
      "text/latex": [
       "\\begin{enumerate*}\n",
       "\\item './D1M.ATAC.bc.txt'\n",
       "\\item './D2M.ATAC.bc.txt'\n",
       "\\item '../20200424\\_ArchR/barcodeLists/20210713\\_ArchR\\_nFrags\\_1000\\_TSS\\_6\\_doublet\\_enrichment\\_1.25/D2.barcodes.txt'\n",
       "\\end{enumerate*}\n"
      ],
      "text/markdown": [
       "1. './D1M.ATAC.bc.txt'\n",
       "2. './D2M.ATAC.bc.txt'\n",
       "3. '../20200424_ArchR/barcodeLists/20210713_ArchR_nFrags_1000_TSS_6_doublet_enrichment_1.25/D2.barcodes.txt'\n",
       "\n",
       "\n"
      ],
      "text/plain": [
       "[1] \"./D1M.ATAC.bc.txt\"                                                                                      \n",
       "[2] \"./D2M.ATAC.bc.txt\"                                                                                      \n",
       "[3] \"../20200424_ArchR/barcodeLists/20210713_ArchR_nFrags_1000_TSS_6_doublet_enrichment_1.25/D2.barcodes.txt\""
      ]
     },
     "metadata": {},
     "output_type": "display_data"
    }
   ],
   "source": [
    "DAYS = c(\"D1M\", \"D2M\", \"D2\")\n",
    "FILES = c(\"/srv/scratch/surag/scMultiome-reprog/snap/D1M.snap\",\n",
    "          \"/srv/scratch/surag/scMultiome-reprog/snap/D2M.snap\",\n",
    "          \"/srv/scratch/surag/scATAC-reprog/chromap/snap/D2.snap\"\n",
    "         )\n",
    "\n",
    "BARCODES = c(\"./D1M.ATAC.bc.txt\",\n",
    "            \"./D2M.ATAC.bc.txt\",\n",
    "            \"../20200424_ArchR/barcodeLists/20210713_ArchR_nFrags_1000_TSS_6_doublet_enrichment_1.25/D2.barcodes.txt\")\n",
    "\n",
    "file.list = FILES\n",
    "barcode.file.list = BARCODES\n",
    "\n",
    "DAYS\n",
    "file.list\n",
    "barcode.file.list"
   ]
  },
  {
   "cell_type": "code",
   "execution_count": 9,
   "metadata": {},
   "outputs": [
    {
     "name": "stderr",
     "output_type": "stream",
     "text": [
      "Epoch: reading the barcode session ...\n",
      "\n",
      "Epoch: reading the barcode session ...\n",
      "\n",
      "Epoch: reading the barcode session ...\n",
      "\n"
     ]
    }
   ],
   "source": [
    "x.sp.ls = lapply(seq(file.list), function(i) {\n",
    "    x.sp = createSnap(file = file.list[i],                      \n",
    "                     sample = DAYS[i])\n",
    "    x.sp\n",
    "})"
   ]
  },
  {
   "cell_type": "code",
   "execution_count": 10,
   "metadata": {},
   "outputs": [],
   "source": [
    "# Filter cells using previously selected barcodes (see 20200424_ArchR/DoubletAnalysis.ipynb)\n",
    "\n",
    "barcode.list = lapply(barcode.file.list, function(file){\n",
    "  read.table(file)[,1];\n",
    "})\n",
    "\n",
    "x.sp.list = lapply(seq(x.sp.ls), function(i){\n",
    "  x.sp = x.sp.ls[[i]];\n",
    "  x.sp  = x.sp[x.sp@barcode %in% barcode.list[[i]],];\n",
    "})\n",
    "names(x.sp.list) = DAYS;"
   ]
  },
  {
   "cell_type": "code",
   "execution_count": 11,
   "metadata": {},
   "outputs": [],
   "source": [
    "# subset to barcodes in most common/interesting states\n",
    "x.sp.list$D2 = x.sp.list$D2[x.sp.list$D2@barcode %in% rownames(scatac_metaData), ]"
   ]
  },
  {
   "cell_type": "code",
   "execution_count": 12,
   "metadata": {},
   "outputs": [
    {
     "data": {
      "text/plain": [
       "$D1M\n",
       "number of barcodes: 3217\n",
       "number of bins: 0\n",
       "number of genes: 0\n",
       "number of peaks: 0\n",
       "number of motifs: 0\n",
       "\n",
       "$D2M\n",
       "number of barcodes: 4161\n",
       "number of bins: 0\n",
       "number of genes: 0\n",
       "number of peaks: 0\n",
       "number of motifs: 0\n",
       "\n",
       "$D2\n",
       "number of barcodes: 6147\n",
       "number of bins: 0\n",
       "number of genes: 0\n",
       "number of peaks: 0\n",
       "number of motifs: 0\n"
      ]
     },
     "metadata": {},
     "output_type": "display_data"
    }
   ],
   "source": [
    "x.sp.list"
   ]
  },
  {
   "cell_type": "code",
   "execution_count": 13,
   "metadata": {},
   "outputs": [
    {
     "name": "stderr",
     "output_type": "stream",
     "text": [
      "Epoch: reading cell-peak count matrix session ...\n",
      "\n",
      "Epoch: reading cell-peak count matrix session ...\n",
      "\n",
      "Epoch: reading cell-peak count matrix session ...\n",
      "\n"
     ]
    }
   ],
   "source": [
    "x.sp.list = lapply(seq(x.sp.list), function(i) {\n",
    "    x.sp = addPmatToSnap(x.sp.list[[i]], num.cores=5)\n",
    "    x.sp\n",
    "})"
   ]
  },
  {
   "cell_type": "code",
   "execution_count": 14,
   "metadata": {},
   "outputs": [],
   "source": [
    "bin.shared = Reduce(intersect, lapply(x.sp.list, function(x.sp) x.sp@peak$name));"
   ]
  },
  {
   "cell_type": "code",
   "execution_count": 15,
   "metadata": {},
   "outputs": [
    {
     "name": "stderr",
     "output_type": "stream",
     "text": [
      "Warning message:\n",
      "“'rBind' is deprecated.\n",
      " Since R version 3.2.0, base's rbind() should work fine with S4 objects”\n"
     ]
    }
   ],
   "source": [
    "# merge timepoints\n",
    "x.sp.list <- lapply(x.sp.list, function(x.sp){\n",
    "    idy = match(bin.shared, x.sp@peak$name);\n",
    "    x.sp[,idy, mat=\"pmat\"];\n",
    "  })\n",
    "x.sp = Reduce(snapRbind, x.sp.list);"
   ]
  },
  {
   "cell_type": "code",
   "execution_count": 16,
   "metadata": {},
   "outputs": [
    {
     "data": {
      "text/plain": [
       "number of barcodes: 13525\n",
       "number of bins: 0\n",
       "number of genes: 0\n",
       "number of peaks: 530910\n",
       "number of motifs: 0"
      ]
     },
     "metadata": {},
     "output_type": "display_data"
    }
   ],
   "source": [
    "x.sp"
   ]
  },
  {
   "cell_type": "code",
   "execution_count": 17,
   "metadata": {},
   "outputs": [
    {
     "data": {
      "text/html": [
       "<table>\n",
       "<caption>A matrix: 2 × 6 of type dbl</caption>\n",
       "<thead>\n",
       "\t<tr><th></th><th scope=col>used</th><th scope=col>(Mb)</th><th scope=col>gc trigger</th><th scope=col>(Mb)</th><th scope=col>max used</th><th scope=col>(Mb)</th></tr>\n",
       "</thead>\n",
       "<tbody>\n",
       "\t<tr><th scope=row>Ncells</th><td>  4422123</td><td> 236.2</td><td>  7569517</td><td> 404.3</td><td>  6304624</td><td> 336.8</td></tr>\n",
       "\t<tr><th scope=row>Vcells</th><td>151682804</td><td>1157.3</td><td>453874500</td><td>3462.8</td><td>745251962</td><td>5685.9</td></tr>\n",
       "</tbody>\n",
       "</table>\n"
      ],
      "text/latex": [
       "A matrix: 2 × 6 of type dbl\n",
       "\\begin{tabular}{r|llllll}\n",
       "  & used & (Mb) & gc trigger & (Mb) & max used & (Mb)\\\\\n",
       "\\hline\n",
       "\tNcells &   4422123 &  236.2 &   7569517 &  404.3 &   6304624 &  336.8\\\\\n",
       "\tVcells & 151682804 & 1157.3 & 453874500 & 3462.8 & 745251962 & 5685.9\\\\\n",
       "\\end{tabular}\n"
      ],
      "text/markdown": [
       "\n",
       "A matrix: 2 × 6 of type dbl\n",
       "\n",
       "| <!--/--> | used | (Mb) | gc trigger | (Mb) | max used | (Mb) |\n",
       "|---|---|---|---|---|---|---|\n",
       "| Ncells |   4422123 |  236.2 |   7569517 |  404.3 |   6304624 |  336.8 |\n",
       "| Vcells | 151682804 | 1157.3 | 453874500 | 3462.8 | 745251962 | 5685.9 |\n",
       "\n"
      ],
      "text/plain": [
       "       used      (Mb)   gc trigger (Mb)   max used  (Mb)  \n",
       "Ncells   4422123  236.2   7569517   404.3   6304624  336.8\n",
       "Vcells 151682804 1157.3 453874500  3462.8 745251962 5685.9"
      ]
     },
     "metadata": {},
     "output_type": "display_data"
    }
   ],
   "source": [
    "rm(x.sp.list); # free memory\n",
    "gc()"
   ]
  },
  {
   "cell_type": "code",
   "execution_count": 21,
   "metadata": {},
   "outputs": [],
   "source": [
    "rowCov = Matrix::rowSums(x.sp@pmat)"
   ]
  },
  {
   "cell_type": "code",
   "execution_count": 22,
   "metadata": {},
   "outputs": [
    {
     "data": {
      "text/html": [
       "515"
      ],
      "text/latex": [
       "515"
      ],
      "text/markdown": [
       "515"
      ],
      "text/plain": [
       "[1] 515"
      ]
     },
     "metadata": {},
     "output_type": "display_data"
    }
   ],
   "source": [
    "# these are fragments!\n",
    "min(rowCov)"
   ]
  },
  {
   "cell_type": "code",
   "execution_count": null,
   "metadata": {},
   "outputs": [],
   "source": []
  },
  {
   "cell_type": "markdown",
   "metadata": {},
   "source": [
    "Bins are already filtered for blacklisted regions."
   ]
  },
  {
   "cell_type": "markdown",
   "metadata": {},
   "source": [
    "## Export Matrices"
   ]
  },
  {
   "cell_type": "code",
   "execution_count": 23,
   "metadata": {},
   "outputs": [
    {
     "data": {
      "text/plain": [
       "number of barcodes: 13525\n",
       "number of bins: 0\n",
       "number of genes: 0\n",
       "number of peaks: 530910\n",
       "number of motifs: 0"
      ]
     },
     "metadata": {},
     "output_type": "display_data"
    }
   ],
   "source": [
    "x.sp"
   ]
  },
  {
   "cell_type": "code",
   "execution_count": 24,
   "metadata": {},
   "outputs": [
    {
     "data": {
      "text/plain": [
       "NULL"
      ]
     },
     "metadata": {},
     "output_type": "display_data"
    }
   ],
   "source": [
    "writeMM(x.sp@pmat, file=\"./sessions/20220612_n13525/pmat.sparse.mm\")"
   ]
  },
  {
   "cell_type": "code",
   "execution_count": 26,
   "metadata": {},
   "outputs": [],
   "source": [
    "# writing ranges for 5kb and sparse matrix\n",
    "write.table(data.frame(seqnames=seqnames(x.sp@peak),\n",
    "                       starts=start(x.sp@peak)-1,\n",
    "                       ends=end(x.sp@peak)),\n",
    "            file=\"./sessions/20220612_n13525/peaks.bed\",\n",
    "            quote=F, sep=\"\\t\", row.names=F, col.names=F)"
   ]
  },
  {
   "cell_type": "code",
   "execution_count": null,
   "metadata": {},
   "outputs": [],
   "source": []
  },
  {
   "cell_type": "markdown",
   "metadata": {},
   "source": [
    "---"
   ]
  },
  {
   "cell_type": "code",
   "execution_count": 25,
   "metadata": {},
   "outputs": [
    {
     "data": {
      "text/plain": [
       "R version 3.5.1 (2018-07-02)\n",
       "Platform: x86_64-conda_cos6-linux-gnu (64-bit)\n",
       "Running under: Ubuntu 18.04.6 LTS\n",
       "\n",
       "Matrix products: default\n",
       "BLAS/LAPACK: /users/surag/anaconda3/envs/snapATAC/lib/R/lib/libRlapack.so\n",
       "\n",
       "locale:\n",
       " [1] LC_CTYPE=en_US.UTF-8       LC_NUMERIC=C              \n",
       " [3] LC_TIME=en_US.UTF-8        LC_COLLATE=en_US.UTF-8    \n",
       " [5] LC_MONETARY=en_US.UTF-8    LC_MESSAGES=en_US.UTF-8   \n",
       " [7] LC_PAPER=en_US.UTF-8       LC_NAME=C                 \n",
       " [9] LC_ADDRESS=C               LC_TELEPHONE=C            \n",
       "[11] LC_MEASUREMENT=en_US.UTF-8 LC_IDENTIFICATION=C       \n",
       "\n",
       "attached base packages:\n",
       "[1] parallel  stats4    stats     graphics  grDevices utils     datasets \n",
       "[8] methods   base     \n",
       "\n",
       "other attached packages:\n",
       " [1] scales_1.1.0         ggplot2_3.3.0        GenomicRanges_1.34.0\n",
       " [4] GenomeInfoDb_1.18.2  IRanges_2.16.0       S4Vectors_0.20.1    \n",
       " [7] BiocGenerics_0.28.0  SnapATAC_1.0.0       rhdf5_2.28.0        \n",
       "[10] Matrix_1.2-18       \n",
       "\n",
       "loaded via a namespace (and not attached):\n",
       " [1] Rcpp_1.0.4.6           locfit_1.5-9.4         lattice_0.20-41       \n",
       " [4] snow_0.4-3             assertthat_0.2.1       digest_0.6.25         \n",
       " [7] foreach_1.5.0          IRdisplay_0.7.0        R6_2.4.1              \n",
       "[10] plyr_1.8.6             repr_1.1.0             bigmemory.sri_0.1.3   \n",
       "[13] evaluate_0.14          pillar_1.4.3           zlibbioc_1.28.0       \n",
       "[16] rlang_0.4.5            misc3d_0.8-4           uuid_0.1-4            \n",
       "[19] irlba_2.3.3            bigmemory_4.5.36       Rtsne_0.15            \n",
       "[22] igraph_1.2.4.2         RCurl_1.98-1.2         munsell_0.5.0         \n",
       "[25] compiler_3.5.1         pkgconfig_2.0.3        base64enc_0.1-3       \n",
       "[28] htmltools_0.4.0        doSNOW_1.0.18          tidyselect_1.0.0      \n",
       "[31] gridExtra_2.3          tibble_3.0.1           GenomeInfoDbData_1.2.1\n",
       "[34] RANN_2.6.1             edgeR_3.26.0           codetools_0.2-16      \n",
       "[37] viridisLite_0.3.0      withr_2.2.0            crayon_1.3.4          \n",
       "[40] dplyr_0.8.5            bitops_1.0-6           grid_3.5.1            \n",
       "[43] jsonlite_1.6.1         gtable_0.3.0           lifecycle_0.2.0       \n",
       "[46] magrittr_1.5           XVector_0.22.0         viridis_0.5.1         \n",
       "[49] doParallel_1.0.15      limma_3.40.0           ellipsis_0.3.0        \n",
       "[52] vctrs_0.2.4            IRkernel_1.1           plot3D_1.3            \n",
       "[55] Rhdf5lib_1.6.0         RColorBrewer_1.1-2     iterators_1.0.12      \n",
       "[58] tools_3.5.1            glue_1.4.0             purrr_0.3.4           \n",
       "[61] colorspace_1.4-1       pbdZMQ_0.3-3          "
      ]
     },
     "metadata": {},
     "output_type": "display_data"
    }
   ],
   "source": [
    "sessionInfo()"
   ]
  },
  {
   "cell_type": "code",
   "execution_count": null,
   "metadata": {},
   "outputs": [],
   "source": []
  }
 ],
 "metadata": {
  "kernelspec": {
   "display_name": "R",
   "language": "R",
   "name": "ir"
  },
  "language_info": {
   "codemirror_mode": "r",
   "file_extension": ".r",
   "mimetype": "text/x-r-source",
   "name": "R",
   "pygments_lexer": "r",
   "version": "3.5.1"
  }
 },
 "nbformat": 4,
 "nbformat_minor": 4
}
