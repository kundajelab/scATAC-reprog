{
 "cells": [
  {
   "cell_type": "markdown",
   "metadata": {},
   "source": [
    "# Peak Sets and Genes\n",
    "\n",
    "Using the links found using Cicero, look within peak sets to see if links are more likely within peak sets. Also try to link peaks/peak sets to genes."
   ]
  },
  {
   "cell_type": "code",
   "execution_count": 2116,
   "metadata": {},
   "outputs": [],
   "source": [
    "library(cicero)\n",
    "library(Matrix)\n",
    "library(ggplot2)\n",
    "library(scales)\n",
    "library(GenomicFeatures)\n",
    "library(reshape2)\n",
    "library(rtracklayer)"
   ]
  },
  {
   "cell_type": "code",
   "execution_count": 2889,
   "metadata": {},
   "outputs": [
    {
     "data": {
      "text/html": [
       "0.100000042584439"
      ],
      "text/latex": [
       "0.100000042584439"
      ],
      "text/markdown": [
       "0.100000042584439"
      ],
      "text/plain": [
       "[1] 0.1"
      ]
     },
     "metadata": {},
     "output_type": "display_data"
    },
    {
     "data": {
      "text/html": [
       "<style>\n",
       ".list-inline {list-style: none; margin:0; padding: 0}\n",
       ".list-inline>li {display: inline-block}\n",
       ".list-inline>li:not(:last-child)::after {content: \"\\00b7\"; padding: 0 .5ex}\n",
       "</style>\n",
       "<ol class=list-inline><li>3693596</li><li>4</li></ol>\n"
      ],
      "text/latex": [
       "\\begin{enumerate*}\n",
       "\\item 3693596\n",
       "\\item 4\n",
       "\\end{enumerate*}\n"
      ],
      "text/markdown": [
       "1. 3693596\n",
       "2. 4\n",
       "\n",
       "\n"
      ],
      "text/plain": [
       "[1] 3693596       4"
      ]
     },
     "metadata": {},
     "output_type": "display_data"
    },
    {
     "data": {
      "text/html": [
       "<table>\n",
       "<caption>A data.frame: 6 × 4</caption>\n",
       "<thead>\n",
       "\t<tr><th></th><th scope=col>Peak1</th><th scope=col>Peak2</th><th scope=col>coaccess</th><th scope=col>distance</th></tr>\n",
       "\t<tr><th></th><th scope=col>&lt;fct&gt;</th><th scope=col>&lt;fct&gt;</th><th scope=col>&lt;dbl&gt;</th><th scope=col>&lt;int&gt;</th></tr>\n",
       "</thead>\n",
       "<tbody>\n",
       "\t<tr><th scope=row>1</th><td>chr10_100006055_100006360</td><td>chr10_99775825_99776218</td><td>0.1803253</td><td>230230</td></tr>\n",
       "\t<tr><th scope=row>2</th><td>chr10_100006055_100006360</td><td>chr10_99776241_99776466</td><td>0.1234813</td><td>229814</td></tr>\n",
       "\t<tr><th scope=row>3</th><td>chr10_100006055_100006360</td><td>chr10_99779363_99780088</td><td>0.3004101</td><td>226692</td></tr>\n",
       "\t<tr><th scope=row>4</th><td>chr10_100006055_100006360</td><td>chr10_99783995_99784700</td><td>0.1134911</td><td>222060</td></tr>\n",
       "\t<tr><th scope=row>5</th><td>chr10_100006055_100006360</td><td>chr10_99788543_99788788</td><td>0.1136927</td><td>217512</td></tr>\n",
       "\t<tr><th scope=row>6</th><td>chr10_100006055_100006360</td><td>chr10_99788793_99789003</td><td>0.1541775</td><td>217262</td></tr>\n",
       "</tbody>\n",
       "</table>\n"
      ],
      "text/latex": [
       "A data.frame: 6 × 4\n",
       "\\begin{tabular}{r|llll}\n",
       "  & Peak1 & Peak2 & coaccess & distance\\\\\n",
       "  & <fct> & <fct> & <dbl> & <int>\\\\\n",
       "\\hline\n",
       "\t1 & chr10\\_100006055\\_100006360 & chr10\\_99775825\\_99776218 & 0.1803253 & 230230\\\\\n",
       "\t2 & chr10\\_100006055\\_100006360 & chr10\\_99776241\\_99776466 & 0.1234813 & 229814\\\\\n",
       "\t3 & chr10\\_100006055\\_100006360 & chr10\\_99779363\\_99780088 & 0.3004101 & 226692\\\\\n",
       "\t4 & chr10\\_100006055\\_100006360 & chr10\\_99783995\\_99784700 & 0.1134911 & 222060\\\\\n",
       "\t5 & chr10\\_100006055\\_100006360 & chr10\\_99788543\\_99788788 & 0.1136927 & 217512\\\\\n",
       "\t6 & chr10\\_100006055\\_100006360 & chr10\\_99788793\\_99789003 & 0.1541775 & 217262\\\\\n",
       "\\end{tabular}\n"
      ],
      "text/markdown": [
       "\n",
       "A data.frame: 6 × 4\n",
       "\n",
       "| <!--/--> | Peak1 &lt;fct&gt; | Peak2 &lt;fct&gt; | coaccess &lt;dbl&gt; | distance &lt;int&gt; |\n",
       "|---|---|---|---|---|\n",
       "| 1 | chr10_100006055_100006360 | chr10_99775825_99776218 | 0.1803253 | 230230 |\n",
       "| 2 | chr10_100006055_100006360 | chr10_99776241_99776466 | 0.1234813 | 229814 |\n",
       "| 3 | chr10_100006055_100006360 | chr10_99779363_99780088 | 0.3004101 | 226692 |\n",
       "| 4 | chr10_100006055_100006360 | chr10_99783995_99784700 | 0.1134911 | 222060 |\n",
       "| 5 | chr10_100006055_100006360 | chr10_99788543_99788788 | 0.1136927 | 217512 |\n",
       "| 6 | chr10_100006055_100006360 | chr10_99788793_99789003 | 0.1541775 | 217262 |\n",
       "\n"
      ],
      "text/plain": [
       "  Peak1                     Peak2                   coaccess  distance\n",
       "1 chr10_100006055_100006360 chr10_99775825_99776218 0.1803253 230230  \n",
       "2 chr10_100006055_100006360 chr10_99776241_99776466 0.1234813 229814  \n",
       "3 chr10_100006055_100006360 chr10_99779363_99780088 0.3004101 226692  \n",
       "4 chr10_100006055_100006360 chr10_99783995_99784700 0.1134911 222060  \n",
       "5 chr10_100006055_100006360 chr10_99788543_99788788 0.1136927 217512  \n",
       "6 chr10_100006055_100006360 chr10_99788793_99789003 0.1541775 217262  "
      ]
     },
     "metadata": {},
     "output_type": "display_data"
    }
   ],
   "source": [
    "gz = \"./out/20200417_default_20200220_n74838/coaccess.gt0.1.tsv.gz\"\n",
    "high_conns = read.table(gz, header=F, sep='\\t')\n",
    "colnames(high_conns) = c(\"Peak1\", \"Peak2\", \"coaccess\")\n",
    "high_conns$distance = abs(as.integer(lapply(strsplit(as.character(high_conns$Peak1), \"_\"), \"[[\", 2)) - as.integer(lapply(strsplit(as.character(high_conns$Peak2), \"_\"), \"[[\", 2)))\n",
    "min(high_conns$coaccess)\n",
    "dim(high_conns)\n",
    "head(high_conns)"
   ]
  },
  {
   "cell_type": "code",
   "execution_count": 2668,
   "metadata": {},
   "outputs": [],
   "source": [
    "# filter by score \n",
    "# high_conns = high_conns[high_conns$coaccess>0.2, ]"
   ]
  },
  {
   "cell_type": "code",
   "execution_count": 1733,
   "metadata": {},
   "outputs": [
    {
     "data": {
      "text/html": [
       "<style>\n",
       ".list-inline {list-style: none; margin:0; padding: 0}\n",
       ".list-inline>li {display: inline-block}\n",
       ".list-inline>li:not(:last-child)::after {content: \"\\00b7\"; padding: 0 .5ex}\n",
       "</style>\n",
       "<ol class=list-inline><li>219858</li><li>4</li></ol>\n"
      ],
      "text/latex": [
       "\\begin{enumerate*}\n",
       "\\item 219858\n",
       "\\item 4\n",
       "\\end{enumerate*}\n"
      ],
      "text/markdown": [
       "1. 219858\n",
       "2. 4\n",
       "\n",
       "\n"
      ],
      "text/plain": [
       "[1] 219858      4"
      ]
     },
     "metadata": {},
     "output_type": "display_data"
    },
    {
     "data": {
      "text/html": [
       "<table>\n",
       "<caption>A data.frame: 6 × 4</caption>\n",
       "<thead>\n",
       "\t<tr><th></th><th scope=col>Peak1</th><th scope=col>Peak2</th><th scope=col>coaccess</th><th scope=col>distance</th></tr>\n",
       "\t<tr><th></th><th scope=col>&lt;fct&gt;</th><th scope=col>&lt;fct&gt;</th><th scope=col>&lt;dbl&gt;</th><th scope=col>&lt;int&gt;</th></tr>\n",
       "</thead>\n",
       "<tbody>\n",
       "\t<tr><th scope=row>1157043</th><td>chr18_27561557_27562162 </td><td>chr18_27562195_27562396 </td><td>0.3601625</td><td>638</td></tr>\n",
       "\t<tr><th scope=row>123970</th><td>chr10_698762_699055     </td><td>chr10_699056_699276     </td><td>0.5384204</td><td>294</td></tr>\n",
       "\t<tr><th scope=row>658843</th><td>chr14_25052740_25052941 </td><td>chr14_25051857_25052058 </td><td>0.4958961</td><td>883</td></tr>\n",
       "\t<tr><th scope=row>1582010</th><td>chr1_244163852_244164072</td><td>chr1_244164077_244164642</td><td>0.5900232</td><td>225</td></tr>\n",
       "\t<tr><th scope=row>346932</th><td>chr11_73158508_73158766 </td><td>chr11_73158809_73159024 </td><td>0.5399624</td><td>301</td></tr>\n",
       "\t<tr><th scope=row>3602501</th><td>chr9_33414988_33415194  </td><td>chr9_33414761_33414962  </td><td>0.5636898</td><td>227</td></tr>\n",
       "</tbody>\n",
       "</table>\n"
      ],
      "text/latex": [
       "A data.frame: 6 × 4\n",
       "\\begin{tabular}{r|llll}\n",
       "  & Peak1 & Peak2 & coaccess & distance\\\\\n",
       "  & <fct> & <fct> & <dbl> & <int>\\\\\n",
       "\\hline\n",
       "\t1157043 & chr18\\_27561557\\_27562162  & chr18\\_27562195\\_27562396  & 0.3601625 & 638\\\\\n",
       "\t123970 & chr10\\_698762\\_699055      & chr10\\_699056\\_699276      & 0.5384204 & 294\\\\\n",
       "\t658843 & chr14\\_25052740\\_25052941  & chr14\\_25051857\\_25052058  & 0.4958961 & 883\\\\\n",
       "\t1582010 & chr1\\_244163852\\_244164072 & chr1\\_244164077\\_244164642 & 0.5900232 & 225\\\\\n",
       "\t346932 & chr11\\_73158508\\_73158766  & chr11\\_73158809\\_73159024  & 0.5399624 & 301\\\\\n",
       "\t3602501 & chr9\\_33414988\\_33415194   & chr9\\_33414761\\_33414962   & 0.5636898 & 227\\\\\n",
       "\\end{tabular}\n"
      ],
      "text/markdown": [
       "\n",
       "A data.frame: 6 × 4\n",
       "\n",
       "| <!--/--> | Peak1 &lt;fct&gt; | Peak2 &lt;fct&gt; | coaccess &lt;dbl&gt; | distance &lt;int&gt; |\n",
       "|---|---|---|---|---|\n",
       "| 1157043 | chr18_27561557_27562162  | chr18_27562195_27562396  | 0.3601625 | 638 |\n",
       "| 123970 | chr10_698762_699055      | chr10_699056_699276      | 0.5384204 | 294 |\n",
       "| 658843 | chr14_25052740_25052941  | chr14_25051857_25052058  | 0.4958961 | 883 |\n",
       "| 1582010 | chr1_244163852_244164072 | chr1_244164077_244164642 | 0.5900232 | 225 |\n",
       "| 346932 | chr11_73158508_73158766  | chr11_73158809_73159024  | 0.5399624 | 301 |\n",
       "| 3602501 | chr9_33414988_33415194   | chr9_33414761_33414962   | 0.5636898 | 227 |\n",
       "\n"
      ],
      "text/plain": [
       "        Peak1                    Peak2                    coaccess  distance\n",
       "1157043 chr18_27561557_27562162  chr18_27562195_27562396  0.3601625 638     \n",
       "123970  chr10_698762_699055      chr10_699056_699276      0.5384204 294     \n",
       "658843  chr14_25052740_25052941  chr14_25051857_25052058  0.4958961 883     \n",
       "1582010 chr1_244163852_244164072 chr1_244164077_244164642 0.5900232 225     \n",
       "346932  chr11_73158508_73158766  chr11_73158809_73159024  0.5399624 301     \n",
       "3602501 chr9_33414988_33415194   chr9_33414761_33414962   0.5636898 227     "
      ]
     },
     "metadata": {},
     "output_type": "display_data"
    }
   ],
   "source": [
    "choose = na.omit(high_conns[(high_conns$coaccess>0.25)&(high_conns$distance<1000), ])\n",
    "choose = choose[sample(dim(choose)[1]), ]\n",
    "dim(choose)\n",
    "head(choose)"
   ]
  },
  {
   "cell_type": "markdown",
   "metadata": {},
   "source": [
    "## Prepare Promoters"
   ]
  },
  {
   "cell_type": "code",
   "execution_count": 2117,
   "metadata": {},
   "outputs": [
    {
     "name": "stderr",
     "output_type": "stream",
     "text": [
      "Warning message in readGFF(filepath, version = version, filter = filter):\n",
      "\"connection is not positioned at the start of the file, rewinding it\"\n"
     ]
    },
    {
     "data": {
      "text/plain": [
       "GRanges object with 3 ranges and 21 metadata columns:\n",
       "      seqnames        ranges strand |   source       type     score     phase\n",
       "         <Rle>     <IRanges>  <Rle> | <factor>   <factor> <numeric> <integer>\n",
       "  [1]     chr1   65419-71585      + |   HAVANA transcript      <NA>      <NA>\n",
       "  [2]     chr1   69055-70108      + |  ENSEMBL transcript      <NA>      <NA>\n",
       "  [3]     chr1 450703-451697      - |   HAVANA transcript      <NA>      <NA>\n",
       "                gene_id      gene_type   gene_name       level     hgnc_id\n",
       "            <character>    <character> <character> <character> <character>\n",
       "  [1] ENSG00000186092.6 protein_coding       OR4F5           2  HGNC:14825\n",
       "  [2] ENSG00000186092.6 protein_coding       OR4F5           3  HGNC:14825\n",
       "  [3] ENSG00000284733.1 protein_coding      OR4F29           2  HGNC:31275\n",
       "               havana_gene     transcript_id transcript_type transcript_name\n",
       "               <character>       <character>     <character>     <character>\n",
       "  [1] OTTHUMG00000001094.4 ENST00000641515.2  protein_coding       OR4F5-202\n",
       "  [2] OTTHUMG00000001094.4 ENST00000335137.4  protein_coding       OR4F5-201\n",
       "  [3] OTTHUMG00000002860.3 ENST00000426406.3  protein_coding      OR4F29-201\n",
       "      transcript_support_level         tag    havana_transcript exon_number\n",
       "                   <character> <character>          <character> <character>\n",
       "  [1]                     <NA>       basic OTTHUMT00000003223.4        <NA>\n",
       "  [2]                       NA        CCDS                 <NA>        <NA>\n",
       "  [3]                       NA        CCDS OTTHUMT00000007999.3        <NA>\n",
       "          exon_id         ont        protein_id      ccdsid\n",
       "      <character> <character>       <character> <character>\n",
       "  [1]        <NA>        <NA> ENSP00000493376.2        <NA>\n",
       "  [2]        <NA>        <NA> ENSP00000334393.3 CCDS30547.1\n",
       "  [3]        <NA>        <NA> ENSP00000409316.1 CCDS72675.1\n",
       "  -------\n",
       "  seqinfo: 25 sequences from an unspecified genome; no seqlengths"
      ]
     },
     "metadata": {},
     "output_type": "display_data"
    },
    {
     "data": {
      "text/html": [
       "58073"
      ],
      "text/latex": [
       "58073"
      ],
      "text/markdown": [
       "58073"
      ],
      "text/plain": [
       "[1] 58073"
      ]
     },
     "metadata": {},
     "output_type": "display_data"
    }
   ],
   "source": [
    "gencode.basic.hg38 = import.gff(gzfile(\"../../../resources/GENCODE/gencode.v33.chr_patch_hapl_scaff.basic.annotation.gtf.gz\"))\n",
    "gencode.basic.hg38 = keepStandardChromosomes(gencode.basic.hg38, pruning.mode = \"coarse\")\n",
    "gencode.basic.tx.hg38 = subset(subset(gencode.basic.hg38, gene_type==\"protein_coding\"), type==\"transcript\")\n",
    "head(gencode.basic.tx.hg38, 3)\n",
    "length(gencode.basic.tx.hg38)"
   ]
  },
  {
   "cell_type": "code",
   "execution_count": 2118,
   "metadata": {},
   "outputs": [
    {
     "data": {
      "text/plain": [
       "GRanges object with 51948 ranges and 21 metadata columns:\n",
       "          seqnames    ranges strand |   source       type     score     phase\n",
       "             <Rle> <IRanges>  <Rle> | <factor>   <factor> <numeric> <integer>\n",
       "      [1]     chr1     65419      + |   HAVANA transcript      <NA>      <NA>\n",
       "      [2]     chr1     69055      + |  ENSEMBL transcript      <NA>      <NA>\n",
       "      [3]     chr1    451697      - |   HAVANA transcript      <NA>      <NA>\n",
       "      [4]     chr1    686673      - |   HAVANA transcript      <NA>      <NA>\n",
       "      [5]     chr1    925731      + |   HAVANA transcript      <NA>      <NA>\n",
       "      ...      ...       ...    ... .      ...        ...       ...       ...\n",
       "  [51944]     chrM     10470      + |  ENSEMBL transcript      <NA>      <NA>\n",
       "  [51945]     chrM     10760      + |  ENSEMBL transcript      <NA>      <NA>\n",
       "  [51946]     chrM     12337      + |  ENSEMBL transcript      <NA>      <NA>\n",
       "  [51947]     chrM     14673      - |  ENSEMBL transcript      <NA>      <NA>\n",
       "  [51948]     chrM     14747      + |  ENSEMBL transcript      <NA>      <NA>\n",
       "                     gene_id      gene_type   gene_name       level     hgnc_id\n",
       "                 <character>    <character> <character> <character> <character>\n",
       "      [1]  ENSG00000186092.6 protein_coding       OR4F5           2  HGNC:14825\n",
       "      [2]  ENSG00000186092.6 protein_coding       OR4F5           3  HGNC:14825\n",
       "      [3]  ENSG00000284733.1 protein_coding      OR4F29           2  HGNC:31275\n",
       "      [4]  ENSG00000284662.1 protein_coding      OR4F16           2  HGNC:15079\n",
       "      [5] ENSG00000187634.12 protein_coding      SAMD11           2  HGNC:28706\n",
       "      ...                ...            ...         ...         ...         ...\n",
       "  [51944]  ENSG00000212907.2 protein_coding     MT-ND4L           3   HGNC:7460\n",
       "  [51945]  ENSG00000198886.2 protein_coding      MT-ND4           3   HGNC:7459\n",
       "  [51946]  ENSG00000198786.2 protein_coding      MT-ND5           3   HGNC:7461\n",
       "  [51947]  ENSG00000198695.2 protein_coding      MT-ND6           3   HGNC:7462\n",
       "  [51948]  ENSG00000198727.2 protein_coding      MT-CYB           3   HGNC:7427\n",
       "                    havana_gene     transcript_id transcript_type\n",
       "                    <character>       <character>     <character>\n",
       "      [1]  OTTHUMG00000001094.4 ENST00000641515.2  protein_coding\n",
       "      [2]  OTTHUMG00000001094.4 ENST00000335137.4  protein_coding\n",
       "      [3]  OTTHUMG00000002860.3 ENST00000426406.3  protein_coding\n",
       "      [4]  OTTHUMG00000002581.3 ENST00000332831.4  protein_coding\n",
       "      [5] OTTHUMG00000040719.11 ENST00000342066.8  protein_coding\n",
       "      ...                   ...               ...             ...\n",
       "  [51944]                  <NA> ENST00000361335.1  protein_coding\n",
       "  [51945]                  <NA> ENST00000361381.2  protein_coding\n",
       "  [51946]                  <NA> ENST00000361567.2  protein_coding\n",
       "  [51947]                  <NA> ENST00000361681.2  protein_coding\n",
       "  [51948]                  <NA> ENST00000361789.2  protein_coding\n",
       "          transcript_name transcript_support_level                tag\n",
       "              <character>              <character>        <character>\n",
       "      [1]       OR4F5-202                     <NA>              basic\n",
       "      [2]       OR4F5-201                       NA               CCDS\n",
       "      [3]      OR4F29-201                       NA               CCDS\n",
       "      [4]      OR4F16-201                       NA               CCDS\n",
       "      [5]      SAMD11-202                        5               CCDS\n",
       "      ...             ...                      ...                ...\n",
       "  [51944]     MT-ND4L-201                       NA appris_principal_1\n",
       "  [51945]      MT-ND4-201                       NA appris_principal_1\n",
       "  [51946]      MT-ND5-201                       NA appris_principal_1\n",
       "  [51947]      MT-ND6-201                       NA appris_principal_1\n",
       "  [51948]      MT-CYB-201                       NA appris_principal_1\n",
       "             havana_transcript exon_number     exon_id         ont\n",
       "                   <character> <character> <character> <character>\n",
       "      [1] OTTHUMT00000003223.4        <NA>        <NA>        <NA>\n",
       "      [2]                 <NA>        <NA>        <NA>        <NA>\n",
       "      [3] OTTHUMT00000007999.3        <NA>        <NA>        <NA>\n",
       "      [4] OTTHUMT00000007334.3        <NA>        <NA>        <NA>\n",
       "      [5] OTTHUMT00000276866.3        <NA>        <NA>        <NA>\n",
       "      ...                  ...         ...         ...         ...\n",
       "  [51944]                 <NA>        <NA>        <NA>        <NA>\n",
       "  [51945]                 <NA>        <NA>        <NA>        <NA>\n",
       "  [51946]                 <NA>        <NA>        <NA>        <NA>\n",
       "  [51947]                 <NA>        <NA>        <NA>        <NA>\n",
       "  [51948]                 <NA>        <NA>        <NA>        <NA>\n",
       "                 protein_id      ccdsid\n",
       "                <character> <character>\n",
       "      [1] ENSP00000493376.2        <NA>\n",
       "      [2] ENSP00000334393.3 CCDS30547.1\n",
       "      [3] ENSP00000409316.1 CCDS72675.1\n",
       "      [4] ENSP00000329982.2 CCDS41221.1\n",
       "      [5] ENSP00000342313.3     CCDS2.2\n",
       "      ...               ...         ...\n",
       "  [51944] ENSP00000354728.1        <NA>\n",
       "  [51945] ENSP00000354961.2        <NA>\n",
       "  [51946] ENSP00000354813.2        <NA>\n",
       "  [51947] ENSP00000354665.2        <NA>\n",
       "  [51948] ENSP00000354554.2        <NA>\n",
       "  -------\n",
       "  seqinfo: 25 sequences from an unspecified genome; no seqlengths"
      ]
     },
     "metadata": {},
     "output_type": "display_data"
    }
   ],
   "source": [
    "tss.hg38 = unique(resize(gencode.basic.tx.hg38, width=1, fix='start'))\n",
    "tss.hg38"
   ]
  },
  {
   "cell_type": "code",
   "execution_count": 2299,
   "metadata": {},
   "outputs": [
    {
     "data": {
      "text/plain": [
       "GRanges object with 51948 ranges and 21 metadata columns:\n",
       "          seqnames        ranges strand |   source       type     score\n",
       "             <Rle>     <IRanges>  <Rle> | <factor>   <factor> <numeric>\n",
       "      [1]     chr1   62919-67918      + |   HAVANA transcript      <NA>\n",
       "      [2]     chr1   66555-71554      + |  ENSEMBL transcript      <NA>\n",
       "      [3]     chr1 449198-454197      - |   HAVANA transcript      <NA>\n",
       "      [4]     chr1 684174-689173      - |   HAVANA transcript      <NA>\n",
       "      [5]     chr1 923231-928230      + |   HAVANA transcript      <NA>\n",
       "      ...      ...           ...    ... .      ...        ...       ...\n",
       "  [51944]     chrM    7970-12969      + |  ENSEMBL transcript      <NA>\n",
       "  [51945]     chrM    8260-13259      + |  ENSEMBL transcript      <NA>\n",
       "  [51946]     chrM    9837-14836      + |  ENSEMBL transcript      <NA>\n",
       "  [51947]     chrM   12174-17173      - |  ENSEMBL transcript      <NA>\n",
       "  [51948]     chrM   12247-17246      + |  ENSEMBL transcript      <NA>\n",
       "              phase            gene_id      gene_type   gene_name       level\n",
       "          <integer>        <character>    <character> <character> <character>\n",
       "      [1]      <NA>  ENSG00000186092.6 protein_coding       OR4F5           2\n",
       "      [2]      <NA>  ENSG00000186092.6 protein_coding       OR4F5           3\n",
       "      [3]      <NA>  ENSG00000284733.1 protein_coding      OR4F29           2\n",
       "      [4]      <NA>  ENSG00000284662.1 protein_coding      OR4F16           2\n",
       "      [5]      <NA> ENSG00000187634.12 protein_coding      SAMD11           2\n",
       "      ...       ...                ...            ...         ...         ...\n",
       "  [51944]      <NA>  ENSG00000212907.2 protein_coding     MT-ND4L           3\n",
       "  [51945]      <NA>  ENSG00000198886.2 protein_coding      MT-ND4           3\n",
       "  [51946]      <NA>  ENSG00000198786.2 protein_coding      MT-ND5           3\n",
       "  [51947]      <NA>  ENSG00000198695.2 protein_coding      MT-ND6           3\n",
       "  [51948]      <NA>  ENSG00000198727.2 protein_coding      MT-CYB           3\n",
       "              hgnc_id           havana_gene     transcript_id transcript_type\n",
       "          <character>           <character>       <character>     <character>\n",
       "      [1]  HGNC:14825  OTTHUMG00000001094.4 ENST00000641515.2  protein_coding\n",
       "      [2]  HGNC:14825  OTTHUMG00000001094.4 ENST00000335137.4  protein_coding\n",
       "      [3]  HGNC:31275  OTTHUMG00000002860.3 ENST00000426406.3  protein_coding\n",
       "      [4]  HGNC:15079  OTTHUMG00000002581.3 ENST00000332831.4  protein_coding\n",
       "      [5]  HGNC:28706 OTTHUMG00000040719.11 ENST00000342066.8  protein_coding\n",
       "      ...         ...                   ...               ...             ...\n",
       "  [51944]   HGNC:7460                  <NA> ENST00000361335.1  protein_coding\n",
       "  [51945]   HGNC:7459                  <NA> ENST00000361381.2  protein_coding\n",
       "  [51946]   HGNC:7461                  <NA> ENST00000361567.2  protein_coding\n",
       "  [51947]   HGNC:7462                  <NA> ENST00000361681.2  protein_coding\n",
       "  [51948]   HGNC:7427                  <NA> ENST00000361789.2  protein_coding\n",
       "          transcript_name transcript_support_level                tag\n",
       "              <character>              <character>        <character>\n",
       "      [1]       OR4F5-202                     <NA>              basic\n",
       "      [2]       OR4F5-201                       NA               CCDS\n",
       "      [3]      OR4F29-201                       NA               CCDS\n",
       "      [4]      OR4F16-201                       NA               CCDS\n",
       "      [5]      SAMD11-202                        5               CCDS\n",
       "      ...             ...                      ...                ...\n",
       "  [51944]     MT-ND4L-201                       NA appris_principal_1\n",
       "  [51945]      MT-ND4-201                       NA appris_principal_1\n",
       "  [51946]      MT-ND5-201                       NA appris_principal_1\n",
       "  [51947]      MT-ND6-201                       NA appris_principal_1\n",
       "  [51948]      MT-CYB-201                       NA appris_principal_1\n",
       "             havana_transcript exon_number     exon_id         ont\n",
       "                   <character> <character> <character> <character>\n",
       "      [1] OTTHUMT00000003223.4        <NA>        <NA>        <NA>\n",
       "      [2]                 <NA>        <NA>        <NA>        <NA>\n",
       "      [3] OTTHUMT00000007999.3        <NA>        <NA>        <NA>\n",
       "      [4] OTTHUMT00000007334.3        <NA>        <NA>        <NA>\n",
       "      [5] OTTHUMT00000276866.3        <NA>        <NA>        <NA>\n",
       "      ...                  ...         ...         ...         ...\n",
       "  [51944]                 <NA>        <NA>        <NA>        <NA>\n",
       "  [51945]                 <NA>        <NA>        <NA>        <NA>\n",
       "  [51946]                 <NA>        <NA>        <NA>        <NA>\n",
       "  [51947]                 <NA>        <NA>        <NA>        <NA>\n",
       "  [51948]                 <NA>        <NA>        <NA>        <NA>\n",
       "                 protein_id      ccdsid\n",
       "                <character> <character>\n",
       "      [1] ENSP00000493376.2        <NA>\n",
       "      [2] ENSP00000334393.3 CCDS30547.1\n",
       "      [3] ENSP00000409316.1 CCDS72675.1\n",
       "      [4] ENSP00000329982.2 CCDS41221.1\n",
       "      [5] ENSP00000342313.3     CCDS2.2\n",
       "      ...               ...         ...\n",
       "  [51944] ENSP00000354728.1        <NA>\n",
       "  [51945] ENSP00000354961.2        <NA>\n",
       "  [51946] ENSP00000354813.2        <NA>\n",
       "  [51947] ENSP00000354665.2        <NA>\n",
       "  [51948] ENSP00000354554.2        <NA>\n",
       "  -------\n",
       "  seqinfo: 25 sequences from an unspecified genome; no seqlengths"
      ]
     },
     "metadata": {},
     "output_type": "display_data"
    }
   ],
   "source": [
    "# for downstream analyses, allow co-accessibility to tss proximal enhancers\n",
    "prom.hg38 = promoters(tss.hg38, upstream = 2500, downstream = 2500)\n",
    "prom.hg38"
   ]
  },
  {
   "cell_type": "markdown",
   "metadata": {},
   "source": [
    "## Visualize"
   ]
  },
  {
   "cell_type": "code",
   "execution_count": 2300,
   "metadata": {},
   "outputs": [],
   "source": [
    "gene_anno <- data.frame(gencode.basic.hg38)\n",
    "gene_anno = gene_anno[!is.na(gene_anno$exon_number), ]\n",
    "\n",
    "\n",
    "# rename some columns to match requirements\n",
    "gene_anno$chromosome <-  gene_anno$seqnames\n",
    "gene_anno$gene <- gene_anno$gene_id\n",
    "gene_anno$transcript <- gene_anno$transcript_name\n",
    "gene_anno$symbol <- gene_anno$gene_name"
   ]
  },
  {
   "cell_type": "code",
   "execution_count": 2208,
   "metadata": {},
   "outputs": [
    {
     "data": {
      "text/html": [
       "<style>\n",
       ".list-inline {list-style: none; margin:0; padding: 0}\n",
       ".list-inline>li {display: inline-block}\n",
       ".list-inline>li:not(:last-child)::after {content: \"\\00b7\"; padding: 0 .5ex}\n",
       "</style>\n",
       "<ol class=list-inline><li>1603274</li><li>30</li></ol>\n"
      ],
      "text/latex": [
       "\\begin{enumerate*}\n",
       "\\item 1603274\n",
       "\\item 30\n",
       "\\end{enumerate*}\n"
      ],
      "text/markdown": [
       "1. 1603274\n",
       "2. 30\n",
       "\n",
       "\n"
      ],
      "text/plain": [
       "[1] 1603274      30"
      ]
     },
     "metadata": {},
     "output_type": "display_data"
    }
   ],
   "source": [
    "dim(gene_anno)"
   ]
  },
  {
   "cell_type": "code",
   "execution_count": 2213,
   "metadata": {},
   "outputs": [
    {
     "data": {
      "image/png": "[encoded data removed]",
      "text/plain": [
       "plot without title"
      ]
     },
     "metadata": {
      "image/png": {
       "height": 600,
       "width": 1200
      },
      "text/plain": {
       "height": 600,
       "width": 1200
      }
     },
     "output_type": "display_data"
    }
   ],
   "source": [
    "options(repr.plot.width = 20, repr.plot.height = 10)\n",
    "\n",
    "plot_connections(high_conns[high_conns$distance>1000,], \"chr5\", 147578594, 147788708,\n",
    "#                  viewpoint = \"chr2_209425462_209426064\",\n",
    "                 gene_model = gene_anno, \n",
    "                 coaccess_cutoff = .3, \n",
    "                 connection_width = .5, \n",
    "                 collapseTranscripts = \"longest\" )"
   ]
  },
  {
   "cell_type": "markdown",
   "metadata": {},
   "source": [
    "## Peak Sets"
   ]
  },
  {
   "cell_type": "code",
   "execution_count": 2890,
   "metadata": {},
   "outputs": [
    {
     "data": {
      "text/html": [
       "<style>\n",
       ".list-inline {list-style: none; margin:0; padding: 0}\n",
       ".list-inline>li {display: inline-block}\n",
       ".list-inline>li:not(:last-child)::after {content: \"\\00b7\"; padding: 0 .5ex}\n",
       "</style>\n",
       "<ol class=list-inline><li>'chr10:100006055-100006360'</li><li>'chr10:100006055-100006360'</li><li>'chr10:100006055-100006360'</li><li>'chr10:100006055-100006360'</li><li>'chr10:100006055-100006360'</li><li>'chr10:100006055-100006360'</li></ol>\n"
      ],
      "text/latex": [
       "\\begin{enumerate*}\n",
       "\\item 'chr10:100006055-100006360'\n",
       "\\item 'chr10:100006055-100006360'\n",
       "\\item 'chr10:100006055-100006360'\n",
       "\\item 'chr10:100006055-100006360'\n",
       "\\item 'chr10:100006055-100006360'\n",
       "\\item 'chr10:100006055-100006360'\n",
       "\\end{enumerate*}\n"
      ],
      "text/markdown": [
       "1. 'chr10:100006055-100006360'\n",
       "2. 'chr10:100006055-100006360'\n",
       "3. 'chr10:100006055-100006360'\n",
       "4. 'chr10:100006055-100006360'\n",
       "5. 'chr10:100006055-100006360'\n",
       "6. 'chr10:100006055-100006360'\n",
       "\n",
       "\n"
      ],
      "text/plain": [
       "[1] \"chr10:100006055-100006360\" \"chr10:100006055-100006360\"\n",
       "[3] \"chr10:100006055-100006360\" \"chr10:100006055-100006360\"\n",
       "[5] \"chr10:100006055-100006360\" \"chr10:100006055-100006360\""
      ]
     },
     "metadata": {},
     "output_type": "display_data"
    },
    {
     "data": {
      "text/html": [
       "<style>\n",
       ".list-inline {list-style: none; margin:0; padding: 0}\n",
       ".list-inline>li {display: inline-block}\n",
       ".list-inline>li:not(:last-child)::after {content: \"\\00b7\"; padding: 0 .5ex}\n",
       "</style>\n",
       "<ol class=list-inline><li>'chr10:99775825-99776218'</li><li>'chr10:99776241-99776466'</li><li>'chr10:99779363-99780088'</li><li>'chr10:99783995-99784700'</li><li>'chr10:99788543-99788788'</li><li>'chr10:99788793-99789003'</li></ol>\n"
      ],
      "text/latex": [
       "\\begin{enumerate*}\n",
       "\\item 'chr10:99775825-99776218'\n",
       "\\item 'chr10:99776241-99776466'\n",
       "\\item 'chr10:99779363-99780088'\n",
       "\\item 'chr10:99783995-99784700'\n",
       "\\item 'chr10:99788543-99788788'\n",
       "\\item 'chr10:99788793-99789003'\n",
       "\\end{enumerate*}\n"
      ],
      "text/markdown": [
       "1. 'chr10:99775825-99776218'\n",
       "2. 'chr10:99776241-99776466'\n",
       "3. 'chr10:99779363-99780088'\n",
       "4. 'chr10:99783995-99784700'\n",
       "5. 'chr10:99788543-99788788'\n",
       "6. 'chr10:99788793-99789003'\n",
       "\n",
       "\n"
      ],
      "text/plain": [
       "[1] \"chr10:99775825-99776218\" \"chr10:99776241-99776466\"\n",
       "[3] \"chr10:99779363-99780088\" \"chr10:99783995-99784700\"\n",
       "[5] \"chr10:99788543-99788788\" \"chr10:99788793-99789003\""
      ]
     },
     "metadata": {},
     "output_type": "display_data"
    }
   ],
   "source": [
    "peaks_left = sub(\"_\", \"-\", sub(\"_\", \":\", high_conns$Peak1))\n",
    "peaks_right = sub(\"_\", \"-\", sub(\"_\", \":\", high_conns$Peak2))\n",
    "head(peaks_left)\n",
    "head(peaks_right)"
   ]
  },
  {
   "cell_type": "code",
   "execution_count": 2891,
   "metadata": {},
   "outputs": [
    {
     "data": {
      "text/html": [
       "TRUE"
      ],
      "text/latex": [
       "TRUE"
      ],
      "text/markdown": [
       "TRUE"
      ],
      "text/plain": [
       "[1] TRUE"
      ]
     },
     "metadata": {},
     "output_type": "display_data"
    }
   ],
   "source": [
    "# looks like each connection is entered twice\n",
    "all(sort(peaks_left)==sort(peaks_right))"
   ]
  },
  {
   "cell_type": "code",
   "execution_count": 2892,
   "metadata": {},
   "outputs": [
    {
     "data": {
      "text/html": [
       "544458"
      ],
      "text/latex": [
       "544458"
      ],
      "text/markdown": [
       "544458"
      ],
      "text/plain": [
       "[1] 544458"
      ]
     },
     "metadata": {},
     "output_type": "display_data"
    },
    {
     "data": {
      "text/html": [
       "544458"
      ],
      "text/latex": [
       "544458"
      ],
      "text/markdown": [
       "544458"
      ],
      "text/plain": [
       "[1] 544458"
      ]
     },
     "metadata": {},
     "output_type": "display_data"
    }
   ],
   "source": [
    "peaks_left_is_gene = seq(1,length(peaks_left)) %in% queryHits(findOverlaps(GRanges(peaks_left), prom.hg38))\n",
    "peaks_right_is_gene = seq(1,length(peaks_right)) %in% queryHits(findOverlaps(GRanges(peaks_right), prom.hg38))\n",
    "sum(peaks_left_is_gene)\n",
    "sum(peaks_right_is_gene)"
   ]
  },
  {
   "cell_type": "code",
   "execution_count": 2992,
   "metadata": {},
   "outputs": [
    {
     "data": {
      "text/html": [
       "<style>\n",
       ".list-inline {list-style: none; margin:0; padding: 0}\n",
       ".list-inline>li {display: inline-block}\n",
       ".list-inline>li:not(:last-child)::after {content: \"\\00b7\"; padding: 0 .5ex}\n",
       "</style>\n",
       "<ol class=list-inline><li>'chr1:1149961-1150429'</li><li>'chr1:1167429-1167630'</li><li>'chr1:1191662-1192082'</li><li>'chr1:1256339-1256738'</li><li>'chr1:1315536-1315753'</li><li>'chr1:1315769-1315985'</li></ol>\n"
      ],
      "text/latex": [
       "\\begin{enumerate*}\n",
       "\\item 'chr1:1149961-1150429'\n",
       "\\item 'chr1:1167429-1167630'\n",
       "\\item 'chr1:1191662-1192082'\n",
       "\\item 'chr1:1256339-1256738'\n",
       "\\item 'chr1:1315536-1315753'\n",
       "\\item 'chr1:1315769-1315985'\n",
       "\\end{enumerate*}\n"
      ],
      "text/markdown": [
       "1. 'chr1:1149961-1150429'\n",
       "2. 'chr1:1167429-1167630'\n",
       "3. 'chr1:1191662-1192082'\n",
       "4. 'chr1:1256339-1256738'\n",
       "5. 'chr1:1315536-1315753'\n",
       "6. 'chr1:1315769-1315985'\n",
       "\n",
       "\n"
      ],
      "text/plain": [
       "[1] \"chr1:1149961-1150429\" \"chr1:1167429-1167630\" \"chr1:1191662-1192082\"\n",
       "[4] \"chr1:1256339-1256738\" \"chr1:1315536-1315753\" \"chr1:1315769-1315985\""
      ]
     },
     "metadata": {},
     "output_type": "display_data"
    }
   ],
   "source": [
    "peak_set = read.table(\"../20200307_fine_clustering/beds/20200330_gridmap_peakwidthnorm_n20/idx2.bed\")\n",
    "# peak_set = rbind(peak_set, read.table(\"../20200307_fine_clustering/beds/20200330_gridmap_peakwidthnorm_n20/idx18.bed\"))\n",
    "# peak_set = rbind(peak_set, read.table(\"../20200307_fine_clustering/beds/20200330_gridmap_peakwidthnorm_n20/idx12.bed\"))\n",
    "# peak_set = rbind(peak_set, read.table(\"../20200307_fine_clustering/beds/20200330_gridmap_peakwidthnorm_n20/idx15.bed\"))\n",
    "colnames(peak_set) = c(\"chr\", \"start\", \"end\")\n",
    "peak_set = paste(paste(peak_set$chr, peak_set$start, sep=\":\"), peak_set$end, sep='-')\n",
    "head(peak_set)"
   ]
  },
  {
   "cell_type": "code",
   "execution_count": 2993,
   "metadata": {},
   "outputs": [
    {
     "data": {
      "text/html": [
       "284173"
      ],
      "text/latex": [
       "284173"
      ],
      "text/markdown": [
       "284173"
      ],
      "text/plain": [
       "[1] 284173"
      ]
     },
     "metadata": {},
     "output_type": "display_data"
    },
    {
     "data": {
      "text/html": [
       "284173"
      ],
      "text/latex": [
       "284173"
      ],
      "text/markdown": [
       "284173"
      ],
      "text/plain": [
       "[1] 284173"
      ]
     },
     "metadata": {},
     "output_type": "display_data"
    }
   ],
   "source": [
    "peaks_left_overlaps_peak_set = seq(1,length(peaks_left)) %in% queryHits(findOverlaps(GRanges(peaks_left), GRanges(peak_set)))\n",
    "peaks_right_overlaps_peak_set = seq(1,length(peaks_right)) %in% queryHits(findOverlaps(GRanges(peaks_right), GRanges(peak_set)))\n",
    "sum(peaks_left_overlaps_peak_set)\n",
    "sum(peaks_right_overlaps_peak_set)"
   ]
  },
  {
   "cell_type": "code",
   "execution_count": 2994,
   "metadata": {},
   "outputs": [
    {
     "data": {
      "text/html": [
       "12378"
      ],
      "text/latex": [
       "12378"
      ],
      "text/markdown": [
       "12378"
      ],
      "text/plain": [
       "[1] 12378"
      ]
     },
     "metadata": {},
     "output_type": "display_data"
    }
   ],
   "source": [
    "length(peak_set)"
   ]
  },
  {
   "cell_type": "code",
   "execution_count": 2995,
   "metadata": {},
   "outputs": [
    {
     "data": {
      "text/html": [
       "28689"
      ],
      "text/latex": [
       "28689"
      ],
      "text/markdown": [
       "28689"
      ],
      "text/plain": [
       "[1] 28689"
      ]
     },
     "metadata": {},
     "output_type": "display_data"
    },
    {
     "data": {
      "text/html": [
       "5719"
      ],
      "text/latex": [
       "5719"
      ],
      "text/markdown": [
       "5719"
      ],
      "text/plain": [
       "[1] 5719"
      ]
     },
     "metadata": {},
     "output_type": "display_data"
    },
    {
     "data": {
      "text/html": [
       "13006"
      ],
      "text/latex": [
       "13006"
      ],
      "text/markdown": [
       "13006"
      ],
      "text/plain": [
       "[1] 13006"
      ]
     },
     "metadata": {},
     "output_type": "display_data"
    }
   ],
   "source": [
    "# find enhancer/non-promoter -> gene links such that enhancer belongs to set\n",
    "# can look from left to right only since each link is repeated twice \n",
    "enhancer_to_gene_link = (peaks_left_overlaps_peak_set&(!peaks_left_is_gene)&(peaks_right_is_gene)) #&(high_conns$distance>10000))\n",
    "e2g_overlaps = findOverlaps(GRanges(peaks_right[enhancer_to_gene_link]), prom.hg38)\n",
    "e2g_enhs = peaks_left[enhancer_to_gene_link][queryHits(e2g_overlaps)] # these are the enhancers that link to gene\n",
    "e2g_genes = prom.hg38[subjectHits(e2g_overlaps)]$gene_name\n",
    "e2g_transcripts = prom.hg38[subjectHits(e2g_overlaps)]$transcript_name\n",
    "e2g_uniq = unique(data.frame(e=e2g_enhs, g=e2g_genes)) # uniquify e-g link\n",
    "e2gt_uniq = unique(data.frame(e=e2g_enhs, gtx=e2g_transcripts)) # uniquify e-g:tx link\n",
    "\n",
    "sum(enhancer_to_gene_link)\n",
    "length(unique(e2g_uniq$g))\n",
    "length(unique(e2gt_uniq$gtx))"
   ]
  },
  {
   "cell_type": "code",
   "execution_count": 2996,
   "metadata": {},
   "outputs": [
    {
     "data": {
      "text/plain": [
       "\n",
       "    RPL39L     PTGFRN      IGSF3     HS3ST5    ST6GAL1    PIK3AP1     AKAP12 \n",
       "        24         23         22         22         21         21         21 \n",
       "      TLL2      LEMD2      ARMT1     MAP4K3      LLGL2      ITGB4    GADD45G \n",
       "        20         20         19         18         18         18         18 \n",
       "    TM9SF3    SERINC5      EFCC1      CD101    TMEM181     SEC11C   RASGEF1A \n",
       "        17         17         17         17         16         16         16 \n",
       "      FGD3      FETUB     FBXW11      UPK1B      TSTD1      TEX44     SHISA5 \n",
       "        16         16         16         15         15         15         15 \n",
       "       RET    NECTIN4     NDUFS2   KIAA1257      ITLN1        GRP       F11R \n",
       "        15         15         15         15         15         15         15 \n",
       "   B4GALT3     B3GNT7 AL591806.4    ADAMTS4     ZNF532       YAF2      WIPF3 \n",
       "        15         15         15         15         14         14         14 \n",
       "     THBS4      SYTL3      SUSD3       STUM    SLCO3A1    SLC47A2    SLC47A1 \n",
       "        14         14         14         14         14         14         14 \n",
       "     RIPK1 \n",
       "        14 "
      ]
     },
     "metadata": {},
     "output_type": "display_data"
    },
    {
     "data": {
      "text/plain": [
       "\n",
       "  RPL39L-202   PTGFRN-201    IGSF3-203    IGSF3-202    IGSF3-201   HS3ST5-201 \n",
       "          24           23           22           22           22           22 \n",
       " PIK3AP1-201     TLL2-201  ST6GAL1-201    LEMD2-207   AKAP12-203  ST6GAL1-211 \n",
       "          21           20           20           20           20           19 \n",
       "   ARMT1-201    LLGL2-209    LLGL2-203    LLGL2-202    LLGL2-201    ITGB4-206 \n",
       "          19           18           18           18           18           18 \n",
       "   ITGB4-203    ITGB4-202    ITGB4-201  GADD45G-202  GADD45G-201   TM9SF3-201 \n",
       "          18           18           18           18           18           17 \n",
       " SERINC5-203  SERINC5-202    EFCC1-201    CD101-202    CD101-201  TMEM181-201 \n",
       "          17           17           17           17           17           16 \n",
       "  SEC11C-205   SEC11C-204   SEC11C-202 RASGEF1A-202   MAP4K3-211   MAP4K3-202 \n",
       "          16           16           16           16           16           16 \n",
       "  MAP4K3-201     FGD3-202     FGD3-201    FETUB-203    FETUB-202    FETUB-201 \n",
       "          16           16           16           16           16           16 \n",
       "  FBXW11-203   FBXW11-202   FBXW11-201   AKAP12-202    UPK1B-205    UPK1B-201 \n",
       "          16           16           16           16           15           15 \n",
       "   TSTD1-206    TSTD1-204 \n",
       "          15           15 "
      ]
     },
     "metadata": {},
     "output_type": "display_data"
    }
   ],
   "source": [
    "rev(sort(table(e2g_uniq$g)))[1:50]\n",
    "rev(sort(table(e2gt_uniq$gtx)))[1:50]\n",
    "# rev(sort(table(e2g_genes)))[200]"
   ]
  },
  {
   "cell_type": "code",
   "execution_count": 2968,
   "metadata": {},
   "outputs": [
    {
     "data": {
      "text/html": [
       "<table>\n",
       "<caption>A data.frame: 0 × 2</caption>\n",
       "<thead>\n",
       "\t<tr><th scope=col>e</th><th scope=col>g</th></tr>\n",
       "\t<tr><th scope=col>&lt;fct&gt;</th><th scope=col>&lt;fct&gt;</th></tr>\n",
       "</thead>\n",
       "<tbody>\n",
       "</tbody>\n",
       "</table>\n"
      ],
      "text/latex": [
       "A data.frame: 0 × 2\n",
       "\\begin{tabular}{ll}\n",
       " e & g\\\\\n",
       " <fct> & <fct>\\\\\n",
       "\\hline\n",
       "\\end{tabular}\n"
      ],
      "text/markdown": [
       "\n",
       "A data.frame: 0 × 2\n",
       "\n",
       "| e &lt;fct&gt; | g &lt;fct&gt; |\n",
       "|---|---|\n",
       "\n"
      ],
      "text/plain": [
       "     e g"
      ]
     },
     "metadata": {},
     "output_type": "display_data"
    }
   ],
   "source": [
    "e2g_uniq[grepl(\"CXCR1\", e2g_uniq$g),]"
   ]
  },
  {
   "cell_type": "code",
   "execution_count": 2940,
   "metadata": {},
   "outputs": [
    {
     "data": {
      "text/html": [
       "TRUE"
      ],
      "text/latex": [
       "TRUE"
      ],
      "text/markdown": [
       "TRUE"
      ],
      "text/plain": [
       "[1] TRUE"
      ]
     },
     "metadata": {},
     "output_type": "display_data"
    },
    {
     "data": {
      "text/html": [
       "<strong>MAP2:</strong> 4"
      ],
      "text/latex": [
       "\\textbf{MAP2:} 4"
      ],
      "text/markdown": [
       "**MAP2:** 4"
      ],
      "text/plain": [
       "MAP2 \n",
       "   4 "
      ]
     },
     "metadata": {},
     "output_type": "display_data"
    }
   ],
   "source": [
    "Q = \"MAP2\"\n",
    "Q %in% unique(e2g_uniq$g)\n",
    "table(e2g_uniq$g)[Q]"
   ]
  },
  {
   "cell_type": "code",
   "execution_count": 2413,
   "metadata": {},
   "outputs": [],
   "source": [
    "# high_conns[enhancer_to_gene_link,][unique(queryHits(findOverlaps(GRanges(peaks_right[enhancer_to_gene_link]), prom.hg38[prom.hg38$gene_id==\"MYCN\"]))),]"
   ]
  },
  {
   "cell_type": "code",
   "execution_count": 2532,
   "metadata": {},
   "outputs": [],
   "source": [
    "# all peaks that are coaccessible with this set of peaks\n",
    "links_part_of = peaks_left_overlaps_peak_set # don't need right as each link appears twice\n",
    "peaks_touched = unique(c(peaks_left[links_part_of], peaks_right[links_part_of], peak_set))"
   ]
  },
  {
   "cell_type": "code",
   "execution_count": 2533,
   "metadata": {},
   "outputs": [
    {
     "data": {
      "text/html": [
       "76953"
      ],
      "text/latex": [
       "76953"
      ],
      "text/markdown": [
       "76953"
      ],
      "text/plain": [
       "[1] 76953"
      ]
     },
     "metadata": {},
     "output_type": "display_data"
    },
    {
     "data": {
      "text/html": [
       "<style>\n",
       ".list-inline {list-style: none; margin:0; padding: 0}\n",
       ".list-inline>li {display: inline-block}\n",
       ".list-inline>li:not(:last-child)::after {content: \"\\00b7\"; padding: 0 .5ex}\n",
       "</style>\n",
       "<ol class=list-inline><li>'chr10:100038048-100038259'</li><li>'chr10:100038266-100038787'</li><li>'chr10:100503198-100503471'</li><li>'chr10:100509498-100509759'</li><li>'chr10:1007651-1007877'</li><li>'chr10:101160643-101160965'</li></ol>\n"
      ],
      "text/latex": [
       "\\begin{enumerate*}\n",
       "\\item 'chr10:100038048-100038259'\n",
       "\\item 'chr10:100038266-100038787'\n",
       "\\item 'chr10:100503198-100503471'\n",
       "\\item 'chr10:100509498-100509759'\n",
       "\\item 'chr10:1007651-1007877'\n",
       "\\item 'chr10:101160643-101160965'\n",
       "\\end{enumerate*}\n"
      ],
      "text/markdown": [
       "1. 'chr10:100038048-100038259'\n",
       "2. 'chr10:100038266-100038787'\n",
       "3. 'chr10:100503198-100503471'\n",
       "4. 'chr10:100509498-100509759'\n",
       "5. 'chr10:1007651-1007877'\n",
       "6. 'chr10:101160643-101160965'\n",
       "\n",
       "\n"
      ],
      "text/plain": [
       "[1] \"chr10:100038048-100038259\" \"chr10:100038266-100038787\"\n",
       "[3] \"chr10:100503198-100503471\" \"chr10:100509498-100509759\"\n",
       "[5] \"chr10:1007651-1007877\"     \"chr10:101160643-101160965\""
      ]
     },
     "metadata": {},
     "output_type": "display_data"
    }
   ],
   "source": [
    "length(peaks_touched)\n",
    "head(peaks_touched)"
   ]
  },
  {
   "cell_type": "code",
   "execution_count": 2534,
   "metadata": {},
   "outputs": [
    {
     "data": {
      "text/html": [
       "2360"
      ],
      "text/latex": [
       "2360"
      ],
      "text/markdown": [
       "2360"
      ],
      "text/plain": [
       "[1] 2360"
      ]
     },
     "metadata": {},
     "output_type": "display_data"
    }
   ],
   "source": [
    "# all genes touch\n",
    "genes_touched = unique(prom.hg38[unique(queryHits(findOverlaps(prom.hg38, GRanges(peaks_touched))))]$gene_name)\n",
    "length(genes_touched)"
   ]
  },
  {
   "cell_type": "code",
   "execution_count": 2535,
   "metadata": {},
   "outputs": [
    {
     "data": {
      "text/html": [
       "TRUE"
      ],
      "text/latex": [
       "TRUE"
      ],
      "text/markdown": [
       "TRUE"
      ],
      "text/plain": [
       "[1] TRUE"
      ]
     },
     "metadata": {},
     "output_type": "display_data"
    }
   ],
   "source": [
    "\"JAKMIP2\" %in% genes_touched"
   ]
  },
  {
   "cell_type": "code",
   "execution_count": 2536,
   "metadata": {},
   "outputs": [],
   "source": [
    "# genes_touched"
   ]
  },
  {
   "cell_type": "code",
   "execution_count": 2537,
   "metadata": {},
   "outputs": [
    {
     "data": {
      "text/html": [
       "565"
      ],
      "text/latex": [
       "565"
      ],
      "text/markdown": [
       "565"
      ],
      "text/plain": [
       "[1] 565"
      ]
     },
     "metadata": {},
     "output_type": "display_data"
    }
   ],
   "source": [
    "# set of genes that simply intersects with peak set\n",
    "genes_in_peak_set = unique(prom.hg38[unique(queryHits(findOverlaps(prom.hg38, GRanges(peak_set))))]$gene_name)\n",
    "length(genes_in_peak_set)"
   ]
  },
  {
   "cell_type": "code",
   "execution_count": 2538,
   "metadata": {},
   "outputs": [
    {
     "data": {
      "text/html": [
       "TRUE"
      ],
      "text/latex": [
       "TRUE"
      ],
      "text/markdown": [
       "TRUE"
      ],
      "text/plain": [
       "[1] TRUE"
      ]
     },
     "metadata": {},
     "output_type": "display_data"
    }
   ],
   "source": [
    "'MCC' %in% genes_in_peak_set"
   ]
  },
  {
   "cell_type": "code",
   "execution_count": 2539,
   "metadata": {},
   "outputs": [
    {
     "data": {
      "text/html": [
       "2138"
      ],
      "text/latex": [
       "2138"
      ],
      "text/markdown": [
       "2138"
      ],
      "text/plain": [
       "[1] 2138"
      ]
     },
     "metadata": {},
     "output_type": "display_data"
    },
    {
     "data": {
      "text/html": [
       "400"
      ],
      "text/latex": [
       "400"
      ],
      "text/markdown": [
       "400"
      ],
      "text/plain": [
       "[1] 400"
      ]
     },
     "metadata": {},
     "output_type": "display_data"
    },
    {
     "data": {
      "text/html": [
       "565"
      ],
      "text/latex": [
       "565"
      ],
      "text/markdown": [
       "565"
      ],
      "text/plain": [
       "[1] 565"
      ]
     },
     "metadata": {},
     "output_type": "display_data"
    }
   ],
   "source": [
    "length(intersect(genes_touched, names(table(e2g_uniq$g))))\n",
    "length(intersect(names(table(e2g_uniq$g)), genes_in_peak_set))\n",
    "length(intersect(genes_touched, genes_in_peak_set))"
   ]
  },
  {
   "cell_type": "code",
   "execution_count": 2540,
   "metadata": {},
   "outputs": [
    {
     "data": {
      "text/html": [
       "1795"
      ],
      "text/latex": [
       "1795"
      ],
      "text/markdown": [
       "1795"
      ],
      "text/plain": [
       "[1] 1795"
      ]
     },
     "metadata": {},
     "output_type": "display_data"
    }
   ],
   "source": [
    "length(setdiff(genes_touched, genes_in_peak_set))"
   ]
  },
  {
   "cell_type": "code",
   "execution_count": 2861,
   "metadata": {},
   "outputs": [
    {
     "data": {
      "text/html": [
       "<strong>MPEG1:</strong> 1"
      ],
      "text/latex": [
       "\\textbf{MPEG1:} 1"
      ],
      "text/markdown": [
       "**MPEG1:** 1"
      ],
      "text/plain": [
       "MPEG1 \n",
       "    1 "
      ]
     },
     "metadata": {},
     "output_type": "display_data"
    }
   ],
   "source": [
    "rev(sort(table(e2g_uniq$g)))[500]"
   ]
  },
  {
   "cell_type": "code",
   "execution_count": 2969,
   "metadata": {},
   "outputs": [],
   "source": [
    "TMP_PATH = \"tmp.txt\"\n",
    "genes_to_write = names(rev(sort(table(e2g_uniq$g))))[1:500]\n",
    "\n",
    "fileConn = file(TMP_PATH)\n",
    "writeLines(unique(genes_to_write), fileConn)\n",
    "close(fileConn)"
   ]
  },
  {
   "cell_type": "code",
   "execution_count": 2754,
   "metadata": {},
   "outputs": [],
   "source": [
    "TMP_PATH = \"tmp_ordered.txt\"\n",
    "genes_to_write = unique(c(names(rev(sort(table(e2g_uniq$g)))), genes_touched))\n",
    "\n",
    "fileConn = file(TMP_PATH)\n",
    "writeLines(unique(c(genes_to_write, sample(unique(prom.hg38$gene_name)))), fileConn)\n",
    "close(fileConn)"
   ]
  },
  {
   "cell_type": "code",
   "execution_count": null,
   "metadata": {},
   "outputs": [],
   "source": [
    "TMP_PATH = \"tmp_all.txt\"\n",
    "fileConn = file(TMP_PATH)\n",
    "writeLines(unique(prom.hg38$gene_id), fileConn)\n",
    "close(fileConn)"
   ]
  },
  {
   "cell_type": "markdown",
   "metadata": {},
   "source": [
    "## mRNA analysis\n",
    "\n",
    "From Cachiarelli et al 2015"
   ]
  },
  {
   "cell_type": "code",
   "execution_count": 934,
   "metadata": {},
   "outputs": [
    {
     "data": {
      "text/html": [
       "<table>\n",
       "<caption>A data.frame: 1 × 10</caption>\n",
       "<thead>\n",
       "\t<tr><th></th><th scope=col>hiF.T_P14</th><th scope=col>X2dd_DOX_plus</th><th scope=col>X5dd_DOX_plus</th><th scope=col>X8dd_DOX_plus</th><th scope=col>X10dd_DOX_plus_SSEA3_pos</th><th scope=col>X14dd_DOX_plus_SSEA3_pos</th><th scope=col>X20dd_DOX_plus_TRA_plus</th><th scope=col>X24dd_TRA_pos_DOX_plus</th><th scope=col>X24dd_TRA_pos_DOX_minus</th><th scope=col>hIPSC.T_P10</th></tr>\n",
       "\t<tr><th></th><th scope=col>&lt;dbl&gt;</th><th scope=col>&lt;dbl&gt;</th><th scope=col>&lt;dbl&gt;</th><th scope=col>&lt;dbl&gt;</th><th scope=col>&lt;dbl&gt;</th><th scope=col>&lt;dbl&gt;</th><th scope=col>&lt;dbl&gt;</th><th scope=col>&lt;dbl&gt;</th><th scope=col>&lt;dbl&gt;</th><th scope=col>&lt;dbl&gt;</th></tr>\n",
       "</thead>\n",
       "<tbody>\n",
       "\t<tr><th scope=row>GAPDH</th><td>7803.64</td><td>4963.505</td><td>3908.693</td><td>3839.776</td><td>3795.548</td><td>3364.503</td><td>3032.412</td><td>3790.955</td><td>5598.224</td><td>4731.256</td></tr>\n",
       "</tbody>\n",
       "</table>\n"
      ],
      "text/latex": [
       "A data.frame: 1 × 10\n",
       "\\begin{tabular}{r|llllllllll}\n",
       "  & hiF.T\\_P14 & X2dd\\_DOX\\_plus & X5dd\\_DOX\\_plus & X8dd\\_DOX\\_plus & X10dd\\_DOX\\_plus\\_SSEA3\\_pos & X14dd\\_DOX\\_plus\\_SSEA3\\_pos & X20dd\\_DOX\\_plus\\_TRA\\_plus & X24dd\\_TRA\\_pos\\_DOX\\_plus & X24dd\\_TRA\\_pos\\_DOX\\_minus & hIPSC.T\\_P10\\\\\n",
       "  & <dbl> & <dbl> & <dbl> & <dbl> & <dbl> & <dbl> & <dbl> & <dbl> & <dbl> & <dbl>\\\\\n",
       "\\hline\n",
       "\tGAPDH & 7803.64 & 4963.505 & 3908.693 & 3839.776 & 3795.548 & 3364.503 & 3032.412 & 3790.955 & 5598.224 & 4731.256\\\\\n",
       "\\end{tabular}\n"
      ],
      "text/markdown": [
       "\n",
       "A data.frame: 1 × 10\n",
       "\n",
       "| <!--/--> | hiF.T_P14 &lt;dbl&gt; | X2dd_DOX_plus &lt;dbl&gt; | X5dd_DOX_plus &lt;dbl&gt; | X8dd_DOX_plus &lt;dbl&gt; | X10dd_DOX_plus_SSEA3_pos &lt;dbl&gt; | X14dd_DOX_plus_SSEA3_pos &lt;dbl&gt; | X20dd_DOX_plus_TRA_plus &lt;dbl&gt; | X24dd_TRA_pos_DOX_plus &lt;dbl&gt; | X24dd_TRA_pos_DOX_minus &lt;dbl&gt; | hIPSC.T_P10 &lt;dbl&gt; |\n",
       "|---|---|---|---|---|---|---|---|---|---|---|\n",
       "| GAPDH | 7803.64 | 4963.505 | 3908.693 | 3839.776 | 3795.548 | 3364.503 | 3032.412 | 3790.955 | 5598.224 | 4731.256 |\n",
       "\n"
      ],
      "text/plain": [
       "      hiF.T_P14 X2dd_DOX_plus X5dd_DOX_plus X8dd_DOX_plus\n",
       "GAPDH 7803.64   4963.505      3908.693      3839.776     \n",
       "      X10dd_DOX_plus_SSEA3_pos X14dd_DOX_plus_SSEA3_pos X20dd_DOX_plus_TRA_plus\n",
       "GAPDH 3795.548                 3364.503                 3032.412               \n",
       "      X24dd_TRA_pos_DOX_plus X24dd_TRA_pos_DOX_minus hIPSC.T_P10\n",
       "GAPDH 3790.955               5598.224                4731.256   "
      ]
     },
     "metadata": {},
     "output_type": "display_data"
    }
   ],
   "source": [
    "# load bulk RNA-seq data\n",
    "fpkm = read.table(\"/users/surag/kundajelab/scATAC-reprog/resources/GSE62777/RNAseq.FPKM.tsv\", sep='\\t', header=T)\n",
    "fpkm$gene_id = NULL\n",
    "fpkm$locus=NULL\n",
    "tpm = fpkm\n",
    "tpm[,2:ncol(tpm)] = 1e6*t(t(tpm[,2:ncol(tpm)])/colSums(tpm[,2:ncol(tpm)]))\n",
    "\n",
    "# removing genes with dup names\n",
    "tpm = tpm[!duplicated(tpm$gene_short_name),]\n",
    "rownames(tpm) = tpm$gene_short_name\n",
    "tpm$gene_short_name = NULL\n",
    "\n",
    "tpm[\"GAPDH\",]"
   ]
  },
  {
   "cell_type": "code",
   "execution_count": 3052,
   "metadata": {},
   "outputs": [],
   "source": [
    "# gene_set_to_plot = names(rev(sort(table(e2g_uniq$g))))\n",
    "gene_set_to_plot = names(rev(sort(table(e2g_uniq$g)[table(e2g_uniq$g)>=12])))\n",
    "# gene_set_to_plot = genes_touched\n",
    "# gene_set_to_plot = genes_in_peak_set\n",
    "# gene_set_to_plot = setdiff(genes_touched, genes_in_peak_set)"
   ]
  },
  {
   "cell_type": "code",
   "execution_count": 3053,
   "metadata": {},
   "outputs": [
    {
     "data": {
      "text/html": [
       "<style>\n",
       ".list-inline {list-style: none; margin:0; padding: 0}\n",
       ".list-inline>li {display: inline-block}\n",
       ".list-inline>li:not(:last-child)::after {content: \"\\00b7\"; padding: 0 .5ex}\n",
       "</style>\n",
       "<ol class=list-inline><li>0.848021885156238</li><li>2.16473700600599</li><li>2.88217774957211</li><li>3.84814490824033</li><li>3.64926886686221</li><li>3.74438760348588</li><li>3.92890399425755</li><li>3.81294884234706</li><li>3.46497104720337</li><li>3.47004222406301</li></ol>\n"
      ],
      "text/latex": [
       "\\begin{enumerate*}\n",
       "\\item 0.848021885156238\n",
       "\\item 2.16473700600599\n",
       "\\item 2.88217774957211\n",
       "\\item 3.84814490824033\n",
       "\\item 3.64926886686221\n",
       "\\item 3.74438760348588\n",
       "\\item 3.92890399425755\n",
       "\\item 3.81294884234706\n",
       "\\item 3.46497104720337\n",
       "\\item 3.47004222406301\n",
       "\\end{enumerate*}\n"
      ],
      "text/markdown": [
       "1. 0.848021885156238\n",
       "2. 2.16473700600599\n",
       "3. 2.88217774957211\n",
       "4. 3.84814490824033\n",
       "5. 3.64926886686221\n",
       "6. 3.74438760348588\n",
       "7. 3.92890399425755\n",
       "8. 3.81294884234706\n",
       "9. 3.46497104720337\n",
       "10. 3.47004222406301\n",
       "\n",
       "\n"
      ],
      "text/plain": [
       " [1] 0.8480219 2.1647370 2.8821777 3.8481449 3.6492689 3.7443876 3.9289040\n",
       " [8] 3.8129488 3.4649710 3.4700422"
      ]
     },
     "metadata": {},
     "output_type": "display_data"
    }
   ],
   "source": [
    "colMedians(as.matrix(log2(1+tpm)[rownames(tpm) %in% gene_set_to_plot, ]))"
   ]
  },
  {
   "cell_type": "code",
   "execution_count": 3054,
   "metadata": {},
   "outputs": [
    {
     "data": {
      "text/html": [
       "110"
      ],
      "text/latex": [
       "110"
      ],
      "text/markdown": [
       "110"
      ],
      "text/plain": [
       "[1] 110"
      ]
     },
     "metadata": {},
     "output_type": "display_data"
    },
    {
     "name": "stderr",
     "output_type": "stream",
     "text": [
      "No id variables; using all as measure variables\n",
      "\n"
     ]
    },
    {
     "data": {
      "image/png": "[encoded data removed]",
      "text/plain": [
       "plot without title"
      ]
     },
     "metadata": {
      "image/png": {
       "height": 360,
       "width": 600
      },
      "text/plain": {
       "height": 360,
       "width": 600
      }
     },
     "output_type": "display_data"
    }
   ],
   "source": [
    "options(repr.plot.width = 10, repr.plot.height = 6)\n",
    "\n",
    "sum(gene_set_to_plot %in% rownames(tpm))\n",
    "\n",
    "ggplot(melt(log2(1+tpm)[rownames(tpm) %in% gene_set_to_plot, ]), aes(x=variable, y=value)) +\n",
    "# ggplot(melt(t(scale(t(log2(1+tpm)[rownames(tpm) %in% gene_set_to_plot, ])))), aes(x=Var2, y=value)) +\n",
    "stat_boxplot() +\n",
    "# geom_line(aes(group=Var1),size=0.1) + geom_point() +\n",
    "theme(axis.text.x = element_text(angle = -45)) +\n",
    "ylab(\"TPM\") + xlab(\"Sample\")\n",
    "# geom_boxplot(outlier.shape = NA) + geom_jitter(width = 0.2)\n",
    "# coord_cartesian(ylim=c(0,8)) "
   ]
  },
  {
   "cell_type": "code",
   "execution_count": 3055,
   "metadata": {},
   "outputs": [
    {
     "name": "stdout",
     "output_type": "stream",
     "text": [
      "RPL39L\n",
      "PTGFRN\n",
      "IGSF3\n",
      "HS3ST5\n",
      "ST6GAL1\n",
      "PIK3AP1\n",
      "TLL2\n",
      "LLGL2\n",
      "ITGB4\n",
      "GADD45G\n",
      "SERINC5\n",
      "RASGEF1A\n",
      "FGD3\n",
      "FETUB\n",
      "UPK1B\n",
      "TSTD1\n",
      "RET\n",
      "KIAA1257\n",
      "F11R\n",
      "B3GNT7\n",
      "ADAMTS4\n",
      "WIPF3\n",
      "THBS4\n",
      "SYTL3\n",
      "SUSD3\n",
      "SLCO3A1\n",
      "SLC47A1\n",
      "MIF4GD\n",
      "KLHDC9\n",
      "FHDC1\n",
      "TRIM2\n",
      "SLC22A2\n",
      "SFT2D3\n",
      "RTP1\n",
      "PKD1L1\n",
      "PCLO\n",
      "HAND1\n",
      "GPX2\n",
      "FRAT2\n",
      "FAM151B\n",
      "FA2H\n",
      "ARHGAP19\n",
      "ANKRD9\n",
      "ALDH3A1\n",
      "ADPRHL1\n",
      "ADCK2\n",
      "ZNF589\n",
      "WNK2\n",
      "TUBB2B\n",
      "TMC6\n",
      "SYT6\n",
      "SPTB\n",
      "SLIT1\n",
      "SEMA4D\n",
      "SEMA3E\n",
      "NPSR1\n",
      "NMNAT2\n",
      "NCF2\n",
      "MT3\n",
      "MT1H\n",
      "MT1G\n",
      "MLN\n",
      "LRRC10B\n",
      "LHX6\n",
      "LCK\n",
      "ITLN2\n",
      "GRM4\n",
      "CECR2\n",
      "CD83\n",
      "ARMC3\n"
     ]
    }
   ],
   "source": [
    "filtered_gene_set = names(rev(sort(table(e2g_uniq$g)[table(e2g_uniq$g)>=12])))\n",
    "\n",
    "# peak is early\n",
    "filtered_gene_set = filtered_gene_set[rowMaxs(as.matrix(tpm[filtered_gene_set,]))==rowMaxs(as.matrix(tpm[filtered_gene_set,c(\"X2dd_DOX_plus\", \"X5dd_DOX_plus\", \"X8dd_DOX_plus\")]))]\n",
    "\n",
    "# >1 TPM at some time point\n",
    "filtered_gene_set = filtered_gene_set[rowMaxs(as.matrix(tpm[filtered_gene_set,]))>1]\n",
    "\n",
    "# low expr in Fib and ESC\n",
    "filtered_gene_set = filtered_gene_set[(tpm[filtered_gene_set,1]<10) ]#&(tpm[filtered_gene_set,10]<10)]\n",
    "\n",
    "filtered_gene_set = filtered_gene_set[!is.na(filtered_gene_set)]\n",
    "\n",
    "for (x in filtered_gene_set) {\n",
    "    cat(sprintf(\"%s\\n\", x))\n",
    "}"
   ]
  },
  {
   "cell_type": "markdown",
   "metadata": {},
   "source": [
    "## Misc Analysis of Whether Peak at TSS Implies Expression and so on"
   ]
  },
  {
   "cell_type": "code",
   "execution_count": 2097,
   "metadata": {},
   "outputs": [
    {
     "data": {
      "text/html": [
       "<style>\n",
       ".list-inline {list-style: none; margin:0; padding: 0}\n",
       ".list-inline>li {display: inline-block}\n",
       ".list-inline>li:not(:last-child)::after {content: \"\\00b7\"; padding: 0 .5ex}\n",
       "</style>\n",
       "<ol class=list-inline><li>'chr1:100034561-100034806'</li><li>'chr1:100037558-100039065'</li><li>'chr1:100037558-100039065'</li><li>'chr1:100037558-100039065'</li><li>'chr1:100037558-100039065'</li><li>'chr1:100037558-100039065'</li></ol>\n"
      ],
      "text/latex": [
       "\\begin{enumerate*}\n",
       "\\item 'chr1:100034561-100034806'\n",
       "\\item 'chr1:100037558-100039065'\n",
       "\\item 'chr1:100037558-100039065'\n",
       "\\item 'chr1:100037558-100039065'\n",
       "\\item 'chr1:100037558-100039065'\n",
       "\\item 'chr1:100037558-100039065'\n",
       "\\end{enumerate*}\n"
      ],
      "text/markdown": [
       "1. 'chr1:100034561-100034806'\n",
       "2. 'chr1:100037558-100039065'\n",
       "3. 'chr1:100037558-100039065'\n",
       "4. 'chr1:100037558-100039065'\n",
       "5. 'chr1:100037558-100039065'\n",
       "6. 'chr1:100037558-100039065'\n",
       "\n",
       "\n"
      ],
      "text/plain": [
       "[1] \"chr1:100034561-100034806\" \"chr1:100037558-100039065\"\n",
       "[3] \"chr1:100037558-100039065\" \"chr1:100037558-100039065\"\n",
       "[5] \"chr1:100037558-100039065\" \"chr1:100037558-100039065\""
      ]
     },
     "metadata": {},
     "output_type": "display_data"
    }
   ],
   "source": [
    "peak_set = read.table(gzfile(\"/oak/stanford/groups/akundaje/surag/projects/scATAC-reprog/bulk/croo/iPSC/peak/overlap_reproducibility/overlap.optimal_peak.narrowPeak.gz\"))\n",
    "colnames(peak_set) = c(\"chr\", \"start\", \"end\")\n",
    "peak_set = paste(paste(peak_set$chr, peak_set$start, sep=\":\"), peak_set$end, sep='-')\n",
    "head(peak_set)"
   ]
  },
  {
   "cell_type": "code",
   "execution_count": 2107,
   "metadata": {},
   "outputs": [],
   "source": [
    "gene_overlap_tss = unique(tss.hg38[queryHits(findOverlaps(tss.hg38, GRanges(peak_set)))]$gene_id)\n",
    "gene_overlap_prom = unique(tss.hg38[queryHits(findOverlaps(promoters(tss.hg38, upstream=2000, downstream=500), GRanges(peak_set)))]$gene_id)"
   ]
  },
  {
   "cell_type": "code",
   "execution_count": 2110,
   "metadata": {},
   "outputs": [],
   "source": [
    "gene_not_overlap_tss = setdiff(tss.hg38$gene_id, gene_overlap_tss)\n",
    "gene_not_overlap_prom = setdiff(tss.hg38$gene_id, gene_overlap_prom)\n",
    "gene_overlap_prom_not_tss = setdiff(gene_overlap_prom, gene_overlap_tss)"
   ]
  },
  {
   "cell_type": "code",
   "execution_count": 2111,
   "metadata": {},
   "outputs": [
    {
     "data": {
      "text/html": [
       "14275"
      ],
      "text/latex": [
       "14275"
      ],
      "text/markdown": [
       "14275"
      ],
      "text/plain": [
       "[1] 14275"
      ]
     },
     "metadata": {},
     "output_type": "display_data"
    },
    {
     "data": {
      "text/html": [
       "15447"
      ],
      "text/latex": [
       "15447"
      ],
      "text/markdown": [
       "15447"
      ],
      "text/plain": [
       "[1] 15447"
      ]
     },
     "metadata": {},
     "output_type": "display_data"
    },
    {
     "data": {
      "text/html": [
       "5452"
      ],
      "text/latex": [
       "5452"
      ],
      "text/markdown": [
       "5452"
      ],
      "text/plain": [
       "[1] 5452"
      ]
     },
     "metadata": {},
     "output_type": "display_data"
    },
    {
     "data": {
      "text/html": [
       "4280"
      ],
      "text/latex": [
       "4280"
      ],
      "text/markdown": [
       "4280"
      ],
      "text/plain": [
       "[1] 4280"
      ]
     },
     "metadata": {},
     "output_type": "display_data"
    },
    {
     "data": {
      "text/html": [
       "1172"
      ],
      "text/latex": [
       "1172"
      ],
      "text/markdown": [
       "1172"
      ],
      "text/plain": [
       "[1] 1172"
      ]
     },
     "metadata": {},
     "output_type": "display_data"
    }
   ],
   "source": [
    "gene_overlap_tss_in_rna = gene_overlap_tss[gene_overlap_tss %in% rownames(tpm)]\n",
    "gene_overlap_prom_in_rna = gene_overlap_prom[gene_overlap_prom %in% rownames(tpm)]\n",
    "\n",
    "gene_not_overlap_tss_in_rna = gene_not_overlap_tss[gene_not_overlap_tss %in% rownames(tpm)]\n",
    "gene_not_overlap_prom_in_rna = gene_not_overlap_prom[gene_not_overlap_prom %in% rownames(tpm)]\n",
    "\n",
    "gene_overlap_prom_not_tss_in_rna = gene_overlap_prom_not_tss[gene_overlap_prom_not_tss %in% rownames(tpm)]\n",
    "\n",
    "length(gene_overlap_tss_in_rna)\n",
    "length(gene_overlap_prom_in_rna)\n",
    "length(gene_not_overlap_tss_in_rna)\n",
    "length(gene_not_overlap_prom_in_rna)\n",
    "length(gene_overlap_prom_not_tss_in_rna)"
   ]
  },
  {
   "cell_type": "code",
   "execution_count": 2114,
   "metadata": {},
   "outputs": [
    {
     "data": {
      "text/html": [
       "11576"
      ],
      "text/latex": [
       "11576"
      ],
      "text/markdown": [
       "11576"
      ],
      "text/plain": [
       "[1] 11576"
      ]
     },
     "metadata": {},
     "output_type": "display_data"
    },
    {
     "data": {
      "text/html": [
       "11800"
      ],
      "text/latex": [
       "11800"
      ],
      "text/markdown": [
       "11800"
      ],
      "text/plain": [
       "[1] 11800"
      ]
     },
     "metadata": {},
     "output_type": "display_data"
    },
    {
     "data": {
      "text/html": [
       "582"
      ],
      "text/latex": [
       "582"
      ],
      "text/markdown": [
       "582"
      ],
      "text/plain": [
       "[1] 582"
      ]
     },
     "metadata": {},
     "output_type": "display_data"
    },
    {
     "data": {
      "text/html": [
       "358"
      ],
      "text/latex": [
       "358"
      ],
      "text/markdown": [
       "358"
      ],
      "text/plain": [
       "[1] 358"
      ]
     },
     "metadata": {},
     "output_type": "display_data"
    },
    {
     "data": {
      "text/html": [
       "224"
      ],
      "text/latex": [
       "224"
      ],
      "text/markdown": [
       "224"
      ],
      "text/plain": [
       "[1] 224"
      ]
     },
     "metadata": {},
     "output_type": "display_data"
    }
   ],
   "source": [
    "sum(tpm[gene_overlap_tss_in_rna, 10]>1)\n",
    "sum(tpm[gene_overlap_prom_in_rna, 10]>1)\n",
    "sum(tpm[gene_not_overlap_tss_in_rna, 10]>1)\n",
    "sum(tpm[gene_not_overlap_prom_in_rna, 10]>1)\n",
    "sum(tpm[gene_overlap_prom_not_tss_in_rna, 10]>1)"
   ]
  },
  {
   "cell_type": "code",
   "execution_count": null,
   "metadata": {},
   "outputs": [],
   "source": []
  }
 ],
 "metadata": {
  "kernelspec": {
   "display_name": "R",
   "language": "R",
   "name": "ir"
  },
  "language_info": {
   "codemirror_mode": "r",
   "file_extension": ".r",
   "mimetype": "text/x-r-source",
   "name": "R",
   "pygments_lexer": "r",
   "version": "3.6.3"
  }
 },
 "nbformat": 4,
 "nbformat_minor": 4
}
