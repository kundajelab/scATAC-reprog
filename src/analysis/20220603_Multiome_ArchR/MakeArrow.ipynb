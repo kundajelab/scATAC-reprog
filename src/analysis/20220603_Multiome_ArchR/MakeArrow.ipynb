{
 "cells": [
  {
   "cell_type": "markdown",
   "metadata": {},
   "source": [
    "# Make Arrow Files\n",
    "\n",
    "Process raw data to make Arrow files."
   ]
  },
  {
   "cell_type": "code",
   "execution_count": 1,
   "metadata": {},
   "outputs": [
    {
     "name": "stderr",
     "output_type": "stream",
     "text": [
      "Loading required package: ggplot2\n",
      "\n",
      "Loading required package: SummarizedExperiment\n",
      "\n",
      "Loading required package: GenomicRanges\n",
      "\n",
      "Loading required package: stats4\n",
      "\n",
      "Loading required package: BiocGenerics\n",
      "\n",
      "Loading required package: parallel\n",
      "\n",
      "\n",
      "Attaching package: ‘BiocGenerics’\n",
      "\n",
      "\n",
      "The following objects are masked from ‘package:parallel’:\n",
      "\n",
      "    clusterApply, clusterApplyLB, clusterCall, clusterEvalQ,\n",
      "    clusterExport, clusterMap, parApply, parCapply, parLapply,\n",
      "    parLapplyLB, parRapply, parSapply, parSapplyLB\n",
      "\n",
      "\n",
      "The following objects are masked from ‘package:stats’:\n",
      "\n",
      "    IQR, mad, sd, var, xtabs\n",
      "\n",
      "\n",
      "The following objects are masked from ‘package:base’:\n",
      "\n",
      "    anyDuplicated, append, as.data.frame, basename, cbind, colnames,\n",
      "    dirname, do.call, duplicated, eval, evalq, Filter, Find, get, grep,\n",
      "    grepl, intersect, is.unsorted, lapply, Map, mapply, match, mget,\n",
      "    order, paste, pmax, pmax.int, pmin, pmin.int, Position, rank,\n",
      "    rbind, Reduce, rownames, sapply, setdiff, sort, table, tapply,\n",
      "    union, unique, unsplit, which, which.max, which.min\n",
      "\n",
      "\n",
      "Loading required package: S4Vectors\n",
      "\n",
      "\n",
      "Attaching package: ‘S4Vectors’\n",
      "\n",
      "\n",
      "The following object is masked from ‘package:base’:\n",
      "\n",
      "    expand.grid\n",
      "\n",
      "\n",
      "Loading required package: IRanges\n",
      "\n",
      "Loading required package: GenomeInfoDb\n",
      "\n",
      "Loading required package: Biobase\n",
      "\n",
      "Welcome to Bioconductor\n",
      "\n",
      "    Vignettes contain introductory material; view with\n",
      "    'browseVignettes()'. To cite Bioconductor, see\n",
      "    'citation(\"Biobase\")', and for packages 'citation(\"pkgname\")'.\n",
      "\n",
      "\n",
      "Loading required package: DelayedArray\n",
      "\n",
      "Loading required package: matrixStats\n",
      "\n",
      "\n",
      "Attaching package: ‘matrixStats’\n",
      "\n",
      "\n",
      "The following objects are masked from ‘package:Biobase’:\n",
      "\n",
      "    anyMissing, rowMedians\n",
      "\n",
      "\n",
      "Loading required package: BiocParallel\n",
      "\n",
      "\n",
      "Attaching package: ‘DelayedArray’\n",
      "\n",
      "\n",
      "The following objects are masked from ‘package:matrixStats’:\n",
      "\n",
      "    colMaxs, colMins, colRanges, rowMaxs, rowMins, rowRanges\n",
      "\n",
      "\n",
      "The following objects are masked from ‘package:base’:\n",
      "\n",
      "    aperm, apply, rowsum\n",
      "\n",
      "\n",
      "Loading required package: data.table\n",
      "\n",
      "\n",
      "Attaching package: ‘data.table’\n",
      "\n",
      "\n",
      "The following object is masked from ‘package:SummarizedExperiment’:\n",
      "\n",
      "    shift\n",
      "\n",
      "\n",
      "The following object is masked from ‘package:GenomicRanges’:\n",
      "\n",
      "    shift\n",
      "\n",
      "\n",
      "The following object is masked from ‘package:IRanges’:\n",
      "\n",
      "    shift\n",
      "\n",
      "\n",
      "The following objects are masked from ‘package:S4Vectors’:\n",
      "\n",
      "    first, second\n",
      "\n",
      "\n",
      "Loading required package: Matrix\n",
      "\n",
      "\n",
      "Attaching package: ‘Matrix’\n",
      "\n",
      "\n",
      "The following object is masked from ‘package:S4Vectors’:\n",
      "\n",
      "    expand\n",
      "\n",
      "\n",
      "Loading required package: rhdf5\n",
      "\n",
      "Loading required package: magrittr\n",
      "\n"
     ]
    }
   ],
   "source": [
    "library(ArchR)"
   ]
  },
  {
   "cell_type": "code",
   "execution_count": 2,
   "metadata": {},
   "outputs": [
    {
     "name": "stderr",
     "output_type": "stream",
     "text": [
      "Setting default number of Parallel threads to 48.\n",
      "\n"
     ]
    }
   ],
   "source": [
    "set.seed(1)\n",
    "addArchRThreads(threads = 48) "
   ]
  },
  {
   "cell_type": "code",
   "execution_count": 3,
   "metadata": {},
   "outputs": [
    {
     "name": "stderr",
     "output_type": "stream",
     "text": [
      "Setting default genome to Hg38.\n",
      "\n"
     ]
    }
   ],
   "source": [
    "addArchRGenome(\"hg38\")"
   ]
  },
  {
   "cell_type": "code",
   "execution_count": 4,
   "metadata": {},
   "outputs": [
    {
     "data": {
      "text/html": [
       "<style>\n",
       ".dl-inline {width: auto; margin:0; padding: 0}\n",
       ".dl-inline>dt, .dl-inline>dd {float: none; width: auto; display: inline-block}\n",
       ".dl-inline>dt::after {content: \":\\0020\"; padding-right: .5ex}\n",
       ".dl-inline>dt:not(:first-of-type) {padding-left: .5ex}\n",
       "</style><dl class=dl-inline><dt>D1M</dt><dd>'/srv/scratch/surag/scMultiome-reprog/chromap/outputs/D1M.frag.bed.gz'</dd><dt>D2M</dt><dd>'/srv/scratch/surag/scMultiome-reprog/chromap/outputs/D2M.frag.bed.gz'</dd></dl>\n"
      ],
      "text/latex": [
       "\\begin{description*}\n",
       "\\item[D1M] '/srv/scratch/surag/scMultiome-reprog/chromap/outputs/D1M.frag.bed.gz'\n",
       "\\item[D2M] '/srv/scratch/surag/scMultiome-reprog/chromap/outputs/D2M.frag.bed.gz'\n",
       "\\end{description*}\n"
      ],
      "text/markdown": [
       "D1M\n",
       ":   '/srv/scratch/surag/scMultiome-reprog/chromap/outputs/D1M.frag.bed.gz'D2M\n",
       ":   '/srv/scratch/surag/scMultiome-reprog/chromap/outputs/D2M.frag.bed.gz'\n",
       "\n"
      ],
      "text/plain": [
       "                                                                   D1M \n",
       "\"/srv/scratch/surag/scMultiome-reprog/chromap/outputs/D1M.frag.bed.gz\" \n",
       "                                                                   D2M \n",
       "\"/srv/scratch/surag/scMultiome-reprog/chromap/outputs/D2M.frag.bed.gz\" "
      ]
     },
     "metadata": {},
     "output_type": "display_data"
    }
   ],
   "source": [
    "FRAG_BASE = \"/srv/scratch/surag/scMultiome-reprog/chromap/outputs/\"\n",
    "frag.files =  list.files(FRAG_BASE, pattern=\"*gz$\")\n",
    "sample.names = lapply(strsplit(frag.files, \"\\\\.\"), \"[[\", 1)\n",
    "frag.files = paste(FRAG_BASE, frag.files, sep='')\n",
    "names(frag.files) = sample.names\n",
    "\n",
    "frag.files"
   ]
  },
  {
   "cell_type": "code",
   "execution_count": 5,
   "metadata": {},
   "outputs": [
    {
     "name": "stderr",
     "output_type": "stream",
     "text": [
      "filterFrags is no longer a valid input. Please use minFrags! Setting filterFrags value to minFrags!\n",
      "\n",
      "filterTSS is no longer a valid input. Please use minTSS! Setting filterTSS value to minTSS!\n",
      "\n",
      "Using GeneAnnotation set by addArchRGenome(Hg38)!\n",
      "\n",
      "Using GeneAnnotation set by addArchRGenome(Hg38)!\n",
      "\n",
      "ArchR logging to : ArchRLogs/ArchR-createArrows-612e72b7148e2-Date-2022-06-04_Time-00-52-28.log\n",
      "If there is an issue, please report to github with logFile!\n",
      "\n",
      "Cleaning Temporary Files\n",
      "\n",
      "2022-06-04 00:52:29 : Batch Execution w/ safelapply!, 0 mins elapsed.\n",
      "\n",
      "ArchR logging successful to : ArchRLogs/ArchR-createArrows-612e72b7148e2-Date-2022-06-04_Time-00-52-28.log\n",
      "\n"
     ]
    }
   ],
   "source": [
    "ArrowFiles <- createArrowFiles(\n",
    "  inputFiles = frag.files,\n",
    "  sampleNames = names(frag.files),\n",
    "  filterTSS = 4, #Dont set this too high because you can always increase later\n",
    "  filterFrags = 1000, \n",
    "  addTileMat = TRUE,\n",
    "  addGeneScoreMat = TRUE\n",
    ")"
   ]
  },
  {
   "cell_type": "code",
   "execution_count": 6,
   "metadata": {},
   "outputs": [
    {
     "data": {
      "text/html": [
       "<style>\n",
       ".list-inline {list-style: none; margin:0; padding: 0}\n",
       ".list-inline>li {display: inline-block}\n",
       ".list-inline>li:not(:last-child)::after {content: \"\\00b7\"; padding: 0 .5ex}\n",
       "</style>\n",
       "<ol class=list-inline><li>'D2M.arrow'</li><li>'D1M.arrow'</li></ol>\n"
      ],
      "text/latex": [
       "\\begin{enumerate*}\n",
       "\\item 'D2M.arrow'\n",
       "\\item 'D1M.arrow'\n",
       "\\end{enumerate*}\n"
      ],
      "text/markdown": [
       "1. 'D2M.arrow'\n",
       "2. 'D1M.arrow'\n",
       "\n",
       "\n"
      ],
      "text/plain": [
       "[1] \"D2M.arrow\" \"D1M.arrow\""
      ]
     },
     "metadata": {},
     "output_type": "display_data"
    }
   ],
   "source": [
    "ArrowFiles"
   ]
  },
  {
   "cell_type": "code",
   "execution_count": 7,
   "metadata": {},
   "outputs": [],
   "source": [
    "# rds to tsv\n",
    "for (x in c(\"D1M\",\n",
    "\"D2M\")) {\n",
    "    r = readRDS(sprintf(\"./QualityControl/%s/%s-Pre-Filter-Metadata.rds\", x, x))\n",
    "    write.table(r, sprintf(\"./QualityControl/%s/%s-Pre-Filter-Metadata.tsv\", x, x), sep='\\t', row.names=F, quote=F)\n",
    "}"
   ]
  },
  {
   "cell_type": "code",
   "execution_count": 8,
   "metadata": {},
   "outputs": [
    {
     "name": "stderr",
     "output_type": "stream",
     "text": [
      "ArchR logging to : ArchRLogs/ArchR-addDoubletScores-612e73c235ab3-Date-2022-06-04_Time-01-04-41.log\n",
      "If there is an issue, please report to github with logFile!\n",
      "\n",
      "2022-06-04 01:04:42 : Batch Execution w/ safelapply!, 0 mins elapsed.\n",
      "\n",
      "2022-06-04 01:04:42 : D2M (1 of 2) :  Computing Doublet Statistics, 0.001 mins elapsed.\n",
      "\n",
      "D2M (1 of 2) : UMAP Projection R^2 = 0.91704\n",
      "\n",
      "D2M (1 of 2) : UMAP Projection R^2 = 0.91704\n",
      "\n",
      "2022-06-04 01:09:29 : D1M (2 of 2) :  Computing Doublet Statistics, 4.789 mins elapsed.\n",
      "\n",
      "Filtering 1 dims correlated > 0.75 to log10(depth + 1)\n",
      "\n",
      "D1M (2 of 2) : UMAP Projection R^2 = 0.98878\n",
      "\n",
      "D1M (2 of 2) : UMAP Projection R^2 = 0.98878\n",
      "\n",
      "ArchR logging successful to : ArchRLogs/ArchR-addDoubletScores-612e73c235ab3-Date-2022-06-04_Time-01-04-41.log\n",
      "\n"
     ]
    }
   ],
   "source": [
    "doubScores <- addDoubletScores(\n",
    "  input = ArrowFiles,\n",
    "  k = 10, #Refers to how many cells near a \"pseudo-doublet\" to count.\n",
    "  knnMethod = \"UMAP\", #Refers to the embedding to use for nearest neighbor search.\n",
    "  LSIMethod = 1\n",
    ")"
   ]
  },
  {
   "cell_type": "code",
   "execution_count": 9,
   "metadata": {},
   "outputs": [
    {
     "data": {
      "text/html": [
       "<style>\n",
       ".list-inline {list-style: none; margin:0; padding: 0}\n",
       ".list-inline>li {display: inline-block}\n",
       ".list-inline>li:not(:last-child)::after {content: \"\\00b7\"; padding: 0 .5ex}\n",
       "</style>\n",
       "<ol class=list-inline><li>'/srv/scratch/surag/scMultiome/arrow/D2M.arrow'</li><li>'/srv/scratch/surag/scMultiome/arrow/D1M.arrow'</li></ol>\n"
      ],
      "text/latex": [
       "\\begin{enumerate*}\n",
       "\\item '/srv/scratch/surag/scMultiome/arrow/D2M.arrow'\n",
       "\\item '/srv/scratch/surag/scMultiome/arrow/D1M.arrow'\n",
       "\\end{enumerate*}\n"
      ],
      "text/markdown": [
       "1. '/srv/scratch/surag/scMultiome/arrow/D2M.arrow'\n",
       "2. '/srv/scratch/surag/scMultiome/arrow/D1M.arrow'\n",
       "\n",
       "\n"
      ],
      "text/plain": [
       "[1] \"/srv/scratch/surag/scMultiome/arrow/D2M.arrow\"\n",
       "[2] \"/srv/scratch/surag/scMultiome/arrow/D1M.arrow\""
      ]
     },
     "metadata": {},
     "output_type": "display_data"
    }
   ],
   "source": [
    "# moved files manually (krishna)\n",
    "paste(\"/srv/scratch/surag/scMultiome/arrow/\", ArrowFiles, sep='')"
   ]
  },
  {
   "cell_type": "markdown",
   "metadata": {},
   "source": [
    "---"
   ]
  },
  {
   "cell_type": "code",
   "execution_count": 10,
   "metadata": {},
   "outputs": [
    {
     "data": {
      "text/plain": [
       "R version 3.6.3 (2020-02-29)\n",
       "Platform: x86_64-conda_cos6-linux-gnu (64-bit)\n",
       "Running under: Ubuntu 18.04.6 LTS\n",
       "\n",
       "Matrix products: default\n",
       "BLAS/LAPACK: /users/surag/anaconda3/envs/r36_cran/lib/libopenblasp-r0.3.9.so\n",
       "\n",
       "locale:\n",
       " [1] LC_CTYPE=en_US.UTF-8       LC_NUMERIC=C              \n",
       " [3] LC_TIME=en_US.UTF-8        LC_COLLATE=en_US.UTF-8    \n",
       " [5] LC_MONETARY=en_US.UTF-8    LC_MESSAGES=en_US.UTF-8   \n",
       " [7] LC_PAPER=en_US.UTF-8       LC_NAME=C                 \n",
       " [9] LC_ADDRESS=C               LC_TELEPHONE=C            \n",
       "[11] LC_MEASUREMENT=en_US.UTF-8 LC_IDENTIFICATION=C       \n",
       "\n",
       "attached base packages:\n",
       " [1] grid      parallel  stats4    stats     graphics  grDevices utils    \n",
       " [8] datasets  methods   base     \n",
       "\n",
       "other attached packages:\n",
       " [1] gridExtra_2.3                     nabor_0.5.0                      \n",
       " [3] Seurat_3.1.5                      BSgenome.Hsapiens.UCSC.hg38_1.4.1\n",
       " [5] BSgenome_1.54.0                   rtracklayer_1.46.0               \n",
       " [7] Biostrings_2.54.0                 XVector_0.26.0                   \n",
       " [9] ArchR_1.0.1                       magrittr_1.5                     \n",
       "[11] rhdf5_2.30.1                      Matrix_1.2-18                    \n",
       "[13] data.table_1.12.8                 SummarizedExperiment_1.16.1      \n",
       "[15] DelayedArray_0.12.3               BiocParallel_1.20.1              \n",
       "[17] matrixStats_0.56.0                Biobase_2.46.0                   \n",
       "[19] GenomicRanges_1.38.0              GenomeInfoDb_1.22.1              \n",
       "[21] IRanges_2.20.2                    S4Vectors_0.24.4                 \n",
       "[23] BiocGenerics_0.32.0               ggplot2_3.3.3                    \n",
       "\n",
       "loaded via a namespace (and not attached):\n",
       " [1] Rtsne_0.15               colorspace_1.4-1         ellipsis_0.3.1          \n",
       " [4] ggridges_0.5.2           IRdisplay_0.7.0          base64enc_0.1-3         \n",
       " [7] leiden_0.3.3             listenv_0.8.0            farver_2.0.3            \n",
       "[10] npsurv_0.4-0             ggrepel_0.8.2            RSpectra_0.16-0         \n",
       "[13] codetools_0.2-16         splines_3.6.3            lsei_1.2-0              \n",
       "[16] IRkernel_1.1             jsonlite_1.6.1           Rsamtools_2.2.3         \n",
       "[19] Cairo_1.5-12.2           ica_1.0-2                cluster_2.1.0           \n",
       "[22] png_0.1-7                uwot_0.1.8               sctransform_0.2.1       \n",
       "[25] compiler_3.6.3           httr_1.4.1               lazyeval_0.2.2          \n",
       "[28] htmltools_0.5.1.1        tools_3.6.3              rsvd_1.0.3              \n",
       "[31] igraph_1.2.6             gtable_0.3.0             glue_1.4.2              \n",
       "[34] GenomeInfoDbData_1.2.2   RANN_2.6.1               reshape2_1.4.4          \n",
       "[37] dplyr_1.0.2              rappdirs_0.3.1           Rcpp_1.0.5              \n",
       "[40] vctrs_0.3.4              ape_5.3                  nlme_3.1-147            \n",
       "[43] lmtest_0.9-37            stringr_1.4.0            globals_0.12.5          \n",
       "[46] lifecycle_0.2.0          irlba_2.3.3              XML_3.99-0.3            \n",
       "[49] future_1.16.0            zlibbioc_1.32.0          MASS_7.3-51.5           \n",
       "[52] zoo_1.8-7                scales_1.1.0             RColorBrewer_1.1-2      \n",
       "[55] reticulate_1.15          pbapply_1.4-2            stringi_1.4.6           \n",
       "[58] repr_1.1.0               rlang_0.4.11             pkgconfig_2.0.3         \n",
       "[61] bitops_1.0-6             evaluate_0.14            lattice_0.20-41         \n",
       "[64] ROCR_1.0-11              purrr_0.3.4              Rhdf5lib_1.8.0          \n",
       "[67] GenomicAlignments_1.22.1 patchwork_1.0.0          htmlwidgets_1.5.1       \n",
       "[70] labeling_0.3             cowplot_1.0.0            tidyselect_1.1.0        \n",
       "[73] RcppAnnoy_0.0.16         plyr_1.8.6               R6_2.4.1                \n",
       "[76] generics_0.0.2           pbdZMQ_0.3-3             pillar_1.4.6            \n",
       "[79] withr_2.1.2              fitdistrplus_1.0-14      survival_3.1-12         \n",
       "[82] RCurl_1.98-1.1           tibble_3.0.3             future.apply_1.5.0      \n",
       "[85] tsne_0.1-3               crayon_1.3.4             uuid_0.1-4              \n",
       "[88] KernSmooth_2.23-16       plotly_4.9.2.1           digest_0.6.25           \n",
       "[91] tidyr_1.1.2              munsell_0.5.0            viridisLite_0.3.0       "
      ]
     },
     "metadata": {},
     "output_type": "display_data"
    }
   ],
   "source": [
    "sessionInfo()"
   ]
  },
  {
   "cell_type": "code",
   "execution_count": null,
   "metadata": {},
   "outputs": [],
   "source": []
  }
 ],
 "metadata": {
  "kernelspec": {
   "display_name": "R",
   "language": "R",
   "name": "ir"
  },
  "language_info": {
   "codemirror_mode": "r",
   "file_extension": ".r",
   "mimetype": "text/x-r-source",
   "name": "R",
   "pygments_lexer": "r",
   "version": "3.6.3"
  }
 },
 "nbformat": 4,
 "nbformat_minor": 4
}
