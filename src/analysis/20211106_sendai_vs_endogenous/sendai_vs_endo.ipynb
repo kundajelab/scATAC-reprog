{
 "cells": [
  {
   "cell_type": "markdown",
   "metadata": {},
   "source": [
    "# Sendai vs Endo\n",
    "\n",
    "Working out an EM algorithm to estimate fraction of exogenous transcripts per barcode + simulations to verify. \n",
    "\n",
    "Working version in `iterative_bc_endo_exo_cts.py`."
   ]
  },
  {
   "cell_type": "code",
   "execution_count": 1,
   "metadata": {},
   "outputs": [],
   "source": [
    "import numpy as np\n",
    "import pandas as pd\n",
    "import matplotlib.pyplot as plt"
   ]
  },
  {
   "cell_type": "code",
   "execution_count": null,
   "metadata": {},
   "outputs": [],
   "source": []
  },
  {
   "cell_type": "code",
   "execution_count": 2,
   "metadata": {},
   "outputs": [],
   "source": [
    "SCHEMA = ['chr', 'start', 'end', 'bc', '-', 'strand']"
   ]
  },
  {
   "cell_type": "code",
   "execution_count": 3,
   "metadata": {},
   "outputs": [
    {
     "data": {
      "text/html": [
       "<div>\n",
       "<style scoped>\n",
       "    .dataframe tbody tr th:only-of-type {\n",
       "        vertical-align: middle;\n",
       "    }\n",
       "\n",
       "    .dataframe tbody tr th {\n",
       "        vertical-align: top;\n",
       "    }\n",
       "\n",
       "    .dataframe thead th {\n",
       "        text-align: right;\n",
       "    }\n",
       "</style>\n",
       "<table border=\"1\" class=\"dataframe\">\n",
       "  <thead>\n",
       "    <tr style=\"text-align: right;\">\n",
       "      <th></th>\n",
       "      <th>chr</th>\n",
       "      <th>start</th>\n",
       "      <th>end</th>\n",
       "      <th>bc</th>\n",
       "      <th>-</th>\n",
       "      <th>strand</th>\n",
       "    </tr>\n",
       "  </thead>\n",
       "  <tbody>\n",
       "    <tr>\n",
       "      <th>0</th>\n",
       "      <td>chr6</td>\n",
       "      <td>31164336</td>\n",
       "      <td>31164423</td>\n",
       "      <td>AGCGCTGAGCCAAGCA</td>\n",
       "      <td>255</td>\n",
       "      <td>-</td>\n",
       "    </tr>\n",
       "    <tr>\n",
       "      <th>1</th>\n",
       "      <td>chr6</td>\n",
       "      <td>31164336</td>\n",
       "      <td>31164413</td>\n",
       "      <td>CGGTCAGGTAGTGGCA</td>\n",
       "      <td>255</td>\n",
       "      <td>-</td>\n",
       "    </tr>\n",
       "    <tr>\n",
       "      <th>2</th>\n",
       "      <td>chr6</td>\n",
       "      <td>31164336</td>\n",
       "      <td>31164396</td>\n",
       "      <td>ATCGGATTCATTGAGC</td>\n",
       "      <td>255</td>\n",
       "      <td>-</td>\n",
       "    </tr>\n",
       "    <tr>\n",
       "      <th>3</th>\n",
       "      <td>chr6</td>\n",
       "      <td>31164336</td>\n",
       "      <td>31164420</td>\n",
       "      <td>AGTACTGCATGAAGGC</td>\n",
       "      <td>255</td>\n",
       "      <td>-</td>\n",
       "    </tr>\n",
       "    <tr>\n",
       "      <th>4</th>\n",
       "      <td>chr6</td>\n",
       "      <td>31164336</td>\n",
       "      <td>31164420</td>\n",
       "      <td>AGAACCTCAGAGGTAC</td>\n",
       "      <td>255</td>\n",
       "      <td>-</td>\n",
       "    </tr>\n",
       "  </tbody>\n",
       "</table>\n",
       "</div>"
      ],
      "text/plain": [
       "    chr     start       end                bc    - strand\n",
       "0  chr6  31164336  31164423  AGCGCTGAGCCAAGCA  255      -\n",
       "1  chr6  31164336  31164413  CGGTCAGGTAGTGGCA  255      -\n",
       "2  chr6  31164336  31164396  ATCGGATTCATTGAGC  255      -\n",
       "3  chr6  31164336  31164420  AGTACTGCATGAAGGC  255      -\n",
       "4  chr6  31164336  31164420  AGAACCTCAGAGGTAC  255      -"
      ]
     },
     "execution_count": 3,
     "metadata": {},
     "output_type": "execute_result"
    }
   ],
   "source": [
    "endo_only = pd.read_csv(\"./out/OCT4/iPSC.bed\", sep='\\t',\n",
    "                       names=SCHEMA)\n",
    "endo_only.head()"
   ]
  },
  {
   "cell_type": "code",
   "execution_count": 4,
   "metadata": {},
   "outputs": [
    {
     "data": {
      "text/html": [
       "<div>\n",
       "<style scoped>\n",
       "    .dataframe tbody tr th:only-of-type {\n",
       "        vertical-align: middle;\n",
       "    }\n",
       "\n",
       "    .dataframe tbody tr th {\n",
       "        vertical-align: top;\n",
       "    }\n",
       "\n",
       "    .dataframe thead th {\n",
       "        text-align: right;\n",
       "    }\n",
       "</style>\n",
       "<table border=\"1\" class=\"dataframe\">\n",
       "  <thead>\n",
       "    <tr style=\"text-align: right;\">\n",
       "      <th></th>\n",
       "      <th>chr</th>\n",
       "      <th>start</th>\n",
       "      <th>end</th>\n",
       "      <th>bc</th>\n",
       "      <th>-</th>\n",
       "      <th>strand</th>\n",
       "    </tr>\n",
       "  </thead>\n",
       "  <tbody>\n",
       "    <tr>\n",
       "      <th>0</th>\n",
       "      <td>chr6</td>\n",
       "      <td>31164344</td>\n",
       "      <td>31164494</td>\n",
       "      <td>TCATACTGTGGGAGAG</td>\n",
       "      <td>255</td>\n",
       "      <td>-</td>\n",
       "    </tr>\n",
       "    <tr>\n",
       "      <th>1</th>\n",
       "      <td>chr6</td>\n",
       "      <td>31164357</td>\n",
       "      <td>31164507</td>\n",
       "      <td>CTGTACCAGTCCCGGT</td>\n",
       "      <td>255</td>\n",
       "      <td>-</td>\n",
       "    </tr>\n",
       "    <tr>\n",
       "      <th>2</th>\n",
       "      <td>chr6</td>\n",
       "      <td>31164363</td>\n",
       "      <td>31164511</td>\n",
       "      <td>GATCATGAGTTAACGA</td>\n",
       "      <td>255</td>\n",
       "      <td>-</td>\n",
       "    </tr>\n",
       "    <tr>\n",
       "      <th>3</th>\n",
       "      <td>chr6</td>\n",
       "      <td>31164369</td>\n",
       "      <td>31164519</td>\n",
       "      <td>TCAAGCAAGAGAGTTT</td>\n",
       "      <td>255</td>\n",
       "      <td>-</td>\n",
       "    </tr>\n",
       "    <tr>\n",
       "      <th>4</th>\n",
       "      <td>chr6</td>\n",
       "      <td>31164378</td>\n",
       "      <td>31164528</td>\n",
       "      <td>GAGCCTGTCACCACAA</td>\n",
       "      <td>255</td>\n",
       "      <td>-</td>\n",
       "    </tr>\n",
       "  </tbody>\n",
       "</table>\n",
       "</div>"
      ],
      "text/plain": [
       "    chr     start       end                bc    - strand\n",
       "0  chr6  31164344  31164494  TCATACTGTGGGAGAG  255      -\n",
       "1  chr6  31164357  31164507  CTGTACCAGTCCCGGT  255      -\n",
       "2  chr6  31164363  31164511  GATCATGAGTTAACGA  255      -\n",
       "3  chr6  31164369  31164519  TCAAGCAAGAGAGTTT  255      -\n",
       "4  chr6  31164378  31164528  GAGCCTGTCACCACAA  255      -"
      ]
     },
     "execution_count": 4,
     "metadata": {},
     "output_type": "execute_result"
    }
   ],
   "source": [
    "exo_only = pd.read_csv(\"./out/OCT4/D2.bed\", sep='\\t',\n",
    "                       names=SCHEMA)\n",
    "exo_only.head()"
   ]
  },
  {
   "cell_type": "code",
   "execution_count": 6,
   "metadata": {},
   "outputs": [],
   "source": [
    "START_OR_END = 'end' # 'start' if gene orientation + else 'end' [5']"
   ]
  },
  {
   "cell_type": "code",
   "execution_count": 7,
   "metadata": {},
   "outputs": [
    {
     "data": {
      "text/plain": [
       "(31164376, 31170683)"
      ]
     },
     "execution_count": 7,
     "metadata": {},
     "output_type": "execute_result"
    }
   ],
   "source": [
    "ST = min(min(exo_only[START_OR_END]), min(endo_only[START_OR_END]))\n",
    "END = max(max(exo_only[START_OR_END]), max(endo_only[START_OR_END]))+1 #+ 1000\n",
    "\n",
    "ST, END"
   ]
  },
  {
   "cell_type": "code",
   "execution_count": 8,
   "metadata": {},
   "outputs": [
    {
     "data": {
      "text/plain": [
       "6307"
      ]
     },
     "execution_count": 8,
     "metadata": {},
     "output_type": "execute_result"
    }
   ],
   "source": [
    "END-ST"
   ]
  },
  {
   "cell_type": "code",
   "execution_count": 9,
   "metadata": {},
   "outputs": [],
   "source": [
    "endo_vec = np.array([0]*(END-ST))\n",
    "exo_vec = np.array([0]*(END-ST))\n",
    "\n",
    "vals, cts = np.unique(endo_only[START_OR_END], return_counts=True)\n",
    "endo_vec[vals-ST] = cts\n",
    "\n",
    "vals, cts = np.unique(exo_only[START_OR_END], return_counts=True)\n",
    "exo_vec[vals-ST] = cts\n",
    "# for _, x in endo_only.iterrows():\n",
    "#     endo_vec[x['start']-ST] += 1\n",
    "    \n",
    "# for _, x in exo_only.iterrows():\n",
    "#     exo_vec[x['start']-ST] += 1\n",
    "\n",
    "norm_endo_vec = endo_vec+1\n",
    "norm_endo_vec = norm_endo_vec/sum(norm_endo_vec)\n",
    "\n",
    "norm_exo_vec = exo_vec+1\n",
    "norm_exo_vec = norm_exo_vec/sum(norm_exo_vec)"
   ]
  },
  {
   "cell_type": "code",
   "execution_count": 10,
   "metadata": {},
   "outputs": [],
   "source": [
    "exo_frac_vector = norm_exo_vec/(norm_exo_vec + norm_endo_vec)"
   ]
  },
  {
   "cell_type": "code",
   "execution_count": 11,
   "metadata": {},
   "outputs": [
    {
     "data": {
      "text/plain": [
       "[<matplotlib.lines.Line2D at 0x7fcac52faa00>]"
      ]
     },
     "execution_count": 11,
     "metadata": {},
     "output_type": "execute_result"
    },
    {
     "data": {
      "image/png": "[encoded data removed]",
      "text/plain": [
       "<Figure size 1440x216 with 1 Axes>"
      ]
     },
     "metadata": {
      "needs_background": "light"
     },
     "output_type": "display_data"
    }
   ],
   "source": [
    "plt.rcParams[\"figure.figsize\"] = (20,3)\n",
    "\n",
    "plt.plot(exo_frac_vector)"
   ]
  },
  {
   "cell_type": "markdown",
   "metadata": {},
   "source": [
    "## Iterative"
   ]
  },
  {
   "cell_type": "code",
   "execution_count": 12,
   "metadata": {},
   "outputs": [],
   "source": [
    "def iterative_frac_exo(df, start_or_end='start', num_iter=10):    \n",
    "    df = df.copy()\n",
    "    bc2idx = {x:i for i,x in enumerate(set(df['bc']))}\n",
    "    idx2bc = {idx:bc for bc,idx in bc2idx.items()}\n",
    "    df['bc_idx'] = [bc2idx[x] for x in df['bc']]\n",
    "    \n",
    "    # make barcode x position counts matrix\n",
    "    coord_bc_ct = df.groupby([start_or_end, 'bc_idx']).size().reset_index(name='counts')\n",
    "\n",
    "    bc_cts_mat = np.zeros((len(bc2idx), END-ST))\n",
    "    bc_cts_mat[coord_bc_ct['bc_idx'], coord_bc_ct[start_or_end] - ST] = coord_bc_ct['counts']\n",
    "\n",
    "    # intial guess 1:1\n",
    "    exo_frac_estimate = np.array([0.5]*len(bc2idx))\n",
    "\n",
    "    per_bc_cts = bc_cts_mat.sum(-1)\n",
    "\n",
    "    for _ in range(num_iter):\n",
    "        cur_exo_prob = np.outer(exo_frac_estimate, norm_exo_vec)\n",
    "        cur_endo_prob = np.outer((1-exo_frac_estimate), norm_endo_vec)\n",
    "\n",
    "        per_pos_frac_exo = cur_exo_prob/(cur_exo_prob + cur_endo_prob)\n",
    "        \n",
    "        # update estimate\n",
    "        exo_frac_estimate = (per_pos_frac_exo * bc_cts_mat).sum(-1)/per_bc_cts\n",
    "\n",
    "    exo_cts = exo_frac_estimate * per_bc_cts\n",
    "    endo_cts = per_bc_cts - exo_cts\n",
    "    bcs = [idx2bc[i] for i in range(len(idx2bc))]\n",
    "    \n",
    "    bc2exo = {x:exo_frac_estimate[i] for i,x in enumerate(bcs)}\n",
    "    \n",
    "    return bc2exo"
   ]
  },
  {
   "cell_type": "code",
   "execution_count": 13,
   "metadata": {},
   "outputs": [
    {
     "data": {
      "text/html": [
       "<div>\n",
       "<style scoped>\n",
       "    .dataframe tbody tr th:only-of-type {\n",
       "        vertical-align: middle;\n",
       "    }\n",
       "\n",
       "    .dataframe tbody tr th {\n",
       "        vertical-align: top;\n",
       "    }\n",
       "\n",
       "    .dataframe thead th {\n",
       "        text-align: right;\n",
       "    }\n",
       "</style>\n",
       "<table border=\"1\" class=\"dataframe\">\n",
       "  <thead>\n",
       "    <tr style=\"text-align: right;\">\n",
       "      <th></th>\n",
       "      <th>chr</th>\n",
       "      <th>start</th>\n",
       "      <th>end</th>\n",
       "      <th>bc</th>\n",
       "      <th>-</th>\n",
       "      <th>strand</th>\n",
       "    </tr>\n",
       "  </thead>\n",
       "  <tbody>\n",
       "    <tr>\n",
       "      <th>0</th>\n",
       "      <td>chr6</td>\n",
       "      <td>31164336</td>\n",
       "      <td>31164469</td>\n",
       "      <td>CTGGCAGTCTTTCCAA</td>\n",
       "      <td>255</td>\n",
       "      <td>-</td>\n",
       "    </tr>\n",
       "    <tr>\n",
       "      <th>1</th>\n",
       "      <td>chr6</td>\n",
       "      <td>31164336</td>\n",
       "      <td>31164482</td>\n",
       "      <td>GTCTCACTCTCGTGAA</td>\n",
       "      <td>255</td>\n",
       "      <td>-</td>\n",
       "    </tr>\n",
       "    <tr>\n",
       "      <th>2</th>\n",
       "      <td>chr6</td>\n",
       "      <td>31164336</td>\n",
       "      <td>31164483</td>\n",
       "      <td>GGTGTTAAGGTAGTCG</td>\n",
       "      <td>255</td>\n",
       "      <td>-</td>\n",
       "    </tr>\n",
       "    <tr>\n",
       "      <th>3</th>\n",
       "      <td>chr6</td>\n",
       "      <td>31164336</td>\n",
       "      <td>31164469</td>\n",
       "      <td>CATCCACTCGTTCCCA</td>\n",
       "      <td>255</td>\n",
       "      <td>-</td>\n",
       "    </tr>\n",
       "    <tr>\n",
       "      <th>4</th>\n",
       "      <td>chr6</td>\n",
       "      <td>31164336</td>\n",
       "      <td>31164480</td>\n",
       "      <td>AAAGAACTCATTGCCC</td>\n",
       "      <td>255</td>\n",
       "      <td>-</td>\n",
       "    </tr>\n",
       "  </tbody>\n",
       "</table>\n",
       "</div>"
      ],
      "text/plain": [
       "    chr     start       end                bc    - strand\n",
       "0  chr6  31164336  31164469  CTGGCAGTCTTTCCAA  255      -\n",
       "1  chr6  31164336  31164482  GTCTCACTCTCGTGAA  255      -\n",
       "2  chr6  31164336  31164483  GGTGTTAAGGTAGTCG  255      -\n",
       "3  chr6  31164336  31164469  CATCCACTCGTTCCCA  255      -\n",
       "4  chr6  31164336  31164480  AAAGAACTCATTGCCC  255      -"
      ]
     },
     "execution_count": 13,
     "metadata": {},
     "output_type": "execute_result"
    }
   ],
   "source": [
    "cur_samp = pd.read_csv(\"./out/OCT4/D14.bed\", sep='\\t', names=SCHEMA)\n",
    "cur_samp.head()"
   ]
  },
  {
   "cell_type": "code",
   "execution_count": 14,
   "metadata": {},
   "outputs": [],
   "source": [
    "exo_frac = list(iterative_frac_exo(cur_samp, start_or_end=START_OR_END).values())"
   ]
  },
  {
   "cell_type": "code",
   "execution_count": 15,
   "metadata": {},
   "outputs": [
    {
     "data": {
      "image/png": "[encoded data removed]",
      "text/plain": [
       "<Figure size 1440x216 with 1 Axes>"
      ]
     },
     "metadata": {
      "needs_background": "light"
     },
     "output_type": "display_data"
    }
   ],
   "source": [
    "plt.rcParams[\"figure.figsize\"] = (20,3)\n",
    "\n",
    "plt.hist(exo_frac, bins=50)\n",
    "plt.show()"
   ]
  },
  {
   "cell_type": "code",
   "execution_count": null,
   "metadata": {},
   "outputs": [],
   "source": []
  },
  {
   "cell_type": "markdown",
   "metadata": {},
   "source": [
    "## Simulation\n",
    "\n",
    "Simulation check to see if the recovered frac is correct."
   ]
  },
  {
   "cell_type": "code",
   "execution_count": 16,
   "metadata": {},
   "outputs": [],
   "source": [
    "NSAMP=20 # per simulated barcode\n",
    "PER_FRAC=200 # per fraction (i.e. NSAMP+1)"
   ]
  },
  {
   "cell_type": "code",
   "execution_count": 17,
   "metadata": {},
   "outputs": [],
   "source": [
    "sim_bcs = []\n",
    "sim_starts = []\n",
    "bcs_to_frac = {}\n",
    "\n",
    "i = 0\n",
    "for f in range(NSAMP+1):\n",
    "    for _ in range(PER_FRAC):\n",
    "        bcs_to_frac[i] = f/NSAMP\n",
    "              \n",
    "        exo_starts = np.random.choice(range(len(norm_exo_vec)), f, p=norm_exo_vec)\n",
    "        endo_starts = np.random.choice(range(len(norm_endo_vec)), NSAMP-f, p=norm_endo_vec)\n",
    "        \n",
    "        sim_bcs += [i]*NSAMP\n",
    "        sim_starts += list(endo_starts + ST) + list(exo_starts + ST)\n",
    "        \n",
    "        i+=1"
   ]
  },
  {
   "cell_type": "code",
   "execution_count": 18,
   "metadata": {},
   "outputs": [
    {
     "data": {
      "text/html": [
       "<div>\n",
       "<style scoped>\n",
       "    .dataframe tbody tr th:only-of-type {\n",
       "        vertical-align: middle;\n",
       "    }\n",
       "\n",
       "    .dataframe tbody tr th {\n",
       "        vertical-align: top;\n",
       "    }\n",
       "\n",
       "    .dataframe thead th {\n",
       "        text-align: right;\n",
       "    }\n",
       "</style>\n",
       "<table border=\"1\" class=\"dataframe\">\n",
       "  <thead>\n",
       "    <tr style=\"text-align: right;\">\n",
       "      <th></th>\n",
       "      <th>end</th>\n",
       "      <th>bc</th>\n",
       "    </tr>\n",
       "  </thead>\n",
       "  <tbody>\n",
       "    <tr>\n",
       "      <th>66097</th>\n",
       "      <td>31164863</td>\n",
       "      <td>3304</td>\n",
       "    </tr>\n",
       "    <tr>\n",
       "      <th>74352</th>\n",
       "      <td>31165166</td>\n",
       "      <td>3717</td>\n",
       "    </tr>\n",
       "    <tr>\n",
       "      <th>44749</th>\n",
       "      <td>31166779</td>\n",
       "      <td>2237</td>\n",
       "    </tr>\n",
       "    <tr>\n",
       "      <th>12371</th>\n",
       "      <td>31164730</td>\n",
       "      <td>618</td>\n",
       "    </tr>\n",
       "    <tr>\n",
       "      <th>15253</th>\n",
       "      <td>31164599</td>\n",
       "      <td>762</td>\n",
       "    </tr>\n",
       "    <tr>\n",
       "      <th>59530</th>\n",
       "      <td>31164742</td>\n",
       "      <td>2976</td>\n",
       "    </tr>\n",
       "    <tr>\n",
       "      <th>48373</th>\n",
       "      <td>31164855</td>\n",
       "      <td>2418</td>\n",
       "    </tr>\n",
       "    <tr>\n",
       "      <th>17799</th>\n",
       "      <td>31164824</td>\n",
       "      <td>889</td>\n",
       "    </tr>\n",
       "    <tr>\n",
       "      <th>13656</th>\n",
       "      <td>31164481</td>\n",
       "      <td>682</td>\n",
       "    </tr>\n",
       "    <tr>\n",
       "      <th>53627</th>\n",
       "      <td>31164860</td>\n",
       "      <td>2681</td>\n",
       "    </tr>\n",
       "  </tbody>\n",
       "</table>\n",
       "</div>"
      ],
      "text/plain": [
       "            end    bc\n",
       "66097  31164863  3304\n",
       "74352  31165166  3717\n",
       "44749  31166779  2237\n",
       "12371  31164730   618\n",
       "15253  31164599   762\n",
       "59530  31164742  2976\n",
       "48373  31164855  2418\n",
       "17799  31164824   889\n",
       "13656  31164481   682\n",
       "53627  31164860  2681"
      ]
     },
     "execution_count": 18,
     "metadata": {},
     "output_type": "execute_result"
    }
   ],
   "source": [
    "sim_df = pd.DataFrame({START_OR_END:sim_starts, 'bc':sim_bcs})\n",
    "sim_df.sample(10)"
   ]
  },
  {
   "cell_type": "code",
   "execution_count": 19,
   "metadata": {},
   "outputs": [],
   "source": [
    "sim_estimate_exo = iterative_frac_exo(sim_df, start_or_end=START_OR_END)"
   ]
  },
  {
   "cell_type": "code",
   "execution_count": 20,
   "metadata": {},
   "outputs": [
    {
     "data": {
      "text/plain": [
       "[]"
      ]
     },
     "execution_count": 20,
     "metadata": {},
     "output_type": "execute_result"
    },
    {
     "data": {
      "image/png": "[encoded data removed]",
      "text/plain": [
       "<Figure size 360x360 with 1 Axes>"
      ]
     },
     "metadata": {
      "needs_background": "light"
     },
     "output_type": "display_data"
    }
   ],
   "source": [
    "plt.rcParams[\"figure.figsize\"] = (5,5)\n",
    "\n",
    "fixed_frac_estimate = [sim_estimate_exo[bc] for bc,frac in bcs_to_frac.items() if frac==.5]\n",
    "plt.hist(fixed_frac_estimate)\n",
    "plt.plot()"
   ]
  },
  {
   "cell_type": "code",
   "execution_count": 21,
   "metadata": {},
   "outputs": [
    {
     "data": {
      "text/plain": [
       "(0.4925934321630374, 0.4881644649037379, 0.05123574692467782)"
      ]
     },
     "execution_count": 21,
     "metadata": {},
     "output_type": "execute_result"
    }
   ],
   "source": [
    "np.mean(fixed_frac_estimate), np.median(fixed_frac_estimate), np.std(fixed_frac_estimate)"
   ]
  },
  {
   "cell_type": "code",
   "execution_count": 22,
   "metadata": {},
   "outputs": [
    {
     "data": {
      "text/plain": [
       "Text(0, 0.5, 'Estimated')"
      ]
     },
     "execution_count": 22,
     "metadata": {},
     "output_type": "execute_result"
    },
    {
     "data": {
      "image/png": "[encoded data removed]",
      "text/plain": [
       "<Figure size 360x360 with 1 Axes>"
      ]
     },
     "metadata": {
      "needs_background": "light"
     },
     "output_type": "display_data"
    }
   ],
   "source": [
    "plt.rcParams[\"figure.figsize\"] = (5,5)\n",
    "\n",
    "plt.scatter([x for i,x in bcs_to_frac.items()], [sim_estimate_exo[x] for x in bcs_to_frac], s=.2, alpha=0.5)\n",
    "plt.xlabel(\"Actual\")\n",
    "plt.ylabel(\"Estimated\")"
   ]
  },
  {
   "cell_type": "markdown",
   "metadata": {},
   "source": [
    "More noise arises from stochasticity in scRNA sampling transcripts from a cell which would increase error even more."
   ]
  },
  {
   "cell_type": "code",
   "execution_count": null,
   "metadata": {},
   "outputs": [],
   "source": []
  }
 ],
 "metadata": {
  "kernelspec": {
   "display_name": "Python 3",
   "language": "python",
   "name": "python3"
  },
  "language_info": {
   "codemirror_mode": {
    "name": "ipython",
    "version": 3
   },
   "file_extension": ".py",
   "mimetype": "text/x-python",
   "name": "python",
   "nbconvert_exporter": "python",
   "pygments_lexer": "ipython3",
   "version": "3.8.2"
  }
 },
 "nbformat": 4,
 "nbformat_minor": 4
}
