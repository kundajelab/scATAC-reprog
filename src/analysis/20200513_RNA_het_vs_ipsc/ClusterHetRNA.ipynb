{
 "cells": [
  {
   "cell_type": "markdown",
   "metadata": {},
   "source": [
    "# Cluster Heterokaryon RNA-seq\n",
    "\n",
    "Cluster RNA-seq trajectories of different genes/"
   ]
  },
  {
   "cell_type": "code",
   "execution_count": 106,
   "metadata": {},
   "outputs": [
    {
     "name": "stderr",
     "output_type": "stream",
     "text": [
      "\n",
      "Attaching package: ‘scales’\n",
      "\n",
      "\n",
      "The following object is masked from ‘package:viridis’:\n",
      "\n",
      "    viridis_pal\n",
      "\n",
      "\n"
     ]
    }
   ],
   "source": [
    "library(ggplot2)\n",
    "library(matrixStats)\n",
    "library(patchwork)\n",
    "library(reshape2)\n",
    "library(ggrepel)\n",
    "library(ClusterR)\n",
    "library(viridis)\n",
    "library(scales)"
   ]
  },
  {
   "cell_type": "code",
   "execution_count": 2,
   "metadata": {},
   "outputs": [
    {
     "data": {
      "text/html": [
       "<table>\n",
       "<caption>A data.frame: 1 × 21</caption>\n",
       "<thead>\n",
       "\t<tr><th></th><th scope=col>GSM2772599_hFb_MRC5_rep1</th><th scope=col>GSM2772600_hFb_MRC5_rep2</th><th scope=col>GSM2772601_hFb_MRC5_rep3</th><th scope=col>GSM2772602_Co.cult_rep1</th><th scope=col>GSM2772603_Co.cult_rep2</th><th scope=col>GSM2772604_co.cult_rep3</th><th scope=col>GSM2772605_30min_rep1</th><th scope=col>GSM2772606_30min_rep2</th><th scope=col>GSM2772607_30min_rep3</th><th scope=col>GSM2772608_2h_rep1</th><th scope=col>⋯</th><th scope=col>GSM2772610_2h_rep3</th><th scope=col>GSM2772611_6h_rep1</th><th scope=col>GSM2772612_6h_rep2</th><th scope=col>GSM2772613_6h_rep3</th><th scope=col>GSM2772614_12h_rep1</th><th scope=col>GSM2772615_12h_rep2</th><th scope=col>GSM2772616_12h_rep3</th><th scope=col>GSM2772617_24h_rep1</th><th scope=col>GSM2772618_24h_rep2</th><th scope=col>GSM2772619_24h_rep3</th></tr>\n",
       "\t<tr><th></th><th scope=col>&lt;dbl&gt;</th><th scope=col>&lt;dbl&gt;</th><th scope=col>&lt;dbl&gt;</th><th scope=col>&lt;dbl&gt;</th><th scope=col>&lt;dbl&gt;</th><th scope=col>&lt;dbl&gt;</th><th scope=col>&lt;dbl&gt;</th><th scope=col>&lt;dbl&gt;</th><th scope=col>&lt;dbl&gt;</th><th scope=col>&lt;dbl&gt;</th><th scope=col>⋯</th><th scope=col>&lt;dbl&gt;</th><th scope=col>&lt;dbl&gt;</th><th scope=col>&lt;dbl&gt;</th><th scope=col>&lt;dbl&gt;</th><th scope=col>&lt;dbl&gt;</th><th scope=col>&lt;dbl&gt;</th><th scope=col>&lt;dbl&gt;</th><th scope=col>&lt;dbl&gt;</th><th scope=col>&lt;dbl&gt;</th><th scope=col>&lt;dbl&gt;</th></tr>\n",
       "</thead>\n",
       "<tbody>\n",
       "\t<tr><th scope=row>GAPDH</th><td>4909.54</td><td>4797.98</td><td>3419.12</td><td>5400.76</td><td>5767.35</td><td>4277.84</td><td>5474.26</td><td>5490.53</td><td>4537.26</td><td>4826.46</td><td>⋯</td><td>4173.66</td><td>5217.96</td><td>5214.19</td><td>4473.25</td><td>5868.08</td><td>5776.31</td><td>4581.95</td><td>6361.69</td><td>5933.19</td><td>5486.53</td></tr>\n",
       "</tbody>\n",
       "</table>\n"
      ],
      "text/latex": [
       "A data.frame: 1 × 21\n",
       "\\begin{tabular}{r|lllllllllllllllllllll}\n",
       "  & GSM2772599\\_hFb\\_MRC5\\_rep1 & GSM2772600\\_hFb\\_MRC5\\_rep2 & GSM2772601\\_hFb\\_MRC5\\_rep3 & GSM2772602\\_Co.cult\\_rep1 & GSM2772603\\_Co.cult\\_rep2 & GSM2772604\\_co.cult\\_rep3 & GSM2772605\\_30min\\_rep1 & GSM2772606\\_30min\\_rep2 & GSM2772607\\_30min\\_rep3 & GSM2772608\\_2h\\_rep1 & ⋯ & GSM2772610\\_2h\\_rep3 & GSM2772611\\_6h\\_rep1 & GSM2772612\\_6h\\_rep2 & GSM2772613\\_6h\\_rep3 & GSM2772614\\_12h\\_rep1 & GSM2772615\\_12h\\_rep2 & GSM2772616\\_12h\\_rep3 & GSM2772617\\_24h\\_rep1 & GSM2772618\\_24h\\_rep2 & GSM2772619\\_24h\\_rep3\\\\\n",
       "  & <dbl> & <dbl> & <dbl> & <dbl> & <dbl> & <dbl> & <dbl> & <dbl> & <dbl> & <dbl> & ⋯ & <dbl> & <dbl> & <dbl> & <dbl> & <dbl> & <dbl> & <dbl> & <dbl> & <dbl> & <dbl>\\\\\n",
       "\\hline\n",
       "\tGAPDH & 4909.54 & 4797.98 & 3419.12 & 5400.76 & 5767.35 & 4277.84 & 5474.26 & 5490.53 & 4537.26 & 4826.46 & ⋯ & 4173.66 & 5217.96 & 5214.19 & 4473.25 & 5868.08 & 5776.31 & 4581.95 & 6361.69 & 5933.19 & 5486.53\\\\\n",
       "\\end{tabular}\n"
      ],
      "text/markdown": [
       "\n",
       "A data.frame: 1 × 21\n",
       "\n",
       "| <!--/--> | GSM2772599_hFb_MRC5_rep1 &lt;dbl&gt; | GSM2772600_hFb_MRC5_rep2 &lt;dbl&gt; | GSM2772601_hFb_MRC5_rep3 &lt;dbl&gt; | GSM2772602_Co.cult_rep1 &lt;dbl&gt; | GSM2772603_Co.cult_rep2 &lt;dbl&gt; | GSM2772604_co.cult_rep3 &lt;dbl&gt; | GSM2772605_30min_rep1 &lt;dbl&gt; | GSM2772606_30min_rep2 &lt;dbl&gt; | GSM2772607_30min_rep3 &lt;dbl&gt; | GSM2772608_2h_rep1 &lt;dbl&gt; | ⋯ ⋯ | GSM2772610_2h_rep3 &lt;dbl&gt; | GSM2772611_6h_rep1 &lt;dbl&gt; | GSM2772612_6h_rep2 &lt;dbl&gt; | GSM2772613_6h_rep3 &lt;dbl&gt; | GSM2772614_12h_rep1 &lt;dbl&gt; | GSM2772615_12h_rep2 &lt;dbl&gt; | GSM2772616_12h_rep3 &lt;dbl&gt; | GSM2772617_24h_rep1 &lt;dbl&gt; | GSM2772618_24h_rep2 &lt;dbl&gt; | GSM2772619_24h_rep3 &lt;dbl&gt; |\n",
       "|---|---|---|---|---|---|---|---|---|---|---|---|---|---|---|---|---|---|---|---|---|---|\n",
       "| GAPDH | 4909.54 | 4797.98 | 3419.12 | 5400.76 | 5767.35 | 4277.84 | 5474.26 | 5490.53 | 4537.26 | 4826.46 | ⋯ | 4173.66 | 5217.96 | 5214.19 | 4473.25 | 5868.08 | 5776.31 | 4581.95 | 6361.69 | 5933.19 | 5486.53 |\n",
       "\n"
      ],
      "text/plain": [
       "      GSM2772599_hFb_MRC5_rep1 GSM2772600_hFb_MRC5_rep2\n",
       "GAPDH 4909.54                  4797.98                 \n",
       "      GSM2772601_hFb_MRC5_rep3 GSM2772602_Co.cult_rep1 GSM2772603_Co.cult_rep2\n",
       "GAPDH 3419.12                  5400.76                 5767.35                \n",
       "      GSM2772604_co.cult_rep3 GSM2772605_30min_rep1 GSM2772606_30min_rep2\n",
       "GAPDH 4277.84                 5474.26               5490.53              \n",
       "      GSM2772607_30min_rep3 GSM2772608_2h_rep1 ⋯ GSM2772610_2h_rep3\n",
       "GAPDH 4537.26               4826.46            ⋯ 4173.66           \n",
       "      GSM2772611_6h_rep1 GSM2772612_6h_rep2 GSM2772613_6h_rep3\n",
       "GAPDH 5217.96            5214.19            4473.25           \n",
       "      GSM2772614_12h_rep1 GSM2772615_12h_rep2 GSM2772616_12h_rep3\n",
       "GAPDH 5868.08             5776.31             4581.95            \n",
       "      GSM2772617_24h_rep1 GSM2772618_24h_rep2 GSM2772619_24h_rep3\n",
       "GAPDH 6361.69             5933.19             5486.53            "
      ]
     },
     "metadata": {},
     "output_type": "display_data"
    }
   ],
   "source": [
    "tpm_het = read.table(\"/users/surag/kundajelab/scATAC-reprog/resources/GSE103509/tpm.matrix.txt\", sep='\\t', header=T)\n",
    "tpm_het = tpm_het[tpm_het$Gene!=\"None\", ]\n",
    "tpm_het = tpm_het[!duplicated(tpm_het$Gene),]\n",
    "rownames(tpm_het) = tpm_het$Gene\n",
    "tpm_het$Gene = NULL\n",
    "tpm_het$Ensembl = NULL\n",
    "\n",
    "tpm_het[\"GAPDH\",]"
   ]
  },
  {
   "cell_type": "code",
   "execution_count": 3,
   "metadata": {},
   "outputs": [],
   "source": [
    "# shorten names\n",
    "colnames(tpm_het) = paste(paste(lapply(strsplit(colnames(tpm_het), \"_\"), \"[[\", 2), \n",
    "                                lapply(strsplit(colnames(tpm_het), \"_\"), \"tail\", 1),\n",
    "                          sep='_'))"
   ]
  },
  {
   "cell_type": "code",
   "execution_count": 28,
   "metadata": {},
   "outputs": [],
   "source": [
    "# making case same as others\n",
    "colnames(tpm_het)[6] = 'Co.cult_rep3'"
   ]
  },
  {
   "cell_type": "code",
   "execution_count": 29,
   "metadata": {},
   "outputs": [
    {
     "data": {
      "text/html": [
       "<table>\n",
       "<caption>A data.frame: 6 × 21</caption>\n",
       "<thead>\n",
       "\t<tr><th></th><th scope=col>hFb_rep1</th><th scope=col>hFb_rep2</th><th scope=col>hFb_rep3</th><th scope=col>Co.cult_rep1</th><th scope=col>Co.cult_rep2</th><th scope=col>Co.cult_rep3</th><th scope=col>30min_rep1</th><th scope=col>30min_rep2</th><th scope=col>30min_rep3</th><th scope=col>2h_rep1</th><th scope=col>⋯</th><th scope=col>2h_rep3</th><th scope=col>6h_rep1</th><th scope=col>6h_rep2</th><th scope=col>6h_rep3</th><th scope=col>12h_rep1</th><th scope=col>12h_rep2</th><th scope=col>12h_rep3</th><th scope=col>24h_rep1</th><th scope=col>24h_rep2</th><th scope=col>24h_rep3</th></tr>\n",
       "\t<tr><th></th><th scope=col>&lt;dbl&gt;</th><th scope=col>&lt;dbl&gt;</th><th scope=col>&lt;dbl&gt;</th><th scope=col>&lt;dbl&gt;</th><th scope=col>&lt;dbl&gt;</th><th scope=col>&lt;dbl&gt;</th><th scope=col>&lt;dbl&gt;</th><th scope=col>&lt;dbl&gt;</th><th scope=col>&lt;dbl&gt;</th><th scope=col>&lt;dbl&gt;</th><th scope=col>⋯</th><th scope=col>&lt;dbl&gt;</th><th scope=col>&lt;dbl&gt;</th><th scope=col>&lt;dbl&gt;</th><th scope=col>&lt;dbl&gt;</th><th scope=col>&lt;dbl&gt;</th><th scope=col>&lt;dbl&gt;</th><th scope=col>&lt;dbl&gt;</th><th scope=col>&lt;dbl&gt;</th><th scope=col>&lt;dbl&gt;</th><th scope=col>&lt;dbl&gt;</th></tr>\n",
       "</thead>\n",
       "<tbody>\n",
       "\t<tr><th scope=row>AC008147.4</th><td> 0.0000</td><td> 0.0000</td><td> 0.0000</td><td> 0.00</td><td> 0.0000</td><td> 0.0000</td><td> 0.0000</td><td> 0.0000</td><td> 0.0000</td><td> 0.0000</td><td>⋯</td><td> 0.0000</td><td> 0.0000</td><td> 0.0000</td><td> 0.000</td><td> 0.000</td><td> 0.0000</td><td> 0.0000</td><td> 0.0000</td><td> 0.31002</td><td> 0.0000</td></tr>\n",
       "\t<tr><th scope=row>GSC2</th><td> 0.0000</td><td> 0.0000</td><td> 0.0000</td><td> 0.00</td><td> 0.0000</td><td> 0.0000</td><td> 0.0000</td><td> 0.0000</td><td> 0.0000</td><td> 0.0000</td><td>⋯</td><td> 0.0000</td><td> 0.0000</td><td> 0.0000</td><td> 0.000</td><td> 0.000</td><td> 0.0000</td><td> 0.0000</td><td> 0.0000</td><td> 0.00000</td><td> 0.0000</td></tr>\n",
       "\t<tr><th scope=row>RNA5SP510</th><td> 0.0000</td><td> 0.0000</td><td> 0.0000</td><td> 0.00</td><td> 0.0000</td><td> 0.0000</td><td> 0.0000</td><td> 0.0000</td><td> 0.0000</td><td> 0.0000</td><td>⋯</td><td> 0.0000</td><td> 0.0000</td><td> 0.0000</td><td> 0.000</td><td> 0.000</td><td> 0.0000</td><td> 0.0000</td><td> 0.0000</td><td> 0.00000</td><td> 0.0000</td></tr>\n",
       "\t<tr><th scope=row>CHRM3-AS1</th><td> 0.0000</td><td> 0.0000</td><td> 0.0000</td><td> 0.00</td><td> 0.0000</td><td> 0.0000</td><td> 0.0000</td><td> 0.0000</td><td> 0.0000</td><td> 0.0000</td><td>⋯</td><td> 0.0000</td><td> 0.0000</td><td> 0.0000</td><td> 0.000</td><td> 0.000</td><td> 0.0000</td><td> 0.0000</td><td> 0.0000</td><td> 0.00000</td><td> 0.0000</td></tr>\n",
       "\t<tr><th scope=row>BPY2DP</th><td> 0.0000</td><td> 0.0000</td><td> 0.0000</td><td> 0.00</td><td> 0.0000</td><td> 0.0000</td><td> 0.0000</td><td> 0.0000</td><td> 0.0000</td><td> 0.0000</td><td>⋯</td><td> 0.0000</td><td> 0.0000</td><td> 0.0000</td><td> 0.000</td><td> 0.000</td><td> 0.0000</td><td> 0.0000</td><td> 0.0000</td><td> 0.00000</td><td> 0.0000</td></tr>\n",
       "\t<tr><th scope=row>RTL8A</th><td>76.4726</td><td>82.9742</td><td>68.0836</td><td>88.86</td><td>94.7277</td><td>61.5797</td><td>84.5301</td><td>84.8045</td><td>54.6292</td><td>82.6592</td><td>⋯</td><td>65.4956</td><td>58.4438</td><td>63.2025</td><td>67.486</td><td>36.874</td><td>56.7114</td><td>32.8462</td><td>31.9511</td><td>41.43000</td><td>27.5791</td></tr>\n",
       "</tbody>\n",
       "</table>\n"
      ],
      "text/latex": [
       "A data.frame: 6 × 21\n",
       "\\begin{tabular}{r|lllllllllllllllllllll}\n",
       "  & hFb\\_rep1 & hFb\\_rep2 & hFb\\_rep3 & Co.cult\\_rep1 & Co.cult\\_rep2 & Co.cult\\_rep3 & 30min\\_rep1 & 30min\\_rep2 & 30min\\_rep3 & 2h\\_rep1 & ⋯ & 2h\\_rep3 & 6h\\_rep1 & 6h\\_rep2 & 6h\\_rep3 & 12h\\_rep1 & 12h\\_rep2 & 12h\\_rep3 & 24h\\_rep1 & 24h\\_rep2 & 24h\\_rep3\\\\\n",
       "  & <dbl> & <dbl> & <dbl> & <dbl> & <dbl> & <dbl> & <dbl> & <dbl> & <dbl> & <dbl> & ⋯ & <dbl> & <dbl> & <dbl> & <dbl> & <dbl> & <dbl> & <dbl> & <dbl> & <dbl> & <dbl>\\\\\n",
       "\\hline\n",
       "\tAC008147.4 &  0.0000 &  0.0000 &  0.0000 &  0.00 &  0.0000 &  0.0000 &  0.0000 &  0.0000 &  0.0000 &  0.0000 & ⋯ &  0.0000 &  0.0000 &  0.0000 &  0.000 &  0.000 &  0.0000 &  0.0000 &  0.0000 &  0.31002 &  0.0000\\\\\n",
       "\tGSC2 &  0.0000 &  0.0000 &  0.0000 &  0.00 &  0.0000 &  0.0000 &  0.0000 &  0.0000 &  0.0000 &  0.0000 & ⋯ &  0.0000 &  0.0000 &  0.0000 &  0.000 &  0.000 &  0.0000 &  0.0000 &  0.0000 &  0.00000 &  0.0000\\\\\n",
       "\tRNA5SP510 &  0.0000 &  0.0000 &  0.0000 &  0.00 &  0.0000 &  0.0000 &  0.0000 &  0.0000 &  0.0000 &  0.0000 & ⋯ &  0.0000 &  0.0000 &  0.0000 &  0.000 &  0.000 &  0.0000 &  0.0000 &  0.0000 &  0.00000 &  0.0000\\\\\n",
       "\tCHRM3-AS1 &  0.0000 &  0.0000 &  0.0000 &  0.00 &  0.0000 &  0.0000 &  0.0000 &  0.0000 &  0.0000 &  0.0000 & ⋯ &  0.0000 &  0.0000 &  0.0000 &  0.000 &  0.000 &  0.0000 &  0.0000 &  0.0000 &  0.00000 &  0.0000\\\\\n",
       "\tBPY2DP &  0.0000 &  0.0000 &  0.0000 &  0.00 &  0.0000 &  0.0000 &  0.0000 &  0.0000 &  0.0000 &  0.0000 & ⋯ &  0.0000 &  0.0000 &  0.0000 &  0.000 &  0.000 &  0.0000 &  0.0000 &  0.0000 &  0.00000 &  0.0000\\\\\n",
       "\tRTL8A & 76.4726 & 82.9742 & 68.0836 & 88.86 & 94.7277 & 61.5797 & 84.5301 & 84.8045 & 54.6292 & 82.6592 & ⋯ & 65.4956 & 58.4438 & 63.2025 & 67.486 & 36.874 & 56.7114 & 32.8462 & 31.9511 & 41.43000 & 27.5791\\\\\n",
       "\\end{tabular}\n"
      ],
      "text/markdown": [
       "\n",
       "A data.frame: 6 × 21\n",
       "\n",
       "| <!--/--> | hFb_rep1 &lt;dbl&gt; | hFb_rep2 &lt;dbl&gt; | hFb_rep3 &lt;dbl&gt; | Co.cult_rep1 &lt;dbl&gt; | Co.cult_rep2 &lt;dbl&gt; | Co.cult_rep3 &lt;dbl&gt; | 30min_rep1 &lt;dbl&gt; | 30min_rep2 &lt;dbl&gt; | 30min_rep3 &lt;dbl&gt; | 2h_rep1 &lt;dbl&gt; | ⋯ ⋯ | 2h_rep3 &lt;dbl&gt; | 6h_rep1 &lt;dbl&gt; | 6h_rep2 &lt;dbl&gt; | 6h_rep3 &lt;dbl&gt; | 12h_rep1 &lt;dbl&gt; | 12h_rep2 &lt;dbl&gt; | 12h_rep3 &lt;dbl&gt; | 24h_rep1 &lt;dbl&gt; | 24h_rep2 &lt;dbl&gt; | 24h_rep3 &lt;dbl&gt; |\n",
       "|---|---|---|---|---|---|---|---|---|---|---|---|---|---|---|---|---|---|---|---|---|---|\n",
       "| AC008147.4 |  0.0000 |  0.0000 |  0.0000 |  0.00 |  0.0000 |  0.0000 |  0.0000 |  0.0000 |  0.0000 |  0.0000 | ⋯ |  0.0000 |  0.0000 |  0.0000 |  0.000 |  0.000 |  0.0000 |  0.0000 |  0.0000 |  0.31002 |  0.0000 |\n",
       "| GSC2 |  0.0000 |  0.0000 |  0.0000 |  0.00 |  0.0000 |  0.0000 |  0.0000 |  0.0000 |  0.0000 |  0.0000 | ⋯ |  0.0000 |  0.0000 |  0.0000 |  0.000 |  0.000 |  0.0000 |  0.0000 |  0.0000 |  0.00000 |  0.0000 |\n",
       "| RNA5SP510 |  0.0000 |  0.0000 |  0.0000 |  0.00 |  0.0000 |  0.0000 |  0.0000 |  0.0000 |  0.0000 |  0.0000 | ⋯ |  0.0000 |  0.0000 |  0.0000 |  0.000 |  0.000 |  0.0000 |  0.0000 |  0.0000 |  0.00000 |  0.0000 |\n",
       "| CHRM3-AS1 |  0.0000 |  0.0000 |  0.0000 |  0.00 |  0.0000 |  0.0000 |  0.0000 |  0.0000 |  0.0000 |  0.0000 | ⋯ |  0.0000 |  0.0000 |  0.0000 |  0.000 |  0.000 |  0.0000 |  0.0000 |  0.0000 |  0.00000 |  0.0000 |\n",
       "| BPY2DP |  0.0000 |  0.0000 |  0.0000 |  0.00 |  0.0000 |  0.0000 |  0.0000 |  0.0000 |  0.0000 |  0.0000 | ⋯ |  0.0000 |  0.0000 |  0.0000 |  0.000 |  0.000 |  0.0000 |  0.0000 |  0.0000 |  0.00000 |  0.0000 |\n",
       "| RTL8A | 76.4726 | 82.9742 | 68.0836 | 88.86 | 94.7277 | 61.5797 | 84.5301 | 84.8045 | 54.6292 | 82.6592 | ⋯ | 65.4956 | 58.4438 | 63.2025 | 67.486 | 36.874 | 56.7114 | 32.8462 | 31.9511 | 41.43000 | 27.5791 |\n",
       "\n"
      ],
      "text/plain": [
       "           hFb_rep1 hFb_rep2 hFb_rep3 Co.cult_rep1 Co.cult_rep2 Co.cult_rep3\n",
       "AC008147.4  0.0000   0.0000   0.0000   0.00         0.0000       0.0000     \n",
       "GSC2        0.0000   0.0000   0.0000   0.00         0.0000       0.0000     \n",
       "RNA5SP510   0.0000   0.0000   0.0000   0.00         0.0000       0.0000     \n",
       "CHRM3-AS1   0.0000   0.0000   0.0000   0.00         0.0000       0.0000     \n",
       "BPY2DP      0.0000   0.0000   0.0000   0.00         0.0000       0.0000     \n",
       "RTL8A      76.4726  82.9742  68.0836  88.86        94.7277      61.5797     \n",
       "           30min_rep1 30min_rep2 30min_rep3 2h_rep1 ⋯ 2h_rep3 6h_rep1 6h_rep2\n",
       "AC008147.4  0.0000     0.0000     0.0000     0.0000 ⋯  0.0000  0.0000  0.0000\n",
       "GSC2        0.0000     0.0000     0.0000     0.0000 ⋯  0.0000  0.0000  0.0000\n",
       "RNA5SP510   0.0000     0.0000     0.0000     0.0000 ⋯  0.0000  0.0000  0.0000\n",
       "CHRM3-AS1   0.0000     0.0000     0.0000     0.0000 ⋯  0.0000  0.0000  0.0000\n",
       "BPY2DP      0.0000     0.0000     0.0000     0.0000 ⋯  0.0000  0.0000  0.0000\n",
       "RTL8A      84.5301    84.8045    54.6292    82.6592 ⋯ 65.4956 58.4438 63.2025\n",
       "           6h_rep3 12h_rep1 12h_rep2 12h_rep3 24h_rep1 24h_rep2 24h_rep3\n",
       "AC008147.4  0.000   0.000    0.0000   0.0000   0.0000   0.31002  0.0000 \n",
       "GSC2        0.000   0.000    0.0000   0.0000   0.0000   0.00000  0.0000 \n",
       "RNA5SP510   0.000   0.000    0.0000   0.0000   0.0000   0.00000  0.0000 \n",
       "CHRM3-AS1   0.000   0.000    0.0000   0.0000   0.0000   0.00000  0.0000 \n",
       "BPY2DP      0.000   0.000    0.0000   0.0000   0.0000   0.00000  0.0000 \n",
       "RTL8A      67.486  36.874   56.7114  32.8462  31.9511  41.43000 27.5791 "
      ]
     },
     "metadata": {},
     "output_type": "display_data"
    }
   ],
   "source": [
    "head(tpm_het)"
   ]
  },
  {
   "cell_type": "code",
   "execution_count": 30,
   "metadata": {},
   "outputs": [
    {
     "data": {
      "text/html": [
       "<style>\n",
       ".list-inline {list-style: none; margin:0; padding: 0}\n",
       ".list-inline>li {display: inline-block}\n",
       ".list-inline>li:not(:last-child)::after {content: \"\\00b7\"; padding: 0 .5ex}\n",
       "</style>\n",
       "<ol class=list-inline><li>56520</li><li>21</li></ol>\n"
      ],
      "text/latex": [
       "\\begin{enumerate*}\n",
       "\\item 56520\n",
       "\\item 21\n",
       "\\end{enumerate*}\n"
      ],
      "text/markdown": [
       "1. 56520\n",
       "2. 21\n",
       "\n",
       "\n"
      ],
      "text/plain": [
       "[1] 56520    21"
      ]
     },
     "metadata": {},
     "output_type": "display_data"
    }
   ],
   "source": [
    "dim(tpm_het)"
   ]
  },
  {
   "cell_type": "code",
   "execution_count": 31,
   "metadata": {},
   "outputs": [
    {
     "data": {
      "text/html": [
       "26238"
      ],
      "text/latex": [
       "26238"
      ],
      "text/markdown": [
       "26238"
      ],
      "text/plain": [
       "[1] 26238"
      ]
     },
     "metadata": {},
     "output_type": "display_data"
    }
   ],
   "source": [
    "sum(rowMaxs(as.matrix(tpm_het))>1)"
   ]
  },
  {
   "cell_type": "code",
   "execution_count": 32,
   "metadata": {},
   "outputs": [],
   "source": [
    "create_sum_matrix <- function(n, r) {\n",
    "  suppressWarnings(matrix(c(rep(1, r), rep(0, n)), n, n/r))\n",
    "}"
   ]
  },
  {
   "cell_type": "code",
   "execution_count": 33,
   "metadata": {},
   "outputs": [
    {
     "data": {
      "text/html": [
       "<style>\n",
       ".list-inline {list-style: none; margin:0; padding: 0}\n",
       ".list-inline>li {display: inline-block}\n",
       ".list-inline>li:not(:last-child)::after {content: \"\\00b7\"; padding: 0 .5ex}\n",
       "</style>\n",
       "<ol class=list-inline><li>56520</li><li>21</li></ol>\n"
      ],
      "text/latex": [
       "\\begin{enumerate*}\n",
       "\\item 56520\n",
       "\\item 21\n",
       "\\end{enumerate*}\n"
      ],
      "text/markdown": [
       "1. 56520\n",
       "2. 21\n",
       "\n",
       "\n"
      ],
      "text/plain": [
       "[1] 56520    21"
      ]
     },
     "metadata": {},
     "output_type": "display_data"
    }
   ],
   "source": [
    "dim(tpm_het)"
   ]
  },
  {
   "cell_type": "code",
   "execution_count": 34,
   "metadata": {},
   "outputs": [
    {
     "data": {
      "text/html": [
       "<style>\n",
       ".list-inline {list-style: none; margin:0; padding: 0}\n",
       ".list-inline>li {display: inline-block}\n",
       ".list-inline>li:not(:last-child)::after {content: \"\\00b7\"; padding: 0 .5ex}\n",
       "</style>\n",
       "<ol class=list-inline><li>21</li><li>7</li></ol>\n"
      ],
      "text/latex": [
       "\\begin{enumerate*}\n",
       "\\item 21\n",
       "\\item 7\n",
       "\\end{enumerate*}\n"
      ],
      "text/markdown": [
       "1. 21\n",
       "2. 7\n",
       "\n",
       "\n"
      ],
      "text/plain": [
       "[1] 21  7"
      ]
     },
     "metadata": {},
     "output_type": "display_data"
    }
   ],
   "source": [
    "dim(create_sum_matrix(21,3))"
   ]
  },
  {
   "cell_type": "code",
   "execution_count": 35,
   "metadata": {},
   "outputs": [
    {
     "data": {
      "text/html": [
       "<style>\n",
       ".list-inline {list-style: none; margin:0; padding: 0}\n",
       ".list-inline>li {display: inline-block}\n",
       ".list-inline>li:not(:last-child)::after {content: \"\\00b7\"; padding: 0 .5ex}\n",
       "</style>\n",
       "<ol class=list-inline><li>56520</li><li>7</li></ol>\n"
      ],
      "text/latex": [
       "\\begin{enumerate*}\n",
       "\\item 56520\n",
       "\\item 7\n",
       "\\end{enumerate*}\n"
      ],
      "text/markdown": [
       "1. 56520\n",
       "2. 7\n",
       "\n",
       "\n"
      ],
      "text/plain": [
       "[1] 56520     7"
      ]
     },
     "metadata": {},
     "output_type": "display_data"
    }
   ],
   "source": [
    "dim(tpm_het_avg)"
   ]
  },
  {
   "cell_type": "code",
   "execution_count": 58,
   "metadata": {},
   "outputs": [
    {
     "data": {
      "text/html": [
       "<style>\n",
       ".list-inline {list-style: none; margin:0; padding: 0}\n",
       ".list-inline>li {display: inline-block}\n",
       ".list-inline>li:not(:last-child)::after {content: \"\\00b7\"; padding: 0 .5ex}\n",
       "</style>\n",
       "<ol class=list-inline><li>21508</li><li>7</li></ol>\n"
      ],
      "text/latex": [
       "\\begin{enumerate*}\n",
       "\\item 21508\n",
       "\\item 7\n",
       "\\end{enumerate*}\n"
      ],
      "text/markdown": [
       "1. 21508\n",
       "2. 7\n",
       "\n",
       "\n"
      ],
      "text/plain": [
       "[1] 21508     7"
      ]
     },
     "metadata": {},
     "output_type": "display_data"
    },
    {
     "data": {
      "text/html": [
       "<table>\n",
       "<caption>A matrix: 6 × 7 of type dbl</caption>\n",
       "<thead>\n",
       "\t<tr><th></th><th scope=col>hFb</th><th scope=col>Co.cult</th><th scope=col>30min</th><th scope=col>2h</th><th scope=col>6h</th><th scope=col>12h</th><th scope=col>24h</th></tr>\n",
       "</thead>\n",
       "<tbody>\n",
       "\t<tr><th scope=row>RTL8A</th><td>75.843467</td><td>81.7224667</td><td>74.6546000</td><td>70.713800</td><td>63.044100</td><td>42.14387</td><td>33.653400</td></tr>\n",
       "\t<tr><th scope=row>LMNTD2</th><td> 0.968688</td><td> 0.7562507</td><td> 0.8761893</td><td> 1.746083</td><td> 0.686188</td><td> 0.46406</td><td> 6.785407</td></tr>\n",
       "\t<tr><th scope=row>EIF4EBP2</th><td>13.759400</td><td>11.0127667</td><td>12.1825000</td><td>14.750367</td><td>18.010967</td><td>21.25673</td><td>16.808500</td></tr>\n",
       "\t<tr><th scope=row>ZNF518B</th><td> 7.939623</td><td> 3.9523967</td><td> 5.3471000</td><td> 8.174157</td><td> 7.947530</td><td> 4.43038</td><td> 2.436237</td></tr>\n",
       "\t<tr><th scope=row>ABHD17B</th><td> 8.293437</td><td> 5.6823633</td><td> 8.0516700</td><td> 8.860303</td><td> 9.606147</td><td>11.90770</td><td>13.734810</td></tr>\n",
       "\t<tr><th scope=row>EEF1AKMT2</th><td>23.153767</td><td>21.6397633</td><td>20.2412667</td><td>17.507867</td><td>18.413067</td><td>14.55367</td><td>12.804353</td></tr>\n",
       "</tbody>\n",
       "</table>\n"
      ],
      "text/latex": [
       "A matrix: 6 × 7 of type dbl\n",
       "\\begin{tabular}{r|lllllll}\n",
       "  & hFb & Co.cult & 30min & 2h & 6h & 12h & 24h\\\\\n",
       "\\hline\n",
       "\tRTL8A & 75.843467 & 81.7224667 & 74.6546000 & 70.713800 & 63.044100 & 42.14387 & 33.653400\\\\\n",
       "\tLMNTD2 &  0.968688 &  0.7562507 &  0.8761893 &  1.746083 &  0.686188 &  0.46406 &  6.785407\\\\\n",
       "\tEIF4EBP2 & 13.759400 & 11.0127667 & 12.1825000 & 14.750367 & 18.010967 & 21.25673 & 16.808500\\\\\n",
       "\tZNF518B &  7.939623 &  3.9523967 &  5.3471000 &  8.174157 &  7.947530 &  4.43038 &  2.436237\\\\\n",
       "\tABHD17B &  8.293437 &  5.6823633 &  8.0516700 &  8.860303 &  9.606147 & 11.90770 & 13.734810\\\\\n",
       "\tEEF1AKMT2 & 23.153767 & 21.6397633 & 20.2412667 & 17.507867 & 18.413067 & 14.55367 & 12.804353\\\\\n",
       "\\end{tabular}\n"
      ],
      "text/markdown": [
       "\n",
       "A matrix: 6 × 7 of type dbl\n",
       "\n",
       "| <!--/--> | hFb | Co.cult | 30min | 2h | 6h | 12h | 24h |\n",
       "|---|---|---|---|---|---|---|---|\n",
       "| RTL8A | 75.843467 | 81.7224667 | 74.6546000 | 70.713800 | 63.044100 | 42.14387 | 33.653400 |\n",
       "| LMNTD2 |  0.968688 |  0.7562507 |  0.8761893 |  1.746083 |  0.686188 |  0.46406 |  6.785407 |\n",
       "| EIF4EBP2 | 13.759400 | 11.0127667 | 12.1825000 | 14.750367 | 18.010967 | 21.25673 | 16.808500 |\n",
       "| ZNF518B |  7.939623 |  3.9523967 |  5.3471000 |  8.174157 |  7.947530 |  4.43038 |  2.436237 |\n",
       "| ABHD17B |  8.293437 |  5.6823633 |  8.0516700 |  8.860303 |  9.606147 | 11.90770 | 13.734810 |\n",
       "| EEF1AKMT2 | 23.153767 | 21.6397633 | 20.2412667 | 17.507867 | 18.413067 | 14.55367 | 12.804353 |\n",
       "\n"
      ],
      "text/plain": [
       "          hFb       Co.cult    30min      2h        6h        12h     \n",
       "RTL8A     75.843467 81.7224667 74.6546000 70.713800 63.044100 42.14387\n",
       "LMNTD2     0.968688  0.7562507  0.8761893  1.746083  0.686188  0.46406\n",
       "EIF4EBP2  13.759400 11.0127667 12.1825000 14.750367 18.010967 21.25673\n",
       "ZNF518B    7.939623  3.9523967  5.3471000  8.174157  7.947530  4.43038\n",
       "ABHD17B    8.293437  5.6823633  8.0516700  8.860303  9.606147 11.90770\n",
       "EEF1AKMT2 23.153767 21.6397633 20.2412667 17.507867 18.413067 14.55367\n",
       "          24h      \n",
       "RTL8A     33.653400\n",
       "LMNTD2     6.785407\n",
       "EIF4EBP2  16.808500\n",
       "ZNF518B    2.436237\n",
       "ABHD17B   13.734810\n",
       "EEF1AKMT2 12.804353"
      ]
     },
     "metadata": {},
     "output_type": "display_data"
    }
   ],
   "source": [
    "# average reps (3 reps per time point)\n",
    "tpm_het_avg = (as.matrix(tpm_het) %*% create_sum_matrix(21,3))/3\n",
    "colnames(tpm_het_avg) = unlist(unique(lapply(strsplit(colnames(tpm_het), \"_\"), \"[[\", 1)))\n",
    "\n",
    "# filter low expression\n",
    "tpm_het_avg = tpm_het_avg[rowMaxs(tpm_het_avg)>1, ]\n",
    "\n",
    "dim(tpm_het_avg)\n",
    "head(tpm_het_avg)"
   ]
  },
  {
   "cell_type": "code",
   "execution_count": 86,
   "metadata": {},
   "outputs": [],
   "source": [
    "log_tpm_het = log2(1+tpm_het_avg)\n",
    "log_tpm_het_znorm = t(scale(t(log_tpm_het)))"
   ]
  },
  {
   "cell_type": "code",
   "execution_count": 45,
   "metadata": {},
   "outputs": [
    {
     "data": {
      "text/html": [
       "14636"
      ],
      "text/latex": [
       "14636"
      ],
      "text/markdown": [
       "14636"
      ],
      "text/plain": [
       "[1] 14636"
      ]
     },
     "metadata": {},
     "output_type": "display_data"
    }
   ],
   "source": [
    "sum(rowMaxs(tpm_het_avg) > 5)"
   ]
  },
  {
   "cell_type": "code",
   "execution_count": 171,
   "metadata": {},
   "outputs": [],
   "source": [
    "# ADD RAND SEED - not required\n",
    "NUM_PEAK_SETS = 10\n",
    "km_mb = MiniBatchKmeans(log_tpm_het_znorm, \n",
    "                        batch_size = 1000,\n",
    "                        clusters = NUM_PEAK_SETS,\n",
    "                        num_init = 50, \n",
    "                        verbose = FALSE)"
   ]
  },
  {
   "cell_type": "code",
   "execution_count": 172,
   "metadata": {},
   "outputs": [],
   "source": [
    "pr_mb = predict_MBatchKMeans(log_tpm_het_znorm, km_mb$centroids)"
   ]
  },
  {
   "cell_type": "code",
   "execution_count": 173,
   "metadata": {},
   "outputs": [
    {
     "data": {
      "text/plain": [
       "pr_mb\n",
       "   1    2    3    4    5    6    7    8    9   10 \n",
       "1755 2315 2062 2844 2264 1396 1696 2150 1736 3290 "
      ]
     },
     "metadata": {},
     "output_type": "display_data"
    }
   ],
   "source": [
    "table(pr_mb)"
   ]
  },
  {
   "cell_type": "code",
   "execution_count": 174,
   "metadata": {},
   "outputs": [
    {
     "data": {
      "text/html": [
       "<table>\n",
       "<caption>A data.frame: 6 × 3</caption>\n",
       "<thead>\n",
       "\t<tr><th></th><th scope=col>Var1</th><th scope=col>Var2</th><th scope=col>value</th></tr>\n",
       "\t<tr><th></th><th scope=col>&lt;fct&gt;</th><th scope=col>&lt;fct&gt;</th><th scope=col>&lt;dbl&gt;</th></tr>\n",
       "</thead>\n",
       "<tbody>\n",
       "\t<tr><th scope=row>1</th><td>RTL8A    </td><td>hFb</td><td> 0.6746596</td></tr>\n",
       "\t<tr><th scope=row>2</th><td>LMNTD2   </td><td>hFb</td><td>-0.2737323</td></tr>\n",
       "\t<tr><th scope=row>3</th><td>EIF4EBP2 </td><td>hFb</td><td>-0.3978686</td></tr>\n",
       "\t<tr><th scope=row>4</th><td>ZNF518B  </td><td>hFb</td><td> 0.9050998</td></tr>\n",
       "\t<tr><th scope=row>5</th><td>ABHD17B  </td><td>hFb</td><td>-0.3477023</td></tr>\n",
       "\t<tr><th scope=row>6</th><td>EEF1AKMT2</td><td>hFb</td><td> 1.1883683</td></tr>\n",
       "</tbody>\n",
       "</table>\n"
      ],
      "text/latex": [
       "A data.frame: 6 × 3\n",
       "\\begin{tabular}{r|lll}\n",
       "  & Var1 & Var2 & value\\\\\n",
       "  & <fct> & <fct> & <dbl>\\\\\n",
       "\\hline\n",
       "\t1 & RTL8A     & hFb &  0.6746596\\\\\n",
       "\t2 & LMNTD2    & hFb & -0.2737323\\\\\n",
       "\t3 & EIF4EBP2  & hFb & -0.3978686\\\\\n",
       "\t4 & ZNF518B   & hFb &  0.9050998\\\\\n",
       "\t5 & ABHD17B   & hFb & -0.3477023\\\\\n",
       "\t6 & EEF1AKMT2 & hFb &  1.1883683\\\\\n",
       "\\end{tabular}\n"
      ],
      "text/markdown": [
       "\n",
       "A data.frame: 6 × 3\n",
       "\n",
       "| <!--/--> | Var1 &lt;fct&gt; | Var2 &lt;fct&gt; | value &lt;dbl&gt; |\n",
       "|---|---|---|---|\n",
       "| 1 | RTL8A     | hFb |  0.6746596 |\n",
       "| 2 | LMNTD2    | hFb | -0.2737323 |\n",
       "| 3 | EIF4EBP2  | hFb | -0.3978686 |\n",
       "| 4 | ZNF518B   | hFb |  0.9050998 |\n",
       "| 5 | ABHD17B   | hFb | -0.3477023 |\n",
       "| 6 | EEF1AKMT2 | hFb |  1.1883683 |\n",
       "\n"
      ],
      "text/plain": [
       "  Var1      Var2 value     \n",
       "1 RTL8A     hFb   0.6746596\n",
       "2 LMNTD2    hFb  -0.2737323\n",
       "3 EIF4EBP2  hFb  -0.3978686\n",
       "4 ZNF518B   hFb   0.9050998\n",
       "5 ABHD17B   hFb  -0.3477023\n",
       "6 EEF1AKMT2 hFb   1.1883683"
      ]
     },
     "metadata": {},
     "output_type": "display_data"
    }
   ],
   "source": [
    "head(melt(log_tpm_het_znorm))"
   ]
  },
  {
   "cell_type": "code",
   "execution_count": null,
   "metadata": {},
   "outputs": [],
   "source": []
  },
  {
   "cell_type": "code",
   "execution_count": 179,
   "metadata": {},
   "outputs": [
    {
     "data": {
      "text/html": [
       "<table>\n",
       "<caption>A matrix: 10 × 7 of type dbl</caption>\n",
       "<tbody>\n",
       "\t<tr><td>-0.41170431</td><td>-0.67625137</td><td> 0.196934880</td><td> 1.426982994</td><td> 0.32164354</td><td>-0.4287946</td><td>-0.4288111</td></tr>\n",
       "\t<tr><td>-0.25900115</td><td>-0.89439749</td><td>-0.662860067</td><td>-0.009822025</td><td> 1.40854342</td><td> 0.7267956</td><td>-0.3092582</td></tr>\n",
       "\t<tr><td>-0.20632698</td><td> 1.12245908</td><td> 0.700438190</td><td>-0.552073799</td><td>-0.89107281</td><td>-0.2788517</td><td> 0.1054280</td></tr>\n",
       "\t<tr><td> 0.74843602</td><td> 0.72110782</td><td> 0.767239596</td><td> 0.336076047</td><td>-0.46710251</td><td>-1.0194738</td><td>-1.0862832</td></tr>\n",
       "\t<tr><td> 0.70962547</td><td> 0.07574459</td><td> 0.200992019</td><td> 0.010377284</td><td> 0.72383639</td><td>-0.1001251</td><td>-1.6204506</td></tr>\n",
       "\t<tr><td>-1.51317906</td><td> 0.86019288</td><td>-0.012867531</td><td> 0.137230573</td><td> 0.36572957</td><td> 0.4398378</td><td>-0.2769442</td></tr>\n",
       "\t<tr><td> 1.52413146</td><td>-0.06688061</td><td> 0.173336170</td><td>-0.749760006</td><td>-0.57295267</td><td>-0.1025554</td><td>-0.2053189</td></tr>\n",
       "\t<tr><td>-0.13239446</td><td>-0.26742531</td><td> 0.003674794</td><td>-0.334712505</td><td>-0.69956777</td><td>-0.2052227</td><td> 1.6356480</td></tr>\n",
       "\t<tr><td> 0.03007462</td><td>-0.13839196</td><td>-0.462816959</td><td>-1.090132987</td><td> 0.54810259</td><td> 1.3212996</td><td>-0.2081349</td></tr>\n",
       "\t<tr><td>-0.66891339</td><td>-0.63403299</td><td>-0.458100128</td><td>-0.596888336</td><td> 0.01411724</td><td> 1.1243676</td><td> 1.2194500</td></tr>\n",
       "</tbody>\n",
       "</table>\n"
      ],
      "text/latex": [
       "A matrix: 10 × 7 of type dbl\n",
       "\\begin{tabular}{lllllll}\n",
       "\t -0.41170431 & -0.67625137 &  0.196934880 &  1.426982994 &  0.32164354 & -0.4287946 & -0.4288111\\\\\n",
       "\t -0.25900115 & -0.89439749 & -0.662860067 & -0.009822025 &  1.40854342 &  0.7267956 & -0.3092582\\\\\n",
       "\t -0.20632698 &  1.12245908 &  0.700438190 & -0.552073799 & -0.89107281 & -0.2788517 &  0.1054280\\\\\n",
       "\t  0.74843602 &  0.72110782 &  0.767239596 &  0.336076047 & -0.46710251 & -1.0194738 & -1.0862832\\\\\n",
       "\t  0.70962547 &  0.07574459 &  0.200992019 &  0.010377284 &  0.72383639 & -0.1001251 & -1.6204506\\\\\n",
       "\t -1.51317906 &  0.86019288 & -0.012867531 &  0.137230573 &  0.36572957 &  0.4398378 & -0.2769442\\\\\n",
       "\t  1.52413146 & -0.06688061 &  0.173336170 & -0.749760006 & -0.57295267 & -0.1025554 & -0.2053189\\\\\n",
       "\t -0.13239446 & -0.26742531 &  0.003674794 & -0.334712505 & -0.69956777 & -0.2052227 &  1.6356480\\\\\n",
       "\t  0.03007462 & -0.13839196 & -0.462816959 & -1.090132987 &  0.54810259 &  1.3212996 & -0.2081349\\\\\n",
       "\t -0.66891339 & -0.63403299 & -0.458100128 & -0.596888336 &  0.01411724 &  1.1243676 &  1.2194500\\\\\n",
       "\\end{tabular}\n"
      ],
      "text/markdown": [
       "\n",
       "A matrix: 10 × 7 of type dbl\n",
       "\n",
       "| -0.41170431 | -0.67625137 |  0.196934880 |  1.426982994 |  0.32164354 | -0.4287946 | -0.4288111 |\n",
       "| -0.25900115 | -0.89439749 | -0.662860067 | -0.009822025 |  1.40854342 |  0.7267956 | -0.3092582 |\n",
       "| -0.20632698 |  1.12245908 |  0.700438190 | -0.552073799 | -0.89107281 | -0.2788517 |  0.1054280 |\n",
       "|  0.74843602 |  0.72110782 |  0.767239596 |  0.336076047 | -0.46710251 | -1.0194738 | -1.0862832 |\n",
       "|  0.70962547 |  0.07574459 |  0.200992019 |  0.010377284 |  0.72383639 | -0.1001251 | -1.6204506 |\n",
       "| -1.51317906 |  0.86019288 | -0.012867531 |  0.137230573 |  0.36572957 |  0.4398378 | -0.2769442 |\n",
       "|  1.52413146 | -0.06688061 |  0.173336170 | -0.749760006 | -0.57295267 | -0.1025554 | -0.2053189 |\n",
       "| -0.13239446 | -0.26742531 |  0.003674794 | -0.334712505 | -0.69956777 | -0.2052227 |  1.6356480 |\n",
       "|  0.03007462 | -0.13839196 | -0.462816959 | -1.090132987 |  0.54810259 |  1.3212996 | -0.2081349 |\n",
       "| -0.66891339 | -0.63403299 | -0.458100128 | -0.596888336 |  0.01411724 |  1.1243676 |  1.2194500 |\n",
       "\n"
      ],
      "text/plain": [
       "      [,1]        [,2]        [,3]         [,4]         [,5]        [,6]      \n",
       " [1,] -0.41170431 -0.67625137  0.196934880  1.426982994  0.32164354 -0.4287946\n",
       " [2,] -0.25900115 -0.89439749 -0.662860067 -0.009822025  1.40854342  0.7267956\n",
       " [3,] -0.20632698  1.12245908  0.700438190 -0.552073799 -0.89107281 -0.2788517\n",
       " [4,]  0.74843602  0.72110782  0.767239596  0.336076047 -0.46710251 -1.0194738\n",
       " [5,]  0.70962547  0.07574459  0.200992019  0.010377284  0.72383639 -0.1001251\n",
       " [6,] -1.51317906  0.86019288 -0.012867531  0.137230573  0.36572957  0.4398378\n",
       " [7,]  1.52413146 -0.06688061  0.173336170 -0.749760006 -0.57295267 -0.1025554\n",
       " [8,] -0.13239446 -0.26742531  0.003674794 -0.334712505 -0.69956777 -0.2052227\n",
       " [9,]  0.03007462 -0.13839196 -0.462816959 -1.090132987  0.54810259  1.3212996\n",
       "[10,] -0.66891339 -0.63403299 -0.458100128 -0.596888336  0.01411724  1.1243676\n",
       "      [,7]      \n",
       " [1,] -0.4288111\n",
       " [2,] -0.3092582\n",
       " [3,]  0.1054280\n",
       " [4,] -1.0862832\n",
       " [5,] -1.6204506\n",
       " [6,] -0.2769442\n",
       " [7,] -0.2053189\n",
       " [8,]  1.6356480\n",
       " [9,] -0.2081349\n",
       "[10,]  1.2194500"
      ]
     },
     "metadata": {},
     "output_type": "display_data"
    }
   ],
   "source": [
    "km_mb$centroids"
   ]
  },
  {
   "cell_type": "code",
   "execution_count": 175,
   "metadata": {},
   "outputs": [
    {
     "data": {
      "image/png": "[encoded data removed]",
      "text/plain": [
       "plot without title"
      ]
     },
     "metadata": {
      "image/png": {
       "height": 600,
       "width": 300
      },
      "text/plain": {
       "height": 600,
       "width": 300
      }
     },
     "output_type": "display_data"
    }
   ],
   "source": [
    "options(repr.plot.width = 5, repr.plot.height = 10)\n",
    "\n",
    "idxs = seq(1, nrow(log_tpm_het_znorm), 10) # if subsample\n",
    "\n",
    "ggplot(data = melt(log_tpm_het_znorm[order(pr_mb),][idxs, ]), \n",
    "       mapping = aes(x = Var2,\n",
    "                     y = Var1,\n",
    "                     fill = value)) +\n",
    "geom_tile()  + ylab(NULL) + xlab(\"Condition\") +  \n",
    "geom_raster(aes(fill=value)) +\n",
    "scale_fill_viridis(limits=c(-1, 1.5), oob=squish, option = \"A\") +\n",
    "# scale_fill_viridis(option=\"A\") + \n",
    "# scale_fill_gradient2(low=\"red\", mid=\"black\", high=\"blue\") +\n",
    "facet_grid(sort(pr_mb)[idxs] ~ ., switch = \"y\", scales = \"free_y\", space = \"free_y\")+\n",
    "# theme_classic() +\n",
    "theme(axis.text.x=element_text(angle=90,hjust=1),\n",
    "      axis.text.y=element_blank(),\n",
    "      axis.ticks.y=element_blank(),\n",
    "      panel.spacing.y = unit(0.04, \"cm\"))\n",
    "#       strip.text.y = element_text(size = 3))  \n",
    "#       strip.background = element_rect(size = 0.1))\n",
    "\n",
    "# ggsave(sprintf(\"figs/%s_heatmap_idr_n%d.jpeg\", format(Sys.Date(), format='%Y%m%d'), length(table(pr_mb))),\n",
    "#        dpi=1000)"
   ]
  },
  {
   "cell_type": "code",
   "execution_count": 176,
   "metadata": {},
   "outputs": [],
   "source": [
    "pr_mb_by_gene = pr_mb\n",
    "names(pr_mb_by_gene) = rownames(log_tpm_het_znorm)"
   ]
  },
  {
   "cell_type": "code",
   "execution_count": 224,
   "metadata": {},
   "outputs": [
    {
     "data": {
      "text/html": [
       "<strong>SIRT1:</strong> 1"
      ],
      "text/latex": [
       "\\textbf{SIRT1:} 1"
      ],
      "text/markdown": [
       "**SIRT1:** 1"
      ],
      "text/plain": [
       "SIRT1 \n",
       "    1 "
      ]
     },
     "metadata": {},
     "output_type": "display_data"
    }
   ],
   "source": [
    "pr_mb_by_gene[\"SIRT1\"]"
   ]
  },
  {
   "cell_type": "code",
   "execution_count": 145,
   "metadata": {},
   "outputs": [],
   "source": [
    "gene_sets= list()\n",
    "\n",
    "for (i in seq(10)) {\n",
    "    gene_sets[[i]] = as.character(unlist(read.table(sprintf(\"../20200828_RNA_Seurat/gene_sets/20201012_tmp_gridmap_znorm_n10/idx%d.txt\", i))$V1))\n",
    "}"
   ]
  },
  {
   "cell_type": "code",
   "execution_count": 146,
   "metadata": {},
   "outputs": [
    {
     "data": {
      "text/html": [
       "<style>\n",
       ".list-inline {list-style: none; margin:0; padding: 0}\n",
       ".list-inline>li {display: inline-block}\n",
       ".list-inline>li:not(:last-child)::after {content: \"\\00b7\"; padding: 0 .5ex}\n",
       "</style>\n",
       "<ol class=list-inline><li>'ANKRD65'</li><li>'CA6'</li><li>'PHACTR4'</li><li>'CFAP57'</li><li>'NFIA'</li><li>'LEPR'</li></ol>\n"
      ],
      "text/latex": [
       "\\begin{enumerate*}\n",
       "\\item 'ANKRD65'\n",
       "\\item 'CA6'\n",
       "\\item 'PHACTR4'\n",
       "\\item 'CFAP57'\n",
       "\\item 'NFIA'\n",
       "\\item 'LEPR'\n",
       "\\end{enumerate*}\n"
      ],
      "text/markdown": [
       "1. 'ANKRD65'\n",
       "2. 'CA6'\n",
       "3. 'PHACTR4'\n",
       "4. 'CFAP57'\n",
       "5. 'NFIA'\n",
       "6. 'LEPR'\n",
       "\n",
       "\n"
      ],
      "text/plain": [
       "[1] \"ANKRD65\" \"CA6\"     \"PHACTR4\" \"CFAP57\"  \"NFIA\"    \"LEPR\"   "
      ]
     },
     "metadata": {},
     "output_type": "display_data"
    }
   ],
   "source": [
    "head(gene_sets[[4]])"
   ]
  },
  {
   "cell_type": "code",
   "execution_count": 151,
   "metadata": {},
   "outputs": [
    {
     "data": {
      "text/html": [
       "198"
      ],
      "text/latex": [
       "198"
      ],
      "text/markdown": [
       "198"
      ],
      "text/plain": [
       "[1] 198"
      ]
     },
     "metadata": {},
     "output_type": "display_data"
    }
   ],
   "source": [
    "s(pr_mb_by_gene[gene_sets[[4]]])"
   ]
  },
  {
   "cell_type": "code",
   "execution_count": 248,
   "metadata": {},
   "outputs": [
    {
     "data": {
      "text/plain": [
       "\n",
       "  1   2   3   4   5   6   7   8   9  10 \n",
       " 16 116   3   4  32   5  17   7  70  59 "
      ]
     },
     "metadata": {},
     "output_type": "display_data"
    }
   ],
   "source": [
    "table(pr_mb_by_gene[gene_sets[[8]]])"
   ]
  },
  {
   "cell_type": "code",
   "execution_count": 238,
   "metadata": {},
   "outputs": [
    {
     "data": {
      "text/html": [
       "<style>\n",
       ".list-inline {list-style: none; margin:0; padding: 0}\n",
       ".list-inline>li {display: inline-block}\n",
       ".list-inline>li:not(:last-child)::after {content: \"\\00b7\"; padding: 0 .5ex}\n",
       "</style>\n",
       "<ol class=list-inline><li>'DRAXIN'</li><li>'SFN'</li><li>'TENT5B'</li><li>'SYTL1'</li><li>'MYCL'</li><li>'PRDX1'</li><li>'UQCRH'</li><li>'PCSK9'</li><li>'PATJ'</li><li>'AK4'</li><li>'FNBP1L'</li><li>'CHI3L2'</li><li>'IGSF3'</li><li>'F11R'</li><li>'TSTD1'</li><li>'NECTIN4'</li><li>'GAS5'</li><li>'LAMC2'</li><li>'LRRN2'</li><li>'FLVCR1'</li><li>'LEFTY2'</li><li>'MIXL1'</li><li>'PARP1'</li><li>'DESI2'</li><li>'TMEM178A'</li><li>'BCL11A'</li><li>'AC012368.1'</li><li>'LGALSL'</li><li>'PAIP2B'</li><li>'MERTK'</li><li>'CDCA7'</li><li>'TMEFF2'</li><li>'FZD5'</li><li>'RPL37A'</li><li>'IGFBP2'</li><li>'B3GNT7'</li><li>'PTMA'</li><li>'INPP5D'</li><li>'CACNA2D2'</li><li>'IL17RD'</li><li>'FLNB'</li><li>'DPPA4'</li><li>'COX17'</li><li>'FAM162A'</li><li>'CNBP'</li><li>'HMCES'</li><li>'TMCC1'</li><li>'ZMAT3'</li><li>'ST6GAL1'</li><li>'NMU'</li><li>'TMEM150C'</li><li>'CDS1'</li><li>'SPP1'</li><li>'HERC5'</li><li>'AC093866.1'</li><li>'PITX2'</li><li>'FAM169A'</li><li>'SERINC5'</li><li>'RPS23'</li><li>'DCP2'</li><li>'FBN2'</li><li>'SNHG4'</li><li>'PCDH1'</li><li>'PPARGC1B'</li><li>'SERPINB9'</li><li>'POU5F1'</li><li>'PI16'</li><li>'CRIP3'</li><li>'ZNF318'</li><li>'RRAGD'</li><li>'CD24'</li><li>'SESN1'</li><li>'RPS12'</li><li>'MAP7'</li><li>'MYCT1'</li><li>'FAM221A'</li><li>'PGAM2'</li><li>'SNHG15'</li><li>'TES'</li><li>'PODXL'</li><li>'KLRG2'</li><li>'ATG9B'</li><li>'NEFM'</li><li>'NEFL'</li><li>'GNRH1'</li><li>'LYPLA1'</li><li>'RPS20'</li><li>'CHD7'</li><li>'SNHG6'</li><li>'RPL7'</li><li>'CHMP4C'</li><li>'CA2'</li><li>'CALB1'</li><li>'LAPTM4B'</li><li>'PVT1'</li><li>'EPPK1'</li><li>'RPL8'</li><li>'VLDLR'</li><li>'GLDC'</li><li>'GCNT1'</li><li>'GNA14'</li><li>'SEMA4D'</li><li>'ZNF483'</li><li>'PTBP3'</li><li>'STRBP'</li><li>'DIPK1B'</li><li>'KIAA1217'</li><li>'ALOX5'</li><li>'ANK3'</li><li>'COMTD1'</li><li>'CDHR1'</li><li>'FRAT2'</li><li>'PGAM1'</li><li>'NEURL1'</li><li>'COL17A1'</li><li>'GSTO2'</li><li>'NANOS1'</li><li>'RPLP2'</li><li>'RPL27A'</li><li>'LGR4'</li><li>'TSPAN18'</li><li>'ASRGL1'</li><li>'PLAAT3'</li><li>'GSTP1'</li><li>'UCP2'</li><li>'NECTIN1'</li><li>'ESAM'</li><li>'RIMKLB'</li><li>'SINHCAF'</li><li>'RESF1'</li><li>'BICD1'</li><li>'KIF21A'</li><li>'RND1'</li><li>'METTL7A'</li><li>'KRT8'</li><li>'KRT18'</li><li>'GLS2'</li><li>'KCNMB4'</li><li>'PTPRB'</li><li>'PAWR'</li><li>'FGD6'</li><li>'RPLP0'</li><li>'TRIAP1'</li><li>'RFLNA'</li><li>'SCARB1'</li><li>'RPL21'</li><li>'ITM2B'</li><li>'CCNB1IP1'</li><li>'RNASE1'</li><li>'SLC7A8'</li><li>'REC8'</li><li>'PAX9'</li><li>'RPS29'</li><li>'GCH1'</li><li>'STON2'</li><li>'GCHFR'</li><li>'SPINT1'</li><li>'MYEF2'</li><li>'LINGO1'</li><li>'RPS17'</li><li>'KREMEN2'</li><li>'TMC7'</li><li>'NDUFAB1'</li><li>'SULT1A1'</li><li>'ZNF423'</li><li>'IL34'</li><li>'FA2H'</li><li>'GCSH'</li><li>'SLC47A1'</li><li>'ALDH3A2'</li><li>'TRAF4'</li><li>'PIPOX'</li><li>'RPL23'</li><li>'PNMT'</li><li>'FDXR'</li><li>'ACOX1'</li><li>'ST6GALNAC1'</li><li>'TYMSOS'</li><li>'B4GALT6'</li><li>'CELF4'</li><li>'LINC02582'</li><li>'MBP'</li><li>'TNFSF9'</li><li>'CD70'</li><li>'SH2D3A'</li><li>'RPS28'</li><li>'ISYNA1'</li><li>'SPINT2'</li><li>'PPP1R14A'</li><li>'RPS16'</li><li>'CEACAM1'</li><li>'TMEM160'</li><li>'BBC3'</li><li>'RPL13A'</li><li>'RPS11'</li><li>'LIM2'</li><li>'MRPS26'</li><li>'FERMT1'</li><li>'AHCY'</li><li>'ADA'</li><li>'SULF2'</li><li>'ZFAS1'</li><li>'SALL4'</li><li>'RPS21'</li><li>'CXADR'</li><li>'MX1'</li><li>'ITGB2'</li><li>'CHCHD10'</li><li>'MIF'</li><li>'DDT'</li><li>'SUSD2'</li><li>'TTC28-AS1'</li><li>'TCN2'</li><li>'BIK'</li><li>'ARHGAP8'</li><li>'DMD'</li><li>'PCSK1N'</li><li>'PIM2'</li><li>'PGK1'</li><li>'BEX2'</li><li>'SLC25A5'</li><li>'SMIM10L2A'</li><li>'SPANXB1'</li><li>'MT-ND2'</li><li>'MT-ND4'</li><li>'MT-ND5'</li><li>'MT-ND6'</li></ol>\n"
      ],
      "text/latex": [
       "\\begin{enumerate*}\n",
       "\\item 'DRAXIN'\n",
       "\\item 'SFN'\n",
       "\\item 'TENT5B'\n",
       "\\item 'SYTL1'\n",
       "\\item 'MYCL'\n",
       "\\item 'PRDX1'\n",
       "\\item 'UQCRH'\n",
       "\\item 'PCSK9'\n",
       "\\item 'PATJ'\n",
       "\\item 'AK4'\n",
       "\\item 'FNBP1L'\n",
       "\\item 'CHI3L2'\n",
       "\\item 'IGSF3'\n",
       "\\item 'F11R'\n",
       "\\item 'TSTD1'\n",
       "\\item 'NECTIN4'\n",
       "\\item 'GAS5'\n",
       "\\item 'LAMC2'\n",
       "\\item 'LRRN2'\n",
       "\\item 'FLVCR1'\n",
       "\\item 'LEFTY2'\n",
       "\\item 'MIXL1'\n",
       "\\item 'PARP1'\n",
       "\\item 'DESI2'\n",
       "\\item 'TMEM178A'\n",
       "\\item 'BCL11A'\n",
       "\\item 'AC012368.1'\n",
       "\\item 'LGALSL'\n",
       "\\item 'PAIP2B'\n",
       "\\item 'MERTK'\n",
       "\\item 'CDCA7'\n",
       "\\item 'TMEFF2'\n",
       "\\item 'FZD5'\n",
       "\\item 'RPL37A'\n",
       "\\item 'IGFBP2'\n",
       "\\item 'B3GNT7'\n",
       "\\item 'PTMA'\n",
       "\\item 'INPP5D'\n",
       "\\item 'CACNA2D2'\n",
       "\\item 'IL17RD'\n",
       "\\item 'FLNB'\n",
       "\\item 'DPPA4'\n",
       "\\item 'COX17'\n",
       "\\item 'FAM162A'\n",
       "\\item 'CNBP'\n",
       "\\item 'HMCES'\n",
       "\\item 'TMCC1'\n",
       "\\item 'ZMAT3'\n",
       "\\item 'ST6GAL1'\n",
       "\\item 'NMU'\n",
       "\\item 'TMEM150C'\n",
       "\\item 'CDS1'\n",
       "\\item 'SPP1'\n",
       "\\item 'HERC5'\n",
       "\\item 'AC093866.1'\n",
       "\\item 'PITX2'\n",
       "\\item 'FAM169A'\n",
       "\\item 'SERINC5'\n",
       "\\item 'RPS23'\n",
       "\\item 'DCP2'\n",
       "\\item 'FBN2'\n",
       "\\item 'SNHG4'\n",
       "\\item 'PCDH1'\n",
       "\\item 'PPARGC1B'\n",
       "\\item 'SERPINB9'\n",
       "\\item 'POU5F1'\n",
       "\\item 'PI16'\n",
       "\\item 'CRIP3'\n",
       "\\item 'ZNF318'\n",
       "\\item 'RRAGD'\n",
       "\\item 'CD24'\n",
       "\\item 'SESN1'\n",
       "\\item 'RPS12'\n",
       "\\item 'MAP7'\n",
       "\\item 'MYCT1'\n",
       "\\item 'FAM221A'\n",
       "\\item 'PGAM2'\n",
       "\\item 'SNHG15'\n",
       "\\item 'TES'\n",
       "\\item 'PODXL'\n",
       "\\item 'KLRG2'\n",
       "\\item 'ATG9B'\n",
       "\\item 'NEFM'\n",
       "\\item 'NEFL'\n",
       "\\item 'GNRH1'\n",
       "\\item 'LYPLA1'\n",
       "\\item 'RPS20'\n",
       "\\item 'CHD7'\n",
       "\\item 'SNHG6'\n",
       "\\item 'RPL7'\n",
       "\\item 'CHMP4C'\n",
       "\\item 'CA2'\n",
       "\\item 'CALB1'\n",
       "\\item 'LAPTM4B'\n",
       "\\item 'PVT1'\n",
       "\\item 'EPPK1'\n",
       "\\item 'RPL8'\n",
       "\\item 'VLDLR'\n",
       "\\item 'GLDC'\n",
       "\\item 'GCNT1'\n",
       "\\item 'GNA14'\n",
       "\\item 'SEMA4D'\n",
       "\\item 'ZNF483'\n",
       "\\item 'PTBP3'\n",
       "\\item 'STRBP'\n",
       "\\item 'DIPK1B'\n",
       "\\item 'KIAA1217'\n",
       "\\item 'ALOX5'\n",
       "\\item 'ANK3'\n",
       "\\item 'COMTD1'\n",
       "\\item 'CDHR1'\n",
       "\\item 'FRAT2'\n",
       "\\item 'PGAM1'\n",
       "\\item 'NEURL1'\n",
       "\\item 'COL17A1'\n",
       "\\item 'GSTO2'\n",
       "\\item 'NANOS1'\n",
       "\\item 'RPLP2'\n",
       "\\item 'RPL27A'\n",
       "\\item 'LGR4'\n",
       "\\item 'TSPAN18'\n",
       "\\item 'ASRGL1'\n",
       "\\item 'PLAAT3'\n",
       "\\item 'GSTP1'\n",
       "\\item 'UCP2'\n",
       "\\item 'NECTIN1'\n",
       "\\item 'ESAM'\n",
       "\\item 'RIMKLB'\n",
       "\\item 'SINHCAF'\n",
       "\\item 'RESF1'\n",
       "\\item 'BICD1'\n",
       "\\item 'KIF21A'\n",
       "\\item 'RND1'\n",
       "\\item 'METTL7A'\n",
       "\\item 'KRT8'\n",
       "\\item 'KRT18'\n",
       "\\item 'GLS2'\n",
       "\\item 'KCNMB4'\n",
       "\\item 'PTPRB'\n",
       "\\item 'PAWR'\n",
       "\\item 'FGD6'\n",
       "\\item 'RPLP0'\n",
       "\\item 'TRIAP1'\n",
       "\\item 'RFLNA'\n",
       "\\item 'SCARB1'\n",
       "\\item 'RPL21'\n",
       "\\item 'ITM2B'\n",
       "\\item 'CCNB1IP1'\n",
       "\\item 'RNASE1'\n",
       "\\item 'SLC7A8'\n",
       "\\item 'REC8'\n",
       "\\item 'PAX9'\n",
       "\\item 'RPS29'\n",
       "\\item 'GCH1'\n",
       "\\item 'STON2'\n",
       "\\item 'GCHFR'\n",
       "\\item 'SPINT1'\n",
       "\\item 'MYEF2'\n",
       "\\item 'LINGO1'\n",
       "\\item 'RPS17'\n",
       "\\item 'KREMEN2'\n",
       "\\item 'TMC7'\n",
       "\\item 'NDUFAB1'\n",
       "\\item 'SULT1A1'\n",
       "\\item 'ZNF423'\n",
       "\\item 'IL34'\n",
       "\\item 'FA2H'\n",
       "\\item 'GCSH'\n",
       "\\item 'SLC47A1'\n",
       "\\item 'ALDH3A2'\n",
       "\\item 'TRAF4'\n",
       "\\item 'PIPOX'\n",
       "\\item 'RPL23'\n",
       "\\item 'PNMT'\n",
       "\\item 'FDXR'\n",
       "\\item 'ACOX1'\n",
       "\\item 'ST6GALNAC1'\n",
       "\\item 'TYMSOS'\n",
       "\\item 'B4GALT6'\n",
       "\\item 'CELF4'\n",
       "\\item 'LINC02582'\n",
       "\\item 'MBP'\n",
       "\\item 'TNFSF9'\n",
       "\\item 'CD70'\n",
       "\\item 'SH2D3A'\n",
       "\\item 'RPS28'\n",
       "\\item 'ISYNA1'\n",
       "\\item 'SPINT2'\n",
       "\\item 'PPP1R14A'\n",
       "\\item 'RPS16'\n",
       "\\item 'CEACAM1'\n",
       "\\item 'TMEM160'\n",
       "\\item 'BBC3'\n",
       "\\item 'RPL13A'\n",
       "\\item 'RPS11'\n",
       "\\item 'LIM2'\n",
       "\\item 'MRPS26'\n",
       "\\item 'FERMT1'\n",
       "\\item 'AHCY'\n",
       "\\item 'ADA'\n",
       "\\item 'SULF2'\n",
       "\\item 'ZFAS1'\n",
       "\\item 'SALL4'\n",
       "\\item 'RPS21'\n",
       "\\item 'CXADR'\n",
       "\\item 'MX1'\n",
       "\\item 'ITGB2'\n",
       "\\item 'CHCHD10'\n",
       "\\item 'MIF'\n",
       "\\item 'DDT'\n",
       "\\item 'SUSD2'\n",
       "\\item 'TTC28-AS1'\n",
       "\\item 'TCN2'\n",
       "\\item 'BIK'\n",
       "\\item 'ARHGAP8'\n",
       "\\item 'DMD'\n",
       "\\item 'PCSK1N'\n",
       "\\item 'PIM2'\n",
       "\\item 'PGK1'\n",
       "\\item 'BEX2'\n",
       "\\item 'SLC25A5'\n",
       "\\item 'SMIM10L2A'\n",
       "\\item 'SPANXB1'\n",
       "\\item 'MT-ND2'\n",
       "\\item 'MT-ND4'\n",
       "\\item 'MT-ND5'\n",
       "\\item 'MT-ND6'\n",
       "\\end{enumerate*}\n"
      ],
      "text/markdown": [
       "1. 'DRAXIN'\n",
       "2. 'SFN'\n",
       "3. 'TENT5B'\n",
       "4. 'SYTL1'\n",
       "5. 'MYCL'\n",
       "6. 'PRDX1'\n",
       "7. 'UQCRH'\n",
       "8. 'PCSK9'\n",
       "9. 'PATJ'\n",
       "10. 'AK4'\n",
       "11. 'FNBP1L'\n",
       "12. 'CHI3L2'\n",
       "13. 'IGSF3'\n",
       "14. 'F11R'\n",
       "15. 'TSTD1'\n",
       "16. 'NECTIN4'\n",
       "17. 'GAS5'\n",
       "18. 'LAMC2'\n",
       "19. 'LRRN2'\n",
       "20. 'FLVCR1'\n",
       "21. 'LEFTY2'\n",
       "22. 'MIXL1'\n",
       "23. 'PARP1'\n",
       "24. 'DESI2'\n",
       "25. 'TMEM178A'\n",
       "26. 'BCL11A'\n",
       "27. 'AC012368.1'\n",
       "28. 'LGALSL'\n",
       "29. 'PAIP2B'\n",
       "30. 'MERTK'\n",
       "31. 'CDCA7'\n",
       "32. 'TMEFF2'\n",
       "33. 'FZD5'\n",
       "34. 'RPL37A'\n",
       "35. 'IGFBP2'\n",
       "36. 'B3GNT7'\n",
       "37. 'PTMA'\n",
       "38. 'INPP5D'\n",
       "39. 'CACNA2D2'\n",
       "40. 'IL17RD'\n",
       "41. 'FLNB'\n",
       "42. 'DPPA4'\n",
       "43. 'COX17'\n",
       "44. 'FAM162A'\n",
       "45. 'CNBP'\n",
       "46. 'HMCES'\n",
       "47. 'TMCC1'\n",
       "48. 'ZMAT3'\n",
       "49. 'ST6GAL1'\n",
       "50. 'NMU'\n",
       "51. 'TMEM150C'\n",
       "52. 'CDS1'\n",
       "53. 'SPP1'\n",
       "54. 'HERC5'\n",
       "55. 'AC093866.1'\n",
       "56. 'PITX2'\n",
       "57. 'FAM169A'\n",
       "58. 'SERINC5'\n",
       "59. 'RPS23'\n",
       "60. 'DCP2'\n",
       "61. 'FBN2'\n",
       "62. 'SNHG4'\n",
       "63. 'PCDH1'\n",
       "64. 'PPARGC1B'\n",
       "65. 'SERPINB9'\n",
       "66. 'POU5F1'\n",
       "67. 'PI16'\n",
       "68. 'CRIP3'\n",
       "69. 'ZNF318'\n",
       "70. 'RRAGD'\n",
       "71. 'CD24'\n",
       "72. 'SESN1'\n",
       "73. 'RPS12'\n",
       "74. 'MAP7'\n",
       "75. 'MYCT1'\n",
       "76. 'FAM221A'\n",
       "77. 'PGAM2'\n",
       "78. 'SNHG15'\n",
       "79. 'TES'\n",
       "80. 'PODXL'\n",
       "81. 'KLRG2'\n",
       "82. 'ATG9B'\n",
       "83. 'NEFM'\n",
       "84. 'NEFL'\n",
       "85. 'GNRH1'\n",
       "86. 'LYPLA1'\n",
       "87. 'RPS20'\n",
       "88. 'CHD7'\n",
       "89. 'SNHG6'\n",
       "90. 'RPL7'\n",
       "91. 'CHMP4C'\n",
       "92. 'CA2'\n",
       "93. 'CALB1'\n",
       "94. 'LAPTM4B'\n",
       "95. 'PVT1'\n",
       "96. 'EPPK1'\n",
       "97. 'RPL8'\n",
       "98. 'VLDLR'\n",
       "99. 'GLDC'\n",
       "100. 'GCNT1'\n",
       "101. 'GNA14'\n",
       "102. 'SEMA4D'\n",
       "103. 'ZNF483'\n",
       "104. 'PTBP3'\n",
       "105. 'STRBP'\n",
       "106. 'DIPK1B'\n",
       "107. 'KIAA1217'\n",
       "108. 'ALOX5'\n",
       "109. 'ANK3'\n",
       "110. 'COMTD1'\n",
       "111. 'CDHR1'\n",
       "112. 'FRAT2'\n",
       "113. 'PGAM1'\n",
       "114. 'NEURL1'\n",
       "115. 'COL17A1'\n",
       "116. 'GSTO2'\n",
       "117. 'NANOS1'\n",
       "118. 'RPLP2'\n",
       "119. 'RPL27A'\n",
       "120. 'LGR4'\n",
       "121. 'TSPAN18'\n",
       "122. 'ASRGL1'\n",
       "123. 'PLAAT3'\n",
       "124. 'GSTP1'\n",
       "125. 'UCP2'\n",
       "126. 'NECTIN1'\n",
       "127. 'ESAM'\n",
       "128. 'RIMKLB'\n",
       "129. 'SINHCAF'\n",
       "130. 'RESF1'\n",
       "131. 'BICD1'\n",
       "132. 'KIF21A'\n",
       "133. 'RND1'\n",
       "134. 'METTL7A'\n",
       "135. 'KRT8'\n",
       "136. 'KRT18'\n",
       "137. 'GLS2'\n",
       "138. 'KCNMB4'\n",
       "139. 'PTPRB'\n",
       "140. 'PAWR'\n",
       "141. 'FGD6'\n",
       "142. 'RPLP0'\n",
       "143. 'TRIAP1'\n",
       "144. 'RFLNA'\n",
       "145. 'SCARB1'\n",
       "146. 'RPL21'\n",
       "147. 'ITM2B'\n",
       "148. 'CCNB1IP1'\n",
       "149. 'RNASE1'\n",
       "150. 'SLC7A8'\n",
       "151. 'REC8'\n",
       "152. 'PAX9'\n",
       "153. 'RPS29'\n",
       "154. 'GCH1'\n",
       "155. 'STON2'\n",
       "156. 'GCHFR'\n",
       "157. 'SPINT1'\n",
       "158. 'MYEF2'\n",
       "159. 'LINGO1'\n",
       "160. 'RPS17'\n",
       "161. 'KREMEN2'\n",
       "162. 'TMC7'\n",
       "163. 'NDUFAB1'\n",
       "164. 'SULT1A1'\n",
       "165. 'ZNF423'\n",
       "166. 'IL34'\n",
       "167. 'FA2H'\n",
       "168. 'GCSH'\n",
       "169. 'SLC47A1'\n",
       "170. 'ALDH3A2'\n",
       "171. 'TRAF4'\n",
       "172. 'PIPOX'\n",
       "173. 'RPL23'\n",
       "174. 'PNMT'\n",
       "175. 'FDXR'\n",
       "176. 'ACOX1'\n",
       "177. 'ST6GALNAC1'\n",
       "178. 'TYMSOS'\n",
       "179. 'B4GALT6'\n",
       "180. 'CELF4'\n",
       "181. 'LINC02582'\n",
       "182. 'MBP'\n",
       "183. 'TNFSF9'\n",
       "184. 'CD70'\n",
       "185. 'SH2D3A'\n",
       "186. 'RPS28'\n",
       "187. 'ISYNA1'\n",
       "188. 'SPINT2'\n",
       "189. 'PPP1R14A'\n",
       "190. 'RPS16'\n",
       "191. 'CEACAM1'\n",
       "192. 'TMEM160'\n",
       "193. 'BBC3'\n",
       "194. 'RPL13A'\n",
       "195. 'RPS11'\n",
       "196. 'LIM2'\n",
       "197. 'MRPS26'\n",
       "198. 'FERMT1'\n",
       "199. 'AHCY'\n",
       "200. 'ADA'\n",
       "201. 'SULF2'\n",
       "202. 'ZFAS1'\n",
       "203. 'SALL4'\n",
       "204. 'RPS21'\n",
       "205. 'CXADR'\n",
       "206. 'MX1'\n",
       "207. 'ITGB2'\n",
       "208. 'CHCHD10'\n",
       "209. 'MIF'\n",
       "210. 'DDT'\n",
       "211. 'SUSD2'\n",
       "212. 'TTC28-AS1'\n",
       "213. 'TCN2'\n",
       "214. 'BIK'\n",
       "215. 'ARHGAP8'\n",
       "216. 'DMD'\n",
       "217. 'PCSK1N'\n",
       "218. 'PIM2'\n",
       "219. 'PGK1'\n",
       "220. 'BEX2'\n",
       "221. 'SLC25A5'\n",
       "222. 'SMIM10L2A'\n",
       "223. 'SPANXB1'\n",
       "224. 'MT-ND2'\n",
       "225. 'MT-ND4'\n",
       "226. 'MT-ND5'\n",
       "227. 'MT-ND6'\n",
       "\n",
       "\n"
      ],
      "text/plain": [
       "  [1] \"DRAXIN\"     \"SFN\"        \"TENT5B\"     \"SYTL1\"      \"MYCL\"      \n",
       "  [6] \"PRDX1\"      \"UQCRH\"      \"PCSK9\"      \"PATJ\"       \"AK4\"       \n",
       " [11] \"FNBP1L\"     \"CHI3L2\"     \"IGSF3\"      \"F11R\"       \"TSTD1\"     \n",
       " [16] \"NECTIN4\"    \"GAS5\"       \"LAMC2\"      \"LRRN2\"      \"FLVCR1\"    \n",
       " [21] \"LEFTY2\"     \"MIXL1\"      \"PARP1\"      \"DESI2\"      \"TMEM178A\"  \n",
       " [26] \"BCL11A\"     \"AC012368.1\" \"LGALSL\"     \"PAIP2B\"     \"MERTK\"     \n",
       " [31] \"CDCA7\"      \"TMEFF2\"     \"FZD5\"       \"RPL37A\"     \"IGFBP2\"    \n",
       " [36] \"B3GNT7\"     \"PTMA\"       \"INPP5D\"     \"CACNA2D2\"   \"IL17RD\"    \n",
       " [41] \"FLNB\"       \"DPPA4\"      \"COX17\"      \"FAM162A\"    \"CNBP\"      \n",
       " [46] \"HMCES\"      \"TMCC1\"      \"ZMAT3\"      \"ST6GAL1\"    \"NMU\"       \n",
       " [51] \"TMEM150C\"   \"CDS1\"       \"SPP1\"       \"HERC5\"      \"AC093866.1\"\n",
       " [56] \"PITX2\"      \"FAM169A\"    \"SERINC5\"    \"RPS23\"      \"DCP2\"      \n",
       " [61] \"FBN2\"       \"SNHG4\"      \"PCDH1\"      \"PPARGC1B\"   \"SERPINB9\"  \n",
       " [66] \"POU5F1\"     \"PI16\"       \"CRIP3\"      \"ZNF318\"     \"RRAGD\"     \n",
       " [71] \"CD24\"       \"SESN1\"      \"RPS12\"      \"MAP7\"       \"MYCT1\"     \n",
       " [76] \"FAM221A\"    \"PGAM2\"      \"SNHG15\"     \"TES\"        \"PODXL\"     \n",
       " [81] \"KLRG2\"      \"ATG9B\"      \"NEFM\"       \"NEFL\"       \"GNRH1\"     \n",
       " [86] \"LYPLA1\"     \"RPS20\"      \"CHD7\"       \"SNHG6\"      \"RPL7\"      \n",
       " [91] \"CHMP4C\"     \"CA2\"        \"CALB1\"      \"LAPTM4B\"    \"PVT1\"      \n",
       " [96] \"EPPK1\"      \"RPL8\"       \"VLDLR\"      \"GLDC\"       \"GCNT1\"     \n",
       "[101] \"GNA14\"      \"SEMA4D\"     \"ZNF483\"     \"PTBP3\"      \"STRBP\"     \n",
       "[106] \"DIPK1B\"     \"KIAA1217\"   \"ALOX5\"      \"ANK3\"       \"COMTD1\"    \n",
       "[111] \"CDHR1\"      \"FRAT2\"      \"PGAM1\"      \"NEURL1\"     \"COL17A1\"   \n",
       "[116] \"GSTO2\"      \"NANOS1\"     \"RPLP2\"      \"RPL27A\"     \"LGR4\"      \n",
       "[121] \"TSPAN18\"    \"ASRGL1\"     \"PLAAT3\"     \"GSTP1\"      \"UCP2\"      \n",
       "[126] \"NECTIN1\"    \"ESAM\"       \"RIMKLB\"     \"SINHCAF\"    \"RESF1\"     \n",
       "[131] \"BICD1\"      \"KIF21A\"     \"RND1\"       \"METTL7A\"    \"KRT8\"      \n",
       "[136] \"KRT18\"      \"GLS2\"       \"KCNMB4\"     \"PTPRB\"      \"PAWR\"      \n",
       "[141] \"FGD6\"       \"RPLP0\"      \"TRIAP1\"     \"RFLNA\"      \"SCARB1\"    \n",
       "[146] \"RPL21\"      \"ITM2B\"      \"CCNB1IP1\"   \"RNASE1\"     \"SLC7A8\"    \n",
       "[151] \"REC8\"       \"PAX9\"       \"RPS29\"      \"GCH1\"       \"STON2\"     \n",
       "[156] \"GCHFR\"      \"SPINT1\"     \"MYEF2\"      \"LINGO1\"     \"RPS17\"     \n",
       "[161] \"KREMEN2\"    \"TMC7\"       \"NDUFAB1\"    \"SULT1A1\"    \"ZNF423\"    \n",
       "[166] \"IL34\"       \"FA2H\"       \"GCSH\"       \"SLC47A1\"    \"ALDH3A2\"   \n",
       "[171] \"TRAF4\"      \"PIPOX\"      \"RPL23\"      \"PNMT\"       \"FDXR\"      \n",
       "[176] \"ACOX1\"      \"ST6GALNAC1\" \"TYMSOS\"     \"B4GALT6\"    \"CELF4\"     \n",
       "[181] \"LINC02582\"  \"MBP\"        \"TNFSF9\"     \"CD70\"       \"SH2D3A\"    \n",
       "[186] \"RPS28\"      \"ISYNA1\"     \"SPINT2\"     \"PPP1R14A\"   \"RPS16\"     \n",
       "[191] \"CEACAM1\"    \"TMEM160\"    \"BBC3\"       \"RPL13A\"     \"RPS11\"     \n",
       "[196] \"LIM2\"       \"MRPS26\"     \"FERMT1\"     \"AHCY\"       \"ADA\"       \n",
       "[201] \"SULF2\"      \"ZFAS1\"      \"SALL4\"      \"RPS21\"      \"CXADR\"     \n",
       "[206] \"MX1\"        \"ITGB2\"      \"CHCHD10\"    \"MIF\"        \"DDT\"       \n",
       "[211] \"SUSD2\"      \"TTC28-AS1\"  \"TCN2\"       \"BIK\"        \"ARHGAP8\"   \n",
       "[216] \"DMD\"        \"PCSK1N\"     \"PIM2\"       \"PGK1\"       \"BEX2\"      \n",
       "[221] \"SLC25A5\"    \"SMIM10L2A\"  \"SPANXB1\"    \"MT-ND2\"     \"MT-ND4\"    \n",
       "[226] \"MT-ND5\"     \"MT-ND6\"    "
      ]
     },
     "metadata": {},
     "output_type": "display_data"
    }
   ],
   "source": [
    "cur_genes = names(pr_mb_by_gene[gene_sets[[7]]])[pr_mb_by_gene[gene_sets[[7]]] %in% c(8,10)]\n",
    "cur_genes"
   ]
  },
  {
   "cell_type": "code",
   "execution_count": 239,
   "metadata": {},
   "outputs": [
    {
     "data": {
      "text/html": [
       "<style>\n",
       ".list-inline {list-style: none; margin:0; padding: 0}\n",
       ".list-inline>li {display: inline-block}\n",
       ".list-inline>li:not(:last-child)::after {content: \"\\00b7\"; padding: 0 .5ex}\n",
       "</style>\n",
       "<ol class=list-inline><li>'RPL13A'</li><li>'RPL21'</li><li>'RPL23'</li><li>'RPL27A'</li><li>'RPL37A'</li><li>'RPL7'</li><li>'RPL8'</li><li>'RPLP0'</li><li>'RPLP2'</li><li>'RPS11'</li><li>'RPS12'</li><li>'RPS16'</li><li>'RPS17'</li><li>'RPS20'</li><li>'RPS21'</li><li>'RPS23'</li><li>'RPS28'</li><li>'RPS29'</li></ol>\n"
      ],
      "text/latex": [
       "\\begin{enumerate*}\n",
       "\\item 'RPL13A'\n",
       "\\item 'RPL21'\n",
       "\\item 'RPL23'\n",
       "\\item 'RPL27A'\n",
       "\\item 'RPL37A'\n",
       "\\item 'RPL7'\n",
       "\\item 'RPL8'\n",
       "\\item 'RPLP0'\n",
       "\\item 'RPLP2'\n",
       "\\item 'RPS11'\n",
       "\\item 'RPS12'\n",
       "\\item 'RPS16'\n",
       "\\item 'RPS17'\n",
       "\\item 'RPS20'\n",
       "\\item 'RPS21'\n",
       "\\item 'RPS23'\n",
       "\\item 'RPS28'\n",
       "\\item 'RPS29'\n",
       "\\end{enumerate*}\n"
      ],
      "text/markdown": [
       "1. 'RPL13A'\n",
       "2. 'RPL21'\n",
       "3. 'RPL23'\n",
       "4. 'RPL27A'\n",
       "5. 'RPL37A'\n",
       "6. 'RPL7'\n",
       "7. 'RPL8'\n",
       "8. 'RPLP0'\n",
       "9. 'RPLP2'\n",
       "10. 'RPS11'\n",
       "11. 'RPS12'\n",
       "12. 'RPS16'\n",
       "13. 'RPS17'\n",
       "14. 'RPS20'\n",
       "15. 'RPS21'\n",
       "16. 'RPS23'\n",
       "17. 'RPS28'\n",
       "18. 'RPS29'\n",
       "\n",
       "\n"
      ],
      "text/plain": [
       " [1] \"RPL13A\" \"RPL21\"  \"RPL23\"  \"RPL27A\" \"RPL37A\" \"RPL7\"   \"RPL8\"   \"RPLP0\" \n",
       " [9] \"RPLP2\"  \"RPS11\"  \"RPS12\"  \"RPS16\"  \"RPS17\"  \"RPS20\"  \"RPS21\"  \"RPS23\" \n",
       "[17] \"RPS28\"  \"RPS29\" "
      ]
     },
     "metadata": {},
     "output_type": "display_data"
    }
   ],
   "source": [
    "sort(cur_genes[grep(\"^RP[L|S]\", cur_genes)])"
   ]
  },
  {
   "cell_type": "code",
   "execution_count": 188,
   "metadata": {},
   "outputs": [],
   "source": [
    "write.table(names(pr_mb_by_gene[gene_sets[[7]]])[pr_mb_by_gene[gene_sets[[7]]] %in% c(8,10)], \"tmp.txt\", row.names=F, col.names=F, quote=F)"
   ]
  },
  {
   "cell_type": "code",
   "execution_count": 160,
   "metadata": {},
   "outputs": [
    {
     "data": {
      "text/plain": [
       "\n",
       "        1         2         3         4         5         6         7         8 \n",
       "0.5528694 0.8149748 0.6796915 0.4738464 0.2619048 0.4633647 0.5403190 1.9305426 \n",
       "        9        10 \n",
       "0.8694316 2.4576639 "
      ]
     },
     "metadata": {},
     "output_type": "display_data"
    }
   ],
   "source": [
    "table(pr_mb_by_gene[gene_sets[[7]]])/((table(pr_mb_by_gene)/length(pr_mb_by_gene))*sum(table(pr_mb_by_gene[gene_sets[[7]]])))"
   ]
  },
  {
   "cell_type": "code",
   "execution_count": 199,
   "metadata": {},
   "outputs": [
    {
     "data": {
      "text/html": [
       "140"
      ],
      "text/latex": [
       "140"
      ],
      "text/markdown": [
       "140"
      ],
      "text/plain": [
       "[1] 140"
      ]
     },
     "metadata": {},
     "output_type": "display_data"
    }
   ],
   "source": [
    "length(rownames(tpm_het_avg)[grep(\"^RPS\", rownames(tpm_het_avg))])"
   ]
  },
  {
   "cell_type": "code",
   "execution_count": 244,
   "metadata": {},
   "outputs": [
    {
     "data": {
      "text/html": [
       "4"
      ],
      "text/latex": [
       "4"
      ],
      "text/markdown": [
       "4"
      ],
      "text/plain": [
       "[1] 4"
      ]
     },
     "metadata": {},
     "output_type": "display_data"
    }
   ],
   "source": [
    "sum(cur_genes[grep(\"^RP[L|S]\", cur_genes)] %in% lol)"
   ]
  },
  {
   "cell_type": "code",
   "execution_count": 246,
   "metadata": {},
   "outputs": [
    {
     "name": "stdout",
     "output_type": "stream",
     "text": [
      "[1] 1\n",
      "character(0)\n",
      "[1] 2\n",
      " [1] \"ALDOC\"  \"CCND2\"  \"CHEK2\"  \"GJA1\"   \"MSH2\"   \"PDPN\"   \"PHC1\"   \"SEPHS2\"\n",
      " [9] \"SQLE\"   \"TERF1\"  \"WEE1\"   \"ZIC3\"  \n",
      "[1] 3\n",
      "[1] \"AMOTL2\" \"CCND1\"  \"FDPS\"   \"FGFR1\" \n",
      "[1] 4\n",
      "[1] \"MID1IP1\" \"MYC\"     \"NOP10\"   \"SOX2\"   \n",
      "[1] 5\n",
      "[1] \"CDKN1C\" \"CRABP2\"\n",
      "[1] 6\n",
      "[1] \"CSRP2\"  \"TCF7L1\"\n",
      "[1] 7\n",
      " [1] \"AK4\"     \"BCAT1\"   \"CDCA7\"   \"GLDC\"    \"GNA14\"   \"HMGN5\"   \"LYPLA1\" \n",
      " [8] \"NDUFAB1\" \"PARP1\"   \"PIPOX\"   \"PRDX1\"   \"PROM1\"   \"RCC2\"    \"RPL27A\" \n",
      "[15] \"RPS12\"   \"RPS16\"   \"RPS23\"   \"SINHCAF\" \"SLC25A5\" \"SLC2A1\"  \"TIMM13\" \n",
      "[22] \"TIMM8B\"  \"UQCRH\"  \n",
      "[1] 8\n",
      " [1] \"AURKA\"    \"AURKB\"    \"BIRC5\"    \"BRIX1\"    \"BUB1\"     \"BUB1B\"   \n",
      " [7] \"CCNA2\"    \"CCNB2\"    \"CCNF\"     \"CDC20\"    \"CDC6\"     \"CDCA3\"   \n",
      "[13] \"CDCA5\"    \"CDCA8\"    \"CDK1\"     \"CDKN3\"    \"CHAF1A\"   \"CKAP2\"   \n",
      "[19] \"CKS1B\"    \"CKS2\"     \"CYCS\"     \"DBF4\"     \"DEK\"      \"DLGAP5\"  \n",
      "[25] \"DTL\"      \"DTYMK\"    \"EBNA1BP2\" \"EIF4EBP1\" \"FAM136A\"  \"GMNN\"    \n",
      "[31] \"GTSE1\"    \"HELLS\"    \"HMGB2\"    \"HNRNPAB\"  \"HSPE1\"    \"JPT1\"    \n",
      "[37] \"KIF11\"    \"KIF20A\"   \"KIF23\"    \"KIF4A\"    \"KPNA2\"    \"LMNB1\"   \n",
      "[43] \"MAD2L1\"   \"MCM3\"     \"MCM4\"     \"MCM5\"     \"MCM7\"     \"MRPL12\"  \n",
      "[49] \"MRTO4\"    \"MTHFD2\"   \"MYBL2\"    \"NASP\"     \"NCAPD2\"   \"NCAPH\"   \n",
      "[55] \"NCL\"      \"NDC80\"    \"NEK2\"     \"NIFK\"     \"NUSAP1\"   \"PA2G4\"   \n",
      "[61] \"PCNA\"     \"PLK1\"     \"POLR3K\"   \"POP7\"     \"RACGAP1\"  \"RFC3\"    \n",
      "[67] \"RRM1\"     \"RRM2\"     \"RUVBL1\"   \"SET\"      \"SMC2\"     \"SMC4\"    \n",
      "[73] \"SNRPA1\"   \"SNRPD1\"   \"SPAG5\"    \"TCF19\"    \"TCOF1\"    \"TIMM8A\"  \n",
      "[79] \"TOP2A\"    \"TTK\"      \"VRK1\"     \"WDHD1\"   \n",
      "[1] 9\n",
      "[1] \"CTSC\"\n",
      "[1] 10\n",
      "character(0)\n"
     ]
    }
   ],
   "source": [
    "for (i in seq(10)) {\n",
    "    print(i)\n",
    "    print(lol[lol %in% gene_sets[[i]]])\n",
    "}"
   ]
  },
  {
   "cell_type": "code",
   "execution_count": null,
   "metadata": {},
   "outputs": [],
   "source": []
  }
 ],
 "metadata": {
  "kernelspec": {
   "display_name": "R",
   "language": "R",
   "name": "ir"
  },
  "language_info": {
   "codemirror_mode": "r",
   "file_extension": ".r",
   "mimetype": "text/x-r-source",
   "name": "R",
   "pygments_lexer": "r",
   "version": "3.6.3"
  }
 },
 "nbformat": 4,
 "nbformat_minor": 4
}
