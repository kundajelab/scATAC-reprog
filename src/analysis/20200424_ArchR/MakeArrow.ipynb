{
 "cells": [
  {
   "cell_type": "markdown",
   "metadata": {},
   "source": [
    "# Make Arrow Files\n",
    "\n",
    "Process raw data to make Arrow files."
   ]
  },
  {
   "cell_type": "code",
   "execution_count": null,
   "metadata": {},
   "outputs": [],
   "source": [
    "library(ArchR)"
   ]
  },
  {
   "cell_type": "code",
   "execution_count": 3,
   "metadata": {},
   "outputs": [
    {
     "name": "stderr",
     "output_type": "stream",
     "text": [
      "Setting default number of Parallel threads to 32.\n",
      "\n"
     ]
    }
   ],
   "source": [
    "set.seed(1)\n",
    "addArchRThreads(threads = 32) "
   ]
  },
  {
   "cell_type": "code",
   "execution_count": null,
   "metadata": {},
   "outputs": [],
   "source": [
    "addArchRGenome(\"hg38\")"
   ]
  },
  {
   "cell_type": "code",
   "execution_count": 26,
   "metadata": {},
   "outputs": [
    {
     "data": {
      "text/html": [
       "<style>\n",
       ".dl-inline {width: auto; margin:0; padding: 0}\n",
       ".dl-inline>dt, .dl-inline>dd {float: none; width: auto; display: inline-block}\n",
       ".dl-inline>dt::after {content: \":\\0020\"; padding-right: .5ex}\n",
       ".dl-inline>dt:not(:first-of-type) {padding-left: .5ex}\n",
       "</style><dl class=dl-inline><dt>D0</dt><dd>'/oak/stanford/groups/akundaje/surag/projects/scATAC-reprog/singlecell/snap/fragment/coordsorted/D0_S1_L001_R1_001.merged.nodup.no_chrM_MT.tn5.withBarcode.coord.sorted.fragment.gz'</dd><dt>D10</dt><dd>'/oak/stanford/groups/akundaje/surag/projects/scATAC-reprog/singlecell/snap/fragment/coordsorted/D10_S6_L001_R1_001.merged.nodup.no_chrM_MT.tn5.withBarcode.coord.sorted.fragment.gz'</dd><dt>D12</dt><dd>'/oak/stanford/groups/akundaje/surag/projects/scATAC-reprog/singlecell/snap/fragment/coordsorted/D12_S7_L001_R1_001.merged.nodup.no_chrM_MT.tn5.withBarcode.coord.sorted.fragment.gz'</dd><dt>D14</dt><dd>'/oak/stanford/groups/akundaje/surag/projects/scATAC-reprog/singlecell/snap/fragment/coordsorted/D14_S8_L001_R1_001.merged.nodup.no_chrM_MT.tn5.withBarcode.coord.sorted.fragment.gz'</dd><dt>D2</dt><dd>'/oak/stanford/groups/akundaje/surag/projects/scATAC-reprog/singlecell/snap/fragment/coordsorted/D2_S5_L001_R1_001.merged.nodup.no_chrM_MT.tn5.withBarcode.coord.sorted.fragment.gz'</dd><dt>D4</dt><dd>'/oak/stanford/groups/akundaje/surag/projects/scATAC-reprog/singlecell/snap/fragment/coordsorted/D4_S2_L001_R1_001.merged.nodup.no_chrM_MT.tn5.withBarcode.coord.sorted.fragment.gz'</dd><dt>D6</dt><dd>'/oak/stanford/groups/akundaje/surag/projects/scATAC-reprog/singlecell/snap/fragment/coordsorted/D6_S3_L001_R1_001.merged.nodup.no_chrM_MT.tn5.withBarcode.coord.sorted.fragment.gz'</dd><dt>D8</dt><dd>'/oak/stanford/groups/akundaje/surag/projects/scATAC-reprog/singlecell/snap/fragment/coordsorted/D8_S4_L001_R1_001.merged.nodup.no_chrM_MT.tn5.withBarcode.coord.sorted.fragment.gz'</dd><dt>H1</dt><dd>'/oak/stanford/groups/akundaje/surag/projects/scATAC-reprog/singlecell/snap/fragment/coordsorted/H1_S1_L001_R1_001.merged.nodup.no_chrM_MT.tn5.withBarcode.coord.sorted.fragment.gz'</dd></dl>\n"
      ],
      "text/latex": [
       "\\begin{description*}\n",
       "\\item[D0] '/oak/stanford/groups/akundaje/surag/projects/scATAC-reprog/singlecell/snap/fragment/coordsorted/D0\\_S1\\_L001\\_R1\\_001.merged.nodup.no\\_chrM\\_MT.tn5.withBarcode.coord.sorted.fragment.gz'\n",
       "\\item[D10] '/oak/stanford/groups/akundaje/surag/projects/scATAC-reprog/singlecell/snap/fragment/coordsorted/D10\\_S6\\_L001\\_R1\\_001.merged.nodup.no\\_chrM\\_MT.tn5.withBarcode.coord.sorted.fragment.gz'\n",
       "\\item[D12] '/oak/stanford/groups/akundaje/surag/projects/scATAC-reprog/singlecell/snap/fragment/coordsorted/D12\\_S7\\_L001\\_R1\\_001.merged.nodup.no\\_chrM\\_MT.tn5.withBarcode.coord.sorted.fragment.gz'\n",
       "\\item[D14] '/oak/stanford/groups/akundaje/surag/projects/scATAC-reprog/singlecell/snap/fragment/coordsorted/D14\\_S8\\_L001\\_R1\\_001.merged.nodup.no\\_chrM\\_MT.tn5.withBarcode.coord.sorted.fragment.gz'\n",
       "\\item[D2] '/oak/stanford/groups/akundaje/surag/projects/scATAC-reprog/singlecell/snap/fragment/coordsorted/D2\\_S5\\_L001\\_R1\\_001.merged.nodup.no\\_chrM\\_MT.tn5.withBarcode.coord.sorted.fragment.gz'\n",
       "\\item[D4] '/oak/stanford/groups/akundaje/surag/projects/scATAC-reprog/singlecell/snap/fragment/coordsorted/D4\\_S2\\_L001\\_R1\\_001.merged.nodup.no\\_chrM\\_MT.tn5.withBarcode.coord.sorted.fragment.gz'\n",
       "\\item[D6] '/oak/stanford/groups/akundaje/surag/projects/scATAC-reprog/singlecell/snap/fragment/coordsorted/D6\\_S3\\_L001\\_R1\\_001.merged.nodup.no\\_chrM\\_MT.tn5.withBarcode.coord.sorted.fragment.gz'\n",
       "\\item[D8] '/oak/stanford/groups/akundaje/surag/projects/scATAC-reprog/singlecell/snap/fragment/coordsorted/D8\\_S4\\_L001\\_R1\\_001.merged.nodup.no\\_chrM\\_MT.tn5.withBarcode.coord.sorted.fragment.gz'\n",
       "\\item[H1] '/oak/stanford/groups/akundaje/surag/projects/scATAC-reprog/singlecell/snap/fragment/coordsorted/H1\\_S1\\_L001\\_R1\\_001.merged.nodup.no\\_chrM\\_MT.tn5.withBarcode.coord.sorted.fragment.gz'\n",
       "\\end{description*}\n"
      ],
      "text/markdown": [
       "D0\n",
       ":   '/oak/stanford/groups/akundaje/surag/projects/scATAC-reprog/singlecell/snap/fragment/coordsorted/D0_S1_L001_R1_001.merged.nodup.no_chrM_MT.tn5.withBarcode.coord.sorted.fragment.gz'D10\n",
       ":   '/oak/stanford/groups/akundaje/surag/projects/scATAC-reprog/singlecell/snap/fragment/coordsorted/D10_S6_L001_R1_001.merged.nodup.no_chrM_MT.tn5.withBarcode.coord.sorted.fragment.gz'D12\n",
       ":   '/oak/stanford/groups/akundaje/surag/projects/scATAC-reprog/singlecell/snap/fragment/coordsorted/D12_S7_L001_R1_001.merged.nodup.no_chrM_MT.tn5.withBarcode.coord.sorted.fragment.gz'D14\n",
       ":   '/oak/stanford/groups/akundaje/surag/projects/scATAC-reprog/singlecell/snap/fragment/coordsorted/D14_S8_L001_R1_001.merged.nodup.no_chrM_MT.tn5.withBarcode.coord.sorted.fragment.gz'D2\n",
       ":   '/oak/stanford/groups/akundaje/surag/projects/scATAC-reprog/singlecell/snap/fragment/coordsorted/D2_S5_L001_R1_001.merged.nodup.no_chrM_MT.tn5.withBarcode.coord.sorted.fragment.gz'D4\n",
       ":   '/oak/stanford/groups/akundaje/surag/projects/scATAC-reprog/singlecell/snap/fragment/coordsorted/D4_S2_L001_R1_001.merged.nodup.no_chrM_MT.tn5.withBarcode.coord.sorted.fragment.gz'D6\n",
       ":   '/oak/stanford/groups/akundaje/surag/projects/scATAC-reprog/singlecell/snap/fragment/coordsorted/D6_S3_L001_R1_001.merged.nodup.no_chrM_MT.tn5.withBarcode.coord.sorted.fragment.gz'D8\n",
       ":   '/oak/stanford/groups/akundaje/surag/projects/scATAC-reprog/singlecell/snap/fragment/coordsorted/D8_S4_L001_R1_001.merged.nodup.no_chrM_MT.tn5.withBarcode.coord.sorted.fragment.gz'H1\n",
       ":   '/oak/stanford/groups/akundaje/surag/projects/scATAC-reprog/singlecell/snap/fragment/coordsorted/H1_S1_L001_R1_001.merged.nodup.no_chrM_MT.tn5.withBarcode.coord.sorted.fragment.gz'\n",
       "\n"
      ],
      "text/plain": [
       "                                                                                                                                                                                   D0 \n",
       " \"/oak/stanford/groups/akundaje/surag/projects/scATAC-reprog/singlecell/snap/fragment/coordsorted/D0_S1_L001_R1_001.merged.nodup.no_chrM_MT.tn5.withBarcode.coord.sorted.fragment.gz\" \n",
       "                                                                                                                                                                                  D10 \n",
       "\"/oak/stanford/groups/akundaje/surag/projects/scATAC-reprog/singlecell/snap/fragment/coordsorted/D10_S6_L001_R1_001.merged.nodup.no_chrM_MT.tn5.withBarcode.coord.sorted.fragment.gz\" \n",
       "                                                                                                                                                                                  D12 \n",
       "\"/oak/stanford/groups/akundaje/surag/projects/scATAC-reprog/singlecell/snap/fragment/coordsorted/D12_S7_L001_R1_001.merged.nodup.no_chrM_MT.tn5.withBarcode.coord.sorted.fragment.gz\" \n",
       "                                                                                                                                                                                  D14 \n",
       "\"/oak/stanford/groups/akundaje/surag/projects/scATAC-reprog/singlecell/snap/fragment/coordsorted/D14_S8_L001_R1_001.merged.nodup.no_chrM_MT.tn5.withBarcode.coord.sorted.fragment.gz\" \n",
       "                                                                                                                                                                                   D2 \n",
       " \"/oak/stanford/groups/akundaje/surag/projects/scATAC-reprog/singlecell/snap/fragment/coordsorted/D2_S5_L001_R1_001.merged.nodup.no_chrM_MT.tn5.withBarcode.coord.sorted.fragment.gz\" \n",
       "                                                                                                                                                                                   D4 \n",
       " \"/oak/stanford/groups/akundaje/surag/projects/scATAC-reprog/singlecell/snap/fragment/coordsorted/D4_S2_L001_R1_001.merged.nodup.no_chrM_MT.tn5.withBarcode.coord.sorted.fragment.gz\" \n",
       "                                                                                                                                                                                   D6 \n",
       " \"/oak/stanford/groups/akundaje/surag/projects/scATAC-reprog/singlecell/snap/fragment/coordsorted/D6_S3_L001_R1_001.merged.nodup.no_chrM_MT.tn5.withBarcode.coord.sorted.fragment.gz\" \n",
       "                                                                                                                                                                                   D8 \n",
       " \"/oak/stanford/groups/akundaje/surag/projects/scATAC-reprog/singlecell/snap/fragment/coordsorted/D8_S4_L001_R1_001.merged.nodup.no_chrM_MT.tn5.withBarcode.coord.sorted.fragment.gz\" \n",
       "                                                                                                                                                                                   H1 \n",
       " \"/oak/stanford/groups/akundaje/surag/projects/scATAC-reprog/singlecell/snap/fragment/coordsorted/H1_S1_L001_R1_001.merged.nodup.no_chrM_MT.tn5.withBarcode.coord.sorted.fragment.gz\" "
      ]
     },
     "metadata": {},
     "output_type": "display_data"
    }
   ],
   "source": [
    "FRAG_BASE = \"/oak/stanford/groups/akundaje/surag/projects/scATAC-reprog/singlecell/snap/fragment/coordsorted/\"\n",
    "frag.files =  list.files(FRAG_BASE, pattern=\"*gz$\")\n",
    "sample.names = lapply(strsplit(frag.files, \"_\"), \"[[\", 1)\n",
    "frag.files = paste(FRAG_BASE, frag.files, sep='')\n",
    "names(frag.files) = sample.names\n",
    "\n",
    "frag.files"
   ]
  },
  {
   "cell_type": "code",
   "execution_count": 27,
   "metadata": {},
   "outputs": [
    {
     "name": "stderr",
     "output_type": "stream",
     "text": [
      "Using GeneAnnotation set by addArchRGenome(Hg38)!\n",
      "\n",
      "Using GeneAnnotation set by addArchRGenome(Hg38)!\n",
      "\n",
      "ArchR logging to : ArchRLogs/ArchR-createArrows-2364bbcb3f4-Date-2020-04-24_Time-02-27-15.log\n",
      "If there is an issue, please report to github with logFile!\n",
      "\n",
      "Cleaning Temporary Files\n",
      "\n",
      "2020-04-24 02:27:15 : Batch Execution w/ safelapply!, 0 mins elapsed.\n",
      "\n",
      "ArchR logging successful to : ArchRLogs/ArchR-createArrows-2364bbcb3f4-Date-2020-04-24_Time-02-27-15.log\n",
      "\n"
     ]
    }
   ],
   "source": [
    "ArrowFiles <- createArrowFiles(\n",
    "  inputFiles = frag.files,\n",
    "  sampleNames = names(frag.files),\n",
    "  filterTSS = 4, #Dont set this too high because you can always increase later\n",
    "  filterFrags = 1000, \n",
    "  addTileMat = TRUE,\n",
    "  addGeneScoreMat = TRUE\n",
    ")"
   ]
  },
  {
   "cell_type": "code",
   "execution_count": 30,
   "metadata": {},
   "outputs": [
    {
     "data": {
      "text/html": [
       "<style>\n",
       ".list-inline {list-style: none; margin:0; padding: 0}\n",
       ".list-inline>li {display: inline-block}\n",
       ".list-inline>li:not(:last-child)::after {content: \"\\00b7\"; padding: 0 .5ex}\n",
       "</style>\n",
       "<ol class=list-inline><li>'D8.arrow'</li><li>'H1.arrow'</li><li>'D6.arrow'</li><li>'D4.arrow'</li><li>'D0.arrow'</li><li>'D2.arrow'</li><li>'D14.arrow'</li><li>'D10.arrow'</li><li>'D12.arrow'</li></ol>\n"
      ],
      "text/latex": [
       "\\begin{enumerate*}\n",
       "\\item 'D8.arrow'\n",
       "\\item 'H1.arrow'\n",
       "\\item 'D6.arrow'\n",
       "\\item 'D4.arrow'\n",
       "\\item 'D0.arrow'\n",
       "\\item 'D2.arrow'\n",
       "\\item 'D14.arrow'\n",
       "\\item 'D10.arrow'\n",
       "\\item 'D12.arrow'\n",
       "\\end{enumerate*}\n"
      ],
      "text/markdown": [
       "1. 'D8.arrow'\n",
       "2. 'H1.arrow'\n",
       "3. 'D6.arrow'\n",
       "4. 'D4.arrow'\n",
       "5. 'D0.arrow'\n",
       "6. 'D2.arrow'\n",
       "7. 'D14.arrow'\n",
       "8. 'D10.arrow'\n",
       "9. 'D12.arrow'\n",
       "\n",
       "\n"
      ],
      "text/plain": [
       "[1] \"D8.arrow\"  \"H1.arrow\"  \"D6.arrow\"  \"D4.arrow\"  \"D0.arrow\"  \"D2.arrow\" \n",
       "[7] \"D14.arrow\" \"D10.arrow\" \"D12.arrow\""
      ]
     },
     "metadata": {},
     "output_type": "display_data"
    }
   ],
   "source": [
    "ArrowFiles"
   ]
  },
  {
   "cell_type": "code",
   "execution_count": 49,
   "metadata": {},
   "outputs": [],
   "source": [
    "# rds to tsv\n",
    "for (x in c(\"D0\",\n",
    "\"D2\",\n",
    "\"D4\",\n",
    "\"D6\",\n",
    "\"D8\",\n",
    "\"D10\",\n",
    "\"D12\",\n",
    "\"D14\",\n",
    "\"H1\")) {\n",
    "    r = readRDS(sprintf(\"./QualityControl/%s/%s-Pre-Filter-Metadata.rds\", x, x))\n",
    "    write.table(r, sprintf(\"./QualityControl/%s/%s-Pre-Filter-Metadata.tsv\", x, x), sep='\\t', row.names=F, quote=F)\n",
    "}"
   ]
  },
  {
   "cell_type": "code",
   "execution_count": null,
   "metadata": {},
   "outputs": [
    {
     "name": "stderr",
     "output_type": "stream",
     "text": [
      "ArchR logging to : ArchRLogs/ArchR-addDoubletScores-23645911eff5-Date-2020-04-24_Time-03-12-31.log\n",
      "If there is an issue, please report to github with logFile!\n",
      "\n",
      "2020-04-24 03:12:32 : Batch Execution w/ safelapply!, 0 mins elapsed.\n",
      "\n",
      "2020-04-24 03:12:32 : D8 (1 of 9) :  Computing Doublet Statistics, 0 mins elapsed.\n",
      "\n",
      "D8 (1 of 9) : UMAP Projection R^2 = 0.99751\n",
      "\n",
      "D8 (1 of 9) : UMAP Projection R^2 = 0.99751\n",
      "\n",
      "ggrastr is not available for rastr of points, continuing without rastr!\n",
      "\n",
      "To install ggrastr try : devtools::install_github('VPetukhov/ggrastr')\n",
      "\n",
      "ggrastr is not available for rastr of points, continuing without rastr!\n",
      "\n",
      "To install ggrastr try : devtools::install_github('VPetukhov/ggrastr')\n",
      "\n",
      "ggrastr is not available for rastr of points, continuing without rastr!\n",
      "\n",
      "To install ggrastr try : devtools::install_github('VPetukhov/ggrastr')\n",
      "\n",
      "2020-04-24 03:16:45 : H1 (2 of 9) :  Computing Doublet Statistics, 4.229 mins elapsed.\n",
      "\n",
      "H1 (2 of 9) : UMAP Projection R^2 = 0.70366\n",
      "\n",
      "H1 (2 of 9) : UMAP Projection R^2 = 0.70366\n",
      "\n",
      "H1 (2 of 9) : Correlation of UMAP Projection is below 0.9 (normally this is ~0.99)\n",
      "This means there is little heterogeneity in your sample and thus doubletCalling is inaccurate.\n",
      "force = FALSE, thus returning -1 doubletScores and doubletEnrichments!\n",
      "Set force = TRUE if you want to contniue (not recommended).\n",
      "\n",
      "H1 (2 of 9) : Correlation of UMAP Projection is below 0.9 (normally this is ~0.99)\n",
      "This means there is little heterogeneity in your sample and thus doubletCalling is inaccurate.\n",
      "force = FALSE, thus returning -1 doubletScores and doubletEnrichments!\n",
      "Set force = TRUE if you want to contniue (not recommended).\n",
      "\n",
      "ggrastr is not available for rastr of points, continuing without rastr!\n",
      "\n",
      "To install ggrastr try : devtools::install_github('VPetukhov/ggrastr')\n",
      "\n",
      "ggrastr is not available for rastr of points, continuing without rastr!\n",
      "\n",
      "To install ggrastr try : devtools::install_github('VPetukhov/ggrastr')\n",
      "\n",
      "ggrastr is not available for rastr of points, continuing without rastr!\n",
      "\n",
      "To install ggrastr try : devtools::install_github('VPetukhov/ggrastr')\n",
      "\n",
      "2020-04-24 03:20:26 : D6 (3 of 9) :  Computing Doublet Statistics, 7.91 mins elapsed.\n",
      "\n",
      "D6 (3 of 9) : UMAP Projection R^2 = 0.98708\n",
      "\n",
      "D6 (3 of 9) : UMAP Projection R^2 = 0.98708\n",
      "\n",
      "ggrastr is not available for rastr of points, continuing without rastr!\n",
      "\n",
      "To install ggrastr try : devtools::install_github('VPetukhov/ggrastr')\n",
      "\n",
      "ggrastr is not available for rastr of points, continuing without rastr!\n",
      "\n",
      "To install ggrastr try : devtools::install_github('VPetukhov/ggrastr')\n",
      "\n",
      "ggrastr is not available for rastr of points, continuing without rastr!\n",
      "\n",
      "To install ggrastr try : devtools::install_github('VPetukhov/ggrastr')\n",
      "\n",
      "2020-04-24 03:23:57 : D4 (4 of 9) :  Computing Doublet Statistics, 11.416 mins elapsed.\n",
      "\n",
      "D4 (4 of 9) : UMAP Projection R^2 = 0.99105\n",
      "\n",
      "D4 (4 of 9) : UMAP Projection R^2 = 0.99105\n",
      "\n",
      "ggrastr is not available for rastr of points, continuing without rastr!\n",
      "\n",
      "To install ggrastr try : devtools::install_github('VPetukhov/ggrastr')\n",
      "\n",
      "ggrastr is not available for rastr of points, continuing without rastr!\n",
      "\n",
      "To install ggrastr try : devtools::install_github('VPetukhov/ggrastr')\n",
      "\n",
      "ggrastr is not available for rastr of points, continuing without rastr!\n",
      "\n",
      "To install ggrastr try : devtools::install_github('VPetukhov/ggrastr')\n",
      "\n",
      "2020-04-24 03:27:14 : D0 (5 of 9) :  Computing Doublet Statistics, 14.7 mins elapsed.\n",
      "\n",
      "Filtering 1 dims correlated > 0.75 to log10(depth + 1)\n",
      "\n",
      "D0 (5 of 9) : UMAP Projection R^2 = 0.72168\n",
      "\n",
      "D0 (5 of 9) : UMAP Projection R^2 = 0.72168\n",
      "\n",
      "D0 (5 of 9) : Correlation of UMAP Projection is below 0.9 (normally this is ~0.99)\n",
      "This means there is little heterogeneity in your sample and thus doubletCalling is inaccurate.\n",
      "force = FALSE, thus returning -1 doubletScores and doubletEnrichments!\n",
      "Set force = TRUE if you want to contniue (not recommended).\n",
      "\n",
      "D0 (5 of 9) : Correlation of UMAP Projection is below 0.9 (normally this is ~0.99)\n",
      "This means there is little heterogeneity in your sample and thus doubletCalling is inaccurate.\n",
      "force = FALSE, thus returning -1 doubletScores and doubletEnrichments!\n",
      "Set force = TRUE if you want to contniue (not recommended).\n",
      "\n",
      "ggrastr is not available for rastr of points, continuing without rastr!\n",
      "\n",
      "To install ggrastr try : devtools::install_github('VPetukhov/ggrastr')\n",
      "\n",
      "ggrastr is not available for rastr of points, continuing without rastr!\n",
      "\n",
      "To install ggrastr try : devtools::install_github('VPetukhov/ggrastr')\n",
      "\n",
      "ggrastr is not available for rastr of points, continuing without rastr!\n",
      "\n",
      "To install ggrastr try : devtools::install_github('VPetukhov/ggrastr')\n",
      "\n",
      "2020-04-24 03:31:41 : D2 (6 of 9) :  Computing Doublet Statistics, 19.156 mins elapsed.\n",
      "\n"
     ]
    }
   ],
   "source": [
    "doubScores <- addDoubletScores(\n",
    "  input = ArrowFiles,\n",
    "  k = 10, #Refers to how many cells near a \"pseudo-doublet\" to count.\n",
    "  knnMethod = \"UMAP\", #Refers to the embedding to use for nearest neighbor search.\n",
    "  LSIMethod = 1\n",
    ")"
   ]
  },
  {
   "cell_type": "code",
   "execution_count": 45,
   "metadata": {},
   "outputs": [
    {
     "data": {
      "text/html": [
       "<style>\n",
       ".list-inline {list-style: none; margin:0; padding: 0}\n",
       ".list-inline>li {display: inline-block}\n",
       ".list-inline>li:not(:last-child)::after {content: \"\\00b7\"; padding: 0 .5ex}\n",
       "</style>\n",
       "<ol class=list-inline><li>'/srv/scratch/surag/scATAC-reprog/arrow/D8.arrow'</li><li>'/srv/scratch/surag/scATAC-reprog/arrow/H1.arrow'</li><li>'/srv/scratch/surag/scATAC-reprog/arrow/D6.arrow'</li><li>'/srv/scratch/surag/scATAC-reprog/arrow/D4.arrow'</li><li>'/srv/scratch/surag/scATAC-reprog/arrow/D0.arrow'</li><li>'/srv/scratch/surag/scATAC-reprog/arrow/D2.arrow'</li><li>'/srv/scratch/surag/scATAC-reprog/arrow/D14.arrow'</li><li>'/srv/scratch/surag/scATAC-reprog/arrow/D10.arrow'</li><li>'/srv/scratch/surag/scATAC-reprog/arrow/D12.arrow'</li></ol>\n"
      ],
      "text/latex": [
       "\\begin{enumerate*}\n",
       "\\item '/srv/scratch/surag/scATAC-reprog/arrow/D8.arrow'\n",
       "\\item '/srv/scratch/surag/scATAC-reprog/arrow/H1.arrow'\n",
       "\\item '/srv/scratch/surag/scATAC-reprog/arrow/D6.arrow'\n",
       "\\item '/srv/scratch/surag/scATAC-reprog/arrow/D4.arrow'\n",
       "\\item '/srv/scratch/surag/scATAC-reprog/arrow/D0.arrow'\n",
       "\\item '/srv/scratch/surag/scATAC-reprog/arrow/D2.arrow'\n",
       "\\item '/srv/scratch/surag/scATAC-reprog/arrow/D14.arrow'\n",
       "\\item '/srv/scratch/surag/scATAC-reprog/arrow/D10.arrow'\n",
       "\\item '/srv/scratch/surag/scATAC-reprog/arrow/D12.arrow'\n",
       "\\end{enumerate*}\n"
      ],
      "text/markdown": [
       "1. '/srv/scratch/surag/scATAC-reprog/arrow/D8.arrow'\n",
       "2. '/srv/scratch/surag/scATAC-reprog/arrow/H1.arrow'\n",
       "3. '/srv/scratch/surag/scATAC-reprog/arrow/D6.arrow'\n",
       "4. '/srv/scratch/surag/scATAC-reprog/arrow/D4.arrow'\n",
       "5. '/srv/scratch/surag/scATAC-reprog/arrow/D0.arrow'\n",
       "6. '/srv/scratch/surag/scATAC-reprog/arrow/D2.arrow'\n",
       "7. '/srv/scratch/surag/scATAC-reprog/arrow/D14.arrow'\n",
       "8. '/srv/scratch/surag/scATAC-reprog/arrow/D10.arrow'\n",
       "9. '/srv/scratch/surag/scATAC-reprog/arrow/D12.arrow'\n",
       "\n",
       "\n"
      ],
      "text/plain": [
       "[1] \"/srv/scratch/surag/scATAC-reprog/arrow/D8.arrow\" \n",
       "[2] \"/srv/scratch/surag/scATAC-reprog/arrow/H1.arrow\" \n",
       "[3] \"/srv/scratch/surag/scATAC-reprog/arrow/D6.arrow\" \n",
       "[4] \"/srv/scratch/surag/scATAC-reprog/arrow/D4.arrow\" \n",
       "[5] \"/srv/scratch/surag/scATAC-reprog/arrow/D0.arrow\" \n",
       "[6] \"/srv/scratch/surag/scATAC-reprog/arrow/D2.arrow\" \n",
       "[7] \"/srv/scratch/surag/scATAC-reprog/arrow/D14.arrow\"\n",
       "[8] \"/srv/scratch/surag/scATAC-reprog/arrow/D10.arrow\"\n",
       "[9] \"/srv/scratch/surag/scATAC-reprog/arrow/D12.arrow\""
      ]
     },
     "metadata": {},
     "output_type": "display_data"
    }
   ],
   "source": [
    "# moved files manually\n",
    "paste(\"/srv/scratch/surag/scATAC-reprog/arrow/\", ArrowFiles, sep='')"
   ]
  },
  {
   "cell_type": "code",
   "execution_count": null,
   "metadata": {},
   "outputs": [],
   "source": [
    "# Did not filter doublets since most cells seem to lie on continuum, making detection of doublets near impossible"
   ]
  },
  {
   "cell_type": "code",
   "execution_count": 5,
   "metadata": {},
   "outputs": [
    {
     "data": {
      "text/plain": [
       "R version 3.6.3 (2020-02-29)\n",
       "Platform: x86_64-conda_cos6-linux-gnu (64-bit)\n",
       "Running under: Ubuntu 18.04.4 LTS\n",
       "\n",
       "Matrix products: default\n",
       "BLAS/LAPACK: /users/surag/anaconda3/envs/r36_cran/lib/libopenblasp-r0.3.9.so\n",
       "\n",
       "locale:\n",
       " [1] LC_CTYPE=en_US.UTF-8       LC_NUMERIC=C              \n",
       " [3] LC_TIME=en_US.UTF-8        LC_COLLATE=en_US.UTF-8    \n",
       " [5] LC_MONETARY=en_US.UTF-8    LC_MESSAGES=en_US.UTF-8   \n",
       " [7] LC_PAPER=en_US.UTF-8       LC_NAME=C                 \n",
       " [9] LC_ADDRESS=C               LC_TELEPHONE=C            \n",
       "[11] LC_MEASUREMENT=en_US.UTF-8 LC_IDENTIFICATION=C       \n",
       "\n",
       "attached base packages:\n",
       "[1] parallel  stats4    stats     graphics  grDevices utils     datasets \n",
       "[8] methods   base     \n",
       "\n",
       "other attached packages:\n",
       " [1] ArchR_0.9.1                 magrittr_1.5               \n",
       " [3] rhdf5_2.30.1                Matrix_1.2-18              \n",
       " [5] data.table_1.12.8           SummarizedExperiment_1.16.1\n",
       " [7] DelayedArray_0.12.3         BiocParallel_1.20.1        \n",
       " [9] matrixStats_0.56.0          Biobase_2.46.0             \n",
       "[11] GenomicRanges_1.38.0        GenomeInfoDb_1.22.1        \n",
       "[13] IRanges_2.20.2              S4Vectors_0.24.4           \n",
       "[15] BiocGenerics_0.32.0         ggplot2_3.3.0              \n",
       "\n",
       "loaded via a namespace (and not attached):\n",
       " [1] pbdZMQ_0.3-3           tidyselect_1.0.0       repr_1.1.0            \n",
       " [4] purrr_0.3.3            lattice_0.20-41        colorspace_1.4-1      \n",
       " [7] vctrs_0.2.4            htmltools_0.4.0        base64enc_0.1-3       \n",
       "[10] rlang_0.4.5            pillar_1.4.3           glue_1.4.0            \n",
       "[13] withr_2.1.2            uuid_0.1-4             GenomeInfoDbData_1.2.2\n",
       "[16] lifecycle_0.2.0        zlibbioc_1.32.0        munsell_0.5.0         \n",
       "[19] gtable_0.3.0           evaluate_0.14          fansi_0.4.1           \n",
       "[22] IRdisplay_0.7.0        Rcpp_1.0.4.6           scales_1.1.0          \n",
       "[25] BiocManager_1.30.10    IRkernel_1.1           jsonlite_1.6.1        \n",
       "[28] XVector_0.26.0         digest_0.6.25          dplyr_0.8.5           \n",
       "[31] grid_3.6.3             cli_2.0.2              tools_3.6.3           \n",
       "[34] bitops_1.0-6           RCurl_1.98-1.1         tibble_3.0.0          \n",
       "[37] crayon_1.3.4           pkgconfig_2.0.3        ellipsis_0.3.0        \n",
       "[40] assertthat_0.2.1       Rhdf5lib_1.8.0         R6_2.4.1              \n",
       "[43] compiler_3.6.3        "
      ]
     },
     "metadata": {},
     "output_type": "display_data"
    }
   ],
   "source": [
    "sessionInfo()"
   ]
  }
 ],
 "metadata": {
  "kernelspec": {
   "display_name": "R",
   "language": "R",
   "name": "ir"
  },
  "language_info": {
   "codemirror_mode": "r",
   "file_extension": ".r",
   "mimetype": "text/x-r-source",
   "name": "R",
   "pygments_lexer": "r",
   "version": "3.6.3"
  }
 },
 "nbformat": 4,
 "nbformat_minor": 4
}
