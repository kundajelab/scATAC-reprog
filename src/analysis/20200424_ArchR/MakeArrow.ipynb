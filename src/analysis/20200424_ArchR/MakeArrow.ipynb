{
 "cells": [
  {
   "cell_type": "markdown",
   "metadata": {},
   "source": [
    "# Make Arrow Files\n",
    "\n",
    "Process raw data to make Arrow files."
   ]
  },
  {
   "cell_type": "code",
   "execution_count": 6,
   "metadata": {},
   "outputs": [],
   "source": [
    "library(ArchR)"
   ]
  },
  {
   "cell_type": "code",
   "execution_count": 7,
   "metadata": {},
   "outputs": [
    {
     "name": "stderr",
     "output_type": "stream",
     "text": [
      "Setting default number of Parallel threads to 48.\n",
      "\n"
     ]
    }
   ],
   "source": [
    "set.seed(1)\n",
    "addArchRThreads(threads = 48) "
   ]
  },
  {
   "cell_type": "code",
   "execution_count": 8,
   "metadata": {},
   "outputs": [
    {
     "name": "stderr",
     "output_type": "stream",
     "text": [
      "Setting default genome to Hg38.\n",
      "\n"
     ]
    }
   ],
   "source": [
    "addArchRGenome(\"hg38\")"
   ]
  },
  {
   "cell_type": "code",
   "execution_count": 9,
   "metadata": {},
   "outputs": [
    {
     "data": {
      "text/html": [
       "<style>\n",
       ".dl-inline {width: auto; margin:0; padding: 0}\n",
       ".dl-inline>dt, .dl-inline>dd {float: none; width: auto; display: inline-block}\n",
       ".dl-inline>dt::after {content: \":\\0020\"; padding-right: .5ex}\n",
       ".dl-inline>dt:not(:first-of-type) {padding-left: .5ex}\n",
       "</style><dl class=dl-inline><dt>D0</dt><dd>'/oak/stanford/groups/akundaje/surag/projects/scATAC-reprog/singlecell/chromap/outputs/D0.frag.bed.gz'</dd><dt>D10</dt><dd>'/oak/stanford/groups/akundaje/surag/projects/scATAC-reprog/singlecell/chromap/outputs/D10.frag.bed.gz'</dd><dt>D12</dt><dd>'/oak/stanford/groups/akundaje/surag/projects/scATAC-reprog/singlecell/chromap/outputs/D12.frag.bed.gz'</dd><dt>D14</dt><dd>'/oak/stanford/groups/akundaje/surag/projects/scATAC-reprog/singlecell/chromap/outputs/D14.frag.bed.gz'</dd><dt>D2</dt><dd>'/oak/stanford/groups/akundaje/surag/projects/scATAC-reprog/singlecell/chromap/outputs/D2.frag.bed.gz'</dd><dt>D4</dt><dd>'/oak/stanford/groups/akundaje/surag/projects/scATAC-reprog/singlecell/chromap/outputs/D4.frag.bed.gz'</dd><dt>D6</dt><dd>'/oak/stanford/groups/akundaje/surag/projects/scATAC-reprog/singlecell/chromap/outputs/D6.frag.bed.gz'</dd><dt>D8</dt><dd>'/oak/stanford/groups/akundaje/surag/projects/scATAC-reprog/singlecell/chromap/outputs/D8.frag.bed.gz'</dd><dt>iPSC</dt><dd>'/oak/stanford/groups/akundaje/surag/projects/scATAC-reprog/singlecell/chromap/outputs/iPSC.frag.bed.gz'</dd></dl>\n"
      ],
      "text/latex": [
       "\\begin{description*}\n",
       "\\item[D0] '/oak/stanford/groups/akundaje/surag/projects/scATAC-reprog/singlecell/chromap/outputs/D0.frag.bed.gz'\n",
       "\\item[D10] '/oak/stanford/groups/akundaje/surag/projects/scATAC-reprog/singlecell/chromap/outputs/D10.frag.bed.gz'\n",
       "\\item[D12] '/oak/stanford/groups/akundaje/surag/projects/scATAC-reprog/singlecell/chromap/outputs/D12.frag.bed.gz'\n",
       "\\item[D14] '/oak/stanford/groups/akundaje/surag/projects/scATAC-reprog/singlecell/chromap/outputs/D14.frag.bed.gz'\n",
       "\\item[D2] '/oak/stanford/groups/akundaje/surag/projects/scATAC-reprog/singlecell/chromap/outputs/D2.frag.bed.gz'\n",
       "\\item[D4] '/oak/stanford/groups/akundaje/surag/projects/scATAC-reprog/singlecell/chromap/outputs/D4.frag.bed.gz'\n",
       "\\item[D6] '/oak/stanford/groups/akundaje/surag/projects/scATAC-reprog/singlecell/chromap/outputs/D6.frag.bed.gz'\n",
       "\\item[D8] '/oak/stanford/groups/akundaje/surag/projects/scATAC-reprog/singlecell/chromap/outputs/D8.frag.bed.gz'\n",
       "\\item[iPSC] '/oak/stanford/groups/akundaje/surag/projects/scATAC-reprog/singlecell/chromap/outputs/iPSC.frag.bed.gz'\n",
       "\\end{description*}\n"
      ],
      "text/markdown": [
       "D0\n",
       ":   '/oak/stanford/groups/akundaje/surag/projects/scATAC-reprog/singlecell/chromap/outputs/D0.frag.bed.gz'D10\n",
       ":   '/oak/stanford/groups/akundaje/surag/projects/scATAC-reprog/singlecell/chromap/outputs/D10.frag.bed.gz'D12\n",
       ":   '/oak/stanford/groups/akundaje/surag/projects/scATAC-reprog/singlecell/chromap/outputs/D12.frag.bed.gz'D14\n",
       ":   '/oak/stanford/groups/akundaje/surag/projects/scATAC-reprog/singlecell/chromap/outputs/D14.frag.bed.gz'D2\n",
       ":   '/oak/stanford/groups/akundaje/surag/projects/scATAC-reprog/singlecell/chromap/outputs/D2.frag.bed.gz'D4\n",
       ":   '/oak/stanford/groups/akundaje/surag/projects/scATAC-reprog/singlecell/chromap/outputs/D4.frag.bed.gz'D6\n",
       ":   '/oak/stanford/groups/akundaje/surag/projects/scATAC-reprog/singlecell/chromap/outputs/D6.frag.bed.gz'D8\n",
       ":   '/oak/stanford/groups/akundaje/surag/projects/scATAC-reprog/singlecell/chromap/outputs/D8.frag.bed.gz'iPSC\n",
       ":   '/oak/stanford/groups/akundaje/surag/projects/scATAC-reprog/singlecell/chromap/outputs/iPSC.frag.bed.gz'\n",
       "\n"
      ],
      "text/plain": [
       "                                                                                                      D0 \n",
       "  \"/oak/stanford/groups/akundaje/surag/projects/scATAC-reprog/singlecell/chromap/outputs/D0.frag.bed.gz\" \n",
       "                                                                                                     D10 \n",
       " \"/oak/stanford/groups/akundaje/surag/projects/scATAC-reprog/singlecell/chromap/outputs/D10.frag.bed.gz\" \n",
       "                                                                                                     D12 \n",
       " \"/oak/stanford/groups/akundaje/surag/projects/scATAC-reprog/singlecell/chromap/outputs/D12.frag.bed.gz\" \n",
       "                                                                                                     D14 \n",
       " \"/oak/stanford/groups/akundaje/surag/projects/scATAC-reprog/singlecell/chromap/outputs/D14.frag.bed.gz\" \n",
       "                                                                                                      D2 \n",
       "  \"/oak/stanford/groups/akundaje/surag/projects/scATAC-reprog/singlecell/chromap/outputs/D2.frag.bed.gz\" \n",
       "                                                                                                      D4 \n",
       "  \"/oak/stanford/groups/akundaje/surag/projects/scATAC-reprog/singlecell/chromap/outputs/D4.frag.bed.gz\" \n",
       "                                                                                                      D6 \n",
       "  \"/oak/stanford/groups/akundaje/surag/projects/scATAC-reprog/singlecell/chromap/outputs/D6.frag.bed.gz\" \n",
       "                                                                                                      D8 \n",
       "  \"/oak/stanford/groups/akundaje/surag/projects/scATAC-reprog/singlecell/chromap/outputs/D8.frag.bed.gz\" \n",
       "                                                                                                    iPSC \n",
       "\"/oak/stanford/groups/akundaje/surag/projects/scATAC-reprog/singlecell/chromap/outputs/iPSC.frag.bed.gz\" "
      ]
     },
     "metadata": {},
     "output_type": "display_data"
    }
   ],
   "source": [
    "FRAG_BASE = \"/oak/stanford/groups/akundaje/surag/projects/scATAC-reprog/singlecell/chromap/outputs/\"\n",
    "frag.files =  list.files(FRAG_BASE, pattern=\"*gz$\")\n",
    "sample.names = lapply(strsplit(frag.files, \"\\\\.\"), \"[[\", 1)\n",
    "frag.files = paste(FRAG_BASE, frag.files, sep='')\n",
    "names(frag.files) = sample.names\n",
    "\n",
    "frag.files"
   ]
  },
  {
   "cell_type": "code",
   "execution_count": 11,
   "metadata": {},
   "outputs": [
    {
     "name": "stderr",
     "output_type": "stream",
     "text": [
      "filterFrags is no longer a valid input. Please use minFrags! Setting filterFrags value to minFrags!\n",
      "\n",
      "filterTSS is no longer a valid input. Please use minTSS! Setting filterTSS value to minTSS!\n",
      "\n",
      "Using GeneAnnotation set by addArchRGenome(Hg38)!\n",
      "\n",
      "Using GeneAnnotation set by addArchRGenome(Hg38)!\n",
      "\n",
      "ArchR logging to : ArchRLogs/ArchR-createArrows-1470b4757495de-Date-2021-07-13_Time-22-21-52.log\n",
      "If there is an issue, please report to github with logFile!\n",
      "\n",
      "Cleaning Temporary Files\n",
      "\n",
      "2021-07-13 22:21:53 : Batch Execution w/ safelapply!, 0 mins elapsed.\n",
      "\n",
      "ArchR logging successful to : ArchRLogs/ArchR-createArrows-1470b4757495de-Date-2021-07-13_Time-22-21-52.log\n",
      "\n"
     ]
    }
   ],
   "source": [
    "ArrowFiles <- createArrowFiles(\n",
    "  inputFiles = frag.files,\n",
    "  sampleNames = names(frag.files),\n",
    "  filterTSS = 4, #Dont set this too high because you can always increase later\n",
    "  filterFrags = 1000, \n",
    "  addTileMat = TRUE,\n",
    "  addGeneScoreMat = TRUE\n",
    ")"
   ]
  },
  {
   "cell_type": "code",
   "execution_count": 13,
   "metadata": {},
   "outputs": [
    {
     "data": {
      "text/html": [
       "<style>\n",
       ".list-inline {list-style: none; margin:0; padding: 0}\n",
       ".list-inline>li {display: inline-block}\n",
       ".list-inline>li:not(:last-child)::after {content: \"\\00b7\"; padding: 0 .5ex}\n",
       "</style>\n",
       "<ol class=list-inline><li>'iPSC.arrow'</li><li>'D8.arrow'</li><li>'D6.arrow'</li><li>'D4.arrow'</li><li>'D0.arrow'</li><li>'D14.arrow'</li><li>'D2.arrow'</li><li>'D10.arrow'</li><li>'D12.arrow'</li></ol>\n"
      ],
      "text/latex": [
       "\\begin{enumerate*}\n",
       "\\item 'iPSC.arrow'\n",
       "\\item 'D8.arrow'\n",
       "\\item 'D6.arrow'\n",
       "\\item 'D4.arrow'\n",
       "\\item 'D0.arrow'\n",
       "\\item 'D14.arrow'\n",
       "\\item 'D2.arrow'\n",
       "\\item 'D10.arrow'\n",
       "\\item 'D12.arrow'\n",
       "\\end{enumerate*}\n"
      ],
      "text/markdown": [
       "1. 'iPSC.arrow'\n",
       "2. 'D8.arrow'\n",
       "3. 'D6.arrow'\n",
       "4. 'D4.arrow'\n",
       "5. 'D0.arrow'\n",
       "6. 'D14.arrow'\n",
       "7. 'D2.arrow'\n",
       "8. 'D10.arrow'\n",
       "9. 'D12.arrow'\n",
       "\n",
       "\n"
      ],
      "text/plain": [
       "[1] \"iPSC.arrow\" \"D8.arrow\"   \"D6.arrow\"   \"D4.arrow\"   \"D0.arrow\"  \n",
       "[6] \"D14.arrow\"  \"D2.arrow\"   \"D10.arrow\"  \"D12.arrow\" "
      ]
     },
     "metadata": {},
     "output_type": "display_data"
    }
   ],
   "source": [
    "ArrowFiles"
   ]
  },
  {
   "cell_type": "code",
   "execution_count": 14,
   "metadata": {},
   "outputs": [],
   "source": [
    "# rds to tsv\n",
    "for (x in c(\"D0\",\n",
    "\"D2\",\n",
    "\"D4\",\n",
    "\"D6\",\n",
    "\"D8\",\n",
    "\"D10\",\n",
    "\"D12\",\n",
    "\"D14\",\n",
    "\"iPSC\")) {\n",
    "    r = readRDS(sprintf(\"./QualityControl/%s/%s-Pre-Filter-Metadata.rds\", x, x))\n",
    "    write.table(r, sprintf(\"./QualityControl/%s/%s-Pre-Filter-Metadata.tsv\", x, x), sep='\\t', row.names=F, quote=F)\n",
    "}"
   ]
  },
  {
   "cell_type": "code",
   "execution_count": 15,
   "metadata": {},
   "outputs": [
    {
     "name": "stderr",
     "output_type": "stream",
     "text": [
      "ArchR logging to : ArchRLogs/ArchR-addDoubletScores-1470b444919248-Date-2021-07-13_Time-22-55-48.log\n",
      "If there is an issue, please report to github with logFile!\n",
      "\n",
      "2021-07-13 22:55:49 : Batch Execution w/ safelapply!, 0 mins elapsed.\n",
      "\n",
      "2021-07-13 22:55:49 : iPSC (1 of 9) :  Computing Doublet Statistics, 0.001 mins elapsed.\n",
      "\n",
      "Filtering 1 dims correlated > 0.75 to log10(depth + 1)\n",
      "\n",
      "iPSC (1 of 9) : UMAP Projection R^2 = 0.85733\n",
      "\n",
      "iPSC (1 of 9) : UMAP Projection R^2 = 0.85733\n",
      "\n",
      "2021-07-13 23:01:40 : D8 (2 of 9) :  Computing Doublet Statistics, 5.848 mins elapsed.\n",
      "\n",
      "D8 (2 of 9) : UMAP Projection R^2 = 0.98805\n",
      "\n",
      "D8 (2 of 9) : UMAP Projection R^2 = 0.98805\n",
      "\n",
      "2021-07-13 23:06:39 : D6 (3 of 9) :  Computing Doublet Statistics, 10.836 mins elapsed.\n",
      "\n",
      "D6 (3 of 9) : UMAP Projection R^2 = 0.9915\n",
      "\n",
      "D6 (3 of 9) : UMAP Projection R^2 = 0.9915\n",
      "\n",
      "2021-07-13 23:11:47 : D4 (4 of 9) :  Computing Doublet Statistics, 15.977 mins elapsed.\n",
      "\n",
      "D4 (4 of 9) : UMAP Projection R^2 = 0.99617\n",
      "\n",
      "D4 (4 of 9) : UMAP Projection R^2 = 0.99617\n",
      "\n",
      "2021-07-13 23:16:21 : D0 (5 of 9) :  Computing Doublet Statistics, 20.539 mins elapsed.\n",
      "\n",
      "Filtering 1 dims correlated > 0.75 to log10(depth + 1)\n",
      "\n",
      "Filtering 1 dims correlated > 0.75 to log10(depth + 1)\n",
      "\n",
      "D0 (5 of 9) : UMAP Projection R^2 = 0.92676\n",
      "\n",
      "D0 (5 of 9) : UMAP Projection R^2 = 0.92676\n",
      "\n",
      "2021-07-13 23:22:30 : D14 (6 of 9) :  Computing Doublet Statistics, 26.683 mins elapsed.\n",
      "\n",
      "D14 (6 of 9) : UMAP Projection R^2 = 0.97607\n",
      "\n",
      "D14 (6 of 9) : UMAP Projection R^2 = 0.97607\n",
      "\n",
      "2021-07-13 23:26:59 : D2 (7 of 9) :  Computing Doublet Statistics, 31.177 mins elapsed.\n",
      "\n",
      "D2 (7 of 9) : UMAP Projection R^2 = 0.98987\n",
      "\n",
      "D2 (7 of 9) : UMAP Projection R^2 = 0.98987\n",
      "\n",
      "2021-07-13 23:30:42 : D10 (8 of 9) :  Computing Doublet Statistics, 34.891 mins elapsed.\n",
      "\n",
      "Filtering 1 dims correlated > 0.75 to log10(depth + 1)\n",
      "\n",
      "D10 (8 of 9) : UMAP Projection R^2 = 0.97791\n",
      "\n",
      "D10 (8 of 9) : UMAP Projection R^2 = 0.97791\n",
      "\n",
      "2021-07-13 23:33:22 : D12 (9 of 9) :  Computing Doublet Statistics, 37.561 mins elapsed.\n",
      "\n",
      "D12 (9 of 9) : UMAP Projection R^2 = 0.97824\n",
      "\n",
      "D12 (9 of 9) : UMAP Projection R^2 = 0.97824\n",
      "\n",
      "ArchR logging successful to : ArchRLogs/ArchR-addDoubletScores-1470b444919248-Date-2021-07-13_Time-22-55-48.log\n",
      "\n"
     ]
    }
   ],
   "source": [
    "doubScores <- addDoubletScores(\n",
    "  input = ArrowFiles,\n",
    "  k = 10, #Refers to how many cells near a \"pseudo-doublet\" to count.\n",
    "  knnMethod = \"UMAP\", #Refers to the embedding to use for nearest neighbor search.\n",
    "  LSIMethod = 1\n",
    ")"
   ]
  },
  {
   "cell_type": "code",
   "execution_count": 16,
   "metadata": {},
   "outputs": [
    {
     "data": {
      "text/html": [
       "<style>\n",
       ".list-inline {list-style: none; margin:0; padding: 0}\n",
       ".list-inline>li {display: inline-block}\n",
       ".list-inline>li:not(:last-child)::after {content: \"\\00b7\"; padding: 0 .5ex}\n",
       "</style>\n",
       "<ol class=list-inline><li>'/srv/scratch/surag/scATAC-reprog/arrow/iPSC.arrow'</li><li>'/srv/scratch/surag/scATAC-reprog/arrow/D8.arrow'</li><li>'/srv/scratch/surag/scATAC-reprog/arrow/D6.arrow'</li><li>'/srv/scratch/surag/scATAC-reprog/arrow/D4.arrow'</li><li>'/srv/scratch/surag/scATAC-reprog/arrow/D0.arrow'</li><li>'/srv/scratch/surag/scATAC-reprog/arrow/D14.arrow'</li><li>'/srv/scratch/surag/scATAC-reprog/arrow/D2.arrow'</li><li>'/srv/scratch/surag/scATAC-reprog/arrow/D10.arrow'</li><li>'/srv/scratch/surag/scATAC-reprog/arrow/D12.arrow'</li></ol>\n"
      ],
      "text/latex": [
       "\\begin{enumerate*}\n",
       "\\item '/srv/scratch/surag/scATAC-reprog/arrow/iPSC.arrow'\n",
       "\\item '/srv/scratch/surag/scATAC-reprog/arrow/D8.arrow'\n",
       "\\item '/srv/scratch/surag/scATAC-reprog/arrow/D6.arrow'\n",
       "\\item '/srv/scratch/surag/scATAC-reprog/arrow/D4.arrow'\n",
       "\\item '/srv/scratch/surag/scATAC-reprog/arrow/D0.arrow'\n",
       "\\item '/srv/scratch/surag/scATAC-reprog/arrow/D14.arrow'\n",
       "\\item '/srv/scratch/surag/scATAC-reprog/arrow/D2.arrow'\n",
       "\\item '/srv/scratch/surag/scATAC-reprog/arrow/D10.arrow'\n",
       "\\item '/srv/scratch/surag/scATAC-reprog/arrow/D12.arrow'\n",
       "\\end{enumerate*}\n"
      ],
      "text/markdown": [
       "1. '/srv/scratch/surag/scATAC-reprog/arrow/iPSC.arrow'\n",
       "2. '/srv/scratch/surag/scATAC-reprog/arrow/D8.arrow'\n",
       "3. '/srv/scratch/surag/scATAC-reprog/arrow/D6.arrow'\n",
       "4. '/srv/scratch/surag/scATAC-reprog/arrow/D4.arrow'\n",
       "5. '/srv/scratch/surag/scATAC-reprog/arrow/D0.arrow'\n",
       "6. '/srv/scratch/surag/scATAC-reprog/arrow/D14.arrow'\n",
       "7. '/srv/scratch/surag/scATAC-reprog/arrow/D2.arrow'\n",
       "8. '/srv/scratch/surag/scATAC-reprog/arrow/D10.arrow'\n",
       "9. '/srv/scratch/surag/scATAC-reprog/arrow/D12.arrow'\n",
       "\n",
       "\n"
      ],
      "text/plain": [
       "[1] \"/srv/scratch/surag/scATAC-reprog/arrow/iPSC.arrow\"\n",
       "[2] \"/srv/scratch/surag/scATAC-reprog/arrow/D8.arrow\"  \n",
       "[3] \"/srv/scratch/surag/scATAC-reprog/arrow/D6.arrow\"  \n",
       "[4] \"/srv/scratch/surag/scATAC-reprog/arrow/D4.arrow\"  \n",
       "[5] \"/srv/scratch/surag/scATAC-reprog/arrow/D0.arrow\"  \n",
       "[6] \"/srv/scratch/surag/scATAC-reprog/arrow/D14.arrow\" \n",
       "[7] \"/srv/scratch/surag/scATAC-reprog/arrow/D2.arrow\"  \n",
       "[8] \"/srv/scratch/surag/scATAC-reprog/arrow/D10.arrow\" \n",
       "[9] \"/srv/scratch/surag/scATAC-reprog/arrow/D12.arrow\" "
      ]
     },
     "metadata": {},
     "output_type": "display_data"
    }
   ],
   "source": [
    "# moved files manually (krishna)\n",
    "paste(\"/srv/scratch/surag/scATAC-reprog/arrow/\", ArrowFiles, sep='')"
   ]
  },
  {
   "cell_type": "markdown",
   "metadata": {},
   "source": [
    "---"
   ]
  },
  {
   "cell_type": "code",
   "execution_count": 17,
   "metadata": {},
   "outputs": [
    {
     "data": {
      "text/plain": [
       "R version 3.6.3 (2020-02-29)\n",
       "Platform: x86_64-conda_cos6-linux-gnu (64-bit)\n",
       "Running under: Ubuntu 18.04.5 LTS\n",
       "\n",
       "Matrix products: default\n",
       "BLAS/LAPACK: /users/surag/anaconda3/envs/r36_cran/lib/libopenblasp-r0.3.9.so\n",
       "\n",
       "locale:\n",
       " [1] LC_CTYPE=en_US.UTF-8       LC_NUMERIC=C              \n",
       " [3] LC_TIME=en_US.UTF-8        LC_COLLATE=en_US.UTF-8    \n",
       " [5] LC_MONETARY=en_US.UTF-8    LC_MESSAGES=en_US.UTF-8   \n",
       " [7] LC_PAPER=en_US.UTF-8       LC_NAME=C                 \n",
       " [9] LC_ADDRESS=C               LC_TELEPHONE=C            \n",
       "[11] LC_MEASUREMENT=en_US.UTF-8 LC_IDENTIFICATION=C       \n",
       "\n",
       "attached base packages:\n",
       " [1] grid      parallel  stats4    stats     graphics  grDevices utils    \n",
       " [8] datasets  methods   base     \n",
       "\n",
       "other attached packages:\n",
       " [1] gridExtra_2.3                     nabor_0.5.0                      \n",
       " [3] Seurat_3.1.5                      BSgenome.Hsapiens.UCSC.hg38_1.4.1\n",
       " [5] BSgenome_1.54.0                   rtracklayer_1.46.0               \n",
       " [7] Biostrings_2.54.0                 XVector_0.26.0                   \n",
       " [9] ArchR_1.0.1                       magrittr_1.5                     \n",
       "[11] rhdf5_2.30.1                      Matrix_1.2-18                    \n",
       "[13] data.table_1.12.8                 SummarizedExperiment_1.16.1      \n",
       "[15] DelayedArray_0.12.3               BiocParallel_1.20.1              \n",
       "[17] matrixStats_0.56.0                Biobase_2.46.0                   \n",
       "[19] GenomicRanges_1.38.0              GenomeInfoDb_1.22.1              \n",
       "[21] IRanges_2.20.2                    S4Vectors_0.24.4                 \n",
       "[23] BiocGenerics_0.32.0               ggplot2_3.3.3                    \n",
       "\n",
       "loaded via a namespace (and not attached):\n",
       " [1] Rtsne_0.15               colorspace_1.4-1         ellipsis_0.3.1          \n",
       " [4] ggridges_0.5.2           IRdisplay_0.7.0          base64enc_0.1-3         \n",
       " [7] leiden_0.3.3             listenv_0.8.0            farver_2.0.3            \n",
       "[10] npsurv_0.4-0             ggrepel_0.8.2            RSpectra_0.16-0         \n",
       "[13] codetools_0.2-16         splines_3.6.3            lsei_1.2-0              \n",
       "[16] IRkernel_1.1             jsonlite_1.6.1           Rsamtools_2.2.3         \n",
       "[19] Cairo_1.5-12.2           ica_1.0-2                cluster_2.1.0           \n",
       "[22] png_0.1-7                uwot_0.1.8               sctransform_0.2.1       \n",
       "[25] compiler_3.6.3           httr_1.4.1               lazyeval_0.2.2          \n",
       "[28] htmltools_0.5.1.1        tools_3.6.3              rsvd_1.0.3              \n",
       "[31] igraph_1.2.6             gtable_0.3.0             glue_1.4.2              \n",
       "[34] GenomeInfoDbData_1.2.2   RANN_2.6.1               reshape2_1.4.4          \n",
       "[37] dplyr_1.0.2              rappdirs_0.3.1           Rcpp_1.0.5              \n",
       "[40] vctrs_0.3.4              ape_5.3                  nlme_3.1-147            \n",
       "[43] lmtest_0.9-37            stringr_1.4.0            globals_0.12.5          \n",
       "[46] lifecycle_0.2.0          irlba_2.3.3              XML_3.99-0.3            \n",
       "[49] future_1.16.0            zlibbioc_1.32.0          MASS_7.3-51.5           \n",
       "[52] zoo_1.8-7                scales_1.1.0             RColorBrewer_1.1-2      \n",
       "[55] reticulate_1.15          pbapply_1.4-2            stringi_1.4.6           \n",
       "[58] repr_1.1.0               rlang_0.4.11             pkgconfig_2.0.3         \n",
       "[61] bitops_1.0-6             evaluate_0.14            lattice_0.20-41         \n",
       "[64] ROCR_1.0-11              purrr_0.3.4              Rhdf5lib_1.8.0          \n",
       "[67] GenomicAlignments_1.22.1 patchwork_1.0.0          htmlwidgets_1.5.1       \n",
       "[70] labeling_0.3             cowplot_1.0.0            tidyselect_1.1.0        \n",
       "[73] RcppAnnoy_0.0.16         plyr_1.8.6               R6_2.4.1                \n",
       "[76] generics_0.0.2           pbdZMQ_0.3-3             pillar_1.4.6            \n",
       "[79] withr_2.1.2              fitdistrplus_1.0-14      survival_3.1-12         \n",
       "[82] RCurl_1.98-1.1           tibble_3.0.3             future.apply_1.5.0      \n",
       "[85] tsne_0.1-3               crayon_1.3.4             uuid_0.1-4              \n",
       "[88] KernSmooth_2.23-16       plotly_4.9.2.1           digest_0.6.25           \n",
       "[91] tidyr_1.1.2              munsell_0.5.0            viridisLite_0.3.0       "
      ]
     },
     "metadata": {},
     "output_type": "display_data"
    }
   ],
   "source": [
    "sessionInfo()"
   ]
  },
  {
   "cell_type": "code",
   "execution_count": null,
   "metadata": {},
   "outputs": [],
   "source": []
  }
 ],
 "metadata": {
  "kernelspec": {
   "display_name": "R",
   "language": "R",
   "name": "ir"
  },
  "language_info": {
   "codemirror_mode": "r",
   "file_extension": ".r",
   "mimetype": "text/x-r-source",
   "name": "R",
   "pygments_lexer": "r",
   "version": "3.6.3"
  }
 },
 "nbformat": 4,
 "nbformat_minor": 4
}
