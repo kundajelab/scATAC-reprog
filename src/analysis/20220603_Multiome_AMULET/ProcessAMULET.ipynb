{
 "cells": [
  {
   "cell_type": "markdown",
   "metadata": {},
   "source": [
    "# Process AMULET\n",
    "\n",
    "Look at AMULET results and write final set of doublets. ArchR doublet scores look wonky (high for keratinocyte-like cells), so will be using AMULET."
   ]
  },
  {
   "cell_type": "code",
   "execution_count": 12,
   "metadata": {},
   "outputs": [],
   "source": [
    "library(ggplot2)\n",
    "library(patchwork)"
   ]
  },
  {
   "cell_type": "code",
   "execution_count": null,
   "metadata": {},
   "outputs": [],
   "source": []
  },
  {
   "cell_type": "code",
   "execution_count": 5,
   "metadata": {},
   "outputs": [],
   "source": [
    "d1m_amulet_doub = as.character(unlist(read.table(\"./AMULET/D1M/MultipletBarcodes_01.txt\")$V1))\n",
    "d2m_amulet_doub = as.character(unlist(read.table(\"./AMULET/D2M/MultipletBarcodes_01.txt\")$V1))"
   ]
  },
  {
   "cell_type": "code",
   "execution_count": 6,
   "metadata": {},
   "outputs": [
    {
     "data": {
      "text/html": [
       "<table>\n",
       "<caption>A data.frame: 6 × 8</caption>\n",
       "<thead>\n",
       "\t<tr><th></th><th scope=col>Cell.Id</th><th scope=col>Number.of.Valid.Reads</th><th scope=col>Number.of.Overlaps</th><th scope=col>Barcode</th><th scope=col>Total.Number.of.Reads</th><th scope=col>logr</th><th scope=col>doub</th><th scope=col>frac</th></tr>\n",
       "\t<tr><th></th><th scope=col>&lt;fct&gt;</th><th scope=col>&lt;int&gt;</th><th scope=col>&lt;int&gt;</th><th scope=col>&lt;fct&gt;</th><th scope=col>&lt;int&gt;</th><th scope=col>&lt;dbl&gt;</th><th scope=col>&lt;lgl&gt;</th><th scope=col>&lt;dbl&gt;</th></tr>\n",
       "</thead>\n",
       "<tbody>\n",
       "\t<tr><th scope=row>1</th><td>AAAAAAAAAAACATGCTACGCCAC</td><td>10090</td><td>24</td><td>AAAAAAAAAAACATGCTACGCCAC</td><td>11903</td><td>4.003891</td><td>FALSE</td><td>0.0023785927</td></tr>\n",
       "\t<tr><th scope=row>2</th><td>AAAAAAAAAAACATGCTATTAGCC</td><td> 6215</td><td> 3</td><td>AAAAAAAAAAACATGCTATTAGCC</td><td> 6736</td><td>3.793441</td><td>FALSE</td><td>0.0004827031</td></tr>\n",
       "\t<tr><th scope=row>3</th><td>AAAAAAAAAAACATGCTCACCCTC</td><td>25353</td><td>50</td><td>AAAAAAAAAAACATGCTCACCCTC</td><td>28369</td><td>4.404029</td><td>FALSE</td><td>0.0019721532</td></tr>\n",
       "\t<tr><th scope=row>4</th><td>AAAAAAAAAAACATGCTTGAGAAC</td><td>25884</td><td>47</td><td>AAAAAAAAAAACATGCTTGAGAAC</td><td>28635</td><td>4.413031</td><td>FALSE</td><td>0.0018157935</td></tr>\n",
       "\t<tr><th scope=row>5</th><td>AAAAAAAAAAACCATGAACCTTGT</td><td>30118</td><td>84</td><td>AAAAAAAAAAACCATGAACCTTGT</td><td>33869</td><td>4.478826</td><td>FALSE</td><td>0.0027890298</td></tr>\n",
       "\t<tr><th scope=row>6</th><td>AAAAAAAAAAACCATGACGCCTAT</td><td> 8223</td><td> 9</td><td>AAAAAAAAAAACCATGACGCCTAT</td><td> 8975</td><td>3.915030</td><td>FALSE</td><td>0.0010944911</td></tr>\n",
       "</tbody>\n",
       "</table>\n"
      ],
      "text/latex": [
       "A data.frame: 6 × 8\n",
       "\\begin{tabular}{r|llllllll}\n",
       "  & Cell.Id & Number.of.Valid.Reads & Number.of.Overlaps & Barcode & Total.Number.of.Reads & logr & doub & frac\\\\\n",
       "  & <fct> & <int> & <int> & <fct> & <int> & <dbl> & <lgl> & <dbl>\\\\\n",
       "\\hline\n",
       "\t1 & AAAAAAAAAAACATGCTACGCCAC & 10090 & 24 & AAAAAAAAAAACATGCTACGCCAC & 11903 & 4.003891 & FALSE & 0.0023785927\\\\\n",
       "\t2 & AAAAAAAAAAACATGCTATTAGCC &  6215 &  3 & AAAAAAAAAAACATGCTATTAGCC &  6736 & 3.793441 & FALSE & 0.0004827031\\\\\n",
       "\t3 & AAAAAAAAAAACATGCTCACCCTC & 25353 & 50 & AAAAAAAAAAACATGCTCACCCTC & 28369 & 4.404029 & FALSE & 0.0019721532\\\\\n",
       "\t4 & AAAAAAAAAAACATGCTTGAGAAC & 25884 & 47 & AAAAAAAAAAACATGCTTGAGAAC & 28635 & 4.413031 & FALSE & 0.0018157935\\\\\n",
       "\t5 & AAAAAAAAAAACCATGAACCTTGT & 30118 & 84 & AAAAAAAAAAACCATGAACCTTGT & 33869 & 4.478826 & FALSE & 0.0027890298\\\\\n",
       "\t6 & AAAAAAAAAAACCATGACGCCTAT &  8223 &  9 & AAAAAAAAAAACCATGACGCCTAT &  8975 & 3.915030 & FALSE & 0.0010944911\\\\\n",
       "\\end{tabular}\n"
      ],
      "text/markdown": [
       "\n",
       "A data.frame: 6 × 8\n",
       "\n",
       "| <!--/--> | Cell.Id &lt;fct&gt; | Number.of.Valid.Reads &lt;int&gt; | Number.of.Overlaps &lt;int&gt; | Barcode &lt;fct&gt; | Total.Number.of.Reads &lt;int&gt; | logr &lt;dbl&gt; | doub &lt;lgl&gt; | frac &lt;dbl&gt; |\n",
       "|---|---|---|---|---|---|---|---|---|\n",
       "| 1 | AAAAAAAAAAACATGCTACGCCAC | 10090 | 24 | AAAAAAAAAAACATGCTACGCCAC | 11903 | 4.003891 | FALSE | 0.0023785927 |\n",
       "| 2 | AAAAAAAAAAACATGCTATTAGCC |  6215 |  3 | AAAAAAAAAAACATGCTATTAGCC |  6736 | 3.793441 | FALSE | 0.0004827031 |\n",
       "| 3 | AAAAAAAAAAACATGCTCACCCTC | 25353 | 50 | AAAAAAAAAAACATGCTCACCCTC | 28369 | 4.404029 | FALSE | 0.0019721532 |\n",
       "| 4 | AAAAAAAAAAACATGCTTGAGAAC | 25884 | 47 | AAAAAAAAAAACATGCTTGAGAAC | 28635 | 4.413031 | FALSE | 0.0018157935 |\n",
       "| 5 | AAAAAAAAAAACCATGAACCTTGT | 30118 | 84 | AAAAAAAAAAACCATGAACCTTGT | 33869 | 4.478826 | FALSE | 0.0027890298 |\n",
       "| 6 | AAAAAAAAAAACCATGACGCCTAT |  8223 |  9 | AAAAAAAAAAACCATGACGCCTAT |  8975 | 3.915030 | FALSE | 0.0010944911 |\n",
       "\n"
      ],
      "text/plain": [
       "  Cell.Id                  Number.of.Valid.Reads Number.of.Overlaps\n",
       "1 AAAAAAAAAAACATGCTACGCCAC 10090                 24                \n",
       "2 AAAAAAAAAAACATGCTATTAGCC  6215                  3                \n",
       "3 AAAAAAAAAAACATGCTCACCCTC 25353                 50                \n",
       "4 AAAAAAAAAAACATGCTTGAGAAC 25884                 47                \n",
       "5 AAAAAAAAAAACCATGAACCTTGT 30118                 84                \n",
       "6 AAAAAAAAAAACCATGACGCCTAT  8223                  9                \n",
       "  Barcode                  Total.Number.of.Reads logr     doub  frac        \n",
       "1 AAAAAAAAAAACATGCTACGCCAC 11903                 4.003891 FALSE 0.0023785927\n",
       "2 AAAAAAAAAAACATGCTATTAGCC  6736                 3.793441 FALSE 0.0004827031\n",
       "3 AAAAAAAAAAACATGCTCACCCTC 28369                 4.404029 FALSE 0.0019721532\n",
       "4 AAAAAAAAAAACATGCTTGAGAAC 28635                 4.413031 FALSE 0.0018157935\n",
       "5 AAAAAAAAAAACCATGAACCTTGT 33869                 4.478826 FALSE 0.0027890298\n",
       "6 AAAAAAAAAAACCATGACGCCTAT  8975                 3.915030 FALSE 0.0010944911"
      ]
     },
     "metadata": {},
     "output_type": "display_data"
    }
   ],
   "source": [
    "d1m_osum = read.table(\"./AMULET/D1M/OverlapSummary.txt\", header=T, sep='\\t')\n",
    "d1m_osum$logr = log10(d1m_osum$Number.of.Valid.Reads)\n",
    "d1m_osum$doub = as.character(d1m_osum$Cell.Id) %in% d1m_amulet_doub\n",
    "d1m_osum$frac = d1m_osum$Number.of.Overlaps/d1m_osum$Number.of.Valid.Reads\n",
    "head(d1m_osum)"
   ]
  },
  {
   "cell_type": "code",
   "execution_count": 7,
   "metadata": {},
   "outputs": [
    {
     "data": {
      "text/html": [
       "<table>\n",
       "<caption>A data.frame: 6 × 8</caption>\n",
       "<thead>\n",
       "\t<tr><th></th><th scope=col>Cell.Id</th><th scope=col>Number.of.Valid.Reads</th><th scope=col>Number.of.Overlaps</th><th scope=col>Barcode</th><th scope=col>Total.Number.of.Reads</th><th scope=col>logr</th><th scope=col>doub</th><th scope=col>frac</th></tr>\n",
       "\t<tr><th></th><th scope=col>&lt;fct&gt;</th><th scope=col>&lt;int&gt;</th><th scope=col>&lt;int&gt;</th><th scope=col>&lt;fct&gt;</th><th scope=col>&lt;int&gt;</th><th scope=col>&lt;dbl&gt;</th><th scope=col>&lt;lgl&gt;</th><th scope=col>&lt;dbl&gt;</th></tr>\n",
       "</thead>\n",
       "<tbody>\n",
       "\t<tr><th scope=row>1</th><td>AAAAAAAAAAACATGCTAAGGTGC</td><td> 3339</td><td> 1</td><td>AAAAAAAAAAACATGCTAAGGTGC</td><td> 3676</td><td>3.523616</td><td>FALSE</td><td>0.0002994909</td></tr>\n",
       "\t<tr><th scope=row>2</th><td>AAAAAAAAAAACATGCTGACTTTG</td><td> 3937</td><td> 0</td><td>AAAAAAAAAAACATGCTGACTTTG</td><td> 4037</td><td>3.595165</td><td>FALSE</td><td>0.0000000000</td></tr>\n",
       "\t<tr><th scope=row>3</th><td>AAAAAAAAAAACATGCTGTCCATA</td><td>11108</td><td> 8</td><td>AAAAAAAAAAACATGCTGTCCATA</td><td>11912</td><td>4.045636</td><td>FALSE</td><td>0.0007202017</td></tr>\n",
       "\t<tr><th scope=row>4</th><td>AAAAAAAAAAACATGCTTGAGGCG</td><td> 8543</td><td>14</td><td>AAAAAAAAAAACATGCTTGAGGCG</td><td> 9713</td><td>3.931610</td><td>FALSE</td><td>0.0016387686</td></tr>\n",
       "\t<tr><th scope=row>5</th><td>AAAAAAAAAAACCATGACCTAGCT</td><td> 4315</td><td> 3</td><td>AAAAAAAAAAACCATGACCTAGCT</td><td> 4761</td><td>3.634981</td><td>FALSE</td><td>0.0006952491</td></tr>\n",
       "\t<tr><th scope=row>6</th><td>AAAAAAAAAAACCATGAGCCACCT</td><td>54342</td><td>86</td><td>AAAAAAAAAAACCATGAGCCACCT</td><td>56742</td><td>4.735136</td><td> TRUE</td><td>0.0015825697</td></tr>\n",
       "</tbody>\n",
       "</table>\n"
      ],
      "text/latex": [
       "A data.frame: 6 × 8\n",
       "\\begin{tabular}{r|llllllll}\n",
       "  & Cell.Id & Number.of.Valid.Reads & Number.of.Overlaps & Barcode & Total.Number.of.Reads & logr & doub & frac\\\\\n",
       "  & <fct> & <int> & <int> & <fct> & <int> & <dbl> & <lgl> & <dbl>\\\\\n",
       "\\hline\n",
       "\t1 & AAAAAAAAAAACATGCTAAGGTGC &  3339 &  1 & AAAAAAAAAAACATGCTAAGGTGC &  3676 & 3.523616 & FALSE & 0.0002994909\\\\\n",
       "\t2 & AAAAAAAAAAACATGCTGACTTTG &  3937 &  0 & AAAAAAAAAAACATGCTGACTTTG &  4037 & 3.595165 & FALSE & 0.0000000000\\\\\n",
       "\t3 & AAAAAAAAAAACATGCTGTCCATA & 11108 &  8 & AAAAAAAAAAACATGCTGTCCATA & 11912 & 4.045636 & FALSE & 0.0007202017\\\\\n",
       "\t4 & AAAAAAAAAAACATGCTTGAGGCG &  8543 & 14 & AAAAAAAAAAACATGCTTGAGGCG &  9713 & 3.931610 & FALSE & 0.0016387686\\\\\n",
       "\t5 & AAAAAAAAAAACCATGACCTAGCT &  4315 &  3 & AAAAAAAAAAACCATGACCTAGCT &  4761 & 3.634981 & FALSE & 0.0006952491\\\\\n",
       "\t6 & AAAAAAAAAAACCATGAGCCACCT & 54342 & 86 & AAAAAAAAAAACCATGAGCCACCT & 56742 & 4.735136 &  TRUE & 0.0015825697\\\\\n",
       "\\end{tabular}\n"
      ],
      "text/markdown": [
       "\n",
       "A data.frame: 6 × 8\n",
       "\n",
       "| <!--/--> | Cell.Id &lt;fct&gt; | Number.of.Valid.Reads &lt;int&gt; | Number.of.Overlaps &lt;int&gt; | Barcode &lt;fct&gt; | Total.Number.of.Reads &lt;int&gt; | logr &lt;dbl&gt; | doub &lt;lgl&gt; | frac &lt;dbl&gt; |\n",
       "|---|---|---|---|---|---|---|---|---|\n",
       "| 1 | AAAAAAAAAAACATGCTAAGGTGC |  3339 |  1 | AAAAAAAAAAACATGCTAAGGTGC |  3676 | 3.523616 | FALSE | 0.0002994909 |\n",
       "| 2 | AAAAAAAAAAACATGCTGACTTTG |  3937 |  0 | AAAAAAAAAAACATGCTGACTTTG |  4037 | 3.595165 | FALSE | 0.0000000000 |\n",
       "| 3 | AAAAAAAAAAACATGCTGTCCATA | 11108 |  8 | AAAAAAAAAAACATGCTGTCCATA | 11912 | 4.045636 | FALSE | 0.0007202017 |\n",
       "| 4 | AAAAAAAAAAACATGCTTGAGGCG |  8543 | 14 | AAAAAAAAAAACATGCTTGAGGCG |  9713 | 3.931610 | FALSE | 0.0016387686 |\n",
       "| 5 | AAAAAAAAAAACCATGACCTAGCT |  4315 |  3 | AAAAAAAAAAACCATGACCTAGCT |  4761 | 3.634981 | FALSE | 0.0006952491 |\n",
       "| 6 | AAAAAAAAAAACCATGAGCCACCT | 54342 | 86 | AAAAAAAAAAACCATGAGCCACCT | 56742 | 4.735136 |  TRUE | 0.0015825697 |\n",
       "\n"
      ],
      "text/plain": [
       "  Cell.Id                  Number.of.Valid.Reads Number.of.Overlaps\n",
       "1 AAAAAAAAAAACATGCTAAGGTGC  3339                  1                \n",
       "2 AAAAAAAAAAACATGCTGACTTTG  3937                  0                \n",
       "3 AAAAAAAAAAACATGCTGTCCATA 11108                  8                \n",
       "4 AAAAAAAAAAACATGCTTGAGGCG  8543                 14                \n",
       "5 AAAAAAAAAAACCATGACCTAGCT  4315                  3                \n",
       "6 AAAAAAAAAAACCATGAGCCACCT 54342                 86                \n",
       "  Barcode                  Total.Number.of.Reads logr     doub  frac        \n",
       "1 AAAAAAAAAAACATGCTAAGGTGC  3676                 3.523616 FALSE 0.0002994909\n",
       "2 AAAAAAAAAAACATGCTGACTTTG  4037                 3.595165 FALSE 0.0000000000\n",
       "3 AAAAAAAAAAACATGCTGTCCATA 11912                 4.045636 FALSE 0.0007202017\n",
       "4 AAAAAAAAAAACATGCTTGAGGCG  9713                 3.931610 FALSE 0.0016387686\n",
       "5 AAAAAAAAAAACCATGACCTAGCT  4761                 3.634981 FALSE 0.0006952491\n",
       "6 AAAAAAAAAAACCATGAGCCACCT 56742                 4.735136  TRUE 0.0015825697"
      ]
     },
     "metadata": {},
     "output_type": "display_data"
    }
   ],
   "source": [
    "d2m_osum = read.table(\"./AMULET/D2M/OverlapSummary.txt\", header=T, sep='\\t')\n",
    "d2m_osum$logr = log10(d2m_osum$Number.of.Valid.Reads)\n",
    "d2m_osum$doub = as.character(d2m_osum$Cell.Id) %in% d2m_amulet_doub\n",
    "d2m_osum$frac = d2m_osum$Number.of.Overlaps/d2m_osum$Number.of.Valid.Reads\n",
    "head(d2m_osum)"
   ]
  },
  {
   "cell_type": "code",
   "execution_count": 18,
   "metadata": {},
   "outputs": [
    {
     "data": {
      "text/html": [
       "5618"
      ],
      "text/latex": [
       "5618"
      ],
      "text/markdown": [
       "5618"
      ],
      "text/plain": [
       "[1] 5618"
      ]
     },
     "metadata": {},
     "output_type": "display_data"
    },
    {
     "data": {
      "text/html": [
       "7796"
      ],
      "text/latex": [
       "7796"
      ],
      "text/markdown": [
       "7796"
      ],
      "text/plain": [
       "[1] 7796"
      ]
     },
     "metadata": {},
     "output_type": "display_data"
    }
   ],
   "source": [
    "nrow(d1m_osum)\n",
    "nrow(d2m_osum)"
   ]
  },
  {
   "cell_type": "code",
   "execution_count": 8,
   "metadata": {},
   "outputs": [
    {
     "data": {
      "text/html": [
       "781"
      ],
      "text/latex": [
       "781"
      ],
      "text/markdown": [
       "781"
      ],
      "text/plain": [
       "[1] 781"
      ]
     },
     "metadata": {},
     "output_type": "display_data"
    },
    {
     "data": {
      "text/html": [
       "854"
      ],
      "text/latex": [
       "854"
      ],
      "text/markdown": [
       "854"
      ],
      "text/plain": [
       "[1] 854"
      ]
     },
     "metadata": {},
     "output_type": "display_data"
    }
   ],
   "source": [
    "length(d1m_amulet_doub)\n",
    "length(d2m_amulet_doub)"
   ]
  },
  {
   "cell_type": "code",
   "execution_count": null,
   "metadata": {},
   "outputs": [],
   "source": []
  },
  {
   "cell_type": "code",
   "execution_count": 16,
   "metadata": {},
   "outputs": [
    {
     "data": {
      "image/png": "[encoded data removed]",
      "text/plain": [
       "plot without title"
      ]
     },
     "metadata": {
      "image/png": {
       "height": 300,
       "width": 600
      },
      "text/plain": {
       "height": 300,
       "width": 600
      }
     },
     "output_type": "display_data"
    }
   ],
   "source": [
    "options(repr.plot.width = 10, repr.plot.height = 5)\n",
    "\n",
    "D1M_RANK = 5200\n",
    "D2M_RANK = 7300\n",
    "# look at distribution of normalized number of overlaps and choose a knee point\n",
    "ggplot(data.frame(x=seq(nrow(d1m_osum)), y=sort(d1m_osum$frac))) +\n",
    "geom_point(aes(x=x,y=y)) + geom_vline(xintercept = D1M_RANK, color='red') |\n",
    "ggplot(data.frame(x=seq(nrow(d2m_osum)), y=sort(d2m_osum$frac))) +\n",
    "geom_point(aes(x=x,y=y)) + geom_vline(xintercept = D2M_RANK, color='red')"
   ]
  },
  {
   "cell_type": "code",
   "execution_count": 21,
   "metadata": {},
   "outputs": [
    {
     "data": {
      "text/html": [
       "0.00348547033225401"
      ],
      "text/latex": [
       "0.00348547033225401"
      ],
      "text/markdown": [
       "0.00348547033225401"
      ],
      "text/plain": [
       "[1] 0.00348547"
      ]
     },
     "metadata": {},
     "output_type": "display_data"
    },
    {
     "data": {
      "text/html": [
       "0.00316125130573424"
      ],
      "text/latex": [
       "0.00316125130573424"
      ],
      "text/markdown": [
       "0.00316125130573424"
      ],
      "text/plain": [
       "[1] 0.003161251"
      ]
     },
     "metadata": {},
     "output_type": "display_data"
    }
   ],
   "source": [
    "d1m_frac_thresh = sort(d1m_osum$frac)[D1M_RANK]\n",
    "d2m_frac_thresh = sort(d2m_osum$frac)[D2M_RANK]\n",
    "d1m_frac_thresh\n",
    "d2m_frac_thresh"
   ]
  },
  {
   "cell_type": "markdown",
   "metadata": {},
   "source": [
    "How many of these are already called doublets?"
   ]
  },
  {
   "cell_type": "code",
   "execution_count": 23,
   "metadata": {},
   "outputs": [
    {
     "data": {
      "text/html": [
       "0.813397129186603"
      ],
      "text/latex": [
       "0.813397129186603"
      ],
      "text/markdown": [
       "0.813397129186603"
      ],
      "text/plain": [
       "[1] 0.8133971"
      ]
     },
     "metadata": {},
     "output_type": "display_data"
    },
    {
     "data": {
      "text/html": [
       "0.762096774193548"
      ],
      "text/latex": [
       "0.762096774193548"
      ],
      "text/markdown": [
       "0.762096774193548"
      ],
      "text/plain": [
       "[1] 0.7620968"
      ]
     },
     "metadata": {},
     "output_type": "display_data"
    }
   ],
   "source": [
    "mean(d1m_osum$Cell.Id[d1m_osum$frac > d1m_frac_thresh] %in% d1m_amulet_doub)\n",
    "mean(d2m_osum$Cell.Id[d2m_osum$frac > d2m_frac_thresh] %in% d2m_amulet_doub)"
   ]
  },
  {
   "cell_type": "markdown",
   "metadata": {},
   "source": [
    "We have more that would be best if called doublets. Add these to set."
   ]
  },
  {
   "cell_type": "code",
   "execution_count": 30,
   "metadata": {},
   "outputs": [],
   "source": [
    "d1m_final_doub = union(d1m_amulet_doub, d1m_osum$Cell.Id[d1m_osum$frac > d1m_frac_thresh])\n",
    "d2m_final_doub = union(d2m_amulet_doub, d2m_osum$Cell.Id[d2m_osum$frac > d2m_frac_thresh])"
   ]
  },
  {
   "cell_type": "code",
   "execution_count": 31,
   "metadata": {},
   "outputs": [
    {
     "data": {
      "text/html": [
       "859"
      ],
      "text/latex": [
       "859"
      ],
      "text/markdown": [
       "859"
      ],
      "text/plain": [
       "[1] 859"
      ]
     },
     "metadata": {},
     "output_type": "display_data"
    },
    {
     "data": {
      "text/html": [
       "972"
      ],
      "text/latex": [
       "972"
      ],
      "text/markdown": [
       "972"
      ],
      "text/plain": [
       "[1] 972"
      ]
     },
     "metadata": {},
     "output_type": "display_data"
    }
   ],
   "source": [
    "length(d1m_final_doub)\n",
    "length(d2m_final_doub)"
   ]
  },
  {
   "cell_type": "code",
   "execution_count": 36,
   "metadata": {},
   "outputs": [],
   "source": [
    "write.table(d1m_final_doub, \"./outs/20220607_w_knee_point/D1M_doublet.txt\", quote=F, row.names=F, col.names=F)\n",
    "write.table(d2m_final_doub, \"./outs/20220607_w_knee_point/D2M_doublet.txt\", quote=F, row.names=F, col.names=F)"
   ]
  },
  {
   "cell_type": "markdown",
   "metadata": {},
   "source": [
    "---"
   ]
  },
  {
   "cell_type": "code",
   "execution_count": 37,
   "metadata": {},
   "outputs": [
    {
     "data": {
      "text/plain": [
       "R version 3.6.3 (2020-02-29)\n",
       "Platform: x86_64-conda_cos6-linux-gnu (64-bit)\n",
       "Running under: Ubuntu 18.04.6 LTS\n",
       "\n",
       "Matrix products: default\n",
       "BLAS/LAPACK: /users/surag/anaconda3/envs/r36_cran/lib/libopenblasp-r0.3.9.so\n",
       "\n",
       "locale:\n",
       " [1] LC_CTYPE=en_US.UTF-8       LC_NUMERIC=C              \n",
       " [3] LC_TIME=en_US.UTF-8        LC_COLLATE=en_US.UTF-8    \n",
       " [5] LC_MONETARY=en_US.UTF-8    LC_MESSAGES=en_US.UTF-8   \n",
       " [7] LC_PAPER=en_US.UTF-8       LC_NAME=C                 \n",
       " [9] LC_ADDRESS=C               LC_TELEPHONE=C            \n",
       "[11] LC_MEASUREMENT=en_US.UTF-8 LC_IDENTIFICATION=C       \n",
       "\n",
       "attached base packages:\n",
       "[1] stats     graphics  grDevices utils     datasets  methods   base     \n",
       "\n",
       "other attached packages:\n",
       "[1] patchwork_1.0.0 ggplot2_3.3.3  \n",
       "\n",
       "loaded via a namespace (and not attached):\n",
       " [1] magrittr_1.5      tidyselect_1.1.0  munsell_0.5.0     uuid_0.1-4       \n",
       " [5] colorspace_1.4-1  R6_2.4.1          rlang_0.4.11      dplyr_1.0.2      \n",
       " [9] tools_3.6.3       grid_3.6.3        gtable_0.3.0      withr_2.1.2      \n",
       "[13] htmltools_0.5.1.1 ellipsis_0.3.1    digest_0.6.25     tibble_3.0.3     \n",
       "[17] lifecycle_0.2.0   crayon_1.3.4      IRdisplay_0.7.0   farver_2.0.3     \n",
       "[21] purrr_0.3.4       repr_1.1.0        base64enc_0.1-3   vctrs_0.3.4      \n",
       "[25] IRkernel_1.1      glue_1.4.2        evaluate_0.14     labeling_0.3     \n",
       "[29] pbdZMQ_0.3-3      compiler_3.6.3    pillar_1.4.6      generics_0.0.2   \n",
       "[33] scales_1.1.0      jsonlite_1.6.1    Cairo_1.5-12.2    pkgconfig_2.0.3  "
      ]
     },
     "metadata": {},
     "output_type": "display_data"
    }
   ],
   "source": [
    "sessionInfo()"
   ]
  },
  {
   "cell_type": "code",
   "execution_count": null,
   "metadata": {},
   "outputs": [],
   "source": []
  }
 ],
 "metadata": {
  "kernelspec": {
   "display_name": "R",
   "language": "R",
   "name": "ir"
  },
  "language_info": {
   "codemirror_mode": "r",
   "file_extension": ".r",
   "mimetype": "text/x-r-source",
   "name": "R",
   "pygments_lexer": "r",
   "version": "3.6.3"
  }
 },
 "nbformat": 4,
 "nbformat_minor": 4
}
