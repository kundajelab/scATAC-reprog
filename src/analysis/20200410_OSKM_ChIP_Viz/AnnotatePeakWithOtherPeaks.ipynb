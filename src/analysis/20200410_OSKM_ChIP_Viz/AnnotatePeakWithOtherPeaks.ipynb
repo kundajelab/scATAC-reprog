{
 "cells": [
  {
   "cell_type": "markdown",
   "metadata": {},
   "source": [
    "# Annotate Peaks with Other Peaks\n",
    "\n",
    "Perform intersections of peak sets with other peaks sets.\n",
    "\n",
    "**TODO**: Organize reference beds used and keep a copy of them in `resources`."
   ]
  },
  {
   "cell_type": "code",
   "execution_count": 8,
   "metadata": {},
   "outputs": [],
   "source": [
    "BASE=~/kundajelab/scATAC-reprog/\n",
    "BED_DIR=/oak/stanford/groups/akundaje/surag/GEO/GSE36570/bpnet/\n",
    "BED_NAMES=$(ls $BED_DIR/*bed | xargs -I{} basename -s \".bed\" {})\n",
    "RES=$BASE/resources/"
   ]
  },
  {
   "cell_type": "code",
   "execution_count": 5,
   "metadata": {},
   "outputs": [
    {
     "name": "stdout",
     "output_type": "stream",
     "text": [
      "KLF4.idr MYC.idr OCT4.rep1.10k SOX2.idr\n"
     ]
    }
   ],
   "source": [
    "echo $BED_NAMES"
   ]
  },
  {
   "cell_type": "code",
   "execution_count": 51,
   "metadata": {},
   "outputs": [],
   "source": [
    "# function definition that performs intersection of each cluster peak set \n",
    "# with reference peak set\n",
    "\n",
    "# arguments are REF_BED\n",
    "intersection_stats () {\n",
    "    TOT=$(cat $1 | wc -l)\n",
    "    printf \"TOTAL PEAKS : $TOT\\n\\n\"\n",
    "\n",
    "    (printf \"Cluster Intersect Total Percent\\n\" ;\n",
    "    for i in $BED_NAMES\n",
    "     do INT=$(bedtools intersect -b <(cat $1 |  cut -f1-3) \\\n",
    "       -a <(cat $BED_DIR/${i}.bed | awk -v OFS='\\t' '{mid=int(($2+$3)/2); print $1,mid-500,mid+500}') -c \\\n",
    "       | awk '$4>0{s+=1} END{print s}') ; \n",
    "       TOT=$(cat  $BED_DIR/${i}.bed | wc -l ) ; \n",
    "       FRAC=$(echo \"100*$INT/$TOT\" | bc -l | awk '{printf \"%.4f\\n\", $0}') ; \n",
    "       printf \"$i $INT $TOT $FRAC\\n\" \n",
    "    done) | column -t\n",
    "} "
   ]
  },
  {
   "cell_type": "code",
   "execution_count": 52,
   "metadata": {},
   "outputs": [
    {
     "name": "stdout",
     "output_type": "stream",
     "text": [
      "TOTAL PEAKS : 13360\n",
      "\n",
      "Cluster        Intersect  Total  Percent\n",
      "KLF4.idr       514        10752  4.7805\n",
      "MYC.idr        1222       14908  8.1969\n",
      "OCT4.rep1.10k  246        10000  2.4600\n",
      "SOX2.idr       223        12949  1.7221\n"
     ]
    }
   ],
   "source": [
    "# Intersect peaks in each cluster with H1-hESC ChIP peaks from GSE17917 (Lister et al 2009)\n",
    "cat $RES/GSE17917/KLF4.hg38.bed $RES/GSE17917/SOX2.hg38.bed $RES/GSE17917/OCT4.hg38.bed > tmp.bed\n",
    "\n",
    "intersection_stats tmp.bed\n",
    "\n",
    "rm tmp.bed"
   ]
  },
  {
   "cell_type": "code",
   "execution_count": 43,
   "metadata": {},
   "outputs": [
    {
     "name": "stdout",
     "output_type": "stream",
     "text": [
      "TOTAL PEAKS : 67553\n",
      "\n",
      "Cluster        Intersect  Total  Percent\n",
      "KLF4.idr       4233       10752  39.3694\n",
      "MYC.idr        8942       14908  59.9812\n",
      "OCT4.rep1.10k  2543       10000  25.4300\n",
      "SOX2.idr       2407       12949  18.5883\n"
     ]
    }
   ],
   "source": [
    "# Intersect peaks in each cluster with Histone ChIP peaks from GSE62777 (Cachiarelli et al 2015)\n",
    "zcat /oak/stanford/groups/akundaje/surag/GEO/GSE62777/croo/5dd_DOX_plus_H3K4me2/peak/overlap_reproducibility/overlap.optimal_peak.narrowPeak.gz > tmp.bed\n",
    "\n",
    "intersection_stats tmp.bed\n",
    "\n",
    "rm tmp.bed"
   ]
  },
  {
   "cell_type": "code",
   "execution_count": 44,
   "metadata": {},
   "outputs": [
    {
     "name": "stdout",
     "output_type": "stream",
     "text": [
      "TOTAL PEAKS : 149765\n",
      "\n",
      "Cluster        Intersect  Total  Percent\n",
      "KLF4.idr       2581       10752  24.0048\n",
      "MYC.idr        6865       14908  46.0491\n",
      "OCT4.rep1.10k  1112       10000  11.1200\n",
      "SOX2.idr       671        12949  5.1819\n"
     ]
    }
   ],
   "source": [
    "### Intersect peaks in each cluster with H1-hESC ATAC peaks\n",
    "REF=~/kundajelab/heterokaryon-v2/src/analysis/20191002_surag_heterokaryon_clustering/data/H1.hESC.atac.idr.peaks.liftover.to.hg38.bed\n",
    "\n",
    "intersection_stats $REF "
   ]
  },
  {
   "cell_type": "code",
   "execution_count": 45,
   "metadata": {},
   "outputs": [
    {
     "name": "stdout",
     "output_type": "stream",
     "text": [
      "TOTAL PEAKS : 188521\n",
      "\n",
      "Cluster        Intersect  Total  Percent\n",
      "KLF4.idr       10632      10752  98.8839\n",
      "MYC.idr        12700      14908  85.1892\n",
      "OCT4.rep1.10k  9772       10000  97.7200\n",
      "SOX2.idr       12818      12949  98.9883\n"
     ]
    }
   ],
   "source": [
    "# Intersect peaks in each cluster with Fibroblast D2 OSKM ChIP from GSE36570 (Soufi et al 2012)\n",
    "\n",
    "REF=$RES/GSE36570/All_48hrs_MTFBRs.hg38.bed.gz\n",
    "zcat $REF > tmp.bed\n",
    "\n",
    "intersection_stats tmp.bed\n",
    "\n",
    "rm tmp.bed"
   ]
  },
  {
   "cell_type": "code",
   "execution_count": 46,
   "metadata": {},
   "outputs": [
    {
     "name": "stdout",
     "output_type": "stream",
     "text": [
      "MRC5 \n",
      "TOTAL PEAKS : 250320\n",
      "\n",
      "Cluster        Intersect  Total  Percent\n",
      "KLF4.idr       4021       10752  37.3977\n",
      "MYC.idr        11832      14908  79.3668\n",
      "OCT4.rep1.10k  2757       10000  27.5700\n",
      "SOX2.idr       2596       12949  20.0479\n",
      "\n",
      "CC \n",
      "TOTAL PEAKS : 169066\n",
      "\n",
      "Cluster        Intersect  Total  Percent\n",
      "KLF4.idr       3451       10752  32.0964\n",
      "MYC.idr        10975      14908  73.6182\n",
      "OCT4.rep1.10k  2177       10000  21.7700\n",
      "SOX2.idr       1899       12949  14.6652\n",
      "\n",
      "3hr \n",
      "TOTAL PEAKS : 194478\n",
      "\n",
      "Cluster        Intersect  Total  Percent\n",
      "KLF4.idr       3767       10752  35.0353\n",
      "MYC.idr        10995      14908  73.7523\n",
      "OCT4.rep1.10k  2556       10000  25.5600\n",
      "SOX2.idr       2178       12949  16.8198\n",
      "\n",
      "16hr \n",
      "TOTAL PEAKS : 188309\n",
      "\n",
      "Cluster        Intersect  Total  Percent\n",
      "KLF4.idr       4055       10752  37.7139\n",
      "MYC.idr        11184      14908  75.0201\n",
      "OCT4.rep1.10k  2407       10000  24.0700\n",
      "SOX2.idr       1702       12949  13.1439\n",
      "\n",
      "48hr \n",
      "TOTAL PEAKS : 207973\n",
      "\n",
      "Cluster        Intersect  Total  Percent\n",
      "KLF4.idr       3897       10752  36.2444\n",
      "MYC.idr        11032      14908  74.0005\n",
      "OCT4.rep1.10k  2425       10000  24.2500\n",
      "SOX2.idr       1730       12949  13.3601\n"
     ]
    }
   ],
   "source": [
    "# Intersect peaks in each cluster with Heterokaryon peaks at MRC5/3hr/16hr\n",
    "printf \"MRC5 \\n\"\n",
    "REF=/oak/stanford/groups/akundaje/projects/heterokaryon/ATAC-Seq/Batch1/outputs/MRC5_hg38/cromwell-executions/atac/15e37be8-c0e9-4b85-ba0e-8b5c54103fcc/call-reproducibility_overlap/execution/optimal_peak.narrowPeak.gz\n",
    "zcat $REF > tmp.bed\n",
    "intersection_stats tmp.bed\n",
    "rm tmp.bed\n",
    "\n",
    "printf \"\\nCC \\n\"\n",
    "REF=/oak/stanford/groups/akundaje/projects/heterokaryon/ATAC-Seq/Batch1/outputs/CC_hg38/cromwell-executions/atac/8a3ac2dd-002d-41c5-88d6-a8c0787309dd/call-reproducibility_overlap/execution/optimal_peak.narrowPeak.gz\n",
    "zcat $REF > tmp.bed\n",
    "intersection_stats tmp.bed\n",
    "rm tmp.bed\n",
    "\n",
    "printf \"\\n3hr \\n\"\n",
    "REF=/oak/stanford/groups/akundaje/projects/heterokaryon/ATAC-Seq/Batch1/outputs/3hr_hg38/cromwell-executions/atac/47748a96-e66e-4f7a-b76f-6d2505e8e879/call-reproducibility_overlap/execution/optimal_peak.narrowPeak.gz\n",
    "zcat $REF > tmp.bed\n",
    "intersection_stats tmp.bed\n",
    "rm tmp.bed\n",
    "\n",
    "printf \"\\n16hr \\n\"\n",
    "REF=/oak/stanford/groups/akundaje/projects/heterokaryon/ATAC-Seq/Batch1/outputs/16hr_hg38/cromwell-executions/atac/171d7ae4-52db-4f56-8d6e-2270f3a6f827/call-reproducibility_overlap/execution/optimal_peak.narrowPeak.gz\n",
    "zcat $REF > tmp.bed\n",
    "intersection_stats tmp.bed\n",
    "rm tmp.bed\n",
    "\n",
    "printf \"\\n48hr \\n\"\n",
    "REF=/oak/stanford/groups/akundaje/projects/heterokaryon/ATAC-Seq/Batch1/outputs/48hr_hg38/cromwell-executions/atac/38d68228-cc1c-44fb-b771-6d33128a7f91/call-reproducibility_overlap/execution/optimal_peak.narrowPeak.gz\n",
    "zcat $REF > tmp.bed\n",
    "intersection_stats tmp.bed\n",
    "rm tmp.bed"
   ]
  },
  {
   "cell_type": "code",
   "execution_count": 47,
   "metadata": {},
   "outputs": [
    {
     "name": "stdout",
     "output_type": "stream",
     "text": [
      "\n",
      "D0 \n",
      "TOTAL PEAKS : 234319\n",
      "\n",
      "Cluster        Intersect  Total  Percent\n",
      "KLF4.idr       3344       10752  31.1012\n",
      "MYC.idr        11039      14908  74.0475\n",
      "OCT4.rep1.10k  1740       10000  17.4000\n",
      "SOX2.idr       1154       12949  8.9119\n",
      "\n",
      "D2 \n",
      "TOTAL PEAKS : 200667\n",
      "\n",
      "Cluster        Intersect  Total  Percent\n",
      "KLF4.idr       4979       10752  46.3077\n",
      "MYC.idr        10622      14908  71.2503\n",
      "OCT4.rep1.10k  2597       10000  25.9700\n",
      "SOX2.idr       1779       12949  13.7385\n",
      "\n",
      "D4 \n",
      "TOTAL PEAKS : 211534\n",
      "\n",
      "Cluster        Intersect  Total  Percent\n",
      "KLF4.idr       4677       10752  43.4989\n",
      "MYC.idr        11014      14908  73.8798\n",
      "OCT4.rep1.10k  2573       10000  25.7300\n",
      "SOX2.idr       1812       12949  13.9934\n",
      "\n",
      "D6 \n",
      "TOTAL PEAKS : 213146\n",
      "\n",
      "Cluster        Intersect  Total  Percent\n",
      "KLF4.idr       4719       10752  43.8895\n",
      "MYC.idr        10644      14908  71.3979\n",
      "OCT4.rep1.10k  2471       10000  24.7100\n",
      "SOX2.idr       1437       12949  11.0974\n",
      "\n",
      "D10 \n",
      "TOTAL PEAKS : 214189\n",
      "\n",
      "Cluster        Intersect  Total  Percent\n",
      "KLF4.idr       4121       10752  38.3278\n",
      "MYC.idr        10789      14908  72.3705\n",
      "OCT4.rep1.10k  1965       10000  19.6500\n",
      "SOX2.idr       1026       12949  7.9234\n",
      "\n",
      "D12 \n",
      "TOTAL PEAKS : 194640\n",
      "\n",
      "Cluster        Intersect  Total  Percent\n",
      "KLF4.idr       3724       10752  34.6354\n",
      "MYC.idr        9352       14908  62.7314\n",
      "OCT4.rep1.10k  1505       10000  15.0500\n",
      "SOX2.idr       578        12949  4.4637\n",
      "\n",
      "D14 \n",
      "TOTAL PEAKS : 192234\n",
      "\n",
      "Cluster        Intersect  Total  Percent\n",
      "KLF4.idr       3604       10752  33.5193\n",
      "MYC.idr        8831       14908  59.2367\n",
      "OCT4.rep1.10k  1310       10000  13.1000\n",
      "SOX2.idr       469        12949  3.6219\n",
      "\n",
      "iPSC \n",
      "TOTAL PEAKS : 212222\n",
      "\n",
      "Cluster        Intersect  Total  Percent\n",
      "KLF4.idr       3587       10752  33.3612\n",
      "MYC.idr        8700       14908  58.3579\n",
      "OCT4.rep1.10k  1496       10000  14.9600\n",
      "SOX2.idr       752        12949  5.8074\n"
     ]
    }
   ],
   "source": [
    "# Intersect peaks in each cluster with day-wise data to compare with hets \n",
    "\n",
    "for x in D0 D2 D4 D6 D10 D12 D14 iPSC\n",
    "    do \n",
    "        printf \"\\n$x \\n\"\n",
    "        REF=/oak/stanford/groups/akundaje/surag/projects/scATAC-reprog/bulk/croo/$x/peak/idr_reproducibility/idr.optimal_peak.narrowPeak.gz\n",
    "        zcat $REF > tmp.bed\n",
    "        intersection_stats tmp.bed \n",
    "        rm tmp.bed\n",
    "    done"
   ]
  },
  {
   "cell_type": "code",
   "execution_count": null,
   "metadata": {},
   "outputs": [],
   "source": []
  },
  {
   "cell_type": "code",
   "execution_count": null,
   "metadata": {},
   "outputs": [],
   "source": []
  },
  {
   "cell_type": "code",
   "execution_count": null,
   "metadata": {},
   "outputs": [],
   "source": []
  }
 ],
 "metadata": {
  "kernelspec": {
   "display_name": "Bash",
   "language": "bash",
   "name": "bash"
  },
  "language_info": {
   "codemirror_mode": "shell",
   "file_extension": ".sh",
   "mimetype": "text/x-sh",
   "name": "bash"
  }
 },
 "nbformat": 4,
 "nbformat_minor": 2
}
