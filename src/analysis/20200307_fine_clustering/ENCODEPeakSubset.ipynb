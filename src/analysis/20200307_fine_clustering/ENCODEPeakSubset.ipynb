{
 "cells": [
  {
   "cell_type": "markdown",
   "metadata": {},
   "source": [
    "# ENCODE Subset Peaks\n",
    "\n",
    "Given a subset of peaks, find out which cells in ENCODE have highest/lowest fraction of reads in those peaks."
   ]
  },
  {
   "cell_type": "code",
   "execution_count": null,
   "metadata": {},
   "outputs": [],
   "source": [
    "library(GenomicRanges)"
   ]
  },
  {
   "cell_type": "code",
   "execution_count": 2,
   "metadata": {},
   "outputs": [
    {
     "data": {
      "text/html": [
       "<table>\n",
       "<caption>A data.frame: 2 × 622</caption>\n",
       "<thead>\n",
       "\t<tr><th></th><th scope=col>ENCSR000EID</th><th scope=col>ENCSR000EIE</th><th scope=col>ENCSR000EIF</th><th scope=col>ENCSR000EIG</th><th scope=col>ENCSR000EII</th><th scope=col>ENCSR000EIL</th><th scope=col>ENCSR000EIN</th><th scope=col>ENCSR000EIV</th><th scope=col>ENCSR000EIW</th><th scope=col>ENCSR000EIY</th><th scope=col>⋯</th><th scope=col>ENCSR974TXT</th><th scope=col>ENCSR976XOY</th><th scope=col>ENCSR978QUT</th><th scope=col>ENCSR979ZJS</th><th scope=col>ENCSR986HEN</th><th scope=col>ENCSR986XLW</th><th scope=col>ENCSR988YKR</th><th scope=col>ENCSR989YIV</th><th scope=col>ENCSR990XXC</th><th scope=col>ENCSR999TSD</th></tr>\n",
       "\t<tr><th></th><th scope=col>&lt;int&gt;</th><th scope=col>&lt;int&gt;</th><th scope=col>&lt;int&gt;</th><th scope=col>&lt;int&gt;</th><th scope=col>&lt;int&gt;</th><th scope=col>&lt;int&gt;</th><th scope=col>&lt;int&gt;</th><th scope=col>&lt;int&gt;</th><th scope=col>&lt;int&gt;</th><th scope=col>&lt;int&gt;</th><th scope=col>⋯</th><th scope=col>&lt;int&gt;</th><th scope=col>&lt;int&gt;</th><th scope=col>&lt;int&gt;</th><th scope=col>&lt;int&gt;</th><th scope=col>&lt;int&gt;</th><th scope=col>&lt;int&gt;</th><th scope=col>&lt;int&gt;</th><th scope=col>&lt;int&gt;</th><th scope=col>&lt;int&gt;</th><th scope=col>&lt;int&gt;</th></tr>\n",
       "</thead>\n",
       "<tbody>\n",
       "\t<tr><th scope=row>chr1\t10370\t10641</th><td>28</td><td>9</td><td>17</td><td>8</td><td>49</td><td>28</td><td>7</td><td>11</td><td>20</td><td>33</td><td>⋯</td><td>2</td><td>1</td><td>0</td><td>3</td><td>2</td><td>12</td><td>0</td><td>15</td><td>3</td><td>1</td></tr>\n",
       "\t<tr><th scope=row>chr1\t10711\t11232</th><td>12</td><td>9</td><td> 5</td><td>9</td><td>44</td><td>39</td><td>2</td><td> 7</td><td>13</td><td>27</td><td>⋯</td><td>0</td><td>1</td><td>0</td><td>1</td><td>1</td><td> 2</td><td>0</td><td> 9</td><td>1</td><td>0</td></tr>\n",
       "</tbody>\n",
       "</table>\n"
      ],
      "text/latex": [
       "A data.frame: 2 × 622\n",
       "\\begin{tabular}{r|lllllllllllllllllllll}\n",
       "  & ENCSR000EID & ENCSR000EIE & ENCSR000EIF & ENCSR000EIG & ENCSR000EII & ENCSR000EIL & ENCSR000EIN & ENCSR000EIV & ENCSR000EIW & ENCSR000EIY & ⋯ & ENCSR974TXT & ENCSR976XOY & ENCSR978QUT & ENCSR979ZJS & ENCSR986HEN & ENCSR986XLW & ENCSR988YKR & ENCSR989YIV & ENCSR990XXC & ENCSR999TSD\\\\\n",
       "  & <int> & <int> & <int> & <int> & <int> & <int> & <int> & <int> & <int> & <int> & ⋯ & <int> & <int> & <int> & <int> & <int> & <int> & <int> & <int> & <int> & <int>\\\\\n",
       "\\hline\n",
       "\tchr1\t10370\t10641 & 28 & 9 & 17 & 8 & 49 & 28 & 7 & 11 & 20 & 33 & ⋯ & 2 & 1 & 0 & 3 & 2 & 12 & 0 & 15 & 3 & 1\\\\\n",
       "\tchr1\t10711\t11232 & 12 & 9 &  5 & 9 & 44 & 39 & 2 &  7 & 13 & 27 & ⋯ & 0 & 1 & 0 & 1 & 1 &  2 & 0 &  9 & 1 & 0\\\\\n",
       "\\end{tabular}\n"
      ],
      "text/markdown": [
       "\n",
       "A data.frame: 2 × 622\n",
       "\n",
       "| <!--/--> | ENCSR000EID &lt;int&gt; | ENCSR000EIE &lt;int&gt; | ENCSR000EIF &lt;int&gt; | ENCSR000EIG &lt;int&gt; | ENCSR000EII &lt;int&gt; | ENCSR000EIL &lt;int&gt; | ENCSR000EIN &lt;int&gt; | ENCSR000EIV &lt;int&gt; | ENCSR000EIW &lt;int&gt; | ENCSR000EIY &lt;int&gt; | ⋯ ⋯ | ENCSR974TXT &lt;int&gt; | ENCSR976XOY &lt;int&gt; | ENCSR978QUT &lt;int&gt; | ENCSR979ZJS &lt;int&gt; | ENCSR986HEN &lt;int&gt; | ENCSR986XLW &lt;int&gt; | ENCSR988YKR &lt;int&gt; | ENCSR989YIV &lt;int&gt; | ENCSR990XXC &lt;int&gt; | ENCSR999TSD &lt;int&gt; |\n",
       "|---|---|---|---|---|---|---|---|---|---|---|---|---|---|---|---|---|---|---|---|---|---|\n",
       "| chr1\t10370\t10641 | 28 | 9 | 17 | 8 | 49 | 28 | 7 | 11 | 20 | 33 | ⋯ | 2 | 1 | 0 | 3 | 2 | 12 | 0 | 15 | 3 | 1 |\n",
       "| chr1\t10711\t11232 | 12 | 9 |  5 | 9 | 44 | 39 | 2 |  7 | 13 | 27 | ⋯ | 0 | 1 | 0 | 1 | 1 |  2 | 0 |  9 | 1 | 0 |\n",
       "\n"
      ],
      "text/plain": [
       "                   ENCSR000EID ENCSR000EIE ENCSR000EIF ENCSR000EIG ENCSR000EII\n",
       "chr1\\t10370\\t10641 28          9           17          8           49         \n",
       "chr1\\t10711\\t11232 12          9            5          9           44         \n",
       "                   ENCSR000EIL ENCSR000EIN ENCSR000EIV ENCSR000EIW ENCSR000EIY\n",
       "chr1\\t10370\\t10641 28          7           11          20          33         \n",
       "chr1\\t10711\\t11232 39          2            7          13          27         \n",
       "                   ⋯ ENCSR974TXT ENCSR976XOY ENCSR978QUT ENCSR979ZJS\n",
       "chr1\\t10370\\t10641 ⋯ 2           1           0           3          \n",
       "chr1\\t10711\\t11232 ⋯ 0           1           0           1          \n",
       "                   ENCSR986HEN ENCSR986XLW ENCSR988YKR ENCSR989YIV ENCSR990XXC\n",
       "chr1\\t10370\\t10641 2           12          0           15          3          \n",
       "chr1\\t10711\\t11232 1            2          0            9          1          \n",
       "                   ENCSR999TSD\n",
       "chr1\\t10370\\t10641 1          \n",
       "chr1\\t10711\\t11232 0          "
      ]
     },
     "metadata": {},
     "output_type": "display_data"
    },
    {
     "data": {
      "text/html": [
       "<style>\n",
       ".list-inline {list-style: none; margin:0; padding: 0}\n",
       ".list-inline>li {display: inline-block}\n",
       ".list-inline>li:not(:last-child)::after {content: \"\\00b7\"; padding: 0 .5ex}\n",
       "</style>\n",
       "<ol class=list-inline><li>2027128</li><li>622</li></ol>\n"
      ],
      "text/latex": [
       "\\begin{enumerate*}\n",
       "\\item 2027128\n",
       "\\item 622\n",
       "\\end{enumerate*}\n"
      ],
      "text/markdown": [
       "1. 2027128\n",
       "2. 622\n",
       "\n",
       "\n"
      ],
      "text/plain": [
       "[1] 2027128     622"
      ]
     },
     "metadata": {},
     "output_type": "display_data"
    }
   ],
   "source": [
    "# load encode counts matrix\n",
    "cts <- read.csv(\"/oak/stanford/groups/akundaje/projects/atlas/counts_matrices/atlas.dnase.overlap.counts.txt\",sep=\"\\t\")\n",
    "rownames(cts)=paste(cts$chr,cts$start,cts$end,sep='\\t')\n",
    "cts$chrom = NULL\n",
    "cts$start = NULL\n",
    "cts$end = NULL\n",
    "head(cts, 2)\n",
    "dim(cts)"
   ]
  },
  {
   "cell_type": "code",
   "execution_count": 3,
   "metadata": {},
   "outputs": [],
   "source": [
    "encode_peaks_gr = GRanges(sub(\"\\t\", \"-\", sub(\"\\t\", \":\", rownames(cts))))"
   ]
  },
  {
   "cell_type": "code",
   "execution_count": 4,
   "metadata": {},
   "outputs": [
    {
     "data": {
      "text/plain": [
       "GRanges object with 6 ranges and 0 metadata columns:\n",
       "      seqnames      ranges strand\n",
       "         <Rle>   <IRanges>  <Rle>\n",
       "  [1]     chr1 10370-10641      *\n",
       "  [2]     chr1 10711-11232      *\n",
       "  [3]     chr1 11308-11533      *\n",
       "  [4]     chr1 14499-14700      *\n",
       "  [5]     chr1 16142-16349      *\n",
       "  [6]     chr1 25958-26158      *\n",
       "  -------\n",
       "  seqinfo: 24 sequences from an unspecified genome; no seqlengths"
      ]
     },
     "metadata": {},
     "output_type": "display_data"
    }
   ],
   "source": [
    "head(encode_peaks_gr)"
   ]
  },
  {
   "cell_type": "code",
   "execution_count": 5,
   "metadata": {},
   "outputs": [
    {
     "data": {
      "text/plain": [
       "NULL"
      ]
     },
     "metadata": {},
     "output_type": "display_data"
    }
   ],
   "source": [
    "colnames(metadata)"
   ]
  },
  {
   "cell_type": "code",
   "execution_count": 6,
   "metadata": {},
   "outputs": [
    {
     "data": {
      "text/html": [
       "<table>\n",
       "<caption>A data.frame: 6 × 2</caption>\n",
       "<thead>\n",
       "\t<tr><th></th><th scope=col>Biosample.summary</th><th scope=col>Biosample.term.name</th></tr>\n",
       "\t<tr><th></th><th scope=col>&lt;fct&gt;</th><th scope=col>&lt;fct&gt;</th></tr>\n",
       "</thead>\n",
       "<tbody>\n",
       "\t<tr><th scope=row>ENCSR728BAD</th><td>adrenal gland male embryo (108 days)                                  </td><td>adrenal gland                   </td></tr>\n",
       "\t<tr><th scope=row>ENCSR724CND</th><td>foreskin keratinocyte male newborn                                    </td><td>foreskin keratinocyte           </td></tr>\n",
       "\t<tr><th scope=row>ENCSR770DEN</th><td>fibroblast of skin of scalp male embryo (97 days)                     </td><td>fibroblast of skin of scalp     </td></tr>\n",
       "\t<tr><th scope=row>ENCSR594OWA</th><td>small intestine male embryo (91 day)                                  </td><td>small intestine                 </td></tr>\n",
       "\t<tr><th scope=row>ENCSR325LYJ</th><td>fibroblast of skin of upper back male embryo (97 days)                </td><td>fibroblast of skin of upper back</td></tr>\n",
       "\t<tr><th scope=row>ENCSR257CIZ</th><td>kidney tubule cell female adult (80 years) treated with 5 μM cisplatin</td><td>kidney tubule cell              </td></tr>\n",
       "</tbody>\n",
       "</table>\n"
      ],
      "text/latex": [
       "A data.frame: 6 × 2\n",
       "\\begin{tabular}{r|ll}\n",
       "  & Biosample.summary & Biosample.term.name\\\\\n",
       "  & <fct> & <fct>\\\\\n",
       "\\hline\n",
       "\tENCSR728BAD & adrenal gland male embryo (108 days)                                   & adrenal gland                   \\\\\n",
       "\tENCSR724CND & foreskin keratinocyte male newborn                                     & foreskin keratinocyte           \\\\\n",
       "\tENCSR770DEN & fibroblast of skin of scalp male embryo (97 days)                      & fibroblast of skin of scalp     \\\\\n",
       "\tENCSR594OWA & small intestine male embryo (91 day)                                   & small intestine                 \\\\\n",
       "\tENCSR325LYJ & fibroblast of skin of upper back male embryo (97 days)                 & fibroblast of skin of upper back\\\\\n",
       "\tENCSR257CIZ & kidney tubule cell female adult (80 years) treated with 5 μM cisplatin & kidney tubule cell              \\\\\n",
       "\\end{tabular}\n"
      ],
      "text/markdown": [
       "\n",
       "A data.frame: 6 × 2\n",
       "\n",
       "| <!--/--> | Biosample.summary &lt;fct&gt; | Biosample.term.name &lt;fct&gt; |\n",
       "|---|---|---|\n",
       "| ENCSR728BAD | adrenal gland male embryo (108 days)                                   | adrenal gland                    |\n",
       "| ENCSR724CND | foreskin keratinocyte male newborn                                     | foreskin keratinocyte            |\n",
       "| ENCSR770DEN | fibroblast of skin of scalp male embryo (97 days)                      | fibroblast of skin of scalp      |\n",
       "| ENCSR594OWA | small intestine male embryo (91 day)                                   | small intestine                  |\n",
       "| ENCSR325LYJ | fibroblast of skin of upper back male embryo (97 days)                 | fibroblast of skin of upper back |\n",
       "| ENCSR257CIZ | kidney tubule cell female adult (80 years) treated with 5 μM cisplatin | kidney tubule cell               |\n",
       "\n"
      ],
      "text/plain": [
       "            Biosample.summary                                                     \n",
       "ENCSR728BAD adrenal gland male embryo (108 days)                                  \n",
       "ENCSR724CND foreskin keratinocyte male newborn                                    \n",
       "ENCSR770DEN fibroblast of skin of scalp male embryo (97 days)                     \n",
       "ENCSR594OWA small intestine male embryo (91 day)                                  \n",
       "ENCSR325LYJ fibroblast of skin of upper back male embryo (97 days)                \n",
       "ENCSR257CIZ kidney tubule cell female adult (80 years) treated with 5 μM cisplatin\n",
       "            Biosample.term.name             \n",
       "ENCSR728BAD adrenal gland                   \n",
       "ENCSR724CND foreskin keratinocyte           \n",
       "ENCSR770DEN fibroblast of skin of scalp     \n",
       "ENCSR594OWA small intestine                 \n",
       "ENCSR325LYJ fibroblast of skin of upper back\n",
       "ENCSR257CIZ kidney tubule cell              "
      ]
     },
     "metadata": {},
     "output_type": "display_data"
    }
   ],
   "source": [
    "# ENCODE metadata\n",
    "metadata = read.delim(\"/oak/stanford/groups/akundaje/projects/atlas/dnase_experiments_metadata.tsv\", \n",
    "                      sep=\"\\t\",\n",
    "                     skip=1,\n",
    "                     header=T,\n",
    "                     fill=T)\n",
    "metadata = metadata[, c(\"Accession\", \"Biosample.summary\", \"Biosample.term.name\")]\n",
    "rownames(metadata) = metadata$Accession\n",
    "metadata$Accession = NULL\n",
    "head(metadata)"
   ]
  },
  {
   "cell_type": "code",
   "execution_count": 43,
   "metadata": {},
   "outputs": [
    {
     "data": {
      "text/plain": [
       "GRanges object with 6 ranges and 0 metadata columns:\n",
       "      seqnames          ranges strand\n",
       "         <Rle>       <IRanges>  <Rle>\n",
       "  [1]     chr1   629283-630067      *\n",
       "  [2]     chr1 1137677-1138147      *\n",
       "  [3]     chr1 1149961-1150429      *\n",
       "  [4]     chr1 1167429-1167630      *\n",
       "  [5]     chr1 1256339-1256738      *\n",
       "  [6]     chr1 1300526-1300726      *\n",
       "  -------\n",
       "  seqinfo: 24 sequences from an unspecified genome; no seqlengths"
      ]
     },
     "metadata": {},
     "output_type": "display_data"
    }
   ],
   "source": [
    "# ref peaks\n",
    "peak_set = read.table(\"./beds/20200307_gridmap_naive_n15/idx10.bed\",\n",
    "                      header=F, sep='')\n",
    "colnames(peak_set) = c(\"chr\", \"start\", \"end\")\n",
    "peak_set = makeGRangesFromDataFrame(peak_set)\n",
    "head(peak_set)"
   ]
  },
  {
   "cell_type": "code",
   "execution_count": 44,
   "metadata": {},
   "outputs": [
    {
     "data": {
      "text/plain": [
       "Hits object with 25274 hits and 0 metadata columns:\n",
       "          queryHits subjectHits\n",
       "          <integer>   <integer>\n",
       "      [1]        80           1\n",
       "      [2]       354           2\n",
       "      [3]       362           3\n",
       "      [4]       373           4\n",
       "      [5]       475           6\n",
       "      ...       ...         ...\n",
       "  [25270]   2025075       24142\n",
       "  [25271]   2025773       24143\n",
       "  [25272]   2025794       24144\n",
       "  [25273]   2025822       24145\n",
       "  [25274]   2025824       24146\n",
       "  -------\n",
       "  queryLength: 2027128 / subjectLength: 24146"
      ]
     },
     "metadata": {},
     "output_type": "display_data"
    }
   ],
   "source": [
    "overlaps = findOverlaps(encode_peaks_gr, peak_set)\n",
    "overlaps"
   ]
  },
  {
   "cell_type": "code",
   "execution_count": 45,
   "metadata": {},
   "outputs": [
    {
     "data": {
      "text/html": [
       "23765"
      ],
      "text/latex": [
       "23765"
      ],
      "text/markdown": [
       "23765"
      ],
      "text/plain": [
       "[1] 23765"
      ]
     },
     "metadata": {},
     "output_type": "display_data"
    }
   ],
   "source": [
    "length(unique(queryHits(overlaps)))"
   ]
  },
  {
   "cell_type": "code",
   "execution_count": 46,
   "metadata": {},
   "outputs": [],
   "source": [
    "frac_reads_in_peak_set = colSums(cts[unique(queryHits(overlaps)),])/colSums(cts)"
   ]
  },
  {
   "cell_type": "code",
   "execution_count": 47,
   "metadata": {},
   "outputs": [
    {
     "data": {
      "text/html": [
       "<table>\n",
       "<caption>A data.frame: 100 × 2</caption>\n",
       "<thead>\n",
       "\t<tr><th></th><th scope=col>percentage</th><th scope=col>Biosample.term.name</th></tr>\n",
       "\t<tr><th></th><th scope=col>&lt;dbl&gt;</th><th scope=col>&lt;fct&gt;</th></tr>\n",
       "</thead>\n",
       "<tbody>\n",
       "\t<tr><th scope=row>ENCSR014FPY</th><td>5.203115</td><td>iPS DF 4.7                    </td></tr>\n",
       "\t<tr><th scope=row>ENCSR440QMR</th><td>5.157532</td><td>iPS DF 19.7                   </td></tr>\n",
       "\t<tr><th scope=row>ENCSR261SMF</th><td>5.063703</td><td>iPS DF 6.9                    </td></tr>\n",
       "\t<tr><th scope=row>ENCSR000EMZ</th><td>4.932408</td><td>H7                            </td></tr>\n",
       "\t<tr><th scope=row>ENCSR678ILN</th><td>4.894001</td><td>ELF-1                         </td></tr>\n",
       "\t<tr><th scope=row>ENCSR000EMU</th><td>4.837074</td><td>H1                            </td></tr>\n",
       "\t<tr><th scope=row>ENCSR000EPS</th><td>4.791350</td><td>NT2/D1                        </td></tr>\n",
       "\t<tr><th scope=row>ENCSR620QNS</th><td>4.713085</td><td>HAP-1                         </td></tr>\n",
       "\t<tr><th scope=row>ENCSR383SNM</th><td>4.624757</td><td>iPS DF 19.11                  </td></tr>\n",
       "\t<tr><th scope=row>ENCSR000EJN</th><td>4.424979</td><td>H1                            </td></tr>\n",
       "\t<tr><th scope=row>ENCSR794OFW</th><td>4.362720</td><td>H1                            </td></tr>\n",
       "\t<tr><th scope=row>ENCSR915BSC</th><td>4.332912</td><td>H9                            </td></tr>\n",
       "\t<tr><th scope=row>ENCSR943SYS</th><td>4.196055</td><td>H9                            </td></tr>\n",
       "\t<tr><th scope=row>ENCSR275ICP</th><td>4.166596</td><td>H9                            </td></tr>\n",
       "\t<tr><th scope=row>ENCSR017OZH</th><td>4.030262</td><td>H9                            </td></tr>\n",
       "\t<tr><th scope=row>ENCSR000EKI</th><td>3.963388</td><td>CWRU1                         </td></tr>\n",
       "\t<tr><th scope=row>ENCSR000EJP</th><td>3.937545</td><td>H9                            </td></tr>\n",
       "\t<tr><th scope=row>ENCSR648RAX</th><td>3.693256</td><td>placenta                      </td></tr>\n",
       "\t<tr><th scope=row>ENCSR873ANE</th><td>3.685291</td><td>kidney                        </td></tr>\n",
       "\t<tr><th scope=row>ENCSR792ZXA</th><td>3.681436</td><td>kidney                        </td></tr>\n",
       "\t<tr><th scope=row>ENCSR768OLL</th><td>3.676404</td><td>right kidney                  </td></tr>\n",
       "\t<tr><th scope=row>ENCSR457ILW</th><td>3.616706</td><td>small intestine               </td></tr>\n",
       "\t<tr><th scope=row>ENCSR954AJK</th><td>3.613648</td><td>Peyer's patch                 </td></tr>\n",
       "\t<tr><th scope=row>ENCSR545KQR</th><td>3.562222</td><td>placenta                      </td></tr>\n",
       "\t<tr><th scope=row>ENCSR963ALV</th><td>3.550268</td><td>neural progenitor cell        </td></tr>\n",
       "\t<tr><th scope=row>ENCSR000EMW</th><td>3.529102</td><td>cardiovascular progenitor cell</td></tr>\n",
       "\t<tr><th scope=row>ENCSR757EPJ</th><td>3.510365</td><td>kidney                        </td></tr>\n",
       "\t<tr><th scope=row>ENCSR762FCX</th><td>3.504216</td><td>large intestine               </td></tr>\n",
       "\t<tr><th scope=row>ENCSR543YPH</th><td>3.502467</td><td>left kidney                   </td></tr>\n",
       "\t<tr><th scope=row>ENCSR000EMI</th><td>3.492909</td><td>Caco-2                        </td></tr>\n",
       "\t<tr><th scope=row>⋮</th><td>⋮</td><td>⋮</td></tr>\n",
       "\t<tr><th scope=row>ENCSR022ECC</th><td>3.255941</td><td>renal cortex interstitium</td></tr>\n",
       "\t<tr><th scope=row>ENCSR913NYL</th><td>3.255606</td><td>renal pelvis             </td></tr>\n",
       "\t<tr><th scope=row>ENCSR141DMX</th><td>3.255449</td><td>renal pelvis             </td></tr>\n",
       "\t<tr><th scope=row>ENCSR606UAR</th><td>3.254428</td><td>renal pelvis             </td></tr>\n",
       "\t<tr><th scope=row>ENCSR258IBL</th><td>3.253314</td><td>left renal pelvis        </td></tr>\n",
       "\t<tr><th scope=row>ENCSR000EKE</th><td>3.248526</td><td>HuH-7.5                  </td></tr>\n",
       "\t<tr><th scope=row>ENCSR119HXE</th><td>3.247949</td><td>stomach                  </td></tr>\n",
       "\t<tr><th scope=row>ENCSR608AHQ</th><td>3.247530</td><td>stomach                  </td></tr>\n",
       "\t<tr><th scope=row>ENCSR990XXC</th><td>3.245181</td><td>right kidney             </td></tr>\n",
       "\t<tr><th scope=row>ENCSR036VRV</th><td>3.243583</td><td>right kidney             </td></tr>\n",
       "\t<tr><th scope=row>ENCSR129TSG</th><td>3.243304</td><td>placenta                 </td></tr>\n",
       "\t<tr><th scope=row>ENCSR000EKT</th><td>3.240750</td><td>LNCaP clone FGC          </td></tr>\n",
       "\t<tr><th scope=row>ENCSR000ELA</th><td>3.236724</td><td>D721Med                  </td></tr>\n",
       "\t<tr><th scope=row>ENCSR354FBA</th><td>3.235654</td><td>small intestine          </td></tr>\n",
       "\t<tr><th scope=row>ENCSR000ELQ</th><td>3.234484</td><td>SK-N-SH                  </td></tr>\n",
       "\t<tr><th scope=row>ENCSR120LVW</th><td>3.234359</td><td>left kidney              </td></tr>\n",
       "\t<tr><th scope=row>ENCSR282QFE</th><td>3.231292</td><td>stomach                  </td></tr>\n",
       "\t<tr><th scope=row>ENCSR000EJF</th><td>3.228837</td><td>GM12892                  </td></tr>\n",
       "\t<tr><th scope=row>ENCSR083FBK</th><td>3.219003</td><td>small intestine          </td></tr>\n",
       "\t<tr><th scope=row>ENCSR884MCZ</th><td>3.215135</td><td>right kidney             </td></tr>\n",
       "\t<tr><th scope=row>ENCSR000EKU</th><td>3.210581</td><td>LNCaP clone FGC          </td></tr>\n",
       "\t<tr><th scope=row>ENCSR129KIV</th><td>3.209381</td><td>renal cortex interstitium</td></tr>\n",
       "\t<tr><th scope=row>ENCSR860NDZ</th><td>3.208807</td><td>small intestine          </td></tr>\n",
       "\t<tr><th scope=row>ENCSR945RWN</th><td>3.208373</td><td>small intestine          </td></tr>\n",
       "\t<tr><th scope=row>ENCSR214QEO</th><td>3.203982</td><td>large intestine          </td></tr>\n",
       "\t<tr><th scope=row>ENCSR000EKD</th><td>3.199538</td><td>HuH-7                    </td></tr>\n",
       "\t<tr><th scope=row>ENCSR000EJE</th><td>3.196547</td><td>GM12891                  </td></tr>\n",
       "\t<tr><th scope=row>ENCSR000ENO</th><td>3.194444</td><td>HeLa-S3                  </td></tr>\n",
       "\t<tr><th scope=row>ENCSR502NDK</th><td>3.194285</td><td>small intestine          </td></tr>\n",
       "\t<tr><th scope=row>ENCSR116WWW</th><td>3.192631</td><td>small intestine          </td></tr>\n",
       "</tbody>\n",
       "</table>\n"
      ],
      "text/latex": [
       "A data.frame: 100 × 2\n",
       "\\begin{tabular}{r|ll}\n",
       "  & percentage & Biosample.term.name\\\\\n",
       "  & <dbl> & <fct>\\\\\n",
       "\\hline\n",
       "\tENCSR014FPY & 5.203115 & iPS DF 4.7                    \\\\\n",
       "\tENCSR440QMR & 5.157532 & iPS DF 19.7                   \\\\\n",
       "\tENCSR261SMF & 5.063703 & iPS DF 6.9                    \\\\\n",
       "\tENCSR000EMZ & 4.932408 & H7                            \\\\\n",
       "\tENCSR678ILN & 4.894001 & ELF-1                         \\\\\n",
       "\tENCSR000EMU & 4.837074 & H1                            \\\\\n",
       "\tENCSR000EPS & 4.791350 & NT2/D1                        \\\\\n",
       "\tENCSR620QNS & 4.713085 & HAP-1                         \\\\\n",
       "\tENCSR383SNM & 4.624757 & iPS DF 19.11                  \\\\\n",
       "\tENCSR000EJN & 4.424979 & H1                            \\\\\n",
       "\tENCSR794OFW & 4.362720 & H1                            \\\\\n",
       "\tENCSR915BSC & 4.332912 & H9                            \\\\\n",
       "\tENCSR943SYS & 4.196055 & H9                            \\\\\n",
       "\tENCSR275ICP & 4.166596 & H9                            \\\\\n",
       "\tENCSR017OZH & 4.030262 & H9                            \\\\\n",
       "\tENCSR000EKI & 3.963388 & CWRU1                         \\\\\n",
       "\tENCSR000EJP & 3.937545 & H9                            \\\\\n",
       "\tENCSR648RAX & 3.693256 & placenta                      \\\\\n",
       "\tENCSR873ANE & 3.685291 & kidney                        \\\\\n",
       "\tENCSR792ZXA & 3.681436 & kidney                        \\\\\n",
       "\tENCSR768OLL & 3.676404 & right kidney                  \\\\\n",
       "\tENCSR457ILW & 3.616706 & small intestine               \\\\\n",
       "\tENCSR954AJK & 3.613648 & Peyer's patch                 \\\\\n",
       "\tENCSR545KQR & 3.562222 & placenta                      \\\\\n",
       "\tENCSR963ALV & 3.550268 & neural progenitor cell        \\\\\n",
       "\tENCSR000EMW & 3.529102 & cardiovascular progenitor cell\\\\\n",
       "\tENCSR757EPJ & 3.510365 & kidney                        \\\\\n",
       "\tENCSR762FCX & 3.504216 & large intestine               \\\\\n",
       "\tENCSR543YPH & 3.502467 & left kidney                   \\\\\n",
       "\tENCSR000EMI & 3.492909 & Caco-2                        \\\\\n",
       "\t⋮ & ⋮ & ⋮\\\\\n",
       "\tENCSR022ECC & 3.255941 & renal cortex interstitium\\\\\n",
       "\tENCSR913NYL & 3.255606 & renal pelvis             \\\\\n",
       "\tENCSR141DMX & 3.255449 & renal pelvis             \\\\\n",
       "\tENCSR606UAR & 3.254428 & renal pelvis             \\\\\n",
       "\tENCSR258IBL & 3.253314 & left renal pelvis        \\\\\n",
       "\tENCSR000EKE & 3.248526 & HuH-7.5                  \\\\\n",
       "\tENCSR119HXE & 3.247949 & stomach                  \\\\\n",
       "\tENCSR608AHQ & 3.247530 & stomach                  \\\\\n",
       "\tENCSR990XXC & 3.245181 & right kidney             \\\\\n",
       "\tENCSR036VRV & 3.243583 & right kidney             \\\\\n",
       "\tENCSR129TSG & 3.243304 & placenta                 \\\\\n",
       "\tENCSR000EKT & 3.240750 & LNCaP clone FGC          \\\\\n",
       "\tENCSR000ELA & 3.236724 & D721Med                  \\\\\n",
       "\tENCSR354FBA & 3.235654 & small intestine          \\\\\n",
       "\tENCSR000ELQ & 3.234484 & SK-N-SH                  \\\\\n",
       "\tENCSR120LVW & 3.234359 & left kidney              \\\\\n",
       "\tENCSR282QFE & 3.231292 & stomach                  \\\\\n",
       "\tENCSR000EJF & 3.228837 & GM12892                  \\\\\n",
       "\tENCSR083FBK & 3.219003 & small intestine          \\\\\n",
       "\tENCSR884MCZ & 3.215135 & right kidney             \\\\\n",
       "\tENCSR000EKU & 3.210581 & LNCaP clone FGC          \\\\\n",
       "\tENCSR129KIV & 3.209381 & renal cortex interstitium\\\\\n",
       "\tENCSR860NDZ & 3.208807 & small intestine          \\\\\n",
       "\tENCSR945RWN & 3.208373 & small intestine          \\\\\n",
       "\tENCSR214QEO & 3.203982 & large intestine          \\\\\n",
       "\tENCSR000EKD & 3.199538 & HuH-7                    \\\\\n",
       "\tENCSR000EJE & 3.196547 & GM12891                  \\\\\n",
       "\tENCSR000ENO & 3.194444 & HeLa-S3                  \\\\\n",
       "\tENCSR502NDK & 3.194285 & small intestine          \\\\\n",
       "\tENCSR116WWW & 3.192631 & small intestine          \\\\\n",
       "\\end{tabular}\n"
      ],
      "text/markdown": [
       "\n",
       "A data.frame: 100 × 2\n",
       "\n",
       "| <!--/--> | percentage &lt;dbl&gt; | Biosample.term.name &lt;fct&gt; |\n",
       "|---|---|---|\n",
       "| ENCSR014FPY | 5.203115 | iPS DF 4.7                     |\n",
       "| ENCSR440QMR | 5.157532 | iPS DF 19.7                    |\n",
       "| ENCSR261SMF | 5.063703 | iPS DF 6.9                     |\n",
       "| ENCSR000EMZ | 4.932408 | H7                             |\n",
       "| ENCSR678ILN | 4.894001 | ELF-1                          |\n",
       "| ENCSR000EMU | 4.837074 | H1                             |\n",
       "| ENCSR000EPS | 4.791350 | NT2/D1                         |\n",
       "| ENCSR620QNS | 4.713085 | HAP-1                          |\n",
       "| ENCSR383SNM | 4.624757 | iPS DF 19.11                   |\n",
       "| ENCSR000EJN | 4.424979 | H1                             |\n",
       "| ENCSR794OFW | 4.362720 | H1                             |\n",
       "| ENCSR915BSC | 4.332912 | H9                             |\n",
       "| ENCSR943SYS | 4.196055 | H9                             |\n",
       "| ENCSR275ICP | 4.166596 | H9                             |\n",
       "| ENCSR017OZH | 4.030262 | H9                             |\n",
       "| ENCSR000EKI | 3.963388 | CWRU1                          |\n",
       "| ENCSR000EJP | 3.937545 | H9                             |\n",
       "| ENCSR648RAX | 3.693256 | placenta                       |\n",
       "| ENCSR873ANE | 3.685291 | kidney                         |\n",
       "| ENCSR792ZXA | 3.681436 | kidney                         |\n",
       "| ENCSR768OLL | 3.676404 | right kidney                   |\n",
       "| ENCSR457ILW | 3.616706 | small intestine                |\n",
       "| ENCSR954AJK | 3.613648 | Peyer's patch                  |\n",
       "| ENCSR545KQR | 3.562222 | placenta                       |\n",
       "| ENCSR963ALV | 3.550268 | neural progenitor cell         |\n",
       "| ENCSR000EMW | 3.529102 | cardiovascular progenitor cell |\n",
       "| ENCSR757EPJ | 3.510365 | kidney                         |\n",
       "| ENCSR762FCX | 3.504216 | large intestine                |\n",
       "| ENCSR543YPH | 3.502467 | left kidney                    |\n",
       "| ENCSR000EMI | 3.492909 | Caco-2                         |\n",
       "| ⋮ | ⋮ | ⋮ |\n",
       "| ENCSR022ECC | 3.255941 | renal cortex interstitium |\n",
       "| ENCSR913NYL | 3.255606 | renal pelvis              |\n",
       "| ENCSR141DMX | 3.255449 | renal pelvis              |\n",
       "| ENCSR606UAR | 3.254428 | renal pelvis              |\n",
       "| ENCSR258IBL | 3.253314 | left renal pelvis         |\n",
       "| ENCSR000EKE | 3.248526 | HuH-7.5                   |\n",
       "| ENCSR119HXE | 3.247949 | stomach                   |\n",
       "| ENCSR608AHQ | 3.247530 | stomach                   |\n",
       "| ENCSR990XXC | 3.245181 | right kidney              |\n",
       "| ENCSR036VRV | 3.243583 | right kidney              |\n",
       "| ENCSR129TSG | 3.243304 | placenta                  |\n",
       "| ENCSR000EKT | 3.240750 | LNCaP clone FGC           |\n",
       "| ENCSR000ELA | 3.236724 | D721Med                   |\n",
       "| ENCSR354FBA | 3.235654 | small intestine           |\n",
       "| ENCSR000ELQ | 3.234484 | SK-N-SH                   |\n",
       "| ENCSR120LVW | 3.234359 | left kidney               |\n",
       "| ENCSR282QFE | 3.231292 | stomach                   |\n",
       "| ENCSR000EJF | 3.228837 | GM12892                   |\n",
       "| ENCSR083FBK | 3.219003 | small intestine           |\n",
       "| ENCSR884MCZ | 3.215135 | right kidney              |\n",
       "| ENCSR000EKU | 3.210581 | LNCaP clone FGC           |\n",
       "| ENCSR129KIV | 3.209381 | renal cortex interstitium |\n",
       "| ENCSR860NDZ | 3.208807 | small intestine           |\n",
       "| ENCSR945RWN | 3.208373 | small intestine           |\n",
       "| ENCSR214QEO | 3.203982 | large intestine           |\n",
       "| ENCSR000EKD | 3.199538 | HuH-7                     |\n",
       "| ENCSR000EJE | 3.196547 | GM12891                   |\n",
       "| ENCSR000ENO | 3.194444 | HeLa-S3                   |\n",
       "| ENCSR502NDK | 3.194285 | small intestine           |\n",
       "| ENCSR116WWW | 3.192631 | small intestine           |\n",
       "\n"
      ],
      "text/plain": [
       "            percentage Biosample.term.name           \n",
       "ENCSR014FPY 5.203115   iPS DF 4.7                    \n",
       "ENCSR440QMR 5.157532   iPS DF 19.7                   \n",
       "ENCSR261SMF 5.063703   iPS DF 6.9                    \n",
       "ENCSR000EMZ 4.932408   H7                            \n",
       "ENCSR678ILN 4.894001   ELF-1                         \n",
       "ENCSR000EMU 4.837074   H1                            \n",
       "ENCSR000EPS 4.791350   NT2/D1                        \n",
       "ENCSR620QNS 4.713085   HAP-1                         \n",
       "ENCSR383SNM 4.624757   iPS DF 19.11                  \n",
       "ENCSR000EJN 4.424979   H1                            \n",
       "ENCSR794OFW 4.362720   H1                            \n",
       "ENCSR915BSC 4.332912   H9                            \n",
       "ENCSR943SYS 4.196055   H9                            \n",
       "ENCSR275ICP 4.166596   H9                            \n",
       "ENCSR017OZH 4.030262   H9                            \n",
       "ENCSR000EKI 3.963388   CWRU1                         \n",
       "ENCSR000EJP 3.937545   H9                            \n",
       "ENCSR648RAX 3.693256   placenta                      \n",
       "ENCSR873ANE 3.685291   kidney                        \n",
       "ENCSR792ZXA 3.681436   kidney                        \n",
       "ENCSR768OLL 3.676404   right kidney                  \n",
       "ENCSR457ILW 3.616706   small intestine               \n",
       "ENCSR954AJK 3.613648   Peyer's patch                 \n",
       "ENCSR545KQR 3.562222   placenta                      \n",
       "ENCSR963ALV 3.550268   neural progenitor cell        \n",
       "ENCSR000EMW 3.529102   cardiovascular progenitor cell\n",
       "ENCSR757EPJ 3.510365   kidney                        \n",
       "ENCSR762FCX 3.504216   large intestine               \n",
       "ENCSR543YPH 3.502467   left kidney                   \n",
       "ENCSR000EMI 3.492909   Caco-2                        \n",
       "⋮           ⋮          ⋮                             \n",
       "ENCSR022ECC 3.255941   renal cortex interstitium     \n",
       "ENCSR913NYL 3.255606   renal pelvis                  \n",
       "ENCSR141DMX 3.255449   renal pelvis                  \n",
       "ENCSR606UAR 3.254428   renal pelvis                  \n",
       "ENCSR258IBL 3.253314   left renal pelvis             \n",
       "ENCSR000EKE 3.248526   HuH-7.5                       \n",
       "ENCSR119HXE 3.247949   stomach                       \n",
       "ENCSR608AHQ 3.247530   stomach                       \n",
       "ENCSR990XXC 3.245181   right kidney                  \n",
       "ENCSR036VRV 3.243583   right kidney                  \n",
       "ENCSR129TSG 3.243304   placenta                      \n",
       "ENCSR000EKT 3.240750   LNCaP clone FGC               \n",
       "ENCSR000ELA 3.236724   D721Med                       \n",
       "ENCSR354FBA 3.235654   small intestine               \n",
       "ENCSR000ELQ 3.234484   SK-N-SH                       \n",
       "ENCSR120LVW 3.234359   left kidney                   \n",
       "ENCSR282QFE 3.231292   stomach                       \n",
       "ENCSR000EJF 3.228837   GM12892                       \n",
       "ENCSR083FBK 3.219003   small intestine               \n",
       "ENCSR884MCZ 3.215135   right kidney                  \n",
       "ENCSR000EKU 3.210581   LNCaP clone FGC               \n",
       "ENCSR129KIV 3.209381   renal cortex interstitium     \n",
       "ENCSR860NDZ 3.208807   small intestine               \n",
       "ENCSR945RWN 3.208373   small intestine               \n",
       "ENCSR214QEO 3.203982   large intestine               \n",
       "ENCSR000EKD 3.199538   HuH-7                         \n",
       "ENCSR000EJE 3.196547   GM12891                       \n",
       "ENCSR000ENO 3.194444   HeLa-S3                       \n",
       "ENCSR502NDK 3.194285   small intestine               \n",
       "ENCSR116WWW 3.192631   small intestine               "
      ]
     },
     "metadata": {},
     "output_type": "display_data"
    }
   ],
   "source": [
    "df = data.frame(percentage=100*frac_reads_in_peak_set,\n",
    "               metadata[names(frac_reads_in_peak_set),])\n",
    "df = df[rev(order(df$percentage)), c(\"percentage\", \"Biosample.term.name\")]\n",
    "head(df, 100)"
   ]
  },
  {
   "cell_type": "code",
   "execution_count": 48,
   "metadata": {},
   "outputs": [
    {
     "data": {
      "text/html": [
       "<table>\n",
       "<caption>A data.frame: 20 × 2</caption>\n",
       "<thead>\n",
       "\t<tr><th></th><th scope=col>percentage</th><th scope=col>Biosample.term.name</th></tr>\n",
       "\t<tr><th></th><th scope=col>&lt;dbl&gt;</th><th scope=col>&lt;fct&gt;</th></tr>\n",
       "</thead>\n",
       "<tbody>\n",
       "\t<tr><th scope=row>ENCSR000EQN</th><td>1.710770</td><td>WI38                                 </td></tr>\n",
       "\t<tr><th scope=row>ENCSR000EQM</th><td>1.864732</td><td>WI38                                 </td></tr>\n",
       "\t<tr><th scope=row>ENCSR562ACY</th><td>1.920067</td><td>fibroblast of skin of left biceps    </td></tr>\n",
       "\t<tr><th scope=row>ENCSR000EMG</th><td>1.932068</td><td>HS-5                                 </td></tr>\n",
       "\t<tr><th scope=row>ENCSR000EOI</th><td>1.935005</td><td>fibroblast of peridontal ligament    </td></tr>\n",
       "\t<tr><th scope=row>ENCSR000EMH</th><td>1.939550</td><td>stromal cell of bone marrow          </td></tr>\n",
       "\t<tr><th scope=row>ENCSR000EMA</th><td>1.945034</td><td>AG09319                              </td></tr>\n",
       "\t<tr><th scope=row>ENCSR000ELY</th><td>1.950024</td><td>AG04450                              </td></tr>\n",
       "\t<tr><th scope=row>ENCSR555TFE</th><td>1.957594</td><td>fibroblast of skin of left quadriceps</td></tr>\n",
       "\t<tr><th scope=row>ENCSR251UPG</th><td>1.959053</td><td>foreskin fibroblast                  </td></tr>\n",
       "\t<tr><th scope=row>ENCSR648GDP</th><td>1.959953</td><td>fibroblast of skin of left biceps    </td></tr>\n",
       "\t<tr><th scope=row>ENCSR000EMP</th><td>1.962117</td><td>GM04504                              </td></tr>\n",
       "\t<tr><th scope=row>ENCSR360LBD</th><td>1.962999</td><td>fibroblast of skin of scalp          </td></tr>\n",
       "\t<tr><th scope=row>ENCSR000ELZ</th><td>1.965823</td><td>AG09309                              </td></tr>\n",
       "\t<tr><th scope=row>ENCSR371KRY</th><td>1.967910</td><td>fibroblast of skin of left quadriceps</td></tr>\n",
       "\t<tr><th scope=row>ENCSR670VQZ</th><td>1.971908</td><td>fibroblast of skin of upper back     </td></tr>\n",
       "\t<tr><th scope=row>ENCSR000EMO</th><td>1.980618</td><td>GM04503                              </td></tr>\n",
       "\t<tr><th scope=row>ENCSR000ELX</th><td>1.997655</td><td>AG04449                              </td></tr>\n",
       "\t<tr><th scope=row>ENCSR038XTK</th><td>2.007022</td><td>HCEC 1CT                             </td></tr>\n",
       "\t<tr><th scope=row>ENCSR000EME</th><td>2.013939</td><td>BJ                                   </td></tr>\n",
       "</tbody>\n",
       "</table>\n"
      ],
      "text/latex": [
       "A data.frame: 20 × 2\n",
       "\\begin{tabular}{r|ll}\n",
       "  & percentage & Biosample.term.name\\\\\n",
       "  & <dbl> & <fct>\\\\\n",
       "\\hline\n",
       "\tENCSR000EQN & 1.710770 & WI38                                 \\\\\n",
       "\tENCSR000EQM & 1.864732 & WI38                                 \\\\\n",
       "\tENCSR562ACY & 1.920067 & fibroblast of skin of left biceps    \\\\\n",
       "\tENCSR000EMG & 1.932068 & HS-5                                 \\\\\n",
       "\tENCSR000EOI & 1.935005 & fibroblast of peridontal ligament    \\\\\n",
       "\tENCSR000EMH & 1.939550 & stromal cell of bone marrow          \\\\\n",
       "\tENCSR000EMA & 1.945034 & AG09319                              \\\\\n",
       "\tENCSR000ELY & 1.950024 & AG04450                              \\\\\n",
       "\tENCSR555TFE & 1.957594 & fibroblast of skin of left quadriceps\\\\\n",
       "\tENCSR251UPG & 1.959053 & foreskin fibroblast                  \\\\\n",
       "\tENCSR648GDP & 1.959953 & fibroblast of skin of left biceps    \\\\\n",
       "\tENCSR000EMP & 1.962117 & GM04504                              \\\\\n",
       "\tENCSR360LBD & 1.962999 & fibroblast of skin of scalp          \\\\\n",
       "\tENCSR000ELZ & 1.965823 & AG09309                              \\\\\n",
       "\tENCSR371KRY & 1.967910 & fibroblast of skin of left quadriceps\\\\\n",
       "\tENCSR670VQZ & 1.971908 & fibroblast of skin of upper back     \\\\\n",
       "\tENCSR000EMO & 1.980618 & GM04503                              \\\\\n",
       "\tENCSR000ELX & 1.997655 & AG04449                              \\\\\n",
       "\tENCSR038XTK & 2.007022 & HCEC 1CT                             \\\\\n",
       "\tENCSR000EME & 2.013939 & BJ                                   \\\\\n",
       "\\end{tabular}\n"
      ],
      "text/markdown": [
       "\n",
       "A data.frame: 20 × 2\n",
       "\n",
       "| <!--/--> | percentage &lt;dbl&gt; | Biosample.term.name &lt;fct&gt; |\n",
       "|---|---|---|\n",
       "| ENCSR000EQN | 1.710770 | WI38                                  |\n",
       "| ENCSR000EQM | 1.864732 | WI38                                  |\n",
       "| ENCSR562ACY | 1.920067 | fibroblast of skin of left biceps     |\n",
       "| ENCSR000EMG | 1.932068 | HS-5                                  |\n",
       "| ENCSR000EOI | 1.935005 | fibroblast of peridontal ligament     |\n",
       "| ENCSR000EMH | 1.939550 | stromal cell of bone marrow           |\n",
       "| ENCSR000EMA | 1.945034 | AG09319                               |\n",
       "| ENCSR000ELY | 1.950024 | AG04450                               |\n",
       "| ENCSR555TFE | 1.957594 | fibroblast of skin of left quadriceps |\n",
       "| ENCSR251UPG | 1.959053 | foreskin fibroblast                   |\n",
       "| ENCSR648GDP | 1.959953 | fibroblast of skin of left biceps     |\n",
       "| ENCSR000EMP | 1.962117 | GM04504                               |\n",
       "| ENCSR360LBD | 1.962999 | fibroblast of skin of scalp           |\n",
       "| ENCSR000ELZ | 1.965823 | AG09309                               |\n",
       "| ENCSR371KRY | 1.967910 | fibroblast of skin of left quadriceps |\n",
       "| ENCSR670VQZ | 1.971908 | fibroblast of skin of upper back      |\n",
       "| ENCSR000EMO | 1.980618 | GM04503                               |\n",
       "| ENCSR000ELX | 1.997655 | AG04449                               |\n",
       "| ENCSR038XTK | 2.007022 | HCEC 1CT                              |\n",
       "| ENCSR000EME | 2.013939 | BJ                                    |\n",
       "\n"
      ],
      "text/plain": [
       "            percentage Biosample.term.name                  \n",
       "ENCSR000EQN 1.710770   WI38                                 \n",
       "ENCSR000EQM 1.864732   WI38                                 \n",
       "ENCSR562ACY 1.920067   fibroblast of skin of left biceps    \n",
       "ENCSR000EMG 1.932068   HS-5                                 \n",
       "ENCSR000EOI 1.935005   fibroblast of peridontal ligament    \n",
       "ENCSR000EMH 1.939550   stromal cell of bone marrow          \n",
       "ENCSR000EMA 1.945034   AG09319                              \n",
       "ENCSR000ELY 1.950024   AG04450                              \n",
       "ENCSR555TFE 1.957594   fibroblast of skin of left quadriceps\n",
       "ENCSR251UPG 1.959053   foreskin fibroblast                  \n",
       "ENCSR648GDP 1.959953   fibroblast of skin of left biceps    \n",
       "ENCSR000EMP 1.962117   GM04504                              \n",
       "ENCSR360LBD 1.962999   fibroblast of skin of scalp          \n",
       "ENCSR000ELZ 1.965823   AG09309                              \n",
       "ENCSR371KRY 1.967910   fibroblast of skin of left quadriceps\n",
       "ENCSR670VQZ 1.971908   fibroblast of skin of upper back     \n",
       "ENCSR000EMO 1.980618   GM04503                              \n",
       "ENCSR000ELX 1.997655   AG04449                              \n",
       "ENCSR038XTK 2.007022   HCEC 1CT                             \n",
       "ENCSR000EME 2.013939   BJ                                   "
      ]
     },
     "metadata": {},
     "output_type": "display_data"
    }
   ],
   "source": [
    "head(df[order(df$percentage), ], 20)"
   ]
  },
  {
   "cell_type": "code",
   "execution_count": null,
   "metadata": {},
   "outputs": [],
   "source": []
  }
 ],
 "metadata": {
  "kernelspec": {
   "display_name": "R",
   "language": "R",
   "name": "ir"
  },
  "language_info": {
   "codemirror_mode": "r",
   "file_extension": ".r",
   "mimetype": "text/x-r-source",
   "name": "R",
   "pygments_lexer": "r",
   "version": "3.5.1"
  }
 },
 "nbformat": 4,
 "nbformat_minor": 2
}
