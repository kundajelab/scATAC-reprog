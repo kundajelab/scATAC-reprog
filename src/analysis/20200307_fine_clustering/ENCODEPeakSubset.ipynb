{
 "cells": [
  {
   "cell_type": "markdown",
   "metadata": {},
   "source": [
    "# ENCODE Subset Peaks\n",
    "\n",
    "Given a subset of peaks, find out which cells in ENCODE have highest/lowest fraction of reads in those peaks."
   ]
  },
  {
   "cell_type": "code",
   "execution_count": 1,
   "metadata": {},
   "outputs": [
    {
     "name": "stderr",
     "output_type": "stream",
     "text": [
      "Loading required package: stats4\n",
      "\n",
      "Loading required package: BiocGenerics\n",
      "\n",
      "Loading required package: parallel\n",
      "\n",
      "\n",
      "Attaching package: ‘BiocGenerics’\n",
      "\n",
      "\n",
      "The following objects are masked from ‘package:parallel’:\n",
      "\n",
      "    clusterApply, clusterApplyLB, clusterCall, clusterEvalQ,\n",
      "    clusterExport, clusterMap, parApply, parCapply, parLapply,\n",
      "    parLapplyLB, parRapply, parSapply, parSapplyLB\n",
      "\n",
      "\n",
      "The following objects are masked from ‘package:stats’:\n",
      "\n",
      "    IQR, mad, sd, var, xtabs\n",
      "\n",
      "\n",
      "The following objects are masked from ‘package:base’:\n",
      "\n",
      "    anyDuplicated, append, as.data.frame, basename, cbind, colMeans,\n",
      "    colnames, colSums, dirname, do.call, duplicated, eval, evalq,\n",
      "    Filter, Find, get, grep, grepl, intersect, is.unsorted, lapply,\n",
      "    lengths, Map, mapply, match, mget, order, paste, pmax, pmax.int,\n",
      "    pmin, pmin.int, Position, rank, rbind, Reduce, rowMeans, rownames,\n",
      "    rowSums, sapply, setdiff, sort, table, tapply, union, unique,\n",
      "    unsplit, which, which.max, which.min\n",
      "\n",
      "\n",
      "Loading required package: S4Vectors\n",
      "\n",
      "\n",
      "Attaching package: ‘S4Vectors’\n",
      "\n",
      "\n",
      "The following object is masked from ‘package:base’:\n",
      "\n",
      "    expand.grid\n",
      "\n",
      "\n",
      "Loading required package: IRanges\n",
      "\n",
      "Loading required package: GenomeInfoDb\n",
      "\n"
     ]
    }
   ],
   "source": [
    "library(GenomicRanges)"
   ]
  },
  {
   "cell_type": "code",
   "execution_count": 4,
   "metadata": {},
   "outputs": [
    {
     "data": {
      "text/html": [
       "<table>\n",
       "<caption>A data.frame: 2 × 622</caption>\n",
       "<thead>\n",
       "\t<tr><th></th><th scope=col>ENCSR000EID</th><th scope=col>ENCSR000EIE</th><th scope=col>ENCSR000EIF</th><th scope=col>ENCSR000EIG</th><th scope=col>ENCSR000EII</th><th scope=col>ENCSR000EIL</th><th scope=col>ENCSR000EIN</th><th scope=col>ENCSR000EIV</th><th scope=col>ENCSR000EIW</th><th scope=col>ENCSR000EIY</th><th scope=col>⋯</th><th scope=col>ENCSR974TXT</th><th scope=col>ENCSR976XOY</th><th scope=col>ENCSR978QUT</th><th scope=col>ENCSR979ZJS</th><th scope=col>ENCSR986HEN</th><th scope=col>ENCSR986XLW</th><th scope=col>ENCSR988YKR</th><th scope=col>ENCSR989YIV</th><th scope=col>ENCSR990XXC</th><th scope=col>ENCSR999TSD</th></tr>\n",
       "\t<tr><th></th><th scope=col>&lt;int&gt;</th><th scope=col>&lt;int&gt;</th><th scope=col>&lt;int&gt;</th><th scope=col>&lt;int&gt;</th><th scope=col>&lt;int&gt;</th><th scope=col>&lt;int&gt;</th><th scope=col>&lt;int&gt;</th><th scope=col>&lt;int&gt;</th><th scope=col>&lt;int&gt;</th><th scope=col>&lt;int&gt;</th><th scope=col>⋯</th><th scope=col>&lt;int&gt;</th><th scope=col>&lt;int&gt;</th><th scope=col>&lt;int&gt;</th><th scope=col>&lt;int&gt;</th><th scope=col>&lt;int&gt;</th><th scope=col>&lt;int&gt;</th><th scope=col>&lt;int&gt;</th><th scope=col>&lt;int&gt;</th><th scope=col>&lt;int&gt;</th><th scope=col>&lt;int&gt;</th></tr>\n",
       "</thead>\n",
       "<tbody>\n",
       "\t<tr><th scope=row>chr1\t10370\t10641</th><td>28</td><td>9</td><td>17</td><td>8</td><td>49</td><td>28</td><td>7</td><td>11</td><td>20</td><td>33</td><td>⋯</td><td>2</td><td>1</td><td>0</td><td>3</td><td>2</td><td>12</td><td>0</td><td>15</td><td>3</td><td>1</td></tr>\n",
       "\t<tr><th scope=row>chr1\t10711\t11232</th><td>12</td><td>9</td><td> 5</td><td>9</td><td>44</td><td>39</td><td>2</td><td> 7</td><td>13</td><td>27</td><td>⋯</td><td>0</td><td>1</td><td>0</td><td>1</td><td>1</td><td> 2</td><td>0</td><td> 9</td><td>1</td><td>0</td></tr>\n",
       "</tbody>\n",
       "</table>\n"
      ],
      "text/latex": [
       "A data.frame: 2 × 622\n",
       "\\begin{tabular}{r|lllllllllllllllllllll}\n",
       "  & ENCSR000EID & ENCSR000EIE & ENCSR000EIF & ENCSR000EIG & ENCSR000EII & ENCSR000EIL & ENCSR000EIN & ENCSR000EIV & ENCSR000EIW & ENCSR000EIY & ⋯ & ENCSR974TXT & ENCSR976XOY & ENCSR978QUT & ENCSR979ZJS & ENCSR986HEN & ENCSR986XLW & ENCSR988YKR & ENCSR989YIV & ENCSR990XXC & ENCSR999TSD\\\\\n",
       "  & <int> & <int> & <int> & <int> & <int> & <int> & <int> & <int> & <int> & <int> & ⋯ & <int> & <int> & <int> & <int> & <int> & <int> & <int> & <int> & <int> & <int>\\\\\n",
       "\\hline\n",
       "\tchr1\t10370\t10641 & 28 & 9 & 17 & 8 & 49 & 28 & 7 & 11 & 20 & 33 & ⋯ & 2 & 1 & 0 & 3 & 2 & 12 & 0 & 15 & 3 & 1\\\\\n",
       "\tchr1\t10711\t11232 & 12 & 9 &  5 & 9 & 44 & 39 & 2 &  7 & 13 & 27 & ⋯ & 0 & 1 & 0 & 1 & 1 &  2 & 0 &  9 & 1 & 0\\\\\n",
       "\\end{tabular}\n"
      ],
      "text/markdown": [
       "\n",
       "A data.frame: 2 × 622\n",
       "\n",
       "| <!--/--> | ENCSR000EID &lt;int&gt; | ENCSR000EIE &lt;int&gt; | ENCSR000EIF &lt;int&gt; | ENCSR000EIG &lt;int&gt; | ENCSR000EII &lt;int&gt; | ENCSR000EIL &lt;int&gt; | ENCSR000EIN &lt;int&gt; | ENCSR000EIV &lt;int&gt; | ENCSR000EIW &lt;int&gt; | ENCSR000EIY &lt;int&gt; | ⋯ ⋯ | ENCSR974TXT &lt;int&gt; | ENCSR976XOY &lt;int&gt; | ENCSR978QUT &lt;int&gt; | ENCSR979ZJS &lt;int&gt; | ENCSR986HEN &lt;int&gt; | ENCSR986XLW &lt;int&gt; | ENCSR988YKR &lt;int&gt; | ENCSR989YIV &lt;int&gt; | ENCSR990XXC &lt;int&gt; | ENCSR999TSD &lt;int&gt; |\n",
       "|---|---|---|---|---|---|---|---|---|---|---|---|---|---|---|---|---|---|---|---|---|---|\n",
       "| chr1\t10370\t10641 | 28 | 9 | 17 | 8 | 49 | 28 | 7 | 11 | 20 | 33 | ⋯ | 2 | 1 | 0 | 3 | 2 | 12 | 0 | 15 | 3 | 1 |\n",
       "| chr1\t10711\t11232 | 12 | 9 |  5 | 9 | 44 | 39 | 2 |  7 | 13 | 27 | ⋯ | 0 | 1 | 0 | 1 | 1 |  2 | 0 |  9 | 1 | 0 |\n",
       "\n"
      ],
      "text/plain": [
       "                   ENCSR000EID ENCSR000EIE ENCSR000EIF ENCSR000EIG ENCSR000EII\n",
       "chr1\\t10370\\t10641 28          9           17          8           49         \n",
       "chr1\\t10711\\t11232 12          9            5          9           44         \n",
       "                   ENCSR000EIL ENCSR000EIN ENCSR000EIV ENCSR000EIW ENCSR000EIY\n",
       "chr1\\t10370\\t10641 28          7           11          20          33         \n",
       "chr1\\t10711\\t11232 39          2            7          13          27         \n",
       "                   ⋯ ENCSR974TXT ENCSR976XOY ENCSR978QUT ENCSR979ZJS\n",
       "chr1\\t10370\\t10641 ⋯ 2           1           0           3          \n",
       "chr1\\t10711\\t11232 ⋯ 0           1           0           1          \n",
       "                   ENCSR986HEN ENCSR986XLW ENCSR988YKR ENCSR989YIV ENCSR990XXC\n",
       "chr1\\t10370\\t10641 2           12          0           15          3          \n",
       "chr1\\t10711\\t11232 1            2          0            9          1          \n",
       "                   ENCSR999TSD\n",
       "chr1\\t10370\\t10641 1          \n",
       "chr1\\t10711\\t11232 0          "
      ]
     },
     "metadata": {},
     "output_type": "display_data"
    },
    {
     "data": {
      "text/html": [
       "<style>\n",
       ".list-inline {list-style: none; margin:0; padding: 0}\n",
       ".list-inline>li {display: inline-block}\n",
       ".list-inline>li:not(:last-child)::after {content: \"\\00b7\"; padding: 0 .5ex}\n",
       "</style>\n",
       "<ol class=list-inline><li>2027128</li><li>622</li></ol>\n"
      ],
      "text/latex": [
       "\\begin{enumerate*}\n",
       "\\item 2027128\n",
       "\\item 622\n",
       "\\end{enumerate*}\n"
      ],
      "text/markdown": [
       "1. 2027128\n",
       "2. 622\n",
       "\n",
       "\n"
      ],
      "text/plain": [
       "[1] 2027128     622"
      ]
     },
     "metadata": {},
     "output_type": "display_data"
    }
   ],
   "source": [
    "# load encode counts matrix\n",
    "cts <- read.csv(\"/oak/stanford/groups/akundaje/projects/atlas/counts_matrices/atlas.dnase.overlap.counts.txt\",sep=\"\\t\")\n",
    "rownames(cts)=paste(cts$chr,cts$start,cts$end,sep='\\t')\n",
    "cts$chrom = NULL\n",
    "cts$start = NULL\n",
    "cts$end = NULL\n",
    "head(cts, 2)\n",
    "dim(cts)"
   ]
  },
  {
   "cell_type": "code",
   "execution_count": 5,
   "metadata": {},
   "outputs": [],
   "source": [
    "encode_peaks_gr = GRanges(sub(\"\\t\", \"-\", sub(\"\\t\", \":\", rownames(cts))))"
   ]
  },
  {
   "cell_type": "code",
   "execution_count": 6,
   "metadata": {},
   "outputs": [
    {
     "data": {
      "text/plain": [
       "GRanges object with 6 ranges and 0 metadata columns:\n",
       "      seqnames      ranges strand\n",
       "         <Rle>   <IRanges>  <Rle>\n",
       "  [1]     chr1 10370-10641      *\n",
       "  [2]     chr1 10711-11232      *\n",
       "  [3]     chr1 11308-11533      *\n",
       "  [4]     chr1 14499-14700      *\n",
       "  [5]     chr1 16142-16349      *\n",
       "  [6]     chr1 25958-26158      *\n",
       "  -------\n",
       "  seqinfo: 24 sequences from an unspecified genome; no seqlengths"
      ]
     },
     "metadata": {},
     "output_type": "display_data"
    }
   ],
   "source": [
    "head(encode_peaks_gr)"
   ]
  },
  {
   "cell_type": "code",
   "execution_count": 7,
   "metadata": {},
   "outputs": [
    {
     "data": {
      "text/plain": [
       "NULL"
      ]
     },
     "metadata": {},
     "output_type": "display_data"
    }
   ],
   "source": [
    "colnames(metadata)"
   ]
  },
  {
   "cell_type": "code",
   "execution_count": 8,
   "metadata": {},
   "outputs": [
    {
     "data": {
      "text/html": [
       "<table>\n",
       "<caption>A data.frame: 6 × 2</caption>\n",
       "<thead>\n",
       "\t<tr><th></th><th scope=col>Biosample.summary</th><th scope=col>Biosample.term.name</th></tr>\n",
       "\t<tr><th></th><th scope=col>&lt;fct&gt;</th><th scope=col>&lt;fct&gt;</th></tr>\n",
       "</thead>\n",
       "<tbody>\n",
       "\t<tr><th scope=row>ENCSR728BAD</th><td>adrenal gland male embryo (108 days)                                  </td><td>adrenal gland                   </td></tr>\n",
       "\t<tr><th scope=row>ENCSR724CND</th><td>foreskin keratinocyte male newborn                                    </td><td>foreskin keratinocyte           </td></tr>\n",
       "\t<tr><th scope=row>ENCSR770DEN</th><td>fibroblast of skin of scalp male embryo (97 days)                     </td><td>fibroblast of skin of scalp     </td></tr>\n",
       "\t<tr><th scope=row>ENCSR594OWA</th><td>small intestine male embryo (91 day)                                  </td><td>small intestine                 </td></tr>\n",
       "\t<tr><th scope=row>ENCSR325LYJ</th><td>fibroblast of skin of upper back male embryo (97 days)                </td><td>fibroblast of skin of upper back</td></tr>\n",
       "\t<tr><th scope=row>ENCSR257CIZ</th><td>kidney tubule cell female adult (80 years) treated with 5 μM cisplatin</td><td>kidney tubule cell              </td></tr>\n",
       "</tbody>\n",
       "</table>\n"
      ],
      "text/latex": [
       "A data.frame: 6 × 2\n",
       "\\begin{tabular}{r|ll}\n",
       "  & Biosample.summary & Biosample.term.name\\\\\n",
       "  & <fct> & <fct>\\\\\n",
       "\\hline\n",
       "\tENCSR728BAD & adrenal gland male embryo (108 days)                                   & adrenal gland                   \\\\\n",
       "\tENCSR724CND & foreskin keratinocyte male newborn                                     & foreskin keratinocyte           \\\\\n",
       "\tENCSR770DEN & fibroblast of skin of scalp male embryo (97 days)                      & fibroblast of skin of scalp     \\\\\n",
       "\tENCSR594OWA & small intestine male embryo (91 day)                                   & small intestine                 \\\\\n",
       "\tENCSR325LYJ & fibroblast of skin of upper back male embryo (97 days)                 & fibroblast of skin of upper back\\\\\n",
       "\tENCSR257CIZ & kidney tubule cell female adult (80 years) treated with 5 μM cisplatin & kidney tubule cell              \\\\\n",
       "\\end{tabular}\n"
      ],
      "text/markdown": [
       "\n",
       "A data.frame: 6 × 2\n",
       "\n",
       "| <!--/--> | Biosample.summary &lt;fct&gt; | Biosample.term.name &lt;fct&gt; |\n",
       "|---|---|---|\n",
       "| ENCSR728BAD | adrenal gland male embryo (108 days)                                   | adrenal gland                    |\n",
       "| ENCSR724CND | foreskin keratinocyte male newborn                                     | foreskin keratinocyte            |\n",
       "| ENCSR770DEN | fibroblast of skin of scalp male embryo (97 days)                      | fibroblast of skin of scalp      |\n",
       "| ENCSR594OWA | small intestine male embryo (91 day)                                   | small intestine                  |\n",
       "| ENCSR325LYJ | fibroblast of skin of upper back male embryo (97 days)                 | fibroblast of skin of upper back |\n",
       "| ENCSR257CIZ | kidney tubule cell female adult (80 years) treated with 5 μM cisplatin | kidney tubule cell               |\n",
       "\n"
      ],
      "text/plain": [
       "            Biosample.summary                                                     \n",
       "ENCSR728BAD adrenal gland male embryo (108 days)                                  \n",
       "ENCSR724CND foreskin keratinocyte male newborn                                    \n",
       "ENCSR770DEN fibroblast of skin of scalp male embryo (97 days)                     \n",
       "ENCSR594OWA small intestine male embryo (91 day)                                  \n",
       "ENCSR325LYJ fibroblast of skin of upper back male embryo (97 days)                \n",
       "ENCSR257CIZ kidney tubule cell female adult (80 years) treated with 5 μM cisplatin\n",
       "            Biosample.term.name             \n",
       "ENCSR728BAD adrenal gland                   \n",
       "ENCSR724CND foreskin keratinocyte           \n",
       "ENCSR770DEN fibroblast of skin of scalp     \n",
       "ENCSR594OWA small intestine                 \n",
       "ENCSR325LYJ fibroblast of skin of upper back\n",
       "ENCSR257CIZ kidney tubule cell              "
      ]
     },
     "metadata": {},
     "output_type": "display_data"
    }
   ],
   "source": [
    "# ENCODE metadata\n",
    "metadata = read.delim(\"/oak/stanford/groups/akundaje/projects/atlas/dnase_experiments_metadata.tsv\", \n",
    "                      sep=\"\\t\",\n",
    "                     skip=1,\n",
    "                     header=T,\n",
    "                     fill=T)\n",
    "metadata = metadata[, c(\"Accession\", \"Biosample.summary\", \"Biosample.term.name\")]\n",
    "rownames(metadata) = metadata$Accession\n",
    "metadata$Accession = NULL\n",
    "head(metadata)"
   ]
  },
  {
   "cell_type": "code",
   "execution_count": 10,
   "metadata": {},
   "outputs": [
    {
     "data": {
      "text/plain": [
       "GRanges object with 6 ranges and 0 metadata columns:\n",
       "      seqnames          ranges strand\n",
       "         <Rle>       <IRanges>  <Rle>\n",
       "  [1]     chr1   842500-843500      *\n",
       "  [2]     chr1   981625-982625      *\n",
       "  [3]     chr1 1450258-1451258      *\n",
       "  [4]     chr1 1450475-1451475      *\n",
       "  [5]     chr1 1453062-1454062      *\n",
       "  [6]     chr1 1489562-1490562      *\n",
       "  -------\n",
       "  seqinfo: 24 sequences from an unspecified genome; no seqlengths"
      ]
     },
     "metadata": {},
     "output_type": "display_data"
    }
   ],
   "source": [
    "# ref peaks\n",
    "peak_set = read.table(\"./beds/20200307_gridmap_naive_n15/agg.idx3.8.15.1000bp.bed\",\n",
    "                      header=F, sep='')\n",
    "colnames(peak_set) = c(\"chr\", \"start\", \"end\")\n",
    "peak_set = makeGRangesFromDataFrame(peak_set)\n",
    "head(peak_set)"
   ]
  },
  {
   "cell_type": "code",
   "execution_count": 11,
   "metadata": {},
   "outputs": [
    {
     "data": {
      "text/plain": [
       "Hits object with 125905 hits and 0 metadata columns:\n",
       "           queryHits subjectHits\n",
       "           <integer>   <integer>\n",
       "       [1]        80       62673\n",
       "       [2]       109       62674\n",
       "       [3]       134       62675\n",
       "       [4]       145           1\n",
       "       [5]       242           2\n",
       "       ...       ...         ...\n",
       "  [125901]   2025822       35704\n",
       "  [125902]   2025822       62671\n",
       "  [125903]   2025837       35705\n",
       "  [125904]   2026008       62672\n",
       "  [125905]   2026009       62672\n",
       "  -------\n",
       "  queryLength: 2027128 / subjectLength: 92930"
      ]
     },
     "metadata": {},
     "output_type": "display_data"
    }
   ],
   "source": [
    "overlaps = findOverlaps(encode_peaks_gr, peak_set)\n",
    "overlaps"
   ]
  },
  {
   "cell_type": "code",
   "execution_count": 12,
   "metadata": {},
   "outputs": [
    {
     "data": {
      "text/html": [
       "109128"
      ],
      "text/latex": [
       "109128"
      ],
      "text/markdown": [
       "109128"
      ],
      "text/plain": [
       "[1] 109128"
      ]
     },
     "metadata": {},
     "output_type": "display_data"
    }
   ],
   "source": [
    "length(unique(queryHits(overlaps)))"
   ]
  },
  {
   "cell_type": "code",
   "execution_count": 13,
   "metadata": {},
   "outputs": [],
   "source": [
    "frac_reads_in_peak_set = colSums(cts[unique(queryHits(overlaps)),])/colSums(cts)"
   ]
  },
  {
   "cell_type": "code",
   "execution_count": 14,
   "metadata": {},
   "outputs": [
    {
     "data": {
      "text/html": [
       "<table>\n",
       "<caption>A data.frame: 100 × 2</caption>\n",
       "<thead>\n",
       "\t<tr><th></th><th scope=col>percentage</th><th scope=col>Biosample.term.name</th></tr>\n",
       "\t<tr><th></th><th scope=col>&lt;dbl&gt;</th><th scope=col>&lt;fct&gt;</th></tr>\n",
       "</thead>\n",
       "<tbody>\n",
       "\t<tr><th scope=row>ENCSR620QNS</th><td>8.186784</td><td>HAP-1                                    </td></tr>\n",
       "\t<tr><th scope=row>ENCSR420NOA</th><td>6.722068</td><td>hematopoietic multipotent progenitor cell</td></tr>\n",
       "\t<tr><th scope=row>ENCSR318PRQ</th><td>6.679637</td><td>middle frontal gyrus                     </td></tr>\n",
       "\t<tr><th scope=row>ENCSR706IDL</th><td>6.593538</td><td>midbrain                                 </td></tr>\n",
       "\t<tr><th scope=row>ENCSR015BGH</th><td>6.578093</td><td>caudate nucleus                          </td></tr>\n",
       "\t<tr><th scope=row>ENCSR000EPX</th><td>6.461754</td><td>bronchial epithelial cell                </td></tr>\n",
       "\t<tr><th scope=row>ENCSR224IYD</th><td>6.438872</td><td>medulla oblongata                        </td></tr>\n",
       "\t<tr><th scope=row>ENCSR859CZM</th><td>6.403644</td><td>occipital lobe                           </td></tr>\n",
       "\t<tr><th scope=row>ENCSR937UWI</th><td>6.394680</td><td>hematopoietic multipotent progenitor cell</td></tr>\n",
       "\t<tr><th scope=row>ENCSR000EPY</th><td>6.358615</td><td>SK-N-MC                                  </td></tr>\n",
       "\t<tr><th scope=row>ENCSR000EPU</th><td>6.309066</td><td>epithelial cell of prostate              </td></tr>\n",
       "\t<tr><th scope=row>ENCSR533VAF</th><td>6.303331</td><td>heart                                    </td></tr>\n",
       "\t<tr><th scope=row>ENCSR979ZJS</th><td>6.289876</td><td>transverse colon                         </td></tr>\n",
       "\t<tr><th scope=row>ENCSR000EPQ</th><td>6.244177</td><td>keratinocyte                             </td></tr>\n",
       "\t<tr><th scope=row>ENCSR771DAX</th><td>6.243885</td><td>globus pallidus                          </td></tr>\n",
       "\t<tr><th scope=row>ENCSR187PYY</th><td>6.241802</td><td>brain                                    </td></tr>\n",
       "\t<tr><th scope=row>ENCSR845CFB</th><td>6.241070</td><td>hematopoietic multipotent progenitor cell</td></tr>\n",
       "\t<tr><th scope=row>ENCSR518JGY</th><td>6.234390</td><td>foreskin melanocyte                      </td></tr>\n",
       "\t<tr><th scope=row>ENCSR000EIN</th><td>6.231988</td><td>COLO829                                  </td></tr>\n",
       "\t<tr><th scope=row>ENCSR931UQB</th><td>6.201617</td><td>small intestine                          </td></tr>\n",
       "\t<tr><th scope=row>ENCSR000EQF</th><td>6.201563</td><td>T-helper 17 cell                         </td></tr>\n",
       "\t<tr><th scope=row>ENCSR000EOQ</th><td>6.198471</td><td>endothelial cell of umbilical vein       </td></tr>\n",
       "\t<tr><th scope=row>ENCSR434OBM</th><td>6.192132</td><td>foreskin melanocyte                      </td></tr>\n",
       "\t<tr><th scope=row>ENCSR035RVH</th><td>6.190689</td><td>foreskin keratinocyte                    </td></tr>\n",
       "\t<tr><th scope=row>ENCSR008SDL</th><td>6.166544</td><td>SK-MEL-5                                 </td></tr>\n",
       "\t<tr><th scope=row>ENCSR937RVN</th><td>6.161476</td><td>muscle of leg                            </td></tr>\n",
       "\t<tr><th scope=row>ENCSR000ENN</th><td>6.142292</td><td>epithelial cell of esophagus             </td></tr>\n",
       "\t<tr><th scope=row>ENCSR052AWE</th><td>6.140112</td><td>PC-3                                     </td></tr>\n",
       "\t<tr><th scope=row>ENCSR782SSS</th><td>6.137295</td><td>stomach                                  </td></tr>\n",
       "\t<tr><th scope=row>ENCSR000EOK</th><td>6.124725</td><td>renal cortical epithelial cell           </td></tr>\n",
       "\t<tr><th scope=row>⋮</th><td>⋮</td><td>⋮</td></tr>\n",
       "\t<tr><th scope=row>ENCSR118WIQ</th><td>5.938115</td><td>brain                                               </td></tr>\n",
       "\t<tr><th scope=row>ENCSR265TEK</th><td>5.937353</td><td>NCI-H226                                            </td></tr>\n",
       "\t<tr><th scope=row>ENCSR846CTA</th><td>5.934287</td><td>right lung                                          </td></tr>\n",
       "\t<tr><th scope=row>ENCSR914DOH</th><td>5.928232</td><td>heart                                               </td></tr>\n",
       "\t<tr><th scope=row>ENCSR156CLC</th><td>5.924553</td><td>brain                                               </td></tr>\n",
       "\t<tr><th scope=row>ENCSR865ICK</th><td>5.921189</td><td>adrenal gland                                       </td></tr>\n",
       "\t<tr><th scope=row>ENCSR868XPR</th><td>5.916589</td><td>muscle of arm                                       </td></tr>\n",
       "\t<tr><th scope=row>ENCSR257CIZ</th><td>5.912800</td><td>kidney tubule cell                                  </td></tr>\n",
       "\t<tr><th scope=row>ENCSR000EIV</th><td>5.903928</td><td>AG08395                                             </td></tr>\n",
       "\t<tr><th scope=row>ENCSR121ZSL</th><td>5.902558</td><td>trophoblast cell                                    </td></tr>\n",
       "\t<tr><th scope=row>ENCSR000EJB</th><td>5.900685</td><td>GM10248                                             </td></tr>\n",
       "\t<tr><th scope=row>ENCSR564JUY</th><td>5.898008</td><td>hematopoietic multipotent progenitor cell           </td></tr>\n",
       "\t<tr><th scope=row>ENCSR148VUP</th><td>5.892730</td><td>hematopoietic multipotent progenitor cell           </td></tr>\n",
       "\t<tr><th scope=row>ENCSR115YPI</th><td>5.891864</td><td>hematopoietic multipotent progenitor cell           </td></tr>\n",
       "\t<tr><th scope=row>ENCSR638HMQ</th><td>5.883706</td><td>NCI-H460                                            </td></tr>\n",
       "\t<tr><th scope=row>ENCSR000EJS</th><td>5.878727</td><td>HeLa-S3                                             </td></tr>\n",
       "\t<tr><th scope=row>ENCSR809CEA</th><td>5.878140</td><td>H4                                                  </td></tr>\n",
       "\t<tr><th scope=row>ENCSR587HPR</th><td>5.871969</td><td>lung                                                </td></tr>\n",
       "\t<tr><th scope=row>ENCSR000EPF</th><td>5.871438</td><td>LNCaP clone FGC                                     </td></tr>\n",
       "\t<tr><th scope=row>ENCSR000EKL</th><td>5.866432</td><td>Ishikawa                                            </td></tr>\n",
       "\t<tr><th scope=row>ENCSR000EPN</th><td>5.865641</td><td>bronchial epithelial cell                           </td></tr>\n",
       "\t<tr><th scope=row>ENCSR000EML</th><td>5.861726</td><td>naive thymus-derived CD4-positive, alpha-beta T cell</td></tr>\n",
       "\t<tr><th scope=row>ENCSR149XIL</th><td>5.859479</td><td>HepG2                                               </td></tr>\n",
       "\t<tr><th scope=row>ENCSR582IPV</th><td>5.857510</td><td>lung                                                </td></tr>\n",
       "\t<tr><th scope=row>ENCSR017OZH</th><td>5.856561</td><td>H9                                                  </td></tr>\n",
       "\t<tr><th scope=row>ENCSR000ELP</th><td>5.850508</td><td>RWPE1                                               </td></tr>\n",
       "\t<tr><th scope=row>ENCSR946MVP</th><td>5.849870</td><td>SK-N-DZ                                             </td></tr>\n",
       "\t<tr><th scope=row>ENCSR940NLN</th><td>5.844904</td><td>PC-9                                                </td></tr>\n",
       "\t<tr><th scope=row>ENCSR437KLY</th><td>5.841253</td><td>kidney                                              </td></tr>\n",
       "\t<tr><th scope=row>ENCSR000EPP</th><td>5.840987</td><td>foreskin fibroblast                                 </td></tr>\n",
       "</tbody>\n",
       "</table>\n"
      ],
      "text/latex": [
       "A data.frame: 100 × 2\n",
       "\\begin{tabular}{r|ll}\n",
       "  & percentage & Biosample.term.name\\\\\n",
       "  & <dbl> & <fct>\\\\\n",
       "\\hline\n",
       "\tENCSR620QNS & 8.186784 & HAP-1                                    \\\\\n",
       "\tENCSR420NOA & 6.722068 & hematopoietic multipotent progenitor cell\\\\\n",
       "\tENCSR318PRQ & 6.679637 & middle frontal gyrus                     \\\\\n",
       "\tENCSR706IDL & 6.593538 & midbrain                                 \\\\\n",
       "\tENCSR015BGH & 6.578093 & caudate nucleus                          \\\\\n",
       "\tENCSR000EPX & 6.461754 & bronchial epithelial cell                \\\\\n",
       "\tENCSR224IYD & 6.438872 & medulla oblongata                        \\\\\n",
       "\tENCSR859CZM & 6.403644 & occipital lobe                           \\\\\n",
       "\tENCSR937UWI & 6.394680 & hematopoietic multipotent progenitor cell\\\\\n",
       "\tENCSR000EPY & 6.358615 & SK-N-MC                                  \\\\\n",
       "\tENCSR000EPU & 6.309066 & epithelial cell of prostate              \\\\\n",
       "\tENCSR533VAF & 6.303331 & heart                                    \\\\\n",
       "\tENCSR979ZJS & 6.289876 & transverse colon                         \\\\\n",
       "\tENCSR000EPQ & 6.244177 & keratinocyte                             \\\\\n",
       "\tENCSR771DAX & 6.243885 & globus pallidus                          \\\\\n",
       "\tENCSR187PYY & 6.241802 & brain                                    \\\\\n",
       "\tENCSR845CFB & 6.241070 & hematopoietic multipotent progenitor cell\\\\\n",
       "\tENCSR518JGY & 6.234390 & foreskin melanocyte                      \\\\\n",
       "\tENCSR000EIN & 6.231988 & COLO829                                  \\\\\n",
       "\tENCSR931UQB & 6.201617 & small intestine                          \\\\\n",
       "\tENCSR000EQF & 6.201563 & T-helper 17 cell                         \\\\\n",
       "\tENCSR000EOQ & 6.198471 & endothelial cell of umbilical vein       \\\\\n",
       "\tENCSR434OBM & 6.192132 & foreskin melanocyte                      \\\\\n",
       "\tENCSR035RVH & 6.190689 & foreskin keratinocyte                    \\\\\n",
       "\tENCSR008SDL & 6.166544 & SK-MEL-5                                 \\\\\n",
       "\tENCSR937RVN & 6.161476 & muscle of leg                            \\\\\n",
       "\tENCSR000ENN & 6.142292 & epithelial cell of esophagus             \\\\\n",
       "\tENCSR052AWE & 6.140112 & PC-3                                     \\\\\n",
       "\tENCSR782SSS & 6.137295 & stomach                                  \\\\\n",
       "\tENCSR000EOK & 6.124725 & renal cortical epithelial cell           \\\\\n",
       "\t⋮ & ⋮ & ⋮\\\\\n",
       "\tENCSR118WIQ & 5.938115 & brain                                               \\\\\n",
       "\tENCSR265TEK & 5.937353 & NCI-H226                                            \\\\\n",
       "\tENCSR846CTA & 5.934287 & right lung                                          \\\\\n",
       "\tENCSR914DOH & 5.928232 & heart                                               \\\\\n",
       "\tENCSR156CLC & 5.924553 & brain                                               \\\\\n",
       "\tENCSR865ICK & 5.921189 & adrenal gland                                       \\\\\n",
       "\tENCSR868XPR & 5.916589 & muscle of arm                                       \\\\\n",
       "\tENCSR257CIZ & 5.912800 & kidney tubule cell                                  \\\\\n",
       "\tENCSR000EIV & 5.903928 & AG08395                                             \\\\\n",
       "\tENCSR121ZSL & 5.902558 & trophoblast cell                                    \\\\\n",
       "\tENCSR000EJB & 5.900685 & GM10248                                             \\\\\n",
       "\tENCSR564JUY & 5.898008 & hematopoietic multipotent progenitor cell           \\\\\n",
       "\tENCSR148VUP & 5.892730 & hematopoietic multipotent progenitor cell           \\\\\n",
       "\tENCSR115YPI & 5.891864 & hematopoietic multipotent progenitor cell           \\\\\n",
       "\tENCSR638HMQ & 5.883706 & NCI-H460                                            \\\\\n",
       "\tENCSR000EJS & 5.878727 & HeLa-S3                                             \\\\\n",
       "\tENCSR809CEA & 5.878140 & H4                                                  \\\\\n",
       "\tENCSR587HPR & 5.871969 & lung                                                \\\\\n",
       "\tENCSR000EPF & 5.871438 & LNCaP clone FGC                                     \\\\\n",
       "\tENCSR000EKL & 5.866432 & Ishikawa                                            \\\\\n",
       "\tENCSR000EPN & 5.865641 & bronchial epithelial cell                           \\\\\n",
       "\tENCSR000EML & 5.861726 & naive thymus-derived CD4-positive, alpha-beta T cell\\\\\n",
       "\tENCSR149XIL & 5.859479 & HepG2                                               \\\\\n",
       "\tENCSR582IPV & 5.857510 & lung                                                \\\\\n",
       "\tENCSR017OZH & 5.856561 & H9                                                  \\\\\n",
       "\tENCSR000ELP & 5.850508 & RWPE1                                               \\\\\n",
       "\tENCSR946MVP & 5.849870 & SK-N-DZ                                             \\\\\n",
       "\tENCSR940NLN & 5.844904 & PC-9                                                \\\\\n",
       "\tENCSR437KLY & 5.841253 & kidney                                              \\\\\n",
       "\tENCSR000EPP & 5.840987 & foreskin fibroblast                                 \\\\\n",
       "\\end{tabular}\n"
      ],
      "text/markdown": [
       "\n",
       "A data.frame: 100 × 2\n",
       "\n",
       "| <!--/--> | percentage &lt;dbl&gt; | Biosample.term.name &lt;fct&gt; |\n",
       "|---|---|---|\n",
       "| ENCSR620QNS | 8.186784 | HAP-1                                     |\n",
       "| ENCSR420NOA | 6.722068 | hematopoietic multipotent progenitor cell |\n",
       "| ENCSR318PRQ | 6.679637 | middle frontal gyrus                      |\n",
       "| ENCSR706IDL | 6.593538 | midbrain                                  |\n",
       "| ENCSR015BGH | 6.578093 | caudate nucleus                           |\n",
       "| ENCSR000EPX | 6.461754 | bronchial epithelial cell                 |\n",
       "| ENCSR224IYD | 6.438872 | medulla oblongata                         |\n",
       "| ENCSR859CZM | 6.403644 | occipital lobe                            |\n",
       "| ENCSR937UWI | 6.394680 | hematopoietic multipotent progenitor cell |\n",
       "| ENCSR000EPY | 6.358615 | SK-N-MC                                   |\n",
       "| ENCSR000EPU | 6.309066 | epithelial cell of prostate               |\n",
       "| ENCSR533VAF | 6.303331 | heart                                     |\n",
       "| ENCSR979ZJS | 6.289876 | transverse colon                          |\n",
       "| ENCSR000EPQ | 6.244177 | keratinocyte                              |\n",
       "| ENCSR771DAX | 6.243885 | globus pallidus                           |\n",
       "| ENCSR187PYY | 6.241802 | brain                                     |\n",
       "| ENCSR845CFB | 6.241070 | hematopoietic multipotent progenitor cell |\n",
       "| ENCSR518JGY | 6.234390 | foreskin melanocyte                       |\n",
       "| ENCSR000EIN | 6.231988 | COLO829                                   |\n",
       "| ENCSR931UQB | 6.201617 | small intestine                           |\n",
       "| ENCSR000EQF | 6.201563 | T-helper 17 cell                          |\n",
       "| ENCSR000EOQ | 6.198471 | endothelial cell of umbilical vein        |\n",
       "| ENCSR434OBM | 6.192132 | foreskin melanocyte                       |\n",
       "| ENCSR035RVH | 6.190689 | foreskin keratinocyte                     |\n",
       "| ENCSR008SDL | 6.166544 | SK-MEL-5                                  |\n",
       "| ENCSR937RVN | 6.161476 | muscle of leg                             |\n",
       "| ENCSR000ENN | 6.142292 | epithelial cell of esophagus              |\n",
       "| ENCSR052AWE | 6.140112 | PC-3                                      |\n",
       "| ENCSR782SSS | 6.137295 | stomach                                   |\n",
       "| ENCSR000EOK | 6.124725 | renal cortical epithelial cell            |\n",
       "| ⋮ | ⋮ | ⋮ |\n",
       "| ENCSR118WIQ | 5.938115 | brain                                                |\n",
       "| ENCSR265TEK | 5.937353 | NCI-H226                                             |\n",
       "| ENCSR846CTA | 5.934287 | right lung                                           |\n",
       "| ENCSR914DOH | 5.928232 | heart                                                |\n",
       "| ENCSR156CLC | 5.924553 | brain                                                |\n",
       "| ENCSR865ICK | 5.921189 | adrenal gland                                        |\n",
       "| ENCSR868XPR | 5.916589 | muscle of arm                                        |\n",
       "| ENCSR257CIZ | 5.912800 | kidney tubule cell                                   |\n",
       "| ENCSR000EIV | 5.903928 | AG08395                                              |\n",
       "| ENCSR121ZSL | 5.902558 | trophoblast cell                                     |\n",
       "| ENCSR000EJB | 5.900685 | GM10248                                              |\n",
       "| ENCSR564JUY | 5.898008 | hematopoietic multipotent progenitor cell            |\n",
       "| ENCSR148VUP | 5.892730 | hematopoietic multipotent progenitor cell            |\n",
       "| ENCSR115YPI | 5.891864 | hematopoietic multipotent progenitor cell            |\n",
       "| ENCSR638HMQ | 5.883706 | NCI-H460                                             |\n",
       "| ENCSR000EJS | 5.878727 | HeLa-S3                                              |\n",
       "| ENCSR809CEA | 5.878140 | H4                                                   |\n",
       "| ENCSR587HPR | 5.871969 | lung                                                 |\n",
       "| ENCSR000EPF | 5.871438 | LNCaP clone FGC                                      |\n",
       "| ENCSR000EKL | 5.866432 | Ishikawa                                             |\n",
       "| ENCSR000EPN | 5.865641 | bronchial epithelial cell                            |\n",
       "| ENCSR000EML | 5.861726 | naive thymus-derived CD4-positive, alpha-beta T cell |\n",
       "| ENCSR149XIL | 5.859479 | HepG2                                                |\n",
       "| ENCSR582IPV | 5.857510 | lung                                                 |\n",
       "| ENCSR017OZH | 5.856561 | H9                                                   |\n",
       "| ENCSR000ELP | 5.850508 | RWPE1                                                |\n",
       "| ENCSR946MVP | 5.849870 | SK-N-DZ                                              |\n",
       "| ENCSR940NLN | 5.844904 | PC-9                                                 |\n",
       "| ENCSR437KLY | 5.841253 | kidney                                               |\n",
       "| ENCSR000EPP | 5.840987 | foreskin fibroblast                                  |\n",
       "\n"
      ],
      "text/plain": [
       "            percentage Biosample.term.name                                 \n",
       "ENCSR620QNS 8.186784   HAP-1                                               \n",
       "ENCSR420NOA 6.722068   hematopoietic multipotent progenitor cell           \n",
       "ENCSR318PRQ 6.679637   middle frontal gyrus                                \n",
       "ENCSR706IDL 6.593538   midbrain                                            \n",
       "ENCSR015BGH 6.578093   caudate nucleus                                     \n",
       "ENCSR000EPX 6.461754   bronchial epithelial cell                           \n",
       "ENCSR224IYD 6.438872   medulla oblongata                                   \n",
       "ENCSR859CZM 6.403644   occipital lobe                                      \n",
       "ENCSR937UWI 6.394680   hematopoietic multipotent progenitor cell           \n",
       "ENCSR000EPY 6.358615   SK-N-MC                                             \n",
       "ENCSR000EPU 6.309066   epithelial cell of prostate                         \n",
       "ENCSR533VAF 6.303331   heart                                               \n",
       "ENCSR979ZJS 6.289876   transverse colon                                    \n",
       "ENCSR000EPQ 6.244177   keratinocyte                                        \n",
       "ENCSR771DAX 6.243885   globus pallidus                                     \n",
       "ENCSR187PYY 6.241802   brain                                               \n",
       "ENCSR845CFB 6.241070   hematopoietic multipotent progenitor cell           \n",
       "ENCSR518JGY 6.234390   foreskin melanocyte                                 \n",
       "ENCSR000EIN 6.231988   COLO829                                             \n",
       "ENCSR931UQB 6.201617   small intestine                                     \n",
       "ENCSR000EQF 6.201563   T-helper 17 cell                                    \n",
       "ENCSR000EOQ 6.198471   endothelial cell of umbilical vein                  \n",
       "ENCSR434OBM 6.192132   foreskin melanocyte                                 \n",
       "ENCSR035RVH 6.190689   foreskin keratinocyte                               \n",
       "ENCSR008SDL 6.166544   SK-MEL-5                                            \n",
       "ENCSR937RVN 6.161476   muscle of leg                                       \n",
       "ENCSR000ENN 6.142292   epithelial cell of esophagus                        \n",
       "ENCSR052AWE 6.140112   PC-3                                                \n",
       "ENCSR782SSS 6.137295   stomach                                             \n",
       "ENCSR000EOK 6.124725   renal cortical epithelial cell                      \n",
       "⋮           ⋮          ⋮                                                   \n",
       "ENCSR118WIQ 5.938115   brain                                               \n",
       "ENCSR265TEK 5.937353   NCI-H226                                            \n",
       "ENCSR846CTA 5.934287   right lung                                          \n",
       "ENCSR914DOH 5.928232   heart                                               \n",
       "ENCSR156CLC 5.924553   brain                                               \n",
       "ENCSR865ICK 5.921189   adrenal gland                                       \n",
       "ENCSR868XPR 5.916589   muscle of arm                                       \n",
       "ENCSR257CIZ 5.912800   kidney tubule cell                                  \n",
       "ENCSR000EIV 5.903928   AG08395                                             \n",
       "ENCSR121ZSL 5.902558   trophoblast cell                                    \n",
       "ENCSR000EJB 5.900685   GM10248                                             \n",
       "ENCSR564JUY 5.898008   hematopoietic multipotent progenitor cell           \n",
       "ENCSR148VUP 5.892730   hematopoietic multipotent progenitor cell           \n",
       "ENCSR115YPI 5.891864   hematopoietic multipotent progenitor cell           \n",
       "ENCSR638HMQ 5.883706   NCI-H460                                            \n",
       "ENCSR000EJS 5.878727   HeLa-S3                                             \n",
       "ENCSR809CEA 5.878140   H4                                                  \n",
       "ENCSR587HPR 5.871969   lung                                                \n",
       "ENCSR000EPF 5.871438   LNCaP clone FGC                                     \n",
       "ENCSR000EKL 5.866432   Ishikawa                                            \n",
       "ENCSR000EPN 5.865641   bronchial epithelial cell                           \n",
       "ENCSR000EML 5.861726   naive thymus-derived CD4-positive, alpha-beta T cell\n",
       "ENCSR149XIL 5.859479   HepG2                                               \n",
       "ENCSR582IPV 5.857510   lung                                                \n",
       "ENCSR017OZH 5.856561   H9                                                  \n",
       "ENCSR000ELP 5.850508   RWPE1                                               \n",
       "ENCSR946MVP 5.849870   SK-N-DZ                                             \n",
       "ENCSR940NLN 5.844904   PC-9                                                \n",
       "ENCSR437KLY 5.841253   kidney                                              \n",
       "ENCSR000EPP 5.840987   foreskin fibroblast                                 "
      ]
     },
     "metadata": {},
     "output_type": "display_data"
    }
   ],
   "source": [
    "df = data.frame(percentage=100*frac_reads_in_peak_set,\n",
    "               metadata[names(frac_reads_in_peak_set),])\n",
    "df = df[rev(order(df$percentage)), c(\"percentage\", \"Biosample.term.name\")]\n",
    "head(df, 100)"
   ]
  },
  {
   "cell_type": "code",
   "execution_count": 48,
   "metadata": {},
   "outputs": [
    {
     "data": {
      "text/html": [
       "<table>\n",
       "<caption>A data.frame: 20 × 2</caption>\n",
       "<thead>\n",
       "\t<tr><th></th><th scope=col>percentage</th><th scope=col>Biosample.term.name</th></tr>\n",
       "\t<tr><th></th><th scope=col>&lt;dbl&gt;</th><th scope=col>&lt;fct&gt;</th></tr>\n",
       "</thead>\n",
       "<tbody>\n",
       "\t<tr><th scope=row>ENCSR000EQN</th><td>1.710770</td><td>WI38                                 </td></tr>\n",
       "\t<tr><th scope=row>ENCSR000EQM</th><td>1.864732</td><td>WI38                                 </td></tr>\n",
       "\t<tr><th scope=row>ENCSR562ACY</th><td>1.920067</td><td>fibroblast of skin of left biceps    </td></tr>\n",
       "\t<tr><th scope=row>ENCSR000EMG</th><td>1.932068</td><td>HS-5                                 </td></tr>\n",
       "\t<tr><th scope=row>ENCSR000EOI</th><td>1.935005</td><td>fibroblast of peridontal ligament    </td></tr>\n",
       "\t<tr><th scope=row>ENCSR000EMH</th><td>1.939550</td><td>stromal cell of bone marrow          </td></tr>\n",
       "\t<tr><th scope=row>ENCSR000EMA</th><td>1.945034</td><td>AG09319                              </td></tr>\n",
       "\t<tr><th scope=row>ENCSR000ELY</th><td>1.950024</td><td>AG04450                              </td></tr>\n",
       "\t<tr><th scope=row>ENCSR555TFE</th><td>1.957594</td><td>fibroblast of skin of left quadriceps</td></tr>\n",
       "\t<tr><th scope=row>ENCSR251UPG</th><td>1.959053</td><td>foreskin fibroblast                  </td></tr>\n",
       "\t<tr><th scope=row>ENCSR648GDP</th><td>1.959953</td><td>fibroblast of skin of left biceps    </td></tr>\n",
       "\t<tr><th scope=row>ENCSR000EMP</th><td>1.962117</td><td>GM04504                              </td></tr>\n",
       "\t<tr><th scope=row>ENCSR360LBD</th><td>1.962999</td><td>fibroblast of skin of scalp          </td></tr>\n",
       "\t<tr><th scope=row>ENCSR000ELZ</th><td>1.965823</td><td>AG09309                              </td></tr>\n",
       "\t<tr><th scope=row>ENCSR371KRY</th><td>1.967910</td><td>fibroblast of skin of left quadriceps</td></tr>\n",
       "\t<tr><th scope=row>ENCSR670VQZ</th><td>1.971908</td><td>fibroblast of skin of upper back     </td></tr>\n",
       "\t<tr><th scope=row>ENCSR000EMO</th><td>1.980618</td><td>GM04503                              </td></tr>\n",
       "\t<tr><th scope=row>ENCSR000ELX</th><td>1.997655</td><td>AG04449                              </td></tr>\n",
       "\t<tr><th scope=row>ENCSR038XTK</th><td>2.007022</td><td>HCEC 1CT                             </td></tr>\n",
       "\t<tr><th scope=row>ENCSR000EME</th><td>2.013939</td><td>BJ                                   </td></tr>\n",
       "</tbody>\n",
       "</table>\n"
      ],
      "text/latex": [
       "A data.frame: 20 × 2\n",
       "\\begin{tabular}{r|ll}\n",
       "  & percentage & Biosample.term.name\\\\\n",
       "  & <dbl> & <fct>\\\\\n",
       "\\hline\n",
       "\tENCSR000EQN & 1.710770 & WI38                                 \\\\\n",
       "\tENCSR000EQM & 1.864732 & WI38                                 \\\\\n",
       "\tENCSR562ACY & 1.920067 & fibroblast of skin of left biceps    \\\\\n",
       "\tENCSR000EMG & 1.932068 & HS-5                                 \\\\\n",
       "\tENCSR000EOI & 1.935005 & fibroblast of peridontal ligament    \\\\\n",
       "\tENCSR000EMH & 1.939550 & stromal cell of bone marrow          \\\\\n",
       "\tENCSR000EMA & 1.945034 & AG09319                              \\\\\n",
       "\tENCSR000ELY & 1.950024 & AG04450                              \\\\\n",
       "\tENCSR555TFE & 1.957594 & fibroblast of skin of left quadriceps\\\\\n",
       "\tENCSR251UPG & 1.959053 & foreskin fibroblast                  \\\\\n",
       "\tENCSR648GDP & 1.959953 & fibroblast of skin of left biceps    \\\\\n",
       "\tENCSR000EMP & 1.962117 & GM04504                              \\\\\n",
       "\tENCSR360LBD & 1.962999 & fibroblast of skin of scalp          \\\\\n",
       "\tENCSR000ELZ & 1.965823 & AG09309                              \\\\\n",
       "\tENCSR371KRY & 1.967910 & fibroblast of skin of left quadriceps\\\\\n",
       "\tENCSR670VQZ & 1.971908 & fibroblast of skin of upper back     \\\\\n",
       "\tENCSR000EMO & 1.980618 & GM04503                              \\\\\n",
       "\tENCSR000ELX & 1.997655 & AG04449                              \\\\\n",
       "\tENCSR038XTK & 2.007022 & HCEC 1CT                             \\\\\n",
       "\tENCSR000EME & 2.013939 & BJ                                   \\\\\n",
       "\\end{tabular}\n"
      ],
      "text/markdown": [
       "\n",
       "A data.frame: 20 × 2\n",
       "\n",
       "| <!--/--> | percentage &lt;dbl&gt; | Biosample.term.name &lt;fct&gt; |\n",
       "|---|---|---|\n",
       "| ENCSR000EQN | 1.710770 | WI38                                  |\n",
       "| ENCSR000EQM | 1.864732 | WI38                                  |\n",
       "| ENCSR562ACY | 1.920067 | fibroblast of skin of left biceps     |\n",
       "| ENCSR000EMG | 1.932068 | HS-5                                  |\n",
       "| ENCSR000EOI | 1.935005 | fibroblast of peridontal ligament     |\n",
       "| ENCSR000EMH | 1.939550 | stromal cell of bone marrow           |\n",
       "| ENCSR000EMA | 1.945034 | AG09319                               |\n",
       "| ENCSR000ELY | 1.950024 | AG04450                               |\n",
       "| ENCSR555TFE | 1.957594 | fibroblast of skin of left quadriceps |\n",
       "| ENCSR251UPG | 1.959053 | foreskin fibroblast                   |\n",
       "| ENCSR648GDP | 1.959953 | fibroblast of skin of left biceps     |\n",
       "| ENCSR000EMP | 1.962117 | GM04504                               |\n",
       "| ENCSR360LBD | 1.962999 | fibroblast of skin of scalp           |\n",
       "| ENCSR000ELZ | 1.965823 | AG09309                               |\n",
       "| ENCSR371KRY | 1.967910 | fibroblast of skin of left quadriceps |\n",
       "| ENCSR670VQZ | 1.971908 | fibroblast of skin of upper back      |\n",
       "| ENCSR000EMO | 1.980618 | GM04503                               |\n",
       "| ENCSR000ELX | 1.997655 | AG04449                               |\n",
       "| ENCSR038XTK | 2.007022 | HCEC 1CT                              |\n",
       "| ENCSR000EME | 2.013939 | BJ                                    |\n",
       "\n"
      ],
      "text/plain": [
       "            percentage Biosample.term.name                  \n",
       "ENCSR000EQN 1.710770   WI38                                 \n",
       "ENCSR000EQM 1.864732   WI38                                 \n",
       "ENCSR562ACY 1.920067   fibroblast of skin of left biceps    \n",
       "ENCSR000EMG 1.932068   HS-5                                 \n",
       "ENCSR000EOI 1.935005   fibroblast of peridontal ligament    \n",
       "ENCSR000EMH 1.939550   stromal cell of bone marrow          \n",
       "ENCSR000EMA 1.945034   AG09319                              \n",
       "ENCSR000ELY 1.950024   AG04450                              \n",
       "ENCSR555TFE 1.957594   fibroblast of skin of left quadriceps\n",
       "ENCSR251UPG 1.959053   foreskin fibroblast                  \n",
       "ENCSR648GDP 1.959953   fibroblast of skin of left biceps    \n",
       "ENCSR000EMP 1.962117   GM04504                              \n",
       "ENCSR360LBD 1.962999   fibroblast of skin of scalp          \n",
       "ENCSR000ELZ 1.965823   AG09309                              \n",
       "ENCSR371KRY 1.967910   fibroblast of skin of left quadriceps\n",
       "ENCSR670VQZ 1.971908   fibroblast of skin of upper back     \n",
       "ENCSR000EMO 1.980618   GM04503                              \n",
       "ENCSR000ELX 1.997655   AG04449                              \n",
       "ENCSR038XTK 2.007022   HCEC 1CT                             \n",
       "ENCSR000EME 2.013939   BJ                                   "
      ]
     },
     "metadata": {},
     "output_type": "display_data"
    }
   ],
   "source": [
    "head(df[order(df$percentage), ], 20)"
   ]
  },
  {
   "cell_type": "code",
   "execution_count": null,
   "metadata": {},
   "outputs": [],
   "source": []
  }
 ],
 "metadata": {
  "kernelspec": {
   "display_name": "R",
   "language": "R",
   "name": "ir"
  },
  "language_info": {
   "codemirror_mode": "r",
   "file_extension": ".r",
   "mimetype": "text/x-r-source",
   "name": "R",
   "pygments_lexer": "r",
   "version": "3.5.1"
  }
 },
 "nbformat": 4,
 "nbformat_minor": 2
}
