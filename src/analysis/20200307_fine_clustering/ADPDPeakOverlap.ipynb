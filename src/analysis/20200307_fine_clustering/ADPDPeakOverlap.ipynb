{
 "cells": [
  {
   "cell_type": "markdown",
   "metadata": {},
   "source": [
    "# ADPD Peak Overlap\n",
    "\n",
    "Check how much of each peak set overlaps with peak sets from ADPD."
   ]
  },
  {
   "cell_type": "code",
   "execution_count": 7,
   "metadata": {},
   "outputs": [
    {
     "name": "stdout",
     "output_type": "stream",
     "text": [
      "8   97.01672652789366067815\n",
      "3   89.92449889632560846786\n",
      "4   78.63579120641472750215\n",
      "7   62.07440799510202591179\n",
      "10  58.57450456488373291966\n",
      "16  57.40626943791865501439\n",
      "9   44.02624411977612856407\n",
      "17  41.78772267350537600337\n",
      "20  36.41562585168760428107\n",
      "13  35.54965054035133514091\n",
      "15  27.61233180288299426302\n",
      "2   23.80878575406945436105\n",
      "14  23.72217856098329159560\n",
      "19  22.72146735918545386718\n",
      "12  20.86116322245175544249\n",
      "6   19.48291178799591130416\n",
      "11  18.50666041272758664140\n",
      "1   14.56361509247433366626\n",
      "18  11.69112356204368760532\n",
      "5   8.16480640786466060092\n"
     ]
    }
   ],
   "source": [
    "for i in {1..20} ; \n",
    "do \n",
    "  overlapbp=$(bedtools coverage -a ./beds/20200330_gridmap_peakwidthnorm_n20/idx$i.bed \\\n",
    "  -b <(zcat /oak/stanford/groups/akundaje/projects/alzheimers_parkinsons/pseudobulk/count_matrix_overlap/adpd.pseudobulk.overlap.atac.counts.txt.gz \\\n",
    "  | sed 1d | cut -f1-3)  | cut -f5 | awk '{s+=$1} END{print s}') ;\n",
    "  totalbp=$(cat ./beds/20200330_gridmap_peakwidthnorm_n20/idx$i.bed | awk '{s+=$3-$2} END{print s}') ;\n",
    "  frac=$(printf \"100*$overlapbp/$totalbp\\n\" | bc -l ) ; \n",
    "  printf \"$i\\t$frac\\n\"; \n",
    "done | sort -k2 -nr | clt"
   ]
  },
  {
   "cell_type": "markdown",
   "metadata": {},
   "source": [
    "---\n",
    "Seems like non-reprogramming peaks do not overlap with peaks derived from ADPD dataset."
   ]
  },
  {
   "cell_type": "code",
   "execution_count": 9,
   "metadata": {},
   "outputs": [
    {
     "name": "stdout",
     "output_type": "stream",
     "text": [
      "8   99.37475455703288846236\n",
      "3   98.78126821563288169850\n",
      "10  97.86361021978664471613\n",
      "4   97.53588127967010932667\n",
      "17  97.19424931051162809713\n",
      "16  96.40940725878206185196\n",
      "7   96.03429023265276600005\n",
      "13  95.99716368272401057172\n",
      "14  94.40011331674680130267\n",
      "9   92.91052485661059865754\n",
      "20  90.59491117767623122522\n",
      "15  81.95734764260054844530\n",
      "2   81.35642628798703907766\n",
      "19  80.78415803365941818966\n",
      "6   76.61507684524747470649\n",
      "12  74.40156309689789502626\n",
      "11  69.27392868630675635972\n",
      "1   60.62605517428308307157\n",
      "18  57.78165816085873206427\n",
      "5   40.81765218996924683395\n"
     ]
    }
   ],
   "source": [
    "for i in {1..20} ; \n",
    "do \n",
    "  overlapbp=$(bedtools coverage -a ./beds/20200330_gridmap_peakwidthnorm_n20/idx$i.bed \\\n",
    "  -b <(cat /oak/stanford/groups/akundaje/projects/atlas/counts_matrices/atlas.dnase.overlap.counts.txt \\\n",
    "  | sed 1d | cut -f1-3)  | cut -f5 | awk '{s+=$1} END{print s}') ;\n",
    "  totalbp=$(cat ./beds/20200330_gridmap_peakwidthnorm_n20/idx$i.bed | awk '{s+=$3-$2} END{print s}') ;\n",
    "  frac=$(printf \"100*$overlapbp/$totalbp\\n\" | bc -l ) ; \n",
    "  printf \"$i\\t$frac\\n\"; \n",
    "done | sort -k2 -nr | clt"
   ]
  },
  {
   "cell_type": "code",
   "execution_count": 10,
   "metadata": {},
   "outputs": [
    {
     "name": "stdout",
     "output_type": "stream",
     "text": [
      "979179359\n"
     ]
    }
   ],
   "source": [
    "cat /oak/stanford/groups/akundaje/projects/atlas/counts_matrices/atlas.dnase.overlap.counts.txt |  \\\n",
    "   awk '{s+=$3-$2} END{print s}'"
   ]
  },
  {
   "cell_type": "markdown",
   "metadata": {},
   "source": [
    "---\n",
    "Seems like non-reprogramming peaks do not overlap much with all ENCODE peaks reference that covers almost 1Bbp."
   ]
  },
  {
   "cell_type": "code",
   "execution_count": null,
   "metadata": {},
   "outputs": [],
   "source": []
  }
 ],
 "metadata": {
  "kernelspec": {
   "display_name": "Bash",
   "language": "bash",
   "name": "bash"
  },
  "language_info": {
   "codemirror_mode": "shell",
   "file_extension": ".sh",
   "mimetype": "text/x-sh",
   "name": "bash"
  }
 },
 "nbformat": 4,
 "nbformat_minor": 4
}
