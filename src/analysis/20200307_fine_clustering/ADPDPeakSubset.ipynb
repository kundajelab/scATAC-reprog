{
 "cells": [
  {
   "cell_type": "markdown",
   "metadata": {},
   "source": [
    "# ADPD Subset Peaks\n",
    "\n",
    "Given a subset of peaks, find out which pseudobulk samples in Alzheimer's Parkinsons datasets (processed by Anna) have highest/lowest fraction of reads/normalized reads in those peaks.\n",
    "\n",
    "**STATUS** : Results unstable\n",
    "\n",
    "<img src=\"figs/ADPD.png\">"
   ]
  },
  {
   "cell_type": "code",
   "execution_count": 1,
   "metadata": {},
   "outputs": [],
   "source": [
    "library(GenomicRanges)\n",
    "library(DESeq2)"
   ]
  },
  {
   "cell_type": "code",
   "execution_count": 105,
   "metadata": {},
   "outputs": [
    {
     "data": {
      "text/html": [
       "<table>\n",
       "<caption>A data.frame: 2 × 24</caption>\n",
       "<thead>\n",
       "\t<tr><th></th><th scope=col>Cluster10</th><th scope=col>Cluster11</th><th scope=col>Cluster12</th><th scope=col>Cluster13</th><th scope=col>Cluster14</th><th scope=col>Cluster15</th><th scope=col>Cluster16</th><th scope=col>Cluster17</th><th scope=col>Cluster18</th><th scope=col>Cluster19</th><th scope=col>⋯</th><th scope=col>Cluster23</th><th scope=col>Cluster24</th><th scope=col>Cluster2</th><th scope=col>Cluster3</th><th scope=col>Cluster4</th><th scope=col>Cluster5</th><th scope=col>Cluster6</th><th scope=col>Cluster7</th><th scope=col>Cluster8</th><th scope=col>Cluster9</th></tr>\n",
       "\t<tr><th></th><th scope=col>&lt;int&gt;</th><th scope=col>&lt;int&gt;</th><th scope=col>&lt;int&gt;</th><th scope=col>&lt;int&gt;</th><th scope=col>&lt;int&gt;</th><th scope=col>&lt;int&gt;</th><th scope=col>&lt;int&gt;</th><th scope=col>&lt;int&gt;</th><th scope=col>&lt;int&gt;</th><th scope=col>&lt;int&gt;</th><th scope=col>⋯</th><th scope=col>&lt;int&gt;</th><th scope=col>&lt;int&gt;</th><th scope=col>&lt;int&gt;</th><th scope=col>&lt;int&gt;</th><th scope=col>&lt;int&gt;</th><th scope=col>&lt;int&gt;</th><th scope=col>&lt;int&gt;</th><th scope=col>&lt;int&gt;</th><th scope=col>&lt;int&gt;</th><th scope=col>&lt;int&gt;</th></tr>\n",
       "</thead>\n",
       "<tbody>\n",
       "\t<tr><th scope=row>chr1\t9944\t10545</th><td>24</td><td>77</td><td>36</td><td>20</td><td>86</td><td>77</td><td>10</td><td>8</td><td>8</td><td>58</td><td>⋯</td><td>39</td><td>146</td><td>334</td><td>72</td><td>37</td><td>16</td><td>24</td><td>32</td><td>8</td><td>112</td></tr>\n",
       "\t<tr><th scope=row>chr1\t17391\t17612</th><td> 2</td><td>49</td><td> 6</td><td> 4</td><td>11</td><td>14</td><td> 1</td><td>2</td><td>6</td><td>10</td><td>⋯</td><td> 5</td><td>  8</td><td> 36</td><td>16</td><td>19</td><td> 4</td><td> 3</td><td> 9</td><td>2</td><td> 19</td></tr>\n",
       "</tbody>\n",
       "</table>\n"
      ],
      "text/latex": [
       "A data.frame: 2 × 24\n",
       "\\begin{tabular}{r|lllllllllllllllllllll}\n",
       "  & Cluster10 & Cluster11 & Cluster12 & Cluster13 & Cluster14 & Cluster15 & Cluster16 & Cluster17 & Cluster18 & Cluster19 & ⋯ & Cluster23 & Cluster24 & Cluster2 & Cluster3 & Cluster4 & Cluster5 & Cluster6 & Cluster7 & Cluster8 & Cluster9\\\\\n",
       "  & <int> & <int> & <int> & <int> & <int> & <int> & <int> & <int> & <int> & <int> & ⋯ & <int> & <int> & <int> & <int> & <int> & <int> & <int> & <int> & <int> & <int>\\\\\n",
       "\\hline\n",
       "\tchr1\t9944\t10545 & 24 & 77 & 36 & 20 & 86 & 77 & 10 & 8 & 8 & 58 & ⋯ & 39 & 146 & 334 & 72 & 37 & 16 & 24 & 32 & 8 & 112\\\\\n",
       "\tchr1\t17391\t17612 &  2 & 49 &  6 &  4 & 11 & 14 &  1 & 2 & 6 & 10 & ⋯ &  5 &   8 &  36 & 16 & 19 &  4 &  3 &  9 & 2 &  19\\\\\n",
       "\\end{tabular}\n"
      ],
      "text/markdown": [
       "\n",
       "A data.frame: 2 × 24\n",
       "\n",
       "| <!--/--> | Cluster10 &lt;int&gt; | Cluster11 &lt;int&gt; | Cluster12 &lt;int&gt; | Cluster13 &lt;int&gt; | Cluster14 &lt;int&gt; | Cluster15 &lt;int&gt; | Cluster16 &lt;int&gt; | Cluster17 &lt;int&gt; | Cluster18 &lt;int&gt; | Cluster19 &lt;int&gt; | ⋯ ⋯ | Cluster23 &lt;int&gt; | Cluster24 &lt;int&gt; | Cluster2 &lt;int&gt; | Cluster3 &lt;int&gt; | Cluster4 &lt;int&gt; | Cluster5 &lt;int&gt; | Cluster6 &lt;int&gt; | Cluster7 &lt;int&gt; | Cluster8 &lt;int&gt; | Cluster9 &lt;int&gt; |\n",
       "|---|---|---|---|---|---|---|---|---|---|---|---|---|---|---|---|---|---|---|---|---|---|\n",
       "| chr1\t9944\t10545 | 24 | 77 | 36 | 20 | 86 | 77 | 10 | 8 | 8 | 58 | ⋯ | 39 | 146 | 334 | 72 | 37 | 16 | 24 | 32 | 8 | 112 |\n",
       "| chr1\t17391\t17612 |  2 | 49 |  6 |  4 | 11 | 14 |  1 | 2 | 6 | 10 | ⋯ |  5 |   8 |  36 | 16 | 19 |  4 |  3 |  9 | 2 |  19 |\n",
       "\n"
      ],
      "text/plain": [
       "                   Cluster10 Cluster11 Cluster12 Cluster13 Cluster14 Cluster15\n",
       "chr1\\t9944\\t10545  24        77        36        20        86        77       \n",
       "chr1\\t17391\\t17612  2        49         6         4        11        14       \n",
       "                   Cluster16 Cluster17 Cluster18 Cluster19 ⋯ Cluster23\n",
       "chr1\\t9944\\t10545  10        8         8         58        ⋯ 39       \n",
       "chr1\\t17391\\t17612  1        2         6         10        ⋯  5       \n",
       "                   Cluster24 Cluster2 Cluster3 Cluster4 Cluster5 Cluster6\n",
       "chr1\\t9944\\t10545  146       334      72       37       16       24      \n",
       "chr1\\t17391\\t17612   8        36      16       19        4        3      \n",
       "                   Cluster7 Cluster8 Cluster9\n",
       "chr1\\t9944\\t10545  32       8        112     \n",
       "chr1\\t17391\\t17612  9       2         19     "
      ]
     },
     "metadata": {},
     "output_type": "display_data"
    },
    {
     "data": {
      "text/html": [
       "<style>\n",
       ".list-inline {list-style: none; margin:0; padding: 0}\n",
       ".list-inline>li {display: inline-block}\n",
       ".list-inline>li:not(:last-child)::after {content: \"\\00b7\"; padding: 0 .5ex}\n",
       "</style>\n",
       "<ol class=list-inline><li>610538</li><li>24</li></ol>\n"
      ],
      "text/latex": [
       "\\begin{enumerate*}\n",
       "\\item 610538\n",
       "\\item 24\n",
       "\\end{enumerate*}\n"
      ],
      "text/markdown": [
       "1. 610538\n",
       "2. 24\n",
       "\n",
       "\n"
      ],
      "text/plain": [
       "[1] 610538     24"
      ]
     },
     "metadata": {},
     "output_type": "display_data"
    }
   ],
   "source": [
    "# load encode counts matrix\n",
    "gz = gzfile(\"/oak/stanford/groups/akundaje/projects/alzheimers_parkinsons/pseudobulk/count_matrix_overlap/adpd.pseudobulk.overlap.atac.counts.txt.gz\", 'rt')\n",
    "# gz = gzfile(\"/oak/stanford/groups/akundaje/projects/alzheimers_parkinsons/pseudobulk/count_matrix_idr/adpd.pseudobulk.idr.atac.counts.txt.gz\", 'rt')\n",
    "cts <- read.csv(gz, sep=\"\\t\")\n",
    "rownames(cts)=paste(cts$chrom,cts$start,cts$end,sep='\\t')\n",
    "cts$chrom = NULL\n",
    "cts$start = NULL\n",
    "cts$end = NULL\n",
    "head(cts, 2)\n",
    "dim(cts)"
   ]
  },
  {
   "cell_type": "code",
   "execution_count": 106,
   "metadata": {},
   "outputs": [],
   "source": [
    "adpd_peaks_gr = GRanges(sub(\"\\t\", \"-\", sub(\"\\t\", \":\", rownames(cts))))"
   ]
  },
  {
   "cell_type": "code",
   "execution_count": 107,
   "metadata": {},
   "outputs": [
    {
     "data": {
      "text/plain": [
       "GRanges object with 6 ranges and 0 metadata columns:\n",
       "      seqnames        ranges strand\n",
       "         <Rle>     <IRanges>  <Rle>\n",
       "  [1]     chr1    9944-10545      *\n",
       "  [2]     chr1   17391-17612      *\n",
       "  [3]     chr1   29204-29511      *\n",
       "  [4]     chr1   91253-91453      *\n",
       "  [5]     chr1 180688-181242      *\n",
       "  [6]     chr1 181334-181595      *\n",
       "  -------\n",
       "  seqinfo: 24 sequences from an unspecified genome; no seqlengths"
      ]
     },
     "metadata": {},
     "output_type": "display_data"
    }
   ],
   "source": [
    "head(adpd_peaks_gr)"
   ]
  },
  {
   "cell_type": "code",
   "execution_count": 108,
   "metadata": {},
   "outputs": [],
   "source": [
    "# norm_cts = t(t(cts)/estimateSizeFactorsForMatrix(cts))\n",
    "norm_cts = t(t(cts)/estimateSizeFactorsForMatrix(cts[rowSums(cts<50)==0,]))"
   ]
  },
  {
   "cell_type": "code",
   "execution_count": 109,
   "metadata": {},
   "outputs": [
    {
     "data": {
      "image/png": "[encoded data removed]",
      "text/plain": [
       "Plot with title “Histogram of log10(colSums(cts))”"
      ]
     },
     "metadata": {
      "image/png": {
       "height": 420,
       "width": 420
      },
      "text/plain": {
       "height": 420,
       "width": 420
      }
     },
     "output_type": "display_data"
    }
   ],
   "source": [
    "hist(log10(colSums(cts)))"
   ]
  },
  {
   "cell_type": "code",
   "execution_count": 110,
   "metadata": {},
   "outputs": [
    {
     "data": {
      "image/png": "[encoded data removed]",
      "text/plain": [
       "Plot with title “Histogram of log10(colSums(norm_cts))”"
      ]
     },
     "metadata": {
      "image/png": {
       "height": 420,
       "width": 420
      },
      "text/plain": {
       "height": 420,
       "width": 420
      }
     },
     "output_type": "display_data"
    }
   ],
   "source": [
    "hist(log10(colSums(norm_cts)))"
   ]
  },
  {
   "cell_type": "code",
   "execution_count": 111,
   "metadata": {},
   "outputs": [
    {
     "data": {
      "text/plain": [
       "GRanges object with 6 ranges and 0 metadata columns:\n",
       "      seqnames          ranges strand\n",
       "         <Rle>       <IRanges>  <Rle>\n",
       "  [1]     chr1 1094825-1095170      *\n",
       "  [2]     chr1 1191662-1192082      *\n",
       "  [3]     chr1 1222306-1222544      *\n",
       "  [4]     chr1 1261227-1261590      *\n",
       "  [5]     chr1 1421667-1421867      *\n",
       "  [6]     chr1 1557055-1557256      *\n",
       "  -------\n",
       "  seqinfo: 24 sequences from an unspecified genome; no seqlengths"
      ]
     },
     "metadata": {},
     "output_type": "display_data"
    }
   ],
   "source": [
    "# ref peaks\n",
    "peak_set = read.table(\"./beds/20200307_gridmap_naive_n15/idx8.bed\",\n",
    "                      header=F, sep='')\n",
    "colnames(peak_set) = c(\"chr\", \"start\", \"end\")\n",
    "peak_set = makeGRangesFromDataFrame(peak_set)\n",
    "head(peak_set)"
   ]
  },
  {
   "cell_type": "code",
   "execution_count": 112,
   "metadata": {},
   "outputs": [
    {
     "data": {
      "text/plain": [
       "Hits object with 6885 hits and 0 metadata columns:\n",
       "         queryHits subjectHits\n",
       "         <integer>   <integer>\n",
       "     [1]       116           1\n",
       "     [2]       357           9\n",
       "     [3]       358           9\n",
       "     [4]       359           9\n",
       "     [5]       868          13\n",
       "     ...       ...         ...\n",
       "  [6881]    609952       26937\n",
       "  [6882]    609953       26938\n",
       "  [6883]    610404       26958\n",
       "  [6884]    610405       26958\n",
       "  [6885]    610451       26966\n",
       "  -------\n",
       "  queryLength: 610538 / subjectLength: 26967"
      ]
     },
     "metadata": {},
     "output_type": "display_data"
    }
   ],
   "source": [
    "overlaps = findOverlaps(adpd_peaks_gr, peak_set)\n",
    "overlaps"
   ]
  },
  {
   "cell_type": "code",
   "execution_count": 113,
   "metadata": {},
   "outputs": [
    {
     "data": {
      "text/html": [
       "6705"
      ],
      "text/latex": [
       "6705"
      ],
      "text/markdown": [
       "6705"
      ],
      "text/plain": [
       "[1] 6705"
      ]
     },
     "metadata": {},
     "output_type": "display_data"
    }
   ],
   "source": [
    "length(unique(queryHits(overlaps)))"
   ]
  },
  {
   "cell_type": "code",
   "execution_count": 114,
   "metadata": {},
   "outputs": [],
   "source": [
    "frac_reads_in_peak_set = colSums(cts[unique(queryHits(overlaps)),])/colSums(cts)\n",
    "norm_reads_in_peak_set = colSums(norm_cts[unique(queryHits(overlaps)),])"
   ]
  },
  {
   "cell_type": "code",
   "execution_count": 115,
   "metadata": {},
   "outputs": [
    {
     "data": {
      "text/html": [
       "<table>\n",
       "<caption>A data.frame: 24 × 3</caption>\n",
       "<thead>\n",
       "\t<tr><th></th><th scope=col>nrip</th><th scope=col>sample</th><th scope=col>totcounts</th></tr>\n",
       "\t<tr><th></th><th scope=col>&lt;dbl&gt;</th><th scope=col>&lt;fct&gt;</th><th scope=col>&lt;dbl&gt;</th></tr>\n",
       "</thead>\n",
       "<tbody>\n",
       "\t<tr><th scope=row>Cluster4</th><td>311413.0</td><td>Cluster4 </td><td> 34007176</td></tr>\n",
       "\t<tr><th scope=row>Cluster3</th><td>307859.1</td><td>Cluster3 </td><td> 29233406</td></tr>\n",
       "\t<tr><th scope=row>Cluster2</th><td>287565.2</td><td>Cluster2 </td><td>149778795</td></tr>\n",
       "\t<tr><th scope=row>Cluster5</th><td>258344.4</td><td>Cluster5 </td><td>  7528672</td></tr>\n",
       "\t<tr><th scope=row>Cluster1</th><td>246660.4</td><td>Cluster1 </td><td>171039753</td></tr>\n",
       "\t<tr><th scope=row>Cluster19</th><td>242840.2</td><td>Cluster19</td><td> 41536286</td></tr>\n",
       "\t<tr><th scope=row>Cluster23</th><td>239868.4</td><td>Cluster23</td><td> 17106102</td></tr>\n",
       "\t<tr><th scope=row>Cluster7</th><td>230267.8</td><td>Cluster7 </td><td> 21625814</td></tr>\n",
       "\t<tr><th scope=row>Cluster6</th><td>223498.2</td><td>Cluster6 </td><td>  9589399</td></tr>\n",
       "\t<tr><th scope=row>Cluster21</th><td>210508.0</td><td>Cluster21</td><td>114441100</td></tr>\n",
       "\t<tr><th scope=row>Cluster10</th><td>192873.3</td><td>Cluster10</td><td>  5855855</td></tr>\n",
       "\t<tr><th scope=row>Cluster11</th><td>192304.0</td><td>Cluster11</td><td> 60532615</td></tr>\n",
       "\t<tr><th scope=row>Cluster20</th><td>185728.9</td><td>Cluster20</td><td> 97573920</td></tr>\n",
       "\t<tr><th scope=row>Cluster14</th><td>185370.5</td><td>Cluster14</td><td> 38829998</td></tr>\n",
       "\t<tr><th scope=row>Cluster18</th><td>178924.5</td><td>Cluster18</td><td>  5119242</td></tr>\n",
       "\t<tr><th scope=row>Cluster8</th><td>178126.2</td><td>Cluster8 </td><td>  4645188</td></tr>\n",
       "\t<tr><th scope=row>Cluster12</th><td>174406.6</td><td>Cluster12</td><td> 12938269</td></tr>\n",
       "\t<tr><th scope=row>Cluster15</th><td>168813.8</td><td>Cluster15</td><td> 60742711</td></tr>\n",
       "\t<tr><th scope=row>Cluster13</th><td>163251.8</td><td>Cluster13</td><td> 12586961</td></tr>\n",
       "\t<tr><th scope=row>Cluster22</th><td>153404.7</td><td>Cluster22</td><td>112533001</td></tr>\n",
       "\t<tr><th scope=row>Cluster9</th><td>144977.3</td><td>Cluster9 </td><td> 37518696</td></tr>\n",
       "\t<tr><th scope=row>Cluster17</th><td>135249.0</td><td>Cluster17</td><td>  2175302</td></tr>\n",
       "\t<tr><th scope=row>Cluster16</th><td>120033.3</td><td>Cluster16</td><td>  8963035</td></tr>\n",
       "\t<tr><th scope=row>Cluster24</th><td>114331.6</td><td>Cluster24</td><td> 44475103</td></tr>\n",
       "</tbody>\n",
       "</table>\n"
      ],
      "text/latex": [
       "A data.frame: 24 × 3\n",
       "\\begin{tabular}{r|lll}\n",
       "  & nrip & sample & totcounts\\\\\n",
       "  & <dbl> & <fct> & <dbl>\\\\\n",
       "\\hline\n",
       "\tCluster4 & 311413.0 & Cluster4  &  34007176\\\\\n",
       "\tCluster3 & 307859.1 & Cluster3  &  29233406\\\\\n",
       "\tCluster2 & 287565.2 & Cluster2  & 149778795\\\\\n",
       "\tCluster5 & 258344.4 & Cluster5  &   7528672\\\\\n",
       "\tCluster1 & 246660.4 & Cluster1  & 171039753\\\\\n",
       "\tCluster19 & 242840.2 & Cluster19 &  41536286\\\\\n",
       "\tCluster23 & 239868.4 & Cluster23 &  17106102\\\\\n",
       "\tCluster7 & 230267.8 & Cluster7  &  21625814\\\\\n",
       "\tCluster6 & 223498.2 & Cluster6  &   9589399\\\\\n",
       "\tCluster21 & 210508.0 & Cluster21 & 114441100\\\\\n",
       "\tCluster10 & 192873.3 & Cluster10 &   5855855\\\\\n",
       "\tCluster11 & 192304.0 & Cluster11 &  60532615\\\\\n",
       "\tCluster20 & 185728.9 & Cluster20 &  97573920\\\\\n",
       "\tCluster14 & 185370.5 & Cluster14 &  38829998\\\\\n",
       "\tCluster18 & 178924.5 & Cluster18 &   5119242\\\\\n",
       "\tCluster8 & 178126.2 & Cluster8  &   4645188\\\\\n",
       "\tCluster12 & 174406.6 & Cluster12 &  12938269\\\\\n",
       "\tCluster15 & 168813.8 & Cluster15 &  60742711\\\\\n",
       "\tCluster13 & 163251.8 & Cluster13 &  12586961\\\\\n",
       "\tCluster22 & 153404.7 & Cluster22 & 112533001\\\\\n",
       "\tCluster9 & 144977.3 & Cluster9  &  37518696\\\\\n",
       "\tCluster17 & 135249.0 & Cluster17 &   2175302\\\\\n",
       "\tCluster16 & 120033.3 & Cluster16 &   8963035\\\\\n",
       "\tCluster24 & 114331.6 & Cluster24 &  44475103\\\\\n",
       "\\end{tabular}\n"
      ],
      "text/markdown": [
       "\n",
       "A data.frame: 24 × 3\n",
       "\n",
       "| <!--/--> | nrip &lt;dbl&gt; | sample &lt;fct&gt; | totcounts &lt;dbl&gt; |\n",
       "|---|---|---|---|\n",
       "| Cluster4 | 311413.0 | Cluster4  |  34007176 |\n",
       "| Cluster3 | 307859.1 | Cluster3  |  29233406 |\n",
       "| Cluster2 | 287565.2 | Cluster2  | 149778795 |\n",
       "| Cluster5 | 258344.4 | Cluster5  |   7528672 |\n",
       "| Cluster1 | 246660.4 | Cluster1  | 171039753 |\n",
       "| Cluster19 | 242840.2 | Cluster19 |  41536286 |\n",
       "| Cluster23 | 239868.4 | Cluster23 |  17106102 |\n",
       "| Cluster7 | 230267.8 | Cluster7  |  21625814 |\n",
       "| Cluster6 | 223498.2 | Cluster6  |   9589399 |\n",
       "| Cluster21 | 210508.0 | Cluster21 | 114441100 |\n",
       "| Cluster10 | 192873.3 | Cluster10 |   5855855 |\n",
       "| Cluster11 | 192304.0 | Cluster11 |  60532615 |\n",
       "| Cluster20 | 185728.9 | Cluster20 |  97573920 |\n",
       "| Cluster14 | 185370.5 | Cluster14 |  38829998 |\n",
       "| Cluster18 | 178924.5 | Cluster18 |   5119242 |\n",
       "| Cluster8 | 178126.2 | Cluster8  |   4645188 |\n",
       "| Cluster12 | 174406.6 | Cluster12 |  12938269 |\n",
       "| Cluster15 | 168813.8 | Cluster15 |  60742711 |\n",
       "| Cluster13 | 163251.8 | Cluster13 |  12586961 |\n",
       "| Cluster22 | 153404.7 | Cluster22 | 112533001 |\n",
       "| Cluster9 | 144977.3 | Cluster9  |  37518696 |\n",
       "| Cluster17 | 135249.0 | Cluster17 |   2175302 |\n",
       "| Cluster16 | 120033.3 | Cluster16 |   8963035 |\n",
       "| Cluster24 | 114331.6 | Cluster24 |  44475103 |\n",
       "\n"
      ],
      "text/plain": [
       "          nrip     sample    totcounts\n",
       "Cluster4  311413.0 Cluster4   34007176\n",
       "Cluster3  307859.1 Cluster3   29233406\n",
       "Cluster2  287565.2 Cluster2  149778795\n",
       "Cluster5  258344.4 Cluster5    7528672\n",
       "Cluster1  246660.4 Cluster1  171039753\n",
       "Cluster19 242840.2 Cluster19  41536286\n",
       "Cluster23 239868.4 Cluster23  17106102\n",
       "Cluster7  230267.8 Cluster7   21625814\n",
       "Cluster6  223498.2 Cluster6    9589399\n",
       "Cluster21 210508.0 Cluster21 114441100\n",
       "Cluster10 192873.3 Cluster10   5855855\n",
       "Cluster11 192304.0 Cluster11  60532615\n",
       "Cluster20 185728.9 Cluster20  97573920\n",
       "Cluster14 185370.5 Cluster14  38829998\n",
       "Cluster18 178924.5 Cluster18   5119242\n",
       "Cluster8  178126.2 Cluster8    4645188\n",
       "Cluster12 174406.6 Cluster12  12938269\n",
       "Cluster15 168813.8 Cluster15  60742711\n",
       "Cluster13 163251.8 Cluster13  12586961\n",
       "Cluster22 153404.7 Cluster22 112533001\n",
       "Cluster9  144977.3 Cluster9   37518696\n",
       "Cluster17 135249.0 Cluster17   2175302\n",
       "Cluster16 120033.3 Cluster16   8963035\n",
       "Cluster24 114331.6 Cluster24  44475103"
      ]
     },
     "metadata": {},
     "output_type": "display_data"
    }
   ],
   "source": [
    "df = data.frame(nrip=norm_reads_in_peak_set,\n",
    "               sample=colnames(cts),\n",
    "               totcounts=colSums(cts))\n",
    "df = df[rev(order(df$nrip)), ]\n",
    "df"
   ]
  },
  {
   "cell_type": "code",
   "execution_count": 116,
   "metadata": {},
   "outputs": [
    {
     "data": {
      "text/html": [
       "<table>\n",
       "<caption>A data.frame: 24 × 2</caption>\n",
       "<thead>\n",
       "\t<tr><th></th><th scope=col>percentage</th><th scope=col>sample</th></tr>\n",
       "\t<tr><th></th><th scope=col>&lt;dbl&gt;</th><th scope=col>&lt;fct&gt;</th></tr>\n",
       "</thead>\n",
       "<tbody>\n",
       "\t<tr><th scope=row>Cluster2</th><td>1.0156504</td><td>Cluster2 </td></tr>\n",
       "\t<tr><th scope=row>Cluster19</th><td>0.9633264</td><td>Cluster19</td></tr>\n",
       "\t<tr><th scope=row>Cluster23</th><td>0.9472877</td><td>Cluster23</td></tr>\n",
       "\t<tr><th scope=row>Cluster21</th><td>0.9377994</td><td>Cluster21</td></tr>\n",
       "\t<tr><th scope=row>Cluster7</th><td>0.8967339</td><td>Cluster7 </td></tr>\n",
       "\t<tr><th scope=row>Cluster20</th><td>0.8950260</td><td>Cluster20</td></tr>\n",
       "\t<tr><th scope=row>Cluster3</th><td>0.8915075</td><td>Cluster3 </td></tr>\n",
       "\t<tr><th scope=row>Cluster4</th><td>0.8863570</td><td>Cluster4 </td></tr>\n",
       "\t<tr><th scope=row>Cluster22</th><td>0.8366444</td><td>Cluster22</td></tr>\n",
       "\t<tr><th scope=row>Cluster1</th><td>0.8223866</td><td>Cluster1 </td></tr>\n",
       "\t<tr><th scope=row>Cluster6</th><td>0.8094668</td><td>Cluster6 </td></tr>\n",
       "\t<tr><th scope=row>Cluster5</th><td>0.7928091</td><td>Cluster5 </td></tr>\n",
       "\t<tr><th scope=row>Cluster18</th><td>0.7829284</td><td>Cluster18</td></tr>\n",
       "\t<tr><th scope=row>Cluster8</th><td>0.7730365</td><td>Cluster8 </td></tr>\n",
       "\t<tr><th scope=row>Cluster14</th><td>0.7565053</td><td>Cluster14</td></tr>\n",
       "\t<tr><th scope=row>Cluster11</th><td>0.7558273</td><td>Cluster11</td></tr>\n",
       "\t<tr><th scope=row>Cluster10</th><td>0.7494550</td><td>Cluster10</td></tr>\n",
       "\t<tr><th scope=row>Cluster13</th><td>0.7342837</td><td>Cluster13</td></tr>\n",
       "\t<tr><th scope=row>Cluster15</th><td>0.7144001</td><td>Cluster15</td></tr>\n",
       "\t<tr><th scope=row>Cluster12</th><td>0.6863437</td><td>Cluster12</td></tr>\n",
       "\t<tr><th scope=row>Cluster17</th><td>0.6729181</td><td>Cluster17</td></tr>\n",
       "\t<tr><th scope=row>Cluster9</th><td>0.6488019</td><td>Cluster9 </td></tr>\n",
       "\t<tr><th scope=row>Cluster16</th><td>0.6116678</td><td>Cluster16</td></tr>\n",
       "\t<tr><th scope=row>Cluster24</th><td>0.5313759</td><td>Cluster24</td></tr>\n",
       "</tbody>\n",
       "</table>\n"
      ],
      "text/latex": [
       "A data.frame: 24 × 2\n",
       "\\begin{tabular}{r|ll}\n",
       "  & percentage & sample\\\\\n",
       "  & <dbl> & <fct>\\\\\n",
       "\\hline\n",
       "\tCluster2 & 1.0156504 & Cluster2 \\\\\n",
       "\tCluster19 & 0.9633264 & Cluster19\\\\\n",
       "\tCluster23 & 0.9472877 & Cluster23\\\\\n",
       "\tCluster21 & 0.9377994 & Cluster21\\\\\n",
       "\tCluster7 & 0.8967339 & Cluster7 \\\\\n",
       "\tCluster20 & 0.8950260 & Cluster20\\\\\n",
       "\tCluster3 & 0.8915075 & Cluster3 \\\\\n",
       "\tCluster4 & 0.8863570 & Cluster4 \\\\\n",
       "\tCluster22 & 0.8366444 & Cluster22\\\\\n",
       "\tCluster1 & 0.8223866 & Cluster1 \\\\\n",
       "\tCluster6 & 0.8094668 & Cluster6 \\\\\n",
       "\tCluster5 & 0.7928091 & Cluster5 \\\\\n",
       "\tCluster18 & 0.7829284 & Cluster18\\\\\n",
       "\tCluster8 & 0.7730365 & Cluster8 \\\\\n",
       "\tCluster14 & 0.7565053 & Cluster14\\\\\n",
       "\tCluster11 & 0.7558273 & Cluster11\\\\\n",
       "\tCluster10 & 0.7494550 & Cluster10\\\\\n",
       "\tCluster13 & 0.7342837 & Cluster13\\\\\n",
       "\tCluster15 & 0.7144001 & Cluster15\\\\\n",
       "\tCluster12 & 0.6863437 & Cluster12\\\\\n",
       "\tCluster17 & 0.6729181 & Cluster17\\\\\n",
       "\tCluster9 & 0.6488019 & Cluster9 \\\\\n",
       "\tCluster16 & 0.6116678 & Cluster16\\\\\n",
       "\tCluster24 & 0.5313759 & Cluster24\\\\\n",
       "\\end{tabular}\n"
      ],
      "text/markdown": [
       "\n",
       "A data.frame: 24 × 2\n",
       "\n",
       "| <!--/--> | percentage &lt;dbl&gt; | sample &lt;fct&gt; |\n",
       "|---|---|---|\n",
       "| Cluster2 | 1.0156504 | Cluster2  |\n",
       "| Cluster19 | 0.9633264 | Cluster19 |\n",
       "| Cluster23 | 0.9472877 | Cluster23 |\n",
       "| Cluster21 | 0.9377994 | Cluster21 |\n",
       "| Cluster7 | 0.8967339 | Cluster7  |\n",
       "| Cluster20 | 0.8950260 | Cluster20 |\n",
       "| Cluster3 | 0.8915075 | Cluster3  |\n",
       "| Cluster4 | 0.8863570 | Cluster4  |\n",
       "| Cluster22 | 0.8366444 | Cluster22 |\n",
       "| Cluster1 | 0.8223866 | Cluster1  |\n",
       "| Cluster6 | 0.8094668 | Cluster6  |\n",
       "| Cluster5 | 0.7928091 | Cluster5  |\n",
       "| Cluster18 | 0.7829284 | Cluster18 |\n",
       "| Cluster8 | 0.7730365 | Cluster8  |\n",
       "| Cluster14 | 0.7565053 | Cluster14 |\n",
       "| Cluster11 | 0.7558273 | Cluster11 |\n",
       "| Cluster10 | 0.7494550 | Cluster10 |\n",
       "| Cluster13 | 0.7342837 | Cluster13 |\n",
       "| Cluster15 | 0.7144001 | Cluster15 |\n",
       "| Cluster12 | 0.6863437 | Cluster12 |\n",
       "| Cluster17 | 0.6729181 | Cluster17 |\n",
       "| Cluster9 | 0.6488019 | Cluster9  |\n",
       "| Cluster16 | 0.6116678 | Cluster16 |\n",
       "| Cluster24 | 0.5313759 | Cluster24 |\n",
       "\n"
      ],
      "text/plain": [
       "          percentage sample   \n",
       "Cluster2  1.0156504  Cluster2 \n",
       "Cluster19 0.9633264  Cluster19\n",
       "Cluster23 0.9472877  Cluster23\n",
       "Cluster21 0.9377994  Cluster21\n",
       "Cluster7  0.8967339  Cluster7 \n",
       "Cluster20 0.8950260  Cluster20\n",
       "Cluster3  0.8915075  Cluster3 \n",
       "Cluster4  0.8863570  Cluster4 \n",
       "Cluster22 0.8366444  Cluster22\n",
       "Cluster1  0.8223866  Cluster1 \n",
       "Cluster6  0.8094668  Cluster6 \n",
       "Cluster5  0.7928091  Cluster5 \n",
       "Cluster18 0.7829284  Cluster18\n",
       "Cluster8  0.7730365  Cluster8 \n",
       "Cluster14 0.7565053  Cluster14\n",
       "Cluster11 0.7558273  Cluster11\n",
       "Cluster10 0.7494550  Cluster10\n",
       "Cluster13 0.7342837  Cluster13\n",
       "Cluster15 0.7144001  Cluster15\n",
       "Cluster12 0.6863437  Cluster12\n",
       "Cluster17 0.6729181  Cluster17\n",
       "Cluster9  0.6488019  Cluster9 \n",
       "Cluster16 0.6116678  Cluster16\n",
       "Cluster24 0.5313759  Cluster24"
      ]
     },
     "metadata": {},
     "output_type": "display_data"
    }
   ],
   "source": [
    "df = data.frame(percentage=100*frac_reads_in_peak_set,\n",
    "               sample=colnames(cts))\n",
    "df = df[rev(order(df$percentage)), ]\n",
    "df"
   ]
  },
  {
   "cell_type": "code",
   "execution_count": null,
   "metadata": {},
   "outputs": [],
   "source": []
  }
 ],
 "metadata": {
  "kernelspec": {
   "display_name": "R",
   "language": "R",
   "name": "ir"
  },
  "language_info": {
   "codemirror_mode": "r",
   "file_extension": ".r",
   "mimetype": "text/x-r-source",
   "name": "R",
   "pygments_lexer": "r",
   "version": "3.5.1"
  }
 },
 "nbformat": 4,
 "nbformat_minor": 2
}
