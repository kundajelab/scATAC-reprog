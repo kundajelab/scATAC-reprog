{
 "cells": [
  {
   "cell_type": "markdown",
   "metadata": {},
   "source": [
    "# Combine Loom\n",
    "\n",
    "Combine Loom files per day (from `velocyto`) to a single AnnData."
   ]
  },
  {
   "cell_type": "code",
   "execution_count": 155,
   "metadata": {},
   "outputs": [],
   "source": [
    "import scanpy as sc\n",
    "import scvelo as scv\n",
    "import pandas as pd\n",
    "import numpy as np"
   ]
  },
  {
   "cell_type": "code",
   "execution_count": null,
   "metadata": {},
   "outputs": [],
   "source": []
  },
  {
   "cell_type": "code",
   "execution_count": 59,
   "metadata": {},
   "outputs": [
    {
     "data": {
      "text/plain": [
       "['D0', 'D2', 'D4', 'D6', 'D8', 'D10', 'D12', 'D14']"
      ]
     },
     "execution_count": 59,
     "metadata": {},
     "output_type": "execute_result"
    }
   ],
   "source": [
    "DAYS = [\"D{:d}\".format(d) for d in range(0,15,2)]\n",
    "DAYS"
   ]
  },
  {
   "cell_type": "code",
   "execution_count": 10,
   "metadata": {},
   "outputs": [],
   "source": [
    "# load processed RNA\n",
    "rna = sc.read_h5ad(\"../20200828_RNA_Seurat/sessions/20200913_n27632/seurat.h5ad\")"
   ]
  },
  {
   "cell_type": "code",
   "execution_count": 123,
   "metadata": {},
   "outputs": [
    {
     "name": "stderr",
     "output_type": "stream",
     "text": [
      "Variable names are not unique. To make them unique, call `.var_names_make_unique`.\n",
      "... storing 'Chromosome' as categorical\n",
      "... storing 'Strand' as categorical\n",
      "Variable names are not unique. To make them unique, call `.var_names_make_unique`.\n",
      "... storing 'Chromosome' as categorical\n",
      "... storing 'Strand' as categorical\n",
      "Variable names are not unique. To make them unique, call `.var_names_make_unique`.\n",
      "... storing 'Chromosome' as categorical\n",
      "... storing 'Strand' as categorical\n",
      "Variable names are not unique. To make them unique, call `.var_names_make_unique`.\n",
      "Variable names are not unique. To make them unique, call `.var_names_make_unique`.\n",
      "... storing 'Chromosome' as categorical\n",
      "... storing 'Strand' as categorical\n",
      "Variable names are not unique. To make them unique, call `.var_names_make_unique`.\n",
      "Variable names are not unique. To make them unique, call `.var_names_make_unique`.\n",
      "... storing 'Chromosome' as categorical\n",
      "... storing 'Strand' as categorical\n",
      "Variable names are not unique. To make them unique, call `.var_names_make_unique`.\n",
      "... storing 'Chromosome' as categorical\n",
      "... storing 'Strand' as categorical\n"
     ]
    }
   ],
   "source": [
    "# load looms (from velocyto)\n",
    "loom_adatas = []\n",
    "\n",
    "for d in DAYS:\n",
    "    loom_adatas.append(scv.read('/srv/scratch/surag/scRNA-reprog/velocyto/{:s}.loom'.format(d), cache=True))\n",
    "    # some gene names are dup-ed\n",
    "    loom_adatas[-1].var_names_make_unique()\n",
    "    \n",
    "loom_adata = loom_adatas[0].concatenate(*loom_adatas[1:])"
   ]
  },
  {
   "cell_type": "code",
   "execution_count": 124,
   "metadata": {},
   "outputs": [
    {
     "data": {
      "text/plain": [
       "AnnData object with n_obs × n_vars = 81706 × 36601\n",
       "    obs: 'Clusters', '_X', '_Y', 'batch'\n",
       "    var: 'Accession', 'Chromosome', 'End', 'Start', 'Strand'\n",
       "    layers: 'matrix', 'ambiguous', 'spliced', 'unspliced'"
      ]
     },
     "execution_count": 124,
     "metadata": {},
     "output_type": "execute_result"
    }
   ],
   "source": [
    "loom_adata"
   ]
  },
  {
   "cell_type": "code",
   "execution_count": 130,
   "metadata": {},
   "outputs": [
    {
     "data": {
      "text/html": [
       "<div>\n",
       "<style scoped>\n",
       "    .dataframe tbody tr th:only-of-type {\n",
       "        vertical-align: middle;\n",
       "    }\n",
       "\n",
       "    .dataframe tbody tr th {\n",
       "        vertical-align: top;\n",
       "    }\n",
       "\n",
       "    .dataframe thead th {\n",
       "        text-align: right;\n",
       "    }\n",
       "</style>\n",
       "<table border=\"1\" class=\"dataframe\">\n",
       "  <thead>\n",
       "    <tr style=\"text-align: right;\">\n",
       "      <th></th>\n",
       "      <th>Clusters</th>\n",
       "      <th>_X</th>\n",
       "      <th>_Y</th>\n",
       "      <th>batch</th>\n",
       "    </tr>\n",
       "  </thead>\n",
       "  <tbody>\n",
       "    <tr>\n",
       "      <th>D0:AAACCCAGTTATTCTCx-0</th>\n",
       "      <td>8</td>\n",
       "      <td>-2.639777</td>\n",
       "      <td>6.698133</td>\n",
       "      <td>0</td>\n",
       "    </tr>\n",
       "    <tr>\n",
       "      <th>D0:AAACGCTTCGTGCGACx-0</th>\n",
       "      <td>4</td>\n",
       "      <td>-25.482784</td>\n",
       "      <td>-16.161640</td>\n",
       "      <td>0</td>\n",
       "    </tr>\n",
       "    <tr>\n",
       "      <th>D0:AAACGCTGTAGAGGAAx-0</th>\n",
       "      <td>2</td>\n",
       "      <td>-1.433096</td>\n",
       "      <td>-15.862327</td>\n",
       "      <td>0</td>\n",
       "    </tr>\n",
       "    <tr>\n",
       "      <th>D0:AAAGGTAGTCTCAGGCx-0</th>\n",
       "      <td>6</td>\n",
       "      <td>4.602793</td>\n",
       "      <td>-9.048930</td>\n",
       "      <td>0</td>\n",
       "    </tr>\n",
       "    <tr>\n",
       "      <th>D0:AAACGCTAGCAACTCTx-0</th>\n",
       "      <td>4</td>\n",
       "      <td>-8.913074</td>\n",
       "      <td>-11.779467</td>\n",
       "      <td>0</td>\n",
       "    </tr>\n",
       "  </tbody>\n",
       "</table>\n",
       "</div>"
      ],
      "text/plain": [
       "                        Clusters         _X         _Y batch\n",
       "D0:AAACCCAGTTATTCTCx-0         8  -2.639777   6.698133     0\n",
       "D0:AAACGCTTCGTGCGACx-0         4 -25.482784 -16.161640     0\n",
       "D0:AAACGCTGTAGAGGAAx-0         2  -1.433096 -15.862327     0\n",
       "D0:AAAGGTAGTCTCAGGCx-0         6   4.602793  -9.048930     0\n",
       "D0:AAACGCTAGCAACTCTx-0         4  -8.913074 -11.779467     0"
      ]
     },
     "execution_count": 130,
     "metadata": {},
     "output_type": "execute_result"
    }
   ],
   "source": [
    "loom_adata.obs.head()"
   ]
  },
  {
   "cell_type": "code",
   "execution_count": 129,
   "metadata": {},
   "outputs": [
    {
     "data": {
      "text/html": [
       "<div>\n",
       "<style scoped>\n",
       "    .dataframe tbody tr th:only-of-type {\n",
       "        vertical-align: middle;\n",
       "    }\n",
       "\n",
       "    .dataframe tbody tr th {\n",
       "        vertical-align: top;\n",
       "    }\n",
       "\n",
       "    .dataframe thead th {\n",
       "        text-align: right;\n",
       "    }\n",
       "</style>\n",
       "<table border=\"1\" class=\"dataframe\">\n",
       "  <thead>\n",
       "    <tr style=\"text-align: right;\">\n",
       "      <th></th>\n",
       "      <th>nCount_RNA</th>\n",
       "      <th>nFeature_RNA</th>\n",
       "      <th>sample</th>\n",
       "      <th>percent.mt</th>\n",
       "      <th>selected</th>\n",
       "      <th>percent.or</th>\n",
       "      <th>RNA_snn_res.1</th>\n",
       "      <th>seurat_clusters</th>\n",
       "      <th>RNA_snn_res.0.5</th>\n",
       "    </tr>\n",
       "  </thead>\n",
       "  <tbody>\n",
       "    <tr>\n",
       "      <th>AAACCCAAGAGTGACC-1</th>\n",
       "      <td>12431.0</td>\n",
       "      <td>3300</td>\n",
       "      <td>D0</td>\n",
       "      <td>4.231357</td>\n",
       "      <td>0.0</td>\n",
       "      <td>0.0</td>\n",
       "      <td>0</td>\n",
       "      <td>0</td>\n",
       "      <td>0</td>\n",
       "    </tr>\n",
       "    <tr>\n",
       "      <th>AAACCCAAGTGCCAGA-1</th>\n",
       "      <td>11132.0</td>\n",
       "      <td>3304</td>\n",
       "      <td>D0</td>\n",
       "      <td>5.821056</td>\n",
       "      <td>1.0</td>\n",
       "      <td>0.0</td>\n",
       "      <td>0</td>\n",
       "      <td>0</td>\n",
       "      <td>0</td>\n",
       "    </tr>\n",
       "    <tr>\n",
       "      <th>AAACCCACACCATTCC-1</th>\n",
       "      <td>13101.0</td>\n",
       "      <td>3788</td>\n",
       "      <td>D0</td>\n",
       "      <td>4.121823</td>\n",
       "      <td>0.0</td>\n",
       "      <td>0.0</td>\n",
       "      <td>7</td>\n",
       "      <td>0</td>\n",
       "      <td>0</td>\n",
       "    </tr>\n",
       "    <tr>\n",
       "      <th>AAACCCACACGCGTCA-1</th>\n",
       "      <td>7944.0</td>\n",
       "      <td>2612</td>\n",
       "      <td>D0</td>\n",
       "      <td>4.770896</td>\n",
       "      <td>1.0</td>\n",
       "      <td>0.0</td>\n",
       "      <td>0</td>\n",
       "      <td>0</td>\n",
       "      <td>0</td>\n",
       "    </tr>\n",
       "    <tr>\n",
       "      <th>AAACCCAGTCCATAGT-1</th>\n",
       "      <td>10934.0</td>\n",
       "      <td>3080</td>\n",
       "      <td>D0</td>\n",
       "      <td>6.036217</td>\n",
       "      <td>0.0</td>\n",
       "      <td>0.0</td>\n",
       "      <td>7</td>\n",
       "      <td>0</td>\n",
       "      <td>0</td>\n",
       "    </tr>\n",
       "  </tbody>\n",
       "</table>\n",
       "</div>"
      ],
      "text/plain": [
       "                    nCount_RNA  nFeature_RNA sample  percent.mt  selected  \\\n",
       "AAACCCAAGAGTGACC-1     12431.0          3300     D0    4.231357       0.0   \n",
       "AAACCCAAGTGCCAGA-1     11132.0          3304     D0    5.821056       1.0   \n",
       "AAACCCACACCATTCC-1     13101.0          3788     D0    4.121823       0.0   \n",
       "AAACCCACACGCGTCA-1      7944.0          2612     D0    4.770896       1.0   \n",
       "AAACCCAGTCCATAGT-1     10934.0          3080     D0    6.036217       0.0   \n",
       "\n",
       "                    percent.or RNA_snn_res.1 seurat_clusters RNA_snn_res.0.5  \n",
       "AAACCCAAGAGTGACC-1         0.0             0               0               0  \n",
       "AAACCCAAGTGCCAGA-1         0.0             0               0               0  \n",
       "AAACCCACACCATTCC-1         0.0             7               0               0  \n",
       "AAACCCACACGCGTCA-1         0.0             0               0               0  \n",
       "AAACCCAGTCCATAGT-1         0.0             7               0               0  "
      ]
     },
     "execution_count": 129,
     "metadata": {},
     "output_type": "execute_result"
    }
   ],
   "source": [
    "rna.obs.head()"
   ]
  },
  {
   "cell_type": "markdown",
   "metadata": {},
   "source": [
    "Need to match barcodes. Seurat object has Barcode-{1,2,3,4,5,6,7,8} where 1-8 correspond to D0-D14."
   ]
  },
  {
   "cell_type": "code",
   "execution_count": 140,
   "metadata": {},
   "outputs": [
    {
     "data": {
      "text/html": [
       "<div>\n",
       "<style scoped>\n",
       "    .dataframe tbody tr th:only-of-type {\n",
       "        vertical-align: middle;\n",
       "    }\n",
       "\n",
       "    .dataframe tbody tr th {\n",
       "        vertical-align: top;\n",
       "    }\n",
       "\n",
       "    .dataframe thead th {\n",
       "        text-align: right;\n",
       "    }\n",
       "</style>\n",
       "<table border=\"1\" class=\"dataframe\">\n",
       "  <thead>\n",
       "    <tr style=\"text-align: right;\">\n",
       "      <th></th>\n",
       "      <th>Clusters</th>\n",
       "      <th>_X</th>\n",
       "      <th>_Y</th>\n",
       "      <th>batch</th>\n",
       "    </tr>\n",
       "  </thead>\n",
       "  <tbody>\n",
       "    <tr>\n",
       "      <th>D14:TTTGTTGCACCGTGACx-7</th>\n",
       "      <td>9</td>\n",
       "      <td>47.708885</td>\n",
       "      <td>19.407852</td>\n",
       "      <td>7</td>\n",
       "    </tr>\n",
       "    <tr>\n",
       "      <th>D14:TTTGGTTAGGATGTTAx-7</th>\n",
       "      <td>7</td>\n",
       "      <td>-29.613766</td>\n",
       "      <td>2.475100</td>\n",
       "      <td>7</td>\n",
       "    </tr>\n",
       "    <tr>\n",
       "      <th>D14:TTTGTTGCAGGACTTTx-7</th>\n",
       "      <td>2</td>\n",
       "      <td>-42.803905</td>\n",
       "      <td>17.457087</td>\n",
       "      <td>7</td>\n",
       "    </tr>\n",
       "    <tr>\n",
       "      <th>D14:TTTGGTTGTCGATTACx-7</th>\n",
       "      <td>2</td>\n",
       "      <td>-44.272461</td>\n",
       "      <td>19.298035</td>\n",
       "      <td>7</td>\n",
       "    </tr>\n",
       "    <tr>\n",
       "      <th>D14:TTTGATCGTATCGGTTx-7</th>\n",
       "      <td>4</td>\n",
       "      <td>-17.164248</td>\n",
       "      <td>3.090986</td>\n",
       "      <td>7</td>\n",
       "    </tr>\n",
       "  </tbody>\n",
       "</table>\n",
       "</div>"
      ],
      "text/plain": [
       "                         Clusters         _X         _Y batch\n",
       "D14:TTTGTTGCACCGTGACx-7         9  47.708885  19.407852     7\n",
       "D14:TTTGGTTAGGATGTTAx-7         7 -29.613766   2.475100     7\n",
       "D14:TTTGTTGCAGGACTTTx-7         2 -42.803905  17.457087     7\n",
       "D14:TTTGGTTGTCGATTACx-7         2 -44.272461  19.298035     7\n",
       "D14:TTTGATCGTATCGGTTx-7         4 -17.164248   3.090986     7"
      ]
     },
     "execution_count": 140,
     "metadata": {},
     "output_type": "execute_result"
    }
   ],
   "source": [
    "loom_adata.obs.tail()"
   ]
  },
  {
   "cell_type": "code",
   "execution_count": 138,
   "metadata": {},
   "outputs": [],
   "source": [
    "def convert_barcode(loom_bcode):\n",
    "    day, bcode = loom_bcode.split(\":\")\n",
    "    bcode = bcode.split('x')[0]\n",
    "    return \"{:s}-{:d}\".format(bcode,\n",
    "                             DAYS.index(day)+1)"
   ]
  },
  {
   "cell_type": "code",
   "execution_count": 143,
   "metadata": {},
   "outputs": [],
   "source": [
    "converted_barcodes = [convert_barcode(x) for x in list(loom_adata.obs.index)]"
   ]
  },
  {
   "cell_type": "code",
   "execution_count": 146,
   "metadata": {},
   "outputs": [
    {
     "data": {
      "text/plain": [
       "['AAACCCAGTTATTCTC-1',\n",
       " 'AAACGCTTCGTGCGAC-1',\n",
       " 'AAACGCTGTAGAGGAA-1',\n",
       " 'AAAGGTAGTCTCAGGC-1',\n",
       " 'AAACGCTAGCAACTCT-1',\n",
       " 'AAAGTCCGTACAGGTG-1',\n",
       " 'AAACGCTTCCATTGTT-1',\n",
       " 'AAACCCACAACTCGAT-1',\n",
       " 'AAACCCACACGCGTCA-1',\n",
       " 'AAAGTGAGTAGTTAGA-1']"
      ]
     },
     "execution_count": 146,
     "metadata": {},
     "output_type": "execute_result"
    }
   ],
   "source": [
    "converted_barcodes[:10]"
   ]
  },
  {
   "cell_type": "code",
   "execution_count": 147,
   "metadata": {},
   "outputs": [
    {
     "data": {
      "text/plain": [
       "59369"
      ]
     },
     "execution_count": 147,
     "metadata": {},
     "output_type": "execute_result"
    }
   ],
   "source": [
    "len(rna.obs.index)"
   ]
  },
  {
   "cell_type": "code",
   "execution_count": 148,
   "metadata": {},
   "outputs": [
    {
     "data": {
      "text/plain": [
       "59369"
      ]
     },
     "execution_count": 148,
     "metadata": {},
     "output_type": "execute_result"
    }
   ],
   "source": [
    "len(set(rna.obs.index).intersection(set(converted_barcodes)))"
   ]
  },
  {
   "cell_type": "markdown",
   "metadata": {},
   "source": [
    "The above two should match."
   ]
  },
  {
   "cell_type": "code",
   "execution_count": 150,
   "metadata": {},
   "outputs": [],
   "source": [
    "loom_adata.obs.index = pd.Index(converted_barcodes)"
   ]
  },
  {
   "cell_type": "code",
   "execution_count": 151,
   "metadata": {},
   "outputs": [
    {
     "data": {
      "text/html": [
       "<div>\n",
       "<style scoped>\n",
       "    .dataframe tbody tr th:only-of-type {\n",
       "        vertical-align: middle;\n",
       "    }\n",
       "\n",
       "    .dataframe tbody tr th {\n",
       "        vertical-align: top;\n",
       "    }\n",
       "\n",
       "    .dataframe thead th {\n",
       "        text-align: right;\n",
       "    }\n",
       "</style>\n",
       "<table border=\"1\" class=\"dataframe\">\n",
       "  <thead>\n",
       "    <tr style=\"text-align: right;\">\n",
       "      <th></th>\n",
       "      <th>Clusters</th>\n",
       "      <th>_X</th>\n",
       "      <th>_Y</th>\n",
       "      <th>batch</th>\n",
       "    </tr>\n",
       "  </thead>\n",
       "  <tbody>\n",
       "    <tr>\n",
       "      <th>AAACCCAGTTATTCTC-1</th>\n",
       "      <td>8</td>\n",
       "      <td>-2.639777</td>\n",
       "      <td>6.698133</td>\n",
       "      <td>0</td>\n",
       "    </tr>\n",
       "    <tr>\n",
       "      <th>AAACGCTTCGTGCGAC-1</th>\n",
       "      <td>4</td>\n",
       "      <td>-25.482784</td>\n",
       "      <td>-16.161640</td>\n",
       "      <td>0</td>\n",
       "    </tr>\n",
       "    <tr>\n",
       "      <th>AAACGCTGTAGAGGAA-1</th>\n",
       "      <td>2</td>\n",
       "      <td>-1.433096</td>\n",
       "      <td>-15.862327</td>\n",
       "      <td>0</td>\n",
       "    </tr>\n",
       "    <tr>\n",
       "      <th>AAAGGTAGTCTCAGGC-1</th>\n",
       "      <td>6</td>\n",
       "      <td>4.602793</td>\n",
       "      <td>-9.048930</td>\n",
       "      <td>0</td>\n",
       "    </tr>\n",
       "    <tr>\n",
       "      <th>AAACGCTAGCAACTCT-1</th>\n",
       "      <td>4</td>\n",
       "      <td>-8.913074</td>\n",
       "      <td>-11.779467</td>\n",
       "      <td>0</td>\n",
       "    </tr>\n",
       "  </tbody>\n",
       "</table>\n",
       "</div>"
      ],
      "text/plain": [
       "                    Clusters         _X         _Y batch\n",
       "AAACCCAGTTATTCTC-1         8  -2.639777   6.698133     0\n",
       "AAACGCTTCGTGCGAC-1         4 -25.482784 -16.161640     0\n",
       "AAACGCTGTAGAGGAA-1         2  -1.433096 -15.862327     0\n",
       "AAAGGTAGTCTCAGGC-1         6   4.602793  -9.048930     0\n",
       "AAACGCTAGCAACTCT-1         4  -8.913074 -11.779467     0"
      ]
     },
     "execution_count": 151,
     "metadata": {},
     "output_type": "execute_result"
    }
   ],
   "source": [
    "loom_adata.obs.head()"
   ]
  },
  {
   "cell_type": "code",
   "execution_count": 152,
   "metadata": {},
   "outputs": [],
   "source": [
    "merged = scv.utils.merge(rna, loom_adata)"
   ]
  },
  {
   "cell_type": "code",
   "execution_count": 153,
   "metadata": {},
   "outputs": [
    {
     "data": {
      "text/plain": [
       "AnnData object with n_obs × n_vars = 59369 × 27624\n",
       "    obs: 'nCount_RNA', 'nFeature_RNA', 'sample', 'percent.mt', 'selected', 'percent.or', 'RNA_snn_res.1', 'seurat_clusters', 'RNA_snn_res.0.5', 'Clusters', '_X', '_Y', 'batch', 'initial_size_spliced', 'initial_size_unspliced', 'initial_size'\n",
       "    var: 'vst.mean', 'vst.variance', 'vst.variance.expected', 'vst.variance.standardized', 'vst.variable', 'Accession', 'Chromosome', 'End', 'Start', 'Strand'\n",
       "    obsm: 'X_pca', 'X_umap'\n",
       "    layers: 'matrix', 'ambiguous', 'spliced', 'unspliced'"
      ]
     },
     "execution_count": 153,
     "metadata": {},
     "output_type": "execute_result"
    }
   ],
   "source": [
    "merged"
   ]
  },
  {
   "cell_type": "code",
   "execution_count": 156,
   "metadata": {},
   "outputs": [
    {
     "data": {
      "image/png": "[encoded data removed]",
      "text/plain": [
       "<Figure size 1000x200 with 1 Axes>"
      ]
     },
     "metadata": {},
     "output_type": "display_data"
    }
   ],
   "source": [
    "scv.pl.proportions(merged)"
   ]
  },
  {
   "cell_type": "code",
   "execution_count": 165,
   "metadata": {},
   "outputs": [
    {
     "data": {
      "text/plain": [
       "array([27518, 52174, 19357, 22665,  7149, 56926, 20251, 35546, 57699,\n",
       "       34489])"
      ]
     },
     "execution_count": 165,
     "metadata": {},
     "output_type": "execute_result"
    }
   ],
   "source": [
    "rand_idx = np.random.randint(0, merged.shape[0], 10)\n",
    "rand_idx"
   ]
  },
  {
   "cell_type": "code",
   "execution_count": 171,
   "metadata": {},
   "outputs": [
    {
     "data": {
      "text/plain": [
       "matrix([[27235],\n",
       "        [18964],\n",
       "        [14572],\n",
       "        [16170],\n",
       "        [ 9981],\n",
       "        [11413],\n",
       "        [ 9201],\n",
       "        [10152],\n",
       "        [20358],\n",
       "        [10497]], dtype=uint64)"
      ]
     },
     "execution_count": 171,
     "metadata": {},
     "output_type": "execute_result"
    }
   ],
   "source": [
    "np.sum(merged.layers['spliced'] + merged.layers['unspliced'] + merged.layers['ambiguous'], axis=1)[rand_idx]"
   ]
  },
  {
   "cell_type": "code",
   "execution_count": 172,
   "metadata": {},
   "outputs": [
    {
     "data": {
      "text/plain": [
       "matrix([[27235.],\n",
       "        [18964.],\n",
       "        [14572.],\n",
       "        [16170.],\n",
       "        [ 9981.],\n",
       "        [11413.],\n",
       "        [ 9201.],\n",
       "        [10152.],\n",
       "        [20358.],\n",
       "        [10497.]], dtype=float32)"
      ]
     },
     "execution_count": 172,
     "metadata": {},
     "output_type": "execute_result"
    }
   ],
   "source": [
    "np.sum(merged.layers['matrix'], axis=1)[rand_idx]"
   ]
  },
  {
   "cell_type": "markdown",
   "metadata": {},
   "source": [
    "The above two should match and be non-zero."
   ]
  },
  {
   "cell_type": "code",
   "execution_count": 177,
   "metadata": {},
   "outputs": [],
   "source": [
    "tot = np.sum(merged.layers['matrix'], axis=1)"
   ]
  },
  {
   "cell_type": "code",
   "execution_count": 197,
   "metadata": {},
   "outputs": [],
   "source": [
    "from scipy.stats import pearsonr, spearmanr"
   ]
  },
  {
   "cell_type": "code",
   "execution_count": 196,
   "metadata": {},
   "outputs": [
    {
     "data": {
      "text/plain": [
       "(0.9051334134707267, 0.0)"
      ]
     },
     "execution_count": 196,
     "metadata": {},
     "output_type": "execute_result"
    }
   ],
   "source": [
    "pearsonr(merged.obs[\"nCount_RNA\"], np.squeeze(np.asarray(tot)))"
   ]
  },
  {
   "cell_type": "code",
   "execution_count": 200,
   "metadata": {},
   "outputs": [
    {
     "data": {
      "text/plain": [
       "SpearmanrResult(correlation=0.9363937641746577, pvalue=0.0)"
      ]
     },
     "execution_count": 200,
     "metadata": {},
     "output_type": "execute_result"
    }
   ],
   "source": [
    "spearmanr(merged.obs[\"nCount_RNA\"], np.squeeze(np.asarray(tot)))"
   ]
  },
  {
   "cell_type": "markdown",
   "metadata": {},
   "source": [
    "These correlate fairly strongly."
   ]
  },
  {
   "cell_type": "markdown",
   "metadata": {},
   "source": [
    "## Save Merged Output"
   ]
  },
  {
   "cell_type": "code",
   "execution_count": 206,
   "metadata": {},
   "outputs": [],
   "source": [
    "merged.write_h5ad(\"./sessions/20200913_n27632/seurat_with_velocyto.h5ad\")"
   ]
  },
  {
   "cell_type": "markdown",
   "metadata": {},
   "source": [
    "---"
   ]
  },
  {
   "cell_type": "code",
   "execution_count": null,
   "metadata": {},
   "outputs": [],
   "source": []
  }
 ],
 "metadata": {
  "kernelspec": {
   "display_name": "Python 3",
   "language": "python",
   "name": "python3"
  },
  "language_info": {
   "codemirror_mode": {
    "name": "ipython",
    "version": 3
   },
   "file_extension": ".py",
   "mimetype": "text/x-python",
   "name": "python",
   "nbconvert_exporter": "python",
   "pygments_lexer": "ipython3",
   "version": "3.8.2"
  }
 },
 "nbformat": 4,
 "nbformat_minor": 4
}
