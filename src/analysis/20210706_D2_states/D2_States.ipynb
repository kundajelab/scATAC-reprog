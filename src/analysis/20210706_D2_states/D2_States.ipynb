{
 "cells": [
  {
   "cell_type": "markdown",
   "metadata": {},
   "source": [
    "# D2 States\n",
    "\n",
    "Simple overlap of IDR peaks into different states."
   ]
  },
  {
   "cell_type": "code",
   "execution_count": 30,
   "metadata": {},
   "outputs": [],
   "source": [
    "library(GenomicRanges)\n",
    "library(ggplot2)\n",
    "library(reshape2)"
   ]
  },
  {
   "cell_type": "code",
   "execution_count": 5,
   "metadata": {},
   "outputs": [],
   "source": [
    "read_peaks <- function(fname) {\n",
    "    t = read.table(fname, sep='\\t')[,1:3]\n",
    "    colnames(t) = c('chr', 'start', 'end')\n",
    "    GRanges(t)\n",
    "}"
   ]
  },
  {
   "cell_type": "code",
   "execution_count": null,
   "metadata": {},
   "outputs": [],
   "source": []
  },
  {
   "cell_type": "code",
   "execution_count": 6,
   "metadata": {},
   "outputs": [],
   "source": [
    "merged_peaks = read_peaks(\"./merged.idr.peaks.bed\")"
   ]
  },
  {
   "cell_type": "code",
   "execution_count": 7,
   "metadata": {},
   "outputs": [
    {
     "data": {
      "text/plain": [
       "GRanges object with 147937 ranges and 0 metadata columns:\n",
       "           seqnames            ranges strand\n",
       "              <Rle>         <IRanges>  <Rle>\n",
       "       [1]     chr1     196462-196700      *\n",
       "       [2]     chr1     629080-630050      *\n",
       "       [3]     chr1     630283-630513      *\n",
       "       [4]     chr1     630768-631402      *\n",
       "       [5]     chr1     631876-632362      *\n",
       "       ...      ...               ...    ...\n",
       "  [147933]     chrY 19743956-19745450      *\n",
       "  [147934]     chrY 20558775-20559000      *\n",
       "  [147935]     chrY 20575029-20576235      *\n",
       "  [147936]     chrY 20586688-20587434      *\n",
       "  [147937]     chrY 20599608-20600466      *\n",
       "  -------\n",
       "  seqinfo: 24 sequences from an unspecified genome; no seqlengths"
      ]
     },
     "metadata": {},
     "output_type": "display_data"
    }
   ],
   "source": [
    "merged_peaks"
   ]
  },
  {
   "cell_type": "code",
   "execution_count": 10,
   "metadata": {},
   "outputs": [],
   "source": [
    "fibr_peaks = read_peaks(\"~/oak/projects/scATAC-reprog/clusters/20201020_n62402/croo/cluster_idx5/peak/idr_reproducibility/idr.optimal_peak.narrowPeak.gz\")\n",
    "high_osk_peaks = read_peaks(\"~/oak/projects/scATAC-reprog/clusters/20201020_n62402/croo/cluster_idx4/peak/idr_reproducibility/idr.optimal_peak.narrowPeak.gz\")\n",
    "low_osk_peaks = read_peaks(\"~/oak/projects/scATAC-reprog/clusters/20201020_n62402/croo/cluster_idx14/peak/idr_reproducibility/idr.optimal_peak.narrowPeak.gz\")"
   ]
  },
  {
   "cell_type": "code",
   "execution_count": 65,
   "metadata": {},
   "outputs": [],
   "source": [
    "peak_overlaps = matrix(0, nrow=length(merged_peaks), ncol=3)\n",
    "colnames(peak_overlaps) = c(\"fibr\", \"High OSK\", \"Low OSK\")\n",
    "rownames(peak_overlaps) = as.character(merged_peaks)"
   ]
  },
  {
   "cell_type": "code",
   "execution_count": 66,
   "metadata": {},
   "outputs": [],
   "source": [
    "peak_overlaps[unique(queryHits(findOverlaps(merged_peaks, fibr_peaks))), 1] = 1\n",
    "peak_overlaps[unique(queryHits(findOverlaps(merged_peaks, high_osk_peaks))), 2] = 1\n",
    "peak_overlaps[unique(queryHits(findOverlaps(merged_peaks, low_osk_peaks))), 3] = 1"
   ]
  },
  {
   "cell_type": "code",
   "execution_count": 69,
   "metadata": {},
   "outputs": [],
   "source": [
    "peak_overlaps_state = peak_overlaps[,\"Low OSK\"] + 2*peak_overlaps[,\"High OSK\"] + 4*peak_overlaps[,\"fibr\"]"
   ]
  },
  {
   "cell_type": "code",
   "execution_count": 70,
   "metadata": {},
   "outputs": [
    {
     "data": {
      "text/plain": [
       "peak_overlaps_state\n",
       "    1     2     3     4     5     6     7 \n",
       " 2287 30686  4601 70607  8141  7808 23807 "
      ]
     },
     "metadata": {},
     "output_type": "display_data"
    }
   ],
   "source": [
    "table(peak_overlaps_state)"
   ]
  },
  {
   "cell_type": "code",
   "execution_count": null,
   "metadata": {},
   "outputs": [],
   "source": []
  },
  {
   "cell_type": "code",
   "execution_count": 71,
   "metadata": {},
   "outputs": [
    {
     "data": {
      "text/html": [
       "<table>\n",
       "<caption>A data.frame: 6 × 3</caption>\n",
       "<thead>\n",
       "\t<tr><th></th><th scope=col>Var1</th><th scope=col>Var2</th><th scope=col>value</th></tr>\n",
       "\t<tr><th></th><th scope=col>&lt;fct&gt;</th><th scope=col>&lt;fct&gt;</th><th scope=col>&lt;dbl&gt;</th></tr>\n",
       "</thead>\n",
       "<tbody>\n",
       "\t<tr><th scope=row>1</th><td>chr1:196462-196700</td><td>fibr</td><td>1</td></tr>\n",
       "\t<tr><th scope=row>2</th><td>chr1:629080-630050</td><td>fibr</td><td>1</td></tr>\n",
       "\t<tr><th scope=row>3</th><td>chr1:630283-630513</td><td>fibr</td><td>1</td></tr>\n",
       "\t<tr><th scope=row>4</th><td>chr1:630768-631402</td><td>fibr</td><td>1</td></tr>\n",
       "\t<tr><th scope=row>5</th><td>chr1:631876-632362</td><td>fibr</td><td>1</td></tr>\n",
       "\t<tr><th scope=row>6</th><td>chr1:632468-632856</td><td>fibr</td><td>1</td></tr>\n",
       "</tbody>\n",
       "</table>\n"
      ],
      "text/latex": [
       "A data.frame: 6 × 3\n",
       "\\begin{tabular}{r|lll}\n",
       "  & Var1 & Var2 & value\\\\\n",
       "  & <fct> & <fct> & <dbl>\\\\\n",
       "\\hline\n",
       "\t1 & chr1:196462-196700 & fibr & 1\\\\\n",
       "\t2 & chr1:629080-630050 & fibr & 1\\\\\n",
       "\t3 & chr1:630283-630513 & fibr & 1\\\\\n",
       "\t4 & chr1:630768-631402 & fibr & 1\\\\\n",
       "\t5 & chr1:631876-632362 & fibr & 1\\\\\n",
       "\t6 & chr1:632468-632856 & fibr & 1\\\\\n",
       "\\end{tabular}\n"
      ],
      "text/markdown": [
       "\n",
       "A data.frame: 6 × 3\n",
       "\n",
       "| <!--/--> | Var1 &lt;fct&gt; | Var2 &lt;fct&gt; | value &lt;dbl&gt; |\n",
       "|---|---|---|---|\n",
       "| 1 | chr1:196462-196700 | fibr | 1 |\n",
       "| 2 | chr1:629080-630050 | fibr | 1 |\n",
       "| 3 | chr1:630283-630513 | fibr | 1 |\n",
       "| 4 | chr1:630768-631402 | fibr | 1 |\n",
       "| 5 | chr1:631876-632362 | fibr | 1 |\n",
       "| 6 | chr1:632468-632856 | fibr | 1 |\n",
       "\n"
      ],
      "text/plain": [
       "  Var1               Var2 value\n",
       "1 chr1:196462-196700 fibr 1    \n",
       "2 chr1:629080-630050 fibr 1    \n",
       "3 chr1:630283-630513 fibr 1    \n",
       "4 chr1:630768-631402 fibr 1    \n",
       "5 chr1:631876-632362 fibr 1    \n",
       "6 chr1:632468-632856 fibr 1    "
      ]
     },
     "metadata": {},
     "output_type": "display_data"
    }
   ],
   "source": [
    "head(melt(peak_overlaps))"
   ]
  },
  {
   "cell_type": "code",
   "execution_count": 72,
   "metadata": {},
   "outputs": [
    {
     "data": {
      "image/png": "[encoded data removed]",
      "text/plain": [
       "plot without title"
      ]
     },
     "metadata": {
      "image/png": {
       "height": 480,
       "width": 360
      },
      "text/plain": {
       "height": 480,
       "width": 360
      }
     },
     "output_type": "display_data"
    }
   ],
   "source": [
    "options(repr.plot.width = 6, repr.plot.height = 8)\n",
    "\n",
    "ggplot(melt(peak_overlaps[seq(1,nrow(peak_overlaps),100),])) +\n",
    "geom_tile(aes(x=Var2, \n",
    "              y=factor(Var1, \n",
    "                       levels=as.character(merged_peaks)[seq(1,nrow(peak_overlaps),100)][order(peak_overlaps_state[seq(1,nrow(peak_overlaps),100)])]),\n",
    "             fill=value)) + \n",
    "theme_bw(base_size=20) +\n",
    "ylab(\"IDR Peaks\") +\n",
    "xlab(\"Sample\") +\n",
    "scale_fill_gradient(low='white', high='black') +\n",
    "theme(axis.text.y=element_blank(),\n",
    "     axis.ticks.y=element_blank(),\n",
    "     legend.position=\"None\")"
   ]
  },
  {
   "cell_type": "code",
   "execution_count": null,
   "metadata": {},
   "outputs": [],
   "source": []
  },
  {
   "cell_type": "code",
   "execution_count": null,
   "metadata": {},
   "outputs": [],
   "source": []
  },
  {
   "cell_type": "code",
   "execution_count": null,
   "metadata": {},
   "outputs": [],
   "source": []
  },
  {
   "cell_type": "code",
   "execution_count": null,
   "metadata": {},
   "outputs": [],
   "source": []
  },
  {
   "cell_type": "markdown",
   "metadata": {},
   "source": [
    "---"
   ]
  },
  {
   "cell_type": "code",
   "execution_count": null,
   "metadata": {},
   "outputs": [],
   "source": [
    "sessionInfo()"
   ]
  }
 ],
 "metadata": {
  "kernelspec": {
   "display_name": "R",
   "language": "R",
   "name": "ir"
  },
  "language_info": {
   "codemirror_mode": "r",
   "file_extension": ".r",
   "mimetype": "text/x-r-source",
   "name": "R",
   "pygments_lexer": "r",
   "version": "3.6.3"
  }
 },
 "nbformat": 4,
 "nbformat_minor": 4
}
