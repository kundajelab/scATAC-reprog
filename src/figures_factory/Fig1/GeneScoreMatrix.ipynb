{
 "cells": [
  {
   "cell_type": "markdown",
   "metadata": {},
   "source": [
    "# Gene Score Matrix\n",
    "\n",
    "Make a matrix of gene scores.\n",
    "\n",
    "1. `metadata.tsv` with UMAP/densMAP coordinates and total fragments/insertions.\n",
    "2. Single-cell counts matrix derived from snapATAC with corresponding peaks.\n",
    "3. GTF\n",
    "4. Config:\n",
    "    - For each cluster, colour, description, new cluster number (set to same as original if it should not be changed)"
   ]
  },
  {
   "cell_type": "code",
   "execution_count": 227,
   "metadata": {},
   "outputs": [
    {
     "name": "stderr",
     "output_type": "stream",
     "text": [
      "Loading required package: gtools\n",
      "\n"
     ]
    }
   ],
   "source": [
    "library(Matrix)\n",
    "library(ggplot2)\n",
    "library(patchwork)\n",
    "library(GenomicRanges)\n",
    "library(scales)\n",
    "library(RColorBrewer)\n",
    "library(DESeq2)\n",
    "library(rtracklayer)\n",
    "library(dplyr)\n",
    "library(reshape2)\n",
    "library(viridis)\n",
    "library(ClusterR)"
   ]
  },
  {
   "cell_type": "code",
   "execution_count": 2,
   "metadata": {},
   "outputs": [],
   "source": [
    "DAYS = c(\"D0\", \"D2\", \"D4\", \"D6\", \"D8\", \"D10\", \"D12\", \"D14\")"
   ]
  },
  {
   "cell_type": "markdown",
   "metadata": {},
   "source": [
    "## Loading Inputs"
   ]
  },
  {
   "cell_type": "markdown",
   "metadata": {},
   "source": [
    "### MetaData"
   ]
  },
  {
   "cell_type": "code",
   "execution_count": 3,
   "metadata": {},
   "outputs": [
    {
     "data": {
      "text/html": [
       "<style>\n",
       ".list-inline {list-style: none; margin:0; padding: 0}\n",
       ".list-inline>li {display: inline-block}\n",
       ".list-inline>li:not(:last-child)::after {content: \"\\00b7\"; padding: 0 .5ex}\n",
       "</style>\n",
       "<ol class=list-inline><li>68916</li><li>5</li></ol>\n"
      ],
      "text/latex": [
       "\\begin{enumerate*}\n",
       "\\item 68916\n",
       "\\item 5\n",
       "\\end{enumerate*}\n"
      ],
      "text/markdown": [
       "1. 68916\n",
       "2. 5\n",
       "\n",
       "\n"
      ],
      "text/plain": [
       "[1] 68916     5"
      ]
     },
     "metadata": {},
     "output_type": "display_data"
    },
    {
     "data": {
      "text/html": [
       "<table>\n",
       "<caption>A data.frame: 5 × 5</caption>\n",
       "<thead>\n",
       "\t<tr><th></th><th scope=col>barcode</th><th scope=col>sample</th><th scope=col>umap1</th><th scope=col>umap2</th><th scope=col>cells</th></tr>\n",
       "\t<tr><th></th><th scope=col>&lt;fct&gt;</th><th scope=col>&lt;fct&gt;</th><th scope=col>&lt;dbl&gt;</th><th scope=col>&lt;dbl&gt;</th><th scope=col>&lt;chr&gt;</th></tr>\n",
       "</thead>\n",
       "<tbody>\n",
       "\t<tr><th scope=row>D0_AAACAACGACGATTAC</th><td>AAACAACGACGATTAC</td><td>D0</td><td>6.565758</td><td>-8.649868</td><td>D0_AAACAACGACGATTAC</td></tr>\n",
       "\t<tr><th scope=row>D0_AAACAACGAGCGCACT</th><td>AAACAACGAGCGCACT</td><td>D0</td><td>5.604522</td><td>-7.835411</td><td>D0_AAACAACGAGCGCACT</td></tr>\n",
       "\t<tr><th scope=row>D0_AAACACGCTACGCCAC</th><td>AAACACGCTACGCCAC</td><td>D0</td><td>5.130516</td><td>-7.593246</td><td>D0_AAACACGCTACGCCAC</td></tr>\n",
       "\t<tr><th scope=row>D0_AAACACGCTAGTACGG</th><td>AAACACGCTAGTACGG</td><td>D0</td><td>4.926843</td><td>-8.365463</td><td>D0_AAACACGCTAGTACGG</td></tr>\n",
       "\t<tr><th scope=row>D0_AAACACGCTCCTCAAA</th><td>AAACACGCTCCTCAAA</td><td>D0</td><td>6.056337</td><td>-5.647577</td><td>D0_AAACACGCTCCTCAAA</td></tr>\n",
       "</tbody>\n",
       "</table>\n"
      ],
      "text/latex": [
       "A data.frame: 5 × 5\n",
       "\\begin{tabular}{r|lllll}\n",
       "  & barcode & sample & umap1 & umap2 & cells\\\\\n",
       "  & <fct> & <fct> & <dbl> & <dbl> & <chr>\\\\\n",
       "\\hline\n",
       "\tD0\\_AAACAACGACGATTAC & AAACAACGACGATTAC & D0 & 6.565758 & -8.649868 & D0\\_AAACAACGACGATTAC\\\\\n",
       "\tD0\\_AAACAACGAGCGCACT & AAACAACGAGCGCACT & D0 & 5.604522 & -7.835411 & D0\\_AAACAACGAGCGCACT\\\\\n",
       "\tD0\\_AAACACGCTACGCCAC & AAACACGCTACGCCAC & D0 & 5.130516 & -7.593246 & D0\\_AAACACGCTACGCCAC\\\\\n",
       "\tD0\\_AAACACGCTAGTACGG & AAACACGCTAGTACGG & D0 & 4.926843 & -8.365463 & D0\\_AAACACGCTAGTACGG\\\\\n",
       "\tD0\\_AAACACGCTCCTCAAA & AAACACGCTCCTCAAA & D0 & 6.056337 & -5.647577 & D0\\_AAACACGCTCCTCAAA\\\\\n",
       "\\end{tabular}\n"
      ],
      "text/markdown": [
       "\n",
       "A data.frame: 5 × 5\n",
       "\n",
       "| <!--/--> | barcode &lt;fct&gt; | sample &lt;fct&gt; | umap1 &lt;dbl&gt; | umap2 &lt;dbl&gt; | cells &lt;chr&gt; |\n",
       "|---|---|---|---|---|---|\n",
       "| D0_AAACAACGACGATTAC | AAACAACGACGATTAC | D0 | 6.565758 | -8.649868 | D0_AAACAACGACGATTAC |\n",
       "| D0_AAACAACGAGCGCACT | AAACAACGAGCGCACT | D0 | 5.604522 | -7.835411 | D0_AAACAACGAGCGCACT |\n",
       "| D0_AAACACGCTACGCCAC | AAACACGCTACGCCAC | D0 | 5.130516 | -7.593246 | D0_AAACACGCTACGCCAC |\n",
       "| D0_AAACACGCTAGTACGG | AAACACGCTAGTACGG | D0 | 4.926843 | -8.365463 | D0_AAACACGCTAGTACGG |\n",
       "| D0_AAACACGCTCCTCAAA | AAACACGCTCCTCAAA | D0 | 6.056337 | -5.647577 | D0_AAACACGCTCCTCAAA |\n",
       "\n"
      ],
      "text/plain": [
       "                    barcode          sample umap1    umap2    \n",
       "D0_AAACAACGACGATTAC AAACAACGACGATTAC D0     6.565758 -8.649868\n",
       "D0_AAACAACGAGCGCACT AAACAACGAGCGCACT D0     5.604522 -7.835411\n",
       "D0_AAACACGCTACGCCAC AAACACGCTACGCCAC D0     5.130516 -7.593246\n",
       "D0_AAACACGCTAGTACGG AAACACGCTAGTACGG D0     4.926843 -8.365463\n",
       "D0_AAACACGCTCCTCAAA AAACACGCTCCTCAAA D0     6.056337 -5.647577\n",
       "                    cells              \n",
       "D0_AAACAACGACGATTAC D0_AAACAACGACGATTAC\n",
       "D0_AAACAACGAGCGCACT D0_AAACAACGAGCGCACT\n",
       "D0_AAACACGCTACGCCAC D0_AAACACGCTACGCCAC\n",
       "D0_AAACACGCTAGTACGG D0_AAACACGCTAGTACGG\n",
       "D0_AAACACGCTCCTCAAA D0_AAACACGCTCCTCAAA"
      ]
     },
     "metadata": {},
     "output_type": "display_data"
    }
   ],
   "source": [
    "# should contain, sample_barcode as rowname, sample, umap1, umap2, cluster\n",
    "metaData = read.table(\"../../analysis/20200206_pmat_snapATAC/sessions/20200520_n68916/metadata.tsv\", header = T)\n",
    "rownames(metaData) = paste(metaData$sample, metaData$barcode, sep='_')\n",
    "metaData$cells = rownames(metaData) # for cicero\n",
    "metaData$sample = factor(metaData$sample, levels=DAYS)\n",
    "dim(metaData)\n",
    "head(metaData, 5)"
   ]
  },
  {
   "cell_type": "code",
   "execution_count": 4,
   "metadata": {},
   "outputs": [
    {
     "data": {
      "text/html": [
       "<table>\n",
       "<caption>A data.frame: 6 × 7</caption>\n",
       "<thead>\n",
       "\t<tr><th></th><th scope=col>barcode</th><th scope=col>sample</th><th scope=col>umap1</th><th scope=col>umap2</th><th scope=col>cells</th><th scope=col>cluster</th><th scope=col>total_insertions</th></tr>\n",
       "\t<tr><th></th><th scope=col>&lt;fct&gt;</th><th scope=col>&lt;fct&gt;</th><th scope=col>&lt;dbl&gt;</th><th scope=col>&lt;dbl&gt;</th><th scope=col>&lt;chr&gt;</th><th scope=col>&lt;int&gt;</th><th scope=col>&lt;int&gt;</th></tr>\n",
       "</thead>\n",
       "<tbody>\n",
       "\t<tr><th scope=row>D0_AAACAACGACGATTAC</th><td>AAACAACGACGATTAC</td><td>D0</td><td>6.565758</td><td>-8.649868</td><td>D0_AAACAACGACGATTAC</td><td>5</td><td>53446</td></tr>\n",
       "\t<tr><th scope=row>D0_AAACAACGAGCGCACT</th><td>AAACAACGAGCGCACT</td><td>D0</td><td>5.604522</td><td>-7.835411</td><td>D0_AAACAACGAGCGCACT</td><td>5</td><td>27136</td></tr>\n",
       "\t<tr><th scope=row>D0_AAACACGCTACGCCAC</th><td>AAACACGCTACGCCAC</td><td>D0</td><td>5.130516</td><td>-7.593246</td><td>D0_AAACACGCTACGCCAC</td><td>5</td><td>23308</td></tr>\n",
       "\t<tr><th scope=row>D0_AAACACGCTAGTACGG</th><td>AAACACGCTAGTACGG</td><td>D0</td><td>4.926843</td><td>-8.365463</td><td>D0_AAACACGCTAGTACGG</td><td>6</td><td>18466</td></tr>\n",
       "\t<tr><th scope=row>D0_AAACACGCTCCTCAAA</th><td>AAACACGCTCCTCAAA</td><td>D0</td><td>6.056337</td><td>-5.647577</td><td>D0_AAACACGCTCCTCAAA</td><td>5</td><td> 3238</td></tr>\n",
       "\t<tr><th scope=row>D0_AAACACGCTCGAGTGA</th><td>AAACACGCTCGAGTGA</td><td>D0</td><td>3.408866</td><td>-9.058377</td><td>D0_AAACACGCTCGAGTGA</td><td>6</td><td>50468</td></tr>\n",
       "</tbody>\n",
       "</table>\n"
      ],
      "text/latex": [
       "A data.frame: 6 × 7\n",
       "\\begin{tabular}{r|lllllll}\n",
       "  & barcode & sample & umap1 & umap2 & cells & cluster & total\\_insertions\\\\\n",
       "  & <fct> & <fct> & <dbl> & <dbl> & <chr> & <int> & <int>\\\\\n",
       "\\hline\n",
       "\tD0\\_AAACAACGACGATTAC & AAACAACGACGATTAC & D0 & 6.565758 & -8.649868 & D0\\_AAACAACGACGATTAC & 5 & 53446\\\\\n",
       "\tD0\\_AAACAACGAGCGCACT & AAACAACGAGCGCACT & D0 & 5.604522 & -7.835411 & D0\\_AAACAACGAGCGCACT & 5 & 27136\\\\\n",
       "\tD0\\_AAACACGCTACGCCAC & AAACACGCTACGCCAC & D0 & 5.130516 & -7.593246 & D0\\_AAACACGCTACGCCAC & 5 & 23308\\\\\n",
       "\tD0\\_AAACACGCTAGTACGG & AAACACGCTAGTACGG & D0 & 4.926843 & -8.365463 & D0\\_AAACACGCTAGTACGG & 6 & 18466\\\\\n",
       "\tD0\\_AAACACGCTCCTCAAA & AAACACGCTCCTCAAA & D0 & 6.056337 & -5.647577 & D0\\_AAACACGCTCCTCAAA & 5 &  3238\\\\\n",
       "\tD0\\_AAACACGCTCGAGTGA & AAACACGCTCGAGTGA & D0 & 3.408866 & -9.058377 & D0\\_AAACACGCTCGAGTGA & 6 & 50468\\\\\n",
       "\\end{tabular}\n"
      ],
      "text/markdown": [
       "\n",
       "A data.frame: 6 × 7\n",
       "\n",
       "| <!--/--> | barcode &lt;fct&gt; | sample &lt;fct&gt; | umap1 &lt;dbl&gt; | umap2 &lt;dbl&gt; | cells &lt;chr&gt; | cluster &lt;int&gt; | total_insertions &lt;int&gt; |\n",
       "|---|---|---|---|---|---|---|---|\n",
       "| D0_AAACAACGACGATTAC | AAACAACGACGATTAC | D0 | 6.565758 | -8.649868 | D0_AAACAACGACGATTAC | 5 | 53446 |\n",
       "| D0_AAACAACGAGCGCACT | AAACAACGAGCGCACT | D0 | 5.604522 | -7.835411 | D0_AAACAACGAGCGCACT | 5 | 27136 |\n",
       "| D0_AAACACGCTACGCCAC | AAACACGCTACGCCAC | D0 | 5.130516 | -7.593246 | D0_AAACACGCTACGCCAC | 5 | 23308 |\n",
       "| D0_AAACACGCTAGTACGG | AAACACGCTAGTACGG | D0 | 4.926843 | -8.365463 | D0_AAACACGCTAGTACGG | 6 | 18466 |\n",
       "| D0_AAACACGCTCCTCAAA | AAACACGCTCCTCAAA | D0 | 6.056337 | -5.647577 | D0_AAACACGCTCCTCAAA | 5 |  3238 |\n",
       "| D0_AAACACGCTCGAGTGA | AAACACGCTCGAGTGA | D0 | 3.408866 | -9.058377 | D0_AAACACGCTCGAGTGA | 6 | 50468 |\n",
       "\n"
      ],
      "text/plain": [
       "                    barcode          sample umap1    umap2    \n",
       "D0_AAACAACGACGATTAC AAACAACGACGATTAC D0     6.565758 -8.649868\n",
       "D0_AAACAACGAGCGCACT AAACAACGAGCGCACT D0     5.604522 -7.835411\n",
       "D0_AAACACGCTACGCCAC AAACACGCTACGCCAC D0     5.130516 -7.593246\n",
       "D0_AAACACGCTAGTACGG AAACACGCTAGTACGG D0     4.926843 -8.365463\n",
       "D0_AAACACGCTCCTCAAA AAACACGCTCCTCAAA D0     6.056337 -5.647577\n",
       "D0_AAACACGCTCGAGTGA AAACACGCTCGAGTGA D0     3.408866 -9.058377\n",
       "                    cells               cluster total_insertions\n",
       "D0_AAACAACGACGATTAC D0_AAACAACGACGATTAC 5       53446           \n",
       "D0_AAACAACGAGCGCACT D0_AAACAACGAGCGCACT 5       27136           \n",
       "D0_AAACACGCTACGCCAC D0_AAACACGCTACGCCAC 5       23308           \n",
       "D0_AAACACGCTAGTACGG D0_AAACACGCTAGTACGG 6       18466           \n",
       "D0_AAACACGCTCCTCAAA D0_AAACACGCTCCTCAAA 5        3238           \n",
       "D0_AAACACGCTCGAGTGA D0_AAACACGCTCGAGTGA 6       50468           "
      ]
     },
     "metadata": {},
     "output_type": "display_data"
    }
   ],
   "source": [
    "# this is a kludge for now, clusters AND total insertions should also be present in same metaData as above\n",
    "snapATAC_metaData = read.table(\"../../analysis/20200122_snapATAC/snapATAC_sessions/20200518_n76052/metadata.tsv\", header = T)\n",
    "rownames(snapATAC_metaData) = paste(snapATAC_metaData$sample, snapATAC_metaData$barcode, sep='_')\n",
    "\n",
    "metaData$cluster = snapATAC_metaData[rownames(metaData), \"cluster\"] \n",
    "metaData$total_insertions = snapATAC_metaData[rownames(metaData), \"TN\"] \n",
    "head(metaData)"
   ]
  },
  {
   "cell_type": "markdown",
   "metadata": {},
   "source": [
    "### Cluster Config"
   ]
  },
  {
   "cell_type": "code",
   "execution_count": 5,
   "metadata": {},
   "outputs": [
    {
     "data": {
      "text/html": [
       "<table>\n",
       "<caption>A data.frame: 18 × 4</caption>\n",
       "<thead>\n",
       "\t<tr><th></th><th scope=col>cluster</th><th scope=col>colour</th><th scope=col>description</th><th scope=col>new_cluster</th></tr>\n",
       "\t<tr><th></th><th scope=col>&lt;int&gt;</th><th scope=col>&lt;chr&gt;</th><th scope=col>&lt;chr&gt;</th><th scope=col>&lt;int&gt;</th></tr>\n",
       "</thead>\n",
       "<tbody>\n",
       "\t<tr><th scope=row>1</th><td> 1</td><td>#CCCCCC</td><td>Intermediate          </td><td>12</td></tr>\n",
       "\t<tr><th scope=row>2</th><td> 2</td><td>#E41A1C</td><td>Pre-iPSC              </td><td>15</td></tr>\n",
       "\t<tr><th scope=row>3</th><td> 3</td><td>#377EB8</td><td>Fibroblast-like       </td><td> 5</td></tr>\n",
       "\t<tr><th scope=row>4</th><td> 4</td><td>#4DAF4A</td><td>Fibroblast-like       </td><td> 3</td></tr>\n",
       "\t<tr><th scope=row>5</th><td> 5</td><td>#984EA3</td><td>Fibroblast            </td><td> 1</td></tr>\n",
       "\t<tr><th scope=row>6</th><td> 6</td><td>#FF7F00</td><td>Fibroblast            </td><td> 2</td></tr>\n",
       "\t<tr><th scope=row>7</th><td> 7</td><td>#4B644A</td><td>Fibroblast-like       </td><td> 4</td></tr>\n",
       "\t<tr><th scope=row>8</th><td> 8</td><td>#A65628</td><td>Doublets              </td><td>17</td></tr>\n",
       "\t<tr><th scope=row>9</th><td> 9</td><td>#F781BF</td><td>Keratinocyte-like     </td><td> 6</td></tr>\n",
       "\t<tr><th scope=row>10</th><td>10</td><td>#999999</td><td>Pre-iPSC              </td><td>16</td></tr>\n",
       "\t<tr><th scope=row>11</th><td>11</td><td>#66C2A5</td><td>Partially-reprogrammed</td><td>14</td></tr>\n",
       "\t<tr><th scope=row>12</th><td>12</td><td>#FC8D62</td><td>Intermediate          </td><td>11</td></tr>\n",
       "\t<tr><th scope=row>13</th><td>13</td><td>#8DA0CB</td><td>Intermediate          </td><td>10</td></tr>\n",
       "\t<tr><th scope=row>14</th><td>14</td><td>#BCF4F5</td><td>Early intermediate    </td><td> 7</td></tr>\n",
       "\t<tr><th scope=row>15</th><td>15</td><td>#A6D854</td><td>Intermediate          </td><td>13</td></tr>\n",
       "\t<tr><th scope=row>16</th><td>16</td><td>#FFD92F</td><td>Neural-like           </td><td> 9</td></tr>\n",
       "\t<tr><th scope=row>17</th><td>17</td><td>#E5C494</td><td>Neural-like           </td><td> 8</td></tr>\n",
       "\t<tr><th scope=row>18</th><td>18</td><td>#B3B3B3</td><td>iPSC                  </td><td>18</td></tr>\n",
       "</tbody>\n",
       "</table>\n"
      ],
      "text/latex": [
       "A data.frame: 18 × 4\n",
       "\\begin{tabular}{r|llll}\n",
       "  & cluster & colour & description & new\\_cluster\\\\\n",
       "  & <int> & <chr> & <chr> & <int>\\\\\n",
       "\\hline\n",
       "\t1 &  1 & \\#CCCCCC & Intermediate           & 12\\\\\n",
       "\t2 &  2 & \\#E41A1C & Pre-iPSC               & 15\\\\\n",
       "\t3 &  3 & \\#377EB8 & Fibroblast-like        &  5\\\\\n",
       "\t4 &  4 & \\#4DAF4A & Fibroblast-like        &  3\\\\\n",
       "\t5 &  5 & \\#984EA3 & Fibroblast             &  1\\\\\n",
       "\t6 &  6 & \\#FF7F00 & Fibroblast             &  2\\\\\n",
       "\t7 &  7 & \\#4B644A & Fibroblast-like        &  4\\\\\n",
       "\t8 &  8 & \\#A65628 & Doublets               & 17\\\\\n",
       "\t9 &  9 & \\#F781BF & Keratinocyte-like      &  6\\\\\n",
       "\t10 & 10 & \\#999999 & Pre-iPSC               & 16\\\\\n",
       "\t11 & 11 & \\#66C2A5 & Partially-reprogrammed & 14\\\\\n",
       "\t12 & 12 & \\#FC8D62 & Intermediate           & 11\\\\\n",
       "\t13 & 13 & \\#8DA0CB & Intermediate           & 10\\\\\n",
       "\t14 & 14 & \\#BCF4F5 & Early intermediate     &  7\\\\\n",
       "\t15 & 15 & \\#A6D854 & Intermediate           & 13\\\\\n",
       "\t16 & 16 & \\#FFD92F & Neural-like            &  9\\\\\n",
       "\t17 & 17 & \\#E5C494 & Neural-like            &  8\\\\\n",
       "\t18 & 18 & \\#B3B3B3 & iPSC                   & 18\\\\\n",
       "\\end{tabular}\n"
      ],
      "text/markdown": [
       "\n",
       "A data.frame: 18 × 4\n",
       "\n",
       "| <!--/--> | cluster &lt;int&gt; | colour &lt;chr&gt; | description &lt;chr&gt; | new_cluster &lt;int&gt; |\n",
       "|---|---|---|---|---|\n",
       "| 1 |  1 | #CCCCCC | Intermediate           | 12 |\n",
       "| 2 |  2 | #E41A1C | Pre-iPSC               | 15 |\n",
       "| 3 |  3 | #377EB8 | Fibroblast-like        |  5 |\n",
       "| 4 |  4 | #4DAF4A | Fibroblast-like        |  3 |\n",
       "| 5 |  5 | #984EA3 | Fibroblast             |  1 |\n",
       "| 6 |  6 | #FF7F00 | Fibroblast             |  2 |\n",
       "| 7 |  7 | #4B644A | Fibroblast-like        |  4 |\n",
       "| 8 |  8 | #A65628 | Doublets               | 17 |\n",
       "| 9 |  9 | #F781BF | Keratinocyte-like      |  6 |\n",
       "| 10 | 10 | #999999 | Pre-iPSC               | 16 |\n",
       "| 11 | 11 | #66C2A5 | Partially-reprogrammed | 14 |\n",
       "| 12 | 12 | #FC8D62 | Intermediate           | 11 |\n",
       "| 13 | 13 | #8DA0CB | Intermediate           | 10 |\n",
       "| 14 | 14 | #BCF4F5 | Early intermediate     |  7 |\n",
       "| 15 | 15 | #A6D854 | Intermediate           | 13 |\n",
       "| 16 | 16 | #FFD92F | Neural-like            |  9 |\n",
       "| 17 | 17 | #E5C494 | Neural-like            |  8 |\n",
       "| 18 | 18 | #B3B3B3 | iPSC                   | 18 |\n",
       "\n"
      ],
      "text/plain": [
       "   cluster colour  description            new_cluster\n",
       "1   1      #CCCCCC Intermediate           12         \n",
       "2   2      #E41A1C Pre-iPSC               15         \n",
       "3   3      #377EB8 Fibroblast-like         5         \n",
       "4   4      #4DAF4A Fibroblast-like         3         \n",
       "5   5      #984EA3 Fibroblast              1         \n",
       "6   6      #FF7F00 Fibroblast              2         \n",
       "7   7      #4B644A Fibroblast-like         4         \n",
       "8   8      #A65628 Doublets               17         \n",
       "9   9      #F781BF Keratinocyte-like       6         \n",
       "10 10      #999999 Pre-iPSC               16         \n",
       "11 11      #66C2A5 Partially-reprogrammed 14         \n",
       "12 12      #FC8D62 Intermediate           11         \n",
       "13 13      #8DA0CB Intermediate           10         \n",
       "14 14      #BCF4F5 Early intermediate      7         \n",
       "15 15      #A6D854 Intermediate           13         \n",
       "16 16      #FFD92F Neural-like             9         \n",
       "17 17      #E5C494 Neural-like             8         \n",
       "18 18      #B3B3B3 iPSC                   18         "
      ]
     },
     "metadata": {},
     "output_type": "display_data"
    }
   ],
   "source": [
    "cluster_config = read.table(\"../configs/cluster.tsv\", comment.char = '', header=T, sep='\\t')\n",
    "cluster_config$colour = as.character(cluster_config$colour)\n",
    "cluster_config$description = as.character(cluster_config$description)\n",
    "\n",
    "rownames(cluster_config) = cluster_config$cluster\n",
    "cluster_config"
   ]
  },
  {
   "cell_type": "code",
   "execution_count": 741,
   "metadata": {},
   "outputs": [],
   "source": [
    "# minor tweak\n",
    "cluster_config[11,\"description\"] = \"Partially\\nreprogrammed\""
   ]
  },
  {
   "cell_type": "markdown",
   "metadata": {},
   "source": [
    "### Insertions Count Matrix + Regions"
   ]
  },
  {
   "cell_type": "code",
   "execution_count": 6,
   "metadata": {},
   "outputs": [
    {
     "data": {
      "text/html": [
       "<style>\n",
       ".list-inline {list-style: none; margin:0; padding: 0}\n",
       ".list-inline>li {display: inline-block}\n",
       ".list-inline>li:not(:last-child)::after {content: \"\\00b7\"; padding: 0 .5ex}\n",
       "</style>\n",
       "<ol class=list-inline><li>68916</li><li>409052</li></ol>\n"
      ],
      "text/latex": [
       "\\begin{enumerate*}\n",
       "\\item 68916\n",
       "\\item 409052\n",
       "\\end{enumerate*}\n"
      ],
      "text/markdown": [
       "1. 68916\n",
       "2. 409052\n",
       "\n",
       "\n"
      ],
      "text/plain": [
       "[1]  68916 409052"
      ]
     },
     "metadata": {},
     "output_type": "display_data"
    }
   ],
   "source": [
    "pmat = readMM(\"../../analysis/20200206_pmat_snapATAC/sessions/20200520_n68916/pmat.sparse.mm\")\n",
    "pmat = as(pmat, \"dgCMatrix\")\n",
    "dim(pmat)"
   ]
  },
  {
   "cell_type": "code",
   "execution_count": 7,
   "metadata": {},
   "outputs": [
    {
     "data": {
      "text/html": [
       "<style>\n",
       ".list-inline {list-style: none; margin:0; padding: 0}\n",
       ".list-inline>li {display: inline-block}\n",
       ".list-inline>li:not(:last-child)::after {content: \"\\00b7\"; padding: 0 .5ex}\n",
       "</style>\n",
       "<ol class=list-inline><li>409052</li><li>4</li></ol>\n"
      ],
      "text/latex": [
       "\\begin{enumerate*}\n",
       "\\item 409052\n",
       "\\item 4\n",
       "\\end{enumerate*}\n"
      ],
      "text/markdown": [
       "1. 409052\n",
       "2. 4\n",
       "\n",
       "\n"
      ],
      "text/plain": [
       "[1] 409052      4"
      ]
     },
     "metadata": {},
     "output_type": "display_data"
    },
    {
     "data": {
      "text/html": [
       "<table>\n",
       "<caption>A data.frame: 6 × 4</caption>\n",
       "<thead>\n",
       "\t<tr><th></th><th scope=col>chr</th><th scope=col>bp1</th><th scope=col>bp2</th><th scope=col>site_name</th></tr>\n",
       "\t<tr><th></th><th scope=col>&lt;fct&gt;</th><th scope=col>&lt;int&gt;</th><th scope=col>&lt;int&gt;</th><th scope=col>&lt;chr&gt;</th></tr>\n",
       "</thead>\n",
       "<tbody>\n",
       "\t<tr><th scope=row>chr1_10355_10867</th><td>chr1</td><td>10355</td><td>10867</td><td>chr1_10355_10867</td></tr>\n",
       "\t<tr><th scope=row>chr1_41995_42521</th><td>chr1</td><td>41995</td><td>42521</td><td>chr1_41995_42521</td></tr>\n",
       "\t<tr><th scope=row>chr1_46067_46593</th><td>chr1</td><td>46067</td><td>46593</td><td>chr1_46067_46593</td></tr>\n",
       "\t<tr><th scope=row>chr1_48475_48975</th><td>chr1</td><td>48475</td><td>48975</td><td>chr1_48475_48975</td></tr>\n",
       "\t<tr><th scope=row>chr1_51286_52235</th><td>chr1</td><td>51286</td><td>52235</td><td>chr1_51286_52235</td></tr>\n",
       "\t<tr><th scope=row>chr1_58648_59148</th><td>chr1</td><td>58648</td><td>59148</td><td>chr1_58648_59148</td></tr>\n",
       "</tbody>\n",
       "</table>\n"
      ],
      "text/latex": [
       "A data.frame: 6 × 4\n",
       "\\begin{tabular}{r|llll}\n",
       "  & chr & bp1 & bp2 & site\\_name\\\\\n",
       "  & <fct> & <int> & <int> & <chr>\\\\\n",
       "\\hline\n",
       "\tchr1\\_10355\\_10867 & chr1 & 10355 & 10867 & chr1\\_10355\\_10867\\\\\n",
       "\tchr1\\_41995\\_42521 & chr1 & 41995 & 42521 & chr1\\_41995\\_42521\\\\\n",
       "\tchr1\\_46067\\_46593 & chr1 & 46067 & 46593 & chr1\\_46067\\_46593\\\\\n",
       "\tchr1\\_48475\\_48975 & chr1 & 48475 & 48975 & chr1\\_48475\\_48975\\\\\n",
       "\tchr1\\_51286\\_52235 & chr1 & 51286 & 52235 & chr1\\_51286\\_52235\\\\\n",
       "\tchr1\\_58648\\_59148 & chr1 & 58648 & 59148 & chr1\\_58648\\_59148\\\\\n",
       "\\end{tabular}\n"
      ],
      "text/markdown": [
       "\n",
       "A data.frame: 6 × 4\n",
       "\n",
       "| <!--/--> | chr &lt;fct&gt; | bp1 &lt;int&gt; | bp2 &lt;int&gt; | site_name &lt;chr&gt; |\n",
       "|---|---|---|---|---|\n",
       "| chr1_10355_10867 | chr1 | 10355 | 10867 | chr1_10355_10867 |\n",
       "| chr1_41995_42521 | chr1 | 41995 | 42521 | chr1_41995_42521 |\n",
       "| chr1_46067_46593 | chr1 | 46067 | 46593 | chr1_46067_46593 |\n",
       "| chr1_48475_48975 | chr1 | 48475 | 48975 | chr1_48475_48975 |\n",
       "| chr1_51286_52235 | chr1 | 51286 | 52235 | chr1_51286_52235 |\n",
       "| chr1_58648_59148 | chr1 | 58648 | 59148 | chr1_58648_59148 |\n",
       "\n"
      ],
      "text/plain": [
       "                 chr  bp1   bp2   site_name       \n",
       "chr1_10355_10867 chr1 10355 10867 chr1_10355_10867\n",
       "chr1_41995_42521 chr1 41995 42521 chr1_41995_42521\n",
       "chr1_46067_46593 chr1 46067 46593 chr1_46067_46593\n",
       "chr1_48475_48975 chr1 48475 48975 chr1_48475_48975\n",
       "chr1_51286_52235 chr1 51286 52235 chr1_51286_52235\n",
       "chr1_58648_59148 chr1 58648 59148 chr1_58648_59148"
      ]
     },
     "metadata": {},
     "output_type": "display_data"
    }
   ],
   "source": [
    "peak_regions = read.table(\"../../analysis/20200206_pmat_snapATAC/sessions/20200520_n68916/peaks.bed\")\n",
    "names(peak_regions) = c(\"chr\", \"bp1\", \"bp2\")\n",
    "peak_regions$site_name <- paste(peak_regions$chr, peak_regions$bp1, peak_regions$bp2, sep=\"_\")\n",
    "row.names(peak_regions) <- peak_regions$site_name\n",
    "dim(peak_regions)\n",
    "head(peak_regions)"
   ]
  },
  {
   "cell_type": "code",
   "execution_count": 8,
   "metadata": {},
   "outputs": [],
   "source": [
    "peak_regions_gr =  GRanges(sub(\"_\", \"-\", sub(\"_\", \":\", rownames(peak_regions))))"
   ]
  },
  {
   "cell_type": "code",
   "execution_count": 9,
   "metadata": {},
   "outputs": [
    {
     "data": {
      "text/html": [
       "12150"
      ],
      "text/latex": [
       "12150"
      ],
      "text/markdown": [
       "12150"
      ],
      "text/plain": [
       "[1] 12150"
      ]
     },
     "metadata": {},
     "output_type": "display_data"
    }
   ],
   "source": [
    "# check if reads at OCT promoter (none in initial version)\n",
    "sum(pmat[,subjectHits(findOverlaps(GRanges(c(\"chr6:31170549-31170836\")), peak_regions_gr))])"
   ]
  },
  {
   "cell_type": "code",
   "execution_count": 10,
   "metadata": {},
   "outputs": [],
   "source": [
    "pmatRowSums = Matrix::rowSums(pmat)"
   ]
  },
  {
   "cell_type": "code",
   "execution_count": 11,
   "metadata": {},
   "outputs": [
    {
     "data": {
      "text/html": [
       "0.989953288098885"
      ],
      "text/latex": [
       "0.989953288098885"
      ],
      "text/markdown": [
       "0.989953288098885"
      ],
      "text/plain": [
       "[1] 0.9899533"
      ]
     },
     "metadata": {},
     "output_type": "display_data"
    }
   ],
   "source": [
    "# these values should correlate well (reads in peaks vs total reads)\n",
    "cor(pmatRowSums, metaData$total_insertions, method='spearman')"
   ]
  },
  {
   "cell_type": "markdown",
   "metadata": {},
   "source": [
    "### Gene Set"
   ]
  },
  {
   "cell_type": "code",
   "execution_count": 13,
   "metadata": {},
   "outputs": [
    {
     "name": "stderr",
     "output_type": "stream",
     "text": [
      "Warning message in readGFF(filepath, version = version, filter = filter):\n",
      "“connection is not positioned at the start of the file, rewinding it”\n"
     ]
    },
    {
     "data": {
      "text/plain": [
       "GRanges object with 3 ranges and 21 metadata columns:\n",
       "      seqnames        ranges strand |   source       type     score     phase\n",
       "         <Rle>     <IRanges>  <Rle> | <factor>   <factor> <numeric> <integer>\n",
       "  [1]     chr1   65419-71585      + |   HAVANA transcript      <NA>      <NA>\n",
       "  [2]     chr1   69055-70108      + |  ENSEMBL transcript      <NA>      <NA>\n",
       "  [3]     chr1 450703-451697      - |   HAVANA transcript      <NA>      <NA>\n",
       "                gene_id      gene_type   gene_name       level     hgnc_id\n",
       "            <character>    <character> <character> <character> <character>\n",
       "  [1] ENSG00000186092.6 protein_coding       OR4F5           2  HGNC:14825\n",
       "  [2] ENSG00000186092.6 protein_coding       OR4F5           3  HGNC:14825\n",
       "  [3] ENSG00000284733.1 protein_coding      OR4F29           2  HGNC:31275\n",
       "               havana_gene     transcript_id transcript_type transcript_name\n",
       "               <character>       <character>     <character>     <character>\n",
       "  [1] OTTHUMG00000001094.4 ENST00000641515.2  protein_coding       OR4F5-202\n",
       "  [2] OTTHUMG00000001094.4 ENST00000335137.4  protein_coding       OR4F5-201\n",
       "  [3] OTTHUMG00000002860.3 ENST00000426406.3  protein_coding      OR4F29-201\n",
       "      transcript_support_level         tag    havana_transcript exon_number\n",
       "                   <character> <character>          <character> <character>\n",
       "  [1]                     <NA>       basic OTTHUMT00000003223.4        <NA>\n",
       "  [2]                       NA        CCDS                 <NA>        <NA>\n",
       "  [3]                       NA        CCDS OTTHUMT00000007999.3        <NA>\n",
       "          exon_id         ont        protein_id      ccdsid\n",
       "      <character> <character>       <character> <character>\n",
       "  [1]        <NA>        <NA> ENSP00000493376.2        <NA>\n",
       "  [2]        <NA>        <NA> ENSP00000334393.3 CCDS30547.1\n",
       "  [3]        <NA>        <NA> ENSP00000409316.1 CCDS72675.1\n",
       "  -------\n",
       "  seqinfo: 25 sequences from an unspecified genome; no seqlengths"
      ]
     },
     "metadata": {},
     "output_type": "display_data"
    },
    {
     "data": {
      "text/html": [
       "58073"
      ],
      "text/latex": [
       "58073"
      ],
      "text/markdown": [
       "58073"
      ],
      "text/plain": [
       "[1] 58073"
      ]
     },
     "metadata": {},
     "output_type": "display_data"
    }
   ],
   "source": [
    "gencode.basic.hg38 = import.gff(gzfile(\"../../../resources/GENCODE/gencode.v33.chr_patch_hapl_scaff.basic.annotation.gtf.gz\"))\n",
    "gencode.basic.hg38 = keepStandardChromosomes(gencode.basic.hg38, pruning.mode = \"coarse\")\n",
    "gencode.basic.tx.hg38 = subset(subset(gencode.basic.hg38, gene_type==\"protein_coding\"), type==\"transcript\")\n",
    "head(gencode.basic.tx.hg38, 3)\n",
    "length(gencode.basic.tx.hg38)"
   ]
  },
  {
   "cell_type": "code",
   "execution_count": 14,
   "metadata": {},
   "outputs": [],
   "source": [
    "tx.hg38 = gencode.basic.tx.hg38"
   ]
  },
  {
   "cell_type": "code",
   "execution_count": 15,
   "metadata": {},
   "outputs": [],
   "source": [
    "tss.hg38 = unique(resize(tx.hg38, width=1, fix='start'))"
   ]
  },
  {
   "cell_type": "code",
   "execution_count": 16,
   "metadata": {},
   "outputs": [
    {
     "data": {
      "text/plain": [
       "GRanges object with 2 ranges and 21 metadata columns:\n",
       "      seqnames      ranges strand |   source       type     score     phase\n",
       "         <Rle>   <IRanges>  <Rle> | <factor>   <factor> <numeric> <integer>\n",
       "  [1]     chr1 65319-65518      + |   HAVANA transcript      <NA>      <NA>\n",
       "  [2]     chr1 68955-69154      + |  ENSEMBL transcript      <NA>      <NA>\n",
       "                gene_id      gene_type   gene_name       level     hgnc_id\n",
       "            <character>    <character> <character> <character> <character>\n",
       "  [1] ENSG00000186092.6 protein_coding       OR4F5           2  HGNC:14825\n",
       "  [2] ENSG00000186092.6 protein_coding       OR4F5           3  HGNC:14825\n",
       "               havana_gene     transcript_id transcript_type transcript_name\n",
       "               <character>       <character>     <character>     <character>\n",
       "  [1] OTTHUMG00000001094.4 ENST00000641515.2  protein_coding       OR4F5-202\n",
       "  [2] OTTHUMG00000001094.4 ENST00000335137.4  protein_coding       OR4F5-201\n",
       "      transcript_support_level         tag    havana_transcript exon_number\n",
       "                   <character> <character>          <character> <character>\n",
       "  [1]                     <NA>       basic OTTHUMT00000003223.4        <NA>\n",
       "  [2]                       NA        CCDS                 <NA>        <NA>\n",
       "          exon_id         ont        protein_id      ccdsid\n",
       "      <character> <character>       <character> <character>\n",
       "  [1]        <NA>        <NA> ENSP00000493376.2        <NA>\n",
       "  [2]        <NA>        <NA> ENSP00000334393.3 CCDS30547.1\n",
       "  -------\n",
       "  seqinfo: 25 sequences from an unspecified genome; no seqlengths"
      ]
     },
     "metadata": {},
     "output_type": "display_data"
    }
   ],
   "source": [
    "prom.hg38 = promoters(tss.hg38, upstream = 100, downstream = 100)\n",
    "head(prom.hg38, 2)"
   ]
  },
  {
   "cell_type": "code",
   "execution_count": 17,
   "metadata": {},
   "outputs": [],
   "source": [
    "unique_prom_genes = names(table(prom.hg38$gene_name)[which(table(prom.hg38$gene_name)==1)])"
   ]
  },
  {
   "cell_type": "markdown",
   "metadata": {},
   "source": [
    "## Gene Score Matrix"
   ]
  },
  {
   "cell_type": "markdown",
   "metadata": {},
   "source": [
    "### Pseudo-bulk matrix"
   ]
  },
  {
   "cell_type": "code",
   "execution_count": 12,
   "metadata": {},
   "outputs": [],
   "source": [
    "# CAREFUL: reassigning clusters to their new cluster labels! \n",
    "# ensure cluster_config is in order\n",
    "new_cluster_per_cell = cluster_config$new_cluster[metaData$cluster]\n",
    "\n",
    "agg_matrix = sparseMatrix(i=new_cluster_per_cell,\n",
    "                         j=seq(1,nrow(pmat)),\n",
    "                         x=1L,\n",
    "                         dims=c(length(table(new_cluster_per_cell)), nrow(pmat)))"
   ]
  },
  {
   "cell_type": "code",
   "execution_count": 18,
   "metadata": {},
   "outputs": [
    {
     "data": {
      "text/html": [
       "<table>\n",
       "<caption>A matrix: 6 × 18 of type dbl</caption>\n",
       "<thead>\n",
       "\t<tr><th></th><th scope=col>cluster_1</th><th scope=col>cluster_2</th><th scope=col>cluster_3</th><th scope=col>cluster_4</th><th scope=col>cluster_5</th><th scope=col>cluster_6</th><th scope=col>cluster_7</th><th scope=col>cluster_8</th><th scope=col>cluster_9</th><th scope=col>cluster_10</th><th scope=col>cluster_11</th><th scope=col>cluster_12</th><th scope=col>cluster_13</th><th scope=col>cluster_14</th><th scope=col>cluster_15</th><th scope=col>cluster_16</th><th scope=col>cluster_17</th><th scope=col>cluster_18</th></tr>\n",
       "</thead>\n",
       "<tbody>\n",
       "\t<tr><th scope=row>chr1:10355-10867</th><td>65</td><td>60</td><td>47</td><td>53</td><td>6</td><td>14</td><td>16</td><td>26</td><td>16</td><td>39</td><td>26</td><td>68</td><td>26</td><td>13</td><td> 31</td><td> 16</td><td> 15</td><td>0</td></tr>\n",
       "\t<tr><th scope=row>chr1:41995-42521</th><td>56</td><td>29</td><td>62</td><td>76</td><td>4</td><td>16</td><td>16</td><td>35</td><td> 8</td><td>34</td><td>22</td><td>43</td><td>38</td><td>14</td><td>  1</td><td>  9</td><td> 15</td><td>0</td></tr>\n",
       "\t<tr><th scope=row>chr1:46067-46593</th><td>13</td><td>16</td><td>22</td><td>47</td><td>2</td><td>16</td><td> 4</td><td>13</td><td>15</td><td>55</td><td>51</td><td>73</td><td>64</td><td>24</td><td> 44</td><td> 12</td><td> 26</td><td>0</td></tr>\n",
       "\t<tr><th scope=row>chr1:48475-48975</th><td>13</td><td> 5</td><td> 9</td><td>21</td><td>9</td><td> 1</td><td>10</td><td>22</td><td>50</td><td>64</td><td>32</td><td>82</td><td>13</td><td> 6</td><td>  2</td><td>  1</td><td> 10</td><td>0</td></tr>\n",
       "\t<tr><th scope=row>chr1:51286-52235</th><td>27</td><td>16</td><td>25</td><td>25</td><td>1</td><td>11</td><td>10</td><td> 3</td><td> 9</td><td>31</td><td> 3</td><td>70</td><td>76</td><td>19</td><td>201</td><td>125</td><td>126</td><td>0</td></tr>\n",
       "\t<tr><th scope=row>chr1:58648-59148</th><td> 7</td><td> 5</td><td>12</td><td>14</td><td>2</td><td>11</td><td>15</td><td>23</td><td>56</td><td>37</td><td>10</td><td>56</td><td>25</td><td> 2</td><td>  4</td><td>  2</td><td>  5</td><td>0</td></tr>\n",
       "</tbody>\n",
       "</table>\n"
      ],
      "text/latex": [
       "A matrix: 6 × 18 of type dbl\n",
       "\\begin{tabular}{r|llllllllllllllllll}\n",
       "  & cluster\\_1 & cluster\\_2 & cluster\\_3 & cluster\\_4 & cluster\\_5 & cluster\\_6 & cluster\\_7 & cluster\\_8 & cluster\\_9 & cluster\\_10 & cluster\\_11 & cluster\\_12 & cluster\\_13 & cluster\\_14 & cluster\\_15 & cluster\\_16 & cluster\\_17 & cluster\\_18\\\\\n",
       "\\hline\n",
       "\tchr1:10355-10867 & 65 & 60 & 47 & 53 & 6 & 14 & 16 & 26 & 16 & 39 & 26 & 68 & 26 & 13 &  31 &  16 &  15 & 0\\\\\n",
       "\tchr1:41995-42521 & 56 & 29 & 62 & 76 & 4 & 16 & 16 & 35 &  8 & 34 & 22 & 43 & 38 & 14 &   1 &   9 &  15 & 0\\\\\n",
       "\tchr1:46067-46593 & 13 & 16 & 22 & 47 & 2 & 16 &  4 & 13 & 15 & 55 & 51 & 73 & 64 & 24 &  44 &  12 &  26 & 0\\\\\n",
       "\tchr1:48475-48975 & 13 &  5 &  9 & 21 & 9 &  1 & 10 & 22 & 50 & 64 & 32 & 82 & 13 &  6 &   2 &   1 &  10 & 0\\\\\n",
       "\tchr1:51286-52235 & 27 & 16 & 25 & 25 & 1 & 11 & 10 &  3 &  9 & 31 &  3 & 70 & 76 & 19 & 201 & 125 & 126 & 0\\\\\n",
       "\tchr1:58648-59148 &  7 &  5 & 12 & 14 & 2 & 11 & 15 & 23 & 56 & 37 & 10 & 56 & 25 &  2 &   4 &   2 &   5 & 0\\\\\n",
       "\\end{tabular}\n"
      ],
      "text/markdown": [
       "\n",
       "A matrix: 6 × 18 of type dbl\n",
       "\n",
       "| <!--/--> | cluster_1 | cluster_2 | cluster_3 | cluster_4 | cluster_5 | cluster_6 | cluster_7 | cluster_8 | cluster_9 | cluster_10 | cluster_11 | cluster_12 | cluster_13 | cluster_14 | cluster_15 | cluster_16 | cluster_17 | cluster_18 |\n",
       "|---|---|---|---|---|---|---|---|---|---|---|---|---|---|---|---|---|---|---|\n",
       "| chr1:10355-10867 | 65 | 60 | 47 | 53 | 6 | 14 | 16 | 26 | 16 | 39 | 26 | 68 | 26 | 13 |  31 |  16 |  15 | 0 |\n",
       "| chr1:41995-42521 | 56 | 29 | 62 | 76 | 4 | 16 | 16 | 35 |  8 | 34 | 22 | 43 | 38 | 14 |   1 |   9 |  15 | 0 |\n",
       "| chr1:46067-46593 | 13 | 16 | 22 | 47 | 2 | 16 |  4 | 13 | 15 | 55 | 51 | 73 | 64 | 24 |  44 |  12 |  26 | 0 |\n",
       "| chr1:48475-48975 | 13 |  5 |  9 | 21 | 9 |  1 | 10 | 22 | 50 | 64 | 32 | 82 | 13 |  6 |   2 |   1 |  10 | 0 |\n",
       "| chr1:51286-52235 | 27 | 16 | 25 | 25 | 1 | 11 | 10 |  3 |  9 | 31 |  3 | 70 | 76 | 19 | 201 | 125 | 126 | 0 |\n",
       "| chr1:58648-59148 |  7 |  5 | 12 | 14 | 2 | 11 | 15 | 23 | 56 | 37 | 10 | 56 | 25 |  2 |   4 |   2 |   5 | 0 |\n",
       "\n"
      ],
      "text/plain": [
       "                 cluster_1 cluster_2 cluster_3 cluster_4 cluster_5 cluster_6\n",
       "chr1:10355-10867 65        60        47        53        6         14       \n",
       "chr1:41995-42521 56        29        62        76        4         16       \n",
       "chr1:46067-46593 13        16        22        47        2         16       \n",
       "chr1:48475-48975 13         5         9        21        9          1       \n",
       "chr1:51286-52235 27        16        25        25        1         11       \n",
       "chr1:58648-59148  7         5        12        14        2         11       \n",
       "                 cluster_7 cluster_8 cluster_9 cluster_10 cluster_11 cluster_12\n",
       "chr1:10355-10867 16        26        16        39         26         68        \n",
       "chr1:41995-42521 16        35         8        34         22         43        \n",
       "chr1:46067-46593  4        13        15        55         51         73        \n",
       "chr1:48475-48975 10        22        50        64         32         82        \n",
       "chr1:51286-52235 10         3         9        31          3         70        \n",
       "chr1:58648-59148 15        23        56        37         10         56        \n",
       "                 cluster_13 cluster_14 cluster_15 cluster_16 cluster_17\n",
       "chr1:10355-10867 26         13          31         16         15       \n",
       "chr1:41995-42521 38         14           1          9         15       \n",
       "chr1:46067-46593 64         24          44         12         26       \n",
       "chr1:48475-48975 13          6           2          1         10       \n",
       "chr1:51286-52235 76         19         201        125        126       \n",
       "chr1:58648-59148 25          2           4          2          5       \n",
       "                 cluster_18\n",
       "chr1:10355-10867 0         \n",
       "chr1:41995-42521 0         \n",
       "chr1:46067-46593 0         \n",
       "chr1:48475-48975 0         \n",
       "chr1:51286-52235 0         \n",
       "chr1:58648-59148 0         "
      ]
     },
     "metadata": {},
     "output_type": "display_data"
    },
    {
     "data": {
      "text/html": [
       "<style>\n",
       ".list-inline {list-style: none; margin:0; padding: 0}\n",
       ".list-inline>li {display: inline-block}\n",
       ".list-inline>li:not(:last-child)::after {content: \"\\00b7\"; padding: 0 .5ex}\n",
       "</style>\n",
       "<ol class=list-inline><li>409052</li><li>18</li></ol>\n"
      ],
      "text/latex": [
       "\\begin{enumerate*}\n",
       "\\item 409052\n",
       "\\item 18\n",
       "\\end{enumerate*}\n"
      ],
      "text/markdown": [
       "1. 409052\n",
       "2. 18\n",
       "\n",
       "\n"
      ],
      "text/plain": [
       "[1] 409052     18"
      ]
     },
     "metadata": {},
     "output_type": "display_data"
    }
   ],
   "source": [
    "cts = as.matrix(agg_matrix %*% pmat)\n",
    "colnames(cts) = sub(\"_\", \"-\", sub(\"_\", \":\", rownames(peak_regions)))\n",
    "rownames(cts) = paste(\"cluster\", seq(1,nrow(cts)), sep=\"_\")\n",
    "cts = t(cts)\n",
    "head(cts)\n",
    "dim(cts)"
   ]
  },
  {
   "cell_type": "code",
   "execution_count": 19,
   "metadata": {},
   "outputs": [],
   "source": [
    "# removing cluster_18 (iPSC) for now since it has very few cells\n",
    "cts = cts[,1:17]"
   ]
  },
  {
   "cell_type": "code",
   "execution_count": 20,
   "metadata": {},
   "outputs": [
    {
     "data": {
      "text/html": [
       "137543"
      ],
      "text/latex": [
       "137543"
      ],
      "text/markdown": [
       "137543"
      ],
      "text/plain": [
       "[1] 137543"
      ]
     },
     "metadata": {},
     "output_type": "display_data"
    }
   ],
   "source": [
    "sum(rowSums(cts<10)==0)"
   ]
  },
  {
   "cell_type": "markdown",
   "metadata": {},
   "source": [
    "### Inverse Distance Weighted Gene Score"
   ]
  },
  {
   "cell_type": "code",
   "execution_count": 22,
   "metadata": {},
   "outputs": [],
   "source": [
    "tx_with_peak_at_prom = unique(tss.hg38[queryHits(findOverlaps(tss.hg38+100, peak_regions_gr))]$transcript_name)"
   ]
  },
  {
   "cell_type": "code",
   "execution_count": 24,
   "metadata": {},
   "outputs": [
    {
     "data": {
      "text/plain": [
       "Hits object with 1949910 hits and 0 metadata columns:\n",
       "            queryHits subjectHits\n",
       "            <integer>   <integer>\n",
       "        [1]         1           1\n",
       "        [2]         1           2\n",
       "        [3]         1           3\n",
       "        [4]         1           4\n",
       "        [5]         1           5\n",
       "        ...       ...         ...\n",
       "  [1949906]     51887      409039\n",
       "  [1949907]     51887      409040\n",
       "  [1949908]     51900      409044\n",
       "  [1949909]     51917      409048\n",
       "  [1949910]     51918      409048\n",
       "  -------\n",
       "  queryLength: 51948 / subjectLength: 409052"
      ]
     },
     "metadata": {},
     "output_type": "display_data"
    }
   ],
   "source": [
    "distal_overlaps = findOverlaps(tss.hg38+100000, peak_regions_gr)\n",
    "distal_overlaps"
   ]
  },
  {
   "cell_type": "code",
   "execution_count": 25,
   "metadata": {},
   "outputs": [
    {
     "data": {
      "text/html": [
       "<table>\n",
       "<caption>A data.frame: 2 × 17</caption>\n",
       "<thead>\n",
       "\t<tr><th></th><th scope=col>cluster_1</th><th scope=col>cluster_2</th><th scope=col>cluster_3</th><th scope=col>cluster_4</th><th scope=col>cluster_5</th><th scope=col>cluster_6</th><th scope=col>cluster_7</th><th scope=col>cluster_8</th><th scope=col>cluster_9</th><th scope=col>cluster_10</th><th scope=col>cluster_11</th><th scope=col>cluster_12</th><th scope=col>cluster_13</th><th scope=col>cluster_14</th><th scope=col>cluster_15</th><th scope=col>cluster_16</th><th scope=col>cluster_17</th></tr>\n",
       "\t<tr><th></th><th scope=col>&lt;dbl&gt;</th><th scope=col>&lt;dbl&gt;</th><th scope=col>&lt;dbl&gt;</th><th scope=col>&lt;dbl&gt;</th><th scope=col>&lt;dbl&gt;</th><th scope=col>&lt;dbl&gt;</th><th scope=col>&lt;dbl&gt;</th><th scope=col>&lt;dbl&gt;</th><th scope=col>&lt;dbl&gt;</th><th scope=col>&lt;dbl&gt;</th><th scope=col>&lt;dbl&gt;</th><th scope=col>&lt;dbl&gt;</th><th scope=col>&lt;dbl&gt;</th><th scope=col>&lt;dbl&gt;</th><th scope=col>&lt;dbl&gt;</th><th scope=col>&lt;dbl&gt;</th><th scope=col>&lt;dbl&gt;</th></tr>\n",
       "</thead>\n",
       "<tbody>\n",
       "\t<tr><th scope=row>SAMD11-202</th><td>22475.78</td><td>20786.63</td><td>28075.91</td><td>24598.99</td><td>24260.97</td><td>25964.15</td><td>22258.65</td><td>22301.38</td><td>19328.52</td><td>22566.16</td><td>24988.10</td><td>20103.03</td><td>19309.46</td><td>21421.55</td><td>13326.19</td><td>13981.46</td><td>18801.64</td></tr>\n",
       "\t<tr><th scope=row>SAMD11-213</th><td>22417.93</td><td>20732.72</td><td>27991.85</td><td>24529.94</td><td>24192.86</td><td>25896.06</td><td>22204.74</td><td>22245.03</td><td>19280.94</td><td>22506.92</td><td>24918.37</td><td>20048.93</td><td>19256.86</td><td>21358.86</td><td>13290.60</td><td>13943.97</td><td>18748.54</td></tr>\n",
       "</tbody>\n",
       "</table>\n"
      ],
      "text/latex": [
       "A data.frame: 2 × 17\n",
       "\\begin{tabular}{r|lllllllllllllllll}\n",
       "  & cluster\\_1 & cluster\\_2 & cluster\\_3 & cluster\\_4 & cluster\\_5 & cluster\\_6 & cluster\\_7 & cluster\\_8 & cluster\\_9 & cluster\\_10 & cluster\\_11 & cluster\\_12 & cluster\\_13 & cluster\\_14 & cluster\\_15 & cluster\\_16 & cluster\\_17\\\\\n",
       "  & <dbl> & <dbl> & <dbl> & <dbl> & <dbl> & <dbl> & <dbl> & <dbl> & <dbl> & <dbl> & <dbl> & <dbl> & <dbl> & <dbl> & <dbl> & <dbl> & <dbl>\\\\\n",
       "\\hline\n",
       "\tSAMD11-202 & 22475.78 & 20786.63 & 28075.91 & 24598.99 & 24260.97 & 25964.15 & 22258.65 & 22301.38 & 19328.52 & 22566.16 & 24988.10 & 20103.03 & 19309.46 & 21421.55 & 13326.19 & 13981.46 & 18801.64\\\\\n",
       "\tSAMD11-213 & 22417.93 & 20732.72 & 27991.85 & 24529.94 & 24192.86 & 25896.06 & 22204.74 & 22245.03 & 19280.94 & 22506.92 & 24918.37 & 20048.93 & 19256.86 & 21358.86 & 13290.60 & 13943.97 & 18748.54\\\\\n",
       "\\end{tabular}\n"
      ],
      "text/markdown": [
       "\n",
       "A data.frame: 2 × 17\n",
       "\n",
       "| <!--/--> | cluster_1 &lt;dbl&gt; | cluster_2 &lt;dbl&gt; | cluster_3 &lt;dbl&gt; | cluster_4 &lt;dbl&gt; | cluster_5 &lt;dbl&gt; | cluster_6 &lt;dbl&gt; | cluster_7 &lt;dbl&gt; | cluster_8 &lt;dbl&gt; | cluster_9 &lt;dbl&gt; | cluster_10 &lt;dbl&gt; | cluster_11 &lt;dbl&gt; | cluster_12 &lt;dbl&gt; | cluster_13 &lt;dbl&gt; | cluster_14 &lt;dbl&gt; | cluster_15 &lt;dbl&gt; | cluster_16 &lt;dbl&gt; | cluster_17 &lt;dbl&gt; |\n",
       "|---|---|---|---|---|---|---|---|---|---|---|---|---|---|---|---|---|---|\n",
       "| SAMD11-202 | 22475.78 | 20786.63 | 28075.91 | 24598.99 | 24260.97 | 25964.15 | 22258.65 | 22301.38 | 19328.52 | 22566.16 | 24988.10 | 20103.03 | 19309.46 | 21421.55 | 13326.19 | 13981.46 | 18801.64 |\n",
       "| SAMD11-213 | 22417.93 | 20732.72 | 27991.85 | 24529.94 | 24192.86 | 25896.06 | 22204.74 | 22245.03 | 19280.94 | 22506.92 | 24918.37 | 20048.93 | 19256.86 | 21358.86 | 13290.60 | 13943.97 | 18748.54 |\n",
       "\n"
      ],
      "text/plain": [
       "           cluster_1 cluster_2 cluster_3 cluster_4 cluster_5 cluster_6\n",
       "SAMD11-202 22475.78  20786.63  28075.91  24598.99  24260.97  25964.15 \n",
       "SAMD11-213 22417.93  20732.72  27991.85  24529.94  24192.86  25896.06 \n",
       "           cluster_7 cluster_8 cluster_9 cluster_10 cluster_11 cluster_12\n",
       "SAMD11-202 22258.65  22301.38  19328.52  22566.16   24988.10   20103.03  \n",
       "SAMD11-213 22204.74  22245.03  19280.94  22506.92   24918.37   20048.93  \n",
       "           cluster_13 cluster_14 cluster_15 cluster_16 cluster_17\n",
       "SAMD11-202 19309.46   21421.55   13326.19   13981.46   18801.64  \n",
       "SAMD11-213 19256.86   21358.86   13290.60   13943.97   18748.54  "
      ]
     },
     "metadata": {},
     "output_type": "display_data"
    }
   ],
   "source": [
    "distal_summed_gene = cts[subjectHits(distal_overlaps),]\n",
    "\n",
    "gene_peak_coeff = 1000*(1+abs(mid(peak_regions_gr[subjectHits(distal_overlaps)]) - start(tss.hg38[queryHits(distal_overlaps)])))^(-0.7)\n",
    "\n",
    "distal_summed_gene = aggregate(gene_peak_coeff * distal_summed_gene, list(queryHits(distal_overlaps)), sum)\n",
    "\n",
    "# remove transcripts with duplicate entries (e.g. CD99-201 that is on chrY and chrX)\n",
    "tx_names = prom.hg38[distal_summed_gene$Group.1]$transcript_name\n",
    "distal_summed_gene = distal_summed_gene[!duplicated(tx_names), ]\n",
    "rownames(distal_summed_gene) = tx_names[!duplicated(tx_names)]\n",
    "distal_summed_gene$Group.1 = NULL\n",
    "\n",
    "# only keep those with a peak at the TSS\n",
    "distal_summed_gene = distal_summed_gene[rownames(distal_summed_gene) %in% tx_with_peak_at_prom , ]\n",
    "\n",
    "# DESeq2 normalize\n",
    "distal_summed_gene = as.data.frame(t(t(distal_summed_gene)/estimateSizeFactorsForMatrix(distal_summed_gene)))\n",
    "\n",
    "head(distal_summed_gene, 2)"
   ]
  },
  {
   "cell_type": "code",
   "execution_count": 34,
   "metadata": {},
   "outputs": [
    {
     "data": {
      "text/html": [
       "<table>\n",
       "<caption>A data.frame: 6 × 17</caption>\n",
       "<thead>\n",
       "\t<tr><th></th><th scope=col>cluster_1</th><th scope=col>cluster_2</th><th scope=col>cluster_3</th><th scope=col>cluster_4</th><th scope=col>cluster_5</th><th scope=col>cluster_6</th><th scope=col>cluster_7</th><th scope=col>cluster_8</th><th scope=col>cluster_9</th><th scope=col>cluster_10</th><th scope=col>cluster_11</th><th scope=col>cluster_12</th><th scope=col>cluster_13</th><th scope=col>cluster_14</th><th scope=col>cluster_15</th><th scope=col>cluster_16</th><th scope=col>cluster_17</th></tr>\n",
       "\t<tr><th></th><th scope=col>&lt;dbl&gt;</th><th scope=col>&lt;dbl&gt;</th><th scope=col>&lt;dbl&gt;</th><th scope=col>&lt;dbl&gt;</th><th scope=col>&lt;dbl&gt;</th><th scope=col>&lt;dbl&gt;</th><th scope=col>&lt;dbl&gt;</th><th scope=col>&lt;dbl&gt;</th><th scope=col>&lt;dbl&gt;</th><th scope=col>&lt;dbl&gt;</th><th scope=col>&lt;dbl&gt;</th><th scope=col>&lt;dbl&gt;</th><th scope=col>&lt;dbl&gt;</th><th scope=col>&lt;dbl&gt;</th><th scope=col>&lt;dbl&gt;</th><th scope=col>&lt;dbl&gt;</th><th scope=col>&lt;dbl&gt;</th></tr>\n",
       "</thead>\n",
       "<tbody>\n",
       "\t<tr><th scope=row>SAMD11-202</th><td>14.45615</td><td>14.34344</td><td>14.77710</td><td>14.58637</td><td>14.56641</td><td>14.66429</td><td>14.44214</td><td>14.44491</td><td>14.23852</td><td>14.46194</td><td>14.60901</td><td>14.29520</td><td>14.23709</td><td>14.38684</td><td>13.70208</td><td>13.77133</td><td>14.19865</td></tr>\n",
       "\t<tr><th scope=row>SAMD11-213</th><td>14.45243</td><td>14.33969</td><td>14.77277</td><td>14.58231</td><td>14.56235</td><td>14.66050</td><td>14.43864</td><td>14.44126</td><td>14.23496</td><td>14.45815</td><td>14.60498</td><td>14.29131</td><td>14.23316</td><td>14.38261</td><td>13.69823</td><td>13.76746</td><td>14.19457</td></tr>\n",
       "\t<tr><th scope=row>NOC2L-201</th><td>15.34138</td><td>15.27438</td><td>15.38742</td><td>15.36806</td><td>15.14531</td><td>15.30329</td><td>15.16849</td><td>15.12179</td><td>15.26394</td><td>15.20829</td><td>15.28431</td><td>15.07274</td><td>15.10977</td><td>15.03955</td><td>14.69376</td><td>14.99626</td><td>15.12007</td></tr>\n",
       "\t<tr><th scope=row>KLHL17-201</th><td>14.91777</td><td>14.83294</td><td>14.97023</td><td>14.93437</td><td>14.67337</td><td>14.95916</td><td>14.83573</td><td>14.78975</td><td>14.80620</td><td>14.79596</td><td>14.80847</td><td>14.65444</td><td>14.68979</td><td>14.57316</td><td>14.17187</td><td>14.42210</td><td>14.56827</td></tr>\n",
       "\t<tr><th scope=row>KLHL17-205</th><td>14.97540</td><td>14.88982</td><td>15.02302</td><td>14.98683</td><td>14.71361</td><td>15.01044</td><td>14.89164</td><td>14.84652</td><td>14.86705</td><td>14.84902</td><td>14.85640</td><td>14.71181</td><td>14.74710</td><td>14.62480</td><td>14.22161</td><td>14.47110</td><td>14.61554</td></tr>\n",
       "\t<tr><th scope=row>PLEKHN1-203</th><td>15.52938</td><td>15.54370</td><td>15.76241</td><td>15.93346</td><td>15.70057</td><td>15.94807</td><td>15.75940</td><td>15.53146</td><td>15.19132</td><td>15.62442</td><td>15.42940</td><td>15.21663</td><td>15.37629</td><td>14.87617</td><td>14.84608</td><td>14.95750</td><td>15.27715</td></tr>\n",
       "</tbody>\n",
       "</table>\n"
      ],
      "text/latex": [
       "A data.frame: 6 × 17\n",
       "\\begin{tabular}{r|lllllllllllllllll}\n",
       "  & cluster\\_1 & cluster\\_2 & cluster\\_3 & cluster\\_4 & cluster\\_5 & cluster\\_6 & cluster\\_7 & cluster\\_8 & cluster\\_9 & cluster\\_10 & cluster\\_11 & cluster\\_12 & cluster\\_13 & cluster\\_14 & cluster\\_15 & cluster\\_16 & cluster\\_17\\\\\n",
       "  & <dbl> & <dbl> & <dbl> & <dbl> & <dbl> & <dbl> & <dbl> & <dbl> & <dbl> & <dbl> & <dbl> & <dbl> & <dbl> & <dbl> & <dbl> & <dbl> & <dbl>\\\\\n",
       "\\hline\n",
       "\tSAMD11-202 & 14.45615 & 14.34344 & 14.77710 & 14.58637 & 14.56641 & 14.66429 & 14.44214 & 14.44491 & 14.23852 & 14.46194 & 14.60901 & 14.29520 & 14.23709 & 14.38684 & 13.70208 & 13.77133 & 14.19865\\\\\n",
       "\tSAMD11-213 & 14.45243 & 14.33969 & 14.77277 & 14.58231 & 14.56235 & 14.66050 & 14.43864 & 14.44126 & 14.23496 & 14.45815 & 14.60498 & 14.29131 & 14.23316 & 14.38261 & 13.69823 & 13.76746 & 14.19457\\\\\n",
       "\tNOC2L-201 & 15.34138 & 15.27438 & 15.38742 & 15.36806 & 15.14531 & 15.30329 & 15.16849 & 15.12179 & 15.26394 & 15.20829 & 15.28431 & 15.07274 & 15.10977 & 15.03955 & 14.69376 & 14.99626 & 15.12007\\\\\n",
       "\tKLHL17-201 & 14.91777 & 14.83294 & 14.97023 & 14.93437 & 14.67337 & 14.95916 & 14.83573 & 14.78975 & 14.80620 & 14.79596 & 14.80847 & 14.65444 & 14.68979 & 14.57316 & 14.17187 & 14.42210 & 14.56827\\\\\n",
       "\tKLHL17-205 & 14.97540 & 14.88982 & 15.02302 & 14.98683 & 14.71361 & 15.01044 & 14.89164 & 14.84652 & 14.86705 & 14.84902 & 14.85640 & 14.71181 & 14.74710 & 14.62480 & 14.22161 & 14.47110 & 14.61554\\\\\n",
       "\tPLEKHN1-203 & 15.52938 & 15.54370 & 15.76241 & 15.93346 & 15.70057 & 15.94807 & 15.75940 & 15.53146 & 15.19132 & 15.62442 & 15.42940 & 15.21663 & 15.37629 & 14.87617 & 14.84608 & 14.95750 & 15.27715\\\\\n",
       "\\end{tabular}\n"
      ],
      "text/markdown": [
       "\n",
       "A data.frame: 6 × 17\n",
       "\n",
       "| <!--/--> | cluster_1 &lt;dbl&gt; | cluster_2 &lt;dbl&gt; | cluster_3 &lt;dbl&gt; | cluster_4 &lt;dbl&gt; | cluster_5 &lt;dbl&gt; | cluster_6 &lt;dbl&gt; | cluster_7 &lt;dbl&gt; | cluster_8 &lt;dbl&gt; | cluster_9 &lt;dbl&gt; | cluster_10 &lt;dbl&gt; | cluster_11 &lt;dbl&gt; | cluster_12 &lt;dbl&gt; | cluster_13 &lt;dbl&gt; | cluster_14 &lt;dbl&gt; | cluster_15 &lt;dbl&gt; | cluster_16 &lt;dbl&gt; | cluster_17 &lt;dbl&gt; |\n",
       "|---|---|---|---|---|---|---|---|---|---|---|---|---|---|---|---|---|---|\n",
       "| SAMD11-202 | 14.45615 | 14.34344 | 14.77710 | 14.58637 | 14.56641 | 14.66429 | 14.44214 | 14.44491 | 14.23852 | 14.46194 | 14.60901 | 14.29520 | 14.23709 | 14.38684 | 13.70208 | 13.77133 | 14.19865 |\n",
       "| SAMD11-213 | 14.45243 | 14.33969 | 14.77277 | 14.58231 | 14.56235 | 14.66050 | 14.43864 | 14.44126 | 14.23496 | 14.45815 | 14.60498 | 14.29131 | 14.23316 | 14.38261 | 13.69823 | 13.76746 | 14.19457 |\n",
       "| NOC2L-201 | 15.34138 | 15.27438 | 15.38742 | 15.36806 | 15.14531 | 15.30329 | 15.16849 | 15.12179 | 15.26394 | 15.20829 | 15.28431 | 15.07274 | 15.10977 | 15.03955 | 14.69376 | 14.99626 | 15.12007 |\n",
       "| KLHL17-201 | 14.91777 | 14.83294 | 14.97023 | 14.93437 | 14.67337 | 14.95916 | 14.83573 | 14.78975 | 14.80620 | 14.79596 | 14.80847 | 14.65444 | 14.68979 | 14.57316 | 14.17187 | 14.42210 | 14.56827 |\n",
       "| KLHL17-205 | 14.97540 | 14.88982 | 15.02302 | 14.98683 | 14.71361 | 15.01044 | 14.89164 | 14.84652 | 14.86705 | 14.84902 | 14.85640 | 14.71181 | 14.74710 | 14.62480 | 14.22161 | 14.47110 | 14.61554 |\n",
       "| PLEKHN1-203 | 15.52938 | 15.54370 | 15.76241 | 15.93346 | 15.70057 | 15.94807 | 15.75940 | 15.53146 | 15.19132 | 15.62442 | 15.42940 | 15.21663 | 15.37629 | 14.87617 | 14.84608 | 14.95750 | 15.27715 |\n",
       "\n"
      ],
      "text/plain": [
       "            cluster_1 cluster_2 cluster_3 cluster_4 cluster_5 cluster_6\n",
       "SAMD11-202  14.45615  14.34344  14.77710  14.58637  14.56641  14.66429 \n",
       "SAMD11-213  14.45243  14.33969  14.77277  14.58231  14.56235  14.66050 \n",
       "NOC2L-201   15.34138  15.27438  15.38742  15.36806  15.14531  15.30329 \n",
       "KLHL17-201  14.91777  14.83294  14.97023  14.93437  14.67337  14.95916 \n",
       "KLHL17-205  14.97540  14.88982  15.02302  14.98683  14.71361  15.01044 \n",
       "PLEKHN1-203 15.52938  15.54370  15.76241  15.93346  15.70057  15.94807 \n",
       "            cluster_7 cluster_8 cluster_9 cluster_10 cluster_11 cluster_12\n",
       "SAMD11-202  14.44214  14.44491  14.23852  14.46194   14.60901   14.29520  \n",
       "SAMD11-213  14.43864  14.44126  14.23496  14.45815   14.60498   14.29131  \n",
       "NOC2L-201   15.16849  15.12179  15.26394  15.20829   15.28431   15.07274  \n",
       "KLHL17-201  14.83573  14.78975  14.80620  14.79596   14.80847   14.65444  \n",
       "KLHL17-205  14.89164  14.84652  14.86705  14.84902   14.85640   14.71181  \n",
       "PLEKHN1-203 15.75940  15.53146  15.19132  15.62442   15.42940   15.21663  \n",
       "            cluster_13 cluster_14 cluster_15 cluster_16 cluster_17\n",
       "SAMD11-202  14.23709   14.38684   13.70208   13.77133   14.19865  \n",
       "SAMD11-213  14.23316   14.38261   13.69823   13.76746   14.19457  \n",
       "NOC2L-201   15.10977   15.03955   14.69376   14.99626   15.12007  \n",
       "KLHL17-201  14.68979   14.57316   14.17187   14.42210   14.56827  \n",
       "KLHL17-205  14.74710   14.62480   14.22161   14.47110   14.61554  \n",
       "PLEKHN1-203 15.37629   14.87617   14.84608   14.95750   15.27715  "
      ]
     },
     "metadata": {},
     "output_type": "display_data"
    }
   ],
   "source": [
    "log_tx_score = log2(1+distal_summed_gene)\n",
    "head(log_tx_score)"
   ]
  },
  {
   "cell_type": "code",
   "execution_count": 73,
   "metadata": {},
   "outputs": [],
   "source": [
    "# pick one tx per gene\n",
    "# picking one with max var/mean ratio\n",
    "var_mean_ratio = data.frame(vmr=rowVars(as.matrix(log_tx_score))/rowMeans(as.matrix(log_tx_score)),\n",
    "                           tx=rownames(log_tx_score),\n",
    "                           gene=sub(\"-2[0-9]+\", \"\",rownames(log_tx_score)))\n",
    "\n",
    "select_tx = (var_mean_ratio %>% group_by(gene) %>% filter(vmr==max(vmr)))$tx"
   ]
  },
  {
   "cell_type": "code",
   "execution_count": 162,
   "metadata": {},
   "outputs": [
    {
     "data": {
      "text/html": [
       "<style>\n",
       ".list-inline {list-style: none; margin:0; padding: 0}\n",
       ".list-inline>li {display: inline-block}\n",
       ".list-inline>li:not(:last-child)::after {content: \"\\00b7\"; padding: 0 .5ex}\n",
       "</style>\n",
       "<ol class=list-inline><li>16633</li><li>16</li></ol>\n"
      ],
      "text/latex": [
       "\\begin{enumerate*}\n",
       "\\item 16633\n",
       "\\item 16\n",
       "\\end{enumerate*}\n"
      ],
      "text/markdown": [
       "1. 16633\n",
       "2. 16\n",
       "\n",
       "\n"
      ],
      "text/plain": [
       "[1] 16633    16"
      ]
     },
     "metadata": {},
     "output_type": "display_data"
    },
    {
     "data": {
      "text/html": [
       "<table>\n",
       "<caption>A data.frame: 6 × 16</caption>\n",
       "<thead>\n",
       "\t<tr><th></th><th scope=col>cluster_1</th><th scope=col>cluster_2</th><th scope=col>cluster_3</th><th scope=col>cluster_4</th><th scope=col>cluster_5</th><th scope=col>cluster_6</th><th scope=col>cluster_7</th><th scope=col>cluster_8</th><th scope=col>cluster_9</th><th scope=col>cluster_10</th><th scope=col>cluster_11</th><th scope=col>cluster_12</th><th scope=col>cluster_13</th><th scope=col>cluster_14</th><th scope=col>cluster_15</th><th scope=col>cluster_16</th></tr>\n",
       "\t<tr><th></th><th scope=col>&lt;dbl&gt;</th><th scope=col>&lt;dbl&gt;</th><th scope=col>&lt;dbl&gt;</th><th scope=col>&lt;dbl&gt;</th><th scope=col>&lt;dbl&gt;</th><th scope=col>&lt;dbl&gt;</th><th scope=col>&lt;dbl&gt;</th><th scope=col>&lt;dbl&gt;</th><th scope=col>&lt;dbl&gt;</th><th scope=col>&lt;dbl&gt;</th><th scope=col>&lt;dbl&gt;</th><th scope=col>&lt;dbl&gt;</th><th scope=col>&lt;dbl&gt;</th><th scope=col>&lt;dbl&gt;</th><th scope=col>&lt;dbl&gt;</th><th scope=col>&lt;dbl&gt;</th></tr>\n",
       "</thead>\n",
       "<tbody>\n",
       "\t<tr><th scope=row>SAMD11-202</th><td>14.45615</td><td>14.34344</td><td>14.77710</td><td>14.58637</td><td>14.56641</td><td>14.66429</td><td>14.44214</td><td>14.44491</td><td>14.23852</td><td>14.46194</td><td>14.60901</td><td>14.29520</td><td>14.23709</td><td>14.38684</td><td>13.70208</td><td>13.77133</td></tr>\n",
       "\t<tr><th scope=row>NOC2L-201</th><td>15.34138</td><td>15.27438</td><td>15.38742</td><td>15.36806</td><td>15.14531</td><td>15.30329</td><td>15.16849</td><td>15.12179</td><td>15.26394</td><td>15.20829</td><td>15.28431</td><td>15.07274</td><td>15.10977</td><td>15.03955</td><td>14.69376</td><td>14.99626</td></tr>\n",
       "\t<tr><th scope=row>KLHL17-205</th><td>14.97540</td><td>14.88982</td><td>15.02302</td><td>14.98683</td><td>14.71361</td><td>15.01044</td><td>14.89164</td><td>14.84652</td><td>14.86705</td><td>14.84902</td><td>14.85640</td><td>14.71181</td><td>14.74710</td><td>14.62480</td><td>14.22161</td><td>14.47110</td></tr>\n",
       "\t<tr><th scope=row>PLEKHN1-202</th><td>15.66369</td><td>15.68207</td><td>15.90166</td><td>16.08123</td><td>15.84419</td><td>16.09173</td><td>15.90258</td><td>15.66733</td><td>15.31770</td><td>15.76483</td><td>15.55893</td><td>15.34746</td><td>15.51306</td><td>14.99051</td><td>14.98050</td><td>15.08627</td></tr>\n",
       "\t<tr><th scope=row>HES4-202</th><td>15.23748</td><td>15.12342</td><td>15.49988</td><td>15.37849</td><td>15.43251</td><td>15.42977</td><td>15.36797</td><td>15.31755</td><td>15.13409</td><td>15.20901</td><td>15.24109</td><td>14.87529</td><td>14.99070</td><td>14.80044</td><td>14.53907</td><td>14.89541</td></tr>\n",
       "\t<tr><th scope=row>ISG15-202</th><td>14.97390</td><td>14.87871</td><td>15.21114</td><td>15.09895</td><td>15.13059</td><td>15.16431</td><td>15.10277</td><td>15.03872</td><td>14.86476</td><td>14.93565</td><td>14.97480</td><td>14.64703</td><td>14.75271</td><td>14.57571</td><td>14.32815</td><td>14.66591</td></tr>\n",
       "</tbody>\n",
       "</table>\n"
      ],
      "text/latex": [
       "A data.frame: 6 × 16\n",
       "\\begin{tabular}{r|llllllllllllllll}\n",
       "  & cluster\\_1 & cluster\\_2 & cluster\\_3 & cluster\\_4 & cluster\\_5 & cluster\\_6 & cluster\\_7 & cluster\\_8 & cluster\\_9 & cluster\\_10 & cluster\\_11 & cluster\\_12 & cluster\\_13 & cluster\\_14 & cluster\\_15 & cluster\\_16\\\\\n",
       "  & <dbl> & <dbl> & <dbl> & <dbl> & <dbl> & <dbl> & <dbl> & <dbl> & <dbl> & <dbl> & <dbl> & <dbl> & <dbl> & <dbl> & <dbl> & <dbl>\\\\\n",
       "\\hline\n",
       "\tSAMD11-202 & 14.45615 & 14.34344 & 14.77710 & 14.58637 & 14.56641 & 14.66429 & 14.44214 & 14.44491 & 14.23852 & 14.46194 & 14.60901 & 14.29520 & 14.23709 & 14.38684 & 13.70208 & 13.77133\\\\\n",
       "\tNOC2L-201 & 15.34138 & 15.27438 & 15.38742 & 15.36806 & 15.14531 & 15.30329 & 15.16849 & 15.12179 & 15.26394 & 15.20829 & 15.28431 & 15.07274 & 15.10977 & 15.03955 & 14.69376 & 14.99626\\\\\n",
       "\tKLHL17-205 & 14.97540 & 14.88982 & 15.02302 & 14.98683 & 14.71361 & 15.01044 & 14.89164 & 14.84652 & 14.86705 & 14.84902 & 14.85640 & 14.71181 & 14.74710 & 14.62480 & 14.22161 & 14.47110\\\\\n",
       "\tPLEKHN1-202 & 15.66369 & 15.68207 & 15.90166 & 16.08123 & 15.84419 & 16.09173 & 15.90258 & 15.66733 & 15.31770 & 15.76483 & 15.55893 & 15.34746 & 15.51306 & 14.99051 & 14.98050 & 15.08627\\\\\n",
       "\tHES4-202 & 15.23748 & 15.12342 & 15.49988 & 15.37849 & 15.43251 & 15.42977 & 15.36797 & 15.31755 & 15.13409 & 15.20901 & 15.24109 & 14.87529 & 14.99070 & 14.80044 & 14.53907 & 14.89541\\\\\n",
       "\tISG15-202 & 14.97390 & 14.87871 & 15.21114 & 15.09895 & 15.13059 & 15.16431 & 15.10277 & 15.03872 & 14.86476 & 14.93565 & 14.97480 & 14.64703 & 14.75271 & 14.57571 & 14.32815 & 14.66591\\\\\n",
       "\\end{tabular}\n"
      ],
      "text/markdown": [
       "\n",
       "A data.frame: 6 × 16\n",
       "\n",
       "| <!--/--> | cluster_1 &lt;dbl&gt; | cluster_2 &lt;dbl&gt; | cluster_3 &lt;dbl&gt; | cluster_4 &lt;dbl&gt; | cluster_5 &lt;dbl&gt; | cluster_6 &lt;dbl&gt; | cluster_7 &lt;dbl&gt; | cluster_8 &lt;dbl&gt; | cluster_9 &lt;dbl&gt; | cluster_10 &lt;dbl&gt; | cluster_11 &lt;dbl&gt; | cluster_12 &lt;dbl&gt; | cluster_13 &lt;dbl&gt; | cluster_14 &lt;dbl&gt; | cluster_15 &lt;dbl&gt; | cluster_16 &lt;dbl&gt; |\n",
       "|---|---|---|---|---|---|---|---|---|---|---|---|---|---|---|---|---|\n",
       "| SAMD11-202 | 14.45615 | 14.34344 | 14.77710 | 14.58637 | 14.56641 | 14.66429 | 14.44214 | 14.44491 | 14.23852 | 14.46194 | 14.60901 | 14.29520 | 14.23709 | 14.38684 | 13.70208 | 13.77133 |\n",
       "| NOC2L-201 | 15.34138 | 15.27438 | 15.38742 | 15.36806 | 15.14531 | 15.30329 | 15.16849 | 15.12179 | 15.26394 | 15.20829 | 15.28431 | 15.07274 | 15.10977 | 15.03955 | 14.69376 | 14.99626 |\n",
       "| KLHL17-205 | 14.97540 | 14.88982 | 15.02302 | 14.98683 | 14.71361 | 15.01044 | 14.89164 | 14.84652 | 14.86705 | 14.84902 | 14.85640 | 14.71181 | 14.74710 | 14.62480 | 14.22161 | 14.47110 |\n",
       "| PLEKHN1-202 | 15.66369 | 15.68207 | 15.90166 | 16.08123 | 15.84419 | 16.09173 | 15.90258 | 15.66733 | 15.31770 | 15.76483 | 15.55893 | 15.34746 | 15.51306 | 14.99051 | 14.98050 | 15.08627 |\n",
       "| HES4-202 | 15.23748 | 15.12342 | 15.49988 | 15.37849 | 15.43251 | 15.42977 | 15.36797 | 15.31755 | 15.13409 | 15.20901 | 15.24109 | 14.87529 | 14.99070 | 14.80044 | 14.53907 | 14.89541 |\n",
       "| ISG15-202 | 14.97390 | 14.87871 | 15.21114 | 15.09895 | 15.13059 | 15.16431 | 15.10277 | 15.03872 | 14.86476 | 14.93565 | 14.97480 | 14.64703 | 14.75271 | 14.57571 | 14.32815 | 14.66591 |\n",
       "\n"
      ],
      "text/plain": [
       "            cluster_1 cluster_2 cluster_3 cluster_4 cluster_5 cluster_6\n",
       "SAMD11-202  14.45615  14.34344  14.77710  14.58637  14.56641  14.66429 \n",
       "NOC2L-201   15.34138  15.27438  15.38742  15.36806  15.14531  15.30329 \n",
       "KLHL17-205  14.97540  14.88982  15.02302  14.98683  14.71361  15.01044 \n",
       "PLEKHN1-202 15.66369  15.68207  15.90166  16.08123  15.84419  16.09173 \n",
       "HES4-202    15.23748  15.12342  15.49988  15.37849  15.43251  15.42977 \n",
       "ISG15-202   14.97390  14.87871  15.21114  15.09895  15.13059  15.16431 \n",
       "            cluster_7 cluster_8 cluster_9 cluster_10 cluster_11 cluster_12\n",
       "SAMD11-202  14.44214  14.44491  14.23852  14.46194   14.60901   14.29520  \n",
       "NOC2L-201   15.16849  15.12179  15.26394  15.20829   15.28431   15.07274  \n",
       "KLHL17-205  14.89164  14.84652  14.86705  14.84902   14.85640   14.71181  \n",
       "PLEKHN1-202 15.90258  15.66733  15.31770  15.76483   15.55893   15.34746  \n",
       "HES4-202    15.36797  15.31755  15.13409  15.20901   15.24109   14.87529  \n",
       "ISG15-202   15.10277  15.03872  14.86476  14.93565   14.97480   14.64703  \n",
       "            cluster_13 cluster_14 cluster_15 cluster_16\n",
       "SAMD11-202  14.23709   14.38684   13.70208   13.77133  \n",
       "NOC2L-201   15.10977   15.03955   14.69376   14.99626  \n",
       "KLHL17-205  14.74710   14.62480   14.22161   14.47110  \n",
       "PLEKHN1-202 15.51306   14.99051   14.98050   15.08627  \n",
       "HES4-202    14.99070   14.80044   14.53907   14.89541  \n",
       "ISG15-202   14.75271   14.57571   14.32815   14.66591  "
      ]
     },
     "metadata": {},
     "output_type": "display_data"
    }
   ],
   "source": [
    "log_selected_tx_score = log_tx_score[as.character(select_tx), 1:16]\n",
    "dim(log_selected_tx_score)\n",
    "head(log_selected_tx_score)"
   ]
  },
  {
   "cell_type": "code",
   "execution_count": 206,
   "metadata": {},
   "outputs": [],
   "source": [
    "# filter genes to top var/mean\n",
    "TOPK = 5000\n",
    "selected_genes = rownames(log_selected_tx_score)[rev(order(rowVars(as.matrix(log_selected_tx_score))/rowMeans(as.matrix(log_selected_tx_score))))][1:TOPK]"
   ]
  },
  {
   "cell_type": "code",
   "execution_count": 420,
   "metadata": {},
   "outputs": [
    {
     "data": {
      "text/html": [
       "FALSE"
      ],
      "text/latex": [
       "FALSE"
      ],
      "text/markdown": [
       "FALSE"
      ],
      "text/plain": [
       "[1] FALSE"
      ]
     },
     "metadata": {},
     "output_type": "display_data"
    }
   ],
   "source": [
    "\"KLF4\" %in% (sub(\"-2[0-9]+\", \"\",selected_genes))"
   ]
  },
  {
   "cell_type": "code",
   "execution_count": 212,
   "metadata": {},
   "outputs": [
    {
     "data": {
      "text/html": [
       "<table>\n",
       "<caption>A matrix: 6 × 16 of type dbl</caption>\n",
       "<thead>\n",
       "\t<tr><th></th><th scope=col>cluster_1</th><th scope=col>cluster_2</th><th scope=col>cluster_3</th><th scope=col>cluster_4</th><th scope=col>cluster_5</th><th scope=col>cluster_6</th><th scope=col>cluster_7</th><th scope=col>cluster_8</th><th scope=col>cluster_9</th><th scope=col>cluster_10</th><th scope=col>cluster_11</th><th scope=col>cluster_12</th><th scope=col>cluster_13</th><th scope=col>cluster_14</th><th scope=col>cluster_15</th><th scope=col>cluster_16</th></tr>\n",
       "</thead>\n",
       "<tbody>\n",
       "\t<tr><th scope=row>TBX22-201</th><td>-1.8354797</td><td>-0.85618096</td><td>-0.2747048</td><td>-0.06139370</td><td> 0.2288283</td><td> 0.13972065</td><td>-1.83547968</td><td>-0.6075650</td><td>-0.48903804</td><td> 0.05550017</td><td> 0.06572354</td><td> 0.578506847</td><td>0.9931658</td><td>0.7992703</td><td>1.549796</td><td>1.5493299</td></tr>\n",
       "\t<tr><th scope=row>CTNND2-214</th><td>-0.1734229</td><td>-0.08241294</td><td>-0.0723174</td><td> 0.01011017</td><td>-2.4283008</td><td> 0.03492371</td><td>-2.21926648</td><td> 0.2471813</td><td> 0.15910019</td><td> 0.27055458</td><td> 0.15132330</td><td> 0.409838099</td><td>0.7302900</td><td>0.5245507</td><td>1.172634</td><td>1.2652140</td></tr>\n",
       "\t<tr><th scope=row>APCS-201</th><td>-2.3873582</td><td>-2.38333233</td><td> 0.3412863</td><td> 0.14027305</td><td> 0.3383967</td><td>-0.53048287</td><td>-0.02946828</td><td> 0.2877515</td><td> 0.12999844</td><td> 0.45344579</td><td> 0.07385681</td><td> 0.414913216</td><td>0.6912848</td><td>0.6488358</td><td>1.087485</td><td>0.7231144</td></tr>\n",
       "\t<tr><th scope=row>EPDR1-204</th><td>-1.5385127</td><td>-0.70840794</td><td>-0.3530262</td><td>-0.13114305</td><td> 0.7930072</td><td>-0.37257090</td><td>-1.28401039</td><td> 0.2913831</td><td> 0.07779267</td><td>-1.58089397</td><td>-0.10490498</td><td>-0.070994219</td><td>0.7525235</td><td>0.8809994</td><td>1.767085</td><td>1.5816735</td></tr>\n",
       "\t<tr><th scope=row>GPR141-202</th><td>-1.4852404</td><td>-0.75362320</td><td>-0.3900665</td><td>-0.17301731</td><td> 0.7866577</td><td>-0.39431180</td><td>-1.21713344</td><td> 0.2703454</td><td> 0.04805272</td><td>-1.53040028</td><td>-0.15007092</td><td>-0.105331555</td><td>0.7533361</td><td>0.8860611</td><td>1.819353</td><td>1.6353899</td></tr>\n",
       "\t<tr><th scope=row>GABRA3-201</th><td>-0.1579629</td><td>-0.33642246</td><td>-0.2011207</td><td> 0.25372012</td><td>-3.0431424</td><td>-0.39547393</td><td> 0.20183018</td><td> 0.3779908</td><td>-0.22179165</td><td>-0.04060689</td><td>-0.38934285</td><td>-0.003187075</td><td>0.6001553</td><td>0.3859019</td><td>1.350660</td><td>1.6187921</td></tr>\n",
       "</tbody>\n",
       "</table>\n"
      ],
      "text/latex": [
       "A matrix: 6 × 16 of type dbl\n",
       "\\begin{tabular}{r|llllllllllllllll}\n",
       "  & cluster\\_1 & cluster\\_2 & cluster\\_3 & cluster\\_4 & cluster\\_5 & cluster\\_6 & cluster\\_7 & cluster\\_8 & cluster\\_9 & cluster\\_10 & cluster\\_11 & cluster\\_12 & cluster\\_13 & cluster\\_14 & cluster\\_15 & cluster\\_16\\\\\n",
       "\\hline\n",
       "\tTBX22-201 & -1.8354797 & -0.85618096 & -0.2747048 & -0.06139370 &  0.2288283 &  0.13972065 & -1.83547968 & -0.6075650 & -0.48903804 &  0.05550017 &  0.06572354 &  0.578506847 & 0.9931658 & 0.7992703 & 1.549796 & 1.5493299\\\\\n",
       "\tCTNND2-214 & -0.1734229 & -0.08241294 & -0.0723174 &  0.01011017 & -2.4283008 &  0.03492371 & -2.21926648 &  0.2471813 &  0.15910019 &  0.27055458 &  0.15132330 &  0.409838099 & 0.7302900 & 0.5245507 & 1.172634 & 1.2652140\\\\\n",
       "\tAPCS-201 & -2.3873582 & -2.38333233 &  0.3412863 &  0.14027305 &  0.3383967 & -0.53048287 & -0.02946828 &  0.2877515 &  0.12999844 &  0.45344579 &  0.07385681 &  0.414913216 & 0.6912848 & 0.6488358 & 1.087485 & 0.7231144\\\\\n",
       "\tEPDR1-204 & -1.5385127 & -0.70840794 & -0.3530262 & -0.13114305 &  0.7930072 & -0.37257090 & -1.28401039 &  0.2913831 &  0.07779267 & -1.58089397 & -0.10490498 & -0.070994219 & 0.7525235 & 0.8809994 & 1.767085 & 1.5816735\\\\\n",
       "\tGPR141-202 & -1.4852404 & -0.75362320 & -0.3900665 & -0.17301731 &  0.7866577 & -0.39431180 & -1.21713344 &  0.2703454 &  0.04805272 & -1.53040028 & -0.15007092 & -0.105331555 & 0.7533361 & 0.8860611 & 1.819353 & 1.6353899\\\\\n",
       "\tGABRA3-201 & -0.1579629 & -0.33642246 & -0.2011207 &  0.25372012 & -3.0431424 & -0.39547393 &  0.20183018 &  0.3779908 & -0.22179165 & -0.04060689 & -0.38934285 & -0.003187075 & 0.6001553 & 0.3859019 & 1.350660 & 1.6187921\\\\\n",
       "\\end{tabular}\n"
      ],
      "text/markdown": [
       "\n",
       "A matrix: 6 × 16 of type dbl\n",
       "\n",
       "| <!--/--> | cluster_1 | cluster_2 | cluster_3 | cluster_4 | cluster_5 | cluster_6 | cluster_7 | cluster_8 | cluster_9 | cluster_10 | cluster_11 | cluster_12 | cluster_13 | cluster_14 | cluster_15 | cluster_16 |\n",
       "|---|---|---|---|---|---|---|---|---|---|---|---|---|---|---|---|---|\n",
       "| TBX22-201 | -1.8354797 | -0.85618096 | -0.2747048 | -0.06139370 |  0.2288283 |  0.13972065 | -1.83547968 | -0.6075650 | -0.48903804 |  0.05550017 |  0.06572354 |  0.578506847 | 0.9931658 | 0.7992703 | 1.549796 | 1.5493299 |\n",
       "| CTNND2-214 | -0.1734229 | -0.08241294 | -0.0723174 |  0.01011017 | -2.4283008 |  0.03492371 | -2.21926648 |  0.2471813 |  0.15910019 |  0.27055458 |  0.15132330 |  0.409838099 | 0.7302900 | 0.5245507 | 1.172634 | 1.2652140 |\n",
       "| APCS-201 | -2.3873582 | -2.38333233 |  0.3412863 |  0.14027305 |  0.3383967 | -0.53048287 | -0.02946828 |  0.2877515 |  0.12999844 |  0.45344579 |  0.07385681 |  0.414913216 | 0.6912848 | 0.6488358 | 1.087485 | 0.7231144 |\n",
       "| EPDR1-204 | -1.5385127 | -0.70840794 | -0.3530262 | -0.13114305 |  0.7930072 | -0.37257090 | -1.28401039 |  0.2913831 |  0.07779267 | -1.58089397 | -0.10490498 | -0.070994219 | 0.7525235 | 0.8809994 | 1.767085 | 1.5816735 |\n",
       "| GPR141-202 | -1.4852404 | -0.75362320 | -0.3900665 | -0.17301731 |  0.7866577 | -0.39431180 | -1.21713344 |  0.2703454 |  0.04805272 | -1.53040028 | -0.15007092 | -0.105331555 | 0.7533361 | 0.8860611 | 1.819353 | 1.6353899 |\n",
       "| GABRA3-201 | -0.1579629 | -0.33642246 | -0.2011207 |  0.25372012 | -3.0431424 | -0.39547393 |  0.20183018 |  0.3779908 | -0.22179165 | -0.04060689 | -0.38934285 | -0.003187075 | 0.6001553 | 0.3859019 | 1.350660 | 1.6187921 |\n",
       "\n"
      ],
      "text/plain": [
       "           cluster_1  cluster_2   cluster_3  cluster_4   cluster_5  cluster_6  \n",
       "TBX22-201  -1.8354797 -0.85618096 -0.2747048 -0.06139370  0.2288283  0.13972065\n",
       "CTNND2-214 -0.1734229 -0.08241294 -0.0723174  0.01011017 -2.4283008  0.03492371\n",
       "APCS-201   -2.3873582 -2.38333233  0.3412863  0.14027305  0.3383967 -0.53048287\n",
       "EPDR1-204  -1.5385127 -0.70840794 -0.3530262 -0.13114305  0.7930072 -0.37257090\n",
       "GPR141-202 -1.4852404 -0.75362320 -0.3900665 -0.17301731  0.7866577 -0.39431180\n",
       "GABRA3-201 -0.1579629 -0.33642246 -0.2011207  0.25372012 -3.0431424 -0.39547393\n",
       "           cluster_7   cluster_8  cluster_9   cluster_10  cluster_11 \n",
       "TBX22-201  -1.83547968 -0.6075650 -0.48903804  0.05550017  0.06572354\n",
       "CTNND2-214 -2.21926648  0.2471813  0.15910019  0.27055458  0.15132330\n",
       "APCS-201   -0.02946828  0.2877515  0.12999844  0.45344579  0.07385681\n",
       "EPDR1-204  -1.28401039  0.2913831  0.07779267 -1.58089397 -0.10490498\n",
       "GPR141-202 -1.21713344  0.2703454  0.04805272 -1.53040028 -0.15007092\n",
       "GABRA3-201  0.20183018  0.3779908 -0.22179165 -0.04060689 -0.38934285\n",
       "           cluster_12   cluster_13 cluster_14 cluster_15 cluster_16\n",
       "TBX22-201   0.578506847 0.9931658  0.7992703  1.549796   1.5493299 \n",
       "CTNND2-214  0.409838099 0.7302900  0.5245507  1.172634   1.2652140 \n",
       "APCS-201    0.414913216 0.6912848  0.6488358  1.087485   0.7231144 \n",
       "EPDR1-204  -0.070994219 0.7525235  0.8809994  1.767085   1.5816735 \n",
       "GPR141-202 -0.105331555 0.7533361  0.8860611  1.819353   1.6353899 \n",
       "GABRA3-201 -0.003187075 0.6001553  0.3859019  1.350660   1.6187921 "
      ]
     },
     "metadata": {},
     "output_type": "display_data"
    }
   ],
   "source": [
    "log_selected_tx_znorm = t(scale(t(log_selected_tx_score[selected_genes, ])))\n",
    "head(log_selected_tx_znorm)"
   ]
  },
  {
   "cell_type": "markdown",
   "metadata": {},
   "source": [
    "## Clustering"
   ]
  },
  {
   "cell_type": "code",
   "execution_count": 228,
   "metadata": {},
   "outputs": [],
   "source": [
    "# scale counts by width of bin\n",
    "cts_to_cluster = log_selected_tx_znorm"
   ]
  },
  {
   "cell_type": "code",
   "execution_count": 495,
   "metadata": {},
   "outputs": [],
   "source": [
    "# ADD RAND SEED - not required\n",
    "km_mb = MiniBatchKmeans(cts_to_cluster, \n",
    "                        batch_size = 1000,\n",
    "                        clusters=10,\n",
    "                        num_init = 50, \n",
    "                        verbose = FALSE)"
   ]
  },
  {
   "cell_type": "code",
   "execution_count": 496,
   "metadata": {},
   "outputs": [],
   "source": [
    "# reorder based on weighted mean\n",
    "pr_mb = predict_MBatchKMeans(cts_to_cluster, km_mb$centroids)\n",
    "\n",
    "# distance    = dist(t(scale(t(km_mb$centroids))))\n",
    "# cluster     = hclust(distance, method=\"ward\")\n",
    "# dendrogram  = as.dendrogram(cluster)\n",
    "# rowInd = rev(order.dendrogram(dendrogram))\n",
    "\n",
    "# rowInd = order(-rowSums(t(seq(1,ncol(km_mb$centroids))*t(km_mb$centroids))))\n",
    "rowInd = order(-apply(km_mb$centroids, 1, which.max))\n",
    "\n",
    "\n",
    "pr_mb = order(rowInd)[pr_mb]"
   ]
  },
  {
   "cell_type": "code",
   "execution_count": 613,
   "metadata": {},
   "outputs": [
    {
     "data": {
      "text/html": [
       "<style>\n",
       ".list-inline {list-style: none; margin:0; padding: 0}\n",
       ".list-inline>li {display: inline-block}\n",
       ".list-inline>li:not(:last-child)::after {content: \"\\00b7\"; padding: 0 .5ex}\n",
       "</style>\n",
       "<ol class=list-inline><li>2</li><li>3</li><li>6</li><li>9</li><li>10</li><li>8</li><li>4</li><li>1</li><li>5</li><li>7</li></ol>\n"
      ],
      "text/latex": [
       "\\begin{enumerate*}\n",
       "\\item 2\n",
       "\\item 3\n",
       "\\item 6\n",
       "\\item 9\n",
       "\\item 10\n",
       "\\item 8\n",
       "\\item 4\n",
       "\\item 1\n",
       "\\item 5\n",
       "\\item 7\n",
       "\\end{enumerate*}\n"
      ],
      "text/markdown": [
       "1. 2\n",
       "2. 3\n",
       "3. 6\n",
       "4. 9\n",
       "5. 10\n",
       "6. 8\n",
       "7. 4\n",
       "8. 1\n",
       "9. 5\n",
       "10. 7\n",
       "\n",
       "\n"
      ],
      "text/plain": [
       " [1]  2  3  6  9 10  8  4  1  5  7"
      ]
     },
     "metadata": {},
     "output_type": "display_data"
    }
   ],
   "source": [
    "rowInd"
   ]
  },
  {
   "cell_type": "code",
   "execution_count": 497,
   "metadata": {},
   "outputs": [
    {
     "data": {
      "text/plain": [
       "pr_mb\n",
       "  9   8   7   5   6   2   4  10   3   1 \n",
       "165 189 217 344 449 609 619 643 862 903 "
      ]
     },
     "metadata": {},
     "output_type": "display_data"
    }
   ],
   "source": [
    "sort(table(pr_mb))"
   ]
  },
  {
   "cell_type": "markdown",
   "metadata": {},
   "source": [
    "## Plotting"
   ]
  },
  {
   "cell_type": "code",
   "execution_count": 498,
   "metadata": {},
   "outputs": [],
   "source": [
    "gene_score_to_plot = log_selected_tx_znorm\n",
    "# gene_score_order = rownames(gene_score_to_plot)[order(-rowSums(t(seq(1,ncol(gene_score_to_plot))*t(gene_score_to_plot))))]\n",
    "gene_score_order = order(pr_mb)"
   ]
  },
  {
   "cell_type": "code",
   "execution_count": 499,
   "metadata": {},
   "outputs": [],
   "source": [
    "gene_score_ordered = gene_score_to_plot[gene_score_order, ]"
   ]
  },
  {
   "cell_type": "code",
   "execution_count": 500,
   "metadata": {},
   "outputs": [],
   "source": [
    "# ermove transcript name\n",
    "rownames(gene_score_ordered) = sub(\"-2[0-9]+\", \"\", rownames(gene_score_ordered))"
   ]
  },
  {
   "cell_type": "code",
   "execution_count": 501,
   "metadata": {},
   "outputs": [
    {
     "data": {
      "text/html": [
       "<table>\n",
       "<caption>A data.frame: 2 × 3</caption>\n",
       "<thead>\n",
       "\t<tr><th></th><th scope=col>Var1</th><th scope=col>Var2</th><th scope=col>value</th></tr>\n",
       "\t<tr><th></th><th scope=col>&lt;fct&gt;</th><th scope=col>&lt;fct&gt;</th><th scope=col>&lt;dbl&gt;</th></tr>\n",
       "</thead>\n",
       "<tbody>\n",
       "\t<tr><th scope=row>1</th><td>TBX22</td><td>cluster_1</td><td>-1.835480</td></tr>\n",
       "\t<tr><th scope=row>2</th><td>EPDR1</td><td>cluster_1</td><td>-1.538513</td></tr>\n",
       "</tbody>\n",
       "</table>\n"
      ],
      "text/latex": [
       "A data.frame: 2 × 3\n",
       "\\begin{tabular}{r|lll}\n",
       "  & Var1 & Var2 & value\\\\\n",
       "  & <fct> & <fct> & <dbl>\\\\\n",
       "\\hline\n",
       "\t1 & TBX22 & cluster\\_1 & -1.835480\\\\\n",
       "\t2 & EPDR1 & cluster\\_1 & -1.538513\\\\\n",
       "\\end{tabular}\n"
      ],
      "text/markdown": [
       "\n",
       "A data.frame: 2 × 3\n",
       "\n",
       "| <!--/--> | Var1 &lt;fct&gt; | Var2 &lt;fct&gt; | value &lt;dbl&gt; |\n",
       "|---|---|---|---|\n",
       "| 1 | TBX22 | cluster_1 | -1.835480 |\n",
       "| 2 | EPDR1 | cluster_1 | -1.538513 |\n",
       "\n"
      ],
      "text/plain": [
       "  Var1  Var2      value    \n",
       "1 TBX22 cluster_1 -1.835480\n",
       "2 EPDR1 cluster_1 -1.538513"
      ]
     },
     "metadata": {},
     "output_type": "display_data"
    }
   ],
   "source": [
    "melted_matrix_to_plot = melt(as.matrix(gene_score_ordered))\n",
    "melted_matrix_to_plot$Var1 = factor(melted_matrix_to_plot$Var1, levels = rownames(gene_score_ordered))\n",
    "melted_matrix_to_plot$Var2 = factor(melted_matrix_to_plot$Var2, levels = colnames(gene_score_ordered))\n",
    "head(melted_matrix_to_plot, 2)"
   ]
  },
  {
   "cell_type": "code",
   "execution_count": 742,
   "metadata": {},
   "outputs": [],
   "source": [
    "cluster_config_colourbar_df = cluster_config\n",
    "cluster_config_colourbar_df$text = paste(cluster_config_colourbar_df$new_cluster, \n",
    "                                         cluster_config_colourbar_df$description,\n",
    "                                        sep =' - ')\n",
    "cluster_config_colourbar_df = cluster_config_colourbar_df[order(cluster_config_colourbar_df$new_cluster), ]\n",
    "\n",
    "# choose clusters properly\n",
    "# Removing those not selected currently\n",
    "cluster_config_colourbar_df = cluster_config_colourbar_df[1:16, ]\n",
    "cluster_config_colourbar_df$text = factor(cluster_config_colourbar_df$text, \n",
    "                                         levels=cluster_config_colourbar_df$text)\n",
    "\n",
    "\n",
    "cluster_colourbar <- ggplot(cluster_config_colourbar_df, aes(x=as.factor(text), \n",
    "                                                y=1, \n",
    "                                                fill = as.factor(text), \n",
    "                                                label=as.factor(text))) +\n",
    "  geom_bar(stat=\"identity\") +\n",
    "#   xlab(\"Cluster\") +\n",
    "  theme_void() +\n",
    "  scale_fill_manual(values = cluster_config_colourbar_df$colour) +\n",
    "  theme(legend.position = 'none',\n",
    "        axis.text.x = element_text(size=12, angle=90, hjust=1),\n",
    "        axis.title.x = element_blank()) #element_text(size=16))"
   ]
  },
  {
   "cell_type": "code",
   "execution_count": 743,
   "metadata": {},
   "outputs": [
    {
     "data": {
      "text/html": [
       "<style>\n",
       ".list-inline {list-style: none; margin:0; padding: 0}\n",
       ".list-inline>li {display: inline-block}\n",
       ".list-inline>li:not(:last-child)::after {content: \"\\00b7\"; padding: 0 .5ex}\n",
       "</style>\n",
       "<ol class=list-inline><li>'GATA4'</li><li>'GATA5'</li></ol>\n"
      ],
      "text/latex": [
       "\\begin{enumerate*}\n",
       "\\item 'GATA4'\n",
       "\\item 'GATA5'\n",
       "\\end{enumerate*}\n"
      ],
      "text/markdown": [
       "1. 'GATA4'\n",
       "2. 'GATA5'\n",
       "\n",
       "\n"
      ],
      "text/plain": [
       "[1] \"GATA4\" \"GATA5\""
      ]
     },
     "metadata": {},
     "output_type": "display_data"
    }
   ],
   "source": [
    "rownames(gene_score_ordered)[grep(\"GATA\", rownames(gene_score_ordered))]"
   ]
  },
  {
   "cell_type": "code",
   "execution_count": 783,
   "metadata": {},
   "outputs": [],
   "source": [
    "GENES_TO_LABEL = c(\"MAP2\", \"GPM6A\", # neural like\n",
    "                   \"KRT16\", # keratinocyte\n",
    "                   \"CDH1\", # early on                   \n",
    "                   \"OAS1\", # immune response\n",
    "                  \"COL1A1\", \"LSP1\", \"ACTA2\",\"RUNX1\",\"MMP2\", # fibroblast\n",
    "                  \"POU5F1\", \"NANOG\", \"SOX2\", \"ESRRB\",  \"LIN28A\", \"ZFP42\", \"TERT\", \"SALL4\", \"UTF1\") # pluripotency\n",
    "# overlapping genes \"DPPA4\", \"FGF4\", \"TCF21\", \"COL6A3\", \"TFAP2C\", \"DPPA5\""
   ]
  },
  {
   "cell_type": "code",
   "execution_count": 784,
   "metadata": {},
   "outputs": [
    {
     "data": {
      "text/html": [],
      "text/latex": [],
      "text/markdown": [],
      "text/plain": [
       "character(0)"
      ]
     },
     "metadata": {},
     "output_type": "display_data"
    }
   ],
   "source": [
    "GENES_TO_LABEL[!GENES_TO_LABEL %in% melted_matrix_to_plot$Var1]"
   ]
  },
  {
   "cell_type": "code",
   "execution_count": 785,
   "metadata": {},
   "outputs": [],
   "source": [
    "heatmap <- ggplot(data = melted_matrix_to_plot, \n",
    "       aes(x = Var2, y = Var1, fill = value)) +\n",
    "geom_tile()  + ylab(NULL) + xlab(NULL) +  \n",
    "geom_raster(aes(fill=value)) +\n",
    "# scale_fill_viridis(limits=c(-1.5, 1.5), oob=squish, option = \"D\", name=\"Z-score Log2\\nGene Score\") +\n",
    "scale_fill_gradient2(low=\"darkseagreen3\", mid=\"cornsilk1\", high=\"firebrick3\",\n",
    "                    limits=c(-1.5, 1.5), oob=squish, name=\"Z-score Log2\\nGene Score\") +\n",
    "scale_y_discrete(breaks=GENES_TO_LABEL, position = \"right\") + \n",
    "theme(axis.text.x = element_blank() , # element_text(angle = 90, hjust = 1),\n",
    "        axis.text.y=element_text(size=10),\n",
    "#       axis.ticks.y=element_blank(),\n",
    "     axis.ticks.x=element_blank()) "
   ]
  },
  {
   "cell_type": "code",
   "execution_count": 786,
   "metadata": {},
   "outputs": [
    {
     "data": {
      "image/png": "[encoded data removed]",
      "text/plain": [
       "plot without title"
      ]
     },
     "metadata": {
      "image/png": {
       "height": 720,
       "width": 600
      },
      "text/plain": {
       "height": 720,
       "width": 600
      }
     },
     "output_type": "display_data"
    }
   ],
   "source": [
    "options(repr.plot.width = 10, repr.plot.height = 12)\n",
    "\n",
    "heatmap_with_colourbar = wrap_plots(heatmap, cluster_colourbar, nrow=2, heights=c(10,0.4))\n",
    "heatmap_with_colourbar"
   ]
  },
  {
   "cell_type": "code",
   "execution_count": 754,
   "metadata": {},
   "outputs": [],
   "source": [
    "saveRDS(heatmap_with_colourbar, file=sprintf(\"subfigs/%s_gene_score_heatmap.rds\",\n",
    "                                   format(Sys.Date(), \"%Y%m%d\")))"
   ]
  },
  {
   "cell_type": "code",
   "execution_count": null,
   "metadata": {},
   "outputs": [],
   "source": []
  }
 ],
 "metadata": {
  "kernelspec": {
   "display_name": "R",
   "language": "R",
   "name": "ir"
  },
  "language_info": {
   "codemirror_mode": "r",
   "file_extension": ".r",
   "mimetype": "text/x-r-source",
   "name": "R",
   "pygments_lexer": "r",
   "version": "3.6.3"
  }
 },
 "nbformat": 4,
 "nbformat_minor": 4
}
