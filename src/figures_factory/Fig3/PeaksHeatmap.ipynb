{
 "cells": [
  {
   "cell_type": "markdown",
   "metadata": {},
   "source": [
    "# Peaks Heatmap\n",
    "\n",
    "Creates a peak count heatmap per cluster.\n",
    "\n",
    "Inputs:\n",
    "1. `metadata.tsv` with UMAP/densMAP coordinates, day and cluster.\n",
    "2. Config:\n",
    "    - Colours for each day\n",
    "    - For each cluster, colour, description, new cluster number (set to same as original if it should not be changed)\n",
    "3. Single-cell counts matrix derived from snapATAC with corresponding peaks.\n",
    "4. Set of bed files corresponding to peak sets which are a subset of peaks in the above matrix."
   ]
  },
  {
   "cell_type": "code",
   "execution_count": 77,
   "metadata": {},
   "outputs": [
    {
     "name": "stderr",
     "output_type": "stream",
     "text": [
      "Loading required package: viridisLite\n",
      "\n",
      "\n",
      "Attaching package: ‘viridis’\n",
      "\n",
      "\n",
      "The following object is masked from ‘package:scales’:\n",
      "\n",
      "    viridis_pal\n",
      "\n",
      "\n"
     ]
    }
   ],
   "source": [
    "library(Matrix)\n",
    "library(ggplot2)\n",
    "library(patchwork)\n",
    "library(GenomicRanges)\n",
    "library(scales)\n",
    "library(DESeq2)\n",
    "library(reshape2)\n",
    "library(viridis)"
   ]
  },
  {
   "cell_type": "code",
   "execution_count": 2,
   "metadata": {},
   "outputs": [],
   "source": [
    "DAYS = c(\"D0\", \"D2\", \"D4\", \"D6\", \"D8\", \"D10\", \"D12\", \"D14\")"
   ]
  },
  {
   "cell_type": "markdown",
   "metadata": {},
   "source": [
    "### MetaData"
   ]
  },
  {
   "cell_type": "code",
   "execution_count": 15,
   "metadata": {},
   "outputs": [
    {
     "data": {
      "text/html": [
       "<style>\n",
       ".list-inline {list-style: none; margin:0; padding: 0}\n",
       ".list-inline>li {display: inline-block}\n",
       ".list-inline>li:not(:last-child)::after {content: \"\\00b7\"; padding: 0 .5ex}\n",
       "</style>\n",
       "<ol class=list-inline><li>68916</li><li>5</li></ol>\n"
      ],
      "text/latex": [
       "\\begin{enumerate*}\n",
       "\\item 68916\n",
       "\\item 5\n",
       "\\end{enumerate*}\n"
      ],
      "text/markdown": [
       "1. 68916\n",
       "2. 5\n",
       "\n",
       "\n"
      ],
      "text/plain": [
       "[1] 68916     5"
      ]
     },
     "metadata": {},
     "output_type": "display_data"
    },
    {
     "data": {
      "text/html": [
       "<table>\n",
       "<caption>A data.frame: 5 × 5</caption>\n",
       "<thead>\n",
       "\t<tr><th></th><th scope=col>barcode</th><th scope=col>sample</th><th scope=col>umap1</th><th scope=col>umap2</th><th scope=col>cells</th></tr>\n",
       "\t<tr><th></th><th scope=col>&lt;fct&gt;</th><th scope=col>&lt;fct&gt;</th><th scope=col>&lt;dbl&gt;</th><th scope=col>&lt;dbl&gt;</th><th scope=col>&lt;chr&gt;</th></tr>\n",
       "</thead>\n",
       "<tbody>\n",
       "\t<tr><th scope=row>D0_AAACAACGACGATTAC</th><td>AAACAACGACGATTAC</td><td>D0</td><td>6.565758</td><td>-8.649868</td><td>D0_AAACAACGACGATTAC</td></tr>\n",
       "\t<tr><th scope=row>D0_AAACAACGAGCGCACT</th><td>AAACAACGAGCGCACT</td><td>D0</td><td>5.604522</td><td>-7.835411</td><td>D0_AAACAACGAGCGCACT</td></tr>\n",
       "\t<tr><th scope=row>D0_AAACACGCTACGCCAC</th><td>AAACACGCTACGCCAC</td><td>D0</td><td>5.130516</td><td>-7.593246</td><td>D0_AAACACGCTACGCCAC</td></tr>\n",
       "\t<tr><th scope=row>D0_AAACACGCTAGTACGG</th><td>AAACACGCTAGTACGG</td><td>D0</td><td>4.926843</td><td>-8.365463</td><td>D0_AAACACGCTAGTACGG</td></tr>\n",
       "\t<tr><th scope=row>D0_AAACACGCTCCTCAAA</th><td>AAACACGCTCCTCAAA</td><td>D0</td><td>6.056337</td><td>-5.647577</td><td>D0_AAACACGCTCCTCAAA</td></tr>\n",
       "</tbody>\n",
       "</table>\n"
      ],
      "text/latex": [
       "A data.frame: 5 × 5\n",
       "\\begin{tabular}{r|lllll}\n",
       "  & barcode & sample & umap1 & umap2 & cells\\\\\n",
       "  & <fct> & <fct> & <dbl> & <dbl> & <chr>\\\\\n",
       "\\hline\n",
       "\tD0\\_AAACAACGACGATTAC & AAACAACGACGATTAC & D0 & 6.565758 & -8.649868 & D0\\_AAACAACGACGATTAC\\\\\n",
       "\tD0\\_AAACAACGAGCGCACT & AAACAACGAGCGCACT & D0 & 5.604522 & -7.835411 & D0\\_AAACAACGAGCGCACT\\\\\n",
       "\tD0\\_AAACACGCTACGCCAC & AAACACGCTACGCCAC & D0 & 5.130516 & -7.593246 & D0\\_AAACACGCTACGCCAC\\\\\n",
       "\tD0\\_AAACACGCTAGTACGG & AAACACGCTAGTACGG & D0 & 4.926843 & -8.365463 & D0\\_AAACACGCTAGTACGG\\\\\n",
       "\tD0\\_AAACACGCTCCTCAAA & AAACACGCTCCTCAAA & D0 & 6.056337 & -5.647577 & D0\\_AAACACGCTCCTCAAA\\\\\n",
       "\\end{tabular}\n"
      ],
      "text/markdown": [
       "\n",
       "A data.frame: 5 × 5\n",
       "\n",
       "| <!--/--> | barcode &lt;fct&gt; | sample &lt;fct&gt; | umap1 &lt;dbl&gt; | umap2 &lt;dbl&gt; | cells &lt;chr&gt; |\n",
       "|---|---|---|---|---|---|\n",
       "| D0_AAACAACGACGATTAC | AAACAACGACGATTAC | D0 | 6.565758 | -8.649868 | D0_AAACAACGACGATTAC |\n",
       "| D0_AAACAACGAGCGCACT | AAACAACGAGCGCACT | D0 | 5.604522 | -7.835411 | D0_AAACAACGAGCGCACT |\n",
       "| D0_AAACACGCTACGCCAC | AAACACGCTACGCCAC | D0 | 5.130516 | -7.593246 | D0_AAACACGCTACGCCAC |\n",
       "| D0_AAACACGCTAGTACGG | AAACACGCTAGTACGG | D0 | 4.926843 | -8.365463 | D0_AAACACGCTAGTACGG |\n",
       "| D0_AAACACGCTCCTCAAA | AAACACGCTCCTCAAA | D0 | 6.056337 | -5.647577 | D0_AAACACGCTCCTCAAA |\n",
       "\n"
      ],
      "text/plain": [
       "                    barcode          sample umap1    umap2    \n",
       "D0_AAACAACGACGATTAC AAACAACGACGATTAC D0     6.565758 -8.649868\n",
       "D0_AAACAACGAGCGCACT AAACAACGAGCGCACT D0     5.604522 -7.835411\n",
       "D0_AAACACGCTACGCCAC AAACACGCTACGCCAC D0     5.130516 -7.593246\n",
       "D0_AAACACGCTAGTACGG AAACACGCTAGTACGG D0     4.926843 -8.365463\n",
       "D0_AAACACGCTCCTCAAA AAACACGCTCCTCAAA D0     6.056337 -5.647577\n",
       "                    cells              \n",
       "D0_AAACAACGACGATTAC D0_AAACAACGACGATTAC\n",
       "D0_AAACAACGAGCGCACT D0_AAACAACGAGCGCACT\n",
       "D0_AAACACGCTACGCCAC D0_AAACACGCTACGCCAC\n",
       "D0_AAACACGCTAGTACGG D0_AAACACGCTAGTACGG\n",
       "D0_AAACACGCTCCTCAAA D0_AAACACGCTCCTCAAA"
      ]
     },
     "metadata": {},
     "output_type": "display_data"
    }
   ],
   "source": [
    "# should contain, sample_barcode as rowname, sample, umap1, umap2, cluster\n",
    "metaData = read.table(\"../../analysis/20200206_pmat_snapATAC/sessions/20200520_n68916/metadata.tsv\", header = T)\n",
    "rownames(metaData) = paste(metaData$sample, metaData$barcode, sep='_')\n",
    "metaData$cells = rownames(metaData) # for cicero\n",
    "metaData$sample = factor(metaData$sample, levels=DAYS)\n",
    "dim(metaData)\n",
    "head(metaData, 5)"
   ]
  },
  {
   "cell_type": "code",
   "execution_count": 16,
   "metadata": {},
   "outputs": [
    {
     "data": {
      "text/html": [
       "<table>\n",
       "<caption>A data.frame: 6 × 6</caption>\n",
       "<thead>\n",
       "\t<tr><th></th><th scope=col>barcode</th><th scope=col>sample</th><th scope=col>umap1</th><th scope=col>umap2</th><th scope=col>cells</th><th scope=col>cluster</th></tr>\n",
       "\t<tr><th></th><th scope=col>&lt;fct&gt;</th><th scope=col>&lt;fct&gt;</th><th scope=col>&lt;dbl&gt;</th><th scope=col>&lt;dbl&gt;</th><th scope=col>&lt;chr&gt;</th><th scope=col>&lt;int&gt;</th></tr>\n",
       "</thead>\n",
       "<tbody>\n",
       "\t<tr><th scope=row>D0_AAACAACGACGATTAC</th><td>AAACAACGACGATTAC</td><td>D0</td><td>6.565758</td><td>-8.649868</td><td>D0_AAACAACGACGATTAC</td><td>5</td></tr>\n",
       "\t<tr><th scope=row>D0_AAACAACGAGCGCACT</th><td>AAACAACGAGCGCACT</td><td>D0</td><td>5.604522</td><td>-7.835411</td><td>D0_AAACAACGAGCGCACT</td><td>5</td></tr>\n",
       "\t<tr><th scope=row>D0_AAACACGCTACGCCAC</th><td>AAACACGCTACGCCAC</td><td>D0</td><td>5.130516</td><td>-7.593246</td><td>D0_AAACACGCTACGCCAC</td><td>5</td></tr>\n",
       "\t<tr><th scope=row>D0_AAACACGCTAGTACGG</th><td>AAACACGCTAGTACGG</td><td>D0</td><td>4.926843</td><td>-8.365463</td><td>D0_AAACACGCTAGTACGG</td><td>6</td></tr>\n",
       "\t<tr><th scope=row>D0_AAACACGCTCCTCAAA</th><td>AAACACGCTCCTCAAA</td><td>D0</td><td>6.056337</td><td>-5.647577</td><td>D0_AAACACGCTCCTCAAA</td><td>5</td></tr>\n",
       "\t<tr><th scope=row>D0_AAACACGCTCGAGTGA</th><td>AAACACGCTCGAGTGA</td><td>D0</td><td>3.408866</td><td>-9.058377</td><td>D0_AAACACGCTCGAGTGA</td><td>6</td></tr>\n",
       "</tbody>\n",
       "</table>\n"
      ],
      "text/latex": [
       "A data.frame: 6 × 6\n",
       "\\begin{tabular}{r|llllll}\n",
       "  & barcode & sample & umap1 & umap2 & cells & cluster\\\\\n",
       "  & <fct> & <fct> & <dbl> & <dbl> & <chr> & <int>\\\\\n",
       "\\hline\n",
       "\tD0\\_AAACAACGACGATTAC & AAACAACGACGATTAC & D0 & 6.565758 & -8.649868 & D0\\_AAACAACGACGATTAC & 5\\\\\n",
       "\tD0\\_AAACAACGAGCGCACT & AAACAACGAGCGCACT & D0 & 5.604522 & -7.835411 & D0\\_AAACAACGAGCGCACT & 5\\\\\n",
       "\tD0\\_AAACACGCTACGCCAC & AAACACGCTACGCCAC & D0 & 5.130516 & -7.593246 & D0\\_AAACACGCTACGCCAC & 5\\\\\n",
       "\tD0\\_AAACACGCTAGTACGG & AAACACGCTAGTACGG & D0 & 4.926843 & -8.365463 & D0\\_AAACACGCTAGTACGG & 6\\\\\n",
       "\tD0\\_AAACACGCTCCTCAAA & AAACACGCTCCTCAAA & D0 & 6.056337 & -5.647577 & D0\\_AAACACGCTCCTCAAA & 5\\\\\n",
       "\tD0\\_AAACACGCTCGAGTGA & AAACACGCTCGAGTGA & D0 & 3.408866 & -9.058377 & D0\\_AAACACGCTCGAGTGA & 6\\\\\n",
       "\\end{tabular}\n"
      ],
      "text/markdown": [
       "\n",
       "A data.frame: 6 × 6\n",
       "\n",
       "| <!--/--> | barcode &lt;fct&gt; | sample &lt;fct&gt; | umap1 &lt;dbl&gt; | umap2 &lt;dbl&gt; | cells &lt;chr&gt; | cluster &lt;int&gt; |\n",
       "|---|---|---|---|---|---|---|\n",
       "| D0_AAACAACGACGATTAC | AAACAACGACGATTAC | D0 | 6.565758 | -8.649868 | D0_AAACAACGACGATTAC | 5 |\n",
       "| D0_AAACAACGAGCGCACT | AAACAACGAGCGCACT | D0 | 5.604522 | -7.835411 | D0_AAACAACGAGCGCACT | 5 |\n",
       "| D0_AAACACGCTACGCCAC | AAACACGCTACGCCAC | D0 | 5.130516 | -7.593246 | D0_AAACACGCTACGCCAC | 5 |\n",
       "| D0_AAACACGCTAGTACGG | AAACACGCTAGTACGG | D0 | 4.926843 | -8.365463 | D0_AAACACGCTAGTACGG | 6 |\n",
       "| D0_AAACACGCTCCTCAAA | AAACACGCTCCTCAAA | D0 | 6.056337 | -5.647577 | D0_AAACACGCTCCTCAAA | 5 |\n",
       "| D0_AAACACGCTCGAGTGA | AAACACGCTCGAGTGA | D0 | 3.408866 | -9.058377 | D0_AAACACGCTCGAGTGA | 6 |\n",
       "\n"
      ],
      "text/plain": [
       "                    barcode          sample umap1    umap2    \n",
       "D0_AAACAACGACGATTAC AAACAACGACGATTAC D0     6.565758 -8.649868\n",
       "D0_AAACAACGAGCGCACT AAACAACGAGCGCACT D0     5.604522 -7.835411\n",
       "D0_AAACACGCTACGCCAC AAACACGCTACGCCAC D0     5.130516 -7.593246\n",
       "D0_AAACACGCTAGTACGG AAACACGCTAGTACGG D0     4.926843 -8.365463\n",
       "D0_AAACACGCTCCTCAAA AAACACGCTCCTCAAA D0     6.056337 -5.647577\n",
       "D0_AAACACGCTCGAGTGA AAACACGCTCGAGTGA D0     3.408866 -9.058377\n",
       "                    cells               cluster\n",
       "D0_AAACAACGACGATTAC D0_AAACAACGACGATTAC 5      \n",
       "D0_AAACAACGAGCGCACT D0_AAACAACGAGCGCACT 5      \n",
       "D0_AAACACGCTACGCCAC D0_AAACACGCTACGCCAC 5      \n",
       "D0_AAACACGCTAGTACGG D0_AAACACGCTAGTACGG 6      \n",
       "D0_AAACACGCTCCTCAAA D0_AAACACGCTCCTCAAA 5      \n",
       "D0_AAACACGCTCGAGTGA D0_AAACACGCTCGAGTGA 6      "
      ]
     },
     "metadata": {},
     "output_type": "display_data"
    }
   ],
   "source": [
    "# this is a kludge for now, clusters should also be present in same metaData as above\n",
    "snapATAC_metaData = read.table(\"../../analysis/20200122_snapATAC/snapATAC_sessions/20200518_n76052/metadata.tsv\", header = T)\n",
    "rownames(snapATAC_metaData) = paste(snapATAC_metaData$sample, snapATAC_metaData$barcode, sep='_')\n",
    "\n",
    "metaData$cluster = snapATAC_metaData[rownames(metaData), \"cluster\"] \n",
    "head(metaData)"
   ]
  },
  {
   "cell_type": "markdown",
   "metadata": {},
   "source": [
    "### Day and Cluster Configs"
   ]
  },
  {
   "cell_type": "code",
   "execution_count": 6,
   "metadata": {},
   "outputs": [
    {
     "data": {
      "text/html": [
       "<table>\n",
       "<caption>A data.frame: 8 × 2</caption>\n",
       "<thead>\n",
       "\t<tr><th></th><th scope=col>day</th><th scope=col>colour</th></tr>\n",
       "\t<tr><th></th><th scope=col>&lt;fct&gt;</th><th scope=col>&lt;chr&gt;</th></tr>\n",
       "</thead>\n",
       "<tbody>\n",
       "\t<tr><th scope=row>D0</th><td>D0 </td><td>#336699</td></tr>\n",
       "\t<tr><th scope=row>D2</th><td>D2 </td><td>#0AABB7</td></tr>\n",
       "\t<tr><th scope=row>D4</th><td>D4 </td><td>#D6E82F</td></tr>\n",
       "\t<tr><th scope=row>D6</th><td>D6 </td><td>#B14AED</td></tr>\n",
       "\t<tr><th scope=row>D8</th><td>D8 </td><td>#2D3142</td></tr>\n",
       "\t<tr><th scope=row>D10</th><td>D10</td><td>#FC7753</td></tr>\n",
       "\t<tr><th scope=row>D12</th><td>D12</td><td>#FF70A6</td></tr>\n",
       "\t<tr><th scope=row>D14</th><td>D14</td><td>#A61C24</td></tr>\n",
       "</tbody>\n",
       "</table>\n"
      ],
      "text/latex": [
       "A data.frame: 8 × 2\n",
       "\\begin{tabular}{r|ll}\n",
       "  & day & colour\\\\\n",
       "  & <fct> & <chr>\\\\\n",
       "\\hline\n",
       "\tD0 & D0  & \\#336699\\\\\n",
       "\tD2 & D2  & \\#0AABB7\\\\\n",
       "\tD4 & D4  & \\#D6E82F\\\\\n",
       "\tD6 & D6  & \\#B14AED\\\\\n",
       "\tD8 & D8  & \\#2D3142\\\\\n",
       "\tD10 & D10 & \\#FC7753\\\\\n",
       "\tD12 & D12 & \\#FF70A6\\\\\n",
       "\tD14 & D14 & \\#A61C24\\\\\n",
       "\\end{tabular}\n"
      ],
      "text/markdown": [
       "\n",
       "A data.frame: 8 × 2\n",
       "\n",
       "| <!--/--> | day &lt;fct&gt; | colour &lt;chr&gt; |\n",
       "|---|---|---|\n",
       "| D0 | D0  | #336699 |\n",
       "| D2 | D2  | #0AABB7 |\n",
       "| D4 | D4  | #D6E82F |\n",
       "| D6 | D6  | #B14AED |\n",
       "| D8 | D8  | #2D3142 |\n",
       "| D10 | D10 | #FC7753 |\n",
       "| D12 | D12 | #FF70A6 |\n",
       "| D14 | D14 | #A61C24 |\n",
       "\n"
      ],
      "text/plain": [
       "    day colour \n",
       "D0  D0  #336699\n",
       "D2  D2  #0AABB7\n",
       "D4  D4  #D6E82F\n",
       "D6  D6  #B14AED\n",
       "D8  D8  #2D3142\n",
       "D10 D10 #FC7753\n",
       "D12 D12 #FF70A6\n",
       "D14 D14 #A61C24"
      ]
     },
     "metadata": {},
     "output_type": "display_data"
    }
   ],
   "source": [
    "day_config = read.table(\"../configs/day.tsv\", comment.char = '', header=T)\n",
    "day_config$colour = as.character(day_config$colour)\n",
    "day_config$day = factor(day_config$day, levels=DAYS)\n",
    "rownames(day_config) = day_config$day\n",
    "day_config"
   ]
  },
  {
   "cell_type": "code",
   "execution_count": 98,
   "metadata": {},
   "outputs": [
    {
     "data": {
      "text/html": [
       "<table>\n",
       "<caption>A data.frame: 18 × 4</caption>\n",
       "<thead>\n",
       "\t<tr><th></th><th scope=col>cluster</th><th scope=col>colour</th><th scope=col>description</th><th scope=col>new_cluster</th></tr>\n",
       "\t<tr><th></th><th scope=col>&lt;int&gt;</th><th scope=col>&lt;chr&gt;</th><th scope=col>&lt;chr&gt;</th><th scope=col>&lt;int&gt;</th></tr>\n",
       "</thead>\n",
       "<tbody>\n",
       "\t<tr><th scope=row>1</th><td> 1</td><td>#CCCCCC</td><td>Intermediate          </td><td>12</td></tr>\n",
       "\t<tr><th scope=row>2</th><td> 2</td><td>#E41A1C</td><td>Pre-iPSC              </td><td>15</td></tr>\n",
       "\t<tr><th scope=row>3</th><td> 3</td><td>#377EB8</td><td>Fibroblast-like       </td><td> 5</td></tr>\n",
       "\t<tr><th scope=row>4</th><td> 4</td><td>#4DAF4A</td><td>Fibroblast-like       </td><td> 3</td></tr>\n",
       "\t<tr><th scope=row>5</th><td> 5</td><td>#984EA3</td><td>Fibroblast            </td><td> 1</td></tr>\n",
       "\t<tr><th scope=row>6</th><td> 6</td><td>#FF7F00</td><td>Fibroblast            </td><td> 2</td></tr>\n",
       "\t<tr><th scope=row>7</th><td> 7</td><td>#4B644A</td><td>Fibroblast-like       </td><td> 4</td></tr>\n",
       "\t<tr><th scope=row>8</th><td> 8</td><td>#A65628</td><td>Doublets              </td><td>17</td></tr>\n",
       "\t<tr><th scope=row>9</th><td> 9</td><td>#F781BF</td><td>Keratinocyte-like     </td><td> 6</td></tr>\n",
       "\t<tr><th scope=row>10</th><td>10</td><td>#999999</td><td>Pre-iPSC              </td><td>16</td></tr>\n",
       "\t<tr><th scope=row>11</th><td>11</td><td>#66C2A5</td><td>Partially-reprogrammed</td><td>14</td></tr>\n",
       "\t<tr><th scope=row>12</th><td>12</td><td>#FC8D62</td><td>Intermediate          </td><td>11</td></tr>\n",
       "\t<tr><th scope=row>13</th><td>13</td><td>#8DA0CB</td><td>Intermediate          </td><td>10</td></tr>\n",
       "\t<tr><th scope=row>14</th><td>14</td><td>#BCF4F5</td><td>Early intermediate    </td><td> 7</td></tr>\n",
       "\t<tr><th scope=row>15</th><td>15</td><td>#A6D854</td><td>Intermediate          </td><td>13</td></tr>\n",
       "\t<tr><th scope=row>16</th><td>16</td><td>#FFD92F</td><td>Neural-like           </td><td> 9</td></tr>\n",
       "\t<tr><th scope=row>17</th><td>17</td><td>#E5C494</td><td>Neural-like           </td><td> 8</td></tr>\n",
       "\t<tr><th scope=row>18</th><td>18</td><td>#B3B3B3</td><td>iPSC                  </td><td>18</td></tr>\n",
       "</tbody>\n",
       "</table>\n"
      ],
      "text/latex": [
       "A data.frame: 18 × 4\n",
       "\\begin{tabular}{r|llll}\n",
       "  & cluster & colour & description & new\\_cluster\\\\\n",
       "  & <int> & <chr> & <chr> & <int>\\\\\n",
       "\\hline\n",
       "\t1 &  1 & \\#CCCCCC & Intermediate           & 12\\\\\n",
       "\t2 &  2 & \\#E41A1C & Pre-iPSC               & 15\\\\\n",
       "\t3 &  3 & \\#377EB8 & Fibroblast-like        &  5\\\\\n",
       "\t4 &  4 & \\#4DAF4A & Fibroblast-like        &  3\\\\\n",
       "\t5 &  5 & \\#984EA3 & Fibroblast             &  1\\\\\n",
       "\t6 &  6 & \\#FF7F00 & Fibroblast             &  2\\\\\n",
       "\t7 &  7 & \\#4B644A & Fibroblast-like        &  4\\\\\n",
       "\t8 &  8 & \\#A65628 & Doublets               & 17\\\\\n",
       "\t9 &  9 & \\#F781BF & Keratinocyte-like      &  6\\\\\n",
       "\t10 & 10 & \\#999999 & Pre-iPSC               & 16\\\\\n",
       "\t11 & 11 & \\#66C2A5 & Partially-reprogrammed & 14\\\\\n",
       "\t12 & 12 & \\#FC8D62 & Intermediate           & 11\\\\\n",
       "\t13 & 13 & \\#8DA0CB & Intermediate           & 10\\\\\n",
       "\t14 & 14 & \\#BCF4F5 & Early intermediate     &  7\\\\\n",
       "\t15 & 15 & \\#A6D854 & Intermediate           & 13\\\\\n",
       "\t16 & 16 & \\#FFD92F & Neural-like            &  9\\\\\n",
       "\t17 & 17 & \\#E5C494 & Neural-like            &  8\\\\\n",
       "\t18 & 18 & \\#B3B3B3 & iPSC                   & 18\\\\\n",
       "\\end{tabular}\n"
      ],
      "text/markdown": [
       "\n",
       "A data.frame: 18 × 4\n",
       "\n",
       "| <!--/--> | cluster &lt;int&gt; | colour &lt;chr&gt; | description &lt;chr&gt; | new_cluster &lt;int&gt; |\n",
       "|---|---|---|---|---|\n",
       "| 1 |  1 | #CCCCCC | Intermediate           | 12 |\n",
       "| 2 |  2 | #E41A1C | Pre-iPSC               | 15 |\n",
       "| 3 |  3 | #377EB8 | Fibroblast-like        |  5 |\n",
       "| 4 |  4 | #4DAF4A | Fibroblast-like        |  3 |\n",
       "| 5 |  5 | #984EA3 | Fibroblast             |  1 |\n",
       "| 6 |  6 | #FF7F00 | Fibroblast             |  2 |\n",
       "| 7 |  7 | #4B644A | Fibroblast-like        |  4 |\n",
       "| 8 |  8 | #A65628 | Doublets               | 17 |\n",
       "| 9 |  9 | #F781BF | Keratinocyte-like      |  6 |\n",
       "| 10 | 10 | #999999 | Pre-iPSC               | 16 |\n",
       "| 11 | 11 | #66C2A5 | Partially-reprogrammed | 14 |\n",
       "| 12 | 12 | #FC8D62 | Intermediate           | 11 |\n",
       "| 13 | 13 | #8DA0CB | Intermediate           | 10 |\n",
       "| 14 | 14 | #BCF4F5 | Early intermediate     |  7 |\n",
       "| 15 | 15 | #A6D854 | Intermediate           | 13 |\n",
       "| 16 | 16 | #FFD92F | Neural-like            |  9 |\n",
       "| 17 | 17 | #E5C494 | Neural-like            |  8 |\n",
       "| 18 | 18 | #B3B3B3 | iPSC                   | 18 |\n",
       "\n"
      ],
      "text/plain": [
       "   cluster colour  description            new_cluster\n",
       "1   1      #CCCCCC Intermediate           12         \n",
       "2   2      #E41A1C Pre-iPSC               15         \n",
       "3   3      #377EB8 Fibroblast-like         5         \n",
       "4   4      #4DAF4A Fibroblast-like         3         \n",
       "5   5      #984EA3 Fibroblast              1         \n",
       "6   6      #FF7F00 Fibroblast              2         \n",
       "7   7      #4B644A Fibroblast-like         4         \n",
       "8   8      #A65628 Doublets               17         \n",
       "9   9      #F781BF Keratinocyte-like       6         \n",
       "10 10      #999999 Pre-iPSC               16         \n",
       "11 11      #66C2A5 Partially-reprogrammed 14         \n",
       "12 12      #FC8D62 Intermediate           11         \n",
       "13 13      #8DA0CB Intermediate           10         \n",
       "14 14      #BCF4F5 Early intermediate      7         \n",
       "15 15      #A6D854 Intermediate           13         \n",
       "16 16      #FFD92F Neural-like             9         \n",
       "17 17      #E5C494 Neural-like             8         \n",
       "18 18      #B3B3B3 iPSC                   18         "
      ]
     },
     "metadata": {},
     "output_type": "display_data"
    }
   ],
   "source": [
    "cluster_config = read.table(\"../configs/cluster.tsv\", comment.char = '', header=T, sep='\\t')\n",
    "cluster_config$colour = as.character(cluster_config$colour)\n",
    "cluster_config$description = as.character(cluster_config$description)\n",
    "\n",
    "rownames(cluster_config) = cluster_config$cluster\n",
    "cluster_config"
   ]
  },
  {
   "cell_type": "markdown",
   "metadata": {},
   "source": [
    "### Insertions Count Matrix + Regions"
   ]
  },
  {
   "cell_type": "code",
   "execution_count": 8,
   "metadata": {},
   "outputs": [
    {
     "data": {
      "text/html": [
       "<style>\n",
       ".list-inline {list-style: none; margin:0; padding: 0}\n",
       ".list-inline>li {display: inline-block}\n",
       ".list-inline>li:not(:last-child)::after {content: \"\\00b7\"; padding: 0 .5ex}\n",
       "</style>\n",
       "<ol class=list-inline><li>68916</li><li>803958</li></ol>\n"
      ],
      "text/latex": [
       "\\begin{enumerate*}\n",
       "\\item 68916\n",
       "\\item 803958\n",
       "\\end{enumerate*}\n"
      ],
      "text/markdown": [
       "1. 68916\n",
       "2. 803958\n",
       "\n",
       "\n"
      ],
      "text/plain": [
       "[1]  68916 803958"
      ]
     },
     "metadata": {},
     "output_type": "display_data"
    }
   ],
   "source": [
    "pmat = readMM(\"../../analysis/20200206_pmat_snapATAC/sessions/20200520_n68916/pmat.overlap.smallpeaks.sparse.mm\")\n",
    "pmat = as(pmat, \"dgCMatrix\")\n",
    "dim(pmat)"
   ]
  },
  {
   "cell_type": "code",
   "execution_count": 9,
   "metadata": {},
   "outputs": [
    {
     "data": {
      "text/html": [
       "<style>\n",
       ".list-inline {list-style: none; margin:0; padding: 0}\n",
       ".list-inline>li {display: inline-block}\n",
       ".list-inline>li:not(:last-child)::after {content: \"\\00b7\"; padding: 0 .5ex}\n",
       "</style>\n",
       "<ol class=list-inline><li>803958</li><li>4</li></ol>\n"
      ],
      "text/latex": [
       "\\begin{enumerate*}\n",
       "\\item 803958\n",
       "\\item 4\n",
       "\\end{enumerate*}\n"
      ],
      "text/markdown": [
       "1. 803958\n",
       "2. 4\n",
       "\n",
       "\n"
      ],
      "text/plain": [
       "[1] 803958      4"
      ]
     },
     "metadata": {},
     "output_type": "display_data"
    },
    {
     "data": {
      "text/html": [
       "<table>\n",
       "<caption>A data.frame: 6 × 4</caption>\n",
       "<thead>\n",
       "\t<tr><th></th><th scope=col>chr</th><th scope=col>bp1</th><th scope=col>bp2</th><th scope=col>site_name</th></tr>\n",
       "\t<tr><th></th><th scope=col>&lt;fct&gt;</th><th scope=col>&lt;int&gt;</th><th scope=col>&lt;int&gt;</th><th scope=col>&lt;chr&gt;</th></tr>\n",
       "</thead>\n",
       "<tbody>\n",
       "\t<tr><th scope=row>chr1_97145604_97145864</th><td>chr1</td><td> 97145604</td><td> 97145864</td><td>chr1_97145604_97145864  </td></tr>\n",
       "\t<tr><th scope=row>chr1_7538148_7538363</th><td>chr1</td><td>  7538148</td><td>  7538363</td><td>chr1_7538148_7538363    </td></tr>\n",
       "\t<tr><th scope=row>chr1_93196678_93196894</th><td>chr1</td><td> 93196678</td><td> 93196894</td><td>chr1_93196678_93196894  </td></tr>\n",
       "\t<tr><th scope=row>chr1_187577713_187577913</th><td>chr1</td><td>187577713</td><td>187577913</td><td>chr1_187577713_187577913</td></tr>\n",
       "\t<tr><th scope=row>chr1_53278065_53278265</th><td>chr1</td><td> 53278065</td><td> 53278265</td><td>chr1_53278065_53278265  </td></tr>\n",
       "\t<tr><th scope=row>chr1_177176832_177177032</th><td>chr1</td><td>177176832</td><td>177177032</td><td>chr1_177176832_177177032</td></tr>\n",
       "</tbody>\n",
       "</table>\n"
      ],
      "text/latex": [
       "A data.frame: 6 × 4\n",
       "\\begin{tabular}{r|llll}\n",
       "  & chr & bp1 & bp2 & site\\_name\\\\\n",
       "  & <fct> & <int> & <int> & <chr>\\\\\n",
       "\\hline\n",
       "\tchr1\\_97145604\\_97145864 & chr1 &  97145604 &  97145864 & chr1\\_97145604\\_97145864  \\\\\n",
       "\tchr1\\_7538148\\_7538363 & chr1 &   7538148 &   7538363 & chr1\\_7538148\\_7538363    \\\\\n",
       "\tchr1\\_93196678\\_93196894 & chr1 &  93196678 &  93196894 & chr1\\_93196678\\_93196894  \\\\\n",
       "\tchr1\\_187577713\\_187577913 & chr1 & 187577713 & 187577913 & chr1\\_187577713\\_187577913\\\\\n",
       "\tchr1\\_53278065\\_53278265 & chr1 &  53278065 &  53278265 & chr1\\_53278065\\_53278265  \\\\\n",
       "\tchr1\\_177176832\\_177177032 & chr1 & 177176832 & 177177032 & chr1\\_177176832\\_177177032\\\\\n",
       "\\end{tabular}\n"
      ],
      "text/markdown": [
       "\n",
       "A data.frame: 6 × 4\n",
       "\n",
       "| <!--/--> | chr &lt;fct&gt; | bp1 &lt;int&gt; | bp2 &lt;int&gt; | site_name &lt;chr&gt; |\n",
       "|---|---|---|---|---|\n",
       "| chr1_97145604_97145864 | chr1 |  97145604 |  97145864 | chr1_97145604_97145864   |\n",
       "| chr1_7538148_7538363 | chr1 |   7538148 |   7538363 | chr1_7538148_7538363     |\n",
       "| chr1_93196678_93196894 | chr1 |  93196678 |  93196894 | chr1_93196678_93196894   |\n",
       "| chr1_187577713_187577913 | chr1 | 187577713 | 187577913 | chr1_187577713_187577913 |\n",
       "| chr1_53278065_53278265 | chr1 |  53278065 |  53278265 | chr1_53278065_53278265   |\n",
       "| chr1_177176832_177177032 | chr1 | 177176832 | 177177032 | chr1_177176832_177177032 |\n",
       "\n"
      ],
      "text/plain": [
       "                         chr  bp1       bp2       site_name               \n",
       "chr1_97145604_97145864   chr1  97145604  97145864 chr1_97145604_97145864  \n",
       "chr1_7538148_7538363     chr1   7538148   7538363 chr1_7538148_7538363    \n",
       "chr1_93196678_93196894   chr1  93196678  93196894 chr1_93196678_93196894  \n",
       "chr1_187577713_187577913 chr1 187577713 187577913 chr1_187577713_187577913\n",
       "chr1_53278065_53278265   chr1  53278065  53278265 chr1_53278065_53278265  \n",
       "chr1_177176832_177177032 chr1 177176832 177177032 chr1_177176832_177177032"
      ]
     },
     "metadata": {},
     "output_type": "display_data"
    }
   ],
   "source": [
    "peak_regions = read.table(\"../../analysis/20200206_pmat_snapATAC/sessions/20200520_n68916/peaks.overlap.smallpeaks.bed\")\n",
    "names(peak_regions) = c(\"chr\", \"bp1\", \"bp2\")\n",
    "peak_regions$site_name <- paste(peak_regions$chr, peak_regions$bp1, peak_regions$bp2, sep=\"_\")\n",
    "row.names(peak_regions) <- peak_regions$site_name\n",
    "dim(peak_regions)\n",
    "head(peak_regions)"
   ]
  },
  {
   "cell_type": "code",
   "execution_count": 10,
   "metadata": {},
   "outputs": [],
   "source": [
    "peak_regions_gr =  GRanges(sub(\"_\", \"-\", sub(\"_\", \":\", rownames(peak_regions))))"
   ]
  },
  {
   "cell_type": "code",
   "execution_count": 11,
   "metadata": {},
   "outputs": [
    {
     "data": {
      "text/html": [
       "537"
      ],
      "text/latex": [
       "537"
      ],
      "text/markdown": [
       "537"
      ],
      "text/plain": [
       "[1] 537"
      ]
     },
     "metadata": {},
     "output_type": "display_data"
    }
   ],
   "source": [
    "# check if reads at OCT promoter (none in initial version)\n",
    "sum(pmat[,subjectHits(findOverlaps(GRanges(c(\"chr6:31170549-31170836\")), peak_regions_gr))])"
   ]
  },
  {
   "cell_type": "code",
   "execution_count": 12,
   "metadata": {},
   "outputs": [],
   "source": [
    "pmatRowSums = Matrix::rowSums(pmat)"
   ]
  },
  {
   "cell_type": "markdown",
   "metadata": {},
   "source": [
    "### Cluster Aggregated Matrix"
   ]
  },
  {
   "cell_type": "code",
   "execution_count": 99,
   "metadata": {},
   "outputs": [],
   "source": [
    "# CAREFUL: reassigning clusters to their new cluster labels! \n",
    "# ensure cluster_config is in order\n",
    "new_cluster_per_cell = cluster_config$new_cluster[metaData$cluster]\n",
    "\n",
    "agg_matrix = sparseMatrix(i=new_cluster_per_cell,\n",
    "                         j=seq(1,nrow(pmat)),\n",
    "                         x=1L,\n",
    "                         dims=c(length(table(new_cluster_per_cell)), nrow(pmat)))"
   ]
  },
  {
   "cell_type": "code",
   "execution_count": 396,
   "metadata": {},
   "outputs": [
    {
     "data": {
      "text/html": [
       "<table>\n",
       "<caption>A matrix: 6 × 18 of type dbl</caption>\n",
       "<thead>\n",
       "\t<tr><th></th><th scope=col>cluster_1</th><th scope=col>cluster_2</th><th scope=col>cluster_3</th><th scope=col>cluster_4</th><th scope=col>cluster_5</th><th scope=col>cluster_6</th><th scope=col>cluster_7</th><th scope=col>cluster_8</th><th scope=col>cluster_9</th><th scope=col>cluster_10</th><th scope=col>cluster_11</th><th scope=col>cluster_12</th><th scope=col>cluster_13</th><th scope=col>cluster_14</th><th scope=col>cluster_15</th><th scope=col>cluster_16</th><th scope=col>cluster_17</th><th scope=col>cluster_18</th></tr>\n",
       "</thead>\n",
       "<tbody>\n",
       "\t<tr><th scope=row>chr1:97145604-97145864</th><td>103</td><td>145</td><td> 74</td><td>141</td><td>34</td><td>43</td><td>24</td><td>30</td><td> 14</td><td>73</td><td>79</td><td>74</td><td>20</td><td>33</td><td> 8</td><td>8</td><td>38</td><td>0</td></tr>\n",
       "\t<tr><th scope=row>chr1:7538148-7538363</th><td>193</td><td>233</td><td>151</td><td>314</td><td>19</td><td>78</td><td>29</td><td>34</td><td> 14</td><td>96</td><td>55</td><td>62</td><td>73</td><td>12</td><td>39</td><td>8</td><td>40</td><td>0</td></tr>\n",
       "\t<tr><th scope=row>chr1:93196678-93196894</th><td> 82</td><td> 67</td><td> 12</td><td> 23</td><td> 2</td><td> 5</td><td> 1</td><td>18</td><td>  1</td><td>12</td><td> 1</td><td>10</td><td> 4</td><td> 0</td><td> 3</td><td>1</td><td> 6</td><td>0</td></tr>\n",
       "\t<tr><th scope=row>chr1:187577713-187577913</th><td> 47</td><td> 31</td><td> 27</td><td>  7</td><td> 0</td><td> 1</td><td> 1</td><td> 5</td><td> 11</td><td>29</td><td>10</td><td>22</td><td>14</td><td> 0</td><td> 4</td><td>0</td><td> 6</td><td>0</td></tr>\n",
       "\t<tr><th scope=row>chr1:53278065-53278265</th><td> 51</td><td> 26</td><td> 40</td><td> 58</td><td> 3</td><td>24</td><td>16</td><td>12</td><td> 12</td><td>37</td><td>25</td><td>47</td><td>35</td><td> 5</td><td>11</td><td>5</td><td>12</td><td>0</td></tr>\n",
       "\t<tr><th scope=row>chr1:177176832-177177032</th><td> 10</td><td>  4</td><td>  3</td><td> 11</td><td> 3</td><td> 0</td><td>12</td><td>59</td><td>118</td><td>45</td><td> 6</td><td>73</td><td>21</td><td> 0</td><td> 4</td><td>2</td><td> 5</td><td>0</td></tr>\n",
       "</tbody>\n",
       "</table>\n"
      ],
      "text/latex": [
       "A matrix: 6 × 18 of type dbl\n",
       "\\begin{tabular}{r|llllllllllllllllll}\n",
       "  & cluster\\_1 & cluster\\_2 & cluster\\_3 & cluster\\_4 & cluster\\_5 & cluster\\_6 & cluster\\_7 & cluster\\_8 & cluster\\_9 & cluster\\_10 & cluster\\_11 & cluster\\_12 & cluster\\_13 & cluster\\_14 & cluster\\_15 & cluster\\_16 & cluster\\_17 & cluster\\_18\\\\\n",
       "\\hline\n",
       "\tchr1:97145604-97145864 & 103 & 145 &  74 & 141 & 34 & 43 & 24 & 30 &  14 & 73 & 79 & 74 & 20 & 33 &  8 & 8 & 38 & 0\\\\\n",
       "\tchr1:7538148-7538363 & 193 & 233 & 151 & 314 & 19 & 78 & 29 & 34 &  14 & 96 & 55 & 62 & 73 & 12 & 39 & 8 & 40 & 0\\\\\n",
       "\tchr1:93196678-93196894 &  82 &  67 &  12 &  23 &  2 &  5 &  1 & 18 &   1 & 12 &  1 & 10 &  4 &  0 &  3 & 1 &  6 & 0\\\\\n",
       "\tchr1:187577713-187577913 &  47 &  31 &  27 &   7 &  0 &  1 &  1 &  5 &  11 & 29 & 10 & 22 & 14 &  0 &  4 & 0 &  6 & 0\\\\\n",
       "\tchr1:53278065-53278265 &  51 &  26 &  40 &  58 &  3 & 24 & 16 & 12 &  12 & 37 & 25 & 47 & 35 &  5 & 11 & 5 & 12 & 0\\\\\n",
       "\tchr1:177176832-177177032 &  10 &   4 &   3 &  11 &  3 &  0 & 12 & 59 & 118 & 45 &  6 & 73 & 21 &  0 &  4 & 2 &  5 & 0\\\\\n",
       "\\end{tabular}\n"
      ],
      "text/markdown": [
       "\n",
       "A matrix: 6 × 18 of type dbl\n",
       "\n",
       "| <!--/--> | cluster_1 | cluster_2 | cluster_3 | cluster_4 | cluster_5 | cluster_6 | cluster_7 | cluster_8 | cluster_9 | cluster_10 | cluster_11 | cluster_12 | cluster_13 | cluster_14 | cluster_15 | cluster_16 | cluster_17 | cluster_18 |\n",
       "|---|---|---|---|---|---|---|---|---|---|---|---|---|---|---|---|---|---|---|\n",
       "| chr1:97145604-97145864 | 103 | 145 |  74 | 141 | 34 | 43 | 24 | 30 |  14 | 73 | 79 | 74 | 20 | 33 |  8 | 8 | 38 | 0 |\n",
       "| chr1:7538148-7538363 | 193 | 233 | 151 | 314 | 19 | 78 | 29 | 34 |  14 | 96 | 55 | 62 | 73 | 12 | 39 | 8 | 40 | 0 |\n",
       "| chr1:93196678-93196894 |  82 |  67 |  12 |  23 |  2 |  5 |  1 | 18 |   1 | 12 |  1 | 10 |  4 |  0 |  3 | 1 |  6 | 0 |\n",
       "| chr1:187577713-187577913 |  47 |  31 |  27 |   7 |  0 |  1 |  1 |  5 |  11 | 29 | 10 | 22 | 14 |  0 |  4 | 0 |  6 | 0 |\n",
       "| chr1:53278065-53278265 |  51 |  26 |  40 |  58 |  3 | 24 | 16 | 12 |  12 | 37 | 25 | 47 | 35 |  5 | 11 | 5 | 12 | 0 |\n",
       "| chr1:177176832-177177032 |  10 |   4 |   3 |  11 |  3 |  0 | 12 | 59 | 118 | 45 |  6 | 73 | 21 |  0 |  4 | 2 |  5 | 0 |\n",
       "\n"
      ],
      "text/plain": [
       "                         cluster_1 cluster_2 cluster_3 cluster_4 cluster_5\n",
       "chr1:97145604-97145864   103       145        74       141       34       \n",
       "chr1:7538148-7538363     193       233       151       314       19       \n",
       "chr1:93196678-93196894    82        67        12        23        2       \n",
       "chr1:187577713-187577913  47        31        27         7        0       \n",
       "chr1:53278065-53278265    51        26        40        58        3       \n",
       "chr1:177176832-177177032  10         4         3        11        3       \n",
       "                         cluster_6 cluster_7 cluster_8 cluster_9 cluster_10\n",
       "chr1:97145604-97145864   43        24        30         14       73        \n",
       "chr1:7538148-7538363     78        29        34         14       96        \n",
       "chr1:93196678-93196894    5         1        18          1       12        \n",
       "chr1:187577713-187577913  1         1         5         11       29        \n",
       "chr1:53278065-53278265   24        16        12         12       37        \n",
       "chr1:177176832-177177032  0        12        59        118       45        \n",
       "                         cluster_11 cluster_12 cluster_13 cluster_14 cluster_15\n",
       "chr1:97145604-97145864   79         74         20         33          8        \n",
       "chr1:7538148-7538363     55         62         73         12         39        \n",
       "chr1:93196678-93196894    1         10          4          0          3        \n",
       "chr1:187577713-187577913 10         22         14          0          4        \n",
       "chr1:53278065-53278265   25         47         35          5         11        \n",
       "chr1:177176832-177177032  6         73         21          0          4        \n",
       "                         cluster_16 cluster_17 cluster_18\n",
       "chr1:97145604-97145864   8          38         0         \n",
       "chr1:7538148-7538363     8          40         0         \n",
       "chr1:93196678-93196894   1           6         0         \n",
       "chr1:187577713-187577913 0           6         0         \n",
       "chr1:53278065-53278265   5          12         0         \n",
       "chr1:177176832-177177032 2           5         0         "
      ]
     },
     "metadata": {},
     "output_type": "display_data"
    },
    {
     "data": {
      "text/html": [
       "<style>\n",
       ".list-inline {list-style: none; margin:0; padding: 0}\n",
       ".list-inline>li {display: inline-block}\n",
       ".list-inline>li:not(:last-child)::after {content: \"\\00b7\"; padding: 0 .5ex}\n",
       "</style>\n",
       "<ol class=list-inline><li>803958</li><li>18</li></ol>\n"
      ],
      "text/latex": [
       "\\begin{enumerate*}\n",
       "\\item 803958\n",
       "\\item 18\n",
       "\\end{enumerate*}\n"
      ],
      "text/markdown": [
       "1. 803958\n",
       "2. 18\n",
       "\n",
       "\n"
      ],
      "text/plain": [
       "[1] 803958     18"
      ]
     },
     "metadata": {},
     "output_type": "display_data"
    }
   ],
   "source": [
    "cts = as.matrix(agg_matrix %*% pmat)\n",
    "colnames(cts) = sub(\"_\", \"-\", sub(\"_\", \":\", rownames(peak_regions)))\n",
    "rownames(cts) = paste(\"cluster\", seq(1,nrow(cts)), sep=\"_\")\n",
    "cts = t(cts)\n",
    "head(cts)\n",
    "dim(cts)"
   ]
  },
  {
   "cell_type": "code",
   "execution_count": 397,
   "metadata": {},
   "outputs": [],
   "source": [
    "# removing cluster_18 (iPSC) for now since it has very few cells\n",
    "cts = cts[,1:17]"
   ]
  },
  {
   "cell_type": "code",
   "execution_count": 398,
   "metadata": {},
   "outputs": [
    {
     "data": {
      "text/html": [
       "157610"
      ],
      "text/latex": [
       "157610"
      ],
      "text/markdown": [
       "157610"
      ],
      "text/plain": [
       "[1] 157610"
      ]
     },
     "metadata": {},
     "output_type": "display_data"
    }
   ],
   "source": [
    "sum(rowSums(cts<10)==0)"
   ]
  },
  {
   "cell_type": "code",
   "execution_count": 399,
   "metadata": {},
   "outputs": [],
   "source": [
    "norm_cts = t(t(cts)/estimateSizeFactorsForMatrix(cts[rowSums(cts<10)==0, ]))"
   ]
  },
  {
   "cell_type": "code",
   "execution_count": 400,
   "metadata": {},
   "outputs": [],
   "source": [
    "# bin length normalized\n",
    "binnorm_log_cts = log2(1+200*(norm_cts/width(GRanges(rownames(norm_cts)))))"
   ]
  },
  {
   "cell_type": "code",
   "execution_count": 401,
   "metadata": {},
   "outputs": [
    {
     "data": {
      "text/html": [
       "<table>\n",
       "<caption>A matrix: 6 × 17 of type dbl</caption>\n",
       "<thead>\n",
       "\t<tr><th></th><th scope=col>cluster_1</th><th scope=col>cluster_2</th><th scope=col>cluster_3</th><th scope=col>cluster_4</th><th scope=col>cluster_5</th><th scope=col>cluster_6</th><th scope=col>cluster_7</th><th scope=col>cluster_8</th><th scope=col>cluster_9</th><th scope=col>cluster_10</th><th scope=col>cluster_11</th><th scope=col>cluster_12</th><th scope=col>cluster_13</th><th scope=col>cluster_14</th><th scope=col>cluster_15</th><th scope=col>cluster_16</th><th scope=col>cluster_17</th></tr>\n",
       "</thead>\n",
       "<tbody>\n",
       "\t<tr><th scope=row>chr1:97145604-97145864</th><td>5.246563</td><td>6.103949</td><td>5.142254</td><td>5.762659</td><td>6.605542</td><td>5.175388</td><td>4.979347</td><td>4.772335</td><td>4.099198</td><td>5.031476</td><td>6.0159274</td><td>4.647093</td><td>3.466929</td><td>5.804131</td><td>2.796274</td><td>3.973818</td><td>5.061117</td></tr>\n",
       "\t<tr><th scope=row>chr1:7538148-7538363</th><td>6.404163</td><td>7.051036</td><td>6.419734</td><td>7.173951</td><td>6.046133</td><td>6.285670</td><td>5.510901</td><td>5.211614</td><td>4.357630</td><td>5.683187</td><td>5.7707261</td><td>4.664150</td><td>5.503252</td><td>4.650290</td><td>5.171057</td><td>4.230918</td><td>5.398868</td></tr>\n",
       "\t<tr><th scope=row>chr1:93196678-93196894</th><td>5.185653</td><td>5.273154</td><td>2.943568</td><td>3.517980</td><td>2.966969</td><td>2.564153</td><td>1.339581</td><td>4.321943</td><td>1.254907</td><td>2.861700</td><td>0.9781839</td><td>2.295719</td><td>1.773708</td><td>0.000000</td><td>1.880515</td><td>1.683437</td><td>2.837983</td></tr>\n",
       "\t<tr><th scope=row>chr1:187577713-187577913</th><td>4.517405</td><td>4.308664</td><td>4.109216</td><td>2.149078</td><td>0.000000</td><td>1.043379</td><td>1.407424</td><td>2.743722</td><td>4.126457</td><td>4.117305</td><td>3.5200407</td><td>3.362709</td><td>3.342221</td><td>0.000000</td><td>2.281179</td><td>0.000000</td><td>2.933528</td></tr>\n",
       "\t<tr><th scope=row>chr1:53278065-53278265</th><td>4.630292</td><td>4.068840</td><td>4.648829</td><td>4.880935</td><td>3.590072</td><td>4.726024</td><td>4.778318</td><td>3.875300</td><td>4.245088</td><td>4.450691</td><td>4.7644690</td><td>4.381268</td><td>4.576167</td><td>3.560263</td><td>3.538173</td><td>3.693763</td><td>3.835877</td></tr>\n",
       "\t<tr><th scope=row>chr1:177176832-177177032</th><td>2.500805</td><td>1.777365</td><td>1.488759</td><td>2.677745</td><td>3.590072</td><td>0.000000</td><td>4.380699</td><td>6.092460</td><td>7.472753</td><td>4.721314</td><td>2.8645684</td><td>4.991634</td><td>3.878968</td><td>0.000000</td><td>2.281179</td><td>2.530069</td><td>2.707776</td></tr>\n",
       "</tbody>\n",
       "</table>\n"
      ],
      "text/latex": [
       "A matrix: 6 × 17 of type dbl\n",
       "\\begin{tabular}{r|lllllllllllllllll}\n",
       "  & cluster\\_1 & cluster\\_2 & cluster\\_3 & cluster\\_4 & cluster\\_5 & cluster\\_6 & cluster\\_7 & cluster\\_8 & cluster\\_9 & cluster\\_10 & cluster\\_11 & cluster\\_12 & cluster\\_13 & cluster\\_14 & cluster\\_15 & cluster\\_16 & cluster\\_17\\\\\n",
       "\\hline\n",
       "\tchr1:97145604-97145864 & 5.246563 & 6.103949 & 5.142254 & 5.762659 & 6.605542 & 5.175388 & 4.979347 & 4.772335 & 4.099198 & 5.031476 & 6.0159274 & 4.647093 & 3.466929 & 5.804131 & 2.796274 & 3.973818 & 5.061117\\\\\n",
       "\tchr1:7538148-7538363 & 6.404163 & 7.051036 & 6.419734 & 7.173951 & 6.046133 & 6.285670 & 5.510901 & 5.211614 & 4.357630 & 5.683187 & 5.7707261 & 4.664150 & 5.503252 & 4.650290 & 5.171057 & 4.230918 & 5.398868\\\\\n",
       "\tchr1:93196678-93196894 & 5.185653 & 5.273154 & 2.943568 & 3.517980 & 2.966969 & 2.564153 & 1.339581 & 4.321943 & 1.254907 & 2.861700 & 0.9781839 & 2.295719 & 1.773708 & 0.000000 & 1.880515 & 1.683437 & 2.837983\\\\\n",
       "\tchr1:187577713-187577913 & 4.517405 & 4.308664 & 4.109216 & 2.149078 & 0.000000 & 1.043379 & 1.407424 & 2.743722 & 4.126457 & 4.117305 & 3.5200407 & 3.362709 & 3.342221 & 0.000000 & 2.281179 & 0.000000 & 2.933528\\\\\n",
       "\tchr1:53278065-53278265 & 4.630292 & 4.068840 & 4.648829 & 4.880935 & 3.590072 & 4.726024 & 4.778318 & 3.875300 & 4.245088 & 4.450691 & 4.7644690 & 4.381268 & 4.576167 & 3.560263 & 3.538173 & 3.693763 & 3.835877\\\\\n",
       "\tchr1:177176832-177177032 & 2.500805 & 1.777365 & 1.488759 & 2.677745 & 3.590072 & 0.000000 & 4.380699 & 6.092460 & 7.472753 & 4.721314 & 2.8645684 & 4.991634 & 3.878968 & 0.000000 & 2.281179 & 2.530069 & 2.707776\\\\\n",
       "\\end{tabular}\n"
      ],
      "text/markdown": [
       "\n",
       "A matrix: 6 × 17 of type dbl\n",
       "\n",
       "| <!--/--> | cluster_1 | cluster_2 | cluster_3 | cluster_4 | cluster_5 | cluster_6 | cluster_7 | cluster_8 | cluster_9 | cluster_10 | cluster_11 | cluster_12 | cluster_13 | cluster_14 | cluster_15 | cluster_16 | cluster_17 |\n",
       "|---|---|---|---|---|---|---|---|---|---|---|---|---|---|---|---|---|---|\n",
       "| chr1:97145604-97145864 | 5.246563 | 6.103949 | 5.142254 | 5.762659 | 6.605542 | 5.175388 | 4.979347 | 4.772335 | 4.099198 | 5.031476 | 6.0159274 | 4.647093 | 3.466929 | 5.804131 | 2.796274 | 3.973818 | 5.061117 |\n",
       "| chr1:7538148-7538363 | 6.404163 | 7.051036 | 6.419734 | 7.173951 | 6.046133 | 6.285670 | 5.510901 | 5.211614 | 4.357630 | 5.683187 | 5.7707261 | 4.664150 | 5.503252 | 4.650290 | 5.171057 | 4.230918 | 5.398868 |\n",
       "| chr1:93196678-93196894 | 5.185653 | 5.273154 | 2.943568 | 3.517980 | 2.966969 | 2.564153 | 1.339581 | 4.321943 | 1.254907 | 2.861700 | 0.9781839 | 2.295719 | 1.773708 | 0.000000 | 1.880515 | 1.683437 | 2.837983 |\n",
       "| chr1:187577713-187577913 | 4.517405 | 4.308664 | 4.109216 | 2.149078 | 0.000000 | 1.043379 | 1.407424 | 2.743722 | 4.126457 | 4.117305 | 3.5200407 | 3.362709 | 3.342221 | 0.000000 | 2.281179 | 0.000000 | 2.933528 |\n",
       "| chr1:53278065-53278265 | 4.630292 | 4.068840 | 4.648829 | 4.880935 | 3.590072 | 4.726024 | 4.778318 | 3.875300 | 4.245088 | 4.450691 | 4.7644690 | 4.381268 | 4.576167 | 3.560263 | 3.538173 | 3.693763 | 3.835877 |\n",
       "| chr1:177176832-177177032 | 2.500805 | 1.777365 | 1.488759 | 2.677745 | 3.590072 | 0.000000 | 4.380699 | 6.092460 | 7.472753 | 4.721314 | 2.8645684 | 4.991634 | 3.878968 | 0.000000 | 2.281179 | 2.530069 | 2.707776 |\n",
       "\n"
      ],
      "text/plain": [
       "                         cluster_1 cluster_2 cluster_3 cluster_4 cluster_5\n",
       "chr1:97145604-97145864   5.246563  6.103949  5.142254  5.762659  6.605542 \n",
       "chr1:7538148-7538363     6.404163  7.051036  6.419734  7.173951  6.046133 \n",
       "chr1:93196678-93196894   5.185653  5.273154  2.943568  3.517980  2.966969 \n",
       "chr1:187577713-187577913 4.517405  4.308664  4.109216  2.149078  0.000000 \n",
       "chr1:53278065-53278265   4.630292  4.068840  4.648829  4.880935  3.590072 \n",
       "chr1:177176832-177177032 2.500805  1.777365  1.488759  2.677745  3.590072 \n",
       "                         cluster_6 cluster_7 cluster_8 cluster_9 cluster_10\n",
       "chr1:97145604-97145864   5.175388  4.979347  4.772335  4.099198  5.031476  \n",
       "chr1:7538148-7538363     6.285670  5.510901  5.211614  4.357630  5.683187  \n",
       "chr1:93196678-93196894   2.564153  1.339581  4.321943  1.254907  2.861700  \n",
       "chr1:187577713-187577913 1.043379  1.407424  2.743722  4.126457  4.117305  \n",
       "chr1:53278065-53278265   4.726024  4.778318  3.875300  4.245088  4.450691  \n",
       "chr1:177176832-177177032 0.000000  4.380699  6.092460  7.472753  4.721314  \n",
       "                         cluster_11 cluster_12 cluster_13 cluster_14 cluster_15\n",
       "chr1:97145604-97145864   6.0159274  4.647093   3.466929   5.804131   2.796274  \n",
       "chr1:7538148-7538363     5.7707261  4.664150   5.503252   4.650290   5.171057  \n",
       "chr1:93196678-93196894   0.9781839  2.295719   1.773708   0.000000   1.880515  \n",
       "chr1:187577713-187577913 3.5200407  3.362709   3.342221   0.000000   2.281179  \n",
       "chr1:53278065-53278265   4.7644690  4.381268   4.576167   3.560263   3.538173  \n",
       "chr1:177176832-177177032 2.8645684  4.991634   3.878968   0.000000   2.281179  \n",
       "                         cluster_16 cluster_17\n",
       "chr1:97145604-97145864   3.973818   5.061117  \n",
       "chr1:7538148-7538363     4.230918   5.398868  \n",
       "chr1:93196678-93196894   1.683437   2.837983  \n",
       "chr1:187577713-187577913 0.000000   2.933528  \n",
       "chr1:53278065-53278265   3.693763   3.835877  \n",
       "chr1:177176832-177177032 2.530069   2.707776  "
      ]
     },
     "metadata": {},
     "output_type": "display_data"
    }
   ],
   "source": [
    "head(binnorm_log_cts)"
   ]
  },
  {
   "cell_type": "markdown",
   "metadata": {},
   "source": [
    "### Peak Sets"
   ]
  },
  {
   "cell_type": "code",
   "execution_count": 13,
   "metadata": {},
   "outputs": [
    {
     "data": {
      "text/html": [
       "<style>\n",
       ".list-inline {list-style: none; margin:0; padding: 0}\n",
       ".list-inline>li {display: inline-block}\n",
       ".list-inline>li:not(:last-child)::after {content: \"\\00b7\"; padding: 0 .5ex}\n",
       "</style>\n",
       "<ol class=list-inline><li>'all_peaks.bed'</li><li>'idx1.bed'</li><li>'idx10.bed'</li><li>'idx11.bed'</li><li>'idx12.bed'</li><li>'idx13.bed'</li><li>'idx14.bed'</li><li>'idx15.bed'</li><li>'idx16.bed'</li><li>'idx17.bed'</li><li>'idx18.bed'</li><li>'idx19.bed'</li><li>'idx2.bed'</li><li>'idx20.bed'</li><li>'idx21.bed'</li><li>'idx22.bed'</li><li>'idx23.bed'</li><li>'idx24.bed'</li><li>'idx25.bed'</li><li>'idx26.bed'</li><li>'idx27.bed'</li><li>'idx28.bed'</li><li>'idx29.bed'</li><li>'idx3.bed'</li><li>'idx30.bed'</li><li>'idx31.bed'</li><li>'idx32.bed'</li><li>'idx33.bed'</li><li>'idx34.bed'</li><li>'idx35.bed'</li><li>'idx36.bed'</li><li>'idx37.bed'</li><li>'idx38.bed'</li><li>'idx39.bed'</li><li>'idx4.bed'</li><li>'idx40.bed'</li><li>'idx5.bed'</li><li>'idx6.bed'</li><li>'idx7.bed'</li><li>'idx8.bed'</li><li>'idx9.bed'</li></ol>\n"
      ],
      "text/latex": [
       "\\begin{enumerate*}\n",
       "\\item 'all\\_peaks.bed'\n",
       "\\item 'idx1.bed'\n",
       "\\item 'idx10.bed'\n",
       "\\item 'idx11.bed'\n",
       "\\item 'idx12.bed'\n",
       "\\item 'idx13.bed'\n",
       "\\item 'idx14.bed'\n",
       "\\item 'idx15.bed'\n",
       "\\item 'idx16.bed'\n",
       "\\item 'idx17.bed'\n",
       "\\item 'idx18.bed'\n",
       "\\item 'idx19.bed'\n",
       "\\item 'idx2.bed'\n",
       "\\item 'idx20.bed'\n",
       "\\item 'idx21.bed'\n",
       "\\item 'idx22.bed'\n",
       "\\item 'idx23.bed'\n",
       "\\item 'idx24.bed'\n",
       "\\item 'idx25.bed'\n",
       "\\item 'idx26.bed'\n",
       "\\item 'idx27.bed'\n",
       "\\item 'idx28.bed'\n",
       "\\item 'idx29.bed'\n",
       "\\item 'idx3.bed'\n",
       "\\item 'idx30.bed'\n",
       "\\item 'idx31.bed'\n",
       "\\item 'idx32.bed'\n",
       "\\item 'idx33.bed'\n",
       "\\item 'idx34.bed'\n",
       "\\item 'idx35.bed'\n",
       "\\item 'idx36.bed'\n",
       "\\item 'idx37.bed'\n",
       "\\item 'idx38.bed'\n",
       "\\item 'idx39.bed'\n",
       "\\item 'idx4.bed'\n",
       "\\item 'idx40.bed'\n",
       "\\item 'idx5.bed'\n",
       "\\item 'idx6.bed'\n",
       "\\item 'idx7.bed'\n",
       "\\item 'idx8.bed'\n",
       "\\item 'idx9.bed'\n",
       "\\end{enumerate*}\n"
      ],
      "text/markdown": [
       "1. 'all_peaks.bed'\n",
       "2. 'idx1.bed'\n",
       "3. 'idx10.bed'\n",
       "4. 'idx11.bed'\n",
       "5. 'idx12.bed'\n",
       "6. 'idx13.bed'\n",
       "7. 'idx14.bed'\n",
       "8. 'idx15.bed'\n",
       "9. 'idx16.bed'\n",
       "10. 'idx17.bed'\n",
       "11. 'idx18.bed'\n",
       "12. 'idx19.bed'\n",
       "13. 'idx2.bed'\n",
       "14. 'idx20.bed'\n",
       "15. 'idx21.bed'\n",
       "16. 'idx22.bed'\n",
       "17. 'idx23.bed'\n",
       "18. 'idx24.bed'\n",
       "19. 'idx25.bed'\n",
       "20. 'idx26.bed'\n",
       "21. 'idx27.bed'\n",
       "22. 'idx28.bed'\n",
       "23. 'idx29.bed'\n",
       "24. 'idx3.bed'\n",
       "25. 'idx30.bed'\n",
       "26. 'idx31.bed'\n",
       "27. 'idx32.bed'\n",
       "28. 'idx33.bed'\n",
       "29. 'idx34.bed'\n",
       "30. 'idx35.bed'\n",
       "31. 'idx36.bed'\n",
       "32. 'idx37.bed'\n",
       "33. 'idx38.bed'\n",
       "34. 'idx39.bed'\n",
       "35. 'idx4.bed'\n",
       "36. 'idx40.bed'\n",
       "37. 'idx5.bed'\n",
       "38. 'idx6.bed'\n",
       "39. 'idx7.bed'\n",
       "40. 'idx8.bed'\n",
       "41. 'idx9.bed'\n",
       "\n",
       "\n"
      ],
      "text/plain": [
       " [1] \"all_peaks.bed\" \"idx1.bed\"      \"idx10.bed\"     \"idx11.bed\"    \n",
       " [5] \"idx12.bed\"     \"idx13.bed\"     \"idx14.bed\"     \"idx15.bed\"    \n",
       " [9] \"idx16.bed\"     \"idx17.bed\"     \"idx18.bed\"     \"idx19.bed\"    \n",
       "[13] \"idx2.bed\"      \"idx20.bed\"     \"idx21.bed\"     \"idx22.bed\"    \n",
       "[17] \"idx23.bed\"     \"idx24.bed\"     \"idx25.bed\"     \"idx26.bed\"    \n",
       "[21] \"idx27.bed\"     \"idx28.bed\"     \"idx29.bed\"     \"idx3.bed\"     \n",
       "[25] \"idx30.bed\"     \"idx31.bed\"     \"idx32.bed\"     \"idx33.bed\"    \n",
       "[29] \"idx34.bed\"     \"idx35.bed\"     \"idx36.bed\"     \"idx37.bed\"    \n",
       "[33] \"idx38.bed\"     \"idx39.bed\"     \"idx4.bed\"      \"idx40.bed\"    \n",
       "[37] \"idx5.bed\"      \"idx6.bed\"      \"idx7.bed\"      \"idx8.bed\"     \n",
       "[41] \"idx9.bed\"     "
      ]
     },
     "metadata": {},
     "output_type": "display_data"
    }
   ],
   "source": [
    "BASE_PATH = \"../../analysis/20200307_fine_clustering/beds/20200602_gridmap_peakwidthnorm_logplusznorm_n40/\"\n",
    "list.files(BASE_PATH)"
   ]
  },
  {
   "cell_type": "code",
   "execution_count": 14,
   "metadata": {},
   "outputs": [
    {
     "data": {
      "text/html": [
       "40"
      ],
      "text/latex": [
       "40"
      ],
      "text/markdown": [
       "40"
      ],
      "text/plain": [
       "[1] 40"
      ]
     },
     "metadata": {},
     "output_type": "display_data"
    },
    {
     "data": {
      "text/html": [
       "40"
      ],
      "text/latex": [
       "40"
      ],
      "text/markdown": [
       "40"
      ],
      "text/plain": [
       "[1] 40"
      ]
     },
     "metadata": {},
     "output_type": "display_data"
    }
   ],
   "source": [
    "PEAK_SET_BEDS = list.files(BASE_PATH, \n",
    "                           full.names=T,\n",
    "                          pattern=\"*idx*\")\n",
    "PEAK_SET_NAMES = sub(\".bed\", \"\", list.files(BASE_PATH, \n",
    "                          pattern=\"*idx*\"))\n",
    "length(PEAK_SET_BEDS)\n",
    "length(PEAK_SET_NAMES)"
   ]
  },
  {
   "cell_type": "code",
   "execution_count": 791,
   "metadata": {},
   "outputs": [
    {
     "data": {
      "text/html": [
       "<style>\n",
       ".list-inline {list-style: none; margin:0; padding: 0}\n",
       ".list-inline>li {display: inline-block}\n",
       ".list-inline>li:not(:last-child)::after {content: \"\\00b7\"; padding: 0 .5ex}\n",
       "</style>\n",
       "<ol class=list-inline><li>'../20200307_fine_clustering/beds/20200602_gridmap_peakwidthnorm_logplusznorm_n40//idx1.bed'</li><li>'../20200307_fine_clustering/beds/20200602_gridmap_peakwidthnorm_logplusznorm_n40//idx2.bed'</li><li>'../20200307_fine_clustering/beds/20200602_gridmap_peakwidthnorm_logplusznorm_n40//idx3.bed'</li><li>'../20200307_fine_clustering/beds/20200602_gridmap_peakwidthnorm_logplusznorm_n40//idx4.bed'</li><li>'../20200307_fine_clustering/beds/20200602_gridmap_peakwidthnorm_logplusznorm_n40//idx5.bed'</li><li>'../20200307_fine_clustering/beds/20200602_gridmap_peakwidthnorm_logplusznorm_n40//idx6.bed'</li><li>'../20200307_fine_clustering/beds/20200602_gridmap_peakwidthnorm_logplusznorm_n40//idx7.bed'</li><li>'../20200307_fine_clustering/beds/20200602_gridmap_peakwidthnorm_logplusznorm_n40//idx8.bed'</li><li>'../20200307_fine_clustering/beds/20200602_gridmap_peakwidthnorm_logplusznorm_n40//idx9.bed'</li><li>'../20200307_fine_clustering/beds/20200602_gridmap_peakwidthnorm_logplusznorm_n40//idx10.bed'</li><li>'../20200307_fine_clustering/beds/20200602_gridmap_peakwidthnorm_logplusznorm_n40//idx11.bed'</li><li>'../20200307_fine_clustering/beds/20200602_gridmap_peakwidthnorm_logplusznorm_n40//idx12.bed'</li><li>'../20200307_fine_clustering/beds/20200602_gridmap_peakwidthnorm_logplusznorm_n40//idx13.bed'</li><li>'../20200307_fine_clustering/beds/20200602_gridmap_peakwidthnorm_logplusznorm_n40//idx14.bed'</li><li>'../20200307_fine_clustering/beds/20200602_gridmap_peakwidthnorm_logplusznorm_n40//idx15.bed'</li><li>'../20200307_fine_clustering/beds/20200602_gridmap_peakwidthnorm_logplusznorm_n40//idx16.bed'</li><li>'../20200307_fine_clustering/beds/20200602_gridmap_peakwidthnorm_logplusznorm_n40//idx17.bed'</li><li>'../20200307_fine_clustering/beds/20200602_gridmap_peakwidthnorm_logplusznorm_n40//idx18.bed'</li><li>'../20200307_fine_clustering/beds/20200602_gridmap_peakwidthnorm_logplusznorm_n40//idx19.bed'</li><li>'../20200307_fine_clustering/beds/20200602_gridmap_peakwidthnorm_logplusznorm_n40//idx20.bed'</li><li>'../20200307_fine_clustering/beds/20200602_gridmap_peakwidthnorm_logplusznorm_n40//idx21.bed'</li><li>'../20200307_fine_clustering/beds/20200602_gridmap_peakwidthnorm_logplusznorm_n40//idx22.bed'</li><li>'../20200307_fine_clustering/beds/20200602_gridmap_peakwidthnorm_logplusznorm_n40//idx23.bed'</li><li>'../20200307_fine_clustering/beds/20200602_gridmap_peakwidthnorm_logplusznorm_n40//idx24.bed'</li><li>'../20200307_fine_clustering/beds/20200602_gridmap_peakwidthnorm_logplusznorm_n40//idx25.bed'</li><li>'../20200307_fine_clustering/beds/20200602_gridmap_peakwidthnorm_logplusznorm_n40//idx26.bed'</li><li>'../20200307_fine_clustering/beds/20200602_gridmap_peakwidthnorm_logplusznorm_n40//idx27.bed'</li><li>'../20200307_fine_clustering/beds/20200602_gridmap_peakwidthnorm_logplusznorm_n40//idx28.bed'</li><li>'../20200307_fine_clustering/beds/20200602_gridmap_peakwidthnorm_logplusznorm_n40//idx29.bed'</li><li>'../20200307_fine_clustering/beds/20200602_gridmap_peakwidthnorm_logplusznorm_n40//idx30.bed'</li><li>'../20200307_fine_clustering/beds/20200602_gridmap_peakwidthnorm_logplusznorm_n40//idx31.bed'</li><li>'../20200307_fine_clustering/beds/20200602_gridmap_peakwidthnorm_logplusznorm_n40//idx32.bed'</li><li>'../20200307_fine_clustering/beds/20200602_gridmap_peakwidthnorm_logplusznorm_n40//idx33.bed'</li><li>'../20200307_fine_clustering/beds/20200602_gridmap_peakwidthnorm_logplusznorm_n40//idx34.bed'</li><li>'../20200307_fine_clustering/beds/20200602_gridmap_peakwidthnorm_logplusznorm_n40//idx35.bed'</li><li>'../20200307_fine_clustering/beds/20200602_gridmap_peakwidthnorm_logplusznorm_n40//idx36.bed'</li><li>'../20200307_fine_clustering/beds/20200602_gridmap_peakwidthnorm_logplusznorm_n40//idx37.bed'</li><li>'../20200307_fine_clustering/beds/20200602_gridmap_peakwidthnorm_logplusznorm_n40//idx38.bed'</li><li>'../20200307_fine_clustering/beds/20200602_gridmap_peakwidthnorm_logplusznorm_n40//idx39.bed'</li><li>'../20200307_fine_clustering/beds/20200602_gridmap_peakwidthnorm_logplusznorm_n40//idx40.bed'</li></ol>\n"
      ],
      "text/latex": [
       "\\begin{enumerate*}\n",
       "\\item '../20200307\\_fine\\_clustering/beds/20200602\\_gridmap\\_peakwidthnorm\\_logplusznorm\\_n40//idx1.bed'\n",
       "\\item '../20200307\\_fine\\_clustering/beds/20200602\\_gridmap\\_peakwidthnorm\\_logplusznorm\\_n40//idx2.bed'\n",
       "\\item '../20200307\\_fine\\_clustering/beds/20200602\\_gridmap\\_peakwidthnorm\\_logplusznorm\\_n40//idx3.bed'\n",
       "\\item '../20200307\\_fine\\_clustering/beds/20200602\\_gridmap\\_peakwidthnorm\\_logplusznorm\\_n40//idx4.bed'\n",
       "\\item '../20200307\\_fine\\_clustering/beds/20200602\\_gridmap\\_peakwidthnorm\\_logplusznorm\\_n40//idx5.bed'\n",
       "\\item '../20200307\\_fine\\_clustering/beds/20200602\\_gridmap\\_peakwidthnorm\\_logplusznorm\\_n40//idx6.bed'\n",
       "\\item '../20200307\\_fine\\_clustering/beds/20200602\\_gridmap\\_peakwidthnorm\\_logplusznorm\\_n40//idx7.bed'\n",
       "\\item '../20200307\\_fine\\_clustering/beds/20200602\\_gridmap\\_peakwidthnorm\\_logplusznorm\\_n40//idx8.bed'\n",
       "\\item '../20200307\\_fine\\_clustering/beds/20200602\\_gridmap\\_peakwidthnorm\\_logplusznorm\\_n40//idx9.bed'\n",
       "\\item '../20200307\\_fine\\_clustering/beds/20200602\\_gridmap\\_peakwidthnorm\\_logplusznorm\\_n40//idx10.bed'\n",
       "\\item '../20200307\\_fine\\_clustering/beds/20200602\\_gridmap\\_peakwidthnorm\\_logplusznorm\\_n40//idx11.bed'\n",
       "\\item '../20200307\\_fine\\_clustering/beds/20200602\\_gridmap\\_peakwidthnorm\\_logplusznorm\\_n40//idx12.bed'\n",
       "\\item '../20200307\\_fine\\_clustering/beds/20200602\\_gridmap\\_peakwidthnorm\\_logplusznorm\\_n40//idx13.bed'\n",
       "\\item '../20200307\\_fine\\_clustering/beds/20200602\\_gridmap\\_peakwidthnorm\\_logplusznorm\\_n40//idx14.bed'\n",
       "\\item '../20200307\\_fine\\_clustering/beds/20200602\\_gridmap\\_peakwidthnorm\\_logplusznorm\\_n40//idx15.bed'\n",
       "\\item '../20200307\\_fine\\_clustering/beds/20200602\\_gridmap\\_peakwidthnorm\\_logplusznorm\\_n40//idx16.bed'\n",
       "\\item '../20200307\\_fine\\_clustering/beds/20200602\\_gridmap\\_peakwidthnorm\\_logplusznorm\\_n40//idx17.bed'\n",
       "\\item '../20200307\\_fine\\_clustering/beds/20200602\\_gridmap\\_peakwidthnorm\\_logplusznorm\\_n40//idx18.bed'\n",
       "\\item '../20200307\\_fine\\_clustering/beds/20200602\\_gridmap\\_peakwidthnorm\\_logplusznorm\\_n40//idx19.bed'\n",
       "\\item '../20200307\\_fine\\_clustering/beds/20200602\\_gridmap\\_peakwidthnorm\\_logplusznorm\\_n40//idx20.bed'\n",
       "\\item '../20200307\\_fine\\_clustering/beds/20200602\\_gridmap\\_peakwidthnorm\\_logplusznorm\\_n40//idx21.bed'\n",
       "\\item '../20200307\\_fine\\_clustering/beds/20200602\\_gridmap\\_peakwidthnorm\\_logplusznorm\\_n40//idx22.bed'\n",
       "\\item '../20200307\\_fine\\_clustering/beds/20200602\\_gridmap\\_peakwidthnorm\\_logplusznorm\\_n40//idx23.bed'\n",
       "\\item '../20200307\\_fine\\_clustering/beds/20200602\\_gridmap\\_peakwidthnorm\\_logplusznorm\\_n40//idx24.bed'\n",
       "\\item '../20200307\\_fine\\_clustering/beds/20200602\\_gridmap\\_peakwidthnorm\\_logplusznorm\\_n40//idx25.bed'\n",
       "\\item '../20200307\\_fine\\_clustering/beds/20200602\\_gridmap\\_peakwidthnorm\\_logplusznorm\\_n40//idx26.bed'\n",
       "\\item '../20200307\\_fine\\_clustering/beds/20200602\\_gridmap\\_peakwidthnorm\\_logplusznorm\\_n40//idx27.bed'\n",
       "\\item '../20200307\\_fine\\_clustering/beds/20200602\\_gridmap\\_peakwidthnorm\\_logplusznorm\\_n40//idx28.bed'\n",
       "\\item '../20200307\\_fine\\_clustering/beds/20200602\\_gridmap\\_peakwidthnorm\\_logplusznorm\\_n40//idx29.bed'\n",
       "\\item '../20200307\\_fine\\_clustering/beds/20200602\\_gridmap\\_peakwidthnorm\\_logplusznorm\\_n40//idx30.bed'\n",
       "\\item '../20200307\\_fine\\_clustering/beds/20200602\\_gridmap\\_peakwidthnorm\\_logplusznorm\\_n40//idx31.bed'\n",
       "\\item '../20200307\\_fine\\_clustering/beds/20200602\\_gridmap\\_peakwidthnorm\\_logplusznorm\\_n40//idx32.bed'\n",
       "\\item '../20200307\\_fine\\_clustering/beds/20200602\\_gridmap\\_peakwidthnorm\\_logplusznorm\\_n40//idx33.bed'\n",
       "\\item '../20200307\\_fine\\_clustering/beds/20200602\\_gridmap\\_peakwidthnorm\\_logplusznorm\\_n40//idx34.bed'\n",
       "\\item '../20200307\\_fine\\_clustering/beds/20200602\\_gridmap\\_peakwidthnorm\\_logplusznorm\\_n40//idx35.bed'\n",
       "\\item '../20200307\\_fine\\_clustering/beds/20200602\\_gridmap\\_peakwidthnorm\\_logplusznorm\\_n40//idx36.bed'\n",
       "\\item '../20200307\\_fine\\_clustering/beds/20200602\\_gridmap\\_peakwidthnorm\\_logplusznorm\\_n40//idx37.bed'\n",
       "\\item '../20200307\\_fine\\_clustering/beds/20200602\\_gridmap\\_peakwidthnorm\\_logplusznorm\\_n40//idx38.bed'\n",
       "\\item '../20200307\\_fine\\_clustering/beds/20200602\\_gridmap\\_peakwidthnorm\\_logplusznorm\\_n40//idx39.bed'\n",
       "\\item '../20200307\\_fine\\_clustering/beds/20200602\\_gridmap\\_peakwidthnorm\\_logplusznorm\\_n40//idx40.bed'\n",
       "\\end{enumerate*}\n"
      ],
      "text/markdown": [
       "1. '../20200307_fine_clustering/beds/20200602_gridmap_peakwidthnorm_logplusznorm_n40//idx1.bed'\n",
       "2. '../20200307_fine_clustering/beds/20200602_gridmap_peakwidthnorm_logplusznorm_n40//idx2.bed'\n",
       "3. '../20200307_fine_clustering/beds/20200602_gridmap_peakwidthnorm_logplusznorm_n40//idx3.bed'\n",
       "4. '../20200307_fine_clustering/beds/20200602_gridmap_peakwidthnorm_logplusznorm_n40//idx4.bed'\n",
       "5. '../20200307_fine_clustering/beds/20200602_gridmap_peakwidthnorm_logplusznorm_n40//idx5.bed'\n",
       "6. '../20200307_fine_clustering/beds/20200602_gridmap_peakwidthnorm_logplusznorm_n40//idx6.bed'\n",
       "7. '../20200307_fine_clustering/beds/20200602_gridmap_peakwidthnorm_logplusznorm_n40//idx7.bed'\n",
       "8. '../20200307_fine_clustering/beds/20200602_gridmap_peakwidthnorm_logplusznorm_n40//idx8.bed'\n",
       "9. '../20200307_fine_clustering/beds/20200602_gridmap_peakwidthnorm_logplusznorm_n40//idx9.bed'\n",
       "10. '../20200307_fine_clustering/beds/20200602_gridmap_peakwidthnorm_logplusznorm_n40//idx10.bed'\n",
       "11. '../20200307_fine_clustering/beds/20200602_gridmap_peakwidthnorm_logplusznorm_n40//idx11.bed'\n",
       "12. '../20200307_fine_clustering/beds/20200602_gridmap_peakwidthnorm_logplusznorm_n40//idx12.bed'\n",
       "13. '../20200307_fine_clustering/beds/20200602_gridmap_peakwidthnorm_logplusznorm_n40//idx13.bed'\n",
       "14. '../20200307_fine_clustering/beds/20200602_gridmap_peakwidthnorm_logplusznorm_n40//idx14.bed'\n",
       "15. '../20200307_fine_clustering/beds/20200602_gridmap_peakwidthnorm_logplusznorm_n40//idx15.bed'\n",
       "16. '../20200307_fine_clustering/beds/20200602_gridmap_peakwidthnorm_logplusznorm_n40//idx16.bed'\n",
       "17. '../20200307_fine_clustering/beds/20200602_gridmap_peakwidthnorm_logplusznorm_n40//idx17.bed'\n",
       "18. '../20200307_fine_clustering/beds/20200602_gridmap_peakwidthnorm_logplusznorm_n40//idx18.bed'\n",
       "19. '../20200307_fine_clustering/beds/20200602_gridmap_peakwidthnorm_logplusznorm_n40//idx19.bed'\n",
       "20. '../20200307_fine_clustering/beds/20200602_gridmap_peakwidthnorm_logplusznorm_n40//idx20.bed'\n",
       "21. '../20200307_fine_clustering/beds/20200602_gridmap_peakwidthnorm_logplusznorm_n40//idx21.bed'\n",
       "22. '../20200307_fine_clustering/beds/20200602_gridmap_peakwidthnorm_logplusznorm_n40//idx22.bed'\n",
       "23. '../20200307_fine_clustering/beds/20200602_gridmap_peakwidthnorm_logplusznorm_n40//idx23.bed'\n",
       "24. '../20200307_fine_clustering/beds/20200602_gridmap_peakwidthnorm_logplusznorm_n40//idx24.bed'\n",
       "25. '../20200307_fine_clustering/beds/20200602_gridmap_peakwidthnorm_logplusznorm_n40//idx25.bed'\n",
       "26. '../20200307_fine_clustering/beds/20200602_gridmap_peakwidthnorm_logplusznorm_n40//idx26.bed'\n",
       "27. '../20200307_fine_clustering/beds/20200602_gridmap_peakwidthnorm_logplusznorm_n40//idx27.bed'\n",
       "28. '../20200307_fine_clustering/beds/20200602_gridmap_peakwidthnorm_logplusznorm_n40//idx28.bed'\n",
       "29. '../20200307_fine_clustering/beds/20200602_gridmap_peakwidthnorm_logplusznorm_n40//idx29.bed'\n",
       "30. '../20200307_fine_clustering/beds/20200602_gridmap_peakwidthnorm_logplusznorm_n40//idx30.bed'\n",
       "31. '../20200307_fine_clustering/beds/20200602_gridmap_peakwidthnorm_logplusznorm_n40//idx31.bed'\n",
       "32. '../20200307_fine_clustering/beds/20200602_gridmap_peakwidthnorm_logplusznorm_n40//idx32.bed'\n",
       "33. '../20200307_fine_clustering/beds/20200602_gridmap_peakwidthnorm_logplusznorm_n40//idx33.bed'\n",
       "34. '../20200307_fine_clustering/beds/20200602_gridmap_peakwidthnorm_logplusznorm_n40//idx34.bed'\n",
       "35. '../20200307_fine_clustering/beds/20200602_gridmap_peakwidthnorm_logplusznorm_n40//idx35.bed'\n",
       "36. '../20200307_fine_clustering/beds/20200602_gridmap_peakwidthnorm_logplusznorm_n40//idx36.bed'\n",
       "37. '../20200307_fine_clustering/beds/20200602_gridmap_peakwidthnorm_logplusznorm_n40//idx37.bed'\n",
       "38. '../20200307_fine_clustering/beds/20200602_gridmap_peakwidthnorm_logplusznorm_n40//idx38.bed'\n",
       "39. '../20200307_fine_clustering/beds/20200602_gridmap_peakwidthnorm_logplusznorm_n40//idx39.bed'\n",
       "40. '../20200307_fine_clustering/beds/20200602_gridmap_peakwidthnorm_logplusznorm_n40//idx40.bed'\n",
       "\n",
       "\n"
      ],
      "text/plain": [
       " [1] \"../20200307_fine_clustering/beds/20200602_gridmap_peakwidthnorm_logplusznorm_n40//idx1.bed\" \n",
       " [2] \"../20200307_fine_clustering/beds/20200602_gridmap_peakwidthnorm_logplusznorm_n40//idx2.bed\" \n",
       " [3] \"../20200307_fine_clustering/beds/20200602_gridmap_peakwidthnorm_logplusznorm_n40//idx3.bed\" \n",
       " [4] \"../20200307_fine_clustering/beds/20200602_gridmap_peakwidthnorm_logplusznorm_n40//idx4.bed\" \n",
       " [5] \"../20200307_fine_clustering/beds/20200602_gridmap_peakwidthnorm_logplusznorm_n40//idx5.bed\" \n",
       " [6] \"../20200307_fine_clustering/beds/20200602_gridmap_peakwidthnorm_logplusznorm_n40//idx6.bed\" \n",
       " [7] \"../20200307_fine_clustering/beds/20200602_gridmap_peakwidthnorm_logplusznorm_n40//idx7.bed\" \n",
       " [8] \"../20200307_fine_clustering/beds/20200602_gridmap_peakwidthnorm_logplusznorm_n40//idx8.bed\" \n",
       " [9] \"../20200307_fine_clustering/beds/20200602_gridmap_peakwidthnorm_logplusznorm_n40//idx9.bed\" \n",
       "[10] \"../20200307_fine_clustering/beds/20200602_gridmap_peakwidthnorm_logplusznorm_n40//idx10.bed\"\n",
       "[11] \"../20200307_fine_clustering/beds/20200602_gridmap_peakwidthnorm_logplusznorm_n40//idx11.bed\"\n",
       "[12] \"../20200307_fine_clustering/beds/20200602_gridmap_peakwidthnorm_logplusznorm_n40//idx12.bed\"\n",
       "[13] \"../20200307_fine_clustering/beds/20200602_gridmap_peakwidthnorm_logplusznorm_n40//idx13.bed\"\n",
       "[14] \"../20200307_fine_clustering/beds/20200602_gridmap_peakwidthnorm_logplusznorm_n40//idx14.bed\"\n",
       "[15] \"../20200307_fine_clustering/beds/20200602_gridmap_peakwidthnorm_logplusznorm_n40//idx15.bed\"\n",
       "[16] \"../20200307_fine_clustering/beds/20200602_gridmap_peakwidthnorm_logplusznorm_n40//idx16.bed\"\n",
       "[17] \"../20200307_fine_clustering/beds/20200602_gridmap_peakwidthnorm_logplusznorm_n40//idx17.bed\"\n",
       "[18] \"../20200307_fine_clustering/beds/20200602_gridmap_peakwidthnorm_logplusznorm_n40//idx18.bed\"\n",
       "[19] \"../20200307_fine_clustering/beds/20200602_gridmap_peakwidthnorm_logplusznorm_n40//idx19.bed\"\n",
       "[20] \"../20200307_fine_clustering/beds/20200602_gridmap_peakwidthnorm_logplusznorm_n40//idx20.bed\"\n",
       "[21] \"../20200307_fine_clustering/beds/20200602_gridmap_peakwidthnorm_logplusznorm_n40//idx21.bed\"\n",
       "[22] \"../20200307_fine_clustering/beds/20200602_gridmap_peakwidthnorm_logplusznorm_n40//idx22.bed\"\n",
       "[23] \"../20200307_fine_clustering/beds/20200602_gridmap_peakwidthnorm_logplusznorm_n40//idx23.bed\"\n",
       "[24] \"../20200307_fine_clustering/beds/20200602_gridmap_peakwidthnorm_logplusznorm_n40//idx24.bed\"\n",
       "[25] \"../20200307_fine_clustering/beds/20200602_gridmap_peakwidthnorm_logplusznorm_n40//idx25.bed\"\n",
       "[26] \"../20200307_fine_clustering/beds/20200602_gridmap_peakwidthnorm_logplusznorm_n40//idx26.bed\"\n",
       "[27] \"../20200307_fine_clustering/beds/20200602_gridmap_peakwidthnorm_logplusznorm_n40//idx27.bed\"\n",
       "[28] \"../20200307_fine_clustering/beds/20200602_gridmap_peakwidthnorm_logplusznorm_n40//idx28.bed\"\n",
       "[29] \"../20200307_fine_clustering/beds/20200602_gridmap_peakwidthnorm_logplusznorm_n40//idx29.bed\"\n",
       "[30] \"../20200307_fine_clustering/beds/20200602_gridmap_peakwidthnorm_logplusznorm_n40//idx30.bed\"\n",
       "[31] \"../20200307_fine_clustering/beds/20200602_gridmap_peakwidthnorm_logplusznorm_n40//idx31.bed\"\n",
       "[32] \"../20200307_fine_clustering/beds/20200602_gridmap_peakwidthnorm_logplusznorm_n40//idx32.bed\"\n",
       "[33] \"../20200307_fine_clustering/beds/20200602_gridmap_peakwidthnorm_logplusznorm_n40//idx33.bed\"\n",
       "[34] \"../20200307_fine_clustering/beds/20200602_gridmap_peakwidthnorm_logplusznorm_n40//idx34.bed\"\n",
       "[35] \"../20200307_fine_clustering/beds/20200602_gridmap_peakwidthnorm_logplusznorm_n40//idx35.bed\"\n",
       "[36] \"../20200307_fine_clustering/beds/20200602_gridmap_peakwidthnorm_logplusznorm_n40//idx36.bed\"\n",
       "[37] \"../20200307_fine_clustering/beds/20200602_gridmap_peakwidthnorm_logplusznorm_n40//idx37.bed\"\n",
       "[38] \"../20200307_fine_clustering/beds/20200602_gridmap_peakwidthnorm_logplusznorm_n40//idx38.bed\"\n",
       "[39] \"../20200307_fine_clustering/beds/20200602_gridmap_peakwidthnorm_logplusznorm_n40//idx39.bed\"\n",
       "[40] \"../20200307_fine_clustering/beds/20200602_gridmap_peakwidthnorm_logplusznorm_n40//idx40.bed\""
      ]
     },
     "metadata": {},
     "output_type": "display_data"
    },
    {
     "data": {
      "text/html": [
       "<style>\n",
       ".list-inline {list-style: none; margin:0; padding: 0}\n",
       ".list-inline>li {display: inline-block}\n",
       ".list-inline>li:not(:last-child)::after {content: \"\\00b7\"; padding: 0 .5ex}\n",
       "</style>\n",
       "<ol class=list-inline><li>'idx1'</li><li>'idx2'</li><li>'idx3'</li><li>'idx4'</li><li>'idx5'</li><li>'idx6'</li><li>'idx7'</li><li>'idx8'</li><li>'idx9'</li><li>'idx10'</li><li>'idx11'</li><li>'idx12'</li><li>'idx13'</li><li>'idx14'</li><li>'idx15'</li><li>'idx16'</li><li>'idx17'</li><li>'idx18'</li><li>'idx19'</li><li>'idx20'</li><li>'idx21'</li><li>'idx22'</li><li>'idx23'</li><li>'idx24'</li><li>'idx25'</li><li>'idx26'</li><li>'idx27'</li><li>'idx28'</li><li>'idx29'</li><li>'idx30'</li><li>'idx31'</li><li>'idx32'</li><li>'idx33'</li><li>'idx34'</li><li>'idx35'</li><li>'idx36'</li><li>'idx37'</li><li>'idx38'</li><li>'idx39'</li><li>'idx40'</li></ol>\n"
      ],
      "text/latex": [
       "\\begin{enumerate*}\n",
       "\\item 'idx1'\n",
       "\\item 'idx2'\n",
       "\\item 'idx3'\n",
       "\\item 'idx4'\n",
       "\\item 'idx5'\n",
       "\\item 'idx6'\n",
       "\\item 'idx7'\n",
       "\\item 'idx8'\n",
       "\\item 'idx9'\n",
       "\\item 'idx10'\n",
       "\\item 'idx11'\n",
       "\\item 'idx12'\n",
       "\\item 'idx13'\n",
       "\\item 'idx14'\n",
       "\\item 'idx15'\n",
       "\\item 'idx16'\n",
       "\\item 'idx17'\n",
       "\\item 'idx18'\n",
       "\\item 'idx19'\n",
       "\\item 'idx20'\n",
       "\\item 'idx21'\n",
       "\\item 'idx22'\n",
       "\\item 'idx23'\n",
       "\\item 'idx24'\n",
       "\\item 'idx25'\n",
       "\\item 'idx26'\n",
       "\\item 'idx27'\n",
       "\\item 'idx28'\n",
       "\\item 'idx29'\n",
       "\\item 'idx30'\n",
       "\\item 'idx31'\n",
       "\\item 'idx32'\n",
       "\\item 'idx33'\n",
       "\\item 'idx34'\n",
       "\\item 'idx35'\n",
       "\\item 'idx36'\n",
       "\\item 'idx37'\n",
       "\\item 'idx38'\n",
       "\\item 'idx39'\n",
       "\\item 'idx40'\n",
       "\\end{enumerate*}\n"
      ],
      "text/markdown": [
       "1. 'idx1'\n",
       "2. 'idx2'\n",
       "3. 'idx3'\n",
       "4. 'idx4'\n",
       "5. 'idx5'\n",
       "6. 'idx6'\n",
       "7. 'idx7'\n",
       "8. 'idx8'\n",
       "9. 'idx9'\n",
       "10. 'idx10'\n",
       "11. 'idx11'\n",
       "12. 'idx12'\n",
       "13. 'idx13'\n",
       "14. 'idx14'\n",
       "15. 'idx15'\n",
       "16. 'idx16'\n",
       "17. 'idx17'\n",
       "18. 'idx18'\n",
       "19. 'idx19'\n",
       "20. 'idx20'\n",
       "21. 'idx21'\n",
       "22. 'idx22'\n",
       "23. 'idx23'\n",
       "24. 'idx24'\n",
       "25. 'idx25'\n",
       "26. 'idx26'\n",
       "27. 'idx27'\n",
       "28. 'idx28'\n",
       "29. 'idx29'\n",
       "30. 'idx30'\n",
       "31. 'idx31'\n",
       "32. 'idx32'\n",
       "33. 'idx33'\n",
       "34. 'idx34'\n",
       "35. 'idx35'\n",
       "36. 'idx36'\n",
       "37. 'idx37'\n",
       "38. 'idx38'\n",
       "39. 'idx39'\n",
       "40. 'idx40'\n",
       "\n",
       "\n"
      ],
      "text/plain": [
       " [1] \"idx1\"  \"idx2\"  \"idx3\"  \"idx4\"  \"idx5\"  \"idx6\"  \"idx7\"  \"idx8\"  \"idx9\" \n",
       "[10] \"idx10\" \"idx11\" \"idx12\" \"idx13\" \"idx14\" \"idx15\" \"idx16\" \"idx17\" \"idx18\"\n",
       "[19] \"idx19\" \"idx20\" \"idx21\" \"idx22\" \"idx23\" \"idx24\" \"idx25\" \"idx26\" \"idx27\"\n",
       "[28] \"idx28\" \"idx29\" \"idx30\" \"idx31\" \"idx32\" \"idx33\" \"idx34\" \"idx35\" \"idx36\"\n",
       "[37] \"idx37\" \"idx38\" \"idx39\" \"idx40\""
      ]
     },
     "metadata": {},
     "output_type": "display_data"
    }
   ],
   "source": [
    "PEAK_SET_BEDS\n",
    "PEAK_SET_NAMES"
   ]
  },
  {
   "cell_type": "markdown",
   "metadata": {},
   "source": [
    "Assign peak set indices to peaks and remove peaks that aren't in any peak set."
   ]
  },
  {
   "cell_type": "code",
   "execution_count": 408,
   "metadata": {},
   "outputs": [],
   "source": [
    "peak_to_row_idx = rep(-1, nrow(binnorm_log_cts))\n",
    "\n",
    "# assign peak set indices to peaks\n",
    "for (i in seq(length(PEAK_SET_NAMES))) {\n",
    "    cur_peaks = read.table(PEAK_SET_BEDS[[i]])\n",
    "    peak_to_row_idx[rownames(binnorm_log_cts) %in% paste(paste(cur_peaks$V1, cur_peaks$V2, sep=':'), cur_peaks$V3, sep='-')] = PEAK_SET_NAMES[[i]]\n",
    "}"
   ]
  },
  {
   "cell_type": "code",
   "execution_count": 409,
   "metadata": {},
   "outputs": [
    {
     "data": {
      "text/html": [
       "40791"
      ],
      "text/latex": [
       "40791"
      ],
      "text/markdown": [
       "40791"
      ],
      "text/plain": [
       "[1] 40791"
      ]
     },
     "metadata": {},
     "output_type": "display_data"
    }
   ],
   "source": [
    "sum(peak_to_row_idx== -1)"
   ]
  },
  {
   "cell_type": "code",
   "execution_count": 410,
   "metadata": {},
   "outputs": [
    {
     "data": {
      "text/html": [
       "<style>\n",
       ".list-inline {list-style: none; margin:0; padding: 0}\n",
       ".list-inline>li {display: inline-block}\n",
       ".list-inline>li:not(:last-child)::after {content: \"\\00b7\"; padding: 0 .5ex}\n",
       "</style>\n",
       "<ol class=list-inline><li>763167</li><li>17</li></ol>\n"
      ],
      "text/latex": [
       "\\begin{enumerate*}\n",
       "\\item 763167\n",
       "\\item 17\n",
       "\\end{enumerate*}\n"
      ],
      "text/markdown": [
       "1. 763167\n",
       "2. 17\n",
       "\n",
       "\n"
      ],
      "text/plain": [
       "[1] 763167     17"
      ]
     },
     "metadata": {},
     "output_type": "display_data"
    }
   ],
   "source": [
    "binnorm_log_cts = binnorm_log_cts[peak_to_row_idx != -1, ]\n",
    "dim(binnorm_log_cts)"
   ]
  },
  {
   "cell_type": "code",
   "execution_count": 411,
   "metadata": {},
   "outputs": [],
   "source": [
    "peak_to_row_idx = peak_to_row_idx[peak_to_row_idx != -1]"
   ]
  },
  {
   "cell_type": "code",
   "execution_count": 412,
   "metadata": {},
   "outputs": [
    {
     "data": {
      "text/html": [
       "<style>\n",
       ".list-inline {list-style: none; margin:0; padding: 0}\n",
       ".list-inline>li {display: inline-block}\n",
       ".list-inline>li:not(:last-child)::after {content: \"\\00b7\"; padding: 0 .5ex}\n",
       "</style>\n",
       "<ol class=list-inline><li>'idx4'</li><li>'idx2'</li><li>'idx25'</li><li>'idx25'</li><li>'idx36'</li><li>'idx6'</li></ol>\n"
      ],
      "text/latex": [
       "\\begin{enumerate*}\n",
       "\\item 'idx4'\n",
       "\\item 'idx2'\n",
       "\\item 'idx25'\n",
       "\\item 'idx25'\n",
       "\\item 'idx36'\n",
       "\\item 'idx6'\n",
       "\\end{enumerate*}\n"
      ],
      "text/markdown": [
       "1. 'idx4'\n",
       "2. 'idx2'\n",
       "3. 'idx25'\n",
       "4. 'idx25'\n",
       "5. 'idx36'\n",
       "6. 'idx6'\n",
       "\n",
       "\n"
      ],
      "text/plain": [
       "[1] \"idx4\"  \"idx2\"  \"idx25\" \"idx25\" \"idx36\" \"idx6\" "
      ]
     },
     "metadata": {},
     "output_type": "display_data"
    }
   ],
   "source": [
    "head(peak_to_row_idx)"
   ]
  },
  {
   "cell_type": "markdown",
   "metadata": {},
   "source": [
    "## Plotting"
   ]
  },
  {
   "cell_type": "code",
   "execution_count": 413,
   "metadata": {},
   "outputs": [],
   "source": [
    "## use this to filter by peak sets if required\n",
    "PEAK_SETS_TO_EXCLUDE = c(\"idx2\", \"idx5\", \"idx9\", \"idx12\", \"idx15\", \"idx20\", \"idx22\", \"idx23\", \"idx26\", \"idx40\", \"idx34\", \"idx16\", \"idx17\")\n",
    "include_peak_set = !(peak_to_row_idx %in% PEAK_SETS_TO_EXCLUDE)\n",
    "\n",
    "matrix_to_plot = binnorm_log_cts[include_peak_set, 1:16]\n",
    "assigned_peak_idx = peak_to_row_idx[include_peak_set]"
   ]
  },
  {
   "cell_type": "code",
   "execution_count": 414,
   "metadata": {},
   "outputs": [
    {
     "data": {
      "text/html": [
       "<style>\n",
       ".list-inline {list-style: none; margin:0; padding: 0}\n",
       ".list-inline>li {display: inline-block}\n",
       ".list-inline>li:not(:last-child)::after {content: \"\\00b7\"; padding: 0 .5ex}\n",
       "</style>\n",
       "<ol class=list-inline><li>532161</li><li>16</li></ol>\n"
      ],
      "text/latex": [
       "\\begin{enumerate*}\n",
       "\\item 532161\n",
       "\\item 16\n",
       "\\end{enumerate*}\n"
      ],
      "text/markdown": [
       "1. 532161\n",
       "2. 16\n",
       "\n",
       "\n"
      ],
      "text/plain": [
       "[1] 532161     16"
      ]
     },
     "metadata": {},
     "output_type": "display_data"
    },
    {
     "data": {
      "text/html": [
       "532161"
      ],
      "text/latex": [
       "532161"
      ],
      "text/markdown": [
       "532161"
      ],
      "text/plain": [
       "[1] 532161"
      ]
     },
     "metadata": {},
     "output_type": "display_data"
    }
   ],
   "source": [
    "dim(matrix_to_plot)\n",
    "length(assigned_peak_idx)"
   ]
  },
  {
   "cell_type": "code",
   "execution_count": 415,
   "metadata": {},
   "outputs": [
    {
     "data": {
      "text/html": [
       "<style>\n",
       ".list-inline {list-style: none; margin:0; padding: 0}\n",
       ".list-inline>li {display: inline-block}\n",
       ".list-inline>li:not(:last-child)::after {content: \"\\00b7\"; padding: 0 .5ex}\n",
       "</style>\n",
       "<ol class=list-inline><li>27</li><li>16</li></ol>\n"
      ],
      "text/latex": [
       "\\begin{enumerate*}\n",
       "\\item 27\n",
       "\\item 16\n",
       "\\end{enumerate*}\n"
      ],
      "text/markdown": [
       "1. 27\n",
       "2. 16\n",
       "\n",
       "\n"
      ],
      "text/plain": [
       "[1] 27 16"
      ]
     },
     "metadata": {},
     "output_type": "display_data"
    },
    {
     "data": {
      "text/html": [
       "<table>\n",
       "<caption>A data.frame: 6 × 16</caption>\n",
       "<thead>\n",
       "\t<tr><th></th><th scope=col>cluster_1</th><th scope=col>cluster_2</th><th scope=col>cluster_3</th><th scope=col>cluster_4</th><th scope=col>cluster_5</th><th scope=col>cluster_6</th><th scope=col>cluster_7</th><th scope=col>cluster_8</th><th scope=col>cluster_9</th><th scope=col>cluster_10</th><th scope=col>cluster_11</th><th scope=col>cluster_12</th><th scope=col>cluster_13</th><th scope=col>cluster_14</th><th scope=col>cluster_15</th><th scope=col>cluster_16</th></tr>\n",
       "\t<tr><th></th><th scope=col>&lt;dbl&gt;</th><th scope=col>&lt;dbl&gt;</th><th scope=col>&lt;dbl&gt;</th><th scope=col>&lt;dbl&gt;</th><th scope=col>&lt;dbl&gt;</th><th scope=col>&lt;dbl&gt;</th><th scope=col>&lt;dbl&gt;</th><th scope=col>&lt;dbl&gt;</th><th scope=col>&lt;dbl&gt;</th><th scope=col>&lt;dbl&gt;</th><th scope=col>&lt;dbl&gt;</th><th scope=col>&lt;dbl&gt;</th><th scope=col>&lt;dbl&gt;</th><th scope=col>&lt;dbl&gt;</th><th scope=col>&lt;dbl&gt;</th><th scope=col>&lt;dbl&gt;</th></tr>\n",
       "</thead>\n",
       "<tbody>\n",
       "\t<tr><th scope=row>idx1</th><td>2.404095</td><td>2.312578</td><td>2.926349</td><td>3.063789</td><td>3.063799</td><td>3.399095</td><td>4.133708</td><td>5.769794</td><td>5.520630</td><td>4.163441</td><td>3.520041</td><td>4.546741</td><td>4.114731</td><td>3.259619</td><td>3.759948</td><td>3.399442</td></tr>\n",
       "\t<tr><th scope=row>idx10</th><td>3.921628</td><td>3.851193</td><td>4.783794</td><td>4.729032</td><td>5.374672</td><td>4.143679</td><td>3.664273</td><td>4.083579</td><td>3.855191</td><td>4.455209</td><td>4.523005</td><td>4.197428</td><td>4.234955</td><td>4.750131</td><td>3.826259</td><td>3.475904</td></tr>\n",
       "\t<tr><th scope=row>idx11</th><td>2.867282</td><td>2.837464</td><td>3.741840</td><td>4.367508</td><td>3.829002</td><td>4.542042</td><td>6.293049</td><td>6.617730</td><td>7.329477</td><td>6.206990</td><td>6.021153</td><td>6.796677</td><td>5.796877</td><td>4.695956</td><td>4.495430</td><td>3.411195</td></tr>\n",
       "\t<tr><th scope=row>idx13</th><td>4.106792</td><td>4.080139</td><td>4.149764</td><td>4.259932</td><td>3.590072</td><td>4.055509</td><td>4.380699</td><td>5.315545</td><td>4.781818</td><td>4.244015</td><td>3.869235</td><td>3.971314</td><td>3.671965</td><td>2.902610</td><td>2.615375</td><td>2.361156</td></tr>\n",
       "\t<tr><th scope=row>idx14</th><td>3.195910</td><td>3.078340</td><td>3.538166</td><td>3.725238</td><td>3.968141</td><td>3.663520</td><td>3.448343</td><td>3.719824</td><td>3.855191</td><td>3.886251</td><td>3.878343</td><td>4.259517</td><td>4.571290</td><td>4.457760</td><td>5.287544</td><td>5.480110</td></tr>\n",
       "\t<tr><th scope=row>idx18</th><td>1.924483</td><td>1.777365</td><td>2.296373</td><td>2.300481</td><td>2.226773</td><td>2.656553</td><td>3.591466</td><td>6.092460</td><td>4.551719</td><td>2.967638</td><td>2.375397</td><td>2.858352</td><td>2.637796</td><td>2.399438</td><td>2.281179</td><td>1.760432</td></tr>\n",
       "</tbody>\n",
       "</table>\n"
      ],
      "text/latex": [
       "A data.frame: 6 × 16\n",
       "\\begin{tabular}{r|llllllllllllllll}\n",
       "  & cluster\\_1 & cluster\\_2 & cluster\\_3 & cluster\\_4 & cluster\\_5 & cluster\\_6 & cluster\\_7 & cluster\\_8 & cluster\\_9 & cluster\\_10 & cluster\\_11 & cluster\\_12 & cluster\\_13 & cluster\\_14 & cluster\\_15 & cluster\\_16\\\\\n",
       "  & <dbl> & <dbl> & <dbl> & <dbl> & <dbl> & <dbl> & <dbl> & <dbl> & <dbl> & <dbl> & <dbl> & <dbl> & <dbl> & <dbl> & <dbl> & <dbl>\\\\\n",
       "\\hline\n",
       "\tidx1 & 2.404095 & 2.312578 & 2.926349 & 3.063789 & 3.063799 & 3.399095 & 4.133708 & 5.769794 & 5.520630 & 4.163441 & 3.520041 & 4.546741 & 4.114731 & 3.259619 & 3.759948 & 3.399442\\\\\n",
       "\tidx10 & 3.921628 & 3.851193 & 4.783794 & 4.729032 & 5.374672 & 4.143679 & 3.664273 & 4.083579 & 3.855191 & 4.455209 & 4.523005 & 4.197428 & 4.234955 & 4.750131 & 3.826259 & 3.475904\\\\\n",
       "\tidx11 & 2.867282 & 2.837464 & 3.741840 & 4.367508 & 3.829002 & 4.542042 & 6.293049 & 6.617730 & 7.329477 & 6.206990 & 6.021153 & 6.796677 & 5.796877 & 4.695956 & 4.495430 & 3.411195\\\\\n",
       "\tidx13 & 4.106792 & 4.080139 & 4.149764 & 4.259932 & 3.590072 & 4.055509 & 4.380699 & 5.315545 & 4.781818 & 4.244015 & 3.869235 & 3.971314 & 3.671965 & 2.902610 & 2.615375 & 2.361156\\\\\n",
       "\tidx14 & 3.195910 & 3.078340 & 3.538166 & 3.725238 & 3.968141 & 3.663520 & 3.448343 & 3.719824 & 3.855191 & 3.886251 & 3.878343 & 4.259517 & 4.571290 & 4.457760 & 5.287544 & 5.480110\\\\\n",
       "\tidx18 & 1.924483 & 1.777365 & 2.296373 & 2.300481 & 2.226773 & 2.656553 & 3.591466 & 6.092460 & 4.551719 & 2.967638 & 2.375397 & 2.858352 & 2.637796 & 2.399438 & 2.281179 & 1.760432\\\\\n",
       "\\end{tabular}\n"
      ],
      "text/markdown": [
       "\n",
       "A data.frame: 6 × 16\n",
       "\n",
       "| <!--/--> | cluster_1 &lt;dbl&gt; | cluster_2 &lt;dbl&gt; | cluster_3 &lt;dbl&gt; | cluster_4 &lt;dbl&gt; | cluster_5 &lt;dbl&gt; | cluster_6 &lt;dbl&gt; | cluster_7 &lt;dbl&gt; | cluster_8 &lt;dbl&gt; | cluster_9 &lt;dbl&gt; | cluster_10 &lt;dbl&gt; | cluster_11 &lt;dbl&gt; | cluster_12 &lt;dbl&gt; | cluster_13 &lt;dbl&gt; | cluster_14 &lt;dbl&gt; | cluster_15 &lt;dbl&gt; | cluster_16 &lt;dbl&gt; |\n",
       "|---|---|---|---|---|---|---|---|---|---|---|---|---|---|---|---|---|\n",
       "| idx1 | 2.404095 | 2.312578 | 2.926349 | 3.063789 | 3.063799 | 3.399095 | 4.133708 | 5.769794 | 5.520630 | 4.163441 | 3.520041 | 4.546741 | 4.114731 | 3.259619 | 3.759948 | 3.399442 |\n",
       "| idx10 | 3.921628 | 3.851193 | 4.783794 | 4.729032 | 5.374672 | 4.143679 | 3.664273 | 4.083579 | 3.855191 | 4.455209 | 4.523005 | 4.197428 | 4.234955 | 4.750131 | 3.826259 | 3.475904 |\n",
       "| idx11 | 2.867282 | 2.837464 | 3.741840 | 4.367508 | 3.829002 | 4.542042 | 6.293049 | 6.617730 | 7.329477 | 6.206990 | 6.021153 | 6.796677 | 5.796877 | 4.695956 | 4.495430 | 3.411195 |\n",
       "| idx13 | 4.106792 | 4.080139 | 4.149764 | 4.259932 | 3.590072 | 4.055509 | 4.380699 | 5.315545 | 4.781818 | 4.244015 | 3.869235 | 3.971314 | 3.671965 | 2.902610 | 2.615375 | 2.361156 |\n",
       "| idx14 | 3.195910 | 3.078340 | 3.538166 | 3.725238 | 3.968141 | 3.663520 | 3.448343 | 3.719824 | 3.855191 | 3.886251 | 3.878343 | 4.259517 | 4.571290 | 4.457760 | 5.287544 | 5.480110 |\n",
       "| idx18 | 1.924483 | 1.777365 | 2.296373 | 2.300481 | 2.226773 | 2.656553 | 3.591466 | 6.092460 | 4.551719 | 2.967638 | 2.375397 | 2.858352 | 2.637796 | 2.399438 | 2.281179 | 1.760432 |\n",
       "\n"
      ],
      "text/plain": [
       "      cluster_1 cluster_2 cluster_3 cluster_4 cluster_5 cluster_6 cluster_7\n",
       "idx1  2.404095  2.312578  2.926349  3.063789  3.063799  3.399095  4.133708 \n",
       "idx10 3.921628  3.851193  4.783794  4.729032  5.374672  4.143679  3.664273 \n",
       "idx11 2.867282  2.837464  3.741840  4.367508  3.829002  4.542042  6.293049 \n",
       "idx13 4.106792  4.080139  4.149764  4.259932  3.590072  4.055509  4.380699 \n",
       "idx14 3.195910  3.078340  3.538166  3.725238  3.968141  3.663520  3.448343 \n",
       "idx18 1.924483  1.777365  2.296373  2.300481  2.226773  2.656553  3.591466 \n",
       "      cluster_8 cluster_9 cluster_10 cluster_11 cluster_12 cluster_13\n",
       "idx1  5.769794  5.520630  4.163441   3.520041   4.546741   4.114731  \n",
       "idx10 4.083579  3.855191  4.455209   4.523005   4.197428   4.234955  \n",
       "idx11 6.617730  7.329477  6.206990   6.021153   6.796677   5.796877  \n",
       "idx13 5.315545  4.781818  4.244015   3.869235   3.971314   3.671965  \n",
       "idx14 3.719824  3.855191  3.886251   3.878343   4.259517   4.571290  \n",
       "idx18 6.092460  4.551719  2.967638   2.375397   2.858352   2.637796  \n",
       "      cluster_14 cluster_15 cluster_16\n",
       "idx1  3.259619   3.759948   3.399442  \n",
       "idx10 4.750131   3.826259   3.475904  \n",
       "idx11 4.695956   4.495430   3.411195  \n",
       "idx13 2.902610   2.615375   2.361156  \n",
       "idx14 4.457760   5.287544   5.480110  \n",
       "idx18 2.399438   2.281179   1.760432  "
      ]
     },
     "metadata": {},
     "output_type": "display_data"
    }
   ],
   "source": [
    "# compute median for each peak set to figure out order\n",
    "median_matrix = aggregate(matrix_to_plot, list(assigned_peak_idx), median)\n",
    "rownames(median_matrix) = median_matrix$Group.1\n",
    "median_matrix$Group.1 = NULL\n",
    "dim(median_matrix)\n",
    "head(median_matrix)"
   ]
  },
  {
   "cell_type": "code",
   "execution_count": 454,
   "metadata": {},
   "outputs": [
    {
     "data": {
      "text/html": [
       "<style>\n",
       ".list-inline {list-style: none; margin:0; padding: 0}\n",
       ".list-inline>li {display: inline-block}\n",
       ".list-inline>li:not(:last-child)::after {content: \"\\00b7\"; padding: 0 .5ex}\n",
       "</style>\n",
       "<ol class=list-inline><li>'idx32'</li><li>'idx37'</li><li>'idx25'</li><li>'idx3'</li><li>'idx29'</li><li>'idx4'</li><li>'idx24'</li><li>'idx13'</li><li>'idx39'</li><li>'idx10'</li><li>'idx28'</li><li>'idx36'</li><li>'idx33'</li><li>'idx18'</li><li>'idx6'</li><li>'idx1'</li><li>'idx11'</li><li>'idx8'</li><li>'idx27'</li><li>'idx14'</li><li>'idx21'</li><li>'idx38'</li><li>'idx30'</li><li>'idx31'</li><li>'idx19'</li><li>'idx7'</li><li>'idx35'</li></ol>\n"
      ],
      "text/latex": [
       "\\begin{enumerate*}\n",
       "\\item 'idx32'\n",
       "\\item 'idx37'\n",
       "\\item 'idx25'\n",
       "\\item 'idx3'\n",
       "\\item 'idx29'\n",
       "\\item 'idx4'\n",
       "\\item 'idx24'\n",
       "\\item 'idx13'\n",
       "\\item 'idx39'\n",
       "\\item 'idx10'\n",
       "\\item 'idx28'\n",
       "\\item 'idx36'\n",
       "\\item 'idx33'\n",
       "\\item 'idx18'\n",
       "\\item 'idx6'\n",
       "\\item 'idx1'\n",
       "\\item 'idx11'\n",
       "\\item 'idx8'\n",
       "\\item 'idx27'\n",
       "\\item 'idx14'\n",
       "\\item 'idx21'\n",
       "\\item 'idx38'\n",
       "\\item 'idx30'\n",
       "\\item 'idx31'\n",
       "\\item 'idx19'\n",
       "\\item 'idx7'\n",
       "\\item 'idx35'\n",
       "\\end{enumerate*}\n"
      ],
      "text/markdown": [
       "1. 'idx32'\n",
       "2. 'idx37'\n",
       "3. 'idx25'\n",
       "4. 'idx3'\n",
       "5. 'idx29'\n",
       "6. 'idx4'\n",
       "7. 'idx24'\n",
       "8. 'idx13'\n",
       "9. 'idx39'\n",
       "10. 'idx10'\n",
       "11. 'idx28'\n",
       "12. 'idx36'\n",
       "13. 'idx33'\n",
       "14. 'idx18'\n",
       "15. 'idx6'\n",
       "16. 'idx1'\n",
       "17. 'idx11'\n",
       "18. 'idx8'\n",
       "19. 'idx27'\n",
       "20. 'idx14'\n",
       "21. 'idx21'\n",
       "22. 'idx38'\n",
       "23. 'idx30'\n",
       "24. 'idx31'\n",
       "25. 'idx19'\n",
       "26. 'idx7'\n",
       "27. 'idx35'\n",
       "\n",
       "\n"
      ],
      "text/plain": [
       " [1] \"idx32\" \"idx37\" \"idx25\" \"idx3\"  \"idx29\" \"idx4\"  \"idx24\" \"idx13\" \"idx39\"\n",
       "[10] \"idx10\" \"idx28\" \"idx36\" \"idx33\" \"idx18\" \"idx6\"  \"idx1\"  \"idx11\" \"idx8\" \n",
       "[19] \"idx27\" \"idx14\" \"idx21\" \"idx38\" \"idx30\" \"idx31\" \"idx19\" \"idx7\"  \"idx35\""
      ]
     },
     "metadata": {},
     "output_type": "display_data"
    }
   ],
   "source": [
    "# order peak sets -- using a heurestic here to get diagonal structure\n",
    "# peak_set_order = rownames(median_matrix)[order(rowSums(t(seq(1,ncol(median_matrix))*t(2**(median_matrix)-1)))/rowSums(2**(median_matrix)-1))]\n",
    "peak_set_order = rownames(median_matrix)[order(rowSums(t(seq(1,ncol(median_matrix))*t(median_matrix)))/rowSums(median_matrix))]\n",
    "# peak_set_order = rownames(median_matrix)[order(rowSums(t(seq(1,ncol(median_matrix))*(scale(t(median_matrix))))))]\n",
    "peak_set_order"
   ]
  },
  {
   "cell_type": "code",
   "execution_count": 455,
   "metadata": {},
   "outputs": [
    {
     "data": {
      "text/html": [
       "<table>\n",
       "<caption>A data.frame: 2 × 3</caption>\n",
       "<thead>\n",
       "\t<tr><th></th><th scope=col>Var1</th><th scope=col>Var2</th><th scope=col>value</th></tr>\n",
       "\t<tr><th></th><th scope=col>&lt;fct&gt;</th><th scope=col>&lt;fct&gt;</th><th scope=col>&lt;dbl&gt;</th></tr>\n",
       "</thead>\n",
       "<tbody>\n",
       "\t<tr><th scope=row>1</th><td>idx1 </td><td>cluster_1</td><td>2.404095</td></tr>\n",
       "\t<tr><th scope=row>2</th><td>idx10</td><td>cluster_1</td><td>3.921628</td></tr>\n",
       "</tbody>\n",
       "</table>\n"
      ],
      "text/latex": [
       "A data.frame: 2 × 3\n",
       "\\begin{tabular}{r|lll}\n",
       "  & Var1 & Var2 & value\\\\\n",
       "  & <fct> & <fct> & <dbl>\\\\\n",
       "\\hline\n",
       "\t1 & idx1  & cluster\\_1 & 2.404095\\\\\n",
       "\t2 & idx10 & cluster\\_1 & 3.921628\\\\\n",
       "\\end{tabular}\n"
      ],
      "text/markdown": [
       "\n",
       "A data.frame: 2 × 3\n",
       "\n",
       "| <!--/--> | Var1 &lt;fct&gt; | Var2 &lt;fct&gt; | value &lt;dbl&gt; |\n",
       "|---|---|---|---|\n",
       "| 1 | idx1  | cluster_1 | 2.404095 |\n",
       "| 2 | idx10 | cluster_1 | 3.921628 |\n",
       "\n"
      ],
      "text/plain": [
       "  Var1  Var2      value   \n",
       "1 idx1  cluster_1 2.404095\n",
       "2 idx10 cluster_1 3.921628"
      ]
     },
     "metadata": {},
     "output_type": "display_data"
    }
   ],
   "source": [
    "melted_median_matrix = melt(as.matrix(median_matrix))\n",
    "melted_median_matrix$Var1 = factor(melted_median_matrix$Var1, levels = rev(peak_set_order))\n",
    "melted_median_matrix$Var2 = factor(melted_median_matrix$Var2, levels = colnames(median_matrix))\n",
    "head(melted_median_matrix, 2)"
   ]
  },
  {
   "cell_type": "code",
   "execution_count": 456,
   "metadata": {},
   "outputs": [
    {
     "data": {
      "image/png": "[encoded data removed]",
      "text/plain": [
       "plot without title"
      ]
     },
     "metadata": {
      "image/png": {
       "height": 360,
       "width": 360
      },
      "text/plain": {
       "height": 360,
       "width": 360
      }
     },
     "output_type": "display_data"
    }
   ],
   "source": [
    "options(repr.plot.width = 6, repr.plot.height = 6)\n",
    "\n",
    "# trial with peak set median accessibility\n",
    "ggplot(data = melted_median_matrix, \n",
    "       aes(x = Var2, y = Var1, fill = value)) +\n",
    "geom_tile()  + ylab(NULL) + xlab(NULL) +  \n",
    "geom_raster(aes(fill=value)) +\n",
    "scale_fill_viridis(limits=c(2, 7), oob=squish, option = \"A\") +\n",
    "theme(axis.text.x = element_text(angle = 90, hjust = 1))"
   ]
  },
  {
   "cell_type": "code",
   "execution_count": 458,
   "metadata": {},
   "outputs": [
    {
     "data": {
      "text/html": [
       "<style>\n",
       ".list-inline {list-style: none; margin:0; padding: 0}\n",
       ".list-inline>li {display: inline-block}\n",
       ".list-inline>li:not(:last-child)::after {content: \"\\00b7\"; padding: 0 .5ex}\n",
       "</style>\n",
       "<ol class=list-inline><li>532161</li><li>16</li></ol>\n"
      ],
      "text/latex": [
       "\\begin{enumerate*}\n",
       "\\item 532161\n",
       "\\item 16\n",
       "\\end{enumerate*}\n"
      ],
      "text/markdown": [
       "1. 532161\n",
       "2. 16\n",
       "\n",
       "\n"
      ],
      "text/plain": [
       "[1] 532161     16"
      ]
     },
     "metadata": {},
     "output_type": "display_data"
    }
   ],
   "source": [
    "dim(matrix_to_plot)"
   ]
  },
  {
   "cell_type": "code",
   "execution_count": 459,
   "metadata": {},
   "outputs": [],
   "source": [
    "SUBSAMPLE = 50"
   ]
  },
  {
   "cell_type": "code",
   "execution_count": 460,
   "metadata": {},
   "outputs": [
    {
     "data": {
      "text/html": [
       "<style>\n",
       ".list-inline {list-style: none; margin:0; padding: 0}\n",
       ".list-inline>li {display: inline-block}\n",
       ".list-inline>li:not(:last-child)::after {content: \"\\00b7\"; padding: 0 .5ex}\n",
       "</style>\n",
       "<ol class=list-inline><li>10644</li><li>16</li></ol>\n"
      ],
      "text/latex": [
       "\\begin{enumerate*}\n",
       "\\item 10644\n",
       "\\item 16\n",
       "\\end{enumerate*}\n"
      ],
      "text/markdown": [
       "1. 10644\n",
       "2. 16\n",
       "\n",
       "\n"
      ],
      "text/plain": [
       "[1] 10644    16"
      ]
     },
     "metadata": {},
     "output_type": "display_data"
    }
   ],
   "source": [
    "matrix_to_plot_ordered = matrix_to_plot[order(factor(assigned_peak_idx,\n",
    "                                                    levels=rev(peak_set_order))), ]\n",
    "\n",
    "matrix_to_plot_ordered = matrix_to_plot_ordered[seq(1, nrow(matrix_to_plot_ordered), SUBSAMPLE), ]\n",
    "dim(matrix_to_plot_ordered)"
   ]
  },
  {
   "cell_type": "code",
   "execution_count": 461,
   "metadata": {},
   "outputs": [
    {
     "data": {
      "text/html": [
       "<table>\n",
       "<caption>A data.frame: 2 × 3</caption>\n",
       "<thead>\n",
       "\t<tr><th></th><th scope=col>Var1</th><th scope=col>Var2</th><th scope=col>value</th></tr>\n",
       "\t<tr><th></th><th scope=col>&lt;fct&gt;</th><th scope=col>&lt;fct&gt;</th><th scope=col>&lt;dbl&gt;</th></tr>\n",
       "</thead>\n",
       "<tbody>\n",
       "\t<tr><th scope=row>1</th><td>chr1:109006296-109006522</td><td>cluster_1</td><td>1.615008</td></tr>\n",
       "\t<tr><th scope=row>2</th><td>chr1:65187323-65187561  </td><td>cluster_1</td><td>1.360441</td></tr>\n",
       "</tbody>\n",
       "</table>\n"
      ],
      "text/latex": [
       "A data.frame: 2 × 3\n",
       "\\begin{tabular}{r|lll}\n",
       "  & Var1 & Var2 & value\\\\\n",
       "  & <fct> & <fct> & <dbl>\\\\\n",
       "\\hline\n",
       "\t1 & chr1:109006296-109006522 & cluster\\_1 & 1.615008\\\\\n",
       "\t2 & chr1:65187323-65187561   & cluster\\_1 & 1.360441\\\\\n",
       "\\end{tabular}\n"
      ],
      "text/markdown": [
       "\n",
       "A data.frame: 2 × 3\n",
       "\n",
       "| <!--/--> | Var1 &lt;fct&gt; | Var2 &lt;fct&gt; | value &lt;dbl&gt; |\n",
       "|---|---|---|---|\n",
       "| 1 | chr1:109006296-109006522 | cluster_1 | 1.615008 |\n",
       "| 2 | chr1:65187323-65187561   | cluster_1 | 1.360441 |\n",
       "\n"
      ],
      "text/plain": [
       "  Var1                     Var2      value   \n",
       "1 chr1:109006296-109006522 cluster_1 1.615008\n",
       "2 chr1:65187323-65187561   cluster_1 1.360441"
      ]
     },
     "metadata": {},
     "output_type": "display_data"
    }
   ],
   "source": [
    "melted_matrix_to_plot = melt(as.matrix(matrix_to_plot_ordered))\n",
    "melted_matrix_to_plot$Var1 = factor(melted_matrix_to_plot$Var1, levels = rownames(matrix_to_plot_ordered))\n",
    "melted_matrix_to_plot$Var2 = factor(melted_matrix_to_plot$Var2, levels = colnames(matrix_to_plot_ordered))\n",
    "head(melted_matrix_to_plot, 2)"
   ]
  },
  {
   "cell_type": "code",
   "execution_count": 462,
   "metadata": {},
   "outputs": [],
   "source": [
    "cluster_config_colourbar_df = cluster_config\n",
    "cluster_config_colourbar_df$text = paste(cluster_config_colourbar_df$new_cluster, \n",
    "                                         cluster_config_colourbar_df$description,\n",
    "                                        sep =' - ')\n",
    "cluster_config_colourbar_df = cluster_config_colourbar_df[order(cluster_config_colourbar_df$new_cluster), ]\n",
    "\n",
    "# choose clusters properly\n",
    "# Removing those not selected currently\n",
    "cluster_config_colourbar_df = cluster_config_colourbar_df[1:16, ]\n",
    "cluster_config_colourbar_df$text = factor(cluster_config_colourbar_df$text, \n",
    "                                         levels=cluster_config_colourbar_df$text)\n",
    "\n",
    "\n",
    "cluster_colourbar <- ggplot(cluster_config_colourbar_df, aes(x=as.factor(text), \n",
    "                                                y=1, \n",
    "                                                fill = as.factor(text), \n",
    "                                                label=as.factor(text))) +\n",
    "  geom_bar(stat=\"identity\") +\n",
    "#   xlab(\"Cluster\") +\n",
    "  theme_void() +\n",
    "  scale_fill_manual(values = cluster_config_colourbar_df$colour) +\n",
    "  theme(legend.position = 'none',\n",
    "        axis.text.x = element_text(size=12, angle=90, hjust=1),\n",
    "        axis.title.x = element_blank()) #element_text(size=16))"
   ]
  },
  {
   "cell_type": "code",
   "execution_count": 469,
   "metadata": {},
   "outputs": [],
   "source": [
    "heatmap <- ggplot(data = melted_matrix_to_plot, \n",
    "       aes(x = Var2, y = Var1, fill = value)) +\n",
    "geom_tile()  + ylab(NULL) + xlab(NULL) +  \n",
    "geom_raster(aes(fill=value)) +\n",
    "scale_fill_viridis(limits=c(2, 7), oob=squish, option = \"A\", name=\"Log2\\nInsertions\") +\n",
    "theme(axis.text.x = element_blank() , # element_text(angle = 90, hjust = 1),\n",
    "           axis.text.y=element_blank(),\n",
    "      axis.ticks.y=element_blank(),\n",
    "     axis.ticks.x=element_blank())"
   ]
  },
  {
   "cell_type": "code",
   "execution_count": 470,
   "metadata": {},
   "outputs": [
    {
     "data": {
      "image/png": "[encoded data removed]",
      "text/plain": [
       "plot without title"
      ]
     },
     "metadata": {
      "image/png": {
       "height": 720,
       "width": 600
      },
      "text/plain": {
       "height": 720,
       "width": 600
      }
     },
     "output_type": "display_data"
    }
   ],
   "source": [
    "options(repr.plot.width = 10, repr.plot.height = 12)\n",
    "\n",
    "cluster_by_day_with_colourbar = wrap_plots(heatmap, cluster_colourbar, nrow=2, heights=c(10,0.4))\n",
    "cluster_by_day_with_colourbar"
   ]
  },
  {
   "cell_type": "code",
   "execution_count": null,
   "metadata": {},
   "outputs": [],
   "source": []
  },
  {
   "cell_type": "code",
   "execution_count": null,
   "metadata": {},
   "outputs": [],
   "source": []
  },
  {
   "cell_type": "code",
   "execution_count": null,
   "metadata": {},
   "outputs": [],
   "source": []
  }
 ],
 "metadata": {
  "kernelspec": {
   "display_name": "R",
   "language": "R",
   "name": "ir"
  },
  "language_info": {
   "codemirror_mode": "r",
   "file_extension": ".r",
   "mimetype": "text/x-r-source",
   "name": "R",
   "pygments_lexer": "r",
   "version": "3.6.3"
  }
 },
 "nbformat": 4,
 "nbformat_minor": 4
}
