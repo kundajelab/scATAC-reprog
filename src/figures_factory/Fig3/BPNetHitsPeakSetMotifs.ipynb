{
 "cells": [
  {
   "cell_type": "markdown",
   "metadata": {},
   "source": [
    "# BPNet Hits Peak Set x Motif\n",
    "\n",
    "Motifs scores for each peak set based on BPNet hits. \n",
    "\n",
    "Inputs:\n",
    "1. BPNet motif hits\n",
    "2. Peak sets\n",
    "3. Motif group metadata (e.g. Vierstra motif clusters)"
   ]
  },
  {
   "cell_type": "code",
   "execution_count": 234,
   "metadata": {},
   "outputs": [],
   "source": [
    "library(rtracklayer)\n",
    "library(matrixStats)\n",
    "library(reshape2)\n",
    "library(ggplot2)\n",
    "library(scales)\n",
    "library(patchwork)"
   ]
  },
  {
   "cell_type": "markdown",
   "metadata": {},
   "source": [
    "## Load Data"
   ]
  },
  {
   "cell_type": "markdown",
   "metadata": {},
   "source": [
    "### BPNet Motif Hits"
   ]
  },
  {
   "cell_type": "code",
   "execution_count": 4,
   "metadata": {},
   "outputs": [
    {
     "data": {
      "text/plain": [
       "GRanges object with 5839504 ranges and 2 metadata columns:\n",
       "            seqnames            ranges strand |                  name\n",
       "               <Rle>         <IRanges>  <Rle> |           <character>\n",
       "        [1]     chr1       42261-42271      - |        CEBPA_MA0102.3\n",
       "        [2]     chr1       42261-42271      + | CEBPB_MOUSE.H11MO.0.A\n",
       "        [3]     chr1       42276-42289      + |          JUN_MA0489.1\n",
       "        [4]     chr1       42278-42288      + |     BATF+JUN_MA0462.1\n",
       "        [5]     chr1       42280-42290      + |  JUND_HUMAN.H11MO.0.A\n",
       "        ...      ...               ...    ... .                   ...\n",
       "  [5839500]     chrY 26315267-26315285      - |         CTCF_MA0139.1\n",
       "  [5839501]     chrY 26315267-26315283      - | CTCFL_HUMAN.H11MO.0.A\n",
       "  [5839502]     chrY 26315268-26315279      - |  TYY1_HUMAN.H11MO.0.A\n",
       "  [5839503]     chrY 26315268-26315279      - |  TYY1_MOUSE.H11MO.0.A\n",
       "  [5839504]     chrY 26315268-26315279      - |          YY1_MA0095.2\n",
       "                    score\n",
       "                <numeric>\n",
       "        [1] 9.27083536936\n",
       "        [2]  9.1301768749\n",
       "        [3] 9.36704305468\n",
       "        [4] 8.03719454902\n",
       "        [5] 9.29914955533\n",
       "        ...           ...\n",
       "  [5839500] 9.44372195748\n",
       "  [5839501] 5.29089345364\n",
       "  [5839502] 9.25748122281\n",
       "  [5839503] 9.30271482747\n",
       "  [5839504]  10.327511513\n",
       "  -------\n",
       "  seqinfo: 24 sequences from an unspecified genome; no seqlengths"
      ]
     },
     "metadata": {},
     "output_type": "display_data"
    }
   ],
   "source": [
    "bpnet_motif_hits = import(\"../../analysis/20200723_motif_annotation/bpnet_scores/20201020_n62402/hits.bpnet.no_iPSC.all_peaks.FDR_0.1.bed\")\n",
    "bpnet_motif_hits"
   ]
  },
  {
   "cell_type": "markdown",
   "metadata": {},
   "source": [
    "### Peak Sets"
   ]
  },
  {
   "cell_type": "code",
   "execution_count": 7,
   "metadata": {},
   "outputs": [],
   "source": [
    "peak_sets = list()\n",
    "NUM_PEAK_SETS = 20\n",
    "PEAK_SET_PATH = \"../../analysis/20200307_fine_clustering/beds/20201211_gridmap_peakwidthnorm_logplusznorm_4way_ordered_n20/\"\n",
    "\n",
    "for (i in seq(NUM_PEAK_SETS)) {\n",
    "    peak_sets[[i]] = import(sprintf(\"%s/idx%d.bed\", PEAK_SET_PATH, i))\n",
    "}"
   ]
  },
  {
   "cell_type": "code",
   "execution_count": 12,
   "metadata": {},
   "outputs": [
    {
     "data": {
      "text/html": [
       "<style>\n",
       ".list-inline {list-style: none; margin:0; padding: 0}\n",
       ".list-inline>li {display: inline-block}\n",
       ".list-inline>li:not(:last-child)::after {content: \"\\00b7\"; padding: 0 .5ex}\n",
       "</style>\n",
       "<ol class=list-inline><li>24240</li><li>26454</li><li>19808</li><li>21589</li><li>15522</li><li>18279</li><li>16048</li><li>22858</li><li>16378</li><li>25712</li><li>18784</li><li>13720</li><li>14590</li><li>21201</li><li>19328</li><li>24442</li><li>19693</li><li>24842</li><li>14242</li><li>15708</li></ol>\n"
      ],
      "text/latex": [
       "\\begin{enumerate*}\n",
       "\\item 24240\n",
       "\\item 26454\n",
       "\\item 19808\n",
       "\\item 21589\n",
       "\\item 15522\n",
       "\\item 18279\n",
       "\\item 16048\n",
       "\\item 22858\n",
       "\\item 16378\n",
       "\\item 25712\n",
       "\\item 18784\n",
       "\\item 13720\n",
       "\\item 14590\n",
       "\\item 21201\n",
       "\\item 19328\n",
       "\\item 24442\n",
       "\\item 19693\n",
       "\\item 24842\n",
       "\\item 14242\n",
       "\\item 15708\n",
       "\\end{enumerate*}\n"
      ],
      "text/markdown": [
       "1. 24240\n",
       "2. 26454\n",
       "3. 19808\n",
       "4. 21589\n",
       "5. 15522\n",
       "6. 18279\n",
       "7. 16048\n",
       "8. 22858\n",
       "9. 16378\n",
       "10. 25712\n",
       "11. 18784\n",
       "12. 13720\n",
       "13. 14590\n",
       "14. 21201\n",
       "15. 19328\n",
       "16. 24442\n",
       "17. 19693\n",
       "18. 24842\n",
       "19. 14242\n",
       "20. 15708\n",
       "\n",
       "\n"
      ],
      "text/plain": [
       " [1] 24240 26454 19808 21589 15522 18279 16048 22858 16378 25712 18784 13720\n",
       "[13] 14590 21201 19328 24442 19693 24842 14242 15708"
      ]
     },
     "metadata": {},
     "output_type": "display_data"
    }
   ],
   "source": [
    "unlist(lapply(peak_sets, length))"
   ]
  },
  {
   "cell_type": "markdown",
   "metadata": {},
   "source": [
    "### Motif Group Metadata"
   ]
  },
  {
   "cell_type": "code",
   "execution_count": 5,
   "metadata": {},
   "outputs": [
    {
     "data": {
      "text/html": [
       "<style>\n",
       ".list-inline {list-style: none; margin:0; padding: 0}\n",
       ".list-inline>li {display: inline-block}\n",
       ".list-inline>li:not(:last-child)::after {content: \"\\00b7\"; padding: 0 .5ex}\n",
       "</style>\n",
       "<ol class=list-inline><li>2174</li><li>8</li></ol>\n"
      ],
      "text/latex": [
       "\\begin{enumerate*}\n",
       "\\item 2174\n",
       "\\item 8\n",
       "\\end{enumerate*}\n"
      ],
      "text/markdown": [
       "1. 2174\n",
       "2. 8\n",
       "\n",
       "\n"
      ],
      "text/plain": [
       "[1] 2174    8"
      ]
     },
     "metadata": {},
     "output_type": "display_data"
    },
    {
     "data": {
      "text/html": [
       "<table>\n",
       "<caption>A data.frame: 6 × 8</caption>\n",
       "<thead>\n",
       "\t<tr><th></th><th scope=col>Cluster_ID</th><th scope=col>Database</th><th scope=col>Consensus</th><th scope=col>Relative_orientation</th><th scope=col>Width</th><th scope=col>Left_offset</th><th scope=col>Right_offset</th><th scope=col>Gene</th></tr>\n",
       "\t<tr><th></th><th scope=col>&lt;int&gt;</th><th scope=col>&lt;chr&gt;</th><th scope=col>&lt;chr&gt;</th><th scope=col>&lt;chr&gt;</th><th scope=col>&lt;int&gt;</th><th scope=col>&lt;int&gt;</th><th scope=col>&lt;int&gt;</th><th scope=col>&lt;chr&gt;</th></tr>\n",
       "</thead>\n",
       "<tbody>\n",
       "\t<tr><th scope=row>LHX6_homeodomain_3</th><td>1</td><td>Taipale_Cell_2013</td><td>TGATTGCAATCA</td><td>+</td><td>12</td><td>0</td><td> 0</td><td>LHX6 </td></tr>\n",
       "\t<tr><th scope=row>Lhx8.mouse_homeodomain_3</th><td>1</td><td>Taipale_Cell_2013</td><td>TGATTGCAATTA</td><td>-</td><td>12</td><td>0</td><td> 0</td><td>Lhx8 </td></tr>\n",
       "\t<tr><th scope=row>LHX2_MOUSE.H11MO.0.A</th><td>2</td><td>HOCOMOCO_v11     </td><td>ACTAATTAAC  </td><td>-</td><td>10</td><td>7</td><td> 9</td><td>LHX2 </td></tr>\n",
       "\t<tr><th scope=row>LHX2_HUMAN.H11MO.0.A</th><td>2</td><td>HOCOMOCO_v11     </td><td>AACTAATTAAAA</td><td>-</td><td>12</td><td>6</td><td> 8</td><td>LHX2 </td></tr>\n",
       "\t<tr><th scope=row>LHX3_MOUSE.H11MO.0.C</th><td>2</td><td>HOCOMOCO_v11     </td><td>TTAATTAGC   </td><td>-</td><td> 9</td><td>8</td><td> 9</td><td>LHX3 </td></tr>\n",
       "\t<tr><th scope=row>NOBOX_HUMAN.H11MO.0.C</th><td>2</td><td>HOCOMOCO_v11     </td><td>ACCAATTAG   </td><td>-</td><td> 9</td><td>7</td><td>10</td><td>NOBOX</td></tr>\n",
       "</tbody>\n",
       "</table>\n"
      ],
      "text/latex": [
       "A data.frame: 6 × 8\n",
       "\\begin{tabular}{r|llllllll}\n",
       "  & Cluster\\_ID & Database & Consensus & Relative\\_orientation & Width & Left\\_offset & Right\\_offset & Gene\\\\\n",
       "  & <int> & <chr> & <chr> & <chr> & <int> & <int> & <int> & <chr>\\\\\n",
       "\\hline\n",
       "\tLHX6\\_homeodomain\\_3 & 1 & Taipale\\_Cell\\_2013 & TGATTGCAATCA & + & 12 & 0 &  0 & LHX6 \\\\\n",
       "\tLhx8.mouse\\_homeodomain\\_3 & 1 & Taipale\\_Cell\\_2013 & TGATTGCAATTA & - & 12 & 0 &  0 & Lhx8 \\\\\n",
       "\tLHX2\\_MOUSE.H11MO.0.A & 2 & HOCOMOCO\\_v11      & ACTAATTAAC   & - & 10 & 7 &  9 & LHX2 \\\\\n",
       "\tLHX2\\_HUMAN.H11MO.0.A & 2 & HOCOMOCO\\_v11      & AACTAATTAAAA & - & 12 & 6 &  8 & LHX2 \\\\\n",
       "\tLHX3\\_MOUSE.H11MO.0.C & 2 & HOCOMOCO\\_v11      & TTAATTAGC    & - &  9 & 8 &  9 & LHX3 \\\\\n",
       "\tNOBOX\\_HUMAN.H11MO.0.C & 2 & HOCOMOCO\\_v11      & ACCAATTAG    & - &  9 & 7 & 10 & NOBOX\\\\\n",
       "\\end{tabular}\n"
      ],
      "text/markdown": [
       "\n",
       "A data.frame: 6 × 8\n",
       "\n",
       "| <!--/--> | Cluster_ID &lt;int&gt; | Database &lt;chr&gt; | Consensus &lt;chr&gt; | Relative_orientation &lt;chr&gt; | Width &lt;int&gt; | Left_offset &lt;int&gt; | Right_offset &lt;int&gt; | Gene &lt;chr&gt; |\n",
       "|---|---|---|---|---|---|---|---|---|\n",
       "| LHX6_homeodomain_3 | 1 | Taipale_Cell_2013 | TGATTGCAATCA | + | 12 | 0 |  0 | LHX6  |\n",
       "| Lhx8.mouse_homeodomain_3 | 1 | Taipale_Cell_2013 | TGATTGCAATTA | - | 12 | 0 |  0 | Lhx8  |\n",
       "| LHX2_MOUSE.H11MO.0.A | 2 | HOCOMOCO_v11      | ACTAATTAAC   | - | 10 | 7 |  9 | LHX2  |\n",
       "| LHX2_HUMAN.H11MO.0.A | 2 | HOCOMOCO_v11      | AACTAATTAAAA | - | 12 | 6 |  8 | LHX2  |\n",
       "| LHX3_MOUSE.H11MO.0.C | 2 | HOCOMOCO_v11      | TTAATTAGC    | - |  9 | 8 |  9 | LHX3  |\n",
       "| NOBOX_HUMAN.H11MO.0.C | 2 | HOCOMOCO_v11      | ACCAATTAG    | - |  9 | 7 | 10 | NOBOX |\n",
       "\n"
      ],
      "text/plain": [
       "                         Cluster_ID Database          Consensus   \n",
       "LHX6_homeodomain_3       1          Taipale_Cell_2013 TGATTGCAATCA\n",
       "Lhx8.mouse_homeodomain_3 1          Taipale_Cell_2013 TGATTGCAATTA\n",
       "LHX2_MOUSE.H11MO.0.A     2          HOCOMOCO_v11      ACTAATTAAC  \n",
       "LHX2_HUMAN.H11MO.0.A     2          HOCOMOCO_v11      AACTAATTAAAA\n",
       "LHX3_MOUSE.H11MO.0.C     2          HOCOMOCO_v11      TTAATTAGC   \n",
       "NOBOX_HUMAN.H11MO.0.C    2          HOCOMOCO_v11      ACCAATTAG   \n",
       "                         Relative_orientation Width Left_offset Right_offset\n",
       "LHX6_homeodomain_3       +                    12    0            0          \n",
       "Lhx8.mouse_homeodomain_3 -                    12    0            0          \n",
       "LHX2_MOUSE.H11MO.0.A     -                    10    7            9          \n",
       "LHX2_HUMAN.H11MO.0.A     -                    12    6            8          \n",
       "LHX3_MOUSE.H11MO.0.C     -                     9    8            9          \n",
       "NOBOX_HUMAN.H11MO.0.C    -                     9    7           10          \n",
       "                         Gene \n",
       "LHX6_homeodomain_3       LHX6 \n",
       "Lhx8.mouse_homeodomain_3 Lhx8 \n",
       "LHX2_MOUSE.H11MO.0.A     LHX2 \n",
       "LHX2_HUMAN.H11MO.0.A     LHX2 \n",
       "LHX3_MOUSE.H11MO.0.C     LHX3 \n",
       "NOBOX_HUMAN.H11MO.0.C    NOBOX"
      ]
     },
     "metadata": {},
     "output_type": "display_data"
    }
   ],
   "source": [
    "motifs = read.table(\"/srv/www/kundaje/surag/resources/motif_archetypes/motifs.tsv\", \n",
    "                    header=T,\n",
    "                   stringsAsFactors=F)\n",
    "rownames(motifs) = motifs$Motif\n",
    "motifs$Motif = NULL\n",
    "dim(motifs)\n",
    "head(motifs)"
   ]
  },
  {
   "cell_type": "code",
   "execution_count": 6,
   "metadata": {},
   "outputs": [
    {
     "data": {
      "text/html": [
       "<style>\n",
       ".list-inline {list-style: none; margin:0; padding: 0}\n",
       ".list-inline>li {display: inline-block}\n",
       ".list-inline>li:not(:last-child)::after {content: \"\\00b7\"; padding: 0 .5ex}\n",
       "</style>\n",
       "<ol class=list-inline><li>286</li><li>8</li></ol>\n"
      ],
      "text/latex": [
       "\\begin{enumerate*}\n",
       "\\item 286\n",
       "\\item 8\n",
       "\\end{enumerate*}\n"
      ],
      "text/markdown": [
       "1. 286\n",
       "2. 8\n",
       "\n",
       "\n"
      ],
      "text/plain": [
       "[1] 286   8"
      ]
     },
     "metadata": {},
     "output_type": "display_data"
    },
    {
     "data": {
      "text/html": [
       "<table>\n",
       "<caption>A data.frame: 6 × 8</caption>\n",
       "<thead>\n",
       "\t<tr><th></th><th scope=col>Cluster_ID</th><th scope=col>Name</th><th scope=col>DBD</th><th scope=col>Seed_motif</th><th scope=col>Total_width</th><th scope=col>Consensus_left</th><th scope=col>Consensus_right</th><th scope=col>Cluster_size</th></tr>\n",
       "\t<tr><th></th><th scope=col>&lt;int&gt;</th><th scope=col>&lt;chr&gt;</th><th scope=col>&lt;chr&gt;</th><th scope=col>&lt;chr&gt;</th><th scope=col>&lt;int&gt;</th><th scope=col>&lt;int&gt;</th><th scope=col>&lt;int&gt;</th><th scope=col>&lt;int&gt;</th></tr>\n",
       "</thead>\n",
       "<tbody>\n",
       "\t<tr><th scope=row>1</th><td>1</td><td>HD/1</td><td>homeodomain</td><td>LHX6_homeodomain_3   </td><td>12</td><td>0</td><td>12</td><td>  2</td></tr>\n",
       "\t<tr><th scope=row>2</th><td>2</td><td>HD/2</td><td>homeodomain</td><td>ALX3_MA0634.1        </td><td>26</td><td>8</td><td>16</td><td>186</td></tr>\n",
       "\t<tr><th scope=row>3</th><td>3</td><td>HD/3</td><td>homeodomain</td><td>VENTX_homeodomain_2  </td><td>21</td><td>3</td><td>20</td><td>  1</td></tr>\n",
       "\t<tr><th scope=row>4</th><td>4</td><td>HD/4</td><td>homeodomain</td><td>BARX1_MOUSE.H11MO.0.C</td><td>17</td><td>5</td><td>13</td><td> 17</td></tr>\n",
       "\t<tr><th scope=row>5</th><td>5</td><td>HD/5</td><td>homeodomain</td><td>BARX1_homeodomain_1  </td><td>21</td><td>2</td><td>18</td><td>  6</td></tr>\n",
       "\t<tr><th scope=row>6</th><td>6</td><td>HD/6</td><td>homeodomain</td><td>BARHL2_MA0635.1      </td><td>18</td><td>1</td><td>16</td><td> 11</td></tr>\n",
       "</tbody>\n",
       "</table>\n"
      ],
      "text/latex": [
       "A data.frame: 6 × 8\n",
       "\\begin{tabular}{r|llllllll}\n",
       "  & Cluster\\_ID & Name & DBD & Seed\\_motif & Total\\_width & Consensus\\_left & Consensus\\_right & Cluster\\_size\\\\\n",
       "  & <int> & <chr> & <chr> & <chr> & <int> & <int> & <int> & <int>\\\\\n",
       "\\hline\n",
       "\t1 & 1 & HD/1 & homeodomain & LHX6\\_homeodomain\\_3    & 12 & 0 & 12 &   2\\\\\n",
       "\t2 & 2 & HD/2 & homeodomain & ALX3\\_MA0634.1         & 26 & 8 & 16 & 186\\\\\n",
       "\t3 & 3 & HD/3 & homeodomain & VENTX\\_homeodomain\\_2   & 21 & 3 & 20 &   1\\\\\n",
       "\t4 & 4 & HD/4 & homeodomain & BARX1\\_MOUSE.H11MO.0.C & 17 & 5 & 13 &  17\\\\\n",
       "\t5 & 5 & HD/5 & homeodomain & BARX1\\_homeodomain\\_1   & 21 & 2 & 18 &   6\\\\\n",
       "\t6 & 6 & HD/6 & homeodomain & BARHL2\\_MA0635.1       & 18 & 1 & 16 &  11\\\\\n",
       "\\end{tabular}\n"
      ],
      "text/markdown": [
       "\n",
       "A data.frame: 6 × 8\n",
       "\n",
       "| <!--/--> | Cluster_ID &lt;int&gt; | Name &lt;chr&gt; | DBD &lt;chr&gt; | Seed_motif &lt;chr&gt; | Total_width &lt;int&gt; | Consensus_left &lt;int&gt; | Consensus_right &lt;int&gt; | Cluster_size &lt;int&gt; |\n",
       "|---|---|---|---|---|---|---|---|---|\n",
       "| 1 | 1 | HD/1 | homeodomain | LHX6_homeodomain_3    | 12 | 0 | 12 |   2 |\n",
       "| 2 | 2 | HD/2 | homeodomain | ALX3_MA0634.1         | 26 | 8 | 16 | 186 |\n",
       "| 3 | 3 | HD/3 | homeodomain | VENTX_homeodomain_2   | 21 | 3 | 20 |   1 |\n",
       "| 4 | 4 | HD/4 | homeodomain | BARX1_MOUSE.H11MO.0.C | 17 | 5 | 13 |  17 |\n",
       "| 5 | 5 | HD/5 | homeodomain | BARX1_homeodomain_1   | 21 | 2 | 18 |   6 |\n",
       "| 6 | 6 | HD/6 | homeodomain | BARHL2_MA0635.1       | 18 | 1 | 16 |  11 |\n",
       "\n"
      ],
      "text/plain": [
       "  Cluster_ID Name DBD         Seed_motif            Total_width Consensus_left\n",
       "1 1          HD/1 homeodomain LHX6_homeodomain_3    12          0             \n",
       "2 2          HD/2 homeodomain ALX3_MA0634.1         26          8             \n",
       "3 3          HD/3 homeodomain VENTX_homeodomain_2   21          3             \n",
       "4 4          HD/4 homeodomain BARX1_MOUSE.H11MO.0.C 17          5             \n",
       "5 5          HD/5 homeodomain BARX1_homeodomain_1   21          2             \n",
       "6 6          HD/6 homeodomain BARHL2_MA0635.1       18          1             \n",
       "  Consensus_right Cluster_size\n",
       "1 12                2         \n",
       "2 16              186         \n",
       "3 20                1         \n",
       "4 13               17         \n",
       "5 18                6         \n",
       "6 16               11         "
      ]
     },
     "metadata": {},
     "output_type": "display_data"
    }
   ],
   "source": [
    "motif_archetypes = read.table(\"/srv/www/kundaje/surag/resources/motif_archetypes/archetypes.tsv\", \n",
    "                              header=T,\n",
    "                             stringsAsFactors=F)\n",
    "motif_archetypes = motif_archetypes[order(motif_archetypes$Cluster_ID), ]\n",
    "rownames(motif_archetypes) = motif_archetypes$Cluster_ID\n",
    "dim(motif_archetypes)\n",
    "head(motif_archetypes)"
   ]
  },
  {
   "cell_type": "markdown",
   "metadata": {},
   "source": [
    "## Process"
   ]
  },
  {
   "cell_type": "markdown",
   "metadata": {},
   "source": [
    "### Make Counts Matrix"
   ]
  },
  {
   "cell_type": "code",
   "execution_count": 148,
   "metadata": {},
   "outputs": [],
   "source": [
    "peak_x_motif_counts = matrix(0, nrow=NUM_PEAK_SETS, \n",
    "                                 ncol=length(unique(bpnet_motif_hits$name)))\n",
    "rownames(peak_x_motif_counts) = seq(NUM_PEAK_SETS)\n",
    "colnames(peak_x_motif_counts) = unique(bpnet_motif_hits$name)"
   ]
  },
  {
   "cell_type": "code",
   "execution_count": 149,
   "metadata": {},
   "outputs": [],
   "source": [
    "NUM_PEAKS = list()"
   ]
  },
  {
   "cell_type": "code",
   "execution_count": 150,
   "metadata": {},
   "outputs": [],
   "source": [
    "for (i in seq(NUM_PEAK_SETS)) {\n",
    "    cur_peak_set = peak_sets[[i]]\n",
    "    NUM_PEAKS[[i]] = length(cur_peak_set)\n",
    "    \n",
    "    # allows counting multiple hits per peak\n",
    "    cur_motif_counts = table(bpnet_motif_hits[queryHits(findOverlaps(bpnet_motif_hits, cur_peak_set, type='within'))]$name)\n",
    "    \n",
    "    peak_x_motif_counts[i, names(cur_motif_counts)] = cur_motif_counts\n",
    "}"
   ]
  },
  {
   "cell_type": "code",
   "execution_count": 151,
   "metadata": {},
   "outputs": [
    {
     "data": {
      "text/html": [
       "<table>\n",
       "<caption>A matrix: 6 × 123 of type dbl</caption>\n",
       "<thead>\n",
       "\t<tr><th></th><th scope=col>CEBPA_MA0102.3</th><th scope=col>CEBPB_MOUSE.H11MO.0.A</th><th scope=col>JUN_MA0489.1</th><th scope=col>BATF+JUN_MA0462.1</th><th scope=col>JUND_HUMAN.H11MO.0.A</th><th scope=col>JUN_HUMAN.H11MO.0.A</th><th scope=col>NANOG_MOUSE.H11MO.0.A</th><th scope=col>PO5F1_MOUSE.H11MO.0.A</th><th scope=col>AP2A_HUMAN.H11MO.0.A</th><th scope=col>AP2C_HUMAN.H11MO.0.A</th><th scope=col>⋯</th><th scope=col>Pou5f1+Sox2_MA0142.1</th><th scope=col>Foxc1.mouse_forkhead_2</th><th scope=col>TEAD3_TEA_1</th><th scope=col>TYY1_HUMAN.H11MO.0.A</th><th scope=col>TYY1_MOUSE.H11MO.0.A</th><th scope=col>YY1_MA0095.2</th><th scope=col>RFX2_HUMAN.H11MO.0.A</th><th scope=col>SIX1_HUMAN.H11MO.0.A</th><th scope=col>SIX2_MOUSE.H11MO.0.A</th><th scope=col>SIX2_HUMAN.H11MO.0.A</th></tr>\n",
       "</thead>\n",
       "<tbody>\n",
       "\t<tr><th scope=row>1</th><td>628</td><td>600</td><td>16136</td><td>10394</td><td>10353</td><td>10646</td><td> 379</td><td> 387</td><td> 289</td><td> 299</td><td>⋯</td><td> 390</td><td>735</td><td>261</td><td> 79</td><td> 93</td><td>107</td><td> 76</td><td>155</td><td>166</td><td>201</td></tr>\n",
       "\t<tr><th scope=row>2</th><td>574</td><td>551</td><td>12472</td><td> 7990</td><td> 8145</td><td> 8483</td><td> 143</td><td>  92</td><td>  85</td><td>  91</td><td>⋯</td><td> 103</td><td>454</td><td>168</td><td> 43</td><td> 40</td><td> 57</td><td> 21</td><td>110</td><td>113</td><td>126</td></tr>\n",
       "\t<tr><th scope=row>3</th><td>313</td><td>310</td><td>10717</td><td> 6089</td><td> 6965</td><td> 7111</td><td> 365</td><td> 394</td><td> 616</td><td> 740</td><td>⋯</td><td> 364</td><td>244</td><td>200</td><td>111</td><td>136</td><td>111</td><td> 49</td><td>103</td><td>109</td><td>127</td></tr>\n",
       "\t<tr><th scope=row>4</th><td>705</td><td>664</td><td>21904</td><td>13196</td><td>14165</td><td>14438</td><td> 805</td><td> 908</td><td> 891</td><td>1066</td><td>⋯</td><td> 864</td><td>732</td><td>414</td><td>194</td><td>209</td><td>190</td><td>140</td><td>258</td><td>276</td><td>314</td></tr>\n",
       "\t<tr><th scope=row>5</th><td>385</td><td>420</td><td>15209</td><td> 8548</td><td> 9852</td><td> 9928</td><td>1213</td><td>1319</td><td>1736</td><td>2129</td><td>⋯</td><td>1226</td><td>354</td><td>372</td><td>367</td><td>405</td><td>281</td><td>108</td><td>190</td><td>227</td><td>240</td></tr>\n",
       "\t<tr><th scope=row>6</th><td>136</td><td>132</td><td> 5419</td><td> 3329</td><td> 3502</td><td> 3566</td><td> 522</td><td> 607</td><td> 339</td><td> 362</td><td>⋯</td><td> 587</td><td>173</td><td>158</td><td> 48</td><td> 65</td><td> 47</td><td> 38</td><td> 99</td><td>105</td><td>147</td></tr>\n",
       "</tbody>\n",
       "</table>\n"
      ],
      "text/latex": [
       "A matrix: 6 × 123 of type dbl\n",
       "\\begin{tabular}{r|lllllllllllllllllllll}\n",
       "  & CEBPA\\_MA0102.3 & CEBPB\\_MOUSE.H11MO.0.A & JUN\\_MA0489.1 & BATF+JUN\\_MA0462.1 & JUND\\_HUMAN.H11MO.0.A & JUN\\_HUMAN.H11MO.0.A & NANOG\\_MOUSE.H11MO.0.A & PO5F1\\_MOUSE.H11MO.0.A & AP2A\\_HUMAN.H11MO.0.A & AP2C\\_HUMAN.H11MO.0.A & ⋯ & Pou5f1+Sox2\\_MA0142.1 & Foxc1.mouse\\_forkhead\\_2 & TEAD3\\_TEA\\_1 & TYY1\\_HUMAN.H11MO.0.A & TYY1\\_MOUSE.H11MO.0.A & YY1\\_MA0095.2 & RFX2\\_HUMAN.H11MO.0.A & SIX1\\_HUMAN.H11MO.0.A & SIX2\\_MOUSE.H11MO.0.A & SIX2\\_HUMAN.H11MO.0.A\\\\\n",
       "\\hline\n",
       "\t1 & 628 & 600 & 16136 & 10394 & 10353 & 10646 &  379 &  387 &  289 &  299 & ⋯ &  390 & 735 & 261 &  79 &  93 & 107 &  76 & 155 & 166 & 201\\\\\n",
       "\t2 & 574 & 551 & 12472 &  7990 &  8145 &  8483 &  143 &   92 &   85 &   91 & ⋯ &  103 & 454 & 168 &  43 &  40 &  57 &  21 & 110 & 113 & 126\\\\\n",
       "\t3 & 313 & 310 & 10717 &  6089 &  6965 &  7111 &  365 &  394 &  616 &  740 & ⋯ &  364 & 244 & 200 & 111 & 136 & 111 &  49 & 103 & 109 & 127\\\\\n",
       "\t4 & 705 & 664 & 21904 & 13196 & 14165 & 14438 &  805 &  908 &  891 & 1066 & ⋯ &  864 & 732 & 414 & 194 & 209 & 190 & 140 & 258 & 276 & 314\\\\\n",
       "\t5 & 385 & 420 & 15209 &  8548 &  9852 &  9928 & 1213 & 1319 & 1736 & 2129 & ⋯ & 1226 & 354 & 372 & 367 & 405 & 281 & 108 & 190 & 227 & 240\\\\\n",
       "\t6 & 136 & 132 &  5419 &  3329 &  3502 &  3566 &  522 &  607 &  339 &  362 & ⋯ &  587 & 173 & 158 &  48 &  65 &  47 &  38 &  99 & 105 & 147\\\\\n",
       "\\end{tabular}\n"
      ],
      "text/markdown": [
       "\n",
       "A matrix: 6 × 123 of type dbl\n",
       "\n",
       "| <!--/--> | CEBPA_MA0102.3 | CEBPB_MOUSE.H11MO.0.A | JUN_MA0489.1 | BATF+JUN_MA0462.1 | JUND_HUMAN.H11MO.0.A | JUN_HUMAN.H11MO.0.A | NANOG_MOUSE.H11MO.0.A | PO5F1_MOUSE.H11MO.0.A | AP2A_HUMAN.H11MO.0.A | AP2C_HUMAN.H11MO.0.A | ⋯ | Pou5f1+Sox2_MA0142.1 | Foxc1.mouse_forkhead_2 | TEAD3_TEA_1 | TYY1_HUMAN.H11MO.0.A | TYY1_MOUSE.H11MO.0.A | YY1_MA0095.2 | RFX2_HUMAN.H11MO.0.A | SIX1_HUMAN.H11MO.0.A | SIX2_MOUSE.H11MO.0.A | SIX2_HUMAN.H11MO.0.A |\n",
       "|---|---|---|---|---|---|---|---|---|---|---|---|---|---|---|---|---|---|---|---|---|---|\n",
       "| 1 | 628 | 600 | 16136 | 10394 | 10353 | 10646 |  379 |  387 |  289 |  299 | ⋯ |  390 | 735 | 261 |  79 |  93 | 107 |  76 | 155 | 166 | 201 |\n",
       "| 2 | 574 | 551 | 12472 |  7990 |  8145 |  8483 |  143 |   92 |   85 |   91 | ⋯ |  103 | 454 | 168 |  43 |  40 |  57 |  21 | 110 | 113 | 126 |\n",
       "| 3 | 313 | 310 | 10717 |  6089 |  6965 |  7111 |  365 |  394 |  616 |  740 | ⋯ |  364 | 244 | 200 | 111 | 136 | 111 |  49 | 103 | 109 | 127 |\n",
       "| 4 | 705 | 664 | 21904 | 13196 | 14165 | 14438 |  805 |  908 |  891 | 1066 | ⋯ |  864 | 732 | 414 | 194 | 209 | 190 | 140 | 258 | 276 | 314 |\n",
       "| 5 | 385 | 420 | 15209 |  8548 |  9852 |  9928 | 1213 | 1319 | 1736 | 2129 | ⋯ | 1226 | 354 | 372 | 367 | 405 | 281 | 108 | 190 | 227 | 240 |\n",
       "| 6 | 136 | 132 |  5419 |  3329 |  3502 |  3566 |  522 |  607 |  339 |  362 | ⋯ |  587 | 173 | 158 |  48 |  65 |  47 |  38 |  99 | 105 | 147 |\n",
       "\n"
      ],
      "text/plain": [
       "  CEBPA_MA0102.3 CEBPB_MOUSE.H11MO.0.A JUN_MA0489.1 BATF+JUN_MA0462.1\n",
       "1 628            600                   16136        10394            \n",
       "2 574            551                   12472         7990            \n",
       "3 313            310                   10717         6089            \n",
       "4 705            664                   21904        13196            \n",
       "5 385            420                   15209         8548            \n",
       "6 136            132                    5419         3329            \n",
       "  JUND_HUMAN.H11MO.0.A JUN_HUMAN.H11MO.0.A NANOG_MOUSE.H11MO.0.A\n",
       "1 10353                10646                379                 \n",
       "2  8145                 8483                143                 \n",
       "3  6965                 7111                365                 \n",
       "4 14165                14438                805                 \n",
       "5  9852                 9928               1213                 \n",
       "6  3502                 3566                522                 \n",
       "  PO5F1_MOUSE.H11MO.0.A AP2A_HUMAN.H11MO.0.A AP2C_HUMAN.H11MO.0.A ⋯\n",
       "1  387                   289                  299                 ⋯\n",
       "2   92                    85                   91                 ⋯\n",
       "3  394                   616                  740                 ⋯\n",
       "4  908                   891                 1066                 ⋯\n",
       "5 1319                  1736                 2129                 ⋯\n",
       "6  607                   339                  362                 ⋯\n",
       "  Pou5f1+Sox2_MA0142.1 Foxc1.mouse_forkhead_2 TEAD3_TEA_1 TYY1_HUMAN.H11MO.0.A\n",
       "1  390                 735                    261          79                 \n",
       "2  103                 454                    168          43                 \n",
       "3  364                 244                    200         111                 \n",
       "4  864                 732                    414         194                 \n",
       "5 1226                 354                    372         367                 \n",
       "6  587                 173                    158          48                 \n",
       "  TYY1_MOUSE.H11MO.0.A YY1_MA0095.2 RFX2_HUMAN.H11MO.0.A SIX1_HUMAN.H11MO.0.A\n",
       "1  93                  107           76                  155                 \n",
       "2  40                   57           21                  110                 \n",
       "3 136                  111           49                  103                 \n",
       "4 209                  190          140                  258                 \n",
       "5 405                  281          108                  190                 \n",
       "6  65                   47           38                   99                 \n",
       "  SIX2_MOUSE.H11MO.0.A SIX2_HUMAN.H11MO.0.A\n",
       "1 166                  201                 \n",
       "2 113                  126                 \n",
       "3 109                  127                 \n",
       "4 276                  314                 \n",
       "5 227                  240                 \n",
       "6 105                  147                 "
      ]
     },
     "metadata": {},
     "output_type": "display_data"
    }
   ],
   "source": [
    "head(peak_x_motif_counts)"
   ]
  },
  {
   "cell_type": "markdown",
   "metadata": {},
   "source": [
    "### Normalize Matrix"
   ]
  },
  {
   "cell_type": "code",
   "execution_count": 207,
   "metadata": {},
   "outputs": [
    {
     "data": {
      "text/html": [
       "<table>\n",
       "<caption>A matrix: 6 × 120 of type dbl</caption>\n",
       "<thead>\n",
       "\t<tr><th></th><th scope=col>CEBPA_MA0102.3</th><th scope=col>CEBPB_MOUSE.H11MO.0.A</th><th scope=col>JUN_MA0489.1</th><th scope=col>BATF+JUN_MA0462.1</th><th scope=col>JUND_HUMAN.H11MO.0.A</th><th scope=col>JUN_HUMAN.H11MO.0.A</th><th scope=col>NANOG_MOUSE.H11MO.0.A</th><th scope=col>PO5F1_MOUSE.H11MO.0.A</th><th scope=col>AP2A_HUMAN.H11MO.0.A</th><th scope=col>AP2C_HUMAN.H11MO.0.A</th><th scope=col>⋯</th><th scope=col>Sox3_MA0514.1</th><th scope=col>PO5F1_HUMAN.H11MO.0.A</th><th scope=col>Pou5f1+Sox2_MA0142.1</th><th scope=col>Foxc1.mouse_forkhead_2</th><th scope=col>TEAD3_TEA_1</th><th scope=col>TYY1_HUMAN.H11MO.0.A</th><th scope=col>TYY1_MOUSE.H11MO.0.A</th><th scope=col>YY1_MA0095.2</th><th scope=col>SIX2_MOUSE.H11MO.0.A</th><th scope=col>SIX2_HUMAN.H11MO.0.A</th></tr>\n",
       "</thead>\n",
       "<tbody>\n",
       "\t<tr><th scope=row>1</th><td>0.7279151</td><td>0.7174862</td><td>0.8646978</td><td>0.8697038</td><td>0.8476569</td><td>0.8364684</td><td>0.024191500</td><td>0.0197795299</td><td>0.04021331</td><td>0.03617089</td><td>⋯</td><td>0.04851273</td><td>0.023756989</td><td>0.024487228</td><td>1.0000000</td><td>0.8132504</td><td>0.04299219</td><td>0.09335696</td><td>0.14113502</td><td>0.7637613</td><td>0.6505408</td></tr>\n",
       "\t<tr><th scope=row>2</th><td>1.0000000</td><td>1.0000000</td><td>1.0000000</td><td>1.0000000</td><td>1.0000000</td><td>1.0000000</td><td>0.009391964</td><td>0.0009966257</td><td>0.00000000</td><td>0.00000000</td><td>⋯</td><td>0.02712215</td><td>0.003171229</td><td>0.003505008</td><td>0.9189530</td><td>0.7742520</td><td>0.00000000</td><td>0.00000000</td><td>0.06366852</td><td>0.7765733</td><td>0.5986644</td></tr>\n",
       "\t<tr><th scope=row>3</th><td>0.3464335</td><td>0.3422208</td><td>0.5581863</td><td>0.4918446</td><td>0.5514313</td><td>0.5399423</td><td>0.022638377</td><td>0.0200275721</td><td>0.11974133</td><td>0.13220261</td><td>⋯</td><td>0.10834833</td><td>0.021601510</td><td>0.021878677</td><td>0.3216020</td><td>0.5867316</td><td>0.13191697</td><td>0.20985802</td><td>0.15149463</td><td>0.4366081</td><td>0.3587677</td></tr>\n",
       "\t<tr><th scope=row>4</th><td>0.4507547</td><td>0.4278382</td><td>0.6536109</td><td>0.6130474</td><td>0.6438241</td><td>0.6293684</td><td>0.030815196</td><td>0.0291200204</td><td>0.09288619</td><td>0.10283080</td><td>⋯</td><td>0.12044134</td><td>0.033057190</td><td>0.033048259</td><td>0.5560838</td><td>0.7128675</td><td>0.12987491</td><td>0.16230834</td><td>0.14111604</td><td>0.7041288</td><td>0.5567237</td></tr>\n",
       "\t<tr><th scope=row>5</th><td>0.1728722</td><td>0.1799717</td><td>0.3315051</td><td>0.2874776</td><td>0.3226754</td><td>0.3111683</td><td>0.036860694</td><td>0.0332801358</td><td>0.15332200</td><td>0.17239062</td><td>⋯</td><td>0.16099474</td><td>0.037205240</td><td>0.036612315</td><td>0.1983552</td><td>0.4487640</td><td>0.26898681</td><td>0.31953677</td><td>0.18921433</td><td>0.3776935</td><td>0.2707039</td></tr>\n",
       "\t<tr><th scope=row>6</th><td>0.2974992</td><td>0.2836314</td><td>0.5644703</td><td>0.5403133</td><td>0.5543738</td><td>0.5412918</td><td>0.082528659</td><td>0.0810008792</td><td>0.13484358</td><td>0.12859688</td><td>⋯</td><td>0.12649271</td><td>0.091101333</td><td>0.092966884</td><td>0.4602665</td><td>1.0000000</td><td>0.08906444</td><td>0.19303745</td><td>0.09231227</td><td>1.0000000</td><td>1.0000000</td></tr>\n",
       "</tbody>\n",
       "</table>\n"
      ],
      "text/latex": [
       "A matrix: 6 × 120 of type dbl\n",
       "\\begin{tabular}{r|lllllllllllllllllllll}\n",
       "  & CEBPA\\_MA0102.3 & CEBPB\\_MOUSE.H11MO.0.A & JUN\\_MA0489.1 & BATF+JUN\\_MA0462.1 & JUND\\_HUMAN.H11MO.0.A & JUN\\_HUMAN.H11MO.0.A & NANOG\\_MOUSE.H11MO.0.A & PO5F1\\_MOUSE.H11MO.0.A & AP2A\\_HUMAN.H11MO.0.A & AP2C\\_HUMAN.H11MO.0.A & ⋯ & Sox3\\_MA0514.1 & PO5F1\\_HUMAN.H11MO.0.A & Pou5f1+Sox2\\_MA0142.1 & Foxc1.mouse\\_forkhead\\_2 & TEAD3\\_TEA\\_1 & TYY1\\_HUMAN.H11MO.0.A & TYY1\\_MOUSE.H11MO.0.A & YY1\\_MA0095.2 & SIX2\\_MOUSE.H11MO.0.A & SIX2\\_HUMAN.H11MO.0.A\\\\\n",
       "\\hline\n",
       "\t1 & 0.7279151 & 0.7174862 & 0.8646978 & 0.8697038 & 0.8476569 & 0.8364684 & 0.024191500 & 0.0197795299 & 0.04021331 & 0.03617089 & ⋯ & 0.04851273 & 0.023756989 & 0.024487228 & 1.0000000 & 0.8132504 & 0.04299219 & 0.09335696 & 0.14113502 & 0.7637613 & 0.6505408\\\\\n",
       "\t2 & 1.0000000 & 1.0000000 & 1.0000000 & 1.0000000 & 1.0000000 & 1.0000000 & 0.009391964 & 0.0009966257 & 0.00000000 & 0.00000000 & ⋯ & 0.02712215 & 0.003171229 & 0.003505008 & 0.9189530 & 0.7742520 & 0.00000000 & 0.00000000 & 0.06366852 & 0.7765733 & 0.5986644\\\\\n",
       "\t3 & 0.3464335 & 0.3422208 & 0.5581863 & 0.4918446 & 0.5514313 & 0.5399423 & 0.022638377 & 0.0200275721 & 0.11974133 & 0.13220261 & ⋯ & 0.10834833 & 0.021601510 & 0.021878677 & 0.3216020 & 0.5867316 & 0.13191697 & 0.20985802 & 0.15149463 & 0.4366081 & 0.3587677\\\\\n",
       "\t4 & 0.4507547 & 0.4278382 & 0.6536109 & 0.6130474 & 0.6438241 & 0.6293684 & 0.030815196 & 0.0291200204 & 0.09288619 & 0.10283080 & ⋯ & 0.12044134 & 0.033057190 & 0.033048259 & 0.5560838 & 0.7128675 & 0.12987491 & 0.16230834 & 0.14111604 & 0.7041288 & 0.5567237\\\\\n",
       "\t5 & 0.1728722 & 0.1799717 & 0.3315051 & 0.2874776 & 0.3226754 & 0.3111683 & 0.036860694 & 0.0332801358 & 0.15332200 & 0.17239062 & ⋯ & 0.16099474 & 0.037205240 & 0.036612315 & 0.1983552 & 0.4487640 & 0.26898681 & 0.31953677 & 0.18921433 & 0.3776935 & 0.2707039\\\\\n",
       "\t6 & 0.2974992 & 0.2836314 & 0.5644703 & 0.5403133 & 0.5543738 & 0.5412918 & 0.082528659 & 0.0810008792 & 0.13484358 & 0.12859688 & ⋯ & 0.12649271 & 0.091101333 & 0.092966884 & 0.4602665 & 1.0000000 & 0.08906444 & 0.19303745 & 0.09231227 & 1.0000000 & 1.0000000\\\\\n",
       "\\end{tabular}\n"
      ],
      "text/markdown": [
       "\n",
       "A matrix: 6 × 120 of type dbl\n",
       "\n",
       "| <!--/--> | CEBPA_MA0102.3 | CEBPB_MOUSE.H11MO.0.A | JUN_MA0489.1 | BATF+JUN_MA0462.1 | JUND_HUMAN.H11MO.0.A | JUN_HUMAN.H11MO.0.A | NANOG_MOUSE.H11MO.0.A | PO5F1_MOUSE.H11MO.0.A | AP2A_HUMAN.H11MO.0.A | AP2C_HUMAN.H11MO.0.A | ⋯ | Sox3_MA0514.1 | PO5F1_HUMAN.H11MO.0.A | Pou5f1+Sox2_MA0142.1 | Foxc1.mouse_forkhead_2 | TEAD3_TEA_1 | TYY1_HUMAN.H11MO.0.A | TYY1_MOUSE.H11MO.0.A | YY1_MA0095.2 | SIX2_MOUSE.H11MO.0.A | SIX2_HUMAN.H11MO.0.A |\n",
       "|---|---|---|---|---|---|---|---|---|---|---|---|---|---|---|---|---|---|---|---|---|---|\n",
       "| 1 | 0.7279151 | 0.7174862 | 0.8646978 | 0.8697038 | 0.8476569 | 0.8364684 | 0.024191500 | 0.0197795299 | 0.04021331 | 0.03617089 | ⋯ | 0.04851273 | 0.023756989 | 0.024487228 | 1.0000000 | 0.8132504 | 0.04299219 | 0.09335696 | 0.14113502 | 0.7637613 | 0.6505408 |\n",
       "| 2 | 1.0000000 | 1.0000000 | 1.0000000 | 1.0000000 | 1.0000000 | 1.0000000 | 0.009391964 | 0.0009966257 | 0.00000000 | 0.00000000 | ⋯ | 0.02712215 | 0.003171229 | 0.003505008 | 0.9189530 | 0.7742520 | 0.00000000 | 0.00000000 | 0.06366852 | 0.7765733 | 0.5986644 |\n",
       "| 3 | 0.3464335 | 0.3422208 | 0.5581863 | 0.4918446 | 0.5514313 | 0.5399423 | 0.022638377 | 0.0200275721 | 0.11974133 | 0.13220261 | ⋯ | 0.10834833 | 0.021601510 | 0.021878677 | 0.3216020 | 0.5867316 | 0.13191697 | 0.20985802 | 0.15149463 | 0.4366081 | 0.3587677 |\n",
       "| 4 | 0.4507547 | 0.4278382 | 0.6536109 | 0.6130474 | 0.6438241 | 0.6293684 | 0.030815196 | 0.0291200204 | 0.09288619 | 0.10283080 | ⋯ | 0.12044134 | 0.033057190 | 0.033048259 | 0.5560838 | 0.7128675 | 0.12987491 | 0.16230834 | 0.14111604 | 0.7041288 | 0.5567237 |\n",
       "| 5 | 0.1728722 | 0.1799717 | 0.3315051 | 0.2874776 | 0.3226754 | 0.3111683 | 0.036860694 | 0.0332801358 | 0.15332200 | 0.17239062 | ⋯ | 0.16099474 | 0.037205240 | 0.036612315 | 0.1983552 | 0.4487640 | 0.26898681 | 0.31953677 | 0.18921433 | 0.3776935 | 0.2707039 |\n",
       "| 6 | 0.2974992 | 0.2836314 | 0.5644703 | 0.5403133 | 0.5543738 | 0.5412918 | 0.082528659 | 0.0810008792 | 0.13484358 | 0.12859688 | ⋯ | 0.12649271 | 0.091101333 | 0.092966884 | 0.4602665 | 1.0000000 | 0.08906444 | 0.19303745 | 0.09231227 | 1.0000000 | 1.0000000 |\n",
       "\n"
      ],
      "text/plain": [
       "  CEBPA_MA0102.3 CEBPB_MOUSE.H11MO.0.A JUN_MA0489.1 BATF+JUN_MA0462.1\n",
       "1 0.7279151      0.7174862             0.8646978    0.8697038        \n",
       "2 1.0000000      1.0000000             1.0000000    1.0000000        \n",
       "3 0.3464335      0.3422208             0.5581863    0.4918446        \n",
       "4 0.4507547      0.4278382             0.6536109    0.6130474        \n",
       "5 0.1728722      0.1799717             0.3315051    0.2874776        \n",
       "6 0.2974992      0.2836314             0.5644703    0.5403133        \n",
       "  JUND_HUMAN.H11MO.0.A JUN_HUMAN.H11MO.0.A NANOG_MOUSE.H11MO.0.A\n",
       "1 0.8476569            0.8364684           0.024191500          \n",
       "2 1.0000000            1.0000000           0.009391964          \n",
       "3 0.5514313            0.5399423           0.022638377          \n",
       "4 0.6438241            0.6293684           0.030815196          \n",
       "5 0.3226754            0.3111683           0.036860694          \n",
       "6 0.5543738            0.5412918           0.082528659          \n",
       "  PO5F1_MOUSE.H11MO.0.A AP2A_HUMAN.H11MO.0.A AP2C_HUMAN.H11MO.0.A ⋯\n",
       "1 0.0197795299          0.04021331           0.03617089           ⋯\n",
       "2 0.0009966257          0.00000000           0.00000000           ⋯\n",
       "3 0.0200275721          0.11974133           0.13220261           ⋯\n",
       "4 0.0291200204          0.09288619           0.10283080           ⋯\n",
       "5 0.0332801358          0.15332200           0.17239062           ⋯\n",
       "6 0.0810008792          0.13484358           0.12859688           ⋯\n",
       "  Sox3_MA0514.1 PO5F1_HUMAN.H11MO.0.A Pou5f1+Sox2_MA0142.1\n",
       "1 0.04851273    0.023756989           0.024487228         \n",
       "2 0.02712215    0.003171229           0.003505008         \n",
       "3 0.10834833    0.021601510           0.021878677         \n",
       "4 0.12044134    0.033057190           0.033048259         \n",
       "5 0.16099474    0.037205240           0.036612315         \n",
       "6 0.12649271    0.091101333           0.092966884         \n",
       "  Foxc1.mouse_forkhead_2 TEAD3_TEA_1 TYY1_HUMAN.H11MO.0.A TYY1_MOUSE.H11MO.0.A\n",
       "1 1.0000000              0.8132504   0.04299219           0.09335696          \n",
       "2 0.9189530              0.7742520   0.00000000           0.00000000          \n",
       "3 0.3216020              0.5867316   0.13191697           0.20985802          \n",
       "4 0.5560838              0.7128675   0.12987491           0.16230834          \n",
       "5 0.1983552              0.4487640   0.26898681           0.31953677          \n",
       "6 0.4602665              1.0000000   0.08906444           0.19303745          \n",
       "  YY1_MA0095.2 SIX2_MOUSE.H11MO.0.A SIX2_HUMAN.H11MO.0.A\n",
       "1 0.14113502   0.7637613            0.6505408           \n",
       "2 0.06366852   0.7765733            0.5986644           \n",
       "3 0.15149463   0.4366081            0.3587677           \n",
       "4 0.14111604   0.7041288            0.5567237           \n",
       "5 0.18921433   0.3776935            0.2707039           \n",
       "6 0.09231227   1.0000000            1.0000000           "
      ]
     },
     "metadata": {},
     "output_type": "display_data"
    }
   ],
   "source": [
    "# filter\n",
    "MIN_TOTAL_HITS = 2000\n",
    "peak_x_motif_norm = peak_x_motif_counts[, colSums(peak_x_motif_counts)>MIN_TOTAL_HITS]\n",
    "\n",
    "# row norm\n",
    "peak_x_motif_norm = peak_x_motif_norm/rowSums(peak_x_motif_norm)\n",
    "\n",
    "# col norm by total number of peaks in peakset\n",
    "# may show higher counts for peak sets part of multiple cell states \n",
    "# which would as a result have more called motifs\n",
    "# peak_x_motif_norm = t(t(peak_x_motif_norm)/unlist(NUM_PEAKS[rownames(peak_x_motif_counts)]))\n",
    "\n",
    "# column norm to 0-1\n",
    "peak_x_motif_norm = t(t(peak_x_motif_norm) - colMins(peak_x_motif_norm))\n",
    "peak_x_motif_norm = t(t(peak_x_motif_norm)/colMaxs(peak_x_motif_norm))\n",
    "\n",
    "head(peak_x_motif_norm)"
   ]
  },
  {
   "cell_type": "code",
   "execution_count": 208,
   "metadata": {},
   "outputs": [
    {
     "data": {
      "text/html": [
       "<style>\n",
       ".list-inline {list-style: none; margin:0; padding: 0}\n",
       ".list-inline>li {display: inline-block}\n",
       ".list-inline>li:not(:last-child)::after {content: \"\\00b7\"; padding: 0 .5ex}\n",
       "</style>\n",
       "<ol class=list-inline><li>20</li><li>120</li></ol>\n"
      ],
      "text/latex": [
       "\\begin{enumerate*}\n",
       "\\item 20\n",
       "\\item 120\n",
       "\\end{enumerate*}\n"
      ],
      "text/markdown": [
       "1. 20\n",
       "2. 120\n",
       "\n",
       "\n"
      ],
      "text/plain": [
       "[1]  20 120"
      ]
     },
     "metadata": {},
     "output_type": "display_data"
    }
   ],
   "source": [
    "dim(peak_x_motif_norm)"
   ]
  },
  {
   "cell_type": "code",
   "execution_count": 209,
   "metadata": {},
   "outputs": [
    {
     "data": {
      "text/html": [
       "TRUE"
      ],
      "text/latex": [
       "TRUE"
      ],
      "text/markdown": [
       "TRUE"
      ],
      "text/plain": [
       "[1] TRUE"
      ]
     },
     "metadata": {},
     "output_type": "display_data"
    },
    {
     "data": {
      "text/html": [
       "TRUE"
      ],
      "text/latex": [
       "TRUE"
      ],
      "text/markdown": [
       "TRUE"
      ],
      "text/plain": [
       "[1] TRUE"
      ]
     },
     "metadata": {},
     "output_type": "display_data"
    }
   ],
   "source": [
    "all(colMins(peak_x_motif_norm)==0)\n",
    "all(colMaxs(peak_x_motif_norm)==1)"
   ]
  },
  {
   "cell_type": "code",
   "execution_count": 210,
   "metadata": {},
   "outputs": [
    {
     "data": {
      "text/html": [
       "TRUE"
      ],
      "text/latex": [
       "TRUE"
      ],
      "text/markdown": [
       "TRUE"
      ],
      "text/plain": [
       "[1] TRUE"
      ]
     },
     "metadata": {},
     "output_type": "display_data"
    }
   ],
   "source": [
    "all(colnames(peak_x_motif_norm) %in% rownames(motifs))"
   ]
  },
  {
   "cell_type": "code",
   "execution_count": 211,
   "metadata": {},
   "outputs": [],
   "source": [
    "to_plot_df = melt(peak_x_motif_norm)\n",
    "\n",
    "to_plot_df$peak_set_idx = factor(to_plot_df$Var1, levels=rev(sort(unique(to_plot_df$Var1))))\n",
    "to_plot_df$score = to_plot_df$value\n",
    "to_plot_df$TF = as.character(to_plot_df$Var2)\n",
    "\n",
    "df_tf_fam = factor(motif_archetypes[motifs[to_plot_df$TF, \"Cluster_ID\"], \"Name\"])\n",
    "to_plot_df$TF_family = as.character(df_tf_fam)"
   ]
  },
  {
   "cell_type": "code",
   "execution_count": 212,
   "metadata": {},
   "outputs": [],
   "source": [
    "# total counts of motifs\n",
    "tot_motif_count = colSums(peak_x_motif_counts)"
   ]
  },
  {
   "cell_type": "code",
   "execution_count": 213,
   "metadata": {},
   "outputs": [
    {
     "data": {
      "text/html": [
       "<style>\n",
       ".list-inline {list-style: none; margin:0; padding: 0}\n",
       ".list-inline>li {display: inline-block}\n",
       ".list-inline>li:not(:last-child)::after {content: \"\\00b7\"; padding: 0 .5ex}\n",
       "</style>\n",
       "<ol class=list-inline><li>2400</li><li>7</li></ol>\n"
      ],
      "text/latex": [
       "\\begin{enumerate*}\n",
       "\\item 2400\n",
       "\\item 7\n",
       "\\end{enumerate*}\n"
      ],
      "text/markdown": [
       "1. 2400\n",
       "2. 7\n",
       "\n",
       "\n"
      ],
      "text/plain": [
       "[1] 2400    7"
      ]
     },
     "metadata": {},
     "output_type": "display_data"
    }
   ],
   "source": [
    "dim(to_plot_df)"
   ]
  },
  {
   "cell_type": "markdown",
   "metadata": {},
   "source": [
    "### Remove Correlated TFs"
   ]
  },
  {
   "cell_type": "code",
   "execution_count": 214,
   "metadata": {},
   "outputs": [
    {
     "data": {
      "text/html": [
       "44"
      ],
      "text/latex": [
       "44"
      ],
      "text/markdown": [
       "44"
      ],
      "text/plain": [
       "[1] 44"
      ]
     },
     "metadata": {},
     "output_type": "display_data"
    }
   ],
   "source": [
    "# remove highly correlated TFs per family\n",
    "# https://stackoverflow.com/questions/18275639/remove-highly-correlated-variables\n",
    "\n",
    "REMOVE_ABOVE = 0.9\n",
    "\n",
    "keep_TFs = c()\n",
    "for (x in unique(to_plot_df$TF_family)) {\n",
    "    cur_tf_df = to_plot_df[to_plot_df$TF_family==x, c(\"score\", \"TF\", \"peak_set_idx\")]\n",
    "    if (length(unique(cur_tf_df$TF))==1) {\n",
    "        keep_TFs = c(keep_TFs, unique(cur_tf_df$TF))\n",
    "        next \n",
    "    }\n",
    "    \n",
    "    # make TF x sample matrix \n",
    "    tf_sample_matrix = matrix(0, nrow=length(unique(cur_tf_df$TF)), ncol=length(unique(cur_tf_df$peak_set_idx)))\n",
    "    rownames(tf_sample_matrix) = unique(cur_tf_df$TF)\n",
    "    colnames(tf_sample_matrix) = unique(cur_tf_df$sample)\n",
    "    \n",
    "    for (i in seq(1, dim(cur_tf_df)[1])) {\n",
    "        tf_sample_matrix[cur_tf_df[i, \"TF\"], cur_tf_df[i, \"peak_set_idx\"]] = cur_tf_df[i, \"score\"]\n",
    "    }\n",
    "    \n",
    "    # reorder TFs to bring those with most raw count up\n",
    "    tf_sample_matrix = tf_sample_matrix[rev(order(tot_motif_count[rownames(tf_sample_matrix)])), ]\n",
    "    \n",
    "    # remove those with high correlation to another\n",
    "    tf_cor = cor(t(tf_sample_matrix), method='spearman')\n",
    "    tf_cor[upper.tri(tf_cor)] <- 0\n",
    "    diag(tf_cor) <- 0\n",
    "    keep_TFs = c(keep_TFs, \n",
    "                 rownames(tf_cor)[!apply(tf_cor,1,function(x) any(x > REMOVE_ABOVE))])\n",
    "\n",
    "}\n",
    "\n",
    "length(keep_TFs)"
   ]
  },
  {
   "cell_type": "code",
   "execution_count": 215,
   "metadata": {},
   "outputs": [
    {
     "data": {
      "text/html": [
       "<style>\n",
       ".list-inline {list-style: none; margin:0; padding: 0}\n",
       ".list-inline>li {display: inline-block}\n",
       ".list-inline>li:not(:last-child)::after {content: \"\\00b7\"; padding: 0 .5ex}\n",
       "</style>\n",
       "<ol class=list-inline><li>880</li><li>7</li></ol>\n"
      ],
      "text/latex": [
       "\\begin{enumerate*}\n",
       "\\item 880\n",
       "\\item 7\n",
       "\\end{enumerate*}\n"
      ],
      "text/markdown": [
       "1. 880\n",
       "2. 7\n",
       "\n",
       "\n"
      ],
      "text/plain": [
       "[1] 880   7"
      ]
     },
     "metadata": {},
     "output_type": "display_data"
    },
    {
     "data": {
      "text/html": [
       "44"
      ],
      "text/latex": [
       "44"
      ],
      "text/markdown": [
       "44"
      ],
      "text/plain": [
       "[1] 44"
      ]
     },
     "metadata": {},
     "output_type": "display_data"
    }
   ],
   "source": [
    "to_plot_df = to_plot_df[to_plot_df$TF %in% keep_TFs, ]\n",
    "dim(to_plot_df)\n",
    "length(unique(to_plot_df$TF))"
   ]
  },
  {
   "cell_type": "code",
   "execution_count": 216,
   "metadata": {},
   "outputs": [],
   "source": [
    "TF_family_order = c('POU/1', \n",
    "                    'OCT4+SOX2', \n",
    "                    'SOX/1', \n",
    "                    'KLF/SP/1',\n",
    "                    'KLF/SP/2', \n",
    "                    'AP1/1',\n",
    "                    'CCAAT/CEBP',                    \n",
    "                    'CREB/ATF/1',\n",
    "                    'CTCF', \n",
    "                    'TFAP2/1', \n",
    "                    'TEAD',\n",
    "                    'RUNX/1',\n",
    "                    'ETS/1',\n",
    "                    'ETS/2')\n",
    "TF_family_order = c(TF_family_order, as.character(unique(to_plot_df$TF_family))[!as.character(unique(to_plot_df$TF_family)) %in% TF_family_order])\n",
    "\n",
    "to_plot_df$TF_family = factor(to_plot_df$TF_family,\n",
    "                                  level=TF_family_order)"
   ]
  },
  {
   "cell_type": "code",
   "execution_count": 217,
   "metadata": {},
   "outputs": [],
   "source": [
    "# remove SeqBias and Unknown and GFY/GFX\n",
    "# to_plot_df = to_plot_df[!grepl(\"(SeqBias|Unknown|GFY|GFX)\", to_plot_df$TF) ,]\n",
    "# length(unique(to_plot_df$TF))"
   ]
  },
  {
   "cell_type": "code",
   "execution_count": 218,
   "metadata": {},
   "outputs": [
    {
     "data": {
      "text/html": [
       "<style>\n",
       ".dl-inline {width: auto; margin:0; padding: 0}\n",
       ".dl-inline>dt, .dl-inline>dd {float: none; width: auto; display: inline-block}\n",
       ".dl-inline>dt::after {content: \":\\0020\"; padding-right: .5ex}\n",
       ".dl-inline>dt:not(:first-of-type) {padding-left: .5ex}\n",
       "</style><dl class=dl-inline><dt>0%</dt><dd>0</dd><dt>10%</dt><dd>0.045541241338234</dd><dt>50%</dt><dd>0.326700424307443</dd><dt>90%</dt><dd>0.854406169227178</dd><dt>99%</dt><dd>1</dd><dt>100%</dt><dd>1</dd></dl>\n"
      ],
      "text/latex": [
       "\\begin{description*}\n",
       "\\item[0\\textbackslash{}\\%] 0\n",
       "\\item[10\\textbackslash{}\\%] 0.045541241338234\n",
       "\\item[50\\textbackslash{}\\%] 0.326700424307443\n",
       "\\item[90\\textbackslash{}\\%] 0.854406169227178\n",
       "\\item[99\\textbackslash{}\\%] 1\n",
       "\\item[100\\textbackslash{}\\%] 1\n",
       "\\end{description*}\n"
      ],
      "text/markdown": [
       "0%\n",
       ":   010%\n",
       ":   0.04554124133823450%\n",
       ":   0.32670042430744390%\n",
       ":   0.85440616922717899%\n",
       ":   1100%\n",
       ":   1\n",
       "\n"
      ],
      "text/plain": [
       "        0%        10%        50%        90%        99%       100% \n",
       "0.00000000 0.04554124 0.32670042 0.85440617 1.00000000 1.00000000 "
      ]
     },
     "metadata": {},
     "output_type": "display_data"
    }
   ],
   "source": [
    "quantile(to_plot_df$value, c(0, 0.1, 0.5, 0.9, 0.99, 1))"
   ]
  },
  {
   "cell_type": "markdown",
   "metadata": {},
   "source": [
    "### Plot"
   ]
  },
  {
   "cell_type": "code",
   "execution_count": 219,
   "metadata": {},
   "outputs": [],
   "source": [
    "# motify TF name\n",
    "to_plot_df$TF = unlist(lapply(strsplit(to_plot_df$TF, \"\\\\.\"), \"[[\", 1))"
   ]
  },
  {
   "cell_type": "code",
   "execution_count": 226,
   "metadata": {},
   "outputs": [],
   "source": [
    "# https://dmitrijskass.netlify.app/2019/06/30/multi-level-labels-with-ggplot2/\n",
    "# https://www.r-graph-gallery.com/320-the-basis-of-bubble-plot.html\n",
    "p <- ggplot(to_plot_df, aes(x = TF, \n",
    "                            y = peak_set_idx, \n",
    "                            fill=score)) +\n",
    "geom_tile() +\n",
    "facet_grid(~factor(TF_family), #, levels=sample(unique(consolidated_df$TF_family))),\n",
    "           scales = \"free_x\",\n",
    "          space = \"free_x\") +\n",
    "#           switch = \"x\") +\n",
    "scale_fill_gradient(low=\"white\",\n",
    "                      high=\"red\",\n",
    "                      limits=c(0.05, 0.95),\n",
    "                      oob=squish,\n",
    "                      name=\"TF Score\") +\n",
    "ylab(\"\") +\n",
    "theme_classic() +\n",
    "theme(axis.text.x = element_text(angle = 90, hjust=0.95), # rotate TF text\n",
    "     strip.text.x.top = element_text(angle = 90, hjust=0, vjust=0.5), # rotate TF family text\n",
    "     panel.spacing = unit(0.2, \"lines\"), # space between TF families\n",
    "     text = element_text(size=15), \n",
    "     strip.background = element_blank(),\n",
    "     panel.background = element_rect(fill = NA, color = \"black\", size=1)) # box around TF families"
   ]
  },
  {
   "cell_type": "code",
   "execution_count": 230,
   "metadata": {},
   "outputs": [],
   "source": [
    "pg <- ggplotGrob(p)\n",
    "\n",
    "# avoid stripping of facet label\n",
    "# https://stackoverflow.com/questions/49740215/ggplot-facet-grid-label-cut-off\n",
    "for(i in which(grepl(\"strip-t\", pg$layout$name))){\n",
    "  pg$grobs[[i]]$layout$clip <- \"off\"\n",
    "}"
   ]
  },
  {
   "cell_type": "code",
   "execution_count": 288,
   "metadata": {},
   "outputs": [],
   "source": [
    "POINTS = c(1.9, 2.6, 4.5, 6.8, 8.4)\n",
    "LABELS = c(\"Constant\", \"Close/\\nOpen\", \"Transient\", \"Open/\\nClose\")\n",
    "XOFF = 9\n",
    "ARROWDTH = 1\n",
    "XTXT = 5\n",
    "GAP = 0.1\n",
    "SZ = .75\n",
    "TXTSZ = 5\n",
    "\n",
    "left_annotate_plot = ggplot() + \n",
    "                theme_void() +\n",
    "                geom_line() +\n",
    "                coord_cartesian(xlim = c(0.5,9.5), # this let's use 0-10 on x axis to place items\n",
    "                               ylim=c(0.5,9.5)) # this let's use 0-10 on y axis to place items\n",
    "\n",
    "for (i in seq(length(POINTS)-1)) {\n",
    "    left_annotate_plot = left_annotate_plot + annotate(\"segment\", \n",
    "                                                       x = XOFF, \n",
    "                                                       xend = XOFF, \n",
    "                                                       y = POINTS[i], \n",
    "                                                       yend=POINTS[i+1]-GAP, \n",
    "                                                       size=SZ, \n",
    "                                                       colour=\"black\") +\n",
    "                          annotate(\"segment\",\n",
    "                                  x = XOFF - (ARROWDTH/2),\n",
    "                                  xend = XOFF + (ARROWDTH/2),\n",
    "                                  y=POINTS[i],\n",
    "                                  yend=POINTS[i],\n",
    "                                  size=SZ) +\n",
    "                          annotate(\"segment\",\n",
    "                                  x = XOFF - (ARROWDTH/2),\n",
    "                                  xend = XOFF + (ARROWDTH/2),\n",
    "                                  y=POINTS[i+1]-GAP,\n",
    "                                  yend=POINTS[i+1]-GAP,\n",
    "                                  size=SZ) +\n",
    "    \n",
    "                          annotate(\"text\", \n",
    "                                   x=XTXT, \n",
    "                                   y=(POINTS[i]+POINTS[i+1]-GAP)/2, \n",
    "                                   angle=90, \n",
    "                                   size=TXTSZ,\n",
    "                                   label=LABELS[i])\n",
    "}"
   ]
  },
  {
   "cell_type": "code",
   "execution_count": 296,
   "metadata": {},
   "outputs": [],
   "source": [
    "annotated <- wrap_plots(left_annotate_plot,\n",
    "                        pg,\n",
    "                        widths=c(1,14))"
   ]
  },
  {
   "cell_type": "code",
   "execution_count": 297,
   "metadata": {},
   "outputs": [
    {
     "data": {
      "image/png": "[encoded data removed]",
      "text/plain": [
       "plot without title"
      ]
     },
     "metadata": {
      "image/png": {
       "height": 540,
       "width": 900
      },
      "text/plain": {
       "height": 540,
       "width": 900
      }
     },
     "output_type": "display_data"
    }
   ],
   "source": [
    "options(repr.plot.width = 15, repr.plot.height = 9)\n",
    "\n",
    "annotated"
   ]
  },
  {
   "cell_type": "code",
   "execution_count": 299,
   "metadata": {},
   "outputs": [],
   "source": [
    "saveRDS(annotated, file=sprintf(\"./subfigs/%s_peaksets.rds\",\n",
    "                                format(Sys.Date(), \"%Y%m%d\")))"
   ]
  },
  {
   "cell_type": "code",
   "execution_count": null,
   "metadata": {},
   "outputs": [],
   "source": []
  },
  {
   "cell_type": "code",
   "execution_count": null,
   "metadata": {},
   "outputs": [],
   "source": []
  },
  {
   "cell_type": "markdown",
   "metadata": {},
   "source": [
    "### OSK Ratios"
   ]
  },
  {
   "cell_type": "code",
   "execution_count": 293,
   "metadata": {},
   "outputs": [
    {
     "data": {
      "text/html": [
       "<table>\n",
       "<caption>A matrix: 6 × 3 of type dbl</caption>\n",
       "<thead>\n",
       "\t<tr><th></th><th scope=col>KLF4_HUMAN.H11MO.0.A</th><th scope=col>Sox3_MA0514.1</th><th scope=col>PO5F1_HUMAN.H11MO.0.A</th></tr>\n",
       "</thead>\n",
       "<tbody>\n",
       "\t<tr><th scope=row>1</th><td> 458</td><td> 72</td><td> 390</td></tr>\n",
       "\t<tr><th scope=row>2</th><td> 102</td><td> 39</td><td> 105</td></tr>\n",
       "\t<tr><th scope=row>3</th><td>2132</td><td>112</td><td> 369</td></tr>\n",
       "\t<tr><th scope=row>4</th><td>2597</td><td>211</td><td> 880</td></tr>\n",
       "\t<tr><th scope=row>5</th><td>5768</td><td>338</td><td>1263</td></tr>\n",
       "\t<tr><th scope=row>6</th><td> 540</td><td> 62</td><td> 583</td></tr>\n",
       "</tbody>\n",
       "</table>\n"
      ],
      "text/latex": [
       "A matrix: 6 × 3 of type dbl\n",
       "\\begin{tabular}{r|lll}\n",
       "  & KLF4\\_HUMAN.H11MO.0.A & Sox3\\_MA0514.1 & PO5F1\\_HUMAN.H11MO.0.A\\\\\n",
       "\\hline\n",
       "\t1 &  458 &  72 &  390\\\\\n",
       "\t2 &  102 &  39 &  105\\\\\n",
       "\t3 & 2132 & 112 &  369\\\\\n",
       "\t4 & 2597 & 211 &  880\\\\\n",
       "\t5 & 5768 & 338 & 1263\\\\\n",
       "\t6 &  540 &  62 &  583\\\\\n",
       "\\end{tabular}\n"
      ],
      "text/markdown": [
       "\n",
       "A matrix: 6 × 3 of type dbl\n",
       "\n",
       "| <!--/--> | KLF4_HUMAN.H11MO.0.A | Sox3_MA0514.1 | PO5F1_HUMAN.H11MO.0.A |\n",
       "|---|---|---|---|\n",
       "| 1 |  458 |  72 |  390 |\n",
       "| 2 |  102 |  39 |  105 |\n",
       "| 3 | 2132 | 112 |  369 |\n",
       "| 4 | 2597 | 211 |  880 |\n",
       "| 5 | 5768 | 338 | 1263 |\n",
       "| 6 |  540 |  62 |  583 |\n",
       "\n"
      ],
      "text/plain": [
       "  KLF4_HUMAN.H11MO.0.A Sox3_MA0514.1 PO5F1_HUMAN.H11MO.0.A\n",
       "1  458                  72            390                 \n",
       "2  102                  39            105                 \n",
       "3 2132                 112            369                 \n",
       "4 2597                 211            880                 \n",
       "5 5768                 338           1263                 \n",
       "6  540                  62            583                 "
      ]
     },
     "metadata": {},
     "output_type": "display_data"
    }
   ],
   "source": [
    "osk_counts = peak_x_motif_counts[,grepl(\"PO5F1_HUMAN|Sox3|KLF4\", colnames(peak_x_motif_counts), ignore.case = F)]\n",
    "rownames(osk_counts) = sub('idx', '', rownames(osk_counts))\n",
    "head(osk_counts)"
   ]
  },
  {
   "cell_type": "code",
   "execution_count": 294,
   "metadata": {},
   "outputs": [
    {
     "data": {
      "text/html": [
       "<table>\n",
       "<caption>A data.frame: 2 × 3</caption>\n",
       "<thead>\n",
       "\t<tr><th></th><th scope=col>Var1</th><th scope=col>Var2</th><th scope=col>value</th></tr>\n",
       "\t<tr><th></th><th scope=col>&lt;fct&gt;</th><th scope=col>&lt;fct&gt;</th><th scope=col>&lt;dbl&gt;</th></tr>\n",
       "</thead>\n",
       "<tbody>\n",
       "\t<tr><th scope=row>1</th><td>1</td><td>KLF4_HUMAN.H11MO.0.A</td><td>0.4978261</td></tr>\n",
       "\t<tr><th scope=row>2</th><td>2</td><td>KLF4_HUMAN.H11MO.0.A</td><td>0.4146341</td></tr>\n",
       "</tbody>\n",
       "</table>\n"
      ],
      "text/latex": [
       "A data.frame: 2 × 3\n",
       "\\begin{tabular}{r|lll}\n",
       "  & Var1 & Var2 & value\\\\\n",
       "  & <fct> & <fct> & <dbl>\\\\\n",
       "\\hline\n",
       "\t1 & 1 & KLF4\\_HUMAN.H11MO.0.A & 0.4978261\\\\\n",
       "\t2 & 2 & KLF4\\_HUMAN.H11MO.0.A & 0.4146341\\\\\n",
       "\\end{tabular}\n"
      ],
      "text/markdown": [
       "\n",
       "A data.frame: 2 × 3\n",
       "\n",
       "| <!--/--> | Var1 &lt;fct&gt; | Var2 &lt;fct&gt; | value &lt;dbl&gt; |\n",
       "|---|---|---|---|\n",
       "| 1 | 1 | KLF4_HUMAN.H11MO.0.A | 0.4978261 |\n",
       "| 2 | 2 | KLF4_HUMAN.H11MO.0.A | 0.4146341 |\n",
       "\n"
      ],
      "text/plain": [
       "  Var1 Var2                 value    \n",
       "1 1    KLF4_HUMAN.H11MO.0.A 0.4978261\n",
       "2 2    KLF4_HUMAN.H11MO.0.A 0.4146341"
      ]
     },
     "metadata": {},
     "output_type": "display_data"
    }
   ],
   "source": [
    "osk_frac_melted = melt(osk_counts/rowSums(osk_counts))\n",
    "osk_frac_melted$Var1 = factor(osk_frac_melted$Var1, levels=sort(unique(osk_frac_melted$Var1)))\n",
    "\n",
    "head(osk_frac_melted, 2)"
   ]
  },
  {
   "cell_type": "code",
   "execution_count": 295,
   "metadata": {},
   "outputs": [
    {
     "data": {
      "image/png": "[encoded data removed]",
      "text/plain": [
       "plot without title"
      ]
     },
     "metadata": {
      "image/png": {
       "height": 240,
       "width": 900
      },
      "text/plain": {
       "height": 240,
       "width": 900
      }
     },
     "output_type": "display_data"
    }
   ],
   "source": [
    "options(repr.plot.width = 15, repr.plot.height = 4)\n",
    "\n",
    "ggplot(osk_frac_melted, aes(x=Var1, y=value, fill=Var2)) +\n",
    "geom_bar(position='fill', stat='identity') +\n",
    "theme_classic() +\n",
    "theme(plot.title = element_text(hjust = 0.5),\n",
    "    text = element_text(size=16),\n",
    "    axis.line=element_blank(),\n",
    "    axis.ticks.y=element_blank(),\n",
    "    axis.title.x = element_blank(),\n",
    "    panel.border = element_rect(colour = \"black\", fill=NA, size=0.5))"
   ]
  },
  {
   "cell_type": "code",
   "execution_count": null,
   "metadata": {},
   "outputs": [],
   "source": []
  },
  {
   "cell_type": "code",
   "execution_count": null,
   "metadata": {},
   "outputs": [],
   "source": []
  },
  {
   "cell_type": "code",
   "execution_count": null,
   "metadata": {},
   "outputs": [],
   "source": []
  },
  {
   "cell_type": "markdown",
   "metadata": {},
   "source": [
    "---"
   ]
  },
  {
   "cell_type": "code",
   "execution_count": null,
   "metadata": {},
   "outputs": [],
   "source": [
    "sessionInfo()"
   ]
  }
 ],
 "metadata": {
  "kernelspec": {
   "display_name": "R",
   "language": "R",
   "name": "ir"
  },
  "language_info": {
   "codemirror_mode": "r",
   "file_extension": ".r",
   "mimetype": "text/x-r-source",
   "name": "R",
   "pygments_lexer": "r",
   "version": "3.6.3"
  }
 },
 "nbformat": 4,
 "nbformat_minor": 4
}
