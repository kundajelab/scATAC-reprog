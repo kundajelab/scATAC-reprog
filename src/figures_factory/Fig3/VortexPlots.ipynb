{
 "cells": [
  {
   "cell_type": "markdown",
   "metadata": {},
   "source": [
    "# Vortex Plots\n",
    "\n",
    "Integrative analysis across peak sets and datasets.\n",
    "\n",
    "**Inputs:**\n",
    "1. List of peak sets\n",
    "2. Config of samples, bigwig path and class of sample (each class will have same plot styling). If sample belongs to ATAC dataset, old cluster ID else NA.\n",
    "3. For each cluster, colour, description, new cluster number (set to same as original if it should not be changed)"
   ]
  },
  {
   "cell_type": "code",
   "execution_count": 5,
   "metadata": {},
   "outputs": [
    {
     "name": "stderr",
     "output_type": "stream",
     "text": [
      "Loading required package: GenomicRanges\n",
      "\n",
      "Loading required package: stats4\n",
      "\n",
      "Loading required package: BiocGenerics\n",
      "\n",
      "Loading required package: parallel\n",
      "\n",
      "\n",
      "Attaching package: ‘BiocGenerics’\n",
      "\n",
      "\n",
      "The following objects are masked from ‘package:parallel’:\n",
      "\n",
      "    clusterApply, clusterApplyLB, clusterCall, clusterEvalQ,\n",
      "    clusterExport, clusterMap, parApply, parCapply, parLapply,\n",
      "    parLapplyLB, parRapply, parSapply, parSapplyLB\n",
      "\n",
      "\n",
      "The following objects are masked from ‘package:stats’:\n",
      "\n",
      "    IQR, mad, sd, var, xtabs\n",
      "\n",
      "\n",
      "The following objects are masked from ‘package:base’:\n",
      "\n",
      "    anyDuplicated, append, as.data.frame, basename, cbind, colnames,\n",
      "    dirname, do.call, duplicated, eval, evalq, Filter, Find, get, grep,\n",
      "    grepl, intersect, is.unsorted, lapply, Map, mapply, match, mget,\n",
      "    order, paste, pmax, pmax.int, pmin, pmin.int, Position, rank,\n",
      "    rbind, Reduce, rownames, sapply, setdiff, sort, table, tapply,\n",
      "    union, unique, unsplit, which, which.max, which.min\n",
      "\n",
      "\n",
      "Loading required package: S4Vectors\n",
      "\n",
      "\n",
      "Attaching package: ‘S4Vectors’\n",
      "\n",
      "\n",
      "The following object is masked from ‘package:base’:\n",
      "\n",
      "    expand.grid\n",
      "\n",
      "\n",
      "Loading required package: IRanges\n",
      "\n",
      "Loading required package: GenomeInfoDb\n",
      "\n",
      "Loading required package: viridisLite\n",
      "\n",
      "\n",
      "Attaching package: ‘viridis’\n",
      "\n",
      "\n",
      "The following object is masked from ‘package:scales’:\n",
      "\n",
      "    viridis_pal\n",
      "\n",
      "\n",
      "Loading required package: sp\n",
      "\n",
      "\n",
      "Attaching package: ‘sp’\n",
      "\n",
      "\n",
      "The following object is masked from ‘package:IRanges’:\n",
      "\n",
      "    %over%\n",
      "\n",
      "\n",
      "\n",
      "Attaching package: ‘raster’\n",
      "\n",
      "\n",
      "The following object is masked from ‘package:rtracklayer’:\n",
      "\n",
      "    values\n",
      "\n",
      "\n",
      "The following objects are masked from ‘package:GenomicRanges’:\n",
      "\n",
      "    distance, shift, trim, values, values<-\n",
      "\n",
      "\n",
      "The following objects are masked from ‘package:IRanges’:\n",
      "\n",
      "    distance, shift, trim, values, values<-\n",
      "\n",
      "\n",
      "The following objects are masked from ‘package:S4Vectors’:\n",
      "\n",
      "    metadata, metadata<-, values, values<-\n",
      "\n",
      "\n",
      "The following object is masked from ‘package:patchwork’:\n",
      "\n",
      "    area\n",
      "\n",
      "\n"
     ]
    }
   ],
   "source": [
    "library(ggplot2)\n",
    "library(patchwork)\n",
    "library(reshape2)\n",
    "library(rtracklayer)\n",
    "library(scales)\n",
    "library(viridis)\n",
    "library(matrixStats)\n",
    "library(ggrastr)\n",
    "library(raster)"
   ]
  },
  {
   "cell_type": "markdown",
   "metadata": {},
   "source": [
    "## Loading Inputs"
   ]
  },
  {
   "cell_type": "markdown",
   "metadata": {},
   "source": [
    "### Configs"
   ]
  },
  {
   "cell_type": "code",
   "execution_count": 1,
   "metadata": {},
   "outputs": [
    {
     "data": {
      "text/html": [
       "<table>\n",
       "<caption>A data.frame: 17 × 6</caption>\n",
       "<thead>\n",
       "\t<tr><th scope=col>title</th><th scope=col>old_cluster</th><th scope=col>type</th><th scope=col>group</th><th scope=col>width</th><th scope=col>path</th></tr>\n",
       "\t<tr><th scope=col>&lt;fct&gt;</th><th scope=col>&lt;int&gt;</th><th scope=col>&lt;fct&gt;</th><th scope=col>&lt;int&gt;</th><th scope=col>&lt;int&gt;</th><th scope=col>&lt;chr&gt;</th></tr>\n",
       "</thead>\n",
       "<tbody>\n",
       "\t<tr><td>Fibroblast        </td><td> 5</td><td>ATAC   </td><td>1</td><td>2000</td><td>/oak/stanford/groups/akundaje/surag/projects/scATAC-reprog/clusters/20200518_n76052/croo/cluster_idx5/signal/rep1/cluster_idx5.fc.signal.bigwig                 </td></tr>\n",
       "\t<tr><td>Fibroblast        </td><td>NA</td><td>H3K4me2</td><td>1</td><td>4000</td><td>/oak/stanford/groups/akundaje/surag/GEO/GSE62777/croo/hiF-T_P15_H3K4me2/signal/pooled-rep/basename_prefix.pooled_x_SRR2106008.nodup.fc.signal.bigwig            </td></tr>\n",
       "\t<tr><td>Keratinocyte-like </td><td> 9</td><td>ATAC   </td><td>2</td><td>2000</td><td>/oak/stanford/groups/akundaje/surag/projects/scATAC-reprog/clusters/20200518_n76052/croo/cluster_idx9/signal/rep1/cluster_idx9.fc.signal.bigwig                 </td></tr>\n",
       "\t<tr><td>Neural-like       </td><td>17</td><td>ATAC   </td><td>2</td><td>2000</td><td>/oak/stanford/groups/akundaje/surag/projects/scATAC-reprog/clusters/20200518_n76052/croo/cluster_idx17/signal/rep1/cluster_idx17.fc.signal.bigwig               </td></tr>\n",
       "\t<tr><td>Early Intermediate</td><td>14</td><td>ATAC   </td><td>2</td><td>2000</td><td>/oak/stanford/groups/akundaje/surag/projects/scATAC-reprog/clusters/20200518_n76052/croo/cluster_idx14/signal/rep1/cluster_idx14.fc.signal.bigwig               </td></tr>\n",
       "\t<tr><td>OCT4              </td><td>NA</td><td>ChIP   </td><td>2</td><td>2000</td><td>/oak/stanford/groups/akundaje/surag/GEO/GSE36570/croo/SRR445816/signal/rep1/SRR445816.filt_x_ctl_for_rep1.fc.signal.bigwig                                      </td></tr>\n",
       "\t<tr><td>SOX2              </td><td>NA</td><td>ChIP   </td><td>2</td><td>2000</td><td>/oak/stanford/groups/akundaje/surag/GEO/GSE36570/croo/SRR445817/signal/rep1/SRR445817.filt_x_ctl_for_rep1.fc.signal.bigwig                                      </td></tr>\n",
       "\t<tr><td>KLF4              </td><td>NA</td><td>ChIP   </td><td>2</td><td>2000</td><td>/oak/stanford/groups/akundaje/surag/GEO/GSE36570/croo/SRR445818/signal/rep1/SRR445818.filt_x_ctl_for_rep1.fc.signal.bigwig                                      </td></tr>\n",
       "\t<tr><td>cMYC              </td><td>NA</td><td>ChIP   </td><td>2</td><td>2000</td><td>/oak/stanford/groups/akundaje/surag/GEO/GSE36570/croo/SRR445819/signal/rep1/SRR445819.filt_x_ctl_for_rep1.fc.signal.bigwig                                      </td></tr>\n",
       "\t<tr><td>Neural-like       </td><td>16</td><td>ATAC   </td><td>3</td><td>2000</td><td>/oak/stanford/groups/akundaje/surag/projects/scATAC-reprog/clusters/20200518_n76052/croo/cluster_idx16/signal/rep1/cluster_idx16.fc.signal.bigwig               </td></tr>\n",
       "\t<tr><td>Intermediate      </td><td> 1</td><td>ATAC   </td><td>3</td><td>2000</td><td>/oak/stanford/groups/akundaje/surag/projects/scATAC-reprog/clusters/20200518_n76052/croo/cluster_idx1/signal/rep1/cluster_idx1.fc.signal.bigwig                 </td></tr>\n",
       "\t<tr><td>D5                </td><td>NA</td><td>H3K4me2</td><td>3</td><td>4000</td><td>/oak/stanford/groups/akundaje/surag/GEO/GSE62777/croo/5dd_DOX_plus_H3K4me2/signal/pooled-rep/basename_prefix.pooled_x_SRR2106022.nodup.fc.signal.bigwig         </td></tr>\n",
       "\t<tr><td>Pre-iPSC (D12)    </td><td> 2</td><td>ATAC   </td><td>4</td><td>2000</td><td>/oak/stanford/groups/akundaje/surag/projects/scATAC-reprog/clusters/20200518_n76052/croo/cluster_idx2/signal/rep1/cluster_idx2.fc.signal.bigwig                 </td></tr>\n",
       "\t<tr><td>Pre-iPSC (D14)    </td><td>10</td><td>ATAC   </td><td>4</td><td>2000</td><td>/oak/stanford/groups/akundaje/surag/projects/scATAC-reprog/clusters/20200518_n76052/croo/cluster_idx10/signal/rep1/cluster_idx10.fc.signal.bigwig               </td></tr>\n",
       "\t<tr><td>D24-DOX           </td><td>NA</td><td>H3K4me2</td><td>4</td><td>4000</td><td>/oak/stanford/groups/akundaje/surag/GEO/GSE62777/croo/24dd_TRA_pos_DOX_plus_H3K4me2/signal/pooled-rep/basename_prefix.pooled_x_SRR2106042.nodup.fc.signal.bigwig</td></tr>\n",
       "\t<tr><td>iPSC              </td><td>18</td><td>ATAC   </td><td>5</td><td>2000</td><td>/oak/stanford/groups/akundaje/surag/projects/scATAC-reprog/clusters/20200518_n76052/croo/cluster_idx18/signal/rep1/cluster_idx18.fc.signal.bigwig               </td></tr>\n",
       "\t<tr><td>iPSC              </td><td>NA</td><td>H3K4me2</td><td>5</td><td>4000</td><td>/oak/stanford/groups/akundaje/surag/GEO/GSE62777/croo/hIPSC-T_P10_H3K4me2/signal/rep1/SRR2106012.nodup_x_ctl_for_rep1.fc.signal.bigwig                          </td></tr>\n",
       "</tbody>\n",
       "</table>\n"
      ],
      "text/latex": [
       "A data.frame: 17 × 6\n",
       "\\begin{tabular}{llllll}\n",
       " title & old\\_cluster & type & group & width & path\\\\\n",
       " <fct> & <int> & <fct> & <int> & <int> & <chr>\\\\\n",
       "\\hline\n",
       "\t Fibroblast         &  5 & ATAC    & 1 & 2000 & /oak/stanford/groups/akundaje/surag/projects/scATAC-reprog/clusters/20200518\\_n76052/croo/cluster\\_idx5/signal/rep1/cluster\\_idx5.fc.signal.bigwig                 \\\\\n",
       "\t Fibroblast         & NA & H3K4me2 & 1 & 4000 & /oak/stanford/groups/akundaje/surag/GEO/GSE62777/croo/hiF-T\\_P15\\_H3K4me2/signal/pooled-rep/basename\\_prefix.pooled\\_x\\_SRR2106008.nodup.fc.signal.bigwig            \\\\\n",
       "\t Keratinocyte-like  &  9 & ATAC    & 2 & 2000 & /oak/stanford/groups/akundaje/surag/projects/scATAC-reprog/clusters/20200518\\_n76052/croo/cluster\\_idx9/signal/rep1/cluster\\_idx9.fc.signal.bigwig                 \\\\\n",
       "\t Neural-like        & 17 & ATAC    & 2 & 2000 & /oak/stanford/groups/akundaje/surag/projects/scATAC-reprog/clusters/20200518\\_n76052/croo/cluster\\_idx17/signal/rep1/cluster\\_idx17.fc.signal.bigwig               \\\\\n",
       "\t Early Intermediate & 14 & ATAC    & 2 & 2000 & /oak/stanford/groups/akundaje/surag/projects/scATAC-reprog/clusters/20200518\\_n76052/croo/cluster\\_idx14/signal/rep1/cluster\\_idx14.fc.signal.bigwig               \\\\\n",
       "\t OCT4               & NA & ChIP    & 2 & 2000 & /oak/stanford/groups/akundaje/surag/GEO/GSE36570/croo/SRR445816/signal/rep1/SRR445816.filt\\_x\\_ctl\\_for\\_rep1.fc.signal.bigwig                                      \\\\\n",
       "\t SOX2               & NA & ChIP    & 2 & 2000 & /oak/stanford/groups/akundaje/surag/GEO/GSE36570/croo/SRR445817/signal/rep1/SRR445817.filt\\_x\\_ctl\\_for\\_rep1.fc.signal.bigwig                                      \\\\\n",
       "\t KLF4               & NA & ChIP    & 2 & 2000 & /oak/stanford/groups/akundaje/surag/GEO/GSE36570/croo/SRR445818/signal/rep1/SRR445818.filt\\_x\\_ctl\\_for\\_rep1.fc.signal.bigwig                                      \\\\\n",
       "\t cMYC               & NA & ChIP    & 2 & 2000 & /oak/stanford/groups/akundaje/surag/GEO/GSE36570/croo/SRR445819/signal/rep1/SRR445819.filt\\_x\\_ctl\\_for\\_rep1.fc.signal.bigwig                                      \\\\\n",
       "\t Neural-like        & 16 & ATAC    & 3 & 2000 & /oak/stanford/groups/akundaje/surag/projects/scATAC-reprog/clusters/20200518\\_n76052/croo/cluster\\_idx16/signal/rep1/cluster\\_idx16.fc.signal.bigwig               \\\\\n",
       "\t Intermediate       &  1 & ATAC    & 3 & 2000 & /oak/stanford/groups/akundaje/surag/projects/scATAC-reprog/clusters/20200518\\_n76052/croo/cluster\\_idx1/signal/rep1/cluster\\_idx1.fc.signal.bigwig                 \\\\\n",
       "\t D5                 & NA & H3K4me2 & 3 & 4000 & /oak/stanford/groups/akundaje/surag/GEO/GSE62777/croo/5dd\\_DOX\\_plus\\_H3K4me2/signal/pooled-rep/basename\\_prefix.pooled\\_x\\_SRR2106022.nodup.fc.signal.bigwig         \\\\\n",
       "\t Pre-iPSC (D12)     &  2 & ATAC    & 4 & 2000 & /oak/stanford/groups/akundaje/surag/projects/scATAC-reprog/clusters/20200518\\_n76052/croo/cluster\\_idx2/signal/rep1/cluster\\_idx2.fc.signal.bigwig                 \\\\\n",
       "\t Pre-iPSC (D14)     & 10 & ATAC    & 4 & 2000 & /oak/stanford/groups/akundaje/surag/projects/scATAC-reprog/clusters/20200518\\_n76052/croo/cluster\\_idx10/signal/rep1/cluster\\_idx10.fc.signal.bigwig               \\\\\n",
       "\t D24-DOX            & NA & H3K4me2 & 4 & 4000 & /oak/stanford/groups/akundaje/surag/GEO/GSE62777/croo/24dd\\_TRA\\_pos\\_DOX\\_plus\\_H3K4me2/signal/pooled-rep/basename\\_prefix.pooled\\_x\\_SRR2106042.nodup.fc.signal.bigwig\\\\\n",
       "\t iPSC               & 18 & ATAC    & 5 & 2000 & /oak/stanford/groups/akundaje/surag/projects/scATAC-reprog/clusters/20200518\\_n76052/croo/cluster\\_idx18/signal/rep1/cluster\\_idx18.fc.signal.bigwig               \\\\\n",
       "\t iPSC               & NA & H3K4me2 & 5 & 4000 & /oak/stanford/groups/akundaje/surag/GEO/GSE62777/croo/hIPSC-T\\_P10\\_H3K4me2/signal/rep1/SRR2106012.nodup\\_x\\_ctl\\_for\\_rep1.fc.signal.bigwig                          \\\\\n",
       "\\end{tabular}\n"
      ],
      "text/markdown": [
       "\n",
       "A data.frame: 17 × 6\n",
       "\n",
       "| title &lt;fct&gt; | old_cluster &lt;int&gt; | type &lt;fct&gt; | group &lt;int&gt; | width &lt;int&gt; | path &lt;chr&gt; |\n",
       "|---|---|---|---|---|---|\n",
       "| Fibroblast         |  5 | ATAC    | 1 | 2000 | /oak/stanford/groups/akundaje/surag/projects/scATAC-reprog/clusters/20200518_n76052/croo/cluster_idx5/signal/rep1/cluster_idx5.fc.signal.bigwig                  |\n",
       "| Fibroblast         | NA | H3K4me2 | 1 | 4000 | /oak/stanford/groups/akundaje/surag/GEO/GSE62777/croo/hiF-T_P15_H3K4me2/signal/pooled-rep/basename_prefix.pooled_x_SRR2106008.nodup.fc.signal.bigwig             |\n",
       "| Keratinocyte-like  |  9 | ATAC    | 2 | 2000 | /oak/stanford/groups/akundaje/surag/projects/scATAC-reprog/clusters/20200518_n76052/croo/cluster_idx9/signal/rep1/cluster_idx9.fc.signal.bigwig                  |\n",
       "| Neural-like        | 17 | ATAC    | 2 | 2000 | /oak/stanford/groups/akundaje/surag/projects/scATAC-reprog/clusters/20200518_n76052/croo/cluster_idx17/signal/rep1/cluster_idx17.fc.signal.bigwig                |\n",
       "| Early Intermediate | 14 | ATAC    | 2 | 2000 | /oak/stanford/groups/akundaje/surag/projects/scATAC-reprog/clusters/20200518_n76052/croo/cluster_idx14/signal/rep1/cluster_idx14.fc.signal.bigwig                |\n",
       "| OCT4               | NA | ChIP    | 2 | 2000 | /oak/stanford/groups/akundaje/surag/GEO/GSE36570/croo/SRR445816/signal/rep1/SRR445816.filt_x_ctl_for_rep1.fc.signal.bigwig                                       |\n",
       "| SOX2               | NA | ChIP    | 2 | 2000 | /oak/stanford/groups/akundaje/surag/GEO/GSE36570/croo/SRR445817/signal/rep1/SRR445817.filt_x_ctl_for_rep1.fc.signal.bigwig                                       |\n",
       "| KLF4               | NA | ChIP    | 2 | 2000 | /oak/stanford/groups/akundaje/surag/GEO/GSE36570/croo/SRR445818/signal/rep1/SRR445818.filt_x_ctl_for_rep1.fc.signal.bigwig                                       |\n",
       "| cMYC               | NA | ChIP    | 2 | 2000 | /oak/stanford/groups/akundaje/surag/GEO/GSE36570/croo/SRR445819/signal/rep1/SRR445819.filt_x_ctl_for_rep1.fc.signal.bigwig                                       |\n",
       "| Neural-like        | 16 | ATAC    | 3 | 2000 | /oak/stanford/groups/akundaje/surag/projects/scATAC-reprog/clusters/20200518_n76052/croo/cluster_idx16/signal/rep1/cluster_idx16.fc.signal.bigwig                |\n",
       "| Intermediate       |  1 | ATAC    | 3 | 2000 | /oak/stanford/groups/akundaje/surag/projects/scATAC-reprog/clusters/20200518_n76052/croo/cluster_idx1/signal/rep1/cluster_idx1.fc.signal.bigwig                  |\n",
       "| D5                 | NA | H3K4me2 | 3 | 4000 | /oak/stanford/groups/akundaje/surag/GEO/GSE62777/croo/5dd_DOX_plus_H3K4me2/signal/pooled-rep/basename_prefix.pooled_x_SRR2106022.nodup.fc.signal.bigwig          |\n",
       "| Pre-iPSC (D12)     |  2 | ATAC    | 4 | 2000 | /oak/stanford/groups/akundaje/surag/projects/scATAC-reprog/clusters/20200518_n76052/croo/cluster_idx2/signal/rep1/cluster_idx2.fc.signal.bigwig                  |\n",
       "| Pre-iPSC (D14)     | 10 | ATAC    | 4 | 2000 | /oak/stanford/groups/akundaje/surag/projects/scATAC-reprog/clusters/20200518_n76052/croo/cluster_idx10/signal/rep1/cluster_idx10.fc.signal.bigwig                |\n",
       "| D24-DOX            | NA | H3K4me2 | 4 | 4000 | /oak/stanford/groups/akundaje/surag/GEO/GSE62777/croo/24dd_TRA_pos_DOX_plus_H3K4me2/signal/pooled-rep/basename_prefix.pooled_x_SRR2106042.nodup.fc.signal.bigwig |\n",
       "| iPSC               | 18 | ATAC    | 5 | 2000 | /oak/stanford/groups/akundaje/surag/projects/scATAC-reprog/clusters/20200518_n76052/croo/cluster_idx18/signal/rep1/cluster_idx18.fc.signal.bigwig                |\n",
       "| iPSC               | NA | H3K4me2 | 5 | 4000 | /oak/stanford/groups/akundaje/surag/GEO/GSE62777/croo/hIPSC-T_P10_H3K4me2/signal/rep1/SRR2106012.nodup_x_ctl_for_rep1.fc.signal.bigwig                           |\n",
       "\n"
      ],
      "text/plain": [
       "   title              old_cluster type    group width\n",
       "1  Fibroblast          5          ATAC    1     2000 \n",
       "2  Fibroblast         NA          H3K4me2 1     4000 \n",
       "3  Keratinocyte-like   9          ATAC    2     2000 \n",
       "4  Neural-like        17          ATAC    2     2000 \n",
       "5  Early Intermediate 14          ATAC    2     2000 \n",
       "6  OCT4               NA          ChIP    2     2000 \n",
       "7  SOX2               NA          ChIP    2     2000 \n",
       "8  KLF4               NA          ChIP    2     2000 \n",
       "9  cMYC               NA          ChIP    2     2000 \n",
       "10 Neural-like        16          ATAC    3     2000 \n",
       "11 Intermediate        1          ATAC    3     2000 \n",
       "12 D5                 NA          H3K4me2 3     4000 \n",
       "13 Pre-iPSC (D12)      2          ATAC    4     2000 \n",
       "14 Pre-iPSC (D14)     10          ATAC    4     2000 \n",
       "15 D24-DOX            NA          H3K4me2 4     4000 \n",
       "16 iPSC               18          ATAC    5     2000 \n",
       "17 iPSC               NA          H3K4me2 5     4000 \n",
       "   path                                                                                                                                                            \n",
       "1  /oak/stanford/groups/akundaje/surag/projects/scATAC-reprog/clusters/20200518_n76052/croo/cluster_idx5/signal/rep1/cluster_idx5.fc.signal.bigwig                 \n",
       "2  /oak/stanford/groups/akundaje/surag/GEO/GSE62777/croo/hiF-T_P15_H3K4me2/signal/pooled-rep/basename_prefix.pooled_x_SRR2106008.nodup.fc.signal.bigwig            \n",
       "3  /oak/stanford/groups/akundaje/surag/projects/scATAC-reprog/clusters/20200518_n76052/croo/cluster_idx9/signal/rep1/cluster_idx9.fc.signal.bigwig                 \n",
       "4  /oak/stanford/groups/akundaje/surag/projects/scATAC-reprog/clusters/20200518_n76052/croo/cluster_idx17/signal/rep1/cluster_idx17.fc.signal.bigwig               \n",
       "5  /oak/stanford/groups/akundaje/surag/projects/scATAC-reprog/clusters/20200518_n76052/croo/cluster_idx14/signal/rep1/cluster_idx14.fc.signal.bigwig               \n",
       "6  /oak/stanford/groups/akundaje/surag/GEO/GSE36570/croo/SRR445816/signal/rep1/SRR445816.filt_x_ctl_for_rep1.fc.signal.bigwig                                      \n",
       "7  /oak/stanford/groups/akundaje/surag/GEO/GSE36570/croo/SRR445817/signal/rep1/SRR445817.filt_x_ctl_for_rep1.fc.signal.bigwig                                      \n",
       "8  /oak/stanford/groups/akundaje/surag/GEO/GSE36570/croo/SRR445818/signal/rep1/SRR445818.filt_x_ctl_for_rep1.fc.signal.bigwig                                      \n",
       "9  /oak/stanford/groups/akundaje/surag/GEO/GSE36570/croo/SRR445819/signal/rep1/SRR445819.filt_x_ctl_for_rep1.fc.signal.bigwig                                      \n",
       "10 /oak/stanford/groups/akundaje/surag/projects/scATAC-reprog/clusters/20200518_n76052/croo/cluster_idx16/signal/rep1/cluster_idx16.fc.signal.bigwig               \n",
       "11 /oak/stanford/groups/akundaje/surag/projects/scATAC-reprog/clusters/20200518_n76052/croo/cluster_idx1/signal/rep1/cluster_idx1.fc.signal.bigwig                 \n",
       "12 /oak/stanford/groups/akundaje/surag/GEO/GSE62777/croo/5dd_DOX_plus_H3K4me2/signal/pooled-rep/basename_prefix.pooled_x_SRR2106022.nodup.fc.signal.bigwig         \n",
       "13 /oak/stanford/groups/akundaje/surag/projects/scATAC-reprog/clusters/20200518_n76052/croo/cluster_idx2/signal/rep1/cluster_idx2.fc.signal.bigwig                 \n",
       "14 /oak/stanford/groups/akundaje/surag/projects/scATAC-reprog/clusters/20200518_n76052/croo/cluster_idx10/signal/rep1/cluster_idx10.fc.signal.bigwig               \n",
       "15 /oak/stanford/groups/akundaje/surag/GEO/GSE62777/croo/24dd_TRA_pos_DOX_plus_H3K4me2/signal/pooled-rep/basename_prefix.pooled_x_SRR2106042.nodup.fc.signal.bigwig\n",
       "16 /oak/stanford/groups/akundaje/surag/projects/scATAC-reprog/clusters/20200518_n76052/croo/cluster_idx18/signal/rep1/cluster_idx18.fc.signal.bigwig               \n",
       "17 /oak/stanford/groups/akundaje/surag/GEO/GSE62777/croo/hIPSC-T_P10_H3K4me2/signal/rep1/SRR2106012.nodup_x_ctl_for_rep1.fc.signal.bigwig                          "
      ]
     },
     "metadata": {},
     "output_type": "display_data"
    }
   ],
   "source": [
    "vortex_config = read.table(\"./vortex_tracks_config.tsv\", sep='\\t', header=T)\n",
    "vortex_config$title = factor(vortex_config$title, levels= unique(vortex_config$title))\n",
    "vortex_config$path = as.character(vortex_config$path)\n",
    "vortex_config"
   ]
  },
  {
   "cell_type": "code",
   "execution_count": 2,
   "metadata": {},
   "outputs": [],
   "source": [
    "# manually add if required\n",
    "# vortex_config[15,] = c(\"iPSC\", 18, \"ATAC\", 4, 2000, \n",
    "#                        \"/oak/stanford/groups/akundaje/surag/projects/scATAC-reprog/clusters/20200518_n76052/croo/cluster_idx18/signal/rep1/cluster_idx18.fc.signal.bigwig\")\n",
    "\n",
    "# vortex_config$old_cluster = as.integer(vortex_config$old_cluster)\n",
    "# vortex_config$width = as.integer(vortex_config$width)"
   ]
  },
  {
   "cell_type": "code",
   "execution_count": 3,
   "metadata": {},
   "outputs": [
    {
     "data": {
      "text/html": [
       "<table>\n",
       "<caption>A data.frame: 14 × 3</caption>\n",
       "<thead>\n",
       "\t<tr><th scope=col>title</th><th scope=col>group</th><th scope=col>path</th></tr>\n",
       "\t<tr><th scope=col>&lt;chr&gt;</th><th scope=col>&lt;int&gt;</th><th scope=col>&lt;chr&gt;</th></tr>\n",
       "</thead>\n",
       "<tbody>\n",
       "\t<tr><td>C3 </td><td>1</td><td>/users/surag/kundajelab/scATAC-reprog/src/analysis/20200307_fine_clustering/beds/20200705_gridmap_peakwidthnorm_logplusznorm_4way_ordered_n40/idx3.bed </td></tr>\n",
       "\t<tr><td>C4 </td><td>1</td><td>/users/surag/kundajelab/scATAC-reprog/src/analysis/20200307_fine_clustering/beds/20200705_gridmap_peakwidthnorm_logplusznorm_4way_ordered_n40/idx4.bed </td></tr>\n",
       "\t<tr><td>C8 </td><td>1</td><td>/users/surag/kundajelab/scATAC-reprog/src/analysis/20200307_fine_clustering/beds/20200705_gridmap_peakwidthnorm_logplusznorm_4way_ordered_n40/idx8.bed </td></tr>\n",
       "\t<tr><td>C9 </td><td>1</td><td>/users/surag/kundajelab/scATAC-reprog/src/analysis/20200307_fine_clustering/beds/20200705_gridmap_peakwidthnorm_logplusznorm_4way_ordered_n40/idx9.bed </td></tr>\n",
       "\t<tr><td>C11</td><td>2</td><td>/users/surag/kundajelab/scATAC-reprog/src/analysis/20200307_fine_clustering/beds/20200705_gridmap_peakwidthnorm_logplusznorm_4way_ordered_n40/idx11.bed</td></tr>\n",
       "\t<tr><td>C13</td><td>2</td><td>/users/surag/kundajelab/scATAC-reprog/src/analysis/20200307_fine_clustering/beds/20200705_gridmap_peakwidthnorm_logplusznorm_4way_ordered_n40/idx13.bed</td></tr>\n",
       "\t<tr><td>C15</td><td>2</td><td>/users/surag/kundajelab/scATAC-reprog/src/analysis/20200307_fine_clustering/beds/20200705_gridmap_peakwidthnorm_logplusznorm_4way_ordered_n40/idx15.bed</td></tr>\n",
       "\t<tr><td>C16</td><td>2</td><td>/users/surag/kundajelab/scATAC-reprog/src/analysis/20200307_fine_clustering/beds/20200705_gridmap_peakwidthnorm_logplusznorm_4way_ordered_n40/idx16.bed</td></tr>\n",
       "\t<tr><td>C20</td><td>2</td><td>/users/surag/kundajelab/scATAC-reprog/src/analysis/20200307_fine_clustering/beds/20200705_gridmap_peakwidthnorm_logplusznorm_4way_ordered_n40/idx20.bed</td></tr>\n",
       "\t<tr><td>C21</td><td>3</td><td>/users/surag/kundajelab/scATAC-reprog/src/analysis/20200307_fine_clustering/beds/20200705_gridmap_peakwidthnorm_logplusznorm_4way_ordered_n40/idx21.bed</td></tr>\n",
       "\t<tr><td>C22</td><td>3</td><td>/users/surag/kundajelab/scATAC-reprog/src/analysis/20200307_fine_clustering/beds/20200705_gridmap_peakwidthnorm_logplusznorm_4way_ordered_n40/idx22.bed</td></tr>\n",
       "\t<tr><td>C25</td><td>4</td><td>/users/surag/kundajelab/scATAC-reprog/src/analysis/20200307_fine_clustering/beds/20200705_gridmap_peakwidthnorm_logplusznorm_4way_ordered_n40/idx25.bed</td></tr>\n",
       "\t<tr><td>C29</td><td>4</td><td>/users/surag/kundajelab/scATAC-reprog/src/analysis/20200307_fine_clustering/beds/20200705_gridmap_peakwidthnorm_logplusznorm_4way_ordered_n40/idx29.bed</td></tr>\n",
       "\t<tr><td>C30</td><td>4</td><td>/users/surag/kundajelab/scATAC-reprog/src/analysis/20200307_fine_clustering/beds/20200705_gridmap_peakwidthnorm_logplusznorm_4way_ordered_n40/idx30.bed</td></tr>\n",
       "</tbody>\n",
       "</table>\n"
      ],
      "text/latex": [
       "A data.frame: 14 × 3\n",
       "\\begin{tabular}{lll}\n",
       " title & group & path\\\\\n",
       " <chr> & <int> & <chr>\\\\\n",
       "\\hline\n",
       "\t C3  & 1 & /users/surag/kundajelab/scATAC-reprog/src/analysis/20200307\\_fine\\_clustering/beds/20200705\\_gridmap\\_peakwidthnorm\\_logplusznorm\\_4way\\_ordered\\_n40/idx3.bed \\\\\n",
       "\t C4  & 1 & /users/surag/kundajelab/scATAC-reprog/src/analysis/20200307\\_fine\\_clustering/beds/20200705\\_gridmap\\_peakwidthnorm\\_logplusznorm\\_4way\\_ordered\\_n40/idx4.bed \\\\\n",
       "\t C8  & 1 & /users/surag/kundajelab/scATAC-reprog/src/analysis/20200307\\_fine\\_clustering/beds/20200705\\_gridmap\\_peakwidthnorm\\_logplusznorm\\_4way\\_ordered\\_n40/idx8.bed \\\\\n",
       "\t C9  & 1 & /users/surag/kundajelab/scATAC-reprog/src/analysis/20200307\\_fine\\_clustering/beds/20200705\\_gridmap\\_peakwidthnorm\\_logplusznorm\\_4way\\_ordered\\_n40/idx9.bed \\\\\n",
       "\t C11 & 2 & /users/surag/kundajelab/scATAC-reprog/src/analysis/20200307\\_fine\\_clustering/beds/20200705\\_gridmap\\_peakwidthnorm\\_logplusznorm\\_4way\\_ordered\\_n40/idx11.bed\\\\\n",
       "\t C13 & 2 & /users/surag/kundajelab/scATAC-reprog/src/analysis/20200307\\_fine\\_clustering/beds/20200705\\_gridmap\\_peakwidthnorm\\_logplusznorm\\_4way\\_ordered\\_n40/idx13.bed\\\\\n",
       "\t C15 & 2 & /users/surag/kundajelab/scATAC-reprog/src/analysis/20200307\\_fine\\_clustering/beds/20200705\\_gridmap\\_peakwidthnorm\\_logplusznorm\\_4way\\_ordered\\_n40/idx15.bed\\\\\n",
       "\t C16 & 2 & /users/surag/kundajelab/scATAC-reprog/src/analysis/20200307\\_fine\\_clustering/beds/20200705\\_gridmap\\_peakwidthnorm\\_logplusznorm\\_4way\\_ordered\\_n40/idx16.bed\\\\\n",
       "\t C20 & 2 & /users/surag/kundajelab/scATAC-reprog/src/analysis/20200307\\_fine\\_clustering/beds/20200705\\_gridmap\\_peakwidthnorm\\_logplusznorm\\_4way\\_ordered\\_n40/idx20.bed\\\\\n",
       "\t C21 & 3 & /users/surag/kundajelab/scATAC-reprog/src/analysis/20200307\\_fine\\_clustering/beds/20200705\\_gridmap\\_peakwidthnorm\\_logplusznorm\\_4way\\_ordered\\_n40/idx21.bed\\\\\n",
       "\t C22 & 3 & /users/surag/kundajelab/scATAC-reprog/src/analysis/20200307\\_fine\\_clustering/beds/20200705\\_gridmap\\_peakwidthnorm\\_logplusznorm\\_4way\\_ordered\\_n40/idx22.bed\\\\\n",
       "\t C25 & 4 & /users/surag/kundajelab/scATAC-reprog/src/analysis/20200307\\_fine\\_clustering/beds/20200705\\_gridmap\\_peakwidthnorm\\_logplusznorm\\_4way\\_ordered\\_n40/idx25.bed\\\\\n",
       "\t C29 & 4 & /users/surag/kundajelab/scATAC-reprog/src/analysis/20200307\\_fine\\_clustering/beds/20200705\\_gridmap\\_peakwidthnorm\\_logplusznorm\\_4way\\_ordered\\_n40/idx29.bed\\\\\n",
       "\t C30 & 4 & /users/surag/kundajelab/scATAC-reprog/src/analysis/20200307\\_fine\\_clustering/beds/20200705\\_gridmap\\_peakwidthnorm\\_logplusznorm\\_4way\\_ordered\\_n40/idx30.bed\\\\\n",
       "\\end{tabular}\n"
      ],
      "text/markdown": [
       "\n",
       "A data.frame: 14 × 3\n",
       "\n",
       "| title &lt;chr&gt; | group &lt;int&gt; | path &lt;chr&gt; |\n",
       "|---|---|---|\n",
       "| C3  | 1 | /users/surag/kundajelab/scATAC-reprog/src/analysis/20200307_fine_clustering/beds/20200705_gridmap_peakwidthnorm_logplusznorm_4way_ordered_n40/idx3.bed  |\n",
       "| C4  | 1 | /users/surag/kundajelab/scATAC-reprog/src/analysis/20200307_fine_clustering/beds/20200705_gridmap_peakwidthnorm_logplusznorm_4way_ordered_n40/idx4.bed  |\n",
       "| C8  | 1 | /users/surag/kundajelab/scATAC-reprog/src/analysis/20200307_fine_clustering/beds/20200705_gridmap_peakwidthnorm_logplusznorm_4way_ordered_n40/idx8.bed  |\n",
       "| C9  | 1 | /users/surag/kundajelab/scATAC-reprog/src/analysis/20200307_fine_clustering/beds/20200705_gridmap_peakwidthnorm_logplusznorm_4way_ordered_n40/idx9.bed  |\n",
       "| C11 | 2 | /users/surag/kundajelab/scATAC-reprog/src/analysis/20200307_fine_clustering/beds/20200705_gridmap_peakwidthnorm_logplusznorm_4way_ordered_n40/idx11.bed |\n",
       "| C13 | 2 | /users/surag/kundajelab/scATAC-reprog/src/analysis/20200307_fine_clustering/beds/20200705_gridmap_peakwidthnorm_logplusznorm_4way_ordered_n40/idx13.bed |\n",
       "| C15 | 2 | /users/surag/kundajelab/scATAC-reprog/src/analysis/20200307_fine_clustering/beds/20200705_gridmap_peakwidthnorm_logplusznorm_4way_ordered_n40/idx15.bed |\n",
       "| C16 | 2 | /users/surag/kundajelab/scATAC-reprog/src/analysis/20200307_fine_clustering/beds/20200705_gridmap_peakwidthnorm_logplusznorm_4way_ordered_n40/idx16.bed |\n",
       "| C20 | 2 | /users/surag/kundajelab/scATAC-reprog/src/analysis/20200307_fine_clustering/beds/20200705_gridmap_peakwidthnorm_logplusznorm_4way_ordered_n40/idx20.bed |\n",
       "| C21 | 3 | /users/surag/kundajelab/scATAC-reprog/src/analysis/20200307_fine_clustering/beds/20200705_gridmap_peakwidthnorm_logplusznorm_4way_ordered_n40/idx21.bed |\n",
       "| C22 | 3 | /users/surag/kundajelab/scATAC-reprog/src/analysis/20200307_fine_clustering/beds/20200705_gridmap_peakwidthnorm_logplusznorm_4way_ordered_n40/idx22.bed |\n",
       "| C25 | 4 | /users/surag/kundajelab/scATAC-reprog/src/analysis/20200307_fine_clustering/beds/20200705_gridmap_peakwidthnorm_logplusznorm_4way_ordered_n40/idx25.bed |\n",
       "| C29 | 4 | /users/surag/kundajelab/scATAC-reprog/src/analysis/20200307_fine_clustering/beds/20200705_gridmap_peakwidthnorm_logplusznorm_4way_ordered_n40/idx29.bed |\n",
       "| C30 | 4 | /users/surag/kundajelab/scATAC-reprog/src/analysis/20200307_fine_clustering/beds/20200705_gridmap_peakwidthnorm_logplusznorm_4way_ordered_n40/idx30.bed |\n",
       "\n"
      ],
      "text/plain": [
       "   title group\n",
       "1  C3    1    \n",
       "2  C4    1    \n",
       "3  C8    1    \n",
       "4  C9    1    \n",
       "5  C11   2    \n",
       "6  C13   2    \n",
       "7  C15   2    \n",
       "8  C16   2    \n",
       "9  C20   2    \n",
       "10 C21   3    \n",
       "11 C22   3    \n",
       "12 C25   4    \n",
       "13 C29   4    \n",
       "14 C30   4    \n",
       "   path                                                                                                                                                   \n",
       "1  /users/surag/kundajelab/scATAC-reprog/src/analysis/20200307_fine_clustering/beds/20200705_gridmap_peakwidthnorm_logplusznorm_4way_ordered_n40/idx3.bed \n",
       "2  /users/surag/kundajelab/scATAC-reprog/src/analysis/20200307_fine_clustering/beds/20200705_gridmap_peakwidthnorm_logplusznorm_4way_ordered_n40/idx4.bed \n",
       "3  /users/surag/kundajelab/scATAC-reprog/src/analysis/20200307_fine_clustering/beds/20200705_gridmap_peakwidthnorm_logplusznorm_4way_ordered_n40/idx8.bed \n",
       "4  /users/surag/kundajelab/scATAC-reprog/src/analysis/20200307_fine_clustering/beds/20200705_gridmap_peakwidthnorm_logplusznorm_4way_ordered_n40/idx9.bed \n",
       "5  /users/surag/kundajelab/scATAC-reprog/src/analysis/20200307_fine_clustering/beds/20200705_gridmap_peakwidthnorm_logplusznorm_4way_ordered_n40/idx11.bed\n",
       "6  /users/surag/kundajelab/scATAC-reprog/src/analysis/20200307_fine_clustering/beds/20200705_gridmap_peakwidthnorm_logplusznorm_4way_ordered_n40/idx13.bed\n",
       "7  /users/surag/kundajelab/scATAC-reprog/src/analysis/20200307_fine_clustering/beds/20200705_gridmap_peakwidthnorm_logplusznorm_4way_ordered_n40/idx15.bed\n",
       "8  /users/surag/kundajelab/scATAC-reprog/src/analysis/20200307_fine_clustering/beds/20200705_gridmap_peakwidthnorm_logplusznorm_4way_ordered_n40/idx16.bed\n",
       "9  /users/surag/kundajelab/scATAC-reprog/src/analysis/20200307_fine_clustering/beds/20200705_gridmap_peakwidthnorm_logplusznorm_4way_ordered_n40/idx20.bed\n",
       "10 /users/surag/kundajelab/scATAC-reprog/src/analysis/20200307_fine_clustering/beds/20200705_gridmap_peakwidthnorm_logplusznorm_4way_ordered_n40/idx21.bed\n",
       "11 /users/surag/kundajelab/scATAC-reprog/src/analysis/20200307_fine_clustering/beds/20200705_gridmap_peakwidthnorm_logplusznorm_4way_ordered_n40/idx22.bed\n",
       "12 /users/surag/kundajelab/scATAC-reprog/src/analysis/20200307_fine_clustering/beds/20200705_gridmap_peakwidthnorm_logplusznorm_4way_ordered_n40/idx25.bed\n",
       "13 /users/surag/kundajelab/scATAC-reprog/src/analysis/20200307_fine_clustering/beds/20200705_gridmap_peakwidthnorm_logplusznorm_4way_ordered_n40/idx29.bed\n",
       "14 /users/surag/kundajelab/scATAC-reprog/src/analysis/20200307_fine_clustering/beds/20200705_gridmap_peakwidthnorm_logplusznorm_4way_ordered_n40/idx30.bed"
      ]
     },
     "metadata": {},
     "output_type": "display_data"
    }
   ],
   "source": [
    "peak_set_config = read.table(\"./vortex_peak_set_config.tsv\", stringsAsFactors = F, comment.char = '', sep='\\t', header=T)\n",
    "peak_set_config"
   ]
  },
  {
   "cell_type": "code",
   "execution_count": 5,
   "metadata": {},
   "outputs": [
    {
     "data": {
      "text/html": [
       "<table>\n",
       "<caption>A data.frame: 18 × 4</caption>\n",
       "<thead>\n",
       "\t<tr><th></th><th scope=col>cluster</th><th scope=col>colour</th><th scope=col>description</th><th scope=col>new_cluster</th></tr>\n",
       "\t<tr><th></th><th scope=col>&lt;int&gt;</th><th scope=col>&lt;chr&gt;</th><th scope=col>&lt;chr&gt;</th><th scope=col>&lt;int&gt;</th></tr>\n",
       "</thead>\n",
       "<tbody>\n",
       "\t<tr><th scope=row>1</th><td> 1</td><td>#F4D5CD</td><td>Intermediate          </td><td>12</td></tr>\n",
       "\t<tr><th scope=row>2</th><td> 2</td><td>#78A824</td><td>Pre-iPSC              </td><td>15</td></tr>\n",
       "\t<tr><th scope=row>3</th><td> 3</td><td>#F01D35</td><td>Fibroblast-like       </td><td> 5</td></tr>\n",
       "\t<tr><th scope=row>4</th><td> 4</td><td>#E85F6D</td><td>Fibroblast-like       </td><td> 3</td></tr>\n",
       "\t<tr><th scope=row>5</th><td> 5</td><td>#B03743</td><td>Fibroblast            </td><td> 1</td></tr>\n",
       "\t<tr><th scope=row>6</th><td> 6</td><td>#7C2730</td><td>Fibroblast            </td><td> 2</td></tr>\n",
       "\t<tr><th scope=row>7</th><td> 7</td><td>#CF175A</td><td>Fibroblast-like       </td><td> 4</td></tr>\n",
       "\t<tr><th scope=row>8</th><td> 8</td><td>#CCCCCC</td><td>Doublets              </td><td>17</td></tr>\n",
       "\t<tr><th scope=row>9</th><td> 9</td><td>#F7A6C2</td><td>Keratinocyte-like     </td><td> 6</td></tr>\n",
       "\t<tr><th scope=row>10</th><td>10</td><td>#A6D854</td><td>Pre-iPSC              </td><td>16</td></tr>\n",
       "\t<tr><th scope=row>11</th><td>11</td><td>#406614</td><td>Partially-reprogrammed</td><td>14</td></tr>\n",
       "\t<tr><th scope=row>12</th><td>12</td><td>#BD6A37</td><td>Intermediate          </td><td>11</td></tr>\n",
       "\t<tr><th scope=row>13</th><td>13</td><td>#D4B81C</td><td>Intermediate          </td><td>10</td></tr>\n",
       "\t<tr><th scope=row>14</th><td>14</td><td>#F0520A</td><td>Early intermediate    </td><td> 7</td></tr>\n",
       "\t<tr><th scope=row>15</th><td>15</td><td>#F0A118</td><td>Intermediate          </td><td>13</td></tr>\n",
       "\t<tr><th scope=row>16</th><td>16</td><td>#2BB5A3</td><td>Neural-like           </td><td> 9</td></tr>\n",
       "\t<tr><th scope=row>17</th><td>17</td><td>#006658</td><td>Neural-like           </td><td> 8</td></tr>\n",
       "\t<tr><th scope=row>18</th><td>18</td><td>#9BE89E</td><td>iPSC                  </td><td>18</td></tr>\n",
       "</tbody>\n",
       "</table>\n"
      ],
      "text/latex": [
       "A data.frame: 18 × 4\n",
       "\\begin{tabular}{r|llll}\n",
       "  & cluster & colour & description & new\\_cluster\\\\\n",
       "  & <int> & <chr> & <chr> & <int>\\\\\n",
       "\\hline\n",
       "\t1 &  1 & \\#F4D5CD & Intermediate           & 12\\\\\n",
       "\t2 &  2 & \\#78A824 & Pre-iPSC               & 15\\\\\n",
       "\t3 &  3 & \\#F01D35 & Fibroblast-like        &  5\\\\\n",
       "\t4 &  4 & \\#E85F6D & Fibroblast-like        &  3\\\\\n",
       "\t5 &  5 & \\#B03743 & Fibroblast             &  1\\\\\n",
       "\t6 &  6 & \\#7C2730 & Fibroblast             &  2\\\\\n",
       "\t7 &  7 & \\#CF175A & Fibroblast-like        &  4\\\\\n",
       "\t8 &  8 & \\#CCCCCC & Doublets               & 17\\\\\n",
       "\t9 &  9 & \\#F7A6C2 & Keratinocyte-like      &  6\\\\\n",
       "\t10 & 10 & \\#A6D854 & Pre-iPSC               & 16\\\\\n",
       "\t11 & 11 & \\#406614 & Partially-reprogrammed & 14\\\\\n",
       "\t12 & 12 & \\#BD6A37 & Intermediate           & 11\\\\\n",
       "\t13 & 13 & \\#D4B81C & Intermediate           & 10\\\\\n",
       "\t14 & 14 & \\#F0520A & Early intermediate     &  7\\\\\n",
       "\t15 & 15 & \\#F0A118 & Intermediate           & 13\\\\\n",
       "\t16 & 16 & \\#2BB5A3 & Neural-like            &  9\\\\\n",
       "\t17 & 17 & \\#006658 & Neural-like            &  8\\\\\n",
       "\t18 & 18 & \\#9BE89E & iPSC                   & 18\\\\\n",
       "\\end{tabular}\n"
      ],
      "text/markdown": [
       "\n",
       "A data.frame: 18 × 4\n",
       "\n",
       "| <!--/--> | cluster &lt;int&gt; | colour &lt;chr&gt; | description &lt;chr&gt; | new_cluster &lt;int&gt; |\n",
       "|---|---|---|---|---|\n",
       "| 1 |  1 | #F4D5CD | Intermediate           | 12 |\n",
       "| 2 |  2 | #78A824 | Pre-iPSC               | 15 |\n",
       "| 3 |  3 | #F01D35 | Fibroblast-like        |  5 |\n",
       "| 4 |  4 | #E85F6D | Fibroblast-like        |  3 |\n",
       "| 5 |  5 | #B03743 | Fibroblast             |  1 |\n",
       "| 6 |  6 | #7C2730 | Fibroblast             |  2 |\n",
       "| 7 |  7 | #CF175A | Fibroblast-like        |  4 |\n",
       "| 8 |  8 | #CCCCCC | Doublets               | 17 |\n",
       "| 9 |  9 | #F7A6C2 | Keratinocyte-like      |  6 |\n",
       "| 10 | 10 | #A6D854 | Pre-iPSC               | 16 |\n",
       "| 11 | 11 | #406614 | Partially-reprogrammed | 14 |\n",
       "| 12 | 12 | #BD6A37 | Intermediate           | 11 |\n",
       "| 13 | 13 | #D4B81C | Intermediate           | 10 |\n",
       "| 14 | 14 | #F0520A | Early intermediate     |  7 |\n",
       "| 15 | 15 | #F0A118 | Intermediate           | 13 |\n",
       "| 16 | 16 | #2BB5A3 | Neural-like            |  9 |\n",
       "| 17 | 17 | #006658 | Neural-like            |  8 |\n",
       "| 18 | 18 | #9BE89E | iPSC                   | 18 |\n",
       "\n"
      ],
      "text/plain": [
       "   cluster colour  description            new_cluster\n",
       "1   1      #F4D5CD Intermediate           12         \n",
       "2   2      #78A824 Pre-iPSC               15         \n",
       "3   3      #F01D35 Fibroblast-like         5         \n",
       "4   4      #E85F6D Fibroblast-like         3         \n",
       "5   5      #B03743 Fibroblast              1         \n",
       "6   6      #7C2730 Fibroblast              2         \n",
       "7   7      #CF175A Fibroblast-like         4         \n",
       "8   8      #CCCCCC Doublets               17         \n",
       "9   9      #F7A6C2 Keratinocyte-like       6         \n",
       "10 10      #A6D854 Pre-iPSC               16         \n",
       "11 11      #406614 Partially-reprogrammed 14         \n",
       "12 12      #BD6A37 Intermediate           11         \n",
       "13 13      #D4B81C Intermediate           10         \n",
       "14 14      #F0520A Early intermediate      7         \n",
       "15 15      #F0A118 Intermediate           13         \n",
       "16 16      #2BB5A3 Neural-like             9         \n",
       "17 17      #006658 Neural-like             8         \n",
       "18 18      #9BE89E iPSC                   18         "
      ]
     },
     "metadata": {},
     "output_type": "display_data"
    }
   ],
   "source": [
    "cluster_config = read.table(\"../configs/cluster.tsv\", comment.char = '', header=T, sep='\\t')\n",
    "cluster_config$colour = as.character(cluster_config$colour)\n",
    "cluster_config$description = as.character(cluster_config$description)\n",
    "\n",
    "rownames(cluster_config) = cluster_config$cluster\n",
    "cluster_config"
   ]
  },
  {
   "cell_type": "markdown",
   "metadata": {},
   "source": [
    "### Peak Sets"
   ]
  },
  {
   "cell_type": "code",
   "execution_count": 9,
   "metadata": {},
   "outputs": [],
   "source": [
    "peak_sets = list()\n",
    "SUBSAMPLE = 50\n",
    "\n",
    "for (i in seq(nrow(peak_set_config))) {\n",
    "    peak_sets[[i]] = import(peak_set_config[i, \"path\"])\n",
    "    peak_sets[[i]] = peak_sets[[i]][seq(1,length(peak_sets[[i]]),SUBSAMPLE)]\n",
    "}"
   ]
  },
  {
   "cell_type": "code",
   "execution_count": 10,
   "metadata": {},
   "outputs": [],
   "source": [
    "# manually load peaks\n",
    "# peak_sets = list()\n",
    "# peak_sets[[1]] = import(\"/users/surag/kundajelab/scATAC-reprog/resources/GSE101074/TFAP2C.dependent.reg.elements.hg38.bed\")\n",
    "# peak_sets[[1]] = peak_sets[[1]][seq(1,length(peak_sets[[1]]),5)]\n",
    "\n",
    "# peak_sets[[2]] = import(\"/users/surag/kundajelab/scATAC-reprog/resources/GSE101074/naive.specific.atac.hg38.bed\")\n",
    "# peak_sets[[2]] = peak_sets[[2]][seq(1,length(peak_sets[[2]]),5)]\n",
    "\n",
    "# peak_sets[[3]] = import(\"/users/surag/kundajelab/scATAC-reprog/resources/GSE101074/primed.specific.atac.hg38.bed\")\n",
    "# peak_sets[[3]] = peak_sets[[3]][seq(1,length(peak_sets[[3]]),5)]"
   ]
  },
  {
   "cell_type": "code",
   "execution_count": 11,
   "metadata": {},
   "outputs": [
    {
     "data": {
      "text/html": [
       "<ol>\n",
       "\t<li>477</li>\n",
       "\t<li>459</li>\n",
       "\t<li>299</li>\n",
       "\t<li>419</li>\n",
       "\t<li>237</li>\n",
       "\t<li>245</li>\n",
       "\t<li>531</li>\n",
       "\t<li>488</li>\n",
       "\t<li>249</li>\n",
       "\t<li>277</li>\n",
       "\t<li>236</li>\n",
       "\t<li>192</li>\n",
       "\t<li>621</li>\n",
       "\t<li>399</li>\n",
       "</ol>\n"
      ],
      "text/latex": [
       "\\begin{enumerate}\n",
       "\\item 477\n",
       "\\item 459\n",
       "\\item 299\n",
       "\\item 419\n",
       "\\item 237\n",
       "\\item 245\n",
       "\\item 531\n",
       "\\item 488\n",
       "\\item 249\n",
       "\\item 277\n",
       "\\item 236\n",
       "\\item 192\n",
       "\\item 621\n",
       "\\item 399\n",
       "\\end{enumerate}\n"
      ],
      "text/markdown": [
       "1. 477\n",
       "2. 459\n",
       "3. 299\n",
       "4. 419\n",
       "5. 237\n",
       "6. 245\n",
       "7. 531\n",
       "8. 488\n",
       "9. 249\n",
       "10. 277\n",
       "11. 236\n",
       "12. 192\n",
       "13. 621\n",
       "14. 399\n",
       "\n",
       "\n"
      ],
      "text/plain": [
       "[[1]]\n",
       "[1] 477\n",
       "\n",
       "[[2]]\n",
       "[1] 459\n",
       "\n",
       "[[3]]\n",
       "[1] 299\n",
       "\n",
       "[[4]]\n",
       "[1] 419\n",
       "\n",
       "[[5]]\n",
       "[1] 237\n",
       "\n",
       "[[6]]\n",
       "[1] 245\n",
       "\n",
       "[[7]]\n",
       "[1] 531\n",
       "\n",
       "[[8]]\n",
       "[1] 488\n",
       "\n",
       "[[9]]\n",
       "[1] 249\n",
       "\n",
       "[[10]]\n",
       "[1] 277\n",
       "\n",
       "[[11]]\n",
       "[1] 236\n",
       "\n",
       "[[12]]\n",
       "[1] 192\n",
       "\n",
       "[[13]]\n",
       "[1] 621\n",
       "\n",
       "[[14]]\n",
       "[1] 399\n"
      ]
     },
     "metadata": {},
     "output_type": "display_data"
    },
    {
     "data": {
      "text/html": [
       "5129"
      ],
      "text/latex": [
       "5129"
      ],
      "text/markdown": [
       "5129"
      ],
      "text/plain": [
       "[1] 5129"
      ]
     },
     "metadata": {},
     "output_type": "display_data"
    }
   ],
   "source": [
    "peak_set_lens = list()\n",
    "\n",
    "for (i in seq(length(peak_sets))) {\n",
    "    peak_set_lens[[i]] = length(peak_sets[[i]])\n",
    "}\n",
    "\n",
    "peak_set_lens\n",
    "\n",
    "sum(unlist(peak_set_lens))"
   ]
  },
  {
   "cell_type": "markdown",
   "metadata": {},
   "source": [
    "### Fetch Data from BigWigs"
   ]
  },
  {
   "cell_type": "code",
   "execution_count": 12,
   "metadata": {},
   "outputs": [],
   "source": [
    "get_matrix_from_bigwig <- function(bigwig_path, peak_set) {\n",
    "    # ensure peak set has fixed width\n",
    "    stopifnot(length(unique(width(peak_set)))==1)\n",
    "    \n",
    "    as.matrix(import(bigwig_path, \n",
    "      which=peak_set, as=\"NumericList\"))\n",
    "}"
   ]
  },
  {
   "cell_type": "code",
   "execution_count": 13,
   "metadata": {},
   "outputs": [],
   "source": [
    "matrices = list()"
   ]
  },
  {
   "cell_type": "code",
   "execution_count": 14,
   "metadata": {},
   "outputs": [],
   "source": [
    "for (i in seq(length(peak_sets))) {\n",
    "    matrices[[i]] = list()\n",
    "    \n",
    "    for (j in seq(nrow(vortex_config))) {\n",
    "        matrices[[i]][[j]] = get_matrix_from_bigwig(vortex_config[j, \"path\"], \n",
    "                                                    resize(peak_sets[[i]], width=vortex_config[j, \"width\"], fix='center'))\n",
    "    }\n",
    "}"
   ]
  },
  {
   "cell_type": "markdown",
   "metadata": {},
   "source": [
    "## Compute Orders for Each Peak Set and Reorder"
   ]
  },
  {
   "cell_type": "code",
   "execution_count": 15,
   "metadata": {},
   "outputs": [],
   "source": [
    "# samples which will be used to decide peak order (based on mean signal across all)\n",
    "ROW_ORDER_TYPE = \"ATAC\""
   ]
  },
  {
   "cell_type": "code",
   "execution_count": 16,
   "metadata": {},
   "outputs": [],
   "source": [
    "peak_set_orders = list()"
   ]
  },
  {
   "cell_type": "code",
   "execution_count": 17,
   "metadata": {},
   "outputs": [],
   "source": [
    "for (i in seq(length(peak_sets))) {\n",
    "    tmp_matrix = do.call(cbind, matrices[[i]][vortex_config$type %in% ROW_ORDER_TYPE])\n",
    "    peak_set_orders[[i]] = order(rowSums(tmp_matrix))\n",
    "}"
   ]
  },
  {
   "cell_type": "code",
   "execution_count": 18,
   "metadata": {},
   "outputs": [],
   "source": [
    "rm(tmp_matrix)"
   ]
  },
  {
   "cell_type": "code",
   "execution_count": 19,
   "metadata": {},
   "outputs": [
    {
     "data": {
      "text/html": [
       "<style>\n",
       ".list-inline {list-style: none; margin:0; padding: 0}\n",
       ".list-inline>li {display: inline-block}\n",
       ".list-inline>li:not(:last-child)::after {content: \"\\00b7\"; padding: 0 .5ex}\n",
       "</style>\n",
       "<ol class=list-inline><li>437</li><li>237</li><li>217</li><li>96</li><li>475</li><li>392</li><li>46</li><li>382</li><li>319</li><li>86</li></ol>\n"
      ],
      "text/latex": [
       "\\begin{enumerate*}\n",
       "\\item 437\n",
       "\\item 237\n",
       "\\item 217\n",
       "\\item 96\n",
       "\\item 475\n",
       "\\item 392\n",
       "\\item 46\n",
       "\\item 382\n",
       "\\item 319\n",
       "\\item 86\n",
       "\\end{enumerate*}\n"
      ],
      "text/markdown": [
       "1. 437\n",
       "2. 237\n",
       "3. 217\n",
       "4. 96\n",
       "5. 475\n",
       "6. 392\n",
       "7. 46\n",
       "8. 382\n",
       "9. 319\n",
       "10. 86\n",
       "\n",
       "\n"
      ],
      "text/plain": [
       " [1] 437 237 217  96 475 392  46 382 319  86"
      ]
     },
     "metadata": {},
     "output_type": "display_data"
    }
   ],
   "source": [
    "peak_set_orders[[1]][1:10]"
   ]
  },
  {
   "cell_type": "code",
   "execution_count": 20,
   "metadata": {},
   "outputs": [],
   "source": [
    "for (i in seq(length(peak_sets))) {\n",
    "    for (j in seq(nrow(vortex_config))) {\n",
    "        matrices[[i]][[j]] = matrices[[i]][[j]][peak_set_orders[[i]], ]\n",
    "    }\n",
    "}"
   ]
  },
  {
   "cell_type": "markdown",
   "metadata": {},
   "source": [
    "## Smooth Samples"
   ]
  },
  {
   "cell_type": "code",
   "execution_count": 21,
   "metadata": {},
   "outputs": [],
   "source": [
    "y_lims = list()"
   ]
  },
  {
   "cell_type": "code",
   "execution_count": 22,
   "metadata": {},
   "outputs": [],
   "source": [
    "# find limits for clipping\n",
    "for (k in seq(length(unique(vortex_config$type)))) {\n",
    "    type = unique(vortex_config$type)[k]\n",
    "    \n",
    "    tmp_matrices = list()\n",
    "    \n",
    "    # collapse across time points\n",
    "    for (i in seq(length(peak_sets))) {\n",
    "        tmp_matrices[[i]] = do.call(cbind, matrices[[i]][vortex_config$type %in% type])\n",
    "    }\n",
    "    \n",
    "    # collapse across peak sets\n",
    "    tmp_matrices = do.call(rbind, tmp_matrices)    \n",
    "    \n",
    "    y_lims[[type]] = as.numeric(quantile(tmp_matrices, 0.98))\n",
    "    \n",
    "}"
   ]
  },
  {
   "cell_type": "code",
   "execution_count": 23,
   "metadata": {},
   "outputs": [],
   "source": [
    "rm(tmp_matrices)"
   ]
  },
  {
   "cell_type": "code",
   "execution_count": 24,
   "metadata": {},
   "outputs": [
    {
     "data": {
      "text/html": [
       "<ol>\n",
       "\t<li>8.15104961395264</li>\n",
       "\t<li>4.39141988754272</li>\n",
       "\t<li>7.92986011505127</li>\n",
       "</ol>\n"
      ],
      "text/latex": [
       "\\begin{enumerate}\n",
       "\\item 8.15104961395264\n",
       "\\item 4.39141988754272\n",
       "\\item 7.92986011505127\n",
       "\\end{enumerate}\n"
      ],
      "text/markdown": [
       "1. 8.15104961395264\n",
       "2. 4.39141988754272\n",
       "3. 7.92986011505127\n",
       "\n",
       "\n"
      ],
      "text/plain": [
       "[[1]]\n",
       "[1] 8.15105\n",
       "\n",
       "[[2]]\n",
       "[1] 4.39142\n",
       "\n",
       "[[3]]\n",
       "[1] 7.92986\n"
      ]
     },
     "metadata": {},
     "output_type": "display_data"
    }
   ],
   "source": [
    "y_lims"
   ]
  },
  {
   "cell_type": "code",
   "execution_count": 25,
   "metadata": {},
   "outputs": [],
   "source": [
    "# clip matrices to y_lim\n",
    "clipped_matrices = list()\n",
    "\n",
    "for (i in seq(length(peak_sets))) {\n",
    "    clipped_matrices[[i]] = list()\n",
    "    \n",
    "    for (j in seq(nrow(vortex_config))) {\n",
    "        clipped_matrices[[i]][[j]] = matrices[[i]][[j]]\n",
    "        clipped_matrices[[i]][[j]][clipped_matrices[[i]][[j]] > y_lims[[vortex_config[j, \"type\"]]]] = y_lims[[vortex_config[j, \"type\"]]]\n",
    "    }\n",
    "}"
   ]
  },
  {
   "cell_type": "code",
   "execution_count": 26,
   "metadata": {},
   "outputs": [],
   "source": [
    "create_sum_matrix <- function(n, r) {\n",
    "  suppressWarnings(matrix(c(rep(1, r), rep(0, n)), n, n/r))\n",
    "}"
   ]
  },
  {
   "cell_type": "code",
   "execution_count": 27,
   "metadata": {},
   "outputs": [],
   "source": [
    "# mean downsample matrices along X dimension \n",
    "# ENSURE DIM_AFTER_SAMPLE is a divisor of all widths\n",
    "DIM_AFTER_SAMPLE = 200\n",
    "\n",
    "smoothed_matrices = list()\n",
    "for (i in seq(length(peak_sets))) {\n",
    "    smoothed_matrices[[i]] = list()\n",
    "    \n",
    "    for (j in seq(nrow(vortex_config))) {\n",
    "            stopifnot(ncol(clipped_matrices[[i]][[j]])%%DIM_AFTER_SAMPLE==0)\n",
    "\n",
    "            scale_factor = ncol(clipped_matrices[[i]][[j]])/DIM_AFTER_SAMPLE\n",
    "            smoothed_matrices[[i]][[j]] = (1/scale_factor)*(clipped_matrices[[i]][[j]]%*%create_sum_matrix(ncol(clipped_matrices[[i]][[j]]), scale_factor))\n",
    "    }\n",
    "}"
   ]
  },
  {
   "cell_type": "code",
   "execution_count": 28,
   "metadata": {},
   "outputs": [],
   "source": [
    "# mean downsample along samples (y-axis)\n",
    "\n",
    "Y_SUBSAMPLE_FACTOR = 5\n",
    "for (i in seq(length(peak_sets))) {\n",
    "    for (j in seq(nrow(vortex_config))) {\n",
    "            smoothed_matrices[[i]][[j]] = t((1/Y_SUBSAMPLE_FACTOR)*(t(smoothed_matrices[[i]][[j]])%*%create_sum_matrix(nrow(smoothed_matrices[[i]][[j]]), \n",
    "                                                                                                                     Y_SUBSAMPLE_FACTOR)))\n",
    "    }\n",
    "}"
   ]
  },
  {
   "cell_type": "code",
   "execution_count": 29,
   "metadata": {},
   "outputs": [
    {
     "data": {
      "text/html": [
       "<style>\n",
       ".list-inline {list-style: none; margin:0; padding: 0}\n",
       ".list-inline>li {display: inline-block}\n",
       ".list-inline>li:not(:last-child)::after {content: \"\\00b7\"; padding: 0 .5ex}\n",
       "</style>\n",
       "<ol class=list-inline><li>95</li><li>200</li></ol>\n"
      ],
      "text/latex": [
       "\\begin{enumerate*}\n",
       "\\item 95\n",
       "\\item 200\n",
       "\\end{enumerate*}\n"
      ],
      "text/markdown": [
       "1. 95\n",
       "2. 200\n",
       "\n",
       "\n"
      ],
      "text/plain": [
       "[1]  95 200"
      ]
     },
     "metadata": {},
     "output_type": "display_data"
    }
   ],
   "source": [
    "dim(smoothed_matrices[[1]][[1]])"
   ]
  },
  {
   "cell_type": "code",
   "execution_count": 358,
   "metadata": {},
   "outputs": [],
   "source": [
    "# additional smoothing\n",
    "# for (i in seq(length(peak_sets))) {\n",
    "#     for (j in seq(nrow(vortex_config))) {\n",
    "#         smoothed_matrices[[i]][[j]] =  as.matrix(focal(raster(smoothed_matrices[[i]][[j]]), matrix(1, 3, 3), mean, pad = T, padValue = 0))\n",
    "#     }\n",
    "# }"
   ]
  },
  {
   "cell_type": "markdown",
   "metadata": {},
   "source": [
    "## Decide Limits and Colour Schemes"
   ]
  },
  {
   "cell_type": "code",
   "execution_count": 30,
   "metadata": {},
   "outputs": [],
   "source": [
    "COLORSCALES = list(scale_fill_viridis_c(option=\"C\", oob=squish), \n",
    "               scale_fill_distiller(palette=\"Blues\", oob=squish, direction=1),\n",
    "               scale_fill_distiller(palette=\"Reds\", oob=squish, direction=1))"
   ]
  },
  {
   "cell_type": "code",
   "execution_count": 31,
   "metadata": {},
   "outputs": [],
   "source": [
    "# decide limits for each type\n",
    "for (k in seq(length(unique(vortex_config$type)))) {\n",
    "    type = unique(vortex_config$type)[k]\n",
    "    \n",
    "    tmp_matrices = list()\n",
    "    \n",
    "    # collapse across time points\n",
    "    for (i in seq(length(peak_sets))) {\n",
    "        tmp_matrices[[i]] = do.call(cbind, smoothed_matrices[[i]][vortex_config$type %in% type])\n",
    "    }\n",
    "    \n",
    "    # collapse across peak sets\n",
    "    tmp_matrices = do.call(rbind, tmp_matrices)\n",
    "    \n",
    "    low = quantile(tmp_matrices, 0.01)\n",
    "    high = quantile(tmp_matrices, 0.999)\n",
    "    \n",
    "    COLORSCALES[[k]]$limits = c(low, high)\n",
    "    \n",
    "}"
   ]
  },
  {
   "cell_type": "code",
   "execution_count": 32,
   "metadata": {},
   "outputs": [],
   "source": [
    "rm(tmp_matrices)"
   ]
  },
  {
   "cell_type": "code",
   "execution_count": 33,
   "metadata": {},
   "outputs": [
    {
     "name": "stdout",
     "output_type": "stream",
     "text": [
      "       1%     99.9% \n",
      "0.1062692 7.4478182 \n",
      "      1%    99.9% \n",
      "0.000000 6.347413 \n",
      "      1%    99.9% \n",
      "0.076634 3.247249 \n"
     ]
    }
   ],
   "source": [
    "for (k in seq(length(unique(vortex_config$type)))) {\n",
    "    print(COLORSCALES[[k]]$limits)\n",
    "}"
   ]
  },
  {
   "cell_type": "markdown",
   "metadata": {},
   "source": [
    "## Plotting"
   ]
  },
  {
   "cell_type": "code",
   "execution_count": 55,
   "metadata": {},
   "outputs": [],
   "source": [
    "plot_vortex <- function(bwmatrix, color_scale_with_limits,\n",
    "                       title=NULL, ticks=NULL) {\n",
    "    # ticks is a number and if not null, will make ticks at\n",
    "    # left and right end with +ticks kb and -ticks kb\n",
    "    \n",
    "    melted = melt(bwmatrix)\n",
    "    \n",
    "    plot <- ggplot(melted, aes(x=Var2, y= Var1, fill=value)) +\n",
    "#     geom_tile_rast() + # kinda slow, use later\n",
    "    geom_tile() +\n",
    "#     geom_raster() +\n",
    "    color_scale_with_limits + \n",
    "    scale_y_continuous(expand = c(0, 0)) + # this removes whitespace between plot and border\n",
    "    theme_classic() \n",
    "    \n",
    "    if (!is.null(title)) {\n",
    "        plot = plot + ggtitle(title) +\n",
    "        theme(plot.title = element_text(hjust = 0.5))\n",
    "    }\n",
    "    \n",
    "    if (!is.null(ticks)) {\n",
    "        plot = plot + scale_x_continuous(breaks = c(1, ncol(bwmatrix)/2, ncol(bwmatrix)), \n",
    "                                         labels = c(sprintf(\"-%dkb\", ticks), \"\",\n",
    "                                                    sprintf(\"+%dkb\", ticks)),\n",
    "                                         expand = c(0,0)) # this removes whitespace between plot and border\n",
    "        plot = plot + theme(axis.ticks.length=unit(.25, \"cm\"),\n",
    "                           axis.text.x = element_text(size=10))\n",
    "    }\n",
    "                                         \n",
    "    else {\n",
    "        plot = plot + \n",
    "               scale_x_continuous(expand=c(0,0)) + # this removes whitespace between plot and border\n",
    "               theme(axis.ticks.x=element_blank(),\n",
    "                    axis.text.x = element_blank(),) \n",
    "    }\n",
    "    \n",
    "    plot = plot + theme(legend.position = \"none\",             \n",
    "            axis.title.x = element_blank(),\n",
    "            axis.text.y=element_blank(),\n",
    "            axis.line=element_blank(),\n",
    "            axis.title.y = element_blank(),\n",
    "            axis.ticks.y=element_blank(),\n",
    "            plot.margin = unit(c(0,2,0,2), \"pt\"), # right tick label was clipping\n",
    "          panel.border = element_rect(colour = \"black\", fill=NA, size=0.5))\n",
    "    \n",
    "    plot\n",
    "}"
   ]
  },
  {
   "cell_type": "code",
   "execution_count": 56,
   "metadata": {},
   "outputs": [],
   "source": [
    "# bwm_clipped = bwm\n",
    "# bwm_clipped[bwm_clipped>quantile(bwm, 0.99)] = quantile(bwm, 0.99)\n",
    "# bwm_clipped_ordered = bwm_clipped[order(rowMeans(bwm)), ]\n",
    "# bwm_clipped_smoothed = as.matrix(focal(raster(bwm_clipped_ordered), matrix(1, 11, 3), mean, pad = T, padValue = 0))\n",
    "# quantile(bwm_clipped_smoothed, c(0.95, 0.98, .99,.999, .9999, 1))\n",
    "# vortex_plot <- plot_vortex(bwm_clipped_smoothed[1:100,], scale_fill_distiller(palette = \"Reds\"))"
   ]
  },
  {
   "cell_type": "code",
   "execution_count": 57,
   "metadata": {},
   "outputs": [],
   "source": [
    "all_plots = list()\n",
    "row_widths = list()"
   ]
  },
  {
   "cell_type": "code",
   "execution_count": 58,
   "metadata": {},
   "outputs": [],
   "source": [
    "X_SPACER_WIDTH = 0.05\n",
    "X_NON_SPACER_WIDTH = -0.1\n",
    "\n",
    "for (i in seq(length(peak_sets))) {\n",
    "    tot_plots = 1\n",
    "    all_plots[[i]] = list()\n",
    "    \n",
    "    for (j in seq(nrow(vortex_config))) {\n",
    "        if (j>1) {\n",
    "            all_plots[[i]][[tot_plots]] = plot_spacer() # spacing between every consecutive plot\n",
    "            \n",
    "            if (vortex_config[j,\"group\"]!=vortex_config[j-1,\"group\"]) {\n",
    "            row_widths[[tot_plots]] = X_SPACER_WIDTH # spacing between groups\n",
    "            }\n",
    "            else {\n",
    "                row_widths[[tot_plots]] = X_NON_SPACER_WIDTH # spacing within groups\n",
    "            }\n",
    "            \n",
    "            tot_plots = tot_plots + 1\n",
    "        }\n",
    "        \n",
    "        title = NULL\n",
    "        ticks = NULL\n",
    "        if (i==1) {\n",
    "            title = vortex_config[j, \"title\"]\n",
    "        }\n",
    "        # TODO: ticks mess margins\n",
    "#         else if (i==length(peak_sets)) {\n",
    "#             ticks = vortex_config[j, \"width\"]/2000\n",
    "#         }\n",
    "        \n",
    "        all_plots[[i]][[tot_plots]] = plot_vortex(smoothed_matrices[[i]][[j]][seq(1, nrow(smoothed_matrices[[i]][[j]]), 1),],\n",
    "                                         COLORSCALES[[as.numeric(vortex_config[j, \"type\"])]],\n",
    "                                                 title=title,\n",
    "                                                 ticks=ticks)\n",
    "        row_widths[[tot_plots]] = 1\n",
    "        tot_plots = tot_plots + 1\n",
    "    }\n",
    "}"
   ]
  },
  {
   "cell_type": "code",
   "execution_count": 73,
   "metadata": {},
   "outputs": [],
   "source": [
    "Y_SPACER_WIDTH = -0.25\n",
    "Y_NON_SPACER_WIDTH = -0.35\n",
    "\n",
    "rowwise_plots = list()\n",
    "col_heights = list()\n",
    "tot_plots = 1\n",
    "\n",
    "for (i in seq(length(peak_sets))) {\n",
    "    if (i>1) {\n",
    "        rowwise_plots[[tot_plots]] = plot_spacer() # spacing between groups\n",
    "        \n",
    "        if (peak_set_config[i,\"group\"]!=peak_set_config[i-1,\"group\"]) {\n",
    "            col_heights[[tot_plots]] = Y_SPACER_WIDTH*mean(unlist(peak_set_lens)) # spacing between groups\n",
    "        }\n",
    "        else {\n",
    "            col_heights[[tot_plots]] = Y_NON_SPACER_WIDTH*mean(unlist(peak_set_lens)) # spacing within groups\n",
    "        }\n",
    "        \n",
    "        tot_plots = tot_plots + 1\n",
    "    }\n",
    "    \n",
    "    rowwise_plots[[tot_plots]] =  wrap_plots(all_plots[[i]], nrow = 1, widths = row_widths)\n",
    "    col_heights[[tot_plots]] = peak_set_lens[[i]]\n",
    "    \n",
    "    tot_plots = tot_plots + 1\n",
    "}"
   ]
  },
  {
   "cell_type": "code",
   "execution_count": 74,
   "metadata": {},
   "outputs": [
    {
     "data": {
      "text/html": [
       "33"
      ],
      "text/latex": [
       "33"
      ],
      "text/markdown": [
       "33"
      ],
      "text/plain": [
       "[1] 33"
      ]
     },
     "metadata": {},
     "output_type": "display_data"
    },
    {
     "data": {
      "text/html": [
       "27"
      ],
      "text/latex": [
       "27"
      ],
      "text/markdown": [
       "27"
      ],
      "text/plain": [
       "[1] 27"
      ]
     },
     "metadata": {},
     "output_type": "display_data"
    }
   ],
   "source": [
    "length(row_widths)\n",
    "length(col_heights)"
   ]
  },
  {
   "cell_type": "code",
   "execution_count": 75,
   "metadata": {},
   "outputs": [
    {
     "data": {
      "text/html": [
       "33"
      ],
      "text/latex": [
       "33"
      ],
      "text/markdown": [
       "33"
      ],
      "text/plain": [
       "[1] 33"
      ]
     },
     "metadata": {},
     "output_type": "display_data"
    },
    {
     "data": {
      "text/html": [
       "27"
      ],
      "text/latex": [
       "27"
      ],
      "text/markdown": [
       "27"
      ],
      "text/plain": [
       "[1] 27"
      ]
     },
     "metadata": {},
     "output_type": "display_data"
    }
   ],
   "source": [
    "length(all_plots[[1]])\n",
    "length(rowwise_plots)\n",
    "# length(all_plots[[2]])"
   ]
  },
  {
   "cell_type": "code",
   "execution_count": 76,
   "metadata": {},
   "outputs": [],
   "source": [
    "options(repr.plot.width = 28, repr.plot.height = 10)\n",
    "vortex_grid = wrap_plots(\n",
    "    rowwise_plots,\n",
    "    ncol=1,\n",
    "    heights = col_heights)\n",
    "vortex_grid"
   ]
  },
  {
   "cell_type": "code",
   "execution_count": 77,
   "metadata": {},
   "outputs": [],
   "source": [
    "saveRDS(vortex_grid, file=sprintf(\"./subfigs/%s_vortex.rds\",\n",
    "                                format(Sys.Date(), \"%Y%m%d\")))"
   ]
  },
  {
   "cell_type": "code",
   "execution_count": 245,
   "metadata": {},
   "outputs": [
    {
     "data": {
      "image/png": "[encoded data removed]",
      "text/plain": [
       "plot without title"
      ]
     },
     "metadata": {
      "image/png": {
       "height": 300,
       "width": 120
      },
      "text/plain": {
       "height": 300,
       "width": 120
      }
     },
     "output_type": "display_data"
    }
   ],
   "source": [
    "options(repr.plot.width = 2, repr.plot.height = 5)\n",
    "plot_vortex(smoothed_matrices[[1]][[1]], \n",
    "            COLORSCALES[[as.numeric(vortex_config[1, \"type\"])]], \n",
    "            title=\"HELLO\", ticks=1)"
   ]
  },
  {
   "cell_type": "code",
   "execution_count": null,
   "metadata": {},
   "outputs": [],
   "source": []
  }
 ],
 "metadata": {
  "kernelspec": {
   "display_name": "R",
   "language": "R",
   "name": "ir"
  },
  "language_info": {
   "codemirror_mode": "r",
   "file_extension": ".r",
   "mimetype": "text/x-r-source",
   "name": "R",
   "pygments_lexer": "r",
   "version": "3.6.3"
  }
 },
 "nbformat": 4,
 "nbformat_minor": 4
}
