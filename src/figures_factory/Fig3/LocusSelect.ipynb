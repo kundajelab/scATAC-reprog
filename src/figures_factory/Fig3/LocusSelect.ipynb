{
 "cells": [
  {
   "cell_type": "markdown",
   "metadata": {},
   "source": [
    "# Locus Select\n",
    "\n",
    "Select a locus for a single vignette that peaks from different peak sets.\n",
    "\n",
    "Input:\n",
    "1. Peak sets"
   ]
  },
  {
   "cell_type": "code",
   "execution_count": 20,
   "metadata": {},
   "outputs": [],
   "source": [
    "library(GenomicRanges)\n",
    "library(rtracklayer)"
   ]
  },
  {
   "cell_type": "markdown",
   "metadata": {},
   "source": [
    "### Load Peak Sets"
   ]
  },
  {
   "cell_type": "code",
   "execution_count": 2,
   "metadata": {},
   "outputs": [
    {
     "data": {
      "text/html": [
       "<style>\n",
       ".list-inline {list-style: none; margin:0; padding: 0}\n",
       ".list-inline>li {display: inline-block}\n",
       ".list-inline>li:not(:last-child)::after {content: \"\\00b7\"; padding: 0 .5ex}\n",
       "</style>\n",
       "<ol class=list-inline><li>'all_peaks.bed'</li><li>'idx1.bed'</li><li>'idx10.bed'</li><li>'idx11.bed'</li><li>'idx12.bed'</li><li>'idx13.bed'</li><li>'idx14.bed'</li><li>'idx15.bed'</li><li>'idx16.bed'</li><li>'idx17.bed'</li><li>'idx18.bed'</li><li>'idx19.bed'</li><li>'idx2.bed'</li><li>'idx20.bed'</li><li>'idx21.bed'</li><li>'idx22.bed'</li><li>'idx23.bed'</li><li>'idx24.bed'</li><li>'idx25.bed'</li><li>'idx26.bed'</li><li>'idx27.bed'</li><li>'idx28.bed'</li><li>'idx29.bed'</li><li>'idx3.bed'</li><li>'idx30.bed'</li><li>'idx31.bed'</li><li>'idx32.bed'</li><li>'idx33.bed'</li><li>'idx34.bed'</li><li>'idx35.bed'</li><li>'idx36.bed'</li><li>'idx37.bed'</li><li>'idx38.bed'</li><li>'idx39.bed'</li><li>'idx4.bed'</li><li>'idx40.bed'</li><li>'idx5.bed'</li><li>'idx6.bed'</li><li>'idx7.bed'</li><li>'idx8.bed'</li><li>'idx9.bed'</li><li>'README.md'</li><li>'width_200bp'</li></ol>\n"
      ],
      "text/latex": [
       "\\begin{enumerate*}\n",
       "\\item 'all\\_peaks.bed'\n",
       "\\item 'idx1.bed'\n",
       "\\item 'idx10.bed'\n",
       "\\item 'idx11.bed'\n",
       "\\item 'idx12.bed'\n",
       "\\item 'idx13.bed'\n",
       "\\item 'idx14.bed'\n",
       "\\item 'idx15.bed'\n",
       "\\item 'idx16.bed'\n",
       "\\item 'idx17.bed'\n",
       "\\item 'idx18.bed'\n",
       "\\item 'idx19.bed'\n",
       "\\item 'idx2.bed'\n",
       "\\item 'idx20.bed'\n",
       "\\item 'idx21.bed'\n",
       "\\item 'idx22.bed'\n",
       "\\item 'idx23.bed'\n",
       "\\item 'idx24.bed'\n",
       "\\item 'idx25.bed'\n",
       "\\item 'idx26.bed'\n",
       "\\item 'idx27.bed'\n",
       "\\item 'idx28.bed'\n",
       "\\item 'idx29.bed'\n",
       "\\item 'idx3.bed'\n",
       "\\item 'idx30.bed'\n",
       "\\item 'idx31.bed'\n",
       "\\item 'idx32.bed'\n",
       "\\item 'idx33.bed'\n",
       "\\item 'idx34.bed'\n",
       "\\item 'idx35.bed'\n",
       "\\item 'idx36.bed'\n",
       "\\item 'idx37.bed'\n",
       "\\item 'idx38.bed'\n",
       "\\item 'idx39.bed'\n",
       "\\item 'idx4.bed'\n",
       "\\item 'idx40.bed'\n",
       "\\item 'idx5.bed'\n",
       "\\item 'idx6.bed'\n",
       "\\item 'idx7.bed'\n",
       "\\item 'idx8.bed'\n",
       "\\item 'idx9.bed'\n",
       "\\item 'README.md'\n",
       "\\item 'width\\_200bp'\n",
       "\\end{enumerate*}\n"
      ],
      "text/markdown": [
       "1. 'all_peaks.bed'\n",
       "2. 'idx1.bed'\n",
       "3. 'idx10.bed'\n",
       "4. 'idx11.bed'\n",
       "5. 'idx12.bed'\n",
       "6. 'idx13.bed'\n",
       "7. 'idx14.bed'\n",
       "8. 'idx15.bed'\n",
       "9. 'idx16.bed'\n",
       "10. 'idx17.bed'\n",
       "11. 'idx18.bed'\n",
       "12. 'idx19.bed'\n",
       "13. 'idx2.bed'\n",
       "14. 'idx20.bed'\n",
       "15. 'idx21.bed'\n",
       "16. 'idx22.bed'\n",
       "17. 'idx23.bed'\n",
       "18. 'idx24.bed'\n",
       "19. 'idx25.bed'\n",
       "20. 'idx26.bed'\n",
       "21. 'idx27.bed'\n",
       "22. 'idx28.bed'\n",
       "23. 'idx29.bed'\n",
       "24. 'idx3.bed'\n",
       "25. 'idx30.bed'\n",
       "26. 'idx31.bed'\n",
       "27. 'idx32.bed'\n",
       "28. 'idx33.bed'\n",
       "29. 'idx34.bed'\n",
       "30. 'idx35.bed'\n",
       "31. 'idx36.bed'\n",
       "32. 'idx37.bed'\n",
       "33. 'idx38.bed'\n",
       "34. 'idx39.bed'\n",
       "35. 'idx4.bed'\n",
       "36. 'idx40.bed'\n",
       "37. 'idx5.bed'\n",
       "38. 'idx6.bed'\n",
       "39. 'idx7.bed'\n",
       "40. 'idx8.bed'\n",
       "41. 'idx9.bed'\n",
       "42. 'README.md'\n",
       "43. 'width_200bp'\n",
       "\n",
       "\n"
      ],
      "text/plain": [
       " [1] \"all_peaks.bed\" \"idx1.bed\"      \"idx10.bed\"     \"idx11.bed\"    \n",
       " [5] \"idx12.bed\"     \"idx13.bed\"     \"idx14.bed\"     \"idx15.bed\"    \n",
       " [9] \"idx16.bed\"     \"idx17.bed\"     \"idx18.bed\"     \"idx19.bed\"    \n",
       "[13] \"idx2.bed\"      \"idx20.bed\"     \"idx21.bed\"     \"idx22.bed\"    \n",
       "[17] \"idx23.bed\"     \"idx24.bed\"     \"idx25.bed\"     \"idx26.bed\"    \n",
       "[21] \"idx27.bed\"     \"idx28.bed\"     \"idx29.bed\"     \"idx3.bed\"     \n",
       "[25] \"idx30.bed\"     \"idx31.bed\"     \"idx32.bed\"     \"idx33.bed\"    \n",
       "[29] \"idx34.bed\"     \"idx35.bed\"     \"idx36.bed\"     \"idx37.bed\"    \n",
       "[33] \"idx38.bed\"     \"idx39.bed\"     \"idx4.bed\"      \"idx40.bed\"    \n",
       "[37] \"idx5.bed\"      \"idx6.bed\"      \"idx7.bed\"      \"idx8.bed\"     \n",
       "[41] \"idx9.bed\"      \"README.md\"     \"width_200bp\"  "
      ]
     },
     "metadata": {},
     "output_type": "display_data"
    }
   ],
   "source": [
    "BASE_PATH = \"../../analysis/20200307_fine_clustering/beds/20200705_gridmap_peakwidthnorm_logplusznorm_4way_ordered_n40/\"\n",
    "list.files(BASE_PATH)"
   ]
  },
  {
   "cell_type": "code",
   "execution_count": 16,
   "metadata": {},
   "outputs": [
    {
     "data": {
      "text/html": [
       "40"
      ],
      "text/latex": [
       "40"
      ],
      "text/markdown": [
       "40"
      ],
      "text/plain": [
       "[1] 40"
      ]
     },
     "metadata": {},
     "output_type": "display_data"
    },
    {
     "data": {
      "text/html": [
       "40"
      ],
      "text/latex": [
       "40"
      ],
      "text/markdown": [
       "40"
      ],
      "text/plain": [
       "[1] 40"
      ]
     },
     "metadata": {},
     "output_type": "display_data"
    }
   ],
   "source": [
    "PEAK_SET_BEDS = list.files(BASE_PATH, \n",
    "                           full.names=T,\n",
    "                          pattern=\"*idx[0-9]+\")\n",
    "PEAK_SET_NAMES = sub(\".bed\", \"\", list.files(BASE_PATH, \n",
    "                          pattern=\"*idx[0-9]+\"))\n",
    "length(PEAK_SET_BEDS)\n",
    "length(PEAK_SET_NAMES)"
   ]
  },
  {
   "cell_type": "code",
   "execution_count": 17,
   "metadata": {},
   "outputs": [],
   "source": [
    "# alphanumeric sort \n",
    "PEAK_SET_BEDS = PEAK_SET_BEDS[order(nchar(PEAK_SET_BEDS), PEAK_SET_BEDS)]\n",
    "PEAK_SET_NAMES = PEAK_SET_NAMES[order(nchar(PEAK_SET_NAMES), PEAK_SET_NAMES)]"
   ]
  },
  {
   "cell_type": "code",
   "execution_count": 18,
   "metadata": {},
   "outputs": [
    {
     "data": {
      "text/html": [
       "<style>\n",
       ".list-inline {list-style: none; margin:0; padding: 0}\n",
       ".list-inline>li {display: inline-block}\n",
       ".list-inline>li:not(:last-child)::after {content: \"\\00b7\"; padding: 0 .5ex}\n",
       "</style>\n",
       "<ol class=list-inline><li>'../../analysis/20200307_fine_clustering/beds/20200705_gridmap_peakwidthnorm_logplusznorm_4way_ordered_n40//idx1.bed'</li><li>'../../analysis/20200307_fine_clustering/beds/20200705_gridmap_peakwidthnorm_logplusznorm_4way_ordered_n40//idx2.bed'</li><li>'../../analysis/20200307_fine_clustering/beds/20200705_gridmap_peakwidthnorm_logplusznorm_4way_ordered_n40//idx3.bed'</li><li>'../../analysis/20200307_fine_clustering/beds/20200705_gridmap_peakwidthnorm_logplusznorm_4way_ordered_n40//idx4.bed'</li><li>'../../analysis/20200307_fine_clustering/beds/20200705_gridmap_peakwidthnorm_logplusznorm_4way_ordered_n40//idx5.bed'</li><li>'../../analysis/20200307_fine_clustering/beds/20200705_gridmap_peakwidthnorm_logplusznorm_4way_ordered_n40//idx6.bed'</li><li>'../../analysis/20200307_fine_clustering/beds/20200705_gridmap_peakwidthnorm_logplusznorm_4way_ordered_n40//idx7.bed'</li><li>'../../analysis/20200307_fine_clustering/beds/20200705_gridmap_peakwidthnorm_logplusznorm_4way_ordered_n40//idx8.bed'</li><li>'../../analysis/20200307_fine_clustering/beds/20200705_gridmap_peakwidthnorm_logplusznorm_4way_ordered_n40//idx9.bed'</li><li>'../../analysis/20200307_fine_clustering/beds/20200705_gridmap_peakwidthnorm_logplusznorm_4way_ordered_n40//idx10.bed'</li><li>'../../analysis/20200307_fine_clustering/beds/20200705_gridmap_peakwidthnorm_logplusznorm_4way_ordered_n40//idx11.bed'</li><li>'../../analysis/20200307_fine_clustering/beds/20200705_gridmap_peakwidthnorm_logplusznorm_4way_ordered_n40//idx12.bed'</li><li>'../../analysis/20200307_fine_clustering/beds/20200705_gridmap_peakwidthnorm_logplusznorm_4way_ordered_n40//idx13.bed'</li><li>'../../analysis/20200307_fine_clustering/beds/20200705_gridmap_peakwidthnorm_logplusznorm_4way_ordered_n40//idx14.bed'</li><li>'../../analysis/20200307_fine_clustering/beds/20200705_gridmap_peakwidthnorm_logplusznorm_4way_ordered_n40//idx15.bed'</li><li>'../../analysis/20200307_fine_clustering/beds/20200705_gridmap_peakwidthnorm_logplusznorm_4way_ordered_n40//idx16.bed'</li><li>'../../analysis/20200307_fine_clustering/beds/20200705_gridmap_peakwidthnorm_logplusznorm_4way_ordered_n40//idx17.bed'</li><li>'../../analysis/20200307_fine_clustering/beds/20200705_gridmap_peakwidthnorm_logplusznorm_4way_ordered_n40//idx18.bed'</li><li>'../../analysis/20200307_fine_clustering/beds/20200705_gridmap_peakwidthnorm_logplusznorm_4way_ordered_n40//idx19.bed'</li><li>'../../analysis/20200307_fine_clustering/beds/20200705_gridmap_peakwidthnorm_logplusznorm_4way_ordered_n40//idx20.bed'</li><li>'../../analysis/20200307_fine_clustering/beds/20200705_gridmap_peakwidthnorm_logplusznorm_4way_ordered_n40//idx21.bed'</li><li>'../../analysis/20200307_fine_clustering/beds/20200705_gridmap_peakwidthnorm_logplusznorm_4way_ordered_n40//idx22.bed'</li><li>'../../analysis/20200307_fine_clustering/beds/20200705_gridmap_peakwidthnorm_logplusznorm_4way_ordered_n40//idx23.bed'</li><li>'../../analysis/20200307_fine_clustering/beds/20200705_gridmap_peakwidthnorm_logplusznorm_4way_ordered_n40//idx24.bed'</li><li>'../../analysis/20200307_fine_clustering/beds/20200705_gridmap_peakwidthnorm_logplusznorm_4way_ordered_n40//idx25.bed'</li><li>'../../analysis/20200307_fine_clustering/beds/20200705_gridmap_peakwidthnorm_logplusznorm_4way_ordered_n40//idx26.bed'</li><li>'../../analysis/20200307_fine_clustering/beds/20200705_gridmap_peakwidthnorm_logplusznorm_4way_ordered_n40//idx27.bed'</li><li>'../../analysis/20200307_fine_clustering/beds/20200705_gridmap_peakwidthnorm_logplusznorm_4way_ordered_n40//idx28.bed'</li><li>'../../analysis/20200307_fine_clustering/beds/20200705_gridmap_peakwidthnorm_logplusznorm_4way_ordered_n40//idx29.bed'</li><li>'../../analysis/20200307_fine_clustering/beds/20200705_gridmap_peakwidthnorm_logplusznorm_4way_ordered_n40//idx30.bed'</li><li>'../../analysis/20200307_fine_clustering/beds/20200705_gridmap_peakwidthnorm_logplusznorm_4way_ordered_n40//idx31.bed'</li><li>'../../analysis/20200307_fine_clustering/beds/20200705_gridmap_peakwidthnorm_logplusznorm_4way_ordered_n40//idx32.bed'</li><li>'../../analysis/20200307_fine_clustering/beds/20200705_gridmap_peakwidthnorm_logplusznorm_4way_ordered_n40//idx33.bed'</li><li>'../../analysis/20200307_fine_clustering/beds/20200705_gridmap_peakwidthnorm_logplusznorm_4way_ordered_n40//idx34.bed'</li><li>'../../analysis/20200307_fine_clustering/beds/20200705_gridmap_peakwidthnorm_logplusznorm_4way_ordered_n40//idx35.bed'</li><li>'../../analysis/20200307_fine_clustering/beds/20200705_gridmap_peakwidthnorm_logplusznorm_4way_ordered_n40//idx36.bed'</li><li>'../../analysis/20200307_fine_clustering/beds/20200705_gridmap_peakwidthnorm_logplusznorm_4way_ordered_n40//idx37.bed'</li><li>'../../analysis/20200307_fine_clustering/beds/20200705_gridmap_peakwidthnorm_logplusznorm_4way_ordered_n40//idx38.bed'</li><li>'../../analysis/20200307_fine_clustering/beds/20200705_gridmap_peakwidthnorm_logplusznorm_4way_ordered_n40//idx39.bed'</li><li>'../../analysis/20200307_fine_clustering/beds/20200705_gridmap_peakwidthnorm_logplusznorm_4way_ordered_n40//idx40.bed'</li></ol>\n"
      ],
      "text/latex": [
       "\\begin{enumerate*}\n",
       "\\item '../../analysis/20200307\\_fine\\_clustering/beds/20200705\\_gridmap\\_peakwidthnorm\\_logplusznorm\\_4way\\_ordered\\_n40//idx1.bed'\n",
       "\\item '../../analysis/20200307\\_fine\\_clustering/beds/20200705\\_gridmap\\_peakwidthnorm\\_logplusznorm\\_4way\\_ordered\\_n40//idx2.bed'\n",
       "\\item '../../analysis/20200307\\_fine\\_clustering/beds/20200705\\_gridmap\\_peakwidthnorm\\_logplusznorm\\_4way\\_ordered\\_n40//idx3.bed'\n",
       "\\item '../../analysis/20200307\\_fine\\_clustering/beds/20200705\\_gridmap\\_peakwidthnorm\\_logplusznorm\\_4way\\_ordered\\_n40//idx4.bed'\n",
       "\\item '../../analysis/20200307\\_fine\\_clustering/beds/20200705\\_gridmap\\_peakwidthnorm\\_logplusznorm\\_4way\\_ordered\\_n40//idx5.bed'\n",
       "\\item '../../analysis/20200307\\_fine\\_clustering/beds/20200705\\_gridmap\\_peakwidthnorm\\_logplusznorm\\_4way\\_ordered\\_n40//idx6.bed'\n",
       "\\item '../../analysis/20200307\\_fine\\_clustering/beds/20200705\\_gridmap\\_peakwidthnorm\\_logplusznorm\\_4way\\_ordered\\_n40//idx7.bed'\n",
       "\\item '../../analysis/20200307\\_fine\\_clustering/beds/20200705\\_gridmap\\_peakwidthnorm\\_logplusznorm\\_4way\\_ordered\\_n40//idx8.bed'\n",
       "\\item '../../analysis/20200307\\_fine\\_clustering/beds/20200705\\_gridmap\\_peakwidthnorm\\_logplusznorm\\_4way\\_ordered\\_n40//idx9.bed'\n",
       "\\item '../../analysis/20200307\\_fine\\_clustering/beds/20200705\\_gridmap\\_peakwidthnorm\\_logplusznorm\\_4way\\_ordered\\_n40//idx10.bed'\n",
       "\\item '../../analysis/20200307\\_fine\\_clustering/beds/20200705\\_gridmap\\_peakwidthnorm\\_logplusznorm\\_4way\\_ordered\\_n40//idx11.bed'\n",
       "\\item '../../analysis/20200307\\_fine\\_clustering/beds/20200705\\_gridmap\\_peakwidthnorm\\_logplusznorm\\_4way\\_ordered\\_n40//idx12.bed'\n",
       "\\item '../../analysis/20200307\\_fine\\_clustering/beds/20200705\\_gridmap\\_peakwidthnorm\\_logplusznorm\\_4way\\_ordered\\_n40//idx13.bed'\n",
       "\\item '../../analysis/20200307\\_fine\\_clustering/beds/20200705\\_gridmap\\_peakwidthnorm\\_logplusznorm\\_4way\\_ordered\\_n40//idx14.bed'\n",
       "\\item '../../analysis/20200307\\_fine\\_clustering/beds/20200705\\_gridmap\\_peakwidthnorm\\_logplusznorm\\_4way\\_ordered\\_n40//idx15.bed'\n",
       "\\item '../../analysis/20200307\\_fine\\_clustering/beds/20200705\\_gridmap\\_peakwidthnorm\\_logplusznorm\\_4way\\_ordered\\_n40//idx16.bed'\n",
       "\\item '../../analysis/20200307\\_fine\\_clustering/beds/20200705\\_gridmap\\_peakwidthnorm\\_logplusznorm\\_4way\\_ordered\\_n40//idx17.bed'\n",
       "\\item '../../analysis/20200307\\_fine\\_clustering/beds/20200705\\_gridmap\\_peakwidthnorm\\_logplusznorm\\_4way\\_ordered\\_n40//idx18.bed'\n",
       "\\item '../../analysis/20200307\\_fine\\_clustering/beds/20200705\\_gridmap\\_peakwidthnorm\\_logplusznorm\\_4way\\_ordered\\_n40//idx19.bed'\n",
       "\\item '../../analysis/20200307\\_fine\\_clustering/beds/20200705\\_gridmap\\_peakwidthnorm\\_logplusznorm\\_4way\\_ordered\\_n40//idx20.bed'\n",
       "\\item '../../analysis/20200307\\_fine\\_clustering/beds/20200705\\_gridmap\\_peakwidthnorm\\_logplusznorm\\_4way\\_ordered\\_n40//idx21.bed'\n",
       "\\item '../../analysis/20200307\\_fine\\_clustering/beds/20200705\\_gridmap\\_peakwidthnorm\\_logplusznorm\\_4way\\_ordered\\_n40//idx22.bed'\n",
       "\\item '../../analysis/20200307\\_fine\\_clustering/beds/20200705\\_gridmap\\_peakwidthnorm\\_logplusznorm\\_4way\\_ordered\\_n40//idx23.bed'\n",
       "\\item '../../analysis/20200307\\_fine\\_clustering/beds/20200705\\_gridmap\\_peakwidthnorm\\_logplusznorm\\_4way\\_ordered\\_n40//idx24.bed'\n",
       "\\item '../../analysis/20200307\\_fine\\_clustering/beds/20200705\\_gridmap\\_peakwidthnorm\\_logplusznorm\\_4way\\_ordered\\_n40//idx25.bed'\n",
       "\\item '../../analysis/20200307\\_fine\\_clustering/beds/20200705\\_gridmap\\_peakwidthnorm\\_logplusznorm\\_4way\\_ordered\\_n40//idx26.bed'\n",
       "\\item '../../analysis/20200307\\_fine\\_clustering/beds/20200705\\_gridmap\\_peakwidthnorm\\_logplusznorm\\_4way\\_ordered\\_n40//idx27.bed'\n",
       "\\item '../../analysis/20200307\\_fine\\_clustering/beds/20200705\\_gridmap\\_peakwidthnorm\\_logplusznorm\\_4way\\_ordered\\_n40//idx28.bed'\n",
       "\\item '../../analysis/20200307\\_fine\\_clustering/beds/20200705\\_gridmap\\_peakwidthnorm\\_logplusznorm\\_4way\\_ordered\\_n40//idx29.bed'\n",
       "\\item '../../analysis/20200307\\_fine\\_clustering/beds/20200705\\_gridmap\\_peakwidthnorm\\_logplusznorm\\_4way\\_ordered\\_n40//idx30.bed'\n",
       "\\item '../../analysis/20200307\\_fine\\_clustering/beds/20200705\\_gridmap\\_peakwidthnorm\\_logplusznorm\\_4way\\_ordered\\_n40//idx31.bed'\n",
       "\\item '../../analysis/20200307\\_fine\\_clustering/beds/20200705\\_gridmap\\_peakwidthnorm\\_logplusznorm\\_4way\\_ordered\\_n40//idx32.bed'\n",
       "\\item '../../analysis/20200307\\_fine\\_clustering/beds/20200705\\_gridmap\\_peakwidthnorm\\_logplusznorm\\_4way\\_ordered\\_n40//idx33.bed'\n",
       "\\item '../../analysis/20200307\\_fine\\_clustering/beds/20200705\\_gridmap\\_peakwidthnorm\\_logplusznorm\\_4way\\_ordered\\_n40//idx34.bed'\n",
       "\\item '../../analysis/20200307\\_fine\\_clustering/beds/20200705\\_gridmap\\_peakwidthnorm\\_logplusznorm\\_4way\\_ordered\\_n40//idx35.bed'\n",
       "\\item '../../analysis/20200307\\_fine\\_clustering/beds/20200705\\_gridmap\\_peakwidthnorm\\_logplusznorm\\_4way\\_ordered\\_n40//idx36.bed'\n",
       "\\item '../../analysis/20200307\\_fine\\_clustering/beds/20200705\\_gridmap\\_peakwidthnorm\\_logplusznorm\\_4way\\_ordered\\_n40//idx37.bed'\n",
       "\\item '../../analysis/20200307\\_fine\\_clustering/beds/20200705\\_gridmap\\_peakwidthnorm\\_logplusznorm\\_4way\\_ordered\\_n40//idx38.bed'\n",
       "\\item '../../analysis/20200307\\_fine\\_clustering/beds/20200705\\_gridmap\\_peakwidthnorm\\_logplusznorm\\_4way\\_ordered\\_n40//idx39.bed'\n",
       "\\item '../../analysis/20200307\\_fine\\_clustering/beds/20200705\\_gridmap\\_peakwidthnorm\\_logplusznorm\\_4way\\_ordered\\_n40//idx40.bed'\n",
       "\\end{enumerate*}\n"
      ],
      "text/markdown": [
       "1. '../../analysis/20200307_fine_clustering/beds/20200705_gridmap_peakwidthnorm_logplusznorm_4way_ordered_n40//idx1.bed'\n",
       "2. '../../analysis/20200307_fine_clustering/beds/20200705_gridmap_peakwidthnorm_logplusznorm_4way_ordered_n40//idx2.bed'\n",
       "3. '../../analysis/20200307_fine_clustering/beds/20200705_gridmap_peakwidthnorm_logplusznorm_4way_ordered_n40//idx3.bed'\n",
       "4. '../../analysis/20200307_fine_clustering/beds/20200705_gridmap_peakwidthnorm_logplusznorm_4way_ordered_n40//idx4.bed'\n",
       "5. '../../analysis/20200307_fine_clustering/beds/20200705_gridmap_peakwidthnorm_logplusznorm_4way_ordered_n40//idx5.bed'\n",
       "6. '../../analysis/20200307_fine_clustering/beds/20200705_gridmap_peakwidthnorm_logplusznorm_4way_ordered_n40//idx6.bed'\n",
       "7. '../../analysis/20200307_fine_clustering/beds/20200705_gridmap_peakwidthnorm_logplusznorm_4way_ordered_n40//idx7.bed'\n",
       "8. '../../analysis/20200307_fine_clustering/beds/20200705_gridmap_peakwidthnorm_logplusznorm_4way_ordered_n40//idx8.bed'\n",
       "9. '../../analysis/20200307_fine_clustering/beds/20200705_gridmap_peakwidthnorm_logplusznorm_4way_ordered_n40//idx9.bed'\n",
       "10. '../../analysis/20200307_fine_clustering/beds/20200705_gridmap_peakwidthnorm_logplusznorm_4way_ordered_n40//idx10.bed'\n",
       "11. '../../analysis/20200307_fine_clustering/beds/20200705_gridmap_peakwidthnorm_logplusznorm_4way_ordered_n40//idx11.bed'\n",
       "12. '../../analysis/20200307_fine_clustering/beds/20200705_gridmap_peakwidthnorm_logplusznorm_4way_ordered_n40//idx12.bed'\n",
       "13. '../../analysis/20200307_fine_clustering/beds/20200705_gridmap_peakwidthnorm_logplusznorm_4way_ordered_n40//idx13.bed'\n",
       "14. '../../analysis/20200307_fine_clustering/beds/20200705_gridmap_peakwidthnorm_logplusznorm_4way_ordered_n40//idx14.bed'\n",
       "15. '../../analysis/20200307_fine_clustering/beds/20200705_gridmap_peakwidthnorm_logplusznorm_4way_ordered_n40//idx15.bed'\n",
       "16. '../../analysis/20200307_fine_clustering/beds/20200705_gridmap_peakwidthnorm_logplusznorm_4way_ordered_n40//idx16.bed'\n",
       "17. '../../analysis/20200307_fine_clustering/beds/20200705_gridmap_peakwidthnorm_logplusznorm_4way_ordered_n40//idx17.bed'\n",
       "18. '../../analysis/20200307_fine_clustering/beds/20200705_gridmap_peakwidthnorm_logplusznorm_4way_ordered_n40//idx18.bed'\n",
       "19. '../../analysis/20200307_fine_clustering/beds/20200705_gridmap_peakwidthnorm_logplusznorm_4way_ordered_n40//idx19.bed'\n",
       "20. '../../analysis/20200307_fine_clustering/beds/20200705_gridmap_peakwidthnorm_logplusznorm_4way_ordered_n40//idx20.bed'\n",
       "21. '../../analysis/20200307_fine_clustering/beds/20200705_gridmap_peakwidthnorm_logplusznorm_4way_ordered_n40//idx21.bed'\n",
       "22. '../../analysis/20200307_fine_clustering/beds/20200705_gridmap_peakwidthnorm_logplusznorm_4way_ordered_n40//idx22.bed'\n",
       "23. '../../analysis/20200307_fine_clustering/beds/20200705_gridmap_peakwidthnorm_logplusznorm_4way_ordered_n40//idx23.bed'\n",
       "24. '../../analysis/20200307_fine_clustering/beds/20200705_gridmap_peakwidthnorm_logplusznorm_4way_ordered_n40//idx24.bed'\n",
       "25. '../../analysis/20200307_fine_clustering/beds/20200705_gridmap_peakwidthnorm_logplusznorm_4way_ordered_n40//idx25.bed'\n",
       "26. '../../analysis/20200307_fine_clustering/beds/20200705_gridmap_peakwidthnorm_logplusznorm_4way_ordered_n40//idx26.bed'\n",
       "27. '../../analysis/20200307_fine_clustering/beds/20200705_gridmap_peakwidthnorm_logplusznorm_4way_ordered_n40//idx27.bed'\n",
       "28. '../../analysis/20200307_fine_clustering/beds/20200705_gridmap_peakwidthnorm_logplusznorm_4way_ordered_n40//idx28.bed'\n",
       "29. '../../analysis/20200307_fine_clustering/beds/20200705_gridmap_peakwidthnorm_logplusznorm_4way_ordered_n40//idx29.bed'\n",
       "30. '../../analysis/20200307_fine_clustering/beds/20200705_gridmap_peakwidthnorm_logplusznorm_4way_ordered_n40//idx30.bed'\n",
       "31. '../../analysis/20200307_fine_clustering/beds/20200705_gridmap_peakwidthnorm_logplusznorm_4way_ordered_n40//idx31.bed'\n",
       "32. '../../analysis/20200307_fine_clustering/beds/20200705_gridmap_peakwidthnorm_logplusznorm_4way_ordered_n40//idx32.bed'\n",
       "33. '../../analysis/20200307_fine_clustering/beds/20200705_gridmap_peakwidthnorm_logplusznorm_4way_ordered_n40//idx33.bed'\n",
       "34. '../../analysis/20200307_fine_clustering/beds/20200705_gridmap_peakwidthnorm_logplusznorm_4way_ordered_n40//idx34.bed'\n",
       "35. '../../analysis/20200307_fine_clustering/beds/20200705_gridmap_peakwidthnorm_logplusznorm_4way_ordered_n40//idx35.bed'\n",
       "36. '../../analysis/20200307_fine_clustering/beds/20200705_gridmap_peakwidthnorm_logplusznorm_4way_ordered_n40//idx36.bed'\n",
       "37. '../../analysis/20200307_fine_clustering/beds/20200705_gridmap_peakwidthnorm_logplusznorm_4way_ordered_n40//idx37.bed'\n",
       "38. '../../analysis/20200307_fine_clustering/beds/20200705_gridmap_peakwidthnorm_logplusznorm_4way_ordered_n40//idx38.bed'\n",
       "39. '../../analysis/20200307_fine_clustering/beds/20200705_gridmap_peakwidthnorm_logplusznorm_4way_ordered_n40//idx39.bed'\n",
       "40. '../../analysis/20200307_fine_clustering/beds/20200705_gridmap_peakwidthnorm_logplusznorm_4way_ordered_n40//idx40.bed'\n",
       "\n",
       "\n"
      ],
      "text/plain": [
       " [1] \"../../analysis/20200307_fine_clustering/beds/20200705_gridmap_peakwidthnorm_logplusznorm_4way_ordered_n40//idx1.bed\" \n",
       " [2] \"../../analysis/20200307_fine_clustering/beds/20200705_gridmap_peakwidthnorm_logplusznorm_4way_ordered_n40//idx2.bed\" \n",
       " [3] \"../../analysis/20200307_fine_clustering/beds/20200705_gridmap_peakwidthnorm_logplusznorm_4way_ordered_n40//idx3.bed\" \n",
       " [4] \"../../analysis/20200307_fine_clustering/beds/20200705_gridmap_peakwidthnorm_logplusznorm_4way_ordered_n40//idx4.bed\" \n",
       " [5] \"../../analysis/20200307_fine_clustering/beds/20200705_gridmap_peakwidthnorm_logplusznorm_4way_ordered_n40//idx5.bed\" \n",
       " [6] \"../../analysis/20200307_fine_clustering/beds/20200705_gridmap_peakwidthnorm_logplusznorm_4way_ordered_n40//idx6.bed\" \n",
       " [7] \"../../analysis/20200307_fine_clustering/beds/20200705_gridmap_peakwidthnorm_logplusznorm_4way_ordered_n40//idx7.bed\" \n",
       " [8] \"../../analysis/20200307_fine_clustering/beds/20200705_gridmap_peakwidthnorm_logplusznorm_4way_ordered_n40//idx8.bed\" \n",
       " [9] \"../../analysis/20200307_fine_clustering/beds/20200705_gridmap_peakwidthnorm_logplusznorm_4way_ordered_n40//idx9.bed\" \n",
       "[10] \"../../analysis/20200307_fine_clustering/beds/20200705_gridmap_peakwidthnorm_logplusznorm_4way_ordered_n40//idx10.bed\"\n",
       "[11] \"../../analysis/20200307_fine_clustering/beds/20200705_gridmap_peakwidthnorm_logplusznorm_4way_ordered_n40//idx11.bed\"\n",
       "[12] \"../../analysis/20200307_fine_clustering/beds/20200705_gridmap_peakwidthnorm_logplusznorm_4way_ordered_n40//idx12.bed\"\n",
       "[13] \"../../analysis/20200307_fine_clustering/beds/20200705_gridmap_peakwidthnorm_logplusznorm_4way_ordered_n40//idx13.bed\"\n",
       "[14] \"../../analysis/20200307_fine_clustering/beds/20200705_gridmap_peakwidthnorm_logplusznorm_4way_ordered_n40//idx14.bed\"\n",
       "[15] \"../../analysis/20200307_fine_clustering/beds/20200705_gridmap_peakwidthnorm_logplusznorm_4way_ordered_n40//idx15.bed\"\n",
       "[16] \"../../analysis/20200307_fine_clustering/beds/20200705_gridmap_peakwidthnorm_logplusznorm_4way_ordered_n40//idx16.bed\"\n",
       "[17] \"../../analysis/20200307_fine_clustering/beds/20200705_gridmap_peakwidthnorm_logplusznorm_4way_ordered_n40//idx17.bed\"\n",
       "[18] \"../../analysis/20200307_fine_clustering/beds/20200705_gridmap_peakwidthnorm_logplusznorm_4way_ordered_n40//idx18.bed\"\n",
       "[19] \"../../analysis/20200307_fine_clustering/beds/20200705_gridmap_peakwidthnorm_logplusznorm_4way_ordered_n40//idx19.bed\"\n",
       "[20] \"../../analysis/20200307_fine_clustering/beds/20200705_gridmap_peakwidthnorm_logplusznorm_4way_ordered_n40//idx20.bed\"\n",
       "[21] \"../../analysis/20200307_fine_clustering/beds/20200705_gridmap_peakwidthnorm_logplusznorm_4way_ordered_n40//idx21.bed\"\n",
       "[22] \"../../analysis/20200307_fine_clustering/beds/20200705_gridmap_peakwidthnorm_logplusznorm_4way_ordered_n40//idx22.bed\"\n",
       "[23] \"../../analysis/20200307_fine_clustering/beds/20200705_gridmap_peakwidthnorm_logplusznorm_4way_ordered_n40//idx23.bed\"\n",
       "[24] \"../../analysis/20200307_fine_clustering/beds/20200705_gridmap_peakwidthnorm_logplusznorm_4way_ordered_n40//idx24.bed\"\n",
       "[25] \"../../analysis/20200307_fine_clustering/beds/20200705_gridmap_peakwidthnorm_logplusznorm_4way_ordered_n40//idx25.bed\"\n",
       "[26] \"../../analysis/20200307_fine_clustering/beds/20200705_gridmap_peakwidthnorm_logplusznorm_4way_ordered_n40//idx26.bed\"\n",
       "[27] \"../../analysis/20200307_fine_clustering/beds/20200705_gridmap_peakwidthnorm_logplusznorm_4way_ordered_n40//idx27.bed\"\n",
       "[28] \"../../analysis/20200307_fine_clustering/beds/20200705_gridmap_peakwidthnorm_logplusznorm_4way_ordered_n40//idx28.bed\"\n",
       "[29] \"../../analysis/20200307_fine_clustering/beds/20200705_gridmap_peakwidthnorm_logplusznorm_4way_ordered_n40//idx29.bed\"\n",
       "[30] \"../../analysis/20200307_fine_clustering/beds/20200705_gridmap_peakwidthnorm_logplusznorm_4way_ordered_n40//idx30.bed\"\n",
       "[31] \"../../analysis/20200307_fine_clustering/beds/20200705_gridmap_peakwidthnorm_logplusznorm_4way_ordered_n40//idx31.bed\"\n",
       "[32] \"../../analysis/20200307_fine_clustering/beds/20200705_gridmap_peakwidthnorm_logplusznorm_4way_ordered_n40//idx32.bed\"\n",
       "[33] \"../../analysis/20200307_fine_clustering/beds/20200705_gridmap_peakwidthnorm_logplusznorm_4way_ordered_n40//idx33.bed\"\n",
       "[34] \"../../analysis/20200307_fine_clustering/beds/20200705_gridmap_peakwidthnorm_logplusznorm_4way_ordered_n40//idx34.bed\"\n",
       "[35] \"../../analysis/20200307_fine_clustering/beds/20200705_gridmap_peakwidthnorm_logplusznorm_4way_ordered_n40//idx35.bed\"\n",
       "[36] \"../../analysis/20200307_fine_clustering/beds/20200705_gridmap_peakwidthnorm_logplusznorm_4way_ordered_n40//idx36.bed\"\n",
       "[37] \"../../analysis/20200307_fine_clustering/beds/20200705_gridmap_peakwidthnorm_logplusznorm_4way_ordered_n40//idx37.bed\"\n",
       "[38] \"../../analysis/20200307_fine_clustering/beds/20200705_gridmap_peakwidthnorm_logplusznorm_4way_ordered_n40//idx38.bed\"\n",
       "[39] \"../../analysis/20200307_fine_clustering/beds/20200705_gridmap_peakwidthnorm_logplusznorm_4way_ordered_n40//idx39.bed\"\n",
       "[40] \"../../analysis/20200307_fine_clustering/beds/20200705_gridmap_peakwidthnorm_logplusznorm_4way_ordered_n40//idx40.bed\""
      ]
     },
     "metadata": {},
     "output_type": "display_data"
    },
    {
     "data": {
      "text/html": [
       "<style>\n",
       ".list-inline {list-style: none; margin:0; padding: 0}\n",
       ".list-inline>li {display: inline-block}\n",
       ".list-inline>li:not(:last-child)::after {content: \"\\00b7\"; padding: 0 .5ex}\n",
       "</style>\n",
       "<ol class=list-inline><li>'idx1'</li><li>'idx2'</li><li>'idx3'</li><li>'idx4'</li><li>'idx5'</li><li>'idx6'</li><li>'idx7'</li><li>'idx8'</li><li>'idx9'</li><li>'idx10'</li><li>'idx11'</li><li>'idx12'</li><li>'idx13'</li><li>'idx14'</li><li>'idx15'</li><li>'idx16'</li><li>'idx17'</li><li>'idx18'</li><li>'idx19'</li><li>'idx20'</li><li>'idx21'</li><li>'idx22'</li><li>'idx23'</li><li>'idx24'</li><li>'idx25'</li><li>'idx26'</li><li>'idx27'</li><li>'idx28'</li><li>'idx29'</li><li>'idx30'</li><li>'idx31'</li><li>'idx32'</li><li>'idx33'</li><li>'idx34'</li><li>'idx35'</li><li>'idx36'</li><li>'idx37'</li><li>'idx38'</li><li>'idx39'</li><li>'idx40'</li></ol>\n"
      ],
      "text/latex": [
       "\\begin{enumerate*}\n",
       "\\item 'idx1'\n",
       "\\item 'idx2'\n",
       "\\item 'idx3'\n",
       "\\item 'idx4'\n",
       "\\item 'idx5'\n",
       "\\item 'idx6'\n",
       "\\item 'idx7'\n",
       "\\item 'idx8'\n",
       "\\item 'idx9'\n",
       "\\item 'idx10'\n",
       "\\item 'idx11'\n",
       "\\item 'idx12'\n",
       "\\item 'idx13'\n",
       "\\item 'idx14'\n",
       "\\item 'idx15'\n",
       "\\item 'idx16'\n",
       "\\item 'idx17'\n",
       "\\item 'idx18'\n",
       "\\item 'idx19'\n",
       "\\item 'idx20'\n",
       "\\item 'idx21'\n",
       "\\item 'idx22'\n",
       "\\item 'idx23'\n",
       "\\item 'idx24'\n",
       "\\item 'idx25'\n",
       "\\item 'idx26'\n",
       "\\item 'idx27'\n",
       "\\item 'idx28'\n",
       "\\item 'idx29'\n",
       "\\item 'idx30'\n",
       "\\item 'idx31'\n",
       "\\item 'idx32'\n",
       "\\item 'idx33'\n",
       "\\item 'idx34'\n",
       "\\item 'idx35'\n",
       "\\item 'idx36'\n",
       "\\item 'idx37'\n",
       "\\item 'idx38'\n",
       "\\item 'idx39'\n",
       "\\item 'idx40'\n",
       "\\end{enumerate*}\n"
      ],
      "text/markdown": [
       "1. 'idx1'\n",
       "2. 'idx2'\n",
       "3. 'idx3'\n",
       "4. 'idx4'\n",
       "5. 'idx5'\n",
       "6. 'idx6'\n",
       "7. 'idx7'\n",
       "8. 'idx8'\n",
       "9. 'idx9'\n",
       "10. 'idx10'\n",
       "11. 'idx11'\n",
       "12. 'idx12'\n",
       "13. 'idx13'\n",
       "14. 'idx14'\n",
       "15. 'idx15'\n",
       "16. 'idx16'\n",
       "17. 'idx17'\n",
       "18. 'idx18'\n",
       "19. 'idx19'\n",
       "20. 'idx20'\n",
       "21. 'idx21'\n",
       "22. 'idx22'\n",
       "23. 'idx23'\n",
       "24. 'idx24'\n",
       "25. 'idx25'\n",
       "26. 'idx26'\n",
       "27. 'idx27'\n",
       "28. 'idx28'\n",
       "29. 'idx29'\n",
       "30. 'idx30'\n",
       "31. 'idx31'\n",
       "32. 'idx32'\n",
       "33. 'idx33'\n",
       "34. 'idx34'\n",
       "35. 'idx35'\n",
       "36. 'idx36'\n",
       "37. 'idx37'\n",
       "38. 'idx38'\n",
       "39. 'idx39'\n",
       "40. 'idx40'\n",
       "\n",
       "\n"
      ],
      "text/plain": [
       " [1] \"idx1\"  \"idx2\"  \"idx3\"  \"idx4\"  \"idx5\"  \"idx6\"  \"idx7\"  \"idx8\"  \"idx9\" \n",
       "[10] \"idx10\" \"idx11\" \"idx12\" \"idx13\" \"idx14\" \"idx15\" \"idx16\" \"idx17\" \"idx18\"\n",
       "[19] \"idx19\" \"idx20\" \"idx21\" \"idx22\" \"idx23\" \"idx24\" \"idx25\" \"idx26\" \"idx27\"\n",
       "[28] \"idx28\" \"idx29\" \"idx30\" \"idx31\" \"idx32\" \"idx33\" \"idx34\" \"idx35\" \"idx36\"\n",
       "[37] \"idx37\" \"idx38\" \"idx39\" \"idx40\""
      ]
     },
     "metadata": {},
     "output_type": "display_data"
    }
   ],
   "source": [
    "PEAK_SET_BEDS\n",
    "PEAK_SET_NAMES"
   ]
  },
  {
   "cell_type": "code",
   "execution_count": 52,
   "metadata": {},
   "outputs": [],
   "source": [
    "peaks_with_names = NULL\n",
    "\n",
    "for (i in seq(length(PEAK_SET_BEDS))) {\n",
    "    cur_peaks_with_names = import(PEAK_SET_BEDS[[i]])\n",
    "    cur_peaks_with_names$name = PEAK_SET_NAMES[[i]]\n",
    "    peaks_with_names = c(cur_peaks_with_names, peaks_with_names) \n",
    "}"
   ]
  },
  {
   "cell_type": "code",
   "execution_count": 53,
   "metadata": {},
   "outputs": [
    {
     "data": {
      "text/plain": [
       "GRanges object with 763167 ranges and 1 metadata column:\n",
       "           seqnames              ranges strand |        name\n",
       "              <Rle>           <IRanges>  <Rle> | <character>\n",
       "       [1]     chr1   90834984-90835283      * |       idx40\n",
       "       [2]     chr1 178487074-178487282      * |       idx40\n",
       "       [3]     chr1 212629840-212630098      * |       idx40\n",
       "       [4]     chr1   58396125-58396324      * |       idx40\n",
       "       [5]     chr1 171645458-171645665      * |       idx40\n",
       "       ...      ...                 ...    ... .         ...\n",
       "  [763163]     chrY     7462466-7462701      * |        idx1\n",
       "  [763164]     chrY   12755729-12755928      * |        idx1\n",
       "  [763165]     chrY   15424227-15424445      * |        idx1\n",
       "  [763166]     chrY   13349557-13349756      * |        idx1\n",
       "  [763167]     chrY   13349357-13349556      * |        idx1\n",
       "  -------\n",
       "  seqinfo: 24 sequences from an unspecified genome; no seqlengths"
      ]
     },
     "metadata": {},
     "output_type": "display_data"
    }
   ],
   "source": [
    "peaks_with_names"
   ]
  },
  {
   "cell_type": "markdown",
   "metadata": {},
   "source": [
    "### Load Genes of Interest"
   ]
  },
  {
   "cell_type": "code",
   "execution_count": 118,
   "metadata": {},
   "outputs": [
    {
     "name": "stderr",
     "output_type": "stream",
     "text": [
      "Warning message in readGFF(filepath, version = version, filter = filter):\n",
      "“connection is not positioned at the start of the file, rewinding it”\n"
     ]
    },
    {
     "data": {
      "text/plain": [
       "GRanges object with 3 ranges and 21 metadata columns:\n",
       "      seqnames        ranges strand |   source       type     score     phase\n",
       "         <Rle>     <IRanges>  <Rle> | <factor>   <factor> <numeric> <integer>\n",
       "  [1]     chr1   65419-71585      + |   HAVANA transcript      <NA>      <NA>\n",
       "  [2]     chr1   69055-70108      + |  ENSEMBL transcript      <NA>      <NA>\n",
       "  [3]     chr1 450703-451697      - |   HAVANA transcript      <NA>      <NA>\n",
       "                gene_id      gene_type   gene_name       level     hgnc_id\n",
       "            <character>    <character> <character> <character> <character>\n",
       "  [1] ENSG00000186092.6 protein_coding       OR4F5           2  HGNC:14825\n",
       "  [2] ENSG00000186092.6 protein_coding       OR4F5           3  HGNC:14825\n",
       "  [3] ENSG00000284733.1 protein_coding      OR4F29           2  HGNC:31275\n",
       "               havana_gene     transcript_id transcript_type transcript_name\n",
       "               <character>       <character>     <character>     <character>\n",
       "  [1] OTTHUMG00000001094.4 ENST00000641515.2  protein_coding       OR4F5-202\n",
       "  [2] OTTHUMG00000001094.4 ENST00000335137.4  protein_coding       OR4F5-201\n",
       "  [3] OTTHUMG00000002860.3 ENST00000426406.3  protein_coding      OR4F29-201\n",
       "      transcript_support_level         tag    havana_transcript exon_number\n",
       "                   <character> <character>          <character> <character>\n",
       "  [1]                     <NA>       basic OTTHUMT00000003223.4        <NA>\n",
       "  [2]                       NA        CCDS                 <NA>        <NA>\n",
       "  [3]                       NA        CCDS OTTHUMT00000007999.3        <NA>\n",
       "          exon_id         ont        protein_id      ccdsid\n",
       "      <character> <character>       <character> <character>\n",
       "  [1]        <NA>        <NA> ENSP00000493376.2        <NA>\n",
       "  [2]        <NA>        <NA> ENSP00000334393.3 CCDS30547.1\n",
       "  [3]        <NA>        <NA> ENSP00000409316.1 CCDS72675.1\n",
       "  -------\n",
       "  seqinfo: 25 sequences from an unspecified genome; no seqlengths"
      ]
     },
     "metadata": {},
     "output_type": "display_data"
    },
    {
     "data": {
      "text/html": [
       "58073"
      ],
      "text/latex": [
       "58073"
      ],
      "text/markdown": [
       "58073"
      ],
      "text/plain": [
       "[1] 58073"
      ]
     },
     "metadata": {},
     "output_type": "display_data"
    }
   ],
   "source": [
    "gencode.basic.hg38 = import.gff(gzfile(\"../../../resources/GENCODE/gencode.v33.chr_patch_hapl_scaff.basic.annotation.gtf.gz\"))\n",
    "gencode.basic.hg38 = keepStandardChromosomes(gencode.basic.hg38, pruning.mode = \"coarse\")\n",
    "gencode.basic.tx.hg38 = subset(subset(gencode.basic.hg38, gene_type==\"protein_coding\"), type==\"transcript\")\n",
    "head(gencode.basic.tx.hg38, 3)\n",
    "length(gencode.basic.tx.hg38)"
   ]
  },
  {
   "cell_type": "code",
   "execution_count": 142,
   "metadata": {},
   "outputs": [],
   "source": [
    "GENES_OF_INTEREST = c(\"POU5F1\", \"NANOG\", \"SOX2\", \"ESRRB\",  \"LIN28A\", \"ZFP42\", \"TERT\", \"SALL4\", \"UTF1\", # pluripotency\n",
    "                       \"DPPA4\", \"TFAP2C\", \"DPPA5\") "
   ]
  },
  {
   "cell_type": "code",
   "execution_count": 143,
   "metadata": {},
   "outputs": [
    {
     "data": {
      "text/html": [
       "461"
      ],
      "text/latex": [
       "461"
      ],
      "text/markdown": [
       "461"
      ],
      "text/plain": [
       "[1] 461"
      ]
     },
     "metadata": {},
     "output_type": "display_data"
    }
   ],
   "source": [
    "genes_of_interest_gr = gencode.basic.hg38[gencode.basic.hg38$gene_name %in% GENES_OF_INTEREST]\n",
    "length(genes_of_interest_gr)"
   ]
  },
  {
   "cell_type": "markdown",
   "metadata": {},
   "source": [
    "### Load Genome and Chunk"
   ]
  },
  {
   "cell_type": "code",
   "execution_count": 144,
   "metadata": {},
   "outputs": [
    {
     "data": {
      "text/html": [
       "<table>\n",
       "<caption>A data.frame: 24 × 2</caption>\n",
       "<thead>\n",
       "\t<tr><th></th><th scope=col>chr</th><th scope=col>length</th></tr>\n",
       "\t<tr><th></th><th scope=col>&lt;fct&gt;</th><th scope=col>&lt;int&gt;</th></tr>\n",
       "</thead>\n",
       "<tbody>\n",
       "\t<tr><th scope=row>chr1</th><td>chr1 </td><td>248956422</td></tr>\n",
       "\t<tr><th scope=row>chr2</th><td>chr2 </td><td>242193529</td></tr>\n",
       "\t<tr><th scope=row>chr3</th><td>chr3 </td><td>198295559</td></tr>\n",
       "\t<tr><th scope=row>chr4</th><td>chr4 </td><td>190214555</td></tr>\n",
       "\t<tr><th scope=row>chr5</th><td>chr5 </td><td>181538259</td></tr>\n",
       "\t<tr><th scope=row>chr6</th><td>chr6 </td><td>170805979</td></tr>\n",
       "\t<tr><th scope=row>chr7</th><td>chr7 </td><td>159345973</td></tr>\n",
       "\t<tr><th scope=row>chr8</th><td>chr8 </td><td>145138636</td></tr>\n",
       "\t<tr><th scope=row>chr9</th><td>chr9 </td><td>138394717</td></tr>\n",
       "\t<tr><th scope=row>chr10</th><td>chr10</td><td>133797422</td></tr>\n",
       "\t<tr><th scope=row>chr11</th><td>chr11</td><td>135086622</td></tr>\n",
       "\t<tr><th scope=row>chr12</th><td>chr12</td><td>133275309</td></tr>\n",
       "\t<tr><th scope=row>chr13</th><td>chr13</td><td>114364328</td></tr>\n",
       "\t<tr><th scope=row>chr14</th><td>chr14</td><td>107043718</td></tr>\n",
       "\t<tr><th scope=row>chr15</th><td>chr15</td><td>101991189</td></tr>\n",
       "\t<tr><th scope=row>chr16</th><td>chr16</td><td> 90338345</td></tr>\n",
       "\t<tr><th scope=row>chr17</th><td>chr17</td><td> 83257441</td></tr>\n",
       "\t<tr><th scope=row>chr18</th><td>chr18</td><td> 80373285</td></tr>\n",
       "\t<tr><th scope=row>chr19</th><td>chr19</td><td> 58617616</td></tr>\n",
       "\t<tr><th scope=row>chr20</th><td>chr20</td><td> 64444167</td></tr>\n",
       "\t<tr><th scope=row>chr21</th><td>chr21</td><td> 46709983</td></tr>\n",
       "\t<tr><th scope=row>chr22</th><td>chr22</td><td> 50818468</td></tr>\n",
       "\t<tr><th scope=row>chrX</th><td>chrX </td><td>156040895</td></tr>\n",
       "\t<tr><th scope=row>chrY</th><td>chrY </td><td> 57227415</td></tr>\n",
       "</tbody>\n",
       "</table>\n"
      ],
      "text/latex": [
       "A data.frame: 24 × 2\n",
       "\\begin{tabular}{r|ll}\n",
       "  & chr & length\\\\\n",
       "  & <fct> & <int>\\\\\n",
       "\\hline\n",
       "\tchr1 & chr1  & 248956422\\\\\n",
       "\tchr2 & chr2  & 242193529\\\\\n",
       "\tchr3 & chr3  & 198295559\\\\\n",
       "\tchr4 & chr4  & 190214555\\\\\n",
       "\tchr5 & chr5  & 181538259\\\\\n",
       "\tchr6 & chr6  & 170805979\\\\\n",
       "\tchr7 & chr7  & 159345973\\\\\n",
       "\tchr8 & chr8  & 145138636\\\\\n",
       "\tchr9 & chr9  & 138394717\\\\\n",
       "\tchr10 & chr10 & 133797422\\\\\n",
       "\tchr11 & chr11 & 135086622\\\\\n",
       "\tchr12 & chr12 & 133275309\\\\\n",
       "\tchr13 & chr13 & 114364328\\\\\n",
       "\tchr14 & chr14 & 107043718\\\\\n",
       "\tchr15 & chr15 & 101991189\\\\\n",
       "\tchr16 & chr16 &  90338345\\\\\n",
       "\tchr17 & chr17 &  83257441\\\\\n",
       "\tchr18 & chr18 &  80373285\\\\\n",
       "\tchr19 & chr19 &  58617616\\\\\n",
       "\tchr20 & chr20 &  64444167\\\\\n",
       "\tchr21 & chr21 &  46709983\\\\\n",
       "\tchr22 & chr22 &  50818468\\\\\n",
       "\tchrX & chrX  & 156040895\\\\\n",
       "\tchrY & chrY  &  57227415\\\\\n",
       "\\end{tabular}\n"
      ],
      "text/markdown": [
       "\n",
       "A data.frame: 24 × 2\n",
       "\n",
       "| <!--/--> | chr &lt;fct&gt; | length &lt;int&gt; |\n",
       "|---|---|---|\n",
       "| chr1 | chr1  | 248956422 |\n",
       "| chr2 | chr2  | 242193529 |\n",
       "| chr3 | chr3  | 198295559 |\n",
       "| chr4 | chr4  | 190214555 |\n",
       "| chr5 | chr5  | 181538259 |\n",
       "| chr6 | chr6  | 170805979 |\n",
       "| chr7 | chr7  | 159345973 |\n",
       "| chr8 | chr8  | 145138636 |\n",
       "| chr9 | chr9  | 138394717 |\n",
       "| chr10 | chr10 | 133797422 |\n",
       "| chr11 | chr11 | 135086622 |\n",
       "| chr12 | chr12 | 133275309 |\n",
       "| chr13 | chr13 | 114364328 |\n",
       "| chr14 | chr14 | 107043718 |\n",
       "| chr15 | chr15 | 101991189 |\n",
       "| chr16 | chr16 |  90338345 |\n",
       "| chr17 | chr17 |  83257441 |\n",
       "| chr18 | chr18 |  80373285 |\n",
       "| chr19 | chr19 |  58617616 |\n",
       "| chr20 | chr20 |  64444167 |\n",
       "| chr21 | chr21 |  46709983 |\n",
       "| chr22 | chr22 |  50818468 |\n",
       "| chrX | chrX  | 156040895 |\n",
       "| chrY | chrY  |  57227415 |\n",
       "\n"
      ],
      "text/plain": [
       "      chr   length   \n",
       "chr1  chr1  248956422\n",
       "chr2  chr2  242193529\n",
       "chr3  chr3  198295559\n",
       "chr4  chr4  190214555\n",
       "chr5  chr5  181538259\n",
       "chr6  chr6  170805979\n",
       "chr7  chr7  159345973\n",
       "chr8  chr8  145138636\n",
       "chr9  chr9  138394717\n",
       "chr10 chr10 133797422\n",
       "chr11 chr11 135086622\n",
       "chr12 chr12 133275309\n",
       "chr13 chr13 114364328\n",
       "chr14 chr14 107043718\n",
       "chr15 chr15 101991189\n",
       "chr16 chr16  90338345\n",
       "chr17 chr17  83257441\n",
       "chr18 chr18  80373285\n",
       "chr19 chr19  58617616\n",
       "chr20 chr20  64444167\n",
       "chr21 chr21  46709983\n",
       "chr22 chr22  50818468\n",
       "chrX  chrX  156040895\n",
       "chrY  chrY   57227415"
      ]
     },
     "metadata": {},
     "output_type": "display_data"
    }
   ],
   "source": [
    "chrom_sizes = read.table(\"~/genomes/hg38/hg38.chrom.sizes\")\n",
    "colnames(chrom_sizes) = c(\"chr\", \"length\")\n",
    "rownames(chrom_sizes) = chrom_sizes$chr\n",
    "chrom_sizes = chrom_sizes[rownames(chrom_sizes) %in% seqlevels(peaks_with_names), ]\n",
    "chrom_sizes"
   ]
  },
  {
   "cell_type": "code",
   "execution_count": 145,
   "metadata": {},
   "outputs": [],
   "source": [
    "CHUNK_SIZE = 50000"
   ]
  },
  {
   "cell_type": "code",
   "execution_count": 146,
   "metadata": {},
   "outputs": [],
   "source": [
    "strided_intervals = list()\n",
    "\n",
    "for (i in seq(nrow(chrom_sizes))) {\n",
    "    cur_chr = chrom_sizes[i, \"chr\"]\n",
    "    \n",
    "    breaks = seq(1,chrom_sizes[i, \"length\"], CHUNK_SIZE)\n",
    "    interval_starts = breaks[1:length(breaks)-1]\n",
    "    interval_ends = breaks[2:length(breaks)]\n",
    "    cur_intervals = paste(cur_chr,\n",
    "                          paste(interval_starts, interval_ends, sep='-'),\n",
    "                          sep=':')\n",
    "    \n",
    "    strided_intervals = c(strided_intervals, cur_intervals)\n",
    "}"
   ]
  },
  {
   "cell_type": "code",
   "execution_count": 147,
   "metadata": {},
   "outputs": [
    {
     "data": {
      "text/html": [
       "<ol>\n",
       "\t<li>'chr13:63500001-63550001'</li>\n",
       "\t<li>'chr8:89350001-89400001'</li>\n",
       "\t<li>'chrX:54350001-54400001'</li>\n",
       "\t<li>'chr3:107200001-107250001'</li>\n",
       "\t<li>'chr19:33550001-33600001'</li>\n",
       "\t<li>'chr1:140150001-140200001'</li>\n",
       "</ol>\n"
      ],
      "text/latex": [
       "\\begin{enumerate}\n",
       "\\item 'chr13:63500001-63550001'\n",
       "\\item 'chr8:89350001-89400001'\n",
       "\\item 'chrX:54350001-54400001'\n",
       "\\item 'chr3:107200001-107250001'\n",
       "\\item 'chr19:33550001-33600001'\n",
       "\\item 'chr1:140150001-140200001'\n",
       "\\end{enumerate}\n"
      ],
      "text/markdown": [
       "1. 'chr13:63500001-63550001'\n",
       "2. 'chr8:89350001-89400001'\n",
       "3. 'chrX:54350001-54400001'\n",
       "4. 'chr3:107200001-107250001'\n",
       "5. 'chr19:33550001-33600001'\n",
       "6. 'chr1:140150001-140200001'\n",
       "\n",
       "\n"
      ],
      "text/plain": [
       "[[1]]\n",
       "[1] \"chr13:63500001-63550001\"\n",
       "\n",
       "[[2]]\n",
       "[1] \"chr8:89350001-89400001\"\n",
       "\n",
       "[[3]]\n",
       "[1] \"chrX:54350001-54400001\"\n",
       "\n",
       "[[4]]\n",
       "[1] \"chr3:107200001-107250001\"\n",
       "\n",
       "[[5]]\n",
       "[1] \"chr19:33550001-33600001\"\n",
       "\n",
       "[[6]]\n",
       "[1] \"chr1:140150001-140200001\"\n"
      ]
     },
     "metadata": {},
     "output_type": "display_data"
    }
   ],
   "source": [
    "head(sample(strided_intervals))"
   ]
  },
  {
   "cell_type": "code",
   "execution_count": 148,
   "metadata": {},
   "outputs": [
    {
     "data": {
      "text/plain": [
       "GRanges object with 61751 ranges and 0 metadata columns:\n",
       "          seqnames            ranges strand\n",
       "             <Rle>         <IRanges>  <Rle>\n",
       "      [1]     chr1           1-50001      *\n",
       "      [2]     chr1      50001-100001      *\n",
       "      [3]     chr1     100001-150001      *\n",
       "      [4]     chr1     150001-200001      *\n",
       "      [5]     chr1     200001-250001      *\n",
       "      ...      ...               ...    ...\n",
       "  [61747]     chrY 56950001-57000001      *\n",
       "  [61748]     chrY 57000001-57050001      *\n",
       "  [61749]     chrY 57050001-57100001      *\n",
       "  [61750]     chrY 57100001-57150001      *\n",
       "  [61751]     chrY 57150001-57200001      *\n",
       "  -------\n",
       "  seqinfo: 24 sequences from an unspecified genome; no seqlengths"
      ]
     },
     "metadata": {},
     "output_type": "display_data"
    }
   ],
   "source": [
    "strided_intervals_gr = GRanges(unlist(strided_intervals))\n",
    "strided_intervals_gr"
   ]
  },
  {
   "cell_type": "markdown",
   "metadata": {},
   "source": [
    "## Intersect!"
   ]
  },
  {
   "cell_type": "code",
   "execution_count": 149,
   "metadata": {},
   "outputs": [
    {
     "data": {
      "text/plain": [
       "Hits object with 489 hits and 0 metadata columns:\n",
       "        queryHits subjectHits\n",
       "        <integer>   <integer>\n",
       "    [1]       529           1\n",
       "    [2]       529          17\n",
       "    [3]       529           2\n",
       "    [4]       529           3\n",
       "    [5]       529          18\n",
       "    ...       ...         ...\n",
       "  [485]     55382         456\n",
       "  [486]     55382         457\n",
       "  [487]     55382         458\n",
       "  [488]     55382         461\n",
       "  [489]     55382         459\n",
       "  -------\n",
       "  queryLength: 61751 / subjectLength: 461"
      ]
     },
     "metadata": {},
     "output_type": "display_data"
    }
   ],
   "source": [
    "strided_intervals_goi = findOverlaps(strided_intervals_gr, genes_of_interest_gr)\n",
    "strided_intervals_goi"
   ]
  },
  {
   "cell_type": "code",
   "execution_count": 150,
   "metadata": {},
   "outputs": [
    {
     "data": {
      "text/plain": [
       "Hits object with 390 hits and 0 metadata columns:\n",
       "        queryHits subjectHits\n",
       "        <integer>   <integer>\n",
       "    [1]       529         977\n",
       "    [2]       529        1160\n",
       "    [3]       529        1298\n",
       "    [4]       529        1393\n",
       "    [5]       529        1732\n",
       "    ...       ...         ...\n",
       "  [386]     55382      316227\n",
       "  [387]     55382      316276\n",
       "  [388]     55382      316306\n",
       "  [389]     55382      335304\n",
       "  [390]     55382      335460\n",
       "  -------\n",
       "  queryLength: 61751 / subjectLength: 763167"
      ]
     },
     "metadata": {},
     "output_type": "display_data"
    }
   ],
   "source": [
    "overlaps = findOverlaps(strided_intervals_gr, peaks_with_names)\n",
    "overlaps = overlaps[queryHits(overlaps) %in% queryHits(strided_intervals_goi)]\n",
    "overlaps"
   ]
  },
  {
   "cell_type": "code",
   "execution_count": 151,
   "metadata": {},
   "outputs": [
    {
     "data": {
      "text/html": [
       "<style>\n",
       ".list-inline {list-style: none; margin:0; padding: 0}\n",
       ".list-inline>li {display: inline-block}\n",
       ".list-inline>li:not(:last-child)::after {content: \"\\00b7\"; padding: 0 .5ex}\n",
       "</style>\n",
       "<ol class=list-inline><li>390</li><li>3</li></ol>\n"
      ],
      "text/latex": [
       "\\begin{enumerate*}\n",
       "\\item 390\n",
       "\\item 3\n",
       "\\end{enumerate*}\n"
      ],
      "text/markdown": [
       "1. 390\n",
       "2. 3\n",
       "\n",
       "\n"
      ],
      "text/plain": [
       "[1] 390   3"
      ]
     },
     "metadata": {},
     "output_type": "display_data"
    },
    {
     "data": {
      "text/html": [
       "<table>\n",
       "<caption>A data.frame: 6 × 3</caption>\n",
       "<thead>\n",
       "\t<tr><th></th><th scope=col>interval_idx</th><th scope=col>peak_name</th><th scope=col>peak_idx</th></tr>\n",
       "\t<tr><th></th><th scope=col>&lt;int&gt;</th><th scope=col>&lt;fct&gt;</th><th scope=col>&lt;int&gt;</th></tr>\n",
       "</thead>\n",
       "<tbody>\n",
       "\t<tr><th scope=row>1</th><td>529</td><td>idx40</td><td> 977</td></tr>\n",
       "\t<tr><th scope=row>2</th><td>529</td><td>idx40</td><td>1160</td></tr>\n",
       "\t<tr><th scope=row>3</th><td>529</td><td>idx40</td><td>1298</td></tr>\n",
       "\t<tr><th scope=row>4</th><td>529</td><td>idx40</td><td>1393</td></tr>\n",
       "\t<tr><th scope=row>5</th><td>529</td><td>idx40</td><td>1732</td></tr>\n",
       "\t<tr><th scope=row>6</th><td>529</td><td>idx40</td><td>2169</td></tr>\n",
       "</tbody>\n",
       "</table>\n"
      ],
      "text/latex": [
       "A data.frame: 6 × 3\n",
       "\\begin{tabular}{r|lll}\n",
       "  & interval\\_idx & peak\\_name & peak\\_idx\\\\\n",
       "  & <int> & <fct> & <int>\\\\\n",
       "\\hline\n",
       "\t1 & 529 & idx40 &  977\\\\\n",
       "\t2 & 529 & idx40 & 1160\\\\\n",
       "\t3 & 529 & idx40 & 1298\\\\\n",
       "\t4 & 529 & idx40 & 1393\\\\\n",
       "\t5 & 529 & idx40 & 1732\\\\\n",
       "\t6 & 529 & idx40 & 2169\\\\\n",
       "\\end{tabular}\n"
      ],
      "text/markdown": [
       "\n",
       "A data.frame: 6 × 3\n",
       "\n",
       "| <!--/--> | interval_idx &lt;int&gt; | peak_name &lt;fct&gt; | peak_idx &lt;int&gt; |\n",
       "|---|---|---|---|\n",
       "| 1 | 529 | idx40 |  977 |\n",
       "| 2 | 529 | idx40 | 1160 |\n",
       "| 3 | 529 | idx40 | 1298 |\n",
       "| 4 | 529 | idx40 | 1393 |\n",
       "| 5 | 529 | idx40 | 1732 |\n",
       "| 6 | 529 | idx40 | 2169 |\n",
       "\n"
      ],
      "text/plain": [
       "  interval_idx peak_name peak_idx\n",
       "1 529          idx40      977    \n",
       "2 529          idx40     1160    \n",
       "3 529          idx40     1298    \n",
       "4 529          idx40     1393    \n",
       "5 529          idx40     1732    \n",
       "6 529          idx40     2169    "
      ]
     },
     "metadata": {},
     "output_type": "display_data"
    }
   ],
   "source": [
    "interval_to_peak_name = data.frame(interval_idx = queryHits(overlaps),\n",
    "                                   peak_name = peaks_with_names[subjectHits(overlaps)]$name,\n",
    "                                   peak_idx = subjectHits(overlaps))\n",
    "dim(interval_to_peak_name)\n",
    "head(interval_to_peak_name)"
   ]
  },
  {
   "cell_type": "code",
   "execution_count": 152,
   "metadata": {},
   "outputs": [
    {
     "data": {
      "text/html": [
       "<style>\n",
       ".list-inline {list-style: none; margin:0; padding: 0}\n",
       ".list-inline>li {display: inline-block}\n",
       ".list-inline>li:not(:last-child)::after {content: \"\\00b7\"; padding: 0 .5ex}\n",
       "</style>\n",
       "<ol class=list-inline><li>177</li><li>2</li></ol>\n"
      ],
      "text/latex": [
       "\\begin{enumerate*}\n",
       "\\item 177\n",
       "\\item 2\n",
       "\\end{enumerate*}\n"
      ],
      "text/markdown": [
       "1. 177\n",
       "2. 2\n",
       "\n",
       "\n"
      ],
      "text/plain": [
       "[1] 177   2"
      ]
     },
     "metadata": {},
     "output_type": "display_data"
    }
   ],
   "source": [
    "interval_to_peak_name_uniq = unique(interval_to_peak_name[, c(\"interval_idx\", \"peak_name\")])\n",
    "dim(interval_to_peak_name_uniq)"
   ]
  },
  {
   "cell_type": "code",
   "execution_count": 153,
   "metadata": {},
   "outputs": [
    {
     "data": {
      "text/plain": [
       "\n",
       "21845 55285 55286 36157 17548 17547 \n",
       "   19    17    12    12    12    12 "
      ]
     },
     "metadata": {},
     "output_type": "display_data"
    }
   ],
   "source": [
    "# count per interval\n",
    "head(rev(sort(table(interval_to_peak_name_uniq$interval_idx))))"
   ]
  },
  {
   "cell_type": "code",
   "execution_count": 167,
   "metadata": {},
   "outputs": [],
   "source": [
    "SELECT = 55285"
   ]
  },
  {
   "cell_type": "code",
   "execution_count": 168,
   "metadata": {},
   "outputs": [
    {
     "data": {
      "text/plain": [
       "GRanges object with 1 range and 0 metadata columns:\n",
       "      seqnames            ranges strand\n",
       "         <Rle>         <IRanges>  <Rle>\n",
       "  [1]    chr20 51750001-51800001      *\n",
       "  -------\n",
       "  seqinfo: 24 sequences from an unspecified genome; no seqlengths"
      ]
     },
     "metadata": {},
     "output_type": "display_data"
    }
   ],
   "source": [
    "strided_intervals_gr[SELECT]"
   ]
  },
  {
   "cell_type": "code",
   "execution_count": 166,
   "metadata": {},
   "outputs": [
    {
     "data": {
      "text/html": [
       "<table>\n",
       "<caption>A data.frame: 6 × 4</caption>\n",
       "<thead>\n",
       "\t<tr><th></th><th scope=col>interval_idx</th><th scope=col>peak_name</th><th scope=col>peak_idx</th><th scope=col>peak</th></tr>\n",
       "\t<tr><th></th><th scope=col>&lt;int&gt;</th><th scope=col>&lt;fct&gt;</th><th scope=col>&lt;int&gt;</th><th scope=col>&lt;chr&gt;</th></tr>\n",
       "</thead>\n",
       "<tbody>\n",
       "\t<tr><th scope=row>190</th><td>36157</td><td>idx40</td><td> 11818</td><td>chr10:133242901-133243114</td></tr>\n",
       "\t<tr><th scope=row>191</th><td>36157</td><td>idx40</td><td> 12003</td><td>chr10:133236857-133237056</td></tr>\n",
       "\t<tr><th scope=row>192</th><td>36157</td><td>idx38</td><td> 57588</td><td>chr10:133245898-133246138</td></tr>\n",
       "\t<tr><th scope=row>193</th><td>36157</td><td>idx38</td><td> 58178</td><td>chr10:133247030-133247280</td></tr>\n",
       "\t<tr><th scope=row>194</th><td>36157</td><td>idx32</td><td>165200</td><td>chr10:133220719-133220918</td></tr>\n",
       "\t<tr><th scope=row>195</th><td>36157</td><td>idx31</td><td>193336</td><td>chr10:133205387-133205586</td></tr>\n",
       "</tbody>\n",
       "</table>\n"
      ],
      "text/latex": [
       "A data.frame: 6 × 4\n",
       "\\begin{tabular}{r|llll}\n",
       "  & interval\\_idx & peak\\_name & peak\\_idx & peak\\\\\n",
       "  & <int> & <fct> & <int> & <chr>\\\\\n",
       "\\hline\n",
       "\t190 & 36157 & idx40 &  11818 & chr10:133242901-133243114\\\\\n",
       "\t191 & 36157 & idx40 &  12003 & chr10:133236857-133237056\\\\\n",
       "\t192 & 36157 & idx38 &  57588 & chr10:133245898-133246138\\\\\n",
       "\t193 & 36157 & idx38 &  58178 & chr10:133247030-133247280\\\\\n",
       "\t194 & 36157 & idx32 & 165200 & chr10:133220719-133220918\\\\\n",
       "\t195 & 36157 & idx31 & 193336 & chr10:133205387-133205586\\\\\n",
       "\\end{tabular}\n"
      ],
      "text/markdown": [
       "\n",
       "A data.frame: 6 × 4\n",
       "\n",
       "| <!--/--> | interval_idx &lt;int&gt; | peak_name &lt;fct&gt; | peak_idx &lt;int&gt; | peak &lt;chr&gt; |\n",
       "|---|---|---|---|---|\n",
       "| 190 | 36157 | idx40 |  11818 | chr10:133242901-133243114 |\n",
       "| 191 | 36157 | idx40 |  12003 | chr10:133236857-133237056 |\n",
       "| 192 | 36157 | idx38 |  57588 | chr10:133245898-133246138 |\n",
       "| 193 | 36157 | idx38 |  58178 | chr10:133247030-133247280 |\n",
       "| 194 | 36157 | idx32 | 165200 | chr10:133220719-133220918 |\n",
       "| 195 | 36157 | idx31 | 193336 | chr10:133205387-133205586 |\n",
       "\n"
      ],
      "text/plain": [
       "    interval_idx peak_name peak_idx peak                     \n",
       "190 36157        idx40      11818   chr10:133242901-133243114\n",
       "191 36157        idx40      12003   chr10:133236857-133237056\n",
       "192 36157        idx38      57588   chr10:133245898-133246138\n",
       "193 36157        idx38      58178   chr10:133247030-133247280\n",
       "194 36157        idx32     165200   chr10:133220719-133220918\n",
       "195 36157        idx31     193336   chr10:133205387-133205586"
      ]
     },
     "metadata": {},
     "output_type": "display_data"
    }
   ],
   "source": [
    "to_show = interval_to_peak_name[interval_to_peak_name$interval_idx==SELECT, ]\n",
    "to_show$peak = as.character(peaks_with_names[to_show$peak_idx])\n",
    "head(to_show)"
   ]
  },
  {
   "cell_type": "code",
   "execution_count": 163,
   "metadata": {},
   "outputs": [
    {
     "data": {
      "text/html": [
       "<table>\n",
       "<caption>A data.frame: 22 × 6</caption>\n",
       "<thead>\n",
       "\t<tr><th></th><th scope=col>seqnames</th><th scope=col>start</th><th scope=col>end</th><th scope=col>width</th><th scope=col>strand</th><th scope=col>name</th></tr>\n",
       "\t<tr><th></th><th scope=col>&lt;fct&gt;</th><th scope=col>&lt;int&gt;</th><th scope=col>&lt;int&gt;</th><th scope=col>&lt;int&gt;</th><th scope=col>&lt;fct&gt;</th><th scope=col>&lt;chr&gt;</th></tr>\n",
       "</thead>\n",
       "<tbody>\n",
       "\t<tr><th scope=row>9</th><td>chr20</td><td>51775228</td><td>51775514</td><td>287</td><td>*</td><td>idx27</td></tr>\n",
       "\t<tr><th scope=row>12</th><td>chr20</td><td>51775631</td><td>51775866</td><td>236</td><td>*</td><td>idx27</td></tr>\n",
       "\t<tr><th scope=row>11</th><td>chr20</td><td>51775867</td><td>51776096</td><td>230</td><td>*</td><td>idx27</td></tr>\n",
       "\t<tr><th scope=row>4</th><td>chr20</td><td>51776097</td><td>51776296</td><td>200</td><td>*</td><td>idx31</td></tr>\n",
       "\t<tr><th scope=row>5</th><td>chr20</td><td>51776297</td><td>51776523</td><td>227</td><td>*</td><td>idx31</td></tr>\n",
       "\t<tr><th scope=row>19</th><td>chr20</td><td>51793769</td><td>51794010</td><td>242</td><td>*</td><td>idx18</td></tr>\n",
       "\t<tr><th scope=row>10</th><td>chr20</td><td>51799695</td><td>51799894</td><td>200</td><td>*</td><td>idx27</td></tr>\n",
       "\t<tr><th scope=row>14</th><td>chr20</td><td>51799938</td><td>51800223</td><td>286</td><td>*</td><td>idx25</td></tr>\n",
       "\t<tr><th scope=row>2</th><td>chr20</td><td>51800227</td><td>51800512</td><td>286</td><td>*</td><td>idx38</td></tr>\n",
       "\t<tr><th scope=row>15</th><td>chr20</td><td>51800513</td><td>51800812</td><td>300</td><td>*</td><td>idx24</td></tr>\n",
       "\t<tr><th scope=row>17</th><td>chr20</td><td>51800946</td><td>51801145</td><td>200</td><td>*</td><td>idx24</td></tr>\n",
       "\t<tr><th scope=row>21</th><td>chr20</td><td>51801146</td><td>51801445</td><td>300</td><td>*</td><td>idx9 </td></tr>\n",
       "\t<tr><th scope=row>3</th><td>chr20</td><td>51801446</td><td>51801722</td><td>277</td><td>*</td><td>idx38</td></tr>\n",
       "\t<tr><th scope=row>16</th><td>chr20</td><td>51801844</td><td>51802043</td><td>200</td><td>*</td><td>idx24</td></tr>\n",
       "\t<tr><th scope=row>18</th><td>chr20</td><td>51802175</td><td>51802474</td><td>300</td><td>*</td><td>idx24</td></tr>\n",
       "\t<tr><th scope=row>13</th><td>chr20</td><td>51802524</td><td>51802762</td><td>239</td><td>*</td><td>idx25</td></tr>\n",
       "\t<tr><th scope=row>20</th><td>chr20</td><td>51807939</td><td>51808171</td><td>233</td><td>*</td><td>idx14</td></tr>\n",
       "\t<tr><th scope=row>8</th><td>chr20</td><td>51810226</td><td>51810451</td><td>226</td><td>*</td><td>idx29</td></tr>\n",
       "\t<tr><th scope=row>22</th><td>chr20</td><td>51811027</td><td>51811234</td><td>208</td><td>*</td><td>idx2 </td></tr>\n",
       "\t<tr><th scope=row>7</th><td>chr20</td><td>51811613</td><td>51811812</td><td>200</td><td>*</td><td>idx30</td></tr>\n",
       "\t<tr><th scope=row>6</th><td>chr20</td><td>51811813</td><td>51812044</td><td>232</td><td>*</td><td>idx30</td></tr>\n",
       "\t<tr><th scope=row>1</th><td>chr20</td><td>51812071</td><td>51812282</td><td>212</td><td>*</td><td>idx39</td></tr>\n",
       "</tbody>\n",
       "</table>\n"
      ],
      "text/latex": [
       "A data.frame: 22 × 6\n",
       "\\begin{tabular}{r|llllll}\n",
       "  & seqnames & start & end & width & strand & name\\\\\n",
       "  & <fct> & <int> & <int> & <int> & <fct> & <chr>\\\\\n",
       "\\hline\n",
       "\t9 & chr20 & 51775228 & 51775514 & 287 & * & idx27\\\\\n",
       "\t12 & chr20 & 51775631 & 51775866 & 236 & * & idx27\\\\\n",
       "\t11 & chr20 & 51775867 & 51776096 & 230 & * & idx27\\\\\n",
       "\t4 & chr20 & 51776097 & 51776296 & 200 & * & idx31\\\\\n",
       "\t5 & chr20 & 51776297 & 51776523 & 227 & * & idx31\\\\\n",
       "\t19 & chr20 & 51793769 & 51794010 & 242 & * & idx18\\\\\n",
       "\t10 & chr20 & 51799695 & 51799894 & 200 & * & idx27\\\\\n",
       "\t14 & chr20 & 51799938 & 51800223 & 286 & * & idx25\\\\\n",
       "\t2 & chr20 & 51800227 & 51800512 & 286 & * & idx38\\\\\n",
       "\t15 & chr20 & 51800513 & 51800812 & 300 & * & idx24\\\\\n",
       "\t17 & chr20 & 51800946 & 51801145 & 200 & * & idx24\\\\\n",
       "\t21 & chr20 & 51801146 & 51801445 & 300 & * & idx9 \\\\\n",
       "\t3 & chr20 & 51801446 & 51801722 & 277 & * & idx38\\\\\n",
       "\t16 & chr20 & 51801844 & 51802043 & 200 & * & idx24\\\\\n",
       "\t18 & chr20 & 51802175 & 51802474 & 300 & * & idx24\\\\\n",
       "\t13 & chr20 & 51802524 & 51802762 & 239 & * & idx25\\\\\n",
       "\t20 & chr20 & 51807939 & 51808171 & 233 & * & idx14\\\\\n",
       "\t8 & chr20 & 51810226 & 51810451 & 226 & * & idx29\\\\\n",
       "\t22 & chr20 & 51811027 & 51811234 & 208 & * & idx2 \\\\\n",
       "\t7 & chr20 & 51811613 & 51811812 & 200 & * & idx30\\\\\n",
       "\t6 & chr20 & 51811813 & 51812044 & 232 & * & idx30\\\\\n",
       "\t1 & chr20 & 51812071 & 51812282 & 212 & * & idx39\\\\\n",
       "\\end{tabular}\n"
      ],
      "text/markdown": [
       "\n",
       "A data.frame: 22 × 6\n",
       "\n",
       "| <!--/--> | seqnames &lt;fct&gt; | start &lt;int&gt; | end &lt;int&gt; | width &lt;int&gt; | strand &lt;fct&gt; | name &lt;chr&gt; |\n",
       "|---|---|---|---|---|---|---|\n",
       "| 9 | chr20 | 51775228 | 51775514 | 287 | * | idx27 |\n",
       "| 12 | chr20 | 51775631 | 51775866 | 236 | * | idx27 |\n",
       "| 11 | chr20 | 51775867 | 51776096 | 230 | * | idx27 |\n",
       "| 4 | chr20 | 51776097 | 51776296 | 200 | * | idx31 |\n",
       "| 5 | chr20 | 51776297 | 51776523 | 227 | * | idx31 |\n",
       "| 19 | chr20 | 51793769 | 51794010 | 242 | * | idx18 |\n",
       "| 10 | chr20 | 51799695 | 51799894 | 200 | * | idx27 |\n",
       "| 14 | chr20 | 51799938 | 51800223 | 286 | * | idx25 |\n",
       "| 2 | chr20 | 51800227 | 51800512 | 286 | * | idx38 |\n",
       "| 15 | chr20 | 51800513 | 51800812 | 300 | * | idx24 |\n",
       "| 17 | chr20 | 51800946 | 51801145 | 200 | * | idx24 |\n",
       "| 21 | chr20 | 51801146 | 51801445 | 300 | * | idx9  |\n",
       "| 3 | chr20 | 51801446 | 51801722 | 277 | * | idx38 |\n",
       "| 16 | chr20 | 51801844 | 51802043 | 200 | * | idx24 |\n",
       "| 18 | chr20 | 51802175 | 51802474 | 300 | * | idx24 |\n",
       "| 13 | chr20 | 51802524 | 51802762 | 239 | * | idx25 |\n",
       "| 20 | chr20 | 51807939 | 51808171 | 233 | * | idx14 |\n",
       "| 8 | chr20 | 51810226 | 51810451 | 226 | * | idx29 |\n",
       "| 22 | chr20 | 51811027 | 51811234 | 208 | * | idx2  |\n",
       "| 7 | chr20 | 51811613 | 51811812 | 200 | * | idx30 |\n",
       "| 6 | chr20 | 51811813 | 51812044 | 232 | * | idx30 |\n",
       "| 1 | chr20 | 51812071 | 51812282 | 212 | * | idx39 |\n",
       "\n"
      ],
      "text/plain": [
       "   seqnames start    end      width strand name \n",
       "9  chr20    51775228 51775514 287   *      idx27\n",
       "12 chr20    51775631 51775866 236   *      idx27\n",
       "11 chr20    51775867 51776096 230   *      idx27\n",
       "4  chr20    51776097 51776296 200   *      idx31\n",
       "5  chr20    51776297 51776523 227   *      idx31\n",
       "19 chr20    51793769 51794010 242   *      idx18\n",
       "10 chr20    51799695 51799894 200   *      idx27\n",
       "14 chr20    51799938 51800223 286   *      idx25\n",
       "2  chr20    51800227 51800512 286   *      idx38\n",
       "15 chr20    51800513 51800812 300   *      idx24\n",
       "17 chr20    51800946 51801145 200   *      idx24\n",
       "21 chr20    51801146 51801445 300   *      idx9 \n",
       "3  chr20    51801446 51801722 277   *      idx38\n",
       "16 chr20    51801844 51802043 200   *      idx24\n",
       "18 chr20    51802175 51802474 300   *      idx24\n",
       "13 chr20    51802524 51802762 239   *      idx25\n",
       "20 chr20    51807939 51808171 233   *      idx14\n",
       "8  chr20    51810226 51810451 226   *      idx29\n",
       "22 chr20    51811027 51811234 208   *      idx2 \n",
       "7  chr20    51811613 51811812 200   *      idx30\n",
       "6  chr20    51811813 51812044 232   *      idx30\n",
       "1  chr20    51812071 51812282 212   *      idx39"
      ]
     },
     "metadata": {},
     "output_type": "display_data"
    }
   ],
   "source": [
    "# in any region\n",
    "REGION = c('chr20:51774290-51814020')\n",
    "to_show = data.frame(peaks_with_names[subjectHits(findOverlaps(GRanges(REGION), peaks_with_names))])\n",
    "to_show[order(to_show$start), ]"
   ]
  },
  {
   "cell_type": "code",
   "execution_count": null,
   "metadata": {},
   "outputs": [],
   "source": []
  }
 ],
 "metadata": {
  "kernelspec": {
   "display_name": "R",
   "language": "R",
   "name": "ir"
  },
  "language_info": {
   "codemirror_mode": "r",
   "file_extension": ".r",
   "mimetype": "text/x-r-source",
   "name": "R",
   "pygments_lexer": "r",
   "version": "3.6.3"
  }
 },
 "nbformat": 4,
 "nbformat_minor": 4
}
