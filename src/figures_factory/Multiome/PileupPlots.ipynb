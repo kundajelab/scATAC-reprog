{
 "cells": [
  {
   "cell_type": "markdown",
   "metadata": {},
   "source": [
    "# Pileup Plots\n",
    "\n",
    "Integrative analysis across peak sets and datasets.\n",
    "\n",
    "**Inputs:**\n",
    "1. List of peak sets\n",
    "2. Config of samples, bigwig path and class of sample (each class will have same plot styling). If sample belongs to ATAC dataset, old cluster ID else NA.\n",
    "3. For each cluster, colour, description, new cluster number (set to same as original if it should not be changed)"
   ]
  },
  {
   "cell_type": "code",
   "execution_count": 1,
   "metadata": {},
   "outputs": [
    {
     "name": "stderr",
     "output_type": "stream",
     "text": [
      "Loading required package: GenomicRanges\n",
      "\n",
      "Loading required package: stats4\n",
      "\n",
      "Loading required package: BiocGenerics\n",
      "\n",
      "Loading required package: parallel\n",
      "\n",
      "\n",
      "Attaching package: ‘BiocGenerics’\n",
      "\n",
      "\n",
      "The following objects are masked from ‘package:parallel’:\n",
      "\n",
      "    clusterApply, clusterApplyLB, clusterCall, clusterEvalQ,\n",
      "    clusterExport, clusterMap, parApply, parCapply, parLapply,\n",
      "    parLapplyLB, parRapply, parSapply, parSapplyLB\n",
      "\n",
      "\n",
      "The following objects are masked from ‘package:stats’:\n",
      "\n",
      "    IQR, mad, sd, var, xtabs\n",
      "\n",
      "\n",
      "The following objects are masked from ‘package:base’:\n",
      "\n",
      "    anyDuplicated, append, as.data.frame, basename, cbind, colnames,\n",
      "    dirname, do.call, duplicated, eval, evalq, Filter, Find, get, grep,\n",
      "    grepl, intersect, is.unsorted, lapply, Map, mapply, match, mget,\n",
      "    order, paste, pmax, pmax.int, pmin, pmin.int, Position, rank,\n",
      "    rbind, Reduce, rownames, sapply, setdiff, sort, table, tapply,\n",
      "    union, unique, unsplit, which, which.max, which.min\n",
      "\n",
      "\n",
      "Loading required package: S4Vectors\n",
      "\n",
      "\n",
      "Attaching package: ‘S4Vectors’\n",
      "\n",
      "\n",
      "The following object is masked from ‘package:base’:\n",
      "\n",
      "    expand.grid\n",
      "\n",
      "\n",
      "Loading required package: IRanges\n",
      "\n",
      "Loading required package: GenomeInfoDb\n",
      "\n",
      "Loading required package: viridisLite\n",
      "\n",
      "\n",
      "Attaching package: ‘viridis’\n",
      "\n",
      "\n",
      "The following object is masked from ‘package:scales’:\n",
      "\n",
      "    viridis_pal\n",
      "\n",
      "\n",
      "Loading required package: sp\n",
      "\n",
      "\n",
      "Attaching package: ‘sp’\n",
      "\n",
      "\n",
      "The following object is masked from ‘package:IRanges’:\n",
      "\n",
      "    %over%\n",
      "\n",
      "\n",
      "\n",
      "Attaching package: ‘raster’\n",
      "\n",
      "\n",
      "The following object is masked from ‘package:rtracklayer’:\n",
      "\n",
      "    values\n",
      "\n",
      "\n",
      "The following objects are masked from ‘package:GenomicRanges’:\n",
      "\n",
      "    distance, shift, trim, values, values<-\n",
      "\n",
      "\n",
      "The following objects are masked from ‘package:IRanges’:\n",
      "\n",
      "    distance, shift, trim, values, values<-\n",
      "\n",
      "\n",
      "The following objects are masked from ‘package:S4Vectors’:\n",
      "\n",
      "    metadata, metadata<-, values, values<-\n",
      "\n",
      "\n",
      "The following object is masked from ‘package:patchwork’:\n",
      "\n",
      "    area\n",
      "\n",
      "\n"
     ]
    }
   ],
   "source": [
    "library(ggplot2)\n",
    "library(patchwork)\n",
    "library(reshape2)\n",
    "library(rtracklayer)\n",
    "library(scales)\n",
    "library(viridis)\n",
    "library(matrixStats)\n",
    "library(raster)"
   ]
  },
  {
   "cell_type": "markdown",
   "metadata": {},
   "source": [
    "## Loading Inputs"
   ]
  },
  {
   "cell_type": "markdown",
   "metadata": {},
   "source": [
    "### Configs"
   ]
  },
  {
   "cell_type": "code",
   "execution_count": 5,
   "metadata": {},
   "outputs": [
    {
     "data": {
      "text/html": [
       "<table>\n",
       "<caption>A data.frame: 6 × 7</caption>\n",
       "<thead>\n",
       "\t<tr><th scope=col>title</th><th scope=col>short_name</th><th scope=col>old_cluster</th><th scope=col>type</th><th scope=col>group</th><th scope=col>width</th><th scope=col>path</th></tr>\n",
       "\t<tr><th scope=col>&lt;chr&gt;</th><th scope=col>&lt;chr&gt;</th><th scope=col>&lt;int&gt;</th><th scope=col>&lt;fct&gt;</th><th scope=col>&lt;int&gt;</th><th scope=col>&lt;int&gt;</th><th scope=col>&lt;chr&gt;</th></tr>\n",
       "</thead>\n",
       "<tbody>\n",
       "\t<tr><td>Fibroblast  </td><td>Fib  </td><td> 1</td><td>ATAC</td><td>1</td><td>2000</td><td>/oak/stanford/groups/akundaje/surag/projects/scATAC-reprog/clusters/20210714_n64913/croo/cluster_idx1/signal/rep1/cluster_idx1.fc.signal.bigwig</td></tr>\n",
       "\t<tr><td>D1M Low OSK </td><td>D1M-L</td><td>NA</td><td>ATAC</td><td>2</td><td>2000</td><td>/srv/scratch/surag/scMultiome-reprog/clusters/20220612_n13525/croo/D1M.c15/signal/rep1/D1M.c15.fc.signal.bigwig                                </td></tr>\n",
       "\t<tr><td>D1M High OSK</td><td>D1M-H</td><td>NA</td><td>ATAC</td><td>2</td><td>2000</td><td>/srv/scratch/surag/scMultiome-reprog/clusters/20220612_n13525/croo/D1M.c11/signal/rep1/D1M.c11.fc.signal.bigwig                                </td></tr>\n",
       "\t<tr><td>D2M Low OSK </td><td>D2M-L</td><td>NA</td><td>ATAC</td><td>3</td><td>2000</td><td>/srv/scratch/surag/scMultiome-reprog/clusters/20220612_n13525/croo/D2M.c15/signal/rep1/D2M.c15.fc.signal.bigwig                                </td></tr>\n",
       "\t<tr><td>D2M High OSK</td><td>D2M-H</td><td>NA</td><td>ATAC</td><td>3</td><td>2000</td><td>/srv/scratch/surag/scMultiome-reprog/clusters/20220612_n13525/croo/D2M.c11/signal/rep1/D2M.c11.fc.signal.bigwig                                </td></tr>\n",
       "\t<tr><td>iPSC        </td><td>iPSC </td><td> 8</td><td>ATAC</td><td>4</td><td>2000</td><td>/oak/stanford/groups/akundaje/surag/projects/scATAC-reprog/clusters/20210714_n64913/croo/cluster_idx8/signal/rep1/cluster_idx8.fc.signal.bigwig</td></tr>\n",
       "</tbody>\n",
       "</table>\n"
      ],
      "text/latex": [
       "A data.frame: 6 × 7\n",
       "\\begin{tabular}{lllllll}\n",
       " title & short\\_name & old\\_cluster & type & group & width & path\\\\\n",
       " <chr> & <chr> & <int> & <fct> & <int> & <int> & <chr>\\\\\n",
       "\\hline\n",
       "\t Fibroblast   & Fib   &  1 & ATAC & 1 & 2000 & /oak/stanford/groups/akundaje/surag/projects/scATAC-reprog/clusters/20210714\\_n64913/croo/cluster\\_idx1/signal/rep1/cluster\\_idx1.fc.signal.bigwig\\\\\n",
       "\t D1M Low OSK  & D1M-L & NA & ATAC & 2 & 2000 & /srv/scratch/surag/scMultiome-reprog/clusters/20220612\\_n13525/croo/D1M.c15/signal/rep1/D1M.c15.fc.signal.bigwig                                \\\\\n",
       "\t D1M High OSK & D1M-H & NA & ATAC & 2 & 2000 & /srv/scratch/surag/scMultiome-reprog/clusters/20220612\\_n13525/croo/D1M.c11/signal/rep1/D1M.c11.fc.signal.bigwig                                \\\\\n",
       "\t D2M Low OSK  & D2M-L & NA & ATAC & 3 & 2000 & /srv/scratch/surag/scMultiome-reprog/clusters/20220612\\_n13525/croo/D2M.c15/signal/rep1/D2M.c15.fc.signal.bigwig                                \\\\\n",
       "\t D2M High OSK & D2M-H & NA & ATAC & 3 & 2000 & /srv/scratch/surag/scMultiome-reprog/clusters/20220612\\_n13525/croo/D2M.c11/signal/rep1/D2M.c11.fc.signal.bigwig                                \\\\\n",
       "\t iPSC         & iPSC  &  8 & ATAC & 4 & 2000 & /oak/stanford/groups/akundaje/surag/projects/scATAC-reprog/clusters/20210714\\_n64913/croo/cluster\\_idx8/signal/rep1/cluster\\_idx8.fc.signal.bigwig\\\\\n",
       "\\end{tabular}\n"
      ],
      "text/markdown": [
       "\n",
       "A data.frame: 6 × 7\n",
       "\n",
       "| title &lt;chr&gt; | short_name &lt;chr&gt; | old_cluster &lt;int&gt; | type &lt;fct&gt; | group &lt;int&gt; | width &lt;int&gt; | path &lt;chr&gt; |\n",
       "|---|---|---|---|---|---|---|\n",
       "| Fibroblast   | Fib   |  1 | ATAC | 1 | 2000 | /oak/stanford/groups/akundaje/surag/projects/scATAC-reprog/clusters/20210714_n64913/croo/cluster_idx1/signal/rep1/cluster_idx1.fc.signal.bigwig |\n",
       "| D1M Low OSK  | D1M-L | NA | ATAC | 2 | 2000 | /srv/scratch/surag/scMultiome-reprog/clusters/20220612_n13525/croo/D1M.c15/signal/rep1/D1M.c15.fc.signal.bigwig                                 |\n",
       "| D1M High OSK | D1M-H | NA | ATAC | 2 | 2000 | /srv/scratch/surag/scMultiome-reprog/clusters/20220612_n13525/croo/D1M.c11/signal/rep1/D1M.c11.fc.signal.bigwig                                 |\n",
       "| D2M Low OSK  | D2M-L | NA | ATAC | 3 | 2000 | /srv/scratch/surag/scMultiome-reprog/clusters/20220612_n13525/croo/D2M.c15/signal/rep1/D2M.c15.fc.signal.bigwig                                 |\n",
       "| D2M High OSK | D2M-H | NA | ATAC | 3 | 2000 | /srv/scratch/surag/scMultiome-reprog/clusters/20220612_n13525/croo/D2M.c11/signal/rep1/D2M.c11.fc.signal.bigwig                                 |\n",
       "| iPSC         | iPSC  |  8 | ATAC | 4 | 2000 | /oak/stanford/groups/akundaje/surag/projects/scATAC-reprog/clusters/20210714_n64913/croo/cluster_idx8/signal/rep1/cluster_idx8.fc.signal.bigwig |\n",
       "\n"
      ],
      "text/plain": [
       "  title        short_name old_cluster type group width\n",
       "1 Fibroblast   Fib         1          ATAC 1     2000 \n",
       "2 D1M Low OSK  D1M-L      NA          ATAC 2     2000 \n",
       "3 D1M High OSK D1M-H      NA          ATAC 2     2000 \n",
       "4 D2M Low OSK  D2M-L      NA          ATAC 3     2000 \n",
       "5 D2M High OSK D2M-H      NA          ATAC 3     2000 \n",
       "6 iPSC         iPSC        8          ATAC 4     2000 \n",
       "  path                                                                                                                                           \n",
       "1 /oak/stanford/groups/akundaje/surag/projects/scATAC-reprog/clusters/20210714_n64913/croo/cluster_idx1/signal/rep1/cluster_idx1.fc.signal.bigwig\n",
       "2 /srv/scratch/surag/scMultiome-reprog/clusters/20220612_n13525/croo/D1M.c15/signal/rep1/D1M.c15.fc.signal.bigwig                                \n",
       "3 /srv/scratch/surag/scMultiome-reprog/clusters/20220612_n13525/croo/D1M.c11/signal/rep1/D1M.c11.fc.signal.bigwig                                \n",
       "4 /srv/scratch/surag/scMultiome-reprog/clusters/20220612_n13525/croo/D2M.c15/signal/rep1/D2M.c15.fc.signal.bigwig                                \n",
       "5 /srv/scratch/surag/scMultiome-reprog/clusters/20220612_n13525/croo/D2M.c11/signal/rep1/D2M.c11.fc.signal.bigwig                                \n",
       "6 /oak/stanford/groups/akundaje/surag/projects/scATAC-reprog/clusters/20210714_n64913/croo/cluster_idx8/signal/rep1/cluster_idx8.fc.signal.bigwig"
      ]
     },
     "metadata": {},
     "output_type": "display_data"
    }
   ],
   "source": [
    "vortex_config = read.table(\"./vortex_tracks_config.tsv\", sep='\\t', header=T, stringsAsFactors = F)\n",
    "vortex_config$type = factor(vortex_config$type)\n",
    "vortex_config"
   ]
  },
  {
   "cell_type": "code",
   "execution_count": 6,
   "metadata": {},
   "outputs": [
    {
     "data": {
      "text/html": [
       "<table>\n",
       "<caption>A data.frame: 6 × 3</caption>\n",
       "<thead>\n",
       "\t<tr><th scope=col>title</th><th scope=col>group</th><th scope=col>path</th></tr>\n",
       "\t<tr><th scope=col>&lt;chr&gt;</th><th scope=col>&lt;int&gt;</th><th scope=col>&lt;chr&gt;</th></tr>\n",
       "</thead>\n",
       "<tbody>\n",
       "\t<tr><td>P1  </td><td>1</td><td>/users/surag/kundajelab/scATAC-reprog/src/analysis/20200307_fine_clustering/beds/20210719_gridmap_peakwidthnorm_logplusznorm_4way_assited_n20/idx1.bed</td></tr>\n",
       "\t<tr><td>P2  </td><td>1</td><td>/users/surag/kundajelab/scATAC-reprog/src/analysis/20200307_fine_clustering/beds/20210719_gridmap_peakwidthnorm_logplusznorm_4way_assited_n20/idx2.bed</td></tr>\n",
       "\t<tr><td>P6  </td><td>1</td><td>/users/surag/kundajelab/scATAC-reprog/src/analysis/20200307_fine_clustering/beds/20210719_gridmap_peakwidthnorm_logplusznorm_4way_assited_n20/idx6.bed</td></tr>\n",
       "\t<tr><td>P7  </td><td>1</td><td>/users/surag/kundajelab/scATAC-reprog/src/analysis/20200307_fine_clustering/beds/20210719_gridmap_peakwidthnorm_logplusznorm_4way_assited_n20/idx7.bed</td></tr>\n",
       "\t<tr><td>P8  </td><td>1</td><td>/users/surag/kundajelab/scATAC-reprog/src/analysis/20200307_fine_clustering/beds/20210719_gridmap_peakwidthnorm_logplusznorm_4way_assited_n20/idx8.bed</td></tr>\n",
       "\t<tr><td>E-ON</td><td>1</td><td>/users/surag/kundajelab/scATAC-reprog/src/figures_factory/Fig5/early_on.bed                                                                           </td></tr>\n",
       "</tbody>\n",
       "</table>\n"
      ],
      "text/latex": [
       "A data.frame: 6 × 3\n",
       "\\begin{tabular}{lll}\n",
       " title & group & path\\\\\n",
       " <chr> & <int> & <chr>\\\\\n",
       "\\hline\n",
       "\t P1   & 1 & /users/surag/kundajelab/scATAC-reprog/src/analysis/20200307\\_fine\\_clustering/beds/20210719\\_gridmap\\_peakwidthnorm\\_logplusznorm\\_4way\\_assited\\_n20/idx1.bed\\\\\n",
       "\t P2   & 1 & /users/surag/kundajelab/scATAC-reprog/src/analysis/20200307\\_fine\\_clustering/beds/20210719\\_gridmap\\_peakwidthnorm\\_logplusznorm\\_4way\\_assited\\_n20/idx2.bed\\\\\n",
       "\t P6   & 1 & /users/surag/kundajelab/scATAC-reprog/src/analysis/20200307\\_fine\\_clustering/beds/20210719\\_gridmap\\_peakwidthnorm\\_logplusznorm\\_4way\\_assited\\_n20/idx6.bed\\\\\n",
       "\t P7   & 1 & /users/surag/kundajelab/scATAC-reprog/src/analysis/20200307\\_fine\\_clustering/beds/20210719\\_gridmap\\_peakwidthnorm\\_logplusznorm\\_4way\\_assited\\_n20/idx7.bed\\\\\n",
       "\t P8   & 1 & /users/surag/kundajelab/scATAC-reprog/src/analysis/20200307\\_fine\\_clustering/beds/20210719\\_gridmap\\_peakwidthnorm\\_logplusznorm\\_4way\\_assited\\_n20/idx8.bed\\\\\n",
       "\t E-ON & 1 & /users/surag/kundajelab/scATAC-reprog/src/figures\\_factory/Fig5/early\\_on.bed                                                                           \\\\\n",
       "\\end{tabular}\n"
      ],
      "text/markdown": [
       "\n",
       "A data.frame: 6 × 3\n",
       "\n",
       "| title &lt;chr&gt; | group &lt;int&gt; | path &lt;chr&gt; |\n",
       "|---|---|---|\n",
       "| P1   | 1 | /users/surag/kundajelab/scATAC-reprog/src/analysis/20200307_fine_clustering/beds/20210719_gridmap_peakwidthnorm_logplusznorm_4way_assited_n20/idx1.bed |\n",
       "| P2   | 1 | /users/surag/kundajelab/scATAC-reprog/src/analysis/20200307_fine_clustering/beds/20210719_gridmap_peakwidthnorm_logplusznorm_4way_assited_n20/idx2.bed |\n",
       "| P6   | 1 | /users/surag/kundajelab/scATAC-reprog/src/analysis/20200307_fine_clustering/beds/20210719_gridmap_peakwidthnorm_logplusznorm_4way_assited_n20/idx6.bed |\n",
       "| P7   | 1 | /users/surag/kundajelab/scATAC-reprog/src/analysis/20200307_fine_clustering/beds/20210719_gridmap_peakwidthnorm_logplusznorm_4way_assited_n20/idx7.bed |\n",
       "| P8   | 1 | /users/surag/kundajelab/scATAC-reprog/src/analysis/20200307_fine_clustering/beds/20210719_gridmap_peakwidthnorm_logplusznorm_4way_assited_n20/idx8.bed |\n",
       "| E-ON | 1 | /users/surag/kundajelab/scATAC-reprog/src/figures_factory/Fig5/early_on.bed                                                                            |\n",
       "\n"
      ],
      "text/plain": [
       "  title group\n",
       "1 P1    1    \n",
       "2 P2    1    \n",
       "3 P6    1    \n",
       "4 P7    1    \n",
       "5 P8    1    \n",
       "6 E-ON  1    \n",
       "  path                                                                                                                                                  \n",
       "1 /users/surag/kundajelab/scATAC-reprog/src/analysis/20200307_fine_clustering/beds/20210719_gridmap_peakwidthnorm_logplusznorm_4way_assited_n20/idx1.bed\n",
       "2 /users/surag/kundajelab/scATAC-reprog/src/analysis/20200307_fine_clustering/beds/20210719_gridmap_peakwidthnorm_logplusznorm_4way_assited_n20/idx2.bed\n",
       "3 /users/surag/kundajelab/scATAC-reprog/src/analysis/20200307_fine_clustering/beds/20210719_gridmap_peakwidthnorm_logplusznorm_4way_assited_n20/idx6.bed\n",
       "4 /users/surag/kundajelab/scATAC-reprog/src/analysis/20200307_fine_clustering/beds/20210719_gridmap_peakwidthnorm_logplusznorm_4way_assited_n20/idx7.bed\n",
       "5 /users/surag/kundajelab/scATAC-reprog/src/analysis/20200307_fine_clustering/beds/20210719_gridmap_peakwidthnorm_logplusznorm_4way_assited_n20/idx8.bed\n",
       "6 /users/surag/kundajelab/scATAC-reprog/src/figures_factory/Fig5/early_on.bed                                                                           "
      ]
     },
     "metadata": {},
     "output_type": "display_data"
    }
   ],
   "source": [
    "peak_set_config = read.table(\"./vortex_peak_set_config.tsv\", stringsAsFactors = F, comment.char = '', sep='\\t', header=T)\n",
    "peak_set_config"
   ]
  },
  {
   "cell_type": "code",
   "execution_count": 7,
   "metadata": {},
   "outputs": [
    {
     "data": {
      "text/html": [
       "<table>\n",
       "<caption>A data.frame: 15 × 4</caption>\n",
       "<thead>\n",
       "\t<tr><th></th><th scope=col>cluster</th><th scope=col>colour</th><th scope=col>description</th><th scope=col>new_cluster</th></tr>\n",
       "\t<tr><th></th><th scope=col>&lt;int&gt;</th><th scope=col>&lt;chr&gt;</th><th scope=col>&lt;chr&gt;</th><th scope=col>&lt;int&gt;</th></tr>\n",
       "</thead>\n",
       "<tbody>\n",
       "\t<tr><th scope=row>1</th><td> 1</td><td>#B03743</td><td>Fibroblast            </td><td> 1</td></tr>\n",
       "\t<tr><th scope=row>2</th><td> 2</td><td>#E85F6D</td><td>Fibroblast-like       </td><td> 3</td></tr>\n",
       "\t<tr><th scope=row>3</th><td> 3</td><td>#7C2730</td><td>Fibroblast-like       </td><td> 2</td></tr>\n",
       "\t<tr><th scope=row>4</th><td> 4</td><td>#F0A118</td><td>Intermediate          </td><td>12</td></tr>\n",
       "\t<tr><th scope=row>5</th><td> 5</td><td>#78A824</td><td>Pre-iPSC              </td><td>13</td></tr>\n",
       "\t<tr><th scope=row>6</th><td> 6</td><td>#A6D854</td><td>Pre-iPSC              </td><td>14</td></tr>\n",
       "\t<tr><th scope=row>7</th><td> 7</td><td>#F01D35</td><td>Fibroblast-like       </td><td> 5</td></tr>\n",
       "\t<tr><th scope=row>8</th><td> 8</td><td>#13C4A3</td><td>iPSC                  </td><td>15</td></tr>\n",
       "\t<tr><th scope=row>9</th><td> 9</td><td>#406614</td><td>Partially-reprogrammed</td><td>10</td></tr>\n",
       "\t<tr><th scope=row>10</th><td>10</td><td>#D4B81C</td><td>Intermediate          </td><td> 9</td></tr>\n",
       "\t<tr><th scope=row>11</th><td>11</td><td>#006658</td><td>High OSK              </td><td> 8</td></tr>\n",
       "\t<tr><th scope=row>12</th><td>12</td><td>#CF175A</td><td>Fibroblast-like       </td><td> 4</td></tr>\n",
       "\t<tr><th scope=row>13</th><td>13</td><td>#F7A6C2</td><td>Keratinocyte-like     </td><td> 6</td></tr>\n",
       "\t<tr><th scope=row>14</th><td>14</td><td>#F4D5CD</td><td>Intermediate          </td><td>11</td></tr>\n",
       "\t<tr><th scope=row>15</th><td>15</td><td>#F0520A</td><td>Low OSK               </td><td> 7</td></tr>\n",
       "</tbody>\n",
       "</table>\n"
      ],
      "text/latex": [
       "A data.frame: 15 × 4\n",
       "\\begin{tabular}{r|llll}\n",
       "  & cluster & colour & description & new\\_cluster\\\\\n",
       "  & <int> & <chr> & <chr> & <int>\\\\\n",
       "\\hline\n",
       "\t1 &  1 & \\#B03743 & Fibroblast             &  1\\\\\n",
       "\t2 &  2 & \\#E85F6D & Fibroblast-like        &  3\\\\\n",
       "\t3 &  3 & \\#7C2730 & Fibroblast-like        &  2\\\\\n",
       "\t4 &  4 & \\#F0A118 & Intermediate           & 12\\\\\n",
       "\t5 &  5 & \\#78A824 & Pre-iPSC               & 13\\\\\n",
       "\t6 &  6 & \\#A6D854 & Pre-iPSC               & 14\\\\\n",
       "\t7 &  7 & \\#F01D35 & Fibroblast-like        &  5\\\\\n",
       "\t8 &  8 & \\#13C4A3 & iPSC                   & 15\\\\\n",
       "\t9 &  9 & \\#406614 & Partially-reprogrammed & 10\\\\\n",
       "\t10 & 10 & \\#D4B81C & Intermediate           &  9\\\\\n",
       "\t11 & 11 & \\#006658 & High OSK               &  8\\\\\n",
       "\t12 & 12 & \\#CF175A & Fibroblast-like        &  4\\\\\n",
       "\t13 & 13 & \\#F7A6C2 & Keratinocyte-like      &  6\\\\\n",
       "\t14 & 14 & \\#F4D5CD & Intermediate           & 11\\\\\n",
       "\t15 & 15 & \\#F0520A & Low OSK                &  7\\\\\n",
       "\\end{tabular}\n"
      ],
      "text/markdown": [
       "\n",
       "A data.frame: 15 × 4\n",
       "\n",
       "| <!--/--> | cluster &lt;int&gt; | colour &lt;chr&gt; | description &lt;chr&gt; | new_cluster &lt;int&gt; |\n",
       "|---|---|---|---|---|\n",
       "| 1 |  1 | #B03743 | Fibroblast             |  1 |\n",
       "| 2 |  2 | #E85F6D | Fibroblast-like        |  3 |\n",
       "| 3 |  3 | #7C2730 | Fibroblast-like        |  2 |\n",
       "| 4 |  4 | #F0A118 | Intermediate           | 12 |\n",
       "| 5 |  5 | #78A824 | Pre-iPSC               | 13 |\n",
       "| 6 |  6 | #A6D854 | Pre-iPSC               | 14 |\n",
       "| 7 |  7 | #F01D35 | Fibroblast-like        |  5 |\n",
       "| 8 |  8 | #13C4A3 | iPSC                   | 15 |\n",
       "| 9 |  9 | #406614 | Partially-reprogrammed | 10 |\n",
       "| 10 | 10 | #D4B81C | Intermediate           |  9 |\n",
       "| 11 | 11 | #006658 | High OSK               |  8 |\n",
       "| 12 | 12 | #CF175A | Fibroblast-like        |  4 |\n",
       "| 13 | 13 | #F7A6C2 | Keratinocyte-like      |  6 |\n",
       "| 14 | 14 | #F4D5CD | Intermediate           | 11 |\n",
       "| 15 | 15 | #F0520A | Low OSK                |  7 |\n",
       "\n"
      ],
      "text/plain": [
       "   cluster colour  description            new_cluster\n",
       "1   1      #B03743 Fibroblast              1         \n",
       "2   2      #E85F6D Fibroblast-like         3         \n",
       "3   3      #7C2730 Fibroblast-like         2         \n",
       "4   4      #F0A118 Intermediate           12         \n",
       "5   5      #78A824 Pre-iPSC               13         \n",
       "6   6      #A6D854 Pre-iPSC               14         \n",
       "7   7      #F01D35 Fibroblast-like         5         \n",
       "8   8      #13C4A3 iPSC                   15         \n",
       "9   9      #406614 Partially-reprogrammed 10         \n",
       "10 10      #D4B81C Intermediate            9         \n",
       "11 11      #006658 High OSK                8         \n",
       "12 12      #CF175A Fibroblast-like         4         \n",
       "13 13      #F7A6C2 Keratinocyte-like       6         \n",
       "14 14      #F4D5CD Intermediate           11         \n",
       "15 15      #F0520A Low OSK                 7         "
      ]
     },
     "metadata": {},
     "output_type": "display_data"
    }
   ],
   "source": [
    "cluster_config = read.table(\"../../figures_factory/configs/cluster.tsv\", comment.char = '', header=T, sep='\\t')\n",
    "cluster_config$colour = as.character(cluster_config$colour)\n",
    "cluster_config$description = as.character(cluster_config$description)\n",
    "\n",
    "rownames(cluster_config) = cluster_config$cluster\n",
    "cluster_config"
   ]
  },
  {
   "cell_type": "markdown",
   "metadata": {},
   "source": [
    "### Peak Sets"
   ]
  },
  {
   "cell_type": "code",
   "execution_count": 8,
   "metadata": {},
   "outputs": [],
   "source": [
    "peak_sets = list()\n",
    "SUBSAMPLE = 25\n",
    "\n",
    "for (i in seq(nrow(peak_set_config))) {\n",
    "    peak_sets[[i]] = import(peak_set_config[i, \"path\"])\n",
    "    peak_sets[[i]] = peak_sets[[i]][seq(1,length(peak_sets[[i]]),SUBSAMPLE)]\n",
    "}"
   ]
  },
  {
   "cell_type": "code",
   "execution_count": 9,
   "metadata": {},
   "outputs": [],
   "source": [
    "# manually load peaks\n",
    "# peak_sets = list()\n",
    "# peak_sets[[1]] = import(\"/users/surag/kundajelab/scATAC-reprog/resources/GSE101074/TFAP2C.dependent.reg.elements.hg38.bed\")\n",
    "# peak_sets[[1]] = peak_sets[[1]][seq(1,length(peak_sets[[1]]),5)]\n",
    "\n",
    "# peak_sets[[2]] = import(\"/users/surag/kundajelab/scATAC-reprog/resources/GSE101074/naive.specific.atac.hg38.bed\")\n",
    "# peak_sets[[2]] = peak_sets[[2]][seq(1,length(peak_sets[[2]]),5)]\n",
    "\n",
    "# peak_sets[[3]] = import(\"/users/surag/kundajelab/scATAC-reprog/resources/GSE101074/primed.specific.atac.hg38.bed\")\n",
    "# peak_sets[[3]] = peak_sets[[3]][seq(1,length(peak_sets[[3]]),5)]"
   ]
  },
  {
   "cell_type": "code",
   "execution_count": 10,
   "metadata": {},
   "outputs": [
    {
     "data": {
      "text/html": [
       "<ol>\n",
       "\t<li>1561</li>\n",
       "\t<li>2058</li>\n",
       "\t<li>1209</li>\n",
       "\t<li>940</li>\n",
       "\t<li>1102</li>\n",
       "\t<li>345</li>\n",
       "</ol>\n"
      ],
      "text/latex": [
       "\\begin{enumerate}\n",
       "\\item 1561\n",
       "\\item 2058\n",
       "\\item 1209\n",
       "\\item 940\n",
       "\\item 1102\n",
       "\\item 345\n",
       "\\end{enumerate}\n"
      ],
      "text/markdown": [
       "1. 1561\n",
       "2. 2058\n",
       "3. 1209\n",
       "4. 940\n",
       "5. 1102\n",
       "6. 345\n",
       "\n",
       "\n"
      ],
      "text/plain": [
       "[[1]]\n",
       "[1] 1561\n",
       "\n",
       "[[2]]\n",
       "[1] 2058\n",
       "\n",
       "[[3]]\n",
       "[1] 1209\n",
       "\n",
       "[[4]]\n",
       "[1] 940\n",
       "\n",
       "[[5]]\n",
       "[1] 1102\n",
       "\n",
       "[[6]]\n",
       "[1] 345\n"
      ]
     },
     "metadata": {},
     "output_type": "display_data"
    },
    {
     "data": {
      "text/html": [
       "7215"
      ],
      "text/latex": [
       "7215"
      ],
      "text/markdown": [
       "7215"
      ],
      "text/plain": [
       "[1] 7215"
      ]
     },
     "metadata": {},
     "output_type": "display_data"
    }
   ],
   "source": [
    "peak_set_lens = list()\n",
    "\n",
    "for (i in seq(length(peak_sets))) {\n",
    "    peak_set_lens[[i]] = length(peak_sets[[i]])\n",
    "}\n",
    "\n",
    "peak_set_lens\n",
    "\n",
    "sum(unlist(peak_set_lens))"
   ]
  },
  {
   "cell_type": "markdown",
   "metadata": {},
   "source": [
    "### Fetch Data from BigWigs"
   ]
  },
  {
   "cell_type": "code",
   "execution_count": 11,
   "metadata": {},
   "outputs": [],
   "source": [
    "get_matrix_from_bigwig <- function(bigwig_path, peak_set) {\n",
    "    # ensure peak set has fixed width\n",
    "    stopifnot(length(unique(width(peak_set)))==1)\n",
    "    \n",
    "    as.matrix(import(bigwig_path, \n",
    "      which=peak_set, as=\"NumericList\"))\n",
    "}"
   ]
  },
  {
   "cell_type": "code",
   "execution_count": 12,
   "metadata": {},
   "outputs": [],
   "source": [
    "matrices = list()"
   ]
  },
  {
   "cell_type": "code",
   "execution_count": 14,
   "metadata": {},
   "outputs": [],
   "source": [
    "for (i in seq(length(peak_sets))) {\n",
    "    matrices[[i]] = list()\n",
    "    \n",
    "    for (j in seq(nrow(vortex_config))) {\n",
    "        matrices[[i]][[j]] = get_matrix_from_bigwig(vortex_config[j, \"path\"], \n",
    "                                                    resize(peak_sets[[i]], width=vortex_config[j, \"width\"], fix='center'))\n",
    "    }\n",
    "}"
   ]
  },
  {
   "cell_type": "markdown",
   "metadata": {},
   "source": [
    "## Compute Orders for Each Peak Set and Reorder"
   ]
  },
  {
   "cell_type": "code",
   "execution_count": 15,
   "metadata": {},
   "outputs": [],
   "source": [
    "# samples which will be used to decide peak order (based on mean signal across all)\n",
    "ROW_ORDER_TYPE = \"ATAC\""
   ]
  },
  {
   "cell_type": "code",
   "execution_count": 16,
   "metadata": {},
   "outputs": [],
   "source": [
    "peak_set_orders = list()"
   ]
  },
  {
   "cell_type": "code",
   "execution_count": 17,
   "metadata": {},
   "outputs": [],
   "source": [
    "for (i in seq(length(peak_sets))) {\n",
    "    tmp_matrix = do.call(cbind, matrices[[i]][vortex_config$type %in% ROW_ORDER_TYPE])\n",
    "    peak_set_orders[[i]] = order(rowSums(tmp_matrix))\n",
    "}"
   ]
  },
  {
   "cell_type": "code",
   "execution_count": 18,
   "metadata": {},
   "outputs": [],
   "source": [
    "rm(tmp_matrix)"
   ]
  },
  {
   "cell_type": "code",
   "execution_count": 19,
   "metadata": {},
   "outputs": [
    {
     "data": {
      "text/html": [
       "<style>\n",
       ".list-inline {list-style: none; margin:0; padding: 0}\n",
       ".list-inline>li {display: inline-block}\n",
       ".list-inline>li:not(:last-child)::after {content: \"\\00b7\"; padding: 0 .5ex}\n",
       "</style>\n",
       "<ol class=list-inline><li>701</li><li>1002</li><li>60</li><li>910</li><li>1122</li><li>1508</li><li>638</li><li>946</li><li>599</li><li>855</li></ol>\n"
      ],
      "text/latex": [
       "\\begin{enumerate*}\n",
       "\\item 701\n",
       "\\item 1002\n",
       "\\item 60\n",
       "\\item 910\n",
       "\\item 1122\n",
       "\\item 1508\n",
       "\\item 638\n",
       "\\item 946\n",
       "\\item 599\n",
       "\\item 855\n",
       "\\end{enumerate*}\n"
      ],
      "text/markdown": [
       "1. 701\n",
       "2. 1002\n",
       "3. 60\n",
       "4. 910\n",
       "5. 1122\n",
       "6. 1508\n",
       "7. 638\n",
       "8. 946\n",
       "9. 599\n",
       "10. 855\n",
       "\n",
       "\n"
      ],
      "text/plain": [
       " [1]  701 1002   60  910 1122 1508  638  946  599  855"
      ]
     },
     "metadata": {},
     "output_type": "display_data"
    }
   ],
   "source": [
    "peak_set_orders[[1]][1:10]"
   ]
  },
  {
   "cell_type": "code",
   "execution_count": 20,
   "metadata": {},
   "outputs": [],
   "source": [
    "for (i in seq(length(peak_sets))) {\n",
    "    for (j in seq(nrow(vortex_config))) {\n",
    "        matrices[[i]][[j]] = matrices[[i]][[j]][peak_set_orders[[i]], ]\n",
    "    }\n",
    "}"
   ]
  },
  {
   "cell_type": "markdown",
   "metadata": {},
   "source": [
    "## Smooth Samples"
   ]
  },
  {
   "cell_type": "code",
   "execution_count": 21,
   "metadata": {},
   "outputs": [],
   "source": [
    "y_lims = list()"
   ]
  },
  {
   "cell_type": "code",
   "execution_count": 22,
   "metadata": {},
   "outputs": [],
   "source": [
    "# find limits for clipping\n",
    "for (k in seq(length(unique(vortex_config$type)))) {\n",
    "    type = unique(vortex_config$type)[k]\n",
    "    \n",
    "    tmp_matrices = list()\n",
    "    \n",
    "    # collapse across time points\n",
    "    for (i in seq(length(peak_sets))) {\n",
    "        tmp_matrices[[i]] = do.call(cbind, matrices[[i]][vortex_config$type %in% type])\n",
    "    }\n",
    "    \n",
    "    # collapse across peak sets\n",
    "    tmp_matrices = do.call(rbind, tmp_matrices)    \n",
    "    \n",
    "    y_lims[[type]] = as.numeric(quantile(tmp_matrices, 0.99))\n",
    "    \n",
    "}"
   ]
  },
  {
   "cell_type": "code",
   "execution_count": 23,
   "metadata": {},
   "outputs": [],
   "source": [
    "rm(tmp_matrices)"
   ]
  },
  {
   "cell_type": "code",
   "execution_count": 24,
   "metadata": {},
   "outputs": [
    {
     "data": {
      "text/html": [
       "<ol>\n",
       "\t<li>11.6444301605225</li>\n",
       "</ol>\n"
      ],
      "text/latex": [
       "\\begin{enumerate}\n",
       "\\item 11.6444301605225\n",
       "\\end{enumerate}\n"
      ],
      "text/markdown": [
       "1. 11.6444301605225\n",
       "\n",
       "\n"
      ],
      "text/plain": [
       "[[1]]\n",
       "[1] 11.64443\n"
      ]
     },
     "metadata": {},
     "output_type": "display_data"
    }
   ],
   "source": [
    "y_lims"
   ]
  },
  {
   "cell_type": "code",
   "execution_count": 25,
   "metadata": {},
   "outputs": [],
   "source": [
    "# clip matrices to y_lim\n",
    "clipped_matrices = list()\n",
    "\n",
    "for (i in seq(length(peak_sets))) {\n",
    "    clipped_matrices[[i]] = list()\n",
    "    \n",
    "    for (j in seq(nrow(vortex_config))) {\n",
    "        clipped_matrices[[i]][[j]] = matrices[[i]][[j]]\n",
    "        clipped_matrices[[i]][[j]][clipped_matrices[[i]][[j]] > y_lims[[vortex_config[j, \"type\"]]]] = y_lims[[vortex_config[j, \"type\"]]]\n",
    "    }\n",
    "}"
   ]
  },
  {
   "cell_type": "code",
   "execution_count": 32,
   "metadata": {},
   "outputs": [],
   "source": [
    "# collapse and trim if required\n",
    "\n",
    "TRIM_TO = 1000\n",
    "\n",
    "avg_fcs_vectors = list()\n",
    "\n",
    "for (i in seq(length(peak_sets))) {\n",
    "    avg_fcs_vectors[[i]] = list()\n",
    "    \n",
    "    for (j in seq(nrow(vortex_config))) {\n",
    "        avg_fcs_vectors[[i]][[j]] = colMeans(clipped_matrices[[i]][[j]])\n",
    "        avg_fcs_vectors[[i]][[j]] = avg_fcs_vectors[[i]][[j]][as.integer((length(avg_fcs_vectors[[i]][[j]]) - TRIM_TO)/2):as.integer((length(avg_fcs_vectors[[i]][[j]]) + TRIM_TO)/2)]\n",
    "    }\n",
    "}"
   ]
  },
  {
   "cell_type": "markdown",
   "metadata": {},
   "source": [
    "## Decide Limits and Colour Schemes"
   ]
  },
  {
   "cell_type": "code",
   "execution_count": 55,
   "metadata": {},
   "outputs": [],
   "source": [
    "ymax_lims = list()\n",
    "# decide limits for each type\n",
    "for (k in seq(length(unique(vortex_config$type)))) {\n",
    "    type = unique(vortex_config$type)[k]\n",
    "    \n",
    "    tmp_vecs = list()\n",
    "    \n",
    "    # collapse across time points\n",
    "    for (i in seq(length(peak_sets))) {\n",
    "        tmp_vecs[[i]] = do.call(cbind, avg_fcs_vectors[[i]][vortex_config$type %in% type])\n",
    "    }\n",
    "    \n",
    "    # collapse across peak sets\n",
    "    tmp_vecs = do.call(rbind, tmp_vecs)\n",
    "    \n",
    "    high = max(tmp_vecs)\n",
    "    \n",
    "    ymax_lims[[k]] = high + 1\n",
    "    \n",
    "}"
   ]
  },
  {
   "cell_type": "code",
   "execution_count": 56,
   "metadata": {},
   "outputs": [
    {
     "data": {
      "text/html": [
       "<ol>\n",
       "\t<li>9.05131594543653</li>\n",
       "</ol>\n"
      ],
      "text/latex": [
       "\\begin{enumerate}\n",
       "\\item 9.05131594543653\n",
       "\\end{enumerate}\n"
      ],
      "text/markdown": [
       "1. 9.05131594543653\n",
       "\n",
       "\n"
      ],
      "text/plain": [
       "[[1]]\n",
       "[1] 9.051316\n"
      ]
     },
     "metadata": {},
     "output_type": "display_data"
    }
   ],
   "source": [
    "ymax_lims"
   ]
  },
  {
   "cell_type": "code",
   "execution_count": null,
   "metadata": {},
   "outputs": [],
   "source": []
  },
  {
   "cell_type": "code",
   "execution_count": 157,
   "metadata": {},
   "outputs": [],
   "source": [
    "plot_fcs <- function(vec, ymax_lim,\n",
    "                       title=NULL, clust_name=NULL, xticks=NULL, yticks=NULL) {\n",
    "    # ticks is a number and if not null, will make ticks at\n",
    "    # left and right end with +ticks kb and -ticks kb\n",
    "    \n",
    "    df = data.frame(y=vec,\n",
    "                   x=seq(length(vec)))\n",
    "    \n",
    "    plot <- ggplot(df, aes(x=x, y= y)) +\n",
    "#     geom_tile_rast() + # kinda slow, geom_raster is faster and smaller files\n",
    "#     geom_tile() +\n",
    "    geom_line() +\n",
    "    coord_cartesian(ylim=c(0,ymax_lim)) +\n",
    "    scale_y_continuous(expand = c(0, 0)) + # this removes whitespace between plot and border\n",
    "    theme_void() \n",
    "    \n",
    "    if (!is.null(title)) {\n",
    "        plot = plot + ggtitle(title) +\n",
    "        theme(plot.title = element_text(hjust = 0.5))\n",
    "    }\n",
    "    \n",
    "    if (!is.null(clust_name)) {\n",
    "        plot = plot + ylab(sprintf(\"%s \", clust_name)) + \n",
    "             theme(axis.title.y = element_text())\n",
    "    }\n",
    "    \n",
    "    if (!is.null(xticks)) {\n",
    "        plot = plot + scale_x_continuous(breaks = c(1, ncol(bwmatrix)/2, ncol(bwmatrix)), \n",
    "                                         labels = c(sprintf(\"-%dkb\", ticks), \"\",\n",
    "                                                    sprintf(\"+%dkb\", ticks)),\n",
    "                                         expand = c(0,0)) # this removes whitespace between plot and border\n",
    "        plot = plot + theme(axis.ticks.length.x=unit(.25, \"cm\"),\n",
    "                           axis.text.x = element_text(size=10))\n",
    "    }\n",
    "                                         \n",
    "    else {\n",
    "        plot = plot + \n",
    "               scale_x_continuous(expand=c(0,0)) + # this removes whitespace between plot and border\n",
    "               theme(axis.ticks.x=element_blank(),\n",
    "                    axis.text.x = element_blank(),) \n",
    "    }\n",
    "    \n",
    "    if (!is.null(yticks)) {\n",
    "        plot = plot + theme(axis.ticks.length.y=unit(.25, \"cm\"),\n",
    "                            axis.ticks.y = element_line(colour = \"black\", size = .5),\n",
    "                           axis.text.y = element_text(size=10))\n",
    "    }\n",
    "    \n",
    "    else {\n",
    "        plot = plot + theme(axis.ticks.y=element_blank())\n",
    "    }\n",
    "    \n",
    "    plot = plot + theme(legend.position = \"none\",             \n",
    "            axis.title.x = element_blank(),\n",
    "#             axis.text.y=element_blank(),\n",
    "            axis.line=element_blank(),\n",
    "            plot.margin = unit(c(0,2,0,2), \"pt\"), # right tick label was clipping\n",
    "          panel.border = element_rect(colour = \"black\", fill=NA, size=0.5))\n",
    "    \n",
    "    plot\n",
    "}"
   ]
  },
  {
   "cell_type": "code",
   "execution_count": 158,
   "metadata": {},
   "outputs": [],
   "source": [
    "all_plots = list()\n",
    "row_widths = list()"
   ]
  },
  {
   "cell_type": "code",
   "execution_count": 159,
   "metadata": {},
   "outputs": [],
   "source": [
    "X_SPACER_WIDTH = 0\n",
    "X_NON_SPACER_WIDTH = -0.15\n",
    "\n",
    "for (i in seq(length(peak_sets))) {\n",
    "    tot_plots = 1\n",
    "    all_plots[[i]] = list()\n",
    "    \n",
    "    for (j in seq(nrow(vortex_config))) {\n",
    "        if (j>1) {\n",
    "            all_plots[[i]][[tot_plots]] = plot_spacer() # spacing between every consecutive plot\n",
    "            \n",
    "            if (vortex_config[j,\"group\"]!=vortex_config[j-1,\"group\"]) {\n",
    "            row_widths[[tot_plots]] = X_SPACER_WIDTH # spacing between groups\n",
    "            }\n",
    "            else {\n",
    "                row_widths[[tot_plots]] = X_NON_SPACER_WIDTH # spacing within groups\n",
    "            }\n",
    "            \n",
    "            tot_plots = tot_plots + 1\n",
    "        }\n",
    "        \n",
    "        title = NULL\n",
    "        ticks = NULL\n",
    "        yticks = NULL\n",
    "        clust_name = NULL\n",
    "        if (i==1) {\n",
    "            title = vortex_config[j, \"short_name\"]\n",
    "        }\n",
    "        \n",
    "        if (j==1) {\n",
    "            clust_name = peak_set_config$title[i]\n",
    "        }\n",
    "        \n",
    "        if ((i==1)&&(j==1)) {\n",
    "            yticks = T\n",
    "        }\n",
    "        # TODO: ticks mess margins\n",
    "#         else if (i==length(peak_sets)) {\n",
    "#             ticks = vortex_config[j, \"width\"]/2000\n",
    "#         }\n",
    "        \n",
    "        all_plots[[i]][[tot_plots]] = plot_fcs(avg_fcs_vectors[[i]][[j]],\n",
    "                                         ymax_lims[[as.numeric(vortex_config[j, \"type\"])]],\n",
    "                                                 title=title,\n",
    "                                                 clust_name=clust_name,\n",
    "                                                 xticks=ticks,\n",
    "                                              yticks=yticks)\n",
    "        row_widths[[tot_plots]] = 1\n",
    "        tot_plots = tot_plots + 1\n",
    "    }\n",
    "}"
   ]
  },
  {
   "cell_type": "code",
   "execution_count": null,
   "metadata": {},
   "outputs": [],
   "source": []
  },
  {
   "cell_type": "code",
   "execution_count": 160,
   "metadata": {},
   "outputs": [],
   "source": [
    "Y_SPACER_WIDTH = -0.2\n",
    "Y_NON_SPACER_WIDTH = -0.3\n",
    "\n",
    "rowwise_plots = list()\n",
    "col_heights = list()\n",
    "tot_plots = 1\n",
    "\n",
    "for (i in seq(length(peak_sets))) {\n",
    "    if (i>1) {\n",
    "        rowwise_plots[[tot_plots]] = plot_spacer() # spacing between groups\n",
    "        \n",
    "        if (peak_set_config[i,\"group\"]!=peak_set_config[i-1,\"group\"]) {\n",
    "            col_heights[[tot_plots]] = Y_SPACER_WIDTH*mean(unlist(peak_set_lens)) # spacing between groups\n",
    "        }\n",
    "        else {\n",
    "            col_heights[[tot_plots]] = Y_NON_SPACER_WIDTH*mean(unlist(peak_set_lens)) # spacing within groups\n",
    "        }\n",
    "        \n",
    "        tot_plots = tot_plots + 1\n",
    "    }\n",
    "    \n",
    "    rowwise_plots[[tot_plots]] =  wrap_plots(all_plots[[i]], nrow = 1, widths = row_widths)\n",
    "    col_heights[[tot_plots]] = peak_set_lens[[1]]\n",
    "    \n",
    "    tot_plots = tot_plots + 1\n",
    "}"
   ]
  },
  {
   "cell_type": "code",
   "execution_count": 161,
   "metadata": {},
   "outputs": [
    {
     "data": {
      "text/html": [
       "11"
      ],
      "text/latex": [
       "11"
      ],
      "text/markdown": [
       "11"
      ],
      "text/plain": [
       "[1] 11"
      ]
     },
     "metadata": {},
     "output_type": "display_data"
    },
    {
     "data": {
      "text/html": [
       "11"
      ],
      "text/latex": [
       "11"
      ],
      "text/markdown": [
       "11"
      ],
      "text/plain": [
       "[1] 11"
      ]
     },
     "metadata": {},
     "output_type": "display_data"
    }
   ],
   "source": [
    "length(row_widths)\n",
    "length(col_heights)"
   ]
  },
  {
   "cell_type": "code",
   "execution_count": 162,
   "metadata": {},
   "outputs": [
    {
     "data": {
      "text/html": [
       "11"
      ],
      "text/latex": [
       "11"
      ],
      "text/markdown": [
       "11"
      ],
      "text/plain": [
       "[1] 11"
      ]
     },
     "metadata": {},
     "output_type": "display_data"
    },
    {
     "data": {
      "text/html": [
       "11"
      ],
      "text/latex": [
       "11"
      ],
      "text/markdown": [
       "11"
      ],
      "text/plain": [
       "[1] 11"
      ]
     },
     "metadata": {},
     "output_type": "display_data"
    }
   ],
   "source": [
    "length(all_plots[[1]])\n",
    "length(rowwise_plots)\n",
    "# length(all_plots[[2]])"
   ]
  },
  {
   "cell_type": "markdown",
   "metadata": {},
   "source": [
    "### Assemble Integration"
   ]
  },
  {
   "cell_type": "code",
   "execution_count": null,
   "metadata": {},
   "outputs": [],
   "source": []
  },
  {
   "cell_type": "code",
   "execution_count": 163,
   "metadata": {},
   "outputs": [
    {
     "data": {
      "image/png": "[encoded data removed]",
      "text/plain": [
       "plot without title"
      ]
     },
     "metadata": {
      "image/png": {
       "height": 180,
       "width": 120
      },
      "text/plain": {
       "height": 180,
       "width": 120
      }
     },
     "output_type": "display_data"
    }
   ],
   "source": [
    "options(repr.plot.width = 2, repr.plot.height = 3)\n",
    "\n",
    "wrap_plots(wrap_plots(all_plots[[1]][[1]],all_plots[[1]][[5]],nrow=1),\n",
    "           plot_spacer(),\n",
    "           wrap_plots(all_plots[[2]][[1]],all_plots[[2]][[3]],nrow=1),\n",
    "           plot_spacer(),\n",
    "           wrap_plots(all_plots[[4]][[1]],all_plots[[4]][[3]],nrow=1)\n",
    "           , ncol=1, heights=c(1,-0.15,1,-0.15,1)) "
   ]
  },
  {
   "cell_type": "code",
   "execution_count": 164,
   "metadata": {},
   "outputs": [],
   "source": [
    "top_annotate_plot = ggplot() + \n",
    "                theme_void() +\n",
    "                geom_line() +\n",
    "                coord_cartesian(xlim = c(0.5,9.5), # this let's use 0-10 on x axis to place items\n",
    "                               ylim=c(0,10)) + # this let's use 0-10 on y axis to place items\n",
    "                annotate(\"segment\", x = 0, xend = 1.7, y = 2, yend = 2, size=1, colour = \"black\") +\n",
    "                annotate(\"text\", x = .85, y = 5, size=5, label = \"Fibroblasts\") +\n",
    "\n",
    "                annotate(\"segment\", x = 1.8, xend = 5.0, y = 2, yend = 2, size=1, colour = \"black\") +\n",
    "                annotate(\"text\", x = 3.4, y = 5, size=5, label = \"D1\") +\n",
    "\n",
    "                annotate(\"segment\", x = 5.1, xend = 8.3, y = 2, yend = 2, size=1, colour = \"black\") +\n",
    "                annotate(\"text\", x = 6.7, y = 5, size=5, label = \"D2\") +\n",
    "\n",
    "                annotate(\"segment\", x = 8.4, xend = 10, y = 2, yend = 2, size=1, colour = \"black\")  +\n",
    "                annotate(\"text\", x = 9.2, y = 5, size=5, label = \"iPSC\") \n",
    "#                 annotate(\"text\", x = 2, y = 25, label = \"Some text\")"
   ]
  },
  {
   "cell_type": "code",
   "execution_count": 165,
   "metadata": {},
   "outputs": [
    {
     "data": {
      "image/png": "[encoded data removed]",
      "text/plain": [
       "plot without title"
      ]
     },
     "metadata": {
      "image/png": {
       "height": 120,
       "width": 600
      },
      "text/plain": {
       "height": 120,
       "width": 600
      }
     },
     "output_type": "display_data"
    }
   ],
   "source": [
    "options(repr.plot.width = 10, repr.plot.height = 2)\n",
    "\n",
    "wrap_plots(top_annotate_plot,\n",
    "           rowwise_plots[[1]],\n",
    "           heights=c(1,1))"
   ]
  },
  {
   "cell_type": "code",
   "execution_count": 166,
   "metadata": {},
   "outputs": [],
   "source": [
    "# left_annotate_plot = ggplot() + \n",
    "#                 theme_void() +\n",
    "#                 geom_line() +\n",
    "#                 coord_cartesian(xlim = c(0.5,9.5), # this let's use 0-10 on x axis to place items\n",
    "#                                ylim=c(0.5,9.5)) + # this let's use 0-10 on y axis to place items\n",
    "#                 annotate(\"segment\", x = 8, xend = 8, y = 0, yend = 2.7, size=1, colour = \"black\") +\n",
    "#                 annotate(\"text\", x = 5, y =1.35, size=5, angle=90, label = \"Close Open\") +\n",
    "\n",
    "#                 annotate(\"segment\", x = 8, xend = 8, y = 2.8, yend = 6.6, size=1, colour = \"black\") +\n",
    "#                 annotate(\"text\", x = 5, y = 4.7, size=5, angle=90, label = \"Transient\") +\n",
    "\n",
    "#                 annotate(\"segment\", x = 8, xend = 8, y = 6.7, yend = 10, size=1, colour = \"black\")  +\n",
    "#                 annotate(\"text\", x = 5, y = 8.35, size=5, angle=90, label = \"Open Close\") \n",
    "# #                 annotate(\"text\", x = 2, y = 25, label = \"Some text\")"
   ]
  },
  {
   "cell_type": "code",
   "execution_count": 167,
   "metadata": {},
   "outputs": [],
   "source": [
    "\n",
    "# options(repr.plot.width = 2, repr.plot.height = 10.5)\n",
    "\n",
    "\n",
    "# first_col = list()\n",
    "# for (j in seq(length(rowwise_plots))) {\n",
    "#    if (\"spacer\" %in% class(rowwise_plots[[j]])) {\n",
    "#       first_col[[j]] = plot_spacer()\n",
    "#    }\n",
    "#    else {\n",
    "#        first_col[[j]] = rowwise_plots[[j]][[1]]    \n",
    "#     }\n",
    "# }\n",
    "# first_col_plot = wrap_plots(first_col, \n",
    "#                            heights=col_heights)\n",
    "\n",
    "# wrap_plots(left_annotate_plot,\n",
    "#            first_col_plot,\n",
    "#            widths=c(1,1))"
   ]
  },
  {
   "cell_type": "code",
   "execution_count": 168,
   "metadata": {},
   "outputs": [],
   "source": [
    "# options(repr.plot.width = 13, repr.plot.height = 9)\n",
    "# vortex_grid = wrap_plots(\n",
    "#     rowwise_plots,\n",
    "#     ncol=1,\n",
    "#     heights = col_heights)\n",
    "\n",
    "# vortex_grid_w_left_anno = wrap_plots(left_annotate_plot, \n",
    "#                                      vortex_grid,\n",
    "#                                     widths=c(1,12))\n",
    "\n",
    "# top_annotate_plot_w_space = wrap_plots(plot_spacer(),\n",
    "#                                        top_annotate_plot,\n",
    "#                                       widths=c(1,9)) # adjust to account for cluster numbers text\n",
    "\n",
    "# complete_plot = wrap_plots(top_annotate_plot_w_space,\n",
    "#                                         vortex_grid_w_left_anno,\n",
    "#                                         legend_plot,\n",
    "#                                         heights=c(0.5,7.5, 1))\n",
    "# complete_plot"
   ]
  },
  {
   "cell_type": "code",
   "execution_count": 174,
   "metadata": {},
   "outputs": [
    {
     "data": {
      "image/png": "[encoded data removed]",
      "text/plain": [
       "plot without title"
      ]
     },
     "metadata": {
      "image/png": {
       "height": 420,
       "width": 420
      },
      "text/plain": {
       "height": 420,
       "width": 420
      }
     },
     "output_type": "display_data"
    }
   ],
   "source": [
    "options(repr.plot.width = 7, repr.plot.height = 7)\n",
    "vortex_grid = wrap_plots(\n",
    "    rowwise_plots,\n",
    "    ncol=1,\n",
    "    heights = col_heights)\n",
    "\n",
    "complete_plot = wrap_plots(top_annotate_plot,\n",
    "                           vortex_grid,\n",
    "                           heights=c(1, 8))\n",
    "complete_plot"
   ]
  },
  {
   "cell_type": "code",
   "execution_count": null,
   "metadata": {},
   "outputs": [],
   "source": []
  },
  {
   "cell_type": "code",
   "execution_count": null,
   "metadata": {},
   "outputs": [],
   "source": []
  },
  {
   "cell_type": "code",
   "execution_count": 172,
   "metadata": {},
   "outputs": [],
   "source": [
    "ggsave(sprintf(\"./subfigs/%s_pileup.pdf\", format(Sys.Date(), \"%Y%m%d\")), \n",
    "       complete_plot, width=7,height=7)"
   ]
  },
  {
   "cell_type": "code",
   "execution_count": null,
   "metadata": {},
   "outputs": [],
   "source": []
  },
  {
   "cell_type": "code",
   "execution_count": null,
   "metadata": {},
   "outputs": [],
   "source": []
  },
  {
   "cell_type": "code",
   "execution_count": null,
   "metadata": {},
   "outputs": [],
   "source": [
    "saveRDS(complete_plot, file=sprintf(\"./subfigs/%s_vortex.rds\",\n",
    "                                format(Sys.Date(), \"%Y%m%d\")))"
   ]
  },
  {
   "cell_type": "code",
   "execution_count": 245,
   "metadata": {},
   "outputs": [
    {
     "data": {
      "image/png": "[encoded data removed]",
      "text/plain": [
       "plot without title"
      ]
     },
     "metadata": {
      "image/png": {
       "height": 300,
       "width": 120
      },
      "text/plain": {
       "height": 300,
       "width": 120
      }
     },
     "output_type": "display_data"
    }
   ],
   "source": [
    "options(repr.plot.width = 2, repr.plot.height = 5)\n",
    "plot_vortex(smoothed_matrices[[1]][[1]], \n",
    "            COLORSCALES[[as.numeric(vortex_config[1, \"type\"])]], \n",
    "            title=\"HELLO\", ticks=1)"
   ]
  },
  {
   "cell_type": "code",
   "execution_count": null,
   "metadata": {},
   "outputs": [],
   "source": []
  }
 ],
 "metadata": {
  "kernelspec": {
   "display_name": "R",
   "language": "R",
   "name": "ir"
  },
  "language_info": {
   "codemirror_mode": "r",
   "file_extension": ".r",
   "mimetype": "text/x-r-source",
   "name": "R",
   "pygments_lexer": "r",
   "version": "3.6.3"
  }
 },
 "nbformat": 4,
 "nbformat_minor": 4
}
