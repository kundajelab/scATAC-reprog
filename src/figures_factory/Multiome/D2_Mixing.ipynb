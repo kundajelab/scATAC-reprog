{
 "cells": [
  {
   "cell_type": "markdown",
   "metadata": {},
   "source": [
    "# D2 Mixing\n",
    "\n",
    "Check if Harmony corrected embeddings of scATAC-seq and Multiome snATAC-seq are well mixed."
   ]
  },
  {
   "cell_type": "code",
   "execution_count": 76,
   "metadata": {},
   "outputs": [],
   "source": [
    "library(RANN)\n",
    "library(ggplot2)\n",
    "library(patchwork)"
   ]
  },
  {
   "cell_type": "code",
   "execution_count": null,
   "metadata": {},
   "outputs": [],
   "source": []
  },
  {
   "cell_type": "code",
   "execution_count": 1,
   "metadata": {},
   "outputs": [
    {
     "data": {
      "text/html": [
       "<style>\n",
       ".list-inline {list-style: none; margin:0; padding: 0}\n",
       ".list-inline>li {display: inline-block}\n",
       ".list-inline>li:not(:last-child)::after {content: \"\\00b7\"; padding: 0 .5ex}\n",
       "</style>\n",
       "<ol class=list-inline><li>13525</li><li>12</li></ol>\n"
      ],
      "text/latex": [
       "\\begin{enumerate*}\n",
       "\\item 13525\n",
       "\\item 12\n",
       "\\end{enumerate*}\n"
      ],
      "text/markdown": [
       "1. 13525\n",
       "2. 12\n",
       "\n",
       "\n"
      ],
      "text/plain": [
       "[1] 13525    12"
      ]
     },
     "metadata": {},
     "output_type": "display_data"
    },
    {
     "data": {
      "text/html": [
       "<table>\n",
       "<caption>A data.frame: 5 × 12</caption>\n",
       "<thead>\n",
       "\t<tr><th></th><th scope=col>barcode</th><th scope=col>TN</th><th scope=col>UM</th><th scope=col>PP</th><th scope=col>UQ</th><th scope=col>CM</th><th scope=col>cluster</th><th scope=col>umap1</th><th scope=col>umap2</th><th scope=col>sample</th><th scope=col>cells</th><th scope=col>transfered_cluster</th></tr>\n",
       "\t<tr><th></th><th scope=col>&lt;chr&gt;</th><th scope=col>&lt;int&gt;</th><th scope=col>&lt;int&gt;</th><th scope=col>&lt;int&gt;</th><th scope=col>&lt;int&gt;</th><th scope=col>&lt;int&gt;</th><th scope=col>&lt;int&gt;</th><th scope=col>&lt;dbl&gt;</th><th scope=col>&lt;dbl&gt;</th><th scope=col>&lt;chr&gt;</th><th scope=col>&lt;chr&gt;</th><th scope=col>&lt;int&gt;</th></tr>\n",
       "</thead>\n",
       "<tbody>\n",
       "\t<tr><th scope=row>D1M_AAAAAAAAAAACATGCTATTAGCC</th><td>AAAAAAAAAAACATGCTATTAGCC</td><td> 6736</td><td> 6736</td><td> 6736</td><td> 6729</td><td> 373</td><td>3</td><td>-0.4031222</td><td>-3.454888</td><td>D1M</td><td>D1M_AAAAAAAAAAACATGCTATTAGCC</td><td> 3</td></tr>\n",
       "\t<tr><th scope=row>D1M_AAAAAAAAAAACATGCTCACCCTC</th><td>AAAAAAAAAAACATGCTCACCCTC</td><td>28369</td><td>28369</td><td>28369</td><td>28339</td><td>2447</td><td>5</td><td> 2.6643078</td><td>-3.955240</td><td>D1M</td><td>D1M_AAAAAAAAAAACATGCTCACCCTC</td><td> 3</td></tr>\n",
       "\t<tr><th scope=row>D1M_AAAAAAAAAAACATGCTTGAGAAC</th><td>AAAAAAAAAAACATGCTTGAGAAC</td><td>28635</td><td>28635</td><td>28635</td><td>28609</td><td>2201</td><td>1</td><td>-0.2071755</td><td> 2.688192</td><td>D1M</td><td>D1M_AAAAAAAAAAACATGCTTGAGAAC</td><td>15</td></tr>\n",
       "\t<tr><th scope=row>D1M_AAAAAAAAAAACCATGAACCTTGT</th><td>AAAAAAAAAAACCATGAACCTTGT</td><td>33869</td><td>33869</td><td>33869</td><td>33838</td><td>3018</td><td>5</td><td> 3.1269215</td><td>-4.609105</td><td>D1M</td><td>D1M_AAAAAAAAAAACCATGAACCTTGT</td><td> 3</td></tr>\n",
       "\t<tr><th scope=row>D1M_AAAAAAAAAAACCATGAGCTTAAA</th><td>AAAAAAAAAAACCATGAGCTTAAA</td><td>18885</td><td>18885</td><td>18885</td><td>18867</td><td>1514</td><td>1</td><td>-0.1988264</td><td> 1.998739</td><td>D1M</td><td>D1M_AAAAAAAAAAACCATGAGCTTAAA</td><td>15</td></tr>\n",
       "</tbody>\n",
       "</table>\n"
      ],
      "text/latex": [
       "A data.frame: 5 × 12\n",
       "\\begin{tabular}{r|llllllllllll}\n",
       "  & barcode & TN & UM & PP & UQ & CM & cluster & umap1 & umap2 & sample & cells & transfered\\_cluster\\\\\n",
       "  & <chr> & <int> & <int> & <int> & <int> & <int> & <int> & <dbl> & <dbl> & <chr> & <chr> & <int>\\\\\n",
       "\\hline\n",
       "\tD1M\\_AAAAAAAAAAACATGCTATTAGCC & AAAAAAAAAAACATGCTATTAGCC &  6736 &  6736 &  6736 &  6729 &  373 & 3 & -0.4031222 & -3.454888 & D1M & D1M\\_AAAAAAAAAAACATGCTATTAGCC &  3\\\\\n",
       "\tD1M\\_AAAAAAAAAAACATGCTCACCCTC & AAAAAAAAAAACATGCTCACCCTC & 28369 & 28369 & 28369 & 28339 & 2447 & 5 &  2.6643078 & -3.955240 & D1M & D1M\\_AAAAAAAAAAACATGCTCACCCTC &  3\\\\\n",
       "\tD1M\\_AAAAAAAAAAACATGCTTGAGAAC & AAAAAAAAAAACATGCTTGAGAAC & 28635 & 28635 & 28635 & 28609 & 2201 & 1 & -0.2071755 &  2.688192 & D1M & D1M\\_AAAAAAAAAAACATGCTTGAGAAC & 15\\\\\n",
       "\tD1M\\_AAAAAAAAAAACCATGAACCTTGT & AAAAAAAAAAACCATGAACCTTGT & 33869 & 33869 & 33869 & 33838 & 3018 & 5 &  3.1269215 & -4.609105 & D1M & D1M\\_AAAAAAAAAAACCATGAACCTTGT &  3\\\\\n",
       "\tD1M\\_AAAAAAAAAAACCATGAGCTTAAA & AAAAAAAAAAACCATGAGCTTAAA & 18885 & 18885 & 18885 & 18867 & 1514 & 1 & -0.1988264 &  1.998739 & D1M & D1M\\_AAAAAAAAAAACCATGAGCTTAAA & 15\\\\\n",
       "\\end{tabular}\n"
      ],
      "text/markdown": [
       "\n",
       "A data.frame: 5 × 12\n",
       "\n",
       "| <!--/--> | barcode &lt;chr&gt; | TN &lt;int&gt; | UM &lt;int&gt; | PP &lt;int&gt; | UQ &lt;int&gt; | CM &lt;int&gt; | cluster &lt;int&gt; | umap1 &lt;dbl&gt; | umap2 &lt;dbl&gt; | sample &lt;chr&gt; | cells &lt;chr&gt; | transfered_cluster &lt;int&gt; |\n",
       "|---|---|---|---|---|---|---|---|---|---|---|---|---|\n",
       "| D1M_AAAAAAAAAAACATGCTATTAGCC | AAAAAAAAAAACATGCTATTAGCC |  6736 |  6736 |  6736 |  6729 |  373 | 3 | -0.4031222 | -3.454888 | D1M | D1M_AAAAAAAAAAACATGCTATTAGCC |  3 |\n",
       "| D1M_AAAAAAAAAAACATGCTCACCCTC | AAAAAAAAAAACATGCTCACCCTC | 28369 | 28369 | 28369 | 28339 | 2447 | 5 |  2.6643078 | -3.955240 | D1M | D1M_AAAAAAAAAAACATGCTCACCCTC |  3 |\n",
       "| D1M_AAAAAAAAAAACATGCTTGAGAAC | AAAAAAAAAAACATGCTTGAGAAC | 28635 | 28635 | 28635 | 28609 | 2201 | 1 | -0.2071755 |  2.688192 | D1M | D1M_AAAAAAAAAAACATGCTTGAGAAC | 15 |\n",
       "| D1M_AAAAAAAAAAACCATGAACCTTGT | AAAAAAAAAAACCATGAACCTTGT | 33869 | 33869 | 33869 | 33838 | 3018 | 5 |  3.1269215 | -4.609105 | D1M | D1M_AAAAAAAAAAACCATGAACCTTGT |  3 |\n",
       "| D1M_AAAAAAAAAAACCATGAGCTTAAA | AAAAAAAAAAACCATGAGCTTAAA | 18885 | 18885 | 18885 | 18867 | 1514 | 1 | -0.1988264 |  1.998739 | D1M | D1M_AAAAAAAAAAACCATGAGCTTAAA | 15 |\n",
       "\n"
      ],
      "text/plain": [
       "                             barcode                  TN    UM    PP    UQ   \n",
       "D1M_AAAAAAAAAAACATGCTATTAGCC AAAAAAAAAAACATGCTATTAGCC  6736  6736  6736  6729\n",
       "D1M_AAAAAAAAAAACATGCTCACCCTC AAAAAAAAAAACATGCTCACCCTC 28369 28369 28369 28339\n",
       "D1M_AAAAAAAAAAACATGCTTGAGAAC AAAAAAAAAAACATGCTTGAGAAC 28635 28635 28635 28609\n",
       "D1M_AAAAAAAAAAACCATGAACCTTGT AAAAAAAAAAACCATGAACCTTGT 33869 33869 33869 33838\n",
       "D1M_AAAAAAAAAAACCATGAGCTTAAA AAAAAAAAAAACCATGAGCTTAAA 18885 18885 18885 18867\n",
       "                             CM   cluster umap1      umap2     sample\n",
       "D1M_AAAAAAAAAAACATGCTATTAGCC  373 3       -0.4031222 -3.454888 D1M   \n",
       "D1M_AAAAAAAAAAACATGCTCACCCTC 2447 5        2.6643078 -3.955240 D1M   \n",
       "D1M_AAAAAAAAAAACATGCTTGAGAAC 2201 1       -0.2071755  2.688192 D1M   \n",
       "D1M_AAAAAAAAAAACCATGAACCTTGT 3018 5        3.1269215 -4.609105 D1M   \n",
       "D1M_AAAAAAAAAAACCATGAGCTTAAA 1514 1       -0.1988264  1.998739 D1M   \n",
       "                             cells                        transfered_cluster\n",
       "D1M_AAAAAAAAAAACATGCTATTAGCC D1M_AAAAAAAAAAACATGCTATTAGCC  3                \n",
       "D1M_AAAAAAAAAAACATGCTCACCCTC D1M_AAAAAAAAAAACATGCTCACCCTC  3                \n",
       "D1M_AAAAAAAAAAACATGCTTGAGAAC D1M_AAAAAAAAAAACATGCTTGAGAAC 15                \n",
       "D1M_AAAAAAAAAAACCATGAACCTTGT D1M_AAAAAAAAAAACCATGAACCTTGT  3                \n",
       "D1M_AAAAAAAAAAACCATGAGCTTAAA D1M_AAAAAAAAAAACCATGAGCTTAAA 15                "
      ]
     },
     "metadata": {},
     "output_type": "display_data"
    }
   ],
   "source": [
    "# Metadata file for scATAC + Multiome ATAC\n",
    "atac_metaData = read.table(\"../../analysis/20220609_Multiome_SnapATAC/sessions/20220612_n13525/metadata.w.transfer.cluster.tsv\", header = T, stringsAsFactor=F)\n",
    "# atac_metaData = read.table(\"../20220609_Multiome_SnapATAC/metadata.no.harmony.tsv\", header = T, stringsAsFactor=F)\n",
    "rownames(atac_metaData) = paste(atac_metaData$sample, atac_metaData$barcode, sep='_')\n",
    "atac_metaData$cells = rownames(atac_metaData)\n",
    "dim(atac_metaData)\n",
    "head(atac_metaData, 5)"
   ]
  },
  {
   "cell_type": "code",
   "execution_count": 58,
   "metadata": {},
   "outputs": [
    {
     "data": {
      "text/html": [
       "<table>\n",
       "<caption>A data.frame: 3 × 2</caption>\n",
       "<thead>\n",
       "\t<tr><th></th><th scope=col>day</th><th scope=col>colour</th></tr>\n",
       "\t<tr><th></th><th scope=col>&lt;fct&gt;</th><th scope=col>&lt;chr&gt;</th></tr>\n",
       "</thead>\n",
       "<tbody>\n",
       "\t<tr><th scope=row>D1M</th><td>D1M</td><td>#53a548</td></tr>\n",
       "\t<tr><th scope=row>D2M</th><td>D2M</td><td>#6E3B4E</td></tr>\n",
       "\t<tr><th scope=row>D2</th><td>D2 </td><td>#FF70A6</td></tr>\n",
       "</tbody>\n",
       "</table>\n"
      ],
      "text/latex": [
       "A data.frame: 3 × 2\n",
       "\\begin{tabular}{r|ll}\n",
       "  & day & colour\\\\\n",
       "  & <fct> & <chr>\\\\\n",
       "\\hline\n",
       "\tD1M & D1M & \\#53a548\\\\\n",
       "\tD2M & D2M & \\#6E3B4E\\\\\n",
       "\tD2 & D2  & \\#FF70A6\\\\\n",
       "\\end{tabular}\n"
      ],
      "text/markdown": [
       "\n",
       "A data.frame: 3 × 2\n",
       "\n",
       "| <!--/--> | day &lt;fct&gt; | colour &lt;chr&gt; |\n",
       "|---|---|---|\n",
       "| D1M | D1M | #53a548 |\n",
       "| D2M | D2M | #6E3B4E |\n",
       "| D2 | D2  | #FF70A6 |\n",
       "\n"
      ],
      "text/plain": [
       "    day colour \n",
       "D1M D1M #53a548\n",
       "D2M D2M #6E3B4E\n",
       "D2  D2  #FF70A6"
      ]
     },
     "metadata": {},
     "output_type": "display_data"
    }
   ],
   "source": [
    "day_config = read.table(\"../configs/multiome_day.tsv\", comment.char = '', header=T)\n",
    "day_config$colour = as.character(day_config$colour)\n",
    "day_config$day = factor(day_config$day, levels=c(\"D1M\", \"D2M\", \"D2\"))\n",
    "rownames(day_config) = day_config$day\n",
    "day_config"
   ]
  },
  {
   "cell_type": "code",
   "execution_count": 18,
   "metadata": {},
   "outputs": [
    {
     "data": {
      "text/html": [
       "<style>\n",
       ".list-inline {list-style: none; margin:0; padding: 0}\n",
       ".list-inline>li {display: inline-block}\n",
       ".list-inline>li:not(:last-child)::after {content: \"\\00b7\"; padding: 0 .5ex}\n",
       "</style>\n",
       "<ol class=list-inline><li>13525</li><li>10</li></ol>\n"
      ],
      "text/latex": [
       "\\begin{enumerate*}\n",
       "\\item 13525\n",
       "\\item 10\n",
       "\\end{enumerate*}\n"
      ],
      "text/markdown": [
       "1. 13525\n",
       "2. 10\n",
       "\n",
       "\n"
      ],
      "text/plain": [
       "[1] 13525    10"
      ]
     },
     "metadata": {},
     "output_type": "display_data"
    },
    {
     "data": {
      "text/html": [
       "<table>\n",
       "<caption>A data.frame: 6 × 10</caption>\n",
       "<thead>\n",
       "\t<tr><th></th><th scope=col>V1</th><th scope=col>V2</th><th scope=col>V3</th><th scope=col>V4</th><th scope=col>V5</th><th scope=col>V6</th><th scope=col>V7</th><th scope=col>V8</th><th scope=col>V9</th><th scope=col>V10</th></tr>\n",
       "\t<tr><th></th><th scope=col>&lt;dbl&gt;</th><th scope=col>&lt;dbl&gt;</th><th scope=col>&lt;dbl&gt;</th><th scope=col>&lt;dbl&gt;</th><th scope=col>&lt;dbl&gt;</th><th scope=col>&lt;dbl&gt;</th><th scope=col>&lt;dbl&gt;</th><th scope=col>&lt;dbl&gt;</th><th scope=col>&lt;dbl&gt;</th><th scope=col>&lt;dbl&gt;</th></tr>\n",
       "</thead>\n",
       "<tbody>\n",
       "\t<tr><th scope=row>1</th><td>-0.005576098</td><td>-0.002994830</td><td> 0.0011482085</td><td>-0.003059384</td><td>-0.001170932</td><td>-0.0008037389</td><td> 0.0024473969</td><td>-0.004911566</td><td>-0.0041969047</td><td> 0.0002239866</td></tr>\n",
       "\t<tr><th scope=row>2</th><td>-0.006308342</td><td>-0.008630070</td><td>-0.0028624583</td><td> 0.004450571</td><td>-0.001847188</td><td>-0.0020094749</td><td>-0.0015377454</td><td> 0.007993754</td><td>-0.0016790453</td><td> 0.0056897889</td></tr>\n",
       "\t<tr><th scope=row>3</th><td> 0.004459388</td><td> 0.009549958</td><td> 0.0048467639</td><td> 0.006019882</td><td> 0.011604946</td><td>-0.0008288198</td><td>-0.0005887825</td><td>-0.002238924</td><td> 0.0083802568</td><td>-0.0051470898</td></tr>\n",
       "\t<tr><th scope=row>4</th><td>-0.006604609</td><td>-0.006125785</td><td> 0.0001448635</td><td> 0.005928271</td><td> 0.001567887</td><td> 0.0007868336</td><td>-0.0022443680</td><td> 0.009831894</td><td> 0.0023044377</td><td> 0.0020845937</td></tr>\n",
       "\t<tr><th scope=row>5</th><td>-0.001395005</td><td>-0.001060266</td><td> 0.0050842114</td><td> 0.004684884</td><td> 0.005441473</td><td>-0.0028520636</td><td>-0.0052392181</td><td> 0.002862437</td><td> 0.0075546200</td><td> 0.0010427805</td></tr>\n",
       "\t<tr><th scope=row>6</th><td>-0.005608135</td><td>-0.003738698</td><td>-0.0018120284</td><td>-0.003913790</td><td>-0.004106882</td><td>-0.0044972488</td><td>-0.0022040469</td><td> 0.007827804</td><td> 0.0007705526</td><td> 0.0066312141</td></tr>\n",
       "</tbody>\n",
       "</table>\n"
      ],
      "text/latex": [
       "A data.frame: 6 × 10\n",
       "\\begin{tabular}{r|llllllllll}\n",
       "  & V1 & V2 & V3 & V4 & V5 & V6 & V7 & V8 & V9 & V10\\\\\n",
       "  & <dbl> & <dbl> & <dbl> & <dbl> & <dbl> & <dbl> & <dbl> & <dbl> & <dbl> & <dbl>\\\\\n",
       "\\hline\n",
       "\t1 & -0.005576098 & -0.002994830 &  0.0011482085 & -0.003059384 & -0.001170932 & -0.0008037389 &  0.0024473969 & -0.004911566 & -0.0041969047 &  0.0002239866\\\\\n",
       "\t2 & -0.006308342 & -0.008630070 & -0.0028624583 &  0.004450571 & -0.001847188 & -0.0020094749 & -0.0015377454 &  0.007993754 & -0.0016790453 &  0.0056897889\\\\\n",
       "\t3 &  0.004459388 &  0.009549958 &  0.0048467639 &  0.006019882 &  0.011604946 & -0.0008288198 & -0.0005887825 & -0.002238924 &  0.0083802568 & -0.0051470898\\\\\n",
       "\t4 & -0.006604609 & -0.006125785 &  0.0001448635 &  0.005928271 &  0.001567887 &  0.0007868336 & -0.0022443680 &  0.009831894 &  0.0023044377 &  0.0020845937\\\\\n",
       "\t5 & -0.001395005 & -0.001060266 &  0.0050842114 &  0.004684884 &  0.005441473 & -0.0028520636 & -0.0052392181 &  0.002862437 &  0.0075546200 &  0.0010427805\\\\\n",
       "\t6 & -0.005608135 & -0.003738698 & -0.0018120284 & -0.003913790 & -0.004106882 & -0.0044972488 & -0.0022040469 &  0.007827804 &  0.0007705526 &  0.0066312141\\\\\n",
       "\\end{tabular}\n"
      ],
      "text/markdown": [
       "\n",
       "A data.frame: 6 × 10\n",
       "\n",
       "| <!--/--> | V1 &lt;dbl&gt; | V2 &lt;dbl&gt; | V3 &lt;dbl&gt; | V4 &lt;dbl&gt; | V5 &lt;dbl&gt; | V6 &lt;dbl&gt; | V7 &lt;dbl&gt; | V8 &lt;dbl&gt; | V9 &lt;dbl&gt; | V10 &lt;dbl&gt; |\n",
       "|---|---|---|---|---|---|---|---|---|---|---|\n",
       "| 1 | -0.005576098 | -0.002994830 |  0.0011482085 | -0.003059384 | -0.001170932 | -0.0008037389 |  0.0024473969 | -0.004911566 | -0.0041969047 |  0.0002239866 |\n",
       "| 2 | -0.006308342 | -0.008630070 | -0.0028624583 |  0.004450571 | -0.001847188 | -0.0020094749 | -0.0015377454 |  0.007993754 | -0.0016790453 |  0.0056897889 |\n",
       "| 3 |  0.004459388 |  0.009549958 |  0.0048467639 |  0.006019882 |  0.011604946 | -0.0008288198 | -0.0005887825 | -0.002238924 |  0.0083802568 | -0.0051470898 |\n",
       "| 4 | -0.006604609 | -0.006125785 |  0.0001448635 |  0.005928271 |  0.001567887 |  0.0007868336 | -0.0022443680 |  0.009831894 |  0.0023044377 |  0.0020845937 |\n",
       "| 5 | -0.001395005 | -0.001060266 |  0.0050842114 |  0.004684884 |  0.005441473 | -0.0028520636 | -0.0052392181 |  0.002862437 |  0.0075546200 |  0.0010427805 |\n",
       "| 6 | -0.005608135 | -0.003738698 | -0.0018120284 | -0.003913790 | -0.004106882 | -0.0044972488 | -0.0022040469 |  0.007827804 |  0.0007705526 |  0.0066312141 |\n",
       "\n"
      ],
      "text/plain": [
       "  V1           V2           V3            V4           V5          \n",
       "1 -0.005576098 -0.002994830  0.0011482085 -0.003059384 -0.001170932\n",
       "2 -0.006308342 -0.008630070 -0.0028624583  0.004450571 -0.001847188\n",
       "3  0.004459388  0.009549958  0.0048467639  0.006019882  0.011604946\n",
       "4 -0.006604609 -0.006125785  0.0001448635  0.005928271  0.001567887\n",
       "5 -0.001395005 -0.001060266  0.0050842114  0.004684884  0.005441473\n",
       "6 -0.005608135 -0.003738698 -0.0018120284 -0.003913790 -0.004106882\n",
       "  V6            V7            V8           V9            V10          \n",
       "1 -0.0008037389  0.0024473969 -0.004911566 -0.0041969047  0.0002239866\n",
       "2 -0.0020094749 -0.0015377454  0.007993754 -0.0016790453  0.0056897889\n",
       "3 -0.0008288198 -0.0005887825 -0.002238924  0.0083802568 -0.0051470898\n",
       "4  0.0007868336 -0.0022443680  0.009831894  0.0023044377  0.0020845937\n",
       "5 -0.0028520636 -0.0052392181  0.002862437  0.0075546200  0.0010427805\n",
       "6 -0.0044972488 -0.0022040469  0.007827804  0.0007705526  0.0066312141"
      ]
     },
     "metadata": {},
     "output_type": "display_data"
    }
   ],
   "source": [
    "orig_embed = read.table(\"../../analysis/20220609_Multiome_SnapATAC/sessions/20220612_n13525/features.no.harmony.50d.tsv\")\n",
    "dim(harmony_embed)\n",
    "head(harmony_embed)"
   ]
  },
  {
   "cell_type": "code",
   "execution_count": 3,
   "metadata": {},
   "outputs": [
    {
     "data": {
      "text/html": [
       "<style>\n",
       ".list-inline {list-style: none; margin:0; padding: 0}\n",
       ".list-inline>li {display: inline-block}\n",
       ".list-inline>li:not(:last-child)::after {content: \"\\00b7\"; padding: 0 .5ex}\n",
       "</style>\n",
       "<ol class=list-inline><li>13525</li><li>10</li></ol>\n"
      ],
      "text/latex": [
       "\\begin{enumerate*}\n",
       "\\item 13525\n",
       "\\item 10\n",
       "\\end{enumerate*}\n"
      ],
      "text/markdown": [
       "1. 13525\n",
       "2. 10\n",
       "\n",
       "\n"
      ],
      "text/plain": [
       "[1] 13525    10"
      ]
     },
     "metadata": {},
     "output_type": "display_data"
    },
    {
     "data": {
      "text/html": [
       "<table>\n",
       "<caption>A data.frame: 6 × 10</caption>\n",
       "<thead>\n",
       "\t<tr><th></th><th scope=col>V1</th><th scope=col>V2</th><th scope=col>V3</th><th scope=col>V4</th><th scope=col>V5</th><th scope=col>V6</th><th scope=col>V7</th><th scope=col>V8</th><th scope=col>V9</th><th scope=col>V10</th></tr>\n",
       "\t<tr><th></th><th scope=col>&lt;dbl&gt;</th><th scope=col>&lt;dbl&gt;</th><th scope=col>&lt;dbl&gt;</th><th scope=col>&lt;dbl&gt;</th><th scope=col>&lt;dbl&gt;</th><th scope=col>&lt;dbl&gt;</th><th scope=col>&lt;dbl&gt;</th><th scope=col>&lt;dbl&gt;</th><th scope=col>&lt;dbl&gt;</th><th scope=col>&lt;dbl&gt;</th></tr>\n",
       "</thead>\n",
       "<tbody>\n",
       "\t<tr><th scope=row>1</th><td>-0.005576098</td><td>-0.002994830</td><td> 0.0011482085</td><td>-0.003059384</td><td>-0.001170932</td><td>-0.0008037389</td><td> 0.0024473969</td><td>-0.004911566</td><td>-0.0041969047</td><td> 0.0002239866</td></tr>\n",
       "\t<tr><th scope=row>2</th><td>-0.006308342</td><td>-0.008630070</td><td>-0.0028624583</td><td> 0.004450571</td><td>-0.001847188</td><td>-0.0020094749</td><td>-0.0015377454</td><td> 0.007993754</td><td>-0.0016790453</td><td> 0.0056897889</td></tr>\n",
       "\t<tr><th scope=row>3</th><td> 0.004459388</td><td> 0.009549958</td><td> 0.0048467639</td><td> 0.006019882</td><td> 0.011604946</td><td>-0.0008288198</td><td>-0.0005887825</td><td>-0.002238924</td><td> 0.0083802568</td><td>-0.0051470898</td></tr>\n",
       "\t<tr><th scope=row>4</th><td>-0.006604609</td><td>-0.006125785</td><td> 0.0001448635</td><td> 0.005928271</td><td> 0.001567887</td><td> 0.0007868336</td><td>-0.0022443680</td><td> 0.009831894</td><td> 0.0023044377</td><td> 0.0020845937</td></tr>\n",
       "\t<tr><th scope=row>5</th><td>-0.001395005</td><td>-0.001060266</td><td> 0.0050842114</td><td> 0.004684884</td><td> 0.005441473</td><td>-0.0028520636</td><td>-0.0052392181</td><td> 0.002862437</td><td> 0.0075546200</td><td> 0.0010427805</td></tr>\n",
       "\t<tr><th scope=row>6</th><td>-0.005608135</td><td>-0.003738698</td><td>-0.0018120284</td><td>-0.003913790</td><td>-0.004106882</td><td>-0.0044972488</td><td>-0.0022040469</td><td> 0.007827804</td><td> 0.0007705526</td><td> 0.0066312141</td></tr>\n",
       "</tbody>\n",
       "</table>\n"
      ],
      "text/latex": [
       "A data.frame: 6 × 10\n",
       "\\begin{tabular}{r|llllllllll}\n",
       "  & V1 & V2 & V3 & V4 & V5 & V6 & V7 & V8 & V9 & V10\\\\\n",
       "  & <dbl> & <dbl> & <dbl> & <dbl> & <dbl> & <dbl> & <dbl> & <dbl> & <dbl> & <dbl>\\\\\n",
       "\\hline\n",
       "\t1 & -0.005576098 & -0.002994830 &  0.0011482085 & -0.003059384 & -0.001170932 & -0.0008037389 &  0.0024473969 & -0.004911566 & -0.0041969047 &  0.0002239866\\\\\n",
       "\t2 & -0.006308342 & -0.008630070 & -0.0028624583 &  0.004450571 & -0.001847188 & -0.0020094749 & -0.0015377454 &  0.007993754 & -0.0016790453 &  0.0056897889\\\\\n",
       "\t3 &  0.004459388 &  0.009549958 &  0.0048467639 &  0.006019882 &  0.011604946 & -0.0008288198 & -0.0005887825 & -0.002238924 &  0.0083802568 & -0.0051470898\\\\\n",
       "\t4 & -0.006604609 & -0.006125785 &  0.0001448635 &  0.005928271 &  0.001567887 &  0.0007868336 & -0.0022443680 &  0.009831894 &  0.0023044377 &  0.0020845937\\\\\n",
       "\t5 & -0.001395005 & -0.001060266 &  0.0050842114 &  0.004684884 &  0.005441473 & -0.0028520636 & -0.0052392181 &  0.002862437 &  0.0075546200 &  0.0010427805\\\\\n",
       "\t6 & -0.005608135 & -0.003738698 & -0.0018120284 & -0.003913790 & -0.004106882 & -0.0044972488 & -0.0022040469 &  0.007827804 &  0.0007705526 &  0.0066312141\\\\\n",
       "\\end{tabular}\n"
      ],
      "text/markdown": [
       "\n",
       "A data.frame: 6 × 10\n",
       "\n",
       "| <!--/--> | V1 &lt;dbl&gt; | V2 &lt;dbl&gt; | V3 &lt;dbl&gt; | V4 &lt;dbl&gt; | V5 &lt;dbl&gt; | V6 &lt;dbl&gt; | V7 &lt;dbl&gt; | V8 &lt;dbl&gt; | V9 &lt;dbl&gt; | V10 &lt;dbl&gt; |\n",
       "|---|---|---|---|---|---|---|---|---|---|---|\n",
       "| 1 | -0.005576098 | -0.002994830 |  0.0011482085 | -0.003059384 | -0.001170932 | -0.0008037389 |  0.0024473969 | -0.004911566 | -0.0041969047 |  0.0002239866 |\n",
       "| 2 | -0.006308342 | -0.008630070 | -0.0028624583 |  0.004450571 | -0.001847188 | -0.0020094749 | -0.0015377454 |  0.007993754 | -0.0016790453 |  0.0056897889 |\n",
       "| 3 |  0.004459388 |  0.009549958 |  0.0048467639 |  0.006019882 |  0.011604946 | -0.0008288198 | -0.0005887825 | -0.002238924 |  0.0083802568 | -0.0051470898 |\n",
       "| 4 | -0.006604609 | -0.006125785 |  0.0001448635 |  0.005928271 |  0.001567887 |  0.0007868336 | -0.0022443680 |  0.009831894 |  0.0023044377 |  0.0020845937 |\n",
       "| 5 | -0.001395005 | -0.001060266 |  0.0050842114 |  0.004684884 |  0.005441473 | -0.0028520636 | -0.0052392181 |  0.002862437 |  0.0075546200 |  0.0010427805 |\n",
       "| 6 | -0.005608135 | -0.003738698 | -0.0018120284 | -0.003913790 | -0.004106882 | -0.0044972488 | -0.0022040469 |  0.007827804 |  0.0007705526 |  0.0066312141 |\n",
       "\n"
      ],
      "text/plain": [
       "  V1           V2           V3            V4           V5          \n",
       "1 -0.005576098 -0.002994830  0.0011482085 -0.003059384 -0.001170932\n",
       "2 -0.006308342 -0.008630070 -0.0028624583  0.004450571 -0.001847188\n",
       "3  0.004459388  0.009549958  0.0048467639  0.006019882  0.011604946\n",
       "4 -0.006604609 -0.006125785  0.0001448635  0.005928271  0.001567887\n",
       "5 -0.001395005 -0.001060266  0.0050842114  0.004684884  0.005441473\n",
       "6 -0.005608135 -0.003738698 -0.0018120284 -0.003913790 -0.004106882\n",
       "  V6            V7            V8           V9            V10          \n",
       "1 -0.0008037389  0.0024473969 -0.004911566 -0.0041969047  0.0002239866\n",
       "2 -0.0020094749 -0.0015377454  0.007993754 -0.0016790453  0.0056897889\n",
       "3 -0.0008288198 -0.0005887825 -0.002238924  0.0083802568 -0.0051470898\n",
       "4  0.0007868336 -0.0022443680  0.009831894  0.0023044377  0.0020845937\n",
       "5 -0.0028520636 -0.0052392181  0.002862437  0.0075546200  0.0010427805\n",
       "6 -0.0044972488 -0.0022040469  0.007827804  0.0007705526  0.0066312141"
      ]
     },
     "metadata": {},
     "output_type": "display_data"
    }
   ],
   "source": [
    "harmony_embed = read.table(\"../../analysis/20220609_Multiome_SnapATAC/sessions/20220612_n13525/features.harmony.10d.tsv\")\n",
    "dim(harmony_embed)\n",
    "head(harmony_embed)"
   ]
  },
  {
   "cell_type": "code",
   "execution_count": null,
   "metadata": {},
   "outputs": [],
   "source": []
  },
  {
   "cell_type": "code",
   "execution_count": 30,
   "metadata": {},
   "outputs": [],
   "source": [
    "atac_metaData_d2_only = atac_metaData[atac_metaData$sample %in% c(\"D2\", \"D2M\"), ]\n",
    "orig_embed_d2_only = orig_embed[atac_metaData$sample %in% c(\"D2\", \"D2M\"), 1:10]\n",
    "harmony_embed_d2_only = harmony_embed[atac_metaData$sample %in% c(\"D2\", \"D2M\"), ]"
   ]
  },
  {
   "cell_type": "code",
   "execution_count": null,
   "metadata": {},
   "outputs": [],
   "source": []
  },
  {
   "cell_type": "code",
   "execution_count": 32,
   "metadata": {},
   "outputs": [],
   "source": [
    "nn_orig = nn2(orig_embed_d2_only)"
   ]
  },
  {
   "cell_type": "code",
   "execution_count": 40,
   "metadata": {},
   "outputs": [
    {
     "data": {
      "text/plain": [
       "\n",
       "   D2   D2M \n",
       " 2879 17926 "
      ]
     },
     "metadata": {},
     "output_type": "display_data"
    }
   ],
   "source": [
    "top5_ngb_d2m_orig = as.vector(nn_orig$nn.idx[atac_metaData_d2_only$sample==\"D2M\", 2:6])\n",
    "table(atac_metaData_d2_only[top5_ngb_d2m_orig, \"sample\"])"
   ]
  },
  {
   "cell_type": "code",
   "execution_count": null,
   "metadata": {},
   "outputs": [],
   "source": []
  },
  {
   "cell_type": "code",
   "execution_count": 33,
   "metadata": {},
   "outputs": [],
   "source": [
    "nn_harmony = nn2(harmony_embed_d2_only)"
   ]
  },
  {
   "cell_type": "code",
   "execution_count": 41,
   "metadata": {},
   "outputs": [
    {
     "data": {
      "text/plain": [
       "\n",
       "   D2   D2M \n",
       " 8885 11920 "
      ]
     },
     "metadata": {},
     "output_type": "display_data"
    }
   ],
   "source": [
    "top5_ngb_d2m_harmony = as.vector(nn_harmony$nn.idx[atac_metaData_d2_only$sample==\"D2M\", 2:6])\n",
    "table(atac_metaData_d2_only[top5_ngb_d2m_harmony, \"sample\"])"
   ]
  },
  {
   "cell_type": "code",
   "execution_count": 42,
   "metadata": {},
   "outputs": [
    {
     "data": {
      "text/plain": [
       "\n",
       "  D2  D2M \n",
       "6147 4161 "
      ]
     },
     "metadata": {},
     "output_type": "display_data"
    }
   ],
   "source": [
    "table(atac_metaData_d2_only$sample)"
   ]
  },
  {
   "cell_type": "code",
   "execution_count": 46,
   "metadata": {},
   "outputs": [
    {
     "data": {
      "text/html": [
       "<table>\n",
       "<caption>A data.frame: 2 × 2</caption>\n",
       "<thead>\n",
       "\t<tr><th scope=col>Var1</th><th scope=col>Freq</th></tr>\n",
       "\t<tr><th scope=col>&lt;fct&gt;</th><th scope=col>&lt;int&gt;</th></tr>\n",
       "</thead>\n",
       "<tbody>\n",
       "\t<tr><td>D2 </td><td> 2879</td></tr>\n",
       "\t<tr><td>D2M</td><td>17926</td></tr>\n",
       "</tbody>\n",
       "</table>\n"
      ],
      "text/latex": [
       "A data.frame: 2 × 2\n",
       "\\begin{tabular}{ll}\n",
       " Var1 & Freq\\\\\n",
       " <fct> & <int>\\\\\n",
       "\\hline\n",
       "\t D2  &  2879\\\\\n",
       "\t D2M & 17926\\\\\n",
       "\\end{tabular}\n"
      ],
      "text/markdown": [
       "\n",
       "A data.frame: 2 × 2\n",
       "\n",
       "| Var1 &lt;fct&gt; | Freq &lt;int&gt; |\n",
       "|---|---|\n",
       "| D2  |  2879 |\n",
       "| D2M | 17926 |\n",
       "\n"
      ],
      "text/plain": [
       "  Var1 Freq \n",
       "1 D2    2879\n",
       "2 D2M  17926"
      ]
     },
     "metadata": {},
     "output_type": "display_data"
    }
   ],
   "source": [
    "data.frame(table(atac_metaData_d2_only[top5_ngb_d2m_orig, \"sample\"]))"
   ]
  },
  {
   "cell_type": "code",
   "execution_count": 84,
   "metadata": {},
   "outputs": [],
   "source": [
    "YMAX = 18000\n",
    "\n",
    "before = ggplot(data.frame(table(atac_metaData_d2_only[top5_ngb_d2m_orig, \"sample\"]))) + \n",
    "geom_bar(aes(x=Var1, y=Freq, fill=Var1), stat='identity') +\n",
    "scale_fill_manual(values=day_config$colour[c(3,2)], name=\"Sample\") + \n",
    "xlab(\"Sample of top 5 neighbor of Multiome snATAC-seq nuclei\") +\n",
    "ylab(\"Frequency\") +\n",
    "ggtitle(\"Before Harmony\") +\n",
    "ylim(c(0,YMAX)) +\n",
    "theme_bw(base_size=16) +\n",
    "theme(plot.title = element_text(hjust = 0.5))\n",
    "\n",
    "after = ggplot(data.frame(table(atac_metaData_d2_only[top5_ngb_d2m_harmony, \"sample\"]))) + \n",
    "geom_bar(aes(x=Var1, y=Freq, fill=Var1), stat='identity') +\n",
    "scale_fill_manual(values=day_config$colour[c(3,2)], name=\"Sample\") + \n",
    "xlab(\"Sample of top 5 neighbor of Multiome snATAC-seq nuclei\") +\n",
    "ylab(\"Frequency\") +\n",
    "ggtitle(\"After Harmony\") +\n",
    "ylim(c(0,YMAX)) + \n",
    "theme_bw(base_size=16) +\n",
    "theme(plot.title = element_text(hjust = 0.5))"
   ]
  },
  {
   "cell_type": "code",
   "execution_count": 86,
   "metadata": {},
   "outputs": [
    {
     "data": {
      "image/png": "[encoded data removed]",
      "text/plain": [
       "plot without title"
      ]
     },
     "metadata": {
      "image/png": {
       "height": 300,
       "width": 540
      },
      "text/plain": {
       "height": 300,
       "width": 540
      }
     },
     "output_type": "display_data"
    }
   ],
   "source": [
    "options(repr.plot.width = 9, repr.plot.height = 5)\n",
    "\n",
    "p = before | after\n",
    "p"
   ]
  },
  {
   "cell_type": "code",
   "execution_count": null,
   "metadata": {},
   "outputs": [],
   "source": []
  },
  {
   "cell_type": "code",
   "execution_count": 88,
   "metadata": {},
   "outputs": [],
   "source": [
    "ggsave(\"./subfigs/SuppHarmonyMixing.pdf\", height=5, width=9, useDingbats=F)"
   ]
  },
  {
   "cell_type": "code",
   "execution_count": null,
   "metadata": {},
   "outputs": [],
   "source": []
  }
 ],
 "metadata": {
  "kernelspec": {
   "display_name": "R",
   "language": "R",
   "name": "ir"
  },
  "language_info": {
   "codemirror_mode": "r",
   "file_extension": ".r",
   "mimetype": "text/x-r-source",
   "name": "R",
   "pygments_lexer": "r",
   "version": "3.6.3"
  }
 },
 "nbformat": 4,
 "nbformat_minor": 4
}
