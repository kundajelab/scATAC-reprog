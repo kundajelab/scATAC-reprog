{
 "cells": [
  {
   "cell_type": "markdown",
   "metadata": {},
   "source": [
    "# Pseudorep JSD\n",
    "\n",
    "Compute JSD for pseudoreps."
   ]
  },
  {
   "cell_type": "code",
   "execution_count": 19,
   "metadata": {},
   "outputs": [],
   "source": [
    "import pyBigWig\n",
    "import pandas as pd\n",
    "import numpy as np\n",
    "import scipy.spatial"
   ]
  },
  {
   "cell_type": "code",
   "execution_count": 5,
   "metadata": {},
   "outputs": [],
   "source": [
    "def get_cts(peaks_df, bw, width):\n",
    "    \"\"\"\n",
    "    Fetches values from a bigwig bw, given a df with minimally\n",
    "    chr, start and summit columns. Summit is relative to start.\n",
    "    Retrieves values of specified width centered at summit.\n",
    "\n",
    "    \"cts\" = per base counts across a region\n",
    "    \"\"\"\n",
    "    vals = []\n",
    "    for i, r in peaks_df.iterrows():\n",
    "        vals.append(np.nan_to_num(bw.values(r['chr'], \n",
    "                                            r['start'] + r['summit'] - width//2,\n",
    "                                            r['start'] + r['summit'] + width//2)))\n",
    "        \n",
    "    return np.array(vals)"
   ]
  },
  {
   "cell_type": "code",
   "execution_count": 6,
   "metadata": {},
   "outputs": [],
   "source": [
    "def get_jsd(preds, cts, min_tot_cts=10):\n",
    "    return np.array([scipy.spatial.distance.jensenshannon(x,y) for x,y in zip(preds, cts) \\\n",
    "                     if y.sum()>min_tot_cts])"
   ]
  },
  {
   "cell_type": "code",
   "execution_count": 7,
   "metadata": {},
   "outputs": [],
   "source": [
    "def get_pseudoreps(cts):\n",
    "    \"\"\"\n",
    "    cts: B x 2000 matrix\n",
    "    \n",
    "    subsample each position twice\n",
    "    \"\"\"\n",
    "#     pr1 = np.random.binomial(cts, 0.5)\n",
    "#     pr2 = cts - pr1 ### THIS MAKES THE 2 PRs dependent\n",
    "    return np.random.binomial(cts, 0.5), np.random.binomial(cts, 0.5)"
   ]
  },
  {
   "cell_type": "code",
   "execution_count": 10,
   "metadata": {},
   "outputs": [],
   "source": [
    "# def get_pseudoreps_exclusive(cts):\n",
    "#     \"\"\"\n",
    "#     cts: B x 2000 matrix\n",
    "    \n",
    "#     subsample each position twice\n",
    "    \n",
    "#     \"\"\"\n",
    "#     pr1 = np.random.binomial(cts, 0.5)\n",
    "#     pr2 = cts - pr1 ### THIS MAKES THE 2 PRs dependent \n",
    "#     return pr1, pr2"
   ]
  },
  {
   "cell_type": "code",
   "execution_count": 12,
   "metadata": {},
   "outputs": [],
   "source": [
    "NARROWPEAK_SCHEMA = [\"chr\", \"start\", \"end\", \"1\", \"2\", \"3\", \"4\", \"5\", \"6\", \"summit\"]"
   ]
  },
  {
   "cell_type": "code",
   "execution_count": null,
   "metadata": {},
   "outputs": [],
   "source": []
  },
  {
   "cell_type": "code",
   "execution_count": 21,
   "metadata": {},
   "outputs": [
    {
     "name": "stdout",
     "output_type": "stream",
     "text": [
      "1 0.38008345006127797\n",
      "2 0.44081757743975425\n",
      "3 0.5119384921254924\n",
      "4 0.4431574950055273\n",
      "5 0.518887105073189\n",
      "6 0.4885494335006828\n",
      "7 0.5205852675584086\n",
      "8 0.39278052245478023\n",
      "9 0.5300979356674591\n",
      "10 0.5272961203990402\n",
      "11 0.49774233186551353\n",
      "12 0.4833026672229039\n",
      "13 0.5197846249914942\n",
      "14 0.4431115853788992\n",
      "15 0.5233775458778936\n"
     ]
    }
   ],
   "source": [
    "jsds = {}\n",
    "\n",
    "for i in range(1,16):\n",
    "    peaks_df = pd.read_csv(\"/oak/stanford/groups/akundaje/surag/projects/scATAC-reprog/bpnet/data/20210818_n62599/peaks/overlap_merged/cluster_idx{}.bed\".format(i),\n",
    "                       names=NARROWPEAK_SCHEMA, sep='\\t')\n",
    "    sample_peaks_df = peaks_df.sample(20000)\n",
    "    with pyBigWig.open(\"/oak/stanford/groups/akundaje/surag/projects/scATAC-reprog/clusters/20210714_n64913/bigwigs/cluster_idx{}.bw\".format(i)) as bw:\n",
    "        cts = get_cts(sample_peaks_df, bw, 2000).astype(np.int64)\n",
    "    \n",
    "    jsds[i] = np.median(get_jsd(*get_pseudoreps(cts)))\n",
    "    \n",
    "    print(i, jsds[i])"
   ]
  },
  {
   "cell_type": "code",
   "execution_count": 26,
   "metadata": {},
   "outputs": [
    {
     "data": {
      "text/html": [
       "<div>\n",
       "<style scoped>\n",
       "    .dataframe tbody tr th:only-of-type {\n",
       "        vertical-align: middle;\n",
       "    }\n",
       "\n",
       "    .dataframe tbody tr th {\n",
       "        vertical-align: top;\n",
       "    }\n",
       "\n",
       "    .dataframe thead th {\n",
       "        text-align: right;\n",
       "    }\n",
       "</style>\n",
       "<table border=\"1\" class=\"dataframe\">\n",
       "  <thead>\n",
       "    <tr style=\"text-align: right;\">\n",
       "      <th></th>\n",
       "      <th>cluster</th>\n",
       "      <th>jsd</th>\n",
       "    </tr>\n",
       "  </thead>\n",
       "  <tbody>\n",
       "    <tr>\n",
       "      <th>0</th>\n",
       "      <td>1</td>\n",
       "      <td>0.380083</td>\n",
       "    </tr>\n",
       "    <tr>\n",
       "      <th>1</th>\n",
       "      <td>2</td>\n",
       "      <td>0.440818</td>\n",
       "    </tr>\n",
       "    <tr>\n",
       "      <th>2</th>\n",
       "      <td>3</td>\n",
       "      <td>0.511938</td>\n",
       "    </tr>\n",
       "    <tr>\n",
       "      <th>3</th>\n",
       "      <td>4</td>\n",
       "      <td>0.443157</td>\n",
       "    </tr>\n",
       "    <tr>\n",
       "      <th>4</th>\n",
       "      <td>5</td>\n",
       "      <td>0.518887</td>\n",
       "    </tr>\n",
       "    <tr>\n",
       "      <th>5</th>\n",
       "      <td>6</td>\n",
       "      <td>0.488549</td>\n",
       "    </tr>\n",
       "    <tr>\n",
       "      <th>6</th>\n",
       "      <td>7</td>\n",
       "      <td>0.520585</td>\n",
       "    </tr>\n",
       "    <tr>\n",
       "      <th>7</th>\n",
       "      <td>8</td>\n",
       "      <td>0.392781</td>\n",
       "    </tr>\n",
       "    <tr>\n",
       "      <th>8</th>\n",
       "      <td>9</td>\n",
       "      <td>0.530098</td>\n",
       "    </tr>\n",
       "    <tr>\n",
       "      <th>9</th>\n",
       "      <td>10</td>\n",
       "      <td>0.527296</td>\n",
       "    </tr>\n",
       "    <tr>\n",
       "      <th>10</th>\n",
       "      <td>11</td>\n",
       "      <td>0.497742</td>\n",
       "    </tr>\n",
       "    <tr>\n",
       "      <th>11</th>\n",
       "      <td>12</td>\n",
       "      <td>0.483303</td>\n",
       "    </tr>\n",
       "    <tr>\n",
       "      <th>12</th>\n",
       "      <td>13</td>\n",
       "      <td>0.519785</td>\n",
       "    </tr>\n",
       "    <tr>\n",
       "      <th>13</th>\n",
       "      <td>14</td>\n",
       "      <td>0.443112</td>\n",
       "    </tr>\n",
       "    <tr>\n",
       "      <th>14</th>\n",
       "      <td>15</td>\n",
       "      <td>0.523378</td>\n",
       "    </tr>\n",
       "  </tbody>\n",
       "</table>\n",
       "</div>"
      ],
      "text/plain": [
       "    cluster       jsd\n",
       "0         1  0.380083\n",
       "1         2  0.440818\n",
       "2         3  0.511938\n",
       "3         4  0.443157\n",
       "4         5  0.518887\n",
       "5         6  0.488549\n",
       "6         7  0.520585\n",
       "7         8  0.392781\n",
       "8         9  0.530098\n",
       "9        10  0.527296\n",
       "10       11  0.497742\n",
       "11       12  0.483303\n",
       "12       13  0.519785\n",
       "13       14  0.443112\n",
       "14       15  0.523378"
      ]
     },
     "execution_count": 26,
     "metadata": {},
     "output_type": "execute_result"
    }
   ],
   "source": [
    "df = pd.DataFrame({\"cluster\":list(jsds.keys()), \"jsd\":list(jsds.values())})\n",
    "df"
   ]
  },
  {
   "cell_type": "code",
   "execution_count": null,
   "metadata": {},
   "outputs": [],
   "source": [
    "df.to_csv(\"./pseudorep.tsv\", sep='\\t', index=False)"
   ]
  },
  {
   "cell_type": "code",
   "execution_count": null,
   "metadata": {},
   "outputs": [],
   "source": []
  }
 ],
 "metadata": {
  "kernelspec": {
   "display_name": "Python 3",
   "language": "python",
   "name": "python3"
  },
  "language_info": {
   "codemirror_mode": {
    "name": "ipython",
    "version": 3
   },
   "file_extension": ".py",
   "mimetype": "text/x-python",
   "name": "python",
   "nbconvert_exporter": "python",
   "pygments_lexer": "ipython3",
   "version": "3.8.2"
  }
 },
 "nbformat": 4,
 "nbformat_minor": 4
}
