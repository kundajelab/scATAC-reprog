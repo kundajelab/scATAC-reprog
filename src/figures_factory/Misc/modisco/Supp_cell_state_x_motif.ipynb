{
 "cells": [
  {
   "cell_type": "markdown",
   "metadata": {},
   "source": [
    "# Cell state x motif plot\n",
    "\n",
    "Supp plot showing which motifs were extracted from each cell type (for the curated motif set).\n",
    "\n",
    "Inputs:\n",
    "1. Cluster config\n",
    "2. One file per cell state with motif annotation and number of seqlets."
   ]
  },
  {
   "cell_type": "code",
   "execution_count": 1,
   "metadata": {},
   "outputs": [
    {
     "name": "stderr",
     "output_type": "stream",
     "text": [
      "\n",
      "Attaching package: ‘dplyr’\n",
      "\n",
      "\n",
      "The following objects are masked from ‘package:stats’:\n",
      "\n",
      "    filter, lag\n",
      "\n",
      "\n",
      "The following objects are masked from ‘package:base’:\n",
      "\n",
      "    intersect, setdiff, setequal, union\n",
      "\n",
      "\n"
     ]
    }
   ],
   "source": [
    "library(ggplot2)\n",
    "library(dplyr)\n",
    "library(scales)"
   ]
  },
  {
   "cell_type": "markdown",
   "metadata": {},
   "source": [
    "## Load inputs"
   ]
  },
  {
   "cell_type": "code",
   "execution_count": 2,
   "metadata": {},
   "outputs": [],
   "source": [
    "NUM_CLUST = 15"
   ]
  },
  {
   "cell_type": "markdown",
   "metadata": {},
   "source": [
    "### Cluster config"
   ]
  },
  {
   "cell_type": "code",
   "execution_count": 4,
   "metadata": {},
   "outputs": [
    {
     "data": {
      "text/html": [
       "<table>\n",
       "<caption>A data.frame: 15 × 4</caption>\n",
       "<thead>\n",
       "\t<tr><th scope=col>cluster</th><th scope=col>colour</th><th scope=col>description</th><th scope=col>new_cluster</th></tr>\n",
       "\t<tr><th scope=col>&lt;int&gt;</th><th scope=col>&lt;chr&gt;</th><th scope=col>&lt;chr&gt;</th><th scope=col>&lt;int&gt;</th></tr>\n",
       "</thead>\n",
       "<tbody>\n",
       "\t<tr><td> 1</td><td>#B03743</td><td>Fibroblast            </td><td> 1</td></tr>\n",
       "\t<tr><td> 2</td><td>#E85F6D</td><td>Fibroblast-like       </td><td> 3</td></tr>\n",
       "\t<tr><td> 3</td><td>#7C2730</td><td>Fibroblast-like       </td><td> 2</td></tr>\n",
       "\t<tr><td> 4</td><td>#F0A118</td><td>Intermediate          </td><td>12</td></tr>\n",
       "\t<tr><td> 5</td><td>#78A824</td><td>Pre-iPSC              </td><td>13</td></tr>\n",
       "\t<tr><td> 6</td><td>#A6D854</td><td>Pre-iPSC              </td><td>14</td></tr>\n",
       "\t<tr><td> 7</td><td>#F01D35</td><td>Fibroblast-like       </td><td> 5</td></tr>\n",
       "\t<tr><td> 8</td><td>#13C4A3</td><td>iPSC                  </td><td>15</td></tr>\n",
       "\t<tr><td> 9</td><td>#406614</td><td>Partially-reprogrammed</td><td>10</td></tr>\n",
       "\t<tr><td>10</td><td>#D4B81C</td><td>Intermediate          </td><td> 9</td></tr>\n",
       "\t<tr><td>11</td><td>#006658</td><td>xOSK                  </td><td> 8</td></tr>\n",
       "\t<tr><td>12</td><td>#CF175A</td><td>Fibroblast-like       </td><td> 4</td></tr>\n",
       "\t<tr><td>13</td><td>#F7A6C2</td><td>Keratinocyte-like     </td><td> 6</td></tr>\n",
       "\t<tr><td>14</td><td>#F4D5CD</td><td>Intermediate          </td><td>11</td></tr>\n",
       "\t<tr><td>15</td><td>#F0520A</td><td>hOSK                  </td><td> 7</td></tr>\n",
       "</tbody>\n",
       "</table>\n"
      ],
      "text/latex": [
       "A data.frame: 15 × 4\n",
       "\\begin{tabular}{llll}\n",
       " cluster & colour & description & new\\_cluster\\\\\n",
       " <int> & <chr> & <chr> & <int>\\\\\n",
       "\\hline\n",
       "\t  1 & \\#B03743 & Fibroblast             &  1\\\\\n",
       "\t  2 & \\#E85F6D & Fibroblast-like        &  3\\\\\n",
       "\t  3 & \\#7C2730 & Fibroblast-like        &  2\\\\\n",
       "\t  4 & \\#F0A118 & Intermediate           & 12\\\\\n",
       "\t  5 & \\#78A824 & Pre-iPSC               & 13\\\\\n",
       "\t  6 & \\#A6D854 & Pre-iPSC               & 14\\\\\n",
       "\t  7 & \\#F01D35 & Fibroblast-like        &  5\\\\\n",
       "\t  8 & \\#13C4A3 & iPSC                   & 15\\\\\n",
       "\t  9 & \\#406614 & Partially-reprogrammed & 10\\\\\n",
       "\t 10 & \\#D4B81C & Intermediate           &  9\\\\\n",
       "\t 11 & \\#006658 & xOSK                   &  8\\\\\n",
       "\t 12 & \\#CF175A & Fibroblast-like        &  4\\\\\n",
       "\t 13 & \\#F7A6C2 & Keratinocyte-like      &  6\\\\\n",
       "\t 14 & \\#F4D5CD & Intermediate           & 11\\\\\n",
       "\t 15 & \\#F0520A & hOSK                   &  7\\\\\n",
       "\\end{tabular}\n"
      ],
      "text/markdown": [
       "\n",
       "A data.frame: 15 × 4\n",
       "\n",
       "| cluster &lt;int&gt; | colour &lt;chr&gt; | description &lt;chr&gt; | new_cluster &lt;int&gt; |\n",
       "|---|---|---|---|\n",
       "|  1 | #B03743 | Fibroblast             |  1 |\n",
       "|  2 | #E85F6D | Fibroblast-like        |  3 |\n",
       "|  3 | #7C2730 | Fibroblast-like        |  2 |\n",
       "|  4 | #F0A118 | Intermediate           | 12 |\n",
       "|  5 | #78A824 | Pre-iPSC               | 13 |\n",
       "|  6 | #A6D854 | Pre-iPSC               | 14 |\n",
       "|  7 | #F01D35 | Fibroblast-like        |  5 |\n",
       "|  8 | #13C4A3 | iPSC                   | 15 |\n",
       "|  9 | #406614 | Partially-reprogrammed | 10 |\n",
       "| 10 | #D4B81C | Intermediate           |  9 |\n",
       "| 11 | #006658 | xOSK                   |  8 |\n",
       "| 12 | #CF175A | Fibroblast-like        |  4 |\n",
       "| 13 | #F7A6C2 | Keratinocyte-like      |  6 |\n",
       "| 14 | #F4D5CD | Intermediate           | 11 |\n",
       "| 15 | #F0520A | hOSK                   |  7 |\n",
       "\n"
      ],
      "text/plain": [
       "   cluster colour  description            new_cluster\n",
       "1   1      #B03743 Fibroblast              1         \n",
       "2   2      #E85F6D Fibroblast-like         3         \n",
       "3   3      #7C2730 Fibroblast-like         2         \n",
       "4   4      #F0A118 Intermediate           12         \n",
       "5   5      #78A824 Pre-iPSC               13         \n",
       "6   6      #A6D854 Pre-iPSC               14         \n",
       "7   7      #F01D35 Fibroblast-like         5         \n",
       "8   8      #13C4A3 iPSC                   15         \n",
       "9   9      #406614 Partially-reprogrammed 10         \n",
       "10 10      #D4B81C Intermediate            9         \n",
       "11 11      #006658 xOSK                    8         \n",
       "12 12      #CF175A Fibroblast-like         4         \n",
       "13 13      #F7A6C2 Keratinocyte-like       6         \n",
       "14 14      #F4D5CD Intermediate           11         \n",
       "15 15      #F0520A hOSK                    7         "
      ]
     },
     "metadata": {},
     "output_type": "display_data"
    }
   ],
   "source": [
    "cluster_config = read.table(\"../../../figures_factory/configs/cluster.tsv\", comment.char = '', header=T, sep='\\t', stringsAsFactors = F)\n",
    "cluster_config"
   ]
  },
  {
   "cell_type": "markdown",
   "metadata": {},
   "source": [
    "### Per cell state annotated MoDISco motifs"
   ]
  },
  {
   "cell_type": "code",
   "execution_count": 5,
   "metadata": {},
   "outputs": [
    {
     "data": {
      "text/html": [
       "<table>\n",
       "<caption>A data.frame: 6 × 4</caption>\n",
       "<thead>\n",
       "\t<tr><th></th><th scope=col>Pattern</th><th scope=col>num_seqlets</th><th scope=col>match_1</th><th scope=col>q.value</th></tr>\n",
       "\t<tr><th></th><th scope=col>&lt;chr&gt;</th><th scope=col>&lt;int&gt;</th><th scope=col>&lt;chr&gt;</th><th scope=col>&lt;dbl&gt;</th></tr>\n",
       "</thead>\n",
       "<tbody>\n",
       "\t<tr><th scope=row>1</th><td>pattern_0</td><td>5944</td><td>CTCF</td><td>2.04043e-15</td></tr>\n",
       "\t<tr><th scope=row>2</th><td>pattern_1</td><td>5056</td><td>AP1 </td><td>1.53199e-09</td></tr>\n",
       "\t<tr><th scope=row>3</th><td>pattern_2</td><td>1258</td><td>BHLH</td><td>4.55782e-08</td></tr>\n",
       "\t<tr><th scope=row>4</th><td>pattern_3</td><td>1239</td><td>NFI </td><td>3.50974e-20</td></tr>\n",
       "\t<tr><th scope=row>5</th><td>pattern_4</td><td> 896</td><td>FOX </td><td>5.75062e-13</td></tr>\n",
       "\t<tr><th scope=row>6</th><td>pattern_5</td><td> 816</td><td>CREB</td><td>9.11878e-12</td></tr>\n",
       "</tbody>\n",
       "</table>\n"
      ],
      "text/latex": [
       "A data.frame: 6 × 4\n",
       "\\begin{tabular}{r|llll}\n",
       "  & Pattern & num\\_seqlets & match\\_1 & q.value\\\\\n",
       "  & <chr> & <int> & <chr> & <dbl>\\\\\n",
       "\\hline\n",
       "\t1 & pattern\\_0 & 5944 & CTCF & 2.04043e-15\\\\\n",
       "\t2 & pattern\\_1 & 5056 & AP1  & 1.53199e-09\\\\\n",
       "\t3 & pattern\\_2 & 1258 & BHLH & 4.55782e-08\\\\\n",
       "\t4 & pattern\\_3 & 1239 & NFI  & 3.50974e-20\\\\\n",
       "\t5 & pattern\\_4 &  896 & FOX  & 5.75062e-13\\\\\n",
       "\t6 & pattern\\_5 &  816 & CREB & 9.11878e-12\\\\\n",
       "\\end{tabular}\n"
      ],
      "text/markdown": [
       "\n",
       "A data.frame: 6 × 4\n",
       "\n",
       "| <!--/--> | Pattern &lt;chr&gt; | num_seqlets &lt;int&gt; | match_1 &lt;chr&gt; | q.value &lt;dbl&gt; |\n",
       "|---|---|---|---|---|\n",
       "| 1 | pattern_0 | 5944 | CTCF | 2.04043e-15 |\n",
       "| 2 | pattern_1 | 5056 | AP1  | 1.53199e-09 |\n",
       "| 3 | pattern_2 | 1258 | BHLH | 4.55782e-08 |\n",
       "| 4 | pattern_3 | 1239 | NFI  | 3.50974e-20 |\n",
       "| 5 | pattern_4 |  896 | FOX  | 5.75062e-13 |\n",
       "| 6 | pattern_5 |  816 | CREB | 9.11878e-12 |\n",
       "\n"
      ],
      "text/plain": [
       "  Pattern   num_seqlets match_1 q.value    \n",
       "1 pattern_0 5944        CTCF    2.04043e-15\n",
       "2 pattern_1 5056        AP1     1.53199e-09\n",
       "3 pattern_2 1258        BHLH    4.55782e-08\n",
       "4 pattern_3 1239        NFI     3.50974e-20\n",
       "5 pattern_4  896        FOX     5.75062e-13\n",
       "6 pattern_5  816        CREB    9.11878e-12"
      ]
     },
     "metadata": {},
     "output_type": "display_data"
    }
   ],
   "source": [
    "modisco_annotated = list()\n",
    "\n",
    "for (i in seq(NUM_CLUST)) {\n",
    "    modisco_annotated[[i]] = read.table(sprintf(\"../../../analysis/20230607_re_modisco_breakdown/manually_adjusted/cluster_idx%d.txt\", i), \n",
    "                                        sep='\\t', \n",
    "                                        header=T,\n",
    "                                       stringsAsFactors=F)\n",
    "    \n",
    "}\n",
    "\n",
    "head(modisco_annotated[[1]])"
   ]
  },
  {
   "cell_type": "markdown",
   "metadata": {},
   "source": [
    "## Plot\n",
    "\n",
    "Motifs with \":\" are dimers of 30 curated motifs, which can be ignored for now.\n",
    "\n",
    "Multiple patterns can match to the same motif."
   ]
  },
  {
   "cell_type": "code",
   "execution_count": 7,
   "metadata": {},
   "outputs": [],
   "source": [
    "QVAL = 0.05"
   ]
  },
  {
   "cell_type": "code",
   "execution_count": 25,
   "metadata": {},
   "outputs": [],
   "source": [
    "motif_names = c()\n",
    "\n",
    "for (i in seq(NUM_CLUST)) {\n",
    "    motif_names = c(motif_names , modisco_annotated[[i]]$match_1)\n",
    "}\n",
    "motif_names = rev(sort(table(motif_names)))"
   ]
  },
  {
   "cell_type": "code",
   "execution_count": 26,
   "metadata": {},
   "outputs": [
    {
     "data": {
      "text/plain": [
       "motif_names\n",
       "    OCT-SOX         ETS          SP         AP1         KLF        CTCF \n",
       "         27          25          22          22          19          18 \n",
       "        NRF        CREB        BHLH      ZNF143         RFX        REST \n",
       "         16          16          16          15          15          13 \n",
       "        NFY         NFI        TEAD         OCT         SOX    AP1:TEAD \n",
       "         12          12          11          11          10          10 \n",
       "    SOX:SOX         FOX       TFAP2        RUNX         SIX     KLF:KLF \n",
       "          9           9           8           7           6           6 \n",
       "   CREB:ETS         COE        CEBP OCT-SOX:KLF        NFKB        MEF2 \n",
       "          5           5           5           4           4           4 \n",
       "  CREB:TEAD     AP1:ETS         ZIC         IRF     AP1:KLF   TEAD-TEAD \n",
       "          4           4           3           3           3           2 \n",
       "  RUNX:TEAD     ETS:ETS    OCT:TEAD        GRHL         EGR     AP1:OCT \n",
       "          2           2           1           1           1           1 \n",
       "    AP1:FOX \n",
       "          1 "
      ]
     },
     "metadata": {},
     "output_type": "display_data"
    }
   ],
   "source": [
    "motif_names"
   ]
  },
  {
   "cell_type": "code",
   "execution_count": 27,
   "metadata": {},
   "outputs": [
    {
     "data": {
      "text/html": [
       "<style>\n",
       ".list-inline {list-style: none; margin:0; padding: 0}\n",
       ".list-inline>li {display: inline-block}\n",
       ".list-inline>li:not(:last-child)::after {content: \"\\00b7\"; padding: 0 .5ex}\n",
       "</style>\n",
       "<ol class=list-inline><li>'OCT-SOX'</li><li>'ETS'</li><li>'SP'</li><li>'AP1'</li><li>'KLF'</li><li>'CTCF'</li><li>'NRF'</li><li>'CREB'</li><li>'BHLH'</li><li>'ZNF143'</li><li>'RFX'</li><li>'REST'</li><li>'NFY'</li><li>'NFI'</li><li>'TEAD'</li><li>'OCT'</li><li>'SOX'</li><li>'FOX'</li><li>'TFAP2'</li><li>'RUNX'</li><li>'SIX'</li><li>'COE'</li><li>'CEBP'</li><li>'NFKB'</li><li>'MEF2'</li><li>'ZIC'</li><li>'IRF'</li><li>'TEAD-TEAD'</li><li>'GRHL'</li><li>'EGR'</li></ol>\n"
      ],
      "text/latex": [
       "\\begin{enumerate*}\n",
       "\\item 'OCT-SOX'\n",
       "\\item 'ETS'\n",
       "\\item 'SP'\n",
       "\\item 'AP1'\n",
       "\\item 'KLF'\n",
       "\\item 'CTCF'\n",
       "\\item 'NRF'\n",
       "\\item 'CREB'\n",
       "\\item 'BHLH'\n",
       "\\item 'ZNF143'\n",
       "\\item 'RFX'\n",
       "\\item 'REST'\n",
       "\\item 'NFY'\n",
       "\\item 'NFI'\n",
       "\\item 'TEAD'\n",
       "\\item 'OCT'\n",
       "\\item 'SOX'\n",
       "\\item 'FOX'\n",
       "\\item 'TFAP2'\n",
       "\\item 'RUNX'\n",
       "\\item 'SIX'\n",
       "\\item 'COE'\n",
       "\\item 'CEBP'\n",
       "\\item 'NFKB'\n",
       "\\item 'MEF2'\n",
       "\\item 'ZIC'\n",
       "\\item 'IRF'\n",
       "\\item 'TEAD-TEAD'\n",
       "\\item 'GRHL'\n",
       "\\item 'EGR'\n",
       "\\end{enumerate*}\n"
      ],
      "text/markdown": [
       "1. 'OCT-SOX'\n",
       "2. 'ETS'\n",
       "3. 'SP'\n",
       "4. 'AP1'\n",
       "5. 'KLF'\n",
       "6. 'CTCF'\n",
       "7. 'NRF'\n",
       "8. 'CREB'\n",
       "9. 'BHLH'\n",
       "10. 'ZNF143'\n",
       "11. 'RFX'\n",
       "12. 'REST'\n",
       "13. 'NFY'\n",
       "14. 'NFI'\n",
       "15. 'TEAD'\n",
       "16. 'OCT'\n",
       "17. 'SOX'\n",
       "18. 'FOX'\n",
       "19. 'TFAP2'\n",
       "20. 'RUNX'\n",
       "21. 'SIX'\n",
       "22. 'COE'\n",
       "23. 'CEBP'\n",
       "24. 'NFKB'\n",
       "25. 'MEF2'\n",
       "26. 'ZIC'\n",
       "27. 'IRF'\n",
       "28. 'TEAD-TEAD'\n",
       "29. 'GRHL'\n",
       "30. 'EGR'\n",
       "\n",
       "\n"
      ],
      "text/plain": [
       " [1] \"OCT-SOX\"   \"ETS\"       \"SP\"        \"AP1\"       \"KLF\"       \"CTCF\"     \n",
       " [7] \"NRF\"       \"CREB\"      \"BHLH\"      \"ZNF143\"    \"RFX\"       \"REST\"     \n",
       "[13] \"NFY\"       \"NFI\"       \"TEAD\"      \"OCT\"       \"SOX\"       \"FOX\"      \n",
       "[19] \"TFAP2\"     \"RUNX\"      \"SIX\"       \"COE\"       \"CEBP\"      \"NFKB\"     \n",
       "[25] \"MEF2\"      \"ZIC\"       \"IRF\"       \"TEAD-TEAD\" \"GRHL\"      \"EGR\"      "
      ]
     },
     "metadata": {},
     "output_type": "display_data"
    }
   ],
   "source": [
    "non_dimer = names(motif_names)[!grepl(\":\", names(motif_names))]\n",
    "non_dimer"
   ]
  },
  {
   "cell_type": "code",
   "execution_count": 168,
   "metadata": {},
   "outputs": [],
   "source": [
    "MOTIF_SUBSET = non_dimer\n",
    "# MOTIF_SUBSET = names(motif_names)"
   ]
  },
  {
   "cell_type": "code",
   "execution_count": 169,
   "metadata": {},
   "outputs": [],
   "source": [
    "filtered_modisco = list()\n",
    "\n",
    "for (i in seq(NUM_CLUST)) {\n",
    "    cur = modisco_annotated[[i]]\n",
    "    cur = cur[cur$q.value < QVAL, ]\n",
    "    cur$frac = cur$num_seqlets/sum(cur$num_seqlets)\n",
    "    cur = cur[cur$match_1 %in% MOTIF_SUBSET, c(\"frac\", \"match_1\")]\n",
    "    cur = cur %>% group_by(match_1) %>% summarize_all(sum)\n",
    "    cur$log10_frac = log10(cur$frac)\n",
    "    \n",
    "    filtered_modisco[[i]] = cur\n",
    "}"
   ]
  },
  {
   "cell_type": "code",
   "execution_count": 170,
   "metadata": {},
   "outputs": [],
   "source": [
    "plot_df = data.frame()\n",
    "\n",
    "for (i in seq(NUM_CLUST)) {\n",
    "    cur = filtered_modisco[[i]]\n",
    "    cur$new_cluster = cluster_config[i, \"new_cluster\"]\n",
    "    \n",
    "    plot_df = rbind(plot_df, cur)\n",
    "}"
   ]
  },
  {
   "cell_type": "code",
   "execution_count": null,
   "metadata": {},
   "outputs": [],
   "source": []
  },
  {
   "cell_type": "code",
   "execution_count": 171,
   "metadata": {},
   "outputs": [
    {
     "data": {
      "image/png": "[encoded data removed]",
      "text/plain": [
       "plot without title"
      ]
     },
     "metadata": {
      "image/png": {
       "height": 360,
       "width": 720
      },
      "text/plain": {
       "height": 360,
       "width": 720
      }
     },
     "output_type": "display_data"
    }
   ],
   "source": [
    "options(repr.plot.width = 12, repr.plot.height = 6)\n",
    "\n",
    "ggplot(plot_df) +\n",
    "geom_tile(aes(x=match_1, y=factor(new_cluster, levels=rev(seq(NUM_CLUST))), fill=frac)) +\n",
    "scale_fill_gradient(low=\"gray90\",\n",
    "                      high=\"violetred4\",\n",
    "                      limits=c(0.01, 0.3),\n",
    "                      oob=squish,\n",
    "                      trans='log10', \n",
    "                      name=\"Log10 fraction\") +\n",
    "xlab(\"TF\") +\n",
    "ylab(\"\") +\n",
    "theme_bw() +\n",
    "theme(axis.text.x = element_text(angle = 90, hjust=0.95), # rotate TF text\n",
    "      strip.background = element_blank(),\n",
    "      panel.grid.major = element_blank(),\n",
    "          text = element_text(size=15)) "
   ]
  },
  {
   "cell_type": "code",
   "execution_count": null,
   "metadata": {},
   "outputs": [],
   "source": []
  },
  {
   "cell_type": "markdown",
   "metadata": {},
   "source": [
    "Order for TFs based on similarity"
   ]
  },
  {
   "cell_type": "code",
   "execution_count": 172,
   "metadata": {},
   "outputs": [
    {
     "data": {
      "text/html": [
       "<table>\n",
       "<caption>A tibble: 6 × 4</caption>\n",
       "<thead>\n",
       "\t<tr><th scope=col>match_1</th><th scope=col>frac</th><th scope=col>log10_frac</th><th scope=col>new_cluster</th></tr>\n",
       "\t<tr><th scope=col>&lt;chr&gt;</th><th scope=col>&lt;dbl&gt;</th><th scope=col>&lt;dbl&gt;</th><th scope=col>&lt;int&gt;</th></tr>\n",
       "</thead>\n",
       "<tbody>\n",
       "\t<tr><td>AP1 </td><td>0.266486695</td><td>-0.5743245</td><td>1</td></tr>\n",
       "\t<tr><td>BHLH</td><td>0.060644042</td><td>-1.2172119</td><td>1</td></tr>\n",
       "\t<tr><td>CEBP</td><td>0.021741226</td><td>-1.6627160</td><td>1</td></tr>\n",
       "\t<tr><td>CREB</td><td>0.059583494</td><td>-1.2248740</td><td>1</td></tr>\n",
       "\t<tr><td>CTCF</td><td>0.286540686</td><td>-0.5428137</td><td>1</td></tr>\n",
       "\t<tr><td>ETS </td><td>0.008580794</td><td>-2.0664725</td><td>1</td></tr>\n",
       "</tbody>\n",
       "</table>\n"
      ],
      "text/latex": [
       "A tibble: 6 × 4\n",
       "\\begin{tabular}{llll}\n",
       " match\\_1 & frac & log10\\_frac & new\\_cluster\\\\\n",
       " <chr> & <dbl> & <dbl> & <int>\\\\\n",
       "\\hline\n",
       "\t AP1  & 0.266486695 & -0.5743245 & 1\\\\\n",
       "\t BHLH & 0.060644042 & -1.2172119 & 1\\\\\n",
       "\t CEBP & 0.021741226 & -1.6627160 & 1\\\\\n",
       "\t CREB & 0.059583494 & -1.2248740 & 1\\\\\n",
       "\t CTCF & 0.286540686 & -0.5428137 & 1\\\\\n",
       "\t ETS  & 0.008580794 & -2.0664725 & 1\\\\\n",
       "\\end{tabular}\n"
      ],
      "text/markdown": [
       "\n",
       "A tibble: 6 × 4\n",
       "\n",
       "| match_1 &lt;chr&gt; | frac &lt;dbl&gt; | log10_frac &lt;dbl&gt; | new_cluster &lt;int&gt; |\n",
       "|---|---|---|---|\n",
       "| AP1  | 0.266486695 | -0.5743245 | 1 |\n",
       "| BHLH | 0.060644042 | -1.2172119 | 1 |\n",
       "| CEBP | 0.021741226 | -1.6627160 | 1 |\n",
       "| CREB | 0.059583494 | -1.2248740 | 1 |\n",
       "| CTCF | 0.286540686 | -0.5428137 | 1 |\n",
       "| ETS  | 0.008580794 | -2.0664725 | 1 |\n",
       "\n"
      ],
      "text/plain": [
       "  match_1 frac        log10_frac new_cluster\n",
       "1 AP1     0.266486695 -0.5743245 1          \n",
       "2 BHLH    0.060644042 -1.2172119 1          \n",
       "3 CEBP    0.021741226 -1.6627160 1          \n",
       "4 CREB    0.059583494 -1.2248740 1          \n",
       "5 CTCF    0.286540686 -0.5428137 1          \n",
       "6 ETS     0.008580794 -2.0664725 1          "
      ]
     },
     "metadata": {},
     "output_type": "display_data"
    }
   ],
   "source": [
    "head(plot_df)"
   ]
  },
  {
   "cell_type": "code",
   "execution_count": null,
   "metadata": {},
   "outputs": [],
   "source": []
  },
  {
   "cell_type": "code",
   "execution_count": 173,
   "metadata": {},
   "outputs": [
    {
     "data": {
      "text/html": [
       "'SP'"
      ],
      "text/latex": [
       "'SP'"
      ],
      "text/markdown": [
       "'SP'"
      ],
      "text/plain": [
       "[1] \"SP\""
      ]
     },
     "metadata": {},
     "output_type": "display_data"
    }
   ],
   "source": [
    "plot_df[i, ]$match_1"
   ]
  },
  {
   "cell_type": "code",
   "execution_count": 174,
   "metadata": {},
   "outputs": [
    {
     "data": {
      "text/html": [],
      "text/latex": [],
      "text/markdown": [],
      "text/plain": [
       "integer(0)"
      ]
     },
     "metadata": {},
     "output_type": "display_data"
    }
   ],
   "source": [
    "which(MOTIF_SUBSET == plot_df[i, \"match_1\"])"
   ]
  },
  {
   "cell_type": "code",
   "execution_count": 175,
   "metadata": {},
   "outputs": [],
   "source": [
    "log10_matrix = matrix(1, length(MOTIF_SUBSET), NUM_CLUST)\n",
    "\n",
    "log10_matrix = (min(plot_df$log10_frac) - 1)*log10_matrix\n",
    "\n",
    "for (i in seq(nrow(plot_df))) {\n",
    "    log10_matrix[which(MOTIF_SUBSET == plot_df[i, ]$match_1), plot_df[i,]$new_cluster] = plot_df[i,]$log10_frac\n",
    "}\n",
    "\n",
    "log10_matrix = t(log10_matrix)"
   ]
  },
  {
   "cell_type": "code",
   "execution_count": 210,
   "metadata": {},
   "outputs": [],
   "source": [
    "tf_hclust = hclust(dist(t(scale(log10_matrix)), method = \"euclidean\"), method = \"ward.D\") # using scale to group by trend and not absolute values\n",
    "tf_dendro = as.dendrogram(tf_hclust)\n",
    "tf_dendro = reorder(tf_dendro, colSums(log10_matrix* seq(1,length(MOTIF_SUBSET)))/colSums(log10_matrix))\n",
    "tf_order = as.hclust(tf_dendro)$order"
   ]
  },
  {
   "cell_type": "code",
   "execution_count": null,
   "metadata": {},
   "outputs": [],
   "source": []
  },
  {
   "cell_type": "code",
   "execution_count": 211,
   "metadata": {},
   "outputs": [
    {
     "data": {
      "text/html": [
       "<style>\n",
       ".list-inline {list-style: none; margin:0; padding: 0}\n",
       ".list-inline>li {display: inline-block}\n",
       ".list-inline>li:not(:last-child)::after {content: \"\\00b7\"; padding: 0 .5ex}\n",
       "</style>\n",
       "<ol class=list-inline><li>30</li><li>25</li><li>24</li><li>27</li><li>23</li><li>20</li><li>18</li><li>9</li><li>14</li><li>4</li><li>8</li><li>5</li><li>1</li><li>17</li><li>19</li><li>22</li><li>16</li><li>28</li><li>29</li><li>26</li><li>7</li><li>10</li><li>13</li><li>2</li><li>15</li><li>3</li><li>21</li><li>12</li><li>11</li><li>6</li></ol>\n"
      ],
      "text/latex": [
       "\\begin{enumerate*}\n",
       "\\item 30\n",
       "\\item 25\n",
       "\\item 24\n",
       "\\item 27\n",
       "\\item 23\n",
       "\\item 20\n",
       "\\item 18\n",
       "\\item 9\n",
       "\\item 14\n",
       "\\item 4\n",
       "\\item 8\n",
       "\\item 5\n",
       "\\item 1\n",
       "\\item 17\n",
       "\\item 19\n",
       "\\item 22\n",
       "\\item 16\n",
       "\\item 28\n",
       "\\item 29\n",
       "\\item 26\n",
       "\\item 7\n",
       "\\item 10\n",
       "\\item 13\n",
       "\\item 2\n",
       "\\item 15\n",
       "\\item 3\n",
       "\\item 21\n",
       "\\item 12\n",
       "\\item 11\n",
       "\\item 6\n",
       "\\end{enumerate*}\n"
      ],
      "text/markdown": [
       "1. 30\n",
       "2. 25\n",
       "3. 24\n",
       "4. 27\n",
       "5. 23\n",
       "6. 20\n",
       "7. 18\n",
       "8. 9\n",
       "9. 14\n",
       "10. 4\n",
       "11. 8\n",
       "12. 5\n",
       "13. 1\n",
       "14. 17\n",
       "15. 19\n",
       "16. 22\n",
       "17. 16\n",
       "18. 28\n",
       "19. 29\n",
       "20. 26\n",
       "21. 7\n",
       "22. 10\n",
       "23. 13\n",
       "24. 2\n",
       "25. 15\n",
       "26. 3\n",
       "27. 21\n",
       "28. 12\n",
       "29. 11\n",
       "30. 6\n",
       "\n",
       "\n"
      ],
      "text/plain": [
       " [1] 30 25 24 27 23 20 18  9 14  4  8  5  1 17 19 22 16 28 29 26  7 10 13  2 15\n",
       "[26]  3 21 12 11  6"
      ]
     },
     "metadata": {},
     "output_type": "display_data"
    }
   ],
   "source": [
    "tf_order"
   ]
  },
  {
   "cell_type": "code",
   "execution_count": 212,
   "metadata": {},
   "outputs": [],
   "source": [
    "# bringing KLF and SP closer to each other as they are very similar motifs\n",
    "# but assignment tends to be exclusive"
   ]
  },
  {
   "cell_type": "code",
   "execution_count": 213,
   "metadata": {},
   "outputs": [],
   "source": [
    "tf_order = c(tf_order[1:12], tf_order[26], tf_order[13:25], tf_order[27:30])"
   ]
  },
  {
   "cell_type": "code",
   "execution_count": 215,
   "metadata": {},
   "outputs": [
    {
     "data": {
      "image/png": "[encoded data removed]",
      "text/plain": [
       "plot without title"
      ]
     },
     "metadata": {
      "image/png": {
       "height": 360,
       "width": 720
      },
      "text/plain": {
       "height": 360,
       "width": 720
      }
     },
     "output_type": "display_data"
    }
   ],
   "source": [
    "options(repr.plot.width = 12, repr.plot.height = 6)\n",
    "\n",
    "ggplot(plot_df) +\n",
    "geom_tile(aes(x=factor(match_1, levels=MOTIF_SUBSET[tf_order]), y=factor(new_cluster, levels=rev(seq(NUM_CLUST))), fill=frac)) +\n",
    "scale_fill_gradient(low=\"gray90\",\n",
    "                      high=\"violetred4\",\n",
    "                      limits=c(0.01, 0.3),\n",
    "                      oob=squish,\n",
    "                      trans='log10', \n",
    "                      name=\"Log10 fraction\") +\n",
    "xlab(\"Motif\") +\n",
    "ylab(\"\") +\n",
    "theme_bw() +\n",
    "theme(axis.text.x = element_text(angle = 90, hjust=0.95), # rotate TF text\n",
    "      strip.background = element_blank(),\n",
    "      panel.grid.major = element_blank(),\n",
    "          text = element_text(size=15)) "
   ]
  },
  {
   "cell_type": "code",
   "execution_count": 216,
   "metadata": {},
   "outputs": [],
   "source": [
    "ggsave(\"./motif_x_cell_state.pdf\", height=6, width=12, useDingbats=F)"
   ]
  },
  {
   "cell_type": "code",
   "execution_count": null,
   "metadata": {},
   "outputs": [],
   "source": []
  },
  {
   "cell_type": "code",
   "execution_count": null,
   "metadata": {},
   "outputs": [],
   "source": []
  }
 ],
 "metadata": {
  "kernelspec": {
   "display_name": "R",
   "language": "R",
   "name": "ir"
  },
  "language_info": {
   "codemirror_mode": "r",
   "file_extension": ".r",
   "mimetype": "text/x-r-source",
   "name": "R",
   "pygments_lexer": "r",
   "version": "3.6.3"
  }
 },
 "nbformat": 4,
 "nbformat_minor": 4
}
