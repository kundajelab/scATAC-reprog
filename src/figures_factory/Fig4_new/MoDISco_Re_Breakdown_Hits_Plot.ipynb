{
 "cells": [
  {
   "cell_type": "markdown",
   "metadata": {},
   "source": [
    "# MoDISco Hits Breakdown Plot\n",
    "\n",
    "For each cell state, show bar plot of proportions of top motifs as per counts of MoDISco seqlets.\n",
    "\n",
    "Based on `MoDISco_Breakdown_Plot.ipynb` and `MoDISco_Re_Breakdown_Plot.ipynb` but instead uses importance thresholded hits. \n",
    "\n",
    "Input:\n",
    "1. Cluster config\n",
    "2. One file per cell state with hits called.\n",
    "3. Motif list with metadata\n",
    "4. List of modisco motifs with annotation to filter (as the hits are called using all 30 motifs)."
   ]
  },
  {
   "cell_type": "code",
   "execution_count": 1,
   "metadata": {},
   "outputs": [
    {
     "name": "stderr",
     "output_type": "stream",
     "text": [
      "\n",
      "Attaching package: ‘dplyr’\n",
      "\n",
      "\n",
      "The following objects are masked from ‘package:stats’:\n",
      "\n",
      "    filter, lag\n",
      "\n",
      "\n",
      "The following objects are masked from ‘package:base’:\n",
      "\n",
      "    intersect, setdiff, setequal, union\n",
      "\n",
      "\n"
     ]
    }
   ],
   "source": [
    "library(ggplot2)\n",
    "library(dplyr)"
   ]
  },
  {
   "cell_type": "markdown",
   "metadata": {},
   "source": [
    "## Load Inputs"
   ]
  },
  {
   "cell_type": "code",
   "execution_count": 2,
   "metadata": {},
   "outputs": [],
   "source": [
    "NUM_CLUST = 15"
   ]
  },
  {
   "cell_type": "markdown",
   "metadata": {},
   "source": [
    "### Configs"
   ]
  },
  {
   "cell_type": "code",
   "execution_count": 3,
   "metadata": {},
   "outputs": [
    {
     "data": {
      "text/html": [
       "<table>\n",
       "<caption>A data.frame: 15 × 4</caption>\n",
       "<thead>\n",
       "\t<tr><th></th><th scope=col>cluster</th><th scope=col>colour</th><th scope=col>description</th><th scope=col>new_cluster</th></tr>\n",
       "\t<tr><th></th><th scope=col>&lt;int&gt;</th><th scope=col>&lt;chr&gt;</th><th scope=col>&lt;chr&gt;</th><th scope=col>&lt;int&gt;</th></tr>\n",
       "</thead>\n",
       "<tbody>\n",
       "\t<tr><th scope=row>1</th><td> 1</td><td>#B03743</td><td>Fibroblast            </td><td> 1</td></tr>\n",
       "\t<tr><th scope=row>2</th><td> 2</td><td>#E85F6D</td><td>Fibroblast-like       </td><td> 3</td></tr>\n",
       "\t<tr><th scope=row>3</th><td> 3</td><td>#7C2730</td><td>Fibroblast-like       </td><td> 2</td></tr>\n",
       "\t<tr><th scope=row>4</th><td> 4</td><td>#F0A118</td><td>Intermediate          </td><td>12</td></tr>\n",
       "\t<tr><th scope=row>5</th><td> 5</td><td>#78A824</td><td>Pre-iPSC              </td><td>13</td></tr>\n",
       "\t<tr><th scope=row>6</th><td> 6</td><td>#A6D854</td><td>Pre-iPSC              </td><td>14</td></tr>\n",
       "\t<tr><th scope=row>7</th><td> 7</td><td>#F01D35</td><td>Fibroblast-like       </td><td> 5</td></tr>\n",
       "\t<tr><th scope=row>8</th><td> 8</td><td>#13C4A3</td><td>iPSC                  </td><td>15</td></tr>\n",
       "\t<tr><th scope=row>9</th><td> 9</td><td>#406614</td><td>Partially-reprogrammed</td><td>10</td></tr>\n",
       "\t<tr><th scope=row>10</th><td>10</td><td>#D4B81C</td><td>Intermediate          </td><td> 9</td></tr>\n",
       "\t<tr><th scope=row>11</th><td>11</td><td>#006658</td><td>xOSK                  </td><td> 8</td></tr>\n",
       "\t<tr><th scope=row>12</th><td>12</td><td>#CF175A</td><td>Fibroblast-like       </td><td> 4</td></tr>\n",
       "\t<tr><th scope=row>13</th><td>13</td><td>#F7A6C2</td><td>Keratinocyte-like     </td><td> 6</td></tr>\n",
       "\t<tr><th scope=row>14</th><td>14</td><td>#F4D5CD</td><td>Intermediate          </td><td>11</td></tr>\n",
       "\t<tr><th scope=row>15</th><td>15</td><td>#F0520A</td><td>hOSK                  </td><td> 7</td></tr>\n",
       "</tbody>\n",
       "</table>\n"
      ],
      "text/latex": [
       "A data.frame: 15 × 4\n",
       "\\begin{tabular}{r|llll}\n",
       "  & cluster & colour & description & new\\_cluster\\\\\n",
       "  & <int> & <chr> & <chr> & <int>\\\\\n",
       "\\hline\n",
       "\t1 &  1 & \\#B03743 & Fibroblast             &  1\\\\\n",
       "\t2 &  2 & \\#E85F6D & Fibroblast-like        &  3\\\\\n",
       "\t3 &  3 & \\#7C2730 & Fibroblast-like        &  2\\\\\n",
       "\t4 &  4 & \\#F0A118 & Intermediate           & 12\\\\\n",
       "\t5 &  5 & \\#78A824 & Pre-iPSC               & 13\\\\\n",
       "\t6 &  6 & \\#A6D854 & Pre-iPSC               & 14\\\\\n",
       "\t7 &  7 & \\#F01D35 & Fibroblast-like        &  5\\\\\n",
       "\t8 &  8 & \\#13C4A3 & iPSC                   & 15\\\\\n",
       "\t9 &  9 & \\#406614 & Partially-reprogrammed & 10\\\\\n",
       "\t10 & 10 & \\#D4B81C & Intermediate           &  9\\\\\n",
       "\t11 & 11 & \\#006658 & xOSK                   &  8\\\\\n",
       "\t12 & 12 & \\#CF175A & Fibroblast-like        &  4\\\\\n",
       "\t13 & 13 & \\#F7A6C2 & Keratinocyte-like      &  6\\\\\n",
       "\t14 & 14 & \\#F4D5CD & Intermediate           & 11\\\\\n",
       "\t15 & 15 & \\#F0520A & hOSK                   &  7\\\\\n",
       "\\end{tabular}\n"
      ],
      "text/markdown": [
       "\n",
       "A data.frame: 15 × 4\n",
       "\n",
       "| <!--/--> | cluster &lt;int&gt; | colour &lt;chr&gt; | description &lt;chr&gt; | new_cluster &lt;int&gt; |\n",
       "|---|---|---|---|---|\n",
       "| 1 |  1 | #B03743 | Fibroblast             |  1 |\n",
       "| 2 |  2 | #E85F6D | Fibroblast-like        |  3 |\n",
       "| 3 |  3 | #7C2730 | Fibroblast-like        |  2 |\n",
       "| 4 |  4 | #F0A118 | Intermediate           | 12 |\n",
       "| 5 |  5 | #78A824 | Pre-iPSC               | 13 |\n",
       "| 6 |  6 | #A6D854 | Pre-iPSC               | 14 |\n",
       "| 7 |  7 | #F01D35 | Fibroblast-like        |  5 |\n",
       "| 8 |  8 | #13C4A3 | iPSC                   | 15 |\n",
       "| 9 |  9 | #406614 | Partially-reprogrammed | 10 |\n",
       "| 10 | 10 | #D4B81C | Intermediate           |  9 |\n",
       "| 11 | 11 | #006658 | xOSK                   |  8 |\n",
       "| 12 | 12 | #CF175A | Fibroblast-like        |  4 |\n",
       "| 13 | 13 | #F7A6C2 | Keratinocyte-like      |  6 |\n",
       "| 14 | 14 | #F4D5CD | Intermediate           | 11 |\n",
       "| 15 | 15 | #F0520A | hOSK                   |  7 |\n",
       "\n"
      ],
      "text/plain": [
       "   cluster colour  description            new_cluster\n",
       "1   1      #B03743 Fibroblast              1         \n",
       "2   2      #E85F6D Fibroblast-like         3         \n",
       "3   3      #7C2730 Fibroblast-like         2         \n",
       "4   4      #F0A118 Intermediate           12         \n",
       "5   5      #78A824 Pre-iPSC               13         \n",
       "6   6      #A6D854 Pre-iPSC               14         \n",
       "7   7      #F01D35 Fibroblast-like         5         \n",
       "8   8      #13C4A3 iPSC                   15         \n",
       "9   9      #406614 Partially-reprogrammed 10         \n",
       "10 10      #D4B81C Intermediate            9         \n",
       "11 11      #006658 xOSK                    8         \n",
       "12 12      #CF175A Fibroblast-like         4         \n",
       "13 13      #F7A6C2 Keratinocyte-like       6         \n",
       "14 14      #F4D5CD Intermediate           11         \n",
       "15 15      #F0520A hOSK                    7         "
      ]
     },
     "metadata": {},
     "output_type": "display_data"
    }
   ],
   "source": [
    "cluster_config = read.table(\"../../figures_factory/configs/cluster.tsv\", comment.char = '', header=T, sep='\\t')\n",
    "cluster_config$colour = as.character(cluster_config$colour)\n",
    "cluster_config$description = as.character(cluster_config$description)\n",
    "\n",
    "rownames(cluster_config) = cluster_config$cluster\n",
    "cluster_config"
   ]
  },
  {
   "cell_type": "markdown",
   "metadata": {},
   "source": [
    "### Motif Info"
   ]
  },
  {
   "cell_type": "code",
   "execution_count": 4,
   "metadata": {},
   "outputs": [
    {
     "data": {
      "text/html": [
       "<table>\n",
       "<caption>A data.frame: 30 × 2</caption>\n",
       "<thead>\n",
       "\t<tr><th></th><th scope=col>Vierstra_name</th><th scope=col>Label</th></tr>\n",
       "\t<tr><th></th><th scope=col>&lt;chr&gt;</th><th scope=col>&lt;chr&gt;</th></tr>\n",
       "</thead>\n",
       "<tbody>\n",
       "\t<tr><th scope=row>REST_MA0138.2</th><td>REST_MA0138.2        </td><td>REST     </td></tr>\n",
       "\t<tr><th scope=row>CTCF_MA0139.1</th><td>CTCF_MA0139.1        </td><td>CTCF     </td></tr>\n",
       "\t<tr><th scope=row>ZN143_MOUSE.H11MO.0.A</th><td>ZN143_MOUSE.H11MO.0.A</td><td>ZNF143   </td></tr>\n",
       "\t<tr><th scope=row>NFYB_HUMAN.H11MO.0.A</th><td>NFYB_HUMAN.H11MO.0.A </td><td>NFY      </td></tr>\n",
       "\t<tr><th scope=row>SIX1_HUMAN.H11MO.0.A</th><td>SIX1_HUMAN.H11MO.0.A </td><td>SIX      </td></tr>\n",
       "\t<tr><th scope=row>IRF1_MA0050.2</th><td>IRF1_MA0050.2        </td><td>IRF      </td></tr>\n",
       "\t<tr><th scope=row>MEF2D_MOUSE.H11MO.0.A</th><td>MEF2D_MOUSE.H11MO.0.A</td><td>MEF2     </td></tr>\n",
       "\t<tr><th scope=row>PO5F1_MOUSE.H11MO.0.A</th><td>PO5F1_MOUSE.H11MO.0.A</td><td>OCT-SOX  </td></tr>\n",
       "\t<tr><th scope=row>TEAD1_TEA_2</th><td>TEAD1_TEA_2          </td><td>TEAD-TEAD</td></tr>\n",
       "\t<tr><th scope=row>NFIC_HUMAN.H11MO.0.A</th><td>NFIC_HUMAN.H11MO.0.A </td><td>NFI      </td></tr>\n",
       "\t<tr><th scope=row>CEBPA_MA0102.3</th><td>CEBPA_MA0102.3       </td><td>CEBP     </td></tr>\n",
       "\t<tr><th scope=row>FOSL2_HUMAN.H11MO.0.A</th><td>FOSL2_HUMAN.H11MO.0.A</td><td>AP1      </td></tr>\n",
       "\t<tr><th scope=row>RFX2_MOUSE.H11MO.0.A</th><td>RFX2_MOUSE.H11MO.0.A </td><td>RFX      </td></tr>\n",
       "\t<tr><th scope=row>NRF1_HUMAN.H11MO.0.A</th><td>NRF1_HUMAN.H11MO.0.A </td><td>NRF      </td></tr>\n",
       "\t<tr><th scope=row>RUNX3_HUMAN.H11MO.0.A</th><td>RUNX3_HUMAN.H11MO.0.A</td><td>RUNX     </td></tr>\n",
       "\t<tr><th scope=row>GRHL1_CP2_1</th><td>GRHL1_CP2_1          </td><td>GRHL     </td></tr>\n",
       "\t<tr><th scope=row>ZIC3_HUMAN.H11MO.0.B</th><td>ZIC3_HUMAN.H11MO.0.B </td><td>ZIC      </td></tr>\n",
       "\t<tr><th scope=row>TEAD4_HUMAN.H11MO.0.A</th><td>TEAD4_HUMAN.H11MO.0.A</td><td>TEAD     </td></tr>\n",
       "\t<tr><th scope=row>ETS1_MOUSE.H11MO.0.A</th><td>ETS1_MOUSE.H11MO.0.A </td><td>ETS      </td></tr>\n",
       "\t<tr><th scope=row>ATF2_HUMAN.H11MO.0.B</th><td>ATF2_HUMAN.H11MO.0.B </td><td>CREB     </td></tr>\n",
       "\t<tr><th scope=row>TWST1_MOUSE.H11MO.0.B</th><td>TWST1_MOUSE.H11MO.0.B</td><td>BHLH     </td></tr>\n",
       "\t<tr><th scope=row>FOXC2_MA0846.1</th><td>FOXC2_MA0846.1       </td><td>FOX      </td></tr>\n",
       "\t<tr><th scope=row>NFKB1_HUMAN.H11MO.1.B</th><td>NFKB1_HUMAN.H11MO.1.B</td><td>NFKB     </td></tr>\n",
       "\t<tr><th scope=row>AP2A_MOUSE.H11MO.0.A</th><td>AP2A_MOUSE.H11MO.0.A </td><td>TFAP2    </td></tr>\n",
       "\t<tr><th scope=row>POU3F2_MA0787.1</th><td>POU3F2_MA0787.1      </td><td>OCT      </td></tr>\n",
       "\t<tr><th scope=row>EGR2_MOUSE.H11MO.0.A</th><td>EGR2_MOUSE.H11MO.0.A </td><td>EGR      </td></tr>\n",
       "\t<tr><th scope=row>COE1_HUMAN.H11MO.0.A</th><td>COE1_HUMAN.H11MO.0.A </td><td>COE      </td></tr>\n",
       "\t<tr><th scope=row>SOX15_MA1152.1</th><td>SOX15_MA1152.1       </td><td>SOX      </td></tr>\n",
       "\t<tr><th scope=row>SP2_HUMAN.H11MO.0.A</th><td>SP2_HUMAN.H11MO.0.A  </td><td>SP       </td></tr>\n",
       "\t<tr><th scope=row>KLF3_HUMAN.H11MO.0.B</th><td>KLF3_HUMAN.H11MO.0.B </td><td>KLF      </td></tr>\n",
       "</tbody>\n",
       "</table>\n"
      ],
      "text/latex": [
       "A data.frame: 30 × 2\n",
       "\\begin{tabular}{r|ll}\n",
       "  & Vierstra\\_name & Label\\\\\n",
       "  & <chr> & <chr>\\\\\n",
       "\\hline\n",
       "\tREST\\_MA0138.2 & REST\\_MA0138.2         & REST     \\\\\n",
       "\tCTCF\\_MA0139.1 & CTCF\\_MA0139.1         & CTCF     \\\\\n",
       "\tZN143\\_MOUSE.H11MO.0.A & ZN143\\_MOUSE.H11MO.0.A & ZNF143   \\\\\n",
       "\tNFYB\\_HUMAN.H11MO.0.A & NFYB\\_HUMAN.H11MO.0.A  & NFY      \\\\\n",
       "\tSIX1\\_HUMAN.H11MO.0.A & SIX1\\_HUMAN.H11MO.0.A  & SIX      \\\\\n",
       "\tIRF1\\_MA0050.2 & IRF1\\_MA0050.2         & IRF      \\\\\n",
       "\tMEF2D\\_MOUSE.H11MO.0.A & MEF2D\\_MOUSE.H11MO.0.A & MEF2     \\\\\n",
       "\tPO5F1\\_MOUSE.H11MO.0.A & PO5F1\\_MOUSE.H11MO.0.A & OCT-SOX  \\\\\n",
       "\tTEAD1\\_TEA\\_2 & TEAD1\\_TEA\\_2           & TEAD-TEAD\\\\\n",
       "\tNFIC\\_HUMAN.H11MO.0.A & NFIC\\_HUMAN.H11MO.0.A  & NFI      \\\\\n",
       "\tCEBPA\\_MA0102.3 & CEBPA\\_MA0102.3        & CEBP     \\\\\n",
       "\tFOSL2\\_HUMAN.H11MO.0.A & FOSL2\\_HUMAN.H11MO.0.A & AP1      \\\\\n",
       "\tRFX2\\_MOUSE.H11MO.0.A & RFX2\\_MOUSE.H11MO.0.A  & RFX      \\\\\n",
       "\tNRF1\\_HUMAN.H11MO.0.A & NRF1\\_HUMAN.H11MO.0.A  & NRF      \\\\\n",
       "\tRUNX3\\_HUMAN.H11MO.0.A & RUNX3\\_HUMAN.H11MO.0.A & RUNX     \\\\\n",
       "\tGRHL1\\_CP2\\_1 & GRHL1\\_CP2\\_1           & GRHL     \\\\\n",
       "\tZIC3\\_HUMAN.H11MO.0.B & ZIC3\\_HUMAN.H11MO.0.B  & ZIC      \\\\\n",
       "\tTEAD4\\_HUMAN.H11MO.0.A & TEAD4\\_HUMAN.H11MO.0.A & TEAD     \\\\\n",
       "\tETS1\\_MOUSE.H11MO.0.A & ETS1\\_MOUSE.H11MO.0.A  & ETS      \\\\\n",
       "\tATF2\\_HUMAN.H11MO.0.B & ATF2\\_HUMAN.H11MO.0.B  & CREB     \\\\\n",
       "\tTWST1\\_MOUSE.H11MO.0.B & TWST1\\_MOUSE.H11MO.0.B & BHLH     \\\\\n",
       "\tFOXC2\\_MA0846.1 & FOXC2\\_MA0846.1        & FOX      \\\\\n",
       "\tNFKB1\\_HUMAN.H11MO.1.B & NFKB1\\_HUMAN.H11MO.1.B & NFKB     \\\\\n",
       "\tAP2A\\_MOUSE.H11MO.0.A & AP2A\\_MOUSE.H11MO.0.A  & TFAP2    \\\\\n",
       "\tPOU3F2\\_MA0787.1 & POU3F2\\_MA0787.1       & OCT      \\\\\n",
       "\tEGR2\\_MOUSE.H11MO.0.A & EGR2\\_MOUSE.H11MO.0.A  & EGR      \\\\\n",
       "\tCOE1\\_HUMAN.H11MO.0.A & COE1\\_HUMAN.H11MO.0.A  & COE      \\\\\n",
       "\tSOX15\\_MA1152.1 & SOX15\\_MA1152.1        & SOX      \\\\\n",
       "\tSP2\\_HUMAN.H11MO.0.A & SP2\\_HUMAN.H11MO.0.A   & SP       \\\\\n",
       "\tKLF3\\_HUMAN.H11MO.0.B & KLF3\\_HUMAN.H11MO.0.B  & KLF      \\\\\n",
       "\\end{tabular}\n"
      ],
      "text/markdown": [
       "\n",
       "A data.frame: 30 × 2\n",
       "\n",
       "| <!--/--> | Vierstra_name &lt;chr&gt; | Label &lt;chr&gt; |\n",
       "|---|---|---|\n",
       "| REST_MA0138.2 | REST_MA0138.2         | REST      |\n",
       "| CTCF_MA0139.1 | CTCF_MA0139.1         | CTCF      |\n",
       "| ZN143_MOUSE.H11MO.0.A | ZN143_MOUSE.H11MO.0.A | ZNF143    |\n",
       "| NFYB_HUMAN.H11MO.0.A | NFYB_HUMAN.H11MO.0.A  | NFY       |\n",
       "| SIX1_HUMAN.H11MO.0.A | SIX1_HUMAN.H11MO.0.A  | SIX       |\n",
       "| IRF1_MA0050.2 | IRF1_MA0050.2         | IRF       |\n",
       "| MEF2D_MOUSE.H11MO.0.A | MEF2D_MOUSE.H11MO.0.A | MEF2      |\n",
       "| PO5F1_MOUSE.H11MO.0.A | PO5F1_MOUSE.H11MO.0.A | OCT-SOX   |\n",
       "| TEAD1_TEA_2 | TEAD1_TEA_2           | TEAD-TEAD |\n",
       "| NFIC_HUMAN.H11MO.0.A | NFIC_HUMAN.H11MO.0.A  | NFI       |\n",
       "| CEBPA_MA0102.3 | CEBPA_MA0102.3        | CEBP      |\n",
       "| FOSL2_HUMAN.H11MO.0.A | FOSL2_HUMAN.H11MO.0.A | AP1       |\n",
       "| RFX2_MOUSE.H11MO.0.A | RFX2_MOUSE.H11MO.0.A  | RFX       |\n",
       "| NRF1_HUMAN.H11MO.0.A | NRF1_HUMAN.H11MO.0.A  | NRF       |\n",
       "| RUNX3_HUMAN.H11MO.0.A | RUNX3_HUMAN.H11MO.0.A | RUNX      |\n",
       "| GRHL1_CP2_1 | GRHL1_CP2_1           | GRHL      |\n",
       "| ZIC3_HUMAN.H11MO.0.B | ZIC3_HUMAN.H11MO.0.B  | ZIC       |\n",
       "| TEAD4_HUMAN.H11MO.0.A | TEAD4_HUMAN.H11MO.0.A | TEAD      |\n",
       "| ETS1_MOUSE.H11MO.0.A | ETS1_MOUSE.H11MO.0.A  | ETS       |\n",
       "| ATF2_HUMAN.H11MO.0.B | ATF2_HUMAN.H11MO.0.B  | CREB      |\n",
       "| TWST1_MOUSE.H11MO.0.B | TWST1_MOUSE.H11MO.0.B | BHLH      |\n",
       "| FOXC2_MA0846.1 | FOXC2_MA0846.1        | FOX       |\n",
       "| NFKB1_HUMAN.H11MO.1.B | NFKB1_HUMAN.H11MO.1.B | NFKB      |\n",
       "| AP2A_MOUSE.H11MO.0.A | AP2A_MOUSE.H11MO.0.A  | TFAP2     |\n",
       "| POU3F2_MA0787.1 | POU3F2_MA0787.1       | OCT       |\n",
       "| EGR2_MOUSE.H11MO.0.A | EGR2_MOUSE.H11MO.0.A  | EGR       |\n",
       "| COE1_HUMAN.H11MO.0.A | COE1_HUMAN.H11MO.0.A  | COE       |\n",
       "| SOX15_MA1152.1 | SOX15_MA1152.1        | SOX       |\n",
       "| SP2_HUMAN.H11MO.0.A | SP2_HUMAN.H11MO.0.A   | SP        |\n",
       "| KLF3_HUMAN.H11MO.0.B | KLF3_HUMAN.H11MO.0.B  | KLF       |\n",
       "\n"
      ],
      "text/plain": [
       "                      Vierstra_name         Label    \n",
       "REST_MA0138.2         REST_MA0138.2         REST     \n",
       "CTCF_MA0139.1         CTCF_MA0139.1         CTCF     \n",
       "ZN143_MOUSE.H11MO.0.A ZN143_MOUSE.H11MO.0.A ZNF143   \n",
       "NFYB_HUMAN.H11MO.0.A  NFYB_HUMAN.H11MO.0.A  NFY      \n",
       "SIX1_HUMAN.H11MO.0.A  SIX1_HUMAN.H11MO.0.A  SIX      \n",
       "IRF1_MA0050.2         IRF1_MA0050.2         IRF      \n",
       "MEF2D_MOUSE.H11MO.0.A MEF2D_MOUSE.H11MO.0.A MEF2     \n",
       "PO5F1_MOUSE.H11MO.0.A PO5F1_MOUSE.H11MO.0.A OCT-SOX  \n",
       "TEAD1_TEA_2           TEAD1_TEA_2           TEAD-TEAD\n",
       "NFIC_HUMAN.H11MO.0.A  NFIC_HUMAN.H11MO.0.A  NFI      \n",
       "CEBPA_MA0102.3        CEBPA_MA0102.3        CEBP     \n",
       "FOSL2_HUMAN.H11MO.0.A FOSL2_HUMAN.H11MO.0.A AP1      \n",
       "RFX2_MOUSE.H11MO.0.A  RFX2_MOUSE.H11MO.0.A  RFX      \n",
       "NRF1_HUMAN.H11MO.0.A  NRF1_HUMAN.H11MO.0.A  NRF      \n",
       "RUNX3_HUMAN.H11MO.0.A RUNX3_HUMAN.H11MO.0.A RUNX     \n",
       "GRHL1_CP2_1           GRHL1_CP2_1           GRHL     \n",
       "ZIC3_HUMAN.H11MO.0.B  ZIC3_HUMAN.H11MO.0.B  ZIC      \n",
       "TEAD4_HUMAN.H11MO.0.A TEAD4_HUMAN.H11MO.0.A TEAD     \n",
       "ETS1_MOUSE.H11MO.0.A  ETS1_MOUSE.H11MO.0.A  ETS      \n",
       "ATF2_HUMAN.H11MO.0.B  ATF2_HUMAN.H11MO.0.B  CREB     \n",
       "TWST1_MOUSE.H11MO.0.B TWST1_MOUSE.H11MO.0.B BHLH     \n",
       "FOXC2_MA0846.1        FOXC2_MA0846.1        FOX      \n",
       "NFKB1_HUMAN.H11MO.1.B NFKB1_HUMAN.H11MO.1.B NFKB     \n",
       "AP2A_MOUSE.H11MO.0.A  AP2A_MOUSE.H11MO.0.A  TFAP2    \n",
       "POU3F2_MA0787.1       POU3F2_MA0787.1       OCT      \n",
       "EGR2_MOUSE.H11MO.0.A  EGR2_MOUSE.H11MO.0.A  EGR      \n",
       "COE1_HUMAN.H11MO.0.A  COE1_HUMAN.H11MO.0.A  COE      \n",
       "SOX15_MA1152.1        SOX15_MA1152.1        SOX      \n",
       "SP2_HUMAN.H11MO.0.A   SP2_HUMAN.H11MO.0.A   SP       \n",
       "KLF3_HUMAN.H11MO.0.B  KLF3_HUMAN.H11MO.0.B  KLF      "
      ]
     },
     "metadata": {},
     "output_type": "display_data"
    }
   ],
   "source": [
    "motif_info = read.table(\"../../analysis/20211007_motif_consolidation/20210820_chrombpnet_lite/tfs_final_w_rep.tsv\", comment.char = '', header=F, sep='\\t',\n",
    "                       stringsAsFactors=F)\n",
    "motif_info = motif_info[, c(2,4)]\n",
    "colnames(motif_info) = c(\"Vierstra_name\", \"Label\")\n",
    "rownames(motif_info) = motif_info$Vierstra_name \n",
    "\n",
    "motif_info"
   ]
  },
  {
   "cell_type": "code",
   "execution_count": null,
   "metadata": {},
   "outputs": [],
   "source": []
  },
  {
   "cell_type": "markdown",
   "metadata": {},
   "source": [
    "### Per cell state annotated MoDISco motifs"
   ]
  },
  {
   "cell_type": "code",
   "execution_count": 5,
   "metadata": {},
   "outputs": [
    {
     "data": {
      "text/html": [
       "<table>\n",
       "<caption>A data.frame: 6 × 4</caption>\n",
       "<thead>\n",
       "\t<tr><th></th><th scope=col>Pattern</th><th scope=col>num_seqlets</th><th scope=col>match_1</th><th scope=col>q.value</th></tr>\n",
       "\t<tr><th></th><th scope=col>&lt;chr&gt;</th><th scope=col>&lt;int&gt;</th><th scope=col>&lt;chr&gt;</th><th scope=col>&lt;dbl&gt;</th></tr>\n",
       "</thead>\n",
       "<tbody>\n",
       "\t<tr><th scope=row>1</th><td>pattern_0</td><td>5944</td><td>CTCF</td><td>2.04043e-15</td></tr>\n",
       "\t<tr><th scope=row>2</th><td>pattern_1</td><td>5056</td><td>AP1 </td><td>1.53199e-09</td></tr>\n",
       "\t<tr><th scope=row>3</th><td>pattern_2</td><td>1258</td><td>BHLH</td><td>4.55782e-08</td></tr>\n",
       "\t<tr><th scope=row>4</th><td>pattern_3</td><td>1239</td><td>NFI </td><td>3.50974e-20</td></tr>\n",
       "\t<tr><th scope=row>5</th><td>pattern_4</td><td> 896</td><td>FOX </td><td>5.75062e-13</td></tr>\n",
       "\t<tr><th scope=row>6</th><td>pattern_5</td><td> 816</td><td>CREB</td><td>9.11878e-12</td></tr>\n",
       "</tbody>\n",
       "</table>\n"
      ],
      "text/latex": [
       "A data.frame: 6 × 4\n",
       "\\begin{tabular}{r|llll}\n",
       "  & Pattern & num\\_seqlets & match\\_1 & q.value\\\\\n",
       "  & <chr> & <int> & <chr> & <dbl>\\\\\n",
       "\\hline\n",
       "\t1 & pattern\\_0 & 5944 & CTCF & 2.04043e-15\\\\\n",
       "\t2 & pattern\\_1 & 5056 & AP1  & 1.53199e-09\\\\\n",
       "\t3 & pattern\\_2 & 1258 & BHLH & 4.55782e-08\\\\\n",
       "\t4 & pattern\\_3 & 1239 & NFI  & 3.50974e-20\\\\\n",
       "\t5 & pattern\\_4 &  896 & FOX  & 5.75062e-13\\\\\n",
       "\t6 & pattern\\_5 &  816 & CREB & 9.11878e-12\\\\\n",
       "\\end{tabular}\n"
      ],
      "text/markdown": [
       "\n",
       "A data.frame: 6 × 4\n",
       "\n",
       "| <!--/--> | Pattern &lt;chr&gt; | num_seqlets &lt;int&gt; | match_1 &lt;chr&gt; | q.value &lt;dbl&gt; |\n",
       "|---|---|---|---|---|\n",
       "| 1 | pattern_0 | 5944 | CTCF | 2.04043e-15 |\n",
       "| 2 | pattern_1 | 5056 | AP1  | 1.53199e-09 |\n",
       "| 3 | pattern_2 | 1258 | BHLH | 4.55782e-08 |\n",
       "| 4 | pattern_3 | 1239 | NFI  | 3.50974e-20 |\n",
       "| 5 | pattern_4 |  896 | FOX  | 5.75062e-13 |\n",
       "| 6 | pattern_5 |  816 | CREB | 9.11878e-12 |\n",
       "\n"
      ],
      "text/plain": [
       "  Pattern   num_seqlets match_1 q.value    \n",
       "1 pattern_0 5944        CTCF    2.04043e-15\n",
       "2 pattern_1 5056        AP1     1.53199e-09\n",
       "3 pattern_2 1258        BHLH    4.55782e-08\n",
       "4 pattern_3 1239        NFI     3.50974e-20\n",
       "5 pattern_4  896        FOX     5.75062e-13\n",
       "6 pattern_5  816        CREB    9.11878e-12"
      ]
     },
     "metadata": {},
     "output_type": "display_data"
    }
   ],
   "source": [
    "modisco_annotated = list()\n",
    "\n",
    "for (i in seq(NUM_CLUST)) {\n",
    "    modisco_annotated[[i]] = read.table(sprintf(\"../../analysis/20230607_re_modisco_breakdown/manually_adjusted/cluster_idx%d.txt\", i), \n",
    "                                        sep='\\t', \n",
    "                                        header=T,\n",
    "                                       stringsAsFactors=F)\n",
    "}\n",
    "\n",
    "head(modisco_annotated[[1]])"
   ]
  },
  {
   "cell_type": "markdown",
   "metadata": {},
   "source": [
    "### Per state hits"
   ]
  },
  {
   "cell_type": "code",
   "execution_count": 6,
   "metadata": {},
   "outputs": [
    {
     "data": {
      "text/html": [
       "<table>\n",
       "<caption>A data.frame: 6 × 3</caption>\n",
       "<thead>\n",
       "\t<tr><th></th><th scope=col>motif_vierstra</th><th scope=col>freq</th><th scope=col>motif</th></tr>\n",
       "\t<tr><th></th><th scope=col>&lt;chr&gt;</th><th scope=col>&lt;int&gt;</th><th scope=col>&lt;chr&gt;</th></tr>\n",
       "</thead>\n",
       "<tbody>\n",
       "\t<tr><th scope=row>1</th><td>AP2A_MOUSE.H11MO.0.A</td><td> 2295</td><td>TFAP2</td></tr>\n",
       "\t<tr><th scope=row>2</th><td>ATF2_HUMAN.H11MO.0.B</td><td>10620</td><td>CREB </td></tr>\n",
       "\t<tr><th scope=row>3</th><td>CEBPA_MA0102.3      </td><td> 7759</td><td>CEBP </td></tr>\n",
       "\t<tr><th scope=row>4</th><td>COE1_HUMAN.H11MO.0.A</td><td> 4150</td><td>COE  </td></tr>\n",
       "\t<tr><th scope=row>5</th><td>CTCF_MA0139.1       </td><td>33702</td><td>CTCF </td></tr>\n",
       "\t<tr><th scope=row>6</th><td>EGR2_MOUSE.H11MO.0.A</td><td>12183</td><td>EGR  </td></tr>\n",
       "</tbody>\n",
       "</table>\n"
      ],
      "text/latex": [
       "A data.frame: 6 × 3\n",
       "\\begin{tabular}{r|lll}\n",
       "  & motif\\_vierstra & freq & motif\\\\\n",
       "  & <chr> & <int> & <chr>\\\\\n",
       "\\hline\n",
       "\t1 & AP2A\\_MOUSE.H11MO.0.A &  2295 & TFAP2\\\\\n",
       "\t2 & ATF2\\_HUMAN.H11MO.0.B & 10620 & CREB \\\\\n",
       "\t3 & CEBPA\\_MA0102.3       &  7759 & CEBP \\\\\n",
       "\t4 & COE1\\_HUMAN.H11MO.0.A &  4150 & COE  \\\\\n",
       "\t5 & CTCF\\_MA0139.1        & 33702 & CTCF \\\\\n",
       "\t6 & EGR2\\_MOUSE.H11MO.0.A & 12183 & EGR  \\\\\n",
       "\\end{tabular}\n"
      ],
      "text/markdown": [
       "\n",
       "A data.frame: 6 × 3\n",
       "\n",
       "| <!--/--> | motif_vierstra &lt;chr&gt; | freq &lt;int&gt; | motif &lt;chr&gt; |\n",
       "|---|---|---|---|\n",
       "| 1 | AP2A_MOUSE.H11MO.0.A |  2295 | TFAP2 |\n",
       "| 2 | ATF2_HUMAN.H11MO.0.B | 10620 | CREB  |\n",
       "| 3 | CEBPA_MA0102.3       |  7759 | CEBP  |\n",
       "| 4 | COE1_HUMAN.H11MO.0.A |  4150 | COE   |\n",
       "| 5 | CTCF_MA0139.1        | 33702 | CTCF  |\n",
       "| 6 | EGR2_MOUSE.H11MO.0.A | 12183 | EGR   |\n",
       "\n"
      ],
      "text/plain": [
       "  motif_vierstra       freq  motif\n",
       "1 AP2A_MOUSE.H11MO.0.A  2295 TFAP2\n",
       "2 ATF2_HUMAN.H11MO.0.B 10620 CREB \n",
       "3 CEBPA_MA0102.3        7759 CEBP \n",
       "4 COE1_HUMAN.H11MO.0.A  4150 COE  \n",
       "5 CTCF_MA0139.1        33702 CTCF \n",
       "6 EGR2_MOUSE.H11MO.0.A 12183 EGR  "
      ]
     },
     "metadata": {},
     "output_type": "display_data"
    }
   ],
   "source": [
    "motif_hits = list()\n",
    "\n",
    "for (i in seq(NUM_CLUST)) {\n",
    "    motif_hits[[i]] = read.table(sprintf(\"../../analysis/20211007_motif_consolidation/20210820_chrombpnet_lite/importance_thresholded/cluster_idx%i.0.99.bed\", i), \n",
    "                                        sep='\\t', \n",
    "                                        header=F,\n",
    "                                       stringsAsFactors=F)\n",
    "\n",
    "    motif_hits[[i]] = data.frame(table(motif_hits[[i]][, 4]))\n",
    "    colnames(motif_hits[[i]]) = c(\"motif_vierstra\", \"freq\")\n",
    "    motif_hits[[i]]$motif_vierstra = as.character(motif_hits[[i]]$motif_vierstra)\n",
    "    \n",
    "    motif_hits[[i]]$motif = motif_info[motif_hits[[i]]$motif_vierstra, \"Label\"]\n",
    "            \n",
    "}\n",
    "\n",
    "head(motif_hits[[1]])"
   ]
  },
  {
   "cell_type": "markdown",
   "metadata": {},
   "source": [
    "# Plot"
   ]
  },
  {
   "cell_type": "markdown",
   "metadata": {},
   "source": [
    "For consistency with previous in `MoDISco_Breakdown_Plot.ipynb`, restricting to (almost) same set of motifs as in that plot."
   ]
  },
  {
   "cell_type": "code",
   "execution_count": 9,
   "metadata": {},
   "outputs": [],
   "source": [
    "MOTIFS = c(\"OCT-SOX\", \"KLF/SP\", \"SOX\", \"CTCF\", \"ZIC\", \"TEAD\", \"BHLH\", \"RUNX\", \"TFAP2\", \"FOX\", \"ETS\", \"NFI\" , \"AP1\", \"OTHERS\")"
   ]
  },
  {
   "cell_type": "code",
   "execution_count": 10,
   "metadata": {},
   "outputs": [],
   "source": [
    "cols = c(\"darkturquoise\", \"steelblue4\", \"skyblue2\",  \"gray60\", \"#6A3D9A\", \"brown\", \"gold1\", \"#FDBF6F\", \"#E31A1C\", \"dodgerblue2\", \"#FF7F00\", \"yellow3\", \"orangered1\", \"black\")"
   ]
  },
  {
   "cell_type": "markdown",
   "metadata": {},
   "source": [
    "Ignore motifs with fewer than this #seqlets."
   ]
  },
  {
   "cell_type": "code",
   "execution_count": 11,
   "metadata": {},
   "outputs": [],
   "source": [
    "MIN_HITS = 100"
   ]
  },
  {
   "cell_type": "markdown",
   "metadata": {},
   "source": [
    "For every cell state, show only those that have at least this fraction."
   ]
  },
  {
   "cell_type": "code",
   "execution_count": 12,
   "metadata": {},
   "outputs": [],
   "source": [
    "LEAST_INDIV_FRAC = 0.02"
   ]
  },
  {
   "cell_type": "code",
   "execution_count": null,
   "metadata": {},
   "outputs": [],
   "source": []
  },
  {
   "cell_type": "code",
   "execution_count": 13,
   "metadata": {},
   "outputs": [],
   "source": [
    "modisco_filtered_fracs = list()\n",
    "\n",
    "for (i in seq(NUM_CLUST)) {\n",
    "    modisco_filtered_fracs[[i]] = motif_hits[[i]]\n",
    "    \n",
    "    # remove motifs that were not picked up in modisco for this cell type\n",
    "    modisco_matches = modisco_annotated[[i]]\n",
    "    modisco_matches = modisco_matches[(modisco_matches$q.value < 0.01)&(modisco_matches$num_seqlets>100), ] # pick confident modisco motifs\n",
    "    modisco_filtered_fracs[[i]] = modisco_filtered_fracs[[i]][modisco_filtered_fracs[[i]]$motif %in% modisco_matches$match_1,]\n",
    "\n",
    "    # remove EGR since it overlaps a lot with KLF and SP\n",
    "    modisco_filtered_fracs[[i]] = modisco_filtered_fracs[[i]][!(modisco_filtered_fracs[[i]]$motif %in% c(\"EGR\")), ]\n",
    "\n",
    "    # since KLF and SP overlap a lot, just take them max of them and label as KLF/SP instead (if both exist)\n",
    "    if (all(c(\"KLF\",\"SP\") %in% modisco_filtered_fracs[[i]]$motif)) {\n",
    "        if (modisco_filtered_fracs[[i]][modisco_filtered_fracs[[i]]$motif==\"KLF\", \"freq\"] > modisco_filtered_fracs[[i]][modisco_filtered_fracs[[i]]$motif==\"SP\", \"freq\"]) {\n",
    "            modisco_filtered_fracs[[i]] = modisco_filtered_fracs[[i]][modisco_filtered_fracs[[i]]$motif != \"SP\", ]\n",
    "        }\n",
    "        else {\n",
    "            modisco_filtered_fracs[[i]] = modisco_filtered_fracs[[i]][modisco_filtered_fracs[[i]]$motif != \"KLF\", ]\n",
    "        }\n",
    "    }\n",
    "    \n",
    "    # for remaining, label as KLF/SP\n",
    "    modisco_filtered_fracs[[i]][modisco_filtered_fracs[[i]]$motif %in% c(\"KLF\", \"SP\"), \"motif\"] = \"KLF/SP\"\n",
    "\n",
    "    # remove motifs with few seqlets\n",
    "    modisco_filtered_fracs[[i]] = modisco_filtered_fracs[[i]][modisco_filtered_fracs[[i]]$freq > MIN_HITS, ]\n",
    "\n",
    "    # those that aren't in list of specified motifs \n",
    "    modisco_filtered_fracs[[i]][!(modisco_filtered_fracs[[i]]$motif %in% MOTIFS), \"motif\"] = \"OTHERS\"\n",
    "\n",
    "    modisco_filtered_fracs[[i]]$frac = modisco_filtered_fracs[[i]]$freq/sum(modisco_filtered_fracs[[i]]$freq)\n",
    "    \n",
    "    # aggregate over motifs\n",
    "    modisco_filtered_fracs[[i]] = modisco_filtered_fracs[[i]][, c(\"motif\", \"frac\")]\n",
    "    modisco_filtered_fracs[[i]] = modisco_filtered_fracs[[i]] %>% group_by(motif) %>% summarize_all(sum)\n",
    "    \n",
    "    # those < LEAST_INDIV_FRAC -> OTHERS\n",
    "    modisco_filtered_fracs[[i]][modisco_filtered_fracs[[i]]$frac < LEAST_INDIV_FRAC, \"motif\"] = \"OTHERS\"\n",
    "    modisco_filtered_fracs[[i]] = modisco_filtered_fracs[[i]] %>% group_by(motif) %>% summarize_all(sum)\n",
    "}"
   ]
  },
  {
   "cell_type": "code",
   "execution_count": null,
   "metadata": {},
   "outputs": [],
   "source": []
  },
  {
   "cell_type": "code",
   "execution_count": 14,
   "metadata": {},
   "outputs": [],
   "source": [
    "# make plot df\n",
    "\n",
    "plot_df = data.frame(match_1=c(), frac=c(), idx=c())\n",
    "\n",
    "for (i in (seq(NUM_CLUST))) {\n",
    "    cur_df = modisco_filtered_fracs[[i]]\n",
    "    cur_df$idx = cluster_config[i, \"new_cluster\"]\n",
    "    \n",
    "    plot_df = rbind(plot_df, cur_df)\n",
    "}"
   ]
  },
  {
   "cell_type": "code",
   "execution_count": null,
   "metadata": {},
   "outputs": [],
   "source": []
  },
  {
   "cell_type": "code",
   "execution_count": null,
   "metadata": {},
   "outputs": [],
   "source": []
  },
  {
   "cell_type": "code",
   "execution_count": 15,
   "metadata": {},
   "outputs": [
    {
     "data": {
      "image/png": "[encoded data removed]",
      "text/plain": [
       "plot without title"
      ]
     },
     "metadata": {
      "image/png": {
       "height": 360,
       "width": 780
      },
      "text/plain": {
       "height": 360,
       "width": 780
      }
     },
     "output_type": "display_data"
    }
   ],
   "source": [
    "options(repr.plot.width = 13, repr.plot.height = 6)\n",
    "\n",
    "p = ggplot(plot_df) +\n",
    "geom_bar(aes(x=factor(idx), y=frac, fill=factor(motif, levels=MOTIFS)), stat=\"identity\", position=\"stack\") +\n",
    "scale_fill_manual(values=cols, name=\"Motif\") +\n",
    "ylab(\"Fraction\") +\n",
    "theme_bw(base_size=25) +\n",
    "theme(panel.grid.major = element_blank(),\n",
    "    panel.grid.minor = element_blank(),\n",
    "     axis.title.x=element_blank())\n",
    "# coord_flip()\n",
    "\n",
    "p"
   ]
  },
  {
   "cell_type": "code",
   "execution_count": null,
   "metadata": {},
   "outputs": [],
   "source": []
  },
  {
   "cell_type": "code",
   "execution_count": 17,
   "metadata": {},
   "outputs": [
    {
     "data": {
      "text/html": [
       "<table>\n",
       "<caption>A tibble: 15 × 3</caption>\n",
       "<thead>\n",
       "\t<tr><th scope=col>motif</th><th scope=col>frac</th><th scope=col>idx</th></tr>\n",
       "\t<tr><th scope=col>&lt;chr&gt;</th><th scope=col>&lt;dbl&gt;</th><th scope=col>&lt;int&gt;</th></tr>\n",
       "</thead>\n",
       "<tbody>\n",
       "\t<tr><td>CTCF</td><td>0.1534071</td><td> 1</td></tr>\n",
       "\t<tr><td>CTCF</td><td>0.1578764</td><td> 2</td></tr>\n",
       "\t<tr><td>CTCF</td><td>0.1412497</td><td> 3</td></tr>\n",
       "\t<tr><td>CTCF</td><td>0.1376355</td><td> 4</td></tr>\n",
       "\t<tr><td>CTCF</td><td>0.1400171</td><td> 5</td></tr>\n",
       "\t<tr><td>CTCF</td><td>0.1420842</td><td> 6</td></tr>\n",
       "\t<tr><td>CTCF</td><td>0.1514593</td><td> 7</td></tr>\n",
       "\t<tr><td>CTCF</td><td>0.1582989</td><td> 8</td></tr>\n",
       "\t<tr><td>CTCF</td><td>0.1492161</td><td> 9</td></tr>\n",
       "\t<tr><td>CTCF</td><td>0.1513877</td><td>10</td></tr>\n",
       "\t<tr><td>CTCF</td><td>0.1779689</td><td>11</td></tr>\n",
       "\t<tr><td>CTCF</td><td>0.1651073</td><td>12</td></tr>\n",
       "\t<tr><td>CTCF</td><td>0.1975894</td><td>13</td></tr>\n",
       "\t<tr><td>CTCF</td><td>0.2047919</td><td>14</td></tr>\n",
       "\t<tr><td>CTCF</td><td>0.2436764</td><td>15</td></tr>\n",
       "</tbody>\n",
       "</table>\n"
      ],
      "text/latex": [
       "A tibble: 15 × 3\n",
       "\\begin{tabular}{lll}\n",
       " motif & frac & idx\\\\\n",
       " <chr> & <dbl> & <int>\\\\\n",
       "\\hline\n",
       "\t CTCF & 0.1534071 &  1\\\\\n",
       "\t CTCF & 0.1578764 &  2\\\\\n",
       "\t CTCF & 0.1412497 &  3\\\\\n",
       "\t CTCF & 0.1376355 &  4\\\\\n",
       "\t CTCF & 0.1400171 &  5\\\\\n",
       "\t CTCF & 0.1420842 &  6\\\\\n",
       "\t CTCF & 0.1514593 &  7\\\\\n",
       "\t CTCF & 0.1582989 &  8\\\\\n",
       "\t CTCF & 0.1492161 &  9\\\\\n",
       "\t CTCF & 0.1513877 & 10\\\\\n",
       "\t CTCF & 0.1779689 & 11\\\\\n",
       "\t CTCF & 0.1651073 & 12\\\\\n",
       "\t CTCF & 0.1975894 & 13\\\\\n",
       "\t CTCF & 0.2047919 & 14\\\\\n",
       "\t CTCF & 0.2436764 & 15\\\\\n",
       "\\end{tabular}\n"
      ],
      "text/markdown": [
       "\n",
       "A tibble: 15 × 3\n",
       "\n",
       "| motif &lt;chr&gt; | frac &lt;dbl&gt; | idx &lt;int&gt; |\n",
       "|---|---|---|\n",
       "| CTCF | 0.1534071 |  1 |\n",
       "| CTCF | 0.1578764 |  2 |\n",
       "| CTCF | 0.1412497 |  3 |\n",
       "| CTCF | 0.1376355 |  4 |\n",
       "| CTCF | 0.1400171 |  5 |\n",
       "| CTCF | 0.1420842 |  6 |\n",
       "| CTCF | 0.1514593 |  7 |\n",
       "| CTCF | 0.1582989 |  8 |\n",
       "| CTCF | 0.1492161 |  9 |\n",
       "| CTCF | 0.1513877 | 10 |\n",
       "| CTCF | 0.1779689 | 11 |\n",
       "| CTCF | 0.1651073 | 12 |\n",
       "| CTCF | 0.1975894 | 13 |\n",
       "| CTCF | 0.2047919 | 14 |\n",
       "| CTCF | 0.2436764 | 15 |\n",
       "\n"
      ],
      "text/plain": [
       "   motif frac      idx\n",
       "1  CTCF  0.1534071  1 \n",
       "2  CTCF  0.1578764  2 \n",
       "3  CTCF  0.1412497  3 \n",
       "4  CTCF  0.1376355  4 \n",
       "5  CTCF  0.1400171  5 \n",
       "6  CTCF  0.1420842  6 \n",
       "7  CTCF  0.1514593  7 \n",
       "8  CTCF  0.1582989  8 \n",
       "9  CTCF  0.1492161  9 \n",
       "10 CTCF  0.1513877 10 \n",
       "11 CTCF  0.1779689 11 \n",
       "12 CTCF  0.1651073 12 \n",
       "13 CTCF  0.1975894 13 \n",
       "14 CTCF  0.2047919 14 \n",
       "15 CTCF  0.2436764 15 "
      ]
     },
     "metadata": {},
     "output_type": "display_data"
    }
   ],
   "source": [
    "x = plot_df[plot_df$motif == \"CTCF\", ]\n",
    "x[order(x$idx), ]"
   ]
  },
  {
   "cell_type": "code",
   "execution_count": null,
   "metadata": {},
   "outputs": [],
   "source": []
  },
  {
   "cell_type": "code",
   "execution_count": null,
   "metadata": {},
   "outputs": [],
   "source": []
  },
  {
   "cell_type": "code",
   "execution_count": 16,
   "metadata": {},
   "outputs": [],
   "source": [
    "ggsave(p, file=\"./subfigs/20231004_re_modisco_hits_frac.pdf\", width=13, height=6, useDingbats=F)"
   ]
  },
  {
   "cell_type": "code",
   "execution_count": null,
   "metadata": {},
   "outputs": [],
   "source": []
  },
  {
   "cell_type": "code",
   "execution_count": null,
   "metadata": {},
   "outputs": [],
   "source": []
  },
  {
   "cell_type": "code",
   "execution_count": null,
   "metadata": {},
   "outputs": [],
   "source": []
  },
  {
   "cell_type": "code",
   "execution_count": null,
   "metadata": {},
   "outputs": [],
   "source": []
  },
  {
   "cell_type": "markdown",
   "metadata": {},
   "source": [
    "---"
   ]
  },
  {
   "cell_type": "code",
   "execution_count": 40,
   "metadata": {},
   "outputs": [
    {
     "data": {
      "text/plain": [
       "R version 3.6.3 (2020-02-29)\n",
       "Platform: x86_64-conda_cos6-linux-gnu (64-bit)\n",
       "Running under: Ubuntu 18.04.6 LTS\n",
       "\n",
       "Matrix products: default\n",
       "BLAS/LAPACK: /users/surag/anaconda3/envs/r36_cran/lib/libopenblasp-r0.3.9.so\n",
       "\n",
       "locale:\n",
       " [1] LC_CTYPE=en_US.UTF-8       LC_NUMERIC=C              \n",
       " [3] LC_TIME=en_US.UTF-8        LC_COLLATE=en_US.UTF-8    \n",
       " [5] LC_MONETARY=en_US.UTF-8    LC_MESSAGES=en_US.UTF-8   \n",
       " [7] LC_PAPER=en_US.UTF-8       LC_NAME=C                 \n",
       " [9] LC_ADDRESS=C               LC_TELEPHONE=C            \n",
       "[11] LC_MEASUREMENT=en_US.UTF-8 LC_IDENTIFICATION=C       \n",
       "\n",
       "attached base packages:\n",
       "[1] stats     graphics  grDevices utils     datasets  methods   base     \n",
       "\n",
       "other attached packages:\n",
       "[1] dplyr_1.0.2   ggplot2_3.3.3\n",
       "\n",
       "loaded via a namespace (and not attached):\n",
       " [1] magrittr_1.5      tidyselect_1.1.0  munsell_0.5.0     uuid_0.1-4       \n",
       " [5] colorspace_1.4-1  R6_2.4.1          rlang_0.4.11      tools_3.6.3      \n",
       " [9] grid_3.6.3        gtable_0.3.0      withr_2.1.2       htmltools_0.5.1.1\n",
       "[13] ellipsis_0.3.1    digest_0.6.25     tibble_3.0.3      lifecycle_0.2.0  \n",
       "[17] crayon_1.3.4      IRdisplay_0.7.0   farver_2.0.3      purrr_0.3.4      \n",
       "[21] repr_1.1.0        base64enc_0.1-3   vctrs_0.3.4       IRkernel_1.1     \n",
       "[25] glue_1.4.2        evaluate_0.14     labeling_0.3      pbdZMQ_0.3-3     \n",
       "[29] compiler_3.6.3    pillar_1.4.6      generics_0.0.2    scales_1.1.0     \n",
       "[33] jsonlite_1.6.1    Cairo_1.5-12.2    pkgconfig_2.0.3  "
      ]
     },
     "metadata": {},
     "output_type": "display_data"
    }
   ],
   "source": [
    "sessionInfo()"
   ]
  },
  {
   "cell_type": "code",
   "execution_count": null,
   "metadata": {},
   "outputs": [],
   "source": []
  }
 ],
 "metadata": {
  "kernelspec": {
   "display_name": "R",
   "language": "R",
   "name": "ir"
  },
  "language_info": {
   "codemirror_mode": "r",
   "file_extension": ".r",
   "mimetype": "text/x-r-source",
   "name": "R",
   "pygments_lexer": "r",
   "version": "3.6.3"
  }
 },
 "nbformat": 4,
 "nbformat_minor": 4
}
