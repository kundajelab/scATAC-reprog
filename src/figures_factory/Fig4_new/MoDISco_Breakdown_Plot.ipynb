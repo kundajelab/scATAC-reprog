{
 "cells": [
  {
   "cell_type": "markdown",
   "metadata": {},
   "source": [
    "# MoDISco Breakdown Plot\n",
    "\n",
    "For each cell state, show bar plot of proportions of top motifs as per counts of MoDISco seqlets.\n",
    "\n",
    "Annotation performed in `20211118_modisco_breakdown`.\n",
    "\n",
    "Input:\n",
    "1. Cluster config\n",
    "2. One file per cell state with motif annotations and number of seqlets."
   ]
  },
  {
   "cell_type": "code",
   "execution_count": 20,
   "metadata": {},
   "outputs": [
    {
     "name": "stderr",
     "output_type": "stream",
     "text": [
      "\n",
      "Attaching package: ‘dplyr’\n",
      "\n",
      "\n",
      "The following objects are masked from ‘package:stats’:\n",
      "\n",
      "    filter, lag\n",
      "\n",
      "\n",
      "The following objects are masked from ‘package:base’:\n",
      "\n",
      "    intersect, setdiff, setequal, union\n",
      "\n",
      "\n"
     ]
    }
   ],
   "source": [
    "library(ggplot2)\n",
    "library(dplyr)"
   ]
  },
  {
   "cell_type": "markdown",
   "metadata": {},
   "source": [
    "## Load Inputs"
   ]
  },
  {
   "cell_type": "code",
   "execution_count": 35,
   "metadata": {},
   "outputs": [],
   "source": [
    "NUM_CLUST = 15"
   ]
  },
  {
   "cell_type": "markdown",
   "metadata": {},
   "source": [
    "### Configs"
   ]
  },
  {
   "cell_type": "code",
   "execution_count": 3,
   "metadata": {},
   "outputs": [
    {
     "data": {
      "text/html": [
       "<table>\n",
       "<caption>A data.frame: 15 × 4</caption>\n",
       "<thead>\n",
       "\t<tr><th></th><th scope=col>cluster</th><th scope=col>colour</th><th scope=col>description</th><th scope=col>new_cluster</th></tr>\n",
       "\t<tr><th></th><th scope=col>&lt;int&gt;</th><th scope=col>&lt;chr&gt;</th><th scope=col>&lt;chr&gt;</th><th scope=col>&lt;int&gt;</th></tr>\n",
       "</thead>\n",
       "<tbody>\n",
       "\t<tr><th scope=row>1</th><td> 1</td><td>#B03743</td><td>Fibroblast            </td><td> 1</td></tr>\n",
       "\t<tr><th scope=row>2</th><td> 2</td><td>#E85F6D</td><td>Fibroblast-like       </td><td> 3</td></tr>\n",
       "\t<tr><th scope=row>3</th><td> 3</td><td>#7C2730</td><td>Fibroblast-like       </td><td> 2</td></tr>\n",
       "\t<tr><th scope=row>4</th><td> 4</td><td>#F0A118</td><td>Intermediate          </td><td>12</td></tr>\n",
       "\t<tr><th scope=row>5</th><td> 5</td><td>#78A824</td><td>Pre-iPSC              </td><td>13</td></tr>\n",
       "\t<tr><th scope=row>6</th><td> 6</td><td>#A6D854</td><td>Pre-iPSC              </td><td>14</td></tr>\n",
       "\t<tr><th scope=row>7</th><td> 7</td><td>#F01D35</td><td>Fibroblast-like       </td><td> 5</td></tr>\n",
       "\t<tr><th scope=row>8</th><td> 8</td><td>#13C4A3</td><td>iPSC                  </td><td>15</td></tr>\n",
       "\t<tr><th scope=row>9</th><td> 9</td><td>#406614</td><td>Partially-reprogrammed</td><td>10</td></tr>\n",
       "\t<tr><th scope=row>10</th><td>10</td><td>#D4B81C</td><td>Intermediate          </td><td> 9</td></tr>\n",
       "\t<tr><th scope=row>11</th><td>11</td><td>#006658</td><td>High OSK              </td><td> 8</td></tr>\n",
       "\t<tr><th scope=row>12</th><td>12</td><td>#CF175A</td><td>Fibroblast-like       </td><td> 4</td></tr>\n",
       "\t<tr><th scope=row>13</th><td>13</td><td>#F7A6C2</td><td>Keratinocyte-like     </td><td> 6</td></tr>\n",
       "\t<tr><th scope=row>14</th><td>14</td><td>#F4D5CD</td><td>Intermediate          </td><td>11</td></tr>\n",
       "\t<tr><th scope=row>15</th><td>15</td><td>#F0520A</td><td>Low OSK               </td><td> 7</td></tr>\n",
       "</tbody>\n",
       "</table>\n"
      ],
      "text/latex": [
       "A data.frame: 15 × 4\n",
       "\\begin{tabular}{r|llll}\n",
       "  & cluster & colour & description & new\\_cluster\\\\\n",
       "  & <int> & <chr> & <chr> & <int>\\\\\n",
       "\\hline\n",
       "\t1 &  1 & \\#B03743 & Fibroblast             &  1\\\\\n",
       "\t2 &  2 & \\#E85F6D & Fibroblast-like        &  3\\\\\n",
       "\t3 &  3 & \\#7C2730 & Fibroblast-like        &  2\\\\\n",
       "\t4 &  4 & \\#F0A118 & Intermediate           & 12\\\\\n",
       "\t5 &  5 & \\#78A824 & Pre-iPSC               & 13\\\\\n",
       "\t6 &  6 & \\#A6D854 & Pre-iPSC               & 14\\\\\n",
       "\t7 &  7 & \\#F01D35 & Fibroblast-like        &  5\\\\\n",
       "\t8 &  8 & \\#13C4A3 & iPSC                   & 15\\\\\n",
       "\t9 &  9 & \\#406614 & Partially-reprogrammed & 10\\\\\n",
       "\t10 & 10 & \\#D4B81C & Intermediate           &  9\\\\\n",
       "\t11 & 11 & \\#006658 & High OSK               &  8\\\\\n",
       "\t12 & 12 & \\#CF175A & Fibroblast-like        &  4\\\\\n",
       "\t13 & 13 & \\#F7A6C2 & Keratinocyte-like      &  6\\\\\n",
       "\t14 & 14 & \\#F4D5CD & Intermediate           & 11\\\\\n",
       "\t15 & 15 & \\#F0520A & Low OSK                &  7\\\\\n",
       "\\end{tabular}\n"
      ],
      "text/markdown": [
       "\n",
       "A data.frame: 15 × 4\n",
       "\n",
       "| <!--/--> | cluster &lt;int&gt; | colour &lt;chr&gt; | description &lt;chr&gt; | new_cluster &lt;int&gt; |\n",
       "|---|---|---|---|---|\n",
       "| 1 |  1 | #B03743 | Fibroblast             |  1 |\n",
       "| 2 |  2 | #E85F6D | Fibroblast-like        |  3 |\n",
       "| 3 |  3 | #7C2730 | Fibroblast-like        |  2 |\n",
       "| 4 |  4 | #F0A118 | Intermediate           | 12 |\n",
       "| 5 |  5 | #78A824 | Pre-iPSC               | 13 |\n",
       "| 6 |  6 | #A6D854 | Pre-iPSC               | 14 |\n",
       "| 7 |  7 | #F01D35 | Fibroblast-like        |  5 |\n",
       "| 8 |  8 | #13C4A3 | iPSC                   | 15 |\n",
       "| 9 |  9 | #406614 | Partially-reprogrammed | 10 |\n",
       "| 10 | 10 | #D4B81C | Intermediate           |  9 |\n",
       "| 11 | 11 | #006658 | High OSK               |  8 |\n",
       "| 12 | 12 | #CF175A | Fibroblast-like        |  4 |\n",
       "| 13 | 13 | #F7A6C2 | Keratinocyte-like      |  6 |\n",
       "| 14 | 14 | #F4D5CD | Intermediate           | 11 |\n",
       "| 15 | 15 | #F0520A | Low OSK                |  7 |\n",
       "\n"
      ],
      "text/plain": [
       "   cluster colour  description            new_cluster\n",
       "1   1      #B03743 Fibroblast              1         \n",
       "2   2      #E85F6D Fibroblast-like         3         \n",
       "3   3      #7C2730 Fibroblast-like         2         \n",
       "4   4      #F0A118 Intermediate           12         \n",
       "5   5      #78A824 Pre-iPSC               13         \n",
       "6   6      #A6D854 Pre-iPSC               14         \n",
       "7   7      #F01D35 Fibroblast-like         5         \n",
       "8   8      #13C4A3 iPSC                   15         \n",
       "9   9      #406614 Partially-reprogrammed 10         \n",
       "10 10      #D4B81C Intermediate            9         \n",
       "11 11      #006658 High OSK                8         \n",
       "12 12      #CF175A Fibroblast-like         4         \n",
       "13 13      #F7A6C2 Keratinocyte-like       6         \n",
       "14 14      #F4D5CD Intermediate           11         \n",
       "15 15      #F0520A Low OSK                 7         "
      ]
     },
     "metadata": {},
     "output_type": "display_data"
    }
   ],
   "source": [
    "cluster_config = read.table(\"../../figures_factory/configs/cluster.tsv\", comment.char = '', header=T, sep='\\t')\n",
    "cluster_config$colour = as.character(cluster_config$colour)\n",
    "cluster_config$description = as.character(cluster_config$description)\n",
    "\n",
    "rownames(cluster_config) = cluster_config$cluster\n",
    "cluster_config"
   ]
  },
  {
   "cell_type": "markdown",
   "metadata": {},
   "source": [
    "### Per cell state annotated MoDISco motifs"
   ]
  },
  {
   "cell_type": "code",
   "execution_count": 271,
   "metadata": {},
   "outputs": [
    {
     "data": {
      "text/html": [
       "<table>\n",
       "<caption>A data.frame: 6 × 4</caption>\n",
       "<thead>\n",
       "\t<tr><th></th><th scope=col>Pattern</th><th scope=col>num_seqlets</th><th scope=col>match_1</th><th scope=col>q.value</th></tr>\n",
       "\t<tr><th></th><th scope=col>&lt;chr&gt;</th><th scope=col>&lt;int&gt;</th><th scope=col>&lt;chr&gt;</th><th scope=col>&lt;dbl&gt;</th></tr>\n",
       "</thead>\n",
       "<tbody>\n",
       "\t<tr><th scope=row>1</th><td>pattern_0</td><td>5944</td><td>CTCF </td><td>2.47024e-12</td></tr>\n",
       "\t<tr><th scope=row>2</th><td>pattern_1</td><td>5056</td><td>AP-1 </td><td>1.01437e-04</td></tr>\n",
       "\t<tr><th scope=row>3</th><td>pattern_2</td><td>1258</td><td>BHLH </td><td>2.82932e-05</td></tr>\n",
       "\t<tr><th scope=row>4</th><td>pattern_3</td><td>1239</td><td>NFI  </td><td>2.45593e-13</td></tr>\n",
       "\t<tr><th scope=row>5</th><td>pattern_4</td><td> 896</td><td>FOX  </td><td>7.29012e-04</td></tr>\n",
       "\t<tr><th scope=row>6</th><td>pattern_5</td><td> 816</td><td>TFAP2</td><td>5.33787e-01</td></tr>\n",
       "</tbody>\n",
       "</table>\n"
      ],
      "text/latex": [
       "A data.frame: 6 × 4\n",
       "\\begin{tabular}{r|llll}\n",
       "  & Pattern & num\\_seqlets & match\\_1 & q.value\\\\\n",
       "  & <chr> & <int> & <chr> & <dbl>\\\\\n",
       "\\hline\n",
       "\t1 & pattern\\_0 & 5944 & CTCF  & 2.47024e-12\\\\\n",
       "\t2 & pattern\\_1 & 5056 & AP-1  & 1.01437e-04\\\\\n",
       "\t3 & pattern\\_2 & 1258 & BHLH  & 2.82932e-05\\\\\n",
       "\t4 & pattern\\_3 & 1239 & NFI   & 2.45593e-13\\\\\n",
       "\t5 & pattern\\_4 &  896 & FOX   & 7.29012e-04\\\\\n",
       "\t6 & pattern\\_5 &  816 & TFAP2 & 5.33787e-01\\\\\n",
       "\\end{tabular}\n"
      ],
      "text/markdown": [
       "\n",
       "A data.frame: 6 × 4\n",
       "\n",
       "| <!--/--> | Pattern &lt;chr&gt; | num_seqlets &lt;int&gt; | match_1 &lt;chr&gt; | q.value &lt;dbl&gt; |\n",
       "|---|---|---|---|---|\n",
       "| 1 | pattern_0 | 5944 | CTCF  | 2.47024e-12 |\n",
       "| 2 | pattern_1 | 5056 | AP-1  | 1.01437e-04 |\n",
       "| 3 | pattern_2 | 1258 | BHLH  | 2.82932e-05 |\n",
       "| 4 | pattern_3 | 1239 | NFI   | 2.45593e-13 |\n",
       "| 5 | pattern_4 |  896 | FOX   | 7.29012e-04 |\n",
       "| 6 | pattern_5 |  816 | TFAP2 | 5.33787e-01 |\n",
       "\n"
      ],
      "text/plain": [
       "  Pattern   num_seqlets match_1 q.value    \n",
       "1 pattern_0 5944        CTCF    2.47024e-12\n",
       "2 pattern_1 5056        AP-1    1.01437e-04\n",
       "3 pattern_2 1258        BHLH    2.82932e-05\n",
       "4 pattern_3 1239        NFI     2.45593e-13\n",
       "5 pattern_4  896        FOX     7.29012e-04\n",
       "6 pattern_5  816        TFAP2   5.33787e-01"
      ]
     },
     "metadata": {},
     "output_type": "display_data"
    }
   ],
   "source": [
    "modisco_annotated = list()\n",
    "\n",
    "for (i in seq(NUM_CLUST)) {\n",
    "    modisco_annotated[[i]] = read.table(sprintf(\"../../analysis/20211118_modisco_breakdown/manually_adjusted/cluster_idx%d.txt\", i), \n",
    "                                        sep='\\t', \n",
    "                                        header=T,\n",
    "                                       stringsAsFactors=F)\n",
    "}\n",
    "\n",
    "head(modisco_annotated[[1]])"
   ]
  },
  {
   "cell_type": "markdown",
   "metadata": {},
   "source": [
    "## Plot"
   ]
  },
  {
   "cell_type": "markdown",
   "metadata": {},
   "source": [
    "Not all motifs are annotated, only top ones. Choose threshold below to treat anything that doesn't pass threshold as \"Others\". Manually adjust threshold in the files to account for errors in automated annotation."
   ]
  },
  {
   "cell_type": "code",
   "execution_count": 272,
   "metadata": {},
   "outputs": [],
   "source": [
    "THRESH = 0.01 "
   ]
  },
  {
   "cell_type": "markdown",
   "metadata": {},
   "source": [
    "Ignore motifs with fewer than this #seqlets."
   ]
  },
  {
   "cell_type": "code",
   "execution_count": 273,
   "metadata": {},
   "outputs": [],
   "source": [
    "MIN_SEQLETS = 50"
   ]
  },
  {
   "cell_type": "markdown",
   "metadata": {},
   "source": [
    "For every cell state, show only those that have at least this fraction."
   ]
  },
  {
   "cell_type": "code",
   "execution_count": 274,
   "metadata": {},
   "outputs": [],
   "source": [
    "LEAST_INDIV_FRAC = 0.02"
   ]
  },
  {
   "cell_type": "code",
   "execution_count": null,
   "metadata": {},
   "outputs": [],
   "source": []
  },
  {
   "cell_type": "code",
   "execution_count": 275,
   "metadata": {},
   "outputs": [],
   "source": [
    "modisco_filtered_fracs = list()\n",
    "\n",
    "for (i in seq(NUM_CLUST)) {\n",
    "    modisco_filtered_fracs[[i]] = modisco_annotated[[i]]\n",
    "    \n",
    "    # remove motifs with few seqlets\n",
    "    modisco_filtered_fracs[[i]] = modisco_filtered_fracs[[i]][modisco_filtered_fracs[[i]]$num_seqlets > MIN_SEQLETS, ]\n",
    "\n",
    "    # those that don't pass thresh treat as OTHERS\n",
    "    modisco_filtered_fracs[[i]][modisco_filtered_fracs[[i]]$q.value > THRESH, \"match_1\"] = \"OTHERS\"\n",
    "\n",
    "    modisco_filtered_fracs[[i]]$frac = modisco_filtered_fracs[[i]]$num_seqlets/sum(modisco_filtered_fracs[[i]]$num_seqlets)\n",
    "    \n",
    "    # aggregate over motifs\n",
    "    modisco_filtered_fracs[[i]] = modisco_filtered_fracs[[i]][, c(\"match_1\", \"frac\")]\n",
    "    \n",
    "    modisco_filtered_fracs[[i]] = modisco_filtered_fracs[[i]] %>% group_by(match_1) %>% summarize_all(sum)\n",
    "    \n",
    "    # those < LEAST_INDIV_FRAC -> OTHERS\n",
    "    modisco_filtered_fracs[[i]][modisco_filtered_fracs[[i]]$frac < LEAST_INDIV_FRAC, \"match_1\"] = \"OTHERS\"\n",
    "    modisco_filtered_fracs[[i]] = modisco_filtered_fracs[[i]] %>% group_by(match_1) %>% summarize_all(sum)\n",
    "    \n",
    "}"
   ]
  },
  {
   "cell_type": "code",
   "execution_count": null,
   "metadata": {},
   "outputs": [],
   "source": []
  },
  {
   "cell_type": "code",
   "execution_count": 276,
   "metadata": {},
   "outputs": [],
   "source": [
    "# make plot df\n",
    "\n",
    "plot_df = data.frame(match_1=c(), frac=c(), idx=c())\n",
    "\n",
    "for (i in (seq(NUM_CLUST))) {\n",
    "    cur_df = modisco_filtered_fracs[[i]]\n",
    "    cur_df$idx = cluster_config[i, \"new_cluster\"]\n",
    "    \n",
    "    plot_df = rbind(plot_df, cur_df)\n",
    "}"
   ]
  },
  {
   "cell_type": "code",
   "execution_count": null,
   "metadata": {},
   "outputs": [],
   "source": []
  },
  {
   "cell_type": "code",
   "execution_count": 277,
   "metadata": {},
   "outputs": [
    {
     "data": {
      "text/html": [
       "<style>\n",
       ".list-inline {list-style: none; margin:0; padding: 0}\n",
       ".list-inline>li {display: inline-block}\n",
       ".list-inline>li:not(:last-child)::after {content: \"\\00b7\"; padding: 0 .5ex}\n",
       "</style>\n",
       "<ol class=list-inline><li>'ZIC'</li><li>'SOX'</li><li>'TEAD'</li><li>'BHLH'</li><li>'RUNX'</li><li>'TFAP2'</li><li>'FOX'</li><li>'ETS'</li><li>'NFI'</li><li>'OCT.SOX'</li><li>'KLF.SP'</li><li>'AP-1'</li><li>'CTCF'</li><li>'OTHERS'</li></ol>\n"
      ],
      "text/latex": [
       "\\begin{enumerate*}\n",
       "\\item 'ZIC'\n",
       "\\item 'SOX'\n",
       "\\item 'TEAD'\n",
       "\\item 'BHLH'\n",
       "\\item 'RUNX'\n",
       "\\item 'TFAP2'\n",
       "\\item 'FOX'\n",
       "\\item 'ETS'\n",
       "\\item 'NFI'\n",
       "\\item 'OCT.SOX'\n",
       "\\item 'KLF.SP'\n",
       "\\item 'AP-1'\n",
       "\\item 'CTCF'\n",
       "\\item 'OTHERS'\n",
       "\\end{enumerate*}\n"
      ],
      "text/markdown": [
       "1. 'ZIC'\n",
       "2. 'SOX'\n",
       "3. 'TEAD'\n",
       "4. 'BHLH'\n",
       "5. 'RUNX'\n",
       "6. 'TFAP2'\n",
       "7. 'FOX'\n",
       "8. 'ETS'\n",
       "9. 'NFI'\n",
       "10. 'OCT.SOX'\n",
       "11. 'KLF.SP'\n",
       "12. 'AP-1'\n",
       "13. 'CTCF'\n",
       "14. 'OTHERS'\n",
       "\n",
       "\n"
      ],
      "text/plain": [
       " [1] \"ZIC\"     \"SOX\"     \"TEAD\"    \"BHLH\"    \"RUNX\"    \"TFAP2\"   \"FOX\"    \n",
       " [8] \"ETS\"     \"NFI\"     \"OCT.SOX\" \"KLF.SP\"  \"AP-1\"    \"CTCF\"    \"OTHERS\" "
      ]
     },
     "metadata": {},
     "output_type": "display_data"
    }
   ],
   "source": [
    "# order of TFs\n",
    "order_of_tfs = rev(as.vector(unlist((plot_df %>% group_by(match_1) %>% summarize_all(sum) %>% arrange(desc(frac)))[,\"match_1\"])))\n",
    "\n",
    "# put CTCF and OTHERS in the end\n",
    "order_of_tfs = order_of_tfs[!order_of_tfs %in% c(\"CTCF\", \"OTHERS\")]\n",
    "order_of_tfs = c(order_of_tfs, \"CTCF\", \"OTHERS\")\n",
    "\n",
    "order_of_tfs"
   ]
  },
  {
   "cell_type": "code",
   "execution_count": 223,
   "metadata": {},
   "outputs": [],
   "source": [
    "# https://stackoverflow.com/questions/9563711/r-color-palettes-for-many-data-classes/41230685#41230685\n",
    "c25 <- c(\n",
    "  \"dodgerblue2\", \"#E31A1C\", # red\n",
    "  \"#6A3D9A\", # purple\n",
    "  \"#FF7F00\", # orange\n",
    "  \"gold1\",\n",
    "  \"skyblue2\", \"#FB9A99\", # lt pink\n",
    "  \"palegreen2\",\n",
    "  \"#CAB2D6\", # lt purple\n",
    "  \"#FDBF6F\", # lt orange\n",
    "  \"khaki2\",\n",
    "  \"maroon\", \"orchid1\", \"deeppink1\", \"blue1\", \"steelblue4\",\n",
    "  \"darkturquoise\", \"yellow4\", \"yellow3\",\n",
    "  \"darkorange4\", \"brown\"\n",
    ")"
   ]
  },
  {
   "cell_type": "code",
   "execution_count": 236,
   "metadata": {},
   "outputs": [
    {
     "data": {
      "text/html": [
       "<style>\n",
       ".list-inline {list-style: none; margin:0; padding: 0}\n",
       ".list-inline>li {display: inline-block}\n",
       ".list-inline>li:not(:last-child)::after {content: \"\\00b7\"; padding: 0 .5ex}\n",
       "</style>\n",
       "<ol class=list-inline><li>'#6A3D9A'</li><li>'skyblue2'</li><li>'brown'</li><li>'gold1'</li><li>'#FDBF6F'</li><li>'#E31A1C'</li><li>'dodgerblue2'</li><li>'#FF7F00'</li><li>'yellow3'</li><li>'darkturquoise'</li><li>'steelblue4'</li><li>'orangered1'</li><li>'gray60'</li><li>'black'</li></ol>\n"
      ],
      "text/latex": [
       "\\begin{enumerate*}\n",
       "\\item '\\#6A3D9A'\n",
       "\\item 'skyblue2'\n",
       "\\item 'brown'\n",
       "\\item 'gold1'\n",
       "\\item '\\#FDBF6F'\n",
       "\\item '\\#E31A1C'\n",
       "\\item 'dodgerblue2'\n",
       "\\item '\\#FF7F00'\n",
       "\\item 'yellow3'\n",
       "\\item 'darkturquoise'\n",
       "\\item 'steelblue4'\n",
       "\\item 'orangered1'\n",
       "\\item 'gray60'\n",
       "\\item 'black'\n",
       "\\end{enumerate*}\n"
      ],
      "text/markdown": [
       "1. '#6A3D9A'\n",
       "2. 'skyblue2'\n",
       "3. 'brown'\n",
       "4. 'gold1'\n",
       "5. '#FDBF6F'\n",
       "6. '#E31A1C'\n",
       "7. 'dodgerblue2'\n",
       "8. '#FF7F00'\n",
       "9. 'yellow3'\n",
       "10. 'darkturquoise'\n",
       "11. 'steelblue4'\n",
       "12. 'orangered1'\n",
       "13. 'gray60'\n",
       "14. 'black'\n",
       "\n",
       "\n"
      ],
      "text/plain": [
       " [1] \"#6A3D9A\"       \"skyblue2\"      \"brown\"         \"gold1\"        \n",
       " [5] \"#FDBF6F\"       \"#E31A1C\"       \"dodgerblue2\"   \"#FF7F00\"      \n",
       " [9] \"yellow3\"       \"darkturquoise\" \"steelblue4\"    \"orangered1\"   \n",
       "[13] \"gray60\"        \"black\"        "
      ]
     },
     "metadata": {},
     "output_type": "display_data"
    }
   ],
   "source": [
    "cols = sample(c25, length(order_of_tfs))\n",
    "cols[order_of_tfs==\"OTHERS\"] = \"black\"\n",
    "cols[order_of_tfs==\"CTCF\"] = \"gray60\"\n",
    "cols[order_of_tfs==\"AP-1\"] = \"orangered1\"\n",
    "cols"
   ]
  },
  {
   "cell_type": "code",
   "execution_count": 278,
   "metadata": {},
   "outputs": [],
   "source": [
    "# for (x in cols) {\n",
    "#     cat(sprintf('\"%s\", ', x))\n",
    "# }"
   ]
  },
  {
   "cell_type": "code",
   "execution_count": 279,
   "metadata": {},
   "outputs": [],
   "source": [
    "cols = c(\"#6A3D9A\", \"skyblue2\", \"brown\", \"gold1\", \"#FDBF6F\", \"#E31A1C\", \"dodgerblue2\", \"#FF7F00\", \"yellow3\", \"darkturquoise\", \"steelblue4\", \"orangered1\", \"gray60\", \"black\")"
   ]
  },
  {
   "cell_type": "code",
   "execution_count": null,
   "metadata": {},
   "outputs": [],
   "source": []
  },
  {
   "cell_type": "code",
   "execution_count": 280,
   "metadata": {},
   "outputs": [
    {
     "data": {
      "image/png": "[encoded data removed]",
      "text/plain": [
       "plot without title"
      ]
     },
     "metadata": {
      "image/png": {
       "height": 360,
       "width": 780
      },
      "text/plain": {
       "height": 360,
       "width": 780
      }
     },
     "output_type": "display_data"
    }
   ],
   "source": [
    "options(repr.plot.width = 13, repr.plot.height = 6)\n",
    "\n",
    "p = ggplot(plot_df) +\n",
    "geom_bar(aes(x=factor(idx), y=frac, fill=factor(match_1, levels=order_of_tfs)), stat=\"identity\", position=\"stack\") +\n",
    "scale_fill_manual(values=cols, name=\"Motif\") +\n",
    "ylab(\"Fraction\") +\n",
    "theme_bw(base_size=25) +\n",
    "theme(panel.grid.major = element_blank(),\n",
    "    panel.grid.minor = element_blank(),\n",
    "     axis.title.x=element_blank())\n",
    "# coord_flip()\n",
    "\n",
    "p"
   ]
  },
  {
   "cell_type": "code",
   "execution_count": 281,
   "metadata": {},
   "outputs": [],
   "source": [
    "ggsave(p, file=\"./subfigs/20211118_modisco_frac.pdf\", width=13, height=6, useDingbats=F)"
   ]
  },
  {
   "cell_type": "code",
   "execution_count": null,
   "metadata": {},
   "outputs": [],
   "source": []
  },
  {
   "cell_type": "code",
   "execution_count": null,
   "metadata": {},
   "outputs": [],
   "source": []
  },
  {
   "cell_type": "code",
   "execution_count": null,
   "metadata": {},
   "outputs": [],
   "source": []
  },
  {
   "cell_type": "code",
   "execution_count": null,
   "metadata": {},
   "outputs": [],
   "source": []
  },
  {
   "cell_type": "markdown",
   "metadata": {},
   "source": [
    "---"
   ]
  },
  {
   "cell_type": "code",
   "execution_count": 283,
   "metadata": {},
   "outputs": [
    {
     "data": {
      "text/plain": [
       "R version 3.6.3 (2020-02-29)\n",
       "Platform: x86_64-conda_cos6-linux-gnu (64-bit)\n",
       "Running under: Ubuntu 18.04.5 LTS\n",
       "\n",
       "Matrix products: default\n",
       "BLAS/LAPACK: /users/surag/anaconda3/envs/r36_cran/lib/libopenblasp-r0.3.9.so\n",
       "\n",
       "locale:\n",
       " [1] LC_CTYPE=en_US.UTF-8       LC_NUMERIC=C              \n",
       " [3] LC_TIME=en_US.UTF-8        LC_COLLATE=en_US.UTF-8    \n",
       " [5] LC_MONETARY=en_US.UTF-8    LC_MESSAGES=en_US.UTF-8   \n",
       " [7] LC_PAPER=en_US.UTF-8       LC_NAME=C                 \n",
       " [9] LC_ADDRESS=C               LC_TELEPHONE=C            \n",
       "[11] LC_MEASUREMENT=en_US.UTF-8 LC_IDENTIFICATION=C       \n",
       "\n",
       "attached base packages:\n",
       "[1] stats     graphics  grDevices utils     datasets  methods   base     \n",
       "\n",
       "other attached packages:\n",
       "[1] dplyr_1.0.2   ggplot2_3.3.3\n",
       "\n",
       "loaded via a namespace (and not attached):\n",
       " [1] pillar_1.4.6       compiler_3.6.3     RColorBrewer_1.1-2 base64enc_0.1-3   \n",
       " [5] tools_3.6.3        digest_0.6.25      uuid_0.1-4         jsonlite_1.6.1    \n",
       " [9] evaluate_0.14      lifecycle_0.2.0    tibble_3.0.3       gtable_0.3.0      \n",
       "[13] pkgconfig_2.0.3    rlang_0.4.11       IRdisplay_0.7.0    cli_2.0.2         \n",
       "[17] IRkernel_1.1       repr_1.1.0         withr_2.1.2        generics_0.0.2    \n",
       "[21] vctrs_0.3.4        grid_3.6.3         tidyselect_1.1.0   glue_1.4.2        \n",
       "[25] R6_2.4.1           fansi_0.4.1        pbdZMQ_0.3-3       purrr_0.3.4       \n",
       "[29] farver_2.0.3       magrittr_1.5       scales_1.1.0       ellipsis_0.3.1    \n",
       "[33] htmltools_0.5.1.1  assertthat_0.2.1   colorspace_1.4-1   labeling_0.3      \n",
       "[37] munsell_0.5.0      crayon_1.3.4       Cairo_1.5-12.2    "
      ]
     },
     "metadata": {},
     "output_type": "display_data"
    }
   ],
   "source": [
    "sessionInfo()"
   ]
  },
  {
   "cell_type": "code",
   "execution_count": null,
   "metadata": {},
   "outputs": [],
   "source": []
  }
 ],
 "metadata": {
  "kernelspec": {
   "display_name": "R",
   "language": "R",
   "name": "ir"
  },
  "language_info": {
   "codemirror_mode": "r",
   "file_extension": ".r",
   "mimetype": "text/x-r-source",
   "name": "R",
   "pygments_lexer": "r",
   "version": "3.6.3"
  }
 },
 "nbformat": 4,
 "nbformat_minor": 4
}
