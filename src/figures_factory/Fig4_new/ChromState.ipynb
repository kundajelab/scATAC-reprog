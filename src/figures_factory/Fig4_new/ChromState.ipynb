{
 "cells": [
  {
   "cell_type": "markdown",
   "metadata": {},
   "source": [
    "# Chromatin State for Locus\n",
    "\n",
    "Plot chromatin state for a locus in fibroblasts and ESCs.\n",
    "\n",
    "**Inputs**:\n",
    "1. ChromHMM annotations\n",
    "2. ChromHMM colors metadata\n",
    "3. Bigwig files for chromatin marks"
   ]
  },
  {
   "cell_type": "code",
   "execution_count": 114,
   "metadata": {},
   "outputs": [],
   "source": [
    "library(Gviz)\n",
    "library(rtracklayer)"
   ]
  },
  {
   "cell_type": "markdown",
   "metadata": {},
   "source": [
    "## Load Input Data"
   ]
  },
  {
   "cell_type": "code",
   "execution_count": 8,
   "metadata": {},
   "outputs": [
    {
     "data": {
      "text/plain": [
       "GRanges object with 6 ranges and 1 metadata column:\n",
       "      seqnames      ranges strand |       state\n",
       "         <Rle>   <IRanges>  <Rle> |    <factor>\n",
       "  [1]     chr1 10000-10800      * |       9_Het\n",
       "  [2]     chr1 10800-12600      * |    15_Quies\n",
       "  [3]     chr1 12600-18400      * |      5_TxWk\n",
       "  [4]     chr1 18400-88600      * |    15_Quies\n",
       "  [5]     chr1 88600-90600      * | 14_ReprPCWk\n",
       "  [6]     chr1 90600-96080      * |    15_Quies\n",
       "  -------\n",
       "  seqinfo: 25 sequences from an unspecified genome; no seqlengths"
      ]
     },
     "metadata": {},
     "output_type": "display_data"
    }
   ],
   "source": [
    "fibr_chromhmm = read.table(\"~/kundajelab/scATAC-reprog/resources/ChromHMM/E055_15_coreMarks_hg38lift_mnemonics.bed.gz\")\n",
    "colnames(fibr_chromhmm) = c(\"chr\", \"start\", \"end\", \"state\")\n",
    "fibr_chromhmm = GRanges(fibr_chromhmm)\n",
    "head(fibr_chromhmm)"
   ]
  },
  {
   "cell_type": "code",
   "execution_count": 9,
   "metadata": {},
   "outputs": [
    {
     "data": {
      "text/plain": [
       "GRanges object with 6 ranges and 1 metadata column:\n",
       "      seqnames        ranges strand |    state\n",
       "         <Rle>     <IRanges>  <Rle> | <factor>\n",
       "  [1]     chr1   10000-10800      * |    9_Het\n",
       "  [2]     chr1   10800-96080      * | 15_Quies\n",
       "  [3]     chr1   96276-96476      * | 15_Quies\n",
       "  [4]     chr1  97276-136400      * | 15_Quies\n",
       "  [5]     chr1 136400-138800      * |   5_TxWk\n",
       "  [6]     chr1 138800-139600      * |     4_Tx\n",
       "  -------\n",
       "  seqinfo: 25 sequences from an unspecified genome; no seqlengths"
      ]
     },
     "metadata": {},
     "output_type": "display_data"
    }
   ],
   "source": [
    "hesc_chromhmm = read.table(\"~/kundajelab/scATAC-reprog/resources/ChromHMM/E003_15_coreMarks_hg38lift_mnemonics.bed.gz\")\n",
    "colnames(hesc_chromhmm) = c(\"chr\", \"start\", \"end\", \"state\")\n",
    "hesc_chromhmm = GRanges(hesc_chromhmm)\n",
    "head(hesc_chromhmm)"
   ]
  },
  {
   "cell_type": "code",
   "execution_count": null,
   "metadata": {},
   "outputs": [],
   "source": []
  },
  {
   "cell_type": "code",
   "execution_count": 23,
   "metadata": {},
   "outputs": [],
   "source": [
    "rgb2hex <- function(rgb) rgb(rgb[1], rgb[2], rgb[3], maxColorValue = 255)"
   ]
  },
  {
   "cell_type": "code",
   "execution_count": 25,
   "metadata": {},
   "outputs": [],
   "source": [
    "rbgstr2hex <- function(rgbstr) {rgb2hex(lapply(strsplit(rgbstr, ','), as.numeric)[[1]])}"
   ]
  },
  {
   "cell_type": "code",
   "execution_count": 82,
   "metadata": {},
   "outputs": [
    {
     "data": {
      "text/html": [
       "<table>\n",
       "<caption>A data.frame: 15 × 6</caption>\n",
       "<thead>\n",
       "\t<tr><th></th><th scope=col>STATE.NO.</th><th scope=col>MNEMONIC</th><th scope=col>DESCRIPTION</th><th scope=col>COLOR.NAME</th><th scope=col>COLOR.CODE</th><th scope=col>COL.HEX</th></tr>\n",
       "\t<tr><th></th><th scope=col>&lt;int&gt;</th><th scope=col>&lt;chr&gt;</th><th scope=col>&lt;chr&gt;</th><th scope=col>&lt;chr&gt;</th><th scope=col>&lt;chr&gt;</th><th scope=col>&lt;chr&gt;</th></tr>\n",
       "</thead>\n",
       "<tbody>\n",
       "\t<tr><th scope=row>1_TssA</th><td> 1</td><td>TssA    </td><td>Active TSS               </td><td>Red              </td><td>255,0,0    </td><td>#FF0000</td></tr>\n",
       "\t<tr><th scope=row>2_TssAFlnk</th><td> 2</td><td>TssAFlnk</td><td>Flanking Active TSS      </td><td>Orange Red       </td><td>255,69,0   </td><td>#FF4500</td></tr>\n",
       "\t<tr><th scope=row>3_TxFlnk</th><td> 3</td><td>TxFlnk  </td><td>Transcr. at gene 5 and 3 </td><td>LimeGreen        </td><td>50,205,50  </td><td>#32CD32</td></tr>\n",
       "\t<tr><th scope=row>4_Tx</th><td> 4</td><td>Tx      </td><td>Strong transcription     </td><td>Green            </td><td>0,128,0    </td><td>#008000</td></tr>\n",
       "\t<tr><th scope=row>5_TxWk</th><td> 5</td><td>TxWk    </td><td>Weak transcription       </td><td>DarkGreen        </td><td>0,100,0    </td><td>#006400</td></tr>\n",
       "\t<tr><th scope=row>6_EnhG</th><td> 6</td><td>EnhG    </td><td>Genic enhancers          </td><td>GreenYellow      </td><td>194,225,5  </td><td>#C2E105</td></tr>\n",
       "\t<tr><th scope=row>7_Enh</th><td> 7</td><td>Enh     </td><td>Enhancers                </td><td>Yellow           </td><td>255,255,0  </td><td>#FFFF00</td></tr>\n",
       "\t<tr><th scope=row>8_ZNF/Rpts</th><td> 8</td><td>ZNF/Rpts</td><td><span style=white-space:pre-wrap>ZNF genes &amp; repeats      </span></td><td>Medium Aquamarine</td><td>102,205,170</td><td>#66CDAA</td></tr>\n",
       "\t<tr><th scope=row>9_Het</th><td> 9</td><td>Het     </td><td>Heterochromatin          </td><td>PaleTurquoise    </td><td>138,145,208</td><td>#8A91D0</td></tr>\n",
       "\t<tr><th scope=row>10_TssBiv</th><td>10</td><td>TssBiv  </td><td>Bivalent/Poised TSS      </td><td>IndianRed        </td><td>205,92,92  </td><td>#CD5C5C</td></tr>\n",
       "\t<tr><th scope=row>11_BivFlnk</th><td>11</td><td>BivFlnk </td><td>Flanking Bivalent TSS/Enh</td><td>DarkSalmon       </td><td>233,150,122</td><td>#E9967A</td></tr>\n",
       "\t<tr><th scope=row>12_EnhBiv</th><td>12</td><td>EnhBiv  </td><td>Bivalent Enhancer        </td><td>DarkKhaki        </td><td>189,183,107</td><td>#BDB76B</td></tr>\n",
       "\t<tr><th scope=row>13_ReprPC</th><td>13</td><td>ReprPC  </td><td>Repressed PolyComb       </td><td>Silver           </td><td>128,128,128</td><td>#808080</td></tr>\n",
       "\t<tr><th scope=row>14_ReprPCWk</th><td>14</td><td>ReprPCWk</td><td>Weak Repressed PolyComb  </td><td>Gainsboro        </td><td>192,192,192</td><td>#C0C0C0</td></tr>\n",
       "\t<tr><th scope=row>15_Quies</th><td>15</td><td>Quies   </td><td>Quiescent/Low            </td><td>White            </td><td>255,255,255</td><td>#FFFFFF</td></tr>\n",
       "</tbody>\n",
       "</table>\n"
      ],
      "text/latex": [
       "A data.frame: 15 × 6\n",
       "\\begin{tabular}{r|llllll}\n",
       "  & STATE.NO. & MNEMONIC & DESCRIPTION & COLOR.NAME & COLOR.CODE & COL.HEX\\\\\n",
       "  & <int> & <chr> & <chr> & <chr> & <chr> & <chr>\\\\\n",
       "\\hline\n",
       "\t1\\_TssA &  1 & TssA     & Active TSS                & Red               & 255,0,0     & \\#FF0000\\\\\n",
       "\t2\\_TssAFlnk &  2 & TssAFlnk & Flanking Active TSS       & Orange Red        & 255,69,0    & \\#FF4500\\\\\n",
       "\t3\\_TxFlnk &  3 & TxFlnk   & Transcr. at gene 5 and 3  & LimeGreen         & 50,205,50   & \\#32CD32\\\\\n",
       "\t4\\_Tx &  4 & Tx       & Strong transcription      & Green             & 0,128,0     & \\#008000\\\\\n",
       "\t5\\_TxWk &  5 & TxWk     & Weak transcription        & DarkGreen         & 0,100,0     & \\#006400\\\\\n",
       "\t6\\_EnhG &  6 & EnhG     & Genic enhancers           & GreenYellow       & 194,225,5   & \\#C2E105\\\\\n",
       "\t7\\_Enh &  7 & Enh      & Enhancers                 & Yellow            & 255,255,0   & \\#FFFF00\\\\\n",
       "\t8\\_ZNF/Rpts &  8 & ZNF/Rpts & ZNF genes \\& repeats       & Medium Aquamarine & 102,205,170 & \\#66CDAA\\\\\n",
       "\t9\\_Het &  9 & Het      & Heterochromatin           & PaleTurquoise     & 138,145,208 & \\#8A91D0\\\\\n",
       "\t10\\_TssBiv & 10 & TssBiv   & Bivalent/Poised TSS       & IndianRed         & 205,92,92   & \\#CD5C5C\\\\\n",
       "\t11\\_BivFlnk & 11 & BivFlnk  & Flanking Bivalent TSS/Enh & DarkSalmon        & 233,150,122 & \\#E9967A\\\\\n",
       "\t12\\_EnhBiv & 12 & EnhBiv   & Bivalent Enhancer         & DarkKhaki         & 189,183,107 & \\#BDB76B\\\\\n",
       "\t13\\_ReprPC & 13 & ReprPC   & Repressed PolyComb        & Silver            & 128,128,128 & \\#808080\\\\\n",
       "\t14\\_ReprPCWk & 14 & ReprPCWk & Weak Repressed PolyComb   & Gainsboro         & 192,192,192 & \\#C0C0C0\\\\\n",
       "\t15\\_Quies & 15 & Quies    & Quiescent/Low             & White             & 255,255,255 & \\#FFFFFF\\\\\n",
       "\\end{tabular}\n"
      ],
      "text/markdown": [
       "\n",
       "A data.frame: 15 × 6\n",
       "\n",
       "| <!--/--> | STATE.NO. &lt;int&gt; | MNEMONIC &lt;chr&gt; | DESCRIPTION &lt;chr&gt; | COLOR.NAME &lt;chr&gt; | COLOR.CODE &lt;chr&gt; | COL.HEX &lt;chr&gt; |\n",
       "|---|---|---|---|---|---|---|\n",
       "| 1_TssA |  1 | TssA     | Active TSS                | Red               | 255,0,0     | #FF0000 |\n",
       "| 2_TssAFlnk |  2 | TssAFlnk | Flanking Active TSS       | Orange Red        | 255,69,0    | #FF4500 |\n",
       "| 3_TxFlnk |  3 | TxFlnk   | Transcr. at gene 5 and 3  | LimeGreen         | 50,205,50   | #32CD32 |\n",
       "| 4_Tx |  4 | Tx       | Strong transcription      | Green             | 0,128,0     | #008000 |\n",
       "| 5_TxWk |  5 | TxWk     | Weak transcription        | DarkGreen         | 0,100,0     | #006400 |\n",
       "| 6_EnhG |  6 | EnhG     | Genic enhancers           | GreenYellow       | 194,225,5   | #C2E105 |\n",
       "| 7_Enh |  7 | Enh      | Enhancers                 | Yellow            | 255,255,0   | #FFFF00 |\n",
       "| 8_ZNF/Rpts |  8 | ZNF/Rpts | ZNF genes &amp; repeats       | Medium Aquamarine | 102,205,170 | #66CDAA |\n",
       "| 9_Het |  9 | Het      | Heterochromatin           | PaleTurquoise     | 138,145,208 | #8A91D0 |\n",
       "| 10_TssBiv | 10 | TssBiv   | Bivalent/Poised TSS       | IndianRed         | 205,92,92   | #CD5C5C |\n",
       "| 11_BivFlnk | 11 | BivFlnk  | Flanking Bivalent TSS/Enh | DarkSalmon        | 233,150,122 | #E9967A |\n",
       "| 12_EnhBiv | 12 | EnhBiv   | Bivalent Enhancer         | DarkKhaki         | 189,183,107 | #BDB76B |\n",
       "| 13_ReprPC | 13 | ReprPC   | Repressed PolyComb        | Silver            | 128,128,128 | #808080 |\n",
       "| 14_ReprPCWk | 14 | ReprPCWk | Weak Repressed PolyComb   | Gainsboro         | 192,192,192 | #C0C0C0 |\n",
       "| 15_Quies | 15 | Quies    | Quiescent/Low             | White             | 255,255,255 | #FFFFFF |\n",
       "\n"
      ],
      "text/plain": [
       "            STATE.NO. MNEMONIC DESCRIPTION               COLOR.NAME       \n",
       "1_TssA       1        TssA     Active TSS                Red              \n",
       "2_TssAFlnk   2        TssAFlnk Flanking Active TSS       Orange Red       \n",
       "3_TxFlnk     3        TxFlnk   Transcr. at gene 5 and 3  LimeGreen        \n",
       "4_Tx         4        Tx       Strong transcription      Green            \n",
       "5_TxWk       5        TxWk     Weak transcription        DarkGreen        \n",
       "6_EnhG       6        EnhG     Genic enhancers           GreenYellow      \n",
       "7_Enh        7        Enh      Enhancers                 Yellow           \n",
       "8_ZNF/Rpts   8        ZNF/Rpts ZNF genes & repeats       Medium Aquamarine\n",
       "9_Het        9        Het      Heterochromatin           PaleTurquoise    \n",
       "10_TssBiv   10        TssBiv   Bivalent/Poised TSS       IndianRed        \n",
       "11_BivFlnk  11        BivFlnk  Flanking Bivalent TSS/Enh DarkSalmon       \n",
       "12_EnhBiv   12        EnhBiv   Bivalent Enhancer         DarkKhaki        \n",
       "13_ReprPC   13        ReprPC   Repressed PolyComb        Silver           \n",
       "14_ReprPCWk 14        ReprPCWk Weak Repressed PolyComb   Gainsboro        \n",
       "15_Quies    15        Quies    Quiescent/Low             White            \n",
       "            COLOR.CODE  COL.HEX\n",
       "1_TssA      255,0,0     #FF0000\n",
       "2_TssAFlnk  255,69,0    #FF4500\n",
       "3_TxFlnk    50,205,50   #32CD32\n",
       "4_Tx        0,128,0     #008000\n",
       "5_TxWk      0,100,0     #006400\n",
       "6_EnhG      194,225,5   #C2E105\n",
       "7_Enh       255,255,0   #FFFF00\n",
       "8_ZNF/Rpts  102,205,170 #66CDAA\n",
       "9_Het       138,145,208 #8A91D0\n",
       "10_TssBiv   205,92,92   #CD5C5C\n",
       "11_BivFlnk  233,150,122 #E9967A\n",
       "12_EnhBiv   189,183,107 #BDB76B\n",
       "13_ReprPC   128,128,128 #808080\n",
       "14_ReprPCWk 192,192,192 #C0C0C0\n",
       "15_Quies    255,255,255 #FFFFFF"
      ]
     },
     "metadata": {},
     "output_type": "display_data"
    }
   ],
   "source": [
    "# from https://egg2.wustl.edu/roadmap/web_portal/chr_state_learning.html\n",
    "chromhmm_metadata = read.table(\"~/kundajelab/scATAC-reprog/resources/ChromHMM/metadata.tsv\", \n",
    "                               sep='\\t', header=T, stringsAsFactor=F)\n",
    "chromhmm_metadata$COL.HEX = unlist(lapply(chromhmm_metadata$COLOR.CODE, rbgstr2hex))\n",
    "rownames(chromhmm_metadata) = paste(chromhmm_metadata$STATE.NO., chromhmm_metadata$MNEMONIC, sep='_')\n",
    "chromhmm_metadata"
   ]
  },
  {
   "cell_type": "code",
   "execution_count": 370,
   "metadata": {},
   "outputs": [
    {
     "data": {
      "text/html": [
       "<table>\n",
       "<caption>A data.frame: 6 × 3</caption>\n",
       "<thead>\n",
       "\t<tr><th scope=col>name</th><th scope=col>id</th><th scope=col>path</th></tr>\n",
       "\t<tr><th scope=col>&lt;chr&gt;</th><th scope=col>&lt;chr&gt;</th><th scope=col>&lt;chr&gt;</th></tr>\n",
       "</thead>\n",
       "<tbody>\n",
       "\t<tr><td>Fibroblast H3K27ac </td><td>ENCFF592AMK</td><td>/mnt/lab_data3/surag/resources/ENCODE/ENCFF592AMK.bigWig</td></tr>\n",
       "\t<tr><td>Fibroblast H3K27me3</td><td>ENCFF796ITQ</td><td>/mnt/lab_data3/surag/resources/ENCODE/ENCFF796ITQ.bigWig</td></tr>\n",
       "\t<tr><td>Fibroblast H3K4me3 </td><td>ENCFF433CKH</td><td>/mnt/lab_data3/surag/resources/ENCODE/ENCFF433CKH.bigWig</td></tr>\n",
       "\t<tr><td>ESC H3K27ac        </td><td>ENCFF103PND</td><td>/mnt/lab_data3/surag/resources/ENCODE/ENCFF103PND.bigWig</td></tr>\n",
       "\t<tr><td>ESC H3K27me3       </td><td>ENCFF131WDQ</td><td>/mnt/lab_data3/surag/resources/ENCODE/ENCFF131WDQ.bigWig</td></tr>\n",
       "\t<tr><td>ESC H3K4me3        </td><td>ENCFF889FUC</td><td>/mnt/lab_data3/surag/resources/ENCODE/ENCFF889FUC.bigWig</td></tr>\n",
       "</tbody>\n",
       "</table>\n"
      ],
      "text/latex": [
       "A data.frame: 6 × 3\n",
       "\\begin{tabular}{lll}\n",
       " name & id & path\\\\\n",
       " <chr> & <chr> & <chr>\\\\\n",
       "\\hline\n",
       "\t Fibroblast H3K27ac  & ENCFF592AMK & /mnt/lab\\_data3/surag/resources/ENCODE/ENCFF592AMK.bigWig\\\\\n",
       "\t Fibroblast H3K27me3 & ENCFF796ITQ & /mnt/lab\\_data3/surag/resources/ENCODE/ENCFF796ITQ.bigWig\\\\\n",
       "\t Fibroblast H3K4me3  & ENCFF433CKH & /mnt/lab\\_data3/surag/resources/ENCODE/ENCFF433CKH.bigWig\\\\\n",
       "\t ESC H3K27ac         & ENCFF103PND & /mnt/lab\\_data3/surag/resources/ENCODE/ENCFF103PND.bigWig\\\\\n",
       "\t ESC H3K27me3        & ENCFF131WDQ & /mnt/lab\\_data3/surag/resources/ENCODE/ENCFF131WDQ.bigWig\\\\\n",
       "\t ESC H3K4me3         & ENCFF889FUC & /mnt/lab\\_data3/surag/resources/ENCODE/ENCFF889FUC.bigWig\\\\\n",
       "\\end{tabular}\n"
      ],
      "text/markdown": [
       "\n",
       "A data.frame: 6 × 3\n",
       "\n",
       "| name &lt;chr&gt; | id &lt;chr&gt; | path &lt;chr&gt; |\n",
       "|---|---|---|\n",
       "| Fibroblast H3K27ac  | ENCFF592AMK | /mnt/lab_data3/surag/resources/ENCODE/ENCFF592AMK.bigWig |\n",
       "| Fibroblast H3K27me3 | ENCFF796ITQ | /mnt/lab_data3/surag/resources/ENCODE/ENCFF796ITQ.bigWig |\n",
       "| Fibroblast H3K4me3  | ENCFF433CKH | /mnt/lab_data3/surag/resources/ENCODE/ENCFF433CKH.bigWig |\n",
       "| ESC H3K27ac         | ENCFF103PND | /mnt/lab_data3/surag/resources/ENCODE/ENCFF103PND.bigWig |\n",
       "| ESC H3K27me3        | ENCFF131WDQ | /mnt/lab_data3/surag/resources/ENCODE/ENCFF131WDQ.bigWig |\n",
       "| ESC H3K4me3         | ENCFF889FUC | /mnt/lab_data3/surag/resources/ENCODE/ENCFF889FUC.bigWig |\n",
       "\n"
      ],
      "text/plain": [
       "  name                id         \n",
       "1 Fibroblast H3K27ac  ENCFF592AMK\n",
       "2 Fibroblast H3K27me3 ENCFF796ITQ\n",
       "3 Fibroblast H3K4me3  ENCFF433CKH\n",
       "4 ESC H3K27ac         ENCFF103PND\n",
       "5 ESC H3K27me3        ENCFF131WDQ\n",
       "6 ESC H3K4me3         ENCFF889FUC\n",
       "  path                                                    \n",
       "1 /mnt/lab_data3/surag/resources/ENCODE/ENCFF592AMK.bigWig\n",
       "2 /mnt/lab_data3/surag/resources/ENCODE/ENCFF796ITQ.bigWig\n",
       "3 /mnt/lab_data3/surag/resources/ENCODE/ENCFF433CKH.bigWig\n",
       "4 /mnt/lab_data3/surag/resources/ENCODE/ENCFF103PND.bigWig\n",
       "5 /mnt/lab_data3/surag/resources/ENCODE/ENCFF131WDQ.bigWig\n",
       "6 /mnt/lab_data3/surag/resources/ENCODE/ENCFF889FUC.bigWig"
      ]
     },
     "metadata": {},
     "output_type": "display_data"
    }
   ],
   "source": [
    "filelist = data.frame(name=c(\"Fibroblast H3K27ac\", \"Fibroblast H3K27me3\", \"Fibroblast H3K4me3\", \"ESC H3K27ac\", \"ESC H3K27me3\", \"ESC H3K4me3\"),                    \n",
    "                     id=c(\"ENCFF592AMK\", \"ENCFF796ITQ\", \"ENCFF433CKH\", \"ENCFF103PND\", \"ENCFF131WDQ\", \"ENCFF889FUC\"))\n",
    "filelist$name = as.character(filelist$name)\n",
    "filelist$id = as.character(filelist$id)\n",
    "filelist$path = paste(paste(\"/mnt/lab_data3/surag/resources/ENCODE/\", filelist$id, sep=''), \".bigWig\", sep='')\n",
    "filelist"
   ]
  },
  {
   "cell_type": "code",
   "execution_count": null,
   "metadata": {},
   "outputs": [],
   "source": []
  },
  {
   "cell_type": "code",
   "execution_count": 320,
   "metadata": {},
   "outputs": [
    {
     "name": "stderr",
     "output_type": "stream",
     "text": [
      "Warning message in readGFF(filepath, version = version, filter = filter):\n",
      "\"connection is not positioned at the start of the file, rewinding it\"\n"
     ]
    },
    {
     "data": {
      "text/html": [
       "<table>\n",
       "<caption>A data.frame: 6 × 9</caption>\n",
       "<thead>\n",
       "\t<tr><th></th><th scope=col>chromosome</th><th scope=col>start</th><th scope=col>end</th><th scope=col>strand</th><th scope=col>gene</th><th scope=col>symbol</th><th scope=col>transcript</th><th scope=col>feature</th><th scope=col>exon</th></tr>\n",
       "\t<tr><th></th><th scope=col>&lt;fct&gt;</th><th scope=col>&lt;int&gt;</th><th scope=col>&lt;int&gt;</th><th scope=col>&lt;fct&gt;</th><th scope=col>&lt;chr&gt;</th><th scope=col>&lt;chr&gt;</th><th scope=col>&lt;chr&gt;</th><th scope=col>&lt;chr&gt;</th><th scope=col>&lt;chr&gt;</th></tr>\n",
       "</thead>\n",
       "<tbody>\n",
       "\t<tr><th scope=row>57</th><td>chr1</td><td>65419</td><td>65433</td><td>+</td><td>ENSG00000186092.6</td><td>OR4F5</td><td>OR4F5-202</td><td>exon       </td><td>ENSE00003812156.1</td></tr>\n",
       "\t<tr><th scope=row>58</th><td>chr1</td><td>65520</td><td>65573</td><td>+</td><td>ENSG00000186092.6</td><td>OR4F5</td><td>OR4F5-202</td><td>exon       </td><td>ENSE00003813641.1</td></tr>\n",
       "\t<tr><th scope=row>59</th><td>chr1</td><td>65565</td><td>65573</td><td>+</td><td>ENSG00000186092.6</td><td>OR4F5</td><td>OR4F5-202</td><td>CDS        </td><td>ENSE00003813641.1</td></tr>\n",
       "\t<tr><th scope=row>60</th><td>chr1</td><td>65565</td><td>65567</td><td>+</td><td>ENSG00000186092.6</td><td>OR4F5</td><td>OR4F5-202</td><td>start_codon</td><td>ENSE00003813641.1</td></tr>\n",
       "\t<tr><th scope=row>61</th><td>chr1</td><td>69037</td><td>71585</td><td>+</td><td>ENSG00000186092.6</td><td>OR4F5</td><td>OR4F5-202</td><td>exon       </td><td>ENSE00003813949.1</td></tr>\n",
       "\t<tr><th scope=row>62</th><td>chr1</td><td>69037</td><td>70005</td><td>+</td><td>ENSG00000186092.6</td><td>OR4F5</td><td>OR4F5-202</td><td>CDS        </td><td>ENSE00003813949.1</td></tr>\n",
       "</tbody>\n",
       "</table>\n"
      ],
      "text/latex": [
       "A data.frame: 6 × 9\n",
       "\\begin{tabular}{r|lllllllll}\n",
       "  & chromosome & start & end & strand & gene & symbol & transcript & feature & exon\\\\\n",
       "  & <fct> & <int> & <int> & <fct> & <chr> & <chr> & <chr> & <chr> & <chr>\\\\\n",
       "\\hline\n",
       "\t57 & chr1 & 65419 & 65433 & + & ENSG00000186092.6 & OR4F5 & OR4F5-202 & exon        & ENSE00003812156.1\\\\\n",
       "\t58 & chr1 & 65520 & 65573 & + & ENSG00000186092.6 & OR4F5 & OR4F5-202 & exon        & ENSE00003813641.1\\\\\n",
       "\t59 & chr1 & 65565 & 65573 & + & ENSG00000186092.6 & OR4F5 & OR4F5-202 & CDS         & ENSE00003813641.1\\\\\n",
       "\t60 & chr1 & 65565 & 65567 & + & ENSG00000186092.6 & OR4F5 & OR4F5-202 & start\\_codon & ENSE00003813641.1\\\\\n",
       "\t61 & chr1 & 69037 & 71585 & + & ENSG00000186092.6 & OR4F5 & OR4F5-202 & exon        & ENSE00003813949.1\\\\\n",
       "\t62 & chr1 & 69037 & 70005 & + & ENSG00000186092.6 & OR4F5 & OR4F5-202 & CDS         & ENSE00003813949.1\\\\\n",
       "\\end{tabular}\n"
      ],
      "text/markdown": [
       "\n",
       "A data.frame: 6 × 9\n",
       "\n",
       "| <!--/--> | chromosome &lt;fct&gt; | start &lt;int&gt; | end &lt;int&gt; | strand &lt;fct&gt; | gene &lt;chr&gt; | symbol &lt;chr&gt; | transcript &lt;chr&gt; | feature &lt;chr&gt; | exon &lt;chr&gt; |\n",
       "|---|---|---|---|---|---|---|---|---|---|\n",
       "| 57 | chr1 | 65419 | 65433 | + | ENSG00000186092.6 | OR4F5 | OR4F5-202 | exon        | ENSE00003812156.1 |\n",
       "| 58 | chr1 | 65520 | 65573 | + | ENSG00000186092.6 | OR4F5 | OR4F5-202 | exon        | ENSE00003813641.1 |\n",
       "| 59 | chr1 | 65565 | 65573 | + | ENSG00000186092.6 | OR4F5 | OR4F5-202 | CDS         | ENSE00003813641.1 |\n",
       "| 60 | chr1 | 65565 | 65567 | + | ENSG00000186092.6 | OR4F5 | OR4F5-202 | start_codon | ENSE00003813641.1 |\n",
       "| 61 | chr1 | 69037 | 71585 | + | ENSG00000186092.6 | OR4F5 | OR4F5-202 | exon        | ENSE00003813949.1 |\n",
       "| 62 | chr1 | 69037 | 70005 | + | ENSG00000186092.6 | OR4F5 | OR4F5-202 | CDS         | ENSE00003813949.1 |\n",
       "\n"
      ],
      "text/plain": [
       "   chromosome start end   strand gene              symbol transcript\n",
       "57 chr1       65419 65433 +      ENSG00000186092.6 OR4F5  OR4F5-202 \n",
       "58 chr1       65520 65573 +      ENSG00000186092.6 OR4F5  OR4F5-202 \n",
       "59 chr1       65565 65573 +      ENSG00000186092.6 OR4F5  OR4F5-202 \n",
       "60 chr1       65565 65567 +      ENSG00000186092.6 OR4F5  OR4F5-202 \n",
       "61 chr1       69037 71585 +      ENSG00000186092.6 OR4F5  OR4F5-202 \n",
       "62 chr1       69037 70005 +      ENSG00000186092.6 OR4F5  OR4F5-202 \n",
       "   feature     exon             \n",
       "57 exon        ENSE00003812156.1\n",
       "58 exon        ENSE00003813641.1\n",
       "59 CDS         ENSE00003813641.1\n",
       "60 start_codon ENSE00003813641.1\n",
       "61 exon        ENSE00003813949.1\n",
       "62 CDS         ENSE00003813949.1"
      ]
     },
     "metadata": {},
     "output_type": "display_data"
    }
   ],
   "source": [
    "gencode.basic.hg38 = import.gff(gzfile(\"../../../resources/GENCODE/gencode.v33.chr_patch_hapl_scaff.basic.annotation.gtf.gz\"))\n",
    "gencode.basic.hg38 = keepStandardChromosomes(gencode.basic.hg38, pruning.mode = \"coarse\")\n",
    "gene_anno <- data.frame(gencode.basic.hg38)\n",
    "gene_anno = gene_anno[!is.na(gene_anno$exon_number), ]\n",
    "gene_anno = gene_anno[gene_anno$gene_type==\"protein_coding\", ]\n",
    "\n",
    "# rename some columns to match requirements\n",
    "gene_anno$chromosome <-  gene_anno$seqnames\n",
    "gene_anno$gene <- gene_anno$gene_id\n",
    "gene_anno$transcript <- gene_anno$transcript_name\n",
    "gene_anno$symbol <- gene_anno$gene_name\n",
    "\n",
    "gene_anno$feature = as.character(gene_anno$type)\n",
    "gene_anno$exon = gene_anno$exon_id\n",
    "gene_anno = gene_anno[,c(\"chromosome\", \"start\", \"end\", \"strand\", \"gene\", \"symbol\", \"transcript\", \"feature\", \"exon\")]\n",
    "head(gene_anno)"
   ]
  },
  {
   "cell_type": "code",
   "execution_count": null,
   "metadata": {},
   "outputs": [],
   "source": []
  },
  {
   "cell_type": "markdown",
   "metadata": {},
   "source": [
    "## Functions"
   ]
  },
  {
   "cell_type": "code",
   "execution_count": 418,
   "metadata": {},
   "outputs": [],
   "source": [
    "TITLE_FONTSIZE = 20"
   ]
  },
  {
   "cell_type": "code",
   "execution_count": 419,
   "metadata": {},
   "outputs": [],
   "source": [
    "chromhmm_track <- function(ranges, chr, name) {\n",
    "    plot_df = data.frame(chr=rep(chr, length(ranges)),\n",
    "                        start = start(ranges),\n",
    "                        end= end(ranges),\n",
    "                        itemRgb = unlist(chromhmm_metadata[as.character(ranges$state), \"COL.HEX\"]))\n",
    "\n",
    "    hmmTrack <- AnnotationTrack(GRanges(plot_df), \n",
    "                                chr=chr,\n",
    "                                genome=\"hg38\",\n",
    "                                stacking=\"dense\",\n",
    "                                feature = plot_df$itemRgb, \n",
    "                                background.title = \"white\", \n",
    "                                fontcolor.title=\"black\",\n",
    "                                fontface.title=1,\n",
    "                                rot.title=0,\n",
    "                                fontsize=TITLE_FONTSIZE,\n",
    "                                name = name)\n",
    "    \n",
    "    hmmTrack\n",
    "}"
   ]
  },
  {
   "cell_type": "code",
   "execution_count": 420,
   "metadata": {},
   "outputs": [],
   "source": [
    "get_histone_tracks <- function(chr, filelist, show_axis=T) {\n",
    "    bw_tracks = c()\n",
    "    for (i in seq(nrow(filelist))) {\n",
    "        cur_bw_path = filelist[i, \"path\"]\n",
    "        cur_bw_track = DataTrack(cur_bw_path, \n",
    "                             genome=\"hg38\", \n",
    "                             chromosome = chr, \n",
    "                             name=sprintf(\"%s\", filelist[i, \"name\"]),\n",
    "                             ylim=c(0,42),\n",
    "                             type=\"histogram\",\n",
    "                             rot.title=0,\n",
    "                             col.histogram=\"black\",\n",
    "                             fill.histogram=\"black\",\n",
    "                             background.title = \"white\", \n",
    "                             fontcolor.title=\"black\",    \n",
    "                             fontface.title=1,\n",
    "                             fontsize=TITLE_FONTSIZE,                                 \n",
    "                                 littleTicks=F)\n",
    "        \n",
    "        # don't show axis ticks for each plot\n",
    "        displayPars(cur_bw_track)$showAxis = F\n",
    "        if (!show_axis) {\n",
    "            displayPars(cur_bw_track)$showTitle = F\n",
    "        }\n",
    "        \n",
    "        bw_tracks = c(bw_tracks, cur_bw_track)\n",
    "    }\n",
    "    \n",
    "#     bw_tracks = bw_tracks[order(cluster_config$new_cluster)] # reorder\n",
    "    \n",
    "#     if (!show_axis) {\n",
    "#             displayPars(bw_tracks)$showTitle = F\n",
    "#             displayPars(bw_tracks)$showAxis = F\n",
    "#         }\n",
    "    \n",
    "    bw_tracks\n",
    "}\n",
    "\n",
    "get_gene_track <- function(chr, gene_anno, show_axis=T) {\n",
    "    gene_track <- GeneRegionTrack(gene_anno, genome = \"hg38\", \n",
    "                                 chromosome = chr, \n",
    "                                 name = \"\", \n",
    "                                 collapseTranscripts=\"longest\",\n",
    "                                 transcriptAnnotation=\"symbol\",\n",
    "                                background.title = 'transparent',\n",
    "                                fill='#000000',\n",
    "                                stackHeight=0.5,\n",
    "                                 \n",
    "                                col='black',\n",
    "                                col.line='black',\n",
    "                                fontcolor.group='black',\n",
    "                                \n",
    "                                lwd=2,\n",
    "                                  fontsize.group=TITLE_FONTSIZE\n",
    "                                 )\n",
    "    if (!show_axis) {\n",
    "            displayPars(gene_track)$showTitle = F\n",
    "        }\n",
    "    \n",
    "    gene_track\n",
    "}"
   ]
  },
  {
   "cell_type": "markdown",
   "metadata": {},
   "source": [
    "## Plotting"
   ]
  },
  {
   "cell_type": "code",
   "execution_count": 423,
   "metadata": {},
   "outputs": [],
   "source": [
    "CHR=\"chr16\"\n",
    "START=68725466\n",
    "END=68841482\n",
    "\n",
    "REG = paste(paste(CHR, START, sep=':'), END, sep='-')"
   ]
  },
  {
   "cell_type": "code",
   "execution_count": 425,
   "metadata": {},
   "outputs": [
    {
     "data": {
      "text/html": [
       "'chr16:68725466-68841482'"
      ],
      "text/latex": [
       "'chr16:68725466-68841482'"
      ],
      "text/markdown": [
       "'chr16:68725466-68841482'"
      ],
      "text/plain": [
       "[1] \"chr16:68725466-68841482\""
      ]
     },
     "metadata": {},
     "output_type": "display_data"
    }
   ],
   "source": [
    "REG"
   ]
  },
  {
   "cell_type": "code",
   "execution_count": 426,
   "metadata": {},
   "outputs": [
    {
     "data": {
      "text/plain": [
       "GRanges object with 47 ranges and 1 metadata column:\n",
       "       seqnames            ranges strand |      state\n",
       "          <Rle>         <IRanges>  <Rle> |   <factor>\n",
       "   [1]    chr16 68715897-68731697      * |   15_Quies\n",
       "   [2]    chr16 68731697-68734297      * |      7_Enh\n",
       "   [3]    chr16 68734297-68736897      * |     5_TxWk\n",
       "   [4]    chr16 68736897-68737097      * | 2_TssAFlnk\n",
       "   [5]    chr16 68737097-68738897      * |     1_TssA\n",
       "   ...      ...               ...    ... .        ...\n",
       "  [43]    chr16 68801297-68803697      * |       4_Tx\n",
       "  [44]    chr16 68803697-68803897      * |     6_EnhG\n",
       "  [45]    chr16 68803897-68808297      * |     5_TxWk\n",
       "  [46]    chr16 68808297-68836497      * |       4_Tx\n",
       "  [47]    chr16 68836497-68843297      * |     5_TxWk\n",
       "  -------\n",
       "  seqinfo: 25 sequences from an unspecified genome; no seqlengths"
      ]
     },
     "metadata": {},
     "output_type": "display_data"
    }
   ],
   "source": [
    "cur_hesc = hesc_chromhmm[queryHits(findOverlaps(hesc_chromhmm, GRanges(REG)))]\n",
    "cur_fibr = fibr_chromhmm[queryHits(findOverlaps(fibr_chromhmm, GRanges(REG)))]\n",
    "cur_hesc"
   ]
  },
  {
   "cell_type": "code",
   "execution_count": null,
   "metadata": {},
   "outputs": [],
   "source": []
  },
  {
   "cell_type": "code",
   "execution_count": 429,
   "metadata": {},
   "outputs": [],
   "source": [
    "all_tracks = c(chromhmm_track(cur_fibr, CHR, \"Fibroblast ChromHMM\"),\n",
    "               get_histone_tracks(CHR, filelist[1:3,], show_axis = T), \n",
    "               chromhmm_track(cur_hesc, CHR, \"ESC\\nChromHMM\"),\n",
    "               get_histone_tracks(CHR, filelist[4:6,], show_axis = T),\n",
    "              get_gene_track(CHR, gene_anno, show_axis=T))"
   ]
  },
  {
   "cell_type": "code",
   "execution_count": 430,
   "metadata": {},
   "outputs": [
    {
     "data": {
      "image/png": "[encoded data removed]",
      "text/plain": [
       "plot without title"
      ]
     },
     "metadata": {
      "image/png": {
       "height": 300,
       "width": 600
      },
      "text/plain": {
       "height": 300,
       "width": 600
      }
     },
     "output_type": "display_data"
    }
   ],
   "source": [
    "options(repr.plot.width = 10, repr.plot.height = 5)\n",
    "\n",
    "plotTracks(all_tracks, \n",
    "          from=START,\n",
    "          to=END, \n",
    "          sizes = c(2,1,1,1,2,1,1,1,1), #rep(1,length(all_tracks)),\n",
    "           title.width=2,\n",
    "           window = -1, windowSize=500,\n",
    "          \"#FF0000\"=\"#FF0000\",\"#FF4500\"=\"#FF4500\",\"#32CD32\"=\"#32CD32\",\"#008000\"=\"#008000\",\"#006400\"=\"#006400\",\"#C2E105\"=\"#C2E105\",\"#FFFF00\"=\"#FFFF00\",\"#66CDAA\"=\"#66CDAA\",\"#8A91D0\"=\"#8A91D0\",\"#CD5C5C\"=\"#CD5C5C\",\"#E9967A\"=\"#E9967A\",\"#BDB76B\"=\"#BDB76B\",\"#808080\"=\"#808080\",\"#C0C0C0\"=\"#C0C0C0\",\"#FFFFFF\"=\"#FFFFFF\")"
   ]
  },
  {
   "cell_type": "code",
   "execution_count": null,
   "metadata": {},
   "outputs": [],
   "source": []
  },
  {
   "cell_type": "code",
   "execution_count": 243,
   "metadata": {},
   "outputs": [
    {
     "name": "stdout",
     "output_type": "stream",
     "text": [
      "\"#FF0000\"=\"#FF0000\",\"#FF4500\"=\"#FF4500\",\"#32CD32\"=\"#32CD32\",\"#008000\"=\"#008000\",\"#006400\"=\"#006400\",\"#C2E105\"=\"#C2E105\",\"#FFFF00\"=\"#FFFF00\",\"#66CDAA\"=\"#66CDAA\",\"#8A91D0\"=\"#8A91D0\",\"#CD5C5C\"=\"#CD5C5C\",\"#E9967A\"=\"#E9967A\",\"#BDB76B\"=\"#BDB76B\",\"#808080\"=\"#808080\",\"#C0C0C0\"=\"#C0C0C0\",\"#FFFFFF\"=\"#FFFFFF\""
     ]
    }
   ],
   "source": [
    "# copy paste into plotTracks\n",
    "cat(paste(paste(paste(\"\\\"\", chromhmm_metadata$COL.HEX, sep=''), \"\\\"\", sep=''),\n",
    "          paste(paste(\"\\\"\", chromhmm_metadata$COL.HEX, sep=''), \"\\\"\", sep=''),\n",
    "          sep='='), sep=',')"
   ]
  },
  {
   "cell_type": "code",
   "execution_count": null,
   "metadata": {},
   "outputs": [],
   "source": []
  },
  {
   "cell_type": "markdown",
   "metadata": {},
   "source": [
    "---"
   ]
  },
  {
   "cell_type": "code",
   "execution_count": 257,
   "metadata": {},
   "outputs": [
    {
     "data": {
      "text/plain": [
       "R version 3.6.3 (2020-02-29)\n",
       "Platform: x86_64-conda_cos6-linux-gnu (64-bit)\n",
       "Running under: Ubuntu 18.04.5 LTS\n",
       "\n",
       "Matrix products: default\n",
       "BLAS/LAPACK: /users/surag/anaconda3/envs/r36_cran/lib/libopenblasp-r0.3.9.so\n",
       "\n",
       "locale:\n",
       " [1] LC_CTYPE=en_US.UTF-8       LC_NUMERIC=C              \n",
       " [3] LC_TIME=en_US.UTF-8        LC_COLLATE=en_US.UTF-8    \n",
       " [5] LC_MONETARY=en_US.UTF-8    LC_MESSAGES=en_US.UTF-8   \n",
       " [7] LC_PAPER=en_US.UTF-8       LC_NAME=C                 \n",
       " [9] LC_ADDRESS=C               LC_TELEPHONE=C            \n",
       "[11] LC_MEASUREMENT=en_US.UTF-8 LC_IDENTIFICATION=C       \n",
       "\n",
       "attached base packages:\n",
       " [1] grid      parallel  stats4    stats     graphics  grDevices utils    \n",
       " [8] datasets  methods   base     \n",
       "\n",
       "other attached packages:\n",
       "[1] rtracklayer_1.46.0   Gviz_1.30.3          GenomicRanges_1.38.0\n",
       "[4] GenomeInfoDb_1.22.1  IRanges_2.20.2       S4Vectors_0.24.4    \n",
       "[7] BiocGenerics_0.32.0 \n",
       "\n",
       "loaded via a namespace (and not attached):\n",
       "  [1] ProtGenerics_1.18.0         bitops_1.0-6               \n",
       "  [3] matrixStats_0.56.0          bit64_0.9-7                \n",
       "  [5] RColorBrewer_1.1-2          progress_1.2.2             \n",
       "  [7] httr_1.4.1                  repr_1.1.0                 \n",
       "  [9] tools_3.6.3                 backports_1.1.10           \n",
       " [11] R6_2.4.1                    rpart_4.1-15               \n",
       " [13] lazyeval_0.2.2              Hmisc_4.4-0                \n",
       " [15] DBI_1.1.0                   colorspace_1.4-1           \n",
       " [17] nnet_7.3-13                 tidyselect_1.1.0           \n",
       " [19] gridExtra_2.3               prettyunits_1.1.1          \n",
       " [21] bit_1.1-15.2                curl_4.3                   \n",
       " [23] compiler_3.6.3              Biobase_2.46.0             \n",
       " [25] htmlTable_1.13.3            Cairo_1.5-12.2             \n",
       " [27] DelayedArray_0.12.3         scales_1.1.0               \n",
       " [29] checkmate_2.0.0             askpass_1.1                \n",
       " [31] rappdirs_0.3.1              pbdZMQ_0.3-3               \n",
       " [33] stringr_1.4.0               digest_0.6.25              \n",
       " [35] Rsamtools_2.2.3             foreign_0.8-76             \n",
       " [37] XVector_0.26.0              dichromat_2.0-0            \n",
       " [39] base64enc_0.1-3             jpeg_0.1-8.1               \n",
       " [41] pkgconfig_2.0.3             htmltools_0.4.0            \n",
       " [43] ensembldb_2.10.2            BSgenome_1.54.0            \n",
       " [45] dbplyr_1.4.2                htmlwidgets_1.5.1          \n",
       " [47] rlang_0.4.7                 rstudioapi_0.11            \n",
       " [49] RSQLite_2.2.0               generics_0.0.2             \n",
       " [51] jsonlite_1.6.1              BiocParallel_1.20.1        \n",
       " [53] acepack_1.4.1               dplyr_1.0.2                \n",
       " [55] VariantAnnotation_1.32.0    RCurl_1.98-1.1             \n",
       " [57] magrittr_1.5                GenomeInfoDbData_1.2.2     \n",
       " [59] Formula_1.2-3               Matrix_1.2-18              \n",
       " [61] Rcpp_1.0.5                  IRkernel_1.1               \n",
       " [63] munsell_0.5.0               lifecycle_0.2.0            \n",
       " [65] stringi_1.4.6               SummarizedExperiment_1.16.1\n",
       " [67] zlibbioc_1.32.0             BiocFileCache_1.10.2       \n",
       " [69] blob_1.2.1                  crayon_1.3.4               \n",
       " [71] lattice_0.20-41             IRdisplay_0.7.0            \n",
       " [73] Biostrings_2.54.0           splines_3.6.3              \n",
       " [75] GenomicFeatures_1.38.2      hms_0.5.3                  \n",
       " [77] knitr_1.28                  pillar_1.4.6               \n",
       " [79] uuid_0.1-4                  biomaRt_2.42.1             \n",
       " [81] XML_3.99-0.3                glue_1.4.2                 \n",
       " [83] evaluate_0.14               biovizBase_1.34.1          \n",
       " [85] latticeExtra_0.6-29         data.table_1.12.8          \n",
       " [87] png_0.1-7                   vctrs_0.3.4                \n",
       " [89] gtable_0.3.0                openssl_1.4.1              \n",
       " [91] purrr_0.3.4                 assertthat_0.2.1           \n",
       " [93] ggplot2_3.3.3               xfun_0.13                  \n",
       " [95] AnnotationFilter_1.10.0     survival_3.1-12            \n",
       " [97] tibble_3.0.3                GenomicAlignments_1.22.1   \n",
       " [99] AnnotationDbi_1.48.0        memoise_1.1.0              \n",
       "[101] cluster_2.1.0               ellipsis_0.3.1             "
      ]
     },
     "metadata": {},
     "output_type": "display_data"
    }
   ],
   "source": [
    "sessionInfo()"
   ]
  },
  {
   "cell_type": "code",
   "execution_count": null,
   "metadata": {},
   "outputs": [],
   "source": []
  }
 ],
 "metadata": {
  "kernelspec": {
   "display_name": "R",
   "language": "R",
   "name": "ir"
  },
  "language_info": {
   "codemirror_mode": "r",
   "file_extension": ".r",
   "mimetype": "text/x-r-source",
   "name": "R",
   "pygments_lexer": "r",
   "version": "3.6.3"
  }
 },
 "nbformat": 4,
 "nbformat_minor": 4
}
