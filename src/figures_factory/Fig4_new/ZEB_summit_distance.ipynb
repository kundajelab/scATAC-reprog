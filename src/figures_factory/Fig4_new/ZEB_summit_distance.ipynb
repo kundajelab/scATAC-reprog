{
 "cells": [
  {
   "cell_type": "markdown",
   "metadata": {},
   "source": [
    "# ZEB Distance to Summit\n",
    "\n",
    "Plot histogram of ZEB's distance to peak summit.\n",
    "\n",
    "Based on `20210321_ZEB_vPlot/VPlot.ipynb`\n",
    "\n",
    "**Inputs**:\n",
    "1. A bed intersection file which has peak summit and motif instance (see original notebook repo)"
   ]
  },
  {
   "cell_type": "code",
   "execution_count": 11,
   "metadata": {},
   "outputs": [
    {
     "name": "stderr",
     "output_type": "stream",
     "text": [
      "\n",
      "Attaching package: ‘dplyr’\n",
      "\n",
      "\n",
      "The following objects are masked from ‘package:stats’:\n",
      "\n",
      "    filter, lag\n",
      "\n",
      "\n",
      "The following objects are masked from ‘package:base’:\n",
      "\n",
      "    intersect, setdiff, setequal, union\n",
      "\n",
      "\n"
     ]
    }
   ],
   "source": [
    "library(ggplot2)\n",
    "library(dplyr)"
   ]
  },
  {
   "cell_type": "markdown",
   "metadata": {},
   "source": [
    "## Load Inputs"
   ]
  },
  {
   "cell_type": "code",
   "execution_count": 57,
   "metadata": {},
   "outputs": [
    {
     "data": {
      "text/html": [
       "<table>\n",
       "<caption>A data.frame: 6 × 7</caption>\n",
       "<thead>\n",
       "\t<tr><th></th><th scope=col>chr</th><th scope=col>start</th><th scope=col>end</th><th scope=col>chr</th><th scope=col>motif_start</th><th scope=col>motif_end</th><th scope=col>dist_to_summit</th></tr>\n",
       "\t<tr><th></th><th scope=col>&lt;fct&gt;</th><th scope=col>&lt;int&gt;</th><th scope=col>&lt;int&gt;</th><th scope=col>&lt;fct&gt;</th><th scope=col>&lt;int&gt;</th><th scope=col>&lt;int&gt;</th><th scope=col>&lt;int&gt;</th></tr>\n",
       "</thead>\n",
       "<tbody>\n",
       "\t<tr><th scope=row>1</th><td>chr1</td><td>100132551</td><td>100133551</td><td>chr1</td><td>100132772</td><td>100132778</td><td>276</td></tr>\n",
       "\t<tr><th scope=row>2</th><td>chr1</td><td>100132212</td><td>100133212</td><td>chr1</td><td>100132772</td><td>100132778</td><td> 63</td></tr>\n",
       "\t<tr><th scope=row>3</th><td>chr1</td><td>100188365</td><td>100189365</td><td>chr1</td><td>100188653</td><td>100188659</td><td>209</td></tr>\n",
       "\t<tr><th scope=row>4</th><td>chr1</td><td> 10032309</td><td> 10033309</td><td>chr1</td><td> 10032720</td><td> 10032726</td><td> 86</td></tr>\n",
       "\t<tr><th scope=row>5</th><td>chr1</td><td>100530575</td><td>100531575</td><td>chr1</td><td>100531214</td><td>100531220</td><td>142</td></tr>\n",
       "\t<tr><th scope=row>6</th><td>chr1</td><td>100539006</td><td>100540006</td><td>chr1</td><td>100539659</td><td>100539665</td><td>156</td></tr>\n",
       "</tbody>\n",
       "</table>\n"
      ],
      "text/latex": [
       "A data.frame: 6 × 7\n",
       "\\begin{tabular}{r|lllllll}\n",
       "  & chr & start & end & chr & motif\\_start & motif\\_end & dist\\_to\\_summit\\\\\n",
       "  & <fct> & <int> & <int> & <fct> & <int> & <int> & <int>\\\\\n",
       "\\hline\n",
       "\t1 & chr1 & 100132551 & 100133551 & chr1 & 100132772 & 100132778 & 276\\\\\n",
       "\t2 & chr1 & 100132212 & 100133212 & chr1 & 100132772 & 100132778 &  63\\\\\n",
       "\t3 & chr1 & 100188365 & 100189365 & chr1 & 100188653 & 100188659 & 209\\\\\n",
       "\t4 & chr1 &  10032309 &  10033309 & chr1 &  10032720 &  10032726 &  86\\\\\n",
       "\t5 & chr1 & 100530575 & 100531575 & chr1 & 100531214 & 100531220 & 142\\\\\n",
       "\t6 & chr1 & 100539006 & 100540006 & chr1 & 100539659 & 100539665 & 156\\\\\n",
       "\\end{tabular}\n"
      ],
      "text/markdown": [
       "\n",
       "A data.frame: 6 × 7\n",
       "\n",
       "| <!--/--> | chr &lt;fct&gt; | start &lt;int&gt; | end &lt;int&gt; | chr &lt;fct&gt; | motif_start &lt;int&gt; | motif_end &lt;int&gt; | dist_to_summit &lt;int&gt; |\n",
       "|---|---|---|---|---|---|---|---|\n",
       "| 1 | chr1 | 100132551 | 100133551 | chr1 | 100132772 | 100132778 | 276 |\n",
       "| 2 | chr1 | 100132212 | 100133212 | chr1 | 100132772 | 100132778 |  63 |\n",
       "| 3 | chr1 | 100188365 | 100189365 | chr1 | 100188653 | 100188659 | 209 |\n",
       "| 4 | chr1 |  10032309 |  10033309 | chr1 |  10032720 |  10032726 |  86 |\n",
       "| 5 | chr1 | 100530575 | 100531575 | chr1 | 100531214 | 100531220 | 142 |\n",
       "| 6 | chr1 | 100539006 | 100540006 | chr1 | 100539659 | 100539665 | 156 |\n",
       "\n"
      ],
      "text/plain": [
       "  chr  start     end       chr  motif_start motif_end dist_to_summit\n",
       "1 chr1 100132551 100133551 chr1 100132772   100132778 276           \n",
       "2 chr1 100132212 100133212 chr1 100132772   100132778  63           \n",
       "3 chr1 100188365 100189365 chr1 100188653   100188659 209           \n",
       "4 chr1  10032309  10033309 chr1  10032720    10032726  86           \n",
       "5 chr1 100530575 100531575 chr1 100531214   100531220 142           \n",
       "6 chr1 100539006 100540006 chr1 100539659   100539665 156           "
      ]
     },
     "metadata": {},
     "output_type": "display_data"
    }
   ],
   "source": [
    "# TODO: prepare this BED file in a more reproducible manner \n",
    "ZEB_motifs = read.table(\"../../analysis//20210321_ZEB_vPlot/fibr.summit.int.SNAI.bed\")[,1:6] # first 3 columns are peaks, next 3 are hits\n",
    "colnames(ZEB_motifs) = c(\"chr\", \"start\", \"end\", \"chr\", \"motif_start\", \"motif_end\")\n",
    "ZEB_motifs$dist_to_summit = abs(as.integer((ZEB_motifs$start + ZEB_motifs$end)/2 - (ZEB_motifs$motif_start+ZEB_motifs$motif_end)/2))\n",
    "\n",
    "# ZEB_motifs$dist_to_summit[ZEB_motifs$dist_to_summit < -100] = -100\n",
    "# ZEB_motifs$dist_to_summit[ZEB_motifs$dist_to_summit > 100] = 100\n",
    "head(ZEB_motifs)"
   ]
  },
  {
   "cell_type": "code",
   "execution_count": 58,
   "metadata": {},
   "outputs": [
    {
     "data": {
      "text/html": [
       "<style>\n",
       ".list-inline {list-style: none; margin:0; padding: 0}\n",
       ".list-inline>li {display: inline-block}\n",
       ".list-inline>li:not(:last-child)::after {content: \"\\00b7\"; padding: 0 .5ex}\n",
       "</style>\n",
       "<ol class=list-inline><li>25016</li><li>7</li></ol>\n"
      ],
      "text/latex": [
       "\\begin{enumerate*}\n",
       "\\item 25016\n",
       "\\item 7\n",
       "\\end{enumerate*}\n"
      ],
      "text/markdown": [
       "1. 25016\n",
       "2. 7\n",
       "\n",
       "\n"
      ],
      "text/plain": [
       "[1] 25016     7"
      ]
     },
     "metadata": {},
     "output_type": "display_data"
    }
   ],
   "source": [
    "dim(ZEB_motifs)"
   ]
  },
  {
   "cell_type": "code",
   "execution_count": 59,
   "metadata": {},
   "outputs": [],
   "source": [
    "# for motifs close to multiple summits, choose closest\n",
    "ZEB_motifs$summit = paste(paste(ZEB_motifs$chr, ZEB_motifs$start, sep=':'), \n",
    "                          ZEB_motifs$end, sep='-')"
   ]
  },
  {
   "cell_type": "code",
   "execution_count": 60,
   "metadata": {},
   "outputs": [
    {
     "data": {
      "text/html": [
       "23091"
      ],
      "text/latex": [
       "23091"
      ],
      "text/markdown": [
       "23091"
      ],
      "text/plain": [
       "[1] 23091"
      ]
     },
     "metadata": {},
     "output_type": "display_data"
    }
   ],
   "source": [
    "length(unique(ZEB_motifs$summit))"
   ]
  },
  {
   "cell_type": "code",
   "execution_count": 63,
   "metadata": {},
   "outputs": [
    {
     "name": "stderr",
     "output_type": "stream",
     "text": [
      "`summarise()` ungrouping output (override with `.groups` argument)\n",
      "\n"
     ]
    }
   ],
   "source": [
    "dists = (ZEB_motifs[,c(\"summit\", \"dist_to_summit\")] %>% dplyr::group_by(summit) %>% dplyr::summarise(least=min(dist_to_summit)))$least\n",
    "\n",
    "# subset \n",
    "dists = dists[dists<=100]"
   ]
  },
  {
   "cell_type": "code",
   "execution_count": 74,
   "metadata": {},
   "outputs": [
    {
     "data": {
      "text/html": [
       "1042"
      ],
      "text/latex": [
       "1042"
      ],
      "text/markdown": [
       "1042"
      ],
      "text/plain": [
       "[1] 1042"
      ]
     },
     "metadata": {},
     "output_type": "display_data"
    }
   ],
   "source": [
    "sum(dists>90)"
   ]
  },
  {
   "cell_type": "code",
   "execution_count": 75,
   "metadata": {},
   "outputs": [
    {
     "data": {
      "text/html": [
       "2051"
      ],
      "text/latex": [
       "2051"
      ],
      "text/markdown": [
       "2051"
      ],
      "text/plain": [
       "[1] 2051"
      ]
     },
     "metadata": {},
     "output_type": "display_data"
    }
   ],
   "source": [
    "sum(dists>80)"
   ]
  },
  {
   "cell_type": "code",
   "execution_count": 98,
   "metadata": {},
   "outputs": [
    {
     "data": {
      "image/png": "[encoded data removed]",
      "text/plain": [
       "plot without title"
      ]
     },
     "metadata": {
      "image/png": {
       "height": 360,
       "width": 420
      },
      "text/plain": {
       "height": 360,
       "width": 420
      }
     },
     "output_type": "display_data"
    }
   ],
   "source": [
    "options(repr.plot.width = 7, repr.plot.height = 6)\n",
    "\n",
    "\n",
    "ggplot(data.frame(x=dists),\n",
    "      aes(x=x)) +\n",
    "geom_histogram(col=\"white\", fill=\"dodgerblue1\", binwidth=10, boundary=0,\n",
    "              size=1.5) +\n",
    "xlab(\"Distance from Peak Summit\") +\n",
    "ylab(\"Count\") + \n",
    "ggtitle(\" \") +\n",
    "theme_bw(base_size=26) +\n",
    "scale_x_continuous(breaks = seq(0,100,20), labels = seq(0,100, 20))+\n",
    "theme(plot.title = element_text(hjust = 0.5),\n",
    "      panel.grid.major = element_blank(),\n",
    "      panel.grid.minor = element_blank())"
   ]
  },
  {
   "cell_type": "code",
   "execution_count": null,
   "metadata": {},
   "outputs": [],
   "source": []
  }
 ],
 "metadata": {
  "kernelspec": {
   "display_name": "R",
   "language": "R",
   "name": "ir"
  },
  "language_info": {
   "codemirror_mode": "r",
   "file_extension": ".r",
   "mimetype": "text/x-r-source",
   "name": "R",
   "pygments_lexer": "r",
   "version": "3.6.3"
  }
 },
 "nbformat": 4,
 "nbformat_minor": 4
}
