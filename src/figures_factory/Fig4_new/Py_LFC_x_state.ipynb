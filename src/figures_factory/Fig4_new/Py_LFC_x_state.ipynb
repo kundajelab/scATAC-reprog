{
 "cells": [
  {
   "cell_type": "markdown",
   "metadata": {},
   "source": [
    "# Motif LFC x State\n",
    "\n",
    "Effect of each motif on adding to some specific background (random sequences for positive motifs, existing peaks for negative).\n",
    "\n",
    "**Inputs**:\n",
    "1. List of motifs with their corresponding PWMs-- deduping will be performed here.\n",
    "2. Cell state specific models"
   ]
  },
  {
   "cell_type": "code",
   "execution_count": 1,
   "metadata": {},
   "outputs": [],
   "source": [
    "import numpy as np\n",
    "import editdistance\n",
    "from collections import Counter, defaultdict\n",
    "from pathlib import Path\n",
    "import matplotlib.pyplot as plt\n",
    "import pandas as pd\n",
    "import seaborn as sns\n",
    "import pyfaidx\n",
    "import tqdm\n",
    "import math"
   ]
  },
  {
   "cell_type": "code",
   "execution_count": 2,
   "metadata": {},
   "outputs": [
    {
     "name": "stderr",
     "output_type": "stream",
     "text": [
      "Using TensorFlow backend.\n",
      "/users/surag/anaconda3/envs/mtbatchgen/lib/python3.7/site-packages/tensorflow/python/framework/dtypes.py:516: FutureWarning: Passing (type, 1) or '1type' as a synonym of type is deprecated; in a future version of numpy, it will be understood as (type, (1,)) / '(1,)type'.\n",
      "  _np_qint8 = np.dtype([(\"qint8\", np.int8, 1)])\n",
      "/users/surag/anaconda3/envs/mtbatchgen/lib/python3.7/site-packages/tensorflow/python/framework/dtypes.py:517: FutureWarning: Passing (type, 1) or '1type' as a synonym of type is deprecated; in a future version of numpy, it will be understood as (type, (1,)) / '(1,)type'.\n",
      "  _np_quint8 = np.dtype([(\"quint8\", np.uint8, 1)])\n",
      "/users/surag/anaconda3/envs/mtbatchgen/lib/python3.7/site-packages/tensorflow/python/framework/dtypes.py:518: FutureWarning: Passing (type, 1) or '1type' as a synonym of type is deprecated; in a future version of numpy, it will be understood as (type, (1,)) / '(1,)type'.\n",
      "  _np_qint16 = np.dtype([(\"qint16\", np.int16, 1)])\n",
      "/users/surag/anaconda3/envs/mtbatchgen/lib/python3.7/site-packages/tensorflow/python/framework/dtypes.py:519: FutureWarning: Passing (type, 1) or '1type' as a synonym of type is deprecated; in a future version of numpy, it will be understood as (type, (1,)) / '(1,)type'.\n",
      "  _np_quint16 = np.dtype([(\"quint16\", np.uint16, 1)])\n",
      "/users/surag/anaconda3/envs/mtbatchgen/lib/python3.7/site-packages/tensorflow/python/framework/dtypes.py:520: FutureWarning: Passing (type, 1) or '1type' as a synonym of type is deprecated; in a future version of numpy, it will be understood as (type, (1,)) / '(1,)type'.\n",
      "  _np_qint32 = np.dtype([(\"qint32\", np.int32, 1)])\n",
      "/users/surag/anaconda3/envs/mtbatchgen/lib/python3.7/site-packages/tensorflow/python/framework/dtypes.py:525: FutureWarning: Passing (type, 1) or '1type' as a synonym of type is deprecated; in a future version of numpy, it will be understood as (type, (1,)) / '(1,)type'.\n",
      "  np_resource = np.dtype([(\"resource\", np.ubyte, 1)])\n"
     ]
    }
   ],
   "source": [
    "import sys\n",
    "\n",
    "import keras\n",
    "from keras.utils import CustomObjectScope\n",
    "\n",
    "# mtbatchgen\n",
    "sys.path.append(\"/users/surag/kundajelab/mtbatchgen/example/\")\n",
    "from losses import MultichannelMultinomialNLL, multinomial_nll"
   ]
  },
  {
   "cell_type": "code",
   "execution_count": 3,
   "metadata": {},
   "outputs": [],
   "source": [
    "sys.path.append(\"/users/surag/kundajelab/surag-scripts/misc/\")\n",
    "import one_hot"
   ]
  },
  {
   "cell_type": "markdown",
   "metadata": {},
   "source": [
    "## Load Input Data"
   ]
  },
  {
   "cell_type": "code",
   "execution_count": 4,
   "metadata": {},
   "outputs": [],
   "source": [
    "hg38 = pyfaidx.Fasta('/users/surag/genomes/hg38/GRCh38_no_alt_analysis_set_GCA_000001405.15.fasta')"
   ]
  },
  {
   "cell_type": "markdown",
   "metadata": {},
   "source": [
    "### TF List"
   ]
  },
  {
   "cell_type": "code",
   "execution_count": 5,
   "metadata": {},
   "outputs": [],
   "source": [
    "with open(\"../../analysis/20200723_motif_annotation/pwm_hits/20201020_n62402/overlap.no_iPSC.no_clump.merged.500/tfs.txt\") as f:\n",
    "    tf_list = [x.strip() for x in f]"
   ]
  },
  {
   "cell_type": "code",
   "execution_count": 6,
   "metadata": {},
   "outputs": [
    {
     "data": {
      "text/plain": [
       "['AP2A_HUMAN.H11MO.0.A',\n",
       " 'AP2A_MOUSE.H11MO.0.A',\n",
       " 'AP2C_HUMAN.H11MO.0.A',\n",
       " 'Ascl2.mouse_bHLH_1',\n",
       " 'ATF1_MOUSE.H11MO.0.B',\n",
       " 'BATF+JUN_MA0462.1',\n",
       " 'CEBPA_MA0102.3',\n",
       " 'CEBPB_MOUSE.H11MO.0.A',\n",
       " 'CREB1_MA0018.3',\n",
       " 'CREB3_bZIP_1']"
      ]
     },
     "execution_count": 6,
     "metadata": {},
     "output_type": "execute_result"
    }
   ],
   "source": [
    "tf_list[:10]"
   ]
  },
  {
   "cell_type": "code",
   "execution_count": 7,
   "metadata": {},
   "outputs": [
    {
     "data": {
      "text/plain": [
       "123"
      ]
     },
     "execution_count": 7,
     "metadata": {},
     "output_type": "execute_result"
    }
   ],
   "source": [
    "len(tf_list)"
   ]
  },
  {
   "cell_type": "markdown",
   "metadata": {},
   "source": [
    "### Load TF PWMs"
   ]
  },
  {
   "cell_type": "code",
   "execution_count": 8,
   "metadata": {},
   "outputs": [],
   "source": [
    "mots = {}\n",
    "for x in tf_list:\n",
    "    mots[x] = np.loadtxt(\"/srv/www/kundaje/surag/resources/motif_archetypes/pfm/{}.pfm\".format(x))"
   ]
  },
  {
   "cell_type": "code",
   "execution_count": 9,
   "metadata": {},
   "outputs": [
    {
     "data": {
      "text/plain": [
       "123"
      ]
     },
     "execution_count": 9,
     "metadata": {},
     "output_type": "execute_result"
    }
   ],
   "source": [
    "len(mots)"
   ]
  },
  {
   "cell_type": "code",
   "execution_count": null,
   "metadata": {},
   "outputs": [],
   "source": []
  },
  {
   "cell_type": "code",
   "execution_count": 10,
   "metadata": {},
   "outputs": [],
   "source": [
    "consensus_seqs = {}\n",
    "for x in mots:\n",
    "    consensus_seqs[x] = ''.join([[\"A\",\"C\",\"G\",\"T\"][i] for i in np.argmax(mots[x], 0)])"
   ]
  },
  {
   "cell_type": "code",
   "execution_count": 11,
   "metadata": {},
   "outputs": [
    {
     "data": {
      "text/plain": [
       "'ATGCCCTGAGGCCAT'"
      ]
     },
     "execution_count": 11,
     "metadata": {},
     "output_type": "execute_result"
    }
   ],
   "source": [
    "consensus_seqs['AP2A_HUMAN.H11MO.0.A']"
   ]
  },
  {
   "cell_type": "code",
   "execution_count": 12,
   "metadata": {},
   "outputs": [
    {
     "data": {
      "text/plain": [
       "'ATGCCCTGAGGCCA'"
      ]
     },
     "execution_count": 12,
     "metadata": {},
     "output_type": "execute_result"
    }
   ],
   "source": [
    "consensus_seqs['AP2C_HUMAN.H11MO.0.A']"
   ]
  },
  {
   "cell_type": "code",
   "execution_count": null,
   "metadata": {},
   "outputs": [],
   "source": []
  },
  {
   "cell_type": "code",
   "execution_count": 13,
   "metadata": {},
   "outputs": [],
   "source": [
    "def revcomp(x):\n",
    "    RC  = {'A':'T', 'C':'G', 'G':'C', 'T':'A'}\n",
    "    return ''.join([RC[y] for y in x])[::-1]"
   ]
  },
  {
   "cell_type": "code",
   "execution_count": 85,
   "metadata": {},
   "outputs": [],
   "source": [
    "non_redundant_seqs = {}\n",
    "\n",
    "MAX_EDIT_DIST = 1\n",
    "MAX_LEN_DIFF = 3 # don't compare strings if they differ by >= this number\n",
    "\n",
    "for x in consensus_seqs:\n",
    "    # also do a rolling edit distance calculation\n",
    "\n",
    "    match = None\n",
    "    contained = False\n",
    "    for y in non_redundant_seqs:\n",
    "        if abs(len(non_redundant_seqs[y])-len(consensus_seqs[x])) <= MAX_LEN_DIFF:\n",
    "            y_is_shorter = len(non_redundant_seqs[y]) < len(consensus_seqs[x])\n",
    "\n",
    "            shorter_seq = non_redundant_seqs[y] if y_is_shorter else consensus_seqs[x]\n",
    "            longer_seq = non_redundant_seqs[y] if not y_is_shorter else consensus_seqs[x]\n",
    "\n",
    "            fwd_edit_dists = [editdistance.eval(shorter_seq, longer_seq[i:i+len(shorter_seq)]) \\\n",
    "                              for i in range(len(longer_seq)-len(shorter_seq)+1)]\n",
    "            rev_edit_dists = [editdistance.eval(revcomp(shorter_seq), longer_seq[i:i+len(shorter_seq)]) \\\n",
    "                              for i in range(len(longer_seq)-len(shorter_seq)+1)]\n",
    "\n",
    "            if min(min(fwd_edit_dists), min(rev_edit_dists)) <= MAX_EDIT_DIST:\n",
    "                if y_is_shorter:\n",
    "                    contained = y\n",
    "                else:\n",
    "                    # replace y with x\n",
    "                    match = y\n",
    "    \n",
    "    # check these subs to make sure they're OK\n",
    "#     if contained or match:\n",
    "#         print(\"{}\\t{}\\t{}\\n\".format(x, contained, match))\n",
    "        \n",
    "    if not contained:\n",
    "        if match:\n",
    "            del non_redundant_seqs[match]\n",
    "        non_redundant_seqs[x] = consensus_seqs[x]"
   ]
  },
  {
   "cell_type": "code",
   "execution_count": 86,
   "metadata": {},
   "outputs": [
    {
     "data": {
      "text/plain": [
       "67"
      ]
     },
     "execution_count": 86,
     "metadata": {},
     "output_type": "execute_result"
    }
   ],
   "source": [
    "len(non_redundant_seqs)"
   ]
  },
  {
   "cell_type": "code",
   "execution_count": 87,
   "metadata": {},
   "outputs": [
    {
     "data": {
      "text/plain": [
       "{'AP2A_MOUSE.H11MO.0.A': 'ATGGCCTGAGGC',\n",
       " 'Ascl2.mouse_bHLH_1': 'AGCAGCTGCT',\n",
       " 'ATF1_MOUSE.H11MO.0.B': 'CTGACGTCAC',\n",
       " 'BATF+JUN_MA0462.1': 'GAAATGACTCA',\n",
       " 'CEBPA_MA0102.3': 'ATTGCACAATA',\n",
       " 'CEBPB_MOUSE.H11MO.0.A': 'GGTTGTGCAAT',\n",
       " 'CTCFL_HUMAN.H11MO.0.A': 'GCCGCCAGGGGGCGCCG',\n",
       " 'CTCF_MA0139.1': 'TGGCCACCAGGGGGCGCTA',\n",
       " 'ELK4_MA0076.2': 'CCACTTCCGGC',\n",
       " 'ETS1_HUMAN.H11MO.0.A': 'AGACAGGAAGTGG',\n",
       " 'ETV1_HUMAN.H11MO.0.A': 'GGCCGGAAGTG',\n",
       " 'FOSL2+JUNB_MA1138.1': 'GATGACTCAT',\n",
       " 'Foxc1.mouse_forkhead_2': 'ATAAACA',\n",
       " 'FOXC2_MA0846.1': 'TAAGTAAACAAA',\n",
       " 'FOXL2_MOUSE.H11MO.0.C': 'TGTTTACATTT',\n",
       " 'Gabpa_MA0062.2': 'CCGGAAGTGGC',\n",
       " 'IRF1_MA0050.2': 'TTTTACTTTCACTTTCACTTT',\n",
       " 'IRF1_MOUSE.H11MO.0.A': 'GAAAGTGAAAGTGAAAGTAA',\n",
       " 'JDP2_MA0656.1': 'GATGACGTCATC',\n",
       " 'JUN_MOUSE.H11MO.0.A': 'GGTGAGTCAC',\n",
       " 'KAISO_MOUSE.H11MO.0.B': 'CAAATCTCGCGAGAA',\n",
       " 'KLF3_HUMAN.H11MO.0.B': 'GGGGAGGGGCGGGGCCGGG',\n",
       " 'KLF4_HUMAN.H11MO.0.A': 'AGGGTGTGGC',\n",
       " 'KLF5_MA0599.1': 'GCCCCGCCCC',\n",
       " 'MAZ_HUMAN.H11MO.0.A': 'GGGGGAGGGGGGGGGGGGGGGG',\n",
       " 'MSC_MA0665.1': 'AACAGCTGTT',\n",
       " 'NFIA_HUMAN.H11MO.0.C': 'TTGGCACGGTGCCAA',\n",
       " 'NFIB_MOUSE.H11MO.0.C': 'CCTGGCAGC',\n",
       " 'NFIC_HUMAN.H11MO.0.A': 'CTTGGCTCCCTGCCAAG',\n",
       " 'NFYB_MOUSE.H11MO.0.A': 'CAGCCAATCAGAG',\n",
       " 'NRF1_MA0506.1': 'GCGCCTGCGCA',\n",
       " 'NRF1_MOUSE.H11MO.0.A': 'CACTGCGCATGCGCAGG',\n",
       " 'Pou5f1+Sox2_MA0142.1': 'CTTTGTTATGCAAAT',\n",
       " 'PRDM6_HUMAN.H11MO.0.C': 'AAAAAGAAAAAAA',\n",
       " 'REST_MA0138.2': 'TTCAGCACCATGGACAGCGCC',\n",
       " 'Rfx1_MA0509.1': 'GTTGCCATGGCAAC',\n",
       " 'RFX1_MOUSE.H11MO.0.A': 'GCCCCGGTTGCCATGGCGACGG',\n",
       " 'RFX2_HUMAN.H11MO.0.A': 'CGGTTGCCATGGCAACGG',\n",
       " 'RFX2_MOUSE.H11MO.0.A': 'GGCGGTTGCCATGGCAACGGGA',\n",
       " 'RUNX1_HUMAN.H11MO.0.A': 'TCTGTGGTTTC',\n",
       " 'RUNX3_HUMAN.H11MO.0.A': 'TTTGTGGTTT',\n",
       " 'SIX2_HUMAN.H11MO.0.A': 'TGAAACCTGAGAC',\n",
       " 'SOX2_MOUSE.H11MO.0.A': 'TCCTTTGTTATGCAAA',\n",
       " 'Sox3_MA0514.1': 'CCTTTGTTTT',\n",
       " 'SP1_HUMAN.H11MO.0.A': 'GGGGGGCGGGGCCGGGGGGGGG',\n",
       " 'SP1_MOUSE.H11MO.0.A': 'GGGGGGGGAGGGGGCGGGGCCGGG',\n",
       " 'SP2_MA0516.1': 'GCCCCGCCCCCTCCC',\n",
       " 'SP5_MOUSE.H11MO.0.C': 'GGGGGGGAGGGGGAGGGGGAGGAG',\n",
       " 'TAF1_HUMAN.H11MO.0.A': 'AAGATGGCGGCGGCGG',\n",
       " 'TEAD1_HUMAN.H11MO.0.A': 'ACATTCCAGCCA',\n",
       " 'TEAD3_TEA_1': 'ACATTCCTCGCATTCCA',\n",
       " 'TEAD3_TEA_2': 'ACATTCCA',\n",
       " 'TEAD4_HUMAN.H11MO.0.A': 'ACATTCCTGGCAT',\n",
       " 'THA11_MOUSE.H11MO.0.B': 'GGCATGCTGGGAGTTGTAGTTC',\n",
       " 'TWIST1_MA1123.1': 'ATTCCAGATGTTT',\n",
       " 'TWST1_MOUSE.H11MO.0.B': 'ACATCTGGTTTTAATTA',\n",
       " 'USF2_MOUSE.H11MO.0.A': 'GGGTCACGTGGCCGCGGCG',\n",
       " 'VEZF1_HUMAN.H11MO.0.C': 'GGGGAGGGGGGAGGGGGAGGGG',\n",
       " 'YY1_MA0095.2': 'CAAGATGGCGGC',\n",
       " 'ZBTB33_MA0527.1': 'CTCTCGCGAGATCTG',\n",
       " 'ZFX_MOUSE.H11MO.0.B': 'GCCGAGGCCTGGGGCCCCC',\n",
       " 'ZN143_HUMAN.H11MO.0.A': 'GGCATTCTGGGAATTGTAGTTC',\n",
       " 'ZN143_MOUSE.H11MO.0.A': 'GGCATGCTGGGAATTGTAGTCC',\n",
       " 'ZNF238_C2H2_1': 'AATCCAGATGTTG',\n",
       " 'ZNF238_C2H2_2': 'CATCCAGATGTTC',\n",
       " 'ZNF76_HUMAN.H11MO.0.C': 'GGGGCATTCTGGGAATTGTAGT',\n",
       " 'MYC_HUMAN.H11MO.0.A': 'GCCACGTGCTC'}"
      ]
     },
     "execution_count": 87,
     "metadata": {},
     "output_type": "execute_result"
    }
   ],
   "source": [
    "non_redundant_seqs"
   ]
  },
  {
   "cell_type": "markdown",
   "metadata": {},
   "source": [
    "### Models"
   ]
  },
  {
   "cell_type": "code",
   "execution_count": 88,
   "metadata": {},
   "outputs": [],
   "source": [
    "MODEL_BASE = \"/oak/stanford/groups/akundaje/surag/projects/scATAC-reprog/bpnet/models/20210414_gc_neg_filt256_in2346_out2000/\""
   ]
  },
  {
   "cell_type": "code",
   "execution_count": 89,
   "metadata": {},
   "outputs": [],
   "source": [
    "#  \"old\" cluster IDs\n",
    "CELL_STATES = [5,12,10, 13,4,8,2, 7,1,16]"
   ]
  },
  {
   "cell_type": "code",
   "execution_count": 100,
   "metadata": {},
   "outputs": [],
   "source": [
    "# load models\n",
    "models = dict()\n",
    "with CustomObjectScope({'MultichannelMultinomialNLL': MultichannelMultinomialNLL}):\n",
    "    for x in CELL_STATES:\n",
    "        model_path = list(Path(MODEL_BASE).glob(\"cluster_idx{}/2021*/*.h5\".format(x)))\n",
    "        assert(len(model_path)==1)\n",
    "        model_path = str(model_path[0])\n",
    "        models[x] = keras.models.load_model(model_path)"
   ]
  },
  {
   "cell_type": "code",
   "execution_count": 101,
   "metadata": {},
   "outputs": [
    {
     "name": "stdout",
     "output_type": "stream",
     "text": [
      "2346\n",
      "2000\n"
     ]
    }
   ],
   "source": [
    "MODEL_INP_LEN = models[CELL_STATES[0]].input_shape[0][1]\n",
    "MODEL_OUT_LEN = models[CELL_STATES[0]].output_shape[0][1]\n",
    "print(MODEL_INP_LEN)\n",
    "print(MODEL_OUT_LEN)"
   ]
  },
  {
   "cell_type": "markdown",
   "metadata": {},
   "source": [
    "### Peaks\n",
    "\n",
    "For anti-accessibility motifs"
   ]
  },
  {
   "cell_type": "code",
   "execution_count": 102,
   "metadata": {},
   "outputs": [],
   "source": [
    "PEAKS_PATH = \"/oak/stanford/groups/akundaje/surag/projects/scATAC-reprog/clusters/20201020_n62402/croo/cluster_idx{}/peak/overlap_reproducibility/overlap.optimal_peak.narrowPeak.gz\""
   ]
  },
  {
   "cell_type": "code",
   "execution_count": 103,
   "metadata": {},
   "outputs": [],
   "source": [
    "cell_state_peaks = defaultdict()\n",
    "\n",
    "for i in CELL_STATES:\n",
    "    cell_state_peaks[i] = pd.read_csv(PEAKS_PATH.format(i),\n",
    "                       sep='\\t',\n",
    "                       names=['chr', 'start', 'end' ,'x1', 'x2', 'x3', 'x4', 'x5', 'x6', 'summit'])"
   ]
  },
  {
   "cell_type": "code",
   "execution_count": null,
   "metadata": {},
   "outputs": [],
   "source": []
  },
  {
   "cell_type": "markdown",
   "metadata": {},
   "source": [
    "## Process"
   ]
  },
  {
   "cell_type": "code",
   "execution_count": 104,
   "metadata": {},
   "outputs": [],
   "source": [
    "CHRS = [\"chr\"+str(x) for x in list(range(1,23)) + [\"X\", \"Y\"]]\n",
    "CHR_LENS = [len(hg38[x]) for x in CHRS]"
   ]
  },
  {
   "cell_type": "code",
   "execution_count": 105,
   "metadata": {},
   "outputs": [],
   "source": [
    "# select bunch of random locs\n",
    "random_positions = []\n",
    "for x in range(128*2):\n",
    "    cur_chr = np.random.choice(CHRS, p=np.array(CHR_LENS)/sum(CHR_LENS))\n",
    "    cur_pos = np.random.choice(len(hg38[cur_chr])-MODEL_INP_LEN//2)\n",
    "    random_positions.append((cur_chr, cur_pos))"
   ]
  },
  {
   "cell_type": "code",
   "execution_count": 106,
   "metadata": {},
   "outputs": [],
   "source": [
    "BATCH_SIZE = 128"
   ]
  },
  {
   "cell_type": "code",
   "execution_count": 107,
   "metadata": {},
   "outputs": [
    {
     "name": "stderr",
     "output_type": "stream",
     "text": [
      "100%|██████████| 2/2 [00:03<00:00,  1.67s/it]\n",
      "100%|██████████| 2/2 [00:03<00:00,  1.69s/it]\n",
      "100%|██████████| 2/2 [00:03<00:00,  1.68s/it]\n",
      "100%|██████████| 2/2 [00:03<00:00,  1.68s/it]\n",
      "100%|██████████| 2/2 [00:03<00:00,  1.66s/it]\n",
      "100%|██████████| 2/2 [00:03<00:00,  1.66s/it]\n",
      "100%|██████████| 2/2 [00:03<00:00,  1.66s/it]\n",
      "100%|██████████| 2/2 [00:03<00:00,  1.66s/it]\n",
      "100%|██████████| 2/2 [00:03<00:00,  1.68s/it]\n",
      "100%|██████████| 2/2 [00:03<00:00,  1.66s/it]\n"
     ]
    }
   ],
   "source": [
    "# random seqs\n",
    "random_pred_counts = defaultdict(list)\n",
    "\n",
    "for cell_state in CELL_STATES:\n",
    "    for i in tqdm.tqdm(range(math.ceil(len(random_positions)/BATCH_SIZE))):\n",
    "        cur_seqs = random_positions[i*BATCH_SIZE:(i+1)*BATCH_SIZE]\n",
    "        cur_raw_seqs = []\n",
    "        for j, r in enumerate(cur_seqs):        \n",
    "            cur_raw_seqs.append(str(hg38[r[0]][r[1]-(MODEL_INP_LEN//2):r[1]+(MODEL_INP_LEN//2)]))\n",
    "\n",
    "        cur_raw_seqs = one_hot.dna_to_one_hot(cur_raw_seqs)\n",
    "\n",
    "        cur_pred = models[cell_state].predict([cur_raw_seqs, \n",
    "                       np.zeros((cur_raw_seqs.shape[0],1)), \n",
    "                       np.zeros((cur_raw_seqs.shape[0],2000,2))])\n",
    "        random_pred_counts[cell_state].append(cur_pred[1])\n",
    "    \n",
    "    random_pred_counts[cell_state] = np.vstack(random_pred_counts[cell_state]).ravel()"
   ]
  },
  {
   "cell_type": "code",
   "execution_count": 108,
   "metadata": {},
   "outputs": [],
   "source": [
    "def mod_sequence(s, rep, motif_start):\n",
    "    return s[:motif_start] + rep + s[motif_start+len(rep):]  #+ \"ATTTGCATAACAATG\" + s[motif_end+115:]"
   ]
  },
  {
   "cell_type": "code",
   "execution_count": 109,
   "metadata": {},
   "outputs": [
    {
     "data": {
      "text/plain": [
       "'0123ABC789'"
      ]
     },
     "execution_count": 109,
     "metadata": {},
     "output_type": "execute_result"
    }
   ],
   "source": [
    "mod_sequence(\"0123456789\", \"ABC\", 4)"
   ]
  },
  {
   "cell_type": "code",
   "execution_count": 110,
   "metadata": {},
   "outputs": [
    {
     "data": {
      "text/plain": [
       "67"
      ]
     },
     "execution_count": 110,
     "metadata": {},
     "output_type": "execute_result"
    }
   ],
   "source": [
    "len(non_redundant_seqs)"
   ]
  },
  {
   "cell_type": "code",
   "execution_count": 111,
   "metadata": {
    "scrolled": true
   },
   "outputs": [
    {
     "name": "stderr",
     "output_type": "stream",
     "text": [
      "100%|██████████| 67/67 [00:41<00:00,  1.61it/s]\n",
      "100%|██████████| 67/67 [00:41<00:00,  1.62it/s]\n",
      "100%|██████████| 67/67 [00:41<00:00,  1.62it/s]\n",
      "100%|██████████| 67/67 [00:41<00:00,  1.60it/s]\n",
      "100%|██████████| 67/67 [00:41<00:00,  1.62it/s]\n",
      "100%|██████████| 67/67 [00:41<00:00,  1.62it/s]\n",
      "100%|██████████| 67/67 [00:41<00:00,  1.62it/s]\n",
      "100%|██████████| 67/67 [00:41<00:00,  1.61it/s]\n",
      "100%|██████████| 67/67 [00:42<00:00,  1.58it/s]\n",
      "100%|██████████| 67/67 [00:42<00:00,  1.58it/s]\n"
     ]
    }
   ],
   "source": [
    "# with motifs in middle\n",
    "motif_pred_counts = defaultdict(lambda: defaultdict(list))\n",
    "\n",
    "for cell_state in CELL_STATES:\n",
    "    for y in tqdm.tqdm(non_redundant_seqs):\n",
    "        for i in range(math.ceil(len(random_positions)/BATCH_SIZE)):\n",
    "            cur_seqs = random_positions[i*BATCH_SIZE:(i+1)*BATCH_SIZE]\n",
    "            cur_raw_seqs = []\n",
    "            for j, r in enumerate(cur_seqs):        \n",
    "                cur_raw_seqs.append(str(hg38[r[0]][r[1]-(MODEL_INP_LEN//2):r[1]+(MODEL_INP_LEN//2)]))\n",
    "                cur_raw_seqs[-1] = mod_sequence(cur_raw_seqs[-1], non_redundant_seqs[y], MODEL_INP_LEN//2)\n",
    "\n",
    "            cur_raw_seqs = one_hot.dna_to_one_hot(cur_raw_seqs)\n",
    "\n",
    "            cur_pred = models[cell_state].predict([cur_raw_seqs, \n",
    "                           np.zeros((cur_raw_seqs.shape[0],1)), \n",
    "                           np.zeros((cur_raw_seqs.shape[0],2000,2))])\n",
    "            motif_pred_counts[cell_state][y].append(cur_pred[1])\n",
    "\n",
    "        motif_pred_counts[cell_state][y] = np.vstack(motif_pred_counts[cell_state][y]).ravel()"
   ]
  },
  {
   "cell_type": "code",
   "execution_count": null,
   "metadata": {},
   "outputs": [],
   "source": []
  },
  {
   "cell_type": "code",
   "execution_count": null,
   "metadata": {},
   "outputs": [],
   "source": []
  },
  {
   "cell_type": "code",
   "execution_count": null,
   "metadata": {},
   "outputs": [],
   "source": []
  },
  {
   "cell_type": "code",
   "execution_count": 162,
   "metadata": {},
   "outputs": [],
   "source": [
    "# LFC x state df\n",
    "mots = []\n",
    "cs = []\n",
    "vals = []\n",
    "\n",
    "for i,x in enumerate(CELL_STATES):\n",
    "    for j,y in enumerate(non_redundant_seqs):\n",
    "        mots.append(y.split(\".\")[0] + \" ({})\".format(non_redundant_seqs[y]))\n",
    "        cs.append(x) \n",
    "        vals.append(np.median(motif_pred_counts[x][y] - random_pred_counts[x]))\n",
    "        \n",
    "lfc_x_state =  pd.DataFrame({\"mots\":mots,\n",
    "                            \"cell_states\":cs,\n",
    "                            \"vals\": vals})"
   ]
  },
  {
   "cell_type": "code",
   "execution_count": null,
   "metadata": {},
   "outputs": [],
   "source": []
  },
  {
   "cell_type": "code",
   "execution_count": 163,
   "metadata": {},
   "outputs": [
    {
     "name": "stdout",
     "output_type": "stream",
     "text": [
      "REMOVING\n",
      "Foxc1 (ATAAACA)\n",
      "MYC_HUMAN (GCCACGTGCTC)\n",
      "NFIB_MOUSE (CCTGGCAGC)\n",
      "PRDM6_HUMAN (AAAAAGAAAAAAA)\n",
      "Sox3_MA0514 (CCTTTGTTTT)\n",
      "ZFX_MOUSE (GCCGAGGCCTGGGGCCCCC)\n"
     ]
    }
   ],
   "source": [
    "MIN_THRESH = 0.1\n",
    "\n",
    "to_plot = lfc_x_state.pivot('cell_states', 'mots', 'vals')\n",
    "print(\"REMOVING\")\n",
    "print('\\n'.join(to_plot.columns[(to_plot.max(0) <= MIN_THRESH)]))\n",
    "to_plot = to_plot[to_plot.columns[(to_plot.max(0) > MIN_THRESH)]]\n",
    "to_plot.index = pd.CategoricalIndex(to_plot.index, categories= CELL_STATES)\n",
    "to_plot.sort_index(level=0, inplace=True)"
   ]
  },
  {
   "cell_type": "code",
   "execution_count": 164,
   "metadata": {},
   "outputs": [
    {
     "data": {
      "text/plain": [
       "(10, 61)"
      ]
     },
     "execution_count": 164,
     "metadata": {},
     "output_type": "execute_result"
    }
   ],
   "source": [
    "to_plot.shape"
   ]
  },
  {
   "cell_type": "code",
   "execution_count": 165,
   "metadata": {},
   "outputs": [
    {
     "data": {
      "text/plain": [
       "'GGTTGTGCAAT'"
      ]
     },
     "execution_count": 165,
     "metadata": {},
     "output_type": "execute_result"
    }
   ],
   "source": [
    "non_redundant_seqs[\"CEBPB_MOUSE.H11MO.0.A\"]"
   ]
  },
  {
   "cell_type": "code",
   "execution_count": 166,
   "metadata": {},
   "outputs": [
    {
     "data": {
      "text/plain": [
       "<seaborn.matrix.ClusterGrid at 0x7f1c1960dc10>"
      ]
     },
     "execution_count": 166,
     "metadata": {},
     "output_type": "execute_result"
    },
    {
     "data": {
      "image/png": "[encoded data removed]",
      "text/plain": [
       "<Figure size 720x1440 with 4 Axes>"
      ]
     },
     "metadata": {
      "needs_background": "light"
     },
     "output_type": "display_data"
    }
   ],
   "source": [
    "sns.clustermap(to_plot.T,\n",
    "               metric='cosine',\n",
    "               vmin=0, \n",
    "               vmax=np.quantile(lfc_x_state['vals'] , .95),\n",
    "               col_cluster=False,\n",
    "               row_cluster=True,\n",
    "#                z_score=1,\n",
    "               figsize=(10,20))"
   ]
  },
  {
   "cell_type": "code",
   "execution_count": 167,
   "metadata": {},
   "outputs": [
    {
     "data": {
      "text/plain": [
       "cell_states\n",
       "5     1.993988\n",
       "12    0.014116\n",
       "10    0.050906\n",
       "13    0.006806\n",
       "4     0.012773\n",
       "8     0.003199\n",
       "2     0.011198\n",
       "7    -0.004327\n",
       "1     0.005226\n",
       "16    0.014745\n",
       "Name: IRF1_MA0050 (TTTTACTTTCACTTTCACTTT), dtype: float64"
      ]
     },
     "execution_count": 167,
     "metadata": {},
     "output_type": "execute_result"
    }
   ],
   "source": [
    "to_plot[\"IRF1_MA0050 (TTTTACTTTCACTTTCACTTT)\"]"
   ]
  },
  {
   "cell_type": "code",
   "execution_count": 168,
   "metadata": {},
   "outputs": [
    {
     "data": {
      "text/plain": [
       "cell_states\n",
       "5     0.255915\n",
       "12    0.090661\n",
       "10    0.069291\n",
       "13   -0.007279\n",
       "4     0.001718\n",
       "8     0.001176\n",
       "2     0.005631\n",
       "7     0.007082\n",
       "1     0.009981\n",
       "16    0.022603\n",
       "Name: FOXC2_MA0846 (TAAGTAAACAAA), dtype: float64"
      ]
     },
     "execution_count": 168,
     "metadata": {},
     "output_type": "execute_result"
    }
   ],
   "source": [
    "to_plot[\"FOXC2_MA0846 (TAAGTAAACAAA)\"]"
   ]
  },
  {
   "cell_type": "code",
   "execution_count": 169,
   "metadata": {},
   "outputs": [
    {
     "data": {
      "text/plain": [
       "cell_states\n",
       "5     1.146097\n",
       "12    0.852014\n",
       "10    0.844371\n",
       "13    0.447958\n",
       "4     0.577782\n",
       "8     0.558712\n",
       "2     0.457111\n",
       "7     0.389924\n",
       "1     0.129775\n",
       "16    0.117410\n",
       "Name: JUN_MOUSE (GGTGAGTCAC), dtype: float64"
      ]
     },
     "execution_count": 169,
     "metadata": {},
     "output_type": "execute_result"
    }
   ],
   "source": [
    "to_plot[\"JUN_MOUSE (GGTGAGTCAC)\"]"
   ]
  },
  {
   "cell_type": "code",
   "execution_count": 170,
   "metadata": {},
   "outputs": [],
   "source": [
    "to_plot.to_csv(\"./LFC_x_state_intermediate/pos.random.bg.tsv\", sep='\\t')"
   ]
  },
  {
   "cell_type": "code",
   "execution_count": null,
   "metadata": {},
   "outputs": [],
   "source": []
  },
  {
   "cell_type": "markdown",
   "metadata": {},
   "source": [
    "### Negative Motifs\n",
    "\n",
    "Add ZEB and ZBTB motifs to existing peaks, instead of random regions, to assess effect."
   ]
  },
  {
   "cell_type": "code",
   "execution_count": 119,
   "metadata": {},
   "outputs": [
    {
     "data": {
      "text/plain": [
       "[5, 12, 10, 13, 4, 8, 2, 7, 1, 16]"
      ]
     },
     "execution_count": 119,
     "metadata": {},
     "output_type": "execute_result"
    }
   ],
   "source": [
    "CELL_STATES"
   ]
  },
  {
   "cell_type": "code",
   "execution_count": 120,
   "metadata": {},
   "outputs": [],
   "source": [
    "cell_state_sampled_peaks = defaultdict()\n",
    "\n",
    "for i in CELL_STATES:\n",
    "    cell_state_sampled_peaks[i] = cell_state_peaks[i].sample(128*2)"
   ]
  },
  {
   "cell_type": "code",
   "execution_count": 121,
   "metadata": {},
   "outputs": [
    {
     "name": "stderr",
     "output_type": "stream",
     "text": [
      "100%|██████████| 2/2 [00:00<00:00,  2.96it/s]\n",
      "100%|██████████| 2/2 [00:00<00:00,  2.98it/s]\n",
      "100%|██████████| 2/2 [00:00<00:00,  3.01it/s]\n",
      "100%|██████████| 2/2 [00:00<00:00,  2.93it/s]\n",
      "100%|██████████| 2/2 [00:00<00:00,  2.96it/s]\n",
      "100%|██████████| 2/2 [00:00<00:00,  3.02it/s]\n",
      "100%|██████████| 2/2 [00:00<00:00,  2.92it/s]\n",
      "100%|██████████| 2/2 [00:00<00:00,  2.96it/s]\n",
      "100%|██████████| 2/2 [00:00<00:00,  2.94it/s]\n",
      "100%|██████████| 2/2 [00:00<00:00,  2.92it/s]\n"
     ]
    }
   ],
   "source": [
    "# random seqs\n",
    "cell_state_pred_counts = defaultdict(list)\n",
    "\n",
    "for cell_state in CELL_STATES:\n",
    "    for i in tqdm.tqdm(range(math.ceil(len(cell_state_sampled_peaks[cell_state])/BATCH_SIZE))):\n",
    "        cur_seqs = cell_state_sampled_peaks[cell_state][i*BATCH_SIZE:(i+1)*BATCH_SIZE]\n",
    "        cur_raw_seqs = []\n",
    "        for j, r in cur_seqs.iterrows():        \n",
    "            cur_raw_seqs.append(str(hg38[r['chr']][r['start']+r['summit']-(MODEL_INP_LEN//2):r['start']+r['summit']+(MODEL_INP_LEN//2)]))\n",
    "\n",
    "        cur_raw_seqs = one_hot.dna_to_one_hot(cur_raw_seqs)\n",
    "\n",
    "        cur_pred = models[cell_state].predict([cur_raw_seqs, \n",
    "                       np.zeros((cur_raw_seqs.shape[0],1)), \n",
    "                       np.zeros((cur_raw_seqs.shape[0],2000,2))])\n",
    "        cell_state_pred_counts[cell_state].append(cur_pred[1])\n",
    "    \n",
    "    cell_state_pred_counts[cell_state] = np.vstack(cell_state_pred_counts[cell_state]).ravel()"
   ]
  },
  {
   "cell_type": "code",
   "execution_count": 122,
   "metadata": {},
   "outputs": [],
   "source": [
    "anti_accs_motifs = {'ZEB':\"CAGGTG\",\n",
    "                    'ZBTB':\"GGGGTC\"}"
   ]
  },
  {
   "cell_type": "code",
   "execution_count": null,
   "metadata": {},
   "outputs": [],
   "source": []
  },
  {
   "cell_type": "code",
   "execution_count": 139,
   "metadata": {
    "scrolled": true
   },
   "outputs": [
    {
     "name": "stderr",
     "output_type": "stream",
     "text": [
      "100%|██████████| 2/2 [00:01<00:00,  1.44it/s]\n",
      "100%|██████████| 2/2 [00:01<00:00,  1.46it/s]\n",
      "100%|██████████| 2/2 [00:01<00:00,  1.47it/s]\n",
      "100%|██████████| 2/2 [00:01<00:00,  1.46it/s]\n",
      "100%|██████████| 2/2 [00:01<00:00,  1.46it/s]\n",
      "100%|██████████| 2/2 [00:01<00:00,  1.47it/s]\n",
      "100%|██████████| 2/2 [00:01<00:00,  1.46it/s]\n",
      "100%|██████████| 2/2 [00:01<00:00,  1.46it/s]\n",
      "100%|██████████| 2/2 [00:01<00:00,  1.46it/s]\n",
      "100%|██████████| 2/2 [00:01<00:00,  1.47it/s]\n"
     ]
    }
   ],
   "source": [
    "# with motifs in middle\n",
    "anti_motif_pred_counts = defaultdict(lambda: defaultdict(list))\n",
    "\n",
    "for cell_state in CELL_STATES:\n",
    "    for y in tqdm.tqdm(anti_accs_motifs):\n",
    "        for i in range(math.ceil(len(cell_state_sampled_peaks[cell_state])/BATCH_SIZE)):\n",
    "            cur_seqs = cell_state_sampled_peaks[cell_state][i*BATCH_SIZE:(i+1)*BATCH_SIZE]\n",
    "            cur_raw_seqs = []\n",
    "            for j, r in cur_seqs.iterrows():        \n",
    "                cur_raw_seqs.append(str(hg38[r['chr']][r['start']+r['summit']-(MODEL_INP_LEN//2):r['start']+r['summit']+(MODEL_INP_LEN//2)]))\n",
    "                cur_raw_seqs[-1] = mod_sequence(cur_raw_seqs[-1], anti_accs_motifs[y], (MODEL_INP_LEN//2))\n",
    "\n",
    "            cur_raw_seqs = one_hot.dna_to_one_hot(cur_raw_seqs)\n",
    "\n",
    "            cur_pred = models[cell_state].predict([cur_raw_seqs, \n",
    "                           np.zeros((cur_raw_seqs.shape[0],1)), \n",
    "                           np.zeros((cur_raw_seqs.shape[0],2000,2))])\n",
    "            anti_motif_pred_counts[cell_state][y].append(cur_pred[1])\n",
    "\n",
    "        anti_motif_pred_counts[cell_state][y] = np.vstack(anti_motif_pred_counts[cell_state][y]).ravel()"
   ]
  },
  {
   "cell_type": "code",
   "execution_count": null,
   "metadata": {},
   "outputs": [],
   "source": []
  },
  {
   "cell_type": "code",
   "execution_count": 171,
   "metadata": {},
   "outputs": [],
   "source": [
    "# LFC x state df\n",
    "mots = []\n",
    "cs = []\n",
    "vals = []\n",
    "\n",
    "for i,x in enumerate(CELL_STATES):\n",
    "    for j,y in enumerate(anti_accs_motifs):\n",
    "        mots.append(y.split(\".\")[0] + \"({})\".format(anti_accs_motifs[y]))\n",
    "        cs.append(x) \n",
    "        vals.append(np.median(anti_motif_pred_counts[x][y] - cell_state_pred_counts[x]))\n",
    "        \n",
    "lfc_x_state_anti =  pd.DataFrame({\"mots\":mots,\n",
    "                            \"cell_states\":cs,\n",
    "                            \"vals\": vals})"
   ]
  },
  {
   "cell_type": "code",
   "execution_count": 172,
   "metadata": {},
   "outputs": [
    {
     "data": {
      "text/html": [
       "<div>\n",
       "<style scoped>\n",
       "    .dataframe tbody tr th:only-of-type {\n",
       "        vertical-align: middle;\n",
       "    }\n",
       "\n",
       "    .dataframe tbody tr th {\n",
       "        vertical-align: top;\n",
       "    }\n",
       "\n",
       "    .dataframe thead th {\n",
       "        text-align: right;\n",
       "    }\n",
       "</style>\n",
       "<table border=\"1\" class=\"dataframe\">\n",
       "  <thead>\n",
       "    <tr style=\"text-align: right;\">\n",
       "      <th></th>\n",
       "      <th>mots</th>\n",
       "      <th>cell_states</th>\n",
       "      <th>vals</th>\n",
       "    </tr>\n",
       "  </thead>\n",
       "  <tbody>\n",
       "    <tr>\n",
       "      <th>0</th>\n",
       "      <td>ZEB(CAGGTG)</td>\n",
       "      <td>5</td>\n",
       "      <td>-0.399256</td>\n",
       "    </tr>\n",
       "    <tr>\n",
       "      <th>1</th>\n",
       "      <td>ZBTB(GGGGTC)</td>\n",
       "      <td>5</td>\n",
       "      <td>-0.208153</td>\n",
       "    </tr>\n",
       "    <tr>\n",
       "      <th>2</th>\n",
       "      <td>ZEB(CAGGTG)</td>\n",
       "      <td>12</td>\n",
       "      <td>-0.166746</td>\n",
       "    </tr>\n",
       "    <tr>\n",
       "      <th>3</th>\n",
       "      <td>ZBTB(GGGGTC)</td>\n",
       "      <td>12</td>\n",
       "      <td>-0.158129</td>\n",
       "    </tr>\n",
       "    <tr>\n",
       "      <th>4</th>\n",
       "      <td>ZEB(CAGGTG)</td>\n",
       "      <td>10</td>\n",
       "      <td>-0.292655</td>\n",
       "    </tr>\n",
       "    <tr>\n",
       "      <th>5</th>\n",
       "      <td>ZBTB(GGGGTC)</td>\n",
       "      <td>10</td>\n",
       "      <td>-0.122601</td>\n",
       "    </tr>\n",
       "    <tr>\n",
       "      <th>6</th>\n",
       "      <td>ZEB(CAGGTG)</td>\n",
       "      <td>13</td>\n",
       "      <td>-0.146130</td>\n",
       "    </tr>\n",
       "    <tr>\n",
       "      <th>7</th>\n",
       "      <td>ZBTB(GGGGTC)</td>\n",
       "      <td>13</td>\n",
       "      <td>-0.084335</td>\n",
       "    </tr>\n",
       "    <tr>\n",
       "      <th>8</th>\n",
       "      <td>ZEB(CAGGTG)</td>\n",
       "      <td>4</td>\n",
       "      <td>-0.278754</td>\n",
       "    </tr>\n",
       "    <tr>\n",
       "      <th>9</th>\n",
       "      <td>ZBTB(GGGGTC)</td>\n",
       "      <td>4</td>\n",
       "      <td>-0.372652</td>\n",
       "    </tr>\n",
       "    <tr>\n",
       "      <th>10</th>\n",
       "      <td>ZEB(CAGGTG)</td>\n",
       "      <td>8</td>\n",
       "      <td>-0.111580</td>\n",
       "    </tr>\n",
       "    <tr>\n",
       "      <th>11</th>\n",
       "      <td>ZBTB(GGGGTC)</td>\n",
       "      <td>8</td>\n",
       "      <td>-0.185643</td>\n",
       "    </tr>\n",
       "    <tr>\n",
       "      <th>12</th>\n",
       "      <td>ZEB(CAGGTG)</td>\n",
       "      <td>2</td>\n",
       "      <td>-0.057671</td>\n",
       "    </tr>\n",
       "    <tr>\n",
       "      <th>13</th>\n",
       "      <td>ZBTB(GGGGTC)</td>\n",
       "      <td>2</td>\n",
       "      <td>-0.132843</td>\n",
       "    </tr>\n",
       "    <tr>\n",
       "      <th>14</th>\n",
       "      <td>ZEB(CAGGTG)</td>\n",
       "      <td>7</td>\n",
       "      <td>-0.024569</td>\n",
       "    </tr>\n",
       "    <tr>\n",
       "      <th>15</th>\n",
       "      <td>ZBTB(GGGGTC)</td>\n",
       "      <td>7</td>\n",
       "      <td>-0.096162</td>\n",
       "    </tr>\n",
       "    <tr>\n",
       "      <th>16</th>\n",
       "      <td>ZEB(CAGGTG)</td>\n",
       "      <td>1</td>\n",
       "      <td>-0.011112</td>\n",
       "    </tr>\n",
       "    <tr>\n",
       "      <th>17</th>\n",
       "      <td>ZBTB(GGGGTC)</td>\n",
       "      <td>1</td>\n",
       "      <td>-0.063329</td>\n",
       "    </tr>\n",
       "    <tr>\n",
       "      <th>18</th>\n",
       "      <td>ZEB(CAGGTG)</td>\n",
       "      <td>16</td>\n",
       "      <td>-0.013537</td>\n",
       "    </tr>\n",
       "    <tr>\n",
       "      <th>19</th>\n",
       "      <td>ZBTB(GGGGTC)</td>\n",
       "      <td>16</td>\n",
       "      <td>-0.046153</td>\n",
       "    </tr>\n",
       "  </tbody>\n",
       "</table>\n",
       "</div>"
      ],
      "text/plain": [
       "            mots  cell_states      vals\n",
       "0    ZEB(CAGGTG)            5 -0.399256\n",
       "1   ZBTB(GGGGTC)            5 -0.208153\n",
       "2    ZEB(CAGGTG)           12 -0.166746\n",
       "3   ZBTB(GGGGTC)           12 -0.158129\n",
       "4    ZEB(CAGGTG)           10 -0.292655\n",
       "5   ZBTB(GGGGTC)           10 -0.122601\n",
       "6    ZEB(CAGGTG)           13 -0.146130\n",
       "7   ZBTB(GGGGTC)           13 -0.084335\n",
       "8    ZEB(CAGGTG)            4 -0.278754\n",
       "9   ZBTB(GGGGTC)            4 -0.372652\n",
       "10   ZEB(CAGGTG)            8 -0.111580\n",
       "11  ZBTB(GGGGTC)            8 -0.185643\n",
       "12   ZEB(CAGGTG)            2 -0.057671\n",
       "13  ZBTB(GGGGTC)            2 -0.132843\n",
       "14   ZEB(CAGGTG)            7 -0.024569\n",
       "15  ZBTB(GGGGTC)            7 -0.096162\n",
       "16   ZEB(CAGGTG)            1 -0.011112\n",
       "17  ZBTB(GGGGTC)            1 -0.063329\n",
       "18   ZEB(CAGGTG)           16 -0.013537\n",
       "19  ZBTB(GGGGTC)           16 -0.046153"
      ]
     },
     "execution_count": 172,
     "metadata": {},
     "output_type": "execute_result"
    }
   ],
   "source": [
    "lfc_x_state_anti"
   ]
  },
  {
   "cell_type": "code",
   "execution_count": 173,
   "metadata": {},
   "outputs": [
    {
     "data": {
      "text/html": [
       "<div>\n",
       "<style scoped>\n",
       "    .dataframe tbody tr th:only-of-type {\n",
       "        vertical-align: middle;\n",
       "    }\n",
       "\n",
       "    .dataframe tbody tr th {\n",
       "        vertical-align: top;\n",
       "    }\n",
       "\n",
       "    .dataframe thead th {\n",
       "        text-align: right;\n",
       "    }\n",
       "</style>\n",
       "<table border=\"1\" class=\"dataframe\">\n",
       "  <thead>\n",
       "    <tr style=\"text-align: right;\">\n",
       "      <th>mots</th>\n",
       "      <th>ZBTB(GGGGTC)</th>\n",
       "      <th>ZEB(CAGGTG)</th>\n",
       "    </tr>\n",
       "    <tr>\n",
       "      <th>cell_states</th>\n",
       "      <th></th>\n",
       "      <th></th>\n",
       "    </tr>\n",
       "  </thead>\n",
       "  <tbody>\n",
       "    <tr>\n",
       "      <th>1</th>\n",
       "      <td>-0.063329</td>\n",
       "      <td>-0.011112</td>\n",
       "    </tr>\n",
       "    <tr>\n",
       "      <th>2</th>\n",
       "      <td>-0.132843</td>\n",
       "      <td>-0.057671</td>\n",
       "    </tr>\n",
       "    <tr>\n",
       "      <th>4</th>\n",
       "      <td>-0.372652</td>\n",
       "      <td>-0.278754</td>\n",
       "    </tr>\n",
       "    <tr>\n",
       "      <th>5</th>\n",
       "      <td>-0.208153</td>\n",
       "      <td>-0.399256</td>\n",
       "    </tr>\n",
       "    <tr>\n",
       "      <th>7</th>\n",
       "      <td>-0.096162</td>\n",
       "      <td>-0.024569</td>\n",
       "    </tr>\n",
       "    <tr>\n",
       "      <th>8</th>\n",
       "      <td>-0.185643</td>\n",
       "      <td>-0.111580</td>\n",
       "    </tr>\n",
       "    <tr>\n",
       "      <th>10</th>\n",
       "      <td>-0.122601</td>\n",
       "      <td>-0.292655</td>\n",
       "    </tr>\n",
       "    <tr>\n",
       "      <th>12</th>\n",
       "      <td>-0.158129</td>\n",
       "      <td>-0.166746</td>\n",
       "    </tr>\n",
       "    <tr>\n",
       "      <th>13</th>\n",
       "      <td>-0.084335</td>\n",
       "      <td>-0.146130</td>\n",
       "    </tr>\n",
       "    <tr>\n",
       "      <th>16</th>\n",
       "      <td>-0.046153</td>\n",
       "      <td>-0.013537</td>\n",
       "    </tr>\n",
       "  </tbody>\n",
       "</table>\n",
       "</div>"
      ],
      "text/plain": [
       "mots         ZBTB(GGGGTC)  ZEB(CAGGTG)\n",
       "cell_states                           \n",
       "1               -0.063329    -0.011112\n",
       "2               -0.132843    -0.057671\n",
       "4               -0.372652    -0.278754\n",
       "5               -0.208153    -0.399256\n",
       "7               -0.096162    -0.024569\n",
       "8               -0.185643    -0.111580\n",
       "10              -0.122601    -0.292655\n",
       "12              -0.158129    -0.166746\n",
       "13              -0.084335    -0.146130\n",
       "16              -0.046153    -0.013537"
      ]
     },
     "execution_count": 173,
     "metadata": {},
     "output_type": "execute_result"
    }
   ],
   "source": [
    "to_plot_anti = lfc_x_state_anti.pivot('cell_states', 'mots', 'vals')\n",
    "to_plot_anti"
   ]
  },
  {
   "cell_type": "code",
   "execution_count": 174,
   "metadata": {},
   "outputs": [],
   "source": [
    "to_plot_anti.to_csv(\"./LFC_x_state_intermediate/neg.random.bg.tsv\", sep='\\t')"
   ]
  },
  {
   "cell_type": "code",
   "execution_count": null,
   "metadata": {},
   "outputs": [],
   "source": []
  },
  {
   "cell_type": "code",
   "execution_count": null,
   "metadata": {},
   "outputs": [],
   "source": []
  }
 ],
 "metadata": {
  "kernelspec": {
   "display_name": "Python 3",
   "language": "python",
   "name": "python3"
  },
  "language_info": {
   "codemirror_mode": {
    "name": "ipython",
    "version": 3
   },
   "file_extension": ".py",
   "mimetype": "text/x-python",
   "name": "python",
   "nbconvert_exporter": "python",
   "pygments_lexer": "ipython3",
   "version": "3.7.6"
  }
 },
 "nbformat": 4,
 "nbformat_minor": 4
}
