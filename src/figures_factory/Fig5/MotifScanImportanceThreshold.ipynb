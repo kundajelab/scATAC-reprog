{
 "cells": [
  {
   "cell_type": "markdown",
   "metadata": {},
   "source": [
    "# Motif Scan Importance Threshold\n",
    "\n",
    "Apply an importance score based threshold for motifs-- top 1% by summed importance score across length of motif.\n",
    "\n",
    "Do it for high OSK cell state."
   ]
  },
  {
   "cell_type": "code",
   "execution_count": 15,
   "metadata": {},
   "outputs": [],
   "source": [
    "import pyBigWig\n",
    "import numpy as np\n",
    "import tqdm\n",
    "import pandas as pd\n",
    "from collections import defaultdict"
   ]
  },
  {
   "cell_type": "code",
   "execution_count": 1,
   "metadata": {},
   "outputs": [],
   "source": [
    "from modisco.visualization import viz_sequence\n"
   ]
  },
  {
   "cell_type": "code",
   "execution_count": 3,
   "metadata": {},
   "outputs": [],
   "source": [
    "import numpy as np"
   ]
  },
  {
   "cell_type": "code",
   "execution_count": 4,
   "metadata": {},
   "outputs": [],
   "source": [
    "HIGH_OSK_REG_PATH = \"/users/surag/oak/projects/scATAC-reprog/bpnet/models/20210820_chrombpnet_lite/chrombpnet/cluster_idx11/interpret/interpreted_regions.bed\" "
   ]
  },
  {
   "cell_type": "code",
   "execution_count": 5,
   "metadata": {},
   "outputs": [],
   "source": [
    "HIGH_OSK_IMP_BW = \"/users/surag/oak/projects/scATAC-reprog/bpnet/models/20210820_chrombpnet_lite/chrombpnet/cluster_idx11/interpret/bigwig/counts.importance.bw\""
   ]
  },
  {
   "cell_type": "code",
   "execution_count": 6,
   "metadata": {},
   "outputs": [],
   "source": [
    "high_osk_imp_bw = pyBigWig.open(HIGH_OSK_IMP_BW)"
   ]
  },
  {
   "cell_type": "code",
   "execution_count": 2,
   "metadata": {},
   "outputs": [],
   "source": [
    "def get_regions(regions_file, crop_width): \n",
    "    with open(regions_file) as f: \n",
    "        scored_regions = [x.strip().split('\\t') for x in f] \n",
    " \n",
    "    # importance scores are computed centered at summit (2nd col + 10th col) \n",
    "    scored_regions = [(x[0], int(x[9])+int(x[1])-crop_width//2, int(x[9])+int(x[1])+crop_width//2) for x in scored_regions] \n",
    "     \n",
    "    return scored_regions "
   ]
  },
  {
   "cell_type": "code",
   "execution_count": 7,
   "metadata": {},
   "outputs": [],
   "source": [
    "regions = get_regions(HIGH_OSK_REG_PATH, 2000) # 2000 is output size of model "
   ]
  },
  {
   "cell_type": "code",
   "execution_count": 9,
   "metadata": {},
   "outputs": [
    {
     "data": {
      "text/plain": [
       "('chr1', 9323, 11323)"
      ]
     },
     "execution_count": 9,
     "metadata": {},
     "output_type": "execute_result"
    }
   ],
   "source": [
    "regions[0]"
   ]
  },
  {
   "cell_type": "code",
   "execution_count": 27,
   "metadata": {},
   "outputs": [],
   "source": [
    "# get perc percentile of importance values for windows of width\n",
    "# negative values are replaced by 0 to ignore negative importance contribs\n",
    "# regs is the regions with importance scores available\n",
    "def get_perc(bw, regs, width, perc, N=10000): \n",
    "    vals = [] \n",
    "    for _ in tqdm.tqdm(range(N)): \n",
    "        i = np.random.randint(0, len(regs)) \n",
    "        j = np.random.randint(regs[i][1], regs[i][2]-width)\n",
    "        vals.append(np.sum(np.maximum(np.nan_to_num(bw.values(regs[i][0], j, j+width)),0)))\n",
    "         \n",
    "    return np.quantile(vals, perc) \n"
   ]
  },
  {
   "cell_type": "code",
   "execution_count": 12,
   "metadata": {},
   "outputs": [],
   "source": [
    "SCAN_SCHEMA = [\"chr\", \"start\", \"end\", \"strand\", \"score\", \"seq\"]"
   ]
  },
  {
   "cell_type": "code",
   "execution_count": 20,
   "metadata": {},
   "outputs": [],
   "source": [
    "MOTIFS = [\"OCTSOX\", \"KLF\", \"SOX\", \"AP1\"]"
   ]
  },
  {
   "cell_type": "code",
   "execution_count": 66,
   "metadata": {},
   "outputs": [],
   "source": [
    "raw_scans = dict()\n",
    "\n",
    "for motif in MOTIFS:\n",
    "        raw_scans[motif] = pd.read_csv(\"./motif_scans/scans/raw/{}.bed\".format(motif), sep='\\t', names=SCAN_SCHEMA)"
   ]
  },
  {
   "cell_type": "code",
   "execution_count": 67,
   "metadata": {},
   "outputs": [
    {
     "data": {
      "text/plain": [
       "{9, 15}"
      ]
     },
     "execution_count": 67,
     "metadata": {},
     "output_type": "execute_result"
    }
   ],
   "source": [
    "widths = set([raw_scans[x].iloc[0]['end']-raw_scans[x].iloc[0]['start'] for x in MOTIFS])\n",
    "widths"
   ]
  },
  {
   "cell_type": "code",
   "execution_count": null,
   "metadata": {},
   "outputs": [],
   "source": []
  },
  {
   "cell_type": "code",
   "execution_count": 30,
   "metadata": {},
   "outputs": [
    {
     "name": "stderr",
     "output_type": "stream",
     "text": [
      "100%|██████████| 100000/100000 [00:54<00:00, 1824.85it/s]\n",
      "100%|██████████| 100000/100000 [00:36<00:00, 2728.51it/s]\n"
     ]
    }
   ],
   "source": [
    "imp_threshes = dict()\n",
    "\n",
    "for x in widths:\n",
    "    imp_threshes[x] = get_perc(high_osk_imp_bw, regions, x, 0.99, 100000)"
   ]
  },
  {
   "cell_type": "code",
   "execution_count": 65,
   "metadata": {},
   "outputs": [
    {
     "data": {
      "text/plain": [
       "{9: 0.24456437518819985, 15: 0.3719796596281215}"
      ]
     },
     "execution_count": 65,
     "metadata": {},
     "output_type": "execute_result"
    }
   ],
   "source": [
    "imp_threshes"
   ]
  },
  {
   "cell_type": "code",
   "execution_count": 78,
   "metadata": {},
   "outputs": [
    {
     "name": "stderr",
     "output_type": "stream",
     "text": [
      "100%|██████████| 436180/436180 [02:22<00:00, 3068.22it/s]\n",
      "100%|██████████| 572850/572850 [03:06<00:00, 3065.58it/s]\n",
      "100%|██████████| 301965/301965 [01:38<00:00, 3054.21it/s]\n",
      "100%|██████████| 61725/61725 [00:20<00:00, 3007.67it/s]\n"
     ]
    }
   ],
   "source": [
    "imp_thresholded_scans = dict()\n",
    "\n",
    "for motif in MOTIFS:\n",
    "    w = raw_scans[motif].iloc[0]['end'] - raw_scans[motif].iloc[0]['start']\n",
    "\n",
    "    imp_vals = []\n",
    "    for _,x in tqdm.tqdm(raw_scans[motif].iterrows(), total=raw_scans[motif].shape[0]):\n",
    "        imp_vals.append(np.sum(np.maximum(np.nan_to_num(high_osk_imp_bw.values(x['chr'], x['start'], x['end'])),0)))\n",
    "        \n",
    "    raw_scans[motif]['imp'] = imp_vals\n",
    "\n",
    "    imp_thresholded_scans[motif] = raw_scans[motif][raw_scans[motif]['imp']>imp_threshes[w]]"
   ]
  },
  {
   "cell_type": "code",
   "execution_count": 81,
   "metadata": {},
   "outputs": [
    {
     "name": "stdout",
     "output_type": "stream",
     "text": [
      "OCTSOX 69617 0.159606125911321\n",
      "KLF 126318 0.22050798638387012\n",
      "SOX 18844 0.06240458331263557\n",
      "AP1 29840 0.4834345889023896\n"
     ]
    }
   ],
   "source": [
    "for m in MOTIFS:\n",
    "    print(m, imp_thresholded_scans[m].shape[0], imp_thresholded_scans[m].shape[0]/raw_scans[m].shape[0])"
   ]
  },
  {
   "cell_type": "code",
   "execution_count": null,
   "metadata": {},
   "outputs": [],
   "source": []
  },
  {
   "cell_type": "markdown",
   "metadata": {},
   "source": [
    "Write importance thresholded hits."
   ]
  },
  {
   "cell_type": "code",
   "execution_count": 82,
   "metadata": {},
   "outputs": [],
   "source": [
    "for motif in MOTIFS:\n",
    "    imp_thresholded_scans[motif].to_csv(\"./motif_scans/scans/importance_thresholded/{}.tsv\".format(motif),\n",
    "                                                        sep ='\\t', index=False)"
   ]
  },
  {
   "cell_type": "code",
   "execution_count": 84,
   "metadata": {},
   "outputs": [
    {
     "data": {
      "text/html": [
       "<div>\n",
       "<style scoped>\n",
       "    .dataframe tbody tr th:only-of-type {\n",
       "        vertical-align: middle;\n",
       "    }\n",
       "\n",
       "    .dataframe tbody tr th {\n",
       "        vertical-align: top;\n",
       "    }\n",
       "\n",
       "    .dataframe thead th {\n",
       "        text-align: right;\n",
       "    }\n",
       "</style>\n",
       "<table border=\"1\" class=\"dataframe\">\n",
       "  <thead>\n",
       "    <tr style=\"text-align: right;\">\n",
       "      <th></th>\n",
       "      <th>chr</th>\n",
       "      <th>start</th>\n",
       "      <th>end</th>\n",
       "      <th>strand</th>\n",
       "      <th>score</th>\n",
       "      <th>seq</th>\n",
       "      <th>imp</th>\n",
       "    </tr>\n",
       "  </thead>\n",
       "  <tbody>\n",
       "    <tr>\n",
       "      <th>1</th>\n",
       "      <td>chr17</td>\n",
       "      <td>33487649</td>\n",
       "      <td>33487658</td>\n",
       "      <td>-</td>\n",
       "      <td>6.974161</td>\n",
       "      <td>TTTGAGTCAC</td>\n",
       "      <td>0.368245</td>\n",
       "    </tr>\n",
       "    <tr>\n",
       "      <th>3</th>\n",
       "      <td>chr17</td>\n",
       "      <td>46474674</td>\n",
       "      <td>46474683</td>\n",
       "      <td>+</td>\n",
       "      <td>8.923917</td>\n",
       "      <td>GTGAGTCATG</td>\n",
       "      <td>0.577262</td>\n",
       "    </tr>\n",
       "    <tr>\n",
       "      <th>4</th>\n",
       "      <td>chr17</td>\n",
       "      <td>70057186</td>\n",
       "      <td>70057195</td>\n",
       "      <td>+</td>\n",
       "      <td>8.479893</td>\n",
       "      <td>ATGACTCAAC</td>\n",
       "      <td>0.323845</td>\n",
       "    </tr>\n",
       "    <tr>\n",
       "      <th>6</th>\n",
       "      <td>chr17</td>\n",
       "      <td>19642881</td>\n",
       "      <td>19642890</td>\n",
       "      <td>-</td>\n",
       "      <td>7.221008</td>\n",
       "      <td>GATTAGTCAC</td>\n",
       "      <td>0.311039</td>\n",
       "    </tr>\n",
       "    <tr>\n",
       "      <th>11</th>\n",
       "      <td>chr13</td>\n",
       "      <td>32056511</td>\n",
       "      <td>32056520</td>\n",
       "      <td>+</td>\n",
       "      <td>6.278644</td>\n",
       "      <td>ATGACACATT</td>\n",
       "      <td>0.274024</td>\n",
       "    </tr>\n",
       "    <tr>\n",
       "      <th>...</th>\n",
       "      <td>...</td>\n",
       "      <td>...</td>\n",
       "      <td>...</td>\n",
       "      <td>...</td>\n",
       "      <td>...</td>\n",
       "      <td>...</td>\n",
       "      <td>...</td>\n",
       "    </tr>\n",
       "    <tr>\n",
       "      <th>61715</th>\n",
       "      <td>chrY</td>\n",
       "      <td>15405628</td>\n",
       "      <td>15405637</td>\n",
       "      <td>+</td>\n",
       "      <td>8.495907</td>\n",
       "      <td>GTGAGTCAGG</td>\n",
       "      <td>0.456366</td>\n",
       "    </tr>\n",
       "    <tr>\n",
       "      <th>61716</th>\n",
       "      <td>chrY</td>\n",
       "      <td>7858109</td>\n",
       "      <td>7858118</td>\n",
       "      <td>-</td>\n",
       "      <td>9.486049</td>\n",
       "      <td>AATGAGTCAC</td>\n",
       "      <td>0.890239</td>\n",
       "    </tr>\n",
       "    <tr>\n",
       "      <th>61719</th>\n",
       "      <td>chrY</td>\n",
       "      <td>12833476</td>\n",
       "      <td>12833485</td>\n",
       "      <td>-</td>\n",
       "      <td>6.792998</td>\n",
       "      <td>GCTTAGTCAC</td>\n",
       "      <td>0.356936</td>\n",
       "    </tr>\n",
       "    <tr>\n",
       "      <th>61721</th>\n",
       "      <td>chrY</td>\n",
       "      <td>13218725</td>\n",
       "      <td>13218734</td>\n",
       "      <td>-</td>\n",
       "      <td>8.660520</td>\n",
       "      <td>GGTGACTCAC</td>\n",
       "      <td>0.534028</td>\n",
       "    </tr>\n",
       "    <tr>\n",
       "      <th>61723</th>\n",
       "      <td>chrY</td>\n",
       "      <td>7588374</td>\n",
       "      <td>7588383</td>\n",
       "      <td>-</td>\n",
       "      <td>6.152007</td>\n",
       "      <td>GCTTACTCAC</td>\n",
       "      <td>0.285306</td>\n",
       "    </tr>\n",
       "  </tbody>\n",
       "</table>\n",
       "<p>29840 rows × 7 columns</p>\n",
       "</div>"
      ],
      "text/plain": [
       "         chr     start       end strand     score         seq       imp\n",
       "1      chr17  33487649  33487658      -  6.974161  TTTGAGTCAC  0.368245\n",
       "3      chr17  46474674  46474683      +  8.923917  GTGAGTCATG  0.577262\n",
       "4      chr17  70057186  70057195      +  8.479893  ATGACTCAAC  0.323845\n",
       "6      chr17  19642881  19642890      -  7.221008  GATTAGTCAC  0.311039\n",
       "11     chr13  32056511  32056520      +  6.278644  ATGACACATT  0.274024\n",
       "...      ...       ...       ...    ...       ...         ...       ...\n",
       "61715   chrY  15405628  15405637      +  8.495907  GTGAGTCAGG  0.456366\n",
       "61716   chrY   7858109   7858118      -  9.486049  AATGAGTCAC  0.890239\n",
       "61719   chrY  12833476  12833485      -  6.792998  GCTTAGTCAC  0.356936\n",
       "61721   chrY  13218725  13218734      -  8.660520  GGTGACTCAC  0.534028\n",
       "61723   chrY   7588374   7588383      -  6.152007  GCTTACTCAC  0.285306\n",
       "\n",
       "[29840 rows x 7 columns]"
      ]
     },
     "execution_count": 84,
     "metadata": {},
     "output_type": "execute_result"
    }
   ],
   "source": [
    "imp_thresholded_scans[\"AP1\"]"
   ]
  },
  {
   "cell_type": "code",
   "execution_count": null,
   "metadata": {},
   "outputs": [],
   "source": []
  },
  {
   "cell_type": "code",
   "execution_count": null,
   "metadata": {},
   "outputs": [],
   "source": []
  },
  {
   "cell_type": "code",
   "execution_count": null,
   "metadata": {},
   "outputs": [],
   "source": []
  },
  {
   "cell_type": "code",
   "execution_count": 87,
   "metadata": {},
   "outputs": [],
   "source": [
    "old_os_scan = pd.read_csv(\"../../analysis/20210520_spacing_in_data/scanning/tfmodisco_cluster_idx4_gc_neg_peak_set_8_10_11_13/high_OSK.not.fibr.1000.OCTSOX.bed\".format(motif), sep='\\t', names=SCAN_SCHEMA)"
   ]
  },
  {
   "cell_type": "code",
   "execution_count": 89,
   "metadata": {},
   "outputs": [
    {
     "name": "stderr",
     "output_type": "stream",
     "text": [
      "100%|██████████| 10000/10000 [00:02<00:00, 4532.30it/s]\n"
     ]
    },
    {
     "data": {
      "text/plain": [
       "0.3464563995762729"
      ]
     },
     "execution_count": 89,
     "metadata": {},
     "output_type": "execute_result"
    }
   ],
   "source": [
    "get_perc(high_osk_imp_bw, regions, 14, .99, N=10000)"
   ]
  },
  {
   "cell_type": "code",
   "execution_count": 91,
   "metadata": {},
   "outputs": [
    {
     "name": "stderr",
     "output_type": "stream",
     "text": [
      "100%|██████████| 398249/398249 [02:10<00:00, 3059.88it/s]\n"
     ]
    }
   ],
   "source": [
    "imp_vals = []\n",
    "for _,x in tqdm.tqdm(old_os_scan.iterrows(), total=old_os_scan.shape[0]):\n",
    "    imp_vals.append(np.sum(np.maximum(np.nan_to_num(high_osk_imp_bw.values(x['chr'], x['start'], x['end'])),0)))\n",
    "        \n",
    "old_os_scan['imp'] = imp_vals\n",
    "\n",
    "imp_thresholded_old_scan = old_os_scan[old_os_scan['imp']>.346]"
   ]
  },
  {
   "cell_type": "code",
   "execution_count": 92,
   "metadata": {},
   "outputs": [
    {
     "data": {
      "text/plain": [
       "(48077, 7)"
      ]
     },
     "execution_count": 92,
     "metadata": {},
     "output_type": "execute_result"
    }
   ],
   "source": [
    "imp_thresholded_old_scan.shape"
   ]
  },
  {
   "cell_type": "code",
   "execution_count": 93,
   "metadata": {},
   "outputs": [],
   "source": [
    "imp_thresholded_old_scan.to_csv(\"./tmp/OCTSOX.old.scan.agg.imp.thresholded.tsv\", \n",
    "                                                        sep ='\\t', index=False)"
   ]
  },
  {
   "cell_type": "code",
   "execution_count": null,
   "metadata": {},
   "outputs": [],
   "source": []
  }
 ],
 "metadata": {
  "kernelspec": {
   "display_name": "Python 3",
   "language": "python",
   "name": "python3"
  },
  "language_info": {
   "codemirror_mode": {
    "name": "ipython",
    "version": 3
   },
   "file_extension": ".py",
   "mimetype": "text/x-python",
   "name": "python",
   "nbconvert_exporter": "python",
   "pygments_lexer": "ipython3",
   "version": "3.7.6"
  }
 },
 "nbformat": 4,
 "nbformat_minor": 4
}
