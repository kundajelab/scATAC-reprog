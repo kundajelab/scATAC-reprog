{
 "cells": [
  {
   "cell_type": "markdown",
   "metadata": {},
   "source": [
    "# Find Threshold\n",
    "\n",
    "Using canonical AP1 motifs and OS, S and K from BPNet. Find appropriate log-odds threshold by scoring modisco hits."
   ]
  },
  {
   "cell_type": "code",
   "execution_count": 114,
   "metadata": {},
   "outputs": [],
   "source": [
    "import modisco\n",
    "import h5py\n",
    "import deepdish\n",
    "import intervaltree\n",
    "from collections import defaultdict, OrderedDict, Counter\n",
    "from modisco.visualization import viz_sequence\n",
    "import matplotlib\n",
    "\n",
    "# for pdf text saving \n",
    "matplotlib.rcParams['pdf.fonttype'] = 42\n",
    "\n",
    "from matplotlib import pyplot as plt\n",
    "import numpy as np\n",
    "import tqdm\n",
    "import modisco\n",
    "from modisco.visualization import viz_sequence\n",
    "import tqdm\n",
    "import pyBigWig\n",
    "import pyfaidx\n",
    "from math import ceil"
   ]
  },
  {
   "cell_type": "code",
   "execution_count": 2,
   "metadata": {},
   "outputs": [
    {
     "name": "stderr",
     "output_type": "stream",
     "text": [
      "Using TensorFlow backend.\n",
      "/users/surag/anaconda3/envs/mtbatchgen/lib/python3.7/site-packages/tensorflow/python/framework/dtypes.py:516: FutureWarning: Passing (type, 1) or '1type' as a synonym of type is deprecated; in a future version of numpy, it will be understood as (type, (1,)) / '(1,)type'.\n",
      "  _np_qint8 = np.dtype([(\"qint8\", np.int8, 1)])\n",
      "/users/surag/anaconda3/envs/mtbatchgen/lib/python3.7/site-packages/tensorflow/python/framework/dtypes.py:517: FutureWarning: Passing (type, 1) or '1type' as a synonym of type is deprecated; in a future version of numpy, it will be understood as (type, (1,)) / '(1,)type'.\n",
      "  _np_quint8 = np.dtype([(\"quint8\", np.uint8, 1)])\n",
      "/users/surag/anaconda3/envs/mtbatchgen/lib/python3.7/site-packages/tensorflow/python/framework/dtypes.py:518: FutureWarning: Passing (type, 1) or '1type' as a synonym of type is deprecated; in a future version of numpy, it will be understood as (type, (1,)) / '(1,)type'.\n",
      "  _np_qint16 = np.dtype([(\"qint16\", np.int16, 1)])\n",
      "/users/surag/anaconda3/envs/mtbatchgen/lib/python3.7/site-packages/tensorflow/python/framework/dtypes.py:519: FutureWarning: Passing (type, 1) or '1type' as a synonym of type is deprecated; in a future version of numpy, it will be understood as (type, (1,)) / '(1,)type'.\n",
      "  _np_quint16 = np.dtype([(\"quint16\", np.uint16, 1)])\n",
      "/users/surag/anaconda3/envs/mtbatchgen/lib/python3.7/site-packages/tensorflow/python/framework/dtypes.py:520: FutureWarning: Passing (type, 1) or '1type' as a synonym of type is deprecated; in a future version of numpy, it will be understood as (type, (1,)) / '(1,)type'.\n",
      "  _np_qint32 = np.dtype([(\"qint32\", np.int32, 1)])\n",
      "/users/surag/anaconda3/envs/mtbatchgen/lib/python3.7/site-packages/tensorflow/python/framework/dtypes.py:525: FutureWarning: Passing (type, 1) or '1type' as a synonym of type is deprecated; in a future version of numpy, it will be understood as (type, (1,)) / '(1,)type'.\n",
      "  np_resource = np.dtype([(\"resource\", np.ubyte, 1)])\n"
     ]
    }
   ],
   "source": [
    "import keras\n",
    "from keras.utils import CustomObjectScope\n",
    "\n",
    "import sys\n",
    "sys.path.append(\"/users/surag/kundajelab/chrombpnet-lite/src/\")\n",
    "from utils.loss import multinomial_nll\n",
    "from utils import one_hot\n",
    "from pathlib import Path\n",
    "import pandas as pd"
   ]
  },
  {
   "cell_type": "code",
   "execution_count": 3,
   "metadata": {},
   "outputs": [
    {
     "name": "stdout",
     "output_type": "stream",
     "text": [
      "modisco==0.5.14.0\n"
     ]
    }
   ],
   "source": [
    "!pip freeze | grep modisco"
   ]
  },
  {
   "cell_type": "code",
   "execution_count": 4,
   "metadata": {},
   "outputs": [],
   "source": [
    "import os"
   ]
  },
  {
   "cell_type": "code",
   "execution_count": 5,
   "metadata": {},
   "outputs": [],
   "source": [
    "os.environ[\"HDF5_USE_FILE_LOCKING\"] = \"FALSE\""
   ]
  },
  {
   "cell_type": "code",
   "execution_count": 6,
   "metadata": {},
   "outputs": [],
   "source": [
    "def revcomp(x):\n",
    "    # Assuming ACGT\n",
    "    return x[::-1][:,::-1]"
   ]
  },
  {
   "cell_type": "markdown",
   "metadata": {},
   "source": [
    "## Load Canonical Motifs\n",
    "\n",
    "These are motifs from external sources (e.g. ChIP-seq/BPNet) that will be used to call instances. We need to find reasonable thresholds for them."
   ]
  },
  {
   "cell_type": "code",
   "execution_count": 25,
   "metadata": {},
   "outputs": [],
   "source": [
    "KLF_canonical = np.loadtxt(\"./motif_scans/motifs/Klf4.txt\")\n",
    "SOX_canonical = np.loadtxt(\"./motif_scans/motifs/Sox2.txt\")\n",
    "OS_canonical = np.loadtxt(\"./motif_scans/motifs/Oct4-Sox2.txt\")\n",
    "AP1_canonical = np.loadtxt(\"./motif_scans/motifs/AP1.txt\")"
   ]
  },
  {
   "cell_type": "markdown",
   "metadata": {},
   "source": [
    "## Load Motif Data"
   ]
  },
  {
   "cell_type": "code",
   "execution_count": null,
   "metadata": {},
   "outputs": [],
   "source": []
  },
  {
   "cell_type": "code",
   "execution_count": 8,
   "metadata": {},
   "outputs": [],
   "source": [
    "# will crop to this region around center (summit of peak) [this is what was done for this data when modisco was called]\n",
    "MODISCO_CROP_WIDTH = 500"
   ]
  },
  {
   "cell_type": "code",
   "execution_count": 9,
   "metadata": {},
   "outputs": [],
   "source": [
    "hg38 = pyfaidx.Fasta(\"/users/surag/genomes/hg38/GRCh38_no_alt_analysis_set_GCA_000001405.15.fasta\")"
   ]
  },
  {
   "cell_type": "code",
   "execution_count": 10,
   "metadata": {},
   "outputs": [],
   "source": [
    "def get_regions(regions_file, crop_width):\n",
    "    with open(regions_file) as f:\n",
    "        scored_regions = [x.strip().split('\\t') for x in f]\n",
    "\n",
    "    # importance scores are computed centered at summit (2nd col + 10th col)\n",
    "    scored_regions = [(x[0], int(x[9])+int(x[1])-crop_width//2, int(x[9])+int(x[1])+crop_width//2) for x in scored_regions]\n",
    "    \n",
    "    return scored_regions"
   ]
  },
  {
   "cell_type": "code",
   "execution_count": 30,
   "metadata": {},
   "outputs": [],
   "source": [
    "def fetch_data(modisco_hdf5, pattern_name, pattern_start, pattern_end,\n",
    "               imp_scores, regions, modisco_crop_width, genome, \n",
    "               rc_everything=False, expand_bw=100):\n",
    "    \"\"\"\n",
    "    this function basically goes through the seqlets of a given pattern (pattern_name)\n",
    "    it pulls out raw shap scores for each seqlet, its coordinates, whether it's RC-ed,\n",
    "    its subcluster indices\n",
    "    also pulls out raw insertions for each seqlet (out expand_bw on both sides), and same\n",
    "    for predicted profiles w/ and w/o bias \n",
    "    \n",
    "    returned seqlets all have the same orientation!\n",
    "    pattern_start -> start of pattern within seqlet ([0,seqlen_len)]\n",
    "    pattern_end-> start of pattern within seqlen ((pattern_start,seqlen_len)]\n",
    "    \"\"\"\n",
    "    \n",
    "    assert(len(regions)==imp_scores['shap']['seq'].shape[0])\n",
    "    \n",
    "    # region sliced out and used for modisco\n",
    "    imp_width = imp_scores['shap']['seq'].shape[-1]\n",
    "    imp_crop_start = imp_width//2 - modisco_crop_width//2\n",
    "    imp_crop_end = imp_width//2 + modisco_crop_width//2\n",
    "    \n",
    "    pattern = modisco_hdf5['metacluster_idx_to_submetacluster_results']['metacluster_0']['seqlets_to_patterns_result']['patterns'][pattern_name]\n",
    "    \n",
    "    seqlet_len = pattern[\"sequence\"][\"fwd\"].shape[0]\n",
    "    \n",
    "    subcluster_idxs = np.array(list(pattern[\"subclusters\"]))\n",
    "    \n",
    "    seqlet_coords = []\n",
    "    seqlet_is_rc = []\n",
    "    seqlet_shaps = []\n",
    "    seqlet_one_hots = []\n",
    "    \n",
    "    # fetch info from the bigwigs where the seqlets are present\n",
    "    for i in tqdm.trange(len(pattern['seqlets_and_alnmts']['seqlets'])):\n",
    "        x = pattern['seqlets_and_alnmts']['seqlets'][i]\n",
    "        \n",
    "        # index into regions/imp_scores, i.e. which entry in regions does each seqlet come from\n",
    "        idx = int(x.decode('utf8').split(',')[0].split(':')[1])\n",
    "        start = int(x.decode('utf8').split(',')[1].split(':')[1])\n",
    "        rc = eval(x.decode('utf8').split(',')[3].split(':')[1])\n",
    "\n",
    "        reg = regions[idx]\n",
    "\n",
    "        cur_proj_shap_scores = imp_scores['projected_shap']['seq'][idx][:, imp_crop_start:imp_crop_end].transpose()\n",
    "        cur_one_hot = imp_scores['raw']['seq'][idx][:, imp_crop_start:imp_crop_end].transpose()\n",
    "\n",
    "        seqlet_is_rc.append(rc)\n",
    "        \n",
    "        if rc:\n",
    "            seqlet_shaps.append(revcomp(cur_proj_shap_scores[start+(seqlet_len-pattern_end):start+(seqlet_len-pattern_start)]))\n",
    "            seqlet_one_hots.append(revcomp(cur_one_hot[start+(seqlet_len-pattern_end):start+(seqlet_len-pattern_start)]))\n",
    "\n",
    "            start_coord = reg[1]+start+(seqlet_len-pattern_end)\n",
    "            end_coord = reg[1]+start+(seqlet_len-pattern_start)\n",
    "            seqlet_coords.append([reg[0], start_coord, end_coord])\n",
    "        \n",
    "        else:\n",
    "            seqlet_shaps.append(cur_proj_shap_scores[start+pattern_start:start+pattern_end])\n",
    "            seqlet_one_hots.append(cur_one_hot[start+pattern_start:start+pattern_end])\n",
    "            \n",
    "            start_coord = reg[1]+start+pattern_start\n",
    "            end_coord = reg[1]+start+pattern_end\n",
    "            seqlet_coords.append([reg[0], start_coord, end_coord])\n",
    "            \n",
    "    # RC-ing all instances\n",
    "    seqlet_shaps = np.array(seqlet_shaps) #[:,::-1,::-1]\n",
    "    seqlet_one_hots = np.array(seqlet_one_hots)  # [:,::-1,::-1]\n",
    "    \n",
    "    if rc_everything:\n",
    "        seqlet_shaps = seqlet_shaps[:, ::-1, ::-1]\n",
    "        seqlet_one_hots = seqlet_one_hots[:, ::-1, ::-1]\n",
    "        seqlet_pred_wo_bias = seqlet_pred_wo_bias[:, ::-1]\n",
    "        seqlet_pred_w_bias = seqlet_pred_w_bias[:, ::-1]\n",
    "        seqlet_insertions = seqlet_insertions[:, ::-1]\n",
    "    \n",
    "    return seqlet_coords, seqlet_is_rc, subcluster_idxs, seqlet_shaps, seqlet_one_hots"
   ]
  },
  {
   "cell_type": "markdown",
   "metadata": {},
   "source": [
    "### High OSK MoDISco [OCT-SOX, KLF and SOX motifs]"
   ]
  },
  {
   "cell_type": "code",
   "execution_count": 13,
   "metadata": {},
   "outputs": [],
   "source": [
    "HIGH_OSK_MODISCO_PATH = \"/users/surag/oak/projects/scATAC-reprog/bpnet/models/20210820_chrombpnet_lite/chrombpnet/cluster_idx11/modisco/modisco_results_allChroms_counts.hdf5\"\n",
    "HIGH_OSK_HDF5_PATH = \"/users/surag/oak/projects/scATAC-reprog/bpnet/models/20210820_chrombpnet_lite/chrombpnet/cluster_idx11/interpret/counts_scores.h5\"\n",
    "HIGH_OSK_REG_PATH = \"/users/surag/oak/projects/scATAC-reprog/bpnet/models/20210820_chrombpnet_lite/chrombpnet/cluster_idx11/interpret/interpreted_regions.bed\""
   ]
  },
  {
   "cell_type": "code",
   "execution_count": 14,
   "metadata": {},
   "outputs": [],
   "source": [
    "high_OSK_modisco = h5py.File(HIGH_OSK_MODISCO_PATH, 'r')"
   ]
  },
  {
   "cell_type": "code",
   "execution_count": 15,
   "metadata": {},
   "outputs": [],
   "source": [
    "high_OSK_imp_scores = deepdish.io.load(HIGH_OSK_HDF5_PATH)"
   ]
  },
  {
   "cell_type": "code",
   "execution_count": 16,
   "metadata": {},
   "outputs": [],
   "source": [
    "high_OSK_regions = get_regions(HIGH_OSK_REG_PATH, MODISCO_CROP_WIDTH)"
   ]
  },
  {
   "cell_type": "code",
   "execution_count": 15,
   "metadata": {},
   "outputs": [],
   "source": [
    "# patterns\n",
    "\n",
    "# These coordinates are slightly different from those in other notebook since they will match the size of the BPNet motifs (OS, S, K)\n",
    "\n",
    "# OS: pattern_0 : 8 - 24\n",
    "# KLF: pattern_1 : 6 - 16"
   ]
  },
  {
   "cell_type": "code",
   "execution_count": 31,
   "metadata": {},
   "outputs": [
    {
     "name": "stderr",
     "output_type": "stream",
     "text": [
      "100%|██████████| 6288/6288 [00:01<00:00, 3385.06it/s]\n"
     ]
    }
   ],
   "source": [
    "KLF_coords, KLF_is_rc, \\\n",
    "KLF_subcluster_idxs, \\\n",
    "KLF_shaps, KLF_one_hots = \\\n",
    "        fetch_data(high_OSK_modisco, \"pattern_1\", 6, 16,\n",
    "                   high_OSK_imp_scores, high_OSK_regions, \n",
    "                   MODISCO_CROP_WIDTH, hg38, rc_everything=False, expand_bw=100)"
   ]
  },
  {
   "cell_type": "code",
   "execution_count": 32,
   "metadata": {},
   "outputs": [
    {
     "data": {
      "image/png": "[encoded data removed]",
      "text/plain": [
       "<Figure size 432x72 with 1 Axes>"
      ]
     },
     "metadata": {
      "needs_background": "light"
     },
     "output_type": "display_data"
    },
    {
     "data": {
      "image/png": "[encoded data removed]",
      "text/plain": [
       "<Figure size 432x72 with 1 Axes>"
      ]
     },
     "metadata": {
      "needs_background": "light"
     },
     "output_type": "display_data"
    }
   ],
   "source": [
    "viz_sequence.plot_weights(viz_sequence.ic_scale(KLF_canonical, background=[0.25]*4), figsize=(6,1))\n",
    "viz_sequence.plot_weights(viz_sequence.ic_scale(KLF_one_hots.mean(0), background=[0.25]*4), figsize=(6,1))"
   ]
  },
  {
   "cell_type": "code",
   "execution_count": 39,
   "metadata": {},
   "outputs": [
    {
     "name": "stderr",
     "output_type": "stream",
     "text": [
      "100%|██████████| 9502/9502 [00:02<00:00, 3317.94it/s]\n"
     ]
    }
   ],
   "source": [
    "OS_coords, OS_is_rc, \\\n",
    "OS_subcluster_idxs, \\\n",
    "OS_shaps, OS_one_hots = \\\n",
    "        fetch_data(high_OSK_modisco, \"pattern_0\", 7, 23,\n",
    "                   high_OSK_imp_scores, high_OSK_regions, \n",
    "                   MODISCO_CROP_WIDTH, hg38, rc_everything=False, expand_bw=100)"
   ]
  },
  {
   "cell_type": "code",
   "execution_count": 40,
   "metadata": {},
   "outputs": [
    {
     "data": {
      "image/png": "[encoded data removed]",
      "text/plain": [
       "<Figure size 432x72 with 1 Axes>"
      ]
     },
     "metadata": {
      "needs_background": "light"
     },
     "output_type": "display_data"
    },
    {
     "data": {
      "image/png": "[encoded data removed]",
      "text/plain": [
       "<Figure size 432x72 with 1 Axes>"
      ]
     },
     "metadata": {
      "needs_background": "light"
     },
     "output_type": "display_data"
    }
   ],
   "source": [
    "viz_sequence.plot_weights(viz_sequence.ic_scale(OS_canonical, background=[0.25]*4), figsize=(6,1))\n",
    "viz_sequence.plot_weights(viz_sequence.ic_scale(OS_one_hots.mean(0), background=[0.25]*4), figsize=(6,1))"
   ]
  },
  {
   "cell_type": "code",
   "execution_count": 45,
   "metadata": {},
   "outputs": [
    {
     "name": "stderr",
     "output_type": "stream",
     "text": [
      "100%|██████████| 585/585 [00:00<00:00, 2656.68it/s]\n"
     ]
    }
   ],
   "source": [
    "SOX_coords, SOX_is_rc, \\\n",
    "SOX_subcluster_idxs, \\\n",
    "SOX_shaps, SOX_one_hots = \\\n",
    "        fetch_data(high_OSK_modisco, \"pattern_4\", 0, 16,\n",
    "                   high_OSK_imp_scores, high_OSK_regions, \n",
    "                   MODISCO_CROP_WIDTH, hg38, rc_everything=False, expand_bw=100)"
   ]
  },
  {
   "cell_type": "code",
   "execution_count": 46,
   "metadata": {},
   "outputs": [
    {
     "data": {
      "image/png": "[encoded data removed]",
      "text/plain": [
       "<Figure size 432x72 with 1 Axes>"
      ]
     },
     "metadata": {
      "needs_background": "light"
     },
     "output_type": "display_data"
    },
    {
     "data": {
      "image/png": "[encoded data removed]",
      "text/plain": [
       "<Figure size 432x72 with 1 Axes>"
      ]
     },
     "metadata": {
      "needs_background": "light"
     },
     "output_type": "display_data"
    }
   ],
   "source": [
    "viz_sequence.plot_weights(viz_sequence.ic_scale(SOX_canonical, background=[0.25]*4), figsize=(6,1))\n",
    "viz_sequence.plot_weights(viz_sequence.ic_scale(SOX_one_hots.mean(0), background=[0.25]*4), figsize=(6,1))"
   ]
  },
  {
   "cell_type": "code",
   "execution_count": null,
   "metadata": {},
   "outputs": [],
   "source": []
  },
  {
   "cell_type": "markdown",
   "metadata": {},
   "source": [
    "## Computing log-odds scores"
   ]
  },
  {
   "cell_type": "code",
   "execution_count": 53,
   "metadata": {},
   "outputs": [],
   "source": [
    "KLF_canonical_logodds_mat = np.log((KLF_canonical+1e-10)/0.25)\n",
    "OS_canonical_logodds_mat = np.log((OS_canonical+1e-10)/0.25)\n",
    "SOX_canonical_logodds_mat = np.log((SOX_canonical+1e-10)/0.25)"
   ]
  },
  {
   "cell_type": "code",
   "execution_count": 54,
   "metadata": {},
   "outputs": [],
   "source": [
    "KLF_log_odd_scores = np.sum(KLF_one_hots*KLF_canonical_logodds_mat, axis=(1,2))\n",
    "OS_log_odd_scores = np.sum(OS_one_hots*OS_canonical_logodds_mat, axis=(1,2))\n",
    "SOX_log_odd_scores = np.sum(SOX_one_hots*SOX_canonical_logodds_mat, axis=(1,2))"
   ]
  },
  {
   "cell_type": "code",
   "execution_count": 63,
   "metadata": {},
   "outputs": [
    {
     "data": {
      "text/plain": [
       "(2.437392685854692, 4.230618897170591, 3.4201309602242116)"
      ]
     },
     "execution_count": 63,
     "metadata": {},
     "output_type": "execute_result"
    }
   ],
   "source": [
    "np.quantile(KLF_log_odd_scores, .1), np.quantile(OS_log_odd_scores, .1), np.quantile(SOX_log_odd_scores, .1)"
   ]
  },
  {
   "cell_type": "code",
   "execution_count": 64,
   "metadata": {},
   "outputs": [
    {
     "data": {
      "image/png": "[encoded data removed]",
      "text/plain": [
       "<Figure size 432x288 with 1 Axes>"
      ]
     },
     "metadata": {
      "needs_background": "light"
     },
     "output_type": "display_data"
    }
   ],
   "source": [
    "plt.hist(KLF_log_odd_scores, bins=40)\n",
    "plt.show()"
   ]
  },
  {
   "cell_type": "code",
   "execution_count": 65,
   "metadata": {},
   "outputs": [
    {
     "data": {
      "image/png": "[encoded data removed]",
      "text/plain": [
       "<Figure size 432x288 with 1 Axes>"
      ]
     },
     "metadata": {
      "needs_background": "light"
     },
     "output_type": "display_data"
    }
   ],
   "source": [
    "plt.hist(SOX_log_odd_scores, bins=40)\n",
    "plt.show()"
   ]
  },
  {
   "cell_type": "code",
   "execution_count": 110,
   "metadata": {},
   "outputs": [
    {
     "data": {
      "image/png": "[encoded data removed]",
      "text/plain": [
       "<Figure size 432x288 with 1 Axes>"
      ]
     },
     "metadata": {
      "needs_background": "light"
     },
     "output_type": "display_data"
    }
   ],
   "source": [
    "plt.hist(OS_log_odd_scores, bins=40)\n",
    "plt.show()"
   ]
  },
  {
   "cell_type": "code",
   "execution_count": 105,
   "metadata": {},
   "outputs": [],
   "source": [
    "pwm_dict = {\"KLF\": {\"pwm\": KLF_canonical, \"scores\": KLF_log_odd_scores},\n",
    "            \"OCTSOX\": {\"pwm\": OS_canonical, \"scores\": OS_log_odd_scores},\n",
    "            \"SOX\": {\"pwm\": SOX_canonical, \"scores\": SOX_log_odd_scores}}\n",
    "\n",
    "for x in pwm_dict:\n",
    "    with open(\"./motif_scans/motifs/{}.adjusted.motif\".format(x), 'w') as f:\n",
    "        f.write(\">{}\\t{}\\t{}\\t-\\t-\\t-\\n\".format(x,x,np.quantile(pwm_dict[x][\"scores\"], 0.1)))\n",
    "        for y in pwm_dict[x][\"pwm\"]:\n",
    "            f.write(\"\\t\".join([str(v) for v in y]) + \"\\n\")"
   ]
  },
  {
   "cell_type": "code",
   "execution_count": null,
   "metadata": {},
   "outputs": [],
   "source": []
  },
  {
   "cell_type": "markdown",
   "metadata": {},
   "source": [
    "## AP1"
   ]
  },
  {
   "cell_type": "code",
   "execution_count": 66,
   "metadata": {},
   "outputs": [],
   "source": [
    "FIBR_MODISCO_PATH = \"/users/surag/oak/projects/scATAC-reprog/bpnet/models/20210820_chrombpnet_lite/chrombpnet/cluster_idx1/modisco/modisco_results_allChroms_counts.hdf5\"\n",
    "FIBR_HDF5_PATH = \"/users/surag/oak/projects/scATAC-reprog/bpnet/models/20210820_chrombpnet_lite/chrombpnet/cluster_idx1/interpret/counts_scores.h5\"\n",
    "FIBR_REG_PATH = \"/users/surag/oak/projects/scATAC-reprog/bpnet/models/20210820_chrombpnet_lite/chrombpnet/cluster_idx1/interpret/interpreted_regions.bed\""
   ]
  },
  {
   "cell_type": "code",
   "execution_count": 67,
   "metadata": {},
   "outputs": [],
   "source": [
    "fibr_modisco = h5py.File(FIBR_MODISCO_PATH, 'r')"
   ]
  },
  {
   "cell_type": "code",
   "execution_count": null,
   "metadata": {},
   "outputs": [],
   "source": [
    "fibr_imp_scores = deepdish.io.load(FIBR_HDF5_PATH)"
   ]
  },
  {
   "cell_type": "code",
   "execution_count": null,
   "metadata": {},
   "outputs": [],
   "source": [
    "fibr_regions = get_regions(FIBR_REG_PATH, MODISCO_CROP_WIDTH)"
   ]
  },
  {
   "cell_type": "code",
   "execution_count": 90,
   "metadata": {},
   "outputs": [
    {
     "name": "stderr",
     "output_type": "stream",
     "text": [
      "100%|██████████| 5056/5056 [00:01<00:00, 3322.26it/s]\n"
     ]
    }
   ],
   "source": [
    "AP1_coords, AP1_is_rc, \\\n",
    "AP1_subcluster_idxs, \\\n",
    "AP1_shaps, AP1_one_hots = \\\n",
    "        fetch_data(fibr_modisco, \"pattern_1\", 6, 16,\n",
    "                   fibr_imp_scores, fibr_regions, \n",
    "                   MODISCO_CROP_WIDTH, hg38, rc_everything=False, expand_bw=100)"
   ]
  },
  {
   "cell_type": "code",
   "execution_count": 91,
   "metadata": {},
   "outputs": [
    {
     "data": {
      "image/png": "[encoded data removed]",
      "text/plain": [
       "<Figure size 432x72 with 1 Axes>"
      ]
     },
     "metadata": {
      "needs_background": "light"
     },
     "output_type": "display_data"
    },
    {
     "data": {
      "image/png": "[encoded data removed]",
      "text/plain": [
       "<Figure size 432x72 with 1 Axes>"
      ]
     },
     "metadata": {
      "needs_background": "light"
     },
     "output_type": "display_data"
    }
   ],
   "source": [
    "viz_sequence.plot_weights(viz_sequence.ic_scale(AP1_canonical, background=[0.25]*4), figsize=(6,1))\n",
    "viz_sequence.plot_weights(viz_sequence.ic_scale(AP1_one_hots.mean(0), background=[0.25]*4), figsize=(6,1))"
   ]
  },
  {
   "cell_type": "code",
   "execution_count": 92,
   "metadata": {},
   "outputs": [],
   "source": [
    "AP1_logodds_mat = np.log((AP1_canonical+1e-10)/0.25)"
   ]
  },
  {
   "cell_type": "code",
   "execution_count": 93,
   "metadata": {},
   "outputs": [],
   "source": [
    "AP1_log_odd_scores = np.sum(AP1_one_hots*AP1_logodds_mat, axis=(1,2))"
   ]
  },
  {
   "cell_type": "code",
   "execution_count": 94,
   "metadata": {},
   "outputs": [
    {
     "data": {
      "image/png": "[encoded data removed]",
      "text/plain": [
       "<Figure size 432x288 with 1 Axes>"
      ]
     },
     "metadata": {
      "needs_background": "light"
     },
     "output_type": "display_data"
    }
   ],
   "source": [
    "plt.hist(AP1_log_odd_scores, bins=40)\n",
    "plt.show()"
   ]
  },
  {
   "cell_type": "code",
   "execution_count": 95,
   "metadata": {},
   "outputs": [
    {
     "data": {
      "text/plain": [
       "6.121883562003923"
      ]
     },
     "execution_count": 95,
     "metadata": {},
     "output_type": "execute_result"
    }
   ],
   "source": [
    "np.quantile(AP1_log_odd_scores, .1)"
   ]
  },
  {
   "cell_type": "code",
   "execution_count": 106,
   "metadata": {},
   "outputs": [],
   "source": [
    "pwm_dict = {\"AP1\": {\"pwm\": AP1_canonical, \"scores\": AP1_log_odd_scores}}\n",
    "\n",
    "for x in pwm_dict:\n",
    "    with open(\"./motif_scans/motifs/{}.adjusted.motif\".format(x), 'w') as f:\n",
    "        f.write(\">{}\\t{}\\t{}\\t-\\t-\\t-\\n\".format(x,x,np.quantile(pwm_dict[x][\"scores\"], 0.1)))\n",
    "        for y in pwm_dict[x][\"pwm\"]:\n",
    "            f.write(\"\\t\".join([str(v) for v in y]) + \"\\n\")"
   ]
  },
  {
   "cell_type": "code",
   "execution_count": null,
   "metadata": {},
   "outputs": [],
   "source": []
  },
  {
   "cell_type": "code",
   "execution_count": null,
   "metadata": {},
   "outputs": [],
   "source": []
  },
  {
   "cell_type": "markdown",
   "metadata": {},
   "source": [
    "---"
   ]
  },
  {
   "cell_type": "code",
   "execution_count": null,
   "metadata": {},
   "outputs": [],
   "source": []
  },
  {
   "cell_type": "code",
   "execution_count": null,
   "metadata": {},
   "outputs": [],
   "source": []
  }
 ],
 "metadata": {
  "kernelspec": {
   "display_name": "Python 3",
   "language": "python",
   "name": "python3"
  },
  "language_info": {
   "codemirror_mode": {
    "name": "ipython",
    "version": 3
   },
   "file_extension": ".py",
   "mimetype": "text/x-python",
   "name": "python",
   "nbconvert_exporter": "python",
   "pygments_lexer": "ipython3",
   "version": "3.7.6"
  }
 },
 "nbformat": 4,
 "nbformat_minor": 4
}
