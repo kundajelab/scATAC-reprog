{
 "cells": [
  {
   "cell_type": "markdown",
   "metadata": {},
   "source": [
    "# OSKM Per State per Day\n",
    "\n",
    "Compute per state expression of total O/S/K for ChromVAR plots.\n",
    "\n",
    "Inputs:\n",
    "1. RNA Seurat object\n",
    "2. Configs\n",
    "3. RNA -> ATAC labels"
   ]
  },
  {
   "cell_type": "code",
   "execution_count": 1,
   "metadata": {},
   "outputs": [
    {
     "name": "stderr",
     "output_type": "stream",
     "text": [
      "\n",
      "Attaching package: ‘dplyr’\n",
      "\n",
      "\n",
      "The following objects are masked from ‘package:stats’:\n",
      "\n",
      "    filter, lag\n",
      "\n",
      "\n",
      "The following objects are masked from ‘package:base’:\n",
      "\n",
      "    intersect, setdiff, setequal, union\n",
      "\n",
      "\n"
     ]
    }
   ],
   "source": [
    "library(ggplot2)\n",
    "library(Seurat)\n",
    "library(scales)\n",
    "library(dplyr)\n",
    "library(patchwork)"
   ]
  },
  {
   "cell_type": "code",
   "execution_count": 2,
   "metadata": {},
   "outputs": [],
   "source": [
    "DAYS = c(\"D0\", \"D2\" , \"D4\", \"D6\", \"D8\", \"D10\", \"D12\", \"D14\", \"iPSC\")"
   ]
  },
  {
   "cell_type": "markdown",
   "metadata": {},
   "source": [
    "### Seurat Object"
   ]
  },
  {
   "cell_type": "code",
   "execution_count": 3,
   "metadata": {},
   "outputs": [],
   "source": [
    "rna = readRDS(\"../../analysis/20200828_RNA_Seurat/sessions/20210725_n59378/seurat.rds\")"
   ]
  },
  {
   "cell_type": "markdown",
   "metadata": {},
   "source": [
    "### Configs"
   ]
  },
  {
   "cell_type": "code",
   "execution_count": 4,
   "metadata": {},
   "outputs": [
    {
     "data": {
      "text/html": [
       "<table>\n",
       "<caption>A data.frame: 15 × 4</caption>\n",
       "<thead>\n",
       "\t<tr><th scope=col>cluster</th><th scope=col>colour</th><th scope=col>description</th><th scope=col>new_cluster</th></tr>\n",
       "\t<tr><th scope=col>&lt;int&gt;</th><th scope=col>&lt;chr&gt;</th><th scope=col>&lt;chr&gt;</th><th scope=col>&lt;int&gt;</th></tr>\n",
       "</thead>\n",
       "<tbody>\n",
       "\t<tr><td> 1</td><td>#B03743</td><td>Fibroblast            </td><td> 1</td></tr>\n",
       "\t<tr><td> 2</td><td>#E85F6D</td><td>Fibroblast-like       </td><td> 3</td></tr>\n",
       "\t<tr><td> 3</td><td>#7C2730</td><td>Fibroblast-like       </td><td> 2</td></tr>\n",
       "\t<tr><td> 4</td><td>#F0A118</td><td>Intermediate          </td><td>12</td></tr>\n",
       "\t<tr><td> 5</td><td>#78A824</td><td>Pre-iPSC              </td><td>13</td></tr>\n",
       "\t<tr><td> 6</td><td>#A6D854</td><td>Pre-iPSC              </td><td>14</td></tr>\n",
       "\t<tr><td> 7</td><td>#F01D35</td><td>Fibroblast-like       </td><td> 5</td></tr>\n",
       "\t<tr><td> 8</td><td>#13C4A3</td><td>iPSC                  </td><td>15</td></tr>\n",
       "\t<tr><td> 9</td><td>#406614</td><td>Partially-reprogrammed</td><td>10</td></tr>\n",
       "\t<tr><td>10</td><td>#D4B81C</td><td>Intermediate          </td><td> 9</td></tr>\n",
       "\t<tr><td>11</td><td>#006658</td><td>High OSK              </td><td> 8</td></tr>\n",
       "\t<tr><td>12</td><td>#CF175A</td><td>Fibroblast-like       </td><td> 4</td></tr>\n",
       "\t<tr><td>13</td><td>#F7A6C2</td><td>Keratinocyte-like     </td><td> 6</td></tr>\n",
       "\t<tr><td>14</td><td>#F4D5CD</td><td>Intermediate          </td><td>11</td></tr>\n",
       "\t<tr><td>15</td><td>#F0520A</td><td>Low OSK               </td><td> 7</td></tr>\n",
       "</tbody>\n",
       "</table>\n"
      ],
      "text/latex": [
       "A data.frame: 15 × 4\n",
       "\\begin{tabular}{llll}\n",
       " cluster & colour & description & new\\_cluster\\\\\n",
       " <int> & <chr> & <chr> & <int>\\\\\n",
       "\\hline\n",
       "\t  1 & \\#B03743 & Fibroblast             &  1\\\\\n",
       "\t  2 & \\#E85F6D & Fibroblast-like        &  3\\\\\n",
       "\t  3 & \\#7C2730 & Fibroblast-like        &  2\\\\\n",
       "\t  4 & \\#F0A118 & Intermediate           & 12\\\\\n",
       "\t  5 & \\#78A824 & Pre-iPSC               & 13\\\\\n",
       "\t  6 & \\#A6D854 & Pre-iPSC               & 14\\\\\n",
       "\t  7 & \\#F01D35 & Fibroblast-like        &  5\\\\\n",
       "\t  8 & \\#13C4A3 & iPSC                   & 15\\\\\n",
       "\t  9 & \\#406614 & Partially-reprogrammed & 10\\\\\n",
       "\t 10 & \\#D4B81C & Intermediate           &  9\\\\\n",
       "\t 11 & \\#006658 & High OSK               &  8\\\\\n",
       "\t 12 & \\#CF175A & Fibroblast-like        &  4\\\\\n",
       "\t 13 & \\#F7A6C2 & Keratinocyte-like      &  6\\\\\n",
       "\t 14 & \\#F4D5CD & Intermediate           & 11\\\\\n",
       "\t 15 & \\#F0520A & Low OSK                &  7\\\\\n",
       "\\end{tabular}\n"
      ],
      "text/markdown": [
       "\n",
       "A data.frame: 15 × 4\n",
       "\n",
       "| cluster &lt;int&gt; | colour &lt;chr&gt; | description &lt;chr&gt; | new_cluster &lt;int&gt; |\n",
       "|---|---|---|---|\n",
       "|  1 | #B03743 | Fibroblast             |  1 |\n",
       "|  2 | #E85F6D | Fibroblast-like        |  3 |\n",
       "|  3 | #7C2730 | Fibroblast-like        |  2 |\n",
       "|  4 | #F0A118 | Intermediate           | 12 |\n",
       "|  5 | #78A824 | Pre-iPSC               | 13 |\n",
       "|  6 | #A6D854 | Pre-iPSC               | 14 |\n",
       "|  7 | #F01D35 | Fibroblast-like        |  5 |\n",
       "|  8 | #13C4A3 | iPSC                   | 15 |\n",
       "|  9 | #406614 | Partially-reprogrammed | 10 |\n",
       "| 10 | #D4B81C | Intermediate           |  9 |\n",
       "| 11 | #006658 | High OSK               |  8 |\n",
       "| 12 | #CF175A | Fibroblast-like        |  4 |\n",
       "| 13 | #F7A6C2 | Keratinocyte-like      |  6 |\n",
       "| 14 | #F4D5CD | Intermediate           | 11 |\n",
       "| 15 | #F0520A | Low OSK                |  7 |\n",
       "\n"
      ],
      "text/plain": [
       "   cluster colour  description            new_cluster\n",
       "1   1      #B03743 Fibroblast              1         \n",
       "2   2      #E85F6D Fibroblast-like         3         \n",
       "3   3      #7C2730 Fibroblast-like         2         \n",
       "4   4      #F0A118 Intermediate           12         \n",
       "5   5      #78A824 Pre-iPSC               13         \n",
       "6   6      #A6D854 Pre-iPSC               14         \n",
       "7   7      #F01D35 Fibroblast-like         5         \n",
       "8   8      #13C4A3 iPSC                   15         \n",
       "9   9      #406614 Partially-reprogrammed 10         \n",
       "10 10      #D4B81C Intermediate            9         \n",
       "11 11      #006658 High OSK                8         \n",
       "12 12      #CF175A Fibroblast-like         4         \n",
       "13 13      #F7A6C2 Keratinocyte-like       6         \n",
       "14 14      #F4D5CD Intermediate           11         \n",
       "15 15      #F0520A Low OSK                 7         "
      ]
     },
     "metadata": {},
     "output_type": "display_data"
    }
   ],
   "source": [
    "cluster_config = read.table(\"../configs/cluster.tsv\", comment.char = '', header=T, sep='\\t')\n",
    "cluster_config$colour = as.character(cluster_config$colour)\n",
    "cluster_config$description = as.character(cluster_config$description)\n",
    "\n",
    "cluster_config"
   ]
  },
  {
   "cell_type": "markdown",
   "metadata": {},
   "source": [
    "### ATAC-RNA Cluster Transfer"
   ]
  },
  {
   "cell_type": "code",
   "execution_count": 5,
   "metadata": {},
   "outputs": [
    {
     "data": {
      "text/html": [
       "TRUE"
      ],
      "text/latex": [
       "TRUE"
      ],
      "text/markdown": [
       "TRUE"
      ],
      "text/plain": [
       "[1] TRUE"
      ]
     },
     "metadata": {},
     "output_type": "display_data"
    },
    {
     "data": {
      "text/html": [
       "<table>\n",
       "<caption>A data.frame: 6 × 3</caption>\n",
       "<thead>\n",
       "\t<tr><th></th><th scope=col>sample</th><th scope=col>atac_cluster</th><th scope=col>atac_new_cluster</th></tr>\n",
       "\t<tr><th></th><th scope=col>&lt;fct&gt;</th><th scope=col>&lt;int&gt;</th><th scope=col>&lt;int&gt;</th></tr>\n",
       "</thead>\n",
       "<tbody>\n",
       "\t<tr><th scope=row>AAACCCAAGAGTGACC-1</th><td>D0</td><td>1</td><td>1</td></tr>\n",
       "\t<tr><th scope=row>AAACCCAAGTGCCAGA-1</th><td>D0</td><td>1</td><td>1</td></tr>\n",
       "\t<tr><th scope=row>AAACCCACACCATTCC-1</th><td>D0</td><td>1</td><td>1</td></tr>\n",
       "\t<tr><th scope=row>AAACCCACACGCGTCA-1</th><td>D0</td><td>1</td><td>1</td></tr>\n",
       "\t<tr><th scope=row>AAACCCAGTCCATAGT-1</th><td>D0</td><td>1</td><td>1</td></tr>\n",
       "\t<tr><th scope=row>AAACCCAGTTATTCTC-1</th><td>D0</td><td>1</td><td>1</td></tr>\n",
       "</tbody>\n",
       "</table>\n"
      ],
      "text/latex": [
       "A data.frame: 6 × 3\n",
       "\\begin{tabular}{r|lll}\n",
       "  & sample & atac\\_cluster & atac\\_new\\_cluster\\\\\n",
       "  & <fct> & <int> & <int>\\\\\n",
       "\\hline\n",
       "\tAAACCCAAGAGTGACC-1 & D0 & 1 & 1\\\\\n",
       "\tAAACCCAAGTGCCAGA-1 & D0 & 1 & 1\\\\\n",
       "\tAAACCCACACCATTCC-1 & D0 & 1 & 1\\\\\n",
       "\tAAACCCACACGCGTCA-1 & D0 & 1 & 1\\\\\n",
       "\tAAACCCAGTCCATAGT-1 & D0 & 1 & 1\\\\\n",
       "\tAAACCCAGTTATTCTC-1 & D0 & 1 & 1\\\\\n",
       "\\end{tabular}\n"
      ],
      "text/markdown": [
       "\n",
       "A data.frame: 6 × 3\n",
       "\n",
       "| <!--/--> | sample &lt;fct&gt; | atac_cluster &lt;int&gt; | atac_new_cluster &lt;int&gt; |\n",
       "|---|---|---|---|\n",
       "| AAACCCAAGAGTGACC-1 | D0 | 1 | 1 |\n",
       "| AAACCCAAGTGCCAGA-1 | D0 | 1 | 1 |\n",
       "| AAACCCACACCATTCC-1 | D0 | 1 | 1 |\n",
       "| AAACCCACACGCGTCA-1 | D0 | 1 | 1 |\n",
       "| AAACCCAGTCCATAGT-1 | D0 | 1 | 1 |\n",
       "| AAACCCAGTTATTCTC-1 | D0 | 1 | 1 |\n",
       "\n"
      ],
      "text/plain": [
       "                   sample atac_cluster atac_new_cluster\n",
       "AAACCCAAGAGTGACC-1 D0     1            1               \n",
       "AAACCCAAGTGCCAGA-1 D0     1            1               \n",
       "AAACCCACACCATTCC-1 D0     1            1               \n",
       "AAACCCACACGCGTCA-1 D0     1            1               \n",
       "AAACCCAGTCCATAGT-1 D0     1            1               \n",
       "AAACCCAGTTATTCTC-1 D0     1            1               "
      ]
     },
     "metadata": {},
     "output_type": "display_data"
    }
   ],
   "source": [
    "atac.rna.label = read.table(\"../../analysis/20200828_RNA_Seurat/sessions/20210725_n59378/atac.20210717_n62599.cluster.transfer.tsv\",\n",
    "                           header=T)\n",
    "rownames(atac.rna.label) = atac.rna.label$barcode\n",
    "atac.rna.label$barcode = NULL\n",
    "\n",
    "all(rownames(atac.rna.label)==colnames(rna))\n",
    "\n",
    "# transfer to new cluster\n",
    "atac.rna.label$atac_new_cluster = cluster_config[atac.rna.label$atac_cluster, \"new_cluster\"]\n",
    "\n",
    "head(atac.rna.label)"
   ]
  },
  {
   "cell_type": "markdown",
   "metadata": {},
   "source": [
    "## Plotting"
   ]
  },
  {
   "cell_type": "code",
   "execution_count": 6,
   "metadata": {},
   "outputs": [
    {
     "data": {
      "text/html": [
       "TRUE"
      ],
      "text/latex": [
       "TRUE"
      ],
      "text/markdown": [
       "TRUE"
      ],
      "text/plain": [
       "[1] TRUE"
      ]
     },
     "metadata": {},
     "output_type": "display_data"
    }
   ],
   "source": [
    "all(colnames(rna) == rownames(atac.rna.label))"
   ]
  },
  {
   "cell_type": "code",
   "execution_count": null,
   "metadata": {},
   "outputs": [],
   "source": []
  },
  {
   "cell_type": "code",
   "execution_count": 13,
   "metadata": {},
   "outputs": [
    {
     "data": {
      "text/html": [
       "<table>\n",
       "<caption>A data.frame: 6 × 5</caption>\n",
       "<thead>\n",
       "\t<tr><th></th><th scope=col>POU5F1</th><th scope=col>SOX2</th><th scope=col>KLF4</th><th scope=col>MYC</th><th scope=col>cluster</th></tr>\n",
       "\t<tr><th></th><th scope=col>&lt;dbl&gt;</th><th scope=col>&lt;dbl&gt;</th><th scope=col>&lt;dbl&gt;</th><th scope=col>&lt;dbl&gt;</th><th scope=col>&lt;int&gt;</th></tr>\n",
       "</thead>\n",
       "<tbody>\n",
       "\t<tr><th scope=row>AAACCCAAGAGTGACC-1</th><td>0</td><td>0</td><td>0.5478637</td><td>0.0000000</td><td>1</td></tr>\n",
       "\t<tr><th scope=row>AAACCCAAGTGCCAGA-1</th><td>0</td><td>0</td><td>0.0000000</td><td>0.9641610</td><td>1</td></tr>\n",
       "\t<tr><th scope=row>AAACCCACACCATTCC-1</th><td>0</td><td>0</td><td>0.5261623</td><td>0.5261623</td><td>1</td></tr>\n",
       "\t<tr><th scope=row>AAACCCACACGCGTCA-1</th><td>0</td><td>0</td><td>0.7583202</td><td>0.0000000</td><td>1</td></tr>\n",
       "\t<tr><th scope=row>AAACCCAGTCCATAGT-1</th><td>0</td><td>0</td><td>0.0000000</td><td>0.0000000</td><td>1</td></tr>\n",
       "\t<tr><th scope=row>AAACCCAGTTATTCTC-1</th><td>0</td><td>0</td><td>0.0000000</td><td>0.5299292</td><td>1</td></tr>\n",
       "</tbody>\n",
       "</table>\n"
      ],
      "text/latex": [
       "A data.frame: 6 × 5\n",
       "\\begin{tabular}{r|lllll}\n",
       "  & POU5F1 & SOX2 & KLF4 & MYC & cluster\\\\\n",
       "  & <dbl> & <dbl> & <dbl> & <dbl> & <int>\\\\\n",
       "\\hline\n",
       "\tAAACCCAAGAGTGACC-1 & 0 & 0 & 0.5478637 & 0.0000000 & 1\\\\\n",
       "\tAAACCCAAGTGCCAGA-1 & 0 & 0 & 0.0000000 & 0.9641610 & 1\\\\\n",
       "\tAAACCCACACCATTCC-1 & 0 & 0 & 0.5261623 & 0.5261623 & 1\\\\\n",
       "\tAAACCCACACGCGTCA-1 & 0 & 0 & 0.7583202 & 0.0000000 & 1\\\\\n",
       "\tAAACCCAGTCCATAGT-1 & 0 & 0 & 0.0000000 & 0.0000000 & 1\\\\\n",
       "\tAAACCCAGTTATTCTC-1 & 0 & 0 & 0.0000000 & 0.5299292 & 1\\\\\n",
       "\\end{tabular}\n"
      ],
      "text/markdown": [
       "\n",
       "A data.frame: 6 × 5\n",
       "\n",
       "| <!--/--> | POU5F1 &lt;dbl&gt; | SOX2 &lt;dbl&gt; | KLF4 &lt;dbl&gt; | MYC &lt;dbl&gt; | cluster &lt;int&gt; |\n",
       "|---|---|---|---|---|---|\n",
       "| AAACCCAAGAGTGACC-1 | 0 | 0 | 0.5478637 | 0.0000000 | 1 |\n",
       "| AAACCCAAGTGCCAGA-1 | 0 | 0 | 0.0000000 | 0.9641610 | 1 |\n",
       "| AAACCCACACCATTCC-1 | 0 | 0 | 0.5261623 | 0.5261623 | 1 |\n",
       "| AAACCCACACGCGTCA-1 | 0 | 0 | 0.7583202 | 0.0000000 | 1 |\n",
       "| AAACCCAGTCCATAGT-1 | 0 | 0 | 0.0000000 | 0.0000000 | 1 |\n",
       "| AAACCCAGTTATTCTC-1 | 0 | 0 | 0.0000000 | 0.5299292 | 1 |\n",
       "\n"
      ],
      "text/plain": [
       "                   POU5F1 SOX2 KLF4      MYC       cluster\n",
       "AAACCCAAGAGTGACC-1 0      0    0.5478637 0.0000000 1      \n",
       "AAACCCAAGTGCCAGA-1 0      0    0.0000000 0.9641610 1      \n",
       "AAACCCACACCATTCC-1 0      0    0.5261623 0.5261623 1      \n",
       "AAACCCACACGCGTCA-1 0      0    0.7583202 0.0000000 1      \n",
       "AAACCCAGTCCATAGT-1 0      0    0.0000000 0.0000000 1      \n",
       "AAACCCAGTTATTCTC-1 0      0    0.0000000 0.5299292 1      "
      ]
     },
     "metadata": {},
     "output_type": "display_data"
    }
   ],
   "source": [
    "OSKM = c(\"POU5F1\", \"SOX2\", \"KLF4\", \"MYC\")\n",
    "expr = data.frame(t(as.matrix(rna@assays$RNA@data[OSKM, ])))\n",
    "colnames(expr) = OSKM\n",
    "# expr$day = as.vector(unlist(rna$sample))\n",
    "expr$cluster = as.vector(unlist(atac.rna.label$atac_new_cluster))\n",
    "head(expr)"
   ]
  },
  {
   "cell_type": "code",
   "execution_count": 14,
   "metadata": {},
   "outputs": [
    {
     "data": {
      "text/html": [
       "<table>\n",
       "<caption>A data.frame: 6 × 2</caption>\n",
       "<thead>\n",
       "\t<tr><th></th><th scope=col>cluster</th><th scope=col>n</th></tr>\n",
       "\t<tr><th></th><th scope=col>&lt;int&gt;</th><th scope=col>&lt;int&gt;</th></tr>\n",
       "</thead>\n",
       "<tbody>\n",
       "\t<tr><th scope=row>1</th><td>1</td><td>11041</td></tr>\n",
       "\t<tr><th scope=row>2</th><td>2</td><td>  140</td></tr>\n",
       "\t<tr><th scope=row>3</th><td>3</td><td>10306</td></tr>\n",
       "\t<tr><th scope=row>4</th><td>4</td><td> 3287</td></tr>\n",
       "\t<tr><th scope=row>5</th><td>5</td><td> 3183</td></tr>\n",
       "\t<tr><th scope=row>6</th><td>6</td><td>  934</td></tr>\n",
       "</tbody>\n",
       "</table>\n"
      ],
      "text/latex": [
       "A data.frame: 6 × 2\n",
       "\\begin{tabular}{r|ll}\n",
       "  & cluster & n\\\\\n",
       "  & <int> & <int>\\\\\n",
       "\\hline\n",
       "\t1 & 1 & 11041\\\\\n",
       "\t2 & 2 &   140\\\\\n",
       "\t3 & 3 & 10306\\\\\n",
       "\t4 & 4 &  3287\\\\\n",
       "\t5 & 5 &  3183\\\\\n",
       "\t6 & 6 &   934\\\\\n",
       "\\end{tabular}\n"
      ],
      "text/markdown": [
       "\n",
       "A data.frame: 6 × 2\n",
       "\n",
       "| <!--/--> | cluster &lt;int&gt; | n &lt;int&gt; |\n",
       "|---|---|---|\n",
       "| 1 | 1 | 11041 |\n",
       "| 2 | 2 |   140 |\n",
       "| 3 | 3 | 10306 |\n",
       "| 4 | 4 |  3287 |\n",
       "| 5 | 5 |  3183 |\n",
       "| 6 | 6 |   934 |\n",
       "\n"
      ],
      "text/plain": [
       "  cluster n    \n",
       "1 1       11041\n",
       "2 2         140\n",
       "3 3       10306\n",
       "4 4        3287\n",
       "5 5        3183\n",
       "6 6         934"
      ]
     },
     "metadata": {},
     "output_type": "display_data"
    }
   ],
   "source": [
    "cluster_cts = data.frame(expr %>% count(cluster))\n",
    "head(cluster_cts)"
   ]
  },
  {
   "cell_type": "code",
   "execution_count": 16,
   "metadata": {},
   "outputs": [
    {
     "data": {
      "text/html": [
       "<table>\n",
       "<caption>A data.frame: 6 × 6</caption>\n",
       "<thead>\n",
       "\t<tr><th></th><th scope=col>cluster</th><th scope=col>POU5F1</th><th scope=col>SOX2</th><th scope=col>KLF4</th><th scope=col>MYC</th><th scope=col>count</th></tr>\n",
       "\t<tr><th></th><th scope=col>&lt;int&gt;</th><th scope=col>&lt;dbl&gt;</th><th scope=col>&lt;dbl&gt;</th><th scope=col>&lt;dbl&gt;</th><th scope=col>&lt;dbl&gt;</th><th scope=col>&lt;int&gt;</th></tr>\n",
       "</thead>\n",
       "<tbody>\n",
       "\t<tr><th scope=row>1</th><td>1</td><td>0.0000000</td><td>0.0000000</td><td>0.000000</td><td>0.0000000</td><td>11041</td></tr>\n",
       "\t<tr><th scope=row>2</th><td>2</td><td>0.5283614</td><td>0.0000000</td><td>1.037418</td><td>1.7143152</td><td>  140</td></tr>\n",
       "\t<tr><th scope=row>3</th><td>3</td><td>0.0000000</td><td>0.0000000</td><td>0.000000</td><td>1.3168838</td><td>10306</td></tr>\n",
       "\t<tr><th scope=row>4</th><td>4</td><td>0.0000000</td><td>0.0000000</td><td>0.000000</td><td>0.7249657</td><td> 3287</td></tr>\n",
       "\t<tr><th scope=row>5</th><td>5</td><td>0.0000000</td><td>0.0000000</td><td>0.000000</td><td>0.0000000</td><td> 3183</td></tr>\n",
       "\t<tr><th scope=row>6</th><td>6</td><td>0.9818284</td><td>0.5008009</td><td>2.685261</td><td>2.4037874</td><td>  934</td></tr>\n",
       "</tbody>\n",
       "</table>\n"
      ],
      "text/latex": [
       "A data.frame: 6 × 6\n",
       "\\begin{tabular}{r|llllll}\n",
       "  & cluster & POU5F1 & SOX2 & KLF4 & MYC & count\\\\\n",
       "  & <int> & <dbl> & <dbl> & <dbl> & <dbl> & <int>\\\\\n",
       "\\hline\n",
       "\t1 & 1 & 0.0000000 & 0.0000000 & 0.000000 & 0.0000000 & 11041\\\\\n",
       "\t2 & 2 & 0.5283614 & 0.0000000 & 1.037418 & 1.7143152 &   140\\\\\n",
       "\t3 & 3 & 0.0000000 & 0.0000000 & 0.000000 & 1.3168838 & 10306\\\\\n",
       "\t4 & 4 & 0.0000000 & 0.0000000 & 0.000000 & 0.7249657 &  3287\\\\\n",
       "\t5 & 5 & 0.0000000 & 0.0000000 & 0.000000 & 0.0000000 &  3183\\\\\n",
       "\t6 & 6 & 0.9818284 & 0.5008009 & 2.685261 & 2.4037874 &   934\\\\\n",
       "\\end{tabular}\n"
      ],
      "text/markdown": [
       "\n",
       "A data.frame: 6 × 6\n",
       "\n",
       "| <!--/--> | cluster &lt;int&gt; | POU5F1 &lt;dbl&gt; | SOX2 &lt;dbl&gt; | KLF4 &lt;dbl&gt; | MYC &lt;dbl&gt; | count &lt;int&gt; |\n",
       "|---|---|---|---|---|---|---|\n",
       "| 1 | 1 | 0.0000000 | 0.0000000 | 0.000000 | 0.0000000 | 11041 |\n",
       "| 2 | 2 | 0.5283614 | 0.0000000 | 1.037418 | 1.7143152 |   140 |\n",
       "| 3 | 3 | 0.0000000 | 0.0000000 | 0.000000 | 1.3168838 | 10306 |\n",
       "| 4 | 4 | 0.0000000 | 0.0000000 | 0.000000 | 0.7249657 |  3287 |\n",
       "| 5 | 5 | 0.0000000 | 0.0000000 | 0.000000 | 0.0000000 |  3183 |\n",
       "| 6 | 6 | 0.9818284 | 0.5008009 | 2.685261 | 2.4037874 |   934 |\n",
       "\n"
      ],
      "text/plain": [
       "  cluster POU5F1    SOX2      KLF4     MYC       count\n",
       "1 1       0.0000000 0.0000000 0.000000 0.0000000 11041\n",
       "2 2       0.5283614 0.0000000 1.037418 1.7143152   140\n",
       "3 3       0.0000000 0.0000000 0.000000 1.3168838 10306\n",
       "4 4       0.0000000 0.0000000 0.000000 0.7249657  3287\n",
       "5 5       0.0000000 0.0000000 0.000000 0.0000000  3183\n",
       "6 6       0.9818284 0.5008009 2.685261 2.4037874   934"
      ]
     },
     "metadata": {},
     "output_type": "display_data"
    }
   ],
   "source": [
    "median_expr_cluster = data.frame(expr %>% group_by(cluster) %>%  summarise_all(median))\n",
    "median_expr_cluster$count = cluster_cts$n\n",
    "head(median_expr_cluster)"
   ]
  },
  {
   "cell_type": "code",
   "execution_count": 19,
   "metadata": {},
   "outputs": [
    {
     "data": {
      "text/html": [
       "<style>\n",
       ".list-inline {list-style: none; margin:0; padding: 0}\n",
       ".list-inline>li {display: inline-block}\n",
       ".list-inline>li:not(:last-child)::after {content: \"\\00b7\"; padding: 0 .5ex}\n",
       "</style>\n",
       "<ol class=list-inline><li>140</li><li>523</li><li>586</li><li>934</li><li>1707</li><li>1863</li><li>3125</li><li>3183</li><li>3287</li><li>4445</li><li>4468</li><li>6553</li><li>7217</li><li>10306</li><li>11041</li></ol>\n"
      ],
      "text/latex": [
       "\\begin{enumerate*}\n",
       "\\item 140\n",
       "\\item 523\n",
       "\\item 586\n",
       "\\item 934\n",
       "\\item 1707\n",
       "\\item 1863\n",
       "\\item 3125\n",
       "\\item 3183\n",
       "\\item 3287\n",
       "\\item 4445\n",
       "\\item 4468\n",
       "\\item 6553\n",
       "\\item 7217\n",
       "\\item 10306\n",
       "\\item 11041\n",
       "\\end{enumerate*}\n"
      ],
      "text/markdown": [
       "1. 140\n",
       "2. 523\n",
       "3. 586\n",
       "4. 934\n",
       "5. 1707\n",
       "6. 1863\n",
       "7. 3125\n",
       "8. 3183\n",
       "9. 3287\n",
       "10. 4445\n",
       "11. 4468\n",
       "12. 6553\n",
       "13. 7217\n",
       "14. 10306\n",
       "15. 11041\n",
       "\n",
       "\n"
      ],
      "text/plain": [
       " [1]   140   523   586   934  1707  1863  3125  3183  3287  4445  4468  6553\n",
       "[13]  7217 10306 11041"
      ]
     },
     "metadata": {},
     "output_type": "display_data"
    }
   ],
   "source": [
    "sort(median_expr_cluster$count)"
   ]
  },
  {
   "cell_type": "code",
   "execution_count": 20,
   "metadata": {},
   "outputs": [
    {
     "data": {
      "text/html": [
       "<table>\n",
       "<caption>A data.frame: 15 × 6</caption>\n",
       "<thead>\n",
       "\t<tr><th scope=col>cluster</th><th scope=col>POU5F1</th><th scope=col>SOX2</th><th scope=col>KLF4</th><th scope=col>MYC</th><th scope=col>count</th></tr>\n",
       "\t<tr><th scope=col>&lt;int&gt;</th><th scope=col>&lt;dbl&gt;</th><th scope=col>&lt;dbl&gt;</th><th scope=col>&lt;dbl&gt;</th><th scope=col>&lt;dbl&gt;</th><th scope=col>&lt;int&gt;</th></tr>\n",
       "</thead>\n",
       "<tbody>\n",
       "\t<tr><td> 1</td><td>0.0000000</td><td>0.0000000</td><td>0.0000000</td><td>0.0000000</td><td>11041</td></tr>\n",
       "\t<tr><td> 2</td><td>0.5283614</td><td>0.0000000</td><td>1.0374180</td><td>1.7143152</td><td>  140</td></tr>\n",
       "\t<tr><td> 3</td><td>0.0000000</td><td>0.0000000</td><td>0.0000000</td><td>1.3168838</td><td>10306</td></tr>\n",
       "\t<tr><td> 4</td><td>0.0000000</td><td>0.0000000</td><td>0.0000000</td><td>0.7249657</td><td> 3287</td></tr>\n",
       "\t<tr><td> 5</td><td>0.0000000</td><td>0.0000000</td><td>0.0000000</td><td>0.0000000</td><td> 3183</td></tr>\n",
       "\t<tr><td> 6</td><td>0.9818284</td><td>0.5008009</td><td>2.6852615</td><td>2.4037874</td><td>  934</td></tr>\n",
       "\t<tr><td> 7</td><td>2.8154334</td><td>1.7741185</td><td>2.0878688</td><td>2.3153379</td><td>  523</td></tr>\n",
       "\t<tr><td> 8</td><td>4.0225348</td><td>2.6493121</td><td>2.6832974</td><td>2.4773640</td><td> 1707</td></tr>\n",
       "\t<tr><td> 9</td><td>1.8504978</td><td>0.8364802</td><td>0.8271372</td><td>2.0758202</td><td>  586</td></tr>\n",
       "\t<tr><td>10</td><td>1.6218186</td><td>0.6762844</td><td>0.5744178</td><td>1.9377916</td><td> 4445</td></tr>\n",
       "\t<tr><td>11</td><td>2.9789961</td><td>1.8044195</td><td>1.7610848</td><td>2.4663997</td><td> 4468</td></tr>\n",
       "\t<tr><td>12</td><td>2.4252320</td><td>1.2485380</td><td>1.3198962</td><td>2.2911721</td><td> 7217</td></tr>\n",
       "\t<tr><td>13</td><td>2.3235972</td><td>0.9256622</td><td>0.8821670</td><td>1.8772121</td><td> 1863</td></tr>\n",
       "\t<tr><td>14</td><td>2.6687422</td><td>0.7838818</td><td>0.6715993</td><td>1.4421466</td><td> 6553</td></tr>\n",
       "\t<tr><td>15</td><td>2.9126339</td><td>1.3109732</td><td>0.0000000</td><td>0.0000000</td><td> 3125</td></tr>\n",
       "</tbody>\n",
       "</table>\n"
      ],
      "text/latex": [
       "A data.frame: 15 × 6\n",
       "\\begin{tabular}{llllll}\n",
       " cluster & POU5F1 & SOX2 & KLF4 & MYC & count\\\\\n",
       " <int> & <dbl> & <dbl> & <dbl> & <dbl> & <int>\\\\\n",
       "\\hline\n",
       "\t  1 & 0.0000000 & 0.0000000 & 0.0000000 & 0.0000000 & 11041\\\\\n",
       "\t  2 & 0.5283614 & 0.0000000 & 1.0374180 & 1.7143152 &   140\\\\\n",
       "\t  3 & 0.0000000 & 0.0000000 & 0.0000000 & 1.3168838 & 10306\\\\\n",
       "\t  4 & 0.0000000 & 0.0000000 & 0.0000000 & 0.7249657 &  3287\\\\\n",
       "\t  5 & 0.0000000 & 0.0000000 & 0.0000000 & 0.0000000 &  3183\\\\\n",
       "\t  6 & 0.9818284 & 0.5008009 & 2.6852615 & 2.4037874 &   934\\\\\n",
       "\t  7 & 2.8154334 & 1.7741185 & 2.0878688 & 2.3153379 &   523\\\\\n",
       "\t  8 & 4.0225348 & 2.6493121 & 2.6832974 & 2.4773640 &  1707\\\\\n",
       "\t  9 & 1.8504978 & 0.8364802 & 0.8271372 & 2.0758202 &   586\\\\\n",
       "\t 10 & 1.6218186 & 0.6762844 & 0.5744178 & 1.9377916 &  4445\\\\\n",
       "\t 11 & 2.9789961 & 1.8044195 & 1.7610848 & 2.4663997 &  4468\\\\\n",
       "\t 12 & 2.4252320 & 1.2485380 & 1.3198962 & 2.2911721 &  7217\\\\\n",
       "\t 13 & 2.3235972 & 0.9256622 & 0.8821670 & 1.8772121 &  1863\\\\\n",
       "\t 14 & 2.6687422 & 0.7838818 & 0.6715993 & 1.4421466 &  6553\\\\\n",
       "\t 15 & 2.9126339 & 1.3109732 & 0.0000000 & 0.0000000 &  3125\\\\\n",
       "\\end{tabular}\n"
      ],
      "text/markdown": [
       "\n",
       "A data.frame: 15 × 6\n",
       "\n",
       "| cluster &lt;int&gt; | POU5F1 &lt;dbl&gt; | SOX2 &lt;dbl&gt; | KLF4 &lt;dbl&gt; | MYC &lt;dbl&gt; | count &lt;int&gt; |\n",
       "|---|---|---|---|---|---|\n",
       "|  1 | 0.0000000 | 0.0000000 | 0.0000000 | 0.0000000 | 11041 |\n",
       "|  2 | 0.5283614 | 0.0000000 | 1.0374180 | 1.7143152 |   140 |\n",
       "|  3 | 0.0000000 | 0.0000000 | 0.0000000 | 1.3168838 | 10306 |\n",
       "|  4 | 0.0000000 | 0.0000000 | 0.0000000 | 0.7249657 |  3287 |\n",
       "|  5 | 0.0000000 | 0.0000000 | 0.0000000 | 0.0000000 |  3183 |\n",
       "|  6 | 0.9818284 | 0.5008009 | 2.6852615 | 2.4037874 |   934 |\n",
       "|  7 | 2.8154334 | 1.7741185 | 2.0878688 | 2.3153379 |   523 |\n",
       "|  8 | 4.0225348 | 2.6493121 | 2.6832974 | 2.4773640 |  1707 |\n",
       "|  9 | 1.8504978 | 0.8364802 | 0.8271372 | 2.0758202 |   586 |\n",
       "| 10 | 1.6218186 | 0.6762844 | 0.5744178 | 1.9377916 |  4445 |\n",
       "| 11 | 2.9789961 | 1.8044195 | 1.7610848 | 2.4663997 |  4468 |\n",
       "| 12 | 2.4252320 | 1.2485380 | 1.3198962 | 2.2911721 |  7217 |\n",
       "| 13 | 2.3235972 | 0.9256622 | 0.8821670 | 1.8772121 |  1863 |\n",
       "| 14 | 2.6687422 | 0.7838818 | 0.6715993 | 1.4421466 |  6553 |\n",
       "| 15 | 2.9126339 | 1.3109732 | 0.0000000 | 0.0000000 |  3125 |\n",
       "\n"
      ],
      "text/plain": [
       "   cluster POU5F1    SOX2      KLF4      MYC       count\n",
       "1   1      0.0000000 0.0000000 0.0000000 0.0000000 11041\n",
       "2   2      0.5283614 0.0000000 1.0374180 1.7143152   140\n",
       "3   3      0.0000000 0.0000000 0.0000000 1.3168838 10306\n",
       "4   4      0.0000000 0.0000000 0.0000000 0.7249657  3287\n",
       "5   5      0.0000000 0.0000000 0.0000000 0.0000000  3183\n",
       "6   6      0.9818284 0.5008009 2.6852615 2.4037874   934\n",
       "7   7      2.8154334 1.7741185 2.0878688 2.3153379   523\n",
       "8   8      4.0225348 2.6493121 2.6832974 2.4773640  1707\n",
       "9   9      1.8504978 0.8364802 0.8271372 2.0758202   586\n",
       "10 10      1.6218186 0.6762844 0.5744178 1.9377916  4445\n",
       "11 11      2.9789961 1.8044195 1.7610848 2.4663997  4468\n",
       "12 12      2.4252320 1.2485380 1.3198962 2.2911721  7217\n",
       "13 13      2.3235972 0.9256622 0.8821670 1.8772121  1863\n",
       "14 14      2.6687422 0.7838818 0.6715993 1.4421466  6553\n",
       "15 15      2.9126339 1.3109732 0.0000000 0.0000000  3125"
      ]
     },
     "metadata": {},
     "output_type": "display_data"
    }
   ],
   "source": [
    "median_expr_cluster"
   ]
  },
  {
   "cell_type": "code",
   "execution_count": 21,
   "metadata": {},
   "outputs": [],
   "source": [
    "ORDER = c(1,15,14,13,12,11,8)"
   ]
  },
  {
   "cell_type": "code",
   "execution_count": 110,
   "metadata": {},
   "outputs": [],
   "source": [
    "make_plot <- function(colname, option=\"A\") {\n",
    "    to_plot_df = median_expr_cluster[ORDER, c(\"cluster\", colname)] \n",
    "    colnames(to_plot_df) = c(\"cluster\", \"expr\")\n",
    "    \n",
    "    p = ggplot(to_plot_df) +\n",
    "        geom_tile(aes(x=factor(cluster, levels=ORDER), y=1, fill=expr)) +\n",
    "        geom_text(aes(x=factor(cluster, levels=ORDER), y=1, \n",
    "                      label=as.character(round(expr, 2)),\n",
    "                     colour=expr>2), size=8) +\n",
    "        scale_colour_manual(values = c(\"white\", \"black\")) +\n",
    "        ylab(colname) +\n",
    "        scale_fill_viridis_c(option=option, name=colname) +\n",
    "        theme_void(base_size=10) +\n",
    "        theme(legend.position = \"none\",\n",
    "             axis.title.y=element_text())\n",
    "\n",
    "    p\n",
    "}"
   ]
  },
  {
   "cell_type": "code",
   "execution_count": 113,
   "metadata": {},
   "outputs": [],
   "source": [
    "OCT = make_plot(\"POU5F1\")\n",
    "SOX = make_plot(\"SOX2\", option=\"B\")\n",
    "KLF = make_plot(\"KLF4\", option=\"D\")"
   ]
  },
  {
   "cell_type": "code",
   "execution_count": 114,
   "metadata": {},
   "outputs": [
    {
     "data": {
      "image/png": "[encoded data removed]",
      "text/plain": [
       "plot without title"
      ]
     },
     "metadata": {
      "image/png": {
       "height": 240,
       "width": 600
      },
      "text/plain": {
       "height": 240,
       "width": 600
      }
     },
     "output_type": "display_data"
    }
   ],
   "source": [
    "options(repr.plot.width = 10, repr.plot.height = 4)\n",
    "\n",
    "p = OCT / SOX / KLF\n",
    "\n",
    "p"
   ]
  },
  {
   "cell_type": "code",
   "execution_count": null,
   "metadata": {},
   "outputs": [],
   "source": []
  },
  {
   "cell_type": "code",
   "execution_count": null,
   "metadata": {},
   "outputs": [],
   "source": []
  },
  {
   "cell_type": "code",
   "execution_count": 115,
   "metadata": {},
   "outputs": [],
   "source": [
    "ggsave(p, file=sprintf(\"./subfigs/2021224_clusters_%s_log_expr.pdf\", \n",
    "                       paste(as.character(ORDER), collapse='_')), \n",
    "       height=6, width=10, useDingbats=F)"
   ]
  },
  {
   "cell_type": "code",
   "execution_count": null,
   "metadata": {},
   "outputs": [],
   "source": []
  },
  {
   "cell_type": "markdown",
   "metadata": {},
   "source": [
    "---"
   ]
  },
  {
   "cell_type": "code",
   "execution_count": 177,
   "metadata": {},
   "outputs": [
    {
     "data": {
      "text/plain": [
       "R version 3.6.3 (2020-02-29)\n",
       "Platform: x86_64-conda_cos6-linux-gnu (64-bit)\n",
       "Running under: Ubuntu 18.04.5 LTS\n",
       "\n",
       "Matrix products: default\n",
       "BLAS/LAPACK: /users/surag/anaconda3/envs/r36_cran/lib/libopenblasp-r0.3.9.so\n",
       "\n",
       "locale:\n",
       " [1] LC_CTYPE=en_US.UTF-8       LC_NUMERIC=C              \n",
       " [3] LC_TIME=en_US.UTF-8        LC_COLLATE=en_US.UTF-8    \n",
       " [5] LC_MONETARY=en_US.UTF-8    LC_MESSAGES=en_US.UTF-8   \n",
       " [7] LC_PAPER=en_US.UTF-8       LC_NAME=C                 \n",
       " [9] LC_ADDRESS=C               LC_TELEPHONE=C            \n",
       "[11] LC_MEASUREMENT=en_US.UTF-8 LC_IDENTIFICATION=C       \n",
       "\n",
       "attached base packages:\n",
       "[1] stats     graphics  grDevices utils     datasets  methods   base     \n",
       "\n",
       "other attached packages:\n",
       "[1] patchwork_1.0.0 dplyr_1.0.2     scales_1.1.0    Seurat_3.1.5   \n",
       "[5] ggplot2_3.3.3  \n",
       "\n",
       "loaded via a namespace (and not attached):\n",
       " [1] nlme_3.1-147        tsne_0.1-3          RcppAnnoy_0.0.16   \n",
       " [4] RColorBrewer_1.1-2  httr_1.4.1          repr_1.1.0         \n",
       " [7] sctransform_0.2.1   tools_3.6.3         R6_2.4.1           \n",
       "[10] irlba_2.3.3         KernSmooth_2.23-16  uwot_0.1.8         \n",
       "[13] lazyeval_0.2.2      colorspace_1.4-1    npsurv_0.4-0       \n",
       "[16] withr_2.1.2         tidyselect_1.1.0    gridExtra_2.3      \n",
       "[19] compiler_3.6.3      cli_2.0.2           Cairo_1.5-12.2     \n",
       "[22] plotly_4.9.2.1      labeling_0.3        lmtest_0.9-37      \n",
       "[25] ggridges_0.5.2      pbapply_1.4-2       rappdirs_0.3.1     \n",
       "[28] pbdZMQ_0.3-3        stringr_1.4.0       digest_0.6.25      \n",
       "[31] base64enc_0.1-3     pkgconfig_2.0.3     htmltools_0.5.1.1  \n",
       "[34] htmlwidgets_1.5.1   rlang_0.4.11        farver_2.0.3       \n",
       "[37] generics_0.0.2      zoo_1.8-7           jsonlite_1.6.1     \n",
       "[40] ica_1.0-2           magrittr_1.5        Matrix_1.2-18      \n",
       "[43] Rcpp_1.0.5          IRkernel_1.1        munsell_0.5.0      \n",
       "[46] fansi_0.4.1         ape_5.3             reticulate_1.15    \n",
       "[49] lifecycle_0.2.0     stringi_1.4.6       MASS_7.3-51.5      \n",
       "[52] Rtsne_0.15          plyr_1.8.6          grid_3.6.3         \n",
       "[55] parallel_3.6.3      listenv_0.8.0       ggrepel_0.8.2      \n",
       "[58] crayon_1.3.4        lattice_0.20-41     IRdisplay_0.7.0    \n",
       "[61] cowplot_1.0.0       splines_3.6.3       pillar_1.4.6       \n",
       "[64] igraph_1.2.6        uuid_0.1-4          future.apply_1.5.0 \n",
       "[67] reshape2_1.4.4      codetools_0.2-16    leiden_0.3.3       \n",
       "[70] glue_1.4.2          evaluate_0.14       lsei_1.2-0         \n",
       "[73] data.table_1.12.8   png_0.1-7           vctrs_0.3.4        \n",
       "[76] gtable_0.3.0        RANN_2.6.1          purrr_0.3.4        \n",
       "[79] tidyr_1.1.2         future_1.16.0       assertthat_0.2.1   \n",
       "[82] rsvd_1.0.3          survival_3.1-12     viridisLite_0.3.0  \n",
       "[85] tibble_3.0.3        cluster_2.1.0       globals_0.12.5     \n",
       "[88] fitdistrplus_1.0-14 ellipsis_0.3.1      ROCR_1.0-11        "
      ]
     },
     "metadata": {},
     "output_type": "display_data"
    }
   ],
   "source": [
    "sessionInfo()"
   ]
  },
  {
   "cell_type": "code",
   "execution_count": null,
   "metadata": {},
   "outputs": [],
   "source": []
  }
 ],
 "metadata": {
  "kernelspec": {
   "display_name": "R",
   "language": "R",
   "name": "ir"
  },
  "language_info": {
   "codemirror_mode": "r",
   "file_extension": ".r",
   "mimetype": "text/x-r-source",
   "name": "R",
   "pygments_lexer": "r",
   "version": "3.6.3"
  }
 },
 "nbformat": 4,
 "nbformat_minor": 4
}
