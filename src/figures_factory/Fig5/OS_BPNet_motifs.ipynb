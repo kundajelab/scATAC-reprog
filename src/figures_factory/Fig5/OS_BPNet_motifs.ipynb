{
 "cells": [
  {
   "cell_type": "markdown",
   "metadata": {},
   "source": [
    "# BPNet Motifs\n",
    "\n",
    "Plot for motifs from BPNet.\n",
    "\n",
    "**Inputs**:\n",
    "1. PWMs from BPNet."
   ]
  },
  {
   "cell_type": "code",
   "execution_count": 1,
   "metadata": {},
   "outputs": [],
   "source": [
    "library(ggseqlogo)\n",
    "library(ggplot2)\n",
    "library(patchwork)"
   ]
  },
  {
   "cell_type": "markdown",
   "metadata": {},
   "source": [
    "## Loading Inputs"
   ]
  },
  {
   "cell_type": "code",
   "execution_count": 2,
   "metadata": {},
   "outputs": [],
   "source": [
    "read_nptxt_matrix <- function(fname) {\n",
    "    d=read.table(fname)\n",
    "    colnames(d) = c(\"A\", \"C\", \"G\", \"T\")\n",
    "    t(d)\n",
    "}"
   ]
  },
  {
   "cell_type": "code",
   "execution_count": 8,
   "metadata": {},
   "outputs": [],
   "source": [
    "OS_pwm = read_nptxt_matrix(\"/users/surag/kundajelab/scATAC-reprog/resources/BPNet/motifs/Oct4-Sox2/PFM.txt\")"
   ]
  },
  {
   "cell_type": "markdown",
   "metadata": {},
   "source": [
    "## Plot"
   ]
  },
  {
   "cell_type": "code",
   "execution_count": 5,
   "metadata": {},
   "outputs": [],
   "source": [
    "revcomp <- function(x) {\n",
    "    x = x[rev(seq(nrow(x))), rev(seq(ncol(x)))]\n",
    "    rownames(x) = c(\"A\", \"C\", \"G\", \"T\")\n",
    "    x\n",
    "}"
   ]
  },
  {
   "cell_type": "code",
   "execution_count": 6,
   "metadata": {},
   "outputs": [],
   "source": [
    "trim_and_plot <- function(m, rc=F, trim_left=0, trim_right=0, method='bits', ymin=0, ymax=2, title=NULL) {\n",
    "    if (rc) {\n",
    "        m = revcomp(m)                \n",
    "    }\n",
    "\n",
    "    m = m[, trim_left:(ncol(m)-trim_right)]\n",
    "\n",
    "    rownames(m) = c(\"A\",\"C\",\"G\",\"T\")\n",
    "    \n",
    "    p <- ggseqlogo(m, method=method, ncol=1) + \n",
    "                                    ylim(c(ymin,ymax)) +\n",
    "                                    theme_void() \n",
    "    \n",
    "    if (!is.null(title)) {\n",
    "        p = p + ggtitle(title)\n",
    "        p = p + theme(plot.title = element_text(hjust = 0.5, size=18))\n",
    "    }\n",
    "    \n",
    "    p\n",
    "}"
   ]
  },
  {
   "cell_type": "code",
   "execution_count": null,
   "metadata": {},
   "outputs": [],
   "source": []
  },
  {
   "cell_type": "code",
   "execution_count": 23,
   "metadata": {},
   "outputs": [
    {
     "name": "stderr",
     "output_type": "stream",
     "text": [
      "Scale for 'y' is already present. Adding another scale for 'y', which will\n",
      "replace the existing scale.\n",
      "\n"
     ]
    },
    {
     "data": {
      "image/png": "[encoded data removed]",
      "text/plain": [
       "plot without title"
      ]
     },
     "metadata": {
      "image/png": {
       "height": 60,
       "width": 300
      },
      "text/plain": {
       "height": 60,
       "width": 300
      }
     },
     "output_type": "display_data"
    }
   ],
   "source": [
    "options(repr.plot.width = 5, repr.plot.height = 1)\n",
    "\n",
    "p = trim_and_plot(OS_pwm, rc=T) + \n",
    "     scale_y_continuous(limits=c(0,2),\n",
    "                                   breaks=c(0,1,2))  +\n",
    "                theme(axis.title.y = element_blank(),\n",
    "                      axis.text.y = element_text(margin = margin(0,5,0,0)),\n",
    "                     axis.ticks.y = element_line(size=1,  linetype = \"solid\"),\n",
    "                     axis.text.x = element_blank(),\n",
    "                     axis.ticks.x = element_blank())\n",
    "\n",
    "p"
   ]
  },
  {
   "cell_type": "code",
   "execution_count": 24,
   "metadata": {},
   "outputs": [],
   "source": [
    "ggsave(\"./subfigs/OS_BPNet.pdf\", p, height=1, width=5, useDingbats=F)"
   ]
  },
  {
   "cell_type": "code",
   "execution_count": null,
   "metadata": {},
   "outputs": [],
   "source": []
  },
  {
   "cell_type": "markdown",
   "metadata": {},
   "source": [
    "---"
   ]
  },
  {
   "cell_type": "code",
   "execution_count": 15,
   "metadata": {},
   "outputs": [
    {
     "data": {
      "text/plain": [
       "R version 3.6.3 (2020-02-29)\n",
       "Platform: x86_64-conda_cos6-linux-gnu (64-bit)\n",
       "Running under: Ubuntu 18.04.6 LTS\n",
       "\n",
       "Matrix products: default\n",
       "BLAS/LAPACK: /users/surag/anaconda3/envs/r36_cran/lib/libopenblasp-r0.3.9.so\n",
       "\n",
       "locale:\n",
       " [1] LC_CTYPE=en_US.UTF-8       LC_NUMERIC=C              \n",
       " [3] LC_TIME=en_US.UTF-8        LC_COLLATE=en_US.UTF-8    \n",
       " [5] LC_MONETARY=en_US.UTF-8    LC_MESSAGES=en_US.UTF-8   \n",
       " [7] LC_PAPER=en_US.UTF-8       LC_NAME=C                 \n",
       " [9] LC_ADDRESS=C               LC_TELEPHONE=C            \n",
       "[11] LC_MEASUREMENT=en_US.UTF-8 LC_IDENTIFICATION=C       \n",
       "\n",
       "attached base packages:\n",
       "[1] stats     graphics  grDevices utils     datasets  methods   base     \n",
       "\n",
       "other attached packages:\n",
       "[1] patchwork_1.0.0 ggplot2_3.3.3   ggseqlogo_0.1  \n",
       "\n",
       "loaded via a namespace (and not attached):\n",
       " [1] magrittr_1.5      tidyselect_1.1.0  munsell_0.5.0     uuid_0.1-4       \n",
       " [5] colorspace_1.4-1  R6_2.4.1          rlang_0.4.11      dplyr_1.0.2      \n",
       " [9] tools_3.6.3       grid_3.6.3        gtable_0.3.0      withr_2.1.2      \n",
       "[13] htmltools_0.5.1.1 ellipsis_0.3.1    digest_0.6.25     tibble_3.0.3     \n",
       "[17] lifecycle_0.2.0   crayon_1.3.4      IRdisplay_0.7.0   farver_2.0.3     \n",
       "[21] purrr_0.3.4       repr_1.1.0        vctrs_0.3.4       base64enc_0.1-3  \n",
       "[25] IRkernel_1.1      glue_1.4.2        evaluate_0.14     labeling_0.3     \n",
       "[29] pbdZMQ_0.3-3      compiler_3.6.3    pillar_1.4.6      generics_0.0.2   \n",
       "[33] scales_1.1.0      jsonlite_1.6.1    Cairo_1.5-12.2    pkgconfig_2.0.3  "
      ]
     },
     "metadata": {},
     "output_type": "display_data"
    }
   ],
   "source": [
    "sessionInfo()"
   ]
  },
  {
   "cell_type": "code",
   "execution_count": null,
   "metadata": {},
   "outputs": [],
   "source": []
  }
 ],
 "metadata": {
  "kernelspec": {
   "display_name": "R",
   "language": "R",
   "name": "ir"
  },
  "language_info": {
   "codemirror_mode": "r",
   "file_extension": ".r",
   "mimetype": "text/x-r-source",
   "name": "R",
   "pygments_lexer": "r",
   "version": "3.6.3"
  }
 },
 "nbformat": 4,
 "nbformat_minor": 4
}
